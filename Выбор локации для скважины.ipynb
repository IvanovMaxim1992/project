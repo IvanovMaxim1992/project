{
 "cells": [
  {
   "cell_type": "markdown",
   "metadata": {},
   "source": [
    "# Выбор локации для скважины"
   ]
  },
  {
   "cell_type": "markdown",
   "metadata": {},
   "source": [
    "В добывающей компании «ГлавРосГосНефть». Нужно решить, где бурить новую скважину.\n",
    "\n",
    "Вам предоставлены пробы нефти в трёх регионах: в каждом 10 000 месторождений, где измерили качество нефти и объём её запасов. Постройте модель машинного обучения, которая поможет определить регион, где добыча принесёт наибольшую прибыль. Проанализируйте возможную прибыль и риски техникой *Bootstrap.*\n",
    "\n",
    "Шаги для выбора локации:\n",
    "\n",
    "- В избранном регионе ищут месторождения, для каждого определяют значения признаков;\n",
    "- Строят модель и оценивают объём запасов;\n",
    "- Выбирают месторождения с самым высокими оценками значений. Количество месторождений зависит от бюджета компании и стоимости разработки одной скважины;\n",
    "- Прибыль равна суммарной прибыли отобранных месторождений."
   ]
  },
  {
   "cell_type": "markdown",
   "metadata": {},
   "source": [
    "## Загрузка и подготовка данных"
   ]
  },
  {
   "cell_type": "code",
   "execution_count": 1,
   "metadata": {},
   "outputs": [],
   "source": [
    "import pandas as pd\n",
    "import os\n",
    "from sklearn.model_selection import train_test_split\n",
    "from sklearn.preprocessing import RobustScaler\n",
    "from sklearn.linear_model import LinearRegression\n",
    "from sklearn.metrics import mean_absolute_error, r2_score, mean_squared_error\n",
    "import numpy as np\n",
    "import matplotlib.pyplot as plt\n",
    "import math\n",
    "from numpy.random import RandomState\n",
    "from scipy import stats\n",
    "from sklearn.utils import shuffle"
   ]
  },
  {
   "cell_type": "markdown",
   "metadata": {},
   "source": [
    "### Загрузка"
   ]
  },
  {
   "cell_type": "code",
   "execution_count": 2,
   "metadata": {},
   "outputs": [
    {
     "name": "stdout",
     "output_type": "stream",
     "text": [
      "Файл geo_data_0.csv успешно загружен из datasets\\\n",
      "Файл geo_data_1.csv успешно загружен из datasets\\\n",
      "Файл geo_data_2.csv успешно загружен из datasets\\\n"
     ]
    }
   ],
   "source": [
    "# Пути к файлам\n",
    "files = ['geo_data_0.csv', 'geo_data_1.csv', 'geo_data_2.csv']\n",
    "paths = ['datasets\\\\', 'C:\\\\Downloads\\\\']\n",
    "\n",
    "# Словарь для хранения загруженных данных\n",
    "data = {}\n",
    "\n",
    "for file in files:\n",
    "    for path in paths:\n",
    "        try:\n",
    "            # Попытка загрузить данные\n",
    "            file_path = os.path.join(path, file)\n",
    "            data[file] = pd.read_csv(file_path)\n",
    "            print(f\"Файл {file} успешно загружен из {path}\")\n",
    "            break\n",
    "        except FileNotFoundError:\n",
    "            print(f\"Файл {file} не найден в {path}. Попытка загрузить из другого пути.\")\n",
    "        except Exception as e:\n",
    "            print(f\"Произошла ошибка при загрузке файла {file} из {path}: {e}\")\n",
    "\n"
   ]
  },
  {
   "cell_type": "code",
   "execution_count": 3,
   "metadata": {},
   "outputs": [
    {
     "name": "stdout",
     "output_type": "stream",
     "text": [
      "\n",
      "Информация о geo_data_0.csv:\n",
      "<class 'pandas.core.frame.DataFrame'>\n",
      "RangeIndex: 100000 entries, 0 to 99999\n",
      "Data columns (total 5 columns):\n",
      " #   Column   Non-Null Count   Dtype  \n",
      "---  ------   --------------   -----  \n",
      " 0   id       100000 non-null  object \n",
      " 1   f0       100000 non-null  float64\n",
      " 2   f1       100000 non-null  float64\n",
      " 3   f2       100000 non-null  float64\n",
      " 4   product  100000 non-null  float64\n",
      "dtypes: float64(4), object(1)\n",
      "memory usage: 3.8+ MB\n",
      "None\n",
      "Первые 5 строк geo_data_0.csv:\n"
     ]
    },
    {
     "data": {
      "text/html": [
       "<div>\n",
       "<style scoped>\n",
       "    .dataframe tbody tr th:only-of-type {\n",
       "        vertical-align: middle;\n",
       "    }\n",
       "\n",
       "    .dataframe tbody tr th {\n",
       "        vertical-align: top;\n",
       "    }\n",
       "\n",
       "    .dataframe thead th {\n",
       "        text-align: right;\n",
       "    }\n",
       "</style>\n",
       "<table border=\"1\" class=\"dataframe\">\n",
       "  <thead>\n",
       "    <tr style=\"text-align: right;\">\n",
       "      <th></th>\n",
       "      <th>id</th>\n",
       "      <th>f0</th>\n",
       "      <th>f1</th>\n",
       "      <th>f2</th>\n",
       "      <th>product</th>\n",
       "    </tr>\n",
       "  </thead>\n",
       "  <tbody>\n",
       "    <tr>\n",
       "      <th>0</th>\n",
       "      <td>txEyH</td>\n",
       "      <td>0.705745</td>\n",
       "      <td>-0.497823</td>\n",
       "      <td>1.221170</td>\n",
       "      <td>105.280062</td>\n",
       "    </tr>\n",
       "    <tr>\n",
       "      <th>1</th>\n",
       "      <td>2acmU</td>\n",
       "      <td>1.334711</td>\n",
       "      <td>-0.340164</td>\n",
       "      <td>4.365080</td>\n",
       "      <td>73.037750</td>\n",
       "    </tr>\n",
       "    <tr>\n",
       "      <th>2</th>\n",
       "      <td>409Wp</td>\n",
       "      <td>1.022732</td>\n",
       "      <td>0.151990</td>\n",
       "      <td>1.419926</td>\n",
       "      <td>85.265647</td>\n",
       "    </tr>\n",
       "    <tr>\n",
       "      <th>3</th>\n",
       "      <td>iJLyR</td>\n",
       "      <td>-0.032172</td>\n",
       "      <td>0.139033</td>\n",
       "      <td>2.978566</td>\n",
       "      <td>168.620776</td>\n",
       "    </tr>\n",
       "    <tr>\n",
       "      <th>4</th>\n",
       "      <td>Xdl7t</td>\n",
       "      <td>1.988431</td>\n",
       "      <td>0.155413</td>\n",
       "      <td>4.751769</td>\n",
       "      <td>154.036647</td>\n",
       "    </tr>\n",
       "  </tbody>\n",
       "</table>\n",
       "</div>"
      ],
      "text/plain": [
       "      id        f0        f1        f2     product\n",
       "0  txEyH  0.705745 -0.497823  1.221170  105.280062\n",
       "1  2acmU  1.334711 -0.340164  4.365080   73.037750\n",
       "2  409Wp  1.022732  0.151990  1.419926   85.265647\n",
       "3  iJLyR -0.032172  0.139033  2.978566  168.620776\n",
       "4  Xdl7t  1.988431  0.155413  4.751769  154.036647"
      ]
     },
     "metadata": {},
     "output_type": "display_data"
    },
    {
     "name": "stdout",
     "output_type": "stream",
     "text": [
      "Статистический анализ geo_data_0.csv:\n"
     ]
    },
    {
     "data": {
      "text/html": [
       "<div>\n",
       "<style scoped>\n",
       "    .dataframe tbody tr th:only-of-type {\n",
       "        vertical-align: middle;\n",
       "    }\n",
       "\n",
       "    .dataframe tbody tr th {\n",
       "        vertical-align: top;\n",
       "    }\n",
       "\n",
       "    .dataframe thead th {\n",
       "        text-align: right;\n",
       "    }\n",
       "</style>\n",
       "<table border=\"1\" class=\"dataframe\">\n",
       "  <thead>\n",
       "    <tr style=\"text-align: right;\">\n",
       "      <th></th>\n",
       "      <th>f0</th>\n",
       "      <th>f1</th>\n",
       "      <th>f2</th>\n",
       "      <th>product</th>\n",
       "    </tr>\n",
       "  </thead>\n",
       "  <tbody>\n",
       "    <tr>\n",
       "      <th>count</th>\n",
       "      <td>100000.000000</td>\n",
       "      <td>100000.000000</td>\n",
       "      <td>100000.000000</td>\n",
       "      <td>100000.000000</td>\n",
       "    </tr>\n",
       "    <tr>\n",
       "      <th>mean</th>\n",
       "      <td>0.500419</td>\n",
       "      <td>0.250143</td>\n",
       "      <td>2.502647</td>\n",
       "      <td>92.500000</td>\n",
       "    </tr>\n",
       "    <tr>\n",
       "      <th>std</th>\n",
       "      <td>0.871832</td>\n",
       "      <td>0.504433</td>\n",
       "      <td>3.248248</td>\n",
       "      <td>44.288691</td>\n",
       "    </tr>\n",
       "    <tr>\n",
       "      <th>min</th>\n",
       "      <td>-1.408605</td>\n",
       "      <td>-0.848218</td>\n",
       "      <td>-12.088328</td>\n",
       "      <td>0.000000</td>\n",
       "    </tr>\n",
       "    <tr>\n",
       "      <th>25%</th>\n",
       "      <td>-0.072580</td>\n",
       "      <td>-0.200881</td>\n",
       "      <td>0.287748</td>\n",
       "      <td>56.497507</td>\n",
       "    </tr>\n",
       "    <tr>\n",
       "      <th>50%</th>\n",
       "      <td>0.502360</td>\n",
       "      <td>0.250252</td>\n",
       "      <td>2.515969</td>\n",
       "      <td>91.849972</td>\n",
       "    </tr>\n",
       "    <tr>\n",
       "      <th>75%</th>\n",
       "      <td>1.073581</td>\n",
       "      <td>0.700646</td>\n",
       "      <td>4.715088</td>\n",
       "      <td>128.564089</td>\n",
       "    </tr>\n",
       "    <tr>\n",
       "      <th>max</th>\n",
       "      <td>2.362331</td>\n",
       "      <td>1.343769</td>\n",
       "      <td>16.003790</td>\n",
       "      <td>185.364347</td>\n",
       "    </tr>\n",
       "  </tbody>\n",
       "</table>\n",
       "</div>"
      ],
      "text/plain": [
       "                  f0             f1             f2        product\n",
       "count  100000.000000  100000.000000  100000.000000  100000.000000\n",
       "mean        0.500419       0.250143       2.502647      92.500000\n",
       "std         0.871832       0.504433       3.248248      44.288691\n",
       "min        -1.408605      -0.848218     -12.088328       0.000000\n",
       "25%        -0.072580      -0.200881       0.287748      56.497507\n",
       "50%         0.502360       0.250252       2.515969      91.849972\n",
       "75%         1.073581       0.700646       4.715088     128.564089\n",
       "max         2.362331       1.343769      16.003790     185.364347"
      ]
     },
     "metadata": {},
     "output_type": "display_data"
    },
    {
     "name": "stdout",
     "output_type": "stream",
     "text": [
      "\n",
      "Информация о geo_data_1.csv:\n",
      "<class 'pandas.core.frame.DataFrame'>\n",
      "RangeIndex: 100000 entries, 0 to 99999\n",
      "Data columns (total 5 columns):\n",
      " #   Column   Non-Null Count   Dtype  \n",
      "---  ------   --------------   -----  \n",
      " 0   id       100000 non-null  object \n",
      " 1   f0       100000 non-null  float64\n",
      " 2   f1       100000 non-null  float64\n",
      " 3   f2       100000 non-null  float64\n",
      " 4   product  100000 non-null  float64\n",
      "dtypes: float64(4), object(1)\n",
      "memory usage: 3.8+ MB\n",
      "None\n",
      "Первые 5 строк geo_data_1.csv:\n"
     ]
    },
    {
     "data": {
      "text/html": [
       "<div>\n",
       "<style scoped>\n",
       "    .dataframe tbody tr th:only-of-type {\n",
       "        vertical-align: middle;\n",
       "    }\n",
       "\n",
       "    .dataframe tbody tr th {\n",
       "        vertical-align: top;\n",
       "    }\n",
       "\n",
       "    .dataframe thead th {\n",
       "        text-align: right;\n",
       "    }\n",
       "</style>\n",
       "<table border=\"1\" class=\"dataframe\">\n",
       "  <thead>\n",
       "    <tr style=\"text-align: right;\">\n",
       "      <th></th>\n",
       "      <th>id</th>\n",
       "      <th>f0</th>\n",
       "      <th>f1</th>\n",
       "      <th>f2</th>\n",
       "      <th>product</th>\n",
       "    </tr>\n",
       "  </thead>\n",
       "  <tbody>\n",
       "    <tr>\n",
       "      <th>0</th>\n",
       "      <td>kBEdx</td>\n",
       "      <td>-15.001348</td>\n",
       "      <td>-8.276000</td>\n",
       "      <td>-0.005876</td>\n",
       "      <td>3.179103</td>\n",
       "    </tr>\n",
       "    <tr>\n",
       "      <th>1</th>\n",
       "      <td>62mP7</td>\n",
       "      <td>14.272088</td>\n",
       "      <td>-3.475083</td>\n",
       "      <td>0.999183</td>\n",
       "      <td>26.953261</td>\n",
       "    </tr>\n",
       "    <tr>\n",
       "      <th>2</th>\n",
       "      <td>vyE1P</td>\n",
       "      <td>6.263187</td>\n",
       "      <td>-5.948386</td>\n",
       "      <td>5.001160</td>\n",
       "      <td>134.766305</td>\n",
       "    </tr>\n",
       "    <tr>\n",
       "      <th>3</th>\n",
       "      <td>KcrkZ</td>\n",
       "      <td>-13.081196</td>\n",
       "      <td>-11.506057</td>\n",
       "      <td>4.999415</td>\n",
       "      <td>137.945408</td>\n",
       "    </tr>\n",
       "    <tr>\n",
       "      <th>4</th>\n",
       "      <td>AHL4O</td>\n",
       "      <td>12.702195</td>\n",
       "      <td>-8.147433</td>\n",
       "      <td>5.004363</td>\n",
       "      <td>134.766305</td>\n",
       "    </tr>\n",
       "  </tbody>\n",
       "</table>\n",
       "</div>"
      ],
      "text/plain": [
       "      id         f0         f1        f2     product\n",
       "0  kBEdx -15.001348  -8.276000 -0.005876    3.179103\n",
       "1  62mP7  14.272088  -3.475083  0.999183   26.953261\n",
       "2  vyE1P   6.263187  -5.948386  5.001160  134.766305\n",
       "3  KcrkZ -13.081196 -11.506057  4.999415  137.945408\n",
       "4  AHL4O  12.702195  -8.147433  5.004363  134.766305"
      ]
     },
     "metadata": {},
     "output_type": "display_data"
    },
    {
     "name": "stdout",
     "output_type": "stream",
     "text": [
      "Статистический анализ geo_data_1.csv:\n"
     ]
    },
    {
     "data": {
      "text/html": [
       "<div>\n",
       "<style scoped>\n",
       "    .dataframe tbody tr th:only-of-type {\n",
       "        vertical-align: middle;\n",
       "    }\n",
       "\n",
       "    .dataframe tbody tr th {\n",
       "        vertical-align: top;\n",
       "    }\n",
       "\n",
       "    .dataframe thead th {\n",
       "        text-align: right;\n",
       "    }\n",
       "</style>\n",
       "<table border=\"1\" class=\"dataframe\">\n",
       "  <thead>\n",
       "    <tr style=\"text-align: right;\">\n",
       "      <th></th>\n",
       "      <th>f0</th>\n",
       "      <th>f1</th>\n",
       "      <th>f2</th>\n",
       "      <th>product</th>\n",
       "    </tr>\n",
       "  </thead>\n",
       "  <tbody>\n",
       "    <tr>\n",
       "      <th>count</th>\n",
       "      <td>100000.000000</td>\n",
       "      <td>100000.000000</td>\n",
       "      <td>100000.000000</td>\n",
       "      <td>100000.000000</td>\n",
       "    </tr>\n",
       "    <tr>\n",
       "      <th>mean</th>\n",
       "      <td>1.141296</td>\n",
       "      <td>-4.796579</td>\n",
       "      <td>2.494541</td>\n",
       "      <td>68.825000</td>\n",
       "    </tr>\n",
       "    <tr>\n",
       "      <th>std</th>\n",
       "      <td>8.965932</td>\n",
       "      <td>5.119872</td>\n",
       "      <td>1.703572</td>\n",
       "      <td>45.944423</td>\n",
       "    </tr>\n",
       "    <tr>\n",
       "      <th>min</th>\n",
       "      <td>-31.609576</td>\n",
       "      <td>-26.358598</td>\n",
       "      <td>-0.018144</td>\n",
       "      <td>0.000000</td>\n",
       "    </tr>\n",
       "    <tr>\n",
       "      <th>25%</th>\n",
       "      <td>-6.298551</td>\n",
       "      <td>-8.267985</td>\n",
       "      <td>1.000021</td>\n",
       "      <td>26.953261</td>\n",
       "    </tr>\n",
       "    <tr>\n",
       "      <th>50%</th>\n",
       "      <td>1.153055</td>\n",
       "      <td>-4.813172</td>\n",
       "      <td>2.011479</td>\n",
       "      <td>57.085625</td>\n",
       "    </tr>\n",
       "    <tr>\n",
       "      <th>75%</th>\n",
       "      <td>8.621015</td>\n",
       "      <td>-1.332816</td>\n",
       "      <td>3.999904</td>\n",
       "      <td>107.813044</td>\n",
       "    </tr>\n",
       "    <tr>\n",
       "      <th>max</th>\n",
       "      <td>29.421755</td>\n",
       "      <td>18.734063</td>\n",
       "      <td>5.019721</td>\n",
       "      <td>137.945408</td>\n",
       "    </tr>\n",
       "  </tbody>\n",
       "</table>\n",
       "</div>"
      ],
      "text/plain": [
       "                  f0             f1             f2        product\n",
       "count  100000.000000  100000.000000  100000.000000  100000.000000\n",
       "mean        1.141296      -4.796579       2.494541      68.825000\n",
       "std         8.965932       5.119872       1.703572      45.944423\n",
       "min       -31.609576     -26.358598      -0.018144       0.000000\n",
       "25%        -6.298551      -8.267985       1.000021      26.953261\n",
       "50%         1.153055      -4.813172       2.011479      57.085625\n",
       "75%         8.621015      -1.332816       3.999904     107.813044\n",
       "max        29.421755      18.734063       5.019721     137.945408"
      ]
     },
     "metadata": {},
     "output_type": "display_data"
    },
    {
     "name": "stdout",
     "output_type": "stream",
     "text": [
      "\n",
      "Информация о geo_data_2.csv:\n",
      "<class 'pandas.core.frame.DataFrame'>\n",
      "RangeIndex: 100000 entries, 0 to 99999\n",
      "Data columns (total 5 columns):\n",
      " #   Column   Non-Null Count   Dtype  \n",
      "---  ------   --------------   -----  \n",
      " 0   id       100000 non-null  object \n",
      " 1   f0       100000 non-null  float64\n",
      " 2   f1       100000 non-null  float64\n",
      " 3   f2       100000 non-null  float64\n",
      " 4   product  100000 non-null  float64\n",
      "dtypes: float64(4), object(1)\n",
      "memory usage: 3.8+ MB\n",
      "None\n",
      "Первые 5 строк geo_data_2.csv:\n"
     ]
    },
    {
     "data": {
      "text/html": [
       "<div>\n",
       "<style scoped>\n",
       "    .dataframe tbody tr th:only-of-type {\n",
       "        vertical-align: middle;\n",
       "    }\n",
       "\n",
       "    .dataframe tbody tr th {\n",
       "        vertical-align: top;\n",
       "    }\n",
       "\n",
       "    .dataframe thead th {\n",
       "        text-align: right;\n",
       "    }\n",
       "</style>\n",
       "<table border=\"1\" class=\"dataframe\">\n",
       "  <thead>\n",
       "    <tr style=\"text-align: right;\">\n",
       "      <th></th>\n",
       "      <th>id</th>\n",
       "      <th>f0</th>\n",
       "      <th>f1</th>\n",
       "      <th>f2</th>\n",
       "      <th>product</th>\n",
       "    </tr>\n",
       "  </thead>\n",
       "  <tbody>\n",
       "    <tr>\n",
       "      <th>0</th>\n",
       "      <td>fwXo0</td>\n",
       "      <td>-1.146987</td>\n",
       "      <td>0.963328</td>\n",
       "      <td>-0.828965</td>\n",
       "      <td>27.758673</td>\n",
       "    </tr>\n",
       "    <tr>\n",
       "      <th>1</th>\n",
       "      <td>WJtFt</td>\n",
       "      <td>0.262778</td>\n",
       "      <td>0.269839</td>\n",
       "      <td>-2.530187</td>\n",
       "      <td>56.069697</td>\n",
       "    </tr>\n",
       "    <tr>\n",
       "      <th>2</th>\n",
       "      <td>ovLUW</td>\n",
       "      <td>0.194587</td>\n",
       "      <td>0.289035</td>\n",
       "      <td>-5.586433</td>\n",
       "      <td>62.871910</td>\n",
       "    </tr>\n",
       "    <tr>\n",
       "      <th>3</th>\n",
       "      <td>q6cA6</td>\n",
       "      <td>2.236060</td>\n",
       "      <td>-0.553760</td>\n",
       "      <td>0.930038</td>\n",
       "      <td>114.572842</td>\n",
       "    </tr>\n",
       "    <tr>\n",
       "      <th>4</th>\n",
       "      <td>WPMUX</td>\n",
       "      <td>-0.515993</td>\n",
       "      <td>1.716266</td>\n",
       "      <td>5.899011</td>\n",
       "      <td>149.600746</td>\n",
       "    </tr>\n",
       "  </tbody>\n",
       "</table>\n",
       "</div>"
      ],
      "text/plain": [
       "      id        f0        f1        f2     product\n",
       "0  fwXo0 -1.146987  0.963328 -0.828965   27.758673\n",
       "1  WJtFt  0.262778  0.269839 -2.530187   56.069697\n",
       "2  ovLUW  0.194587  0.289035 -5.586433   62.871910\n",
       "3  q6cA6  2.236060 -0.553760  0.930038  114.572842\n",
       "4  WPMUX -0.515993  1.716266  5.899011  149.600746"
      ]
     },
     "metadata": {},
     "output_type": "display_data"
    },
    {
     "name": "stdout",
     "output_type": "stream",
     "text": [
      "Статистический анализ geo_data_2.csv:\n"
     ]
    },
    {
     "data": {
      "text/html": [
       "<div>\n",
       "<style scoped>\n",
       "    .dataframe tbody tr th:only-of-type {\n",
       "        vertical-align: middle;\n",
       "    }\n",
       "\n",
       "    .dataframe tbody tr th {\n",
       "        vertical-align: top;\n",
       "    }\n",
       "\n",
       "    .dataframe thead th {\n",
       "        text-align: right;\n",
       "    }\n",
       "</style>\n",
       "<table border=\"1\" class=\"dataframe\">\n",
       "  <thead>\n",
       "    <tr style=\"text-align: right;\">\n",
       "      <th></th>\n",
       "      <th>f0</th>\n",
       "      <th>f1</th>\n",
       "      <th>f2</th>\n",
       "      <th>product</th>\n",
       "    </tr>\n",
       "  </thead>\n",
       "  <tbody>\n",
       "    <tr>\n",
       "      <th>count</th>\n",
       "      <td>100000.000000</td>\n",
       "      <td>100000.000000</td>\n",
       "      <td>100000.000000</td>\n",
       "      <td>100000.000000</td>\n",
       "    </tr>\n",
       "    <tr>\n",
       "      <th>mean</th>\n",
       "      <td>0.002023</td>\n",
       "      <td>-0.002081</td>\n",
       "      <td>2.495128</td>\n",
       "      <td>95.000000</td>\n",
       "    </tr>\n",
       "    <tr>\n",
       "      <th>std</th>\n",
       "      <td>1.732045</td>\n",
       "      <td>1.730417</td>\n",
       "      <td>3.473445</td>\n",
       "      <td>44.749921</td>\n",
       "    </tr>\n",
       "    <tr>\n",
       "      <th>min</th>\n",
       "      <td>-8.760004</td>\n",
       "      <td>-7.084020</td>\n",
       "      <td>-11.970335</td>\n",
       "      <td>0.000000</td>\n",
       "    </tr>\n",
       "    <tr>\n",
       "      <th>25%</th>\n",
       "      <td>-1.162288</td>\n",
       "      <td>-1.174820</td>\n",
       "      <td>0.130359</td>\n",
       "      <td>59.450441</td>\n",
       "    </tr>\n",
       "    <tr>\n",
       "      <th>50%</th>\n",
       "      <td>0.009424</td>\n",
       "      <td>-0.009482</td>\n",
       "      <td>2.484236</td>\n",
       "      <td>94.925613</td>\n",
       "    </tr>\n",
       "    <tr>\n",
       "      <th>75%</th>\n",
       "      <td>1.158535</td>\n",
       "      <td>1.163678</td>\n",
       "      <td>4.858794</td>\n",
       "      <td>130.595027</td>\n",
       "    </tr>\n",
       "    <tr>\n",
       "      <th>max</th>\n",
       "      <td>7.238262</td>\n",
       "      <td>7.844801</td>\n",
       "      <td>16.739402</td>\n",
       "      <td>190.029838</td>\n",
       "    </tr>\n",
       "  </tbody>\n",
       "</table>\n",
       "</div>"
      ],
      "text/plain": [
       "                  f0             f1             f2        product\n",
       "count  100000.000000  100000.000000  100000.000000  100000.000000\n",
       "mean        0.002023      -0.002081       2.495128      95.000000\n",
       "std         1.732045       1.730417       3.473445      44.749921\n",
       "min        -8.760004      -7.084020     -11.970335       0.000000\n",
       "25%        -1.162288      -1.174820       0.130359      59.450441\n",
       "50%         0.009424      -0.009482       2.484236      94.925613\n",
       "75%         1.158535       1.163678       4.858794     130.595027\n",
       "max         7.238262       7.844801      16.739402     190.029838"
      ]
     },
     "metadata": {},
     "output_type": "display_data"
    }
   ],
   "source": [
    "# Вывод информации о данных\n",
    "for file, df in data.items():\n",
    "    print(f\"\\nИнформация о {file}:\")\n",
    "    print(df.info())\n",
    "    print(f\"Первые 5 строк {file}:\")\n",
    "    display(df.head())\n",
    "    print(f\"Статистический анализ {file}:\")\n",
    "    display(df.describe())"
   ]
  },
  {
   "cell_type": "code",
   "execution_count": 4,
   "metadata": {},
   "outputs": [],
   "source": [
    "# Создание отдельной переменной для каждого файла для удобства\n",
    "geo_data_0 = data['geo_data_0.csv']\n",
    "geo_data_1 = data['geo_data_1.csv']\n",
    "geo_data_2 = data['geo_data_2.csv']"
   ]
  },
  {
   "cell_type": "markdown",
   "metadata": {},
   "source": [
    "### Подготовка данных"
   ]
  },
  {
   "cell_type": "code",
   "execution_count": 5,
   "metadata": {},
   "outputs": [],
   "source": [
    "# Определение признаков и целевого значения\n",
    "features = ['f0', 'f1', 'f2']\n",
    "target = 'product'\n",
    "\n",
    "# Разделение данных для geo_data_0\n",
    "X_train_0, X_test_0, y_train_0, y_test_0 = train_test_split(geo_data_0[features], geo_data_0[target], test_size=0.25, random_state=13)\n",
    "\n",
    "# Разделение данных для geo_data_1\n",
    "X_train_1, X_test_1, y_train_1, y_test_1 = train_test_split(geo_data_1[features], geo_data_1[target], test_size=0.25, random_state=13)\n",
    "\n",
    "# Разделение данных для geo_data_2\n",
    "X_train_2, X_test_2, y_train_2, y_test_2 = train_test_split(geo_data_2[features], geo_data_2[target], test_size=0.25, random_state=13)"
   ]
  },
  {
   "cell_type": "code",
   "execution_count": 6,
   "metadata": {},
   "outputs": [],
   "source": [
    "# Создание списка экземпляров RobustScaler\n",
    "scalers = [RobustScaler() for _ in range(3)]\n",
    "\n",
    "# Масштабирование тренировочных данных и тестовых данных\n",
    "X_train_scaled = [scaler.fit_transform(X_train) for scaler, X_train in zip(scalers, [X_train_0, X_train_1, X_train_2])]\n",
    "X_test_scaled = [scaler.transform(X_test) for scaler, X_test in zip(scalers, [X_test_0, X_test_1, X_test_2])]"
   ]
  },
  {
   "cell_type": "markdown",
   "metadata": {},
   "source": [
    "Вот последовательность действий в представленном коде:\n",
    "\n",
    "1. **Импорт необходимых библиотек**: Импортируются все необходимые библиотеки для обработки данных, моделирования и визуализации.\n",
    "\n",
    "2. **Определение путей к файлам**: Задаются имена файлов и пути к ним.\n",
    "\n",
    "3. **Загрузка данных**: Данные загружаются из указанных файлов. Если файл не найден по одному пути, происходит попытка загрузить его из другого пути.\n",
    "\n",
    "4. **Вывод информации о данных**: Для каждого загруженного файла выводится информация о данных, первые 5 строк и статистический анализ.\n",
    "\n",
    "5. **Определение признаков и целевого значения**: Определяются признаки (`f0`, `f1`, `f2`) и целевое значение (`product`).\n",
    "\n",
    "6. **Разделение данных на обучающую и тестовую выборки**: Данные каждого файла разделяются на обучающую и тестовую выборки с использованием функции `train_test_split`.\n",
    "\n",
    "7. **Масштабирование данных**: Данные масштабируются с использованием `RobustScaler`, который устойчив к выбросам. Масштабирование применяется отдельно к обучающим и тестовым данным каждого файла.\n",
    "\n",
    "После выполнения этих шагов данные готовы к дальнейшему анализу и моделированию."
   ]
  },
  {
   "cell_type": "markdown",
   "metadata": {},
   "source": [
    "## Обучение и проверка модели"
   ]
  },
  {
   "cell_type": "code",
   "execution_count": 7,
   "metadata": {},
   "outputs": [],
   "source": [
    "# Создание списка экземпляров LinearRegression\n",
    "models = [LinearRegression() for _ in range(3)]\n",
    "\n",
    "# Обучение моделей на масштабированных тренировочных данных\n",
    "[model.fit(X_train, y_train) for model, X_train, y_train in zip(models, X_train_scaled, [y_train_0, y_train_1, y_train_2])]\n",
    "\n",
    "# Предсказание на масштабированных тестовых данных\n",
    "y_pred = [model.predict(X_test) for model, X_test in zip(models, X_test_scaled)]\n"
   ]
  },
  {
   "cell_type": "code",
   "execution_count": 8,
   "metadata": {},
   "outputs": [
    {
     "name": "stdout",
     "output_type": "stream",
     "text": [
      "\n",
      "Первые 5 строк тестового набора для geo_data_0:\n"
     ]
    },
    {
     "data": {
      "text/html": [
       "<div>\n",
       "<style scoped>\n",
       "    .dataframe tbody tr th:only-of-type {\n",
       "        vertical-align: middle;\n",
       "    }\n",
       "\n",
       "    .dataframe tbody tr th {\n",
       "        vertical-align: top;\n",
       "    }\n",
       "\n",
       "    .dataframe thead th {\n",
       "        text-align: right;\n",
       "    }\n",
       "</style>\n",
       "<table border=\"1\" class=\"dataframe\">\n",
       "  <thead>\n",
       "    <tr style=\"text-align: right;\">\n",
       "      <th></th>\n",
       "      <th>f0</th>\n",
       "      <th>f1</th>\n",
       "      <th>f2</th>\n",
       "      <th>product</th>\n",
       "      <th>y_pred</th>\n",
       "    </tr>\n",
       "  </thead>\n",
       "  <tbody>\n",
       "    <tr>\n",
       "      <th>72031</th>\n",
       "      <td>0.344571</td>\n",
       "      <td>-0.272941</td>\n",
       "      <td>-2.099642</td>\n",
       "      <td>170.053522</td>\n",
       "      <td>68.927415</td>\n",
       "    </tr>\n",
       "    <tr>\n",
       "      <th>27978</th>\n",
       "      <td>1.652531</td>\n",
       "      <td>-0.206616</td>\n",
       "      <td>1.868818</td>\n",
       "      <td>61.453092</td>\n",
       "      <td>99.176667</td>\n",
       "    </tr>\n",
       "    <tr>\n",
       "      <th>55639</th>\n",
       "      <td>-0.253885</td>\n",
       "      <td>0.993549</td>\n",
       "      <td>1.584251</td>\n",
       "      <td>145.743331</td>\n",
       "      <td>73.078440</td>\n",
       "    </tr>\n",
       "    <tr>\n",
       "      <th>51955</th>\n",
       "      <td>1.085273</td>\n",
       "      <td>0.155305</td>\n",
       "      <td>-0.680978</td>\n",
       "      <td>42.100082</td>\n",
       "      <td>75.076824</td>\n",
       "    </tr>\n",
       "    <tr>\n",
       "      <th>52145</th>\n",
       "      <td>0.017405</td>\n",
       "      <td>0.081738</td>\n",
       "      <td>-1.458572</td>\n",
       "      <td>99.160596</td>\n",
       "      <td>66.902659</td>\n",
       "    </tr>\n",
       "  </tbody>\n",
       "</table>\n",
       "</div>"
      ],
      "text/plain": [
       "             f0        f1        f2     product     y_pred\n",
       "72031  0.344571 -0.272941 -2.099642  170.053522  68.927415\n",
       "27978  1.652531 -0.206616  1.868818   61.453092  99.176667\n",
       "55639 -0.253885  0.993549  1.584251  145.743331  73.078440\n",
       "51955  1.085273  0.155305 -0.680978   42.100082  75.076824\n",
       "52145  0.017405  0.081738 -1.458572   99.160596  66.902659"
      ]
     },
     "metadata": {},
     "output_type": "display_data"
    },
    {
     "name": "stdout",
     "output_type": "stream",
     "text": [
      "\n",
      "Средний запас предсказанного сырья для тестового набора 0: 92.5943198620576\n",
      "RMSE для тестового набора 0: 37.694547354090695\n",
      "MAE для тестового набора 0: 31.008550751783346\n",
      "\n",
      "Первые 5 строк тестового набора для geo_data_1:\n"
     ]
    },
    {
     "data": {
      "text/html": [
       "<div>\n",
       "<style scoped>\n",
       "    .dataframe tbody tr th:only-of-type {\n",
       "        vertical-align: middle;\n",
       "    }\n",
       "\n",
       "    .dataframe tbody tr th {\n",
       "        vertical-align: top;\n",
       "    }\n",
       "\n",
       "    .dataframe thead th {\n",
       "        text-align: right;\n",
       "    }\n",
       "</style>\n",
       "<table border=\"1\" class=\"dataframe\">\n",
       "  <thead>\n",
       "    <tr style=\"text-align: right;\">\n",
       "      <th></th>\n",
       "      <th>f0</th>\n",
       "      <th>f1</th>\n",
       "      <th>f2</th>\n",
       "      <th>product</th>\n",
       "      <th>y_pred</th>\n",
       "    </tr>\n",
       "  </thead>\n",
       "  <tbody>\n",
       "    <tr>\n",
       "      <th>72031</th>\n",
       "      <td>2.404544</td>\n",
       "      <td>1.392635</td>\n",
       "      <td>3.003099</td>\n",
       "      <td>80.859783</td>\n",
       "      <td>82.215551</td>\n",
       "    </tr>\n",
       "    <tr>\n",
       "      <th>27978</th>\n",
       "      <td>7.863461</td>\n",
       "      <td>-3.074607</td>\n",
       "      <td>4.994210</td>\n",
       "      <td>134.766305</td>\n",
       "      <td>135.186645</td>\n",
       "    </tr>\n",
       "    <tr>\n",
       "      <th>55639</th>\n",
       "      <td>-10.829960</td>\n",
       "      <td>-4.771709</td>\n",
       "      <td>3.006065</td>\n",
       "      <td>84.038886</td>\n",
       "      <td>84.348269</td>\n",
       "    </tr>\n",
       "    <tr>\n",
       "      <th>51955</th>\n",
       "      <td>10.964350</td>\n",
       "      <td>-3.753278</td>\n",
       "      <td>4.992659</td>\n",
       "      <td>134.766305</td>\n",
       "      <td>134.710099</td>\n",
       "    </tr>\n",
       "    <tr>\n",
       "      <th>52145</th>\n",
       "      <td>16.457302</td>\n",
       "      <td>-7.863488</td>\n",
       "      <td>4.000320</td>\n",
       "      <td>107.813044</td>\n",
       "      <td>107.257408</td>\n",
       "    </tr>\n",
       "  </tbody>\n",
       "</table>\n",
       "</div>"
      ],
      "text/plain": [
       "              f0        f1        f2     product      y_pred\n",
       "72031   2.404544  1.392635  3.003099   80.859783   82.215551\n",
       "27978   7.863461 -3.074607  4.994210  134.766305  135.186645\n",
       "55639 -10.829960 -4.771709  3.006065   84.038886   84.348269\n",
       "51955  10.964350 -3.753278  4.992659  134.766305  134.710099\n",
       "52145  16.457302 -7.863488  4.000320  107.813044  107.257408"
      ]
     },
     "metadata": {},
     "output_type": "display_data"
    },
    {
     "name": "stdout",
     "output_type": "stream",
     "text": [
      "\n",
      "Средний запас предсказанного сырья для тестового набора 1: 69.02949151591964\n",
      "RMSE для тестового набора 1: 0.8937965421900188\n",
      "MAE для тестового набора 1: 0.7199001055406402\n",
      "\n",
      "Первые 5 строк тестового набора для geo_data_2:\n"
     ]
    },
    {
     "data": {
      "text/html": [
       "<div>\n",
       "<style scoped>\n",
       "    .dataframe tbody tr th:only-of-type {\n",
       "        vertical-align: middle;\n",
       "    }\n",
       "\n",
       "    .dataframe tbody tr th {\n",
       "        vertical-align: top;\n",
       "    }\n",
       "\n",
       "    .dataframe thead th {\n",
       "        text-align: right;\n",
       "    }\n",
       "</style>\n",
       "<table border=\"1\" class=\"dataframe\">\n",
       "  <thead>\n",
       "    <tr style=\"text-align: right;\">\n",
       "      <th></th>\n",
       "      <th>f0</th>\n",
       "      <th>f1</th>\n",
       "      <th>f2</th>\n",
       "      <th>product</th>\n",
       "      <th>y_pred</th>\n",
       "    </tr>\n",
       "  </thead>\n",
       "  <tbody>\n",
       "    <tr>\n",
       "      <th>72031</th>\n",
       "      <td>-0.370020</td>\n",
       "      <td>0.667530</td>\n",
       "      <td>-4.538057</td>\n",
       "      <td>76.447828</td>\n",
       "      <td>54.556699</td>\n",
       "    </tr>\n",
       "    <tr>\n",
       "      <th>27978</th>\n",
       "      <td>1.525227</td>\n",
       "      <td>-4.025469</td>\n",
       "      <td>1.634140</td>\n",
       "      <td>60.054617</td>\n",
       "      <td>90.189453</td>\n",
       "    </tr>\n",
       "    <tr>\n",
       "      <th>55639</th>\n",
       "      <td>0.881421</td>\n",
       "      <td>4.007687</td>\n",
       "      <td>10.713461</td>\n",
       "      <td>160.069409</td>\n",
       "      <td>141.822812</td>\n",
       "    </tr>\n",
       "    <tr>\n",
       "      <th>51955</th>\n",
       "      <td>2.229994</td>\n",
       "      <td>-1.056556</td>\n",
       "      <td>-0.747277</td>\n",
       "      <td>93.090521</td>\n",
       "      <td>76.183577</td>\n",
       "    </tr>\n",
       "    <tr>\n",
       "      <th>52145</th>\n",
       "      <td>2.442010</td>\n",
       "      <td>1.116135</td>\n",
       "      <td>8.983982</td>\n",
       "      <td>133.124375</td>\n",
       "      <td>131.928489</td>\n",
       "    </tr>\n",
       "  </tbody>\n",
       "</table>\n",
       "</div>"
      ],
      "text/plain": [
       "             f0        f1         f2     product      y_pred\n",
       "72031 -0.370020  0.667530  -4.538057   76.447828   54.556699\n",
       "27978  1.525227 -4.025469   1.634140   60.054617   90.189453\n",
       "55639  0.881421  4.007687  10.713461  160.069409  141.822812\n",
       "51955  2.229994 -1.056556  -0.747277   93.090521   76.183577\n",
       "52145  2.442010  1.116135   8.983982  133.124375  131.928489"
      ]
     },
     "metadata": {},
     "output_type": "display_data"
    },
    {
     "name": "stdout",
     "output_type": "stream",
     "text": [
      "\n",
      "Средний запас предсказанного сырья для тестового набора 2: 94.95620175786401\n",
      "RMSE для тестового набора 2: 40.021834799355375\n",
      "MAE для тестового набора 2: 32.755053018732\n"
     ]
    }
   ],
   "source": [
    "def process_data(X_test, y_test, y_pred):\n",
    "    # Объединение тестовых признаков и целевых переменных\n",
    "    test_data = pd.concat([X_test, y_test], axis=1)\n",
    "    # Добавление предсказаний в качестве нового столбца\n",
    "    test_data['y_pred'] = y_pred\n",
    "    return test_data\n",
    "\n",
    "# Применение функции к данным\n",
    "test_data_0 = process_data(X_test_0, y_test_0, y_pred[0])\n",
    "test_data_1 = process_data(X_test_1, y_test_1, y_pred[1])\n",
    "test_data_2 = process_data(X_test_2, y_test_2, y_pred[2])\n",
    "\n",
    "# Вывод первых 5 строк тестового набора для каждого набора данных\n",
    "# а также среднего запаса предсказанного сырья, RMSE и MAE для каждого набора данных\n",
    "for i, data in enumerate([test_data_0, test_data_1, test_data_2]):\n",
    "    print(f\"\\nПервые 5 строк тестового набора для geo_data_{i}:\")\n",
    "    display(data.head())\n",
    "    avg_pred_res = np.mean(data['y_pred'])\n",
    "    rmse_ = np.sqrt(mean_squared_error(data['product'], data['y_pred']))\n",
    "    mae = mean_absolute_error(data['product'], data['y_pred'])\n",
    "    print(f'\\nСредний запас предсказанного сырья для тестового набора {i}: {avg_pred_res}')\n",
    "    print(f'RMSE для тестового набора {i}: {rmse_}')\n",
    "    print(f'MAE для тестового набора {i}: {mae}')\n",
    "\n"
   ]
  },
  {
   "cell_type": "markdown",
   "metadata": {},
   "source": [
    "Код выполняет следующие действия:\n",
    "\n",
    "1. **Создание моделей**: Создаются три экземпляра модели линейной регрессии, по одному для каждого набора данных.\n",
    "\n",
    "2. **Обучение моделей**: Модели обучаются на масштабированных тренировочных данных.\n",
    "\n",
    "3. **Предсказание на тестовых данных**: С помощью обученных моделей делаются предсказания на масштабированных тестовых данных.\n",
    "\n",
    "4. **Обработка данных**: Создается функция `process_data`, которая объединяет тестовые признаки и целевые переменные, а затем добавляет предсказания в качестве нового столбца. Эта функция применяется к данным.\n",
    "\n",
    "5. **Анализ результатов**: Выводятся первые 5 строк тестового набора для каждого набора данных, а также средний запас предсказанного сырья, RMSE и MAE для каждого набора данных.\n",
    "\n",
    "Результаты показывают, что модели имеют различное качество предсказаний для разных наборов данных. Например, модель для `geo_data_1` имеет наименьшие значения RMSE и MAE, что указывает на лучшую точность предсказаний по сравнению с другими моделями. С другой стороны, модель для `geo_data_0` имеет наибольшее значение RMSE, что указывает на наибольшую ошибку предсказаний.\n",
    "\n",
    "Это может быть связано с различиями в распределении данных в разных наборах данных.\n",
    "\n",
    "Также стоит отметить, что средний запас предсказанного сырья варьируется между наборами данных. Это может быть важным фактором при принятии решений в контексте бизнес-задачи. \n"
   ]
  },
  {
   "cell_type": "markdown",
   "metadata": {},
   "source": [
    "## Подготовка к расчёту прибыли"
   ]
  },
  {
   "cell_type": "code",
   "execution_count": 9,
   "metadata": {},
   "outputs": [],
   "source": [
    "# Ключевые значения для расчётов\n",
    "СРЕДНИЙ_ЗАПАС_ПРЕДСКАЗАННОГО_СЫРЬЯ_0 = np.mean(test_data_0['y_pred'])\n",
    "СРЕДНИЙ_ЗАПАС_ПРЕДСКАЗАННОГО_СЫРЬЯ_1 = np.mean(test_data_1['y_pred'])\n",
    "СРЕДНИЙ_ЗАПАС_ПРЕДСКАЗАННОГО_СЫРЬЯ_2 = np.mean(test_data_2['y_pred'])\n",
    "БЮДЖЕТ_НА_РАЗРАБОТКУ = 10000000000  # в рублях\n",
    "ДОХОД_С_ЕДИНИЦЫ_ПРОДУКТА = 450000  # в рублях, поскольку объём указан в тысячах баррелей\n",
    "КОЛИЧЕСТВО_СКВАЖИН = 200\n",
    "БЕЗУБ_ОБ = БЮДЖЕТ_НА_РАЗРАБОТКУ / (ДОХОД_С_ЕДИНИЦЫ_ПРОДУКТА * 200)\n"
   ]
  },
  {
   "cell_type": "code",
   "execution_count": 10,
   "metadata": {},
   "outputs": [
    {
     "name": "stdout",
     "output_type": "stream",
     "text": [
      "Достаточный объём сырья для безубыточной разработки новой скважины: 111.11111111111111\n",
      "В регионе 0 средний запас предсказанного сырья недостаточен для безубыточной разработки. Средний объем в регионе: 93\n",
      "В регионе 1 средний запас предсказанного сырья недостаточен для безубыточной разработки. Средний объем в регионе: 70\n",
      "В регионе 2 средний запас предсказанного сырья недостаточен для безубыточной разработки. Средний объем в регионе: 95\n"
     ]
    }
   ],
   "source": [
    "def check_volume(break_even_volume, mean_volume, region):\n",
    "    mean_volume = math.ceil(mean_volume)\n",
    "    if break_even_volume > mean_volume:\n",
    "        result = f'В регионе {region} средний запас предсказанного сырья недостаточен для безубыточной разработки'\n",
    "    else:\n",
    "        result = f'В регионе {region} средний запас предсказанного сырья достаточен для безубыточной разработки'\n",
    "    return result + f'. Средний объем в регионе: {mean_volume}'\n",
    "\n",
    "# Выводим достаточный объём на экран\n",
    "print('Достаточный объём сырья для безубыточной разработки новой скважины:', БЕЗУБ_ОБ)\n",
    "\n",
    "# Сравниваем полученный объём сырья со средним запасом в каждом регионе\n",
    "print(check_volume(БЕЗУБ_ОБ, СРЕДНИЙ_ЗАПАС_ПРЕДСКАЗАННОГО_СЫРЬЯ_0, 0))\n",
    "print(check_volume(БЕЗУБ_ОБ, СРЕДНИЙ_ЗАПАС_ПРЕДСКАЗАННОГО_СЫРЬЯ_1, 1))\n",
    "print(check_volume(БЕЗУБ_ОБ, СРЕДНИЙ_ЗАПАС_ПРЕДСКАЗАННОГО_СЫРЬЯ_2, 2))\n"
   ]
  },
  {
   "cell_type": "code",
   "execution_count": 11,
   "metadata": {},
   "outputs": [
    {
     "name": "stdout",
     "output_type": "stream",
     "text": [
      "В регионе 0 средний запас предсказанного сырья достаточен для безубыточной разработки. Средний объем в регионе: 156\n",
      "В регионе 1 средний запас предсказанного сырья достаточен для безубыточной разработки. Средний объем в регионе: 139\n",
      "В регионе 2 средний запас предсказанного сырья достаточен для безубыточной разработки. Средний объем в регионе: 149\n"
     ]
    }
   ],
   "source": [
    "# Сортируем данные по предсказанному объему сырья и выбираем 200 лучших скважин\n",
    "top_200_wells_0 = test_data_0.sort_values('y_pred', ascending=False).head(200)\n",
    "top_200_wells_1 = test_data_1.sort_values('y_pred', ascending=False).head(200)\n",
    "top_200_wells_2 = test_data_2.sort_values('y_pred', ascending=False).head(200)\n",
    "\n",
    "# Считаем средний запас предсказанного сырья для 200 лучших скважин\n",
    "mean_top_200_wells_0 = np.mean(top_200_wells_0['y_pred'])\n",
    "mean_top_200_wells_1 = np.mean(top_200_wells_1['y_pred'])\n",
    "mean_top_200_wells_2 = np.mean(top_200_wells_2['y_pred'])\n",
    "\n",
    "# Сравниваем полученный объём сырья со средним запасом в каждом регионе\n",
    "print(check_volume(БЕЗУБ_ОБ, mean_top_200_wells_0, 0))\n",
    "print(check_volume(БЕЗУБ_ОБ, mean_top_200_wells_1, 1))\n",
    "print(check_volume(БЕЗУБ_ОБ, mean_top_200_wells_2, 2))\n"
   ]
  },
  {
   "cell_type": "markdown",
   "metadata": {},
   "source": [
    "Исходные расчеты показали, что для безубыточной разработки новой скважины необходим объем сырья в **111.11** тысяч баррелей. Однако, средний запас предсказанного сырья во всех трех регионах был ниже этого значения:\n",
    "\n",
    "- В регионе 0 средний запас составляет **93** тысячи баррелей.\n",
    "- В регионе 1 средний запас составляет **70** тысяч баррелей.\n",
    "- В регионе 2 средний запас составляет **95** тысяч баррелей.\n",
    "\n",
    "Это означает, что с точки зрения безубыточности, ни один из регионов не достигает необходимого уровня запасов сырья.\n",
    "\n",
    "Однако, когда мы рассмотрели средний запас предсказанного сырья для 200 лучших скважин, ситуация изменилась:\n",
    "\n",
    "- В регионе 0 средний запас составляет **156** тысяч баррелей.\n",
    "- В регионе 1 средний запас составляет **139** тысяч баррелей.\n",
    "- В регионе 2 средний запас составляет **149** тысяч баррелей.\n",
    "\n",
    "Таким образом, если мы сосредоточимся на 200 лучших скважинах, все три региона достигают необходимого уровня запасов сырья для безубыточной разработки. Это подчеркивает важность выбора правильных скважин для разработки. <br>"
   ]
  },
  {
   "cell_type": "markdown",
   "metadata": {},
   "source": [
    "## Расчёт прибыли и рисков "
   ]
  },
  {
   "cell_type": "code",
   "execution_count": 12,
   "metadata": {},
   "outputs": [
    {
     "data": {
      "text/html": [
       "<div>\n",
       "<style scoped>\n",
       "    .dataframe tbody tr th:only-of-type {\n",
       "        vertical-align: middle;\n",
       "    }\n",
       "\n",
       "    .dataframe tbody tr th {\n",
       "        vertical-align: top;\n",
       "    }\n",
       "\n",
       "    .dataframe thead th {\n",
       "        text-align: right;\n",
       "    }\n",
       "</style>\n",
       "<table border=\"1\" class=\"dataframe\">\n",
       "  <thead>\n",
       "    <tr style=\"text-align: right;\">\n",
       "      <th></th>\n",
       "      <th>Регион</th>\n",
       "      <th>Средняя прибыль</th>\n",
       "      <th>95%-й доверительный интервал (нижняя граница)</th>\n",
       "      <th>95%-й доверительный интервал (верхняя граница)</th>\n",
       "      <th>Риск убытков</th>\n",
       "    </tr>\n",
       "  </thead>\n",
       "  <tbody>\n",
       "    <tr>\n",
       "      <th>0</th>\n",
       "      <td>Регион 0</td>\n",
       "      <td>441880880</td>\n",
       "      <td>-70804342</td>\n",
       "      <td>946595002</td>\n",
       "      <td>0.05</td>\n",
       "    </tr>\n",
       "    <tr>\n",
       "      <th>1</th>\n",
       "      <td>Регион 1</td>\n",
       "      <td>465233763</td>\n",
       "      <td>76043311</td>\n",
       "      <td>843830277</td>\n",
       "      <td>0.01</td>\n",
       "    </tr>\n",
       "    <tr>\n",
       "      <th>2</th>\n",
       "      <td>Регион 2</td>\n",
       "      <td>375040087</td>\n",
       "      <td>-133807722</td>\n",
       "      <td>897746247</td>\n",
       "      <td>0.08</td>\n",
       "    </tr>\n",
       "  </tbody>\n",
       "</table>\n",
       "</div>"
      ],
      "text/plain": [
       "     Регион  Средняя прибыль  95%-й доверительный интервал (нижняя граница)  \\\n",
       "0  Регион 0        441880880                                      -70804342   \n",
       "1  Регион 1        465233763                                       76043311   \n",
       "2  Регион 2        375040087                                     -133807722   \n",
       "\n",
       "   95%-й доверительный интервал (верхняя граница)  Риск убытков  \n",
       "0                                       946595002          0.05  \n",
       "1                                       843830277          0.01  \n",
       "2                                       897746247          0.08  "
      ]
     },
     "metadata": {},
     "output_type": "display_data"
    },
    {
     "name": "stdout",
     "output_type": "stream",
     "text": [
      "Лучший регион для разработки скважин: Регион 1\n"
     ]
    }
   ],
   "source": [
    "def analyze_regions(data_0, data_1, data_2, n_iterations, exploration_wells, best_wells):\n",
    "    state = RandomState(13)\n",
    "\n",
    "    def profit_calculation(data, exploration_wells, best_wells):\n",
    "        # Перемешиваем данные\n",
    "        data = shuffle(data, random_state=13)\n",
    "        # Выбираем скважины для разведки\n",
    "        exploration_data = data.head(exploration_wells)\n",
    "        # Выбираем лучшие скважины с максимальными значениями предсказаний\n",
    "        selected_wells = exploration_data.sort_values(by='y_pred', ascending=False).head(best_wells)\n",
    "        # Просуммируем целевое значение объёма сырья, соответствующее этим предсказаниям\n",
    "        total_volume = selected_wells['product'].sum()\n",
    "        # Рассчитываем прибыль для полученного объёма сырья\n",
    "        profit = total_volume * ДОХОД_С_ЕДИНИЦЫ_ПРОДУКТА - БЮДЖЕТ_НА_РАЗРАБОТКУ\n",
    "        return profit\n",
    "\n",
    "    def bootstrap(data, n_iterations, exploration_wells, best_wells):\n",
    "        values = []\n",
    "        for i in range(n_iterations):\n",
    "            subsample = data.sample(n=exploration_wells, replace=True, random_state=state)\n",
    "            profit = profit_calculation(subsample, exploration_wells, best_wells)\n",
    "            values.append(profit)\n",
    "        values = pd.Series(values)\n",
    "        mean_profit = values.mean()\n",
    "        lower = values.quantile(0.025)\n",
    "        upper = values.quantile(0.975)\n",
    "        risk = (values < 0).mean()\n",
    "        return mean_profit, lower, upper, risk\n",
    "\n",
    "    results = pd.DataFrame(columns=['Регион', 'Средняя прибыль', '95%-й доверительный интервал (нижняя граница)', '95%-й доверительный интервал (верхняя граница)', 'Риск убытков'])\n",
    "    for i, data in enumerate([data_0, data_1, data_2]):\n",
    "        mean_profit, lower, upper, risk = bootstrap(data, n_iterations, exploration_wells, best_wells)\n",
    "        results.loc[i] = [f'Регион {i}', round(mean_profit), round(lower), round(upper), round(risk, 2)]\n",
    "\n",
    "    safe_regions = results[results['Риск убытков'] < 0.025]\n",
    "    best_region = safe_regions[safe_regions['Средняя прибыль'] == safe_regions['Средняя прибыль'].max()]['Регион'].values[0]\n",
    "\n",
    "    display(results)\n",
    "    print(f'Лучший регион для разработки скважин: {best_region}')\n",
    "\n",
    "analyze_regions(test_data_0, test_data_1, test_data_2, 1000, 500, 200)\n",
    "\n",
    "\n",
    "\n"
   ]
  },
  {
   "cell_type": "markdown",
   "metadata": {},
   "source": [
    "На основании проведенного анализа, **Регион 1** является наиболее подходящим для разработки скважин. \n",
    "\n",
    "Вот несколько ключевых моментов, которые обосновывают этот выбор:\n",
    "\n",
    "1. **Средняя прибыль**: Регион 1 показывает наибольшую среднюю прибыль среди всех регионов, составляющую 465233763.\n",
    "\n",
    "2. **95%-й доверительный интервал**: Доверительный интервал для Региона 1 составляет от 76043311 до 843830277, что указывает на стабильность и надежность прогнозируемой прибыли.\n",
    "\n",
    "3. **Риск убытков**: Регион 1 имеет наименьший риск убытков среди всех регионов, составляющий всего 0.01 или 1%.\n",
    "\n",
    "Таким образом, учитывая все эти факторы, Регион 1 является наиболее предпочтительным для разработки скважин."
   ]
  }
 ],
 "metadata": {
  "ExecuteTimeLog": [
   {
    "duration": 46,
    "start_time": "2024-02-10T19:49:27.951Z"
   },
   {
    "duration": 358,
    "start_time": "2024-02-10T19:52:41.801Z"
   },
   {
    "duration": 775,
    "start_time": "2024-02-10T19:52:43.443Z"
   },
   {
    "duration": 418,
    "start_time": "2024-02-10T19:56:40.401Z"
   },
   {
    "duration": 288,
    "start_time": "2024-02-10T20:00:22.737Z"
   },
   {
    "duration": 302,
    "start_time": "2024-02-10T20:00:35.233Z"
   },
   {
    "duration": 3,
    "start_time": "2024-02-10T20:43:25.314Z"
   },
   {
    "duration": 407,
    "start_time": "2024-02-10T20:43:32.737Z"
   },
   {
    "duration": 455,
    "start_time": "2024-02-10T20:43:33.146Z"
   },
   {
    "duration": 2,
    "start_time": "2024-02-10T20:43:33.603Z"
   },
   {
    "duration": 1652,
    "start_time": "2024-02-15T18:46:34.463Z"
   },
   {
    "duration": 1618,
    "start_time": "2024-02-15T18:46:36.118Z"
   },
   {
    "duration": 181,
    "start_time": "2024-02-15T18:46:37.738Z"
   },
   {
    "duration": 4,
    "start_time": "2024-02-15T18:46:37.921Z"
   },
   {
    "duration": 41,
    "start_time": "2024-02-15T18:46:37.926Z"
   },
   {
    "duration": 66,
    "start_time": "2024-02-15T18:46:37.969Z"
   },
   {
    "duration": 158,
    "start_time": "2024-02-15T18:46:38.037Z"
   },
   {
    "duration": 222,
    "start_time": "2024-02-15T18:46:38.198Z"
   },
   {
    "duration": 1498,
    "start_time": "2024-02-15T18:52:42.726Z"
   },
   {
    "duration": 457,
    "start_time": "2024-02-15T18:52:44.227Z"
   },
   {
    "duration": 215,
    "start_time": "2024-02-15T18:52:44.685Z"
   },
   {
    "duration": 4,
    "start_time": "2024-02-15T18:52:44.902Z"
   },
   {
    "duration": 41,
    "start_time": "2024-02-15T18:52:44.908Z"
   },
   {
    "duration": 78,
    "start_time": "2024-02-15T18:52:44.951Z"
   },
   {
    "duration": 27,
    "start_time": "2024-02-15T18:52:45.031Z"
   },
   {
    "duration": 136,
    "start_time": "2024-02-15T18:52:45.094Z"
   },
   {
    "duration": 120,
    "start_time": "2024-02-15T19:02:05.256Z"
   },
   {
    "duration": 5,
    "start_time": "2024-02-15T19:02:16.917Z"
   },
   {
    "duration": 5,
    "start_time": "2024-02-15T19:02:18.322Z"
   },
   {
    "duration": 5,
    "start_time": "2024-02-15T19:06:35.015Z"
   },
   {
    "duration": 6,
    "start_time": "2024-02-15T19:12:39.889Z"
   },
   {
    "duration": 7,
    "start_time": "2024-02-15T19:13:19.989Z"
   },
   {
    "duration": 5,
    "start_time": "2024-02-15T19:13:21.854Z"
   },
   {
    "duration": 5,
    "start_time": "2024-02-15T19:13:27.711Z"
   },
   {
    "duration": 5,
    "start_time": "2024-02-15T19:13:28.591Z"
   },
   {
    "duration": 27,
    "start_time": "2024-02-15T19:32:18.602Z"
   },
   {
    "duration": 26,
    "start_time": "2024-02-15T19:33:02.718Z"
   },
   {
    "duration": 1439,
    "start_time": "2024-02-15T19:33:25.453Z"
   },
   {
    "duration": 431,
    "start_time": "2024-02-15T19:33:26.894Z"
   },
   {
    "duration": 200,
    "start_time": "2024-02-15T19:33:27.327Z"
   },
   {
    "duration": 3,
    "start_time": "2024-02-15T19:33:27.529Z"
   },
   {
    "duration": 59,
    "start_time": "2024-02-15T19:33:27.535Z"
   },
   {
    "duration": 51,
    "start_time": "2024-02-15T19:33:27.597Z"
   },
   {
    "duration": 50,
    "start_time": "2024-02-15T19:33:27.650Z"
   },
   {
    "duration": 128,
    "start_time": "2024-02-15T19:33:27.791Z"
   },
   {
    "duration": 26,
    "start_time": "2024-02-15T19:33:27.921Z"
   },
   {
    "duration": 25,
    "start_time": "2024-02-15T19:36:13.751Z"
   },
   {
    "duration": 1473,
    "start_time": "2024-02-15T19:42:58.425Z"
   },
   {
    "duration": 464,
    "start_time": "2024-02-15T19:42:59.900Z"
   },
   {
    "duration": 196,
    "start_time": "2024-02-15T19:43:00.366Z"
   },
   {
    "duration": 3,
    "start_time": "2024-02-15T19:43:00.564Z"
   },
   {
    "duration": 74,
    "start_time": "2024-02-15T19:43:00.569Z"
   },
   {
    "duration": 102,
    "start_time": "2024-02-15T19:43:00.644Z"
   },
   {
    "duration": 51,
    "start_time": "2024-02-15T19:43:00.748Z"
   },
   {
    "duration": 206,
    "start_time": "2024-02-15T19:43:00.802Z"
   },
   {
    "duration": 10,
    "start_time": "2024-02-15T19:43:01.010Z"
   },
   {
    "duration": 94,
    "start_time": "2024-02-15T19:43:01.022Z"
   },
   {
    "duration": 4,
    "start_time": "2024-02-15T19:44:34.248Z"
   },
   {
    "duration": 4,
    "start_time": "2024-02-15T19:46:36.356Z"
   },
   {
    "duration": 5,
    "start_time": "2024-02-15T19:46:43.204Z"
   },
   {
    "duration": 1440,
    "start_time": "2024-02-15T19:47:45.777Z"
   },
   {
    "duration": 440,
    "start_time": "2024-02-15T19:47:47.219Z"
   },
   {
    "duration": 202,
    "start_time": "2024-02-15T19:47:47.661Z"
   },
   {
    "duration": 3,
    "start_time": "2024-02-15T19:47:47.865Z"
   },
   {
    "duration": 38,
    "start_time": "2024-02-15T19:47:47.892Z"
   },
   {
    "duration": 76,
    "start_time": "2024-02-15T19:47:47.932Z"
   },
   {
    "duration": 82,
    "start_time": "2024-02-15T19:47:48.010Z"
   },
   {
    "duration": 135,
    "start_time": "2024-02-15T19:47:48.094Z"
   },
   {
    "duration": 6,
    "start_time": "2024-02-15T19:47:48.230Z"
   },
   {
    "duration": 7,
    "start_time": "2024-02-15T19:47:48.237Z"
   },
   {
    "duration": 47,
    "start_time": "2024-02-15T19:47:48.246Z"
   },
   {
    "duration": 1507,
    "start_time": "2024-02-15T22:15:30.768Z"
   },
   {
    "duration": 463,
    "start_time": "2024-02-15T22:15:32.276Z"
   },
   {
    "duration": 202,
    "start_time": "2024-02-15T22:15:32.741Z"
   },
   {
    "duration": 3,
    "start_time": "2024-02-15T22:15:32.945Z"
   },
   {
    "duration": 173,
    "start_time": "2024-02-15T22:15:32.950Z"
   },
   {
    "duration": 70,
    "start_time": "2024-02-15T22:15:33.125Z"
   },
   {
    "duration": 29,
    "start_time": "2024-02-15T22:15:33.197Z"
   },
   {
    "duration": 210,
    "start_time": "2024-02-15T22:15:33.228Z"
   },
   {
    "duration": 15,
    "start_time": "2024-02-15T22:15:33.439Z"
   },
   {
    "duration": 77,
    "start_time": "2024-02-15T22:15:33.455Z"
   },
   {
    "duration": 130,
    "start_time": "2024-02-15T22:15:33.534Z"
   },
   {
    "duration": 7,
    "start_time": "2024-02-15T22:19:13.108Z"
   },
   {
    "duration": 1509,
    "start_time": "2024-02-15T22:19:35.179Z"
   },
   {
    "duration": 451,
    "start_time": "2024-02-15T22:19:36.690Z"
   },
   {
    "duration": 206,
    "start_time": "2024-02-15T22:19:37.143Z"
   },
   {
    "duration": 2,
    "start_time": "2024-02-15T22:19:37.351Z"
   },
   {
    "duration": 66,
    "start_time": "2024-02-15T22:19:37.356Z"
   },
   {
    "duration": 71,
    "start_time": "2024-02-15T22:19:37.424Z"
   },
   {
    "duration": 28,
    "start_time": "2024-02-15T22:19:37.498Z"
   },
   {
    "duration": 194,
    "start_time": "2024-02-15T22:19:37.528Z"
   },
   {
    "duration": 6,
    "start_time": "2024-02-15T22:19:37.725Z"
   },
   {
    "duration": 159,
    "start_time": "2024-02-15T22:19:37.734Z"
   },
   {
    "duration": 3,
    "start_time": "2024-02-15T22:19:44.773Z"
   },
   {
    "duration": 1435,
    "start_time": "2024-02-15T22:19:54.174Z"
   },
   {
    "duration": 447,
    "start_time": "2024-02-15T22:19:55.611Z"
   },
   {
    "duration": 200,
    "start_time": "2024-02-15T22:19:56.063Z"
   },
   {
    "duration": 4,
    "start_time": "2024-02-15T22:19:56.265Z"
   },
   {
    "duration": 52,
    "start_time": "2024-02-15T22:19:56.291Z"
   },
   {
    "duration": 65,
    "start_time": "2024-02-15T22:19:56.344Z"
   },
   {
    "duration": 28,
    "start_time": "2024-02-15T22:19:56.411Z"
   },
   {
    "duration": 133,
    "start_time": "2024-02-15T22:19:56.492Z"
   },
   {
    "duration": 5,
    "start_time": "2024-02-15T22:19:56.627Z"
   },
   {
    "duration": 22,
    "start_time": "2024-02-15T22:19:56.634Z"
   },
   {
    "duration": 1676,
    "start_time": "2024-02-15T22:24:34.493Z"
   },
   {
    "duration": 463,
    "start_time": "2024-02-15T22:24:36.172Z"
   },
   {
    "duration": 205,
    "start_time": "2024-02-15T22:24:36.637Z"
   },
   {
    "duration": 3,
    "start_time": "2024-02-15T22:24:36.844Z"
   },
   {
    "duration": 58,
    "start_time": "2024-02-15T22:24:36.849Z"
   },
   {
    "duration": 52,
    "start_time": "2024-02-15T22:24:36.909Z"
   },
   {
    "duration": 44,
    "start_time": "2024-02-15T22:24:36.963Z"
   },
   {
    "duration": 205,
    "start_time": "2024-02-15T22:24:37.009Z"
   },
   {
    "duration": 6,
    "start_time": "2024-02-15T22:24:37.215Z"
   },
   {
    "duration": 7,
    "start_time": "2024-02-15T22:24:37.223Z"
   },
   {
    "duration": 12,
    "start_time": "2024-02-17T10:38:07.339Z"
   },
   {
    "duration": 438,
    "start_time": "2024-02-17T10:38:07.352Z"
   },
   {
    "duration": 182,
    "start_time": "2024-02-17T10:38:07.791Z"
   },
   {
    "duration": 20,
    "start_time": "2024-02-17T10:38:07.974Z"
   },
   {
    "duration": 216,
    "start_time": "2024-02-17T10:38:07.996Z"
   },
   {
    "duration": 180,
    "start_time": "2024-02-17T10:38:08.214Z"
   },
   {
    "duration": 99,
    "start_time": "2024-02-17T10:38:08.396Z"
   },
   {
    "duration": 127,
    "start_time": "2024-02-17T10:38:08.498Z"
   },
   {
    "duration": 4,
    "start_time": "2024-02-17T10:38:08.627Z"
   },
   {
    "duration": 46,
    "start_time": "2024-02-17T10:38:08.633Z"
   },
   {
    "duration": 1705,
    "start_time": "2024-02-17T11:09:22.005Z"
   },
   {
    "duration": 16,
    "start_time": "2024-02-17T11:10:11.114Z"
   },
   {
    "duration": 15,
    "start_time": "2024-02-17T11:13:17.385Z"
   },
   {
    "duration": 1694,
    "start_time": "2024-02-17T11:18:01.833Z"
   },
   {
    "duration": 14,
    "start_time": "2024-02-17T11:18:24.208Z"
   },
   {
    "duration": 17,
    "start_time": "2024-02-17T11:18:52.443Z"
   },
   {
    "duration": 13,
    "start_time": "2024-02-17T11:19:33.058Z"
   },
   {
    "duration": 13,
    "start_time": "2024-02-17T11:20:33.485Z"
   },
   {
    "duration": 14,
    "start_time": "2024-02-17T11:20:46.443Z"
   },
   {
    "duration": 13,
    "start_time": "2024-02-17T11:21:03.812Z"
   },
   {
    "duration": 3676,
    "start_time": "2024-02-17T11:23:47.474Z"
   },
   {
    "duration": 3563,
    "start_time": "2024-02-17T11:24:33.236Z"
   },
   {
    "duration": 1370,
    "start_time": "2024-02-17T11:28:55.066Z"
   },
   {
    "duration": 382,
    "start_time": "2024-02-17T11:28:56.437Z"
   },
   {
    "duration": 159,
    "start_time": "2024-02-17T11:28:56.821Z"
   },
   {
    "duration": 13,
    "start_time": "2024-02-17T11:28:56.981Z"
   },
   {
    "duration": 33,
    "start_time": "2024-02-17T11:28:56.996Z"
   },
   {
    "duration": 65,
    "start_time": "2024-02-17T11:28:57.030Z"
   },
   {
    "duration": 28,
    "start_time": "2024-02-17T11:28:57.096Z"
   },
   {
    "duration": 130,
    "start_time": "2024-02-17T11:28:57.195Z"
   },
   {
    "duration": 10,
    "start_time": "2024-02-17T11:28:57.326Z"
   },
   {
    "duration": 40,
    "start_time": "2024-02-17T11:28:57.338Z"
   },
   {
    "duration": 42,
    "start_time": "2024-02-17T11:28:57.380Z"
   },
   {
    "duration": 3584,
    "start_time": "2024-02-17T11:28:57.423Z"
   },
   {
    "duration": 1348,
    "start_time": "2024-02-17T11:32:06.658Z"
   },
   {
    "duration": 406,
    "start_time": "2024-02-17T11:32:08.008Z"
   },
   {
    "duration": 179,
    "start_time": "2024-02-17T11:32:08.416Z"
   },
   {
    "duration": 3,
    "start_time": "2024-02-17T11:32:08.596Z"
   },
   {
    "duration": 39,
    "start_time": "2024-02-17T11:32:08.601Z"
   },
   {
    "duration": 59,
    "start_time": "2024-02-17T11:32:08.642Z"
   },
   {
    "duration": 91,
    "start_time": "2024-02-17T11:32:08.703Z"
   },
   {
    "duration": 126,
    "start_time": "2024-02-17T11:32:08.796Z"
   },
   {
    "duration": 10,
    "start_time": "2024-02-17T11:32:08.923Z"
   },
   {
    "duration": 31,
    "start_time": "2024-02-17T11:32:08.936Z"
   },
   {
    "duration": 135,
    "start_time": "2024-02-17T11:32:08.969Z"
   },
   {
    "duration": 1390,
    "start_time": "2024-02-17T11:32:38.244Z"
   },
   {
    "duration": 435,
    "start_time": "2024-02-17T11:32:39.636Z"
   },
   {
    "duration": 173,
    "start_time": "2024-02-17T11:32:40.073Z"
   },
   {
    "duration": 3,
    "start_time": "2024-02-17T11:32:40.248Z"
   },
   {
    "duration": 50,
    "start_time": "2024-02-17T11:32:40.252Z"
   },
   {
    "duration": 47,
    "start_time": "2024-02-17T11:32:40.303Z"
   },
   {
    "duration": 48,
    "start_time": "2024-02-17T11:32:40.352Z"
   },
   {
    "duration": 213,
    "start_time": "2024-02-17T11:32:40.402Z"
   },
   {
    "duration": 11,
    "start_time": "2024-02-17T11:32:40.617Z"
   },
   {
    "duration": 20,
    "start_time": "2024-02-17T11:32:40.630Z"
   },
   {
    "duration": 29,
    "start_time": "2024-02-17T11:32:40.652Z"
   },
   {
    "duration": 3678,
    "start_time": "2024-02-17T11:32:40.684Z"
   },
   {
    "duration": 10,
    "start_time": "2024-02-17T11:36:01.650Z"
   },
   {
    "duration": 13,
    "start_time": "2024-02-17T11:36:28.405Z"
   },
   {
    "duration": 1371,
    "start_time": "2024-02-17T11:38:36.164Z"
   },
   {
    "duration": 395,
    "start_time": "2024-02-17T11:38:37.537Z"
   },
   {
    "duration": 166,
    "start_time": "2024-02-17T11:38:37.933Z"
   },
   {
    "duration": 3,
    "start_time": "2024-02-17T11:38:38.100Z"
   },
   {
    "duration": 36,
    "start_time": "2024-02-17T11:38:38.104Z"
   },
   {
    "duration": 58,
    "start_time": "2024-02-17T11:38:38.141Z"
   },
   {
    "duration": 96,
    "start_time": "2024-02-17T11:38:38.200Z"
   },
   {
    "duration": 124,
    "start_time": "2024-02-17T11:38:38.299Z"
   },
   {
    "duration": 6,
    "start_time": "2024-02-17T11:38:38.434Z"
   },
   {
    "duration": 23,
    "start_time": "2024-02-17T11:38:38.441Z"
   },
   {
    "duration": 28,
    "start_time": "2024-02-17T11:38:38.466Z"
   },
   {
    "duration": 3665,
    "start_time": "2024-02-17T11:38:38.496Z"
   },
   {
    "duration": 10,
    "start_time": "2024-02-17T11:38:42.162Z"
   },
   {
    "duration": 13,
    "start_time": "2024-02-17T11:38:51.551Z"
   },
   {
    "duration": 4,
    "start_time": "2024-02-17T11:44:02.110Z"
   },
   {
    "duration": 1288,
    "start_time": "2024-02-17T11:53:04.640Z"
   },
   {
    "duration": 398,
    "start_time": "2024-02-17T11:53:05.929Z"
   },
   {
    "duration": 173,
    "start_time": "2024-02-17T11:53:06.328Z"
   },
   {
    "duration": 3,
    "start_time": "2024-02-17T11:53:06.502Z"
   },
   {
    "duration": 40,
    "start_time": "2024-02-17T11:53:06.507Z"
   },
   {
    "duration": 57,
    "start_time": "2024-02-17T11:53:06.548Z"
   },
   {
    "duration": 88,
    "start_time": "2024-02-17T11:53:06.607Z"
   },
   {
    "duration": 125,
    "start_time": "2024-02-17T11:53:06.698Z"
   },
   {
    "duration": 17,
    "start_time": "2024-02-17T11:53:06.825Z"
   },
   {
    "duration": 42,
    "start_time": "2024-02-17T11:53:06.843Z"
   },
   {
    "duration": 69,
    "start_time": "2024-02-17T11:53:06.886Z"
   },
   {
    "duration": 100,
    "start_time": "2024-02-17T11:53:06.956Z"
   },
   {
    "duration": 0,
    "start_time": "2024-02-17T11:53:07.058Z"
   },
   {
    "duration": 3568,
    "start_time": "2024-02-17T11:53:21.595Z"
   },
   {
    "duration": 1358,
    "start_time": "2024-02-17T11:59:43.005Z"
   },
   {
    "duration": 401,
    "start_time": "2024-02-17T11:59:44.365Z"
   },
   {
    "duration": 175,
    "start_time": "2024-02-17T11:59:44.767Z"
   },
   {
    "duration": 3,
    "start_time": "2024-02-17T11:59:44.943Z"
   },
   {
    "duration": 62,
    "start_time": "2024-02-17T11:59:44.948Z"
   },
   {
    "duration": 49,
    "start_time": "2024-02-17T11:59:45.012Z"
   },
   {
    "duration": 36,
    "start_time": "2024-02-17T11:59:45.062Z"
   },
   {
    "duration": 219,
    "start_time": "2024-02-17T11:59:45.099Z"
   },
   {
    "duration": 16,
    "start_time": "2024-02-17T11:59:45.319Z"
   },
   {
    "duration": 17,
    "start_time": "2024-02-17T11:59:45.337Z"
   },
   {
    "duration": 3603,
    "start_time": "2024-02-17T11:59:45.355Z"
   },
   {
    "duration": 124,
    "start_time": "2024-02-17T11:59:48.959Z"
   },
   {
    "duration": 3623,
    "start_time": "2024-02-17T12:07:04.363Z"
   },
   {
    "duration": 5,
    "start_time": "2024-02-17T12:14:16.661Z"
   },
   {
    "duration": 6,
    "start_time": "2024-02-17T12:14:17.423Z"
   },
   {
    "duration": 5,
    "start_time": "2024-02-17T12:14:44.799Z"
   },
   {
    "duration": 1311,
    "start_time": "2024-02-17T12:18:22.819Z"
   },
   {
    "duration": 389,
    "start_time": "2024-02-17T12:18:24.132Z"
   },
   {
    "duration": 173,
    "start_time": "2024-02-17T12:18:24.522Z"
   },
   {
    "duration": 3,
    "start_time": "2024-02-17T12:18:24.696Z"
   },
   {
    "duration": 45,
    "start_time": "2024-02-17T12:18:24.700Z"
   },
   {
    "duration": 61,
    "start_time": "2024-02-17T12:18:24.747Z"
   },
   {
    "duration": 87,
    "start_time": "2024-02-17T12:18:24.809Z"
   },
   {
    "duration": 125,
    "start_time": "2024-02-17T12:18:24.897Z"
   },
   {
    "duration": 4,
    "start_time": "2024-02-17T12:18:25.024Z"
   },
   {
    "duration": 11,
    "start_time": "2024-02-17T12:18:25.030Z"
   },
   {
    "duration": 3527,
    "start_time": "2024-02-17T12:18:25.043Z"
   },
   {
    "duration": 5,
    "start_time": "2024-02-17T12:19:45.630Z"
   },
   {
    "duration": 16,
    "start_time": "2024-02-17T12:22:12.631Z"
   },
   {
    "duration": 1358,
    "start_time": "2024-02-17T12:32:33.586Z"
   },
   {
    "duration": 403,
    "start_time": "2024-02-17T12:32:34.946Z"
   },
   {
    "duration": 181,
    "start_time": "2024-02-17T12:32:35.350Z"
   },
   {
    "duration": 3,
    "start_time": "2024-02-17T12:32:35.532Z"
   },
   {
    "duration": 51,
    "start_time": "2024-02-17T12:32:35.537Z"
   },
   {
    "duration": 44,
    "start_time": "2024-02-17T12:32:35.590Z"
   },
   {
    "duration": 66,
    "start_time": "2024-02-17T12:32:35.635Z"
   },
   {
    "duration": 118,
    "start_time": "2024-02-17T12:32:35.703Z"
   },
   {
    "duration": 9,
    "start_time": "2024-02-17T12:32:35.823Z"
   },
   {
    "duration": 29,
    "start_time": "2024-02-17T12:32:35.834Z"
   },
   {
    "duration": 30,
    "start_time": "2024-02-17T12:32:35.864Z"
   },
   {
    "duration": 3496,
    "start_time": "2024-02-17T12:32:35.896Z"
   },
   {
    "duration": 1408,
    "start_time": "2024-02-18T17:29:49.963Z"
   },
   {
    "duration": 732,
    "start_time": "2024-02-18T17:29:51.372Z"
   },
   {
    "duration": 152,
    "start_time": "2024-02-18T17:29:52.105Z"
   },
   {
    "duration": 2,
    "start_time": "2024-02-18T17:29:52.259Z"
   },
   {
    "duration": 34,
    "start_time": "2024-02-18T17:29:52.263Z"
   },
   {
    "duration": 58,
    "start_time": "2024-02-18T17:29:52.299Z"
   },
   {
    "duration": 92,
    "start_time": "2024-02-18T17:29:52.359Z"
   },
   {
    "duration": 204,
    "start_time": "2024-02-18T17:29:52.455Z"
   },
   {
    "duration": 4,
    "start_time": "2024-02-18T17:29:52.660Z"
   },
   {
    "duration": 26,
    "start_time": "2024-02-18T17:29:52.666Z"
   },
   {
    "duration": 30,
    "start_time": "2024-02-18T17:29:52.693Z"
   },
   {
    "duration": 112,
    "start_time": "2024-02-18T17:29:52.724Z"
   },
   {
    "duration": 1254,
    "start_time": "2024-02-18T17:30:59.407Z"
   },
   {
    "duration": 370,
    "start_time": "2024-02-18T17:31:00.663Z"
   },
   {
    "duration": 192,
    "start_time": "2024-02-18T17:31:01.035Z"
   },
   {
    "duration": 3,
    "start_time": "2024-02-18T17:31:01.245Z"
   },
   {
    "duration": 54,
    "start_time": "2024-02-18T17:31:01.249Z"
   },
   {
    "duration": 131,
    "start_time": "2024-02-18T17:31:01.304Z"
   },
   {
    "duration": 105,
    "start_time": "2024-02-18T17:31:01.437Z"
   },
   {
    "duration": 257,
    "start_time": "2024-02-18T17:31:01.544Z"
   },
   {
    "duration": 86,
    "start_time": "2024-02-18T17:31:01.803Z"
   },
   {
    "duration": 217,
    "start_time": "2024-02-18T17:31:01.891Z"
   },
   {
    "duration": 177,
    "start_time": "2024-02-18T17:31:02.109Z"
   },
   {
    "duration": 3439,
    "start_time": "2024-02-18T17:31:02.288Z"
   }
  ],
  "kernelspec": {
   "display_name": "Python 3 (ipykernel)",
   "language": "python",
   "name": "python3"
  },
  "language_info": {
   "codemirror_mode": {
    "name": "ipython",
    "version": 3
   },
   "file_extension": ".py",
   "mimetype": "text/x-python",
   "name": "python",
   "nbconvert_exporter": "python",
   "pygments_lexer": "ipython3",
   "version": "3.12.3"
  },
  "toc": {
   "base_numbering": 1,
   "nav_menu": {
    "height": "123px",
    "width": "393px"
   },
   "number_sections": true,
   "sideBar": true,
   "skip_h1_title": true,
   "title_cell": "Table of Contents",
   "title_sidebar": "Contents",
   "toc_cell": false,
   "toc_position": {},
   "toc_section_display": true,
   "toc_window_display": false
  }
 },
 "nbformat": 4,
 "nbformat_minor": 2
}
