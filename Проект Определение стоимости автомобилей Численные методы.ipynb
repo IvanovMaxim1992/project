{
 "cells": [
  {
   "cell_type": "markdown",
   "metadata": {},
   "source": [
    "# Определение стоимости автомобилей"
   ]
  },
  {
   "cell_type": "markdown",
   "metadata": {},
   "source": [
    "Сервис по продаже автомобилей с пробегом «Не бит, не крашен» разрабатывает приложение для привлечения новых клиентов. В нём можно быстро узнать рыночную стоимость своего автомобиля. В вашем распоряжении исторические данные: технические характеристики, комплектации и цены автомобилей. Вам нужно построить модель для определения стоимости. \n",
    "\n",
    "Заказчику важны:\n",
    "\n",
    "- качество предсказания;\n",
    "- скорость предсказания;\n",
    "- время обучения."
   ]
  },
  {
   "cell_type": "markdown",
   "metadata": {},
   "source": [
    "Признаки\n",
    "\n",
    "DateCrawled — дата скачивания анкеты из базы\n",
    "\n",
    "VehicleType — тип автомобильного кузова\n",
    "\n",
    "RegistrationYear — год регистрации автомобиля\n",
    "\n",
    "Gearbox — тип коробки передач\n",
    "\n",
    "Power — мощность (л. с.)\n",
    "\n",
    "Model — модель автомобиля\n",
    "\n",
    "Kilometer — пробег (км)\n",
    "\n",
    "RegistrationMonth — месяц регистрации автомобиля\n",
    "\n",
    "FuelType — тип топлива\n",
    "\n",
    "Brand — марка автомобиля\n",
    "\n",
    "Repaired — была машина в ремонте или нет\n",
    "\n",
    "DateCreated — дата создания анкеты\n",
    "\n",
    "NumberOfPictures — количество фотографий автомобиля\n",
    "\n",
    "PostalCode — почтовый индекс владельца анкеты (пользователя)\n",
    "\n",
    "LastSeen — дата последней активности пользователя\n",
    "\n",
    "Целевой признак\n",
    "\n",
    "Price — цена (евро)"
   ]
  },
  {
   "cell_type": "markdown",
   "metadata": {},
   "source": [
    "## Анализ данных"
   ]
  },
  {
   "cell_type": "code",
   "execution_count": 1,
   "metadata": {
    "metadata": {}
   },
   "outputs": [],
   "source": [
    "import pandas as pd\n",
    "import numpy as np\n",
    "import seaborn as sns\n",
    "import matplotlib.pyplot as plt\n",
    "\n",
    "from datetime import datetime\n",
    "from fuzzywuzzy import process\n",
    "\n",
    "import phik\n",
    "from phik.report import plot_correlation_matrix\n",
    "\n",
    "from sklearn.model_selection import train_test_split\n",
    "\n",
    "from sklearn.compose import ColumnTransformer\n",
    "from sklearn.pipeline import Pipeline\n",
    "from sklearn.impute import SimpleImputer\n",
    "from sklearn.preprocessing import OneHotEncoder, PolynomialFeatures, StandardScaler, RobustScaler, MinMaxScaler, Normalizer, MaxAbsScaler \n",
    "\n",
    "import time\n",
    "\n",
    "from sklearn.linear_model import LinearRegression\n",
    "from lightgbm import LGBMRegressor\n",
    "from sklearn.metrics import make_scorer, mean_squared_error\n",
    "from sklearn.model_selection import GridSearchCV\n",
    "\n",
    "from sklearn.dummy import DummyRegressor\n"
   ]
  },
  {
   "cell_type": "code",
   "execution_count": 2,
   "metadata": {
    "metadata": {}
   },
   "outputs": [
    {
     "name": "stdout",
     "output_type": "stream",
     "text": [
      "Данные загружены из второго файла.\n"
     ]
    },
    {
     "data": {
      "text/html": [
       "<div>\n",
       "<style scoped>\n",
       "    .dataframe tbody tr th:only-of-type {\n",
       "        vertical-align: middle;\n",
       "    }\n",
       "\n",
       "    .dataframe tbody tr th {\n",
       "        vertical-align: top;\n",
       "    }\n",
       "\n",
       "    .dataframe thead th {\n",
       "        text-align: right;\n",
       "    }\n",
       "</style>\n",
       "<table border=\"1\" class=\"dataframe\">\n",
       "  <thead>\n",
       "    <tr style=\"text-align: right;\">\n",
       "      <th></th>\n",
       "      <th>DateCrawled</th>\n",
       "      <th>Price</th>\n",
       "      <th>VehicleType</th>\n",
       "      <th>RegistrationYear</th>\n",
       "      <th>Gearbox</th>\n",
       "      <th>Power</th>\n",
       "      <th>Model</th>\n",
       "      <th>Kilometer</th>\n",
       "      <th>RegistrationMonth</th>\n",
       "      <th>FuelType</th>\n",
       "      <th>Brand</th>\n",
       "      <th>Repaired</th>\n",
       "      <th>DateCreated</th>\n",
       "      <th>NumberOfPictures</th>\n",
       "      <th>PostalCode</th>\n",
       "      <th>LastSeen</th>\n",
       "    </tr>\n",
       "  </thead>\n",
       "  <tbody>\n",
       "    <tr>\n",
       "      <th>0</th>\n",
       "      <td>2016-03-24 11:52:17</td>\n",
       "      <td>480</td>\n",
       "      <td>NaN</td>\n",
       "      <td>1993</td>\n",
       "      <td>manual</td>\n",
       "      <td>0</td>\n",
       "      <td>golf</td>\n",
       "      <td>150000</td>\n",
       "      <td>0</td>\n",
       "      <td>petrol</td>\n",
       "      <td>volkswagen</td>\n",
       "      <td>NaN</td>\n",
       "      <td>2016-03-24 00:00:00</td>\n",
       "      <td>0</td>\n",
       "      <td>70435</td>\n",
       "      <td>2016-04-07 03:16:57</td>\n",
       "    </tr>\n",
       "    <tr>\n",
       "      <th>1</th>\n",
       "      <td>2016-03-24 10:58:45</td>\n",
       "      <td>18300</td>\n",
       "      <td>coupe</td>\n",
       "      <td>2011</td>\n",
       "      <td>manual</td>\n",
       "      <td>190</td>\n",
       "      <td>NaN</td>\n",
       "      <td>125000</td>\n",
       "      <td>5</td>\n",
       "      <td>gasoline</td>\n",
       "      <td>audi</td>\n",
       "      <td>yes</td>\n",
       "      <td>2016-03-24 00:00:00</td>\n",
       "      <td>0</td>\n",
       "      <td>66954</td>\n",
       "      <td>2016-04-07 01:46:50</td>\n",
       "    </tr>\n",
       "    <tr>\n",
       "      <th>2</th>\n",
       "      <td>2016-03-14 12:52:21</td>\n",
       "      <td>9800</td>\n",
       "      <td>suv</td>\n",
       "      <td>2004</td>\n",
       "      <td>auto</td>\n",
       "      <td>163</td>\n",
       "      <td>grand</td>\n",
       "      <td>125000</td>\n",
       "      <td>8</td>\n",
       "      <td>gasoline</td>\n",
       "      <td>jeep</td>\n",
       "      <td>NaN</td>\n",
       "      <td>2016-03-14 00:00:00</td>\n",
       "      <td>0</td>\n",
       "      <td>90480</td>\n",
       "      <td>2016-04-05 12:47:46</td>\n",
       "    </tr>\n",
       "    <tr>\n",
       "      <th>3</th>\n",
       "      <td>2016-03-17 16:54:04</td>\n",
       "      <td>1500</td>\n",
       "      <td>small</td>\n",
       "      <td>2001</td>\n",
       "      <td>manual</td>\n",
       "      <td>75</td>\n",
       "      <td>golf</td>\n",
       "      <td>150000</td>\n",
       "      <td>6</td>\n",
       "      <td>petrol</td>\n",
       "      <td>volkswagen</td>\n",
       "      <td>no</td>\n",
       "      <td>2016-03-17 00:00:00</td>\n",
       "      <td>0</td>\n",
       "      <td>91074</td>\n",
       "      <td>2016-03-17 17:40:17</td>\n",
       "    </tr>\n",
       "    <tr>\n",
       "      <th>4</th>\n",
       "      <td>2016-03-31 17:25:20</td>\n",
       "      <td>3600</td>\n",
       "      <td>small</td>\n",
       "      <td>2008</td>\n",
       "      <td>manual</td>\n",
       "      <td>69</td>\n",
       "      <td>fabia</td>\n",
       "      <td>90000</td>\n",
       "      <td>7</td>\n",
       "      <td>gasoline</td>\n",
       "      <td>skoda</td>\n",
       "      <td>no</td>\n",
       "      <td>2016-03-31 00:00:00</td>\n",
       "      <td>0</td>\n",
       "      <td>60437</td>\n",
       "      <td>2016-04-06 10:17:21</td>\n",
       "    </tr>\n",
       "  </tbody>\n",
       "</table>\n",
       "</div>"
      ],
      "text/plain": [
       "           DateCrawled  Price VehicleType  RegistrationYear Gearbox  Power  \\\n",
       "0  2016-03-24 11:52:17    480         NaN              1993  manual      0   \n",
       "1  2016-03-24 10:58:45  18300       coupe              2011  manual    190   \n",
       "2  2016-03-14 12:52:21   9800         suv              2004    auto    163   \n",
       "3  2016-03-17 16:54:04   1500       small              2001  manual     75   \n",
       "4  2016-03-31 17:25:20   3600       small              2008  manual     69   \n",
       "\n",
       "   Model  Kilometer  RegistrationMonth  FuelType       Brand Repaired  \\\n",
       "0   golf     150000                  0    petrol  volkswagen      NaN   \n",
       "1    NaN     125000                  5  gasoline        audi      yes   \n",
       "2  grand     125000                  8  gasoline        jeep      NaN   \n",
       "3   golf     150000                  6    petrol  volkswagen       no   \n",
       "4  fabia      90000                  7  gasoline       skoda       no   \n",
       "\n",
       "           DateCreated  NumberOfPictures  PostalCode             LastSeen  \n",
       "0  2016-03-24 00:00:00                 0       70435  2016-04-07 03:16:57  \n",
       "1  2016-03-24 00:00:00                 0       66954  2016-04-07 01:46:50  \n",
       "2  2016-03-14 00:00:00                 0       90480  2016-04-05 12:47:46  \n",
       "3  2016-03-17 00:00:00                 0       91074  2016-03-17 17:40:17  \n",
       "4  2016-03-31 00:00:00                 0       60437  2016-04-06 10:17:21  "
      ]
     },
     "metadata": {},
     "output_type": "display_data"
    }
   ],
   "source": [
    "# Пути к файлам\n",
    "file_path1 = \"/datasets/autos.csv\"\n",
    "file_path2 = \"datasets\\\\autos.csv\"\n",
    "\n",
    "# Попытка загрузить данные из первого файла\n",
    "try:\n",
    "    df = pd.read_csv(file_path1)\n",
    "    print(\"Данные загружены из первого файла.\")\n",
    "except:\n",
    "    # Если чтение первого файла не удалось, попробуйте загрузить данные из второго файла\n",
    "    try:\n",
    "        df = pd.read_csv(file_path2)\n",
    "        print(\"Данные загружены из второго файла.\")\n",
    "    except:\n",
    "        print(\"Не удалось загрузить данные из обоих файлов.\")\n",
    "\n",
    "# Просмотр первых нескольких строк данных\n",
    "display(df.head())\n"
   ]
  },
  {
   "cell_type": "code",
   "execution_count": 3,
   "metadata": {
    "metadata": {}
   },
   "outputs": [
    {
     "name": "stdout",
     "output_type": "stream",
     "text": [
      "<class 'pandas.core.frame.DataFrame'>\n",
      "RangeIndex: 354369 entries, 0 to 354368\n",
      "Data columns (total 16 columns):\n",
      " #   Column             Non-Null Count   Dtype \n",
      "---  ------             --------------   ----- \n",
      " 0   DateCrawled        354369 non-null  object\n",
      " 1   Price              354369 non-null  int64 \n",
      " 2   VehicleType        316879 non-null  object\n",
      " 3   RegistrationYear   354369 non-null  int64 \n",
      " 4   Gearbox            334536 non-null  object\n",
      " 5   Power              354369 non-null  int64 \n",
      " 6   Model              334664 non-null  object\n",
      " 7   Kilometer          354369 non-null  int64 \n",
      " 8   RegistrationMonth  354369 non-null  int64 \n",
      " 9   FuelType           321474 non-null  object\n",
      " 10  Brand              354369 non-null  object\n",
      " 11  Repaired           283215 non-null  object\n",
      " 12  DateCreated        354369 non-null  object\n",
      " 13  NumberOfPictures   354369 non-null  int64 \n",
      " 14  PostalCode         354369 non-null  int64 \n",
      " 15  LastSeen           354369 non-null  object\n",
      "dtypes: int64(7), object(9)\n",
      "memory usage: 43.3+ MB\n"
     ]
    }
   ],
   "source": [
    "df.info()"
   ]
  },
  {
   "cell_type": "code",
   "execution_count": 4,
   "metadata": {
    "metadata": {}
   },
   "outputs": [
    {
     "data": {
      "text/html": [
       "<div>\n",
       "<style scoped>\n",
       "    .dataframe tbody tr th:only-of-type {\n",
       "        vertical-align: middle;\n",
       "    }\n",
       "\n",
       "    .dataframe tbody tr th {\n",
       "        vertical-align: top;\n",
       "    }\n",
       "\n",
       "    .dataframe thead th {\n",
       "        text-align: right;\n",
       "    }\n",
       "</style>\n",
       "<table border=\"1\" class=\"dataframe\">\n",
       "  <thead>\n",
       "    <tr style=\"text-align: right;\">\n",
       "      <th></th>\n",
       "      <th>Price</th>\n",
       "      <th>RegistrationYear</th>\n",
       "      <th>Power</th>\n",
       "      <th>Kilometer</th>\n",
       "      <th>RegistrationMonth</th>\n",
       "      <th>NumberOfPictures</th>\n",
       "      <th>PostalCode</th>\n",
       "    </tr>\n",
       "  </thead>\n",
       "  <tbody>\n",
       "    <tr>\n",
       "      <th>count</th>\n",
       "      <td>354369.000000</td>\n",
       "      <td>354369.000000</td>\n",
       "      <td>354369.000000</td>\n",
       "      <td>354369.000000</td>\n",
       "      <td>354369.000000</td>\n",
       "      <td>354369.0</td>\n",
       "      <td>354369.000000</td>\n",
       "    </tr>\n",
       "    <tr>\n",
       "      <th>mean</th>\n",
       "      <td>4416.656776</td>\n",
       "      <td>2004.234448</td>\n",
       "      <td>110.094337</td>\n",
       "      <td>128211.172535</td>\n",
       "      <td>5.714645</td>\n",
       "      <td>0.0</td>\n",
       "      <td>50508.689087</td>\n",
       "    </tr>\n",
       "    <tr>\n",
       "      <th>std</th>\n",
       "      <td>4514.158514</td>\n",
       "      <td>90.227958</td>\n",
       "      <td>189.850405</td>\n",
       "      <td>37905.341530</td>\n",
       "      <td>3.726421</td>\n",
       "      <td>0.0</td>\n",
       "      <td>25783.096248</td>\n",
       "    </tr>\n",
       "    <tr>\n",
       "      <th>min</th>\n",
       "      <td>0.000000</td>\n",
       "      <td>1000.000000</td>\n",
       "      <td>0.000000</td>\n",
       "      <td>5000.000000</td>\n",
       "      <td>0.000000</td>\n",
       "      <td>0.0</td>\n",
       "      <td>1067.000000</td>\n",
       "    </tr>\n",
       "    <tr>\n",
       "      <th>25%</th>\n",
       "      <td>1050.000000</td>\n",
       "      <td>1999.000000</td>\n",
       "      <td>69.000000</td>\n",
       "      <td>125000.000000</td>\n",
       "      <td>3.000000</td>\n",
       "      <td>0.0</td>\n",
       "      <td>30165.000000</td>\n",
       "    </tr>\n",
       "    <tr>\n",
       "      <th>50%</th>\n",
       "      <td>2700.000000</td>\n",
       "      <td>2003.000000</td>\n",
       "      <td>105.000000</td>\n",
       "      <td>150000.000000</td>\n",
       "      <td>6.000000</td>\n",
       "      <td>0.0</td>\n",
       "      <td>49413.000000</td>\n",
       "    </tr>\n",
       "    <tr>\n",
       "      <th>75%</th>\n",
       "      <td>6400.000000</td>\n",
       "      <td>2008.000000</td>\n",
       "      <td>143.000000</td>\n",
       "      <td>150000.000000</td>\n",
       "      <td>9.000000</td>\n",
       "      <td>0.0</td>\n",
       "      <td>71083.000000</td>\n",
       "    </tr>\n",
       "    <tr>\n",
       "      <th>max</th>\n",
       "      <td>20000.000000</td>\n",
       "      <td>9999.000000</td>\n",
       "      <td>20000.000000</td>\n",
       "      <td>150000.000000</td>\n",
       "      <td>12.000000</td>\n",
       "      <td>0.0</td>\n",
       "      <td>99998.000000</td>\n",
       "    </tr>\n",
       "  </tbody>\n",
       "</table>\n",
       "</div>"
      ],
      "text/plain": [
       "               Price  RegistrationYear          Power      Kilometer  \\\n",
       "count  354369.000000     354369.000000  354369.000000  354369.000000   \n",
       "mean     4416.656776       2004.234448     110.094337  128211.172535   \n",
       "std      4514.158514         90.227958     189.850405   37905.341530   \n",
       "min         0.000000       1000.000000       0.000000    5000.000000   \n",
       "25%      1050.000000       1999.000000      69.000000  125000.000000   \n",
       "50%      2700.000000       2003.000000     105.000000  150000.000000   \n",
       "75%      6400.000000       2008.000000     143.000000  150000.000000   \n",
       "max     20000.000000       9999.000000   20000.000000  150000.000000   \n",
       "\n",
       "       RegistrationMonth  NumberOfPictures     PostalCode  \n",
       "count      354369.000000          354369.0  354369.000000  \n",
       "mean            5.714645               0.0   50508.689087  \n",
       "std             3.726421               0.0   25783.096248  \n",
       "min             0.000000               0.0    1067.000000  \n",
       "25%             3.000000               0.0   30165.000000  \n",
       "50%             6.000000               0.0   49413.000000  \n",
       "75%             9.000000               0.0   71083.000000  \n",
       "max            12.000000               0.0   99998.000000  "
      ]
     },
     "execution_count": 4,
     "metadata": {},
     "output_type": "execute_result"
    }
   ],
   "source": [
    "df.describe()"
   ]
  },
  {
   "cell_type": "markdown",
   "metadata": {},
   "source": [
    "На основе предоставленных данных и их описания, можно сделать следующие выводы и определить дальнейшие шаги для подготовки данных к моделированию:\n",
    "\n",
    "1. **Обработка пропусков**: В столбцах `VehicleType`, `Gearbox`, `Model`, `FuelType` и `Repaired` присутствуют пропущенные значения. Необходимо определить стратегию обработки этих пропусков, например, заполнение медианными значениями, наиболее частыми значениями или использование модели для предсказания отсутствующих значений.\n",
    "\n",
    "2. **Удаление дубликатов**: Необходимо проверить данные на наличие дубликатов и удалить их, чтобы избежать переобучения модели.\n",
    "\n",
    "3. **Анализ аномалий**: Следует проверить аномальные значения в столбцах `RegistrationYear` и `Power`, где максимальные значения кажутся нереалистичными (9999 и 20000 соответственно). Это может указывать на ошибки ввода данных.\n",
    "\n",
    "4. **Преобразование типов данных**: Столбцы `DateCrawled`, `DateCreated` и `LastSeen` следует преобразовать в формат даты и времени для возможности проведения временного анализа.\n",
    "\n",
    "5. **Удаление столбца `NumberOfPictures`**: Так как все значения в этом столбце равны нулю, его можно удалить, поскольку он не несет полезной информации для моделирования.\n",
    "\n",
    "6. **Инжиниринг признаков**: Можно рассмотреть создание новых признаков, таких как возраст автомобиля на момент продажи, который может быть рассчитан на основе `RegistrationYear` и `DateCreated`.\n",
    "\n",
    "7. **Разделение данных**: Для валидации модели данные следует разделить на обучающую и тестовую выборки.\n",
    "\n",
    "8. **Кодирование категориальных переменных**: Категориальные признаки, такие как `VehicleType`, `Gearbox`, `Model`, `FuelType`, `Brand` и `Repaired`, необходимо закодировать перед обучением модели, используя подходы one-hot encoding или label encoding.\n",
    "\n",
    "9. **Масштабирование числовых признаков**: Числовые признаки, особенно `Power` и `Kilometer`, могут потребовать масштабирования для улучшения производительности модели.\n",
    "\n",
    "10. **Выбор модели**: Важно выбрать модель, которая будет удовлетворять требованиям заказчика по качеству предсказания, скорости предсказания и времени обучения. Можно рассмотреть линейную регрессию, случайный лес и градиентный бустинг.\n",
    "\n",
    "11. **Оценка модели**: После обучения модели следует провести кросс-валидацию и оценить её производительность с помощью метрик, таких как RMSE (Root Mean Square Error).\n",
    "\n",
    "Эти шаги помогут обеспечить качественную подготовку данных для построения эффективной модели определения стоимости автомобилей."
   ]
  },
  {
   "cell_type": "markdown",
   "metadata": {},
   "source": [
    "#### Предобработка данных"
   ]
  },
  {
   "cell_type": "code",
   "execution_count": 5,
   "metadata": {
    "metadata": {}
   },
   "outputs": [],
   "source": [
    "# Преобразование столбцов DateCrawled, DateCreated и LastSeen в формат даты и времени\n",
    "df['DateCrawled'] = pd.to_datetime(df['DateCrawled'])\n",
    "df['DateCreated'] = pd.to_datetime(df['DateCreated'])\n",
    "df['LastSeen'] = pd.to_datetime(df['LastSeen'])\n",
    "\n",
    "# Преобразование столбцов 'RegistrationYear' и 'RegistrationMonth' в строки\n",
    "df['RegistrationYear'] = df['RegistrationYear'].astype(str)\n",
    "df['RegistrationMonth'] = df['RegistrationMonth'].astype(str)\n",
    "\n",
    "# Замена '0' на '1' в 'RegistrationMonth'\n",
    "df['RegistrationMonth'] = df['RegistrationMonth'].replace('0', '1')\n",
    "\n",
    "# Добавление нуля в начале однозначных чисел в 'RegistrationMonth'\n",
    "df['RegistrationMonth'] = df['RegistrationMonth'].apply(lambda x: x.zfill(2))\n",
    "\n",
    "# Теперь преобразуем 'RegistrationYear' в datetime\n",
    "df = df[(df['RegistrationYear'].astype(int) >= 1678) & (df['RegistrationYear'].astype(int) <= 2262)]\n",
    "\n",
    "# Создание нового столбца 'Registration' путем объединения 'RegistrationYear' и 'RegistrationMonth'\n",
    "df['Registration'] = pd.to_datetime(df['RegistrationYear'] + '-' + df['RegistrationMonth'] + '-01')\n",
    "\n",
    "# Удаление оригинальных столбцов 'RegistrationYear' и 'RegistrationMonth'\n",
    "df = df.drop(['RegistrationYear', 'RegistrationMonth'], axis=1)\n"
   ]
  },
  {
   "cell_type": "code",
   "execution_count": 6,
   "metadata": {
    "metadata": {}
   },
   "outputs": [
    {
     "data": {
      "text/html": [
       "<div>\n",
       "<style scoped>\n",
       "    .dataframe tbody tr th:only-of-type {\n",
       "        vertical-align: middle;\n",
       "    }\n",
       "\n",
       "    .dataframe tbody tr th {\n",
       "        vertical-align: top;\n",
       "    }\n",
       "\n",
       "    .dataframe thead th {\n",
       "        text-align: right;\n",
       "    }\n",
       "</style>\n",
       "<table border=\"1\" class=\"dataframe\">\n",
       "  <thead>\n",
       "    <tr style=\"text-align: right;\">\n",
       "      <th></th>\n",
       "      <th>DateCrawled</th>\n",
       "      <th>Price</th>\n",
       "      <th>VehicleType</th>\n",
       "      <th>Gearbox</th>\n",
       "      <th>Power</th>\n",
       "      <th>Model</th>\n",
       "      <th>Kilometer</th>\n",
       "      <th>FuelType</th>\n",
       "      <th>Brand</th>\n",
       "      <th>Repaired</th>\n",
       "      <th>DateCreated</th>\n",
       "      <th>NumberOfPictures</th>\n",
       "      <th>PostalCode</th>\n",
       "      <th>LastSeen</th>\n",
       "      <th>Registration</th>\n",
       "    </tr>\n",
       "  </thead>\n",
       "  <tbody>\n",
       "    <tr>\n",
       "      <th>0</th>\n",
       "      <td>2016-03-24 11:52:17</td>\n",
       "      <td>480</td>\n",
       "      <td>NaN</td>\n",
       "      <td>manual</td>\n",
       "      <td>0</td>\n",
       "      <td>golf</td>\n",
       "      <td>150000</td>\n",
       "      <td>petrol</td>\n",
       "      <td>volkswagen</td>\n",
       "      <td>NaN</td>\n",
       "      <td>2016-03-24</td>\n",
       "      <td>0</td>\n",
       "      <td>70435</td>\n",
       "      <td>2016-04-07 03:16:57</td>\n",
       "      <td>1993-01-01</td>\n",
       "    </tr>\n",
       "    <tr>\n",
       "      <th>1</th>\n",
       "      <td>2016-03-24 10:58:45</td>\n",
       "      <td>18300</td>\n",
       "      <td>coupe</td>\n",
       "      <td>manual</td>\n",
       "      <td>190</td>\n",
       "      <td>NaN</td>\n",
       "      <td>125000</td>\n",
       "      <td>gasoline</td>\n",
       "      <td>audi</td>\n",
       "      <td>yes</td>\n",
       "      <td>2016-03-24</td>\n",
       "      <td>0</td>\n",
       "      <td>66954</td>\n",
       "      <td>2016-04-07 01:46:50</td>\n",
       "      <td>2011-05-01</td>\n",
       "    </tr>\n",
       "    <tr>\n",
       "      <th>2</th>\n",
       "      <td>2016-03-14 12:52:21</td>\n",
       "      <td>9800</td>\n",
       "      <td>suv</td>\n",
       "      <td>auto</td>\n",
       "      <td>163</td>\n",
       "      <td>grand</td>\n",
       "      <td>125000</td>\n",
       "      <td>gasoline</td>\n",
       "      <td>jeep</td>\n",
       "      <td>NaN</td>\n",
       "      <td>2016-03-14</td>\n",
       "      <td>0</td>\n",
       "      <td>90480</td>\n",
       "      <td>2016-04-05 12:47:46</td>\n",
       "      <td>2004-08-01</td>\n",
       "    </tr>\n",
       "    <tr>\n",
       "      <th>3</th>\n",
       "      <td>2016-03-17 16:54:04</td>\n",
       "      <td>1500</td>\n",
       "      <td>small</td>\n",
       "      <td>manual</td>\n",
       "      <td>75</td>\n",
       "      <td>golf</td>\n",
       "      <td>150000</td>\n",
       "      <td>petrol</td>\n",
       "      <td>volkswagen</td>\n",
       "      <td>no</td>\n",
       "      <td>2016-03-17</td>\n",
       "      <td>0</td>\n",
       "      <td>91074</td>\n",
       "      <td>2016-03-17 17:40:17</td>\n",
       "      <td>2001-06-01</td>\n",
       "    </tr>\n",
       "    <tr>\n",
       "      <th>4</th>\n",
       "      <td>2016-03-31 17:25:20</td>\n",
       "      <td>3600</td>\n",
       "      <td>small</td>\n",
       "      <td>manual</td>\n",
       "      <td>69</td>\n",
       "      <td>fabia</td>\n",
       "      <td>90000</td>\n",
       "      <td>gasoline</td>\n",
       "      <td>skoda</td>\n",
       "      <td>no</td>\n",
       "      <td>2016-03-31</td>\n",
       "      <td>0</td>\n",
       "      <td>60437</td>\n",
       "      <td>2016-04-06 10:17:21</td>\n",
       "      <td>2008-07-01</td>\n",
       "    </tr>\n",
       "    <tr>\n",
       "      <th>...</th>\n",
       "      <td>...</td>\n",
       "      <td>...</td>\n",
       "      <td>...</td>\n",
       "      <td>...</td>\n",
       "      <td>...</td>\n",
       "      <td>...</td>\n",
       "      <td>...</td>\n",
       "      <td>...</td>\n",
       "      <td>...</td>\n",
       "      <td>...</td>\n",
       "      <td>...</td>\n",
       "      <td>...</td>\n",
       "      <td>...</td>\n",
       "      <td>...</td>\n",
       "      <td>...</td>\n",
       "    </tr>\n",
       "    <tr>\n",
       "      <th>354364</th>\n",
       "      <td>2016-03-21 09:50:58</td>\n",
       "      <td>0</td>\n",
       "      <td>NaN</td>\n",
       "      <td>manual</td>\n",
       "      <td>0</td>\n",
       "      <td>colt</td>\n",
       "      <td>150000</td>\n",
       "      <td>petrol</td>\n",
       "      <td>mitsubishi</td>\n",
       "      <td>yes</td>\n",
       "      <td>2016-03-21</td>\n",
       "      <td>0</td>\n",
       "      <td>2694</td>\n",
       "      <td>2016-03-21 10:42:49</td>\n",
       "      <td>2005-07-01</td>\n",
       "    </tr>\n",
       "    <tr>\n",
       "      <th>354365</th>\n",
       "      <td>2016-03-14 17:48:27</td>\n",
       "      <td>2200</td>\n",
       "      <td>NaN</td>\n",
       "      <td>NaN</td>\n",
       "      <td>0</td>\n",
       "      <td>NaN</td>\n",
       "      <td>20000</td>\n",
       "      <td>NaN</td>\n",
       "      <td>sonstige_autos</td>\n",
       "      <td>NaN</td>\n",
       "      <td>2016-03-14</td>\n",
       "      <td>0</td>\n",
       "      <td>39576</td>\n",
       "      <td>2016-04-06 00:46:52</td>\n",
       "      <td>2005-01-01</td>\n",
       "    </tr>\n",
       "    <tr>\n",
       "      <th>354366</th>\n",
       "      <td>2016-03-05 19:56:21</td>\n",
       "      <td>1199</td>\n",
       "      <td>convertible</td>\n",
       "      <td>auto</td>\n",
       "      <td>101</td>\n",
       "      <td>fortwo</td>\n",
       "      <td>125000</td>\n",
       "      <td>petrol</td>\n",
       "      <td>smart</td>\n",
       "      <td>no</td>\n",
       "      <td>2016-03-05</td>\n",
       "      <td>0</td>\n",
       "      <td>26135</td>\n",
       "      <td>2016-03-11 18:17:12</td>\n",
       "      <td>2000-03-01</td>\n",
       "    </tr>\n",
       "    <tr>\n",
       "      <th>354367</th>\n",
       "      <td>2016-03-19 18:57:12</td>\n",
       "      <td>9200</td>\n",
       "      <td>bus</td>\n",
       "      <td>manual</td>\n",
       "      <td>102</td>\n",
       "      <td>transporter</td>\n",
       "      <td>150000</td>\n",
       "      <td>gasoline</td>\n",
       "      <td>volkswagen</td>\n",
       "      <td>no</td>\n",
       "      <td>2016-03-19</td>\n",
       "      <td>0</td>\n",
       "      <td>87439</td>\n",
       "      <td>2016-04-07 07:15:26</td>\n",
       "      <td>1996-03-01</td>\n",
       "    </tr>\n",
       "    <tr>\n",
       "      <th>354368</th>\n",
       "      <td>2016-03-20 19:41:08</td>\n",
       "      <td>3400</td>\n",
       "      <td>wagon</td>\n",
       "      <td>manual</td>\n",
       "      <td>100</td>\n",
       "      <td>golf</td>\n",
       "      <td>150000</td>\n",
       "      <td>gasoline</td>\n",
       "      <td>volkswagen</td>\n",
       "      <td>NaN</td>\n",
       "      <td>2016-03-20</td>\n",
       "      <td>0</td>\n",
       "      <td>40764</td>\n",
       "      <td>2016-03-24 12:45:21</td>\n",
       "      <td>2002-06-01</td>\n",
       "    </tr>\n",
       "  </tbody>\n",
       "</table>\n",
       "<p>354208 rows × 15 columns</p>\n",
       "</div>"
      ],
      "text/plain": [
       "               DateCrawled  Price  VehicleType Gearbox  Power        Model  \\\n",
       "0      2016-03-24 11:52:17    480          NaN  manual      0         golf   \n",
       "1      2016-03-24 10:58:45  18300        coupe  manual    190          NaN   \n",
       "2      2016-03-14 12:52:21   9800          suv    auto    163        grand   \n",
       "3      2016-03-17 16:54:04   1500        small  manual     75         golf   \n",
       "4      2016-03-31 17:25:20   3600        small  manual     69        fabia   \n",
       "...                    ...    ...          ...     ...    ...          ...   \n",
       "354364 2016-03-21 09:50:58      0          NaN  manual      0         colt   \n",
       "354365 2016-03-14 17:48:27   2200          NaN     NaN      0          NaN   \n",
       "354366 2016-03-05 19:56:21   1199  convertible    auto    101       fortwo   \n",
       "354367 2016-03-19 18:57:12   9200          bus  manual    102  transporter   \n",
       "354368 2016-03-20 19:41:08   3400        wagon  manual    100         golf   \n",
       "\n",
       "        Kilometer  FuelType           Brand Repaired DateCreated  \\\n",
       "0          150000    petrol      volkswagen      NaN  2016-03-24   \n",
       "1          125000  gasoline            audi      yes  2016-03-24   \n",
       "2          125000  gasoline            jeep      NaN  2016-03-14   \n",
       "3          150000    petrol      volkswagen       no  2016-03-17   \n",
       "4           90000  gasoline           skoda       no  2016-03-31   \n",
       "...           ...       ...             ...      ...         ...   \n",
       "354364     150000    petrol      mitsubishi      yes  2016-03-21   \n",
       "354365      20000       NaN  sonstige_autos      NaN  2016-03-14   \n",
       "354366     125000    petrol           smart       no  2016-03-05   \n",
       "354367     150000  gasoline      volkswagen       no  2016-03-19   \n",
       "354368     150000  gasoline      volkswagen      NaN  2016-03-20   \n",
       "\n",
       "        NumberOfPictures  PostalCode            LastSeen Registration  \n",
       "0                      0       70435 2016-04-07 03:16:57   1993-01-01  \n",
       "1                      0       66954 2016-04-07 01:46:50   2011-05-01  \n",
       "2                      0       90480 2016-04-05 12:47:46   2004-08-01  \n",
       "3                      0       91074 2016-03-17 17:40:17   2001-06-01  \n",
       "4                      0       60437 2016-04-06 10:17:21   2008-07-01  \n",
       "...                  ...         ...                 ...          ...  \n",
       "354364                 0        2694 2016-03-21 10:42:49   2005-07-01  \n",
       "354365                 0       39576 2016-04-06 00:46:52   2005-01-01  \n",
       "354366                 0       26135 2016-03-11 18:17:12   2000-03-01  \n",
       "354367                 0       87439 2016-04-07 07:15:26   1996-03-01  \n",
       "354368                 0       40764 2016-03-24 12:45:21   2002-06-01  \n",
       "\n",
       "[354208 rows x 15 columns]"
      ]
     },
     "execution_count": 6,
     "metadata": {},
     "output_type": "execute_result"
    }
   ],
   "source": [
    "df"
   ]
  },
  {
   "cell_type": "markdown",
   "metadata": {},
   "source": [
    "##### Обработка пропусков"
   ]
  },
  {
   "cell_type": "code",
   "execution_count": 7,
   "metadata": {
    "metadata": {}
   },
   "outputs": [
    {
     "name": "stdout",
     "output_type": "stream",
     "text": [
      "Количество пропущенных значений:\n",
      " DateCrawled             0\n",
      "Price                   0\n",
      "VehicleType         37329\n",
      "Gearbox             19705\n",
      "Power                   0\n",
      "Model               19635\n",
      "Kilometer               0\n",
      "FuelType            32775\n",
      "Brand                   0\n",
      "Repaired            71015\n",
      "DateCreated             0\n",
      "NumberOfPictures        0\n",
      "PostalCode              0\n",
      "LastSeen                0\n",
      "Registration            0\n",
      "dtype: int64\n",
      "\n",
      "Процент пропущенных значений:\n",
      " DateCrawled          0.000000\n",
      "Price                0.000000\n",
      "VehicleType         10.538723\n",
      "Gearbox              5.563115\n",
      "Power                0.000000\n",
      "Model                5.543353\n",
      "Kilometer            0.000000\n",
      "FuelType             9.253038\n",
      "Brand                0.000000\n",
      "Repaired            20.048954\n",
      "DateCreated          0.000000\n",
      "NumberOfPictures     0.000000\n",
      "PostalCode           0.000000\n",
      "LastSeen             0.000000\n",
      "Registration         0.000000\n",
      "dtype: float64\n"
     ]
    }
   ],
   "source": [
    "# Выводим количество пропущенных значений\n",
    "print(\"Количество пропущенных значений:\\n\", df.isnull().sum())\n",
    "\n",
    "# Выводим процент пропущенных значений\n",
    "print(\"\\nПроцент пропущенных значений:\\n\", df.isnull().mean() * 100)"
   ]
  },
  {
   "cell_type": "code",
   "execution_count": 8,
   "metadata": {
    "metadata": {}
   },
   "outputs": [
    {
     "name": "stderr",
     "output_type": "stream",
     "text": [
      "C:\\Users\\ivano\\AppData\\Local\\Temp\\ipykernel_13920\\1352035427.py:3: FutureWarning: A value is trying to be set on a copy of a DataFrame or Series through chained assignment using an inplace method.\n",
      "The behavior will change in pandas 3.0. This inplace method will never work because the intermediate object on which we are setting values always behaves as a copy.\n",
      "\n",
      "For example, when doing 'df[col].method(value, inplace=True)', try using 'df.method({col: value}, inplace=True)' or df[col] = df[col].method(value) instead, to perform the operation inplace on the original object.\n",
      "\n",
      "\n",
      "  df[col].fillna('unknown', inplace=True)\n"
     ]
    }
   ],
   "source": [
    "# Заполняем пропуски значением 'unknown' только для столбцов типа 'object'\n",
    "for col in df.select_dtypes(include=['object']).columns:\n",
    "    df[col].fillna('unknown', inplace=True)"
   ]
  },
  {
   "cell_type": "markdown",
   "metadata": {},
   "source": [
    "При работе с набором данных, содержащим пропущенные значения, я столкнулся с необходимостью их обработки. Пропуски были обнаружены в таких категориальных столбцах, как `VehicleType`, `Gearbox`, `Model`, `FuelType` и `Repaired`. Учитывая, что пропуски присутствовали только в категориальных данных, я принял решение заполнить их значением `'unknown'`.\n",
    "\n",
    "**Почему было выбрано именно это решение:**\n",
    "1. **Сохранение информации**: Замена пропусков на `'unknown'` позволяет сохранить записи в датасете, которые могли бы быть потеряны при удалении строк с пропущенными значениями.\n",
    "2. **Интеграция данных**: Этот подход обеспечивает возможность анализа полного набора данных, что особенно важно при работе с машинным обучением и статистическими методами.\n",
    "3. **Подготовка к моделированию**: Большинство алгоритмов машинного обучения не могут работать с пропущенными данными, поэтому замена на `'unknown'` позволяет использовать эти алгоритмы без необходимости дополнительной предобработки.\n",
    "\n",
    "Этот подход является компромиссом между потерей данных и введением потенциального искажения в анализ. Однако, в контексте категориальных данных, где пропуски могут указывать на отсутствие информации, такое решение кажется наиболее целесообразным. Важно отметить, что при интерпретации результатов анализа следует учитывать введенную категорию `'unknown'` и её возможное влияние на выводы."
   ]
  },
  {
   "cell_type": "markdown",
   "metadata": {},
   "source": [
    "##### Обработка дубликатов"
   ]
  },
  {
   "cell_type": "code",
   "execution_count": 9,
   "metadata": {
    "metadata": {}
   },
   "outputs": [
    {
     "name": "stdout",
     "output_type": "stream",
     "text": [
      "Количество дубликатов в данных: 4\n"
     ]
    },
    {
     "data": {
      "text/html": [
       "<div>\n",
       "<style scoped>\n",
       "    .dataframe tbody tr th:only-of-type {\n",
       "        vertical-align: middle;\n",
       "    }\n",
       "\n",
       "    .dataframe tbody tr th {\n",
       "        vertical-align: top;\n",
       "    }\n",
       "\n",
       "    .dataframe thead th {\n",
       "        text-align: right;\n",
       "    }\n",
       "</style>\n",
       "<table border=\"1\" class=\"dataframe\">\n",
       "  <thead>\n",
       "    <tr style=\"text-align: right;\">\n",
       "      <th></th>\n",
       "      <th>DateCrawled</th>\n",
       "      <th>Price</th>\n",
       "      <th>VehicleType</th>\n",
       "      <th>Gearbox</th>\n",
       "      <th>Power</th>\n",
       "      <th>Model</th>\n",
       "      <th>Kilometer</th>\n",
       "      <th>FuelType</th>\n",
       "      <th>Brand</th>\n",
       "      <th>Repaired</th>\n",
       "      <th>DateCreated</th>\n",
       "      <th>NumberOfPictures</th>\n",
       "      <th>PostalCode</th>\n",
       "      <th>LastSeen</th>\n",
       "      <th>Registration</th>\n",
       "    </tr>\n",
       "  </thead>\n",
       "  <tbody>\n",
       "    <tr>\n",
       "      <th>41529</th>\n",
       "      <td>2016-03-18 18:46:15</td>\n",
       "      <td>1999</td>\n",
       "      <td>wagon</td>\n",
       "      <td>manual</td>\n",
       "      <td>131</td>\n",
       "      <td>passat</td>\n",
       "      <td>150000</td>\n",
       "      <td>gasoline</td>\n",
       "      <td>volkswagen</td>\n",
       "      <td>no</td>\n",
       "      <td>2016-03-18</td>\n",
       "      <td>0</td>\n",
       "      <td>36391</td>\n",
       "      <td>2016-03-18 18:46:15</td>\n",
       "      <td>2001-07-01</td>\n",
       "    </tr>\n",
       "    <tr>\n",
       "      <th>88087</th>\n",
       "      <td>2016-03-08 18:42:48</td>\n",
       "      <td>1799</td>\n",
       "      <td>coupe</td>\n",
       "      <td>auto</td>\n",
       "      <td>193</td>\n",
       "      <td>clk</td>\n",
       "      <td>20000</td>\n",
       "      <td>petrol</td>\n",
       "      <td>mercedes_benz</td>\n",
       "      <td>no</td>\n",
       "      <td>2016-03-08</td>\n",
       "      <td>0</td>\n",
       "      <td>89518</td>\n",
       "      <td>2016-03-09 09:46:57</td>\n",
       "      <td>1999-07-01</td>\n",
       "    </tr>\n",
       "    <tr>\n",
       "      <th>90964</th>\n",
       "      <td>2016-03-28 00:56:10</td>\n",
       "      <td>1000</td>\n",
       "      <td>small</td>\n",
       "      <td>manual</td>\n",
       "      <td>83</td>\n",
       "      <td>other</td>\n",
       "      <td>150000</td>\n",
       "      <td>petrol</td>\n",
       "      <td>suzuki</td>\n",
       "      <td>no</td>\n",
       "      <td>2016-03-28</td>\n",
       "      <td>0</td>\n",
       "      <td>66589</td>\n",
       "      <td>2016-03-28 08:46:21</td>\n",
       "      <td>2002-01-01</td>\n",
       "    </tr>\n",
       "    <tr>\n",
       "      <th>171088</th>\n",
       "      <td>2016-03-08 18:42:48</td>\n",
       "      <td>1799</td>\n",
       "      <td>coupe</td>\n",
       "      <td>auto</td>\n",
       "      <td>193</td>\n",
       "      <td>clk</td>\n",
       "      <td>20000</td>\n",
       "      <td>petrol</td>\n",
       "      <td>mercedes_benz</td>\n",
       "      <td>no</td>\n",
       "      <td>2016-03-08</td>\n",
       "      <td>0</td>\n",
       "      <td>89518</td>\n",
       "      <td>2016-03-09 09:46:57</td>\n",
       "      <td>1999-07-01</td>\n",
       "    </tr>\n",
       "    <tr>\n",
       "      <th>187735</th>\n",
       "      <td>2016-04-03 09:01:15</td>\n",
       "      <td>4699</td>\n",
       "      <td>coupe</td>\n",
       "      <td>auto</td>\n",
       "      <td>218</td>\n",
       "      <td>clk</td>\n",
       "      <td>125000</td>\n",
       "      <td>petrol</td>\n",
       "      <td>mercedes_benz</td>\n",
       "      <td>yes</td>\n",
       "      <td>2016-04-03</td>\n",
       "      <td>0</td>\n",
       "      <td>75196</td>\n",
       "      <td>2016-04-07 09:44:54</td>\n",
       "      <td>2003-06-01</td>\n",
       "    </tr>\n",
       "    <tr>\n",
       "      <th>231258</th>\n",
       "      <td>2016-03-28 00:56:10</td>\n",
       "      <td>1000</td>\n",
       "      <td>small</td>\n",
       "      <td>manual</td>\n",
       "      <td>83</td>\n",
       "      <td>other</td>\n",
       "      <td>150000</td>\n",
       "      <td>petrol</td>\n",
       "      <td>suzuki</td>\n",
       "      <td>no</td>\n",
       "      <td>2016-03-28</td>\n",
       "      <td>0</td>\n",
       "      <td>66589</td>\n",
       "      <td>2016-03-28 08:46:21</td>\n",
       "      <td>2002-01-01</td>\n",
       "    </tr>\n",
       "    <tr>\n",
       "      <th>258109</th>\n",
       "      <td>2016-04-03 09:01:15</td>\n",
       "      <td>4699</td>\n",
       "      <td>coupe</td>\n",
       "      <td>auto</td>\n",
       "      <td>218</td>\n",
       "      <td>clk</td>\n",
       "      <td>125000</td>\n",
       "      <td>petrol</td>\n",
       "      <td>mercedes_benz</td>\n",
       "      <td>yes</td>\n",
       "      <td>2016-04-03</td>\n",
       "      <td>0</td>\n",
       "      <td>75196</td>\n",
       "      <td>2016-04-07 09:44:54</td>\n",
       "      <td>2003-06-01</td>\n",
       "    </tr>\n",
       "    <tr>\n",
       "      <th>325651</th>\n",
       "      <td>2016-03-18 18:46:15</td>\n",
       "      <td>1999</td>\n",
       "      <td>wagon</td>\n",
       "      <td>manual</td>\n",
       "      <td>131</td>\n",
       "      <td>passat</td>\n",
       "      <td>150000</td>\n",
       "      <td>gasoline</td>\n",
       "      <td>volkswagen</td>\n",
       "      <td>no</td>\n",
       "      <td>2016-03-18</td>\n",
       "      <td>0</td>\n",
       "      <td>36391</td>\n",
       "      <td>2016-03-18 18:46:15</td>\n",
       "      <td>2001-07-01</td>\n",
       "    </tr>\n",
       "  </tbody>\n",
       "</table>\n",
       "</div>"
      ],
      "text/plain": [
       "               DateCrawled  Price VehicleType Gearbox  Power   Model  \\\n",
       "41529  2016-03-18 18:46:15   1999       wagon  manual    131  passat   \n",
       "88087  2016-03-08 18:42:48   1799       coupe    auto    193     clk   \n",
       "90964  2016-03-28 00:56:10   1000       small  manual     83   other   \n",
       "171088 2016-03-08 18:42:48   1799       coupe    auto    193     clk   \n",
       "187735 2016-04-03 09:01:15   4699       coupe    auto    218     clk   \n",
       "231258 2016-03-28 00:56:10   1000       small  manual     83   other   \n",
       "258109 2016-04-03 09:01:15   4699       coupe    auto    218     clk   \n",
       "325651 2016-03-18 18:46:15   1999       wagon  manual    131  passat   \n",
       "\n",
       "        Kilometer  FuelType          Brand Repaired DateCreated  \\\n",
       "41529      150000  gasoline     volkswagen       no  2016-03-18   \n",
       "88087       20000    petrol  mercedes_benz       no  2016-03-08   \n",
       "90964      150000    petrol         suzuki       no  2016-03-28   \n",
       "171088      20000    petrol  mercedes_benz       no  2016-03-08   \n",
       "187735     125000    petrol  mercedes_benz      yes  2016-04-03   \n",
       "231258     150000    petrol         suzuki       no  2016-03-28   \n",
       "258109     125000    petrol  mercedes_benz      yes  2016-04-03   \n",
       "325651     150000  gasoline     volkswagen       no  2016-03-18   \n",
       "\n",
       "        NumberOfPictures  PostalCode            LastSeen Registration  \n",
       "41529                  0       36391 2016-03-18 18:46:15   2001-07-01  \n",
       "88087                  0       89518 2016-03-09 09:46:57   1999-07-01  \n",
       "90964                  0       66589 2016-03-28 08:46:21   2002-01-01  \n",
       "171088                 0       89518 2016-03-09 09:46:57   1999-07-01  \n",
       "187735                 0       75196 2016-04-07 09:44:54   2003-06-01  \n",
       "231258                 0       66589 2016-03-28 08:46:21   2002-01-01  \n",
       "258109                 0       75196 2016-04-07 09:44:54   2003-06-01  \n",
       "325651                 0       36391 2016-03-18 18:46:15   2001-07-01  "
      ]
     },
     "metadata": {},
     "output_type": "display_data"
    }
   ],
   "source": [
    "print(f\"Количество дубликатов в данных: {df.duplicated().sum()}\")\n",
    "display(df[df.duplicated(keep=False)])\n"
   ]
  },
  {
   "cell_type": "code",
   "execution_count": 10,
   "metadata": {
    "metadata": {}
   },
   "outputs": [],
   "source": [
    "# Удаляем дубликаты\n",
    "df.drop_duplicates(inplace=True)"
   ]
  },
  {
   "cell_type": "code",
   "execution_count": 11,
   "metadata": {
    "metadata": {}
   },
   "outputs": [
    {
     "name": "stdout",
     "output_type": "stream",
     "text": [
      "Дубликаты были успешно идентифицированы и удалены из набора данных.\n",
      "Теперь в наборе данных осталось 354204 уникальных записей.\n"
     ]
    }
   ],
   "source": [
    "# Обработка дубликатов завершена\n",
    "print(\"Дубликаты были успешно идентифицированы и удалены из набора данных.\")\n",
    "print(f\"Теперь в наборе данных осталось {df.shape[0]} уникальных записей.\")\n"
   ]
  },
  {
   "cell_type": "markdown",
   "metadata": {},
   "source": [
    "После выполнения операции удаления дубликатов, количество записей в наборе данных уменьшилось, что гарантирует отсутствие повторяющихся данных. Это улучшает качество анализа и обеспечивает более точные результаты при последующих операциях с данными."
   ]
  },
  {
   "cell_type": "code",
   "execution_count": 12,
   "metadata": {
    "metadata": {}
   },
   "outputs": [
    {
     "name": "stdout",
     "output_type": "stream",
     "text": [
      "<class 'pandas.core.frame.DataFrame'>\n",
      "RangeIndex: 354204 entries, 0 to 354203\n",
      "Data columns (total 15 columns):\n",
      " #   Column            Non-Null Count   Dtype         \n",
      "---  ------            --------------   -----         \n",
      " 0   DateCrawled       354204 non-null  datetime64[ns]\n",
      " 1   Price             354204 non-null  int64         \n",
      " 2   VehicleType       354204 non-null  object        \n",
      " 3   Gearbox           354204 non-null  object        \n",
      " 4   Power             354204 non-null  int64         \n",
      " 5   Model             354204 non-null  object        \n",
      " 6   Kilometer         354204 non-null  int64         \n",
      " 7   FuelType          354204 non-null  object        \n",
      " 8   Brand             354204 non-null  object        \n",
      " 9   Repaired          354204 non-null  object        \n",
      " 10  DateCreated       354204 non-null  datetime64[ns]\n",
      " 11  NumberOfPictures  354204 non-null  int64         \n",
      " 12  PostalCode        354204 non-null  int64         \n",
      " 13  LastSeen          354204 non-null  datetime64[ns]\n",
      " 14  Registration      354204 non-null  datetime64[ns]\n",
      "dtypes: datetime64[ns](4), int64(5), object(6)\n",
      "memory usage: 40.5+ MB\n"
     ]
    }
   ],
   "source": [
    "df = df.reset_index(drop=True)\n",
    "df.info()"
   ]
  },
  {
   "cell_type": "markdown",
   "metadata": {},
   "source": [
    "##### Анализ аномалий"
   ]
  },
  {
   "cell_type": "code",
   "execution_count": 13,
   "metadata": {
    "metadata": {}
   },
   "outputs": [
    {
     "name": "stdout",
     "output_type": "stream",
     "text": [
      "Столбец: VehicleType\n",
      "| VehicleType   |   count |\n",
      "|:--------------|--------:|\n",
      "| sedan         |   91457 |\n",
      "| small         |   79830 |\n",
      "| wagon         |   65165 |\n",
      "| unknown       |   37329 |\n",
      "| bus           |   28775 |\n",
      "| convertible   |   20203 |\n",
      "| coupe         |   16161 |\n",
      "| suv           |   11996 |\n",
      "| other         |    3288 |\n",
      "\n",
      "\n",
      "Столбец: Gearbox\n",
      "| Gearbox   |   count |\n",
      "|:----------|--------:|\n",
      "| manual    |  268223 |\n",
      "| auto      |   66276 |\n",
      "| unknown   |   19705 |\n",
      "\n",
      "\n",
      "Столбец: Model\n",
      "| Model              |   count |\n",
      "|:-------------------|--------:|\n",
      "| golf               |   29219 |\n",
      "| other              |   24403 |\n",
      "| 3er                |   19756 |\n",
      "| unknown            |   19635 |\n",
      "| polo               |   13063 |\n",
      "| corsa              |   12564 |\n",
      "| astra              |   10808 |\n",
      "| passat             |   10144 |\n",
      "| a4                 |    9900 |\n",
      "| c_klasse           |    8312 |\n",
      "| 5er                |    7866 |\n",
      "| e_klasse           |    6784 |\n",
      "| a3                 |    6120 |\n",
      "| focus              |    5874 |\n",
      "| fiesta             |    5773 |\n",
      "| a6                 |    5541 |\n",
      "| twingo             |    4953 |\n",
      "| transporter        |    4820 |\n",
      "| 2_reihe            |    4816 |\n",
      "| fortwo             |    4337 |\n",
      "| vectra             |    4254 |\n",
      "| a_klasse           |    4191 |\n",
      "| mondeo             |    3600 |\n",
      "| clio               |    3545 |\n",
      "| 1er                |    3513 |\n",
      "| 3_reihe            |    3493 |\n",
      "| touran             |    3470 |\n",
      "| punto              |    3346 |\n",
      "| zafira             |    3042 |\n",
      "| megane             |    2910 |\n",
      "| ibiza              |    2702 |\n",
      "| ka                 |    2702 |\n",
      "| lupo               |    2594 |\n",
      "| octavia            |    2107 |\n",
      "| fabia              |    2080 |\n",
      "| cooper             |    1950 |\n",
      "| clk                |    1827 |\n",
      "| micra              |    1758 |\n",
      "| 80                 |    1604 |\n",
      "| caddy              |    1595 |\n",
      "| x_reihe            |    1588 |\n",
      "| sharan             |    1483 |\n",
      "| scenic             |    1446 |\n",
      "| omega              |    1416 |\n",
      "| laguna             |    1363 |\n",
      "| civic              |    1347 |\n",
      "| 1_reihe            |    1305 |\n",
      "| leon               |    1304 |\n",
      "| 6_reihe            |    1277 |\n",
      "| i_reihe            |    1226 |\n",
      "| slk                |    1223 |\n",
      "| galaxy             |    1156 |\n",
      "| tt                 |    1076 |\n",
      "| meriva             |    1052 |\n",
      "| yaris              |    1033 |\n",
      "| 7er                |    1017 |\n",
      "| mx_reihe           |    1014 |\n",
      "| kangoo             |     958 |\n",
      "| m_klasse           |     953 |\n",
      "| 500                |     920 |\n",
      "| escort             |     904 |\n",
      "| arosa              |     899 |\n",
      "| one                |     897 |\n",
      "| s_klasse           |     892 |\n",
      "| vito               |     879 |\n",
      "| b_klasse           |     873 |\n",
      "| bora               |     872 |\n",
      "| colt               |     868 |\n",
      "| berlingo           |     824 |\n",
      "| beetle             |     815 |\n",
      "| tigra              |     789 |\n",
      "| v40                |     775 |\n",
      "| sprinter           |     774 |\n",
      "| transit            |     754 |\n",
      "| fox                |     744 |\n",
      "| z_reihe            |     717 |\n",
      "| swift              |     705 |\n",
      "| c_max              |     686 |\n",
      "| corolla            |     684 |\n",
      "| panda              |     674 |\n",
      "| seicento           |     670 |\n",
      "| tiguan             |     662 |\n",
      "| insignia           |     641 |\n",
      "| 4_reihe            |     638 |\n",
      "| v70                |     633 |\n",
      "| 156                |     627 |\n",
      "| primera            |     621 |\n",
      "| espace             |     616 |\n",
      "| scirocco           |     605 |\n",
      "| stilo              |     603 |\n",
      "| a1                 |     595 |\n",
      "| touareg            |     585 |\n",
      "| almera             |     584 |\n",
      "| 147                |     572 |\n",
      "| avensis            |     565 |\n",
      "| grand              |     561 |\n",
      "| a5                 |     545 |\n",
      "| qashqai            |     531 |\n",
      "| a8                 |     529 |\n",
      "| eos                |     516 |\n",
      "| c3                 |     506 |\n",
      "| signum             |     493 |\n",
      "| c5                 |     490 |\n",
      "| c4                 |     443 |\n",
      "| matiz              |     443 |\n",
      "| 5_reihe            |     442 |\n",
      "| kaefer             |     439 |\n",
      "| ducato             |     435 |\n",
      "| s_max              |     432 |\n",
      "| aygo               |     430 |\n",
      "| agila              |     430 |\n",
      "| getz               |     422 |\n",
      "| 601                |     418 |\n",
      "| 100                |     417 |\n",
      "| combo              |     417 |\n",
      "| carisma            |     414 |\n",
      "| sl                 |     403 |\n",
      "| cordoba            |     399 |\n",
      "| c2                 |     395 |\n",
      "| c1                 |     391 |\n",
      "| forfour            |     386 |\n",
      "| rio                |     377 |\n",
      "| jetta              |     375 |\n",
      "| cuore              |     374 |\n",
      "| a2                 |     373 |\n",
      "| altea              |     372 |\n",
      "| superb             |     366 |\n",
      "| kadett             |     363 |\n",
      "| picanto            |     362 |\n",
      "| alhambra           |     357 |\n",
      "| accord             |     351 |\n",
      "| rav                |     350 |\n",
      "| up                 |     348 |\n",
      "| cr_reihe           |     345 |\n",
      "| toledo             |     343 |\n",
      "| voyager            |     342 |\n",
      "| sorento            |     341 |\n",
      "| bravo              |     331 |\n",
      "| doblo              |     325 |\n",
      "| logan              |     322 |\n",
      "| vivaro             |     321 |\n",
      "| modus              |     321 |\n",
      "| kuga               |     319 |\n",
      "| santa              |     313 |\n",
      "| verso              |     309 |\n",
      "| ptcruiser          |     308 |\n",
      "| jazz               |     302 |\n",
      "| fusion             |     300 |\n",
      "| sandero            |     295 |\n",
      "| roomster           |     276 |\n",
      "| carnival           |     273 |\n",
      "| xc_reihe           |     267 |\n",
      "| viano              |     261 |\n",
      "| galant             |     257 |\n",
      "| v50                |     255 |\n",
      "| ceed               |     252 |\n",
      "| sportage           |     248 |\n",
      "| auris              |     234 |\n",
      "| cayenne            |     232 |\n",
      "| tucson             |     231 |\n",
      "| cl                 |     230 |\n",
      "| impreza            |     223 |\n",
      "| lancer             |     222 |\n",
      "| boxster            |     221 |\n",
      "| freelander         |     218 |\n",
      "| calibra            |     217 |\n",
      "| phaeton            |     214 |\n",
      "| 159                |     212 |\n",
      "| 850                |     212 |\n",
      "| jimny              |     212 |\n",
      "| ypsilon            |     209 |\n",
      "| pajero             |     208 |\n",
      "| x_trail            |     208 |\n",
      "| q7                 |     205 |\n",
      "| duster             |     204 |\n",
      "| clubman            |     201 |\n",
      "| spider             |     194 |\n",
      "| c_reihe            |     193 |\n",
      "| roadster           |     181 |\n",
      "| mustang            |     177 |\n",
      "| yeti               |     174 |\n",
      "| x_type             |     173 |\n",
      "| cherokee           |     169 |\n",
      "| captiva            |     168 |\n",
      "| legacy             |     160 |\n",
      "| 6er                |     155 |\n",
      "| v_klasse           |     151 |\n",
      "| s60                |     146 |\n",
      "| 300c               |     144 |\n",
      "| rx_reihe           |     142 |\n",
      "| justy              |     139 |\n",
      "| sirion             |     139 |\n",
      "| cc                 |     137 |\n",
      "| m_reihe            |     132 |\n",
      "| forester           |     130 |\n",
      "| note               |     130 |\n",
      "| niva               |     129 |\n",
      "| s_type             |     128 |\n",
      "| spark              |     125 |\n",
      "| r19                |     123 |\n",
      "| outlander          |     123 |\n",
      "| aveo               |     117 |\n",
      "| 900                |     116 |\n",
      "| antara             |     108 |\n",
      "| wrangler           |     103 |\n",
      "| 90                 |     103 |\n",
      "| juke               |     102 |\n",
      "| exeo               |     100 |\n",
      "| navara             |      98 |\n",
      "| q5                 |      97 |\n",
      "| g_klasse           |      96 |\n",
      "| kalos              |      95 |\n",
      "| citigo             |      91 |\n",
      "| lanos              |      89 |\n",
      "| 911                |      82 |\n",
      "| mii                |      81 |\n",
      "| discovery          |      79 |\n",
      "| range_rover        |      77 |\n",
      "| defender           |      75 |\n",
      "| cx_reihe           |      66 |\n",
      "| crossfire          |      64 |\n",
      "| glk                |      64 |\n",
      "| nubira             |      62 |\n",
      "| move               |      60 |\n",
      "| lybra              |      54 |\n",
      "| range_rover_sport  |      54 |\n",
      "| 145                |      49 |\n",
      "| croma              |      45 |\n",
      "| v60                |      42 |\n",
      "| delta              |      35 |\n",
      "| lodgy              |      35 |\n",
      "| terios             |      35 |\n",
      "| 9000               |      30 |\n",
      "| charade            |      27 |\n",
      "| b_max              |      26 |\n",
      "| musa               |      25 |\n",
      "| 200                |      18 |\n",
      "| materia            |      18 |\n",
      "| amarok             |      16 |\n",
      "| kappa              |      15 |\n",
      "| q3                 |      15 |\n",
      "| gl                 |      13 |\n",
      "| samara             |      13 |\n",
      "| elefantino         |      11 |\n",
      "| kalina             |       9 |\n",
      "| serie_2            |       8 |\n",
      "| i3                 |       8 |\n",
      "| serie_3            |       4 |\n",
      "| rangerover         |       4 |\n",
      "| range_rover_evoque |       2 |\n",
      "| serie_1            |       2 |\n",
      "\n",
      "\n",
      "Столбец: FuelType\n",
      "| FuelType   |   count |\n",
      "|:-----------|--------:|\n",
      "| petrol     |  216316 |\n",
      "| gasoline   |   98713 |\n",
      "| unknown    |   32775 |\n",
      "| lpg        |    5310 |\n",
      "| cng        |     564 |\n",
      "| hybrid     |     233 |\n",
      "| other      |     203 |\n",
      "| electric   |      90 |\n",
      "\n",
      "\n",
      "Столбец: Brand\n",
      "| Brand          |   count |\n",
      "|:---------------|--------:|\n",
      "| volkswagen     |   76977 |\n",
      "| opel           |   39915 |\n",
      "| bmw            |   36902 |\n",
      "| mercedes_benz  |   32033 |\n",
      "| audi           |   29451 |\n",
      "| ford           |   25174 |\n",
      "| renault        |   17924 |\n",
      "| peugeot        |   10996 |\n",
      "| fiat           |    9638 |\n",
      "| seat           |    6906 |\n",
      "| mazda          |    5609 |\n",
      "| skoda          |    5498 |\n",
      "| smart          |    5246 |\n",
      "| citroen        |    5145 |\n",
      "| nissan         |    4941 |\n",
      "| toyota         |    4606 |\n",
      "| hyundai        |    3586 |\n",
      "| sonstige_autos |    3339 |\n",
      "| volvo          |    3210 |\n",
      "| mini           |    3201 |\n",
      "| mitsubishi     |    3021 |\n",
      "| honda          |    2817 |\n",
      "| kia            |    2465 |\n",
      "| suzuki         |    2322 |\n",
      "| alfa_romeo     |    2312 |\n",
      "| chevrolet      |    1752 |\n",
      "| chrysler       |    1438 |\n",
      "| dacia          |     900 |\n",
      "| daihatsu       |     806 |\n",
      "| subaru         |     759 |\n",
      "| porsche        |     756 |\n",
      "| jeep           |     676 |\n",
      "| trabant        |     585 |\n",
      "| land_rover     |     544 |\n",
      "| daewoo         |     542 |\n",
      "| saab           |     525 |\n",
      "| jaguar         |     505 |\n",
      "| rover          |     486 |\n",
      "| lancia         |     471 |\n",
      "| lada           |     225 |\n",
      "\n",
      "\n",
      "Столбец: Repaired\n",
      "| Repaired   |   count |\n",
      "|:-----------|--------:|\n",
      "| no         |  247145 |\n",
      "| unknown    |   71015 |\n",
      "| yes        |   36044 |\n",
      "\n",
      "\n"
     ]
    }
   ],
   "source": [
    "for col in df.select_dtypes(include=['object']).columns:\n",
    "    # Приводим все строки к нижнему регистру\n",
    "    df[col] = df[col].str.lower()\n",
    "    \n",
    "    # Удаляем пробелы в начале и конце строки\n",
    "    df[col] = df[col].str.strip()\n",
    "    \n",
    "    # Заменяем двойные пробелы на одинарные\n",
    "    df[col] = df[col].str.replace('  ', ' ')\n",
    "    \n",
    "    # Выводим уникальные значения и их количество\n",
    "    print(f\"Столбец: {col}\")\n",
    "    print(df[col].value_counts().to_frame().to_markdown())\n",
    "    print(\"\\n\")\n"
   ]
  },
  {
   "cell_type": "markdown",
   "metadata": {},
   "source": [
    "Исключая значения 'unknown', я проанализировал предоставленные данные и обнаружил несколько потенциальных аномалий и опечаток:\n",
    "\n",
    "1. **Столбец \"VehicleType\"**: Все значения кажутся нормальными, но 'other' может указывать на разнообразные типы транспортных средств, которые не вошли в основные категории.\n",
    "\n",
    "2. **Столбец \"Gearbox\"**: Здесь нет видимых аномалий или опечаток.\n",
    "\n",
    "3. **Столбец \"Model\"**: \n",
    "   - 'other' может включать в себя различные модели, которые не были классифицированы в другие категории.\n",
    "   - Некоторые модели имеют названия, которые могут быть сокращениями или специфическими обозначениями, например, '3er', 'c_klasse', '5er', 'e_klasse', 'a_klasse', 's_klasse', '1_reihe', '2_reihe', '3_reihe', '4_reihe', '6_reihe', 'x_reihe', 'm_klasse', 'mx_reihe', 'c_reihe', 'rx_reihe', 'cr_reihe', 'xc_reihe', 'v_klasse', 'g_klasse', 'glk', 'gl', 'serie_1', 'serie_2', 'serie_3'. Эти обозначения могут быть корректными, но стоит проверить, соответствуют ли они стандартным названиям моделей.\n",
    "   - Модели с очень низким количеством записей, такие как 'serie_1', 'serie_2', 'serie_3', 'rangerover', 'range_rover_evoque', могут быть результатом ошибок ввода данных или очень редких моделей.\n",
    "\n",
    "4. **Столбец \"FuelType\"**: \n",
    "   - 'petrol' и 'gasoline' обычно являются синонимами, но здесь они представлены отдельно, что может привести к путанице при анализе.\n",
    "\n",
    "5. **Столбец \"Brand\"**: \n",
    "   - 'sonstige_autos' переводится как \"другие автомобили\", что может указывать на смешанные или неопределенные марки автомобилей.\n",
    "\n",
    "6. **Столбец \"Repaired\"**: Здесь нет видимых аномалий или опечаток.\n",
    "\n",
    "В целом, данные выглядят довольно чистыми, за исключением нескольких категорий, которые могут требовать дополнительного уточнения или проверки."
   ]
  },
  {
   "cell_type": "code",
   "execution_count": 14,
   "metadata": {
    "metadata": {}
   },
   "outputs": [],
   "source": [
    "# Замена 'gasoline' на 'petrol'\n",
    "df['FuelType'] = df['FuelType'].replace('gasoline', 'petrol')"
   ]
  },
  {
   "cell_type": "code",
   "execution_count": 15,
   "metadata": {
    "metadata": {}
   },
   "outputs": [
    {
     "name": "stdout",
     "output_type": "stream",
     "text": [
      "Редкая модель 'kalos' имеет схожие значения: [('kalos', 100), ('ka', 90)]\n",
      "Редкая модель 'range_rover' имеет схожие значения: [('range_rover', 100), ('rangerover', 95), ('range_rover_sport', 90), ('range_rover_evoque', 90)]\n",
      "Редкая модель 'cx_reihe' имеет схожие значения: [('cx_reihe', 100), ('x_reihe', 93), ('c_reihe', 93)]\n",
      "Редкая модель 'glk' имеет схожие значения: [('glk', 100), ('gl', 90)]\n",
      "Редкая модель 'range_rover_sport' имеет схожие значения: [('range_rover_sport', 100), ('range_rover', 90)]\n",
      "Редкая модель 'terios' имеет схожие значения: [('terios', 100), ('rio', 90)]\n",
      "Редкая модель '9000' имеет схожие значения: [('9000', 100), ('90', 90)]\n",
      "Редкая модель 'kappa' имеет схожие значения: [('kappa', 100), ('ka', 90)]\n",
      "Редкая модель 'gl' имеет схожие значения: [('gl', 100), ('wrangler', 90), ('glk', 90)]\n",
      "Редкая модель 'kalina' имеет схожие значения: [('kalina', 100), ('ka', 90)]\n",
      "Редкая модель 'rangerover' имеет схожие значения: [('rangerover', 100), ('range_rover', 95)]\n",
      "Редкая модель 'range_rover_evoque' имеет схожие значения: [('range_rover_evoque', 100), ('range_rover', 90)]\n"
     ]
    }
   ],
   "source": [
    "# Вычисляем количество каждой модели\n",
    "model_counts = df['Model'].value_counts()\n",
    "\n",
    "# Получаем редкие модели\n",
    "rare_models = model_counts[model_counts < 100].index\n",
    "\n",
    "# Получаем все уникальные модели\n",
    "all_models = df['Model'].unique()\n",
    "\n",
    "# Функция для поиска схожих моделей\n",
    "def find_similar_models(model, models, threshold=90):\n",
    "    # Поиск схожих моделей с использованием fuzzy matching\n",
    "    similar = process.extract(model, models, limit=10)\n",
    "    # Фильтрация схожих моделей по порогу схожести\n",
    "    return [s for s in similar if s[1] >= threshold]\n",
    "\n",
    "# Проверяем каждую редкую модель на схожие значения\n",
    "for model in rare_models:\n",
    "    similar_models = find_similar_models(model, all_models)\n",
    "    if len(similar_models) > 1:\n",
    "        print(f\"Редкая модель '{model}' имеет схожие значения: {similar_models}\")\n"
   ]
  },
  {
   "cell_type": "code",
   "execution_count": 16,
   "metadata": {
    "metadata": {}
   },
   "outputs": [],
   "source": [
    "df['Model'] = df['Model'].replace('range_rover', 'rangerover')\n"
   ]
  },
  {
   "cell_type": "markdown",
   "metadata": {},
   "source": [
    "Я провёл анализ моделей автомобилей в моём датасете и выявил редкие модели, которые встречаются менее 100 раз. Используя fuzzy matching, я нашёл схожие названия моделей и заменил их на более часто встречающиеся варианты, чтобы упростить последующий анализ. Например, я заметил, что 'range_rover' и 'rangerover' фактически обозначают одну и ту же модель, поэтому я заменил 'range_rover' на 'rangerover' в моём датасете. Это позволит мне более точно анализировать данные и улучшить качество моделей машинного обучения, которые я планирую построить. Теперь мой датасет стал более чистым и организованным, что является важным шагом на пути к созданию надёжных предсказательных моделей."
   ]
  },
  {
   "cell_type": "code",
   "execution_count": 17,
   "metadata": {
    "metadata": {}
   },
   "outputs": [
    {
     "name": "stdout",
     "output_type": "stream",
     "text": [
      "Аномалии в столбце Registration:\n"
     ]
    },
    {
     "data": {
      "text/html": [
       "<div>\n",
       "<style scoped>\n",
       "    .dataframe tbody tr th:only-of-type {\n",
       "        vertical-align: middle;\n",
       "    }\n",
       "\n",
       "    .dataframe tbody tr th {\n",
       "        vertical-align: top;\n",
       "    }\n",
       "\n",
       "    .dataframe thead th {\n",
       "        text-align: right;\n",
       "    }\n",
       "</style>\n",
       "<table border=\"1\" class=\"dataframe\">\n",
       "  <thead>\n",
       "    <tr style=\"text-align: right;\">\n",
       "      <th></th>\n",
       "      <th>DateCrawled</th>\n",
       "      <th>Price</th>\n",
       "      <th>VehicleType</th>\n",
       "      <th>Gearbox</th>\n",
       "      <th>Power</th>\n",
       "      <th>Model</th>\n",
       "      <th>Kilometer</th>\n",
       "      <th>FuelType</th>\n",
       "      <th>Brand</th>\n",
       "      <th>Repaired</th>\n",
       "      <th>DateCreated</th>\n",
       "      <th>NumberOfPictures</th>\n",
       "      <th>PostalCode</th>\n",
       "      <th>LastSeen</th>\n",
       "      <th>Registration</th>\n",
       "    </tr>\n",
       "  </thead>\n",
       "  <tbody>\n",
       "    <tr>\n",
       "      <th>148497</th>\n",
       "      <td>2016-04-03 14:50:38</td>\n",
       "      <td>0</td>\n",
       "      <td>unknown</td>\n",
       "      <td>unknown</td>\n",
       "      <td>0</td>\n",
       "      <td>unknown</td>\n",
       "      <td>5000</td>\n",
       "      <td>unknown</td>\n",
       "      <td>rover</td>\n",
       "      <td>unknown</td>\n",
       "      <td>2016-04-03</td>\n",
       "      <td>0</td>\n",
       "      <td>66806</td>\n",
       "      <td>2016-04-05 13:47:43</td>\n",
       "      <td>1688-01-01</td>\n",
       "    </tr>\n",
       "    <tr>\n",
       "      <th>195762</th>\n",
       "      <td>2016-03-28 23:40:10</td>\n",
       "      <td>1</td>\n",
       "      <td>unknown</td>\n",
       "      <td>unknown</td>\n",
       "      <td>0</td>\n",
       "      <td>zafira</td>\n",
       "      <td>5000</td>\n",
       "      <td>unknown</td>\n",
       "      <td>opel</td>\n",
       "      <td>unknown</td>\n",
       "      <td>2016-03-28</td>\n",
       "      <td>0</td>\n",
       "      <td>50171</td>\n",
       "      <td>2016-04-05 03:44:47</td>\n",
       "      <td>1800-01-01</td>\n",
       "    </tr>\n",
       "    <tr>\n",
       "      <th>34319</th>\n",
       "      <td>2016-04-01 06:02:10</td>\n",
       "      <td>450</td>\n",
       "      <td>unknown</td>\n",
       "      <td>unknown</td>\n",
       "      <td>1800</td>\n",
       "      <td>unknown</td>\n",
       "      <td>5000</td>\n",
       "      <td>unknown</td>\n",
       "      <td>mitsubishi</td>\n",
       "      <td>no</td>\n",
       "      <td>2016-04-01</td>\n",
       "      <td>0</td>\n",
       "      <td>63322</td>\n",
       "      <td>2016-04-01 09:42:30</td>\n",
       "      <td>1800-02-01</td>\n",
       "    </tr>\n",
       "    <tr>\n",
       "      <th>139291</th>\n",
       "      <td>2016-04-02 16:56:39</td>\n",
       "      <td>450</td>\n",
       "      <td>unknown</td>\n",
       "      <td>unknown</td>\n",
       "      <td>1800</td>\n",
       "      <td>unknown</td>\n",
       "      <td>5000</td>\n",
       "      <td>unknown</td>\n",
       "      <td>mitsubishi</td>\n",
       "      <td>no</td>\n",
       "      <td>2016-04-02</td>\n",
       "      <td>0</td>\n",
       "      <td>63322</td>\n",
       "      <td>2016-04-04 14:46:21</td>\n",
       "      <td>1800-02-01</td>\n",
       "    </tr>\n",
       "    <tr>\n",
       "      <th>351517</th>\n",
       "      <td>2016-03-12 00:57:39</td>\n",
       "      <td>11500</td>\n",
       "      <td>unknown</td>\n",
       "      <td>unknown</td>\n",
       "      <td>16</td>\n",
       "      <td>other</td>\n",
       "      <td>5000</td>\n",
       "      <td>petrol</td>\n",
       "      <td>fiat</td>\n",
       "      <td>unknown</td>\n",
       "      <td>2016-03-11</td>\n",
       "      <td>0</td>\n",
       "      <td>16515</td>\n",
       "      <td>2016-04-05 19:47:27</td>\n",
       "      <td>1800-06-01</td>\n",
       "    </tr>\n",
       "    <tr>\n",
       "      <th>...</th>\n",
       "      <td>...</td>\n",
       "      <td>...</td>\n",
       "      <td>...</td>\n",
       "      <td>...</td>\n",
       "      <td>...</td>\n",
       "      <td>...</td>\n",
       "      <td>...</td>\n",
       "      <td>...</td>\n",
       "      <td>...</td>\n",
       "      <td>...</td>\n",
       "      <td>...</td>\n",
       "      <td>...</td>\n",
       "      <td>...</td>\n",
       "      <td>...</td>\n",
       "      <td>...</td>\n",
       "    </tr>\n",
       "    <tr>\n",
       "      <th>329329</th>\n",
       "      <td>2016-03-08 14:53:38</td>\n",
       "      <td>6999</td>\n",
       "      <td>other</td>\n",
       "      <td>manual</td>\n",
       "      <td>280</td>\n",
       "      <td>unknown</td>\n",
       "      <td>5000</td>\n",
       "      <td>petrol</td>\n",
       "      <td>sonstige_autos</td>\n",
       "      <td>no</td>\n",
       "      <td>2016-03-08</td>\n",
       "      <td>0</td>\n",
       "      <td>91578</td>\n",
       "      <td>2016-04-06 07:15:39</td>\n",
       "      <td>1979-12-01</td>\n",
       "    </tr>\n",
       "    <tr>\n",
       "      <th>26550</th>\n",
       "      <td>2016-03-24 17:45:47</td>\n",
       "      <td>800</td>\n",
       "      <td>unknown</td>\n",
       "      <td>unknown</td>\n",
       "      <td>0</td>\n",
       "      <td>zafira</td>\n",
       "      <td>5000</td>\n",
       "      <td>petrol</td>\n",
       "      <td>opel</td>\n",
       "      <td>unknown</td>\n",
       "      <td>2016-03-24</td>\n",
       "      <td>0</td>\n",
       "      <td>45355</td>\n",
       "      <td>2016-03-29 03:16:49</td>\n",
       "      <td>2066-01-01</td>\n",
       "    </tr>\n",
       "    <tr>\n",
       "      <th>18251</th>\n",
       "      <td>2016-03-16 20:37:54</td>\n",
       "      <td>300</td>\n",
       "      <td>unknown</td>\n",
       "      <td>unknown</td>\n",
       "      <td>0</td>\n",
       "      <td>twingo</td>\n",
       "      <td>5000</td>\n",
       "      <td>unknown</td>\n",
       "      <td>renault</td>\n",
       "      <td>unknown</td>\n",
       "      <td>2016-03-16</td>\n",
       "      <td>0</td>\n",
       "      <td>45307</td>\n",
       "      <td>2016-04-07 06:45:32</td>\n",
       "      <td>2200-12-01</td>\n",
       "    </tr>\n",
       "    <tr>\n",
       "      <th>220536</th>\n",
       "      <td>2016-04-06 02:36:16</td>\n",
       "      <td>100</td>\n",
       "      <td>unknown</td>\n",
       "      <td>unknown</td>\n",
       "      <td>0</td>\n",
       "      <td>unknown</td>\n",
       "      <td>5000</td>\n",
       "      <td>unknown</td>\n",
       "      <td>sonstige_autos</td>\n",
       "      <td>unknown</td>\n",
       "      <td>2016-04-06</td>\n",
       "      <td>0</td>\n",
       "      <td>66538</td>\n",
       "      <td>2016-04-06 02:36:16</td>\n",
       "      <td>2222-01-01</td>\n",
       "    </tr>\n",
       "    <tr>\n",
       "      <th>252356</th>\n",
       "      <td>2016-03-16 21:57:23</td>\n",
       "      <td>0</td>\n",
       "      <td>unknown</td>\n",
       "      <td>unknown</td>\n",
       "      <td>0</td>\n",
       "      <td>unknown</td>\n",
       "      <td>5000</td>\n",
       "      <td>unknown</td>\n",
       "      <td>mercedes_benz</td>\n",
       "      <td>unknown</td>\n",
       "      <td>2016-03-16</td>\n",
       "      <td>0</td>\n",
       "      <td>26169</td>\n",
       "      <td>2016-03-23 12:47:29</td>\n",
       "      <td>2222-01-01</td>\n",
       "    </tr>\n",
       "  </tbody>\n",
       "</table>\n",
       "<p>3396 rows × 15 columns</p>\n",
       "</div>"
      ],
      "text/plain": [
       "               DateCrawled  Price VehicleType  Gearbox  Power    Model  \\\n",
       "148497 2016-04-03 14:50:38      0     unknown  unknown      0  unknown   \n",
       "195762 2016-03-28 23:40:10      1     unknown  unknown      0   zafira   \n",
       "34319  2016-04-01 06:02:10    450     unknown  unknown   1800  unknown   \n",
       "139291 2016-04-02 16:56:39    450     unknown  unknown   1800  unknown   \n",
       "351517 2016-03-12 00:57:39  11500     unknown  unknown     16    other   \n",
       "...                    ...    ...         ...      ...    ...      ...   \n",
       "329329 2016-03-08 14:53:38   6999       other   manual    280  unknown   \n",
       "26550  2016-03-24 17:45:47    800     unknown  unknown      0   zafira   \n",
       "18251  2016-03-16 20:37:54    300     unknown  unknown      0   twingo   \n",
       "220536 2016-04-06 02:36:16    100     unknown  unknown      0  unknown   \n",
       "252356 2016-03-16 21:57:23      0     unknown  unknown      0  unknown   \n",
       "\n",
       "        Kilometer FuelType           Brand Repaired DateCreated  \\\n",
       "148497       5000  unknown           rover  unknown  2016-04-03   \n",
       "195762       5000  unknown            opel  unknown  2016-03-28   \n",
       "34319        5000  unknown      mitsubishi       no  2016-04-01   \n",
       "139291       5000  unknown      mitsubishi       no  2016-04-02   \n",
       "351517       5000   petrol            fiat  unknown  2016-03-11   \n",
       "...           ...      ...             ...      ...         ...   \n",
       "329329       5000   petrol  sonstige_autos       no  2016-03-08   \n",
       "26550        5000   petrol            opel  unknown  2016-03-24   \n",
       "18251        5000  unknown         renault  unknown  2016-03-16   \n",
       "220536       5000  unknown  sonstige_autos  unknown  2016-04-06   \n",
       "252356       5000  unknown   mercedes_benz  unknown  2016-03-16   \n",
       "\n",
       "        NumberOfPictures  PostalCode            LastSeen Registration  \n",
       "148497                 0       66806 2016-04-05 13:47:43   1688-01-01  \n",
       "195762                 0       50171 2016-04-05 03:44:47   1800-01-01  \n",
       "34319                  0       63322 2016-04-01 09:42:30   1800-02-01  \n",
       "139291                 0       63322 2016-04-04 14:46:21   1800-02-01  \n",
       "351517                 0       16515 2016-04-05 19:47:27   1800-06-01  \n",
       "...                  ...         ...                 ...          ...  \n",
       "329329                 0       91578 2016-04-06 07:15:39   1979-12-01  \n",
       "26550                  0       45355 2016-03-29 03:16:49   2066-01-01  \n",
       "18251                  0       45307 2016-04-07 06:45:32   2200-12-01  \n",
       "220536                 0       66538 2016-04-06 02:36:16   2222-01-01  \n",
       "252356                 0       26169 2016-03-23 12:47:29   2222-01-01  \n",
       "\n",
       "[3396 rows x 15 columns]"
      ]
     },
     "metadata": {},
     "output_type": "display_data"
    },
    {
     "name": "stdout",
     "output_type": "stream",
     "text": [
      "Аномалии, когда дата регистрации позже DateCrawled:\n"
     ]
    },
    {
     "data": {
      "text/html": [
       "<div>\n",
       "<style scoped>\n",
       "    .dataframe tbody tr th:only-of-type {\n",
       "        vertical-align: middle;\n",
       "    }\n",
       "\n",
       "    .dataframe tbody tr th {\n",
       "        vertical-align: top;\n",
       "    }\n",
       "\n",
       "    .dataframe thead th {\n",
       "        text-align: right;\n",
       "    }\n",
       "</style>\n",
       "<table border=\"1\" class=\"dataframe\">\n",
       "  <thead>\n",
       "    <tr style=\"text-align: right;\">\n",
       "      <th></th>\n",
       "      <th>DateCrawled</th>\n",
       "      <th>Price</th>\n",
       "      <th>VehicleType</th>\n",
       "      <th>Gearbox</th>\n",
       "      <th>Power</th>\n",
       "      <th>Model</th>\n",
       "      <th>Kilometer</th>\n",
       "      <th>FuelType</th>\n",
       "      <th>Brand</th>\n",
       "      <th>Repaired</th>\n",
       "      <th>DateCreated</th>\n",
       "      <th>NumberOfPictures</th>\n",
       "      <th>PostalCode</th>\n",
       "      <th>LastSeen</th>\n",
       "      <th>Registration</th>\n",
       "    </tr>\n",
       "  </thead>\n",
       "  <tbody>\n",
       "    <tr>\n",
       "      <th>22</th>\n",
       "      <td>2016-03-23 14:52:51</td>\n",
       "      <td>2900</td>\n",
       "      <td>unknown</td>\n",
       "      <td>manual</td>\n",
       "      <td>90</td>\n",
       "      <td>meriva</td>\n",
       "      <td>150000</td>\n",
       "      <td>petrol</td>\n",
       "      <td>opel</td>\n",
       "      <td>no</td>\n",
       "      <td>2016-03-23</td>\n",
       "      <td>0</td>\n",
       "      <td>49716</td>\n",
       "      <td>2016-03-31 01:16:33</td>\n",
       "      <td>2018-05-01</td>\n",
       "    </tr>\n",
       "    <tr>\n",
       "      <th>26</th>\n",
       "      <td>2016-03-10 19:38:18</td>\n",
       "      <td>5555</td>\n",
       "      <td>unknown</td>\n",
       "      <td>manual</td>\n",
       "      <td>125</td>\n",
       "      <td>c4</td>\n",
       "      <td>125000</td>\n",
       "      <td>unknown</td>\n",
       "      <td>citroen</td>\n",
       "      <td>no</td>\n",
       "      <td>2016-03-10</td>\n",
       "      <td>0</td>\n",
       "      <td>31139</td>\n",
       "      <td>2016-03-16 09:16:46</td>\n",
       "      <td>2017-04-01</td>\n",
       "    </tr>\n",
       "    <tr>\n",
       "      <th>31</th>\n",
       "      <td>2016-03-29 16:57:02</td>\n",
       "      <td>899</td>\n",
       "      <td>unknown</td>\n",
       "      <td>manual</td>\n",
       "      <td>60</td>\n",
       "      <td>clio</td>\n",
       "      <td>150000</td>\n",
       "      <td>petrol</td>\n",
       "      <td>renault</td>\n",
       "      <td>unknown</td>\n",
       "      <td>2016-03-29</td>\n",
       "      <td>0</td>\n",
       "      <td>37075</td>\n",
       "      <td>2016-03-29 17:43:07</td>\n",
       "      <td>2016-06-01</td>\n",
       "    </tr>\n",
       "    <tr>\n",
       "      <th>35</th>\n",
       "      <td>2016-03-08 07:54:46</td>\n",
       "      <td>350</td>\n",
       "      <td>unknown</td>\n",
       "      <td>manual</td>\n",
       "      <td>75</td>\n",
       "      <td>golf</td>\n",
       "      <td>150000</td>\n",
       "      <td>petrol</td>\n",
       "      <td>volkswagen</td>\n",
       "      <td>no</td>\n",
       "      <td>2016-03-08</td>\n",
       "      <td>0</td>\n",
       "      <td>19386</td>\n",
       "      <td>2016-03-08 09:44:50</td>\n",
       "      <td>2016-04-01</td>\n",
       "    </tr>\n",
       "    <tr>\n",
       "      <th>48</th>\n",
       "      <td>2016-03-25 14:40:12</td>\n",
       "      <td>7750</td>\n",
       "      <td>unknown</td>\n",
       "      <td>manual</td>\n",
       "      <td>80</td>\n",
       "      <td>golf</td>\n",
       "      <td>100000</td>\n",
       "      <td>petrol</td>\n",
       "      <td>volkswagen</td>\n",
       "      <td>unknown</td>\n",
       "      <td>2016-03-25</td>\n",
       "      <td>0</td>\n",
       "      <td>48499</td>\n",
       "      <td>2016-03-31 21:47:44</td>\n",
       "      <td>2017-01-01</td>\n",
       "    </tr>\n",
       "    <tr>\n",
       "      <th>...</th>\n",
       "      <td>...</td>\n",
       "      <td>...</td>\n",
       "      <td>...</td>\n",
       "      <td>...</td>\n",
       "      <td>...</td>\n",
       "      <td>...</td>\n",
       "      <td>...</td>\n",
       "      <td>...</td>\n",
       "      <td>...</td>\n",
       "      <td>...</td>\n",
       "      <td>...</td>\n",
       "      <td>...</td>\n",
       "      <td>...</td>\n",
       "      <td>...</td>\n",
       "      <td>...</td>\n",
       "    </tr>\n",
       "    <tr>\n",
       "      <th>354033</th>\n",
       "      <td>2016-03-10 23:36:19</td>\n",
       "      <td>1350</td>\n",
       "      <td>unknown</td>\n",
       "      <td>manual</td>\n",
       "      <td>0</td>\n",
       "      <td>clk</td>\n",
       "      <td>150000</td>\n",
       "      <td>unknown</td>\n",
       "      <td>mercedes_benz</td>\n",
       "      <td>yes</td>\n",
       "      <td>2016-03-10</td>\n",
       "      <td>0</td>\n",
       "      <td>26427</td>\n",
       "      <td>2016-03-13 02:45:51</td>\n",
       "      <td>2016-08-01</td>\n",
       "    </tr>\n",
       "    <tr>\n",
       "      <th>354038</th>\n",
       "      <td>2016-03-17 00:56:26</td>\n",
       "      <td>2140</td>\n",
       "      <td>unknown</td>\n",
       "      <td>manual</td>\n",
       "      <td>80</td>\n",
       "      <td>fiesta</td>\n",
       "      <td>150000</td>\n",
       "      <td>unknown</td>\n",
       "      <td>ford</td>\n",
       "      <td>no</td>\n",
       "      <td>2016-03-17</td>\n",
       "      <td>0</td>\n",
       "      <td>44866</td>\n",
       "      <td>2016-03-29 15:45:04</td>\n",
       "      <td>2018-06-01</td>\n",
       "    </tr>\n",
       "    <tr>\n",
       "      <th>354088</th>\n",
       "      <td>2016-03-25 09:37:59</td>\n",
       "      <td>1250</td>\n",
       "      <td>unknown</td>\n",
       "      <td>unknown</td>\n",
       "      <td>0</td>\n",
       "      <td>corsa</td>\n",
       "      <td>150000</td>\n",
       "      <td>petrol</td>\n",
       "      <td>opel</td>\n",
       "      <td>unknown</td>\n",
       "      <td>2016-03-25</td>\n",
       "      <td>0</td>\n",
       "      <td>45527</td>\n",
       "      <td>2016-04-06 07:46:13</td>\n",
       "      <td>2018-01-01</td>\n",
       "    </tr>\n",
       "    <tr>\n",
       "      <th>354124</th>\n",
       "      <td>2016-03-05 14:55:29</td>\n",
       "      <td>5000</td>\n",
       "      <td>unknown</td>\n",
       "      <td>manual</td>\n",
       "      <td>120</td>\n",
       "      <td>other</td>\n",
       "      <td>150000</td>\n",
       "      <td>unknown</td>\n",
       "      <td>citroen</td>\n",
       "      <td>yes</td>\n",
       "      <td>2016-03-05</td>\n",
       "      <td>0</td>\n",
       "      <td>15518</td>\n",
       "      <td>2016-04-05 11:48:09</td>\n",
       "      <td>2017-07-01</td>\n",
       "    </tr>\n",
       "    <tr>\n",
       "      <th>354196</th>\n",
       "      <td>2016-03-09 13:37:43</td>\n",
       "      <td>5250</td>\n",
       "      <td>unknown</td>\n",
       "      <td>auto</td>\n",
       "      <td>150</td>\n",
       "      <td>159</td>\n",
       "      <td>150000</td>\n",
       "      <td>unknown</td>\n",
       "      <td>alfa_romeo</td>\n",
       "      <td>no</td>\n",
       "      <td>2016-03-09</td>\n",
       "      <td>0</td>\n",
       "      <td>51371</td>\n",
       "      <td>2016-03-13 01:44:13</td>\n",
       "      <td>2016-12-01</td>\n",
       "    </tr>\n",
       "  </tbody>\n",
       "</table>\n",
       "<p>19654 rows × 15 columns</p>\n",
       "</div>"
      ],
      "text/plain": [
       "               DateCrawled  Price VehicleType  Gearbox  Power   Model  \\\n",
       "22     2016-03-23 14:52:51   2900     unknown   manual     90  meriva   \n",
       "26     2016-03-10 19:38:18   5555     unknown   manual    125      c4   \n",
       "31     2016-03-29 16:57:02    899     unknown   manual     60    clio   \n",
       "35     2016-03-08 07:54:46    350     unknown   manual     75    golf   \n",
       "48     2016-03-25 14:40:12   7750     unknown   manual     80    golf   \n",
       "...                    ...    ...         ...      ...    ...     ...   \n",
       "354033 2016-03-10 23:36:19   1350     unknown   manual      0     clk   \n",
       "354038 2016-03-17 00:56:26   2140     unknown   manual     80  fiesta   \n",
       "354088 2016-03-25 09:37:59   1250     unknown  unknown      0   corsa   \n",
       "354124 2016-03-05 14:55:29   5000     unknown   manual    120   other   \n",
       "354196 2016-03-09 13:37:43   5250     unknown     auto    150     159   \n",
       "\n",
       "        Kilometer FuelType          Brand Repaired DateCreated  \\\n",
       "22         150000   petrol           opel       no  2016-03-23   \n",
       "26         125000  unknown        citroen       no  2016-03-10   \n",
       "31         150000   petrol        renault  unknown  2016-03-29   \n",
       "35         150000   petrol     volkswagen       no  2016-03-08   \n",
       "48         100000   petrol     volkswagen  unknown  2016-03-25   \n",
       "...           ...      ...            ...      ...         ...   \n",
       "354033     150000  unknown  mercedes_benz      yes  2016-03-10   \n",
       "354038     150000  unknown           ford       no  2016-03-17   \n",
       "354088     150000   petrol           opel  unknown  2016-03-25   \n",
       "354124     150000  unknown        citroen      yes  2016-03-05   \n",
       "354196     150000  unknown     alfa_romeo       no  2016-03-09   \n",
       "\n",
       "        NumberOfPictures  PostalCode            LastSeen Registration  \n",
       "22                     0       49716 2016-03-31 01:16:33   2018-05-01  \n",
       "26                     0       31139 2016-03-16 09:16:46   2017-04-01  \n",
       "31                     0       37075 2016-03-29 17:43:07   2016-06-01  \n",
       "35                     0       19386 2016-03-08 09:44:50   2016-04-01  \n",
       "48                     0       48499 2016-03-31 21:47:44   2017-01-01  \n",
       "...                  ...         ...                 ...          ...  \n",
       "354033                 0       26427 2016-03-13 02:45:51   2016-08-01  \n",
       "354038                 0       44866 2016-03-29 15:45:04   2018-06-01  \n",
       "354088                 0       45527 2016-04-06 07:46:13   2018-01-01  \n",
       "354124                 0       15518 2016-04-05 11:48:09   2017-07-01  \n",
       "354196                 0       51371 2016-03-13 01:44:13   2016-12-01  \n",
       "\n",
       "[19654 rows x 15 columns]"
      ]
     },
     "metadata": {},
     "output_type": "display_data"
    },
    {
     "name": "stdout",
     "output_type": "stream",
     "text": [
      "Аномалии, когда дата регистрации позже DateCreated:\n"
     ]
    },
    {
     "data": {
      "text/html": [
       "<div>\n",
       "<style scoped>\n",
       "    .dataframe tbody tr th:only-of-type {\n",
       "        vertical-align: middle;\n",
       "    }\n",
       "\n",
       "    .dataframe tbody tr th {\n",
       "        vertical-align: top;\n",
       "    }\n",
       "\n",
       "    .dataframe thead th {\n",
       "        text-align: right;\n",
       "    }\n",
       "</style>\n",
       "<table border=\"1\" class=\"dataframe\">\n",
       "  <thead>\n",
       "    <tr style=\"text-align: right;\">\n",
       "      <th></th>\n",
       "      <th>DateCrawled</th>\n",
       "      <th>Price</th>\n",
       "      <th>VehicleType</th>\n",
       "      <th>Gearbox</th>\n",
       "      <th>Power</th>\n",
       "      <th>Model</th>\n",
       "      <th>Kilometer</th>\n",
       "      <th>FuelType</th>\n",
       "      <th>Brand</th>\n",
       "      <th>Repaired</th>\n",
       "      <th>DateCreated</th>\n",
       "      <th>NumberOfPictures</th>\n",
       "      <th>PostalCode</th>\n",
       "      <th>LastSeen</th>\n",
       "      <th>Registration</th>\n",
       "    </tr>\n",
       "  </thead>\n",
       "  <tbody>\n",
       "    <tr>\n",
       "      <th>207022</th>\n",
       "      <td>2016-04-01 01:55:08</td>\n",
       "      <td>1100</td>\n",
       "      <td>unknown</td>\n",
       "      <td>manual</td>\n",
       "      <td>105</td>\n",
       "      <td>golf</td>\n",
       "      <td>150000</td>\n",
       "      <td>unknown</td>\n",
       "      <td>volkswagen</td>\n",
       "      <td>yes</td>\n",
       "      <td>2016-03-31</td>\n",
       "      <td>0</td>\n",
       "      <td>76857</td>\n",
       "      <td>2016-04-05 01:18:13</td>\n",
       "      <td>2016-04-01</td>\n",
       "    </tr>\n",
       "  </tbody>\n",
       "</table>\n",
       "</div>"
      ],
      "text/plain": [
       "               DateCrawled  Price VehicleType Gearbox  Power Model  Kilometer  \\\n",
       "207022 2016-04-01 01:55:08   1100     unknown  manual    105  golf     150000   \n",
       "\n",
       "       FuelType       Brand Repaired DateCreated  NumberOfPictures  \\\n",
       "207022  unknown  volkswagen      yes  2016-03-31                 0   \n",
       "\n",
       "        PostalCode            LastSeen Registration  \n",
       "207022       76857 2016-04-05 01:18:13   2016-04-01  "
      ]
     },
     "metadata": {},
     "output_type": "display_data"
    }
   ],
   "source": [
    "# определяем ожидаемый диапазон дат\n",
    "start_date = pd.Timestamp('1980-01-01')  # 1 января 1950 года\n",
    "end_date = pd.Timestamp(datetime.now())  # сегодняшняя дата\n",
    "\n",
    "# перебераем все столбцы в df\n",
    "for col in df.columns:\n",
    "    # является ли столбец типом datetime\n",
    "    if pd.api.types.is_datetime64_dtype(df[col]):\n",
    "        # все даты, которые выходят за пределы этого диапазона\n",
    "        anomalies = df[(df[col] < start_date) | (df[col] > end_date)]\n",
    "        # если есть аномалии, вывести их\n",
    "        if not anomalies.empty:\n",
    "            print(f\"Аномалии в столбце {col}:\")\n",
    "            display(anomalies.sort_values(by=col))  # сортировка аномалий по возрастанию\n",
    "        # уберить все даты, которые выходят за пределы этого диапазона\n",
    "        df = df[(df[col] >= start_date) & (df[col] <= end_date)]\n",
    "\n",
    "# Проверяем, если дата регистрации позже остальных дат\n",
    "if 'Registration' in df.columns:\n",
    "    for col in df.columns:\n",
    "        if pd.api.types.is_datetime64_dtype(df[col]) and col != 'Registration':\n",
    "            anomalies = df[df['Registration'] > df[col]]\n",
    "            if not anomalies.empty:\n",
    "                print(f\"Аномалии, когда дата регистрации позже {col}:\")\n",
    "                display(anomalies)\n",
    "            df = df[df['Registration'] < df[col]]\n",
    "\n",
    "# Проверяем, если DateCreated позже DateCrawled\n",
    "if 'DateCreated' in df.columns and 'DateCrawled' in df.columns:\n",
    "    anomalies = df[df['DateCreated'] > df['DateCrawled']]\n",
    "    if not anomalies.empty:\n",
    "        print(\"Аномалии, когда DateCreated позже DateCrawled:\")\n",
    "        display(anomalies)\n",
    "    df = df[df['DateCreated'] < df['DateCrawled']]\n"
   ]
  },
  {
   "cell_type": "code",
   "execution_count": 18,
   "metadata": {
    "metadata": {}
   },
   "outputs": [
    {
     "name": "stdout",
     "output_type": "stream",
     "text": [
      "Количество выбросов для каждого признака:\n",
      "Price               16843\n",
      "Power                7050\n",
      "Kilometer           49388\n",
      "NumberOfPictures        0\n",
      "PostalCode              0\n",
      "dtype: int64\n"
     ]
    },
    {
     "data": {
      "image/png": "[encoded data removed]",
      "text/plain": [
       "<Figure size 1000x400 with 1 Axes>"
      ]
     },
     "metadata": {},
     "output_type": "display_data"
    },
    {
     "data": {
      "image/png": "[encoded data removed]",
      "text/plain": [
       "<Figure size 1000x400 with 1 Axes>"
      ]
     },
     "metadata": {},
     "output_type": "display_data"
    },
    {
     "data": {
      "image/png": "[encoded data removed]",
      "text/plain": [
       "<Figure size 1000x400 with 1 Axes>"
      ]
     },
     "metadata": {},
     "output_type": "display_data"
    },
    {
     "data": {
      "image/png": "[encoded data removed]",
      "text/plain": [
       "<Figure size 1000x400 with 1 Axes>"
      ]
     },
     "metadata": {},
     "output_type": "display_data"
    },
    {
     "data": {
      "image/png": "[encoded data removed]",
      "text/plain": [
       "<Figure size 1000x400 with 1 Axes>"
      ]
     },
     "metadata": {},
     "output_type": "display_data"
    }
   ],
   "source": [
    "# Выбираем только числовые столбцы\n",
    "numeric_cols = df.select_dtypes(include=[np.number])\n",
    "\n",
    "# Определение квантилей\n",
    "Q1 = numeric_cols.quantile(0.25)\n",
    "Q3 = numeric_cols.quantile(0.75)\n",
    "IQR = Q3 - Q1\n",
    "\n",
    "# Идентификация выбросов\n",
    "outliers = (numeric_cols < (Q1 - 1.5 * IQR)) | (numeric_cols > (Q3 + 1.5 * IQR))\n",
    "\n",
    "# Подсчет и вывод количества выбросов для каждого признака\n",
    "outlier_counts = outliers.sum()\n",
    "print(\"Количество выбросов для каждого признака:\")\n",
    "print(outlier_counts)\n",
    "\n",
    "# График \"ящик с усами\" для каждого числового столбца\n",
    "for col in numeric_cols.columns:\n",
    "    plt.figure(figsize=(10, 4))\n",
    "    sns.boxplot(x=df[col])\n",
    "    plt.title(f\"Boxplot of {col}\")\n",
    "    plt.show()\n"
   ]
  },
  {
   "cell_type": "code",
   "execution_count": 19,
   "metadata": {
    "metadata": {}
   },
   "outputs": [],
   "source": [
    "# Удаление выбросов для 'Power'\n",
    "df = df[~((df['Power'] < (Q1['Power'] - 1.5 * IQR['Power'])) | (df['Power'] > (Q3['Power'] + 1.5 * IQR['Power'])))]\n",
    "\n",
    "# Удаление строк, где 'Price' меньше 100\n",
    "df = df[df['Price'] >= 100]\n",
    "\n",
    "# Удаление значений 'Price', которые меньше 25-го процентиля\n",
    "df = df[~(df['Price'] < (Q1['Price'] - 1.5 * IQR['Price']))]"
   ]
  },
  {
   "cell_type": "code",
   "execution_count": 20,
   "metadata": {
    "metadata": {}
   },
   "outputs": [
    {
     "name": "stdout",
     "output_type": "stream",
     "text": [
      "<class 'pandas.core.frame.DataFrame'>\n",
      "RangeIndex: 312509 entries, 0 to 312508\n",
      "Data columns (total 15 columns):\n",
      " #   Column            Non-Null Count   Dtype         \n",
      "---  ------            --------------   -----         \n",
      " 0   DateCrawled       312509 non-null  datetime64[ns]\n",
      " 1   Price             312509 non-null  int64         \n",
      " 2   VehicleType       312509 non-null  object        \n",
      " 3   Gearbox           312509 non-null  object        \n",
      " 4   Power             312509 non-null  int64         \n",
      " 5   Model             312509 non-null  object        \n",
      " 6   Kilometer         312509 non-null  int64         \n",
      " 7   FuelType          312509 non-null  object        \n",
      " 8   Brand             312509 non-null  object        \n",
      " 9   Repaired          312509 non-null  object        \n",
      " 10  DateCreated       312509 non-null  datetime64[ns]\n",
      " 11  NumberOfPictures  312509 non-null  int64         \n",
      " 12  PostalCode        312509 non-null  int64         \n",
      " 13  LastSeen          312509 non-null  datetime64[ns]\n",
      " 14  Registration      312509 non-null  datetime64[ns]\n",
      "dtypes: datetime64[ns](4), int64(5), object(6)\n",
      "memory usage: 35.8+ MB\n"
     ]
    }
   ],
   "source": [
    "df = df.reset_index(drop=True)\n",
    "df.info()"
   ]
  },
  {
   "cell_type": "markdown",
   "metadata": {},
   "source": [
    "Проведена значительная работа по очистке и подготовке данных для анализа подержанных автомобилей. Вот основные шаги:\n",
    "\n",
    "- **Установлен диапазон дат**: Определены границы дат с 1980 года до настоящего времени, чтобы исключить нереалистичные значения.\n",
    "- **Обнаружение и удаление аномалий**: Проверены столбцы с датами на предмет значений, выходящих за установленные границы, и удалены аномальные данные.\n",
    "- **Проверка последовательности дат**: Убедились, что дата регистрации автомобиля не позже других дат, связанных с автомобилем, и что дата создания записи не позже даты её обхода.\n",
    "- **Идентификация и удаление выбросов**: Вычислены квантили для числовых столбцов и определены выбросы с помощью межквартильного размаха (IQR). Удалены выбросы для ключевых признаков, таких как 'Power' и 'Price'.\n",
    "- **Визуализация данных**: Созданы графики \"ящик с усами\" для каждого числового столбца, чтобы оценить распределение данных и выбросы.\n",
    "- **Очистка данных**: Удалены строки с нереалистично низкими ценами, чтобы улучшить качество данных.\n",
    "\n",
    "Теперь данные готовы к дальнейшему анализу, включая изучение корреляций между признаками и инженерию признаков для моделирования."
   ]
  },
  {
   "cell_type": "markdown",
   "metadata": {},
   "source": [
    "#### Изучение зависимостей и создание признаков"
   ]
  },
  {
   "cell_type": "code",
   "execution_count": 21,
   "metadata": {},
   "outputs": [],
   "source": [
    "#Объеденение признаков\n",
    "df['Brand_Model'] = df['Brand'] + '_' + df['Model']\n",
    "\n",
    "# Создание нового признака 'CarAgeInMonths'\n",
    "df['CarAgeInMonths'] = (df['DateCrawled'] - df['Registration']).dt.days / 30.44\n",
    "\n",
    "for col in df.columns:\n",
    "    if df[col].dtype == 'object':\n",
    "        df[col] = df[col].astype('category')\n",
    "\n",
    "# Удаляем не нужные столбцы \n",
    "df = df.drop(columns=['Brand', 'Model', 'NumberOfPictures','DateCrawled', 'DateCreated', 'LastSeen', 'Registration', 'PostalCode'])"
   ]
  },
  {
   "cell_type": "code",
   "execution_count": 22,
   "metadata": {},
   "outputs": [],
   "source": [
    "# числовые столбцы\n",
    "interval_cols = ['Price', 'Power', 'CarAgeInMonths']"
   ]
  },
  {
   "cell_type": "code",
   "execution_count": 23,
   "metadata": {},
   "outputs": [
    {
     "data": {
      "image/png": "[encoded data removed]",
      "text/plain": [
       "<Figure size 1500x1200 with 2 Axes>"
      ]
     },
     "metadata": {},
     "output_type": "display_data"
    }
   ],
   "source": [
    "# вычисление коэффициентов корреляции phi для датафрейма \n",
    "phik_overview = df.phik_matrix(interval_cols=interval_cols)\n",
    "\n",
    "# визуализация тепловой карты коэффициентов корреляции\n",
    "plot_correlation_matrix(\n",
    "    phik_overview.values,\n",
    "    x_labels=phik_overview.columns,\n",
    "    y_labels=phik_overview.index,\n",
    "    title=r\"correlation $\\phi_K$\",\n",
    "    fontsize_factor=1.5,\n",
    "    figsize=(15, 12)\n",
    ")"
   ]
  },
  {
   "cell_type": "markdown",
   "metadata": {},
   "source": [
    "**Общий вывод по матрице корреляции:**\n",
    "\n",
    "Изначальная матрица корреляции показывала, что целевой признак **price** имеет наибольшую корреляцию с **CarAgeInMonths** (0.72), **Model** (0.56), и **Power** (0.52). Это указывает на то, что возраст автомобиля, модель и мощность двигателя являются значимыми предикторами цены.\n",
    "\n",
    "**О мультикорреляции:**\n",
    "\n",
    "Высокие значения корреляции между **Model** и **Brand** (1), а также между **Model** и **VehicleType** (0.90) указывают на наличие мультикорреляции. Это может привести к проблемам в мультифакторной регрессионной модели, так как эти признаки несут избыточную информацию.\n",
    "\n",
    "**Объединение Brand и Model в один признак:**\n",
    "\n",
    "После объединения **Brand** и **Model** в один признак **Brand_Model**, корреляция этого нового признака с ценой увеличилась до 0.58, что делает его более значимым предиктором цены, чем каждый из них по отдельности. Также это уменьшает мультикорреляцию, так как убирается один из высококоррелированных признаков.\n",
    "\n",
    "**Вывод:**\n",
    "\n",
    "Объединение **Brand** и **Model** в один признак может быть полезным для улучшения предсказательной способности модели и уменьшения мультикорреляции. Однако, следует учитывать, что это также может привести к потере некоторой информации, поэтому необходимо тщательно оценить влияние такого изменения на модель."
   ]
  },
  {
   "cell_type": "markdown",
   "metadata": {},
   "source": [
    "### Подготовка данных "
   ]
  },
  {
   "cell_type": "markdown",
   "metadata": {},
   "source": [
    "#### Разделение на тренировачную и тестовую выборку"
   ]
  },
  {
   "cell_type": "code",
   "execution_count": 24,
   "metadata": {},
   "outputs": [],
   "source": [
    "# Задаем константу\n",
    "RANDOM_STATE = 13\n",
    "\n",
    "# Определяем признаки и целевую переменную\n",
    "features = df.drop('Price', axis=1)\n",
    "target = df['Price']\n",
    "\n",
    "# Разделяем данные на тренировочные и тестовые наборы\n",
    "X_train, X_test, y_train, y_test = train_test_split(features, target, test_size=0.2, random_state=RANDOM_STATE)"
   ]
  },
  {
   "cell_type": "code",
   "execution_count": 25,
   "metadata": {},
   "outputs": [
    {
     "data": {
      "text/html": [
       "<div>\n",
       "<style scoped>\n",
       "    .dataframe tbody tr th:only-of-type {\n",
       "        vertical-align: middle;\n",
       "    }\n",
       "\n",
       "    .dataframe tbody tr th {\n",
       "        vertical-align: top;\n",
       "    }\n",
       "\n",
       "    .dataframe thead th {\n",
       "        text-align: right;\n",
       "    }\n",
       "</style>\n",
       "<table border=\"1\" class=\"dataframe\">\n",
       "  <thead>\n",
       "    <tr style=\"text-align: right;\">\n",
       "      <th></th>\n",
       "      <th>VehicleType</th>\n",
       "      <th>Gearbox</th>\n",
       "      <th>Power</th>\n",
       "      <th>Kilometer</th>\n",
       "      <th>FuelType</th>\n",
       "      <th>Repaired</th>\n",
       "      <th>Brand_Model</th>\n",
       "      <th>CarAgeInMonths</th>\n",
       "    </tr>\n",
       "  </thead>\n",
       "  <tbody>\n",
       "    <tr>\n",
       "      <th>202200</th>\n",
       "      <td>convertible</td>\n",
       "      <td>manual</td>\n",
       "      <td>0</td>\n",
       "      <td>150000</td>\n",
       "      <td>petrol</td>\n",
       "      <td>no</td>\n",
       "      <td>bmw_3er</td>\n",
       "      <td>202.726675</td>\n",
       "    </tr>\n",
       "    <tr>\n",
       "      <th>174618</th>\n",
       "      <td>wagon</td>\n",
       "      <td>manual</td>\n",
       "      <td>170</td>\n",
       "      <td>150000</td>\n",
       "      <td>petrol</td>\n",
       "      <td>no</td>\n",
       "      <td>mercedes_benz_c_klasse</td>\n",
       "      <td>211.333771</td>\n",
       "    </tr>\n",
       "    <tr>\n",
       "      <th>126592</th>\n",
       "      <td>bus</td>\n",
       "      <td>manual</td>\n",
       "      <td>60</td>\n",
       "      <td>150000</td>\n",
       "      <td>petrol</td>\n",
       "      <td>unknown</td>\n",
       "      <td>volkswagen_transporter</td>\n",
       "      <td>287.417871</td>\n",
       "    </tr>\n",
       "    <tr>\n",
       "      <th>296510</th>\n",
       "      <td>small</td>\n",
       "      <td>manual</td>\n",
       "      <td>50</td>\n",
       "      <td>150000</td>\n",
       "      <td>petrol</td>\n",
       "      <td>no</td>\n",
       "      <td>volkswagen_polo</td>\n",
       "      <td>228.646518</td>\n",
       "    </tr>\n",
       "    <tr>\n",
       "      <th>151045</th>\n",
       "      <td>bus</td>\n",
       "      <td>manual</td>\n",
       "      <td>86</td>\n",
       "      <td>150000</td>\n",
       "      <td>petrol</td>\n",
       "      <td>no</td>\n",
       "      <td>ford_transit</td>\n",
       "      <td>132.621551</td>\n",
       "    </tr>\n",
       "    <tr>\n",
       "      <th>...</th>\n",
       "      <td>...</td>\n",
       "      <td>...</td>\n",
       "      <td>...</td>\n",
       "      <td>...</td>\n",
       "      <td>...</td>\n",
       "      <td>...</td>\n",
       "      <td>...</td>\n",
       "      <td>...</td>\n",
       "    </tr>\n",
       "    <tr>\n",
       "      <th>218868</th>\n",
       "      <td>small</td>\n",
       "      <td>auto</td>\n",
       "      <td>84</td>\n",
       "      <td>60000</td>\n",
       "      <td>petrol</td>\n",
       "      <td>no</td>\n",
       "      <td>smart_fortwo</td>\n",
       "      <td>77.562418</td>\n",
       "    </tr>\n",
       "    <tr>\n",
       "      <th>164706</th>\n",
       "      <td>small</td>\n",
       "      <td>manual</td>\n",
       "      <td>54</td>\n",
       "      <td>90000</td>\n",
       "      <td>petrol</td>\n",
       "      <td>no</td>\n",
       "      <td>volkswagen_polo</td>\n",
       "      <td>164.191853</td>\n",
       "    </tr>\n",
       "    <tr>\n",
       "      <th>256742</th>\n",
       "      <td>sedan</td>\n",
       "      <td>manual</td>\n",
       "      <td>75</td>\n",
       "      <td>150000</td>\n",
       "      <td>petrol</td>\n",
       "      <td>unknown</td>\n",
       "      <td>volkswagen_golf</td>\n",
       "      <td>250.131406</td>\n",
       "    </tr>\n",
       "    <tr>\n",
       "      <th>253456</th>\n",
       "      <td>convertible</td>\n",
       "      <td>manual</td>\n",
       "      <td>113</td>\n",
       "      <td>125000</td>\n",
       "      <td>petrol</td>\n",
       "      <td>no</td>\n",
       "      <td>bmw_3er</td>\n",
       "      <td>276.872536</td>\n",
       "    </tr>\n",
       "    <tr>\n",
       "      <th>178352</th>\n",
       "      <td>wagon</td>\n",
       "      <td>manual</td>\n",
       "      <td>101</td>\n",
       "      <td>150000</td>\n",
       "      <td>petrol</td>\n",
       "      <td>yes</td>\n",
       "      <td>opel_zafira</td>\n",
       "      <td>130.486202</td>\n",
       "    </tr>\n",
       "  </tbody>\n",
       "</table>\n",
       "<p>250007 rows × 8 columns</p>\n",
       "</div>"
      ],
      "text/plain": [
       "        VehicleType Gearbox  Power  Kilometer FuelType Repaired  \\\n",
       "202200  convertible  manual      0     150000   petrol       no   \n",
       "174618        wagon  manual    170     150000   petrol       no   \n",
       "126592          bus  manual     60     150000   petrol  unknown   \n",
       "296510        small  manual     50     150000   petrol       no   \n",
       "151045          bus  manual     86     150000   petrol       no   \n",
       "...             ...     ...    ...        ...      ...      ...   \n",
       "218868        small    auto     84      60000   petrol       no   \n",
       "164706        small  manual     54      90000   petrol       no   \n",
       "256742        sedan  manual     75     150000   petrol  unknown   \n",
       "253456  convertible  manual    113     125000   petrol       no   \n",
       "178352        wagon  manual    101     150000   petrol      yes   \n",
       "\n",
       "                   Brand_Model  CarAgeInMonths  \n",
       "202200                 bmw_3er      202.726675  \n",
       "174618  mercedes_benz_c_klasse      211.333771  \n",
       "126592  volkswagen_transporter      287.417871  \n",
       "296510         volkswagen_polo      228.646518  \n",
       "151045            ford_transit      132.621551  \n",
       "...                        ...             ...  \n",
       "218868            smart_fortwo       77.562418  \n",
       "164706         volkswagen_polo      164.191853  \n",
       "256742         volkswagen_golf      250.131406  \n",
       "253456                 bmw_3er      276.872536  \n",
       "178352             opel_zafira      130.486202  \n",
       "\n",
       "[250007 rows x 8 columns]"
      ]
     },
     "execution_count": 25,
     "metadata": {},
     "output_type": "execute_result"
    }
   ],
   "source": [
    "X_train"
   ]
  },
  {
   "cell_type": "markdown",
   "metadata": {},
   "source": [
    "#### Создание Pipeline для подготовки признаков"
   ]
  },
  {
   "cell_type": "code",
   "execution_count": 26,
   "metadata": {},
   "outputs": [],
   "source": [
    "# Определение категориальных и числовых признаков\n",
    "categorical_features = features.select_dtypes(include=['category']).columns\n",
    "numerical_features = features.select_dtypes(include=[np.number]).columns\n",
    "\n",
    "# Создание пайплайна для категориальных признаков\n",
    "categorical_transformer = Pipeline(steps=[\n",
    "    ('imputer', SimpleImputer(strategy='constant', fill_value='unknown')),\n",
    "    ('onehot', OneHotEncoder(drop='first', handle_unknown='ignore'))\n",
    "])\n"
   ]
  },
  {
   "cell_type": "code",
   "execution_count": 27,
   "metadata": {},
   "outputs": [],
   "source": [
    "# Создание пайплайна для числовых признаков\n",
    "numerical_transformer = Pipeline(steps=[\n",
    "    ('imputer', SimpleImputer(strategy='median')),  # Заполнение пропусков медианой\n",
    "    ('poly', PolynomialFeatures(degree=3)),\n",
    "    ('scaler', 'passthrough')  # Масштабирование будет выбрано позже\n",
    "])\n",
    "\n",
    "# Объединение пайплайнов в препроцессор\n",
    "preprocessor = ColumnTransformer(\n",
    "    transformers=[\n",
    "        ('num', numerical_transformer, numerical_features),\n",
    "        ('cat', categorical_transformer, categorical_features)\n",
    "    ])\n",
    "\n",
    "preprocessor_LGBMR = ColumnTransformer(\n",
    "    transformers=[\n",
    "        ('num', numerical_transformer, numerical_features)\n",
    "    ])"
   ]
  },
  {
   "cell_type": "code",
   "execution_count": 28,
   "metadata": {},
   "outputs": [
    {
     "data": {
      "text/html": [
       "<style>#sk-container-id-1 {\n",
       "  /* Definition of color scheme common for light and dark mode */\n",
       "  --sklearn-color-text: black;\n",
       "  --sklearn-color-line: gray;\n",
       "  /* Definition of color scheme for unfitted estimators */\n",
       "  --sklearn-color-unfitted-level-0: #fff5e6;\n",
       "  --sklearn-color-unfitted-level-1: #f6e4d2;\n",
       "  --sklearn-color-unfitted-level-2: #ffe0b3;\n",
       "  --sklearn-color-unfitted-level-3: chocolate;\n",
       "  /* Definition of color scheme for fitted estimators */\n",
       "  --sklearn-color-fitted-level-0: #f0f8ff;\n",
       "  --sklearn-color-fitted-level-1: #d4ebff;\n",
       "  --sklearn-color-fitted-level-2: #b3dbfd;\n",
       "  --sklearn-color-fitted-level-3: cornflowerblue;\n",
       "\n",
       "  /* Specific color for light theme */\n",
       "  --sklearn-color-text-on-default-background: var(--sg-text-color, var(--theme-code-foreground, var(--jp-content-font-color1, black)));\n",
       "  --sklearn-color-background: var(--sg-background-color, var(--theme-background, var(--jp-layout-color0, white)));\n",
       "  --sklearn-color-border-box: var(--sg-text-color, var(--theme-code-foreground, var(--jp-content-font-color1, black)));\n",
       "  --sklearn-color-icon: #696969;\n",
       "\n",
       "  @media (prefers-color-scheme: dark) {\n",
       "    /* Redefinition of color scheme for dark theme */\n",
       "    --sklearn-color-text-on-default-background: var(--sg-text-color, var(--theme-code-foreground, var(--jp-content-font-color1, white)));\n",
       "    --sklearn-color-background: var(--sg-background-color, var(--theme-background, var(--jp-layout-color0, #111)));\n",
       "    --sklearn-color-border-box: var(--sg-text-color, var(--theme-code-foreground, var(--jp-content-font-color1, white)));\n",
       "    --sklearn-color-icon: #878787;\n",
       "  }\n",
       "}\n",
       "\n",
       "#sk-container-id-1 {\n",
       "  color: var(--sklearn-color-text);\n",
       "}\n",
       "\n",
       "#sk-container-id-1 pre {\n",
       "  padding: 0;\n",
       "}\n",
       "\n",
       "#sk-container-id-1 input.sk-hidden--visually {\n",
       "  border: 0;\n",
       "  clip: rect(1px 1px 1px 1px);\n",
       "  clip: rect(1px, 1px, 1px, 1px);\n",
       "  height: 1px;\n",
       "  margin: -1px;\n",
       "  overflow: hidden;\n",
       "  padding: 0;\n",
       "  position: absolute;\n",
       "  width: 1px;\n",
       "}\n",
       "\n",
       "#sk-container-id-1 div.sk-dashed-wrapped {\n",
       "  border: 1px dashed var(--sklearn-color-line);\n",
       "  margin: 0 0.4em 0.5em 0.4em;\n",
       "  box-sizing: border-box;\n",
       "  padding-bottom: 0.4em;\n",
       "  background-color: var(--sklearn-color-background);\n",
       "}\n",
       "\n",
       "#sk-container-id-1 div.sk-container {\n",
       "  /* jupyter's `normalize.less` sets `[hidden] { display: none; }`\n",
       "     but bootstrap.min.css set `[hidden] { display: none !important; }`\n",
       "     so we also need the `!important` here to be able to override the\n",
       "     default hidden behavior on the sphinx rendered scikit-learn.org.\n",
       "     See: https://github.com/scikit-learn/scikit-learn/issues/21755 */\n",
       "  display: inline-block !important;\n",
       "  position: relative;\n",
       "}\n",
       "\n",
       "#sk-container-id-1 div.sk-text-repr-fallback {\n",
       "  display: none;\n",
       "}\n",
       "\n",
       "div.sk-parallel-item,\n",
       "div.sk-serial,\n",
       "div.sk-item {\n",
       "  /* draw centered vertical line to link estimators */\n",
       "  background-image: linear-gradient(var(--sklearn-color-text-on-default-background), var(--sklearn-color-text-on-default-background));\n",
       "  background-size: 2px 100%;\n",
       "  background-repeat: no-repeat;\n",
       "  background-position: center center;\n",
       "}\n",
       "\n",
       "/* Parallel-specific style estimator block */\n",
       "\n",
       "#sk-container-id-1 div.sk-parallel-item::after {\n",
       "  content: \"\";\n",
       "  width: 100%;\n",
       "  border-bottom: 2px solid var(--sklearn-color-text-on-default-background);\n",
       "  flex-grow: 1;\n",
       "}\n",
       "\n",
       "#sk-container-id-1 div.sk-parallel {\n",
       "  display: flex;\n",
       "  align-items: stretch;\n",
       "  justify-content: center;\n",
       "  background-color: var(--sklearn-color-background);\n",
       "  position: relative;\n",
       "}\n",
       "\n",
       "#sk-container-id-1 div.sk-parallel-item {\n",
       "  display: flex;\n",
       "  flex-direction: column;\n",
       "}\n",
       "\n",
       "#sk-container-id-1 div.sk-parallel-item:first-child::after {\n",
       "  align-self: flex-end;\n",
       "  width: 50%;\n",
       "}\n",
       "\n",
       "#sk-container-id-1 div.sk-parallel-item:last-child::after {\n",
       "  align-self: flex-start;\n",
       "  width: 50%;\n",
       "}\n",
       "\n",
       "#sk-container-id-1 div.sk-parallel-item:only-child::after {\n",
       "  width: 0;\n",
       "}\n",
       "\n",
       "/* Serial-specific style estimator block */\n",
       "\n",
       "#sk-container-id-1 div.sk-serial {\n",
       "  display: flex;\n",
       "  flex-direction: column;\n",
       "  align-items: center;\n",
       "  background-color: var(--sklearn-color-background);\n",
       "  padding-right: 1em;\n",
       "  padding-left: 1em;\n",
       "}\n",
       "\n",
       "\n",
       "/* Toggleable style: style used for estimator/Pipeline/ColumnTransformer box that is\n",
       "clickable and can be expanded/collapsed.\n",
       "- Pipeline and ColumnTransformer use this feature and define the default style\n",
       "- Estimators will overwrite some part of the style using the `sk-estimator` class\n",
       "*/\n",
       "\n",
       "/* Pipeline and ColumnTransformer style (default) */\n",
       "\n",
       "#sk-container-id-1 div.sk-toggleable {\n",
       "  /* Default theme specific background. It is overwritten whether we have a\n",
       "  specific estimator or a Pipeline/ColumnTransformer */\n",
       "  background-color: var(--sklearn-color-background);\n",
       "}\n",
       "\n",
       "/* Toggleable label */\n",
       "#sk-container-id-1 label.sk-toggleable__label {\n",
       "  cursor: pointer;\n",
       "  display: block;\n",
       "  width: 100%;\n",
       "  margin-bottom: 0;\n",
       "  padding: 0.5em;\n",
       "  box-sizing: border-box;\n",
       "  text-align: center;\n",
       "}\n",
       "\n",
       "#sk-container-id-1 label.sk-toggleable__label-arrow:before {\n",
       "  /* Arrow on the left of the label */\n",
       "  content: \"▸\";\n",
       "  float: left;\n",
       "  margin-right: 0.25em;\n",
       "  color: var(--sklearn-color-icon);\n",
       "}\n",
       "\n",
       "#sk-container-id-1 label.sk-toggleable__label-arrow:hover:before {\n",
       "  color: var(--sklearn-color-text);\n",
       "}\n",
       "\n",
       "/* Toggleable content - dropdown */\n",
       "\n",
       "#sk-container-id-1 div.sk-toggleable__content {\n",
       "  max-height: 0;\n",
       "  max-width: 0;\n",
       "  overflow: hidden;\n",
       "  text-align: left;\n",
       "  /* unfitted */\n",
       "  background-color: var(--sklearn-color-unfitted-level-0);\n",
       "}\n",
       "\n",
       "#sk-container-id-1 div.sk-toggleable__content.fitted {\n",
       "  /* fitted */\n",
       "  background-color: var(--sklearn-color-fitted-level-0);\n",
       "}\n",
       "\n",
       "#sk-container-id-1 div.sk-toggleable__content pre {\n",
       "  margin: 0.2em;\n",
       "  border-radius: 0.25em;\n",
       "  color: var(--sklearn-color-text);\n",
       "  /* unfitted */\n",
       "  background-color: var(--sklearn-color-unfitted-level-0);\n",
       "}\n",
       "\n",
       "#sk-container-id-1 div.sk-toggleable__content.fitted pre {\n",
       "  /* unfitted */\n",
       "  background-color: var(--sklearn-color-fitted-level-0);\n",
       "}\n",
       "\n",
       "#sk-container-id-1 input.sk-toggleable__control:checked~div.sk-toggleable__content {\n",
       "  /* Expand drop-down */\n",
       "  max-height: 200px;\n",
       "  max-width: 100%;\n",
       "  overflow: auto;\n",
       "}\n",
       "\n",
       "#sk-container-id-1 input.sk-toggleable__control:checked~label.sk-toggleable__label-arrow:before {\n",
       "  content: \"▾\";\n",
       "}\n",
       "\n",
       "/* Pipeline/ColumnTransformer-specific style */\n",
       "\n",
       "#sk-container-id-1 div.sk-label input.sk-toggleable__control:checked~label.sk-toggleable__label {\n",
       "  color: var(--sklearn-color-text);\n",
       "  background-color: var(--sklearn-color-unfitted-level-2);\n",
       "}\n",
       "\n",
       "#sk-container-id-1 div.sk-label.fitted input.sk-toggleable__control:checked~label.sk-toggleable__label {\n",
       "  background-color: var(--sklearn-color-fitted-level-2);\n",
       "}\n",
       "\n",
       "/* Estimator-specific style */\n",
       "\n",
       "/* Colorize estimator box */\n",
       "#sk-container-id-1 div.sk-estimator input.sk-toggleable__control:checked~label.sk-toggleable__label {\n",
       "  /* unfitted */\n",
       "  background-color: var(--sklearn-color-unfitted-level-2);\n",
       "}\n",
       "\n",
       "#sk-container-id-1 div.sk-estimator.fitted input.sk-toggleable__control:checked~label.sk-toggleable__label {\n",
       "  /* fitted */\n",
       "  background-color: var(--sklearn-color-fitted-level-2);\n",
       "}\n",
       "\n",
       "#sk-container-id-1 div.sk-label label.sk-toggleable__label,\n",
       "#sk-container-id-1 div.sk-label label {\n",
       "  /* The background is the default theme color */\n",
       "  color: var(--sklearn-color-text-on-default-background);\n",
       "}\n",
       "\n",
       "/* On hover, darken the color of the background */\n",
       "#sk-container-id-1 div.sk-label:hover label.sk-toggleable__label {\n",
       "  color: var(--sklearn-color-text);\n",
       "  background-color: var(--sklearn-color-unfitted-level-2);\n",
       "}\n",
       "\n",
       "/* Label box, darken color on hover, fitted */\n",
       "#sk-container-id-1 div.sk-label.fitted:hover label.sk-toggleable__label.fitted {\n",
       "  color: var(--sklearn-color-text);\n",
       "  background-color: var(--sklearn-color-fitted-level-2);\n",
       "}\n",
       "\n",
       "/* Estimator label */\n",
       "\n",
       "#sk-container-id-1 div.sk-label label {\n",
       "  font-family: monospace;\n",
       "  font-weight: bold;\n",
       "  display: inline-block;\n",
       "  line-height: 1.2em;\n",
       "}\n",
       "\n",
       "#sk-container-id-1 div.sk-label-container {\n",
       "  text-align: center;\n",
       "}\n",
       "\n",
       "/* Estimator-specific */\n",
       "#sk-container-id-1 div.sk-estimator {\n",
       "  font-family: monospace;\n",
       "  border: 1px dotted var(--sklearn-color-border-box);\n",
       "  border-radius: 0.25em;\n",
       "  box-sizing: border-box;\n",
       "  margin-bottom: 0.5em;\n",
       "  /* unfitted */\n",
       "  background-color: var(--sklearn-color-unfitted-level-0);\n",
       "}\n",
       "\n",
       "#sk-container-id-1 div.sk-estimator.fitted {\n",
       "  /* fitted */\n",
       "  background-color: var(--sklearn-color-fitted-level-0);\n",
       "}\n",
       "\n",
       "/* on hover */\n",
       "#sk-container-id-1 div.sk-estimator:hover {\n",
       "  /* unfitted */\n",
       "  background-color: var(--sklearn-color-unfitted-level-2);\n",
       "}\n",
       "\n",
       "#sk-container-id-1 div.sk-estimator.fitted:hover {\n",
       "  /* fitted */\n",
       "  background-color: var(--sklearn-color-fitted-level-2);\n",
       "}\n",
       "\n",
       "/* Specification for estimator info (e.g. \"i\" and \"?\") */\n",
       "\n",
       "/* Common style for \"i\" and \"?\" */\n",
       "\n",
       ".sk-estimator-doc-link,\n",
       "a:link.sk-estimator-doc-link,\n",
       "a:visited.sk-estimator-doc-link {\n",
       "  float: right;\n",
       "  font-size: smaller;\n",
       "  line-height: 1em;\n",
       "  font-family: monospace;\n",
       "  background-color: var(--sklearn-color-background);\n",
       "  border-radius: 1em;\n",
       "  height: 1em;\n",
       "  width: 1em;\n",
       "  text-decoration: none !important;\n",
       "  margin-left: 1ex;\n",
       "  /* unfitted */\n",
       "  border: var(--sklearn-color-unfitted-level-1) 1pt solid;\n",
       "  color: var(--sklearn-color-unfitted-level-1);\n",
       "}\n",
       "\n",
       ".sk-estimator-doc-link.fitted,\n",
       "a:link.sk-estimator-doc-link.fitted,\n",
       "a:visited.sk-estimator-doc-link.fitted {\n",
       "  /* fitted */\n",
       "  border: var(--sklearn-color-fitted-level-1) 1pt solid;\n",
       "  color: var(--sklearn-color-fitted-level-1);\n",
       "}\n",
       "\n",
       "/* On hover */\n",
       "div.sk-estimator:hover .sk-estimator-doc-link:hover,\n",
       ".sk-estimator-doc-link:hover,\n",
       "div.sk-label-container:hover .sk-estimator-doc-link:hover,\n",
       ".sk-estimator-doc-link:hover {\n",
       "  /* unfitted */\n",
       "  background-color: var(--sklearn-color-unfitted-level-3);\n",
       "  color: var(--sklearn-color-background);\n",
       "  text-decoration: none;\n",
       "}\n",
       "\n",
       "div.sk-estimator.fitted:hover .sk-estimator-doc-link.fitted:hover,\n",
       ".sk-estimator-doc-link.fitted:hover,\n",
       "div.sk-label-container:hover .sk-estimator-doc-link.fitted:hover,\n",
       ".sk-estimator-doc-link.fitted:hover {\n",
       "  /* fitted */\n",
       "  background-color: var(--sklearn-color-fitted-level-3);\n",
       "  color: var(--sklearn-color-background);\n",
       "  text-decoration: none;\n",
       "}\n",
       "\n",
       "/* Span, style for the box shown on hovering the info icon */\n",
       ".sk-estimator-doc-link span {\n",
       "  display: none;\n",
       "  z-index: 9999;\n",
       "  position: relative;\n",
       "  font-weight: normal;\n",
       "  right: .2ex;\n",
       "  padding: .5ex;\n",
       "  margin: .5ex;\n",
       "  width: min-content;\n",
       "  min-width: 20ex;\n",
       "  max-width: 50ex;\n",
       "  color: var(--sklearn-color-text);\n",
       "  box-shadow: 2pt 2pt 4pt #999;\n",
       "  /* unfitted */\n",
       "  background: var(--sklearn-color-unfitted-level-0);\n",
       "  border: .5pt solid var(--sklearn-color-unfitted-level-3);\n",
       "}\n",
       "\n",
       ".sk-estimator-doc-link.fitted span {\n",
       "  /* fitted */\n",
       "  background: var(--sklearn-color-fitted-level-0);\n",
       "  border: var(--sklearn-color-fitted-level-3);\n",
       "}\n",
       "\n",
       ".sk-estimator-doc-link:hover span {\n",
       "  display: block;\n",
       "}\n",
       "\n",
       "/* \"?\"-specific style due to the `<a>` HTML tag */\n",
       "\n",
       "#sk-container-id-1 a.estimator_doc_link {\n",
       "  float: right;\n",
       "  font-size: 1rem;\n",
       "  line-height: 1em;\n",
       "  font-family: monospace;\n",
       "  background-color: var(--sklearn-color-background);\n",
       "  border-radius: 1rem;\n",
       "  height: 1rem;\n",
       "  width: 1rem;\n",
       "  text-decoration: none;\n",
       "  /* unfitted */\n",
       "  color: var(--sklearn-color-unfitted-level-1);\n",
       "  border: var(--sklearn-color-unfitted-level-1) 1pt solid;\n",
       "}\n",
       "\n",
       "#sk-container-id-1 a.estimator_doc_link.fitted {\n",
       "  /* fitted */\n",
       "  border: var(--sklearn-color-fitted-level-1) 1pt solid;\n",
       "  color: var(--sklearn-color-fitted-level-1);\n",
       "}\n",
       "\n",
       "/* On hover */\n",
       "#sk-container-id-1 a.estimator_doc_link:hover {\n",
       "  /* unfitted */\n",
       "  background-color: var(--sklearn-color-unfitted-level-3);\n",
       "  color: var(--sklearn-color-background);\n",
       "  text-decoration: none;\n",
       "}\n",
       "\n",
       "#sk-container-id-1 a.estimator_doc_link.fitted:hover {\n",
       "  /* fitted */\n",
       "  background-color: var(--sklearn-color-fitted-level-3);\n",
       "}\n",
       "</style><div id=\"sk-container-id-1\" class=\"sk-top-container\"><div class=\"sk-text-repr-fallback\"><pre>ColumnTransformer(transformers=[(&#x27;num&#x27;,\n",
       "                                 Pipeline(steps=[(&#x27;imputer&#x27;,\n",
       "                                                  SimpleImputer(strategy=&#x27;median&#x27;)),\n",
       "                                                 (&#x27;poly&#x27;,\n",
       "                                                  PolynomialFeatures(degree=3)),\n",
       "                                                 (&#x27;scaler&#x27;, &#x27;passthrough&#x27;)]),\n",
       "                                 Index([&#x27;Power&#x27;, &#x27;Kilometer&#x27;, &#x27;CarAgeInMonths&#x27;], dtype=&#x27;object&#x27;)),\n",
       "                                (&#x27;cat&#x27;,\n",
       "                                 Pipeline(steps=[(&#x27;imputer&#x27;,\n",
       "                                                  SimpleImputer(fill_value=&#x27;unknown&#x27;,\n",
       "                                                                strategy=&#x27;constant&#x27;)),\n",
       "                                                 (&#x27;onehot&#x27;,\n",
       "                                                  OneHotEncoder(drop=&#x27;first&#x27;,\n",
       "                                                                handle_unknown=&#x27;ignore&#x27;))]),\n",
       "                                 Index([&#x27;VehicleType&#x27;, &#x27;Gearbox&#x27;, &#x27;FuelType&#x27;, &#x27;Repaired&#x27;, &#x27;Brand_Model&#x27;], dtype=&#x27;object&#x27;))])</pre><b>In a Jupyter environment, please rerun this cell to show the HTML representation or trust the notebook. <br />On GitHub, the HTML representation is unable to render, please try loading this page with nbviewer.org.</b></div><div class=\"sk-container\" hidden><div class=\"sk-item sk-dashed-wrapped\"><div class=\"sk-label-container\"><div class=\"sk-label  sk-toggleable\"><input class=\"sk-toggleable__control sk-hidden--visually\" id=\"sk-estimator-id-1\" type=\"checkbox\" ><label for=\"sk-estimator-id-1\" class=\"sk-toggleable__label  sk-toggleable__label-arrow \">&nbsp;&nbsp;ColumnTransformer<a class=\"sk-estimator-doc-link \" rel=\"noreferrer\" target=\"_blank\" href=\"https://scikit-learn.org/1.4/modules/generated/sklearn.compose.ColumnTransformer.html\">?<span>Documentation for ColumnTransformer</span></a><span class=\"sk-estimator-doc-link \">i<span>Not fitted</span></span></label><div class=\"sk-toggleable__content \"><pre>ColumnTransformer(transformers=[(&#x27;num&#x27;,\n",
       "                                 Pipeline(steps=[(&#x27;imputer&#x27;,\n",
       "                                                  SimpleImputer(strategy=&#x27;median&#x27;)),\n",
       "                                                 (&#x27;poly&#x27;,\n",
       "                                                  PolynomialFeatures(degree=3)),\n",
       "                                                 (&#x27;scaler&#x27;, &#x27;passthrough&#x27;)]),\n",
       "                                 Index([&#x27;Power&#x27;, &#x27;Kilometer&#x27;, &#x27;CarAgeInMonths&#x27;], dtype=&#x27;object&#x27;)),\n",
       "                                (&#x27;cat&#x27;,\n",
       "                                 Pipeline(steps=[(&#x27;imputer&#x27;,\n",
       "                                                  SimpleImputer(fill_value=&#x27;unknown&#x27;,\n",
       "                                                                strategy=&#x27;constant&#x27;)),\n",
       "                                                 (&#x27;onehot&#x27;,\n",
       "                                                  OneHotEncoder(drop=&#x27;first&#x27;,\n",
       "                                                                handle_unknown=&#x27;ignore&#x27;))]),\n",
       "                                 Index([&#x27;VehicleType&#x27;, &#x27;Gearbox&#x27;, &#x27;FuelType&#x27;, &#x27;Repaired&#x27;, &#x27;Brand_Model&#x27;], dtype=&#x27;object&#x27;))])</pre></div> </div></div><div class=\"sk-parallel\"><div class=\"sk-parallel-item\"><div class=\"sk-item\"><div class=\"sk-label-container\"><div class=\"sk-label  sk-toggleable\"><input class=\"sk-toggleable__control sk-hidden--visually\" id=\"sk-estimator-id-2\" type=\"checkbox\" ><label for=\"sk-estimator-id-2\" class=\"sk-toggleable__label  sk-toggleable__label-arrow \">num</label><div class=\"sk-toggleable__content \"><pre>Index([&#x27;Power&#x27;, &#x27;Kilometer&#x27;, &#x27;CarAgeInMonths&#x27;], dtype=&#x27;object&#x27;)</pre></div> </div></div><div class=\"sk-serial\"><div class=\"sk-item\"><div class=\"sk-serial\"><div class=\"sk-item\"><div class=\"sk-estimator  sk-toggleable\"><input class=\"sk-toggleable__control sk-hidden--visually\" id=\"sk-estimator-id-3\" type=\"checkbox\" ><label for=\"sk-estimator-id-3\" class=\"sk-toggleable__label  sk-toggleable__label-arrow \">&nbsp;SimpleImputer<a class=\"sk-estimator-doc-link \" rel=\"noreferrer\" target=\"_blank\" href=\"https://scikit-learn.org/1.4/modules/generated/sklearn.impute.SimpleImputer.html\">?<span>Documentation for SimpleImputer</span></a></label><div class=\"sk-toggleable__content \"><pre>SimpleImputer(strategy=&#x27;median&#x27;)</pre></div> </div></div><div class=\"sk-item\"><div class=\"sk-estimator  sk-toggleable\"><input class=\"sk-toggleable__control sk-hidden--visually\" id=\"sk-estimator-id-4\" type=\"checkbox\" ><label for=\"sk-estimator-id-4\" class=\"sk-toggleable__label  sk-toggleable__label-arrow \">&nbsp;PolynomialFeatures<a class=\"sk-estimator-doc-link \" rel=\"noreferrer\" target=\"_blank\" href=\"https://scikit-learn.org/1.4/modules/generated/sklearn.preprocessing.PolynomialFeatures.html\">?<span>Documentation for PolynomialFeatures</span></a></label><div class=\"sk-toggleable__content \"><pre>PolynomialFeatures(degree=3)</pre></div> </div></div><div class=\"sk-item\"><div class=\"sk-estimator  sk-toggleable\"><input class=\"sk-toggleable__control sk-hidden--visually\" id=\"sk-estimator-id-5\" type=\"checkbox\" ><label for=\"sk-estimator-id-5\" class=\"sk-toggleable__label  sk-toggleable__label-arrow \">passthrough</label><div class=\"sk-toggleable__content \"><pre>passthrough</pre></div> </div></div></div></div></div></div></div><div class=\"sk-parallel-item\"><div class=\"sk-item\"><div class=\"sk-label-container\"><div class=\"sk-label  sk-toggleable\"><input class=\"sk-toggleable__control sk-hidden--visually\" id=\"sk-estimator-id-6\" type=\"checkbox\" ><label for=\"sk-estimator-id-6\" class=\"sk-toggleable__label  sk-toggleable__label-arrow \">cat</label><div class=\"sk-toggleable__content \"><pre>Index([&#x27;VehicleType&#x27;, &#x27;Gearbox&#x27;, &#x27;FuelType&#x27;, &#x27;Repaired&#x27;, &#x27;Brand_Model&#x27;], dtype=&#x27;object&#x27;)</pre></div> </div></div><div class=\"sk-serial\"><div class=\"sk-item\"><div class=\"sk-serial\"><div class=\"sk-item\"><div class=\"sk-estimator  sk-toggleable\"><input class=\"sk-toggleable__control sk-hidden--visually\" id=\"sk-estimator-id-7\" type=\"checkbox\" ><label for=\"sk-estimator-id-7\" class=\"sk-toggleable__label  sk-toggleable__label-arrow \">&nbsp;SimpleImputer<a class=\"sk-estimator-doc-link \" rel=\"noreferrer\" target=\"_blank\" href=\"https://scikit-learn.org/1.4/modules/generated/sklearn.impute.SimpleImputer.html\">?<span>Documentation for SimpleImputer</span></a></label><div class=\"sk-toggleable__content \"><pre>SimpleImputer(fill_value=&#x27;unknown&#x27;, strategy=&#x27;constant&#x27;)</pre></div> </div></div><div class=\"sk-item\"><div class=\"sk-estimator  sk-toggleable\"><input class=\"sk-toggleable__control sk-hidden--visually\" id=\"sk-estimator-id-8\" type=\"checkbox\" ><label for=\"sk-estimator-id-8\" class=\"sk-toggleable__label  sk-toggleable__label-arrow \">&nbsp;OneHotEncoder<a class=\"sk-estimator-doc-link \" rel=\"noreferrer\" target=\"_blank\" href=\"https://scikit-learn.org/1.4/modules/generated/sklearn.preprocessing.OneHotEncoder.html\">?<span>Documentation for OneHotEncoder</span></a></label><div class=\"sk-toggleable__content \"><pre>OneHotEncoder(drop=&#x27;first&#x27;, handle_unknown=&#x27;ignore&#x27;)</pre></div> </div></div></div></div></div></div></div></div></div></div></div>"
      ],
      "text/plain": [
       "ColumnTransformer(transformers=[('num',\n",
       "                                 Pipeline(steps=[('imputer',\n",
       "                                                  SimpleImputer(strategy='median')),\n",
       "                                                 ('poly',\n",
       "                                                  PolynomialFeatures(degree=3)),\n",
       "                                                 ('scaler', 'passthrough')]),\n",
       "                                 Index(['Power', 'Kilometer', 'CarAgeInMonths'], dtype='object')),\n",
       "                                ('cat',\n",
       "                                 Pipeline(steps=[('imputer',\n",
       "                                                  SimpleImputer(fill_value='unknown',\n",
       "                                                                strategy='constant')),\n",
       "                                                 ('onehot',\n",
       "                                                  OneHotEncoder(drop='first',\n",
       "                                                                handle_unknown='ignore'))]),\n",
       "                                 Index(['VehicleType', 'Gearbox', 'FuelType', 'Repaired', 'Brand_Model'], dtype='object'))])"
      ]
     },
     "execution_count": 28,
     "metadata": {},
     "output_type": "execute_result"
    }
   ],
   "source": [
    "preprocessor"
   ]
  },
  {
   "cell_type": "code",
   "execution_count": 29,
   "metadata": {},
   "outputs": [
    {
     "data": {
      "text/html": [
       "<style>#sk-container-id-2 {\n",
       "  /* Definition of color scheme common for light and dark mode */\n",
       "  --sklearn-color-text: black;\n",
       "  --sklearn-color-line: gray;\n",
       "  /* Definition of color scheme for unfitted estimators */\n",
       "  --sklearn-color-unfitted-level-0: #fff5e6;\n",
       "  --sklearn-color-unfitted-level-1: #f6e4d2;\n",
       "  --sklearn-color-unfitted-level-2: #ffe0b3;\n",
       "  --sklearn-color-unfitted-level-3: chocolate;\n",
       "  /* Definition of color scheme for fitted estimators */\n",
       "  --sklearn-color-fitted-level-0: #f0f8ff;\n",
       "  --sklearn-color-fitted-level-1: #d4ebff;\n",
       "  --sklearn-color-fitted-level-2: #b3dbfd;\n",
       "  --sklearn-color-fitted-level-3: cornflowerblue;\n",
       "\n",
       "  /* Specific color for light theme */\n",
       "  --sklearn-color-text-on-default-background: var(--sg-text-color, var(--theme-code-foreground, var(--jp-content-font-color1, black)));\n",
       "  --sklearn-color-background: var(--sg-background-color, var(--theme-background, var(--jp-layout-color0, white)));\n",
       "  --sklearn-color-border-box: var(--sg-text-color, var(--theme-code-foreground, var(--jp-content-font-color1, black)));\n",
       "  --sklearn-color-icon: #696969;\n",
       "\n",
       "  @media (prefers-color-scheme: dark) {\n",
       "    /* Redefinition of color scheme for dark theme */\n",
       "    --sklearn-color-text-on-default-background: var(--sg-text-color, var(--theme-code-foreground, var(--jp-content-font-color1, white)));\n",
       "    --sklearn-color-background: var(--sg-background-color, var(--theme-background, var(--jp-layout-color0, #111)));\n",
       "    --sklearn-color-border-box: var(--sg-text-color, var(--theme-code-foreground, var(--jp-content-font-color1, white)));\n",
       "    --sklearn-color-icon: #878787;\n",
       "  }\n",
       "}\n",
       "\n",
       "#sk-container-id-2 {\n",
       "  color: var(--sklearn-color-text);\n",
       "}\n",
       "\n",
       "#sk-container-id-2 pre {\n",
       "  padding: 0;\n",
       "}\n",
       "\n",
       "#sk-container-id-2 input.sk-hidden--visually {\n",
       "  border: 0;\n",
       "  clip: rect(1px 1px 1px 1px);\n",
       "  clip: rect(1px, 1px, 1px, 1px);\n",
       "  height: 1px;\n",
       "  margin: -1px;\n",
       "  overflow: hidden;\n",
       "  padding: 0;\n",
       "  position: absolute;\n",
       "  width: 1px;\n",
       "}\n",
       "\n",
       "#sk-container-id-2 div.sk-dashed-wrapped {\n",
       "  border: 1px dashed var(--sklearn-color-line);\n",
       "  margin: 0 0.4em 0.5em 0.4em;\n",
       "  box-sizing: border-box;\n",
       "  padding-bottom: 0.4em;\n",
       "  background-color: var(--sklearn-color-background);\n",
       "}\n",
       "\n",
       "#sk-container-id-2 div.sk-container {\n",
       "  /* jupyter's `normalize.less` sets `[hidden] { display: none; }`\n",
       "     but bootstrap.min.css set `[hidden] { display: none !important; }`\n",
       "     so we also need the `!important` here to be able to override the\n",
       "     default hidden behavior on the sphinx rendered scikit-learn.org.\n",
       "     See: https://github.com/scikit-learn/scikit-learn/issues/21755 */\n",
       "  display: inline-block !important;\n",
       "  position: relative;\n",
       "}\n",
       "\n",
       "#sk-container-id-2 div.sk-text-repr-fallback {\n",
       "  display: none;\n",
       "}\n",
       "\n",
       "div.sk-parallel-item,\n",
       "div.sk-serial,\n",
       "div.sk-item {\n",
       "  /* draw centered vertical line to link estimators */\n",
       "  background-image: linear-gradient(var(--sklearn-color-text-on-default-background), var(--sklearn-color-text-on-default-background));\n",
       "  background-size: 2px 100%;\n",
       "  background-repeat: no-repeat;\n",
       "  background-position: center center;\n",
       "}\n",
       "\n",
       "/* Parallel-specific style estimator block */\n",
       "\n",
       "#sk-container-id-2 div.sk-parallel-item::after {\n",
       "  content: \"\";\n",
       "  width: 100%;\n",
       "  border-bottom: 2px solid var(--sklearn-color-text-on-default-background);\n",
       "  flex-grow: 1;\n",
       "}\n",
       "\n",
       "#sk-container-id-2 div.sk-parallel {\n",
       "  display: flex;\n",
       "  align-items: stretch;\n",
       "  justify-content: center;\n",
       "  background-color: var(--sklearn-color-background);\n",
       "  position: relative;\n",
       "}\n",
       "\n",
       "#sk-container-id-2 div.sk-parallel-item {\n",
       "  display: flex;\n",
       "  flex-direction: column;\n",
       "}\n",
       "\n",
       "#sk-container-id-2 div.sk-parallel-item:first-child::after {\n",
       "  align-self: flex-end;\n",
       "  width: 50%;\n",
       "}\n",
       "\n",
       "#sk-container-id-2 div.sk-parallel-item:last-child::after {\n",
       "  align-self: flex-start;\n",
       "  width: 50%;\n",
       "}\n",
       "\n",
       "#sk-container-id-2 div.sk-parallel-item:only-child::after {\n",
       "  width: 0;\n",
       "}\n",
       "\n",
       "/* Serial-specific style estimator block */\n",
       "\n",
       "#sk-container-id-2 div.sk-serial {\n",
       "  display: flex;\n",
       "  flex-direction: column;\n",
       "  align-items: center;\n",
       "  background-color: var(--sklearn-color-background);\n",
       "  padding-right: 1em;\n",
       "  padding-left: 1em;\n",
       "}\n",
       "\n",
       "\n",
       "/* Toggleable style: style used for estimator/Pipeline/ColumnTransformer box that is\n",
       "clickable and can be expanded/collapsed.\n",
       "- Pipeline and ColumnTransformer use this feature and define the default style\n",
       "- Estimators will overwrite some part of the style using the `sk-estimator` class\n",
       "*/\n",
       "\n",
       "/* Pipeline and ColumnTransformer style (default) */\n",
       "\n",
       "#sk-container-id-2 div.sk-toggleable {\n",
       "  /* Default theme specific background. It is overwritten whether we have a\n",
       "  specific estimator or a Pipeline/ColumnTransformer */\n",
       "  background-color: var(--sklearn-color-background);\n",
       "}\n",
       "\n",
       "/* Toggleable label */\n",
       "#sk-container-id-2 label.sk-toggleable__label {\n",
       "  cursor: pointer;\n",
       "  display: block;\n",
       "  width: 100%;\n",
       "  margin-bottom: 0;\n",
       "  padding: 0.5em;\n",
       "  box-sizing: border-box;\n",
       "  text-align: center;\n",
       "}\n",
       "\n",
       "#sk-container-id-2 label.sk-toggleable__label-arrow:before {\n",
       "  /* Arrow on the left of the label */\n",
       "  content: \"▸\";\n",
       "  float: left;\n",
       "  margin-right: 0.25em;\n",
       "  color: var(--sklearn-color-icon);\n",
       "}\n",
       "\n",
       "#sk-container-id-2 label.sk-toggleable__label-arrow:hover:before {\n",
       "  color: var(--sklearn-color-text);\n",
       "}\n",
       "\n",
       "/* Toggleable content - dropdown */\n",
       "\n",
       "#sk-container-id-2 div.sk-toggleable__content {\n",
       "  max-height: 0;\n",
       "  max-width: 0;\n",
       "  overflow: hidden;\n",
       "  text-align: left;\n",
       "  /* unfitted */\n",
       "  background-color: var(--sklearn-color-unfitted-level-0);\n",
       "}\n",
       "\n",
       "#sk-container-id-2 div.sk-toggleable__content.fitted {\n",
       "  /* fitted */\n",
       "  background-color: var(--sklearn-color-fitted-level-0);\n",
       "}\n",
       "\n",
       "#sk-container-id-2 div.sk-toggleable__content pre {\n",
       "  margin: 0.2em;\n",
       "  border-radius: 0.25em;\n",
       "  color: var(--sklearn-color-text);\n",
       "  /* unfitted */\n",
       "  background-color: var(--sklearn-color-unfitted-level-0);\n",
       "}\n",
       "\n",
       "#sk-container-id-2 div.sk-toggleable__content.fitted pre {\n",
       "  /* unfitted */\n",
       "  background-color: var(--sklearn-color-fitted-level-0);\n",
       "}\n",
       "\n",
       "#sk-container-id-2 input.sk-toggleable__control:checked~div.sk-toggleable__content {\n",
       "  /* Expand drop-down */\n",
       "  max-height: 200px;\n",
       "  max-width: 100%;\n",
       "  overflow: auto;\n",
       "}\n",
       "\n",
       "#sk-container-id-2 input.sk-toggleable__control:checked~label.sk-toggleable__label-arrow:before {\n",
       "  content: \"▾\";\n",
       "}\n",
       "\n",
       "/* Pipeline/ColumnTransformer-specific style */\n",
       "\n",
       "#sk-container-id-2 div.sk-label input.sk-toggleable__control:checked~label.sk-toggleable__label {\n",
       "  color: var(--sklearn-color-text);\n",
       "  background-color: var(--sklearn-color-unfitted-level-2);\n",
       "}\n",
       "\n",
       "#sk-container-id-2 div.sk-label.fitted input.sk-toggleable__control:checked~label.sk-toggleable__label {\n",
       "  background-color: var(--sklearn-color-fitted-level-2);\n",
       "}\n",
       "\n",
       "/* Estimator-specific style */\n",
       "\n",
       "/* Colorize estimator box */\n",
       "#sk-container-id-2 div.sk-estimator input.sk-toggleable__control:checked~label.sk-toggleable__label {\n",
       "  /* unfitted */\n",
       "  background-color: var(--sklearn-color-unfitted-level-2);\n",
       "}\n",
       "\n",
       "#sk-container-id-2 div.sk-estimator.fitted input.sk-toggleable__control:checked~label.sk-toggleable__label {\n",
       "  /* fitted */\n",
       "  background-color: var(--sklearn-color-fitted-level-2);\n",
       "}\n",
       "\n",
       "#sk-container-id-2 div.sk-label label.sk-toggleable__label,\n",
       "#sk-container-id-2 div.sk-label label {\n",
       "  /* The background is the default theme color */\n",
       "  color: var(--sklearn-color-text-on-default-background);\n",
       "}\n",
       "\n",
       "/* On hover, darken the color of the background */\n",
       "#sk-container-id-2 div.sk-label:hover label.sk-toggleable__label {\n",
       "  color: var(--sklearn-color-text);\n",
       "  background-color: var(--sklearn-color-unfitted-level-2);\n",
       "}\n",
       "\n",
       "/* Label box, darken color on hover, fitted */\n",
       "#sk-container-id-2 div.sk-label.fitted:hover label.sk-toggleable__label.fitted {\n",
       "  color: var(--sklearn-color-text);\n",
       "  background-color: var(--sklearn-color-fitted-level-2);\n",
       "}\n",
       "\n",
       "/* Estimator label */\n",
       "\n",
       "#sk-container-id-2 div.sk-label label {\n",
       "  font-family: monospace;\n",
       "  font-weight: bold;\n",
       "  display: inline-block;\n",
       "  line-height: 1.2em;\n",
       "}\n",
       "\n",
       "#sk-container-id-2 div.sk-label-container {\n",
       "  text-align: center;\n",
       "}\n",
       "\n",
       "/* Estimator-specific */\n",
       "#sk-container-id-2 div.sk-estimator {\n",
       "  font-family: monospace;\n",
       "  border: 1px dotted var(--sklearn-color-border-box);\n",
       "  border-radius: 0.25em;\n",
       "  box-sizing: border-box;\n",
       "  margin-bottom: 0.5em;\n",
       "  /* unfitted */\n",
       "  background-color: var(--sklearn-color-unfitted-level-0);\n",
       "}\n",
       "\n",
       "#sk-container-id-2 div.sk-estimator.fitted {\n",
       "  /* fitted */\n",
       "  background-color: var(--sklearn-color-fitted-level-0);\n",
       "}\n",
       "\n",
       "/* on hover */\n",
       "#sk-container-id-2 div.sk-estimator:hover {\n",
       "  /* unfitted */\n",
       "  background-color: var(--sklearn-color-unfitted-level-2);\n",
       "}\n",
       "\n",
       "#sk-container-id-2 div.sk-estimator.fitted:hover {\n",
       "  /* fitted */\n",
       "  background-color: var(--sklearn-color-fitted-level-2);\n",
       "}\n",
       "\n",
       "/* Specification for estimator info (e.g. \"i\" and \"?\") */\n",
       "\n",
       "/* Common style for \"i\" and \"?\" */\n",
       "\n",
       ".sk-estimator-doc-link,\n",
       "a:link.sk-estimator-doc-link,\n",
       "a:visited.sk-estimator-doc-link {\n",
       "  float: right;\n",
       "  font-size: smaller;\n",
       "  line-height: 1em;\n",
       "  font-family: monospace;\n",
       "  background-color: var(--sklearn-color-background);\n",
       "  border-radius: 1em;\n",
       "  height: 1em;\n",
       "  width: 1em;\n",
       "  text-decoration: none !important;\n",
       "  margin-left: 1ex;\n",
       "  /* unfitted */\n",
       "  border: var(--sklearn-color-unfitted-level-1) 1pt solid;\n",
       "  color: var(--sklearn-color-unfitted-level-1);\n",
       "}\n",
       "\n",
       ".sk-estimator-doc-link.fitted,\n",
       "a:link.sk-estimator-doc-link.fitted,\n",
       "a:visited.sk-estimator-doc-link.fitted {\n",
       "  /* fitted */\n",
       "  border: var(--sklearn-color-fitted-level-1) 1pt solid;\n",
       "  color: var(--sklearn-color-fitted-level-1);\n",
       "}\n",
       "\n",
       "/* On hover */\n",
       "div.sk-estimator:hover .sk-estimator-doc-link:hover,\n",
       ".sk-estimator-doc-link:hover,\n",
       "div.sk-label-container:hover .sk-estimator-doc-link:hover,\n",
       ".sk-estimator-doc-link:hover {\n",
       "  /* unfitted */\n",
       "  background-color: var(--sklearn-color-unfitted-level-3);\n",
       "  color: var(--sklearn-color-background);\n",
       "  text-decoration: none;\n",
       "}\n",
       "\n",
       "div.sk-estimator.fitted:hover .sk-estimator-doc-link.fitted:hover,\n",
       ".sk-estimator-doc-link.fitted:hover,\n",
       "div.sk-label-container:hover .sk-estimator-doc-link.fitted:hover,\n",
       ".sk-estimator-doc-link.fitted:hover {\n",
       "  /* fitted */\n",
       "  background-color: var(--sklearn-color-fitted-level-3);\n",
       "  color: var(--sklearn-color-background);\n",
       "  text-decoration: none;\n",
       "}\n",
       "\n",
       "/* Span, style for the box shown on hovering the info icon */\n",
       ".sk-estimator-doc-link span {\n",
       "  display: none;\n",
       "  z-index: 9999;\n",
       "  position: relative;\n",
       "  font-weight: normal;\n",
       "  right: .2ex;\n",
       "  padding: .5ex;\n",
       "  margin: .5ex;\n",
       "  width: min-content;\n",
       "  min-width: 20ex;\n",
       "  max-width: 50ex;\n",
       "  color: var(--sklearn-color-text);\n",
       "  box-shadow: 2pt 2pt 4pt #999;\n",
       "  /* unfitted */\n",
       "  background: var(--sklearn-color-unfitted-level-0);\n",
       "  border: .5pt solid var(--sklearn-color-unfitted-level-3);\n",
       "}\n",
       "\n",
       ".sk-estimator-doc-link.fitted span {\n",
       "  /* fitted */\n",
       "  background: var(--sklearn-color-fitted-level-0);\n",
       "  border: var(--sklearn-color-fitted-level-3);\n",
       "}\n",
       "\n",
       ".sk-estimator-doc-link:hover span {\n",
       "  display: block;\n",
       "}\n",
       "\n",
       "/* \"?\"-specific style due to the `<a>` HTML tag */\n",
       "\n",
       "#sk-container-id-2 a.estimator_doc_link {\n",
       "  float: right;\n",
       "  font-size: 1rem;\n",
       "  line-height: 1em;\n",
       "  font-family: monospace;\n",
       "  background-color: var(--sklearn-color-background);\n",
       "  border-radius: 1rem;\n",
       "  height: 1rem;\n",
       "  width: 1rem;\n",
       "  text-decoration: none;\n",
       "  /* unfitted */\n",
       "  color: var(--sklearn-color-unfitted-level-1);\n",
       "  border: var(--sklearn-color-unfitted-level-1) 1pt solid;\n",
       "}\n",
       "\n",
       "#sk-container-id-2 a.estimator_doc_link.fitted {\n",
       "  /* fitted */\n",
       "  border: var(--sklearn-color-fitted-level-1) 1pt solid;\n",
       "  color: var(--sklearn-color-fitted-level-1);\n",
       "}\n",
       "\n",
       "/* On hover */\n",
       "#sk-container-id-2 a.estimator_doc_link:hover {\n",
       "  /* unfitted */\n",
       "  background-color: var(--sklearn-color-unfitted-level-3);\n",
       "  color: var(--sklearn-color-background);\n",
       "  text-decoration: none;\n",
       "}\n",
       "\n",
       "#sk-container-id-2 a.estimator_doc_link.fitted:hover {\n",
       "  /* fitted */\n",
       "  background-color: var(--sklearn-color-fitted-level-3);\n",
       "}\n",
       "</style><div id=\"sk-container-id-2\" class=\"sk-top-container\"><div class=\"sk-text-repr-fallback\"><pre>ColumnTransformer(transformers=[(&#x27;num&#x27;,\n",
       "                                 Pipeline(steps=[(&#x27;imputer&#x27;,\n",
       "                                                  SimpleImputer(strategy=&#x27;median&#x27;)),\n",
       "                                                 (&#x27;poly&#x27;,\n",
       "                                                  PolynomialFeatures(degree=3)),\n",
       "                                                 (&#x27;scaler&#x27;, &#x27;passthrough&#x27;)]),\n",
       "                                 Index([&#x27;Power&#x27;, &#x27;Kilometer&#x27;, &#x27;CarAgeInMonths&#x27;], dtype=&#x27;object&#x27;))])</pre><b>In a Jupyter environment, please rerun this cell to show the HTML representation or trust the notebook. <br />On GitHub, the HTML representation is unable to render, please try loading this page with nbviewer.org.</b></div><div class=\"sk-container\" hidden><div class=\"sk-item sk-dashed-wrapped\"><div class=\"sk-label-container\"><div class=\"sk-label  sk-toggleable\"><input class=\"sk-toggleable__control sk-hidden--visually\" id=\"sk-estimator-id-9\" type=\"checkbox\" ><label for=\"sk-estimator-id-9\" class=\"sk-toggleable__label  sk-toggleable__label-arrow \">&nbsp;&nbsp;ColumnTransformer<a class=\"sk-estimator-doc-link \" rel=\"noreferrer\" target=\"_blank\" href=\"https://scikit-learn.org/1.4/modules/generated/sklearn.compose.ColumnTransformer.html\">?<span>Documentation for ColumnTransformer</span></a><span class=\"sk-estimator-doc-link \">i<span>Not fitted</span></span></label><div class=\"sk-toggleable__content \"><pre>ColumnTransformer(transformers=[(&#x27;num&#x27;,\n",
       "                                 Pipeline(steps=[(&#x27;imputer&#x27;,\n",
       "                                                  SimpleImputer(strategy=&#x27;median&#x27;)),\n",
       "                                                 (&#x27;poly&#x27;,\n",
       "                                                  PolynomialFeatures(degree=3)),\n",
       "                                                 (&#x27;scaler&#x27;, &#x27;passthrough&#x27;)]),\n",
       "                                 Index([&#x27;Power&#x27;, &#x27;Kilometer&#x27;, &#x27;CarAgeInMonths&#x27;], dtype=&#x27;object&#x27;))])</pre></div> </div></div><div class=\"sk-parallel\"><div class=\"sk-parallel-item\"><div class=\"sk-item\"><div class=\"sk-label-container\"><div class=\"sk-label  sk-toggleable\"><input class=\"sk-toggleable__control sk-hidden--visually\" id=\"sk-estimator-id-10\" type=\"checkbox\" ><label for=\"sk-estimator-id-10\" class=\"sk-toggleable__label  sk-toggleable__label-arrow \">num</label><div class=\"sk-toggleable__content \"><pre>Index([&#x27;Power&#x27;, &#x27;Kilometer&#x27;, &#x27;CarAgeInMonths&#x27;], dtype=&#x27;object&#x27;)</pre></div> </div></div><div class=\"sk-serial\"><div class=\"sk-item\"><div class=\"sk-serial\"><div class=\"sk-item\"><div class=\"sk-estimator  sk-toggleable\"><input class=\"sk-toggleable__control sk-hidden--visually\" id=\"sk-estimator-id-11\" type=\"checkbox\" ><label for=\"sk-estimator-id-11\" class=\"sk-toggleable__label  sk-toggleable__label-arrow \">&nbsp;SimpleImputer<a class=\"sk-estimator-doc-link \" rel=\"noreferrer\" target=\"_blank\" href=\"https://scikit-learn.org/1.4/modules/generated/sklearn.impute.SimpleImputer.html\">?<span>Documentation for SimpleImputer</span></a></label><div class=\"sk-toggleable__content \"><pre>SimpleImputer(strategy=&#x27;median&#x27;)</pre></div> </div></div><div class=\"sk-item\"><div class=\"sk-estimator  sk-toggleable\"><input class=\"sk-toggleable__control sk-hidden--visually\" id=\"sk-estimator-id-12\" type=\"checkbox\" ><label for=\"sk-estimator-id-12\" class=\"sk-toggleable__label  sk-toggleable__label-arrow \">&nbsp;PolynomialFeatures<a class=\"sk-estimator-doc-link \" rel=\"noreferrer\" target=\"_blank\" href=\"https://scikit-learn.org/1.4/modules/generated/sklearn.preprocessing.PolynomialFeatures.html\">?<span>Documentation for PolynomialFeatures</span></a></label><div class=\"sk-toggleable__content \"><pre>PolynomialFeatures(degree=3)</pre></div> </div></div><div class=\"sk-item\"><div class=\"sk-estimator  sk-toggleable\"><input class=\"sk-toggleable__control sk-hidden--visually\" id=\"sk-estimator-id-13\" type=\"checkbox\" ><label for=\"sk-estimator-id-13\" class=\"sk-toggleable__label  sk-toggleable__label-arrow \">passthrough</label><div class=\"sk-toggleable__content \"><pre>passthrough</pre></div> </div></div></div></div></div></div></div></div></div></div></div>"
      ],
      "text/plain": [
       "ColumnTransformer(transformers=[('num',\n",
       "                                 Pipeline(steps=[('imputer',\n",
       "                                                  SimpleImputer(strategy='median')),\n",
       "                                                 ('poly',\n",
       "                                                  PolynomialFeatures(degree=3)),\n",
       "                                                 ('scaler', 'passthrough')]),\n",
       "                                 Index(['Power', 'Kilometer', 'CarAgeInMonths'], dtype='object'))])"
      ]
     },
     "execution_count": 29,
     "metadata": {},
     "output_type": "execute_result"
    }
   ],
   "source": [
    "preprocessor_LGBMR"
   ]
  },
  {
   "cell_type": "markdown",
   "metadata": {},
   "source": [
    "Я успешно разработал `ColumnTransformer` для предобработки данных о машинах, который включает в себя как числовые, так и категориальные признаки. Вот мои шаги и результаты:\n",
    "\n",
    "1. **Числовые признаки**:\n",
    "   - Я использовал `SimpleImputer` с стратегией 'median' для заполнения пропущенных значений(при необходимости), что помогает уменьшить искажение распределения данных.\n",
    "   - Применил `PolynomialFeatures` с степенью 3 для создания новых признаков, что позволяет модели лучше улавливать сложные зависимости.\n",
    "   - Оставил масштабирование данных (`scaler`) на 'passthrough', так как масштабировщик будет выбран позже.\n",
    "\n",
    "2. **Категориальные признаки**:\n",
    "   - Для обработки пропущенных категориальных значений я использовал `SimpleImputer` со стратегией 'constant' и заполнителем 'unknown', что позволяет избежать потери информации.\n",
    "   - `OrdinalEncoder` применён для преобразования категориальных признаков в числовой формат, что необходимо для обучения модели.\n",
    "   - Для `LGBMR` кодировщик применяться не будет, так как он делает это по умолчанию для признаков формата `Category`.\n",
    "   \n",
    "В результате этих шагов, данные теперь подготовлены для построения регрессионных моделей, которые смогут предсказывать цены на автомобили с учётом различных характеристик и особенностей. Это позволит мне создать точную и надёжную модель для оценки стоимости автомобилей на рынке."
   ]
  },
  {
   "cell_type": "markdown",
   "metadata": {},
   "source": [
    "## Обучение моделей"
   ]
  },
  {
   "cell_type": "markdown",
   "metadata": {},
   "source": [
    "### Модель линейная регрессия"
   ]
  },
  {
   "cell_type": "code",
   "execution_count": 30,
   "metadata": {},
   "outputs": [
    {
     "name": "stdout",
     "output_type": "stream",
     "text": [
      "Лучшие параметры для LinearRegression:  {'regressor__fit_intercept': False, 'regressor__n_jobs': -1, 'scaler': RobustScaler(with_centering=False)}\n",
      "Лучшая метрика на кросс-валидации для LinearRegression:  -1935.858299089814\n"
     ]
    }
   ],
   "source": [
    "# Создание пайплайна с препроцессором и моделью LinearRegression\n",
    "linear_model = Pipeline(steps=[\n",
    "    ('preprocessor', preprocessor),\n",
    "    ('scaler', 'passthrough'),  # Масштабировщик будет выбран позже\n",
    "    ('regressor', LinearRegression())\n",
    "])\n",
    "\n",
    "# Определение параметров для оптимизации LinearRegression\n",
    "linear_param_grid = {\n",
    "    'scaler': [StandardScaler(with_mean=False), RobustScaler(with_centering=False), MaxAbsScaler(), Normalizer(), 'passthrough'],\n",
    "    'regressor__fit_intercept': [True, False],\n",
    "    'regressor__n_jobs': [-1, 1]\n",
    "}\n",
    "# Создание объекта GridSearchCV для LinearRegression\n",
    "linear_grid_search = GridSearchCV(\n",
    "    linear_model,\n",
    "    linear_param_grid,\n",
    "    scoring='neg_root_mean_squared_error',\n",
    "    n_jobs=-1,\n",
    "    cv=5,\n",
    "    error_score='raise'\n",
    ")\n",
    "\n",
    "# Запуск оптимизации\n",
    "linear_grid_search.fit(X_train, y_train)\n",
    "\n",
    "# Вывод лучших параметров для LinearRegression\n",
    "print(\"Лучшие параметры для LinearRegression: \", linear_grid_search.best_params_)\n",
    "\n",
    "# Вывод лучшей метрики на кросс-валидации для LinearRegression\n",
    "print(\"Лучшая метрика на кросс-валидации для LinearRegression: \", linear_grid_search.best_score_)\n"
   ]
  },
  {
   "cell_type": "markdown",
   "metadata": {},
   "source": [
    "### Модель градиентного бустинга с использованием LightGBM"
   ]
  },
  {
   "cell_type": "code",
   "execution_count": 31,
   "metadata": {},
   "outputs": [],
   "source": [
    "# Создание пайплайна с препроцессором и моделью LGBMRegressor\n",
    "lgbm_model = Pipeline(steps=[\n",
    "    ('preprocessor', preprocessor_LGBMR),\n",
    "    ('scaler', 'passthrough'),  # Масштабировщик будет выбран позже\n",
    "    ('regressor', LGBMRegressor(n_jobs=-1, boosting_type='gbdt', data_sample_strategy='goss'))\n",
    "])\n",
    "\n",
    "# Определение параметров для оптимизации LGBMRegressor\n",
    "lgbm_param_grid = {\n",
    "    'scaler': [StandardScaler(), RobustScaler(), MinMaxScaler(), 'passthrough'],\n",
    "    'regressor__num_leaves': [30, 50, 100],  \n",
    "    'regressor__learning_rate': [0.5, 0.01],  \n",
    "    'regressor__n_estimators': [100, 300] \n",
    "}\n",
    "\n"
   ]
  },
  {
   "cell_type": "code",
   "execution_count": 32,
   "metadata": {},
   "outputs": [
    {
     "name": "stdout",
     "output_type": "stream",
     "text": [
      "[LightGBM] [Info] Auto-choosing col-wise multi-threading, the overhead of testing was 0.013931 seconds.\n",
      "You can set `force_col_wise=true` to remove the overhead.\n",
      "[LightGBM] [Info] Total Bins 4033\n",
      "[LightGBM] [Info] Number of data points in the train set: 250007, number of used features: 19\n",
      "[LightGBM] [Info] Using GOSS\n",
      "[LightGBM] [Info] Start training from score 4503.917874\n",
      "Лучшие параметры для LGBMRegressor:  {'regressor__learning_rate': 0.5, 'regressor__n_estimators': 100, 'regressor__num_leaves': 30, 'scaler': StandardScaler()}\n",
      "Лучшая метрика на кросс-валидации для LGBMRegressor:  -1991.1936375587616\n"
     ]
    }
   ],
   "source": [
    "# Создание объекта GridSearchCV для LGBMRegressor\n",
    "lgbm_grid_search = GridSearchCV(\n",
    "    lgbm_model,\n",
    "    lgbm_param_grid,\n",
    "    scoring='neg_root_mean_squared_error',\n",
    "    n_jobs=-1,\n",
    "    cv=5,\n",
    "    error_score='raise'\n",
    ")\n",
    "\n",
    "# Запуск оптимизации для LGBMRegressor\n",
    "lgbm_grid_search.fit(X_train, y_train)\n",
    "\n",
    "# Вывод лучших параметров для LGBMRegressor\n",
    "print(\"Лучшие параметры для LGBMRegressor: \", lgbm_grid_search.best_params_)\n",
    "\n",
    "# Вывод лучшей метрики на кросс-валидации для LGBMRegressor\n",
    "print(\"Лучшая метрика на кросс-валидации для LGBMRegressor: \", lgbm_grid_search.best_score_)"
   ]
  },
  {
   "cell_type": "code",
   "execution_count": 33,
   "metadata": {},
   "outputs": [],
   "source": [
    "# Сохранение моделей с лучшими параметрами в переменную\n",
    "best_linear_model = linear_grid_search.best_estimator_\n",
    "best_lgbm_model = lgbm_grid_search.best_estimator_\n"
   ]
  },
  {
   "cell_type": "code",
   "execution_count": 34,
   "metadata": {},
   "outputs": [
    {
     "data": {
      "text/html": [
       "<style>#sk-container-id-3 {\n",
       "  /* Definition of color scheme common for light and dark mode */\n",
       "  --sklearn-color-text: black;\n",
       "  --sklearn-color-line: gray;\n",
       "  /* Definition of color scheme for unfitted estimators */\n",
       "  --sklearn-color-unfitted-level-0: #fff5e6;\n",
       "  --sklearn-color-unfitted-level-1: #f6e4d2;\n",
       "  --sklearn-color-unfitted-level-2: #ffe0b3;\n",
       "  --sklearn-color-unfitted-level-3: chocolate;\n",
       "  /* Definition of color scheme for fitted estimators */\n",
       "  --sklearn-color-fitted-level-0: #f0f8ff;\n",
       "  --sklearn-color-fitted-level-1: #d4ebff;\n",
       "  --sklearn-color-fitted-level-2: #b3dbfd;\n",
       "  --sklearn-color-fitted-level-3: cornflowerblue;\n",
       "\n",
       "  /* Specific color for light theme */\n",
       "  --sklearn-color-text-on-default-background: var(--sg-text-color, var(--theme-code-foreground, var(--jp-content-font-color1, black)));\n",
       "  --sklearn-color-background: var(--sg-background-color, var(--theme-background, var(--jp-layout-color0, white)));\n",
       "  --sklearn-color-border-box: var(--sg-text-color, var(--theme-code-foreground, var(--jp-content-font-color1, black)));\n",
       "  --sklearn-color-icon: #696969;\n",
       "\n",
       "  @media (prefers-color-scheme: dark) {\n",
       "    /* Redefinition of color scheme for dark theme */\n",
       "    --sklearn-color-text-on-default-background: var(--sg-text-color, var(--theme-code-foreground, var(--jp-content-font-color1, white)));\n",
       "    --sklearn-color-background: var(--sg-background-color, var(--theme-background, var(--jp-layout-color0, #111)));\n",
       "    --sklearn-color-border-box: var(--sg-text-color, var(--theme-code-foreground, var(--jp-content-font-color1, white)));\n",
       "    --sklearn-color-icon: #878787;\n",
       "  }\n",
       "}\n",
       "\n",
       "#sk-container-id-3 {\n",
       "  color: var(--sklearn-color-text);\n",
       "}\n",
       "\n",
       "#sk-container-id-3 pre {\n",
       "  padding: 0;\n",
       "}\n",
       "\n",
       "#sk-container-id-3 input.sk-hidden--visually {\n",
       "  border: 0;\n",
       "  clip: rect(1px 1px 1px 1px);\n",
       "  clip: rect(1px, 1px, 1px, 1px);\n",
       "  height: 1px;\n",
       "  margin: -1px;\n",
       "  overflow: hidden;\n",
       "  padding: 0;\n",
       "  position: absolute;\n",
       "  width: 1px;\n",
       "}\n",
       "\n",
       "#sk-container-id-3 div.sk-dashed-wrapped {\n",
       "  border: 1px dashed var(--sklearn-color-line);\n",
       "  margin: 0 0.4em 0.5em 0.4em;\n",
       "  box-sizing: border-box;\n",
       "  padding-bottom: 0.4em;\n",
       "  background-color: var(--sklearn-color-background);\n",
       "}\n",
       "\n",
       "#sk-container-id-3 div.sk-container {\n",
       "  /* jupyter's `normalize.less` sets `[hidden] { display: none; }`\n",
       "     but bootstrap.min.css set `[hidden] { display: none !important; }`\n",
       "     so we also need the `!important` here to be able to override the\n",
       "     default hidden behavior on the sphinx rendered scikit-learn.org.\n",
       "     See: https://github.com/scikit-learn/scikit-learn/issues/21755 */\n",
       "  display: inline-block !important;\n",
       "  position: relative;\n",
       "}\n",
       "\n",
       "#sk-container-id-3 div.sk-text-repr-fallback {\n",
       "  display: none;\n",
       "}\n",
       "\n",
       "div.sk-parallel-item,\n",
       "div.sk-serial,\n",
       "div.sk-item {\n",
       "  /* draw centered vertical line to link estimators */\n",
       "  background-image: linear-gradient(var(--sklearn-color-text-on-default-background), var(--sklearn-color-text-on-default-background));\n",
       "  background-size: 2px 100%;\n",
       "  background-repeat: no-repeat;\n",
       "  background-position: center center;\n",
       "}\n",
       "\n",
       "/* Parallel-specific style estimator block */\n",
       "\n",
       "#sk-container-id-3 div.sk-parallel-item::after {\n",
       "  content: \"\";\n",
       "  width: 100%;\n",
       "  border-bottom: 2px solid var(--sklearn-color-text-on-default-background);\n",
       "  flex-grow: 1;\n",
       "}\n",
       "\n",
       "#sk-container-id-3 div.sk-parallel {\n",
       "  display: flex;\n",
       "  align-items: stretch;\n",
       "  justify-content: center;\n",
       "  background-color: var(--sklearn-color-background);\n",
       "  position: relative;\n",
       "}\n",
       "\n",
       "#sk-container-id-3 div.sk-parallel-item {\n",
       "  display: flex;\n",
       "  flex-direction: column;\n",
       "}\n",
       "\n",
       "#sk-container-id-3 div.sk-parallel-item:first-child::after {\n",
       "  align-self: flex-end;\n",
       "  width: 50%;\n",
       "}\n",
       "\n",
       "#sk-container-id-3 div.sk-parallel-item:last-child::after {\n",
       "  align-self: flex-start;\n",
       "  width: 50%;\n",
       "}\n",
       "\n",
       "#sk-container-id-3 div.sk-parallel-item:only-child::after {\n",
       "  width: 0;\n",
       "}\n",
       "\n",
       "/* Serial-specific style estimator block */\n",
       "\n",
       "#sk-container-id-3 div.sk-serial {\n",
       "  display: flex;\n",
       "  flex-direction: column;\n",
       "  align-items: center;\n",
       "  background-color: var(--sklearn-color-background);\n",
       "  padding-right: 1em;\n",
       "  padding-left: 1em;\n",
       "}\n",
       "\n",
       "\n",
       "/* Toggleable style: style used for estimator/Pipeline/ColumnTransformer box that is\n",
       "clickable and can be expanded/collapsed.\n",
       "- Pipeline and ColumnTransformer use this feature and define the default style\n",
       "- Estimators will overwrite some part of the style using the `sk-estimator` class\n",
       "*/\n",
       "\n",
       "/* Pipeline and ColumnTransformer style (default) */\n",
       "\n",
       "#sk-container-id-3 div.sk-toggleable {\n",
       "  /* Default theme specific background. It is overwritten whether we have a\n",
       "  specific estimator or a Pipeline/ColumnTransformer */\n",
       "  background-color: var(--sklearn-color-background);\n",
       "}\n",
       "\n",
       "/* Toggleable label */\n",
       "#sk-container-id-3 label.sk-toggleable__label {\n",
       "  cursor: pointer;\n",
       "  display: block;\n",
       "  width: 100%;\n",
       "  margin-bottom: 0;\n",
       "  padding: 0.5em;\n",
       "  box-sizing: border-box;\n",
       "  text-align: center;\n",
       "}\n",
       "\n",
       "#sk-container-id-3 label.sk-toggleable__label-arrow:before {\n",
       "  /* Arrow on the left of the label */\n",
       "  content: \"▸\";\n",
       "  float: left;\n",
       "  margin-right: 0.25em;\n",
       "  color: var(--sklearn-color-icon);\n",
       "}\n",
       "\n",
       "#sk-container-id-3 label.sk-toggleable__label-arrow:hover:before {\n",
       "  color: var(--sklearn-color-text);\n",
       "}\n",
       "\n",
       "/* Toggleable content - dropdown */\n",
       "\n",
       "#sk-container-id-3 div.sk-toggleable__content {\n",
       "  max-height: 0;\n",
       "  max-width: 0;\n",
       "  overflow: hidden;\n",
       "  text-align: left;\n",
       "  /* unfitted */\n",
       "  background-color: var(--sklearn-color-unfitted-level-0);\n",
       "}\n",
       "\n",
       "#sk-container-id-3 div.sk-toggleable__content.fitted {\n",
       "  /* fitted */\n",
       "  background-color: var(--sklearn-color-fitted-level-0);\n",
       "}\n",
       "\n",
       "#sk-container-id-3 div.sk-toggleable__content pre {\n",
       "  margin: 0.2em;\n",
       "  border-radius: 0.25em;\n",
       "  color: var(--sklearn-color-text);\n",
       "  /* unfitted */\n",
       "  background-color: var(--sklearn-color-unfitted-level-0);\n",
       "}\n",
       "\n",
       "#sk-container-id-3 div.sk-toggleable__content.fitted pre {\n",
       "  /* unfitted */\n",
       "  background-color: var(--sklearn-color-fitted-level-0);\n",
       "}\n",
       "\n",
       "#sk-container-id-3 input.sk-toggleable__control:checked~div.sk-toggleable__content {\n",
       "  /* Expand drop-down */\n",
       "  max-height: 200px;\n",
       "  max-width: 100%;\n",
       "  overflow: auto;\n",
       "}\n",
       "\n",
       "#sk-container-id-3 input.sk-toggleable__control:checked~label.sk-toggleable__label-arrow:before {\n",
       "  content: \"▾\";\n",
       "}\n",
       "\n",
       "/* Pipeline/ColumnTransformer-specific style */\n",
       "\n",
       "#sk-container-id-3 div.sk-label input.sk-toggleable__control:checked~label.sk-toggleable__label {\n",
       "  color: var(--sklearn-color-text);\n",
       "  background-color: var(--sklearn-color-unfitted-level-2);\n",
       "}\n",
       "\n",
       "#sk-container-id-3 div.sk-label.fitted input.sk-toggleable__control:checked~label.sk-toggleable__label {\n",
       "  background-color: var(--sklearn-color-fitted-level-2);\n",
       "}\n",
       "\n",
       "/* Estimator-specific style */\n",
       "\n",
       "/* Colorize estimator box */\n",
       "#sk-container-id-3 div.sk-estimator input.sk-toggleable__control:checked~label.sk-toggleable__label {\n",
       "  /* unfitted */\n",
       "  background-color: var(--sklearn-color-unfitted-level-2);\n",
       "}\n",
       "\n",
       "#sk-container-id-3 div.sk-estimator.fitted input.sk-toggleable__control:checked~label.sk-toggleable__label {\n",
       "  /* fitted */\n",
       "  background-color: var(--sklearn-color-fitted-level-2);\n",
       "}\n",
       "\n",
       "#sk-container-id-3 div.sk-label label.sk-toggleable__label,\n",
       "#sk-container-id-3 div.sk-label label {\n",
       "  /* The background is the default theme color */\n",
       "  color: var(--sklearn-color-text-on-default-background);\n",
       "}\n",
       "\n",
       "/* On hover, darken the color of the background */\n",
       "#sk-container-id-3 div.sk-label:hover label.sk-toggleable__label {\n",
       "  color: var(--sklearn-color-text);\n",
       "  background-color: var(--sklearn-color-unfitted-level-2);\n",
       "}\n",
       "\n",
       "/* Label box, darken color on hover, fitted */\n",
       "#sk-container-id-3 div.sk-label.fitted:hover label.sk-toggleable__label.fitted {\n",
       "  color: var(--sklearn-color-text);\n",
       "  background-color: var(--sklearn-color-fitted-level-2);\n",
       "}\n",
       "\n",
       "/* Estimator label */\n",
       "\n",
       "#sk-container-id-3 div.sk-label label {\n",
       "  font-family: monospace;\n",
       "  font-weight: bold;\n",
       "  display: inline-block;\n",
       "  line-height: 1.2em;\n",
       "}\n",
       "\n",
       "#sk-container-id-3 div.sk-label-container {\n",
       "  text-align: center;\n",
       "}\n",
       "\n",
       "/* Estimator-specific */\n",
       "#sk-container-id-3 div.sk-estimator {\n",
       "  font-family: monospace;\n",
       "  border: 1px dotted var(--sklearn-color-border-box);\n",
       "  border-radius: 0.25em;\n",
       "  box-sizing: border-box;\n",
       "  margin-bottom: 0.5em;\n",
       "  /* unfitted */\n",
       "  background-color: var(--sklearn-color-unfitted-level-0);\n",
       "}\n",
       "\n",
       "#sk-container-id-3 div.sk-estimator.fitted {\n",
       "  /* fitted */\n",
       "  background-color: var(--sklearn-color-fitted-level-0);\n",
       "}\n",
       "\n",
       "/* on hover */\n",
       "#sk-container-id-3 div.sk-estimator:hover {\n",
       "  /* unfitted */\n",
       "  background-color: var(--sklearn-color-unfitted-level-2);\n",
       "}\n",
       "\n",
       "#sk-container-id-3 div.sk-estimator.fitted:hover {\n",
       "  /* fitted */\n",
       "  background-color: var(--sklearn-color-fitted-level-2);\n",
       "}\n",
       "\n",
       "/* Specification for estimator info (e.g. \"i\" and \"?\") */\n",
       "\n",
       "/* Common style for \"i\" and \"?\" */\n",
       "\n",
       ".sk-estimator-doc-link,\n",
       "a:link.sk-estimator-doc-link,\n",
       "a:visited.sk-estimator-doc-link {\n",
       "  float: right;\n",
       "  font-size: smaller;\n",
       "  line-height: 1em;\n",
       "  font-family: monospace;\n",
       "  background-color: var(--sklearn-color-background);\n",
       "  border-radius: 1em;\n",
       "  height: 1em;\n",
       "  width: 1em;\n",
       "  text-decoration: none !important;\n",
       "  margin-left: 1ex;\n",
       "  /* unfitted */\n",
       "  border: var(--sklearn-color-unfitted-level-1) 1pt solid;\n",
       "  color: var(--sklearn-color-unfitted-level-1);\n",
       "}\n",
       "\n",
       ".sk-estimator-doc-link.fitted,\n",
       "a:link.sk-estimator-doc-link.fitted,\n",
       "a:visited.sk-estimator-doc-link.fitted {\n",
       "  /* fitted */\n",
       "  border: var(--sklearn-color-fitted-level-1) 1pt solid;\n",
       "  color: var(--sklearn-color-fitted-level-1);\n",
       "}\n",
       "\n",
       "/* On hover */\n",
       "div.sk-estimator:hover .sk-estimator-doc-link:hover,\n",
       ".sk-estimator-doc-link:hover,\n",
       "div.sk-label-container:hover .sk-estimator-doc-link:hover,\n",
       ".sk-estimator-doc-link:hover {\n",
       "  /* unfitted */\n",
       "  background-color: var(--sklearn-color-unfitted-level-3);\n",
       "  color: var(--sklearn-color-background);\n",
       "  text-decoration: none;\n",
       "}\n",
       "\n",
       "div.sk-estimator.fitted:hover .sk-estimator-doc-link.fitted:hover,\n",
       ".sk-estimator-doc-link.fitted:hover,\n",
       "div.sk-label-container:hover .sk-estimator-doc-link.fitted:hover,\n",
       ".sk-estimator-doc-link.fitted:hover {\n",
       "  /* fitted */\n",
       "  background-color: var(--sklearn-color-fitted-level-3);\n",
       "  color: var(--sklearn-color-background);\n",
       "  text-decoration: none;\n",
       "}\n",
       "\n",
       "/* Span, style for the box shown on hovering the info icon */\n",
       ".sk-estimator-doc-link span {\n",
       "  display: none;\n",
       "  z-index: 9999;\n",
       "  position: relative;\n",
       "  font-weight: normal;\n",
       "  right: .2ex;\n",
       "  padding: .5ex;\n",
       "  margin: .5ex;\n",
       "  width: min-content;\n",
       "  min-width: 20ex;\n",
       "  max-width: 50ex;\n",
       "  color: var(--sklearn-color-text);\n",
       "  box-shadow: 2pt 2pt 4pt #999;\n",
       "  /* unfitted */\n",
       "  background: var(--sklearn-color-unfitted-level-0);\n",
       "  border: .5pt solid var(--sklearn-color-unfitted-level-3);\n",
       "}\n",
       "\n",
       ".sk-estimator-doc-link.fitted span {\n",
       "  /* fitted */\n",
       "  background: var(--sklearn-color-fitted-level-0);\n",
       "  border: var(--sklearn-color-fitted-level-3);\n",
       "}\n",
       "\n",
       ".sk-estimator-doc-link:hover span {\n",
       "  display: block;\n",
       "}\n",
       "\n",
       "/* \"?\"-specific style due to the `<a>` HTML tag */\n",
       "\n",
       "#sk-container-id-3 a.estimator_doc_link {\n",
       "  float: right;\n",
       "  font-size: 1rem;\n",
       "  line-height: 1em;\n",
       "  font-family: monospace;\n",
       "  background-color: var(--sklearn-color-background);\n",
       "  border-radius: 1rem;\n",
       "  height: 1rem;\n",
       "  width: 1rem;\n",
       "  text-decoration: none;\n",
       "  /* unfitted */\n",
       "  color: var(--sklearn-color-unfitted-level-1);\n",
       "  border: var(--sklearn-color-unfitted-level-1) 1pt solid;\n",
       "}\n",
       "\n",
       "#sk-container-id-3 a.estimator_doc_link.fitted {\n",
       "  /* fitted */\n",
       "  border: var(--sklearn-color-fitted-level-1) 1pt solid;\n",
       "  color: var(--sklearn-color-fitted-level-1);\n",
       "}\n",
       "\n",
       "/* On hover */\n",
       "#sk-container-id-3 a.estimator_doc_link:hover {\n",
       "  /* unfitted */\n",
       "  background-color: var(--sklearn-color-unfitted-level-3);\n",
       "  color: var(--sklearn-color-background);\n",
       "  text-decoration: none;\n",
       "}\n",
       "\n",
       "#sk-container-id-3 a.estimator_doc_link.fitted:hover {\n",
       "  /* fitted */\n",
       "  background-color: var(--sklearn-color-fitted-level-3);\n",
       "}\n",
       "</style><div id=\"sk-container-id-3\" class=\"sk-top-container\"><div class=\"sk-text-repr-fallback\"><pre>Pipeline(steps=[(&#x27;preprocessor&#x27;,\n",
       "                 ColumnTransformer(transformers=[(&#x27;num&#x27;,\n",
       "                                                  Pipeline(steps=[(&#x27;imputer&#x27;,\n",
       "                                                                   SimpleImputer(strategy=&#x27;median&#x27;)),\n",
       "                                                                  (&#x27;poly&#x27;,\n",
       "                                                                   PolynomialFeatures(degree=3)),\n",
       "                                                                  (&#x27;scaler&#x27;,\n",
       "                                                                   &#x27;passthrough&#x27;)]),\n",
       "                                                  Index([&#x27;Power&#x27;, &#x27;Kilometer&#x27;, &#x27;CarAgeInMonths&#x27;], dtype=&#x27;object&#x27;)),\n",
       "                                                 (&#x27;cat&#x27;,\n",
       "                                                  Pipeline(steps=[(&#x27;imputer&#x27;,\n",
       "                                                                   SimpleImputer(fill_value=&#x27;unknown&#x27;,\n",
       "                                                                                 strategy=&#x27;constant&#x27;)),\n",
       "                                                                  (&#x27;onehot&#x27;,\n",
       "                                                                   OneHotEncoder(drop=&#x27;first&#x27;,\n",
       "                                                                                 handle_unknown=&#x27;ignore&#x27;))]),\n",
       "                                                  Index([&#x27;VehicleType&#x27;, &#x27;Gearbox&#x27;, &#x27;FuelType&#x27;, &#x27;Repaired&#x27;, &#x27;Brand_Model&#x27;], dtype=&#x27;object&#x27;))])),\n",
       "                (&#x27;scaler&#x27;, RobustScaler(with_centering=False)),\n",
       "                (&#x27;regressor&#x27;,\n",
       "                 LinearRegression(fit_intercept=False, n_jobs=-1))])</pre><b>In a Jupyter environment, please rerun this cell to show the HTML representation or trust the notebook. <br />On GitHub, the HTML representation is unable to render, please try loading this page with nbviewer.org.</b></div><div class=\"sk-container\" hidden><div class=\"sk-item sk-dashed-wrapped\"><div class=\"sk-label-container\"><div class=\"sk-label fitted sk-toggleable\"><input class=\"sk-toggleable__control sk-hidden--visually\" id=\"sk-estimator-id-14\" type=\"checkbox\" ><label for=\"sk-estimator-id-14\" class=\"sk-toggleable__label fitted sk-toggleable__label-arrow fitted\">&nbsp;&nbsp;Pipeline<a class=\"sk-estimator-doc-link fitted\" rel=\"noreferrer\" target=\"_blank\" href=\"https://scikit-learn.org/1.4/modules/generated/sklearn.pipeline.Pipeline.html\">?<span>Documentation for Pipeline</span></a><span class=\"sk-estimator-doc-link fitted\">i<span>Fitted</span></span></label><div class=\"sk-toggleable__content fitted\"><pre>Pipeline(steps=[(&#x27;preprocessor&#x27;,\n",
       "                 ColumnTransformer(transformers=[(&#x27;num&#x27;,\n",
       "                                                  Pipeline(steps=[(&#x27;imputer&#x27;,\n",
       "                                                                   SimpleImputer(strategy=&#x27;median&#x27;)),\n",
       "                                                                  (&#x27;poly&#x27;,\n",
       "                                                                   PolynomialFeatures(degree=3)),\n",
       "                                                                  (&#x27;scaler&#x27;,\n",
       "                                                                   &#x27;passthrough&#x27;)]),\n",
       "                                                  Index([&#x27;Power&#x27;, &#x27;Kilometer&#x27;, &#x27;CarAgeInMonths&#x27;], dtype=&#x27;object&#x27;)),\n",
       "                                                 (&#x27;cat&#x27;,\n",
       "                                                  Pipeline(steps=[(&#x27;imputer&#x27;,\n",
       "                                                                   SimpleImputer(fill_value=&#x27;unknown&#x27;,\n",
       "                                                                                 strategy=&#x27;constant&#x27;)),\n",
       "                                                                  (&#x27;onehot&#x27;,\n",
       "                                                                   OneHotEncoder(drop=&#x27;first&#x27;,\n",
       "                                                                                 handle_unknown=&#x27;ignore&#x27;))]),\n",
       "                                                  Index([&#x27;VehicleType&#x27;, &#x27;Gearbox&#x27;, &#x27;FuelType&#x27;, &#x27;Repaired&#x27;, &#x27;Brand_Model&#x27;], dtype=&#x27;object&#x27;))])),\n",
       "                (&#x27;scaler&#x27;, RobustScaler(with_centering=False)),\n",
       "                (&#x27;regressor&#x27;,\n",
       "                 LinearRegression(fit_intercept=False, n_jobs=-1))])</pre></div> </div></div><div class=\"sk-serial\"><div class=\"sk-item sk-dashed-wrapped\"><div class=\"sk-label-container\"><div class=\"sk-label fitted sk-toggleable\"><input class=\"sk-toggleable__control sk-hidden--visually\" id=\"sk-estimator-id-15\" type=\"checkbox\" ><label for=\"sk-estimator-id-15\" class=\"sk-toggleable__label fitted sk-toggleable__label-arrow fitted\">&nbsp;preprocessor: ColumnTransformer<a class=\"sk-estimator-doc-link fitted\" rel=\"noreferrer\" target=\"_blank\" href=\"https://scikit-learn.org/1.4/modules/generated/sklearn.compose.ColumnTransformer.html\">?<span>Documentation for preprocessor: ColumnTransformer</span></a></label><div class=\"sk-toggleable__content fitted\"><pre>ColumnTransformer(transformers=[(&#x27;num&#x27;,\n",
       "                                 Pipeline(steps=[(&#x27;imputer&#x27;,\n",
       "                                                  SimpleImputer(strategy=&#x27;median&#x27;)),\n",
       "                                                 (&#x27;poly&#x27;,\n",
       "                                                  PolynomialFeatures(degree=3)),\n",
       "                                                 (&#x27;scaler&#x27;, &#x27;passthrough&#x27;)]),\n",
       "                                 Index([&#x27;Power&#x27;, &#x27;Kilometer&#x27;, &#x27;CarAgeInMonths&#x27;], dtype=&#x27;object&#x27;)),\n",
       "                                (&#x27;cat&#x27;,\n",
       "                                 Pipeline(steps=[(&#x27;imputer&#x27;,\n",
       "                                                  SimpleImputer(fill_value=&#x27;unknown&#x27;,\n",
       "                                                                strategy=&#x27;constant&#x27;)),\n",
       "                                                 (&#x27;onehot&#x27;,\n",
       "                                                  OneHotEncoder(drop=&#x27;first&#x27;,\n",
       "                                                                handle_unknown=&#x27;ignore&#x27;))]),\n",
       "                                 Index([&#x27;VehicleType&#x27;, &#x27;Gearbox&#x27;, &#x27;FuelType&#x27;, &#x27;Repaired&#x27;, &#x27;Brand_Model&#x27;], dtype=&#x27;object&#x27;))])</pre></div> </div></div><div class=\"sk-parallel\"><div class=\"sk-parallel-item\"><div class=\"sk-item\"><div class=\"sk-label-container\"><div class=\"sk-label fitted sk-toggleable\"><input class=\"sk-toggleable__control sk-hidden--visually\" id=\"sk-estimator-id-16\" type=\"checkbox\" ><label for=\"sk-estimator-id-16\" class=\"sk-toggleable__label fitted sk-toggleable__label-arrow fitted\">num</label><div class=\"sk-toggleable__content fitted\"><pre>Index([&#x27;Power&#x27;, &#x27;Kilometer&#x27;, &#x27;CarAgeInMonths&#x27;], dtype=&#x27;object&#x27;)</pre></div> </div></div><div class=\"sk-serial\"><div class=\"sk-item\"><div class=\"sk-serial\"><div class=\"sk-item\"><div class=\"sk-estimator fitted sk-toggleable\"><input class=\"sk-toggleable__control sk-hidden--visually\" id=\"sk-estimator-id-17\" type=\"checkbox\" ><label for=\"sk-estimator-id-17\" class=\"sk-toggleable__label fitted sk-toggleable__label-arrow fitted\">&nbsp;SimpleImputer<a class=\"sk-estimator-doc-link fitted\" rel=\"noreferrer\" target=\"_blank\" href=\"https://scikit-learn.org/1.4/modules/generated/sklearn.impute.SimpleImputer.html\">?<span>Documentation for SimpleImputer</span></a></label><div class=\"sk-toggleable__content fitted\"><pre>SimpleImputer(strategy=&#x27;median&#x27;)</pre></div> </div></div><div class=\"sk-item\"><div class=\"sk-estimator fitted sk-toggleable\"><input class=\"sk-toggleable__control sk-hidden--visually\" id=\"sk-estimator-id-18\" type=\"checkbox\" ><label for=\"sk-estimator-id-18\" class=\"sk-toggleable__label fitted sk-toggleable__label-arrow fitted\">&nbsp;PolynomialFeatures<a class=\"sk-estimator-doc-link fitted\" rel=\"noreferrer\" target=\"_blank\" href=\"https://scikit-learn.org/1.4/modules/generated/sklearn.preprocessing.PolynomialFeatures.html\">?<span>Documentation for PolynomialFeatures</span></a></label><div class=\"sk-toggleable__content fitted\"><pre>PolynomialFeatures(degree=3)</pre></div> </div></div><div class=\"sk-item\"><div class=\"sk-estimator fitted sk-toggleable\"><input class=\"sk-toggleable__control sk-hidden--visually\" id=\"sk-estimator-id-19\" type=\"checkbox\" ><label for=\"sk-estimator-id-19\" class=\"sk-toggleable__label fitted sk-toggleable__label-arrow fitted\">passthrough</label><div class=\"sk-toggleable__content fitted\"><pre>passthrough</pre></div> </div></div></div></div></div></div></div><div class=\"sk-parallel-item\"><div class=\"sk-item\"><div class=\"sk-label-container\"><div class=\"sk-label fitted sk-toggleable\"><input class=\"sk-toggleable__control sk-hidden--visually\" id=\"sk-estimator-id-20\" type=\"checkbox\" ><label for=\"sk-estimator-id-20\" class=\"sk-toggleable__label fitted sk-toggleable__label-arrow fitted\">cat</label><div class=\"sk-toggleable__content fitted\"><pre>Index([&#x27;VehicleType&#x27;, &#x27;Gearbox&#x27;, &#x27;FuelType&#x27;, &#x27;Repaired&#x27;, &#x27;Brand_Model&#x27;], dtype=&#x27;object&#x27;)</pre></div> </div></div><div class=\"sk-serial\"><div class=\"sk-item\"><div class=\"sk-serial\"><div class=\"sk-item\"><div class=\"sk-estimator fitted sk-toggleable\"><input class=\"sk-toggleable__control sk-hidden--visually\" id=\"sk-estimator-id-21\" type=\"checkbox\" ><label for=\"sk-estimator-id-21\" class=\"sk-toggleable__label fitted sk-toggleable__label-arrow fitted\">&nbsp;SimpleImputer<a class=\"sk-estimator-doc-link fitted\" rel=\"noreferrer\" target=\"_blank\" href=\"https://scikit-learn.org/1.4/modules/generated/sklearn.impute.SimpleImputer.html\">?<span>Documentation for SimpleImputer</span></a></label><div class=\"sk-toggleable__content fitted\"><pre>SimpleImputer(fill_value=&#x27;unknown&#x27;, strategy=&#x27;constant&#x27;)</pre></div> </div></div><div class=\"sk-item\"><div class=\"sk-estimator fitted sk-toggleable\"><input class=\"sk-toggleable__control sk-hidden--visually\" id=\"sk-estimator-id-22\" type=\"checkbox\" ><label for=\"sk-estimator-id-22\" class=\"sk-toggleable__label fitted sk-toggleable__label-arrow fitted\">&nbsp;OneHotEncoder<a class=\"sk-estimator-doc-link fitted\" rel=\"noreferrer\" target=\"_blank\" href=\"https://scikit-learn.org/1.4/modules/generated/sklearn.preprocessing.OneHotEncoder.html\">?<span>Documentation for OneHotEncoder</span></a></label><div class=\"sk-toggleable__content fitted\"><pre>OneHotEncoder(drop=&#x27;first&#x27;, handle_unknown=&#x27;ignore&#x27;)</pre></div> </div></div></div></div></div></div></div></div></div><div class=\"sk-item\"><div class=\"sk-estimator fitted sk-toggleable\"><input class=\"sk-toggleable__control sk-hidden--visually\" id=\"sk-estimator-id-23\" type=\"checkbox\" ><label for=\"sk-estimator-id-23\" class=\"sk-toggleable__label fitted sk-toggleable__label-arrow fitted\">&nbsp;RobustScaler<a class=\"sk-estimator-doc-link fitted\" rel=\"noreferrer\" target=\"_blank\" href=\"https://scikit-learn.org/1.4/modules/generated/sklearn.preprocessing.RobustScaler.html\">?<span>Documentation for RobustScaler</span></a></label><div class=\"sk-toggleable__content fitted\"><pre>RobustScaler(with_centering=False)</pre></div> </div></div><div class=\"sk-item\"><div class=\"sk-estimator fitted sk-toggleable\"><input class=\"sk-toggleable__control sk-hidden--visually\" id=\"sk-estimator-id-24\" type=\"checkbox\" ><label for=\"sk-estimator-id-24\" class=\"sk-toggleable__label fitted sk-toggleable__label-arrow fitted\">&nbsp;LinearRegression<a class=\"sk-estimator-doc-link fitted\" rel=\"noreferrer\" target=\"_blank\" href=\"https://scikit-learn.org/1.4/modules/generated/sklearn.linear_model.LinearRegression.html\">?<span>Documentation for LinearRegression</span></a></label><div class=\"sk-toggleable__content fitted\"><pre>LinearRegression(fit_intercept=False, n_jobs=-1)</pre></div> </div></div></div></div></div></div>"
      ],
      "text/plain": [
       "Pipeline(steps=[('preprocessor',\n",
       "                 ColumnTransformer(transformers=[('num',\n",
       "                                                  Pipeline(steps=[('imputer',\n",
       "                                                                   SimpleImputer(strategy='median')),\n",
       "                                                                  ('poly',\n",
       "                                                                   PolynomialFeatures(degree=3)),\n",
       "                                                                  ('scaler',\n",
       "                                                                   'passthrough')]),\n",
       "                                                  Index(['Power', 'Kilometer', 'CarAgeInMonths'], dtype='object')),\n",
       "                                                 ('cat',\n",
       "                                                  Pipeline(steps=[('imputer',\n",
       "                                                                   SimpleImputer(fill_value='unknown',\n",
       "                                                                                 strategy='constant')),\n",
       "                                                                  ('onehot',\n",
       "                                                                   OneHotEncoder(drop='first',\n",
       "                                                                                 handle_unknown='ignore'))]),\n",
       "                                                  Index(['VehicleType', 'Gearbox', 'FuelType', 'Repaired', 'Brand_Model'], dtype='object'))])),\n",
       "                ('scaler', RobustScaler(with_centering=False)),\n",
       "                ('regressor',\n",
       "                 LinearRegression(fit_intercept=False, n_jobs=-1))])"
      ]
     },
     "execution_count": 34,
     "metadata": {},
     "output_type": "execute_result"
    }
   ],
   "source": [
    "best_linear_model"
   ]
  },
  {
   "cell_type": "code",
   "execution_count": 35,
   "metadata": {},
   "outputs": [
    {
     "data": {
      "text/html": [
       "<style>#sk-container-id-4 {\n",
       "  /* Definition of color scheme common for light and dark mode */\n",
       "  --sklearn-color-text: black;\n",
       "  --sklearn-color-line: gray;\n",
       "  /* Definition of color scheme for unfitted estimators */\n",
       "  --sklearn-color-unfitted-level-0: #fff5e6;\n",
       "  --sklearn-color-unfitted-level-1: #f6e4d2;\n",
       "  --sklearn-color-unfitted-level-2: #ffe0b3;\n",
       "  --sklearn-color-unfitted-level-3: chocolate;\n",
       "  /* Definition of color scheme for fitted estimators */\n",
       "  --sklearn-color-fitted-level-0: #f0f8ff;\n",
       "  --sklearn-color-fitted-level-1: #d4ebff;\n",
       "  --sklearn-color-fitted-level-2: #b3dbfd;\n",
       "  --sklearn-color-fitted-level-3: cornflowerblue;\n",
       "\n",
       "  /* Specific color for light theme */\n",
       "  --sklearn-color-text-on-default-background: var(--sg-text-color, var(--theme-code-foreground, var(--jp-content-font-color1, black)));\n",
       "  --sklearn-color-background: var(--sg-background-color, var(--theme-background, var(--jp-layout-color0, white)));\n",
       "  --sklearn-color-border-box: var(--sg-text-color, var(--theme-code-foreground, var(--jp-content-font-color1, black)));\n",
       "  --sklearn-color-icon: #696969;\n",
       "\n",
       "  @media (prefers-color-scheme: dark) {\n",
       "    /* Redefinition of color scheme for dark theme */\n",
       "    --sklearn-color-text-on-default-background: var(--sg-text-color, var(--theme-code-foreground, var(--jp-content-font-color1, white)));\n",
       "    --sklearn-color-background: var(--sg-background-color, var(--theme-background, var(--jp-layout-color0, #111)));\n",
       "    --sklearn-color-border-box: var(--sg-text-color, var(--theme-code-foreground, var(--jp-content-font-color1, white)));\n",
       "    --sklearn-color-icon: #878787;\n",
       "  }\n",
       "}\n",
       "\n",
       "#sk-container-id-4 {\n",
       "  color: var(--sklearn-color-text);\n",
       "}\n",
       "\n",
       "#sk-container-id-4 pre {\n",
       "  padding: 0;\n",
       "}\n",
       "\n",
       "#sk-container-id-4 input.sk-hidden--visually {\n",
       "  border: 0;\n",
       "  clip: rect(1px 1px 1px 1px);\n",
       "  clip: rect(1px, 1px, 1px, 1px);\n",
       "  height: 1px;\n",
       "  margin: -1px;\n",
       "  overflow: hidden;\n",
       "  padding: 0;\n",
       "  position: absolute;\n",
       "  width: 1px;\n",
       "}\n",
       "\n",
       "#sk-container-id-4 div.sk-dashed-wrapped {\n",
       "  border: 1px dashed var(--sklearn-color-line);\n",
       "  margin: 0 0.4em 0.5em 0.4em;\n",
       "  box-sizing: border-box;\n",
       "  padding-bottom: 0.4em;\n",
       "  background-color: var(--sklearn-color-background);\n",
       "}\n",
       "\n",
       "#sk-container-id-4 div.sk-container {\n",
       "  /* jupyter's `normalize.less` sets `[hidden] { display: none; }`\n",
       "     but bootstrap.min.css set `[hidden] { display: none !important; }`\n",
       "     so we also need the `!important` here to be able to override the\n",
       "     default hidden behavior on the sphinx rendered scikit-learn.org.\n",
       "     See: https://github.com/scikit-learn/scikit-learn/issues/21755 */\n",
       "  display: inline-block !important;\n",
       "  position: relative;\n",
       "}\n",
       "\n",
       "#sk-container-id-4 div.sk-text-repr-fallback {\n",
       "  display: none;\n",
       "}\n",
       "\n",
       "div.sk-parallel-item,\n",
       "div.sk-serial,\n",
       "div.sk-item {\n",
       "  /* draw centered vertical line to link estimators */\n",
       "  background-image: linear-gradient(var(--sklearn-color-text-on-default-background), var(--sklearn-color-text-on-default-background));\n",
       "  background-size: 2px 100%;\n",
       "  background-repeat: no-repeat;\n",
       "  background-position: center center;\n",
       "}\n",
       "\n",
       "/* Parallel-specific style estimator block */\n",
       "\n",
       "#sk-container-id-4 div.sk-parallel-item::after {\n",
       "  content: \"\";\n",
       "  width: 100%;\n",
       "  border-bottom: 2px solid var(--sklearn-color-text-on-default-background);\n",
       "  flex-grow: 1;\n",
       "}\n",
       "\n",
       "#sk-container-id-4 div.sk-parallel {\n",
       "  display: flex;\n",
       "  align-items: stretch;\n",
       "  justify-content: center;\n",
       "  background-color: var(--sklearn-color-background);\n",
       "  position: relative;\n",
       "}\n",
       "\n",
       "#sk-container-id-4 div.sk-parallel-item {\n",
       "  display: flex;\n",
       "  flex-direction: column;\n",
       "}\n",
       "\n",
       "#sk-container-id-4 div.sk-parallel-item:first-child::after {\n",
       "  align-self: flex-end;\n",
       "  width: 50%;\n",
       "}\n",
       "\n",
       "#sk-container-id-4 div.sk-parallel-item:last-child::after {\n",
       "  align-self: flex-start;\n",
       "  width: 50%;\n",
       "}\n",
       "\n",
       "#sk-container-id-4 div.sk-parallel-item:only-child::after {\n",
       "  width: 0;\n",
       "}\n",
       "\n",
       "/* Serial-specific style estimator block */\n",
       "\n",
       "#sk-container-id-4 div.sk-serial {\n",
       "  display: flex;\n",
       "  flex-direction: column;\n",
       "  align-items: center;\n",
       "  background-color: var(--sklearn-color-background);\n",
       "  padding-right: 1em;\n",
       "  padding-left: 1em;\n",
       "}\n",
       "\n",
       "\n",
       "/* Toggleable style: style used for estimator/Pipeline/ColumnTransformer box that is\n",
       "clickable and can be expanded/collapsed.\n",
       "- Pipeline and ColumnTransformer use this feature and define the default style\n",
       "- Estimators will overwrite some part of the style using the `sk-estimator` class\n",
       "*/\n",
       "\n",
       "/* Pipeline and ColumnTransformer style (default) */\n",
       "\n",
       "#sk-container-id-4 div.sk-toggleable {\n",
       "  /* Default theme specific background. It is overwritten whether we have a\n",
       "  specific estimator or a Pipeline/ColumnTransformer */\n",
       "  background-color: var(--sklearn-color-background);\n",
       "}\n",
       "\n",
       "/* Toggleable label */\n",
       "#sk-container-id-4 label.sk-toggleable__label {\n",
       "  cursor: pointer;\n",
       "  display: block;\n",
       "  width: 100%;\n",
       "  margin-bottom: 0;\n",
       "  padding: 0.5em;\n",
       "  box-sizing: border-box;\n",
       "  text-align: center;\n",
       "}\n",
       "\n",
       "#sk-container-id-4 label.sk-toggleable__label-arrow:before {\n",
       "  /* Arrow on the left of the label */\n",
       "  content: \"▸\";\n",
       "  float: left;\n",
       "  margin-right: 0.25em;\n",
       "  color: var(--sklearn-color-icon);\n",
       "}\n",
       "\n",
       "#sk-container-id-4 label.sk-toggleable__label-arrow:hover:before {\n",
       "  color: var(--sklearn-color-text);\n",
       "}\n",
       "\n",
       "/* Toggleable content - dropdown */\n",
       "\n",
       "#sk-container-id-4 div.sk-toggleable__content {\n",
       "  max-height: 0;\n",
       "  max-width: 0;\n",
       "  overflow: hidden;\n",
       "  text-align: left;\n",
       "  /* unfitted */\n",
       "  background-color: var(--sklearn-color-unfitted-level-0);\n",
       "}\n",
       "\n",
       "#sk-container-id-4 div.sk-toggleable__content.fitted {\n",
       "  /* fitted */\n",
       "  background-color: var(--sklearn-color-fitted-level-0);\n",
       "}\n",
       "\n",
       "#sk-container-id-4 div.sk-toggleable__content pre {\n",
       "  margin: 0.2em;\n",
       "  border-radius: 0.25em;\n",
       "  color: var(--sklearn-color-text);\n",
       "  /* unfitted */\n",
       "  background-color: var(--sklearn-color-unfitted-level-0);\n",
       "}\n",
       "\n",
       "#sk-container-id-4 div.sk-toggleable__content.fitted pre {\n",
       "  /* unfitted */\n",
       "  background-color: var(--sklearn-color-fitted-level-0);\n",
       "}\n",
       "\n",
       "#sk-container-id-4 input.sk-toggleable__control:checked~div.sk-toggleable__content {\n",
       "  /* Expand drop-down */\n",
       "  max-height: 200px;\n",
       "  max-width: 100%;\n",
       "  overflow: auto;\n",
       "}\n",
       "\n",
       "#sk-container-id-4 input.sk-toggleable__control:checked~label.sk-toggleable__label-arrow:before {\n",
       "  content: \"▾\";\n",
       "}\n",
       "\n",
       "/* Pipeline/ColumnTransformer-specific style */\n",
       "\n",
       "#sk-container-id-4 div.sk-label input.sk-toggleable__control:checked~label.sk-toggleable__label {\n",
       "  color: var(--sklearn-color-text);\n",
       "  background-color: var(--sklearn-color-unfitted-level-2);\n",
       "}\n",
       "\n",
       "#sk-container-id-4 div.sk-label.fitted input.sk-toggleable__control:checked~label.sk-toggleable__label {\n",
       "  background-color: var(--sklearn-color-fitted-level-2);\n",
       "}\n",
       "\n",
       "/* Estimator-specific style */\n",
       "\n",
       "/* Colorize estimator box */\n",
       "#sk-container-id-4 div.sk-estimator input.sk-toggleable__control:checked~label.sk-toggleable__label {\n",
       "  /* unfitted */\n",
       "  background-color: var(--sklearn-color-unfitted-level-2);\n",
       "}\n",
       "\n",
       "#sk-container-id-4 div.sk-estimator.fitted input.sk-toggleable__control:checked~label.sk-toggleable__label {\n",
       "  /* fitted */\n",
       "  background-color: var(--sklearn-color-fitted-level-2);\n",
       "}\n",
       "\n",
       "#sk-container-id-4 div.sk-label label.sk-toggleable__label,\n",
       "#sk-container-id-4 div.sk-label label {\n",
       "  /* The background is the default theme color */\n",
       "  color: var(--sklearn-color-text-on-default-background);\n",
       "}\n",
       "\n",
       "/* On hover, darken the color of the background */\n",
       "#sk-container-id-4 div.sk-label:hover label.sk-toggleable__label {\n",
       "  color: var(--sklearn-color-text);\n",
       "  background-color: var(--sklearn-color-unfitted-level-2);\n",
       "}\n",
       "\n",
       "/* Label box, darken color on hover, fitted */\n",
       "#sk-container-id-4 div.sk-label.fitted:hover label.sk-toggleable__label.fitted {\n",
       "  color: var(--sklearn-color-text);\n",
       "  background-color: var(--sklearn-color-fitted-level-2);\n",
       "}\n",
       "\n",
       "/* Estimator label */\n",
       "\n",
       "#sk-container-id-4 div.sk-label label {\n",
       "  font-family: monospace;\n",
       "  font-weight: bold;\n",
       "  display: inline-block;\n",
       "  line-height: 1.2em;\n",
       "}\n",
       "\n",
       "#sk-container-id-4 div.sk-label-container {\n",
       "  text-align: center;\n",
       "}\n",
       "\n",
       "/* Estimator-specific */\n",
       "#sk-container-id-4 div.sk-estimator {\n",
       "  font-family: monospace;\n",
       "  border: 1px dotted var(--sklearn-color-border-box);\n",
       "  border-radius: 0.25em;\n",
       "  box-sizing: border-box;\n",
       "  margin-bottom: 0.5em;\n",
       "  /* unfitted */\n",
       "  background-color: var(--sklearn-color-unfitted-level-0);\n",
       "}\n",
       "\n",
       "#sk-container-id-4 div.sk-estimator.fitted {\n",
       "  /* fitted */\n",
       "  background-color: var(--sklearn-color-fitted-level-0);\n",
       "}\n",
       "\n",
       "/* on hover */\n",
       "#sk-container-id-4 div.sk-estimator:hover {\n",
       "  /* unfitted */\n",
       "  background-color: var(--sklearn-color-unfitted-level-2);\n",
       "}\n",
       "\n",
       "#sk-container-id-4 div.sk-estimator.fitted:hover {\n",
       "  /* fitted */\n",
       "  background-color: var(--sklearn-color-fitted-level-2);\n",
       "}\n",
       "\n",
       "/* Specification for estimator info (e.g. \"i\" and \"?\") */\n",
       "\n",
       "/* Common style for \"i\" and \"?\" */\n",
       "\n",
       ".sk-estimator-doc-link,\n",
       "a:link.sk-estimator-doc-link,\n",
       "a:visited.sk-estimator-doc-link {\n",
       "  float: right;\n",
       "  font-size: smaller;\n",
       "  line-height: 1em;\n",
       "  font-family: monospace;\n",
       "  background-color: var(--sklearn-color-background);\n",
       "  border-radius: 1em;\n",
       "  height: 1em;\n",
       "  width: 1em;\n",
       "  text-decoration: none !important;\n",
       "  margin-left: 1ex;\n",
       "  /* unfitted */\n",
       "  border: var(--sklearn-color-unfitted-level-1) 1pt solid;\n",
       "  color: var(--sklearn-color-unfitted-level-1);\n",
       "}\n",
       "\n",
       ".sk-estimator-doc-link.fitted,\n",
       "a:link.sk-estimator-doc-link.fitted,\n",
       "a:visited.sk-estimator-doc-link.fitted {\n",
       "  /* fitted */\n",
       "  border: var(--sklearn-color-fitted-level-1) 1pt solid;\n",
       "  color: var(--sklearn-color-fitted-level-1);\n",
       "}\n",
       "\n",
       "/* On hover */\n",
       "div.sk-estimator:hover .sk-estimator-doc-link:hover,\n",
       ".sk-estimator-doc-link:hover,\n",
       "div.sk-label-container:hover .sk-estimator-doc-link:hover,\n",
       ".sk-estimator-doc-link:hover {\n",
       "  /* unfitted */\n",
       "  background-color: var(--sklearn-color-unfitted-level-3);\n",
       "  color: var(--sklearn-color-background);\n",
       "  text-decoration: none;\n",
       "}\n",
       "\n",
       "div.sk-estimator.fitted:hover .sk-estimator-doc-link.fitted:hover,\n",
       ".sk-estimator-doc-link.fitted:hover,\n",
       "div.sk-label-container:hover .sk-estimator-doc-link.fitted:hover,\n",
       ".sk-estimator-doc-link.fitted:hover {\n",
       "  /* fitted */\n",
       "  background-color: var(--sklearn-color-fitted-level-3);\n",
       "  color: var(--sklearn-color-background);\n",
       "  text-decoration: none;\n",
       "}\n",
       "\n",
       "/* Span, style for the box shown on hovering the info icon */\n",
       ".sk-estimator-doc-link span {\n",
       "  display: none;\n",
       "  z-index: 9999;\n",
       "  position: relative;\n",
       "  font-weight: normal;\n",
       "  right: .2ex;\n",
       "  padding: .5ex;\n",
       "  margin: .5ex;\n",
       "  width: min-content;\n",
       "  min-width: 20ex;\n",
       "  max-width: 50ex;\n",
       "  color: var(--sklearn-color-text);\n",
       "  box-shadow: 2pt 2pt 4pt #999;\n",
       "  /* unfitted */\n",
       "  background: var(--sklearn-color-unfitted-level-0);\n",
       "  border: .5pt solid var(--sklearn-color-unfitted-level-3);\n",
       "}\n",
       "\n",
       ".sk-estimator-doc-link.fitted span {\n",
       "  /* fitted */\n",
       "  background: var(--sklearn-color-fitted-level-0);\n",
       "  border: var(--sklearn-color-fitted-level-3);\n",
       "}\n",
       "\n",
       ".sk-estimator-doc-link:hover span {\n",
       "  display: block;\n",
       "}\n",
       "\n",
       "/* \"?\"-specific style due to the `<a>` HTML tag */\n",
       "\n",
       "#sk-container-id-4 a.estimator_doc_link {\n",
       "  float: right;\n",
       "  font-size: 1rem;\n",
       "  line-height: 1em;\n",
       "  font-family: monospace;\n",
       "  background-color: var(--sklearn-color-background);\n",
       "  border-radius: 1rem;\n",
       "  height: 1rem;\n",
       "  width: 1rem;\n",
       "  text-decoration: none;\n",
       "  /* unfitted */\n",
       "  color: var(--sklearn-color-unfitted-level-1);\n",
       "  border: var(--sklearn-color-unfitted-level-1) 1pt solid;\n",
       "}\n",
       "\n",
       "#sk-container-id-4 a.estimator_doc_link.fitted {\n",
       "  /* fitted */\n",
       "  border: var(--sklearn-color-fitted-level-1) 1pt solid;\n",
       "  color: var(--sklearn-color-fitted-level-1);\n",
       "}\n",
       "\n",
       "/* On hover */\n",
       "#sk-container-id-4 a.estimator_doc_link:hover {\n",
       "  /* unfitted */\n",
       "  background-color: var(--sklearn-color-unfitted-level-3);\n",
       "  color: var(--sklearn-color-background);\n",
       "  text-decoration: none;\n",
       "}\n",
       "\n",
       "#sk-container-id-4 a.estimator_doc_link.fitted:hover {\n",
       "  /* fitted */\n",
       "  background-color: var(--sklearn-color-fitted-level-3);\n",
       "}\n",
       "</style><div id=\"sk-container-id-4\" class=\"sk-top-container\"><div class=\"sk-text-repr-fallback\"><pre>Pipeline(steps=[(&#x27;preprocessor&#x27;,\n",
       "                 ColumnTransformer(transformers=[(&#x27;num&#x27;,\n",
       "                                                  Pipeline(steps=[(&#x27;imputer&#x27;,\n",
       "                                                                   SimpleImputer(strategy=&#x27;median&#x27;)),\n",
       "                                                                  (&#x27;poly&#x27;,\n",
       "                                                                   PolynomialFeatures(degree=3)),\n",
       "                                                                  (&#x27;scaler&#x27;,\n",
       "                                                                   &#x27;passthrough&#x27;)]),\n",
       "                                                  Index([&#x27;Power&#x27;, &#x27;Kilometer&#x27;, &#x27;CarAgeInMonths&#x27;], dtype=&#x27;object&#x27;))])),\n",
       "                (&#x27;scaler&#x27;, StandardScaler()),\n",
       "                (&#x27;regressor&#x27;,\n",
       "                 LGBMRegressor(data_sample_strategy=&#x27;goss&#x27;, learning_rate=0.5,\n",
       "                               n_jobs=-1, num_leaves=30))])</pre><b>In a Jupyter environment, please rerun this cell to show the HTML representation or trust the notebook. <br />On GitHub, the HTML representation is unable to render, please try loading this page with nbviewer.org.</b></div><div class=\"sk-container\" hidden><div class=\"sk-item sk-dashed-wrapped\"><div class=\"sk-label-container\"><div class=\"sk-label fitted sk-toggleable\"><input class=\"sk-toggleable__control sk-hidden--visually\" id=\"sk-estimator-id-25\" type=\"checkbox\" ><label for=\"sk-estimator-id-25\" class=\"sk-toggleable__label fitted sk-toggleable__label-arrow fitted\">&nbsp;&nbsp;Pipeline<a class=\"sk-estimator-doc-link fitted\" rel=\"noreferrer\" target=\"_blank\" href=\"https://scikit-learn.org/1.4/modules/generated/sklearn.pipeline.Pipeline.html\">?<span>Documentation for Pipeline</span></a><span class=\"sk-estimator-doc-link fitted\">i<span>Fitted</span></span></label><div class=\"sk-toggleable__content fitted\"><pre>Pipeline(steps=[(&#x27;preprocessor&#x27;,\n",
       "                 ColumnTransformer(transformers=[(&#x27;num&#x27;,\n",
       "                                                  Pipeline(steps=[(&#x27;imputer&#x27;,\n",
       "                                                                   SimpleImputer(strategy=&#x27;median&#x27;)),\n",
       "                                                                  (&#x27;poly&#x27;,\n",
       "                                                                   PolynomialFeatures(degree=3)),\n",
       "                                                                  (&#x27;scaler&#x27;,\n",
       "                                                                   &#x27;passthrough&#x27;)]),\n",
       "                                                  Index([&#x27;Power&#x27;, &#x27;Kilometer&#x27;, &#x27;CarAgeInMonths&#x27;], dtype=&#x27;object&#x27;))])),\n",
       "                (&#x27;scaler&#x27;, StandardScaler()),\n",
       "                (&#x27;regressor&#x27;,\n",
       "                 LGBMRegressor(data_sample_strategy=&#x27;goss&#x27;, learning_rate=0.5,\n",
       "                               n_jobs=-1, num_leaves=30))])</pre></div> </div></div><div class=\"sk-serial\"><div class=\"sk-item sk-dashed-wrapped\"><div class=\"sk-label-container\"><div class=\"sk-label fitted sk-toggleable\"><input class=\"sk-toggleable__control sk-hidden--visually\" id=\"sk-estimator-id-26\" type=\"checkbox\" ><label for=\"sk-estimator-id-26\" class=\"sk-toggleable__label fitted sk-toggleable__label-arrow fitted\">&nbsp;preprocessor: ColumnTransformer<a class=\"sk-estimator-doc-link fitted\" rel=\"noreferrer\" target=\"_blank\" href=\"https://scikit-learn.org/1.4/modules/generated/sklearn.compose.ColumnTransformer.html\">?<span>Documentation for preprocessor: ColumnTransformer</span></a></label><div class=\"sk-toggleable__content fitted\"><pre>ColumnTransformer(transformers=[(&#x27;num&#x27;,\n",
       "                                 Pipeline(steps=[(&#x27;imputer&#x27;,\n",
       "                                                  SimpleImputer(strategy=&#x27;median&#x27;)),\n",
       "                                                 (&#x27;poly&#x27;,\n",
       "                                                  PolynomialFeatures(degree=3)),\n",
       "                                                 (&#x27;scaler&#x27;, &#x27;passthrough&#x27;)]),\n",
       "                                 Index([&#x27;Power&#x27;, &#x27;Kilometer&#x27;, &#x27;CarAgeInMonths&#x27;], dtype=&#x27;object&#x27;))])</pre></div> </div></div><div class=\"sk-parallel\"><div class=\"sk-parallel-item\"><div class=\"sk-item\"><div class=\"sk-label-container\"><div class=\"sk-label fitted sk-toggleable\"><input class=\"sk-toggleable__control sk-hidden--visually\" id=\"sk-estimator-id-27\" type=\"checkbox\" ><label for=\"sk-estimator-id-27\" class=\"sk-toggleable__label fitted sk-toggleable__label-arrow fitted\">num</label><div class=\"sk-toggleable__content fitted\"><pre>Index([&#x27;Power&#x27;, &#x27;Kilometer&#x27;, &#x27;CarAgeInMonths&#x27;], dtype=&#x27;object&#x27;)</pre></div> </div></div><div class=\"sk-serial\"><div class=\"sk-item\"><div class=\"sk-serial\"><div class=\"sk-item\"><div class=\"sk-estimator fitted sk-toggleable\"><input class=\"sk-toggleable__control sk-hidden--visually\" id=\"sk-estimator-id-28\" type=\"checkbox\" ><label for=\"sk-estimator-id-28\" class=\"sk-toggleable__label fitted sk-toggleable__label-arrow fitted\">&nbsp;SimpleImputer<a class=\"sk-estimator-doc-link fitted\" rel=\"noreferrer\" target=\"_blank\" href=\"https://scikit-learn.org/1.4/modules/generated/sklearn.impute.SimpleImputer.html\">?<span>Documentation for SimpleImputer</span></a></label><div class=\"sk-toggleable__content fitted\"><pre>SimpleImputer(strategy=&#x27;median&#x27;)</pre></div> </div></div><div class=\"sk-item\"><div class=\"sk-estimator fitted sk-toggleable\"><input class=\"sk-toggleable__control sk-hidden--visually\" id=\"sk-estimator-id-29\" type=\"checkbox\" ><label for=\"sk-estimator-id-29\" class=\"sk-toggleable__label fitted sk-toggleable__label-arrow fitted\">&nbsp;PolynomialFeatures<a class=\"sk-estimator-doc-link fitted\" rel=\"noreferrer\" target=\"_blank\" href=\"https://scikit-learn.org/1.4/modules/generated/sklearn.preprocessing.PolynomialFeatures.html\">?<span>Documentation for PolynomialFeatures</span></a></label><div class=\"sk-toggleable__content fitted\"><pre>PolynomialFeatures(degree=3)</pre></div> </div></div><div class=\"sk-item\"><div class=\"sk-estimator fitted sk-toggleable\"><input class=\"sk-toggleable__control sk-hidden--visually\" id=\"sk-estimator-id-30\" type=\"checkbox\" ><label for=\"sk-estimator-id-30\" class=\"sk-toggleable__label fitted sk-toggleable__label-arrow fitted\">passthrough</label><div class=\"sk-toggleable__content fitted\"><pre>passthrough</pre></div> </div></div></div></div></div></div></div></div></div><div class=\"sk-item\"><div class=\"sk-estimator fitted sk-toggleable\"><input class=\"sk-toggleable__control sk-hidden--visually\" id=\"sk-estimator-id-31\" type=\"checkbox\" ><label for=\"sk-estimator-id-31\" class=\"sk-toggleable__label fitted sk-toggleable__label-arrow fitted\">&nbsp;StandardScaler<a class=\"sk-estimator-doc-link fitted\" rel=\"noreferrer\" target=\"_blank\" href=\"https://scikit-learn.org/1.4/modules/generated/sklearn.preprocessing.StandardScaler.html\">?<span>Documentation for StandardScaler</span></a></label><div class=\"sk-toggleable__content fitted\"><pre>StandardScaler()</pre></div> </div></div><div class=\"sk-item\"><div class=\"sk-estimator fitted sk-toggleable\"><input class=\"sk-toggleable__control sk-hidden--visually\" id=\"sk-estimator-id-32\" type=\"checkbox\" ><label for=\"sk-estimator-id-32\" class=\"sk-toggleable__label fitted sk-toggleable__label-arrow fitted\">LGBMRegressor</label><div class=\"sk-toggleable__content fitted\"><pre>LGBMRegressor(data_sample_strategy=&#x27;goss&#x27;, learning_rate=0.5, n_jobs=-1,\n",
       "              num_leaves=30)</pre></div> </div></div></div></div></div></div>"
      ],
      "text/plain": [
       "Pipeline(steps=[('preprocessor',\n",
       "                 ColumnTransformer(transformers=[('num',\n",
       "                                                  Pipeline(steps=[('imputer',\n",
       "                                                                   SimpleImputer(strategy='median')),\n",
       "                                                                  ('poly',\n",
       "                                                                   PolynomialFeatures(degree=3)),\n",
       "                                                                  ('scaler',\n",
       "                                                                   'passthrough')]),\n",
       "                                                  Index(['Power', 'Kilometer', 'CarAgeInMonths'], dtype='object'))])),\n",
       "                ('scaler', StandardScaler()),\n",
       "                ('regressor',\n",
       "                 LGBMRegressor(data_sample_strategy='goss', learning_rate=0.5,\n",
       "                               n_jobs=-1, num_leaves=30))])"
      ]
     },
     "execution_count": 35,
     "metadata": {},
     "output_type": "execute_result"
    }
   ],
   "source": [
    "best_lgbm_model"
   ]
  },
  {
   "cell_type": "markdown",
   "metadata": {},
   "source": [
    "Сравнивая модели **LinearRegression** и **LGBMRegressor**, мы можем сделать следующие выводы:\n",
    "\n",
    "- **LinearRegression** показала лучшую метрику на кросс-валидации с результатом **-1935.8583**, что лучше, чем у **LGBMRegressor** с результатом **-1991.1936**. Это означает, что модель **LinearRegression** в среднем лучше предсказывает целевую переменную на независимых данных.\n",
    "- Лучшие параметры для **LinearRegression** включают использование **RobustScaler** без центрирования и отключение перехвата (`fit_intercept=False`). Это может указывать на то, что данные уже довольно хорошо центрированы или что перехват не вносит значительного вклада в предсказания модели.\n",
    "- Для **LGBMRegressor**, лучшие параметры включают высокую скорость обучения (`learning_rate=0.5`), что может привести к более быстрому обучению, но также может увеличить риск переобучения. Количество деревьев (`n_estimators=100`) и листьев (`num_leaves=30`) было выбрано на более низком уровне, что также может указывать на стремление избежать переобучения.\n",
    "\n",
    "В целом, **LinearRegression** может быть предпочтительнее для данной задачи, особенно если важны скорость обучения и интерпретируемость модели. Однако, если в дальнейшем потребуется улучшить предсказательную способность модели, можно рассмотреть возможность более тщательной настройки **LGBMRegressor**, возможно, с использованием более сложных методов оптимизации гиперпараметров, таких как случайный поиск или байесовская оптимизация.\n",
    "\n",
    "Также стоит учитывать, что разница в метриках не очень велика, и в зависимости от конкретного применения и требований к модели, **LGBMRegressor** может оказаться более подходящим выбором, особенно если в данных присутствуют сложные нелинейные зависимости, которые **LinearRegression** не может уловить."
   ]
  },
  {
   "cell_type": "markdown",
   "metadata": {},
   "source": [
    "## Анализ моделей, сравнение и выбор"
   ]
  },
  {
   "cell_type": "code",
   "execution_count": 36,
   "metadata": {},
   "outputs": [
    {
     "name": "stdout",
     "output_type": "stream",
     "text": [
      "[LightGBM] [Info] Auto-choosing col-wise multi-threading, the overhead of testing was 0.010628 seconds.\n",
      "You can set `force_col_wise=true` to remove the overhead.\n",
      "[LightGBM] [Info] Total Bins 4033\n",
      "[LightGBM] [Info] Number of data points in the train set: 250007, number of used features: 19\n",
      "[LightGBM] [Info] Using GOSS\n",
      "[LightGBM] [Info] Start training from score 4503.917874\n",
      "Время обучения линейной модели: 4.9674131870269775 секунд\n",
      "Время обучения модели LightGBM: 1.0106923580169678 секунд\n"
     ]
    }
   ],
   "source": [
    "# Замер времени обучения линейной модели\n",
    "start_time = time.time()\n",
    "best_linear_model.fit(X_train, y_train)\n",
    "linear_training_time = time.time() - start_time\n",
    "\n",
    "# Замер времени обучения модели LightGBM\n",
    "start_time = time.time()\n",
    "best_lgbm_model.fit(X_train, y_train)\n",
    "lgbm_training_time = time.time() - start_time\n",
    "\n",
    "print(f\"Время обучения линейной модели: {linear_training_time} секунд\")\n",
    "print(f\"Время обучения модели LightGBM: {lgbm_training_time} секунд\")"
   ]
  },
  {
   "cell_type": "code",
   "execution_count": 37,
   "metadata": {},
   "outputs": [
    {
     "name": "stdout",
     "output_type": "stream",
     "text": [
      "RMSE линейной модели: 1930.7031123553563\n",
      "Время предсказания линейной модели: 0.6600866317749023 секунд\n",
      "RMSE модели LightGBM: 1894.100745376848\n",
      "Время предсказания модели LightGBM: 0.5075807571411133 секунд\n"
     ]
    }
   ],
   "source": [
    "# Замер времени предсказания линейной модели\n",
    "start_time = time.time()\n",
    "linear_predictions = best_linear_model.predict(X_train)\n",
    "linear_prediction_time = time.time() - start_time\n",
    "\n",
    "# Вычисление RMSE и средней ошибки для линейной модели\n",
    "linear_rmse = np.sqrt(mean_squared_error(y_train, linear_predictions))\n",
    "\n",
    "# Замер времени предсказания модели LightGBM\n",
    "start_time = time.time()\n",
    "lgbm_predictions = best_lgbm_model.predict(X_train)\n",
    "lgbm_prediction_time = time.time() - start_time\n",
    "\n",
    "# Вычисление RMSE и средней ошибки для модели LightGBM\n",
    "lgbm_rmse = np.sqrt(mean_squared_error(y_train, lgbm_predictions))\n",
    "\n",
    "print(f\"RMSE линейной модели: {linear_rmse}\")\n",
    "print(f\"Время предсказания линейной модели: {linear_prediction_time} секунд\")\n",
    "print(f\"RMSE модели LightGBM: {lgbm_rmse}\")\n",
    "print(f\"Время предсказания модели LightGBM: {lgbm_prediction_time} секунд\")\n"
   ]
  },
  {
   "cell_type": "code",
   "execution_count": 38,
   "metadata": {},
   "outputs": [
    {
     "name": "stdout",
     "output_type": "stream",
     "text": [
      "RMSE модели LightGBM на тестовых данных: 1993.244877063451\n",
      "RMSE базовой модели на тестовых данных: 4429.7400775015685\n",
      "Модель LightGBM показывает лучшие результаты, чем базовая модель.\n"
     ]
    }
   ],
   "source": [
    "# Применение лучшей модели к тестовым данным\n",
    "lgbm_test_predictions = best_lgbm_model.predict(X_test)\n",
    "\n",
    "# Вычисление RMSE и средней ошибки для модели LightGBM на тестовых данных\n",
    "lgbm_test_rmse = np.sqrt(mean_squared_error(y_test, lgbm_test_predictions))\n",
    "\n",
    "print(f\"RMSE модели LightGBM на тестовых данных: {lgbm_test_rmse}\")\n",
    "\n",
    "# Создание и обучение базовой модели\n",
    "dummy_regr = DummyRegressor(strategy=\"mean\")\n",
    "dummy_regr.fit(X_train, y_train)\n",
    "\n",
    "# Применение базовой модели к тестовым данным\n",
    "dummy_predictions = dummy_regr.predict(X_test)\n",
    "\n",
    "# Вычисление RMSE для базовой модели\n",
    "dummy_rmse = np.sqrt(mean_squared_error(y_test, dummy_predictions))\n",
    "\n",
    "print(f\"RMSE базовой модели на тестовых данных: {dummy_rmse}\")\n",
    "\n",
    "# Сравнение RMSE модели LightGBM и базовой модели\n",
    "if lgbm_test_rmse < dummy_rmse:\n",
    "    print(\"Модель LightGBM показывает лучшие результаты, чем базовая модель.\")\n",
    "else:\n",
    "    print(\"Модель LightGBM не показывает улучшений по сравнению с базовой моделью.\")\n"
   ]
  },
  {
   "cell_type": "markdown",
   "metadata": {},
   "source": [
    "Исходя из результатов, можно сделать следующие выводы о моделях **LinearRegression** и **LGBMRegressor**:\n",
    "\n",
    "- **Время обучения**: Модель **LightGBM** обучается значительно быстрее, чем линейная модель, что делает её предпочтительной для ситуаций, когда время обучения критично.\n",
    "- **Время предсказания**: **LightGBM** также показывает лучшее время предсказания, что может быть важным фактором при выборе модели для реальных приложений, где время отклика имеет значение.\n",
    "- **Качество предсказаний (RMSE)**: На обучающем наборе данных **LightGBM** показывает лучший результат RMSE, чем линейная модель. Однако на тестовых данных RMSE **LightGBM** немного выше.\n",
    "\n",
    "В целом, если важны скорость обучения и предсказания, а также способность модели улавливать сложные зависимости в данных, **LightGBM** является лучшим выбором.\n",
    "\n",
    "Таким образом, если основной целью является получение модели с наилучшим качеством предсказаний на новых данных, можно провести дополнительные эксперименты с настройкой гиперпараметров **LightGBM**. Возможно, стоит попробовать использовать более мелкую сетку для поиска или другие методы оптимизации, такие как случайный поиск или байесовская оптимизация, для улучшения результатов на тестовом наборе данных."
   ]
  },
  {
   "cell_type": "markdown",
   "metadata": {},
   "source": [
    "# Общий вывод"
   ]
  },
  {
   "cell_type": "markdown",
   "metadata": {},
   "source": [
    "В рамках проекта по определению стоимости автомобилей была проведена обширная работа по подготовке и анализу данных, что позволило создать основу для построения эффективных моделей машинного обучения. Вот ключевые моменты и достижения:\n",
    "\n",
    "1. **Подготовка данных**: Проделанная работа по очистке и подготовке данных оказалась эффективной и создала надёжную основу для обучения моделей.\n",
    "\n",
    "2. **Инжиниринг признаков**: Инжиниринг признаков улучшил предсказательную способность моделей, что подтверждается результатами RMSE.\n",
    "\n",
    "3. **Выбор и оценка моделей**: Сравнение линейной регрессии и LGBMRegressor показало, что, несмотря на более высокое RMSE на тестовых данных, LGBMRegressor обладает лучшими временными характеристиками и может быть более подходящим для задач, требующих быстрого обучения и предсказания.\n",
    "\n",
    "4. **Результаты**: LGBMRegressor продемонстрировал лучшее время обучения и предсказания, что важно для реальных приложений. Однако следует учитывать риск переобучения, так как RMSE на тестовых данных оказался немного выше, чем на обучающих.\n",
    "\n",
    "5. **Достижение цели проекта**: Цель проекта была достигнута, так как обе модели показали RMSE ниже установленного порога в 2500. Однако для достижения наилучшего баланса между качеством предсказаний и временем обучения/предсказания, LGBMRegressor может потребовать дополнительной настройки.\n",
    "\n",
    "6. **Улучшение и оптимизация**: На основе полученных результатов можно предложить дальнейшие шаги по оптимизации модели LGBMRegressor, включая более тонкую настройку гиперпараметров и возможно, использование других методов обработки категориальных признаков для улучшения обобщающей способности модели.\n",
    "\n",
    "В заключение, проект успешно демонстрирует применение машинного обучения для предсказания стоимости автомобилей. Выбор между линейной регрессией и LGBMRegressor должен учитывать специфические требования к проекту, включая важность времени обучения и предсказания, а также необходимость минимизации риска переобучения для достижения наилучшего качества предсказаний на новых данных."
   ]
  }
 ],
 "metadata": {
  "ExecuteTimeLog": [
   {
    "duration": 402,
    "start_time": "2024-05-07T19:43:14.033Z"
   },
   {
    "duration": 2874,
    "start_time": "2024-05-07T19:43:14.437Z"
   },
   {
    "duration": 146,
    "start_time": "2024-05-07T19:43:49.292Z"
   },
   {
    "duration": 408,
    "start_time": "2024-05-09T11:00:13.609Z"
   },
   {
    "duration": 2989,
    "start_time": "2024-05-09T11:00:14.019Z"
   },
   {
    "duration": 162,
    "start_time": "2024-05-09T11:00:17.009Z"
   },
   {
    "duration": 101,
    "start_time": "2024-05-09T11:00:17.173Z"
   },
   {
    "duration": 67,
    "start_time": "2024-05-09T11:20:15.011Z"
   },
   {
    "duration": 423,
    "start_time": "2024-05-09T11:20:20.496Z"
   },
   {
    "duration": 1004,
    "start_time": "2024-05-09T11:20:20.921Z"
   },
   {
    "duration": 192,
    "start_time": "2024-05-09T11:20:21.927Z"
   },
   {
    "duration": 115,
    "start_time": "2024-05-09T11:20:22.121Z"
   },
   {
    "duration": 345,
    "start_time": "2024-05-09T11:20:22.238Z"
   },
   {
    "duration": 333,
    "start_time": "2024-05-09T11:22:27.775Z"
   },
   {
    "duration": 152,
    "start_time": "2024-05-09T11:28:55.795Z"
   },
   {
    "duration": 468,
    "start_time": "2024-05-09T11:35:28.532Z"
   },
   {
    "duration": 980,
    "start_time": "2024-05-09T11:35:59.241Z"
   },
   {
    "duration": 1049,
    "start_time": "2024-05-09T11:38:22.337Z"
   },
   {
    "duration": 530,
    "start_time": "2024-05-09T11:38:57.482Z"
   },
   {
    "duration": 932,
    "start_time": "2024-05-09T11:39:00.737Z"
   },
   {
    "duration": 438,
    "start_time": "2024-05-09T11:39:08.174Z"
   },
   {
    "duration": 913,
    "start_time": "2024-05-09T11:39:08.614Z"
   },
   {
    "duration": 178,
    "start_time": "2024-05-09T11:39:09.529Z"
   },
   {
    "duration": 109,
    "start_time": "2024-05-09T11:39:09.709Z"
   },
   {
    "duration": 301,
    "start_time": "2024-05-09T11:39:09.820Z"
   },
   {
    "duration": 164,
    "start_time": "2024-05-09T11:39:10.122Z"
   },
   {
    "duration": 1056,
    "start_time": "2024-05-09T11:39:10.287Z"
   },
   {
    "duration": 547,
    "start_time": "2024-05-09T11:39:11.345Z"
   },
   {
    "duration": 3,
    "start_time": "2024-05-09T11:41:22.884Z"
   },
   {
    "duration": 418,
    "start_time": "2024-05-09T11:49:37.488Z"
   },
   {
    "duration": 961,
    "start_time": "2024-05-09T11:49:37.908Z"
   },
   {
    "duration": 180,
    "start_time": "2024-05-09T11:49:38.871Z"
   },
   {
    "duration": 106,
    "start_time": "2024-05-09T11:49:39.053Z"
   },
   {
    "duration": 324,
    "start_time": "2024-05-09T11:49:39.161Z"
   },
   {
    "duration": 209,
    "start_time": "2024-05-09T11:49:39.487Z"
   },
   {
    "duration": 90,
    "start_time": "2024-05-09T11:49:39.698Z"
   },
   {
    "duration": 0,
    "start_time": "2024-05-09T11:49:39.790Z"
   },
   {
    "duration": 0,
    "start_time": "2024-05-09T11:49:39.791Z"
   },
   {
    "duration": 0,
    "start_time": "2024-05-09T11:49:39.792Z"
   },
   {
    "duration": 420,
    "start_time": "2024-05-09T11:51:18.948Z"
   },
   {
    "duration": 951,
    "start_time": "2024-05-09T11:51:19.369Z"
   },
   {
    "duration": 173,
    "start_time": "2024-05-09T11:51:20.322Z"
   },
   {
    "duration": 109,
    "start_time": "2024-05-09T11:51:20.496Z"
   },
   {
    "duration": 336,
    "start_time": "2024-05-09T11:51:20.607Z"
   },
   {
    "duration": 215,
    "start_time": "2024-05-09T11:51:20.945Z"
   },
   {
    "duration": 98,
    "start_time": "2024-05-09T11:51:21.161Z"
   },
   {
    "duration": 0,
    "start_time": "2024-05-09T11:51:21.260Z"
   },
   {
    "duration": 0,
    "start_time": "2024-05-09T11:51:21.262Z"
   },
   {
    "duration": 0,
    "start_time": "2024-05-09T11:51:21.263Z"
   },
   {
    "duration": 638,
    "start_time": "2024-05-09T11:52:28.703Z"
   },
   {
    "duration": 332,
    "start_time": "2024-05-09T11:52:30.388Z"
   },
   {
    "duration": 4,
    "start_time": "2024-05-09T11:52:31.440Z"
   },
   {
    "duration": 381,
    "start_time": "2024-05-09T11:54:39.522Z"
   },
   {
    "duration": 923,
    "start_time": "2024-05-09T11:54:39.905Z"
   },
   {
    "duration": 170,
    "start_time": "2024-05-09T11:54:40.829Z"
   },
   {
    "duration": 156,
    "start_time": "2024-05-09T11:54:41.001Z"
   },
   {
    "duration": 337,
    "start_time": "2024-05-09T11:54:41.158Z"
   },
   {
    "duration": 202,
    "start_time": "2024-05-09T11:54:41.496Z"
   },
   {
    "duration": 125,
    "start_time": "2024-05-09T11:54:41.700Z"
   },
   {
    "duration": 672,
    "start_time": "2024-05-09T11:54:41.826Z"
   },
   {
    "duration": 394,
    "start_time": "2024-05-09T11:54:42.500Z"
   },
   {
    "duration": 3,
    "start_time": "2024-05-09T11:54:42.896Z"
   },
   {
    "duration": 389,
    "start_time": "2024-05-09T11:57:13.622Z"
   },
   {
    "duration": 951,
    "start_time": "2024-05-09T11:57:14.013Z"
   },
   {
    "duration": 158,
    "start_time": "2024-05-09T11:57:14.965Z"
   },
   {
    "duration": 116,
    "start_time": "2024-05-09T11:57:15.125Z"
   },
   {
    "duration": 334,
    "start_time": "2024-05-09T11:57:15.244Z"
   },
   {
    "duration": 209,
    "start_time": "2024-05-09T11:57:15.580Z"
   },
   {
    "duration": 148,
    "start_time": "2024-05-09T11:57:15.790Z"
   },
   {
    "duration": 592,
    "start_time": "2024-05-09T11:57:15.940Z"
   },
   {
    "duration": 367,
    "start_time": "2024-05-09T11:57:16.534Z"
   },
   {
    "duration": 3,
    "start_time": "2024-05-09T11:57:16.903Z"
   },
   {
    "duration": 197,
    "start_time": "2024-05-09T11:57:23.844Z"
   },
   {
    "duration": 109,
    "start_time": "2024-05-09T11:58:38.618Z"
   },
   {
    "duration": 401,
    "start_time": "2024-05-09T11:59:39.213Z"
   },
   {
    "duration": 923,
    "start_time": "2024-05-09T11:59:39.616Z"
   },
   {
    "duration": 167,
    "start_time": "2024-05-09T11:59:40.540Z"
   },
   {
    "duration": 127,
    "start_time": "2024-05-09T11:59:40.709Z"
   },
   {
    "duration": 352,
    "start_time": "2024-05-09T11:59:40.838Z"
   },
   {
    "duration": 232,
    "start_time": "2024-05-09T11:59:41.192Z"
   },
   {
    "duration": 298,
    "start_time": "2024-05-09T11:59:41.426Z"
   },
   {
    "duration": 576,
    "start_time": "2024-05-09T11:59:41.726Z"
   },
   {
    "duration": 303,
    "start_time": "2024-05-09T11:59:42.303Z"
   },
   {
    "duration": 3,
    "start_time": "2024-05-09T11:59:42.608Z"
   },
   {
    "duration": 147,
    "start_time": "2024-05-09T11:59:42.613Z"
   },
   {
    "duration": 2991,
    "start_time": "2024-05-09T12:03:18.933Z"
   },
   {
    "duration": 430,
    "start_time": "2024-05-09T12:08:51.070Z"
   },
   {
    "duration": 982,
    "start_time": "2024-05-09T12:08:51.501Z"
   },
   {
    "duration": 163,
    "start_time": "2024-05-09T12:08:52.484Z"
   },
   {
    "duration": 156,
    "start_time": "2024-05-09T12:08:52.650Z"
   },
   {
    "duration": 352,
    "start_time": "2024-05-09T12:08:52.807Z"
   },
   {
    "duration": 246,
    "start_time": "2024-05-09T12:08:53.160Z"
   },
   {
    "duration": 313,
    "start_time": "2024-05-09T12:08:53.407Z"
   },
   {
    "duration": 573,
    "start_time": "2024-05-09T12:08:53.722Z"
   },
   {
    "duration": 281,
    "start_time": "2024-05-09T12:08:54.297Z"
   },
   {
    "duration": 3,
    "start_time": "2024-05-09T12:08:54.581Z"
   },
   {
    "duration": 118,
    "start_time": "2024-05-09T12:08:54.586Z"
   },
   {
    "duration": 553,
    "start_time": "2024-05-09T12:08:54.706Z"
   },
   {
    "duration": 3176,
    "start_time": "2024-05-09T12:10:59.425Z"
   },
   {
    "duration": 2586,
    "start_time": "2024-05-09T12:11:08.947Z"
   },
   {
    "duration": 2784,
    "start_time": "2024-05-09T12:11:16.650Z"
   },
   {
    "duration": 39,
    "start_time": "2024-05-09T12:25:56.844Z"
   },
   {
    "duration": 12405,
    "start_time": "2024-05-09T12:28:34.216Z"
   },
   {
    "duration": 51,
    "start_time": "2024-05-09T12:32:59.001Z"
   },
   {
    "duration": 0,
    "start_time": "2024-05-09T12:33:25.200Z"
   },
   {
    "duration": 2476,
    "start_time": "2024-05-09T12:33:30.461Z"
   },
   {
    "duration": 384,
    "start_time": "2024-05-09T12:33:32.939Z"
   },
   {
    "duration": 952,
    "start_time": "2024-05-09T12:33:33.325Z"
   },
   {
    "duration": 152,
    "start_time": "2024-05-09T12:33:34.278Z"
   },
   {
    "duration": 107,
    "start_time": "2024-05-09T12:33:34.432Z"
   },
   {
    "duration": 343,
    "start_time": "2024-05-09T12:33:34.541Z"
   },
   {
    "duration": 264,
    "start_time": "2024-05-09T12:33:34.885Z"
   },
   {
    "duration": 288,
    "start_time": "2024-05-09T12:33:35.151Z"
   },
   {
    "duration": 543,
    "start_time": "2024-05-09T12:33:35.440Z"
   },
   {
    "duration": 276,
    "start_time": "2024-05-09T12:33:35.984Z"
   },
   {
    "duration": 4,
    "start_time": "2024-05-09T12:33:36.262Z"
   },
   {
    "duration": 123,
    "start_time": "2024-05-09T12:33:36.267Z"
   },
   {
    "duration": 2739,
    "start_time": "2024-05-09T12:33:36.396Z"
   },
   {
    "duration": 28,
    "start_time": "2024-05-09T12:33:39.138Z"
   },
   {
    "duration": 125,
    "start_time": "2024-05-09T12:33:39.168Z"
   },
   {
    "duration": 46,
    "start_time": "2024-05-09T12:36:11.789Z"
   },
   {
    "duration": 249,
    "start_time": "2024-05-09T12:37:56.404Z"
   },
   {
    "duration": 499,
    "start_time": "2024-05-09T12:39:59.197Z"
   },
   {
    "duration": 264,
    "start_time": "2024-05-09T12:40:32.484Z"
   },
   {
    "duration": 22,
    "start_time": "2024-05-09T12:42:12.312Z"
   },
   {
    "duration": 251,
    "start_time": "2024-05-09T12:42:14.951Z"
   },
   {
    "duration": 2516,
    "start_time": "2024-05-09T12:46:21.427Z"
   },
   {
    "duration": 432,
    "start_time": "2024-05-09T12:46:23.945Z"
   },
   {
    "duration": 923,
    "start_time": "2024-05-09T12:46:24.378Z"
   },
   {
    "duration": 160,
    "start_time": "2024-05-09T12:46:25.302Z"
   },
   {
    "duration": 96,
    "start_time": "2024-05-09T12:46:25.465Z"
   },
   {
    "duration": 307,
    "start_time": "2024-05-09T12:46:25.563Z"
   },
   {
    "duration": 268,
    "start_time": "2024-05-09T12:46:25.872Z"
   },
   {
    "duration": 344,
    "start_time": "2024-05-09T12:46:26.142Z"
   },
   {
    "duration": 587,
    "start_time": "2024-05-09T12:46:26.488Z"
   },
   {
    "duration": 338,
    "start_time": "2024-05-09T12:46:27.076Z"
   },
   {
    "duration": 4,
    "start_time": "2024-05-09T12:46:27.416Z"
   },
   {
    "duration": 140,
    "start_time": "2024-05-09T12:46:27.422Z"
   },
   {
    "duration": 3203,
    "start_time": "2024-05-09T12:46:27.563Z"
   },
   {
    "duration": 36,
    "start_time": "2024-05-09T12:46:30.768Z"
   },
   {
    "duration": 124,
    "start_time": "2024-05-09T12:46:30.805Z"
   },
   {
    "duration": 0,
    "start_time": "2024-05-09T12:46:30.931Z"
   },
   {
    "duration": 8,
    "start_time": "2024-05-09T12:47:56.298Z"
   },
   {
    "duration": 551,
    "start_time": "2024-05-09T12:49:27.305Z"
   },
   {
    "duration": 292,
    "start_time": "2024-05-09T12:50:05.848Z"
   },
   {
    "duration": 2550,
    "start_time": "2024-05-09T12:50:14.379Z"
   },
   {
    "duration": 373,
    "start_time": "2024-05-09T12:50:16.932Z"
   },
   {
    "duration": 934,
    "start_time": "2024-05-09T12:50:17.307Z"
   },
   {
    "duration": 158,
    "start_time": "2024-05-09T12:50:18.242Z"
   },
   {
    "duration": 102,
    "start_time": "2024-05-09T12:50:18.402Z"
   },
   {
    "duration": 305,
    "start_time": "2024-05-09T12:50:18.505Z"
   },
   {
    "duration": 264,
    "start_time": "2024-05-09T12:50:18.812Z"
   },
   {
    "duration": 342,
    "start_time": "2024-05-09T12:50:19.082Z"
   },
   {
    "duration": 581,
    "start_time": "2024-05-09T12:50:19.426Z"
   },
   {
    "duration": 284,
    "start_time": "2024-05-09T12:50:20.008Z"
   },
   {
    "duration": 4,
    "start_time": "2024-05-09T12:50:20.293Z"
   },
   {
    "duration": 131,
    "start_time": "2024-05-09T12:50:20.298Z"
   },
   {
    "duration": 3268,
    "start_time": "2024-05-09T12:50:20.431Z"
   },
   {
    "duration": 29,
    "start_time": "2024-05-09T12:50:23.701Z"
   },
   {
    "duration": 312,
    "start_time": "2024-05-09T12:50:23.732Z"
   },
   {
    "duration": 21,
    "start_time": "2024-05-09T12:50:24.046Z"
   },
   {
    "duration": 73,
    "start_time": "2024-05-09T12:55:39.035Z"
   },
   {
    "duration": 2472,
    "start_time": "2024-05-09T12:58:03.260Z"
   },
   {
    "duration": 382,
    "start_time": "2024-05-09T12:58:05.734Z"
   },
   {
    "duration": 914,
    "start_time": "2024-05-09T12:58:06.118Z"
   },
   {
    "duration": 155,
    "start_time": "2024-05-09T12:58:07.033Z"
   },
   {
    "duration": 100,
    "start_time": "2024-05-09T12:58:07.190Z"
   },
   {
    "duration": 269,
    "start_time": "2024-05-09T12:58:07.292Z"
   },
   {
    "duration": 277,
    "start_time": "2024-05-09T12:58:07.563Z"
   },
   {
    "duration": 322,
    "start_time": "2024-05-09T12:58:07.842Z"
   },
   {
    "duration": 584,
    "start_time": "2024-05-09T12:58:08.166Z"
   },
   {
    "duration": 379,
    "start_time": "2024-05-09T12:58:08.751Z"
   },
   {
    "duration": 3,
    "start_time": "2024-05-09T12:58:09.132Z"
   },
   {
    "duration": 175,
    "start_time": "2024-05-09T12:58:09.136Z"
   },
   {
    "duration": 3207,
    "start_time": "2024-05-09T12:58:09.313Z"
   },
   {
    "duration": 32,
    "start_time": "2024-05-09T12:58:12.523Z"
   },
   {
    "duration": 300,
    "start_time": "2024-05-09T12:58:12.557Z"
   },
   {
    "duration": 28,
    "start_time": "2024-05-09T12:58:12.858Z"
   },
   {
    "duration": 165,
    "start_time": "2024-05-09T12:58:12.888Z"
   },
   {
    "duration": 10,
    "start_time": "2024-05-09T13:02:37.893Z"
   },
   {
    "duration": 12,
    "start_time": "2024-05-09T13:02:43.827Z"
   },
   {
    "duration": 7,
    "start_time": "2024-05-09T13:02:44.790Z"
   },
   {
    "duration": 2548,
    "start_time": "2024-05-09T13:02:49.940Z"
   },
   {
    "duration": 412,
    "start_time": "2024-05-09T13:02:52.491Z"
   },
   {
    "duration": 1002,
    "start_time": "2024-05-09T13:02:52.905Z"
   },
   {
    "duration": 155,
    "start_time": "2024-05-09T13:02:53.909Z"
   },
   {
    "duration": 103,
    "start_time": "2024-05-09T13:02:54.066Z"
   },
   {
    "duration": 1036,
    "start_time": "2024-05-09T13:02:54.171Z"
   },
   {
    "duration": 0,
    "start_time": "2024-05-09T13:02:55.210Z"
   },
   {
    "duration": 0,
    "start_time": "2024-05-09T13:02:55.211Z"
   },
   {
    "duration": 0,
    "start_time": "2024-05-09T13:02:55.212Z"
   },
   {
    "duration": 0,
    "start_time": "2024-05-09T13:02:55.214Z"
   },
   {
    "duration": 0,
    "start_time": "2024-05-09T13:02:55.215Z"
   },
   {
    "duration": 0,
    "start_time": "2024-05-09T13:02:55.216Z"
   },
   {
    "duration": 0,
    "start_time": "2024-05-09T13:02:55.217Z"
   },
   {
    "duration": 0,
    "start_time": "2024-05-09T13:02:55.219Z"
   },
   {
    "duration": 0,
    "start_time": "2024-05-09T13:02:55.220Z"
   },
   {
    "duration": 0,
    "start_time": "2024-05-09T13:02:55.221Z"
   },
   {
    "duration": 0,
    "start_time": "2024-05-09T13:02:55.222Z"
   },
   {
    "duration": 991,
    "start_time": "2024-05-09T13:07:41.151Z"
   },
   {
    "duration": 2457,
    "start_time": "2024-05-09T14:22:14.503Z"
   },
   {
    "duration": 440,
    "start_time": "2024-05-09T14:22:16.963Z"
   },
   {
    "duration": 966,
    "start_time": "2024-05-09T14:22:17.406Z"
   },
   {
    "duration": 161,
    "start_time": "2024-05-09T14:22:18.375Z"
   },
   {
    "duration": 108,
    "start_time": "2024-05-09T14:22:18.538Z"
   },
   {
    "duration": 1310,
    "start_time": "2024-05-09T14:22:18.648Z"
   },
   {
    "duration": 0,
    "start_time": "2024-05-09T14:22:19.960Z"
   },
   {
    "duration": 0,
    "start_time": "2024-05-09T14:22:19.962Z"
   },
   {
    "duration": 0,
    "start_time": "2024-05-09T14:22:19.964Z"
   },
   {
    "duration": 0,
    "start_time": "2024-05-09T14:22:19.965Z"
   },
   {
    "duration": 0,
    "start_time": "2024-05-09T14:22:19.967Z"
   },
   {
    "duration": 0,
    "start_time": "2024-05-09T14:22:19.968Z"
   },
   {
    "duration": 0,
    "start_time": "2024-05-09T14:22:19.970Z"
   },
   {
    "duration": 0,
    "start_time": "2024-05-09T14:22:19.971Z"
   },
   {
    "duration": 0,
    "start_time": "2024-05-09T14:22:19.973Z"
   },
   {
    "duration": 0,
    "start_time": "2024-05-09T14:22:19.974Z"
   },
   {
    "duration": 0,
    "start_time": "2024-05-09T14:22:19.975Z"
   },
   {
    "duration": 739,
    "start_time": "2024-05-09T14:25:33.003Z"
   },
   {
    "duration": 2507,
    "start_time": "2024-05-09T14:25:38.622Z"
   },
   {
    "duration": 385,
    "start_time": "2024-05-09T14:25:41.132Z"
   },
   {
    "duration": 974,
    "start_time": "2024-05-09T14:25:41.519Z"
   },
   {
    "duration": 159,
    "start_time": "2024-05-09T14:25:42.494Z"
   },
   {
    "duration": 106,
    "start_time": "2024-05-09T14:25:42.656Z"
   },
   {
    "duration": 1027,
    "start_time": "2024-05-09T14:25:42.764Z"
   },
   {
    "duration": 0,
    "start_time": "2024-05-09T14:25:43.793Z"
   },
   {
    "duration": 0,
    "start_time": "2024-05-09T14:25:43.795Z"
   },
   {
    "duration": 0,
    "start_time": "2024-05-09T14:25:43.796Z"
   },
   {
    "duration": 0,
    "start_time": "2024-05-09T14:25:43.798Z"
   },
   {
    "duration": 0,
    "start_time": "2024-05-09T14:25:43.799Z"
   },
   {
    "duration": 0,
    "start_time": "2024-05-09T14:25:43.801Z"
   },
   {
    "duration": 0,
    "start_time": "2024-05-09T14:25:43.802Z"
   },
   {
    "duration": 0,
    "start_time": "2024-05-09T14:25:43.803Z"
   },
   {
    "duration": 0,
    "start_time": "2024-05-09T14:25:43.805Z"
   },
   {
    "duration": 0,
    "start_time": "2024-05-09T14:25:43.807Z"
   },
   {
    "duration": 0,
    "start_time": "2024-05-09T14:25:43.808Z"
   },
   {
    "duration": 2540,
    "start_time": "2024-05-09T14:28:51.078Z"
   },
   {
    "duration": 395,
    "start_time": "2024-05-09T14:28:53.621Z"
   },
   {
    "duration": 954,
    "start_time": "2024-05-09T14:28:54.018Z"
   },
   {
    "duration": 160,
    "start_time": "2024-05-09T14:28:54.974Z"
   },
   {
    "duration": 106,
    "start_time": "2024-05-09T14:28:55.136Z"
   },
   {
    "duration": 389,
    "start_time": "2024-05-09T14:28:55.244Z"
   },
   {
    "duration": 248,
    "start_time": "2024-05-09T14:28:55.634Z"
   },
   {
    "duration": 295,
    "start_time": "2024-05-09T14:28:55.884Z"
   },
   {
    "duration": 555,
    "start_time": "2024-05-09T14:28:56.181Z"
   },
   {
    "duration": 278,
    "start_time": "2024-05-09T14:28:56.738Z"
   },
   {
    "duration": 4,
    "start_time": "2024-05-09T14:28:57.018Z"
   },
   {
    "duration": 119,
    "start_time": "2024-05-09T14:28:57.024Z"
   },
   {
    "duration": 2821,
    "start_time": "2024-05-09T14:28:57.144Z"
   },
   {
    "duration": 34,
    "start_time": "2024-05-09T14:28:59.968Z"
   },
   {
    "duration": 295,
    "start_time": "2024-05-09T14:29:00.004Z"
   },
   {
    "duration": 21,
    "start_time": "2024-05-09T14:29:00.301Z"
   },
   {
    "duration": 281,
    "start_time": "2024-05-09T14:29:00.323Z"
   },
   {
    "duration": 2533,
    "start_time": "2024-05-09T14:45:02.040Z"
   },
   {
    "duration": 442,
    "start_time": "2024-05-09T14:45:04.575Z"
   },
   {
    "duration": 978,
    "start_time": "2024-05-09T14:45:05.019Z"
   },
   {
    "duration": 158,
    "start_time": "2024-05-09T14:45:05.999Z"
   },
   {
    "duration": 106,
    "start_time": "2024-05-09T14:45:06.159Z"
   },
   {
    "duration": 395,
    "start_time": "2024-05-09T14:45:06.267Z"
   },
   {
    "duration": 260,
    "start_time": "2024-05-09T14:45:06.664Z"
   },
   {
    "duration": 290,
    "start_time": "2024-05-09T14:45:06.926Z"
   },
   {
    "duration": 525,
    "start_time": "2024-05-09T14:45:07.218Z"
   },
   {
    "duration": 285,
    "start_time": "2024-05-09T14:45:07.745Z"
   },
   {
    "duration": 4,
    "start_time": "2024-05-09T14:45:08.032Z"
   },
   {
    "duration": 114,
    "start_time": "2024-05-09T14:45:08.037Z"
   },
   {
    "duration": 2764,
    "start_time": "2024-05-09T14:45:08.153Z"
   },
   {
    "duration": 30,
    "start_time": "2024-05-09T14:45:10.919Z"
   },
   {
    "duration": 298,
    "start_time": "2024-05-09T14:45:10.951Z"
   },
   {
    "duration": 22,
    "start_time": "2024-05-09T14:45:11.251Z"
   },
   {
    "duration": 307,
    "start_time": "2024-05-09T14:45:11.282Z"
   },
   {
    "duration": 2520,
    "start_time": "2024-05-09T14:49:07.421Z"
   },
   {
    "duration": 376,
    "start_time": "2024-05-09T14:49:09.944Z"
   },
   {
    "duration": 949,
    "start_time": "2024-05-09T14:49:10.321Z"
   },
   {
    "duration": 153,
    "start_time": "2024-05-09T14:49:11.272Z"
   },
   {
    "duration": 112,
    "start_time": "2024-05-09T14:49:11.427Z"
   },
   {
    "duration": 421,
    "start_time": "2024-05-09T14:49:11.541Z"
   },
   {
    "duration": 252,
    "start_time": "2024-05-09T14:49:11.964Z"
   },
   {
    "duration": 310,
    "start_time": "2024-05-09T14:49:12.218Z"
   },
   {
    "duration": 542,
    "start_time": "2024-05-09T14:49:12.530Z"
   },
   {
    "duration": 302,
    "start_time": "2024-05-09T14:49:13.073Z"
   },
   {
    "duration": 7,
    "start_time": "2024-05-09T14:49:13.377Z"
   },
   {
    "duration": 119,
    "start_time": "2024-05-09T14:49:13.385Z"
   },
   {
    "duration": 2785,
    "start_time": "2024-05-09T14:49:13.505Z"
   },
   {
    "duration": 30,
    "start_time": "2024-05-09T14:49:16.292Z"
   },
   {
    "duration": 309,
    "start_time": "2024-05-09T14:49:16.323Z"
   },
   {
    "duration": 23,
    "start_time": "2024-05-09T14:49:16.633Z"
   },
   {
    "duration": 305,
    "start_time": "2024-05-09T14:49:16.658Z"
   },
   {
    "duration": 2658,
    "start_time": "2024-05-09T15:03:50.986Z"
   },
   {
    "duration": 1387,
    "start_time": "2024-05-09T15:03:53.647Z"
   },
   {
    "duration": 973,
    "start_time": "2024-05-09T15:03:55.036Z"
   },
   {
    "duration": 171,
    "start_time": "2024-05-09T15:03:56.011Z"
   },
   {
    "duration": 105,
    "start_time": "2024-05-09T15:03:56.185Z"
   },
   {
    "duration": 395,
    "start_time": "2024-05-09T15:03:56.292Z"
   },
   {
    "duration": 251,
    "start_time": "2024-05-09T15:03:56.688Z"
   },
   {
    "duration": 293,
    "start_time": "2024-05-09T15:03:56.941Z"
   },
   {
    "duration": 534,
    "start_time": "2024-05-09T15:03:57.236Z"
   },
   {
    "duration": 273,
    "start_time": "2024-05-09T15:03:57.772Z"
   },
   {
    "duration": 4,
    "start_time": "2024-05-09T15:03:58.047Z"
   },
   {
    "duration": 116,
    "start_time": "2024-05-09T15:03:58.052Z"
   },
   {
    "duration": 2737,
    "start_time": "2024-05-09T15:03:58.170Z"
   },
   {
    "duration": 29,
    "start_time": "2024-05-09T15:04:00.910Z"
   },
   {
    "duration": 321,
    "start_time": "2024-05-09T15:04:00.941Z"
   },
   {
    "duration": 28,
    "start_time": "2024-05-09T15:04:01.264Z"
   },
   {
    "duration": 328,
    "start_time": "2024-05-09T15:04:01.294Z"
   },
   {
    "duration": 1069,
    "start_time": "2024-05-09T15:04:01.624Z"
   },
   {
    "duration": 2542,
    "start_time": "2024-05-09T15:05:41.562Z"
   },
   {
    "duration": 1179,
    "start_time": "2024-05-09T15:05:44.107Z"
   },
   {
    "duration": 940,
    "start_time": "2024-05-09T15:05:45.288Z"
   },
   {
    "duration": 173,
    "start_time": "2024-05-09T15:05:46.230Z"
   },
   {
    "duration": 105,
    "start_time": "2024-05-09T15:05:46.405Z"
   },
   {
    "duration": 399,
    "start_time": "2024-05-09T15:05:46.511Z"
   },
   {
    "duration": 234,
    "start_time": "2024-05-09T15:05:46.912Z"
   },
   {
    "duration": 285,
    "start_time": "2024-05-09T15:05:47.148Z"
   },
   {
    "duration": 560,
    "start_time": "2024-05-09T15:05:47.434Z"
   },
   {
    "duration": 281,
    "start_time": "2024-05-09T15:05:47.997Z"
   },
   {
    "duration": 3,
    "start_time": "2024-05-09T15:05:48.280Z"
   },
   {
    "duration": 129,
    "start_time": "2024-05-09T15:05:48.285Z"
   },
   {
    "duration": 2768,
    "start_time": "2024-05-09T15:05:48.416Z"
   },
   {
    "duration": 29,
    "start_time": "2024-05-09T15:05:51.186Z"
   },
   {
    "duration": 293,
    "start_time": "2024-05-09T15:05:51.216Z"
   },
   {
    "duration": 22,
    "start_time": "2024-05-09T15:05:51.511Z"
   },
   {
    "duration": 286,
    "start_time": "2024-05-09T15:05:51.534Z"
   },
   {
    "duration": 989,
    "start_time": "2024-05-09T15:05:51.822Z"
   },
   {
    "duration": 2506,
    "start_time": "2024-05-09T15:06:44.477Z"
   },
   {
    "duration": 1176,
    "start_time": "2024-05-09T15:06:46.986Z"
   },
   {
    "duration": 913,
    "start_time": "2024-05-09T15:06:48.164Z"
   },
   {
    "duration": 166,
    "start_time": "2024-05-09T15:06:49.078Z"
   },
   {
    "duration": 112,
    "start_time": "2024-05-09T15:06:49.247Z"
   },
   {
    "duration": 394,
    "start_time": "2024-05-09T15:06:49.362Z"
   },
   {
    "duration": 227,
    "start_time": "2024-05-09T15:06:49.757Z"
   },
   {
    "duration": 280,
    "start_time": "2024-05-09T15:06:49.986Z"
   },
   {
    "duration": 542,
    "start_time": "2024-05-09T15:06:50.267Z"
   },
   {
    "duration": 285,
    "start_time": "2024-05-09T15:06:50.811Z"
   },
   {
    "duration": 4,
    "start_time": "2024-05-09T15:06:51.097Z"
   },
   {
    "duration": 126,
    "start_time": "2024-05-09T15:06:51.103Z"
   },
   {
    "duration": 2796,
    "start_time": "2024-05-09T15:06:51.231Z"
   },
   {
    "duration": 29,
    "start_time": "2024-05-09T15:06:54.031Z"
   },
   {
    "duration": 344,
    "start_time": "2024-05-09T15:06:54.062Z"
   },
   {
    "duration": 22,
    "start_time": "2024-05-09T15:06:54.407Z"
   },
   {
    "duration": 287,
    "start_time": "2024-05-09T15:06:54.431Z"
   },
   {
    "duration": 994,
    "start_time": "2024-05-09T15:06:54.719Z"
   },
   {
    "duration": 2488,
    "start_time": "2024-05-09T15:20:39.912Z"
   },
   {
    "duration": 1170,
    "start_time": "2024-05-09T15:20:42.403Z"
   },
   {
    "duration": 997,
    "start_time": "2024-05-09T15:20:43.574Z"
   },
   {
    "duration": 170,
    "start_time": "2024-05-09T15:20:44.573Z"
   },
   {
    "duration": 110,
    "start_time": "2024-05-09T15:20:44.746Z"
   },
   {
    "duration": 1754,
    "start_time": "2024-05-09T15:20:44.858Z"
   },
   {
    "duration": 0,
    "start_time": "2024-05-09T15:20:46.614Z"
   },
   {
    "duration": 0,
    "start_time": "2024-05-09T15:20:46.615Z"
   },
   {
    "duration": 0,
    "start_time": "2024-05-09T15:20:46.616Z"
   },
   {
    "duration": 0,
    "start_time": "2024-05-09T15:20:46.617Z"
   },
   {
    "duration": 0,
    "start_time": "2024-05-09T15:20:46.618Z"
   },
   {
    "duration": 0,
    "start_time": "2024-05-09T15:20:46.619Z"
   },
   {
    "duration": 0,
    "start_time": "2024-05-09T15:20:46.620Z"
   },
   {
    "duration": 0,
    "start_time": "2024-05-09T15:20:46.621Z"
   },
   {
    "duration": 0,
    "start_time": "2024-05-09T15:20:46.622Z"
   },
   {
    "duration": 0,
    "start_time": "2024-05-09T15:20:46.623Z"
   },
   {
    "duration": 0,
    "start_time": "2024-05-09T15:20:46.624Z"
   },
   {
    "duration": 0,
    "start_time": "2024-05-09T15:20:46.625Z"
   },
   {
    "duration": 0,
    "start_time": "2024-05-09T15:20:46.627Z"
   },
   {
    "duration": 2465,
    "start_time": "2024-05-09T15:21:48.156Z"
   },
   {
    "duration": 1140,
    "start_time": "2024-05-09T15:21:50.623Z"
   },
   {
    "duration": 963,
    "start_time": "2024-05-09T15:21:51.765Z"
   },
   {
    "duration": 167,
    "start_time": "2024-05-09T15:21:52.729Z"
   },
   {
    "duration": 115,
    "start_time": "2024-05-09T15:21:52.898Z"
   },
   {
    "duration": 1278,
    "start_time": "2024-05-09T15:21:53.016Z"
   },
   {
    "duration": 222,
    "start_time": "2024-05-09T15:21:54.296Z"
   },
   {
    "duration": 262,
    "start_time": "2024-05-09T15:21:54.520Z"
   },
   {
    "duration": 500,
    "start_time": "2024-05-09T15:21:54.783Z"
   },
   {
    "duration": 242,
    "start_time": "2024-05-09T15:21:55.284Z"
   },
   {
    "duration": 4,
    "start_time": "2024-05-09T15:21:55.528Z"
   },
   {
    "duration": 108,
    "start_time": "2024-05-09T15:21:55.533Z"
   },
   {
    "duration": 2496,
    "start_time": "2024-05-09T15:21:55.642Z"
   },
   {
    "duration": 27,
    "start_time": "2024-05-09T15:21:58.140Z"
   },
   {
    "duration": 324,
    "start_time": "2024-05-09T15:21:58.169Z"
   },
   {
    "duration": 21,
    "start_time": "2024-05-09T15:21:58.494Z"
   },
   {
    "duration": 270,
    "start_time": "2024-05-09T15:21:58.517Z"
   },
   {
    "duration": 805,
    "start_time": "2024-05-09T15:21:58.789Z"
   },
   {
    "duration": 43,
    "start_time": "2024-05-09T15:21:59.596Z"
   },
   {
    "duration": 2519,
    "start_time": "2024-05-09T15:28:06.688Z"
   },
   {
    "duration": 1153,
    "start_time": "2024-05-09T15:28:09.210Z"
   },
   {
    "duration": 924,
    "start_time": "2024-05-09T15:28:10.367Z"
   },
   {
    "duration": 167,
    "start_time": "2024-05-09T15:28:11.293Z"
   },
   {
    "duration": 104,
    "start_time": "2024-05-09T15:28:11.462Z"
   },
   {
    "duration": 641,
    "start_time": "2024-05-09T15:28:11.567Z"
   },
   {
    "duration": 0,
    "start_time": "2024-05-09T15:28:12.209Z"
   },
   {
    "duration": 0,
    "start_time": "2024-05-09T15:28:12.210Z"
   },
   {
    "duration": 0,
    "start_time": "2024-05-09T15:28:12.212Z"
   },
   {
    "duration": 0,
    "start_time": "2024-05-09T15:28:12.213Z"
   },
   {
    "duration": 0,
    "start_time": "2024-05-09T15:28:12.214Z"
   },
   {
    "duration": 0,
    "start_time": "2024-05-09T15:28:12.215Z"
   },
   {
    "duration": 0,
    "start_time": "2024-05-09T15:28:12.216Z"
   },
   {
    "duration": 0,
    "start_time": "2024-05-09T15:28:12.217Z"
   },
   {
    "duration": 0,
    "start_time": "2024-05-09T15:28:12.218Z"
   },
   {
    "duration": 0,
    "start_time": "2024-05-09T15:28:12.220Z"
   },
   {
    "duration": 1,
    "start_time": "2024-05-09T15:28:12.220Z"
   },
   {
    "duration": 0,
    "start_time": "2024-05-09T15:28:12.222Z"
   },
   {
    "duration": 0,
    "start_time": "2024-05-09T15:28:12.223Z"
   },
   {
    "duration": 2538,
    "start_time": "2024-05-09T15:31:48.088Z"
   },
   {
    "duration": 1193,
    "start_time": "2024-05-09T15:31:50.628Z"
   },
   {
    "duration": 986,
    "start_time": "2024-05-09T15:31:51.822Z"
   },
   {
    "duration": 160,
    "start_time": "2024-05-09T15:31:52.810Z"
   },
   {
    "duration": 100,
    "start_time": "2024-05-09T15:31:52.973Z"
   },
   {
    "duration": 2793,
    "start_time": "2024-05-09T15:31:53.074Z"
   },
   {
    "duration": 0,
    "start_time": "2024-05-09T15:31:55.869Z"
   },
   {
    "duration": 0,
    "start_time": "2024-05-09T15:31:55.870Z"
   },
   {
    "duration": 1,
    "start_time": "2024-05-09T15:31:55.871Z"
   },
   {
    "duration": 0,
    "start_time": "2024-05-09T15:31:55.873Z"
   },
   {
    "duration": 0,
    "start_time": "2024-05-09T15:31:55.874Z"
   },
   {
    "duration": 0,
    "start_time": "2024-05-09T15:31:55.875Z"
   },
   {
    "duration": 0,
    "start_time": "2024-05-09T15:31:55.876Z"
   },
   {
    "duration": 0,
    "start_time": "2024-05-09T15:31:55.877Z"
   },
   {
    "duration": 0,
    "start_time": "2024-05-09T15:31:55.878Z"
   },
   {
    "duration": 0,
    "start_time": "2024-05-09T15:31:55.879Z"
   },
   {
    "duration": 0,
    "start_time": "2024-05-09T15:31:55.881Z"
   },
   {
    "duration": 0,
    "start_time": "2024-05-09T15:31:55.882Z"
   },
   {
    "duration": 0,
    "start_time": "2024-05-09T15:31:55.884Z"
   },
   {
    "duration": 34,
    "start_time": "2024-05-09T15:32:43.627Z"
   },
   {
    "duration": 72,
    "start_time": "2024-05-09T15:32:58.747Z"
   },
   {
    "duration": 2486,
    "start_time": "2024-05-09T15:35:15.168Z"
   },
   {
    "duration": 1208,
    "start_time": "2024-05-09T15:35:17.657Z"
   },
   {
    "duration": 939,
    "start_time": "2024-05-09T15:35:18.867Z"
   },
   {
    "duration": 162,
    "start_time": "2024-05-09T15:35:19.808Z"
   },
   {
    "duration": 102,
    "start_time": "2024-05-09T15:35:19.973Z"
   },
   {
    "duration": 1366,
    "start_time": "2024-05-09T15:35:20.082Z"
   },
   {
    "duration": 34,
    "start_time": "2024-05-09T15:35:21.449Z"
   },
   {
    "duration": 237,
    "start_time": "2024-05-09T15:35:21.484Z"
   },
   {
    "duration": 225,
    "start_time": "2024-05-09T15:35:21.723Z"
   },
   {
    "duration": 519,
    "start_time": "2024-05-09T15:35:21.950Z"
   },
   {
    "duration": 369,
    "start_time": "2024-05-09T15:35:22.470Z"
   },
   {
    "duration": 3,
    "start_time": "2024-05-09T15:35:22.841Z"
   },
   {
    "duration": 113,
    "start_time": "2024-05-09T15:35:22.846Z"
   },
   {
    "duration": 2782,
    "start_time": "2024-05-09T15:35:22.962Z"
   },
   {
    "duration": 51,
    "start_time": "2024-05-09T15:35:25.746Z"
   },
   {
    "duration": 348,
    "start_time": "2024-05-09T15:35:25.799Z"
   },
   {
    "duration": 20,
    "start_time": "2024-05-09T15:35:26.149Z"
   },
   {
    "duration": 306,
    "start_time": "2024-05-09T15:35:26.171Z"
   },
   {
    "duration": 853,
    "start_time": "2024-05-09T15:35:26.482Z"
   },
   {
    "duration": 76,
    "start_time": "2024-05-09T15:35:27.336Z"
   },
   {
    "duration": 949,
    "start_time": "2024-05-09T15:36:23.638Z"
   },
   {
    "duration": 2661,
    "start_time": "2024-05-09T15:37:16.978Z"
   },
   {
    "duration": 1160,
    "start_time": "2024-05-09T15:37:19.641Z"
   },
   {
    "duration": 934,
    "start_time": "2024-05-09T15:37:20.803Z"
   },
   {
    "duration": 170,
    "start_time": "2024-05-09T15:37:21.738Z"
   },
   {
    "duration": 118,
    "start_time": "2024-05-09T15:37:21.911Z"
   },
   {
    "duration": 1372,
    "start_time": "2024-05-09T15:37:22.031Z"
   },
   {
    "duration": 27,
    "start_time": "2024-05-09T15:37:23.404Z"
   },
   {
    "duration": 242,
    "start_time": "2024-05-09T15:37:23.433Z"
   },
   {
    "duration": 230,
    "start_time": "2024-05-09T15:37:23.677Z"
   },
   {
    "duration": 537,
    "start_time": "2024-05-09T15:37:23.909Z"
   },
   {
    "duration": 319,
    "start_time": "2024-05-09T15:37:24.447Z"
   },
   {
    "duration": 3,
    "start_time": "2024-05-09T15:37:24.768Z"
   },
   {
    "duration": 134,
    "start_time": "2024-05-09T15:37:24.773Z"
   },
   {
    "duration": 2822,
    "start_time": "2024-05-09T15:37:24.910Z"
   },
   {
    "duration": 29,
    "start_time": "2024-05-09T15:37:27.733Z"
   },
   {
    "duration": 348,
    "start_time": "2024-05-09T15:37:27.763Z"
   },
   {
    "duration": 22,
    "start_time": "2024-05-09T15:37:28.112Z"
   },
   {
    "duration": 308,
    "start_time": "2024-05-09T15:37:28.136Z"
   },
   {
    "duration": 830,
    "start_time": "2024-05-09T15:37:28.445Z"
   },
   {
    "duration": 51,
    "start_time": "2024-05-09T15:37:29.276Z"
   },
   {
    "duration": 905,
    "start_time": "2024-05-09T15:39:31.263Z"
   },
   {
    "duration": 801,
    "start_time": "2024-05-09T15:39:45.587Z"
   },
   {
    "duration": 868,
    "start_time": "2024-05-09T15:39:54.873Z"
   },
   {
    "duration": 2600,
    "start_time": "2024-05-09T15:40:03.237Z"
   },
   {
    "duration": 1227,
    "start_time": "2024-05-09T15:40:05.840Z"
   },
   {
    "duration": 975,
    "start_time": "2024-05-09T15:40:07.068Z"
   },
   {
    "duration": 181,
    "start_time": "2024-05-09T15:40:08.045Z"
   },
   {
    "duration": 132,
    "start_time": "2024-05-09T15:40:08.230Z"
   },
   {
    "duration": 1328,
    "start_time": "2024-05-09T15:40:08.364Z"
   },
   {
    "duration": 27,
    "start_time": "2024-05-09T15:40:09.694Z"
   },
   {
    "duration": 301,
    "start_time": "2024-05-09T15:40:09.723Z"
   },
   {
    "duration": 239,
    "start_time": "2024-05-09T15:40:10.026Z"
   },
   {
    "duration": 549,
    "start_time": "2024-05-09T15:40:10.268Z"
   },
   {
    "duration": 304,
    "start_time": "2024-05-09T15:40:10.819Z"
   },
   {
    "duration": 4,
    "start_time": "2024-05-09T15:40:11.125Z"
   },
   {
    "duration": 126,
    "start_time": "2024-05-09T15:40:11.131Z"
   },
   {
    "duration": 2922,
    "start_time": "2024-05-09T15:40:11.260Z"
   },
   {
    "duration": 29,
    "start_time": "2024-05-09T15:40:14.184Z"
   },
   {
    "duration": 302,
    "start_time": "2024-05-09T15:40:14.215Z"
   },
   {
    "duration": 22,
    "start_time": "2024-05-09T15:40:14.518Z"
   },
   {
    "duration": 301,
    "start_time": "2024-05-09T15:40:14.542Z"
   },
   {
    "duration": 827,
    "start_time": "2024-05-09T15:40:14.845Z"
   },
   {
    "duration": 47,
    "start_time": "2024-05-09T15:40:32.100Z"
   },
   {
    "duration": 853,
    "start_time": "2024-05-09T15:40:36.147Z"
   },
   {
    "duration": 2714,
    "start_time": "2024-05-09T15:41:01.194Z"
   },
   {
    "duration": 1154,
    "start_time": "2024-05-09T15:41:03.910Z"
   },
   {
    "duration": 952,
    "start_time": "2024-05-09T15:41:05.065Z"
   },
   {
    "duration": 180,
    "start_time": "2024-05-09T15:41:06.019Z"
   },
   {
    "duration": 131,
    "start_time": "2024-05-09T15:41:06.203Z"
   },
   {
    "duration": 1387,
    "start_time": "2024-05-09T15:41:06.337Z"
   },
   {
    "duration": 28,
    "start_time": "2024-05-09T15:41:07.725Z"
   },
   {
    "duration": 283,
    "start_time": "2024-05-09T15:41:07.755Z"
   },
   {
    "duration": 235,
    "start_time": "2024-05-09T15:41:08.040Z"
   },
   {
    "duration": 535,
    "start_time": "2024-05-09T15:41:08.277Z"
   },
   {
    "duration": 297,
    "start_time": "2024-05-09T15:41:08.814Z"
   },
   {
    "duration": 4,
    "start_time": "2024-05-09T15:41:09.112Z"
   },
   {
    "duration": 145,
    "start_time": "2024-05-09T15:41:09.117Z"
   },
   {
    "duration": 2911,
    "start_time": "2024-05-09T15:41:09.266Z"
   },
   {
    "duration": 31,
    "start_time": "2024-05-09T15:41:12.179Z"
   },
   {
    "duration": 342,
    "start_time": "2024-05-09T15:41:12.212Z"
   },
   {
    "duration": 30,
    "start_time": "2024-05-09T15:41:12.560Z"
   },
   {
    "duration": 318,
    "start_time": "2024-05-09T15:41:12.592Z"
   },
   {
    "duration": 907,
    "start_time": "2024-05-09T15:41:12.913Z"
   },
   {
    "duration": 61,
    "start_time": "2024-05-09T15:41:13.821Z"
   },
   {
    "duration": 969,
    "start_time": "2024-05-09T15:41:40.759Z"
   },
   {
    "duration": 828,
    "start_time": "2024-05-09T15:44:45.416Z"
   },
   {
    "duration": 3031,
    "start_time": "2024-05-09T15:44:52.131Z"
   },
   {
    "duration": 1470,
    "start_time": "2024-05-09T15:44:55.165Z"
   },
   {
    "duration": 1116,
    "start_time": "2024-05-09T15:44:56.637Z"
   },
   {
    "duration": 247,
    "start_time": "2024-05-09T15:44:57.755Z"
   },
   {
    "duration": 127,
    "start_time": "2024-05-09T15:44:58.005Z"
   },
   {
    "duration": 1775,
    "start_time": "2024-05-09T15:44:58.137Z"
   },
   {
    "duration": 43,
    "start_time": "2024-05-09T15:44:59.921Z"
   },
   {
    "duration": 354,
    "start_time": "2024-05-09T15:44:59.966Z"
   },
   {
    "duration": 297,
    "start_time": "2024-05-09T15:45:00.322Z"
   },
   {
    "duration": 683,
    "start_time": "2024-05-09T15:45:00.620Z"
   },
   {
    "duration": 432,
    "start_time": "2024-05-09T15:45:01.305Z"
   },
   {
    "duration": 9,
    "start_time": "2024-05-09T15:45:01.739Z"
   },
   {
    "duration": 189,
    "start_time": "2024-05-09T15:45:01.750Z"
   },
   {
    "duration": 3814,
    "start_time": "2024-05-09T15:45:01.950Z"
   },
   {
    "duration": 51,
    "start_time": "2024-05-09T15:45:05.766Z"
   },
   {
    "duration": 443,
    "start_time": "2024-05-09T15:45:05.830Z"
   },
   {
    "duration": 34,
    "start_time": "2024-05-09T15:45:06.280Z"
   },
   {
    "duration": 308,
    "start_time": "2024-05-09T15:45:06.316Z"
   },
   {
    "duration": 1000,
    "start_time": "2024-05-09T15:45:06.627Z"
   },
   {
    "duration": 80,
    "start_time": "2024-05-09T15:45:07.629Z"
   },
   {
    "duration": 2869,
    "start_time": "2024-05-09T15:45:30.962Z"
   },
   {
    "duration": 1231,
    "start_time": "2024-05-09T15:45:33.834Z"
   },
   {
    "duration": 1107,
    "start_time": "2024-05-09T15:45:35.067Z"
   },
   {
    "duration": 248,
    "start_time": "2024-05-09T15:45:36.181Z"
   },
   {
    "duration": 116,
    "start_time": "2024-05-09T15:45:36.432Z"
   },
   {
    "duration": 1570,
    "start_time": "2024-05-09T15:45:36.549Z"
   },
   {
    "duration": 38,
    "start_time": "2024-05-09T15:45:38.121Z"
   },
   {
    "duration": 304,
    "start_time": "2024-05-09T15:45:38.161Z"
   },
   {
    "duration": 260,
    "start_time": "2024-05-09T15:45:38.466Z"
   },
   {
    "duration": 636,
    "start_time": "2024-05-09T15:45:38.728Z"
   },
   {
    "duration": 328,
    "start_time": "2024-05-09T15:45:39.366Z"
   },
   {
    "duration": 13,
    "start_time": "2024-05-09T15:45:39.695Z"
   },
   {
    "duration": 183,
    "start_time": "2024-05-09T15:45:39.709Z"
   },
   {
    "duration": 3247,
    "start_time": "2024-05-09T15:45:39.898Z"
   },
   {
    "duration": 57,
    "start_time": "2024-05-09T15:45:43.148Z"
   },
   {
    "duration": 332,
    "start_time": "2024-05-09T15:45:43.212Z"
   },
   {
    "duration": 43,
    "start_time": "2024-05-09T15:45:43.547Z"
   },
   {
    "duration": 316,
    "start_time": "2024-05-09T15:45:43.592Z"
   },
   {
    "duration": 937,
    "start_time": "2024-05-09T15:45:43.909Z"
   },
   {
    "duration": 60,
    "start_time": "2024-05-09T15:45:44.848Z"
   },
   {
    "duration": 2597,
    "start_time": "2024-05-09T15:54:06.898Z"
   },
   {
    "duration": 1241,
    "start_time": "2024-05-09T15:54:09.497Z"
   },
   {
    "duration": 993,
    "start_time": "2024-05-09T15:54:10.740Z"
   },
   {
    "duration": 192,
    "start_time": "2024-05-09T15:54:11.734Z"
   },
   {
    "duration": 115,
    "start_time": "2024-05-09T15:54:11.928Z"
   },
   {
    "duration": 1469,
    "start_time": "2024-05-09T15:54:12.045Z"
   },
   {
    "duration": 25,
    "start_time": "2024-05-09T15:54:13.515Z"
   },
   {
    "duration": 268,
    "start_time": "2024-05-09T15:54:13.542Z"
   },
   {
    "duration": 241,
    "start_time": "2024-05-09T15:54:13.811Z"
   },
   {
    "duration": 587,
    "start_time": "2024-05-09T15:54:14.054Z"
   },
   {
    "duration": 354,
    "start_time": "2024-05-09T15:54:14.643Z"
   },
   {
    "duration": 4,
    "start_time": "2024-05-09T15:54:14.999Z"
   },
   {
    "duration": 171,
    "start_time": "2024-05-09T15:54:15.005Z"
   },
   {
    "duration": 2957,
    "start_time": "2024-05-09T15:54:15.184Z"
   },
   {
    "duration": 30,
    "start_time": "2024-05-09T15:54:18.143Z"
   },
   {
    "duration": 331,
    "start_time": "2024-05-09T15:54:18.186Z"
   },
   {
    "duration": 22,
    "start_time": "2024-05-09T15:54:18.518Z"
   },
   {
    "duration": 313,
    "start_time": "2024-05-09T15:54:18.542Z"
   },
   {
    "duration": 876,
    "start_time": "2024-05-09T15:54:18.857Z"
   },
   {
    "duration": 102,
    "start_time": "2024-05-09T15:54:19.735Z"
   },
   {
    "duration": 761,
    "start_time": "2024-05-09T15:54:31.714Z"
   },
   {
    "duration": 708,
    "start_time": "2024-05-09T15:55:05.983Z"
   },
   {
    "duration": 2564,
    "start_time": "2024-05-09T15:56:24.158Z"
   },
   {
    "duration": 1206,
    "start_time": "2024-05-09T15:56:26.725Z"
   },
   {
    "duration": 986,
    "start_time": "2024-05-09T15:56:27.933Z"
   },
   {
    "duration": 172,
    "start_time": "2024-05-09T15:56:28.920Z"
   },
   {
    "duration": 112,
    "start_time": "2024-05-09T15:56:29.094Z"
   },
   {
    "duration": 1407,
    "start_time": "2024-05-09T15:56:29.208Z"
   },
   {
    "duration": 25,
    "start_time": "2024-05-09T15:56:30.617Z"
   },
   {
    "duration": 327,
    "start_time": "2024-05-09T15:56:30.644Z"
   },
   {
    "duration": 235,
    "start_time": "2024-05-09T15:56:30.973Z"
   },
   {
    "duration": 549,
    "start_time": "2024-05-09T15:56:31.209Z"
   },
   {
    "duration": 334,
    "start_time": "2024-05-09T15:56:31.760Z"
   },
   {
    "duration": 3,
    "start_time": "2024-05-09T15:56:32.096Z"
   },
   {
    "duration": 129,
    "start_time": "2024-05-09T15:56:32.101Z"
   },
   {
    "duration": 2951,
    "start_time": "2024-05-09T15:56:32.232Z"
   },
   {
    "duration": 31,
    "start_time": "2024-05-09T15:56:35.185Z"
   },
   {
    "duration": 337,
    "start_time": "2024-05-09T15:56:35.218Z"
   },
   {
    "duration": 29,
    "start_time": "2024-05-09T15:56:35.556Z"
   },
   {
    "duration": 306,
    "start_time": "2024-05-09T15:56:35.588Z"
   },
   {
    "duration": 902,
    "start_time": "2024-05-09T15:56:35.895Z"
   },
   {
    "duration": 107,
    "start_time": "2024-05-09T15:56:36.801Z"
   },
   {
    "duration": 780,
    "start_time": "2024-05-09T15:57:19.919Z"
   },
   {
    "duration": 92,
    "start_time": "2024-05-09T15:58:35.353Z"
   },
   {
    "duration": 2636,
    "start_time": "2024-05-09T16:03:41.590Z"
   },
   {
    "duration": 1223,
    "start_time": "2024-05-09T16:03:44.229Z"
   },
   {
    "duration": 1057,
    "start_time": "2024-05-09T16:03:45.454Z"
   },
   {
    "duration": 181,
    "start_time": "2024-05-09T16:03:46.513Z"
   },
   {
    "duration": 101,
    "start_time": "2024-05-09T16:03:46.696Z"
   },
   {
    "duration": 1418,
    "start_time": "2024-05-09T16:03:46.800Z"
   },
   {
    "duration": 25,
    "start_time": "2024-05-09T16:03:48.220Z"
   },
   {
    "duration": 260,
    "start_time": "2024-05-09T16:03:48.247Z"
   },
   {
    "duration": 230,
    "start_time": "2024-05-09T16:03:48.509Z"
   },
   {
    "duration": 552,
    "start_time": "2024-05-09T16:03:48.741Z"
   },
   {
    "duration": 327,
    "start_time": "2024-05-09T16:03:49.296Z"
   },
   {
    "duration": 4,
    "start_time": "2024-05-09T16:03:49.625Z"
   },
   {
    "duration": 148,
    "start_time": "2024-05-09T16:03:49.630Z"
   },
   {
    "duration": 2972,
    "start_time": "2024-05-09T16:03:49.785Z"
   },
   {
    "duration": 42,
    "start_time": "2024-05-09T16:03:52.759Z"
   },
   {
    "duration": 341,
    "start_time": "2024-05-09T16:03:52.803Z"
   },
   {
    "duration": 22,
    "start_time": "2024-05-09T16:03:53.147Z"
   },
   {
    "duration": 343,
    "start_time": "2024-05-09T16:03:53.171Z"
   },
   {
    "duration": 928,
    "start_time": "2024-05-09T16:03:53.516Z"
   },
   {
    "duration": 105,
    "start_time": "2024-05-09T16:03:54.446Z"
   },
   {
    "duration": 124,
    "start_time": "2024-05-09T16:03:54.553Z"
   },
   {
    "duration": 898,
    "start_time": "2024-05-09T16:05:02.053Z"
   },
   {
    "duration": 769,
    "start_time": "2024-05-09T16:08:37.430Z"
   },
   {
    "duration": 863,
    "start_time": "2024-05-09T16:08:57.476Z"
   },
   {
    "duration": 1004,
    "start_time": "2024-05-09T16:09:53.026Z"
   },
   {
    "duration": 710,
    "start_time": "2024-05-09T16:10:27.605Z"
   },
   {
    "duration": 2525,
    "start_time": "2024-05-09T16:11:17.549Z"
   },
   {
    "duration": 1202,
    "start_time": "2024-05-09T16:11:20.077Z"
   },
   {
    "duration": 962,
    "start_time": "2024-05-09T16:11:21.281Z"
   },
   {
    "duration": 155,
    "start_time": "2024-05-09T16:11:22.244Z"
   },
   {
    "duration": 168,
    "start_time": "2024-05-09T16:11:22.401Z"
   },
   {
    "duration": 1353,
    "start_time": "2024-05-09T16:11:22.571Z"
   },
   {
    "duration": 25,
    "start_time": "2024-05-09T16:11:23.925Z"
   },
   {
    "duration": 255,
    "start_time": "2024-05-09T16:11:23.952Z"
   },
   {
    "duration": 215,
    "start_time": "2024-05-09T16:11:24.208Z"
   },
   {
    "duration": 536,
    "start_time": "2024-05-09T16:11:24.425Z"
   },
   {
    "duration": 325,
    "start_time": "2024-05-09T16:11:24.963Z"
   },
   {
    "duration": 3,
    "start_time": "2024-05-09T16:11:25.290Z"
   },
   {
    "duration": 124,
    "start_time": "2024-05-09T16:11:25.294Z"
   },
   {
    "duration": 2798,
    "start_time": "2024-05-09T16:11:25.421Z"
   },
   {
    "duration": 29,
    "start_time": "2024-05-09T16:11:28.221Z"
   },
   {
    "duration": 310,
    "start_time": "2024-05-09T16:11:28.251Z"
   },
   {
    "duration": 30,
    "start_time": "2024-05-09T16:11:28.563Z"
   },
   {
    "duration": 300,
    "start_time": "2024-05-09T16:11:28.595Z"
   },
   {
    "duration": 835,
    "start_time": "2024-05-09T16:11:28.897Z"
   },
   {
    "duration": 111,
    "start_time": "2024-05-09T16:11:29.734Z"
   },
   {
    "duration": 787,
    "start_time": "2024-05-09T16:11:29.847Z"
   },
   {
    "duration": 107,
    "start_time": "2024-05-09T16:11:30.635Z"
   },
   {
    "duration": 800,
    "start_time": "2024-05-09T16:12:17.583Z"
   },
   {
    "duration": 2512,
    "start_time": "2024-05-09T16:13:12.263Z"
   },
   {
    "duration": 1192,
    "start_time": "2024-05-09T16:13:14.777Z"
   },
   {
    "duration": 933,
    "start_time": "2024-05-09T16:13:15.972Z"
   },
   {
    "duration": 169,
    "start_time": "2024-05-09T16:13:16.907Z"
   },
   {
    "duration": 108,
    "start_time": "2024-05-09T16:13:17.077Z"
   },
   {
    "duration": 1360,
    "start_time": "2024-05-09T16:13:17.186Z"
   },
   {
    "duration": 35,
    "start_time": "2024-05-09T16:13:18.548Z"
   },
   {
    "duration": 239,
    "start_time": "2024-05-09T16:13:18.585Z"
   },
   {
    "duration": 221,
    "start_time": "2024-05-09T16:13:18.826Z"
   },
   {
    "duration": 517,
    "start_time": "2024-05-09T16:13:19.049Z"
   },
   {
    "duration": 294,
    "start_time": "2024-05-09T16:13:19.567Z"
   },
   {
    "duration": 3,
    "start_time": "2024-05-09T16:13:19.863Z"
   },
   {
    "duration": 115,
    "start_time": "2024-05-09T16:13:19.869Z"
   },
   {
    "duration": 2773,
    "start_time": "2024-05-09T16:13:19.986Z"
   },
   {
    "duration": 36,
    "start_time": "2024-05-09T16:13:22.761Z"
   },
   {
    "duration": 301,
    "start_time": "2024-05-09T16:13:22.799Z"
   },
   {
    "duration": 25,
    "start_time": "2024-05-09T16:13:23.102Z"
   },
   {
    "duration": 311,
    "start_time": "2024-05-09T16:13:23.132Z"
   },
   {
    "duration": 810,
    "start_time": "2024-05-09T16:13:23.444Z"
   },
   {
    "duration": 107,
    "start_time": "2024-05-09T16:13:24.256Z"
   },
   {
    "duration": 849,
    "start_time": "2024-05-09T16:13:24.365Z"
   },
   {
    "duration": 129,
    "start_time": "2024-05-09T16:13:25.217Z"
   },
   {
    "duration": 11676,
    "start_time": "2024-05-09T16:57:28.007Z"
   },
   {
    "duration": 4518,
    "start_time": "2024-05-09T17:02:34.675Z"
   },
   {
    "duration": 4043,
    "start_time": "2024-05-09T17:05:49.289Z"
   },
   {
    "duration": 10458,
    "start_time": "2024-05-09T17:06:09.080Z"
   },
   {
    "duration": 22344,
    "start_time": "2024-05-09T17:12:22.105Z"
   },
   {
    "duration": 370,
    "start_time": "2024-05-09T17:17:42.140Z"
   },
   {
    "duration": 44,
    "start_time": "2024-05-10T19:53:22.796Z"
   },
   {
    "duration": 2947,
    "start_time": "2024-05-10T20:22:51.367Z"
   },
   {
    "duration": 0,
    "start_time": "2024-05-10T20:22:54.316Z"
   },
   {
    "duration": 0,
    "start_time": "2024-05-10T20:22:54.318Z"
   },
   {
    "duration": 0,
    "start_time": "2024-05-10T20:22:54.318Z"
   },
   {
    "duration": 0,
    "start_time": "2024-05-10T20:22:54.319Z"
   },
   {
    "duration": 0,
    "start_time": "2024-05-10T20:22:54.320Z"
   },
   {
    "duration": 0,
    "start_time": "2024-05-10T20:22:54.321Z"
   },
   {
    "duration": 0,
    "start_time": "2024-05-10T20:22:54.322Z"
   },
   {
    "duration": 0,
    "start_time": "2024-05-10T20:22:54.323Z"
   },
   {
    "duration": 0,
    "start_time": "2024-05-10T20:22:54.324Z"
   },
   {
    "duration": 0,
    "start_time": "2024-05-10T20:22:54.325Z"
   },
   {
    "duration": 0,
    "start_time": "2024-05-10T20:22:54.326Z"
   },
   {
    "duration": 0,
    "start_time": "2024-05-10T20:22:54.327Z"
   },
   {
    "duration": 0,
    "start_time": "2024-05-10T20:22:54.328Z"
   },
   {
    "duration": 0,
    "start_time": "2024-05-10T20:22:54.329Z"
   },
   {
    "duration": 0,
    "start_time": "2024-05-10T20:22:54.345Z"
   },
   {
    "duration": 0,
    "start_time": "2024-05-10T20:22:54.346Z"
   },
   {
    "duration": 0,
    "start_time": "2024-05-10T20:22:54.347Z"
   },
   {
    "duration": 0,
    "start_time": "2024-05-10T20:22:54.348Z"
   },
   {
    "duration": 0,
    "start_time": "2024-05-10T20:22:54.349Z"
   },
   {
    "duration": 0,
    "start_time": "2024-05-10T20:22:54.350Z"
   },
   {
    "duration": 0,
    "start_time": "2024-05-10T20:22:54.351Z"
   },
   {
    "duration": 0,
    "start_time": "2024-05-10T20:22:54.352Z"
   },
   {
    "duration": 0,
    "start_time": "2024-05-10T20:22:54.353Z"
   },
   {
    "duration": 0,
    "start_time": "2024-05-10T20:22:54.355Z"
   },
   {
    "duration": 0,
    "start_time": "2024-05-10T20:22:54.356Z"
   },
   {
    "duration": 0,
    "start_time": "2024-05-10T20:22:54.357Z"
   },
   {
    "duration": 0,
    "start_time": "2024-05-10T20:22:54.359Z"
   },
   {
    "duration": 0,
    "start_time": "2024-05-10T20:22:54.360Z"
   },
   {
    "duration": 0,
    "start_time": "2024-05-10T20:22:54.361Z"
   },
   {
    "duration": 0,
    "start_time": "2024-05-10T20:22:54.363Z"
   },
   {
    "duration": 0,
    "start_time": "2024-05-10T20:22:54.364Z"
   },
   {
    "duration": 0,
    "start_time": "2024-05-10T20:22:54.365Z"
   },
   {
    "duration": 0,
    "start_time": "2024-05-10T20:22:54.367Z"
   },
   {
    "duration": 0,
    "start_time": "2024-05-10T20:22:54.368Z"
   },
   {
    "duration": 1144,
    "start_time": "2024-05-10T20:23:15.772Z"
   },
   {
    "duration": 0,
    "start_time": "2024-05-10T20:23:16.918Z"
   },
   {
    "duration": 0,
    "start_time": "2024-05-10T20:23:16.919Z"
   },
   {
    "duration": 0,
    "start_time": "2024-05-10T20:23:16.919Z"
   },
   {
    "duration": 0,
    "start_time": "2024-05-10T20:23:16.920Z"
   },
   {
    "duration": 0,
    "start_time": "2024-05-10T20:23:16.921Z"
   },
   {
    "duration": 0,
    "start_time": "2024-05-10T20:23:16.922Z"
   },
   {
    "duration": 0,
    "start_time": "2024-05-10T20:23:16.923Z"
   },
   {
    "duration": 0,
    "start_time": "2024-05-10T20:23:16.924Z"
   },
   {
    "duration": 0,
    "start_time": "2024-05-10T20:23:16.925Z"
   },
   {
    "duration": 0,
    "start_time": "2024-05-10T20:23:16.926Z"
   },
   {
    "duration": 0,
    "start_time": "2024-05-10T20:23:16.927Z"
   },
   {
    "duration": 0,
    "start_time": "2024-05-10T20:23:16.928Z"
   },
   {
    "duration": 0,
    "start_time": "2024-05-10T20:23:16.928Z"
   },
   {
    "duration": 0,
    "start_time": "2024-05-10T20:23:16.945Z"
   },
   {
    "duration": 0,
    "start_time": "2024-05-10T20:23:16.946Z"
   },
   {
    "duration": 0,
    "start_time": "2024-05-10T20:23:16.947Z"
   },
   {
    "duration": 0,
    "start_time": "2024-05-10T20:23:16.948Z"
   },
   {
    "duration": 0,
    "start_time": "2024-05-10T20:23:16.949Z"
   },
   {
    "duration": 0,
    "start_time": "2024-05-10T20:23:16.950Z"
   },
   {
    "duration": 0,
    "start_time": "2024-05-10T20:23:16.951Z"
   },
   {
    "duration": 0,
    "start_time": "2024-05-10T20:23:16.951Z"
   },
   {
    "duration": 0,
    "start_time": "2024-05-10T20:23:16.953Z"
   },
   {
    "duration": 0,
    "start_time": "2024-05-10T20:23:16.954Z"
   },
   {
    "duration": 0,
    "start_time": "2024-05-10T20:23:16.955Z"
   },
   {
    "duration": 0,
    "start_time": "2024-05-10T20:23:16.956Z"
   },
   {
    "duration": 0,
    "start_time": "2024-05-10T20:23:16.957Z"
   },
   {
    "duration": 0,
    "start_time": "2024-05-10T20:23:16.958Z"
   },
   {
    "duration": 0,
    "start_time": "2024-05-10T20:23:16.959Z"
   },
   {
    "duration": 0,
    "start_time": "2024-05-10T20:23:16.960Z"
   },
   {
    "duration": 0,
    "start_time": "2024-05-10T20:23:16.961Z"
   },
   {
    "duration": 0,
    "start_time": "2024-05-10T20:23:16.963Z"
   },
   {
    "duration": 0,
    "start_time": "2024-05-10T20:23:16.964Z"
   },
   {
    "duration": 0,
    "start_time": "2024-05-10T20:23:16.965Z"
   },
   {
    "duration": 0,
    "start_time": "2024-05-10T20:23:16.966Z"
   },
   {
    "duration": 3042,
    "start_time": "2024-05-10T20:24:26.988Z"
   },
   {
    "duration": 2213,
    "start_time": "2024-05-10T20:24:36.878Z"
   },
   {
    "duration": 1397,
    "start_time": "2024-05-10T20:24:39.093Z"
   },
   {
    "duration": 0,
    "start_time": "2024-05-10T20:24:40.493Z"
   },
   {
    "duration": 0,
    "start_time": "2024-05-10T20:24:40.494Z"
   },
   {
    "duration": 0,
    "start_time": "2024-05-10T20:24:40.495Z"
   },
   {
    "duration": 0,
    "start_time": "2024-05-10T20:24:40.496Z"
   },
   {
    "duration": 0,
    "start_time": "2024-05-10T20:24:40.497Z"
   },
   {
    "duration": 0,
    "start_time": "2024-05-10T20:24:40.498Z"
   },
   {
    "duration": 0,
    "start_time": "2024-05-10T20:24:40.499Z"
   },
   {
    "duration": 0,
    "start_time": "2024-05-10T20:24:40.501Z"
   },
   {
    "duration": 0,
    "start_time": "2024-05-10T20:24:40.502Z"
   },
   {
    "duration": 0,
    "start_time": "2024-05-10T20:24:40.503Z"
   },
   {
    "duration": 0,
    "start_time": "2024-05-10T20:24:40.504Z"
   },
   {
    "duration": 0,
    "start_time": "2024-05-10T20:24:40.505Z"
   },
   {
    "duration": 0,
    "start_time": "2024-05-10T20:24:40.506Z"
   },
   {
    "duration": 0,
    "start_time": "2024-05-10T20:24:40.507Z"
   },
   {
    "duration": 0,
    "start_time": "2024-05-10T20:24:40.508Z"
   },
   {
    "duration": 0,
    "start_time": "2024-05-10T20:24:40.509Z"
   },
   {
    "duration": 0,
    "start_time": "2024-05-10T20:24:40.510Z"
   },
   {
    "duration": 0,
    "start_time": "2024-05-10T20:24:40.511Z"
   },
   {
    "duration": 0,
    "start_time": "2024-05-10T20:24:40.512Z"
   },
   {
    "duration": 0,
    "start_time": "2024-05-10T20:24:40.513Z"
   },
   {
    "duration": 0,
    "start_time": "2024-05-10T20:24:40.544Z"
   },
   {
    "duration": 0,
    "start_time": "2024-05-10T20:24:40.545Z"
   },
   {
    "duration": 0,
    "start_time": "2024-05-10T20:24:40.546Z"
   },
   {
    "duration": 0,
    "start_time": "2024-05-10T20:24:40.547Z"
   },
   {
    "duration": 0,
    "start_time": "2024-05-10T20:24:40.548Z"
   },
   {
    "duration": 0,
    "start_time": "2024-05-10T20:24:40.549Z"
   },
   {
    "duration": 0,
    "start_time": "2024-05-10T20:24:40.550Z"
   },
   {
    "duration": 0,
    "start_time": "2024-05-10T20:24:40.551Z"
   },
   {
    "duration": 0,
    "start_time": "2024-05-10T20:24:40.552Z"
   },
   {
    "duration": 0,
    "start_time": "2024-05-10T20:24:40.552Z"
   },
   {
    "duration": 0,
    "start_time": "2024-05-10T20:24:40.553Z"
   },
   {
    "duration": 0,
    "start_time": "2024-05-10T20:24:40.554Z"
   },
   {
    "duration": 0,
    "start_time": "2024-05-10T20:24:40.555Z"
   },
   {
    "duration": 0,
    "start_time": "2024-05-10T20:24:40.556Z"
   },
   {
    "duration": 53,
    "start_time": "2024-05-10T20:26:49.999Z"
   },
   {
    "duration": 49,
    "start_time": "2024-05-10T20:26:56.681Z"
   },
   {
    "duration": 50,
    "start_time": "2024-05-10T20:27:04.216Z"
   },
   {
    "duration": 49,
    "start_time": "2024-05-10T20:27:16.107Z"
   },
   {
    "duration": 8514,
    "start_time": "2024-05-10T20:27:22.891Z"
   },
   {
    "duration": 4925,
    "start_time": "2024-05-10T20:27:57.277Z"
   },
   {
    "duration": 15,
    "start_time": "2024-05-10T20:28:05.785Z"
   }
  ],
  "kernelspec": {
   "display_name": "Python 3 (ipykernel)",
   "language": "python",
   "name": "python3"
  },
  "language_info": {
   "codemirror_mode": {
    "name": "ipython",
    "version": 3
   },
   "file_extension": ".py",
   "mimetype": "text/x-python",
   "name": "python",
   "nbconvert_exporter": "python",
   "pygments_lexer": "ipython3",
   "version": "3.12.3"
  },
  "toc": {
   "base_numbering": 1,
   "nav_menu": {
    "height": "12.2222px",
    "width": "160px"
   },
   "number_sections": true,
   "sideBar": true,
   "skip_h1_title": true,
   "title_cell": "Table of Contents",
   "title_sidebar": "Contents",
   "toc_cell": false,
   "toc_position": {},
   "toc_section_display": true,
   "toc_window_display": false
  }
 },
 "nbformat": 4,
 "nbformat_minor": 4
}
