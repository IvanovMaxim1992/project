{
 "cells": [
  {
   "cell_type": "markdown",
   "id": "20ee8a05",
   "metadata": {},
   "source": [
    "Привет, меня зовут Люман Аблаев. Сегодня я проверю твой проект.\n",
    "<br> Дальнейшее общение будет происходить на \"ты\" если это не вызывает никаких проблем.\n",
    "<br> Желательно реагировать на каждый мой комментарий ('исправил', 'не понятно как исправить ошибку', ...)\n",
    "<br> Пожалуйста, не удаляй комментарии ревьюера, так как они повышают качество повторного ревью.\n",
    "\n",
    "Комментарии будут в <font color='green'>зеленой</font>, <font color='blue'>синей</font> или <font color='red'>красной</font> рамках:\n",
    "\n",
    "<div class=\"alert alert-block alert-success\">\n",
    "<b>Успех:</b> Если все сделано отлично\n",
    "</div>\n",
    "\n",
    "<div class=\"alert alert-block alert-info\">\n",
    "<b>Совет: </b> Если можно немного улучшить\n",
    "</div>\n",
    "\n",
    "<div class=\"alert alert-block alert-danger\">\n",
    "<b>Ошибка:</b> Если требуются исправления. Работа не может быть принята с красными комментариями.\n",
    "</div>\n",
    "\n",
    "-------------------\n",
    "\n",
    "Будет очень хорошо, если ты будешь помечать свои действия следующим образом:\n",
    "\n",
    "<div class=\"alert alert-block alert-warning\">\n",
    "<b>Комментарий студента:</b> ..\n",
    "</div>\n",
    "<div class=\"alert alert-block alert-warning\">\n",
    "<b>Изменения:</b> Были внесены следующие изменения ...\n",
    "</div>\n",
    "\n",
    "\n",
    "<font color='orange' style='font-size:24px; font-weight:bold'>Общее впечатление</font>\n",
    "* Большое спасибо за проделанную работу. Видно, что приложено много усилий.\n",
    "- Приятное оформление выводов и структурированность кода в целом!  Приятно проверять такие работы.\n",
    "- Тебе удалось справиться с текущей задачей и достигнуть неплохих результатов, поздравляю!\n",
    "* Отправляю проект назад, если у тебя появились вопросы. Если их нет, то можешь просто отправить проект еще раз и я его зачту.\n",
    "\n",
    "\n"
   ]
  },
  {
   "cell_type": "markdown",
   "id": "GEqQaHzsZ_bA",
   "metadata": {
    "id": "GEqQaHzsZ_bA"
   },
   "source": [
    "# Предсказание стоимости жилья\n",
    "\n",
    "В проекте вам нужно обучить модель линейной регрессии на данных о жилье в Калифорнии в 1990 году. На основе данных нужно предсказать медианную стоимость дома в жилом массиве. Обучите модель и сделайте предсказания на тестовой выборке. Для оценки качества модели используйте метрики RMSE, MAE и R2."
   ]
  },
  {
   "cell_type": "markdown",
   "id": "a9c5baec",
   "metadata": {},
   "source": [
    "# Импорт необходимых библиотек"
   ]
  },
  {
   "cell_type": "code",
   "execution_count": 1,
   "id": "b3a91b5b",
   "metadata": {},
   "outputs": [],
   "source": [
    "from pyspark.sql import SparkSession\n",
    "from pyspark.sql.functions import col, when, isnan, count\n",
    "from pyspark.ml.feature import OneHotEncoder, StringIndexer, VectorAssembler, StandardScaler\n",
    "from pyspark.ml.regression import LinearRegression\n",
    "from pyspark.ml.evaluation import RegressionEvaluator\n",
    "from pyspark.ml import Pipeline"
   ]
  },
  {
   "cell_type": "markdown",
   "id": "331ed0b5",
   "metadata": {},
   "source": [
    "\n",
    "\n",
    "\n",
    "\n",
    "\n",
    "<div class=\"alert alert-block alert-success\">\n",
    "<b>Успех:</b> Импорты на месте\n",
    "</div>\n"
   ]
  },
  {
   "cell_type": "markdown",
   "id": "8807835d",
   "metadata": {},
   "source": [
    "## Инициализация локальной Spark-сессии\n"
   ]
  },
  {
   "cell_type": "code",
   "execution_count": 2,
   "id": "7c95d58c",
   "metadata": {},
   "outputs": [],
   "source": [
    "spark = SparkSession.builder \\\n",
    "                    .master(\"local\") \\\n",
    "                    .appName(\"housing_regression\") \\\n",
    "                    .getOrCreate()"
   ]
  },
  {
   "cell_type": "markdown",
   "id": "53871372",
   "metadata": {
    "id": "53871372"
   },
   "source": [
    "## Чтение содержимого файла\n"
   ]
  },
  {
   "cell_type": "code",
   "execution_count": 3,
   "id": "df92e3ec",
   "metadata": {
    "id": "df92e3ec"
   },
   "outputs": [
    {
     "name": "stderr",
     "output_type": "stream",
     "text": [
      "                                                                                \r"
     ]
    }
   ],
   "source": [
    "df = spark.read.csv(\"/datasets/housing.csv\", inferSchema=True, header=True)"
   ]
  },
  {
   "cell_type": "markdown",
   "id": "b78922b2",
   "metadata": {},
   "source": [
    "\n",
    "<div class=\"alert alert-block alert-success\">\n",
    "<b>Успех:</b> Данные успешно загружены.\n",
    "</div>\n"
   ]
  },
  {
   "cell_type": "markdown",
   "id": "9f0a82f3",
   "metadata": {
    "id": "9f0a82f3"
   },
   "source": [
    "## Вывод типов данных колонок датасета\n"
   ]
  },
  {
   "cell_type": "code",
   "execution_count": 4,
   "id": "bddb08c4",
   "metadata": {
    "id": "bddb08c4"
   },
   "outputs": [
    {
     "name": "stdout",
     "output_type": "stream",
     "text": [
      "root\n",
      " |-- longitude: double (nullable = true)\n",
      " |-- latitude: double (nullable = true)\n",
      " |-- housing_median_age: double (nullable = true)\n",
      " |-- total_rooms: double (nullable = true)\n",
      " |-- total_bedrooms: double (nullable = true)\n",
      " |-- population: double (nullable = true)\n",
      " |-- households: double (nullable = true)\n",
      " |-- median_income: double (nullable = true)\n",
      " |-- median_house_value: double (nullable = true)\n",
      " |-- ocean_proximity: string (nullable = true)\n",
      "\n"
     ]
    }
   ],
   "source": [
    "df.printSchema()"
   ]
  },
  {
   "cell_type": "code",
   "execution_count": 5,
   "id": "5d0a4e64",
   "metadata": {},
   "outputs": [
    {
     "name": "stdout",
     "output_type": "stream",
     "text": [
      "Количество строк в DataFrame:  20640\n"
     ]
    }
   ],
   "source": [
    "# Вывод количества строк в DataFrame\n",
    "print(\"Количество строк в DataFrame: \", df.count())\n"
   ]
  },
  {
   "cell_type": "markdown",
   "id": "757fd103",
   "metadata": {
    "id": "757fd103"
   },
   "source": [
    "## Предобработка данных\n",
    "### Исследование данных на наличие пропусков и их заполнение"
   ]
  },
  {
   "cell_type": "code",
   "execution_count": 6,
   "id": "563605d8",
   "metadata": {},
   "outputs": [
    {
     "name": "stdout",
     "output_type": "stream",
     "text": [
      "+--------------+\n",
      "|total_bedrooms|\n",
      "+--------------+\n",
      "|           207|\n",
      "+--------------+\n",
      "\n"
     ]
    }
   ],
   "source": [
    "# Проверка колонок датасета на пропуски и вывод только столбцов с пропусками\n",
    "missing_data = df.select([count(when(isnan(c) | col(c).isNull(), c)).alias(c) for c in df.columns])\n",
    "missing_data = missing_data.select([c for c in missing_data.columns if missing_data.select(c).first()[c] > 0])\n",
    "missing_data.show()\n"
   ]
  },
  {
   "cell_type": "code",
   "execution_count": 7,
   "id": "3b5e81ec",
   "metadata": {},
   "outputs": [
    {
     "name": "stdout",
     "output_type": "stream",
     "text": [
      "Количество строк в DataFrame после удаления пропусков:  20433\n"
     ]
    }
   ],
   "source": [
    "# Удаление строк с пропусками\n",
    "df = df.na.drop()\n",
    "\n",
    "# Проверка количества строк после удаления пропусков\n",
    "print(\"Количество строк в DataFrame после удаления пропусков: \", df.count())\n"
   ]
  },
  {
   "cell_type": "markdown",
   "id": "43b446bd",
   "metadata": {},
   "source": [
    "<div class=\"alert alert-block alert-success\">\n",
    "<b>Успех:</b> Идея с удалением - допустима, но если есть возможно - лучше обрабатывать\n",
    "</div>\n"
   ]
  },
  {
   "cell_type": "markdown",
   "id": "461862bc",
   "metadata": {},
   "source": [
    "<div class=\"alert alert-block alert-warning\">\n",
    "<b>Комментарий студента:</b> Не стал заполнять ибо сначала подумал что речь о квартире, а там зависит от многих других факторов такие как площать и количества комнат))) хотя даже если о жилом комплексе сильно может вальироваться(мб студий много и всё такое) а вы нас пока не научили делать в спарке тоже исследование, так что так и так проще удалить раз их всего 207\n",
    "</div>"
   ]
  },
  {
   "cell_type": "markdown",
   "id": "a037af3b",
   "metadata": {},
   "source": [
    "\n",
    "<div class=\"alert alert-block alert-success\">\n",
    "<b>Успех[2]: </b> Принял. Для заполнения пропусков можно использовать <a href=\"https://spark.apache.org/docs/latest/api/python/reference/api/pyspark.ml.feature.Imputer.html\">Imputer</a>\n",
    "</div>\n"
   ]
  },
  {
   "cell_type": "code",
   "execution_count": 8,
   "id": "7aee565a",
   "metadata": {
    "scrolled": true
   },
   "outputs": [
    {
     "name": "stderr",
     "output_type": "stream",
     "text": [
      "                                                                                \r"
     ]
    },
    {
     "data": {
      "text/html": [
       "<div>\n",
       "<style scoped>\n",
       "    .dataframe tbody tr th:only-of-type {\n",
       "        vertical-align: middle;\n",
       "    }\n",
       "\n",
       "    .dataframe tbody tr th {\n",
       "        vertical-align: top;\n",
       "    }\n",
       "\n",
       "    .dataframe thead th {\n",
       "        text-align: right;\n",
       "    }\n",
       "</style>\n",
       "<table border=\"1\" class=\"dataframe\">\n",
       "  <thead>\n",
       "    <tr style=\"text-align: right;\">\n",
       "      <th></th>\n",
       "      <th>summary</th>\n",
       "      <th>longitude</th>\n",
       "      <th>latitude</th>\n",
       "      <th>housing_median_age</th>\n",
       "      <th>total_rooms</th>\n",
       "      <th>total_bedrooms</th>\n",
       "      <th>population</th>\n",
       "      <th>households</th>\n",
       "      <th>median_income</th>\n",
       "      <th>median_house_value</th>\n",
       "      <th>ocean_proximity</th>\n",
       "    </tr>\n",
       "  </thead>\n",
       "  <tbody>\n",
       "    <tr>\n",
       "      <th>0</th>\n",
       "      <td>count</td>\n",
       "      <td>20433</td>\n",
       "      <td>20433</td>\n",
       "      <td>20433</td>\n",
       "      <td>20433</td>\n",
       "      <td>20433</td>\n",
       "      <td>20433</td>\n",
       "      <td>20433</td>\n",
       "      <td>20433</td>\n",
       "      <td>20433</td>\n",
       "      <td>20433</td>\n",
       "    </tr>\n",
       "    <tr>\n",
       "      <th>1</th>\n",
       "      <td>mean</td>\n",
       "      <td>-119.57068859198068</td>\n",
       "      <td>35.63322125972706</td>\n",
       "      <td>28.633093525179856</td>\n",
       "      <td>2636.5042333480155</td>\n",
       "      <td>537.8705525375618</td>\n",
       "      <td>1424.9469485635982</td>\n",
       "      <td>499.43346547251997</td>\n",
       "      <td>3.8711616013312273</td>\n",
       "      <td>206864.41315519012</td>\n",
       "      <td>None</td>\n",
       "    </tr>\n",
       "    <tr>\n",
       "      <th>2</th>\n",
       "      <td>stddev</td>\n",
       "      <td>2.003577890751096</td>\n",
       "      <td>2.1363476663779872</td>\n",
       "      <td>12.591805202182835</td>\n",
       "      <td>2185.269566977601</td>\n",
       "      <td>421.38507007403115</td>\n",
       "      <td>1133.2084897449597</td>\n",
       "      <td>382.2992258828481</td>\n",
       "      <td>1.899291249306247</td>\n",
       "      <td>115435.66709858322</td>\n",
       "      <td>None</td>\n",
       "    </tr>\n",
       "    <tr>\n",
       "      <th>3</th>\n",
       "      <td>min</td>\n",
       "      <td>-124.35</td>\n",
       "      <td>32.54</td>\n",
       "      <td>1.0</td>\n",
       "      <td>2.0</td>\n",
       "      <td>1.0</td>\n",
       "      <td>3.0</td>\n",
       "      <td>1.0</td>\n",
       "      <td>0.4999</td>\n",
       "      <td>14999.0</td>\n",
       "      <td>&lt;1H OCEAN</td>\n",
       "    </tr>\n",
       "    <tr>\n",
       "      <th>4</th>\n",
       "      <td>max</td>\n",
       "      <td>-114.31</td>\n",
       "      <td>41.95</td>\n",
       "      <td>52.0</td>\n",
       "      <td>39320.0</td>\n",
       "      <td>6445.0</td>\n",
       "      <td>35682.0</td>\n",
       "      <td>6082.0</td>\n",
       "      <td>15.0001</td>\n",
       "      <td>500001.0</td>\n",
       "      <td>NEAR OCEAN</td>\n",
       "    </tr>\n",
       "  </tbody>\n",
       "</table>\n",
       "</div>"
      ],
      "text/plain": [
       "  summary            longitude            latitude  housing_median_age  \\\n",
       "0   count                20433               20433               20433   \n",
       "1    mean  -119.57068859198068   35.63322125972706  28.633093525179856   \n",
       "2  stddev    2.003577890751096  2.1363476663779872  12.591805202182835   \n",
       "3     min              -124.35               32.54                 1.0   \n",
       "4     max              -114.31               41.95                52.0   \n",
       "\n",
       "          total_rooms      total_bedrooms          population  \\\n",
       "0               20433               20433               20433   \n",
       "1  2636.5042333480155   537.8705525375618  1424.9469485635982   \n",
       "2   2185.269566977601  421.38507007403115  1133.2084897449597   \n",
       "3                 2.0                 1.0                 3.0   \n",
       "4             39320.0              6445.0             35682.0   \n",
       "\n",
       "           households       median_income  median_house_value ocean_proximity  \n",
       "0               20433               20433               20433           20433  \n",
       "1  499.43346547251997  3.8711616013312273  206864.41315519012            None  \n",
       "2   382.2992258828481   1.899291249306247  115435.66709858322            None  \n",
       "3                 1.0              0.4999             14999.0       <1H OCEAN  \n",
       "4              6082.0             15.0001            500001.0      NEAR OCEAN  "
      ]
     },
     "execution_count": 8,
     "metadata": {},
     "output_type": "execute_result"
    }
   ],
   "source": [
    "df.describe().toPandas() "
   ]
  },
  {
   "cell_type": "markdown",
   "id": "03467397",
   "metadata": {},
   "source": [
    "<div class=\"alert alert-block alert-success\">\n",
    "<b>Успех:</b> Отлично! Выведены типы данных и информация о колонках и toPAndas использован к аггрегированной таблице.\n",
    "</div>"
   ]
  },
  {
   "cell_type": "markdown",
   "id": "f94cd08f",
   "metadata": {},
   "source": [
    "### Преобразование"
   ]
  },
  {
   "cell_type": "markdown",
   "id": "e825bed1",
   "metadata": {},
   "source": [
    "#### Создаем индексатор и кодировщик для категориальных колонок"
   ]
  },
  {
   "cell_type": "code",
   "execution_count": 29,
   "id": "b8fd742a",
   "metadata": {},
   "outputs": [],
   "source": [
    "# Преобразование категориальной колонки с помощью One Hot Encoding\n",
    "indexer = StringIndexer(inputCol=\"ocean_proximity\", outputCol=\"ocean_proximity_index\")\n",
    "encoder = OneHotEncoder(inputCols=[\"ocean_proximity_index\"], outputCols=[\"ocean_proximity_vec\"])"
   ]
  },
  {
   "cell_type": "markdown",
   "id": "ac5bb26d",
   "metadata": {},
   "source": [
    "#### Создаем StandardScaler для каждой числовой колонки"
   ]
  },
  {
   "cell_type": "code",
   "execution_count": 30,
   "id": "0d262efb",
   "metadata": {},
   "outputs": [],
   "source": [
    "# Масштабирование числовых признаков\n",
    "assembler = VectorAssembler(inputCols=['longitude', 'latitude', 'housing_median_age', 'total_rooms', 'total_bedrooms', 'population', 'households', 'median_income', 'ocean_proximity_vec'], outputCol=\"features\")\n",
    "scaler = StandardScaler(inputCol=\"features\", outputCol=\"scaledFeatures\")"
   ]
  },
  {
   "cell_type": "markdown",
   "id": "eb94ee75",
   "metadata": {},
   "source": [
    "### Разделение данных на обучающую и тестовую выборки"
   ]
  },
  {
   "cell_type": "code",
   "execution_count": 31,
   "id": "44b73cc9",
   "metadata": {},
   "outputs": [],
   "source": [
    "train_data, test_data = df.randomSplit([.8,.2], seed=13)"
   ]
  },
  {
   "cell_type": "markdown",
   "id": "c11c90a9",
   "metadata": {},
   "source": [
    "## Построение моделей линейной регрессии\n",
    "### Модель с использованием всех данных из файла\n"
   ]
  },
  {
   "cell_type": "code",
   "execution_count": 32,
   "id": "ce0c7291",
   "metadata": {
    "scrolled": true
   },
   "outputs": [
    {
     "name": "stderr",
     "output_type": "stream",
     "text": [
      "24/04/18 07:02:17 WARN Instrumentation: [f23cd1dd] regParam is zero, which might cause numerical instability and overfitting.\n"
     ]
    }
   ],
   "source": [
    "# Построение модели линейной регрессии\n",
    "lr = LinearRegression(featuresCol='scaledFeatures', labelCol='median_house_value')\n",
    "\n",
    "# Пайплайн для обработки данных и обучения модели\n",
    "pipeline = Pipeline(stages=[indexer, encoder, assembler, scaler, lr])\n",
    "\n",
    "# Обучение модели на всех данных\n",
    "model = pipeline.fit(train_data)\n"
   ]
  },
  {
   "cell_type": "markdown",
   "id": "c17e1b49",
   "metadata": {},
   "source": [
    "<div class=\"alert alert-block alert-success\">\n",
    "<b>Успех:</b> Лайк за пайплайн - все препроцессоры будут успешно обучены без утечек информации.\n",
    "</div>"
   ]
  },
  {
   "cell_type": "markdown",
   "id": "bae658c3",
   "metadata": {},
   "source": [
    "### Модель с использованием только числовых переменных\n"
   ]
  },
  {
   "cell_type": "code",
   "execution_count": 33,
   "id": "8ba4df23",
   "metadata": {},
   "outputs": [
    {
     "name": "stderr",
     "output_type": "stream",
     "text": [
      "24/04/18 07:02:19 WARN Instrumentation: [f2d64d79] regParam is zero, which might cause numerical instability and overfitting.\n"
     ]
    }
   ],
   "source": [
    "# Построение модели только на числовых переменных\n",
    "assembler_num = VectorAssembler(inputCols=['longitude', 'latitude', 'housing_median_age', 'total_rooms', 'total_bedrooms', 'population', 'households', 'median_income'], outputCol=\"features\")\n",
    "pipeline_num = Pipeline(stages=[assembler_num, scaler, lr])\n",
    "\n",
    "# Обучение модели только на числовых переменных\n",
    "model_num = pipeline_num.fit(train_data)"
   ]
  },
  {
   "cell_type": "markdown",
   "id": "e2fe5b99",
   "metadata": {},
   "source": [
    "\n",
    "<div class=\"alert alert-block alert-success\">\n",
    "<b>Успех: </b> Обучены две модели в соответствии с заданием.\n",
    "</div>\n"
   ]
  },
  {
   "cell_type": "markdown",
   "id": "96bc77eb",
   "metadata": {},
   "source": [
    "<div class=\"alert alert-block alert-warning\">\n",
    "<b>Комментарий студента:</b> \n",
    "    сильно смущает, что с этим обычно делают?\n",
    "    \n",
    "    24/04/17 15:46:33 WARN Instrumentation: [fa7f1a5b] regParam is zero, which might cause numerical instability and overfitting.\n",
    "    \n",
    "    24/04/17 15:46:33 WARN BLAS: Failed to load implementation from: com.github.fommil.netlib.NativeSystemBLAS\n",
    "    \n",
    "    24/04/17 15:46:33 WARN BLAS: Failed to load implementation from: com.github.fommil.netlib.NativeRefBLAS\n",
    "    \n",
    "    24/04/17 15:46:34 WARN LAPACK: Failed to load implementation from: com.github.fommil.netlib.NativeSystemLAPACK\n",
    "    \n",
    "    24/04/17 15:46:34 WARN LAPACK: Failed to load implementation from: com.github.fommil.netlib.NativeRefLAPACK\n",
    "</div>"
   ]
  },
  {
   "cell_type": "markdown",
   "id": "355c1c8b",
   "metadata": {},
   "source": [
    "\n",
    "<div class=\"alert alert-block alert-success\">\n",
    "<b>Ответ[2]: </b> Устанавливают regParam=0.01 например для линейной регресии. А вот следующие логи я запредпродюсить не смог - связано как-будто с библиотеками.\n",
    "</div>\n"
   ]
  },
  {
   "cell_type": "markdown",
   "id": "87354199",
   "metadata": {},
   "source": [
    "## Сравнение результатов работы линейной регрессии\n"
   ]
  },
  {
   "cell_type": "code",
   "execution_count": 34,
   "id": "2411f823",
   "metadata": {},
   "outputs": [
    {
     "name": "stdout",
     "output_type": "stream",
     "text": [
      "RMSE: 68209.9896597888\n",
      "MAE: 49734.5085422155\n",
      "R2: 0.6503048673505825\n"
     ]
    }
   ],
   "source": [
    "predictions = model.transform(test_data)\n",
    "\n",
    "# Оценка качества модели\n",
    "evaluator = RegressionEvaluator(labelCol=\"median_house_value\", predictionCol=\"prediction\", metricName=\"rmse\")\n",
    "rmse = evaluator.evaluate(predictions)\n",
    "evaluator = RegressionEvaluator(labelCol=\"median_house_value\", predictionCol=\"prediction\", metricName=\"mae\")\n",
    "mae = evaluator.evaluate(predictions)\n",
    "evaluator = RegressionEvaluator(labelCol=\"median_house_value\", predictionCol=\"prediction\", metricName=\"r2\")\n",
    "r2 = evaluator.evaluate(predictions)\n",
    "\n",
    "print(f\"RMSE: {rmse}\")\n",
    "print(f\"MAE: {mae}\")\n",
    "print(f\"R2: {r2}\")"
   ]
  },
  {
   "cell_type": "code",
   "execution_count": 35,
   "id": "bdbc96ed",
   "metadata": {
    "scrolled": true
   },
   "outputs": [
    {
     "name": "stdout",
     "output_type": "stream",
     "text": [
      "RMSE (только числовые переменные): 69020.29866042463\n",
      "MAE (только числовые переменные): 50662.23830843402\n",
      "R2 (только числовые переменные): 0.6419470233876452\n"
     ]
    }
   ],
   "source": [
    "predictions_num = model_num.transform(test_data)\n",
    "\n",
    "# Оценка качества модели только на числовых переменных\n",
    "rmse_num = evaluator.evaluate(predictions_num, {evaluator.metricName: \"rmse\"})\n",
    "mae_num = evaluator.evaluate(predictions_num, {evaluator.metricName: \"mae\"})\n",
    "r2_num = evaluator.evaluate(predictions_num, {evaluator.metricName: \"r2\"})\n",
    "\n",
    "print(f\"RMSE (только числовые переменные): {rmse_num}\")\n",
    "print(f\"MAE (только числовые переменные): {mae_num}\")\n",
    "print(f\"R2 (только числовые переменные): {r2_num}\")\n",
    "\n"
   ]
  },
  {
   "cell_type": "code",
   "execution_count": 36,
   "id": "77e108c0",
   "metadata": {},
   "outputs": [
    {
     "name": "stdout",
     "output_type": "stream",
     "text": [
      "Модель со всеми данными показывает лучший результат по метрике RMSE.\n",
      "Модель со всеми данными показывает лучший результат по метрике MAE.\n",
      "Модель со всеми данными показывает лучший результат по метрике R2.\n"
     ]
    }
   ],
   "source": [
    "# Сравнение результатов моделей\n",
    "if rmse < rmse_num:\n",
    "    print(\"Модель со всеми данными показывает лучший результат по метрике RMSE.\")\n",
    "else:\n",
    "    print(\"Модель только с числовыми переменными показывает лучший результат по метрике RMSE.\")\n",
    "\n",
    "if mae < mae_num:\n",
    "    print(\"Модель со всеми данными показывает лучший результат по метрике MAE.\")\n",
    "else:\n",
    "    print(\"Модель только с числовыми переменными показывает лучший результат по метрике MAE.\")\n",
    "\n",
    "if r2 > r2_num:\n",
    "    print(\"Модель со всеми данными показывает лучший результат по метрике R2.\")\n",
    "else:\n",
    "    print(\"Модель только с числовыми переменными показывает лучший результат по метрике R2.\")\n"
   ]
  },
  {
   "cell_type": "code",
   "execution_count": 37,
   "id": "d7dca344",
   "metadata": {},
   "outputs": [
    {
     "name": "stdout",
     "output_type": "stream",
     "text": [
      "Разница RMSE: -810.3090006358252\n",
      "Разница MAE: -927.7297662185156\n",
      "Разница R2: 0.008357843962937261\n"
     ]
    }
   ],
   "source": [
    "# Сравнение результатов\n",
    "print(f\"Разница RMSE: {rmse - rmse_num}\")\n",
    "print(f\"Разница MAE: {mae - mae_num}\")\n",
    "print(f\"Разница R2: {r2 - r2_num}\")\n",
    "\n",
    "# Завершение Spark сессии\n",
    "spark.stop()"
   ]
  },
  {
   "cell_type": "markdown",
   "id": "d31bfa1d",
   "metadata": {},
   "source": [
    "**Общий вывод о проделанной работе и результатах:**\n",
    "\n",
    "В ходе проекта была выполнена работа по обучению модели линейной регрессии для предсказания медианной стоимости жилья в Калифорнии на основе данных 1990 года. Были выполнены следующие этапы:\n",
    "\n",
    "1. **Инициализация Spark-сессии** и чтение данных из файла.\n",
    "2. **Предобработка данных**, включая обработку пропусков и преобразование категориальных переменных с помощью One Hot Encoding.\n",
    "3. **Масштабирование числовых признаков** и разделение данных на обучающую и тестовую выборки.\n",
    "4. **Построение двух моделей линейной регрессии**: одна с использованием всех данных, вторая — только на числовых переменных.\n",
    "5. **Оценка качества моделей** с помощью метрик RMSE, MAE и R2.\n",
    "\n",
    "**Результаты:**\n",
    "- Модель, обученная на всех данных, показала лучшие результаты по всем метрикам по сравнению с моделью, обученной только на числовых переменных:\n",
    "  - **RMSE**: 68209.99 против 69020.30\n",
    "  - **MAE**: 49734.51 против 50662.24\n",
    "  - **R2**: 0.6503 против 0.6419\n",
    "\n",
    "Это говорит о том, что включение категориальных переменных после их преобразования в числовые улучшает точность модели. В целом, модель справилась с задачей предсказания стоимости жилья, хотя есть потенциал для дальнейшего улучшения показателей, возможно, за счет более сложных методов обработки данных или использования других алгоритмов машинного обучения.\n",
    "\n",
    "После завершения работы с моделью Spark-сессия была корректно закрыта."
   ]
  },
  {
   "cell_type": "markdown",
   "id": "d30409c4",
   "metadata": {},
   "source": [
    "<div class=\"alert alert-block alert-success\">\n",
    "<b>Успех: </b> Все метрики корректно вычислены и проаналазированы, молодец!\n",
    "</div>\n"
   ]
  },
  {
   "cell_type": "markdown",
   "id": "78c7ea0c",
   "metadata": {},
   "source": [
    "<div class=\"alert alert-block alert-warning\">\n",
    "<b>Комментарий студента:</b> П.С. Проект можно зачесть я всёравно даже принятые захожу читаю коменты ревьюера, вы обычно полузную информацию всегда пишите даже если замечаний нет😁👍\n",
    "</div>"
   ]
  },
  {
   "cell_type": "markdown",
   "id": "5bb50605",
   "metadata": {},
   "source": [
    "<div class=\"alert alert-block alert-success\">\n",
    "    \n",
    "    \n",
    "<b>Успех[2]:</b> 🤝 Вот тебе немного полезного материала по теме:\n",
    "\n",
    "    \n",
    "- https://sparkbyexamples.com/pyspark-tutorial/\n",
    "- https://sparkbyexamples.com/\n",
    "- https://github.com/dvgodoy/handyspark\n",
    "- https://www.tutorialspoint.com/pyspark/index.htm\n",
    "- https://www.guru99.com/pyspark-tutorial.html\n",
    "- https://databricks.com/spark/getting-started-with-apache-spark/machine-learning#load-sample-data\n",
    "- https://www.geeksforgeeks.org/hadoop-tutorial/\n",
    "</div>\n"
   ]
  }
 ],
 "metadata": {
  "ExecuteTimeLog": [
   {
    "duration": 36032,
    "start_time": "2024-04-17T10:32:06.911Z"
   },
   {
    "duration": 210,
    "start_time": "2024-04-17T11:01:58.198Z"
   },
   {
    "duration": 448,
    "start_time": "2024-04-17T11:02:04.990Z"
   },
   {
    "duration": 13866,
    "start_time": "2024-04-17T11:02:05.440Z"
   },
   {
    "duration": 6604,
    "start_time": "2024-04-17T11:02:19.308Z"
   },
   {
    "duration": 460,
    "start_time": "2024-04-17T11:03:33.668Z"
   },
   {
    "duration": 13796,
    "start_time": "2024-04-17T11:03:34.130Z"
   },
   {
    "duration": 6894,
    "start_time": "2024-04-17T11:03:47.928Z"
   },
   {
    "duration": 16,
    "start_time": "2024-04-17T11:03:54.824Z"
   },
   {
    "duration": 1238,
    "start_time": "2024-04-17T11:03:54.903Z"
   },
   {
    "duration": 454,
    "start_time": "2024-04-17T11:07:37.482Z"
   },
   {
    "duration": 13798,
    "start_time": "2024-04-17T11:07:37.938Z"
   },
   {
    "duration": 6677,
    "start_time": "2024-04-17T11:07:51.738Z"
   },
   {
    "duration": 11,
    "start_time": "2024-04-17T11:07:58.417Z"
   },
   {
    "duration": 1199,
    "start_time": "2024-04-17T11:07:58.430Z"
   },
   {
    "duration": 95,
    "start_time": "2024-04-17T11:07:59.631Z"
   },
   {
    "duration": 4796,
    "start_time": "2024-04-17T11:07:59.727Z"
   },
   {
    "duration": 1787,
    "start_time": "2024-04-17T11:08:04.524Z"
   },
   {
    "duration": 2375,
    "start_time": "2024-04-17T11:08:06.312Z"
   },
   {
    "duration": 412,
    "start_time": "2024-04-17T11:09:51.424Z"
   },
   {
    "duration": 14190,
    "start_time": "2024-04-17T11:09:51.838Z"
   },
   {
    "duration": 6536,
    "start_time": "2024-04-17T11:10:06.030Z"
   },
   {
    "duration": 13,
    "start_time": "2024-04-17T11:10:12.601Z"
   },
   {
    "duration": 1385,
    "start_time": "2024-04-17T11:10:12.616Z"
   },
   {
    "duration": 36,
    "start_time": "2024-04-17T11:10:14.003Z"
   },
   {
    "duration": 4616,
    "start_time": "2024-04-17T11:10:14.101Z"
   },
   {
    "duration": 1697,
    "start_time": "2024-04-17T11:10:18.719Z"
   },
   {
    "duration": 2550,
    "start_time": "2024-04-17T11:10:20.417Z"
   },
   {
    "duration": 442,
    "start_time": "2024-04-17T11:19:46.989Z"
   },
   {
    "duration": 13771,
    "start_time": "2024-04-17T11:19:47.433Z"
   },
   {
    "duration": 6812,
    "start_time": "2024-04-17T11:20:01.206Z"
   },
   {
    "duration": 12,
    "start_time": "2024-04-17T11:20:08.019Z"
   },
   {
    "duration": 1269,
    "start_time": "2024-04-17T11:20:08.033Z"
   },
   {
    "duration": 35,
    "start_time": "2024-04-17T11:20:09.303Z"
   },
   {
    "duration": 81,
    "start_time": "2024-04-17T11:20:09.340Z"
   },
   {
    "duration": 81,
    "start_time": "2024-04-17T11:20:09.422Z"
   },
   {
    "duration": 0,
    "start_time": "2024-04-17T11:20:09.504Z"
   },
   {
    "duration": 0,
    "start_time": "2024-04-17T11:20:09.505Z"
   },
   {
    "duration": 5588,
    "start_time": "2024-04-17T11:20:27.733Z"
   },
   {
    "duration": 461,
    "start_time": "2024-04-17T11:20:36.966Z"
   },
   {
    "duration": 13919,
    "start_time": "2024-04-17T11:20:37.429Z"
   },
   {
    "duration": 6717,
    "start_time": "2024-04-17T11:20:51.401Z"
   },
   {
    "duration": 13,
    "start_time": "2024-04-17T11:20:58.120Z"
   },
   {
    "duration": 1493,
    "start_time": "2024-04-17T11:20:58.135Z"
   },
   {
    "duration": 98,
    "start_time": "2024-04-17T11:20:59.629Z"
   },
   {
    "duration": 79,
    "start_time": "2024-04-17T11:20:59.729Z"
   },
   {
    "duration": 5626,
    "start_time": "2024-04-17T11:20:59.809Z"
   },
   {
    "duration": 1996,
    "start_time": "2024-04-17T11:21:05.437Z"
   },
   {
    "duration": 2737,
    "start_time": "2024-04-17T11:21:07.501Z"
   },
   {
    "duration": 402,
    "start_time": "2024-04-17T11:35:38.927Z"
   },
   {
    "duration": 13609,
    "start_time": "2024-04-17T11:35:39.331Z"
   },
   {
    "duration": 6875,
    "start_time": "2024-04-17T11:35:52.942Z"
   },
   {
    "duration": 14,
    "start_time": "2024-04-17T11:35:59.819Z"
   },
   {
    "duration": 1307,
    "start_time": "2024-04-17T11:35:59.835Z"
   },
   {
    "duration": 26,
    "start_time": "2024-04-17T11:36:01.202Z"
   },
   {
    "duration": 83,
    "start_time": "2024-04-17T11:36:01.230Z"
   },
   {
    "duration": 4720,
    "start_time": "2024-04-17T11:36:01.315Z"
   },
   {
    "duration": 712,
    "start_time": "2024-04-17T11:36:06.102Z"
   },
   {
    "duration": 0,
    "start_time": "2024-04-17T11:36:06.815Z"
   },
   {
    "duration": 392,
    "start_time": "2024-04-17T11:36:17.545Z"
   },
   {
    "duration": 13866,
    "start_time": "2024-04-17T11:36:17.940Z"
   },
   {
    "duration": 7004,
    "start_time": "2024-04-17T11:36:31.807Z"
   },
   {
    "duration": 12,
    "start_time": "2024-04-17T11:36:38.813Z"
   },
   {
    "duration": 1576,
    "start_time": "2024-04-17T11:36:38.827Z"
   },
   {
    "duration": 25,
    "start_time": "2024-04-17T11:36:40.405Z"
   },
   {
    "duration": 79,
    "start_time": "2024-04-17T11:36:40.431Z"
   },
   {
    "duration": 5822,
    "start_time": "2024-04-17T11:36:40.511Z"
   },
   {
    "duration": 1897,
    "start_time": "2024-04-17T11:36:46.335Z"
   },
   {
    "duration": 2630,
    "start_time": "2024-04-17T11:36:48.234Z"
   },
   {
    "duration": 1811,
    "start_time": "2024-04-17T11:41:18.419Z"
   },
   {
    "duration": 415,
    "start_time": "2024-04-17T11:41:29.316Z"
   },
   {
    "duration": 14089,
    "start_time": "2024-04-17T11:41:29.732Z"
   },
   {
    "duration": 6608,
    "start_time": "2024-04-17T11:41:43.823Z"
   },
   {
    "duration": 11,
    "start_time": "2024-04-17T11:41:50.433Z"
   },
   {
    "duration": 1228,
    "start_time": "2024-04-17T11:41:50.505Z"
   },
   {
    "duration": 97,
    "start_time": "2024-04-17T11:41:51.735Z"
   },
   {
    "duration": 77,
    "start_time": "2024-04-17T11:41:51.834Z"
   },
   {
    "duration": 5892,
    "start_time": "2024-04-17T11:41:51.912Z"
   },
   {
    "duration": 1998,
    "start_time": "2024-04-17T11:41:57.806Z"
   },
   {
    "duration": 2637,
    "start_time": "2024-04-17T11:41:59.805Z"
   },
   {
    "duration": 1886,
    "start_time": "2024-04-17T11:42:23.326Z"
   },
   {
    "duration": 445,
    "start_time": "2024-04-17T11:43:07.793Z"
   },
   {
    "duration": 14075,
    "start_time": "2024-04-17T11:43:08.241Z"
   },
   {
    "duration": 6601,
    "start_time": "2024-04-17T11:43:22.319Z"
   },
   {
    "duration": 11,
    "start_time": "2024-04-17T11:43:28.921Z"
   },
   {
    "duration": 1399,
    "start_time": "2024-04-17T11:43:28.934Z"
   },
   {
    "duration": 100,
    "start_time": "2024-04-17T11:43:30.335Z"
   },
   {
    "duration": 75,
    "start_time": "2024-04-17T11:43:30.437Z"
   },
   {
    "duration": 5720,
    "start_time": "2024-04-17T11:43:30.513Z"
   },
   {
    "duration": 1912,
    "start_time": "2024-04-17T11:43:36.303Z"
   },
   {
    "duration": 2386,
    "start_time": "2024-04-17T11:43:38.217Z"
   },
   {
    "duration": 427,
    "start_time": "2024-04-17T11:52:18.307Z"
   },
   {
    "duration": 14189,
    "start_time": "2024-04-17T11:52:18.736Z"
   },
   {
    "duration": 6837,
    "start_time": "2024-04-17T11:52:32.927Z"
   },
   {
    "duration": 12,
    "start_time": "2024-04-17T11:52:39.802Z"
   },
   {
    "duration": 1323,
    "start_time": "2024-04-17T11:52:39.815Z"
   },
   {
    "duration": 90,
    "start_time": "2024-04-17T11:52:41.139Z"
   },
   {
    "duration": 83,
    "start_time": "2024-04-17T11:52:41.231Z"
   },
   {
    "duration": 2900,
    "start_time": "2024-04-17T11:52:41.315Z"
   },
   {
    "duration": 0,
    "start_time": "2024-04-17T11:52:44.216Z"
   },
   {
    "duration": 0,
    "start_time": "2024-04-17T11:52:44.217Z"
   },
   {
    "duration": 959,
    "start_time": "2024-04-17T11:53:16.566Z"
   },
   {
    "duration": 3936,
    "start_time": "2024-04-17T11:53:37.469Z"
   },
   {
    "duration": 414,
    "start_time": "2024-04-17T11:54:37.218Z"
   },
   {
    "duration": 14388,
    "start_time": "2024-04-17T11:54:37.634Z"
   },
   {
    "duration": 7584,
    "start_time": "2024-04-17T11:54:52.024Z"
   },
   {
    "duration": 12,
    "start_time": "2024-04-17T11:54:59.610Z"
   },
   {
    "duration": 1397,
    "start_time": "2024-04-17T11:54:59.624Z"
   },
   {
    "duration": 80,
    "start_time": "2024-04-17T11:55:01.023Z"
   },
   {
    "duration": 121,
    "start_time": "2024-04-17T11:55:01.104Z"
   },
   {
    "duration": 6292,
    "start_time": "2024-04-17T11:55:01.226Z"
   },
   {
    "duration": 2190,
    "start_time": "2024-04-17T11:55:07.519Z"
   },
   {
    "duration": 2517,
    "start_time": "2024-04-17T11:55:09.711Z"
   },
   {
    "duration": 8,
    "start_time": "2024-04-17T11:56:44.014Z"
   },
   {
    "duration": 54,
    "start_time": "2024-04-17T11:57:02.496Z"
   },
   {
    "duration": 2,
    "start_time": "2024-04-17T12:05:47.500Z"
   },
   {
    "duration": 2,
    "start_time": "2024-04-17T12:05:48.297Z"
   },
   {
    "duration": 460,
    "start_time": "2024-04-17T12:05:48.942Z"
   },
   {
    "duration": 3,
    "start_time": "2024-04-17T12:05:50.118Z"
   },
   {
    "duration": 844,
    "start_time": "2024-04-17T12:05:52.284Z"
   },
   {
    "duration": 2744,
    "start_time": "2024-04-17T12:07:19.762Z"
   },
   {
    "duration": 119,
    "start_time": "2024-04-17T12:10:57.266Z"
   },
   {
    "duration": 2,
    "start_time": "2024-04-17T12:12:17.835Z"
   },
   {
    "duration": 3,
    "start_time": "2024-04-17T12:12:18.518Z"
   },
   {
    "duration": 298,
    "start_time": "2024-04-17T12:12:18.934Z"
   },
   {
    "duration": 3,
    "start_time": "2024-04-17T12:12:19.657Z"
   },
   {
    "duration": 138,
    "start_time": "2024-04-17T12:12:20.190Z"
   },
   {
    "duration": 2210,
    "start_time": "2024-04-17T12:12:22.200Z"
   },
   {
    "duration": 271,
    "start_time": "2024-04-17T12:12:24.412Z"
   },
   {
    "duration": 10,
    "start_time": "2024-04-17T12:25:53.216Z"
   },
   {
    "duration": 8,
    "start_time": "2024-04-17T12:25:54.091Z"
   },
   {
    "duration": 2680,
    "start_time": "2024-04-17T12:25:54.736Z"
   },
   {
    "duration": 1419,
    "start_time": "2024-04-17T12:26:21.598Z"
   },
   {
    "duration": 1749,
    "start_time": "2024-04-17T12:26:32.264Z"
   },
   {
    "duration": 490,
    "start_time": "2024-04-17T12:31:08.420Z"
   },
   {
    "duration": 13936,
    "start_time": "2024-04-17T12:31:08.912Z"
   },
   {
    "duration": 6560,
    "start_time": "2024-04-17T12:31:22.850Z"
   },
   {
    "duration": 11,
    "start_time": "2024-04-17T12:31:29.412Z"
   },
   {
    "duration": 900,
    "start_time": "2024-04-17T12:31:29.427Z"
   },
   {
    "duration": 4702,
    "start_time": "2024-04-17T12:31:30.328Z"
   },
   {
    "duration": 593,
    "start_time": "2024-04-17T12:31:35.032Z"
   },
   {
    "duration": 85,
    "start_time": "2024-04-17T12:31:35.627Z"
   },
   {
    "duration": 18,
    "start_time": "2024-04-17T12:31:35.713Z"
   },
   {
    "duration": 5272,
    "start_time": "2024-04-17T12:31:35.732Z"
   },
   {
    "duration": 1929,
    "start_time": "2024-04-17T12:31:41.006Z"
   },
   {
    "duration": 101,
    "start_time": "2024-04-17T12:31:43.002Z"
   },
   {
    "duration": 2280,
    "start_time": "2024-04-17T12:32:47.483Z"
   },
   {
    "duration": 517,
    "start_time": "2024-04-17T12:33:30.112Z"
   },
   {
    "duration": 13879,
    "start_time": "2024-04-17T12:33:30.631Z"
   },
   {
    "duration": 6799,
    "start_time": "2024-04-17T12:33:44.511Z"
   },
   {
    "duration": 13,
    "start_time": "2024-04-17T12:33:51.311Z"
   },
   {
    "duration": 798,
    "start_time": "2024-04-17T12:33:51.329Z"
   },
   {
    "duration": 4291,
    "start_time": "2024-04-17T12:33:52.132Z"
   },
   {
    "duration": 581,
    "start_time": "2024-04-17T12:33:56.424Z"
   },
   {
    "duration": 28,
    "start_time": "2024-04-17T12:33:57.006Z"
   },
   {
    "duration": 20,
    "start_time": "2024-04-17T12:33:57.035Z"
   },
   {
    "duration": 5304,
    "start_time": "2024-04-17T12:33:57.102Z"
   },
   {
    "duration": 1822,
    "start_time": "2024-04-17T12:34:02.407Z"
   },
   {
    "duration": 2472,
    "start_time": "2024-04-17T12:34:04.231Z"
   },
   {
    "duration": 58,
    "start_time": "2024-04-17T12:52:34.925Z"
   },
   {
    "duration": 0,
    "start_time": "2024-04-17T12:52:34.984Z"
   },
   {
    "duration": 0,
    "start_time": "2024-04-17T12:52:34.985Z"
   },
   {
    "duration": 0,
    "start_time": "2024-04-17T12:52:34.986Z"
   },
   {
    "duration": 0,
    "start_time": "2024-04-17T12:52:34.987Z"
   },
   {
    "duration": 0,
    "start_time": "2024-04-17T12:52:34.987Z"
   },
   {
    "duration": 0,
    "start_time": "2024-04-17T12:52:34.988Z"
   },
   {
    "duration": 0,
    "start_time": "2024-04-17T12:52:34.989Z"
   },
   {
    "duration": 0,
    "start_time": "2024-04-17T12:52:34.990Z"
   },
   {
    "duration": 0,
    "start_time": "2024-04-17T12:52:34.991Z"
   },
   {
    "duration": 0,
    "start_time": "2024-04-17T12:52:34.991Z"
   },
   {
    "duration": 0,
    "start_time": "2024-04-17T12:52:34.992Z"
   },
   {
    "duration": 0,
    "start_time": "2024-04-17T12:52:34.993Z"
   },
   {
    "duration": 183,
    "start_time": "2024-04-17T12:54:04.505Z"
   },
   {
    "duration": 25,
    "start_time": "2024-04-17T12:54:14.094Z"
   },
   {
    "duration": 492,
    "start_time": "2024-04-17T12:54:14.121Z"
   },
   {
    "duration": 466,
    "start_time": "2024-04-17T12:54:27.563Z"
   },
   {
    "duration": 13906,
    "start_time": "2024-04-17T12:54:28.031Z"
   },
   {
    "duration": 6662,
    "start_time": "2024-04-17T12:54:41.940Z"
   },
   {
    "duration": 12,
    "start_time": "2024-04-17T12:54:48.603Z"
   },
   {
    "duration": 816,
    "start_time": "2024-04-17T12:54:48.619Z"
   },
   {
    "duration": 4405,
    "start_time": "2024-04-17T12:54:49.437Z"
   },
   {
    "duration": 442,
    "start_time": "2024-04-17T12:54:53.901Z"
   },
   {
    "duration": 99,
    "start_time": "2024-04-17T12:54:54.402Z"
   },
   {
    "duration": 19,
    "start_time": "2024-04-17T12:54:54.503Z"
   },
   {
    "duration": 5386,
    "start_time": "2024-04-17T12:54:54.523Z"
   },
   {
    "duration": 1725,
    "start_time": "2024-04-17T12:54:59.910Z"
   },
   {
    "duration": 2114,
    "start_time": "2024-04-17T12:55:01.636Z"
   },
   {
    "duration": 2,
    "start_time": "2024-04-17T12:57:37.209Z"
   },
   {
    "duration": 3,
    "start_time": "2024-04-17T12:57:38.606Z"
   },
   {
    "duration": 383,
    "start_time": "2024-04-17T12:57:40.346Z"
   },
   {
    "duration": 3,
    "start_time": "2024-04-17T12:57:42.710Z"
   },
   {
    "duration": 109,
    "start_time": "2024-04-17T12:57:54.642Z"
   },
   {
    "duration": 2345,
    "start_time": "2024-04-17T12:57:56.798Z"
   },
   {
    "duration": 307,
    "start_time": "2024-04-17T12:57:59.145Z"
   },
   {
    "duration": 2283,
    "start_time": "2024-04-17T12:58:40.950Z"
   },
   {
    "duration": 4,
    "start_time": "2024-04-17T13:08:01.690Z"
   },
   {
    "duration": 3,
    "start_time": "2024-04-17T13:15:07.438Z"
   },
   {
    "duration": 3,
    "start_time": "2024-04-17T13:15:08.082Z"
   },
   {
    "duration": 304,
    "start_time": "2024-04-17T13:15:08.546Z"
   },
   {
    "duration": 3,
    "start_time": "2024-04-17T13:15:09.309Z"
   },
   {
    "duration": 99,
    "start_time": "2024-04-17T13:15:09.863Z"
   },
   {
    "duration": 1836,
    "start_time": "2024-04-17T13:15:10.889Z"
   },
   {
    "duration": 216,
    "start_time": "2024-04-17T13:15:12.727Z"
   },
   {
    "duration": 893,
    "start_time": "2024-04-17T13:15:13.421Z"
   },
   {
    "duration": 3,
    "start_time": "2024-04-17T13:15:14.455Z"
   },
   {
    "duration": 900,
    "start_time": "2024-04-17T13:15:16.035Z"
   },
   {
    "duration": 79,
    "start_time": "2024-04-17T13:17:20.431Z"
   },
   {
    "duration": 4,
    "start_time": "2024-04-17T13:17:50.260Z"
   },
   {
    "duration": 3,
    "start_time": "2024-04-17T13:17:51.012Z"
   },
   {
    "duration": 290,
    "start_time": "2024-04-17T13:17:51.416Z"
   },
   {
    "duration": 3,
    "start_time": "2024-04-17T13:17:51.815Z"
   },
   {
    "duration": 76,
    "start_time": "2024-04-17T13:17:52.260Z"
   },
   {
    "duration": 1685,
    "start_time": "2024-04-17T13:17:52.792Z"
   },
   {
    "duration": 227,
    "start_time": "2024-04-17T13:17:54.478Z"
   },
   {
    "duration": 896,
    "start_time": "2024-04-17T13:17:54.707Z"
   },
   {
    "duration": 3,
    "start_time": "2024-04-17T13:17:55.605Z"
   },
   {
    "duration": 543,
    "start_time": "2024-04-17T13:17:55.729Z"
   },
   {
    "duration": 556,
    "start_time": "2024-04-17T13:18:01.771Z"
   },
   {
    "duration": 17,
    "start_time": "2024-04-17T13:19:49.538Z"
   },
   {
    "duration": 393,
    "start_time": "2024-04-17T13:24:19.843Z"
   },
   {
    "duration": 14055,
    "start_time": "2024-04-17T13:24:20.791Z"
   },
   {
    "duration": 6964,
    "start_time": "2024-04-17T13:24:34.848Z"
   },
   {
    "duration": 12,
    "start_time": "2024-04-17T13:24:41.814Z"
   },
   {
    "duration": 906,
    "start_time": "2024-04-17T13:24:41.828Z"
   },
   {
    "duration": 4591,
    "start_time": "2024-04-17T13:24:42.735Z"
   },
   {
    "duration": 563,
    "start_time": "2024-04-17T13:24:47.328Z"
   },
   {
    "duration": 2700,
    "start_time": "2024-04-17T13:24:47.902Z"
   },
   {
    "duration": 2,
    "start_time": "2024-04-17T13:24:50.604Z"
   },
   {
    "duration": 2131,
    "start_time": "2024-04-17T13:24:50.608Z"
   },
   {
    "duration": 1227,
    "start_time": "2024-04-17T13:24:52.802Z"
   },
   {
    "duration": 372,
    "start_time": "2024-04-17T13:24:54.031Z"
   },
   {
    "duration": 52,
    "start_time": "2024-04-17T13:25:04.889Z"
   },
   {
    "duration": 59,
    "start_time": "2024-04-17T13:25:41.851Z"
   },
   {
    "duration": 66,
    "start_time": "2024-04-17T13:26:03.893Z"
   },
   {
    "duration": 2281,
    "start_time": "2024-04-17T13:26:08.824Z"
   },
   {
    "duration": 10,
    "start_time": "2024-04-17T13:27:41.432Z"
   },
   {
    "duration": 3312,
    "start_time": "2024-04-17T13:28:06.386Z"
   },
   {
    "duration": 2329,
    "start_time": "2024-04-17T13:28:25.888Z"
   },
   {
    "duration": 410,
    "start_time": "2024-04-17T13:28:48.022Z"
   },
   {
    "duration": 13883,
    "start_time": "2024-04-17T13:28:48.434Z"
   },
   {
    "duration": 6610,
    "start_time": "2024-04-17T13:29:02.319Z"
   },
   {
    "duration": 72,
    "start_time": "2024-04-17T13:29:08.930Z"
   },
   {
    "duration": 910,
    "start_time": "2024-04-17T13:29:09.004Z"
   },
   {
    "duration": 4392,
    "start_time": "2024-04-17T13:29:09.916Z"
   },
   {
    "duration": 506,
    "start_time": "2024-04-17T13:29:14.310Z"
   },
   {
    "duration": 2916,
    "start_time": "2024-04-17T13:29:14.817Z"
   },
   {
    "duration": 2,
    "start_time": "2024-04-17T13:29:17.735Z"
   },
   {
    "duration": 2193,
    "start_time": "2024-04-17T13:29:17.739Z"
   },
   {
    "duration": 1088,
    "start_time": "2024-04-17T13:29:19.933Z"
   },
   {
    "duration": 328,
    "start_time": "2024-04-17T13:29:21.022Z"
   },
   {
    "duration": 2636,
    "start_time": "2024-04-17T13:29:21.402Z"
   },
   {
    "duration": 2909,
    "start_time": "2024-04-17T13:29:24.101Z"
   },
   {
    "duration": 126,
    "start_time": "2024-04-17T13:29:27.011Z"
   },
   {
    "duration": 0,
    "start_time": "2024-04-17T13:29:27.138Z"
   },
   {
    "duration": 2056,
    "start_time": "2024-04-17T13:30:06.850Z"
   },
   {
    "duration": 17,
    "start_time": "2024-04-17T13:46:30.929Z"
   },
   {
    "duration": 466,
    "start_time": "2024-04-17T13:46:39.777Z"
   },
   {
    "duration": 14061,
    "start_time": "2024-04-17T13:46:40.244Z"
   },
   {
    "duration": 6602,
    "start_time": "2024-04-17T13:46:54.307Z"
   },
   {
    "duration": 13,
    "start_time": "2024-04-17T13:47:00.911Z"
   },
   {
    "duration": 979,
    "start_time": "2024-04-17T13:47:00.925Z"
   },
   {
    "duration": 398,
    "start_time": "2024-04-17T13:47:07.237Z"
   },
   {
    "duration": 13694,
    "start_time": "2024-04-17T13:47:07.636Z"
   },
   {
    "duration": 439,
    "start_time": "2024-04-17T13:47:27.293Z"
   },
   {
    "duration": 13881,
    "start_time": "2024-04-17T13:47:27.733Z"
   },
   {
    "duration": 6694,
    "start_time": "2024-04-17T13:47:41.616Z"
   },
   {
    "duration": 22,
    "start_time": "2024-04-17T13:47:48.312Z"
   },
   {
    "duration": 893,
    "start_time": "2024-04-17T13:47:48.337Z"
   },
   {
    "duration": 4874,
    "start_time": "2024-04-17T13:47:49.231Z"
   },
   {
    "duration": 427,
    "start_time": "2024-04-17T13:47:54.107Z"
   },
   {
    "duration": 2594,
    "start_time": "2024-04-17T13:47:54.536Z"
   },
   {
    "duration": 2,
    "start_time": "2024-04-17T13:47:57.132Z"
   },
   {
    "duration": 96,
    "start_time": "2024-04-17T13:47:57.135Z"
   },
   {
    "duration": 1391,
    "start_time": "2024-04-17T13:47:57.233Z"
   },
   {
    "duration": 5482,
    "start_time": "2024-04-17T13:47:58.625Z"
   },
   {
    "duration": 2596,
    "start_time": "2024-04-17T13:48:04.109Z"
   },
   {
    "duration": 120,
    "start_time": "2024-04-17T13:48:06.707Z"
   },
   {
    "duration": 0,
    "start_time": "2024-04-17T13:48:06.829Z"
   },
   {
    "duration": 1,
    "start_time": "2024-04-17T13:48:06.829Z"
   },
   {
    "duration": 461,
    "start_time": "2024-04-17T13:48:33.877Z"
   },
   {
    "duration": 13802,
    "start_time": "2024-04-17T13:48:34.339Z"
   },
   {
    "duration": 6988,
    "start_time": "2024-04-17T13:48:48.143Z"
   },
   {
    "duration": 70,
    "start_time": "2024-04-17T13:48:55.132Z"
   },
   {
    "duration": 734,
    "start_time": "2024-04-17T13:48:55.204Z"
   },
   {
    "duration": 4685,
    "start_time": "2024-04-17T13:48:55.939Z"
   },
   {
    "duration": 616,
    "start_time": "2024-04-17T13:49:00.625Z"
   },
   {
    "duration": 2699,
    "start_time": "2024-04-17T13:49:01.242Z"
   },
   {
    "duration": 59,
    "start_time": "2024-04-17T13:49:03.943Z"
   },
   {
    "duration": 35,
    "start_time": "2024-04-17T13:49:04.004Z"
   },
   {
    "duration": 1268,
    "start_time": "2024-04-17T13:49:04.040Z"
   },
   {
    "duration": 5494,
    "start_time": "2024-04-17T13:49:05.310Z"
   },
   {
    "duration": 2419,
    "start_time": "2024-04-17T13:49:10.806Z"
   },
   {
    "duration": 1314,
    "start_time": "2024-04-17T13:49:13.227Z"
   },
   {
    "duration": 1103,
    "start_time": "2024-04-17T13:49:14.542Z"
   },
   {
    "duration": 4,
    "start_time": "2024-04-17T13:49:15.647Z"
   },
   {
    "duration": 475,
    "start_time": "2024-04-17T13:51:54.960Z"
   },
   {
    "duration": 13871,
    "start_time": "2024-04-17T13:51:55.437Z"
   },
   {
    "duration": 6912,
    "start_time": "2024-04-17T13:52:09.311Z"
   },
   {
    "duration": 77,
    "start_time": "2024-04-17T13:52:16.224Z"
   },
   {
    "duration": 822,
    "start_time": "2024-04-17T13:52:16.304Z"
   },
   {
    "duration": 4613,
    "start_time": "2024-04-17T13:52:17.128Z"
   },
   {
    "duration": 542,
    "start_time": "2024-04-17T13:52:21.742Z"
   },
   {
    "duration": 3037,
    "start_time": "2024-04-17T13:52:22.285Z"
   },
   {
    "duration": 2,
    "start_time": "2024-04-17T13:52:25.324Z"
   },
   {
    "duration": 91,
    "start_time": "2024-04-17T13:52:25.327Z"
   },
   {
    "duration": 1096,
    "start_time": "2024-04-17T13:52:25.420Z"
   },
   {
    "duration": 1901,
    "start_time": "2024-04-17T13:52:26.517Z"
   },
   {
    "duration": 0,
    "start_time": "2024-04-17T13:52:28.419Z"
   },
   {
    "duration": 0,
    "start_time": "2024-04-17T13:52:28.420Z"
   },
   {
    "duration": 0,
    "start_time": "2024-04-17T13:52:28.421Z"
   },
   {
    "duration": 0,
    "start_time": "2024-04-17T13:52:28.422Z"
   },
   {
    "duration": 455,
    "start_time": "2024-04-17T13:53:44.473Z"
   },
   {
    "duration": 13993,
    "start_time": "2024-04-17T13:53:44.929Z"
   },
   {
    "duration": 6778,
    "start_time": "2024-04-17T13:53:58.924Z"
   },
   {
    "duration": 14,
    "start_time": "2024-04-17T13:54:05.704Z"
   },
   {
    "duration": 828,
    "start_time": "2024-04-17T13:54:05.720Z"
   },
   {
    "duration": 4321,
    "start_time": "2024-04-17T13:54:06.601Z"
   },
   {
    "duration": 518,
    "start_time": "2024-04-17T13:54:10.924Z"
   },
   {
    "duration": 2773,
    "start_time": "2024-04-17T13:54:11.443Z"
   },
   {
    "duration": 3,
    "start_time": "2024-04-17T13:54:14.217Z"
   },
   {
    "duration": 86,
    "start_time": "2024-04-17T13:54:14.221Z"
   },
   {
    "duration": 1303,
    "start_time": "2024-04-17T13:54:14.308Z"
   },
   {
    "duration": 1806,
    "start_time": "2024-04-17T13:54:15.612Z"
   },
   {
    "duration": 0,
    "start_time": "2024-04-17T13:54:17.420Z"
   },
   {
    "duration": 0,
    "start_time": "2024-04-17T13:54:17.421Z"
   },
   {
    "duration": 0,
    "start_time": "2024-04-17T13:54:17.422Z"
   },
   {
    "duration": 0,
    "start_time": "2024-04-17T13:54:17.423Z"
   },
   {
    "duration": 4336,
    "start_time": "2024-04-17T13:58:44.882Z"
   },
   {
    "duration": 2155,
    "start_time": "2024-04-17T13:59:07.359Z"
   },
   {
    "duration": 1358,
    "start_time": "2024-04-17T13:59:09.516Z"
   },
   {
    "duration": 931,
    "start_time": "2024-04-17T13:59:10.876Z"
   },
   {
    "duration": 4,
    "start_time": "2024-04-17T13:59:11.808Z"
   },
   {
    "duration": 1911,
    "start_time": "2024-04-17T14:00:57.904Z"
   },
   {
    "duration": 847,
    "start_time": "2024-04-17T14:01:01.819Z"
   },
   {
    "duration": 836,
    "start_time": "2024-04-17T14:01:07.425Z"
   },
   {
    "duration": 540,
    "start_time": "2024-04-17T14:02:16.743Z"
   },
   {
    "duration": 2190,
    "start_time": "2024-04-17T14:02:53.053Z"
   },
   {
    "duration": 1453,
    "start_time": "2024-04-17T14:02:59.560Z"
   },
   {
    "duration": 691,
    "start_time": "2024-04-17T14:03:03.212Z"
   },
   {
    "duration": 613,
    "start_time": "2024-04-17T14:03:03.905Z"
   },
   {
    "duration": 4,
    "start_time": "2024-04-17T14:03:04.519Z"
   },
   {
    "duration": 407,
    "start_time": "2024-04-17T14:09:27.426Z"
   },
   {
    "duration": 13885,
    "start_time": "2024-04-17T14:09:27.835Z"
   },
   {
    "duration": 6686,
    "start_time": "2024-04-17T14:09:41.722Z"
   },
   {
    "duration": 14,
    "start_time": "2024-04-17T14:09:48.411Z"
   },
   {
    "duration": 796,
    "start_time": "2024-04-17T14:09:48.426Z"
   },
   {
    "duration": 4709,
    "start_time": "2024-04-17T14:09:49.224Z"
   },
   {
    "duration": 574,
    "start_time": "2024-04-17T14:09:53.935Z"
   },
   {
    "duration": 2630,
    "start_time": "2024-04-17T14:09:54.510Z"
   },
   {
    "duration": 3,
    "start_time": "2024-04-17T14:09:57.141Z"
   },
   {
    "duration": 26,
    "start_time": "2024-04-17T14:09:57.203Z"
   },
   {
    "duration": 1372,
    "start_time": "2024-04-17T14:09:57.230Z"
   },
   {
    "duration": 5102,
    "start_time": "2024-04-17T14:09:58.604Z"
   },
   {
    "duration": 2304,
    "start_time": "2024-04-17T14:10:03.707Z"
   },
   {
    "duration": 1127,
    "start_time": "2024-04-17T14:10:06.013Z"
   },
   {
    "duration": 1118,
    "start_time": "2024-04-17T14:10:07.142Z"
   },
   {
    "duration": 3,
    "start_time": "2024-04-17T14:10:08.261Z"
   },
   {
    "duration": 512,
    "start_time": "2024-04-17T14:12:58.219Z"
   },
   {
    "duration": 463,
    "start_time": "2024-04-17T14:13:03.363Z"
   },
   {
    "duration": 13985,
    "start_time": "2024-04-17T14:13:03.828Z"
   },
   {
    "duration": 6791,
    "start_time": "2024-04-17T14:13:17.817Z"
   },
   {
    "duration": 15,
    "start_time": "2024-04-17T14:13:24.610Z"
   },
   {
    "duration": 903,
    "start_time": "2024-04-17T14:13:24.627Z"
   },
   {
    "duration": 4471,
    "start_time": "2024-04-17T14:13:25.531Z"
   },
   {
    "duration": 526,
    "start_time": "2024-04-17T14:13:30.004Z"
   },
   {
    "duration": 2976,
    "start_time": "2024-04-17T14:13:30.532Z"
   },
   {
    "duration": 2,
    "start_time": "2024-04-17T14:13:33.510Z"
   },
   {
    "duration": 1614,
    "start_time": "2024-04-17T14:13:33.513Z"
   },
   {
    "duration": 2076,
    "start_time": "2024-04-17T14:13:35.129Z"
   },
   {
    "duration": 262,
    "start_time": "2024-04-17T14:13:37.207Z"
   },
   {
    "duration": 0,
    "start_time": "2024-04-17T14:13:37.470Z"
   },
   {
    "duration": 0,
    "start_time": "2024-04-17T14:13:37.471Z"
   },
   {
    "duration": 0,
    "start_time": "2024-04-17T14:13:37.472Z"
   },
   {
    "duration": 0,
    "start_time": "2024-04-17T14:13:37.473Z"
   },
   {
    "duration": 1803,
    "start_time": "2024-04-17T14:13:46.902Z"
   },
   {
    "duration": 2,
    "start_time": "2024-04-17T14:14:35.441Z"
   },
   {
    "duration": 409,
    "start_time": "2024-04-17T14:40:25.130Z"
   },
   {
    "duration": 14177,
    "start_time": "2024-04-17T14:40:25.541Z"
   },
   {
    "duration": 6813,
    "start_time": "2024-04-17T14:40:39.719Z"
   },
   {
    "duration": 68,
    "start_time": "2024-04-17T14:40:46.533Z"
   },
   {
    "duration": 801,
    "start_time": "2024-04-17T14:40:46.604Z"
   },
   {
    "duration": 4819,
    "start_time": "2024-04-17T14:40:47.406Z"
   },
   {
    "duration": 586,
    "start_time": "2024-04-17T14:40:52.227Z"
   },
   {
    "duration": 2738,
    "start_time": "2024-04-17T14:40:52.815Z"
   },
   {
    "duration": 3,
    "start_time": "2024-04-17T14:40:55.602Z"
   },
   {
    "duration": 1322,
    "start_time": "2024-04-17T14:40:55.607Z"
   },
   {
    "duration": 0,
    "start_time": "2024-04-17T14:40:56.931Z"
   },
   {
    "duration": 0,
    "start_time": "2024-04-17T14:40:56.933Z"
   },
   {
    "duration": 0,
    "start_time": "2024-04-17T14:40:56.934Z"
   },
   {
    "duration": 0,
    "start_time": "2024-04-17T14:40:56.935Z"
   },
   {
    "duration": 0,
    "start_time": "2024-04-17T14:40:56.936Z"
   },
   {
    "duration": 0,
    "start_time": "2024-04-17T14:40:56.937Z"
   },
   {
    "duration": 0,
    "start_time": "2024-04-17T14:40:56.938Z"
   },
   {
    "duration": 138,
    "start_time": "2024-04-17T14:41:48.607Z"
   },
   {
    "duration": 1505,
    "start_time": "2024-04-17T14:43:16.750Z"
   },
   {
    "duration": 93,
    "start_time": "2024-04-17T14:43:38.409Z"
   },
   {
    "duration": 89,
    "start_time": "2024-04-17T14:44:16.563Z"
   },
   {
    "duration": 426,
    "start_time": "2024-04-17T14:44:21.709Z"
   },
   {
    "duration": 13896,
    "start_time": "2024-04-17T14:44:22.137Z"
   },
   {
    "duration": 6895,
    "start_time": "2024-04-17T14:44:36.035Z"
   },
   {
    "duration": 69,
    "start_time": "2024-04-17T14:44:42.932Z"
   },
   {
    "duration": 905,
    "start_time": "2024-04-17T14:44:43.004Z"
   },
   {
    "duration": 4819,
    "start_time": "2024-04-17T14:44:43.910Z"
   },
   {
    "duration": 509,
    "start_time": "2024-04-17T14:44:48.730Z"
   },
   {
    "duration": 2699,
    "start_time": "2024-04-17T14:44:49.240Z"
   },
   {
    "duration": 3,
    "start_time": "2024-04-17T14:44:51.940Z"
   },
   {
    "duration": 2325,
    "start_time": "2024-04-17T14:44:52.001Z"
   },
   {
    "duration": 256,
    "start_time": "2024-04-17T14:44:54.327Z"
   },
   {
    "duration": 0,
    "start_time": "2024-04-17T14:44:54.584Z"
   },
   {
    "duration": 0,
    "start_time": "2024-04-17T14:44:54.585Z"
   },
   {
    "duration": 0,
    "start_time": "2024-04-17T14:44:54.586Z"
   },
   {
    "duration": 0,
    "start_time": "2024-04-17T14:44:54.587Z"
   },
   {
    "duration": 0,
    "start_time": "2024-04-17T14:44:54.588Z"
   },
   {
    "duration": 74,
    "start_time": "2024-04-17T14:46:04.009Z"
   },
   {
    "duration": 1250,
    "start_time": "2024-04-17T14:46:21.162Z"
   },
   {
    "duration": 18,
    "start_time": "2024-04-17T14:46:27.743Z"
   },
   {
    "duration": 7,
    "start_time": "2024-04-17T14:46:29.907Z"
   },
   {
    "duration": 93,
    "start_time": "2024-04-17T14:47:11.483Z"
   },
   {
    "duration": 510,
    "start_time": "2024-04-17T14:52:00.602Z"
   },
   {
    "duration": 13713,
    "start_time": "2024-04-17T14:52:01.114Z"
   },
   {
    "duration": 6901,
    "start_time": "2024-04-17T14:52:14.829Z"
   },
   {
    "duration": 13,
    "start_time": "2024-04-17T14:52:21.732Z"
   },
   {
    "duration": 854,
    "start_time": "2024-04-17T14:52:21.747Z"
   },
   {
    "duration": 4407,
    "start_time": "2024-04-17T14:52:22.603Z"
   },
   {
    "duration": 491,
    "start_time": "2024-04-17T14:52:27.011Z"
   },
   {
    "duration": 2918,
    "start_time": "2024-04-17T14:52:27.503Z"
   },
   {
    "duration": 3,
    "start_time": "2024-04-17T14:52:30.423Z"
   },
   {
    "duration": 95,
    "start_time": "2024-04-17T14:52:30.428Z"
   },
   {
    "duration": 62,
    "start_time": "2024-04-17T14:52:30.524Z"
   },
   {
    "duration": 27,
    "start_time": "2024-04-17T14:52:30.601Z"
   },
   {
    "duration": 136,
    "start_time": "2024-04-17T14:52:30.629Z"
   },
   {
    "duration": 0,
    "start_time": "2024-04-17T14:52:30.767Z"
   },
   {
    "duration": 0,
    "start_time": "2024-04-17T14:52:30.768Z"
   },
   {
    "duration": 0,
    "start_time": "2024-04-17T14:52:30.769Z"
   },
   {
    "duration": 480,
    "start_time": "2024-04-17T14:58:33.563Z"
   },
   {
    "duration": 13686,
    "start_time": "2024-04-17T14:58:34.044Z"
   },
   {
    "duration": 6876,
    "start_time": "2024-04-17T14:58:47.732Z"
   },
   {
    "duration": 14,
    "start_time": "2024-04-17T14:58:54.610Z"
   },
   {
    "duration": 907,
    "start_time": "2024-04-17T14:58:54.625Z"
   },
   {
    "duration": 4775,
    "start_time": "2024-04-17T14:58:55.534Z"
   },
   {
    "duration": 559,
    "start_time": "2024-04-17T14:59:00.311Z"
   },
   {
    "duration": 2564,
    "start_time": "2024-04-17T14:59:00.873Z"
   },
   {
    "duration": 3,
    "start_time": "2024-04-17T14:59:03.439Z"
   },
   {
    "duration": 102,
    "start_time": "2024-04-17T14:59:03.501Z"
   },
   {
    "duration": 29,
    "start_time": "2024-04-17T14:59:03.604Z"
   },
   {
    "duration": 19,
    "start_time": "2024-04-17T14:59:03.635Z"
   },
   {
    "duration": 2067,
    "start_time": "2024-04-17T14:59:03.702Z"
   },
   {
    "duration": 0,
    "start_time": "2024-04-17T14:59:05.771Z"
   },
   {
    "duration": 0,
    "start_time": "2024-04-17T14:59:05.772Z"
   },
   {
    "duration": 0,
    "start_time": "2024-04-17T14:59:05.773Z"
   },
   {
    "duration": 0,
    "start_time": "2024-04-17T14:59:05.774Z"
   },
   {
    "duration": 124,
    "start_time": "2024-04-17T14:59:14.388Z"
   },
   {
    "duration": 410,
    "start_time": "2024-04-17T15:13:35.425Z"
   },
   {
    "duration": 13983,
    "start_time": "2024-04-17T15:13:35.837Z"
   },
   {
    "duration": 6994,
    "start_time": "2024-04-17T15:13:49.822Z"
   },
   {
    "duration": 11,
    "start_time": "2024-04-17T15:13:56.818Z"
   },
   {
    "duration": 890,
    "start_time": "2024-04-17T15:13:56.832Z"
   },
   {
    "duration": 4592,
    "start_time": "2024-04-17T15:13:57.724Z"
   },
   {
    "duration": 503,
    "start_time": "2024-04-17T15:14:02.318Z"
   },
   {
    "duration": 2782,
    "start_time": "2024-04-17T15:14:02.822Z"
   },
   {
    "duration": 3,
    "start_time": "2024-04-17T15:14:05.605Z"
   },
   {
    "duration": 1212,
    "start_time": "2024-04-17T15:14:05.610Z"
   },
   {
    "duration": 0,
    "start_time": "2024-04-17T15:14:06.823Z"
   },
   {
    "duration": 0,
    "start_time": "2024-04-17T15:14:06.824Z"
   },
   {
    "duration": 0,
    "start_time": "2024-04-17T15:14:06.825Z"
   },
   {
    "duration": 0,
    "start_time": "2024-04-17T15:14:06.826Z"
   },
   {
    "duration": 0,
    "start_time": "2024-04-17T15:14:06.827Z"
   },
   {
    "duration": 0,
    "start_time": "2024-04-17T15:14:06.828Z"
   },
   {
    "duration": 0,
    "start_time": "2024-04-17T15:14:06.829Z"
   },
   {
    "duration": 397,
    "start_time": "2024-04-17T15:14:33.734Z"
   },
   {
    "duration": 14018,
    "start_time": "2024-04-17T15:14:34.133Z"
   },
   {
    "duration": 6779,
    "start_time": "2024-04-17T15:14:48.152Z"
   },
   {
    "duration": 74,
    "start_time": "2024-04-17T15:14:54.932Z"
   },
   {
    "duration": 825,
    "start_time": "2024-04-17T15:14:55.008Z"
   },
   {
    "duration": 4279,
    "start_time": "2024-04-17T15:14:55.835Z"
   },
   {
    "duration": 513,
    "start_time": "2024-04-17T15:15:00.116Z"
   },
   {
    "duration": 2711,
    "start_time": "2024-04-17T15:15:00.630Z"
   },
   {
    "duration": 2,
    "start_time": "2024-04-17T15:15:03.342Z"
   },
   {
    "duration": 1431,
    "start_time": "2024-04-17T15:15:03.401Z"
   },
   {
    "duration": 321,
    "start_time": "2024-04-17T15:15:04.833Z"
   },
   {
    "duration": 0,
    "start_time": "2024-04-17T15:15:05.155Z"
   },
   {
    "duration": 0,
    "start_time": "2024-04-17T15:15:05.156Z"
   },
   {
    "duration": 0,
    "start_time": "2024-04-17T15:15:05.157Z"
   },
   {
    "duration": 0,
    "start_time": "2024-04-17T15:15:05.158Z"
   },
   {
    "duration": 0,
    "start_time": "2024-04-17T15:15:05.159Z"
   },
   {
    "duration": 0,
    "start_time": "2024-04-17T15:15:05.160Z"
   },
   {
    "duration": 416,
    "start_time": "2024-04-17T15:15:25.819Z"
   },
   {
    "duration": 13909,
    "start_time": "2024-04-17T15:15:26.237Z"
   },
   {
    "duration": 7082,
    "start_time": "2024-04-17T15:15:40.147Z"
   },
   {
    "duration": 71,
    "start_time": "2024-04-17T15:15:47.231Z"
   },
   {
    "duration": 838,
    "start_time": "2024-04-17T15:15:47.304Z"
   },
   {
    "duration": 4820,
    "start_time": "2024-04-17T15:15:48.202Z"
   },
   {
    "duration": 603,
    "start_time": "2024-04-17T15:15:53.024Z"
   },
   {
    "duration": 2792,
    "start_time": "2024-04-17T15:15:53.628Z"
   },
   {
    "duration": 3,
    "start_time": "2024-04-17T15:15:56.421Z"
   },
   {
    "duration": 1110,
    "start_time": "2024-04-17T15:15:56.425Z"
   },
   {
    "duration": 93,
    "start_time": "2024-04-17T15:15:57.537Z"
   },
   {
    "duration": 20,
    "start_time": "2024-04-17T15:15:57.631Z"
   },
   {
    "duration": 632,
    "start_time": "2024-04-17T15:15:57.652Z"
   },
   {
    "duration": 0,
    "start_time": "2024-04-17T15:15:58.285Z"
   },
   {
    "duration": 0,
    "start_time": "2024-04-17T15:15:58.287Z"
   },
   {
    "duration": 1,
    "start_time": "2024-04-17T15:15:58.287Z"
   },
   {
    "duration": 0,
    "start_time": "2024-04-17T15:15:58.288Z"
   },
   {
    "duration": 426,
    "start_time": "2024-04-17T15:40:12.808Z"
   },
   {
    "duration": 13786,
    "start_time": "2024-04-17T15:40:13.236Z"
   },
   {
    "duration": 6906,
    "start_time": "2024-04-17T15:40:27.024Z"
   },
   {
    "duration": 12,
    "start_time": "2024-04-17T15:40:33.932Z"
   },
   {
    "duration": 893,
    "start_time": "2024-04-17T15:40:33.946Z"
   },
   {
    "duration": 4485,
    "start_time": "2024-04-17T15:40:34.840Z"
   },
   {
    "duration": 578,
    "start_time": "2024-04-17T15:40:39.327Z"
   },
   {
    "duration": 2825,
    "start_time": "2024-04-17T15:40:39.907Z"
   },
   {
    "duration": 91,
    "start_time": "2024-04-17T15:40:42.734Z"
   },
   {
    "duration": 13,
    "start_time": "2024-04-17T15:40:42.827Z"
   },
   {
    "duration": 21,
    "start_time": "2024-04-17T15:40:42.842Z"
   },
   {
    "duration": 6444,
    "start_time": "2024-04-17T15:40:42.866Z"
   },
   {
    "duration": 2714,
    "start_time": "2024-04-17T15:40:49.311Z"
   },
   {
    "duration": 1406,
    "start_time": "2024-04-17T15:40:52.028Z"
   },
   {
    "duration": 1477,
    "start_time": "2024-04-17T15:40:53.435Z"
   },
   {
    "duration": 119,
    "start_time": "2024-04-17T15:40:54.913Z"
   },
   {
    "duration": 0,
    "start_time": "2024-04-17T15:40:55.033Z"
   },
   {
    "duration": 4,
    "start_time": "2024-04-17T15:41:32.319Z"
   },
   {
    "duration": 457,
    "start_time": "2024-04-17T15:41:50.420Z"
   },
   {
    "duration": 446,
    "start_time": "2024-04-17T15:45:59.084Z"
   },
   {
    "duration": 14089,
    "start_time": "2024-04-17T15:45:59.531Z"
   },
   {
    "duration": 6995,
    "start_time": "2024-04-17T15:46:13.622Z"
   },
   {
    "duration": 14,
    "start_time": "2024-04-17T15:46:20.619Z"
   },
   {
    "duration": 905,
    "start_time": "2024-04-17T15:46:20.634Z"
   },
   {
    "duration": 4684,
    "start_time": "2024-04-17T15:46:21.541Z"
   },
   {
    "duration": 508,
    "start_time": "2024-04-17T15:46:26.226Z"
   },
   {
    "duration": 2876,
    "start_time": "2024-04-17T15:46:26.735Z"
   },
   {
    "duration": 25,
    "start_time": "2024-04-17T15:46:29.612Z"
   },
   {
    "duration": 73,
    "start_time": "2024-04-17T15:46:29.639Z"
   },
   {
    "duration": 18,
    "start_time": "2024-04-17T15:46:29.713Z"
   },
   {
    "duration": 5782,
    "start_time": "2024-04-17T15:46:29.733Z"
   },
   {
    "duration": 2397,
    "start_time": "2024-04-17T15:46:35.516Z"
   },
   {
    "duration": 1604,
    "start_time": "2024-04-17T15:46:37.916Z"
   },
   {
    "duration": 1217,
    "start_time": "2024-04-17T15:46:39.522Z"
   },
   {
    "duration": 4,
    "start_time": "2024-04-17T15:46:40.741Z"
   },
   {
    "duration": 668,
    "start_time": "2024-04-17T15:46:40.746Z"
   },
   {
    "duration": 573,
    "start_time": "2024-04-17T21:58:26.945Z"
   },
   {
    "duration": 15273,
    "start_time": "2024-04-17T21:58:27.520Z"
   },
   {
    "duration": 8207,
    "start_time": "2024-04-17T21:58:42.795Z"
   },
   {
    "duration": 78,
    "start_time": "2024-04-17T21:58:51.004Z"
   },
   {
    "duration": 1112,
    "start_time": "2024-04-17T21:58:51.084Z"
   },
   {
    "duration": 5800,
    "start_time": "2024-04-17T21:58:52.198Z"
   },
   {
    "duration": 527,
    "start_time": "2024-04-17T21:58:58.000Z"
   },
   {
    "duration": 3393,
    "start_time": "2024-04-17T21:58:58.529Z"
   },
   {
    "duration": 34,
    "start_time": "2024-04-17T21:59:01.982Z"
   },
   {
    "duration": 85,
    "start_time": "2024-04-17T21:59:02.018Z"
   },
   {
    "duration": 36,
    "start_time": "2024-04-17T21:59:02.105Z"
   },
   {
    "duration": 6753,
    "start_time": "2024-04-17T21:59:02.142Z"
   },
   {
    "duration": 2634,
    "start_time": "2024-04-17T21:59:08.896Z"
   },
   {
    "duration": 1711,
    "start_time": "2024-04-17T21:59:11.582Z"
   },
   {
    "duration": 1395,
    "start_time": "2024-04-17T21:59:13.295Z"
   },
   {
    "duration": 5,
    "start_time": "2024-04-17T21:59:14.692Z"
   },
   {
    "duration": 494,
    "start_time": "2024-04-17T21:59:14.698Z"
   },
   {
    "duration": 544,
    "start_time": "2024-04-18T06:57:40.086Z"
   },
   {
    "duration": 15509,
    "start_time": "2024-04-18T06:57:40.687Z"
   },
   {
    "duration": 8627,
    "start_time": "2024-04-18T06:57:56.199Z"
   },
   {
    "duration": 18,
    "start_time": "2024-04-18T06:58:04.882Z"
   },
   {
    "duration": 1125,
    "start_time": "2024-04-18T06:58:04.902Z"
   },
   {
    "duration": 5766,
    "start_time": "2024-04-18T06:58:06.029Z"
   },
   {
    "duration": 704,
    "start_time": "2024-04-18T06:58:11.796Z"
   },
   {
    "duration": 4094,
    "start_time": "2024-04-18T06:58:12.502Z"
   },
   {
    "duration": 91,
    "start_time": "2024-04-18T06:58:16.598Z"
   },
   {
    "duration": 17,
    "start_time": "2024-04-18T06:58:16.691Z"
   },
   {
    "duration": 94,
    "start_time": "2024-04-18T06:58:16.711Z"
   },
   {
    "duration": 8281,
    "start_time": "2024-04-18T06:58:16.807Z"
   },
   {
    "duration": 3214,
    "start_time": "2024-04-18T06:58:25.091Z"
   },
   {
    "duration": 12,
    "start_time": "2024-04-18T06:58:59.882Z"
   },
   {
    "duration": 11,
    "start_time": "2024-04-18T06:59:00.473Z"
   },
   {
    "duration": 10,
    "start_time": "2024-04-18T06:59:00.842Z"
   },
   {
    "duration": 3260,
    "start_time": "2024-04-18T06:59:01.249Z"
   },
   {
    "duration": 11,
    "start_time": "2024-04-18T06:59:07.723Z"
   },
   {
    "duration": 11,
    "start_time": "2024-04-18T06:59:08.053Z"
   },
   {
    "duration": 11,
    "start_time": "2024-04-18T06:59:08.398Z"
   },
   {
    "duration": 2728,
    "start_time": "2024-04-18T06:59:08.722Z"
   },
   {
    "duration": 82,
    "start_time": "2024-04-18T07:00:05.341Z"
   },
   {
    "duration": 24,
    "start_time": "2024-04-18T07:00:09.081Z"
   },
   {
    "duration": 2575,
    "start_time": "2024-04-18T07:01:30.547Z"
   },
   {
    "duration": 1743,
    "start_time": "2024-04-18T07:01:41.975Z"
   },
   {
    "duration": 2236,
    "start_time": "2024-04-18T07:01:46.590Z"
   },
   {
    "duration": 2082,
    "start_time": "2024-04-18T07:01:59.235Z"
   },
   {
    "duration": 1725,
    "start_time": "2024-04-18T07:02:01.319Z"
   },
   {
    "duration": 10,
    "start_time": "2024-04-18T07:02:15.559Z"
   },
   {
    "duration": 11,
    "start_time": "2024-04-18T07:02:16.020Z"
   },
   {
    "duration": 8,
    "start_time": "2024-04-18T07:02:16.344Z"
   },
   {
    "duration": 1797,
    "start_time": "2024-04-18T07:02:16.688Z"
   },
   {
    "duration": 1415,
    "start_time": "2024-04-18T07:02:18.487Z"
   },
   {
    "duration": 1318,
    "start_time": "2024-04-18T07:02:24.321Z"
   },
   {
    "duration": 1167,
    "start_time": "2024-04-18T07:02:25.641Z"
   },
   {
    "duration": 4,
    "start_time": "2024-04-18T07:02:26.810Z"
   },
   {
    "duration": 474,
    "start_time": "2024-04-18T07:02:26.816Z"
   }
  ],
  "colab": {
   "name": "PySparkSprint.ipynb",
   "provenance": []
  },
  "kernelspec": {
   "display_name": "Python 3 (ipykernel)",
   "language": "python",
   "name": "python3"
  },
  "language_info": {
   "codemirror_mode": {
    "name": "ipython",
    "version": 3
   },
   "file_extension": ".py",
   "mimetype": "text/x-python",
   "name": "python",
   "nbconvert_exporter": "python",
   "pygments_lexer": "ipython3",
   "version": "3.9.5"
  },
  "toc": {
   "base_numbering": 1,
   "nav_menu": {},
   "number_sections": true,
   "sideBar": true,
   "skip_h1_title": true,
   "title_cell": "Table of Contents",
   "title_sidebar": "Contents",
   "toc_cell": false,
   "toc_position": {},
   "toc_section_display": true,
   "toc_window_display": false
  }
 },
 "nbformat": 4,
 "nbformat_minor": 5
}
