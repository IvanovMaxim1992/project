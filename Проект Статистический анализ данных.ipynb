{
 "cells": [
  {
   "cell_type": "markdown",
   "id": "4e98937c",
   "metadata": {},
   "source": [
    "<div style=\"border:solid green 3px; padding: 20px\">\n",
    "\t\t\t\t\t\t\t\t\t\t\t\t\t\t\t\t\t\t\t\t\t\n",
    "<b>Привет!</b>\n",
    "\t\t\t\t\t\t\t\t\t\t\t\t\t\t\t\t\t\t\t\t\t\n",
    "Меня зовут Сороколетов Илья и я буду проверять твой проект. \n",
    "\t\t\t\t\t\t\t\t\t\t\t\t\t\t\t\t\t\t\t\t\t\n",
    "Предлагаю общаться на «**ты**», но если тебе будет комфортнее общаться на «**вы**», то сообщи об этом в комментариях)\n",
    "\t\t\t\t\t\t\t\t\t\t\t\t\t\t\t\t\t\t\t\t\t\n",
    "\t\t\t\t\t\t\t\t\t\t\t\t\t\t\t\t\t\t\t\t\t\n",
    "Для твоего удобства, я буду выделять свои комментарии следующим образом:\n",
    "\t\t\t\t\t\t\t\t\t\t\t\t\t\t\t\t\t\t\t\t\t\n",
    "<div class=\"alert alert-danger\">\n",
    "<b>❌ Комментарий ревьюера v1:</b> Самые важные замечания. Они указывают на ключевые моменты, которые влияют на конечный результат проекта. </div>\n",
    "\t\t\t\t\t\t\t\t\t\t\t\t\t\t\t\t\t\t\t\t\t\n",
    "<div class=\"alert alert-warning\">\n",
    "<b>⚠️ Комментарий ревьюера v1:</b> Советы или замечания, которые помогут сделать твою работу лучше, но необязательны к выполнению.\n",
    "\t\t\t\t\t\t\t\t\t\t\t\t\t\t\t\t\t\t\t\t\t\n",
    "</div>\n",
    "\t\t\t\t\t\t\t\t\t\t\t\t\t\t\t\t\t\t\t\t\t\n",
    "<div class=\"alert alert-success\">\n",
    "<b>✔️ Комментарий ревьюера v1:</b> Так я выделяю все остальные комментарии.</div>\n",
    "\t\t\t\t\t\t\t\t\t\t\t\t\t\t\t\t\t\t\t\t\t\n",
    "\t\t\t\t\t\t\t\t\t\t\t\t\t\t\t\t\t\t\t\t\t\n",
    "Пометками <b>v1-v2-v3-...</b> я буду отмечать версию проверки. Так ты сможешь быстро найти мои новые комментарии.\n",
    "\t\t\t\t\t\t\t\t\t\t\t\t\t\t\t\t\t\t\t\t\t\n",
    "Давай работать над проектом в диалоге: если ты что-то меняешь в проекте по моим рекомендациям — пиши об этом. Выбери для своих комментариев какой-то заметный цвет, так мне будет легче отследить изменения, например вот так:\n",
    "\t\t\t\t\t\t\t\t\t\t\t\t\t\t\t\t\t\t\t\t\t    \n",
    "<div class=\"alert alert-info\">\n",
    "<b>Комментарий студента:</b>\n",
    "<br>\n",
    "</div>\n",
    "\t\t\t\t\t\t\t\t\t\t\t\t\t\t\t\t\t\t\t\t\t\n",
    "<b>Пожалуйста, не перемещай, не изменяй и не удаляй мои комментарии.</b> Если ты оставляешь свои комментарии, то делай это под моими, чтобы сообщения были расположены в хронологическом порядке. Всё это поможет выполнить повторную проверку твоего проекта быстрее. \n",
    "\t\t\t\t\t\t\t\t\t\t\t\t\t\t\t\t\t\t\t\t\t\n",
    "Перед отправкой работы я рекомендую нажимать Kernel -> Restart & Run All. Это перезапустит ядро и по очереди выполнит все ячейки. Так ты сможешь проверить, что всё работает корректно. Кнопка Kernel находится в панели сверху\n",
    "\t\t\t\t\t\t\t\t\t\t\t\t\t\t\t\t\t\t\t\t\t\n",
    "Обязательно задавай вопросы если они возникнут, а я перехожу к проверке)\n",
    "\t\t\t\t\t\t\t\t\t\t\t\t\t\t\t\t\t\t\t\t\t\n",
    "P.S. На всякий случай, я оставлю пустой шаблон для твоих комментариев ниже. Кликни два раза на мой комментарий, скопируй последние четыре строчки кода и вставляй их в пустую ячейку там, где ты хочешь оставить комментарий. Не забудь только перед этим сменить тип ячейки на Markdown. Быстро это можно сделать так: кликнуть на ячейку - нажать ESC - нажать M. \n",
    "\t\t\t\t\t\t\t\t\t\t\t\t\t\t\t\t\t\t\t\t\t    \n",
    "\t\t\t\t\t\t\t\t\t\t\t\t\t\t\t\t\t\t\t\t\t    \n",
    "<div class=\"alert alert-info\">\n",
    "<b>Комментарий студента:</b>\n",
    "<br>Удали этот текст и вместо него напиши свой комментарий 🙂\n",
    "</div>"
   ]
  },
  {
   "cell_type": "markdown",
   "id": "532526fd",
   "metadata": {},
   "source": [
    "<div class=\"alert alert-danger\">\n",
    "<b>❌ Комментарий ревьюера v1:</b> \n",
    "<br>Важно оставлять перед проектом краткое описание задачи. Это поможет тебе быстро вспомнить о чем проект, если спустя время ты решишь к нему вернуться)\n",
    "</div>"
   ]
  },
  {
   "cell_type": "markdown",
   "id": "027387af",
   "metadata": {},
   "source": [
    "<div class=\"alert alert-success\">\n",
    "<b>✔️ Комментарий ревьюера v2:</b>\n",
    "<br>Правка выполнена 👍\n",
    "</div>"
   ]
  },
  {
   "cell_type": "markdown",
   "id": "5be75bb1",
   "metadata": {},
   "source": [
    "\n",
    "# **GoFast**\n",
    "Проект посвящен анализу данных о пользователях и их поездках на сервисе аренды самокатов **GoFast**. Цель проекта - проверить гипотезы, которые могут способствовать росту бизнеса. Проект состоит из трех основных этапов:\n",
    "\n",
    "- **Анализ данных**: Описание и предварительная обработка данных, визуализация данных для лучшего понимания и выявления закономерностей. Данные включают информацию о пользователях сервиса, их поездках и типах подписок.\n",
    "\n",
    "- **Проверка гипотез**: Исследование влияния типа подписки на использование сервиса, зависимости продолжительности поездок от возраста пользователей и определение наиболее популярных маршрутов.\n",
    "\n",
    "- **Подготовка выводов**: Результаты анализа данных позволят сформировать рекомендации по улучшению сервиса и увеличению его привлекательности для пользователей, что в свою очередь приведет к росту бизнеса и увеличению прибыли. "
   ]
  },
  {
   "cell_type": "code",
   "execution_count": 1,
   "id": "72576667",
   "metadata": {},
   "outputs": [],
   "source": [
    "import pandas as pd\n",
    "import matplotlib.pyplot as plt\n",
    "import numpy as np\n",
    "import math\n",
    "from scipy.stats import ttest_ind\n",
    "from scipy.stats import ttest_1samp\n",
    "import scipy.stats as stats"
   ]
  },
  {
   "cell_type": "markdown",
   "id": "ec531682",
   "metadata": {},
   "source": [
    "<div class=\"alert alert-success\">\n",
    "<b>✔️ Комментарий ревьюера v1:</b> \n",
    "<br>Молодец, что импортируешь все библиотеки отдельно в первой ячейке. Это позволит тебе в любой момент добавить ещё одну библиотеку без перезаписи переменных.\n",
    "</div>"
   ]
  },
  {
   "cell_type": "markdown",
   "id": "c42cbe00",
   "metadata": {},
   "source": [
    "#### Шаг 1. Загрузка данных"
   ]
  },
  {
   "cell_type": "code",
   "execution_count": 2,
   "id": "eff9f206",
   "metadata": {},
   "outputs": [],
   "source": [
    "users = pd.read_csv(\"/datasets/users_go.csv\")\n",
    "rides = pd.read_csv(\"/datasets/rides_go.csv\", parse_dates=['date'])\n",
    "subscriptions = pd.read_csv(\"/datasets/subscriptions_go.csv\")\n"
   ]
  },
  {
   "cell_type": "code",
   "execution_count": 3,
   "id": "6f71a425",
   "metadata": {},
   "outputs": [
    {
     "data": {
      "text/html": [
       "<div>\n",
       "<style scoped>\n",
       "    .dataframe tbody tr th:only-of-type {\n",
       "        vertical-align: middle;\n",
       "    }\n",
       "\n",
       "    .dataframe tbody tr th {\n",
       "        vertical-align: top;\n",
       "    }\n",
       "\n",
       "    .dataframe thead th {\n",
       "        text-align: right;\n",
       "    }\n",
       "</style>\n",
       "<table border=\"1\" class=\"dataframe\">\n",
       "  <thead>\n",
       "    <tr style=\"text-align: right;\">\n",
       "      <th></th>\n",
       "      <th>user_id</th>\n",
       "      <th>name</th>\n",
       "      <th>age</th>\n",
       "      <th>city</th>\n",
       "      <th>subscription_type</th>\n",
       "    </tr>\n",
       "  </thead>\n",
       "  <tbody>\n",
       "    <tr>\n",
       "      <th>0</th>\n",
       "      <td>1</td>\n",
       "      <td>Кира</td>\n",
       "      <td>22</td>\n",
       "      <td>Тюмень</td>\n",
       "      <td>ultra</td>\n",
       "    </tr>\n",
       "    <tr>\n",
       "      <th>1</th>\n",
       "      <td>2</td>\n",
       "      <td>Станислав</td>\n",
       "      <td>31</td>\n",
       "      <td>Омск</td>\n",
       "      <td>ultra</td>\n",
       "    </tr>\n",
       "    <tr>\n",
       "      <th>2</th>\n",
       "      <td>3</td>\n",
       "      <td>Алексей</td>\n",
       "      <td>20</td>\n",
       "      <td>Москва</td>\n",
       "      <td>ultra</td>\n",
       "    </tr>\n",
       "    <tr>\n",
       "      <th>3</th>\n",
       "      <td>4</td>\n",
       "      <td>Константин</td>\n",
       "      <td>26</td>\n",
       "      <td>Ростов-на-Дону</td>\n",
       "      <td>ultra</td>\n",
       "    </tr>\n",
       "    <tr>\n",
       "      <th>4</th>\n",
       "      <td>5</td>\n",
       "      <td>Адель</td>\n",
       "      <td>28</td>\n",
       "      <td>Омск</td>\n",
       "      <td>ultra</td>\n",
       "    </tr>\n",
       "    <tr>\n",
       "      <th>...</th>\n",
       "      <td>...</td>\n",
       "      <td>...</td>\n",
       "      <td>...</td>\n",
       "      <td>...</td>\n",
       "      <td>...</td>\n",
       "    </tr>\n",
       "    <tr>\n",
       "      <th>1560</th>\n",
       "      <td>829</td>\n",
       "      <td>Федор</td>\n",
       "      <td>29</td>\n",
       "      <td>Пятигорск</td>\n",
       "      <td>free</td>\n",
       "    </tr>\n",
       "    <tr>\n",
       "      <th>1561</th>\n",
       "      <td>809</td>\n",
       "      <td>Юрий</td>\n",
       "      <td>26</td>\n",
       "      <td>Сочи</td>\n",
       "      <td>free</td>\n",
       "    </tr>\n",
       "    <tr>\n",
       "      <th>1562</th>\n",
       "      <td>307</td>\n",
       "      <td>Ясмина</td>\n",
       "      <td>19</td>\n",
       "      <td>Краснодар</td>\n",
       "      <td>ultra</td>\n",
       "    </tr>\n",
       "    <tr>\n",
       "      <th>1563</th>\n",
       "      <td>47</td>\n",
       "      <td>Юрий</td>\n",
       "      <td>28</td>\n",
       "      <td>Тюмень</td>\n",
       "      <td>ultra</td>\n",
       "    </tr>\n",
       "    <tr>\n",
       "      <th>1564</th>\n",
       "      <td>1045</td>\n",
       "      <td>Артемий</td>\n",
       "      <td>28</td>\n",
       "      <td>Ростов-на-Дону</td>\n",
       "      <td>free</td>\n",
       "    </tr>\n",
       "  </tbody>\n",
       "</table>\n",
       "<p>1565 rows × 5 columns</p>\n",
       "</div>"
      ],
      "text/plain": [
       "      user_id        name  age            city subscription_type\n",
       "0           1        Кира   22          Тюмень             ultra\n",
       "1           2   Станислав   31            Омск             ultra\n",
       "2           3     Алексей   20          Москва             ultra\n",
       "3           4  Константин   26  Ростов-на-Дону             ultra\n",
       "4           5       Адель   28            Омск             ultra\n",
       "...       ...         ...  ...             ...               ...\n",
       "1560      829       Федор   29       Пятигорск              free\n",
       "1561      809        Юрий   26            Сочи              free\n",
       "1562      307      Ясмина   19       Краснодар             ultra\n",
       "1563       47        Юрий   28          Тюмень             ultra\n",
       "1564     1045     Артемий   28  Ростов-на-Дону              free\n",
       "\n",
       "[1565 rows x 5 columns]"
      ]
     },
     "metadata": {},
     "output_type": "display_data"
    }
   ],
   "source": [
    "display(users)"
   ]
  },
  {
   "cell_type": "code",
   "execution_count": 4,
   "id": "399bb8e8",
   "metadata": {},
   "outputs": [
    {
     "data": {
      "text/html": [
       "<div>\n",
       "<style scoped>\n",
       "    .dataframe tbody tr th:only-of-type {\n",
       "        vertical-align: middle;\n",
       "    }\n",
       "\n",
       "    .dataframe tbody tr th {\n",
       "        vertical-align: top;\n",
       "    }\n",
       "\n",
       "    .dataframe thead th {\n",
       "        text-align: right;\n",
       "    }\n",
       "</style>\n",
       "<table border=\"1\" class=\"dataframe\">\n",
       "  <thead>\n",
       "    <tr style=\"text-align: right;\">\n",
       "      <th></th>\n",
       "      <th>user_id</th>\n",
       "      <th>distance</th>\n",
       "      <th>duration</th>\n",
       "      <th>date</th>\n",
       "    </tr>\n",
       "  </thead>\n",
       "  <tbody>\n",
       "    <tr>\n",
       "      <th>0</th>\n",
       "      <td>1</td>\n",
       "      <td>4409.919140</td>\n",
       "      <td>25.599769</td>\n",
       "      <td>2021-01-01</td>\n",
       "    </tr>\n",
       "    <tr>\n",
       "      <th>1</th>\n",
       "      <td>1</td>\n",
       "      <td>2617.592153</td>\n",
       "      <td>15.816871</td>\n",
       "      <td>2021-01-18</td>\n",
       "    </tr>\n",
       "    <tr>\n",
       "      <th>2</th>\n",
       "      <td>1</td>\n",
       "      <td>754.159807</td>\n",
       "      <td>6.232113</td>\n",
       "      <td>2021-04-20</td>\n",
       "    </tr>\n",
       "    <tr>\n",
       "      <th>3</th>\n",
       "      <td>1</td>\n",
       "      <td>2694.783254</td>\n",
       "      <td>18.511000</td>\n",
       "      <td>2021-08-11</td>\n",
       "    </tr>\n",
       "    <tr>\n",
       "      <th>4</th>\n",
       "      <td>1</td>\n",
       "      <td>4028.687306</td>\n",
       "      <td>26.265803</td>\n",
       "      <td>2021-08-28</td>\n",
       "    </tr>\n",
       "    <tr>\n",
       "      <th>...</th>\n",
       "      <td>...</td>\n",
       "      <td>...</td>\n",
       "      <td>...</td>\n",
       "      <td>...</td>\n",
       "    </tr>\n",
       "    <tr>\n",
       "      <th>18063</th>\n",
       "      <td>1534</td>\n",
       "      <td>3781.098080</td>\n",
       "      <td>19.822962</td>\n",
       "      <td>2021-11-04</td>\n",
       "    </tr>\n",
       "    <tr>\n",
       "      <th>18064</th>\n",
       "      <td>1534</td>\n",
       "      <td>2840.423057</td>\n",
       "      <td>21.409799</td>\n",
       "      <td>2021-11-16</td>\n",
       "    </tr>\n",
       "    <tr>\n",
       "      <th>18065</th>\n",
       "      <td>1534</td>\n",
       "      <td>3826.185507</td>\n",
       "      <td>18.435051</td>\n",
       "      <td>2021-11-18</td>\n",
       "    </tr>\n",
       "    <tr>\n",
       "      <th>18066</th>\n",
       "      <td>1534</td>\n",
       "      <td>2902.308661</td>\n",
       "      <td>16.674362</td>\n",
       "      <td>2021-11-27</td>\n",
       "    </tr>\n",
       "    <tr>\n",
       "      <th>18067</th>\n",
       "      <td>1534</td>\n",
       "      <td>2371.711192</td>\n",
       "      <td>15.893917</td>\n",
       "      <td>2021-12-29</td>\n",
       "    </tr>\n",
       "  </tbody>\n",
       "</table>\n",
       "<p>18068 rows × 4 columns</p>\n",
       "</div>"
      ],
      "text/plain": [
       "       user_id     distance   duration       date\n",
       "0            1  4409.919140  25.599769 2021-01-01\n",
       "1            1  2617.592153  15.816871 2021-01-18\n",
       "2            1   754.159807   6.232113 2021-04-20\n",
       "3            1  2694.783254  18.511000 2021-08-11\n",
       "4            1  4028.687306  26.265803 2021-08-28\n",
       "...        ...          ...        ...        ...\n",
       "18063     1534  3781.098080  19.822962 2021-11-04\n",
       "18064     1534  2840.423057  21.409799 2021-11-16\n",
       "18065     1534  3826.185507  18.435051 2021-11-18\n",
       "18066     1534  2902.308661  16.674362 2021-11-27\n",
       "18067     1534  2371.711192  15.893917 2021-12-29\n",
       "\n",
       "[18068 rows x 4 columns]"
      ]
     },
     "metadata": {},
     "output_type": "display_data"
    }
   ],
   "source": [
    "display(rides)"
   ]
  },
  {
   "cell_type": "code",
   "execution_count": 5,
   "id": "482436e5",
   "metadata": {},
   "outputs": [
    {
     "data": {
      "text/html": [
       "<div>\n",
       "<style scoped>\n",
       "    .dataframe tbody tr th:only-of-type {\n",
       "        vertical-align: middle;\n",
       "    }\n",
       "\n",
       "    .dataframe tbody tr th {\n",
       "        vertical-align: top;\n",
       "    }\n",
       "\n",
       "    .dataframe thead th {\n",
       "        text-align: right;\n",
       "    }\n",
       "</style>\n",
       "<table border=\"1\" class=\"dataframe\">\n",
       "  <thead>\n",
       "    <tr style=\"text-align: right;\">\n",
       "      <th></th>\n",
       "      <th>subscription_type</th>\n",
       "      <th>minute_price</th>\n",
       "      <th>start_ride_price</th>\n",
       "      <th>subscription_fee</th>\n",
       "    </tr>\n",
       "  </thead>\n",
       "  <tbody>\n",
       "    <tr>\n",
       "      <th>0</th>\n",
       "      <td>free</td>\n",
       "      <td>8</td>\n",
       "      <td>50</td>\n",
       "      <td>0</td>\n",
       "    </tr>\n",
       "    <tr>\n",
       "      <th>1</th>\n",
       "      <td>ultra</td>\n",
       "      <td>6</td>\n",
       "      <td>0</td>\n",
       "      <td>199</td>\n",
       "    </tr>\n",
       "  </tbody>\n",
       "</table>\n",
       "</div>"
      ],
      "text/plain": [
       "  subscription_type  minute_price  start_ride_price  subscription_fee\n",
       "0              free             8                50                 0\n",
       "1             ultra             6                 0               199"
      ]
     },
     "metadata": {},
     "output_type": "display_data"
    }
   ],
   "source": [
    "display(subscriptions)"
   ]
  },
  {
   "cell_type": "code",
   "execution_count": 6,
   "id": "aa7604ce",
   "metadata": {},
   "outputs": [],
   "source": [
    "data = pd.merge(pd.merge(users, rides, on='user_id'), subscriptions, on='subscription_type')"
   ]
  },
  {
   "cell_type": "markdown",
   "id": "c126dec3",
   "metadata": {},
   "source": [
    "<div class=\"alert alert-danger\">\n",
    "<b>❌ Комментарий ревьюера v1:</b> \n",
    "<br>Стоит написать короткий вывод после первичного анализа данных, который будет планом для дальнейшей предоработки. \n",
    "</div>"
   ]
  },
  {
   "cell_type": "markdown",
   "id": "c83de602",
   "metadata": {},
   "source": [
    "В данном наборе данных представлена информация о пользователях, поездках и подписках. \n",
    "\n",
    "В таблице \"users\" содержатся следующие столбцы:\n",
    "- userid: уникальный идентификатор пользователя;\n",
    "- name: имя пользователя;\n",
    "- age: возраст пользователя;\n",
    "- city: город проживания пользователя;\n",
    "- subscriptiontype: тип подписки, который имеет пользователь.\n",
    "\n",
    "Таблица \"rides\" содержит информацию о каждой поездке:\n",
    "- userid: идентификатор пользователя, совершившего поездку;\n",
    "- distance: пройденное расстояние в поездке;\n",
    "- duration: продолжительность поездки в минутах;\n",
    "- date: дата, когда была совершена поездка.\n",
    "\n",
    "Таблица \"subscriptions\" содержит информацию о каждом типе подписки:\n",
    "- subscriptiontype: тип подписки;\n",
    "- minuteprice: цена за минуту поездки;\n",
    "- startrideprice: цена за начало поездки;\n",
    "- subscriptionfee: ежемесячная плата за подписку.\n",
    "\n",
    "Таким образом, данный набор данных позволяет анализировать активность пользователей, их предпочтения в выборе типа подписки и использование сервиса, а также проводить статистический анализ поездок."
   ]
  },
  {
   "cell_type": "markdown",
   "id": "1ae2ab3f",
   "metadata": {},
   "source": [
    "<div class=\"alert alert-success\">\n",
    "<b>✔️ Комментарий ревьюера v2:</b>\n",
    "<br>Правка выполнена 👍\n",
    "</div>"
   ]
  },
  {
   "cell_type": "markdown",
   "id": "e95ebca7",
   "metadata": {},
   "source": [
    "#### Шаг 2. Предобработка данных"
   ]
  },
  {
   "cell_type": "markdown",
   "id": "59ee096b",
   "metadata": {},
   "source": [
    "<div class=\"alert alert-success\">\n",
    "<b>✔️ Комментарий ревьюера v1:</b> \n",
    "<br>Тип данных изменён верно! \n",
    "</div>\n",
    "\t\t\t\t\n",
    "<div class=\"alert alert-warning\">\n",
    "<b>⚠️ Комментарий ревьюера v1:</b> \n",
    "<br>Если при загрузке данных добавить параметр parse_dates: parse_dates=['date'] то список столбцов автоматически переведется в даты. Подробнее про это можно прочитать по ссылке ниже\n",
    "\t\t\t\t\n",
    "\thttps://newtechaudit.ru/gruzi-daty-krasivo/\n",
    "</div>"
   ]
  },
  {
   "cell_type": "code",
   "execution_count": 7,
   "id": "0ca392f1",
   "metadata": {},
   "outputs": [],
   "source": [
    "data['month'] = data['date'].dt.month"
   ]
  },
  {
   "cell_type": "markdown",
   "id": "16ba2ac5",
   "metadata": {},
   "source": [
    "<div class=\"alert alert-success\">\n",
    "<b>✔️ Комментарий ревьюера v1:</b> \n",
    "<br>Новый столбец создан верно!\n",
    "</div>"
   ]
  },
  {
   "cell_type": "code",
   "execution_count": 8,
   "id": "14f75bc6",
   "metadata": {},
   "outputs": [
    {
     "name": "stdout",
     "output_type": "stream",
     "text": [
      "user_id              0\n",
      "name                 0\n",
      "age                  0\n",
      "city                 0\n",
      "subscription_type    0\n",
      "distance             0\n",
      "duration             0\n",
      "date                 0\n",
      "minute_price         0\n",
      "start_ride_price     0\n",
      "subscription_fee     0\n",
      "month                0\n",
      "dtype: int64\n"
     ]
    }
   ],
   "source": [
    "# Проверка пропущенных значений\n",
    "print(data.isnull().sum())"
   ]
  },
  {
   "cell_type": "code",
   "execution_count": 9,
   "id": "43938dd8",
   "metadata": {},
   "outputs": [
    {
     "data": {
      "text/html": [
       "<div>\n",
       "<style scoped>\n",
       "    .dataframe tbody tr th:only-of-type {\n",
       "        vertical-align: middle;\n",
       "    }\n",
       "\n",
       "    .dataframe tbody tr th {\n",
       "        vertical-align: top;\n",
       "    }\n",
       "\n",
       "    .dataframe thead th {\n",
       "        text-align: right;\n",
       "    }\n",
       "</style>\n",
       "<table border=\"1\" class=\"dataframe\">\n",
       "  <thead>\n",
       "    <tr style=\"text-align: right;\">\n",
       "      <th></th>\n",
       "      <th>user_id</th>\n",
       "      <th>name</th>\n",
       "      <th>age</th>\n",
       "      <th>city</th>\n",
       "      <th>subscription_type</th>\n",
       "      <th>distance</th>\n",
       "      <th>duration</th>\n",
       "      <th>date</th>\n",
       "      <th>minute_price</th>\n",
       "      <th>start_ride_price</th>\n",
       "      <th>subscription_fee</th>\n",
       "      <th>month</th>\n",
       "    </tr>\n",
       "  </thead>\n",
       "  <tbody>\n",
       "    <tr>\n",
       "      <th>154</th>\n",
       "      <td>16</td>\n",
       "      <td>Амалия</td>\n",
       "      <td>27</td>\n",
       "      <td>Краснодар</td>\n",
       "      <td>ultra</td>\n",
       "      <td>850.321732</td>\n",
       "      <td>13.125804</td>\n",
       "      <td>2021-02-18</td>\n",
       "      <td>6</td>\n",
       "      <td>0</td>\n",
       "      <td>199</td>\n",
       "      <td>2</td>\n",
       "    </tr>\n",
       "    <tr>\n",
       "      <th>155</th>\n",
       "      <td>16</td>\n",
       "      <td>Амалия</td>\n",
       "      <td>27</td>\n",
       "      <td>Краснодар</td>\n",
       "      <td>ultra</td>\n",
       "      <td>2669.699887</td>\n",
       "      <td>9.160846</td>\n",
       "      <td>2021-03-03</td>\n",
       "      <td>6</td>\n",
       "      <td>0</td>\n",
       "      <td>199</td>\n",
       "      <td>3</td>\n",
       "    </tr>\n",
       "    <tr>\n",
       "      <th>156</th>\n",
       "      <td>16</td>\n",
       "      <td>Амалия</td>\n",
       "      <td>27</td>\n",
       "      <td>Краснодар</td>\n",
       "      <td>ultra</td>\n",
       "      <td>3073.745017</td>\n",
       "      <td>25.442470</td>\n",
       "      <td>2021-03-06</td>\n",
       "      <td>6</td>\n",
       "      <td>0</td>\n",
       "      <td>199</td>\n",
       "      <td>3</td>\n",
       "    </tr>\n",
       "    <tr>\n",
       "      <th>157</th>\n",
       "      <td>16</td>\n",
       "      <td>Амалия</td>\n",
       "      <td>27</td>\n",
       "      <td>Краснодар</td>\n",
       "      <td>ultra</td>\n",
       "      <td>4234.235859</td>\n",
       "      <td>17.114120</td>\n",
       "      <td>2021-04-02</td>\n",
       "      <td>6</td>\n",
       "      <td>0</td>\n",
       "      <td>199</td>\n",
       "      <td>4</td>\n",
       "    </tr>\n",
       "    <tr>\n",
       "      <th>158</th>\n",
       "      <td>16</td>\n",
       "      <td>Амалия</td>\n",
       "      <td>27</td>\n",
       "      <td>Краснодар</td>\n",
       "      <td>ultra</td>\n",
       "      <td>2967.367846</td>\n",
       "      <td>18.695544</td>\n",
       "      <td>2021-04-16</td>\n",
       "      <td>6</td>\n",
       "      <td>0</td>\n",
       "      <td>199</td>\n",
       "      <td>4</td>\n",
       "    </tr>\n",
       "    <tr>\n",
       "      <th>...</th>\n",
       "      <td>...</td>\n",
       "      <td>...</td>\n",
       "      <td>...</td>\n",
       "      <td>...</td>\n",
       "      <td>...</td>\n",
       "      <td>...</td>\n",
       "      <td>...</td>\n",
       "      <td>...</td>\n",
       "      <td>...</td>\n",
       "      <td>...</td>\n",
       "      <td>...</td>\n",
       "      <td>...</td>\n",
       "    </tr>\n",
       "    <tr>\n",
       "      <th>14326</th>\n",
       "      <td>1245</td>\n",
       "      <td>Регина</td>\n",
       "      <td>27</td>\n",
       "      <td>Пятигорск</td>\n",
       "      <td>free</td>\n",
       "      <td>3084.297976</td>\n",
       "      <td>30.823444</td>\n",
       "      <td>2021-11-08</td>\n",
       "      <td>8</td>\n",
       "      <td>50</td>\n",
       "      <td>0</td>\n",
       "      <td>11</td>\n",
       "    </tr>\n",
       "    <tr>\n",
       "      <th>14327</th>\n",
       "      <td>1245</td>\n",
       "      <td>Регина</td>\n",
       "      <td>27</td>\n",
       "      <td>Пятигорск</td>\n",
       "      <td>free</td>\n",
       "      <td>2581.112640</td>\n",
       "      <td>22.324451</td>\n",
       "      <td>2021-11-12</td>\n",
       "      <td>8</td>\n",
       "      <td>50</td>\n",
       "      <td>0</td>\n",
       "      <td>11</td>\n",
       "    </tr>\n",
       "    <tr>\n",
       "      <th>14328</th>\n",
       "      <td>1245</td>\n",
       "      <td>Регина</td>\n",
       "      <td>27</td>\n",
       "      <td>Пятигорск</td>\n",
       "      <td>free</td>\n",
       "      <td>3401.504555</td>\n",
       "      <td>17.849626</td>\n",
       "      <td>2021-11-27</td>\n",
       "      <td>8</td>\n",
       "      <td>50</td>\n",
       "      <td>0</td>\n",
       "      <td>11</td>\n",
       "    </tr>\n",
       "    <tr>\n",
       "      <th>14329</th>\n",
       "      <td>1245</td>\n",
       "      <td>Регина</td>\n",
       "      <td>27</td>\n",
       "      <td>Пятигорск</td>\n",
       "      <td>free</td>\n",
       "      <td>2868.387220</td>\n",
       "      <td>18.822874</td>\n",
       "      <td>2021-12-08</td>\n",
       "      <td>8</td>\n",
       "      <td>50</td>\n",
       "      <td>0</td>\n",
       "      <td>12</td>\n",
       "    </tr>\n",
       "    <tr>\n",
       "      <th>14330</th>\n",
       "      <td>1245</td>\n",
       "      <td>Регина</td>\n",
       "      <td>27</td>\n",
       "      <td>Пятигорск</td>\n",
       "      <td>free</td>\n",
       "      <td>1139.496558</td>\n",
       "      <td>9.734792</td>\n",
       "      <td>2021-12-14</td>\n",
       "      <td>8</td>\n",
       "      <td>50</td>\n",
       "      <td>0</td>\n",
       "      <td>12</td>\n",
       "    </tr>\n",
       "  </tbody>\n",
       "</table>\n",
       "<p>640 rows × 12 columns</p>\n",
       "</div>"
      ],
      "text/plain": [
       "       user_id    name  age       city subscription_type     distance  \\\n",
       "154         16  Амалия   27  Краснодар             ultra   850.321732   \n",
       "155         16  Амалия   27  Краснодар             ultra  2669.699887   \n",
       "156         16  Амалия   27  Краснодар             ultra  3073.745017   \n",
       "157         16  Амалия   27  Краснодар             ultra  4234.235859   \n",
       "158         16  Амалия   27  Краснодар             ultra  2967.367846   \n",
       "...        ...     ...  ...        ...               ...          ...   \n",
       "14326     1245  Регина   27  Пятигорск              free  3084.297976   \n",
       "14327     1245  Регина   27  Пятигорск              free  2581.112640   \n",
       "14328     1245  Регина   27  Пятигорск              free  3401.504555   \n",
       "14329     1245  Регина   27  Пятигорск              free  2868.387220   \n",
       "14330     1245  Регина   27  Пятигорск              free  1139.496558   \n",
       "\n",
       "        duration       date  minute_price  start_ride_price  subscription_fee  \\\n",
       "154    13.125804 2021-02-18             6                 0               199   \n",
       "155     9.160846 2021-03-03             6                 0               199   \n",
       "156    25.442470 2021-03-06             6                 0               199   \n",
       "157    17.114120 2021-04-02             6                 0               199   \n",
       "158    18.695544 2021-04-16             6                 0               199   \n",
       "...          ...        ...           ...               ...               ...   \n",
       "14326  30.823444 2021-11-08             8                50                 0   \n",
       "14327  22.324451 2021-11-12             8                50                 0   \n",
       "14328  17.849626 2021-11-27             8                50                 0   \n",
       "14329  18.822874 2021-12-08             8                50                 0   \n",
       "14330   9.734792 2021-12-14             8                50                 0   \n",
       "\n",
       "       month  \n",
       "154        2  \n",
       "155        3  \n",
       "156        3  \n",
       "157        4  \n",
       "158        4  \n",
       "...      ...  \n",
       "14326     11  \n",
       "14327     11  \n",
       "14328     11  \n",
       "14329     12  \n",
       "14330     12  \n",
       "\n",
       "[640 rows x 12 columns]"
      ]
     },
     "metadata": {},
     "output_type": "display_data"
    }
   ],
   "source": [
    "duplicates = data[data.duplicated(keep=False)]\n",
    "display(duplicates)"
   ]
  },
  {
   "cell_type": "markdown",
   "id": "29c4c6a3",
   "metadata": {},
   "source": [
    "<div class=\"alert alert-danger\">\n",
    "<b>❌ Комментарий ревьюера v1:</b> \n",
    "<br>Дубликаты необходимо удалить\n",
    "</div>"
   ]
  },
  {
   "cell_type": "code",
   "execution_count": 10,
   "id": "d8e94877",
   "metadata": {},
   "outputs": [],
   "source": [
    "data = data.drop_duplicates().reset_index(drop=True)"
   ]
  },
  {
   "cell_type": "markdown",
   "id": "0bcff89c",
   "metadata": {},
   "source": [
    "<div class=\"alert alert-success\">\n",
    "<b>✔️ Комментарий ревьюера v2:</b>\n",
    "<br>Правка выполнена 👍\n",
    "</div>"
   ]
  },
  {
   "cell_type": "markdown",
   "id": "eebdb4b1",
   "metadata": {},
   "source": [
    "<div class=\"alert alert-danger\">\n",
    "<b>❌ Комментарий ревьюера v1:</b> \n",
    "<br>В конце каждого раздела, необходимо написать короткий промежуточный вывод. Проверь самостоятельно, чтобы дальше по проекту выводы были\n",
    "</div>"
   ]
  },
  {
   "cell_type": "markdown",
   "id": "9b063c20",
   "metadata": {},
   "source": [
    "в столбце 'date' переменной 'data' значения дат были преобразованы в формат даты с помощью функции to_datetime() из библиотеки pandas. Затем был создан новый столбец 'month', в котором сохранены значения месяца для каждой даты из столбца 'date'.\n",
    "\n",
    "В ходе анализа данных также было обнаружено, что в переменной 'data' отсутствуют пропуски. Кроме того, было удалено 640 дубликатов, что позволяет доверять точности данных и использовать их для последующего анализа и исследования."
   ]
  },
  {
   "cell_type": "markdown",
   "id": "5ebd0a29",
   "metadata": {},
   "source": [
    "<div class=\"alert alert-success\">\n",
    "<b>✔️ Комментарий ревьюера v2:</b>\n",
    "<br>Правка выполнена 👍\n",
    "</div>"
   ]
  },
  {
   "cell_type": "markdown",
   "id": "212593c7",
   "metadata": {},
   "source": [
    "#### Шаг 3. Исследовательский анализ данных"
   ]
  },
  {
   "cell_type": "code",
   "execution_count": 11,
   "id": "e3a4274c",
   "metadata": {},
   "outputs": [
    {
     "name": "stdout",
     "output_type": "stream",
     "text": [
      "Пятигорск         226\n",
      "Екатеринбург      206\n",
      "Ростов-на-Дону    202\n",
      "Краснодар         196\n",
      "Сочи              192\n",
      "Омск              186\n",
      "Тюмень            185\n",
      "Москва            172\n",
      "Name: city, dtype: int64\n"
     ]
    }
   ],
   "source": [
    "city_counts = users['city'].value_counts()\n",
    "print(city_counts)\n"
   ]
  },
  {
   "cell_type": "code",
   "execution_count": 12,
   "id": "f0c74bf1",
   "metadata": {},
   "outputs": [
    {
     "data": {
      "image/png": "[encoded data removed]",
      "text/plain": [
       "<Figure size 720x432 with 1 Axes>"
      ]
     },
     "metadata": {
      "needs_background": "light"
     },
     "output_type": "display_data"
    }
   ],
   "source": [
    "plt.figure(figsize=(10, 6))\n",
    "city_counts.plot(kind='bar')\n",
    "plt.xlabel('Город')\n",
    "plt.ylabel('Количество пользователей')\n",
    "plt.title('Частота встречаемости городов')\n",
    "plt.show()\n"
   ]
  },
  {
   "cell_type": "markdown",
   "id": "0c5b989c",
   "metadata": {},
   "source": [
    "<div class=\"alert alert-success\">\n",
    "<b>✔️ Комментарий ревьюера v1:</b>\n",
    "<br>Молодец, что подписываешь график и его оси, а так же не забываешь про сортировку!\n",
    "</div>"
   ]
  },
  {
   "cell_type": "markdown",
   "id": "45126569",
   "metadata": {},
   "source": [
    "<div class=\"alert alert-danger\">\n",
    "<b>❌ Комментарий ревьюера v1:</b> \n",
    "<br>Нужно добавить вывод после графика\n",
    "</div>"
   ]
  },
  {
   "cell_type": "markdown",
   "id": "1ca608eb",
   "metadata": {},
   "source": [
    "Из предоставленных данных видно, что наибольшее количество пользователей зарегистрировано в городе Пятигорск - 226 человек. Это следует за городами Екатеринбург (206 пользователей), Ростов-на-Дону (202 пользователей) и Краснодар (196 пользователей). Сочи (192 пользователей), Омск (186 пользователей), Тюмень (185 пользователей) и Москва (172 пользователя) также имеют значительное количество пользователей. \n",
    "\n",
    "Такая информация о частоте встречаемости городов может быть полезна для маркетинговых и бизнес-решений, чтобы понять, в каких городах следует сосредоточить усилия для привлечения новых пользователей или в каких городах можно увеличить предложения и сервисы для существующих пользователей."
   ]
  },
  {
   "cell_type": "markdown",
   "id": "20d6aa1a",
   "metadata": {},
   "source": [
    "<div class=\"alert alert-success\">\n",
    "<b>✔️ Комментарий ревьюера v2:</b>\n",
    "<br>Правка выполнена 👍\n",
    "</div>"
   ]
  },
  {
   "cell_type": "code",
   "execution_count": 13,
   "id": "d9052b2f",
   "metadata": {},
   "outputs": [
    {
     "name": "stdout",
     "output_type": "stream",
     "text": [
      "free     846\n",
      "ultra    719\n",
      "Name: subscription_type, dtype: int64\n"
     ]
    }
   ],
   "source": [
    "subscription_counts = users['subscription_type'].value_counts()\n",
    "print(subscription_counts)"
   ]
  },
  {
   "cell_type": "code",
   "execution_count": 14,
   "id": "2e155a62",
   "metadata": {},
   "outputs": [
    {
     "data": {
      "image/png": "[encoded data removed]",
      "text/plain": [
       "<Figure size 432x432 with 1 Axes>"
      ]
     },
     "metadata": {},
     "output_type": "display_data"
    }
   ],
   "source": [
    "plt.figure(figsize=(6, 6))\n",
    "subscription_counts.plot(kind='pie', autopct='%1.1f%%')\n",
    "plt.title('Соотношение пользователей с подпиской и без подписки')\n",
    "plt.axis('equal')\n",
    "plt.show()\n"
   ]
  },
  {
   "cell_type": "markdown",
   "id": "95685c6e",
   "metadata": {},
   "source": [
    "<div class=\"alert alert-success\">\n",
    "<b>✔️ Комментарий ревьюера v1:</b>\n",
    "<br>Верно! В этом задании нужно смотреть именно на долю пользователей и тут круговая диаграмма отлично подходит!\n",
    "</div>"
   ]
  },
  {
   "cell_type": "markdown",
   "id": "1186b575",
   "metadata": {},
   "source": [
    "<div class=\"alert alert-danger\">\n",
    "<b>❌ Комментарий ревьюера v1:</b> \n",
    "<br>Нужно добавить вывод после графика\n",
    "</div>"
   ]
  },
  {
   "cell_type": "markdown",
   "id": "547183bb",
   "metadata": {},
   "source": [
    "Из представленной информации можно сделать вывод, что среди пользователей нашего сервиса подписка пользуется популярностью. Пользователи, имеющие подписку, составляют 54,1%, в то время как пользователи без подписки составляют 45,9%. Это означает, что большинство пользователей предпочитают иметь подписку, что может быть связано с предоставляемыми преимуществами и возможностями данной подписки."
   ]
  },
  {
   "cell_type": "markdown",
   "id": "7bee5de9",
   "metadata": {},
   "source": [
    "<div class=\"alert alert-success\">\n",
    "<b>✔️ Комментарий ревьюера v2:</b>\n",
    "<br>Правка выполнена 👍\n",
    "</div>"
   ]
  },
  {
   "cell_type": "code",
   "execution_count": 15,
   "id": "a72ba5ac",
   "metadata": {},
   "outputs": [
    {
     "data": {
      "image/png": "[encoded data removed]",
      "text/plain": [
       "<Figure size 720x432 with 1 Axes>"
      ]
     },
     "metadata": {
      "needs_background": "light"
     },
     "output_type": "display_data"
    }
   ],
   "source": [
    "plt.figure(figsize=(10, 6))\n",
    "plt.hist(users['age'], bins=20)\n",
    "plt.xlabel('Возраст')\n",
    "plt.ylabel('Количество пользователей')\n",
    "plt.title('Распределение возраста пользователей')\n",
    "plt.show()\n"
   ]
  },
  {
   "cell_type": "markdown",
   "id": "97e3921e",
   "metadata": {},
   "source": [
    "<div class=\"alert alert-danger\">\n",
    "<b>❌ Комментарий ревьюера v1:</b> \n",
    "<br>Нужно добавить вывод после графика\n",
    "</div>"
   ]
  },
  {
   "cell_type": "markdown",
   "id": "db0fc12a",
   "metadata": {},
   "source": [
    "Из представленной информации видно, что возрастные группы пользователей нашего сервиса достаточно разнообразны. Наибольшее количество пользователей сосредоточено в возрасте от 25 до 29 лет, с пиком на возрасте 25 лет, где число пользователей достигает 149. Затем следуют возрастные группы от 20 до 24 лет и от 30 до 34 лет, с количеством пользователей составляющим 133 и 124 соответственно.\n",
    "\n",
    "Однако, также видно, что с увеличением возраста количество пользователей уменьшается. Например, в возрасте 39 лет и старше количество пользователей составляет всего 1 или 2 человека.\n",
    "\n",
    "Общая картина показывает, что молодежь в возрасте от 20 до 30 лет является самой активной группой пользователей нашего сервиса. Эта информация может быть полезной для формирования маркетинговой стратегии и направления развития сервиса."
   ]
  },
  {
   "cell_type": "markdown",
   "id": "bfa508ee",
   "metadata": {},
   "source": [
    "<div class=\"alert alert-success\">\n",
    "<b>✔️ Комментарий ревьюера v2:</b>\n",
    "<br>Правка выполнена 👍\n",
    "</div>"
   ]
  },
  {
   "cell_type": "code",
   "execution_count": 16,
   "id": "0212d6ef",
   "metadata": {},
   "outputs": [
    {
     "data": {
      "image/png": "[encoded data removed]",
      "text/plain": [
       "<Figure size 720x432 with 1 Axes>"
      ]
     },
     "metadata": {
      "needs_background": "light"
     },
     "output_type": "display_data"
    }
   ],
   "source": [
    "# График распределения расстояний\n",
    "plt.figure(figsize=(10, 6))\n",
    "data['distance'].plot(kind='hist', bins=30)\n",
    "plt.xlabel('Расстояние')\n",
    "plt.ylabel('Количество поездок')\n",
    "plt.title('Распределение расстояний')\n",
    "plt.show()"
   ]
  },
  {
   "cell_type": "markdown",
   "id": "7dd9e5e5",
   "metadata": {},
   "source": [
    "<div class=\"alert alert-danger\">\n",
    "<b>❌ Комментарий ревьюера v1:</b> \n",
    "<br>Нужно добавить вывод после графика\n",
    "</div>"
   ]
  },
  {
   "cell_type": "markdown",
   "id": "f0caa886",
   "metadata": {},
   "source": [
    "По графику видно, что больше поездок имеют расстояние чуть больше 3х км."
   ]
  },
  {
   "cell_type": "markdown",
   "id": "e22361ed",
   "metadata": {},
   "source": [
    "<div class=\"alert alert-success\">\n",
    "<b>✔️ Комментарий ревьюера v2:</b>\n",
    "<br>Правка выполнена 👍\n",
    "</div>"
   ]
  },
  {
   "cell_type": "code",
   "execution_count": 17,
   "id": "a917491b",
   "metadata": {},
   "outputs": [
    {
     "data": {
      "image/png": "[encoded data removed]",
      "text/plain": [
       "<Figure size 720x432 with 1 Axes>"
      ]
     },
     "metadata": {
      "needs_background": "light"
     },
     "output_type": "display_data"
    }
   ],
   "source": [
    "# График распределения продолжительности поездок\n",
    "plt.figure(figsize=(10, 6))\n",
    "data['duration'].plot(kind='hist', bins=30)\n",
    "plt.xlabel('Продолжительность')\n",
    "plt.ylabel('Количество поездок')\n",
    "plt.title('Распределение продолжительности поездок')\n",
    "plt.show()"
   ]
  },
  {
   "cell_type": "markdown",
   "id": "645380ee",
   "metadata": {},
   "source": [
    "<div class=\"alert alert-danger\">\n",
    "<b>❌ Комментарий ревьюера v1:</b> \n",
    "<br>Нужно добавить вывод после графика\n",
    "</div>"
   ]
  },
  {
   "cell_type": "markdown",
   "id": "6bd001f1",
   "metadata": {},
   "source": [
    "Судя по графику, можно сделать вывод, что большая часть поездок занимает примерно 17-18 минут."
   ]
  },
  {
   "cell_type": "markdown",
   "id": "c7b8ce74",
   "metadata": {},
   "source": [
    "<div class=\"alert alert-success\">\n",
    "<b>✔️ Комментарий ревьюера v2:</b>\n",
    "<br>Правка выполнена 👍\n",
    "</div>"
   ]
  },
  {
   "cell_type": "markdown",
   "id": "03c404c9",
   "metadata": {},
   "source": [
    "<div class=\"alert alert-danger\">\n",
    "<b>❌ Комментарий ревьюера v1:</b> \n",
    "<br>Не забудь добавить промежуточный вывод по разделу\n",
    "</div>"
   ]
  },
  {
   "cell_type": "markdown",
   "id": "a47a5c57",
   "metadata": {},
   "source": [
    "Итак, на основе предоставленной информации можно сделать следующие общие выводы о сервисе проката самокатов по городу:\n",
    "\n",
    "1. Город Пятигорск имеет наибольшее количество пользователей, за которым следуют Екатеринбург, Ростов-на-Дону и Краснодар. Такая информация может быть полезной при разработке маркетинговых стратегий и определении приоритетных городов для расширения сервиса.\n",
    "\n",
    "2. Большинство пользователей предпочитают иметь подписку, что указывает на привлекательность предлагаемых преимуществ и возможностей данной подписки. Это позволяет сервису удерживать постоянных пользователей и привлекать новых.\n",
    "\n",
    "3. Молодежь в возрасте от 20 до 30 лет является самой активной группой пользователей. Это означает, что маркетинговые усилия следует сконцентрировать на этой возрастной категории и разработать специальные предложения и акции для ее привлечения.\n",
    "\n",
    "4. Самокаты предпочтительны для коротких поездок внутри города, так как большая часть поездок имеет расстояние чуть больше 3 км. Следовательно, сервис может удовлетворить потребности пользователей, желающих быстро и удобно перемещаться по городу на короткие расстояния.\n",
    "\n",
    "5. Продолжительность большинства поездок составляет примерно 17-18 минут. Это позволяет оптимизировать распределение самокатов в городе и планировать их техническое обслуживание таким образом, чтобы минимизировать время ожидания пользователей.\n",
    "\n",
    "В целом, представленная информация предоставляет полезные наблюдения о пользователях и их предпочтениях, которые могут быть использованы для оптимизации сервиса проката самокатов и привлечения новых пользователей."
   ]
  },
  {
   "cell_type": "markdown",
   "id": "b6856e40",
   "metadata": {},
   "source": [
    "<div class=\"alert alert-success\">\n",
    "<b>✔️ Комментарий ревьюера v2:</b>\n",
    "<br>Правка выполнена 👍\n",
    "</div>"
   ]
  },
  {
   "cell_type": "markdown",
   "id": "4ef51331",
   "metadata": {},
   "source": [
    "#### Шаг 4. Объединение данных"
   ]
  },
  {
   "cell_type": "markdown",
   "id": "9c35250f",
   "metadata": {},
   "source": [
    "4.1 Объеденение сделал при чтении таблиц"
   ]
  },
  {
   "cell_type": "code",
   "execution_count": 18,
   "id": "6bf288b5",
   "metadata": {},
   "outputs": [],
   "source": [
    "df_free = data[data['subscription_type'] == 'free']\n",
    "df_ultra = data[data['subscription_type'] == 'ultra']"
   ]
  },
  {
   "cell_type": "markdown",
   "id": "c165272b",
   "metadata": {},
   "source": [
    "<div class=\"alert alert-warning\">\n",
    "<b>⚠️ Комментарий ревьюера v1:</b> \n",
    "<br>Не забывай проверять размерность таблиц после любых операций с ними (создание, срезы, объединение). Это позволить понять, ничего ли не потерялось при объединении\n",
    "</div>"
   ]
  },
  {
   "cell_type": "code",
   "execution_count": 19,
   "id": "0497a2fc",
   "metadata": {},
   "outputs": [
    {
     "data": {
      "text/html": [
       "<div>\n",
       "<style scoped>\n",
       "    .dataframe tbody tr th:only-of-type {\n",
       "        vertical-align: middle;\n",
       "    }\n",
       "\n",
       "    .dataframe tbody tr th {\n",
       "        vertical-align: top;\n",
       "    }\n",
       "\n",
       "    .dataframe thead th {\n",
       "        text-align: right;\n",
       "    }\n",
       "</style>\n",
       "<table border=\"1\" class=\"dataframe\">\n",
       "  <thead>\n",
       "    <tr style=\"text-align: right;\">\n",
       "      <th></th>\n",
       "      <th>user_id</th>\n",
       "      <th>name</th>\n",
       "      <th>age</th>\n",
       "      <th>city</th>\n",
       "      <th>subscription_type</th>\n",
       "      <th>distance</th>\n",
       "      <th>duration</th>\n",
       "      <th>date</th>\n",
       "      <th>minute_price</th>\n",
       "      <th>start_ride_price</th>\n",
       "      <th>subscription_fee</th>\n",
       "      <th>month</th>\n",
       "    </tr>\n",
       "  </thead>\n",
       "  <tbody>\n",
       "    <tr>\n",
       "      <th>6500</th>\n",
       "      <td>700</td>\n",
       "      <td>Айдар</td>\n",
       "      <td>22</td>\n",
       "      <td>Омск</td>\n",
       "      <td>free</td>\n",
       "      <td>2515.690719</td>\n",
       "      <td>14.944286</td>\n",
       "      <td>2021-01-02</td>\n",
       "      <td>8</td>\n",
       "      <td>50</td>\n",
       "      <td>0</td>\n",
       "      <td>1</td>\n",
       "    </tr>\n",
       "    <tr>\n",
       "      <th>6501</th>\n",
       "      <td>700</td>\n",
       "      <td>Айдар</td>\n",
       "      <td>22</td>\n",
       "      <td>Омск</td>\n",
       "      <td>free</td>\n",
       "      <td>846.932642</td>\n",
       "      <td>16.234663</td>\n",
       "      <td>2021-02-01</td>\n",
       "      <td>8</td>\n",
       "      <td>50</td>\n",
       "      <td>0</td>\n",
       "      <td>2</td>\n",
       "    </tr>\n",
       "    <tr>\n",
       "      <th>6502</th>\n",
       "      <td>700</td>\n",
       "      <td>Айдар</td>\n",
       "      <td>22</td>\n",
       "      <td>Омск</td>\n",
       "      <td>free</td>\n",
       "      <td>4004.434142</td>\n",
       "      <td>20.016628</td>\n",
       "      <td>2021-02-04</td>\n",
       "      <td>8</td>\n",
       "      <td>50</td>\n",
       "      <td>0</td>\n",
       "      <td>2</td>\n",
       "    </tr>\n",
       "    <tr>\n",
       "      <th>6503</th>\n",
       "      <td>700</td>\n",
       "      <td>Айдар</td>\n",
       "      <td>22</td>\n",
       "      <td>Омск</td>\n",
       "      <td>free</td>\n",
       "      <td>1205.911290</td>\n",
       "      <td>9.782872</td>\n",
       "      <td>2021-02-10</td>\n",
       "      <td>8</td>\n",
       "      <td>50</td>\n",
       "      <td>0</td>\n",
       "      <td>2</td>\n",
       "    </tr>\n",
       "    <tr>\n",
       "      <th>6504</th>\n",
       "      <td>700</td>\n",
       "      <td>Айдар</td>\n",
       "      <td>22</td>\n",
       "      <td>Омск</td>\n",
       "      <td>free</td>\n",
       "      <td>3047.379435</td>\n",
       "      <td>17.427673</td>\n",
       "      <td>2021-02-14</td>\n",
       "      <td>8</td>\n",
       "      <td>50</td>\n",
       "      <td>0</td>\n",
       "      <td>2</td>\n",
       "    </tr>\n",
       "    <tr>\n",
       "      <th>...</th>\n",
       "      <td>...</td>\n",
       "      <td>...</td>\n",
       "      <td>...</td>\n",
       "      <td>...</td>\n",
       "      <td>...</td>\n",
       "      <td>...</td>\n",
       "      <td>...</td>\n",
       "      <td>...</td>\n",
       "      <td>...</td>\n",
       "      <td>...</td>\n",
       "      <td>...</td>\n",
       "      <td>...</td>\n",
       "    </tr>\n",
       "    <tr>\n",
       "      <th>18063</th>\n",
       "      <td>1534</td>\n",
       "      <td>Альберт</td>\n",
       "      <td>25</td>\n",
       "      <td>Краснодар</td>\n",
       "      <td>free</td>\n",
       "      <td>3781.098080</td>\n",
       "      <td>19.822962</td>\n",
       "      <td>2021-11-04</td>\n",
       "      <td>8</td>\n",
       "      <td>50</td>\n",
       "      <td>0</td>\n",
       "      <td>11</td>\n",
       "    </tr>\n",
       "    <tr>\n",
       "      <th>18064</th>\n",
       "      <td>1534</td>\n",
       "      <td>Альберт</td>\n",
       "      <td>25</td>\n",
       "      <td>Краснодар</td>\n",
       "      <td>free</td>\n",
       "      <td>2840.423057</td>\n",
       "      <td>21.409799</td>\n",
       "      <td>2021-11-16</td>\n",
       "      <td>8</td>\n",
       "      <td>50</td>\n",
       "      <td>0</td>\n",
       "      <td>11</td>\n",
       "    </tr>\n",
       "    <tr>\n",
       "      <th>18065</th>\n",
       "      <td>1534</td>\n",
       "      <td>Альберт</td>\n",
       "      <td>25</td>\n",
       "      <td>Краснодар</td>\n",
       "      <td>free</td>\n",
       "      <td>3826.185507</td>\n",
       "      <td>18.435051</td>\n",
       "      <td>2021-11-18</td>\n",
       "      <td>8</td>\n",
       "      <td>50</td>\n",
       "      <td>0</td>\n",
       "      <td>11</td>\n",
       "    </tr>\n",
       "    <tr>\n",
       "      <th>18066</th>\n",
       "      <td>1534</td>\n",
       "      <td>Альберт</td>\n",
       "      <td>25</td>\n",
       "      <td>Краснодар</td>\n",
       "      <td>free</td>\n",
       "      <td>2902.308661</td>\n",
       "      <td>16.674362</td>\n",
       "      <td>2021-11-27</td>\n",
       "      <td>8</td>\n",
       "      <td>50</td>\n",
       "      <td>0</td>\n",
       "      <td>11</td>\n",
       "    </tr>\n",
       "    <tr>\n",
       "      <th>18067</th>\n",
       "      <td>1534</td>\n",
       "      <td>Альберт</td>\n",
       "      <td>25</td>\n",
       "      <td>Краснодар</td>\n",
       "      <td>free</td>\n",
       "      <td>2371.711192</td>\n",
       "      <td>15.893917</td>\n",
       "      <td>2021-12-29</td>\n",
       "      <td>8</td>\n",
       "      <td>50</td>\n",
       "      <td>0</td>\n",
       "      <td>12</td>\n",
       "    </tr>\n",
       "  </tbody>\n",
       "</table>\n",
       "<p>11568 rows × 12 columns</p>\n",
       "</div>"
      ],
      "text/plain": [
       "       user_id     name  age       city subscription_type     distance  \\\n",
       "6500       700    Айдар   22       Омск              free  2515.690719   \n",
       "6501       700    Айдар   22       Омск              free   846.932642   \n",
       "6502       700    Айдар   22       Омск              free  4004.434142   \n",
       "6503       700    Айдар   22       Омск              free  1205.911290   \n",
       "6504       700    Айдар   22       Омск              free  3047.379435   \n",
       "...        ...      ...  ...        ...               ...          ...   \n",
       "18063     1534  Альберт   25  Краснодар              free  3781.098080   \n",
       "18064     1534  Альберт   25  Краснодар              free  2840.423057   \n",
       "18065     1534  Альберт   25  Краснодар              free  3826.185507   \n",
       "18066     1534  Альберт   25  Краснодар              free  2902.308661   \n",
       "18067     1534  Альберт   25  Краснодар              free  2371.711192   \n",
       "\n",
       "        duration       date  minute_price  start_ride_price  subscription_fee  \\\n",
       "6500   14.944286 2021-01-02             8                50                 0   \n",
       "6501   16.234663 2021-02-01             8                50                 0   \n",
       "6502   20.016628 2021-02-04             8                50                 0   \n",
       "6503    9.782872 2021-02-10             8                50                 0   \n",
       "6504   17.427673 2021-02-14             8                50                 0   \n",
       "...          ...        ...           ...               ...               ...   \n",
       "18063  19.822962 2021-11-04             8                50                 0   \n",
       "18064  21.409799 2021-11-16             8                50                 0   \n",
       "18065  18.435051 2021-11-18             8                50                 0   \n",
       "18066  16.674362 2021-11-27             8                50                 0   \n",
       "18067  15.893917 2021-12-29             8                50                 0   \n",
       "\n",
       "       month  \n",
       "6500       1  \n",
       "6501       2  \n",
       "6502       2  \n",
       "6503       2  \n",
       "6504       2  \n",
       "...      ...  \n",
       "18063     11  \n",
       "18064     11  \n",
       "18065     11  \n",
       "18066     11  \n",
       "18067     12  \n",
       "\n",
       "[11568 rows x 12 columns]"
      ]
     },
     "metadata": {},
     "output_type": "display_data"
    },
    {
     "data": {
      "text/html": [
       "<div>\n",
       "<style scoped>\n",
       "    .dataframe tbody tr th:only-of-type {\n",
       "        vertical-align: middle;\n",
       "    }\n",
       "\n",
       "    .dataframe tbody tr th {\n",
       "        vertical-align: top;\n",
       "    }\n",
       "\n",
       "    .dataframe thead th {\n",
       "        text-align: right;\n",
       "    }\n",
       "</style>\n",
       "<table border=\"1\" class=\"dataframe\">\n",
       "  <thead>\n",
       "    <tr style=\"text-align: right;\">\n",
       "      <th></th>\n",
       "      <th>user_id</th>\n",
       "      <th>name</th>\n",
       "      <th>age</th>\n",
       "      <th>city</th>\n",
       "      <th>subscription_type</th>\n",
       "      <th>distance</th>\n",
       "      <th>duration</th>\n",
       "      <th>date</th>\n",
       "      <th>minute_price</th>\n",
       "      <th>start_ride_price</th>\n",
       "      <th>subscription_fee</th>\n",
       "      <th>month</th>\n",
       "    </tr>\n",
       "  </thead>\n",
       "  <tbody>\n",
       "    <tr>\n",
       "      <th>0</th>\n",
       "      <td>1</td>\n",
       "      <td>Кира</td>\n",
       "      <td>22</td>\n",
       "      <td>Тюмень</td>\n",
       "      <td>ultra</td>\n",
       "      <td>4409.919140</td>\n",
       "      <td>25.599769</td>\n",
       "      <td>2021-01-01</td>\n",
       "      <td>6</td>\n",
       "      <td>0</td>\n",
       "      <td>199</td>\n",
       "      <td>1</td>\n",
       "    </tr>\n",
       "    <tr>\n",
       "      <th>1</th>\n",
       "      <td>1</td>\n",
       "      <td>Кира</td>\n",
       "      <td>22</td>\n",
       "      <td>Тюмень</td>\n",
       "      <td>ultra</td>\n",
       "      <td>2617.592153</td>\n",
       "      <td>15.816871</td>\n",
       "      <td>2021-01-18</td>\n",
       "      <td>6</td>\n",
       "      <td>0</td>\n",
       "      <td>199</td>\n",
       "      <td>1</td>\n",
       "    </tr>\n",
       "    <tr>\n",
       "      <th>2</th>\n",
       "      <td>1</td>\n",
       "      <td>Кира</td>\n",
       "      <td>22</td>\n",
       "      <td>Тюмень</td>\n",
       "      <td>ultra</td>\n",
       "      <td>754.159807</td>\n",
       "      <td>6.232113</td>\n",
       "      <td>2021-04-20</td>\n",
       "      <td>6</td>\n",
       "      <td>0</td>\n",
       "      <td>199</td>\n",
       "      <td>4</td>\n",
       "    </tr>\n",
       "    <tr>\n",
       "      <th>3</th>\n",
       "      <td>1</td>\n",
       "      <td>Кира</td>\n",
       "      <td>22</td>\n",
       "      <td>Тюмень</td>\n",
       "      <td>ultra</td>\n",
       "      <td>2694.783254</td>\n",
       "      <td>18.511000</td>\n",
       "      <td>2021-08-11</td>\n",
       "      <td>6</td>\n",
       "      <td>0</td>\n",
       "      <td>199</td>\n",
       "      <td>8</td>\n",
       "    </tr>\n",
       "    <tr>\n",
       "      <th>4</th>\n",
       "      <td>1</td>\n",
       "      <td>Кира</td>\n",
       "      <td>22</td>\n",
       "      <td>Тюмень</td>\n",
       "      <td>ultra</td>\n",
       "      <td>4028.687306</td>\n",
       "      <td>26.265803</td>\n",
       "      <td>2021-08-28</td>\n",
       "      <td>6</td>\n",
       "      <td>0</td>\n",
       "      <td>199</td>\n",
       "      <td>8</td>\n",
       "    </tr>\n",
       "    <tr>\n",
       "      <th>...</th>\n",
       "      <td>...</td>\n",
       "      <td>...</td>\n",
       "      <td>...</td>\n",
       "      <td>...</td>\n",
       "      <td>...</td>\n",
       "      <td>...</td>\n",
       "      <td>...</td>\n",
       "      <td>...</td>\n",
       "      <td>...</td>\n",
       "      <td>...</td>\n",
       "      <td>...</td>\n",
       "      <td>...</td>\n",
       "    </tr>\n",
       "    <tr>\n",
       "      <th>6495</th>\n",
       "      <td>699</td>\n",
       "      <td>Оксана</td>\n",
       "      <td>22</td>\n",
       "      <td>Москва</td>\n",
       "      <td>ultra</td>\n",
       "      <td>3973.046497</td>\n",
       "      <td>24.671163</td>\n",
       "      <td>2021-08-29</td>\n",
       "      <td>6</td>\n",
       "      <td>0</td>\n",
       "      <td>199</td>\n",
       "      <td>8</td>\n",
       "    </tr>\n",
       "    <tr>\n",
       "      <th>6496</th>\n",
       "      <td>699</td>\n",
       "      <td>Оксана</td>\n",
       "      <td>22</td>\n",
       "      <td>Москва</td>\n",
       "      <td>ultra</td>\n",
       "      <td>3288.702563</td>\n",
       "      <td>15.892886</td>\n",
       "      <td>2021-09-12</td>\n",
       "      <td>6</td>\n",
       "      <td>0</td>\n",
       "      <td>199</td>\n",
       "      <td>9</td>\n",
       "    </tr>\n",
       "    <tr>\n",
       "      <th>6497</th>\n",
       "      <td>699</td>\n",
       "      <td>Оксана</td>\n",
       "      <td>22</td>\n",
       "      <td>Москва</td>\n",
       "      <td>ultra</td>\n",
       "      <td>3076.159348</td>\n",
       "      <td>14.389525</td>\n",
       "      <td>2021-09-26</td>\n",
       "      <td>6</td>\n",
       "      <td>0</td>\n",
       "      <td>199</td>\n",
       "      <td>9</td>\n",
       "    </tr>\n",
       "    <tr>\n",
       "      <th>6498</th>\n",
       "      <td>699</td>\n",
       "      <td>Оксана</td>\n",
       "      <td>22</td>\n",
       "      <td>Москва</td>\n",
       "      <td>ultra</td>\n",
       "      <td>4707.845501</td>\n",
       "      <td>15.839579</td>\n",
       "      <td>2021-10-17</td>\n",
       "      <td>6</td>\n",
       "      <td>0</td>\n",
       "      <td>199</td>\n",
       "      <td>10</td>\n",
       "    </tr>\n",
       "    <tr>\n",
       "      <th>6499</th>\n",
       "      <td>699</td>\n",
       "      <td>Оксана</td>\n",
       "      <td>22</td>\n",
       "      <td>Москва</td>\n",
       "      <td>ultra</td>\n",
       "      <td>3202.890770</td>\n",
       "      <td>25.217345</td>\n",
       "      <td>2021-12-03</td>\n",
       "      <td>6</td>\n",
       "      <td>0</td>\n",
       "      <td>199</td>\n",
       "      <td>12</td>\n",
       "    </tr>\n",
       "  </tbody>\n",
       "</table>\n",
       "<p>6500 rows × 12 columns</p>\n",
       "</div>"
      ],
      "text/plain": [
       "      user_id    name  age    city subscription_type     distance   duration  \\\n",
       "0           1    Кира   22  Тюмень             ultra  4409.919140  25.599769   \n",
       "1           1    Кира   22  Тюмень             ultra  2617.592153  15.816871   \n",
       "2           1    Кира   22  Тюмень             ultra   754.159807   6.232113   \n",
       "3           1    Кира   22  Тюмень             ultra  2694.783254  18.511000   \n",
       "4           1    Кира   22  Тюмень             ultra  4028.687306  26.265803   \n",
       "...       ...     ...  ...     ...               ...          ...        ...   \n",
       "6495      699  Оксана   22  Москва             ultra  3973.046497  24.671163   \n",
       "6496      699  Оксана   22  Москва             ultra  3288.702563  15.892886   \n",
       "6497      699  Оксана   22  Москва             ultra  3076.159348  14.389525   \n",
       "6498      699  Оксана   22  Москва             ultra  4707.845501  15.839579   \n",
       "6499      699  Оксана   22  Москва             ultra  3202.890770  25.217345   \n",
       "\n",
       "           date  minute_price  start_ride_price  subscription_fee  month  \n",
       "0    2021-01-01             6                 0               199      1  \n",
       "1    2021-01-18             6                 0               199      1  \n",
       "2    2021-04-20             6                 0               199      4  \n",
       "3    2021-08-11             6                 0               199      8  \n",
       "4    2021-08-28             6                 0               199      8  \n",
       "...         ...           ...               ...               ...    ...  \n",
       "6495 2021-08-29             6                 0               199      8  \n",
       "6496 2021-09-12             6                 0               199      9  \n",
       "6497 2021-09-26             6                 0               199      9  \n",
       "6498 2021-10-17             6                 0               199     10  \n",
       "6499 2021-12-03             6                 0               199     12  \n",
       "\n",
       "[6500 rows x 12 columns]"
      ]
     },
     "metadata": {},
     "output_type": "display_data"
    }
   ],
   "source": [
    "display(df_free)\n",
    "display(df_ultra)"
   ]
  },
  {
   "cell_type": "code",
   "execution_count": 20,
   "id": "f9f279c4",
   "metadata": {},
   "outputs": [
    {
     "data": {
      "image/png": "[encoded data removed]",
      "text/plain": [
       "<Figure size 432x288 with 1 Axes>"
      ]
     },
     "metadata": {
      "needs_background": "light"
     },
     "output_type": "display_data"
    },
    {
     "data": {
      "image/png": "[encoded data removed]",
      "text/plain": [
       "<Figure size 432x288 with 1 Axes>"
      ]
     },
     "metadata": {
      "needs_background": "light"
     },
     "output_type": "display_data"
    },
    {
     "data": {
      "image/png": "[encoded data removed]",
      "text/plain": [
       "<Figure size 432x288 with 1 Axes>"
      ]
     },
     "metadata": {
      "needs_background": "light"
     },
     "output_type": "display_data"
    }
   ],
   "source": [
    "# Визуализация гистограммы расстояний\n",
    "plt.hist(df_free['distance'], bins=20, alpha=0.5, label='Free')\n",
    "plt.hist(df_ultra['distance'], bins=20, alpha=0.5, label='Ultra')\n",
    "plt.xlabel('Расстояние')\n",
    "plt.ylabel('Количество поездок')\n",
    "plt.title('Распределение расстояний поездок по категориям пользователей')\n",
    "plt.legend()\n",
    "plt.show()\n",
    "\n",
    "# Визуализация гистограммы времени поездок\n",
    "plt.hist(df_free['duration'], bins=20, alpha=0.5, label='Free')\n",
    "plt.hist(df_ultra['duration'], bins=20, alpha=0.5, label='Ultra')\n",
    "plt.xlabel('Время поездки')\n",
    "plt.ylabel('Количество поездок')\n",
    "plt.title('Распределение времени поездок по категориям пользователей')\n",
    "plt.legend()\n",
    "plt.show()\n",
    "\n",
    "# Визуализация диаграммы рассеяния расстояния и времени поездок\n",
    "plt.scatter(df_free['distance'], df_free['duration'], alpha=0.5, label='Free')\n",
    "plt.scatter(df_ultra['distance'], df_ultra['duration'], alpha=0.5, label='Ultra')\n",
    "plt.xlabel('Расстояние')\n",
    "plt.ylabel('Время поездки')\n",
    "plt.title('Зависимость расстояния и времени поездок по категориям пользователей')\n",
    "plt.legend()\n",
    "plt.show()"
   ]
  },
  {
   "cell_type": "markdown",
   "id": "907c41f8",
   "metadata": {},
   "source": [
    "Из анализа профилей пользователей, использующих самокаты, можно сделать следующие выводы:\n",
    "\n",
    "1. **Расстояние**:\n",
    "    - Распределение пройденных расстояний для категорий \"Free\" и \"Ultra\" схоже.\n",
    "    - Оба типа пользователей покрывают примерно одинаковые дистанции.\n",
    "\n",
    "2. **Длительность**:\n",
    "    - Здесь наблюдаются различия. Пользователи категории \"Ultra\" чаще пользуются самокатами на **более длительное время**.\n",
    "    - Пользователи категории \"Free\" склонны к **краткосрочным поездкам**.\n",
    "\n",
    "В целом, оба типа пользователей имеют свои уникальные характеристики, и понимание их профилей поможет оптимизировать предложение услуг по аренде самокатов."
   ]
  },
  {
   "cell_type": "markdown",
   "id": "7127a59b",
   "metadata": {},
   "source": [
    "<div class=\"alert alert-danger\">\n",
    "<b>❌ Комментарий ревьюера v1:</b> \n",
    "<br>Не хватает вывода по сравнению. Что можно сказать о сравнении профилей категорий пользователей при пользовании самокатами (расстояние, длительность)? Какие есть различия и сходства?\n",
    "</div>"
   ]
  },
  {
   "cell_type": "markdown",
   "id": "0a42917a",
   "metadata": {},
   "source": [
    "<div class=\"alert alert-success\">\n",
    "<b>✔️ Комментарий ревьюера v2:</b>\n",
    "<br>Правка выполнена 👍\n",
    "</div>"
   ]
  },
  {
   "cell_type": "markdown",
   "id": "402d620f",
   "metadata": {},
   "source": [
    "#### Шаг 5. Подсчёт выручки"
   ]
  },
  {
   "cell_type": "code",
   "execution_count": 21,
   "id": "f7f24e2d",
   "metadata": {},
   "outputs": [],
   "source": [
    "# Округление продолжительности каждой поездки до ближайшего целого числа\n",
    "data['duration'] = np.ceil(data['duration'])\n",
    "\n"
   ]
  },
  {
   "cell_type": "code",
   "execution_count": 22,
   "id": "6d76dc6c",
   "metadata": {},
   "outputs": [],
   "source": [
    "df_agg = data"
   ]
  },
  {
   "cell_type": "code",
   "execution_count": 23,
   "id": "b5724a45",
   "metadata": {},
   "outputs": [],
   "source": [
    "df_agg['trips_count'] = df_agg.groupby(['user_id', 'month'])['user_id'].transform('count')"
   ]
  },
  {
   "cell_type": "code",
   "execution_count": 24,
   "id": "282df26e",
   "metadata": {},
   "outputs": [],
   "source": [
    "df_agg = data.groupby(['user_id', 'month']).agg({\n",
    "    'name': 'first',\n",
    "    'age': 'first',\n",
    "    'city': 'first',\n",
    "    'duration': 'sum',\n",
    "    'distance': 'sum',\n",
    "    'trips_count': 'first',\n",
    "    'subscription_type': 'first',\n",
    "    'date': 'first',\n",
    "    'minute_price': 'first',\n",
    "    'start_ride_price': 'first',\n",
    "    'subscription_fee': 'first'\n",
    "}).reset_index()\n",
    "\n",
    "df_agg = df_agg.rename(columns={'distance': 'distance_month', 'duration': 'duration_month'})"
   ]
  },
  {
   "cell_type": "code",
   "execution_count": 25,
   "id": "0b7e6f17",
   "metadata": {},
   "outputs": [],
   "source": [
    "# Вычисление помесячной выручки\n",
    "df_agg['monthly_revenue'] = df_agg['start_ride_price'] * df_agg['trips_count'] + df_agg['minute_price'] * df_agg['duration_month'] + df_agg['subscription_fee']"
   ]
  },
  {
   "cell_type": "code",
   "execution_count": 26,
   "id": "630ad3e0",
   "metadata": {},
   "outputs": [
    {
     "data": {
      "text/html": [
       "<div>\n",
       "<style scoped>\n",
       "    .dataframe tbody tr th:only-of-type {\n",
       "        vertical-align: middle;\n",
       "    }\n",
       "\n",
       "    .dataframe tbody tr th {\n",
       "        vertical-align: top;\n",
       "    }\n",
       "\n",
       "    .dataframe thead th {\n",
       "        text-align: right;\n",
       "    }\n",
       "</style>\n",
       "<table border=\"1\" class=\"dataframe\">\n",
       "  <thead>\n",
       "    <tr style=\"text-align: right;\">\n",
       "      <th></th>\n",
       "      <th>user_id</th>\n",
       "      <th>month</th>\n",
       "      <th>name</th>\n",
       "      <th>age</th>\n",
       "      <th>city</th>\n",
       "      <th>duration_month</th>\n",
       "      <th>distance_month</th>\n",
       "      <th>trips_count</th>\n",
       "      <th>subscription_type</th>\n",
       "      <th>date</th>\n",
       "      <th>minute_price</th>\n",
       "      <th>start_ride_price</th>\n",
       "      <th>subscription_fee</th>\n",
       "      <th>monthly_revenue</th>\n",
       "    </tr>\n",
       "  </thead>\n",
       "  <tbody>\n",
       "    <tr>\n",
       "      <th>0</th>\n",
       "      <td>1</td>\n",
       "      <td>1</td>\n",
       "      <td>Кира</td>\n",
       "      <td>22</td>\n",
       "      <td>Тюмень</td>\n",
       "      <td>42.0</td>\n",
       "      <td>7027.511294</td>\n",
       "      <td>2</td>\n",
       "      <td>ultra</td>\n",
       "      <td>2021-01-01</td>\n",
       "      <td>6</td>\n",
       "      <td>0</td>\n",
       "      <td>199</td>\n",
       "      <td>451.0</td>\n",
       "    </tr>\n",
       "    <tr>\n",
       "      <th>1</th>\n",
       "      <td>1</td>\n",
       "      <td>4</td>\n",
       "      <td>Кира</td>\n",
       "      <td>22</td>\n",
       "      <td>Тюмень</td>\n",
       "      <td>7.0</td>\n",
       "      <td>754.159807</td>\n",
       "      <td>1</td>\n",
       "      <td>ultra</td>\n",
       "      <td>2021-04-20</td>\n",
       "      <td>6</td>\n",
       "      <td>0</td>\n",
       "      <td>199</td>\n",
       "      <td>241.0</td>\n",
       "    </tr>\n",
       "    <tr>\n",
       "      <th>2</th>\n",
       "      <td>1</td>\n",
       "      <td>8</td>\n",
       "      <td>Кира</td>\n",
       "      <td>22</td>\n",
       "      <td>Тюмень</td>\n",
       "      <td>46.0</td>\n",
       "      <td>6723.470560</td>\n",
       "      <td>2</td>\n",
       "      <td>ultra</td>\n",
       "      <td>2021-08-11</td>\n",
       "      <td>6</td>\n",
       "      <td>0</td>\n",
       "      <td>199</td>\n",
       "      <td>475.0</td>\n",
       "    </tr>\n",
       "    <tr>\n",
       "      <th>3</th>\n",
       "      <td>1</td>\n",
       "      <td>10</td>\n",
       "      <td>Кира</td>\n",
       "      <td>22</td>\n",
       "      <td>Тюмень</td>\n",
       "      <td>32.0</td>\n",
       "      <td>5809.911100</td>\n",
       "      <td>2</td>\n",
       "      <td>ultra</td>\n",
       "      <td>2021-10-09</td>\n",
       "      <td>6</td>\n",
       "      <td>0</td>\n",
       "      <td>199</td>\n",
       "      <td>391.0</td>\n",
       "    </tr>\n",
       "    <tr>\n",
       "      <th>4</th>\n",
       "      <td>1</td>\n",
       "      <td>11</td>\n",
       "      <td>Кира</td>\n",
       "      <td>22</td>\n",
       "      <td>Тюмень</td>\n",
       "      <td>56.0</td>\n",
       "      <td>7003.499363</td>\n",
       "      <td>3</td>\n",
       "      <td>ultra</td>\n",
       "      <td>2021-11-06</td>\n",
       "      <td>6</td>\n",
       "      <td>0</td>\n",
       "      <td>199</td>\n",
       "      <td>535.0</td>\n",
       "    </tr>\n",
       "    <tr>\n",
       "      <th>...</th>\n",
       "      <td>...</td>\n",
       "      <td>...</td>\n",
       "      <td>...</td>\n",
       "      <td>...</td>\n",
       "      <td>...</td>\n",
       "      <td>...</td>\n",
       "      <td>...</td>\n",
       "      <td>...</td>\n",
       "      <td>...</td>\n",
       "      <td>...</td>\n",
       "      <td>...</td>\n",
       "      <td>...</td>\n",
       "      <td>...</td>\n",
       "      <td>...</td>\n",
       "    </tr>\n",
       "    <tr>\n",
       "      <th>11326</th>\n",
       "      <td>1534</td>\n",
       "      <td>6</td>\n",
       "      <td>Альберт</td>\n",
       "      <td>25</td>\n",
       "      <td>Краснодар</td>\n",
       "      <td>26.0</td>\n",
       "      <td>3409.468534</td>\n",
       "      <td>2</td>\n",
       "      <td>free</td>\n",
       "      <td>2021-06-11</td>\n",
       "      <td>8</td>\n",
       "      <td>50</td>\n",
       "      <td>0</td>\n",
       "      <td>308.0</td>\n",
       "    </tr>\n",
       "    <tr>\n",
       "      <th>11327</th>\n",
       "      <td>1534</td>\n",
       "      <td>8</td>\n",
       "      <td>Альберт</td>\n",
       "      <td>25</td>\n",
       "      <td>Краснодар</td>\n",
       "      <td>48.0</td>\n",
       "      <td>7622.453034</td>\n",
       "      <td>2</td>\n",
       "      <td>free</td>\n",
       "      <td>2021-08-08</td>\n",
       "      <td>8</td>\n",
       "      <td>50</td>\n",
       "      <td>0</td>\n",
       "      <td>484.0</td>\n",
       "    </tr>\n",
       "    <tr>\n",
       "      <th>11328</th>\n",
       "      <td>1534</td>\n",
       "      <td>9</td>\n",
       "      <td>Альберт</td>\n",
       "      <td>25</td>\n",
       "      <td>Краснодар</td>\n",
       "      <td>23.0</td>\n",
       "      <td>4928.173852</td>\n",
       "      <td>1</td>\n",
       "      <td>free</td>\n",
       "      <td>2021-09-13</td>\n",
       "      <td>8</td>\n",
       "      <td>50</td>\n",
       "      <td>0</td>\n",
       "      <td>234.0</td>\n",
       "    </tr>\n",
       "    <tr>\n",
       "      <th>11329</th>\n",
       "      <td>1534</td>\n",
       "      <td>11</td>\n",
       "      <td>Альберт</td>\n",
       "      <td>25</td>\n",
       "      <td>Краснодар</td>\n",
       "      <td>78.0</td>\n",
       "      <td>13350.015305</td>\n",
       "      <td>4</td>\n",
       "      <td>free</td>\n",
       "      <td>2021-11-04</td>\n",
       "      <td>8</td>\n",
       "      <td>50</td>\n",
       "      <td>0</td>\n",
       "      <td>824.0</td>\n",
       "    </tr>\n",
       "    <tr>\n",
       "      <th>11330</th>\n",
       "      <td>1534</td>\n",
       "      <td>12</td>\n",
       "      <td>Альберт</td>\n",
       "      <td>25</td>\n",
       "      <td>Краснодар</td>\n",
       "      <td>16.0</td>\n",
       "      <td>2371.711192</td>\n",
       "      <td>1</td>\n",
       "      <td>free</td>\n",
       "      <td>2021-12-29</td>\n",
       "      <td>8</td>\n",
       "      <td>50</td>\n",
       "      <td>0</td>\n",
       "      <td>178.0</td>\n",
       "    </tr>\n",
       "  </tbody>\n",
       "</table>\n",
       "<p>11331 rows × 14 columns</p>\n",
       "</div>"
      ],
      "text/plain": [
       "       user_id  month     name  age       city  duration_month  \\\n",
       "0            1      1     Кира   22     Тюмень            42.0   \n",
       "1            1      4     Кира   22     Тюмень             7.0   \n",
       "2            1      8     Кира   22     Тюмень            46.0   \n",
       "3            1     10     Кира   22     Тюмень            32.0   \n",
       "4            1     11     Кира   22     Тюмень            56.0   \n",
       "...        ...    ...      ...  ...        ...             ...   \n",
       "11326     1534      6  Альберт   25  Краснодар            26.0   \n",
       "11327     1534      8  Альберт   25  Краснодар            48.0   \n",
       "11328     1534      9  Альберт   25  Краснодар            23.0   \n",
       "11329     1534     11  Альберт   25  Краснодар            78.0   \n",
       "11330     1534     12  Альберт   25  Краснодар            16.0   \n",
       "\n",
       "       distance_month  trips_count subscription_type       date  minute_price  \\\n",
       "0         7027.511294            2             ultra 2021-01-01             6   \n",
       "1          754.159807            1             ultra 2021-04-20             6   \n",
       "2         6723.470560            2             ultra 2021-08-11             6   \n",
       "3         5809.911100            2             ultra 2021-10-09             6   \n",
       "4         7003.499363            3             ultra 2021-11-06             6   \n",
       "...               ...          ...               ...        ...           ...   \n",
       "11326     3409.468534            2              free 2021-06-11             8   \n",
       "11327     7622.453034            2              free 2021-08-08             8   \n",
       "11328     4928.173852            1              free 2021-09-13             8   \n",
       "11329    13350.015305            4              free 2021-11-04             8   \n",
       "11330     2371.711192            1              free 2021-12-29             8   \n",
       "\n",
       "       start_ride_price  subscription_fee  monthly_revenue  \n",
       "0                     0               199            451.0  \n",
       "1                     0               199            241.0  \n",
       "2                     0               199            475.0  \n",
       "3                     0               199            391.0  \n",
       "4                     0               199            535.0  \n",
       "...                 ...               ...              ...  \n",
       "11326                50                 0            308.0  \n",
       "11327                50                 0            484.0  \n",
       "11328                50                 0            234.0  \n",
       "11329                50                 0            824.0  \n",
       "11330                50                 0            178.0  \n",
       "\n",
       "[11331 rows x 14 columns]"
      ]
     },
     "metadata": {},
     "output_type": "display_data"
    }
   ],
   "source": [
    "display(df_agg)"
   ]
  },
  {
   "cell_type": "markdown",
   "id": "5ae320ad",
   "metadata": {},
   "source": [
    "<div class=\"alert alert-danger\">\n",
    "<b>❌ Комментарий ревьюера v1:</b> \n",
    "<br>Ты верно расcчитываешь выручку, но из-за того что меняешь действия местами, у тебя получается некорректный результат. Что нужно сделать:\n",
    "<br>- сначала округлить значения в столбце duration\n",
    "<br>- создать агрегированную таблицу\n",
    "<br>- посчитать в ней выручку\n",
    "</div>"
   ]
  },
  {
   "cell_type": "markdown",
   "id": "96040f81",
   "metadata": {},
   "source": [
    "<div class=\"alert alert-success\">\n",
    "<b>✔️ Комментарий ревьюера v2:</b>\n",
    "<br>Отлично! Теперь всё верно)\n",
    "</div>"
   ]
  },
  {
   "cell_type": "markdown",
   "id": "41545ac0",
   "metadata": {},
   "source": [
    "#### Шаг 6. Проверка гипотез"
   ]
  },
  {
   "cell_type": "markdown",
   "id": "b170cc1a",
   "metadata": {},
   "source": [
    "<div class=\"alert alert-danger\">\n",
    "<b>❌ Комментарий ревьюера v1:</b> \n",
    "<br>Перед расчетами необходимо сформулировать гипотезу. H₀(нулевую гипотезу) нужно формулировать так, чтобы использовать знак равенства \"=\". Это важно сделать во всех трёх заданиях ниже\n",
    "</div>"
   ]
  },
  {
   "cell_type": "markdown",
   "id": "18023310",
   "metadata": {},
   "source": [
    "6.1 H₀: Средняя продолжительность поездок пользователей с подпиской больше средней продолжительности поездок пользователей без подписки. H₁: Средняя продолжительность поездок пользователей с подпиской не больше средней продолжительности поездок пользователей без подписки."
   ]
  },
  {
   "cell_type": "markdown",
   "id": "b3f9bb47",
   "metadata": {},
   "source": [
    "<div class=\"alert alert-danger\">\n",
    "<b>❌ Комментарий ревьюера v2:</b> \n",
    "<br>Также нужно написать альтернативную гипотезу\n",
    "</div>"
   ]
  },
  {
   "cell_type": "markdown",
   "id": "d90f113a",
   "metadata": {},
   "source": [
    "<div class=\"alert alert-success\">\n",
    "<b>✔️ Комментарий ревьюера v3:</b>\n",
    "<br>Правка выполнена 👍\n",
    "</div>"
   ]
  },
  {
   "cell_type": "code",
   "execution_count": 27,
   "id": "052014a7",
   "metadata": {},
   "outputs": [
    {
     "name": "stdout",
     "output_type": "stream",
     "text": [
      "Гипотеза подтверждается: Пользователи с подпиской проводят больше времени на поездках по сравнению с пользователями без подписки.\n",
      "P-value: 5.6757813771289775e-37\n"
     ]
    }
   ],
   "source": [
    "# Проверка гипотезы о разности средних значений\n",
    "statistic, p_value = ttest_ind(df_ultra['duration'], df_free['duration'], alternative='greater', equal_var=False)\n",
    "\n",
    "alpha = 0.05  # Уровень значимости\n",
    "\n",
    "if p_value < alpha:\n",
    "    print(\"Гипотеза подтверждается: Пользователи с подпиской проводят больше времени на поездках по сравнению с пользователями без подписки.\")\n",
    "    print(f\"P-value: {p_value}\")\n",
    "else:\n",
    "    print(\"Гипотеза не подтверждается: нет статистически значимой разницы в продолжительности поездок между пользователями с разными типами подписки.\")\n",
    "    print(f\"P-value: {p_value}\")"
   ]
  },
  {
   "cell_type": "markdown",
   "id": "29da7b92",
   "metadata": {},
   "source": [
    "Гипотеза относительно того, что пользователи с подпиской проводят больше времени в поездках, чем пользователи без подписки, подтверждается. Значение P является крайне малым, что говорит о высокой степени уверенности в результатах анализа и подтверждает наличие существенной разницы между двумя группами пользователей."
   ]
  },
  {
   "cell_type": "markdown",
   "id": "5dd07e7b",
   "metadata": {},
   "source": [
    "<div class=\"alert alert-danger\">\n",
    "<b>❌ Комментарий ревьюера v1:</b> \n",
    "<br>Нужно внести несколько правок:\n",
    "<br>- среднее для выборок рассчитывать не нужно\n",
    "<br>- при проверке теста нужно поменять выборки местами\n",
    "<br>- нужно добавить параметр alternative = 'greater'\n",
    "<br>- вывести значеение p-value\n",
    "</div>"
   ]
  },
  {
   "cell_type": "markdown",
   "id": "5aec812e",
   "metadata": {},
   "source": [
    "<div class=\"alert alert-success\">\n",
    "<b>✔️ Комментарий ревьюера v2:</b>\n",
    "<br>Правка выполнена 👍\n",
    "</div>"
   ]
  },
  {
   "cell_type": "markdown",
   "id": "e5079d34",
   "metadata": {},
   "source": [
    "6.2 H₀: Среднее расстояние, которое проезжают пользователи с подпиской за одну поездку, равно или меньше 3130 метров.\n",
    "H₁: Среднее расстояние, которое проезжают пользователи с подпиской за одну поездку, больше 3130 метров."
   ]
  },
  {
   "cell_type": "markdown",
   "id": "c4d8d570",
   "metadata": {},
   "source": [
    "<div class=\"alert alert-danger\">\n",
    "<b>❌ Комментарий ревьюера v2:</b> \n",
    "<br>Также нужно написать альтернативную гипотезу\n",
    "</div>"
   ]
  },
  {
   "cell_type": "markdown",
   "id": "cbfb20a7",
   "metadata": {},
   "source": [
    "<div class=\"alert alert-success\">\n",
    "<b>✔️ Комментарий ревьюера v3:</b>\n",
    "<br>Правка выполнена 👍\n",
    "</div>"
   ]
  },
  {
   "cell_type": "code",
   "execution_count": 28,
   "id": "25e9fb99",
   "metadata": {},
   "outputs": [
    {
     "name": "stdout",
     "output_type": "stream",
     "text": [
      "Гипотеза не отвергается: среднее расстояние, которое проезжают пользователи с подпиской за одну поездку, не превышает 3130 метров.\n",
      "Значение p-value: 0.9195368847849785\n"
     ]
    }
   ],
   "source": [
    "# Проверка гипотезы о том, что среднее расстояние не превышает 3130 метров\n",
    "statistic, p_value = ttest_1samp(df_ultra['distance'], 3130, alternative='greater')\n",
    "\n",
    "alpha = 0.05  # Уровень значимости\n",
    "\n",
    "if p_value < alpha:\n",
    "    print(\"Гипотеза отвергается: среднее расстояние, которое проезжают пользователи с подпиской за одну поездку, превышает 3130 метров.\")\n",
    "else:\n",
    "    print(\"Гипотеза не отвергается: среднее расстояние, которое проезжают пользователи с подпиской за одну поездку, не превышает 3130 метров.\")\n",
    "\n",
    "print(\"Значение p-value:\", p_value)"
   ]
  },
  {
   "cell_type": "markdown",
   "id": "4b1143b0",
   "metadata": {},
   "source": [
    "Исходя из результатов теста гипотезы, можно сделать вывод, что среднее расстояние, которое проезжают пользователи с подпиской за одну поездку, не превышает 3130 метров. Это подтверждается высоким значением p-value, равным 0.9195368847849785."
   ]
  },
  {
   "cell_type": "markdown",
   "id": "4a436090",
   "metadata": {},
   "source": [
    "<div class=\"alert alert-danger\">\n",
    "<b>❌ Комментарий ревьюера v1:</b> \n",
    "<br>Нужно внести несколько правок:\n",
    "<br>- среднее для выборки рассчитывать не нужно\n",
    "<br>- нужно добавить параметр alternative = 'greater'\n",
    "<br>- вывести значеение p-value\n",
    "</div>"
   ]
  },
  {
   "cell_type": "markdown",
   "id": "6b1e032c",
   "metadata": {},
   "source": [
    "<div class=\"alert alert-success\">\n",
    "<b>✔️ Комментарий ревьюера v2:</b>\n",
    "<br>Правка выполнена 👍\n",
    "</div>"
   ]
  },
  {
   "cell_type": "markdown",
   "id": "08db6d12",
   "metadata": {},
   "source": [
    "6.3 H₀: Помесячная выручка от пользователей с подпиской по месяцам равна или больше выручки от пользователей без подписки.\n",
    "\n",
    "H₁: Помесячная выручка от пользователей с подпиской по месяцам меньше выручки от пользователей без подписки."
   ]
  },
  {
   "cell_type": "markdown",
   "id": "2c706942",
   "metadata": {},
   "source": [
    "<div class=\"alert alert-danger\">\n",
    "<b>❌ Комментарий ревьюера v2:</b> \n",
    "<br>Также нужно написать альтернативную гипотезу\n",
    "</div>"
   ]
  },
  {
   "cell_type": "markdown",
   "id": "4e875ff9",
   "metadata": {},
   "source": [
    "<div class=\"alert alert-success\">\n",
    "<b>✔️ Комментарий ревьюера v3:</b>\n",
    "<br>Правка выполнена 👍\n",
    "</div>"
   ]
  },
  {
   "cell_type": "code",
   "execution_count": 29,
   "id": "23ea867b",
   "metadata": {},
   "outputs": [
    {
     "name": "stdout",
     "output_type": "stream",
     "text": [
      "Гипотеза подтверждается: помесячная выручка от пользователей с подпиской по месяцам выше, чем выручка от пользователей без подписки.\n",
      "Разница в помесячной выручке у пользователей с подпиской составляет на 10.39% больше, чем у пользователей без подписки.\n",
      "Значение p-value: 8.874140893976874e-40\n"
     ]
    }
   ],
   "source": [
    "# Создание отдельных выборок для пользователей с подпиской и без подписки\n",
    "df_subscribers = df_agg[df_agg['subscription_type'] == 'ultra']\n",
    "df_non_subscribers = df_agg[df_agg['subscription_type'] == 'free']\n",
    "\n",
    "# Проверка гипотезы о равенстве средних значений помесячной выручки для двух групп пользователей\n",
    "statistic, p_value = stats.ttest_ind(df_subscribers['monthly_revenue'], df_non_subscribers['monthly_revenue'], equal_var=False, alternative='greater')\n",
    "\n",
    "alpha = 0.05  # Уровень значимости\n",
    "\n",
    "if p_value < alpha:\n",
    "    difference_percentage = (df_subscribers['monthly_revenue'].mean() - df_non_subscribers['monthly_revenue'].mean()) / df_non_subscribers['monthly_revenue'].mean() * 100\n",
    "    print(\"Гипотеза подтверждается: помесячная выручка от пользователей с подпиской по месяцам выше, чем выручка от пользователей без подписки.\")\n",
    "    print(f\"Разница в помесячной выручке у пользователей с подпиской составляет на {difference_percentage:.2f}% больше, чем у пользователей без подписки.\")\n",
    "    print(f\"Значение p-value:\", p_value)\n",
    "else:\n",
    "    print(\"Гипотеза не подтверждается: нет статистически значимой разницы в помесячной выручке от пользователей с подпиской и без подписки.\")\n",
    "    print(f\"Значение p-value:\", p_value)"
   ]
  },
  {
   "cell_type": "markdown",
   "id": "34ecbb0c",
   "metadata": {},
   "source": [
    "Подтверждение гипотезы означает, что результаты исследования обнаружили статистически значимую разницу в помесячной выручке между пользователями с подпиской и пользователями без подписки. Значение p-value, равное 8.874140893976874e-40, говорит о том, что вероятность получить наблюдаемую разницу в помесячной выручке случайно очень низкая. Следовательно, можно с достаточной уверенностью утверждать, что средняя помесячная выручка от пользователей с подпиской действительно выше, чем от пользователей без подписки."
   ]
  },
  {
   "cell_type": "markdown",
   "id": "c52258ed",
   "metadata": {},
   "source": [
    "<div class=\"alert alert-danger\">\n",
    "<b>❌ Комментарий ревьюера v1:</b> \n",
    "<br>Нужно внести несколько правок:\n",
    "<br>- нужно добавить параметр alternative = 'greater'\n",
    "<br>- вывести значеение p-value\n",
    "</div>"
   ]
  },
  {
   "cell_type": "markdown",
   "id": "75ae8d2c",
   "metadata": {},
   "source": [
    "<div class=\"alert alert-danger\">\n",
    "<b>❌ Комментарий ревьюера v2:</b> \n",
    "<br>Из-за форматирования в выводе p_value оно равно 0. Нужно удалить :.4f\n",
    "</div>"
   ]
  },
  {
   "cell_type": "markdown",
   "id": "2d99d419",
   "metadata": {},
   "source": [
    "<div class=\"alert alert-success\">\n",
    "<b>✔️ Комментарий ревьюера v3:</b>\n",
    "<br>Правка выполнена 👍\n",
    "</div>"
   ]
  },
  {
   "cell_type": "markdown",
   "id": "62123973",
   "metadata": {},
   "source": [
    "6.4 Для проверки этой гипотезы нам понадобится использовать парный t-тест для сравнения средних значений количества обращений до и после обновления серверов. Этот тест позволит определить, есть ли статистически значимая разница между двумя наборами данных и подтвердить или опровергнуть гипотезу о снижении количества обращений в техподдержку после обновления серверов."
   ]
  },
  {
   "cell_type": "markdown",
   "id": "4902e5f4",
   "metadata": {},
   "source": [
    "<div class=\"alert alert-success\">\n",
    "<b>✔️ Комментарий ревьюера v1:</b>\n",
    "<br>Метод выбран верно!\n",
    "</div>"
   ]
  },
  {
   "cell_type": "markdown",
   "id": "39b5270d",
   "metadata": {},
   "source": [
    "Исходя из проведенного анализа, можно сделать следующие выводы:\n",
    "\n",
    "Пользователи с подпиской и время поездок:\n",
    "\n",
    "Гипотеза о том, что пользователи с подпиской проводят больше времени в поездках, чем пользователи без подписки, подтверждается. Значение p-value крайне мало, что говорит о высокой степени уверенности в результатах анализа и подтверждает наличие существенной разницы между двумя группами пользователей.\n",
    "Среднее расстояние в поездках:\n",
    "\n",
    "Исходя из результатов теста гипотезы, можно сделать вывод, что среднее расстояние, которое проезжают пользователи с подпиской за одну поездку, не превышает 3130 метров. Это подтверждается высоким значением p-value, равным 0.9195.\n",
    "Помесячная выручка:\n",
    "\n",
    "Гипотеза о том, что помесячная выручка от пользователей с подпиской по месяцам выше, чем у пользователей без подписки, также подтверждается. Статистически значимая разница в помесячной выручке составляет 10.39% больше у пользователей с подпиской по сравнению с пользователями без подписки. Значение p-value равно 0.0000, что говорит о высокой степени уверенности в этом результате."
   ]
  },
  {
   "cell_type": "markdown",
   "id": "61213c5e",
   "metadata": {},
   "source": [
    "#### Шаг 7. Распределения"
   ]
  },
  {
   "cell_type": "code",
   "execution_count": 30,
   "id": "95cd1d51",
   "metadata": {},
   "outputs": [
    {
     "name": "stdout",
     "output_type": "stream",
     "text": [
      "Вероятность открытия уведомления не более 399,500 пользователей: 0.15371708296369768\n"
     ]
    }
   ],
   "source": [
    "# Задаем параметры биномиального распределения\n",
    "n = 1000000  # количество уведомлений\n",
    "p = 0.4  # вероятность открытия уведомления\n",
    "\n",
    "# Вычисляем математическое ожидание и стандартное отклонение\n",
    "mu = n * p\n",
    "sigma = (n * p * (1 - p)) ** 0.5\n",
    "\n",
    "# Задаем значение, для которого вычисляем вероятность\n",
    "x = 399500\n",
    "\n",
    "# Стандартизируем переменную и находим вероятность\n",
    "z = (x - mu) / sigma\n",
    "probability = stats.norm.cdf(z)\n",
    "\n",
    "# Выводим результат\n",
    "print(\"Вероятность открытия уведомления не более 399,500 пользователей:\", probability)"
   ]
  },
  {
   "cell_type": "markdown",
   "id": "197f0de5",
   "metadata": {},
   "source": [
    "Это значит, что по результатам анализа и использования нормальной аппроксимации биномиального распределения, оценивается, что вероятность того, что уведомление откроют не более 399,500 пользователей, составляет примерно 0.1537 или около 15.37%."
   ]
  },
  {
   "cell_type": "markdown",
   "id": "c8c1d686",
   "metadata": {},
   "source": [
    "<div class=\"alert alert-success\">\n",
    "<b>✔️ Комментарий ревьюера v1:</b>\n",
    "<br>Дополнительное задание выполнено верно!\n",
    "</div>"
   ]
  },
  {
   "cell_type": "markdown",
   "id": "f1551946",
   "metadata": {},
   "source": [
    "<div class=\"alert alert-danger\">\n",
    "<b>❌ Комментарий ревьюера v1:</b> \n",
    "<br>Обязательно нужно написать общий вывод после проделанной работы. Хорошей практикой является написание в общем выводе всех твоих действий (кратко) по проекту. А после этого нужно написать общий вывод использую информацию из промежуточных выводов после каждого раздела. В нашем исследовании основной вопрос это \"Являются ли подписчики более выгодными для компании?\"  Не забудь ответить на него\n",
    "</div>"
   ]
  },
  {
   "cell_type": "markdown",
   "id": "8dcce23f",
   "metadata": {},
   "source": [
    "**Общий вывод о проделанной работе:**\n",
    "\n",
    "- **Анализ данных**: Был проведен тщательный анализ данных о пользователях сервиса аренды самокатов GoFast. Это включало анализ географического распределения пользователей, предпочтений в использовании сервиса, демографических характеристик и поведения пользователей.\n",
    "- **Выявление важных инсайтов**: Были выявлены ключевые инсайты, которые могут помочь в оптимизации сервиса и разработке эффективных маркетинговых стратегий.\n",
    "- **Подтверждение гипотез**: Были проверены и подтверждены гипотезы о поведении пользователей, что позволило сделать выводы о преимуществах подписчиков для бизнеса.\n",
    "- **Рекомендации для бизнеса**: На основе полученных результатов были сформулированы рекомендации для улучшения сервиса и увеличения доходности бизнеса.\n",
    "\n",
    "В целом, проведенная работа позволила получить ценные знания о пользователях сервиса GoFast и их предпочтениях, что является важным шагом на пути к оптимизации сервиса и увеличению его конкурентоспособности."
   ]
  },
  {
   "cell_type": "markdown",
   "id": "4613a636",
   "metadata": {},
   "source": [
    "**Общий вывод по анализу сервиса аренды самокатов GoFast:**\n",
    "\n",
    "- **Подписчики более выгодны для компании**: Подписчики проводят больше времени в поездках, что увеличивает доход от поминутной оплаты. Они также проезжают меньшее расстояние за одну поездку, что снижает износ и расходы на обслуживание самокатов.\n",
    "- **Подписчики приносят большую помесячную выручку**: Учитывая стоимость подписки и частоту поездок, подписчики приносят большую помесячную выручку.\n",
    "- **Подписчики - лояльные клиенты**: Подписчики являются более лояльными и постоянными клиентами, которые могут рекомендовать сервис своим друзьям и знакомым.\n",
    "- **Подписка - эффективный инструмент**: Подписка на самокаты является эффективным инструментом для повышения доходности и конкурентоспособности компании. \n",
    "\n",
    "Таким образом, подписчики играют ключевую роль в успешности бизнеса GoFast."
   ]
  },
  {
   "cell_type": "markdown",
   "id": "0f193cd1",
   "metadata": {},
   "source": [
    "<div class=\"alert alert-success\">\n",
    "<b>✔️ Комментарий ревьюера v2:</b>\n",
    "<br>Правка выполнена 👍 Не забывай писать вывод в каждом проекте\n",
    "</div>"
   ]
  },
  {
   "cell_type": "markdown",
   "id": "23ee057f",
   "metadata": {},
   "source": [
    "<div class=\"alert alert-danger\">\n",
    "<b>❌ Итоговый комментарий ревьюера v1:</b> \n",
    "<br>Необходимо поправить:\n",
    "<br>- добавить описание задачи в начале проекта\n",
    "<br>- проверить наличие вывода после каждого раздела\n",
    "<br>- удалить дубликаты\n",
    "<br>- проверить наличие выводов после каждого графика\n",
    "<br>- не удалять аномалии\n",
    "<br>- корректно выполнить шаг 5\n",
    "<br>- добавить формулировку гипотез\n",
    "<br>- корректно проверить гипотезы\n",
    "<br>- написать общий вывод\n",
    "\n",
    "<br>После всех внесённых правок не забудь поправить выводы там, где это необходимо\n",
    "</div>\n"
   ]
  },
  {
   "cell_type": "markdown",
   "id": "f776d2d5",
   "metadata": {},
   "source": [
    "<div class=\"alert alert-danger\">\n",
    "<b>❌ Итоговый комментарий ревьюера v2:</b> \n",
    "<br>Необходимо поправить:\n",
    "<br>- добавить формулировку альтернативной гипотезы\n",
    "<br>- поправить проверку третью гипотезу\n",
    "\n",
    "<br>После всех внесённых правок не забудь поправить выводы там, где это необходимо\n",
    "</div>\n"
   ]
  },
  {
   "cell_type": "markdown",
   "id": "8a36d614",
   "metadata": {},
   "source": [
    "<div class=\"alert alert-success\">\n",
    "<b>✔️ Итоговый комментарий ревьюера v3:</b>\n",
    "<br>Все правки выполнены. Молодец!\n",
    "<br>Я рад был поработать над проверкой твоей работы) В качестве дополнительного материала для изучения могу порекомендовать следующие материалы:\n",
    "\n",
    "    Курс \"Вероятность и статистика\" | Глеб Михайлов (free): https://www.youtube.com/playlist?list=PLQJ7ptkRY-xbHLLI66KdscKp_FJt0FsIi\n",
    "\n",
    "    Методы обнаружения выбросов: https://youtu.be/TOK7Kq7x0yc\n",
    "\n",
    "<br>Поздравляю со сдачей проекта и желаю удачи в дальнейшем обучении! 😉    \n",
    "</div>"
   ]
  }
 ],
 "metadata": {
  "ExecuteTimeLog": [
   {
    "duration": 385,
    "start_time": "2023-11-06T11:41:02.396Z"
   },
   {
    "duration": 194,
    "start_time": "2023-11-06T11:41:02.783Z"
   },
   {
    "duration": 18,
    "start_time": "2023-11-06T11:41:02.979Z"
   },
   {
    "duration": 19,
    "start_time": "2023-11-06T11:41:02.998Z"
   },
   {
    "duration": 21,
    "start_time": "2023-11-06T11:41:29.128Z"
   },
   {
    "duration": 10,
    "start_time": "2023-11-06T11:47:30.157Z"
   },
   {
    "duration": 3,
    "start_time": "2023-11-06T11:48:01.901Z"
   },
   {
    "duration": 98,
    "start_time": "2023-11-06T11:48:01.906Z"
   },
   {
    "duration": 17,
    "start_time": "2023-11-06T11:48:02.006Z"
   },
   {
    "duration": 26,
    "start_time": "2023-11-06T11:48:02.025Z"
   },
   {
    "duration": 29,
    "start_time": "2023-11-06T11:48:02.054Z"
   },
   {
    "duration": 28,
    "start_time": "2023-11-06T11:48:02.085Z"
   },
   {
    "duration": 10,
    "start_time": "2023-11-06T11:49:45.718Z"
   },
   {
    "duration": 13,
    "start_time": "2023-11-06T11:50:33.299Z"
   },
   {
    "duration": 13,
    "start_time": "2023-11-06T11:51:16.746Z"
   },
   {
    "duration": 21,
    "start_time": "2023-11-06T11:52:13.513Z"
   },
   {
    "duration": 444,
    "start_time": "2023-11-06T11:58:08.875Z"
   },
   {
    "duration": 71,
    "start_time": "2023-11-06T11:58:09.322Z"
   },
   {
    "duration": 17,
    "start_time": "2023-11-06T11:58:09.394Z"
   },
   {
    "duration": 45,
    "start_time": "2023-11-06T11:58:09.413Z"
   },
   {
    "duration": 22,
    "start_time": "2023-11-06T11:58:09.460Z"
   },
   {
    "duration": 19,
    "start_time": "2023-11-06T11:58:09.483Z"
   },
   {
    "duration": 17,
    "start_time": "2023-11-06T11:58:09.503Z"
   },
   {
    "duration": 23,
    "start_time": "2023-11-06T11:58:09.522Z"
   },
   {
    "duration": 4,
    "start_time": "2023-11-06T11:58:09.547Z"
   },
   {
    "duration": 188,
    "start_time": "2023-11-06T11:58:09.553Z"
   },
   {
    "duration": 80,
    "start_time": "2023-11-06T12:02:30.431Z"
   },
   {
    "duration": 5,
    "start_time": "2023-11-06T12:02:36.198Z"
   },
   {
    "duration": 1349,
    "start_time": "2023-11-06T12:05:34.618Z"
   },
   {
    "duration": 12,
    "start_time": "2023-11-06T12:05:36.090Z"
   },
   {
    "duration": 12,
    "start_time": "2023-11-06T12:06:21.785Z"
   },
   {
    "duration": 3,
    "start_time": "2023-11-06T12:06:23.792Z"
   },
   {
    "duration": 71,
    "start_time": "2023-11-06T12:06:23.797Z"
   },
   {
    "duration": 14,
    "start_time": "2023-11-06T12:06:23.870Z"
   },
   {
    "duration": 19,
    "start_time": "2023-11-06T12:06:23.885Z"
   },
   {
    "duration": 7,
    "start_time": "2023-11-06T12:06:23.906Z"
   },
   {
    "duration": 6,
    "start_time": "2023-11-06T12:06:23.915Z"
   },
   {
    "duration": 28,
    "start_time": "2023-11-06T12:06:23.922Z"
   },
   {
    "duration": 23,
    "start_time": "2023-11-06T12:06:23.951Z"
   },
   {
    "duration": 4,
    "start_time": "2023-11-06T12:06:23.976Z"
   },
   {
    "duration": 247,
    "start_time": "2023-11-06T12:06:23.982Z"
   },
   {
    "duration": 5,
    "start_time": "2023-11-06T12:06:24.231Z"
   },
   {
    "duration": 103,
    "start_time": "2023-11-06T12:06:24.246Z"
   },
   {
    "duration": 179,
    "start_time": "2023-11-06T12:06:24.351Z"
   },
   {
    "duration": 14,
    "start_time": "2023-11-06T12:06:24.533Z"
   },
   {
    "duration": 12,
    "start_time": "2023-11-06T12:08:15.599Z"
   },
   {
    "duration": 1445,
    "start_time": "2023-11-06T12:08:40.805Z"
   },
   {
    "duration": 10,
    "start_time": "2023-11-06T12:08:55.379Z"
   },
   {
    "duration": 4,
    "start_time": "2023-11-06T12:42:34.978Z"
   },
   {
    "duration": 3,
    "start_time": "2023-11-06T12:42:43.075Z"
   },
   {
    "duration": 68,
    "start_time": "2023-11-06T12:42:43.081Z"
   },
   {
    "duration": 15,
    "start_time": "2023-11-06T12:42:43.151Z"
   },
   {
    "duration": 21,
    "start_time": "2023-11-06T12:42:43.167Z"
   },
   {
    "duration": 7,
    "start_time": "2023-11-06T12:42:43.190Z"
   },
   {
    "duration": 8,
    "start_time": "2023-11-06T12:42:43.198Z"
   },
   {
    "duration": 11,
    "start_time": "2023-11-06T12:42:43.207Z"
   },
   {
    "duration": 22,
    "start_time": "2023-11-06T12:42:43.247Z"
   },
   {
    "duration": 5,
    "start_time": "2023-11-06T12:42:43.270Z"
   },
   {
    "duration": 191,
    "start_time": "2023-11-06T12:42:43.277Z"
   },
   {
    "duration": 6,
    "start_time": "2023-11-06T12:42:43.470Z"
   },
   {
    "duration": 113,
    "start_time": "2023-11-06T12:42:43.478Z"
   },
   {
    "duration": 179,
    "start_time": "2023-11-06T12:42:43.593Z"
   },
   {
    "duration": 9,
    "start_time": "2023-11-06T12:42:43.775Z"
   },
   {
    "duration": 9,
    "start_time": "2023-11-06T12:43:53.522Z"
   },
   {
    "duration": 3,
    "start_time": "2023-11-06T12:48:13.302Z"
   },
   {
    "duration": 71,
    "start_time": "2023-11-06T12:48:13.308Z"
   },
   {
    "duration": 17,
    "start_time": "2023-11-06T12:48:13.380Z"
   },
   {
    "duration": 19,
    "start_time": "2023-11-06T12:48:13.398Z"
   },
   {
    "duration": 7,
    "start_time": "2023-11-06T12:48:13.420Z"
   },
   {
    "duration": 16,
    "start_time": "2023-11-06T12:48:13.428Z"
   },
   {
    "duration": 15,
    "start_time": "2023-11-06T12:48:13.447Z"
   },
   {
    "duration": 21,
    "start_time": "2023-11-06T12:48:13.464Z"
   },
   {
    "duration": 5,
    "start_time": "2023-11-06T12:48:13.486Z"
   },
   {
    "duration": 188,
    "start_time": "2023-11-06T12:48:13.492Z"
   },
   {
    "duration": 5,
    "start_time": "2023-11-06T12:48:13.681Z"
   },
   {
    "duration": 121,
    "start_time": "2023-11-06T12:48:13.688Z"
   },
   {
    "duration": 203,
    "start_time": "2023-11-06T12:48:13.811Z"
   },
   {
    "duration": 235,
    "start_time": "2023-11-06T12:48:14.017Z"
   },
   {
    "duration": 220,
    "start_time": "2023-11-06T12:48:14.254Z"
   },
   {
    "duration": 8,
    "start_time": "2023-11-06T12:53:29.328Z"
   },
   {
    "duration": 917,
    "start_time": "2023-11-06T12:56:50.580Z"
   },
   {
    "duration": 818,
    "start_time": "2023-11-06T12:59:35.560Z"
   },
   {
    "duration": 6,
    "start_time": "2023-11-06T13:04:50.894Z"
   },
   {
    "duration": 342,
    "start_time": "2023-11-06T13:05:40.162Z"
   },
   {
    "duration": 14,
    "start_time": "2023-11-06T13:13:37.304Z"
   },
   {
    "duration": 13,
    "start_time": "2023-11-06T13:13:56.566Z"
   },
   {
    "duration": 3,
    "start_time": "2023-11-06T13:14:11.915Z"
   },
   {
    "duration": 71,
    "start_time": "2023-11-06T13:14:11.919Z"
   },
   {
    "duration": 17,
    "start_time": "2023-11-06T13:14:11.992Z"
   },
   {
    "duration": 19,
    "start_time": "2023-11-06T13:14:12.010Z"
   },
   {
    "duration": 7,
    "start_time": "2023-11-06T13:14:12.032Z"
   },
   {
    "duration": 10,
    "start_time": "2023-11-06T13:14:12.040Z"
   },
   {
    "duration": 10,
    "start_time": "2023-11-06T13:14:12.052Z"
   },
   {
    "duration": 27,
    "start_time": "2023-11-06T13:14:12.064Z"
   },
   {
    "duration": 6,
    "start_time": "2023-11-06T13:14:12.093Z"
   },
   {
    "duration": 190,
    "start_time": "2023-11-06T13:14:12.102Z"
   },
   {
    "duration": 5,
    "start_time": "2023-11-06T13:14:12.294Z"
   },
   {
    "duration": 105,
    "start_time": "2023-11-06T13:14:12.300Z"
   },
   {
    "duration": 176,
    "start_time": "2023-11-06T13:14:12.407Z"
   },
   {
    "duration": 229,
    "start_time": "2023-11-06T13:14:12.586Z"
   },
   {
    "duration": 332,
    "start_time": "2023-11-06T13:14:12.816Z"
   },
   {
    "duration": 9,
    "start_time": "2023-11-06T13:14:13.150Z"
   },
   {
    "duration": 832,
    "start_time": "2023-11-06T13:14:13.161Z"
   },
   {
    "duration": 13,
    "start_time": "2023-11-06T13:14:13.995Z"
   },
   {
    "duration": 6,
    "start_time": "2023-11-06T13:14:14.009Z"
   },
   {
    "duration": 355,
    "start_time": "2023-11-06T13:14:14.017Z"
   },
   {
    "duration": 14,
    "start_time": "2023-11-06T13:14:14.374Z"
   },
   {
    "duration": 22,
    "start_time": "2023-11-06T16:51:05.591Z"
   },
   {
    "duration": 28,
    "start_time": "2023-11-06T16:51:26.388Z"
   },
   {
    "duration": 3,
    "start_time": "2023-11-06T17:06:52.544Z"
   },
   {
    "duration": 77,
    "start_time": "2023-11-06T17:06:52.549Z"
   },
   {
    "duration": 15,
    "start_time": "2023-11-06T17:06:52.627Z"
   },
   {
    "duration": 19,
    "start_time": "2023-11-06T17:06:52.644Z"
   },
   {
    "duration": 8,
    "start_time": "2023-11-06T17:06:52.664Z"
   },
   {
    "duration": 9,
    "start_time": "2023-11-06T17:06:52.673Z"
   },
   {
    "duration": 18,
    "start_time": "2023-11-06T17:06:52.684Z"
   },
   {
    "duration": 25,
    "start_time": "2023-11-06T17:06:52.704Z"
   },
   {
    "duration": 6,
    "start_time": "2023-11-06T17:06:52.746Z"
   },
   {
    "duration": 183,
    "start_time": "2023-11-06T17:06:52.756Z"
   },
   {
    "duration": 6,
    "start_time": "2023-11-06T17:06:52.947Z"
   },
   {
    "duration": 110,
    "start_time": "2023-11-06T17:06:52.955Z"
   },
   {
    "duration": 182,
    "start_time": "2023-11-06T17:06:53.066Z"
   },
   {
    "duration": 217,
    "start_time": "2023-11-06T17:06:53.250Z"
   },
   {
    "duration": 225,
    "start_time": "2023-11-06T17:06:53.469Z"
   },
   {
    "duration": 10,
    "start_time": "2023-11-06T17:06:53.695Z"
   },
   {
    "duration": 908,
    "start_time": "2023-11-06T17:06:53.707Z"
   },
   {
    "duration": 30,
    "start_time": "2023-11-06T17:06:54.617Z"
   },
   {
    "duration": 6,
    "start_time": "2023-11-06T17:06:54.649Z"
   },
   {
    "duration": 387,
    "start_time": "2023-11-06T17:06:54.657Z"
   },
   {
    "duration": 14,
    "start_time": "2023-11-06T17:06:55.047Z"
   },
   {
    "duration": 9,
    "start_time": "2023-11-06T17:06:55.063Z"
   },
   {
    "duration": 0,
    "start_time": "2023-11-06T17:06:55.073Z"
   },
   {
    "duration": 2999,
    "start_time": "2023-11-06T17:07:06.841Z"
   },
   {
    "duration": 73,
    "start_time": "2023-11-06T17:09:18.069Z"
   },
   {
    "duration": 98,
    "start_time": "2023-11-06T17:15:13.329Z"
   },
   {
    "duration": 16,
    "start_time": "2023-11-06T17:15:55.985Z"
   },
   {
    "duration": 3,
    "start_time": "2023-11-06T17:21:04.676Z"
   },
   {
    "duration": 89,
    "start_time": "2023-11-06T17:21:04.681Z"
   },
   {
    "duration": 15,
    "start_time": "2023-11-06T17:21:04.772Z"
   },
   {
    "duration": 19,
    "start_time": "2023-11-06T17:21:04.789Z"
   },
   {
    "duration": 7,
    "start_time": "2023-11-06T17:21:04.810Z"
   },
   {
    "duration": 9,
    "start_time": "2023-11-06T17:21:04.819Z"
   },
   {
    "duration": 30,
    "start_time": "2023-11-06T17:21:04.830Z"
   },
   {
    "duration": 26,
    "start_time": "2023-11-06T17:21:04.861Z"
   },
   {
    "duration": 5,
    "start_time": "2023-11-06T17:21:04.889Z"
   },
   {
    "duration": 203,
    "start_time": "2023-11-06T17:21:04.896Z"
   },
   {
    "duration": 5,
    "start_time": "2023-11-06T17:21:05.102Z"
   },
   {
    "duration": 114,
    "start_time": "2023-11-06T17:21:05.109Z"
   },
   {
    "duration": 232,
    "start_time": "2023-11-06T17:21:05.226Z"
   },
   {
    "duration": 309,
    "start_time": "2023-11-06T17:21:05.460Z"
   },
   {
    "duration": 228,
    "start_time": "2023-11-06T17:21:05.771Z"
   },
   {
    "duration": 10,
    "start_time": "2023-11-06T17:21:06.000Z"
   },
   {
    "duration": 860,
    "start_time": "2023-11-06T17:21:06.013Z"
   },
   {
    "duration": 17,
    "start_time": "2023-11-06T17:21:06.875Z"
   },
   {
    "duration": 9,
    "start_time": "2023-11-06T17:21:06.895Z"
   },
   {
    "duration": 357,
    "start_time": "2023-11-06T17:21:06.905Z"
   },
   {
    "duration": 13,
    "start_time": "2023-11-06T17:21:07.264Z"
   },
   {
    "duration": 4,
    "start_time": "2023-11-06T17:21:07.279Z"
   },
   {
    "duration": 0,
    "start_time": "2023-11-06T17:21:07.285Z"
   },
   {
    "duration": 0,
    "start_time": "2023-11-06T17:21:07.286Z"
   },
   {
    "duration": 9,
    "start_time": "2023-11-06T17:21:42.722Z"
   },
   {
    "duration": 2426,
    "start_time": "2023-11-06T17:22:34.462Z"
   },
   {
    "duration": 10,
    "start_time": "2023-11-06T17:22:37.094Z"
   },
   {
    "duration": 3487,
    "start_time": "2023-11-06T17:22:53.466Z"
   },
   {
    "duration": 2191,
    "start_time": "2023-11-06T17:24:36.787Z"
   },
   {
    "duration": 9,
    "start_time": "2023-11-06T17:24:39.930Z"
   },
   {
    "duration": 5,
    "start_time": "2023-11-06T17:27:25.561Z"
   },
   {
    "duration": 3,
    "start_time": "2023-11-06T17:29:38.711Z"
   },
   {
    "duration": 72,
    "start_time": "2023-11-06T17:29:38.717Z"
   },
   {
    "duration": 15,
    "start_time": "2023-11-06T17:29:38.790Z"
   },
   {
    "duration": 26,
    "start_time": "2023-11-06T17:29:38.807Z"
   },
   {
    "duration": 8,
    "start_time": "2023-11-06T17:29:38.836Z"
   },
   {
    "duration": 22,
    "start_time": "2023-11-06T17:29:38.845Z"
   },
   {
    "duration": 19,
    "start_time": "2023-11-06T17:29:38.869Z"
   },
   {
    "duration": 27,
    "start_time": "2023-11-06T17:29:38.889Z"
   },
   {
    "duration": 5,
    "start_time": "2023-11-06T17:29:38.918Z"
   },
   {
    "duration": 191,
    "start_time": "2023-11-06T17:29:38.925Z"
   },
   {
    "duration": 6,
    "start_time": "2023-11-06T17:29:39.118Z"
   },
   {
    "duration": 116,
    "start_time": "2023-11-06T17:29:39.125Z"
   },
   {
    "duration": 179,
    "start_time": "2023-11-06T17:29:39.246Z"
   },
   {
    "duration": 211,
    "start_time": "2023-11-06T17:29:39.428Z"
   },
   {
    "duration": 287,
    "start_time": "2023-11-06T17:29:39.647Z"
   },
   {
    "duration": 17,
    "start_time": "2023-11-06T17:29:39.935Z"
   },
   {
    "duration": 868,
    "start_time": "2023-11-06T17:29:39.953Z"
   },
   {
    "duration": 25,
    "start_time": "2023-11-06T17:29:40.822Z"
   },
   {
    "duration": 6,
    "start_time": "2023-11-06T17:29:40.848Z"
   },
   {
    "duration": 361,
    "start_time": "2023-11-06T17:29:40.856Z"
   },
   {
    "duration": 14,
    "start_time": "2023-11-06T17:29:41.219Z"
   },
   {
    "duration": 3836,
    "start_time": "2023-11-06T17:29:41.247Z"
   },
   {
    "duration": 0,
    "start_time": "2023-11-06T17:29:45.085Z"
   },
   {
    "duration": 0,
    "start_time": "2023-11-06T17:29:45.086Z"
   },
   {
    "duration": 4,
    "start_time": "2023-11-06T17:30:43.408Z"
   },
   {
    "duration": 70,
    "start_time": "2023-11-06T17:30:43.414Z"
   },
   {
    "duration": 15,
    "start_time": "2023-11-06T17:30:43.486Z"
   },
   {
    "duration": 20,
    "start_time": "2023-11-06T17:30:43.502Z"
   },
   {
    "duration": 8,
    "start_time": "2023-11-06T17:30:43.524Z"
   },
   {
    "duration": 13,
    "start_time": "2023-11-06T17:30:43.533Z"
   },
   {
    "duration": 9,
    "start_time": "2023-11-06T17:30:43.549Z"
   },
   {
    "duration": 26,
    "start_time": "2023-11-06T17:30:43.560Z"
   },
   {
    "duration": 5,
    "start_time": "2023-11-06T17:30:43.588Z"
   },
   {
    "duration": 206,
    "start_time": "2023-11-06T17:30:43.595Z"
   },
   {
    "duration": 4,
    "start_time": "2023-11-06T17:30:43.803Z"
   },
   {
    "duration": 113,
    "start_time": "2023-11-06T17:30:43.809Z"
   },
   {
    "duration": 277,
    "start_time": "2023-11-06T17:30:43.924Z"
   },
   {
    "duration": 224,
    "start_time": "2023-11-06T17:30:44.204Z"
   },
   {
    "duration": 226,
    "start_time": "2023-11-06T17:30:44.429Z"
   },
   {
    "duration": 10,
    "start_time": "2023-11-06T17:30:44.657Z"
   },
   {
    "duration": 824,
    "start_time": "2023-11-06T17:30:44.668Z"
   },
   {
    "duration": 15,
    "start_time": "2023-11-06T17:30:45.494Z"
   },
   {
    "duration": 7,
    "start_time": "2023-11-06T17:30:45.511Z"
   },
   {
    "duration": 417,
    "start_time": "2023-11-06T17:30:45.520Z"
   },
   {
    "duration": 20,
    "start_time": "2023-11-06T17:30:45.939Z"
   },
   {
    "duration": 3374,
    "start_time": "2023-11-06T17:30:45.961Z"
   },
   {
    "duration": 0,
    "start_time": "2023-11-06T17:30:49.337Z"
   },
   {
    "duration": 0,
    "start_time": "2023-11-06T17:30:49.339Z"
   },
   {
    "duration": 3,
    "start_time": "2023-11-06T17:31:08.773Z"
   },
   {
    "duration": 71,
    "start_time": "2023-11-06T17:31:08.778Z"
   },
   {
    "duration": 15,
    "start_time": "2023-11-06T17:31:08.851Z"
   },
   {
    "duration": 21,
    "start_time": "2023-11-06T17:31:08.868Z"
   },
   {
    "duration": 8,
    "start_time": "2023-11-06T17:31:08.891Z"
   },
   {
    "duration": 7,
    "start_time": "2023-11-06T17:31:08.900Z"
   },
   {
    "duration": 40,
    "start_time": "2023-11-06T17:31:08.909Z"
   },
   {
    "duration": 21,
    "start_time": "2023-11-06T17:31:08.951Z"
   },
   {
    "duration": 5,
    "start_time": "2023-11-06T17:31:08.974Z"
   },
   {
    "duration": 273,
    "start_time": "2023-11-06T17:31:08.980Z"
   },
   {
    "duration": 5,
    "start_time": "2023-11-06T17:31:09.255Z"
   },
   {
    "duration": 108,
    "start_time": "2023-11-06T17:31:09.262Z"
   },
   {
    "duration": 182,
    "start_time": "2023-11-06T17:31:09.373Z"
   },
   {
    "duration": 224,
    "start_time": "2023-11-06T17:31:09.559Z"
   },
   {
    "duration": 232,
    "start_time": "2023-11-06T17:31:09.785Z"
   },
   {
    "duration": 9,
    "start_time": "2023-11-06T17:31:10.019Z"
   },
   {
    "duration": 859,
    "start_time": "2023-11-06T17:31:10.029Z"
   },
   {
    "duration": 13,
    "start_time": "2023-11-06T17:31:10.890Z"
   },
   {
    "duration": 19,
    "start_time": "2023-11-06T17:31:10.905Z"
   },
   {
    "duration": 348,
    "start_time": "2023-11-06T17:31:10.926Z"
   },
   {
    "duration": 13,
    "start_time": "2023-11-06T17:31:11.276Z"
   },
   {
    "duration": 18,
    "start_time": "2023-11-06T17:31:11.290Z"
   },
   {
    "duration": 38,
    "start_time": "2023-11-06T17:31:11.309Z"
   },
   {
    "duration": 803,
    "start_time": "2023-11-06T21:03:29.636Z"
   },
   {
    "duration": 197,
    "start_time": "2023-11-06T21:03:30.442Z"
   },
   {
    "duration": 16,
    "start_time": "2023-11-06T21:03:30.641Z"
   },
   {
    "duration": 60,
    "start_time": "2023-11-06T21:03:30.659Z"
   },
   {
    "duration": 25,
    "start_time": "2023-11-06T21:03:30.721Z"
   },
   {
    "duration": 37,
    "start_time": "2023-11-06T21:03:30.748Z"
   },
   {
    "duration": 38,
    "start_time": "2023-11-06T21:03:30.787Z"
   },
   {
    "duration": 50,
    "start_time": "2023-11-06T21:03:30.827Z"
   },
   {
    "duration": 20,
    "start_time": "2023-11-06T21:03:30.879Z"
   },
   {
    "duration": 190,
    "start_time": "2023-11-06T21:03:30.901Z"
   },
   {
    "duration": 8,
    "start_time": "2023-11-06T21:03:31.093Z"
   },
   {
    "duration": 109,
    "start_time": "2023-11-06T21:03:31.102Z"
   },
   {
    "duration": 150,
    "start_time": "2023-11-06T21:03:31.212Z"
   },
   {
    "duration": 201,
    "start_time": "2023-11-06T21:03:31.365Z"
   },
   {
    "duration": 270,
    "start_time": "2023-11-06T21:03:31.567Z"
   },
   {
    "duration": 8,
    "start_time": "2023-11-06T21:03:31.839Z"
   },
   {
    "duration": 750,
    "start_time": "2023-11-06T21:03:31.848Z"
   },
   {
    "duration": 13,
    "start_time": "2023-11-06T21:03:32.600Z"
   },
   {
    "duration": 10,
    "start_time": "2023-11-06T21:03:32.614Z"
   },
   {
    "duration": 311,
    "start_time": "2023-11-06T21:03:32.625Z"
   },
   {
    "duration": 12,
    "start_time": "2023-11-06T21:03:32.938Z"
   },
   {
    "duration": 11,
    "start_time": "2023-11-06T21:03:32.951Z"
   },
   {
    "duration": 18,
    "start_time": "2023-11-06T21:03:32.964Z"
   },
   {
    "duration": 839,
    "start_time": "2023-11-07T17:27:29.458Z"
   },
   {
    "duration": 275,
    "start_time": "2023-11-07T17:27:30.298Z"
   },
   {
    "duration": 68,
    "start_time": "2023-11-07T17:27:30.575Z"
   },
   {
    "duration": 0,
    "start_time": "2023-11-07T17:27:30.645Z"
   },
   {
    "duration": 0,
    "start_time": "2023-11-07T17:27:30.647Z"
   },
   {
    "duration": 0,
    "start_time": "2023-11-07T17:27:30.648Z"
   },
   {
    "duration": 0,
    "start_time": "2023-11-07T17:27:30.649Z"
   },
   {
    "duration": 0,
    "start_time": "2023-11-07T17:27:30.650Z"
   },
   {
    "duration": 0,
    "start_time": "2023-11-07T17:27:30.651Z"
   },
   {
    "duration": 0,
    "start_time": "2023-11-07T17:27:30.652Z"
   },
   {
    "duration": 0,
    "start_time": "2023-11-07T17:27:30.654Z"
   },
   {
    "duration": 0,
    "start_time": "2023-11-07T17:27:30.674Z"
   },
   {
    "duration": 0,
    "start_time": "2023-11-07T17:27:30.676Z"
   },
   {
    "duration": 0,
    "start_time": "2023-11-07T17:27:30.677Z"
   },
   {
    "duration": 0,
    "start_time": "2023-11-07T17:27:30.679Z"
   },
   {
    "duration": 0,
    "start_time": "2023-11-07T17:27:30.680Z"
   },
   {
    "duration": 0,
    "start_time": "2023-11-07T17:27:30.682Z"
   },
   {
    "duration": 0,
    "start_time": "2023-11-07T17:27:30.683Z"
   },
   {
    "duration": 0,
    "start_time": "2023-11-07T17:27:30.685Z"
   },
   {
    "duration": 0,
    "start_time": "2023-11-07T17:27:30.686Z"
   },
   {
    "duration": 0,
    "start_time": "2023-11-07T17:27:30.687Z"
   },
   {
    "duration": 0,
    "start_time": "2023-11-07T17:27:30.689Z"
   },
   {
    "duration": 15,
    "start_time": "2023-11-07T17:31:25.278Z"
   },
   {
    "duration": 13,
    "start_time": "2023-11-07T17:31:57.396Z"
   },
   {
    "duration": 16,
    "start_time": "2023-11-07T17:32:32.716Z"
   },
   {
    "duration": 7,
    "start_time": "2023-11-07T17:32:40.531Z"
   },
   {
    "duration": 3,
    "start_time": "2023-11-07T17:33:45.977Z"
   },
   {
    "duration": 78,
    "start_time": "2023-11-07T17:33:45.982Z"
   },
   {
    "duration": 15,
    "start_time": "2023-11-07T17:33:46.061Z"
   },
   {
    "duration": 36,
    "start_time": "2023-11-07T17:33:46.077Z"
   },
   {
    "duration": 11,
    "start_time": "2023-11-07T17:33:46.114Z"
   },
   {
    "duration": 37,
    "start_time": "2023-11-07T17:33:46.126Z"
   },
   {
    "duration": 13,
    "start_time": "2023-11-07T17:33:46.165Z"
   },
   {
    "duration": 25,
    "start_time": "2023-11-07T17:33:46.180Z"
   },
   {
    "duration": 27,
    "start_time": "2023-11-07T17:33:46.207Z"
   },
   {
    "duration": 39,
    "start_time": "2023-11-07T17:33:46.235Z"
   },
   {
    "duration": 4,
    "start_time": "2023-11-07T17:33:46.276Z"
   },
   {
    "duration": 177,
    "start_time": "2023-11-07T17:33:46.282Z"
   },
   {
    "duration": 5,
    "start_time": "2023-11-07T17:33:46.460Z"
   },
   {
    "duration": 117,
    "start_time": "2023-11-07T17:33:46.470Z"
   },
   {
    "duration": 160,
    "start_time": "2023-11-07T17:33:46.588Z"
   },
   {
    "duration": 210,
    "start_time": "2023-11-07T17:33:46.749Z"
   },
   {
    "duration": 298,
    "start_time": "2023-11-07T17:33:46.961Z"
   },
   {
    "duration": 16,
    "start_time": "2023-11-07T17:33:47.261Z"
   },
   {
    "duration": 766,
    "start_time": "2023-11-07T17:33:47.279Z"
   },
   {
    "duration": 18,
    "start_time": "2023-11-07T17:33:48.046Z"
   },
   {
    "duration": 5,
    "start_time": "2023-11-07T17:33:48.066Z"
   },
   {
    "duration": 321,
    "start_time": "2023-11-07T17:33:48.073Z"
   },
   {
    "duration": 12,
    "start_time": "2023-11-07T17:33:48.396Z"
   },
   {
    "duration": 13,
    "start_time": "2023-11-07T17:33:48.410Z"
   },
   {
    "duration": 31,
    "start_time": "2023-11-07T17:33:48.425Z"
   },
   {
    "duration": 3,
    "start_time": "2023-11-07T17:36:33.199Z"
   },
   {
    "duration": 73,
    "start_time": "2023-11-07T17:36:33.204Z"
   },
   {
    "duration": 12,
    "start_time": "2023-11-07T17:36:33.279Z"
   },
   {
    "duration": 26,
    "start_time": "2023-11-07T17:36:33.292Z"
   },
   {
    "duration": 27,
    "start_time": "2023-11-07T17:36:33.320Z"
   },
   {
    "duration": 35,
    "start_time": "2023-11-07T17:36:33.348Z"
   },
   {
    "duration": 18,
    "start_time": "2023-11-07T17:36:33.385Z"
   },
   {
    "duration": 39,
    "start_time": "2023-11-07T17:36:33.405Z"
   },
   {
    "duration": 41,
    "start_time": "2023-11-07T17:36:33.446Z"
   },
   {
    "duration": 48,
    "start_time": "2023-11-07T17:36:33.489Z"
   },
   {
    "duration": 20,
    "start_time": "2023-11-07T17:36:33.538Z"
   },
   {
    "duration": 180,
    "start_time": "2023-11-07T17:36:33.559Z"
   },
   {
    "duration": 5,
    "start_time": "2023-11-07T17:36:33.740Z"
   },
   {
    "duration": 100,
    "start_time": "2023-11-07T17:36:33.748Z"
   },
   {
    "duration": 171,
    "start_time": "2023-11-07T17:36:33.849Z"
   },
   {
    "duration": 195,
    "start_time": "2023-11-07T17:36:34.022Z"
   },
   {
    "duration": 228,
    "start_time": "2023-11-07T17:36:34.219Z"
   },
   {
    "duration": 7,
    "start_time": "2023-11-07T17:36:34.449Z"
   },
   {
    "duration": 827,
    "start_time": "2023-11-07T17:36:34.457Z"
   },
   {
    "duration": 20,
    "start_time": "2023-11-07T17:36:35.286Z"
   },
   {
    "duration": 6,
    "start_time": "2023-11-07T17:36:35.308Z"
   },
   {
    "duration": 299,
    "start_time": "2023-11-07T17:36:35.316Z"
   },
   {
    "duration": 12,
    "start_time": "2023-11-07T17:36:35.616Z"
   },
   {
    "duration": 16,
    "start_time": "2023-11-07T17:36:35.630Z"
   },
   {
    "duration": 36,
    "start_time": "2023-11-07T17:36:35.648Z"
   },
   {
    "duration": 16,
    "start_time": "2023-11-07T18:31:33.496Z"
   },
   {
    "duration": 23,
    "start_time": "2023-11-07T18:32:42.735Z"
   },
   {
    "duration": 9524,
    "start_time": "2023-11-07T18:33:06.270Z"
   },
   {
    "duration": 10,
    "start_time": "2023-11-07T18:33:15.796Z"
   },
   {
    "duration": 0,
    "start_time": "2023-11-07T18:33:15.807Z"
   },
   {
    "duration": 0,
    "start_time": "2023-11-07T18:33:15.808Z"
   },
   {
    "duration": 21,
    "start_time": "2023-11-07T18:33:34.254Z"
   },
   {
    "duration": 7,
    "start_time": "2023-11-07T18:34:43.497Z"
   },
   {
    "duration": 20,
    "start_time": "2023-11-07T18:34:46.851Z"
   },
   {
    "duration": 3,
    "start_time": "2023-11-07T18:37:20.478Z"
   },
   {
    "duration": 85,
    "start_time": "2023-11-07T18:37:20.482Z"
   },
   {
    "duration": 11,
    "start_time": "2023-11-07T18:37:20.570Z"
   },
   {
    "duration": 40,
    "start_time": "2023-11-07T18:37:20.583Z"
   },
   {
    "duration": 47,
    "start_time": "2023-11-07T18:37:20.625Z"
   },
   {
    "duration": 27,
    "start_time": "2023-11-07T18:37:20.674Z"
   },
   {
    "duration": 14,
    "start_time": "2023-11-07T18:37:20.703Z"
   },
   {
    "duration": 51,
    "start_time": "2023-11-07T18:37:20.719Z"
   },
   {
    "duration": 37,
    "start_time": "2023-11-07T18:37:20.772Z"
   },
   {
    "duration": 43,
    "start_time": "2023-11-07T18:37:20.812Z"
   },
   {
    "duration": 6,
    "start_time": "2023-11-07T18:37:20.856Z"
   },
   {
    "duration": 197,
    "start_time": "2023-11-07T18:37:20.863Z"
   },
   {
    "duration": 5,
    "start_time": "2023-11-07T18:37:21.061Z"
   },
   {
    "duration": 134,
    "start_time": "2023-11-07T18:37:21.067Z"
   },
   {
    "duration": 153,
    "start_time": "2023-11-07T18:37:21.203Z"
   },
   {
    "duration": 190,
    "start_time": "2023-11-07T18:37:21.357Z"
   },
   {
    "duration": 211,
    "start_time": "2023-11-07T18:37:21.549Z"
   },
   {
    "duration": 11,
    "start_time": "2023-11-07T18:37:21.762Z"
   },
   {
    "duration": 879,
    "start_time": "2023-11-07T18:37:21.776Z"
   },
   {
    "duration": 19,
    "start_time": "2023-11-07T18:37:22.657Z"
   },
   {
    "duration": 4,
    "start_time": "2023-11-07T18:37:22.677Z"
   },
   {
    "duration": 300,
    "start_time": "2023-11-07T18:37:22.683Z"
   },
   {
    "duration": 12,
    "start_time": "2023-11-07T18:37:22.985Z"
   },
   {
    "duration": 3,
    "start_time": "2023-11-07T18:37:22.999Z"
   },
   {
    "duration": 20,
    "start_time": "2023-11-07T18:37:23.004Z"
   },
   {
    "duration": 12,
    "start_time": "2023-11-07T18:37:23.026Z"
   },
   {
    "duration": 15,
    "start_time": "2023-11-07T18:37:23.040Z"
   },
   {
    "duration": 0,
    "start_time": "2023-11-07T18:37:23.057Z"
   },
   {
    "duration": 19,
    "start_time": "2023-11-07T18:37:25.295Z"
   },
   {
    "duration": 8,
    "start_time": "2023-11-07T18:40:16.412Z"
   },
   {
    "duration": 22,
    "start_time": "2023-11-07T18:40:20.695Z"
   },
   {
    "duration": 3,
    "start_time": "2023-11-07T19:03:45.307Z"
   },
   {
    "duration": 69,
    "start_time": "2023-11-07T19:03:45.313Z"
   },
   {
    "duration": 12,
    "start_time": "2023-11-07T19:03:45.384Z"
   },
   {
    "duration": 16,
    "start_time": "2023-11-07T19:03:45.398Z"
   },
   {
    "duration": 40,
    "start_time": "2023-11-07T19:03:45.416Z"
   },
   {
    "duration": 27,
    "start_time": "2023-11-07T19:03:45.458Z"
   },
   {
    "duration": 7,
    "start_time": "2023-11-07T19:03:45.487Z"
   },
   {
    "duration": 11,
    "start_time": "2023-11-07T19:03:45.495Z"
   },
   {
    "duration": 9,
    "start_time": "2023-11-07T19:03:45.508Z"
   },
   {
    "duration": 22,
    "start_time": "2023-11-07T19:03:45.519Z"
   },
   {
    "duration": 4,
    "start_time": "2023-11-07T19:03:45.542Z"
   },
   {
    "duration": 150,
    "start_time": "2023-11-07T19:03:45.569Z"
   },
   {
    "duration": 5,
    "start_time": "2023-11-07T19:03:45.721Z"
   },
   {
    "duration": 101,
    "start_time": "2023-11-07T19:03:45.728Z"
   },
   {
    "duration": 151,
    "start_time": "2023-11-07T19:03:45.831Z"
   },
   {
    "duration": 186,
    "start_time": "2023-11-07T19:03:45.983Z"
   },
   {
    "duration": 194,
    "start_time": "2023-11-07T19:03:46.170Z"
   },
   {
    "duration": 9,
    "start_time": "2023-11-07T19:03:46.365Z"
   },
   {
    "duration": 744,
    "start_time": "2023-11-07T19:03:46.375Z"
   },
   {
    "duration": 12,
    "start_time": "2023-11-07T19:03:47.121Z"
   },
   {
    "duration": 18,
    "start_time": "2023-11-07T19:03:47.135Z"
   },
   {
    "duration": 304,
    "start_time": "2023-11-07T19:03:47.154Z"
   },
   {
    "duration": 23,
    "start_time": "2023-11-07T19:03:47.459Z"
   },
   {
    "duration": 3,
    "start_time": "2023-11-07T19:03:47.485Z"
   },
   {
    "duration": 8,
    "start_time": "2023-11-07T19:03:47.489Z"
   },
   {
    "duration": 124,
    "start_time": "2023-11-07T19:03:47.499Z"
   },
   {
    "duration": 18,
    "start_time": "2023-11-07T19:03:47.625Z"
   },
   {
    "duration": 3,
    "start_time": "2023-11-07T19:04:38.906Z"
   },
   {
    "duration": 75,
    "start_time": "2023-11-07T19:04:38.911Z"
   },
   {
    "duration": 12,
    "start_time": "2023-11-07T19:04:38.988Z"
   },
   {
    "duration": 13,
    "start_time": "2023-11-07T19:04:39.002Z"
   },
   {
    "duration": 35,
    "start_time": "2023-11-07T19:04:39.017Z"
   },
   {
    "duration": 24,
    "start_time": "2023-11-07T19:04:39.053Z"
   },
   {
    "duration": 22,
    "start_time": "2023-11-07T19:04:39.078Z"
   },
   {
    "duration": 20,
    "start_time": "2023-11-07T19:04:39.102Z"
   },
   {
    "duration": 30,
    "start_time": "2023-11-07T19:04:39.123Z"
   },
   {
    "duration": 39,
    "start_time": "2023-11-07T19:04:39.154Z"
   },
   {
    "duration": 5,
    "start_time": "2023-11-07T19:04:39.194Z"
   },
   {
    "duration": 152,
    "start_time": "2023-11-07T19:04:39.200Z"
   },
   {
    "duration": 4,
    "start_time": "2023-11-07T19:04:39.354Z"
   },
   {
    "duration": 119,
    "start_time": "2023-11-07T19:04:39.361Z"
   },
   {
    "duration": 153,
    "start_time": "2023-11-07T19:04:39.481Z"
   },
   {
    "duration": 185,
    "start_time": "2023-11-07T19:04:39.635Z"
   },
   {
    "duration": 211,
    "start_time": "2023-11-07T19:04:39.822Z"
   },
   {
    "duration": 8,
    "start_time": "2023-11-07T19:04:40.034Z"
   },
   {
    "duration": 739,
    "start_time": "2023-11-07T19:04:40.043Z"
   },
   {
    "duration": 11,
    "start_time": "2023-11-07T19:04:40.783Z"
   },
   {
    "duration": 24,
    "start_time": "2023-11-07T19:04:40.796Z"
   },
   {
    "duration": 296,
    "start_time": "2023-11-07T19:04:40.822Z"
   },
   {
    "duration": 12,
    "start_time": "2023-11-07T19:04:41.119Z"
   },
   {
    "duration": 22,
    "start_time": "2023-11-07T19:04:41.132Z"
   },
   {
    "duration": 44,
    "start_time": "2023-11-07T19:04:41.155Z"
   },
   {
    "duration": 44,
    "start_time": "2023-11-07T19:04:41.201Z"
   },
   {
    "duration": 18,
    "start_time": "2023-11-07T19:04:41.247Z"
   },
   {
    "duration": 3,
    "start_time": "2023-11-07T19:05:46.627Z"
   },
   {
    "duration": 87,
    "start_time": "2023-11-07T19:05:46.631Z"
   },
   {
    "duration": 16,
    "start_time": "2023-11-07T19:05:46.719Z"
   },
   {
    "duration": 36,
    "start_time": "2023-11-07T19:05:46.736Z"
   },
   {
    "duration": 35,
    "start_time": "2023-11-07T19:05:46.774Z"
   },
   {
    "duration": 46,
    "start_time": "2023-11-07T19:05:46.810Z"
   },
   {
    "duration": 19,
    "start_time": "2023-11-07T19:05:46.858Z"
   },
   {
    "duration": 30,
    "start_time": "2023-11-07T19:05:46.879Z"
   },
   {
    "duration": 19,
    "start_time": "2023-11-07T19:05:46.911Z"
   },
   {
    "duration": 62,
    "start_time": "2023-11-07T19:05:46.932Z"
   },
   {
    "duration": 6,
    "start_time": "2023-11-07T19:05:46.996Z"
   },
   {
    "duration": 187,
    "start_time": "2023-11-07T19:05:47.004Z"
   },
   {
    "duration": 4,
    "start_time": "2023-11-07T19:05:47.193Z"
   },
   {
    "duration": 125,
    "start_time": "2023-11-07T19:05:47.200Z"
   },
   {
    "duration": 252,
    "start_time": "2023-11-07T19:05:47.327Z"
   },
   {
    "duration": 208,
    "start_time": "2023-11-07T19:05:47.580Z"
   },
   {
    "duration": 190,
    "start_time": "2023-11-07T19:05:47.789Z"
   },
   {
    "duration": 7,
    "start_time": "2023-11-07T19:05:47.981Z"
   },
   {
    "duration": 690,
    "start_time": "2023-11-07T19:05:47.990Z"
   },
   {
    "duration": 15,
    "start_time": "2023-11-07T19:05:48.682Z"
   },
   {
    "duration": 21,
    "start_time": "2023-11-07T19:05:48.699Z"
   },
   {
    "duration": 305,
    "start_time": "2023-11-07T19:05:48.722Z"
   },
   {
    "duration": 12,
    "start_time": "2023-11-07T19:05:49.029Z"
   },
   {
    "duration": 30,
    "start_time": "2023-11-07T19:05:49.042Z"
   },
   {
    "duration": 30,
    "start_time": "2023-11-07T19:05:49.074Z"
   },
   {
    "duration": 48,
    "start_time": "2023-11-07T19:05:49.106Z"
   },
   {
    "duration": 18,
    "start_time": "2023-11-07T19:05:49.156Z"
   },
   {
    "duration": 3,
    "start_time": "2023-11-07T19:11:11.768Z"
   },
   {
    "duration": 69,
    "start_time": "2023-11-07T19:11:11.774Z"
   },
   {
    "duration": 15,
    "start_time": "2023-11-07T19:11:11.845Z"
   },
   {
    "duration": 25,
    "start_time": "2023-11-07T19:11:11.862Z"
   },
   {
    "duration": 8,
    "start_time": "2023-11-07T19:11:11.889Z"
   },
   {
    "duration": 17,
    "start_time": "2023-11-07T19:11:11.899Z"
   },
   {
    "duration": 8,
    "start_time": "2023-11-07T19:11:11.918Z"
   },
   {
    "duration": 9,
    "start_time": "2023-11-07T19:11:11.927Z"
   },
   {
    "duration": 9,
    "start_time": "2023-11-07T19:11:11.938Z"
   },
   {
    "duration": 22,
    "start_time": "2023-11-07T19:11:11.969Z"
   },
   {
    "duration": 5,
    "start_time": "2023-11-07T19:11:11.993Z"
   },
   {
    "duration": 173,
    "start_time": "2023-11-07T19:11:11.999Z"
   },
   {
    "duration": 7,
    "start_time": "2023-11-07T19:11:12.175Z"
   },
   {
    "duration": 101,
    "start_time": "2023-11-07T19:11:12.185Z"
   },
   {
    "duration": 149,
    "start_time": "2023-11-07T19:11:12.288Z"
   },
   {
    "duration": 184,
    "start_time": "2023-11-07T19:11:12.438Z"
   },
   {
    "duration": 261,
    "start_time": "2023-11-07T19:11:12.623Z"
   },
   {
    "duration": 7,
    "start_time": "2023-11-07T19:11:12.885Z"
   },
   {
    "duration": 699,
    "start_time": "2023-11-07T19:11:12.894Z"
   },
   {
    "duration": 11,
    "start_time": "2023-11-07T19:11:13.595Z"
   },
   {
    "duration": 22,
    "start_time": "2023-11-07T19:11:13.608Z"
   },
   {
    "duration": 270,
    "start_time": "2023-11-07T19:11:13.632Z"
   },
   {
    "duration": 11,
    "start_time": "2023-11-07T19:11:13.904Z"
   },
   {
    "duration": 2,
    "start_time": "2023-11-07T19:11:13.917Z"
   },
   {
    "duration": 26,
    "start_time": "2023-11-07T19:11:13.921Z"
   },
   {
    "duration": 34,
    "start_time": "2023-11-07T19:11:13.949Z"
   },
   {
    "duration": 32,
    "start_time": "2023-11-07T19:11:13.984Z"
   },
   {
    "duration": 18,
    "start_time": "2023-11-07T19:11:14.018Z"
   },
   {
    "duration": 3,
    "start_time": "2023-11-07T19:12:39.528Z"
   },
   {
    "duration": 67,
    "start_time": "2023-11-07T19:12:39.533Z"
   },
   {
    "duration": 13,
    "start_time": "2023-11-07T19:12:39.603Z"
   },
   {
    "duration": 16,
    "start_time": "2023-11-07T19:12:39.617Z"
   },
   {
    "duration": 7,
    "start_time": "2023-11-07T19:12:39.635Z"
   },
   {
    "duration": 14,
    "start_time": "2023-11-07T19:12:39.643Z"
   },
   {
    "duration": 11,
    "start_time": "2023-11-07T19:12:39.658Z"
   },
   {
    "duration": 10,
    "start_time": "2023-11-07T19:12:39.670Z"
   },
   {
    "duration": 8,
    "start_time": "2023-11-07T19:12:39.681Z"
   },
   {
    "duration": 19,
    "start_time": "2023-11-07T19:12:39.691Z"
   },
   {
    "duration": 4,
    "start_time": "2023-11-07T19:12:39.712Z"
   },
   {
    "duration": 156,
    "start_time": "2023-11-07T19:12:39.717Z"
   },
   {
    "duration": 4,
    "start_time": "2023-11-07T19:12:39.875Z"
   },
   {
    "duration": 93,
    "start_time": "2023-11-07T19:12:39.882Z"
   },
   {
    "duration": 156,
    "start_time": "2023-11-07T19:12:39.977Z"
   },
   {
    "duration": 210,
    "start_time": "2023-11-07T19:12:40.135Z"
   },
   {
    "duration": 206,
    "start_time": "2023-11-07T19:12:40.347Z"
   },
   {
    "duration": 15,
    "start_time": "2023-11-07T19:12:40.554Z"
   },
   {
    "duration": 811,
    "start_time": "2023-11-07T19:12:40.570Z"
   },
   {
    "duration": 12,
    "start_time": "2023-11-07T19:12:41.383Z"
   },
   {
    "duration": 4,
    "start_time": "2023-11-07T19:12:41.397Z"
   },
   {
    "duration": 306,
    "start_time": "2023-11-07T19:12:41.403Z"
   },
   {
    "duration": 11,
    "start_time": "2023-11-07T19:12:41.711Z"
   },
   {
    "duration": 4,
    "start_time": "2023-11-07T19:12:41.723Z"
   },
   {
    "duration": 8,
    "start_time": "2023-11-07T19:12:41.728Z"
   },
   {
    "duration": 5,
    "start_time": "2023-11-07T19:12:41.737Z"
   },
   {
    "duration": 44,
    "start_time": "2023-11-07T19:12:41.743Z"
   },
   {
    "duration": 24,
    "start_time": "2023-11-07T19:12:41.789Z"
   },
   {
    "duration": 394,
    "start_time": "2023-11-07T19:32:53.082Z"
   },
   {
    "duration": 35,
    "start_time": "2023-11-07T19:41:27.578Z"
   },
   {
    "duration": 9,
    "start_time": "2023-11-07T19:42:04.290Z"
   },
   {
    "duration": 5,
    "start_time": "2023-11-07T19:43:25.569Z"
   },
   {
    "duration": 8,
    "start_time": "2023-11-07T19:48:08.558Z"
   },
   {
    "duration": 6,
    "start_time": "2023-11-07T19:48:38.719Z"
   },
   {
    "duration": 3,
    "start_time": "2023-11-07T19:50:16.903Z"
   },
   {
    "duration": 88,
    "start_time": "2023-11-07T19:50:16.907Z"
   },
   {
    "duration": 12,
    "start_time": "2023-11-07T19:50:16.997Z"
   },
   {
    "duration": 33,
    "start_time": "2023-11-07T19:50:17.011Z"
   },
   {
    "duration": 6,
    "start_time": "2023-11-07T19:50:17.046Z"
   },
   {
    "duration": 27,
    "start_time": "2023-11-07T19:50:17.054Z"
   },
   {
    "duration": 6,
    "start_time": "2023-11-07T19:50:17.083Z"
   },
   {
    "duration": 22,
    "start_time": "2023-11-07T19:50:17.091Z"
   },
   {
    "duration": 11,
    "start_time": "2023-11-07T19:50:17.114Z"
   },
   {
    "duration": 23,
    "start_time": "2023-11-07T19:50:17.127Z"
   },
   {
    "duration": 4,
    "start_time": "2023-11-07T19:50:17.152Z"
   },
   {
    "duration": 164,
    "start_time": "2023-11-07T19:50:17.158Z"
   },
   {
    "duration": 4,
    "start_time": "2023-11-07T19:50:17.324Z"
   },
   {
    "duration": 104,
    "start_time": "2023-11-07T19:50:17.331Z"
   },
   {
    "duration": 215,
    "start_time": "2023-11-07T19:50:17.436Z"
   },
   {
    "duration": 179,
    "start_time": "2023-11-07T19:50:17.653Z"
   },
   {
    "duration": 197,
    "start_time": "2023-11-07T19:50:17.833Z"
   },
   {
    "duration": 8,
    "start_time": "2023-11-07T19:50:18.032Z"
   },
   {
    "duration": 696,
    "start_time": "2023-11-07T19:50:18.042Z"
   },
   {
    "duration": 12,
    "start_time": "2023-11-07T19:50:18.740Z"
   },
   {
    "duration": 18,
    "start_time": "2023-11-07T19:50:18.754Z"
   },
   {
    "duration": 286,
    "start_time": "2023-11-07T19:50:18.774Z"
   },
   {
    "duration": 15,
    "start_time": "2023-11-07T19:50:19.062Z"
   },
   {
    "duration": 49,
    "start_time": "2023-11-07T19:50:19.078Z"
   },
   {
    "duration": 96,
    "start_time": "2023-11-07T19:50:19.128Z"
   },
   {
    "duration": 67,
    "start_time": "2023-11-07T19:50:19.225Z"
   },
   {
    "duration": 54,
    "start_time": "2023-11-07T19:50:19.293Z"
   },
   {
    "duration": 20,
    "start_time": "2023-11-07T19:50:19.348Z"
   },
   {
    "duration": 15,
    "start_time": "2023-11-07T19:50:19.369Z"
   },
   {
    "duration": 31,
    "start_time": "2023-11-07T19:52:02.559Z"
   },
   {
    "duration": 3,
    "start_time": "2023-11-07T19:52:08.208Z"
   },
   {
    "duration": 64,
    "start_time": "2023-11-07T19:52:08.213Z"
   },
   {
    "duration": 12,
    "start_time": "2023-11-07T19:52:08.278Z"
   },
   {
    "duration": 10,
    "start_time": "2023-11-07T19:52:08.291Z"
   },
   {
    "duration": 10,
    "start_time": "2023-11-07T19:52:08.303Z"
   },
   {
    "duration": 16,
    "start_time": "2023-11-07T19:52:08.314Z"
   },
   {
    "duration": 6,
    "start_time": "2023-11-07T19:52:08.332Z"
   },
   {
    "duration": 6,
    "start_time": "2023-11-07T19:52:08.340Z"
   },
   {
    "duration": 26,
    "start_time": "2023-11-07T19:52:08.347Z"
   },
   {
    "duration": 27,
    "start_time": "2023-11-07T19:52:08.374Z"
   },
   {
    "duration": 4,
    "start_time": "2023-11-07T19:52:08.402Z"
   },
   {
    "duration": 166,
    "start_time": "2023-11-07T19:52:08.408Z"
   },
   {
    "duration": 4,
    "start_time": "2023-11-07T19:52:08.575Z"
   },
   {
    "duration": 99,
    "start_time": "2023-11-07T19:52:08.582Z"
   },
   {
    "duration": 155,
    "start_time": "2023-11-07T19:52:08.683Z"
   },
   {
    "duration": 189,
    "start_time": "2023-11-07T19:52:08.840Z"
   },
   {
    "duration": 276,
    "start_time": "2023-11-07T19:52:09.030Z"
   },
   {
    "duration": 7,
    "start_time": "2023-11-07T19:52:09.308Z"
   },
   {
    "duration": 718,
    "start_time": "2023-11-07T19:52:09.317Z"
   },
   {
    "duration": 12,
    "start_time": "2023-11-07T19:52:10.036Z"
   },
   {
    "duration": 5,
    "start_time": "2023-11-07T19:52:10.049Z"
   },
   {
    "duration": 328,
    "start_time": "2023-11-07T19:52:10.069Z"
   },
   {
    "duration": 11,
    "start_time": "2023-11-07T19:52:10.398Z"
   },
   {
    "duration": 11,
    "start_time": "2023-11-07T19:52:10.411Z"
   },
   {
    "duration": 9,
    "start_time": "2023-11-07T19:52:10.424Z"
   },
   {
    "duration": 6,
    "start_time": "2023-11-07T19:52:10.434Z"
   },
   {
    "duration": 36,
    "start_time": "2023-11-07T19:52:10.442Z"
   },
   {
    "duration": 21,
    "start_time": "2023-11-07T19:52:10.480Z"
   },
   {
    "duration": 6,
    "start_time": "2023-11-07T19:52:10.503Z"
   },
   {
    "duration": 10,
    "start_time": "2023-11-07T19:57:34.066Z"
   },
   {
    "duration": 3,
    "start_time": "2023-11-07T19:58:02.668Z"
   },
   {
    "duration": 97,
    "start_time": "2023-11-07T19:58:02.673Z"
   },
   {
    "duration": 12,
    "start_time": "2023-11-07T19:58:02.771Z"
   },
   {
    "duration": 17,
    "start_time": "2023-11-07T19:58:02.784Z"
   },
   {
    "duration": 28,
    "start_time": "2023-11-07T19:58:02.803Z"
   },
   {
    "duration": 16,
    "start_time": "2023-11-07T19:58:02.833Z"
   },
   {
    "duration": 5,
    "start_time": "2023-11-07T19:58:02.851Z"
   },
   {
    "duration": 34,
    "start_time": "2023-11-07T19:58:02.858Z"
   },
   {
    "duration": 16,
    "start_time": "2023-11-07T19:58:02.893Z"
   },
   {
    "duration": 46,
    "start_time": "2023-11-07T19:58:02.910Z"
   },
   {
    "duration": 4,
    "start_time": "2023-11-07T19:58:02.958Z"
   },
   {
    "duration": 162,
    "start_time": "2023-11-07T19:58:02.963Z"
   },
   {
    "duration": 4,
    "start_time": "2023-11-07T19:58:03.126Z"
   },
   {
    "duration": 97,
    "start_time": "2023-11-07T19:58:03.133Z"
   },
   {
    "duration": 144,
    "start_time": "2023-11-07T19:58:03.231Z"
   },
   {
    "duration": 179,
    "start_time": "2023-11-07T19:58:03.377Z"
   },
   {
    "duration": 192,
    "start_time": "2023-11-07T19:58:03.557Z"
   },
   {
    "duration": 7,
    "start_time": "2023-11-07T19:58:03.751Z"
   },
   {
    "duration": 784,
    "start_time": "2023-11-07T19:58:03.760Z"
   },
   {
    "duration": 11,
    "start_time": "2023-11-07T19:58:04.546Z"
   },
   {
    "duration": 13,
    "start_time": "2023-11-07T19:58:04.558Z"
   },
   {
    "duration": 276,
    "start_time": "2023-11-07T19:58:04.573Z"
   },
   {
    "duration": 11,
    "start_time": "2023-11-07T19:58:04.850Z"
   },
   {
    "duration": 3,
    "start_time": "2023-11-07T19:58:04.869Z"
   },
   {
    "duration": 12,
    "start_time": "2023-11-07T19:58:04.873Z"
   },
   {
    "duration": 31,
    "start_time": "2023-11-07T19:58:04.886Z"
   },
   {
    "duration": 41,
    "start_time": "2023-11-07T19:58:04.919Z"
   },
   {
    "duration": 19,
    "start_time": "2023-11-07T19:58:04.962Z"
   },
   {
    "duration": 9,
    "start_time": "2023-11-07T19:58:04.982Z"
   },
   {
    "duration": 29,
    "start_time": "2023-11-07T19:58:04.993Z"
   },
   {
    "duration": 3,
    "start_time": "2023-11-07T19:59:40.585Z"
   },
   {
    "duration": 67,
    "start_time": "2023-11-07T19:59:40.590Z"
   },
   {
    "duration": 12,
    "start_time": "2023-11-07T19:59:40.658Z"
   },
   {
    "duration": 14,
    "start_time": "2023-11-07T19:59:40.672Z"
   },
   {
    "duration": 9,
    "start_time": "2023-11-07T19:59:40.687Z"
   },
   {
    "duration": 18,
    "start_time": "2023-11-07T19:59:40.697Z"
   },
   {
    "duration": 8,
    "start_time": "2023-11-07T19:59:40.716Z"
   },
   {
    "duration": 10,
    "start_time": "2023-11-07T19:59:40.725Z"
   },
   {
    "duration": 12,
    "start_time": "2023-11-07T19:59:40.737Z"
   },
   {
    "duration": 47,
    "start_time": "2023-11-07T19:59:40.751Z"
   },
   {
    "duration": 5,
    "start_time": "2023-11-07T19:59:40.799Z"
   },
   {
    "duration": 164,
    "start_time": "2023-11-07T19:59:40.805Z"
   },
   {
    "duration": 6,
    "start_time": "2023-11-07T19:59:40.970Z"
   },
   {
    "duration": 94,
    "start_time": "2023-11-07T19:59:40.978Z"
   },
   {
    "duration": 153,
    "start_time": "2023-11-07T19:59:41.074Z"
   },
   {
    "duration": 192,
    "start_time": "2023-11-07T19:59:41.229Z"
   },
   {
    "duration": 207,
    "start_time": "2023-11-07T19:59:41.423Z"
   },
   {
    "duration": 7,
    "start_time": "2023-11-07T19:59:41.632Z"
   },
   {
    "duration": 763,
    "start_time": "2023-11-07T19:59:41.640Z"
   },
   {
    "duration": 12,
    "start_time": "2023-11-07T19:59:42.405Z"
   },
   {
    "duration": 6,
    "start_time": "2023-11-07T19:59:42.419Z"
   },
   {
    "duration": 401,
    "start_time": "2023-11-07T19:59:42.426Z"
   },
   {
    "duration": 11,
    "start_time": "2023-11-07T19:59:42.829Z"
   },
   {
    "duration": 23,
    "start_time": "2023-11-07T19:59:42.842Z"
   },
   {
    "duration": 36,
    "start_time": "2023-11-07T19:59:42.866Z"
   },
   {
    "duration": 1461,
    "start_time": "2023-11-07T19:59:42.903Z"
   },
   {
    "duration": 0,
    "start_time": "2023-11-07T19:59:44.365Z"
   },
   {
    "duration": 0,
    "start_time": "2023-11-07T19:59:44.367Z"
   },
   {
    "duration": 0,
    "start_time": "2023-11-07T19:59:44.368Z"
   },
   {
    "duration": 0,
    "start_time": "2023-11-07T19:59:44.370Z"
   },
   {
    "duration": 5,
    "start_time": "2023-11-07T20:00:04.717Z"
   },
   {
    "duration": 37,
    "start_time": "2023-11-07T20:00:12.512Z"
   },
   {
    "duration": 29,
    "start_time": "2023-11-07T20:00:13.676Z"
   },
   {
    "duration": 3,
    "start_time": "2023-11-07T20:02:38.923Z"
   },
   {
    "duration": 65,
    "start_time": "2023-11-07T20:02:38.928Z"
   },
   {
    "duration": 12,
    "start_time": "2023-11-07T20:02:38.995Z"
   },
   {
    "duration": 10,
    "start_time": "2023-11-07T20:02:39.008Z"
   },
   {
    "duration": 6,
    "start_time": "2023-11-07T20:02:39.020Z"
   },
   {
    "duration": 16,
    "start_time": "2023-11-07T20:02:39.028Z"
   },
   {
    "duration": 6,
    "start_time": "2023-11-07T20:02:39.045Z"
   },
   {
    "duration": 16,
    "start_time": "2023-11-07T20:02:39.053Z"
   },
   {
    "duration": 15,
    "start_time": "2023-11-07T20:02:39.070Z"
   },
   {
    "duration": 26,
    "start_time": "2023-11-07T20:02:39.086Z"
   },
   {
    "duration": 4,
    "start_time": "2023-11-07T20:02:39.113Z"
   },
   {
    "duration": 169,
    "start_time": "2023-11-07T20:02:39.119Z"
   },
   {
    "duration": 5,
    "start_time": "2023-11-07T20:02:39.289Z"
   },
   {
    "duration": 96,
    "start_time": "2023-11-07T20:02:39.296Z"
   },
   {
    "duration": 158,
    "start_time": "2023-11-07T20:02:39.393Z"
   },
   {
    "duration": 194,
    "start_time": "2023-11-07T20:02:39.552Z"
   },
   {
    "duration": 197,
    "start_time": "2023-11-07T20:02:39.748Z"
   },
   {
    "duration": 7,
    "start_time": "2023-11-07T20:02:39.947Z"
   },
   {
    "duration": 733,
    "start_time": "2023-11-07T20:02:39.956Z"
   },
   {
    "duration": 12,
    "start_time": "2023-11-07T20:02:40.690Z"
   },
   {
    "duration": 10,
    "start_time": "2023-11-07T20:02:40.703Z"
   },
   {
    "duration": 302,
    "start_time": "2023-11-07T20:02:40.714Z"
   },
   {
    "duration": 13,
    "start_time": "2023-11-07T20:02:41.018Z"
   },
   {
    "duration": 13,
    "start_time": "2023-11-07T20:02:41.033Z"
   },
   {
    "duration": 16,
    "start_time": "2023-11-07T20:02:41.048Z"
   },
   {
    "duration": 19,
    "start_time": "2023-11-07T20:02:41.065Z"
   },
   {
    "duration": 46,
    "start_time": "2023-11-07T20:02:41.085Z"
   },
   {
    "duration": 25,
    "start_time": "2023-11-07T20:02:41.132Z"
   },
   {
    "duration": 7,
    "start_time": "2023-11-07T20:02:41.159Z"
   },
   {
    "duration": 27,
    "start_time": "2023-11-07T20:02:41.168Z"
   },
   {
    "duration": 12,
    "start_time": "2023-11-07T20:12:26.875Z"
   },
   {
    "duration": 9,
    "start_time": "2023-11-07T20:12:41.094Z"
   },
   {
    "duration": 3,
    "start_time": "2023-11-07T20:26:42.747Z"
   },
   {
    "duration": 75,
    "start_time": "2023-11-07T20:26:42.752Z"
   },
   {
    "duration": 12,
    "start_time": "2023-11-07T20:26:42.829Z"
   },
   {
    "duration": 15,
    "start_time": "2023-11-07T20:26:42.844Z"
   },
   {
    "duration": 7,
    "start_time": "2023-11-07T20:26:42.861Z"
   },
   {
    "duration": 20,
    "start_time": "2023-11-07T20:26:42.870Z"
   },
   {
    "duration": 9,
    "start_time": "2023-11-07T20:26:42.892Z"
   },
   {
    "duration": 5,
    "start_time": "2023-11-07T20:26:42.903Z"
   },
   {
    "duration": 8,
    "start_time": "2023-11-07T20:26:42.909Z"
   },
   {
    "duration": 28,
    "start_time": "2023-11-07T20:26:42.918Z"
   },
   {
    "duration": 5,
    "start_time": "2023-11-07T20:26:42.969Z"
   },
   {
    "duration": 152,
    "start_time": "2023-11-07T20:26:42.976Z"
   },
   {
    "duration": 5,
    "start_time": "2023-11-07T20:26:43.130Z"
   },
   {
    "duration": 203,
    "start_time": "2023-11-07T20:26:43.137Z"
   },
   {
    "duration": 152,
    "start_time": "2023-11-07T20:26:43.342Z"
   },
   {
    "duration": 185,
    "start_time": "2023-11-07T20:26:43.495Z"
   },
   {
    "duration": 199,
    "start_time": "2023-11-07T20:26:43.682Z"
   },
   {
    "duration": 8,
    "start_time": "2023-11-07T20:26:43.883Z"
   },
   {
    "duration": 746,
    "start_time": "2023-11-07T20:26:43.892Z"
   },
   {
    "duration": 13,
    "start_time": "2023-11-07T20:26:44.640Z"
   },
   {
    "duration": 17,
    "start_time": "2023-11-07T20:26:44.655Z"
   },
   {
    "duration": 299,
    "start_time": "2023-11-07T20:26:44.673Z"
   },
   {
    "duration": 12,
    "start_time": "2023-11-07T20:26:44.974Z"
   },
   {
    "duration": 2,
    "start_time": "2023-11-07T20:26:44.987Z"
   },
   {
    "duration": 11,
    "start_time": "2023-11-07T20:26:44.991Z"
   },
   {
    "duration": 15,
    "start_time": "2023-11-07T20:26:45.004Z"
   },
   {
    "duration": 46,
    "start_time": "2023-11-07T20:26:45.021Z"
   },
   {
    "duration": 20,
    "start_time": "2023-11-07T20:26:45.068Z"
   },
   {
    "duration": 6,
    "start_time": "2023-11-07T20:26:45.089Z"
   },
   {
    "duration": 15,
    "start_time": "2023-11-07T20:26:45.096Z"
   },
   {
    "duration": 28,
    "start_time": "2023-11-07T20:26:45.113Z"
   },
   {
    "duration": 5,
    "start_time": "2023-11-07T20:26:45.143Z"
   },
   {
    "duration": 7,
    "start_time": "2023-11-07T20:31:32.966Z"
   },
   {
    "duration": 3,
    "start_time": "2023-11-07T20:34:25.701Z"
   },
   {
    "duration": 83,
    "start_time": "2023-11-07T20:34:25.706Z"
   },
   {
    "duration": 12,
    "start_time": "2023-11-07T20:34:25.790Z"
   },
   {
    "duration": 35,
    "start_time": "2023-11-07T20:34:25.803Z"
   },
   {
    "duration": 22,
    "start_time": "2023-11-07T20:34:25.840Z"
   },
   {
    "duration": 22,
    "start_time": "2023-11-07T20:34:25.863Z"
   },
   {
    "duration": 10,
    "start_time": "2023-11-07T20:34:25.887Z"
   },
   {
    "duration": 24,
    "start_time": "2023-11-07T20:34:25.899Z"
   },
   {
    "duration": 20,
    "start_time": "2023-11-07T20:34:25.924Z"
   },
   {
    "duration": 42,
    "start_time": "2023-11-07T20:34:25.945Z"
   },
   {
    "duration": 5,
    "start_time": "2023-11-07T20:34:25.989Z"
   },
   {
    "duration": 158,
    "start_time": "2023-11-07T20:34:25.996Z"
   },
   {
    "duration": 15,
    "start_time": "2023-11-07T20:34:26.155Z"
   },
   {
    "duration": 103,
    "start_time": "2023-11-07T20:34:26.172Z"
   },
   {
    "duration": 159,
    "start_time": "2023-11-07T20:34:26.276Z"
   },
   {
    "duration": 285,
    "start_time": "2023-11-07T20:34:26.437Z"
   },
   {
    "duration": 193,
    "start_time": "2023-11-07T20:34:26.724Z"
   },
   {
    "duration": 7,
    "start_time": "2023-11-07T20:34:26.919Z"
   },
   {
    "duration": 708,
    "start_time": "2023-11-07T20:34:26.927Z"
   },
   {
    "duration": 12,
    "start_time": "2023-11-07T20:34:27.637Z"
   },
   {
    "duration": 22,
    "start_time": "2023-11-07T20:34:27.650Z"
   },
   {
    "duration": 294,
    "start_time": "2023-11-07T20:34:27.673Z"
   },
   {
    "duration": 12,
    "start_time": "2023-11-07T20:34:27.969Z"
   },
   {
    "duration": 2,
    "start_time": "2023-11-07T20:34:27.983Z"
   },
   {
    "duration": 10,
    "start_time": "2023-11-07T20:34:27.986Z"
   },
   {
    "duration": 6,
    "start_time": "2023-11-07T20:34:27.997Z"
   },
   {
    "duration": 23,
    "start_time": "2023-11-07T20:34:28.005Z"
   },
   {
    "duration": 54,
    "start_time": "2023-11-07T20:34:28.030Z"
   },
   {
    "duration": 6,
    "start_time": "2023-11-07T20:34:28.086Z"
   },
   {
    "duration": 19,
    "start_time": "2023-11-07T20:34:28.093Z"
   },
   {
    "duration": 17,
    "start_time": "2023-11-07T20:34:28.114Z"
   },
   {
    "duration": 7,
    "start_time": "2023-11-07T20:34:28.132Z"
   },
   {
    "duration": 1168,
    "start_time": "2023-11-07T21:14:57.946Z"
   },
   {
    "duration": 81,
    "start_time": "2023-11-07T21:14:59.116Z"
   },
   {
    "duration": 16,
    "start_time": "2023-11-07T21:14:59.198Z"
   },
   {
    "duration": 10,
    "start_time": "2023-11-07T21:14:59.215Z"
   },
   {
    "duration": 7,
    "start_time": "2023-11-07T21:14:59.227Z"
   },
   {
    "duration": 22,
    "start_time": "2023-11-07T21:14:59.235Z"
   },
   {
    "duration": 6,
    "start_time": "2023-11-07T21:14:59.258Z"
   },
   {
    "duration": 11,
    "start_time": "2023-11-07T21:14:59.265Z"
   },
   {
    "duration": 9,
    "start_time": "2023-11-07T21:14:59.277Z"
   },
   {
    "duration": 26,
    "start_time": "2023-11-07T21:14:59.288Z"
   },
   {
    "duration": 4,
    "start_time": "2023-11-07T21:14:59.315Z"
   },
   {
    "duration": 173,
    "start_time": "2023-11-07T21:14:59.321Z"
   },
   {
    "duration": 4,
    "start_time": "2023-11-07T21:14:59.496Z"
   },
   {
    "duration": 97,
    "start_time": "2023-11-07T21:14:59.504Z"
   },
   {
    "duration": 187,
    "start_time": "2023-11-07T21:14:59.603Z"
   },
   {
    "duration": 175,
    "start_time": "2023-11-07T21:14:59.792Z"
   },
   {
    "duration": 197,
    "start_time": "2023-11-07T21:14:59.968Z"
   },
   {
    "duration": 7,
    "start_time": "2023-11-07T21:15:00.166Z"
   },
   {
    "duration": 683,
    "start_time": "2023-11-07T21:15:00.175Z"
   },
   {
    "duration": 10,
    "start_time": "2023-11-07T21:15:00.859Z"
   },
   {
    "duration": 15,
    "start_time": "2023-11-07T21:15:00.871Z"
   },
   {
    "duration": 378,
    "start_time": "2023-11-07T21:15:00.888Z"
   },
   {
    "duration": 10,
    "start_time": "2023-11-07T21:15:01.268Z"
   },
   {
    "duration": 51,
    "start_time": "2023-11-07T21:15:01.279Z"
   },
   {
    "duration": 68,
    "start_time": "2023-11-07T21:15:01.332Z"
   },
   {
    "duration": 54,
    "start_time": "2023-11-07T21:15:01.401Z"
   },
   {
    "duration": 51,
    "start_time": "2023-11-07T21:15:01.456Z"
   },
   {
    "duration": 66,
    "start_time": "2023-11-07T21:15:01.509Z"
   },
   {
    "duration": 22,
    "start_time": "2023-11-07T21:15:01.577Z"
   },
   {
    "duration": 56,
    "start_time": "2023-11-07T21:15:01.601Z"
   },
   {
    "duration": 45,
    "start_time": "2023-11-07T21:15:01.659Z"
   },
   {
    "duration": 52,
    "start_time": "2023-11-07T21:15:01.706Z"
   },
   {
    "duration": 1573,
    "start_time": "2023-11-08T06:16:18.865Z"
   },
   {
    "duration": 248,
    "start_time": "2023-11-08T06:16:20.441Z"
   },
   {
    "duration": 340,
    "start_time": "2023-11-08T06:16:20.691Z"
   },
   {
    "duration": 2232,
    "start_time": "2023-11-08T06:16:21.034Z"
   },
   {
    "duration": 2656,
    "start_time": "2023-11-08T06:16:23.270Z"
   },
   {
    "duration": 1459,
    "start_time": "2023-11-08T06:16:25.928Z"
   },
   {
    "duration": 579,
    "start_time": "2023-11-08T06:16:27.388Z"
   },
   {
    "duration": 1852,
    "start_time": "2023-11-08T06:16:27.970Z"
   },
   {
    "duration": 1746,
    "start_time": "2023-11-08T06:16:29.824Z"
   },
   {
    "duration": 1794,
    "start_time": "2023-11-08T06:16:31.573Z"
   },
   {
    "duration": 1324,
    "start_time": "2023-11-08T06:16:33.370Z"
   },
   {
    "duration": 5025,
    "start_time": "2023-11-08T06:16:34.696Z"
   },
   {
    "duration": 369,
    "start_time": "2023-11-08T06:16:39.724Z"
   },
   {
    "duration": 1186,
    "start_time": "2023-11-08T06:16:40.098Z"
   },
   {
    "duration": 2796,
    "start_time": "2023-11-08T06:16:41.286Z"
   },
   {
    "duration": 2903,
    "start_time": "2023-11-08T06:16:44.084Z"
   },
   {
    "duration": 3294,
    "start_time": "2023-11-08T06:16:46.989Z"
   },
   {
    "duration": 444,
    "start_time": "2023-11-08T06:16:50.285Z"
   },
   {
    "duration": 1459,
    "start_time": "2023-11-08T06:16:50.731Z"
   },
   {
    "duration": 31,
    "start_time": "2023-11-08T06:16:52.192Z"
   },
   {
    "duration": 7,
    "start_time": "2023-11-08T06:16:52.226Z"
   },
   {
    "duration": 759,
    "start_time": "2023-11-08T06:16:52.235Z"
   },
   {
    "duration": 31,
    "start_time": "2023-11-08T06:16:52.998Z"
   },
   {
    "duration": 16,
    "start_time": "2023-11-08T06:16:53.032Z"
   },
   {
    "duration": 19,
    "start_time": "2023-11-08T06:16:53.051Z"
   },
   {
    "duration": 11,
    "start_time": "2023-11-08T06:16:53.073Z"
   },
   {
    "duration": 66,
    "start_time": "2023-11-08T06:16:53.089Z"
   },
   {
    "duration": 71,
    "start_time": "2023-11-08T06:16:53.165Z"
   },
   {
    "duration": 45,
    "start_time": "2023-11-08T06:16:53.247Z"
   },
   {
    "duration": 28,
    "start_time": "2023-11-08T06:16:53.308Z"
   },
   {
    "duration": 25,
    "start_time": "2023-11-08T06:16:53.352Z"
   },
   {
    "duration": 14,
    "start_time": "2023-11-08T06:16:53.385Z"
   },
   {
    "duration": 25,
    "start_time": "2023-11-08T06:17:49.577Z"
   },
   {
    "duration": 150,
    "start_time": "2023-11-08T06:21:55.913Z"
   },
   {
    "duration": 1721,
    "start_time": "2023-11-08T06:23:39.478Z"
   },
   {
    "duration": 110,
    "start_time": "2023-11-08T06:23:41.204Z"
   },
   {
    "duration": 30,
    "start_time": "2023-11-08T06:23:41.317Z"
   },
   {
    "duration": 18,
    "start_time": "2023-11-08T06:23:41.349Z"
   },
   {
    "duration": 27,
    "start_time": "2023-11-08T06:23:41.370Z"
   },
   {
    "duration": 31,
    "start_time": "2023-11-08T06:23:41.399Z"
   },
   {
    "duration": 16,
    "start_time": "2023-11-08T06:23:41.446Z"
   },
   {
    "duration": 8,
    "start_time": "2023-11-08T06:23:41.465Z"
   },
   {
    "duration": 19,
    "start_time": "2023-11-08T06:23:41.476Z"
   },
   {
    "duration": 90,
    "start_time": "2023-11-08T06:23:41.498Z"
   },
   {
    "duration": 6,
    "start_time": "2023-11-08T06:23:41.590Z"
   },
   {
    "duration": 237,
    "start_time": "2023-11-08T06:23:41.598Z"
   },
   {
    "duration": 12,
    "start_time": "2023-11-08T06:23:41.837Z"
   },
   {
    "duration": 154,
    "start_time": "2023-11-08T06:23:41.854Z"
   },
   {
    "duration": 253,
    "start_time": "2023-11-08T06:23:42.011Z"
   },
   {
    "duration": 358,
    "start_time": "2023-11-08T06:23:42.266Z"
   },
   {
    "duration": 396,
    "start_time": "2023-11-08T06:23:42.626Z"
   },
   {
    "duration": 28,
    "start_time": "2023-11-08T06:23:43.026Z"
   },
   {
    "duration": 1208,
    "start_time": "2023-11-08T06:23:43.070Z"
   },
   {
    "duration": 21,
    "start_time": "2023-11-08T06:23:44.281Z"
   },
   {
    "duration": 7,
    "start_time": "2023-11-08T06:23:44.304Z"
   },
   {
    "duration": 629,
    "start_time": "2023-11-08T06:23:44.314Z"
   },
   {
    "duration": 30,
    "start_time": "2023-11-08T06:23:44.945Z"
   },
   {
    "duration": 4,
    "start_time": "2023-11-08T06:23:44.978Z"
   },
   {
    "duration": 9,
    "start_time": "2023-11-08T06:23:44.985Z"
   },
   {
    "duration": 38,
    "start_time": "2023-11-08T06:23:44.998Z"
   },
   {
    "duration": 27,
    "start_time": "2023-11-08T06:23:45.038Z"
   },
   {
    "duration": 66,
    "start_time": "2023-11-08T06:23:45.068Z"
   },
   {
    "duration": 53,
    "start_time": "2023-11-08T06:23:45.136Z"
   },
   {
    "duration": 203,
    "start_time": "2023-11-08T06:23:45.191Z"
   },
   {
    "duration": 0,
    "start_time": "2023-11-08T06:23:45.403Z"
   },
   {
    "duration": 0,
    "start_time": "2023-11-08T06:23:45.410Z"
   },
   {
    "duration": 0,
    "start_time": "2023-11-08T06:23:45.416Z"
   },
   {
    "duration": 0,
    "start_time": "2023-11-08T06:23:45.423Z"
   },
   {
    "duration": 1535,
    "start_time": "2023-11-08T06:24:24.202Z"
   },
   {
    "duration": 119,
    "start_time": "2023-11-08T06:24:25.740Z"
   },
   {
    "duration": 31,
    "start_time": "2023-11-08T06:24:25.862Z"
   },
   {
    "duration": 16,
    "start_time": "2023-11-08T06:24:25.897Z"
   },
   {
    "duration": 16,
    "start_time": "2023-11-08T06:24:25.915Z"
   },
   {
    "duration": 36,
    "start_time": "2023-11-08T06:24:25.934Z"
   },
   {
    "duration": 12,
    "start_time": "2023-11-08T06:24:25.973Z"
   },
   {
    "duration": 9,
    "start_time": "2023-11-08T06:24:25.987Z"
   },
   {
    "duration": 13,
    "start_time": "2023-11-08T06:24:25.998Z"
   },
   {
    "duration": 50,
    "start_time": "2023-11-08T06:24:26.046Z"
   },
   {
    "duration": 22,
    "start_time": "2023-11-08T06:24:26.098Z"
   },
   {
    "duration": 44,
    "start_time": "2023-11-08T06:24:26.122Z"
   },
   {
    "duration": 6,
    "start_time": "2023-11-08T06:24:26.168Z"
   },
   {
    "duration": 274,
    "start_time": "2023-11-08T06:24:26.176Z"
   },
   {
    "duration": 10,
    "start_time": "2023-11-08T06:24:26.452Z"
   },
   {
    "duration": 134,
    "start_time": "2023-11-08T06:24:26.465Z"
   },
   {
    "duration": 229,
    "start_time": "2023-11-08T06:24:26.602Z"
   },
   {
    "duration": 264,
    "start_time": "2023-11-08T06:24:26.833Z"
   },
   {
    "duration": 312,
    "start_time": "2023-11-08T06:24:27.099Z"
   },
   {
    "duration": 12,
    "start_time": "2023-11-08T06:24:27.413Z"
   },
   {
    "duration": 1127,
    "start_time": "2023-11-08T06:24:27.428Z"
   },
   {
    "duration": 29,
    "start_time": "2023-11-08T06:24:28.557Z"
   },
   {
    "duration": 5,
    "start_time": "2023-11-08T06:24:28.589Z"
   },
   {
    "duration": 493,
    "start_time": "2023-11-08T06:24:28.596Z"
   },
   {
    "duration": 20,
    "start_time": "2023-11-08T06:24:29.091Z"
   },
   {
    "duration": 3,
    "start_time": "2023-11-08T06:24:29.114Z"
   },
   {
    "duration": 29,
    "start_time": "2023-11-08T06:24:29.119Z"
   },
   {
    "duration": 12,
    "start_time": "2023-11-08T06:24:29.154Z"
   },
   {
    "duration": 41,
    "start_time": "2023-11-08T06:24:29.168Z"
   },
   {
    "duration": 60,
    "start_time": "2023-11-08T06:24:29.211Z"
   },
   {
    "duration": 146,
    "start_time": "2023-11-08T06:24:29.274Z"
   },
   {
    "duration": 0,
    "start_time": "2023-11-08T06:24:29.424Z"
   },
   {
    "duration": 0,
    "start_time": "2023-11-08T06:24:29.426Z"
   },
   {
    "duration": 0,
    "start_time": "2023-11-08T06:24:29.427Z"
   },
   {
    "duration": 0,
    "start_time": "2023-11-08T06:24:29.428Z"
   },
   {
    "duration": 15,
    "start_time": "2023-11-08T06:26:06.044Z"
   },
   {
    "duration": 6,
    "start_time": "2023-11-08T06:28:18.929Z"
   },
   {
    "duration": 12,
    "start_time": "2023-11-08T06:28:43.651Z"
   },
   {
    "duration": 7,
    "start_time": "2023-11-08T06:29:25.453Z"
   },
   {
    "duration": 43,
    "start_time": "2023-11-08T11:27:38.872Z"
   },
   {
    "duration": 1184,
    "start_time": "2023-11-08T11:27:42.874Z"
   },
   {
    "duration": 192,
    "start_time": "2023-11-08T11:27:44.059Z"
   },
   {
    "duration": 16,
    "start_time": "2023-11-08T11:27:44.253Z"
   },
   {
    "duration": 11,
    "start_time": "2023-11-08T11:27:44.271Z"
   },
   {
    "duration": 6,
    "start_time": "2023-11-08T11:27:44.284Z"
   },
   {
    "duration": 14,
    "start_time": "2023-11-08T11:27:44.292Z"
   },
   {
    "duration": 6,
    "start_time": "2023-11-08T11:27:44.308Z"
   },
   {
    "duration": 23,
    "start_time": "2023-11-08T11:27:44.316Z"
   },
   {
    "duration": 7,
    "start_time": "2023-11-08T11:27:44.341Z"
   },
   {
    "duration": 33,
    "start_time": "2023-11-08T11:27:44.350Z"
   },
   {
    "duration": 5,
    "start_time": "2023-11-08T11:27:44.385Z"
   },
   {
    "duration": 179,
    "start_time": "2023-11-08T11:27:44.393Z"
   },
   {
    "duration": 5,
    "start_time": "2023-11-08T11:27:44.573Z"
   },
   {
    "duration": 88,
    "start_time": "2023-11-08T11:27:44.580Z"
   },
   {
    "duration": 146,
    "start_time": "2023-11-08T11:27:44.669Z"
   },
   {
    "duration": 174,
    "start_time": "2023-11-08T11:27:44.817Z"
   },
   {
    "duration": 209,
    "start_time": "2023-11-08T11:27:44.993Z"
   },
   {
    "duration": 7,
    "start_time": "2023-11-08T11:27:45.204Z"
   },
   {
    "duration": 689,
    "start_time": "2023-11-08T11:27:45.212Z"
   },
   {
    "duration": 10,
    "start_time": "2023-11-08T11:27:45.903Z"
   },
   {
    "duration": 27,
    "start_time": "2023-11-08T11:27:45.915Z"
   },
   {
    "duration": 339,
    "start_time": "2023-11-08T11:27:45.944Z"
   },
   {
    "duration": 11,
    "start_time": "2023-11-08T11:27:46.285Z"
   },
   {
    "duration": 2,
    "start_time": "2023-11-08T11:27:46.297Z"
   },
   {
    "duration": 17,
    "start_time": "2023-11-08T11:27:46.301Z"
   },
   {
    "duration": 5,
    "start_time": "2023-11-08T11:27:46.320Z"
   },
   {
    "duration": 34,
    "start_time": "2023-11-08T11:27:46.326Z"
   },
   {
    "duration": 19,
    "start_time": "2023-11-08T11:27:46.361Z"
   },
   {
    "duration": 5,
    "start_time": "2023-11-08T11:27:46.382Z"
   },
   {
    "duration": 10,
    "start_time": "2023-11-08T11:27:46.389Z"
   },
   {
    "duration": 11,
    "start_time": "2023-11-08T11:27:46.401Z"
   },
   {
    "duration": 26,
    "start_time": "2023-11-08T11:27:46.414Z"
   },
   {
    "duration": 27,
    "start_time": "2023-11-08T11:28:38.923Z"
   },
   {
    "duration": 14,
    "start_time": "2023-11-08T11:30:30.516Z"
   },
   {
    "duration": 3,
    "start_time": "2023-11-08T11:36:41.423Z"
   },
   {
    "duration": 71,
    "start_time": "2023-11-08T11:36:41.428Z"
   },
   {
    "duration": 11,
    "start_time": "2023-11-08T11:36:41.500Z"
   },
   {
    "duration": 15,
    "start_time": "2023-11-08T11:36:41.512Z"
   },
   {
    "duration": 26,
    "start_time": "2023-11-08T11:36:41.529Z"
   },
   {
    "duration": 17,
    "start_time": "2023-11-08T11:36:41.556Z"
   },
   {
    "duration": 14,
    "start_time": "2023-11-08T11:36:41.574Z"
   },
   {
    "duration": 8,
    "start_time": "2023-11-08T11:36:41.589Z"
   },
   {
    "duration": 18,
    "start_time": "2023-11-08T11:36:41.598Z"
   },
   {
    "duration": 40,
    "start_time": "2023-11-08T11:36:41.617Z"
   },
   {
    "duration": 13,
    "start_time": "2023-11-08T11:36:41.659Z"
   },
   {
    "duration": 4,
    "start_time": "2023-11-08T11:36:41.673Z"
   },
   {
    "duration": 170,
    "start_time": "2023-11-08T11:36:41.678Z"
   },
   {
    "duration": 5,
    "start_time": "2023-11-08T11:36:41.851Z"
   },
   {
    "duration": 99,
    "start_time": "2023-11-08T11:36:41.857Z"
   },
   {
    "duration": 146,
    "start_time": "2023-11-08T11:36:41.958Z"
   },
   {
    "duration": 179,
    "start_time": "2023-11-08T11:36:42.106Z"
   },
   {
    "duration": 213,
    "start_time": "2023-11-08T11:36:42.287Z"
   },
   {
    "duration": 8,
    "start_time": "2023-11-08T11:36:42.502Z"
   },
   {
    "duration": 685,
    "start_time": "2023-11-08T11:36:42.512Z"
   },
   {
    "duration": 11,
    "start_time": "2023-11-08T11:36:43.198Z"
   },
   {
    "duration": 4,
    "start_time": "2023-11-08T11:36:43.211Z"
   },
   {
    "duration": 297,
    "start_time": "2023-11-08T11:36:43.217Z"
   },
   {
    "duration": 11,
    "start_time": "2023-11-08T11:36:43.516Z"
   },
   {
    "duration": 16,
    "start_time": "2023-11-08T11:36:43.528Z"
   },
   {
    "duration": 12,
    "start_time": "2023-11-08T11:36:43.545Z"
   },
   {
    "duration": 12,
    "start_time": "2023-11-08T11:36:43.558Z"
   },
   {
    "duration": 22,
    "start_time": "2023-11-08T11:36:43.571Z"
   },
   {
    "duration": 21,
    "start_time": "2023-11-08T11:36:43.594Z"
   },
   {
    "duration": 6,
    "start_time": "2023-11-08T11:36:43.617Z"
   },
   {
    "duration": 5,
    "start_time": "2023-11-08T11:36:43.624Z"
   },
   {
    "duration": 12,
    "start_time": "2023-11-08T11:36:43.648Z"
   },
   {
    "duration": 5,
    "start_time": "2023-11-08T11:36:43.661Z"
   },
   {
    "duration": 8,
    "start_time": "2023-11-08T11:42:34.177Z"
   },
   {
    "duration": 9,
    "start_time": "2023-11-08T11:45:55.407Z"
   },
   {
    "duration": 177,
    "start_time": "2023-11-08T11:46:14.522Z"
   },
   {
    "duration": 224,
    "start_time": "2023-11-08T11:46:25.372Z"
   },
   {
    "duration": 13,
    "start_time": "2023-11-08T11:48:05.148Z"
   },
   {
    "duration": 29,
    "start_time": "2023-11-08T12:06:01.805Z"
   },
   {
    "duration": 3,
    "start_time": "2023-11-08T12:06:13.163Z"
   },
   {
    "duration": 75,
    "start_time": "2023-11-08T12:06:13.168Z"
   },
   {
    "duration": 14,
    "start_time": "2023-11-08T12:06:13.245Z"
   },
   {
    "duration": 11,
    "start_time": "2023-11-08T12:06:13.260Z"
   },
   {
    "duration": 7,
    "start_time": "2023-11-08T12:06:13.273Z"
   },
   {
    "duration": 18,
    "start_time": "2023-11-08T12:06:13.281Z"
   },
   {
    "duration": 6,
    "start_time": "2023-11-08T12:06:13.300Z"
   },
   {
    "duration": 3,
    "start_time": "2023-11-08T12:06:13.307Z"
   },
   {
    "duration": 29,
    "start_time": "2023-11-08T12:06:13.312Z"
   },
   {
    "duration": 31,
    "start_time": "2023-11-08T12:06:13.342Z"
   },
   {
    "duration": 14,
    "start_time": "2023-11-08T12:06:13.374Z"
   },
   {
    "duration": 4,
    "start_time": "2023-11-08T12:06:13.390Z"
   },
   {
    "duration": 166,
    "start_time": "2023-11-08T12:06:13.395Z"
   },
   {
    "duration": 4,
    "start_time": "2023-11-08T12:06:13.565Z"
   },
   {
    "duration": 99,
    "start_time": "2023-11-08T12:06:13.571Z"
   },
   {
    "duration": 147,
    "start_time": "2023-11-08T12:06:13.672Z"
   },
   {
    "duration": 183,
    "start_time": "2023-11-08T12:06:13.820Z"
   },
   {
    "duration": 187,
    "start_time": "2023-11-08T12:06:14.005Z"
   },
   {
    "duration": 7,
    "start_time": "2023-11-08T12:06:14.193Z"
   },
   {
    "duration": 43,
    "start_time": "2023-11-08T12:06:14.201Z"
   },
   {
    "duration": 710,
    "start_time": "2023-11-08T12:06:14.245Z"
   },
   {
    "duration": 13,
    "start_time": "2023-11-08T12:06:14.957Z"
   },
   {
    "duration": 5,
    "start_time": "2023-11-08T12:06:14.971Z"
   },
   {
    "duration": 293,
    "start_time": "2023-11-08T12:06:14.977Z"
   },
   {
    "duration": 11,
    "start_time": "2023-11-08T12:06:15.271Z"
   },
   {
    "duration": 11,
    "start_time": "2023-11-08T12:06:15.283Z"
   },
   {
    "duration": 6,
    "start_time": "2023-11-08T12:06:15.295Z"
   },
   {
    "duration": 5,
    "start_time": "2023-11-08T12:06:15.302Z"
   },
   {
    "duration": 37,
    "start_time": "2023-11-08T12:06:15.309Z"
   },
   {
    "duration": 19,
    "start_time": "2023-11-08T12:06:15.348Z"
   },
   {
    "duration": 6,
    "start_time": "2023-11-08T12:06:15.369Z"
   },
   {
    "duration": 6,
    "start_time": "2023-11-08T12:06:15.377Z"
   },
   {
    "duration": 10,
    "start_time": "2023-11-08T12:06:15.385Z"
   },
   {
    "duration": 4,
    "start_time": "2023-11-08T12:06:15.397Z"
   },
   {
    "duration": 4,
    "start_time": "2023-11-08T12:55:54.368Z"
   },
   {
    "duration": 69,
    "start_time": "2023-11-08T12:55:54.374Z"
   },
   {
    "duration": 12,
    "start_time": "2023-11-08T12:55:54.444Z"
   },
   {
    "duration": 13,
    "start_time": "2023-11-08T12:55:54.458Z"
   },
   {
    "duration": 6,
    "start_time": "2023-11-08T12:55:54.473Z"
   },
   {
    "duration": 14,
    "start_time": "2023-11-08T12:55:54.480Z"
   },
   {
    "duration": 7,
    "start_time": "2023-11-08T12:55:54.495Z"
   },
   {
    "duration": 4,
    "start_time": "2023-11-08T12:55:54.503Z"
   },
   {
    "duration": 33,
    "start_time": "2023-11-08T12:55:54.508Z"
   },
   {
    "duration": 26,
    "start_time": "2023-11-08T12:55:54.543Z"
   },
   {
    "duration": 15,
    "start_time": "2023-11-08T12:55:54.571Z"
   },
   {
    "duration": 5,
    "start_time": "2023-11-08T12:55:54.587Z"
   },
   {
    "duration": 160,
    "start_time": "2023-11-08T12:55:54.593Z"
   },
   {
    "duration": 3,
    "start_time": "2023-11-08T12:55:54.757Z"
   },
   {
    "duration": 151,
    "start_time": "2023-11-08T12:55:54.762Z"
   },
   {
    "duration": 145,
    "start_time": "2023-11-08T12:55:54.915Z"
   },
   {
    "duration": 172,
    "start_time": "2023-11-08T12:55:55.062Z"
   },
   {
    "duration": 175,
    "start_time": "2023-11-08T12:55:55.240Z"
   },
   {
    "duration": 12,
    "start_time": "2023-11-08T12:55:55.417Z"
   },
   {
    "duration": 34,
    "start_time": "2023-11-08T12:55:55.431Z"
   },
   {
    "duration": 634,
    "start_time": "2023-11-08T12:55:55.467Z"
   },
   {
    "duration": 3,
    "start_time": "2023-11-08T12:55:56.102Z"
   },
   {
    "duration": 12,
    "start_time": "2023-11-08T12:55:56.106Z"
   },
   {
    "duration": 12,
    "start_time": "2023-11-08T12:55:56.119Z"
   },
   {
    "duration": 13,
    "start_time": "2023-11-08T12:55:56.132Z"
   },
   {
    "duration": 38,
    "start_time": "2023-11-08T12:55:56.147Z"
   },
   {
    "duration": 19,
    "start_time": "2023-11-08T12:55:56.187Z"
   },
   {
    "duration": 5,
    "start_time": "2023-11-08T12:55:56.208Z"
   },
   {
    "duration": 12,
    "start_time": "2023-11-08T12:55:56.214Z"
   },
   {
    "duration": 14,
    "start_time": "2023-11-08T12:55:56.228Z"
   },
   {
    "duration": 9,
    "start_time": "2023-11-08T12:55:56.243Z"
   },
   {
    "duration": 6,
    "start_time": "2023-11-08T13:01:35.731Z"
   },
   {
    "duration": 3,
    "start_time": "2023-11-08T13:01:38.331Z"
   },
   {
    "duration": 3,
    "start_time": "2023-11-08T13:01:42.061Z"
   },
   {
    "duration": 73,
    "start_time": "2023-11-08T13:01:42.066Z"
   },
   {
    "duration": 13,
    "start_time": "2023-11-08T13:01:42.141Z"
   },
   {
    "duration": 12,
    "start_time": "2023-11-08T13:01:42.156Z"
   },
   {
    "duration": 7,
    "start_time": "2023-11-08T13:01:42.169Z"
   },
   {
    "duration": 13,
    "start_time": "2023-11-08T13:01:42.178Z"
   },
   {
    "duration": 6,
    "start_time": "2023-11-08T13:01:42.193Z"
   },
   {
    "duration": 39,
    "start_time": "2023-11-08T13:01:42.200Z"
   },
   {
    "duration": 7,
    "start_time": "2023-11-08T13:01:42.241Z"
   },
   {
    "duration": 26,
    "start_time": "2023-11-08T13:01:42.251Z"
   },
   {
    "duration": 19,
    "start_time": "2023-11-08T13:01:42.279Z"
   },
   {
    "duration": 5,
    "start_time": "2023-11-08T13:01:42.300Z"
   },
   {
    "duration": 263,
    "start_time": "2023-11-08T13:01:42.307Z"
   },
   {
    "duration": 5,
    "start_time": "2023-11-08T13:01:42.572Z"
   },
   {
    "duration": 117,
    "start_time": "2023-11-08T13:01:42.579Z"
   },
   {
    "duration": 152,
    "start_time": "2023-11-08T13:01:42.697Z"
   },
   {
    "duration": 193,
    "start_time": "2023-11-08T13:01:42.851Z"
   },
   {
    "duration": 263,
    "start_time": "2023-11-08T13:01:43.046Z"
   },
   {
    "duration": 8,
    "start_time": "2023-11-08T13:01:43.311Z"
   },
   {
    "duration": 42,
    "start_time": "2023-11-08T13:01:43.321Z"
   },
   {
    "duration": 688,
    "start_time": "2023-11-08T13:01:43.365Z"
   },
   {
    "duration": 11,
    "start_time": "2023-11-08T13:01:44.054Z"
   },
   {
    "duration": 8,
    "start_time": "2023-11-08T13:01:44.066Z"
   },
   {
    "duration": 2401,
    "start_time": "2023-11-08T13:01:44.076Z"
   },
   {
    "duration": 0,
    "start_time": "2023-11-08T13:01:46.478Z"
   },
   {
    "duration": 0,
    "start_time": "2023-11-08T13:01:46.479Z"
   },
   {
    "duration": 0,
    "start_time": "2023-11-08T13:01:46.481Z"
   },
   {
    "duration": 0,
    "start_time": "2023-11-08T13:01:46.483Z"
   },
   {
    "duration": 0,
    "start_time": "2023-11-08T13:01:46.484Z"
   },
   {
    "duration": 0,
    "start_time": "2023-11-08T13:01:46.485Z"
   },
   {
    "duration": 3,
    "start_time": "2023-11-08T13:03:49.524Z"
   },
   {
    "duration": 6,
    "start_time": "2023-11-08T13:03:50.375Z"
   },
   {
    "duration": 5,
    "start_time": "2023-11-08T13:04:18.587Z"
   },
   {
    "duration": 4,
    "start_time": "2023-11-08T13:04:33.538Z"
   },
   {
    "duration": 4,
    "start_time": "2023-11-08T13:05:08.563Z"
   },
   {
    "duration": 23,
    "start_time": "2023-11-08T13:05:10.919Z"
   },
   {
    "duration": 20,
    "start_time": "2023-11-08T13:05:12.039Z"
   },
   {
    "duration": 3,
    "start_time": "2023-11-08T13:06:18.738Z"
   },
   {
    "duration": 66,
    "start_time": "2023-11-08T13:06:18.742Z"
   },
   {
    "duration": 11,
    "start_time": "2023-11-08T13:06:18.809Z"
   },
   {
    "duration": 9,
    "start_time": "2023-11-08T13:06:18.821Z"
   },
   {
    "duration": 6,
    "start_time": "2023-11-08T13:06:18.832Z"
   },
   {
    "duration": 13,
    "start_time": "2023-11-08T13:06:18.839Z"
   },
   {
    "duration": 6,
    "start_time": "2023-11-08T13:06:18.853Z"
   },
   {
    "duration": 12,
    "start_time": "2023-11-08T13:06:18.860Z"
   },
   {
    "duration": 8,
    "start_time": "2023-11-08T13:06:18.873Z"
   },
   {
    "duration": 25,
    "start_time": "2023-11-08T13:06:18.882Z"
   },
   {
    "duration": 30,
    "start_time": "2023-11-08T13:06:18.909Z"
   },
   {
    "duration": 4,
    "start_time": "2023-11-08T13:06:18.941Z"
   },
   {
    "duration": 143,
    "start_time": "2023-11-08T13:06:18.946Z"
   },
   {
    "duration": 4,
    "start_time": "2023-11-08T13:06:19.091Z"
   },
   {
    "duration": 91,
    "start_time": "2023-11-08T13:06:19.096Z"
   },
   {
    "duration": 139,
    "start_time": "2023-11-08T13:06:19.189Z"
   },
   {
    "duration": 174,
    "start_time": "2023-11-08T13:06:19.329Z"
   },
   {
    "duration": 180,
    "start_time": "2023-11-08T13:06:19.505Z"
   },
   {
    "duration": 7,
    "start_time": "2023-11-08T13:06:19.687Z"
   },
   {
    "duration": 27,
    "start_time": "2023-11-08T13:06:19.695Z"
   },
   {
    "duration": 718,
    "start_time": "2023-11-08T13:06:19.740Z"
   },
   {
    "duration": 2,
    "start_time": "2023-11-08T13:06:20.460Z"
   },
   {
    "duration": 20,
    "start_time": "2023-11-08T13:06:20.464Z"
   },
   {
    "duration": 22,
    "start_time": "2023-11-08T13:06:20.485Z"
   },
   {
    "duration": 7,
    "start_time": "2023-11-08T13:06:20.509Z"
   },
   {
    "duration": 26,
    "start_time": "2023-11-08T13:06:20.517Z"
   },
   {
    "duration": 19,
    "start_time": "2023-11-08T13:06:20.544Z"
   },
   {
    "duration": 6,
    "start_time": "2023-11-08T13:06:20.564Z"
   },
   {
    "duration": 12,
    "start_time": "2023-11-08T13:06:20.571Z"
   },
   {
    "duration": 10,
    "start_time": "2023-11-08T13:06:20.585Z"
   },
   {
    "duration": 5,
    "start_time": "2023-11-08T13:06:20.597Z"
   },
   {
    "duration": 21,
    "start_time": "2023-11-08T13:09:20.628Z"
   },
   {
    "duration": 21,
    "start_time": "2023-11-08T13:09:33.564Z"
   },
   {
    "duration": 23,
    "start_time": "2023-11-08T13:09:54.275Z"
   },
   {
    "duration": 21,
    "start_time": "2023-11-08T13:09:59.476Z"
   },
   {
    "duration": 23,
    "start_time": "2023-11-08T13:11:37.249Z"
   },
   {
    "duration": 1942,
    "start_time": "2023-11-08T13:11:38.280Z"
   },
   {
    "duration": 0,
    "start_time": "2023-11-08T13:11:40.224Z"
   },
   {
    "duration": 2,
    "start_time": "2023-11-08T13:11:43.139Z"
   },
   {
    "duration": 73,
    "start_time": "2023-11-08T13:11:43.143Z"
   },
   {
    "duration": 11,
    "start_time": "2023-11-08T13:11:43.217Z"
   },
   {
    "duration": 20,
    "start_time": "2023-11-08T13:11:43.229Z"
   },
   {
    "duration": 6,
    "start_time": "2023-11-08T13:11:43.250Z"
   },
   {
    "duration": 20,
    "start_time": "2023-11-08T13:11:43.257Z"
   },
   {
    "duration": 6,
    "start_time": "2023-11-08T13:11:43.278Z"
   },
   {
    "duration": 4,
    "start_time": "2023-11-08T13:11:43.285Z"
   },
   {
    "duration": 18,
    "start_time": "2023-11-08T13:11:43.290Z"
   },
   {
    "duration": 30,
    "start_time": "2023-11-08T13:11:43.310Z"
   },
   {
    "duration": 13,
    "start_time": "2023-11-08T13:11:43.343Z"
   },
   {
    "duration": 4,
    "start_time": "2023-11-08T13:11:43.358Z"
   },
   {
    "duration": 148,
    "start_time": "2023-11-08T13:11:43.363Z"
   },
   {
    "duration": 4,
    "start_time": "2023-11-08T13:11:43.513Z"
   },
   {
    "duration": 95,
    "start_time": "2023-11-08T13:11:43.518Z"
   },
   {
    "duration": 144,
    "start_time": "2023-11-08T13:11:43.615Z"
   },
   {
    "duration": 182,
    "start_time": "2023-11-08T13:11:43.761Z"
   },
   {
    "duration": 192,
    "start_time": "2023-11-08T13:11:43.944Z"
   },
   {
    "duration": 8,
    "start_time": "2023-11-08T13:11:44.140Z"
   },
   {
    "duration": 40,
    "start_time": "2023-11-08T13:11:44.150Z"
   },
   {
    "duration": 703,
    "start_time": "2023-11-08T13:11:44.192Z"
   },
   {
    "duration": 3,
    "start_time": "2023-11-08T13:11:44.896Z"
   },
   {
    "duration": 12,
    "start_time": "2023-11-08T13:11:44.901Z"
   },
   {
    "duration": 14,
    "start_time": "2023-11-08T13:11:44.915Z"
   },
   {
    "duration": 11,
    "start_time": "2023-11-08T13:11:44.930Z"
   },
   {
    "duration": 1,
    "start_time": "2023-11-08T13:11:44.942Z"
   },
   {
    "duration": 0,
    "start_time": "2023-11-08T13:11:44.943Z"
   },
   {
    "duration": 0,
    "start_time": "2023-11-08T13:11:44.944Z"
   },
   {
    "duration": 0,
    "start_time": "2023-11-08T13:11:44.945Z"
   },
   {
    "duration": 0,
    "start_time": "2023-11-08T13:11:44.946Z"
   },
   {
    "duration": 0,
    "start_time": "2023-11-08T13:11:44.947Z"
   },
   {
    "duration": 21,
    "start_time": "2023-11-08T13:12:18.265Z"
   },
   {
    "duration": 1368,
    "start_time": "2023-11-08T13:12:19.304Z"
   },
   {
    "duration": 0,
    "start_time": "2023-11-08T13:12:20.674Z"
   },
   {
    "duration": 4,
    "start_time": "2023-11-08T13:12:54.045Z"
   },
   {
    "duration": 19,
    "start_time": "2023-11-08T13:12:56.720Z"
   },
   {
    "duration": 75,
    "start_time": "2023-11-08T13:20:57.546Z"
   },
   {
    "duration": 95,
    "start_time": "2023-11-08T13:21:24.164Z"
   },
   {
    "duration": 82,
    "start_time": "2023-11-08T13:21:33.729Z"
   },
   {
    "duration": 8,
    "start_time": "2023-11-08T13:21:51.712Z"
   },
   {
    "duration": 9,
    "start_time": "2023-11-08T13:22:11.001Z"
   },
   {
    "duration": 5,
    "start_time": "2023-11-08T13:23:34.991Z"
   },
   {
    "duration": 5,
    "start_time": "2023-11-08T13:31:30.862Z"
   },
   {
    "duration": 5,
    "start_time": "2023-11-08T13:33:13.191Z"
   },
   {
    "duration": 4,
    "start_time": "2023-11-08T13:40:10.074Z"
   },
   {
    "duration": 11,
    "start_time": "2023-11-08T13:50:54.830Z"
   },
   {
    "duration": 2,
    "start_time": "2023-11-08T14:01:07.137Z"
   },
   {
    "duration": 69,
    "start_time": "2023-11-08T14:01:07.141Z"
   },
   {
    "duration": 11,
    "start_time": "2023-11-08T14:01:07.212Z"
   },
   {
    "duration": 12,
    "start_time": "2023-11-08T14:01:07.224Z"
   },
   {
    "duration": 22,
    "start_time": "2023-11-08T14:01:07.238Z"
   },
   {
    "duration": 20,
    "start_time": "2023-11-08T14:01:07.262Z"
   },
   {
    "duration": 6,
    "start_time": "2023-11-08T14:01:07.283Z"
   },
   {
    "duration": 3,
    "start_time": "2023-11-08T14:01:07.291Z"
   },
   {
    "duration": 24,
    "start_time": "2023-11-08T14:01:07.296Z"
   },
   {
    "duration": 30,
    "start_time": "2023-11-08T14:01:07.321Z"
   },
   {
    "duration": 13,
    "start_time": "2023-11-08T14:01:07.352Z"
   },
   {
    "duration": 4,
    "start_time": "2023-11-08T14:01:07.367Z"
   },
   {
    "duration": 153,
    "start_time": "2023-11-08T14:01:07.373Z"
   },
   {
    "duration": 4,
    "start_time": "2023-11-08T14:01:07.529Z"
   },
   {
    "duration": 89,
    "start_time": "2023-11-08T14:01:07.540Z"
   },
   {
    "duration": 214,
    "start_time": "2023-11-08T14:01:07.630Z"
   },
   {
    "duration": 174,
    "start_time": "2023-11-08T14:01:07.845Z"
   },
   {
    "duration": 186,
    "start_time": "2023-11-08T14:01:08.020Z"
   },
   {
    "duration": 7,
    "start_time": "2023-11-08T14:01:08.207Z"
   },
   {
    "duration": 37,
    "start_time": "2023-11-08T14:01:08.216Z"
   },
   {
    "duration": 668,
    "start_time": "2023-11-08T14:01:08.255Z"
   },
   {
    "duration": 3,
    "start_time": "2023-11-08T14:01:08.925Z"
   },
   {
    "duration": 15,
    "start_time": "2023-11-08T14:01:08.929Z"
   },
   {
    "duration": 9,
    "start_time": "2023-11-08T14:01:08.945Z"
   },
   {
    "duration": 20,
    "start_time": "2023-11-08T14:01:08.955Z"
   },
   {
    "duration": 3,
    "start_time": "2023-11-08T14:01:08.977Z"
   },
   {
    "duration": 20,
    "start_time": "2023-11-08T14:01:08.982Z"
   },
   {
    "duration": 5,
    "start_time": "2023-11-08T14:01:09.003Z"
   },
   {
    "duration": 4,
    "start_time": "2023-11-08T14:01:09.009Z"
   },
   {
    "duration": 34,
    "start_time": "2023-11-08T14:01:09.015Z"
   },
   {
    "duration": 9,
    "start_time": "2023-11-08T14:01:09.051Z"
   },
   {
    "duration": 3,
    "start_time": "2023-11-08T14:34:03.537Z"
   },
   {
    "duration": 83,
    "start_time": "2023-11-08T14:34:03.545Z"
   },
   {
    "duration": 14,
    "start_time": "2023-11-08T14:34:03.630Z"
   },
   {
    "duration": 19,
    "start_time": "2023-11-08T14:34:03.645Z"
   },
   {
    "duration": 0,
    "start_time": "2023-11-08T14:34:03.666Z"
   },
   {
    "duration": 0,
    "start_time": "2023-11-08T14:34:03.667Z"
   },
   {
    "duration": 0,
    "start_time": "2023-11-08T14:34:03.668Z"
   },
   {
    "duration": 0,
    "start_time": "2023-11-08T14:34:03.669Z"
   },
   {
    "duration": 0,
    "start_time": "2023-11-08T14:34:03.670Z"
   },
   {
    "duration": 0,
    "start_time": "2023-11-08T14:34:03.671Z"
   },
   {
    "duration": 0,
    "start_time": "2023-11-08T14:34:03.673Z"
   },
   {
    "duration": 0,
    "start_time": "2023-11-08T14:34:03.674Z"
   },
   {
    "duration": 0,
    "start_time": "2023-11-08T14:34:03.676Z"
   },
   {
    "duration": 0,
    "start_time": "2023-11-08T14:34:03.677Z"
   },
   {
    "duration": 0,
    "start_time": "2023-11-08T14:34:03.679Z"
   },
   {
    "duration": 0,
    "start_time": "2023-11-08T14:34:03.680Z"
   },
   {
    "duration": 0,
    "start_time": "2023-11-08T14:34:03.681Z"
   },
   {
    "duration": 0,
    "start_time": "2023-11-08T14:34:03.683Z"
   },
   {
    "duration": 0,
    "start_time": "2023-11-08T14:34:03.684Z"
   },
   {
    "duration": 0,
    "start_time": "2023-11-08T14:34:03.686Z"
   },
   {
    "duration": 0,
    "start_time": "2023-11-08T14:34:03.687Z"
   },
   {
    "duration": 0,
    "start_time": "2023-11-08T14:34:03.739Z"
   },
   {
    "duration": 0,
    "start_time": "2023-11-08T14:34:03.740Z"
   },
   {
    "duration": 0,
    "start_time": "2023-11-08T14:34:03.741Z"
   },
   {
    "duration": 0,
    "start_time": "2023-11-08T14:34:03.742Z"
   },
   {
    "duration": 0,
    "start_time": "2023-11-08T14:34:03.743Z"
   },
   {
    "duration": 0,
    "start_time": "2023-11-08T14:34:03.744Z"
   },
   {
    "duration": 0,
    "start_time": "2023-11-08T14:34:03.745Z"
   },
   {
    "duration": 0,
    "start_time": "2023-11-08T14:34:03.746Z"
   },
   {
    "duration": 0,
    "start_time": "2023-11-08T14:34:03.747Z"
   },
   {
    "duration": 2,
    "start_time": "2023-11-08T14:34:43.068Z"
   },
   {
    "duration": 74,
    "start_time": "2023-11-08T14:34:43.072Z"
   },
   {
    "duration": 11,
    "start_time": "2023-11-08T14:34:43.147Z"
   },
   {
    "duration": 10,
    "start_time": "2023-11-08T14:34:43.160Z"
   },
   {
    "duration": 8,
    "start_time": "2023-11-08T14:34:43.172Z"
   },
   {
    "duration": 16,
    "start_time": "2023-11-08T14:34:43.181Z"
   },
   {
    "duration": 4,
    "start_time": "2023-11-08T14:34:43.198Z"
   },
   {
    "duration": 6,
    "start_time": "2023-11-08T14:34:43.204Z"
   },
   {
    "duration": 51,
    "start_time": "2023-11-08T14:34:43.212Z"
   },
   {
    "duration": 15,
    "start_time": "2023-11-08T14:34:43.265Z"
   },
   {
    "duration": 5,
    "start_time": "2023-11-08T14:34:43.281Z"
   },
   {
    "duration": 173,
    "start_time": "2023-11-08T14:34:43.288Z"
   },
   {
    "duration": 5,
    "start_time": "2023-11-08T14:34:43.463Z"
   },
   {
    "duration": 107,
    "start_time": "2023-11-08T14:34:43.472Z"
   },
   {
    "duration": 150,
    "start_time": "2023-11-08T14:34:43.580Z"
   },
   {
    "duration": 172,
    "start_time": "2023-11-08T14:34:43.732Z"
   },
   {
    "duration": 180,
    "start_time": "2023-11-08T14:34:43.905Z"
   },
   {
    "duration": 7,
    "start_time": "2023-11-08T14:34:44.086Z"
   },
   {
    "duration": 46,
    "start_time": "2023-11-08T14:34:44.095Z"
   },
   {
    "duration": 761,
    "start_time": "2023-11-08T14:34:44.142Z"
   },
   {
    "duration": 3,
    "start_time": "2023-11-08T14:34:44.905Z"
   },
   {
    "duration": 4,
    "start_time": "2023-11-08T14:34:44.909Z"
   },
   {
    "duration": 6,
    "start_time": "2023-11-08T14:34:44.914Z"
   },
   {
    "duration": 38,
    "start_time": "2023-11-08T14:34:44.921Z"
   },
   {
    "duration": 4,
    "start_time": "2023-11-08T14:34:44.960Z"
   },
   {
    "duration": 19,
    "start_time": "2023-11-08T14:34:44.965Z"
   },
   {
    "duration": 4,
    "start_time": "2023-11-08T14:34:44.986Z"
   },
   {
    "duration": 54,
    "start_time": "2023-11-08T14:34:44.991Z"
   },
   {
    "duration": 12,
    "start_time": "2023-11-08T14:34:45.047Z"
   },
   {
    "duration": 5,
    "start_time": "2023-11-08T14:34:45.060Z"
   },
   {
    "duration": 1168,
    "start_time": "2023-11-08T15:39:56.769Z"
   },
   {
    "duration": 74,
    "start_time": "2023-11-08T15:39:57.939Z"
   },
   {
    "duration": 17,
    "start_time": "2023-11-08T15:39:58.015Z"
   },
   {
    "duration": 12,
    "start_time": "2023-11-08T15:39:58.034Z"
   },
   {
    "duration": 6,
    "start_time": "2023-11-08T15:39:58.048Z"
   },
   {
    "duration": 17,
    "start_time": "2023-11-08T15:39:58.055Z"
   },
   {
    "duration": 6,
    "start_time": "2023-11-08T15:39:58.073Z"
   },
   {
    "duration": 13,
    "start_time": "2023-11-08T15:39:58.081Z"
   },
   {
    "duration": 61,
    "start_time": "2023-11-08T15:39:58.095Z"
   },
   {
    "duration": 17,
    "start_time": "2023-11-08T15:39:58.158Z"
   },
   {
    "duration": 5,
    "start_time": "2023-11-08T15:39:58.177Z"
   },
   {
    "duration": 219,
    "start_time": "2023-11-08T15:39:58.184Z"
   },
   {
    "duration": 5,
    "start_time": "2023-11-08T15:39:58.405Z"
   },
   {
    "duration": 124,
    "start_time": "2023-11-08T15:39:58.413Z"
   },
   {
    "duration": 192,
    "start_time": "2023-11-08T15:39:58.539Z"
   },
   {
    "duration": 224,
    "start_time": "2023-11-08T15:39:58.734Z"
   },
   {
    "duration": 217,
    "start_time": "2023-11-08T15:39:58.960Z"
   },
   {
    "duration": 8,
    "start_time": "2023-11-08T15:39:59.178Z"
   },
   {
    "duration": 35,
    "start_time": "2023-11-08T15:39:59.188Z"
   },
   {
    "duration": 840,
    "start_time": "2023-11-08T15:39:59.247Z"
   },
   {
    "duration": 5,
    "start_time": "2023-11-08T15:40:00.089Z"
   },
   {
    "duration": 63,
    "start_time": "2023-11-08T15:40:00.095Z"
   },
   {
    "duration": 10,
    "start_time": "2023-11-08T15:40:00.160Z"
   },
   {
    "duration": 111,
    "start_time": "2023-11-08T15:40:00.172Z"
   },
   {
    "duration": 6,
    "start_time": "2023-11-08T15:40:00.285Z"
   },
   {
    "duration": 45,
    "start_time": "2023-11-08T15:40:00.293Z"
   },
   {
    "duration": 5,
    "start_time": "2023-11-08T15:40:00.340Z"
   },
   {
    "duration": 20,
    "start_time": "2023-11-08T15:40:00.347Z"
   },
   {
    "duration": 37,
    "start_time": "2023-11-08T15:40:00.369Z"
   },
   {
    "duration": 82,
    "start_time": "2023-11-08T15:40:00.409Z"
   },
   {
    "duration": 1366,
    "start_time": "2023-11-08T16:12:07.345Z"
   },
   {
    "duration": 227,
    "start_time": "2023-11-08T16:12:08.713Z"
   },
   {
    "duration": 19,
    "start_time": "2023-11-08T16:12:08.942Z"
   },
   {
    "duration": 32,
    "start_time": "2023-11-08T16:12:08.963Z"
   },
   {
    "duration": 62,
    "start_time": "2023-11-08T16:12:08.996Z"
   },
   {
    "duration": 112,
    "start_time": "2023-11-08T16:12:09.059Z"
   },
   {
    "duration": 49,
    "start_time": "2023-11-08T16:12:09.173Z"
   },
   {
    "duration": 32,
    "start_time": "2023-11-08T16:12:09.224Z"
   },
   {
    "duration": 205,
    "start_time": "2023-11-08T16:12:09.258Z"
   },
   {
    "duration": 108,
    "start_time": "2023-11-08T16:12:09.466Z"
   },
   {
    "duration": 85,
    "start_time": "2023-11-08T16:12:09.576Z"
   },
   {
    "duration": 262,
    "start_time": "2023-11-08T16:12:09.663Z"
   },
   {
    "duration": 13,
    "start_time": "2023-11-08T16:12:09.927Z"
   },
   {
    "duration": 169,
    "start_time": "2023-11-08T16:12:09.941Z"
   },
   {
    "duration": 183,
    "start_time": "2023-11-08T16:12:10.112Z"
   },
   {
    "duration": 220,
    "start_time": "2023-11-08T16:12:10.297Z"
   },
   {
    "duration": 225,
    "start_time": "2023-11-08T16:12:10.519Z"
   },
   {
    "duration": 8,
    "start_time": "2023-11-08T16:12:10.745Z"
   },
   {
    "duration": 60,
    "start_time": "2023-11-08T16:12:10.754Z"
   },
   {
    "duration": 870,
    "start_time": "2023-11-08T16:12:10.816Z"
   },
   {
    "duration": 3,
    "start_time": "2023-11-08T16:12:11.688Z"
   },
   {
    "duration": 14,
    "start_time": "2023-11-08T16:12:11.693Z"
   },
   {
    "duration": 35,
    "start_time": "2023-11-08T16:12:11.709Z"
   },
   {
    "duration": 127,
    "start_time": "2023-11-08T16:12:11.746Z"
   },
   {
    "duration": 7,
    "start_time": "2023-11-08T16:12:11.875Z"
   },
   {
    "duration": 26,
    "start_time": "2023-11-08T16:12:11.884Z"
   },
   {
    "duration": 20,
    "start_time": "2023-11-08T16:12:11.912Z"
   },
   {
    "duration": 5,
    "start_time": "2023-11-08T16:12:11.938Z"
   },
   {
    "duration": 23,
    "start_time": "2023-11-08T16:12:11.944Z"
   },
   {
    "duration": 8,
    "start_time": "2023-11-08T16:12:11.969Z"
   },
   {
    "duration": 110,
    "start_time": "2023-11-08T16:24:11.906Z"
   },
   {
    "duration": 14,
    "start_time": "2023-11-08T16:25:43.425Z"
   },
   {
    "duration": 11,
    "start_time": "2023-11-08T16:25:47.164Z"
   },
   {
    "duration": 13,
    "start_time": "2023-11-08T16:25:50.896Z"
   },
   {
    "duration": 11,
    "start_time": "2023-11-08T16:25:59.717Z"
   },
   {
    "duration": 1410,
    "start_time": "2023-11-08T16:33:56.490Z"
   },
   {
    "duration": 196,
    "start_time": "2023-11-08T16:33:57.903Z"
   },
   {
    "duration": 17,
    "start_time": "2023-11-08T16:33:58.100Z"
   },
   {
    "duration": 15,
    "start_time": "2023-11-08T16:33:58.119Z"
   },
   {
    "duration": 14,
    "start_time": "2023-11-08T16:33:58.137Z"
   },
   {
    "duration": 30,
    "start_time": "2023-11-08T16:33:58.153Z"
   },
   {
    "duration": 21,
    "start_time": "2023-11-08T16:33:58.185Z"
   },
   {
    "duration": 14,
    "start_time": "2023-11-08T16:33:58.208Z"
   },
   {
    "duration": 48,
    "start_time": "2023-11-08T16:33:58.224Z"
   },
   {
    "duration": 33,
    "start_time": "2023-11-08T16:33:58.273Z"
   },
   {
    "duration": 6,
    "start_time": "2023-11-08T16:33:58.307Z"
   },
   {
    "duration": 196,
    "start_time": "2023-11-08T16:33:58.314Z"
   },
   {
    "duration": 5,
    "start_time": "2023-11-08T16:33:58.512Z"
   },
   {
    "duration": 119,
    "start_time": "2023-11-08T16:33:58.520Z"
   },
   {
    "duration": 181,
    "start_time": "2023-11-08T16:33:58.640Z"
   },
   {
    "duration": 220,
    "start_time": "2023-11-08T16:33:58.823Z"
   },
   {
    "duration": 219,
    "start_time": "2023-11-08T16:33:59.045Z"
   },
   {
    "duration": 7,
    "start_time": "2023-11-08T16:33:59.266Z"
   },
   {
    "duration": 46,
    "start_time": "2023-11-08T16:33:59.275Z"
   },
   {
    "duration": 873,
    "start_time": "2023-11-08T16:33:59.322Z"
   },
   {
    "duration": 4,
    "start_time": "2023-11-08T16:34:00.197Z"
   },
   {
    "duration": 61,
    "start_time": "2023-11-08T16:34:00.203Z"
   },
   {
    "duration": 85,
    "start_time": "2023-11-08T16:34:00.266Z"
   },
   {
    "duration": 169,
    "start_time": "2023-11-08T16:34:00.353Z"
   },
   {
    "duration": 5,
    "start_time": "2023-11-08T16:34:00.524Z"
   },
   {
    "duration": 70,
    "start_time": "2023-11-08T16:34:00.531Z"
   },
   {
    "duration": 57,
    "start_time": "2023-11-08T16:34:00.602Z"
   },
   {
    "duration": 44,
    "start_time": "2023-11-08T16:34:00.661Z"
   },
   {
    "duration": 73,
    "start_time": "2023-11-08T16:34:00.707Z"
   },
   {
    "duration": 77,
    "start_time": "2023-11-08T16:34:00.783Z"
   },
   {
    "duration": 13,
    "start_time": "2023-11-08T16:34:36.068Z"
   },
   {
    "duration": 12,
    "start_time": "2023-11-08T16:41:10.343Z"
   },
   {
    "duration": 77,
    "start_time": "2023-11-08T16:41:43.921Z"
   },
   {
    "duration": 12,
    "start_time": "2023-11-08T16:41:53.383Z"
   },
   {
    "duration": 1160,
    "start_time": "2023-11-08T16:42:15.723Z"
   },
   {
    "duration": 74,
    "start_time": "2023-11-08T16:42:16.885Z"
   },
   {
    "duration": 16,
    "start_time": "2023-11-08T16:42:16.961Z"
   },
   {
    "duration": 13,
    "start_time": "2023-11-08T16:42:16.979Z"
   },
   {
    "duration": 11,
    "start_time": "2023-11-08T16:42:16.994Z"
   },
   {
    "duration": 18,
    "start_time": "2023-11-08T16:42:17.007Z"
   },
   {
    "duration": 6,
    "start_time": "2023-11-08T16:42:17.027Z"
   },
   {
    "duration": 10,
    "start_time": "2023-11-08T16:42:17.035Z"
   },
   {
    "duration": 56,
    "start_time": "2023-11-08T16:42:17.047Z"
   },
   {
    "duration": 17,
    "start_time": "2023-11-08T16:42:17.105Z"
   },
   {
    "duration": 5,
    "start_time": "2023-11-08T16:42:17.124Z"
   },
   {
    "duration": 221,
    "start_time": "2023-11-08T16:42:17.131Z"
   },
   {
    "duration": 4,
    "start_time": "2023-11-08T16:42:17.355Z"
   },
   {
    "duration": 110,
    "start_time": "2023-11-08T16:42:17.363Z"
   },
   {
    "duration": 169,
    "start_time": "2023-11-08T16:42:17.475Z"
   },
   {
    "duration": 214,
    "start_time": "2023-11-08T16:42:17.645Z"
   },
   {
    "duration": 210,
    "start_time": "2023-11-08T16:42:17.860Z"
   },
   {
    "duration": 8,
    "start_time": "2023-11-08T16:42:18.072Z"
   },
   {
    "duration": 46,
    "start_time": "2023-11-08T16:42:18.081Z"
   },
   {
    "duration": 845,
    "start_time": "2023-11-08T16:42:18.129Z"
   },
   {
    "duration": 4,
    "start_time": "2023-11-08T16:42:18.976Z"
   },
   {
    "duration": 20,
    "start_time": "2023-11-08T16:42:18.981Z"
   },
   {
    "duration": 14,
    "start_time": "2023-11-08T16:42:19.002Z"
   },
   {
    "duration": 112,
    "start_time": "2023-11-08T16:42:19.018Z"
   },
   {
    "duration": 5,
    "start_time": "2023-11-08T16:42:19.132Z"
   },
   {
    "duration": 27,
    "start_time": "2023-11-08T16:42:19.138Z"
   },
   {
    "duration": 6,
    "start_time": "2023-11-08T16:42:19.167Z"
   },
   {
    "duration": 29,
    "start_time": "2023-11-08T16:42:19.174Z"
   },
   {
    "duration": 16,
    "start_time": "2023-11-08T16:42:19.205Z"
   },
   {
    "duration": 4,
    "start_time": "2023-11-08T16:42:19.223Z"
   },
   {
    "duration": 1152,
    "start_time": "2023-11-08T17:24:25.857Z"
   },
   {
    "duration": 76,
    "start_time": "2023-11-08T17:24:27.011Z"
   },
   {
    "duration": 16,
    "start_time": "2023-11-08T17:24:27.089Z"
   },
   {
    "duration": 15,
    "start_time": "2023-11-08T17:24:27.107Z"
   },
   {
    "duration": 12,
    "start_time": "2023-11-08T17:24:27.124Z"
   },
   {
    "duration": 17,
    "start_time": "2023-11-08T17:24:27.137Z"
   },
   {
    "duration": 6,
    "start_time": "2023-11-08T17:24:27.155Z"
   },
   {
    "duration": 21,
    "start_time": "2023-11-08T17:24:27.162Z"
   },
   {
    "duration": 30,
    "start_time": "2023-11-08T17:24:27.185Z"
   },
   {
    "duration": 15,
    "start_time": "2023-11-08T17:24:27.225Z"
   },
   {
    "duration": 90,
    "start_time": "2023-11-08T17:24:27.242Z"
   },
   {
    "duration": 472,
    "start_time": "2023-11-08T17:24:27.334Z"
   },
   {
    "duration": 6,
    "start_time": "2023-11-08T17:24:27.807Z"
   },
   {
    "duration": 183,
    "start_time": "2023-11-08T17:24:27.824Z"
   },
   {
    "duration": 158,
    "start_time": "2023-11-08T17:24:28.009Z"
   },
   {
    "duration": 199,
    "start_time": "2023-11-08T17:24:28.169Z"
   },
   {
    "duration": 212,
    "start_time": "2023-11-08T17:24:28.370Z"
   },
   {
    "duration": 10,
    "start_time": "2023-11-08T17:24:28.584Z"
   },
   {
    "duration": 44,
    "start_time": "2023-11-08T17:24:28.595Z"
   },
   {
    "duration": 861,
    "start_time": "2023-11-08T17:24:28.641Z"
   },
   {
    "duration": 4,
    "start_time": "2023-11-08T17:24:29.504Z"
   },
   {
    "duration": 62,
    "start_time": "2023-11-08T17:24:29.510Z"
   },
   {
    "duration": 127,
    "start_time": "2023-11-08T17:24:29.573Z"
   },
   {
    "duration": 149,
    "start_time": "2023-11-08T17:24:29.701Z"
   },
   {
    "duration": 73,
    "start_time": "2023-11-08T17:24:29.852Z"
   },
   {
    "duration": 281,
    "start_time": "2023-11-08T17:24:29.927Z"
   },
   {
    "duration": 132,
    "start_time": "2023-11-08T17:24:30.209Z"
   },
   {
    "duration": 190,
    "start_time": "2023-11-08T17:24:30.344Z"
   },
   {
    "duration": 167,
    "start_time": "2023-11-08T17:24:30.535Z"
   },
   {
    "duration": 259,
    "start_time": "2023-11-08T17:24:30.704Z"
   }
  ],
  "kernelspec": {
   "display_name": "Python 3 (ipykernel)",
   "language": "python",
   "name": "python3"
  },
  "language_info": {
   "codemirror_mode": {
    "name": "ipython",
    "version": 3
   },
   "file_extension": ".py",
   "mimetype": "text/x-python",
   "name": "python",
   "nbconvert_exporter": "python",
   "pygments_lexer": "ipython3",
   "version": "3.9.5"
  },
  "toc": {
   "base_numbering": 1,
   "nav_menu": {},
   "number_sections": true,
   "sideBar": true,
   "skip_h1_title": true,
   "title_cell": "Table of Contents",
   "title_sidebar": "Contents",
   "toc_cell": false,
   "toc_position": {},
   "toc_section_display": true,
   "toc_window_display": false
  }
 },
 "nbformat": 4,
 "nbformat_minor": 5
}
