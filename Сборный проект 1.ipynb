{
 "cells": [
  {
   "cell_type": "markdown",
   "metadata": {
    "id": "sIfNaMOxgFyK"
   },
   "source": [
    "## Исследование данных о российском кинопрокате\n",
    "1. Сбор первоначальных данных:\n",
    "   - Определение ключевых источников данных: академические базы данных, отчеты Министерства культуры Российской Федерации, онлайн-кинопрокат, базы данных кинотеатров.\n",
    "   - Сбор данных общего характера о рынке кинопроката в России: общие показатели о прибыли и количестве прокатов, популярность различных типов фильмов.\n",
    "\n",
    "2. Предварительный анализ данных:\n",
    "   - Проверка полноты и качества собранных данных.\n",
    "   - Первоначальная верификация и валидация данных.\n",
    "   \n",
    "3. Обработка данных:\n",
    "   - Очистка данных от ошибок и пропусков.\n",
    "   - Создание базы данных для последующего анализа.\n",
    "   \n",
    "4. Проведение исследовательского анализа:\n",
    "   - Анализ динамики изменения показателей по годам.\n",
    "   - Разделение кинопроката по жанрам, платформам просмотра, местам просмотра (кинотеатры, подписные сервисы и др.).\n",
    "   - Анализ размещения киносеансов по регионам России, изучение предпочтений аудитории в разных регионах.\n",
    "\n",
    "5. Интерпретация полученных результатов:\n",
    "   - Сравнение полученных данных с глобальными тенденциями.\n",
    "   - Обсуждение ключевых открытий, паттернов и выводов.\n",
    "\n",
    "6. Подготовка отчета и презентации:\n",
    "   - Презентация результатов исследования в понятном и доступном формате.\n",
    "   - Подготовка текстового отчета с подробными объяснениями результатов.\n",
    "\n",
    "7. Обсуждение результатов и планирование дальнейших действий:\n",
    "   - Обсуждение полученных результатов с заинтересованными сторонами.\n",
    "   - Выработка рекомендаций и планирование дальнейших шагов на основе результатов исследования.\n"
   ]
  },
  {
   "cell_type": "markdown",
   "metadata": {
    "id": "3bSlkCsbgFyL"
   },
   "source": [
    "### Шаг 1. Откройте файлы с данными и объедините их в один датафрейм.\n",
    "\n",
    "Объедините данные таким образом, чтобы все объекты из датасета `mkrf_movies` обязательно вошли в получившийся датафрейм.\n",
    "\n",
    "<div id=\"accordion\">\n",
    "    <div class=\"card\">\n",
    "        <div class=\"card-header\" id=\"headingThree\">\n",
    "            <button class=\"btn btn-link collapsed\" data-toggle=\"collapse\" data-target=\"#collapseHint_0\" aria-expanded=\"false\" aria-controls=\"collapseHint_0\">Подсказка</button>\n",
    "        </div>\n",
    "        <div id=\"collapseHint_0\" class=\"collapse\" aria-labelledby=\"headingThree\" data-parent=\"#accordion\">\n",
    "            <div class=\"card-body\">\n",
    "Обратите внимание на тип данных столбца, по которому будете соединять датафреймы. Тип данных этих столбцов должен быть одинаковым в обоих датафреймах.\n",
    "            </div>\n",
    "        </div>\n",
    "    </div>\n",
    "</div>"
   ]
  },
  {
   "cell_type": "code",
   "execution_count": 1,
   "metadata": {
    "id": "dw87FlzMgFyM"
   },
   "outputs": [],
   "source": [
    "import pandas as pd\n",
    "import numpy as np\n",
    "import matplotlib.pyplot as plt\n",
    "import seaborn as sns\n",
    "pd.set_option('display.float_format', '{:,.2f}'.format)\n",
    "pd.set_option('chained_assignment', None)"
   ]
  },
  {
   "cell_type": "code",
   "execution_count": 2,
   "metadata": {
    "id": "KbPk3O2xdgp2"
   },
   "outputs": [],
   "source": [
    "# Загрузка данных из файлов\n",
    "movies_data = pd.read_csv('datasets\\\\mkrf_movies.csv')\n",
    "shows_data = pd.read_csv('datasets\\\\mkrf_shows.csv')"
   ]
  },
  {
   "cell_type": "code",
   "execution_count": 3,
   "metadata": {
    "colab": {
     "base_uri": "https://localhost:8080/",
     "height": 1000
    },
    "id": "Z4fgrWAbdgp2",
    "outputId": "467ffddf-0ac0-4157-a43b-ae33840991ef"
   },
   "outputs": [
    {
     "data": {
      "text/html": [
       "<div>\n",
       "<style scoped>\n",
       "    .dataframe tbody tr th:only-of-type {\n",
       "        vertical-align: middle;\n",
       "    }\n",
       "\n",
       "    .dataframe tbody tr th {\n",
       "        vertical-align: top;\n",
       "    }\n",
       "\n",
       "    .dataframe thead th {\n",
       "        text-align: right;\n",
       "    }\n",
       "</style>\n",
       "<table border=\"1\" class=\"dataframe\">\n",
       "  <thead>\n",
       "    <tr style=\"text-align: right;\">\n",
       "      <th></th>\n",
       "      <th>title</th>\n",
       "      <th>puNumber</th>\n",
       "      <th>show_start_date</th>\n",
       "      <th>type</th>\n",
       "      <th>film_studio</th>\n",
       "      <th>production_country</th>\n",
       "      <th>director</th>\n",
       "      <th>producer</th>\n",
       "      <th>age_restriction</th>\n",
       "      <th>refundable_support</th>\n",
       "      <th>nonrefundable_support</th>\n",
       "      <th>budget</th>\n",
       "      <th>financing_source</th>\n",
       "      <th>ratings</th>\n",
       "      <th>genres</th>\n",
       "    </tr>\n",
       "  </thead>\n",
       "  <tbody>\n",
       "    <tr>\n",
       "      <th>0</th>\n",
       "      <td>Открытый простор</td>\n",
       "      <td>221048915</td>\n",
       "      <td>2015-11-27T12:00:00.000Z</td>\n",
       "      <td>Художественный</td>\n",
       "      <td>Тачстоун Пикчерз, Кобальт Пикчерз, Бикон Пикче...</td>\n",
       "      <td>США</td>\n",
       "      <td>Кевин Костнер</td>\n",
       "      <td>Дэвид Валдес, Кевин Костнер, Джейк Эбертс</td>\n",
       "      <td>«18+» - запрещено для детей</td>\n",
       "      <td>NaN</td>\n",
       "      <td>NaN</td>\n",
       "      <td>NaN</td>\n",
       "      <td>NaN</td>\n",
       "      <td>7.2</td>\n",
       "      <td>боевик,драма,мелодрама</td>\n",
       "    </tr>\n",
       "    <tr>\n",
       "      <th>1</th>\n",
       "      <td>Особо важное задание</td>\n",
       "      <td>111013716</td>\n",
       "      <td>2016-09-13T12:00:00.000Z</td>\n",
       "      <td>Художественный</td>\n",
       "      <td>Киностудия \"Мосфильм\"</td>\n",
       "      <td>СССР</td>\n",
       "      <td>Е.Матвеев</td>\n",
       "      <td>NaN</td>\n",
       "      <td>«6+» - для детей старше 6 лет</td>\n",
       "      <td>NaN</td>\n",
       "      <td>NaN</td>\n",
       "      <td>NaN</td>\n",
       "      <td>NaN</td>\n",
       "      <td>6.6</td>\n",
       "      <td>драма,военный</td>\n",
       "    </tr>\n",
       "    <tr>\n",
       "      <th>2</th>\n",
       "      <td>Особо опасен</td>\n",
       "      <td>221038416</td>\n",
       "      <td>2016-10-10T12:00:00.000Z</td>\n",
       "      <td>Художественный</td>\n",
       "      <td>Юниверсал Пикчерз, Кикстарт Продакшнз, Марк Пл...</td>\n",
       "      <td>США</td>\n",
       "      <td>Тимур Бекмамбетов</td>\n",
       "      <td>Джим Лемли, Джейсон Нетер, Марк Е.Платт, Яйн Смит</td>\n",
       "      <td>«18+» - запрещено для детей</td>\n",
       "      <td>NaN</td>\n",
       "      <td>NaN</td>\n",
       "      <td>NaN</td>\n",
       "      <td>NaN</td>\n",
       "      <td>6.8</td>\n",
       "      <td>фантастика,боевик,триллер</td>\n",
       "    </tr>\n",
       "    <tr>\n",
       "      <th>3</th>\n",
       "      <td>Особо опасен</td>\n",
       "      <td>221026916</td>\n",
       "      <td>2016-06-10T12:00:00.000Z</td>\n",
       "      <td>Художественный</td>\n",
       "      <td>Юниверсал Пикчерз, Кикстарт Продакшнз, Марк Пл...</td>\n",
       "      <td>США</td>\n",
       "      <td>Тимур Бекмамбетов</td>\n",
       "      <td>Джим Лемли, Джейсон Нетер, Марк Е.Платт, Яйн Смит</td>\n",
       "      <td>«18+» - запрещено для детей</td>\n",
       "      <td>NaN</td>\n",
       "      <td>NaN</td>\n",
       "      <td>NaN</td>\n",
       "      <td>NaN</td>\n",
       "      <td>6.8</td>\n",
       "      <td>фантастика,боевик,триллер</td>\n",
       "    </tr>\n",
       "    <tr>\n",
       "      <th>4</th>\n",
       "      <td>Особо опасен</td>\n",
       "      <td>221030815</td>\n",
       "      <td>2015-07-29T12:00:00.000Z</td>\n",
       "      <td>Художественный</td>\n",
       "      <td>Юниверсал Пикчерз, Кикстарт Продакшнз, Марк Пл...</td>\n",
       "      <td>США</td>\n",
       "      <td>Тимур Бекмамбетов</td>\n",
       "      <td>Джим Лемли, Джейсон Нетер, Марк Е.Платт, Яйн Смит</td>\n",
       "      <td>«18+» - запрещено для детей</td>\n",
       "      <td>NaN</td>\n",
       "      <td>NaN</td>\n",
       "      <td>NaN</td>\n",
       "      <td>NaN</td>\n",
       "      <td>6.8</td>\n",
       "      <td>фантастика,боевик,триллер</td>\n",
       "    </tr>\n",
       "    <tr>\n",
       "      <th>...</th>\n",
       "      <td>...</td>\n",
       "      <td>...</td>\n",
       "      <td>...</td>\n",
       "      <td>...</td>\n",
       "      <td>...</td>\n",
       "      <td>...</td>\n",
       "      <td>...</td>\n",
       "      <td>...</td>\n",
       "      <td>...</td>\n",
       "      <td>...</td>\n",
       "      <td>...</td>\n",
       "      <td>...</td>\n",
       "      <td>...</td>\n",
       "      <td>...</td>\n",
       "      <td>...</td>\n",
       "    </tr>\n",
       "    <tr>\n",
       "      <th>7481</th>\n",
       "      <td>Сад художника: Американский импрессионизм</td>\n",
       "      <td>126008019</td>\n",
       "      <td>2019-12-23T12:00:00.000Z</td>\n",
       "      <td>Прочие</td>\n",
       "      <td>Севен Артс Продакшнз</td>\n",
       "      <td>Великобритания</td>\n",
       "      <td>Фил Грабски</td>\n",
       "      <td>Фил Грабски</td>\n",
       "      <td>«12+» - для детей старше 12 лет</td>\n",
       "      <td>NaN</td>\n",
       "      <td>NaN</td>\n",
       "      <td>NaN</td>\n",
       "      <td>NaN</td>\n",
       "      <td>NaN</td>\n",
       "      <td>NaN</td>\n",
       "    </tr>\n",
       "    <tr>\n",
       "      <th>7482</th>\n",
       "      <td>Звериная ярость</td>\n",
       "      <td>121037819</td>\n",
       "      <td>2019-12-24T12:00:00.000Z</td>\n",
       "      <td>Художественный</td>\n",
       "      <td>Дэниел Гродник Продакшнз, Вандерфилм Медиа Кор...</td>\n",
       "      <td>США</td>\n",
       "      <td>Ник Пауэлл</td>\n",
       "      <td>Джефф Боулер, Дэниэл Гродник, Луильо Руис, Брэ...</td>\n",
       "      <td>«16+» - для детей старше 16 лет</td>\n",
       "      <td>NaN</td>\n",
       "      <td>NaN</td>\n",
       "      <td>NaN</td>\n",
       "      <td>NaN</td>\n",
       "      <td>5.4</td>\n",
       "      <td>боевик,триллер</td>\n",
       "    </tr>\n",
       "    <tr>\n",
       "      <th>7483</th>\n",
       "      <td>Щенячий патруль: Скорей спешим на помощь!</td>\n",
       "      <td>124010819</td>\n",
       "      <td>2019-12-28T12:00:00.000Z</td>\n",
       "      <td>Художественный</td>\n",
       "      <td>Никелодеон Анимейшн Студиос, Спин Мастер</td>\n",
       "      <td>США - Канада</td>\n",
       "      <td>Чарльз Е.Бастьен</td>\n",
       "      <td>Дженнифер Додж</td>\n",
       "      <td>«0+» - для любой зрительской аудитории</td>\n",
       "      <td>NaN</td>\n",
       "      <td>NaN</td>\n",
       "      <td>NaN</td>\n",
       "      <td>NaN</td>\n",
       "      <td>NaN</td>\n",
       "      <td>NaN</td>\n",
       "    </tr>\n",
       "    <tr>\n",
       "      <th>7484</th>\n",
       "      <td>Машины песенки. Серия \"Испанские мотивы\"</td>\n",
       "      <td>124010619</td>\n",
       "      <td>2019-12-30T12:00:00.000Z</td>\n",
       "      <td>Анимационный</td>\n",
       "      <td>Анимаккорд Лтд., ООО Студия \"АНИМАККОРД\"</td>\n",
       "      <td>Республика Кипр, Россия</td>\n",
       "      <td>А.Беляев</td>\n",
       "      <td>Д.Ловейко</td>\n",
       "      <td>«0+» - для любой зрительской аудитории</td>\n",
       "      <td>NaN</td>\n",
       "      <td>NaN</td>\n",
       "      <td>NaN</td>\n",
       "      <td>NaN</td>\n",
       "      <td>NaN</td>\n",
       "      <td>NaN</td>\n",
       "    </tr>\n",
       "    <tr>\n",
       "      <th>7485</th>\n",
       "      <td>Машины песенки. Серия \"Когда цветут кактусы\"</td>\n",
       "      <td>124010719</td>\n",
       "      <td>2019-12-30T12:00:00.000Z</td>\n",
       "      <td>Анимационный</td>\n",
       "      <td>Анимаккорд Лтд., ООО Студия \"АНИМАККОРД\"</td>\n",
       "      <td>Республика Кипр, Россия</td>\n",
       "      <td>И.Трусов</td>\n",
       "      <td>Д.Ловейко</td>\n",
       "      <td>«0+» - для любой зрительской аудитории</td>\n",
       "      <td>NaN</td>\n",
       "      <td>NaN</td>\n",
       "      <td>NaN</td>\n",
       "      <td>NaN</td>\n",
       "      <td>6.3</td>\n",
       "      <td>комедия,вестерн</td>\n",
       "    </tr>\n",
       "  </tbody>\n",
       "</table>\n",
       "<p>7486 rows × 15 columns</p>\n",
       "</div>"
      ],
      "text/plain": [
       "                                             title   puNumber  \\\n",
       "0                                 Открытый простор  221048915   \n",
       "1                             Особо важное задание  111013716   \n",
       "2                                     Особо опасен  221038416   \n",
       "3                                     Особо опасен  221026916   \n",
       "4                                     Особо опасен  221030815   \n",
       "...                                            ...        ...   \n",
       "7481     Сад художника: Американский импрессионизм  126008019   \n",
       "7482                               Звериная ярость  121037819   \n",
       "7483     Щенячий патруль: Скорей спешим на помощь!  124010819   \n",
       "7484      Машины песенки. Серия \"Испанские мотивы\"  124010619   \n",
       "7485  Машины песенки. Серия \"Когда цветут кактусы\"  124010719   \n",
       "\n",
       "               show_start_date             type  \\\n",
       "0     2015-11-27T12:00:00.000Z   Художественный   \n",
       "1     2016-09-13T12:00:00.000Z   Художественный   \n",
       "2     2016-10-10T12:00:00.000Z   Художественный   \n",
       "3     2016-06-10T12:00:00.000Z   Художественный   \n",
       "4     2015-07-29T12:00:00.000Z   Художественный   \n",
       "...                        ...              ...   \n",
       "7481  2019-12-23T12:00:00.000Z           Прочие   \n",
       "7482  2019-12-24T12:00:00.000Z   Художественный   \n",
       "7483  2019-12-28T12:00:00.000Z   Художественный   \n",
       "7484  2019-12-30T12:00:00.000Z     Анимационный   \n",
       "7485  2019-12-30T12:00:00.000Z     Анимационный   \n",
       "\n",
       "                                            film_studio  \\\n",
       "0     Тачстоун Пикчерз, Кобальт Пикчерз, Бикон Пикче...   \n",
       "1                                 Киностудия \"Мосфильм\"   \n",
       "2     Юниверсал Пикчерз, Кикстарт Продакшнз, Марк Пл...   \n",
       "3     Юниверсал Пикчерз, Кикстарт Продакшнз, Марк Пл...   \n",
       "4     Юниверсал Пикчерз, Кикстарт Продакшнз, Марк Пл...   \n",
       "...                                                 ...   \n",
       "7481                               Севен Артс Продакшнз   \n",
       "7482  Дэниел Гродник Продакшнз, Вандерфилм Медиа Кор...   \n",
       "7483           Никелодеон Анимейшн Студиос, Спин Мастер   \n",
       "7484           Анимаккорд Лтд., ООО Студия \"АНИМАККОРД\"   \n",
       "7485           Анимаккорд Лтд., ООО Студия \"АНИМАККОРД\"   \n",
       "\n",
       "           production_country           director  \\\n",
       "0                         США      Кевин Костнер   \n",
       "1                        СССР          Е.Матвеев   \n",
       "2                         США  Тимур Бекмамбетов   \n",
       "3                         США  Тимур Бекмамбетов   \n",
       "4                         США  Тимур Бекмамбетов   \n",
       "...                       ...                ...   \n",
       "7481           Великобритания        Фил Грабски   \n",
       "7482                      США         Ник Пауэлл   \n",
       "7483             США - Канада   Чарльз Е.Бастьен   \n",
       "7484  Республика Кипр, Россия           А.Беляев   \n",
       "7485  Республика Кипр, Россия           И.Трусов   \n",
       "\n",
       "                                               producer  \\\n",
       "0             Дэвид Валдес, Кевин Костнер, Джейк Эбертс   \n",
       "1                                                   NaN   \n",
       "2     Джим Лемли, Джейсон Нетер, Марк Е.Платт, Яйн Смит   \n",
       "3     Джим Лемли, Джейсон Нетер, Марк Е.Платт, Яйн Смит   \n",
       "4     Джим Лемли, Джейсон Нетер, Марк Е.Платт, Яйн Смит   \n",
       "...                                                 ...   \n",
       "7481                                        Фил Грабски   \n",
       "7482  Джефф Боулер, Дэниэл Гродник, Луильо Руис, Брэ...   \n",
       "7483                                     Дженнифер Додж   \n",
       "7484                                          Д.Ловейко   \n",
       "7485                                          Д.Ловейко   \n",
       "\n",
       "                             age_restriction  refundable_support  \\\n",
       "0                «18+» - запрещено для детей                 NaN   \n",
       "1              «6+» - для детей старше 6 лет                 NaN   \n",
       "2                «18+» - запрещено для детей                 NaN   \n",
       "3                «18+» - запрещено для детей                 NaN   \n",
       "4                «18+» - запрещено для детей                 NaN   \n",
       "...                                      ...                 ...   \n",
       "7481         «12+» - для детей старше 12 лет                 NaN   \n",
       "7482         «16+» - для детей старше 16 лет                 NaN   \n",
       "7483  «0+» - для любой зрительской аудитории                 NaN   \n",
       "7484  «0+» - для любой зрительской аудитории                 NaN   \n",
       "7485  «0+» - для любой зрительской аудитории                 NaN   \n",
       "\n",
       "      nonrefundable_support  budget financing_source ratings  \\\n",
       "0                       NaN     NaN              NaN     7.2   \n",
       "1                       NaN     NaN              NaN     6.6   \n",
       "2                       NaN     NaN              NaN     6.8   \n",
       "3                       NaN     NaN              NaN     6.8   \n",
       "4                       NaN     NaN              NaN     6.8   \n",
       "...                     ...     ...              ...     ...   \n",
       "7481                    NaN     NaN              NaN     NaN   \n",
       "7482                    NaN     NaN              NaN     5.4   \n",
       "7483                    NaN     NaN              NaN     NaN   \n",
       "7484                    NaN     NaN              NaN     NaN   \n",
       "7485                    NaN     NaN              NaN     6.3   \n",
       "\n",
       "                         genres  \n",
       "0        боевик,драма,мелодрама  \n",
       "1                 драма,военный  \n",
       "2     фантастика,боевик,триллер  \n",
       "3     фантастика,боевик,триллер  \n",
       "4     фантастика,боевик,триллер  \n",
       "...                         ...  \n",
       "7481                        NaN  \n",
       "7482             боевик,триллер  \n",
       "7483                        NaN  \n",
       "7484                        NaN  \n",
       "7485            комедия,вестерн  \n",
       "\n",
       "[7486 rows x 15 columns]"
      ]
     },
     "metadata": {},
     "output_type": "display_data"
    },
    {
     "name": "stdout",
     "output_type": "stream",
     "text": [
      "<class 'pandas.core.frame.DataFrame'>\n",
      "RangeIndex: 7486 entries, 0 to 7485\n",
      "Data columns (total 15 columns):\n",
      " #   Column                 Non-Null Count  Dtype  \n",
      "---  ------                 --------------  -----  \n",
      " 0   title                  7486 non-null   object \n",
      " 1   puNumber               7486 non-null   object \n",
      " 2   show_start_date        7486 non-null   object \n",
      " 3   type                   7486 non-null   object \n",
      " 4   film_studio            7468 non-null   object \n",
      " 5   production_country     7484 non-null   object \n",
      " 6   director               7477 non-null   object \n",
      " 7   producer               6918 non-null   object \n",
      " 8   age_restriction        7486 non-null   object \n",
      " 9   refundable_support     332 non-null    float64\n",
      " 10  nonrefundable_support  332 non-null    float64\n",
      " 11  budget                 332 non-null    float64\n",
      " 12  financing_source       332 non-null    object \n",
      " 13  ratings                6519 non-null   object \n",
      " 14  genres                 6510 non-null   object \n",
      "dtypes: float64(3), object(12)\n",
      "memory usage: 877.4+ KB\n"
     ]
    }
   ],
   "source": [
    "display(movies_data)\n",
    "movies_data.info()"
   ]
  },
  {
   "cell_type": "code",
   "execution_count": 4,
   "metadata": {
    "colab": {
     "base_uri": "https://localhost:8080/",
     "height": 590
    },
    "id": "3UC2wF5Mdgp3",
    "outputId": "b1e9b1dd-a499-4746-870f-60b8cb490665"
   },
   "outputs": [
    {
     "data": {
      "text/html": [
       "<div>\n",
       "<style scoped>\n",
       "    .dataframe tbody tr th:only-of-type {\n",
       "        vertical-align: middle;\n",
       "    }\n",
       "\n",
       "    .dataframe tbody tr th {\n",
       "        vertical-align: top;\n",
       "    }\n",
       "\n",
       "    .dataframe thead th {\n",
       "        text-align: right;\n",
       "    }\n",
       "</style>\n",
       "<table border=\"1\" class=\"dataframe\">\n",
       "  <thead>\n",
       "    <tr style=\"text-align: right;\">\n",
       "      <th></th>\n",
       "      <th>puNumber</th>\n",
       "      <th>box_office</th>\n",
       "    </tr>\n",
       "  </thead>\n",
       "  <tbody>\n",
       "    <tr>\n",
       "      <th>0</th>\n",
       "      <td>111000113</td>\n",
       "      <td>2,450.00</td>\n",
       "    </tr>\n",
       "    <tr>\n",
       "      <th>1</th>\n",
       "      <td>111000115</td>\n",
       "      <td>61,040.00</td>\n",
       "    </tr>\n",
       "    <tr>\n",
       "      <th>2</th>\n",
       "      <td>111000116</td>\n",
       "      <td>153,030,013.40</td>\n",
       "    </tr>\n",
       "    <tr>\n",
       "      <th>3</th>\n",
       "      <td>111000117</td>\n",
       "      <td>12,260,956.00</td>\n",
       "    </tr>\n",
       "    <tr>\n",
       "      <th>4</th>\n",
       "      <td>111000118</td>\n",
       "      <td>163,684,057.79</td>\n",
       "    </tr>\n",
       "    <tr>\n",
       "      <th>...</th>\n",
       "      <td>...</td>\n",
       "      <td>...</td>\n",
       "    </tr>\n",
       "    <tr>\n",
       "      <th>3153</th>\n",
       "      <td>224014814</td>\n",
       "      <td>1,530.00</td>\n",
       "    </tr>\n",
       "    <tr>\n",
       "      <th>3154</th>\n",
       "      <td>224021411</td>\n",
       "      <td>9,270.00</td>\n",
       "    </tr>\n",
       "    <tr>\n",
       "      <th>3155</th>\n",
       "      <td>224022410</td>\n",
       "      <td>400.00</td>\n",
       "    </tr>\n",
       "    <tr>\n",
       "      <th>3156</th>\n",
       "      <td>224023210</td>\n",
       "      <td>360.00</td>\n",
       "    </tr>\n",
       "    <tr>\n",
       "      <th>3157</th>\n",
       "      <td>224026410</td>\n",
       "      <td>400.00</td>\n",
       "    </tr>\n",
       "  </tbody>\n",
       "</table>\n",
       "<p>3158 rows × 2 columns</p>\n",
       "</div>"
      ],
      "text/plain": [
       "       puNumber     box_office\n",
       "0     111000113       2,450.00\n",
       "1     111000115      61,040.00\n",
       "2     111000116 153,030,013.40\n",
       "3     111000117  12,260,956.00\n",
       "4     111000118 163,684,057.79\n",
       "...         ...            ...\n",
       "3153  224014814       1,530.00\n",
       "3154  224021411       9,270.00\n",
       "3155  224022410         400.00\n",
       "3156  224023210         360.00\n",
       "3157  224026410         400.00\n",
       "\n",
       "[3158 rows x 2 columns]"
      ]
     },
     "metadata": {},
     "output_type": "display_data"
    },
    {
     "name": "stdout",
     "output_type": "stream",
     "text": [
      "<class 'pandas.core.frame.DataFrame'>\n",
      "RangeIndex: 3158 entries, 0 to 3157\n",
      "Data columns (total 2 columns):\n",
      " #   Column      Non-Null Count  Dtype  \n",
      "---  ------      --------------  -----  \n",
      " 0   puNumber    3158 non-null   int64  \n",
      " 1   box_office  3158 non-null   float64\n",
      "dtypes: float64(1), int64(1)\n",
      "memory usage: 49.5 KB\n"
     ]
    }
   ],
   "source": [
    "display(shows_data)\n",
    "shows_data.info()"
   ]
  },
  {
   "cell_type": "code",
   "execution_count": 5,
   "metadata": {
    "id": "N8HRiS6Rdgp3"
   },
   "outputs": [],
   "source": [
    "# Изменение типа столбца puNumber на числовой формат\n",
    "movies_data['puNumber'] = pd.to_numeric(movies_data['puNumber'], errors='coerce')\n",
    "shows_data['puNumber'] = pd.to_numeric(shows_data['puNumber'], errors='coerce')\n",
    "\n",
    "# Изменение типа столбца puNumber на int\n",
    "movies_data['puNumber'] = movies_data['puNumber'].astype('Int64')\n",
    "shows_data['puNumber'] = shows_data['puNumber'].astype('Int64')\n",
    "\n"
   ]
  },
  {
   "cell_type": "code",
   "execution_count": 6,
   "metadata": {
    "id": "2NprH3owdgp3"
   },
   "outputs": [],
   "source": [
    "merged_data = pd.merge(movies_data, shows_data, on='puNumber', how='left')"
   ]
  },
  {
   "cell_type": "markdown",
   "metadata": {
    "id": "3jWyUUJsmN_K"
   },
   "source": [
    "В этом коде выполняется несколько операций обработки и слияния данных в двух наборах данных - moviesdata и showsdata.\n",
    "\n",
    "1. Сначала к столбцу 'puNumber' в каждом из наборов данных применяется функция pd.to_numeric(). Это делается для конвертации значений этого столбца из их текущего формата в числовой формат. Параметр errors='coerce' указывает, что если есть какие-либо значения, которые невозможно преобразовать в числовой формат, они должны быть заменены на NaN.\n",
    "\n",
    "2. Затем столбец 'puNumber' в каждом из наборов данных преобразуется в тип 'Int64' с использованием метода astype(). Этот шаг своего рода \"очистка\" - он убедится, что все значения этого столбца теперь являются целыми числами (или, если они были NaN после предыдущего шага, они останутся NaN).\n",
    "\n",
    "3. Наконец, объединяются два набора данных в один, используя функцию pd.merge(). Метод объединения 'left' означает, что будут включены все строки из moviesdata, даже если совпадений для 'puNumber' в showsdata нет. Значения в строках без совпадений будут NaN. 'puNumber' это общий столбец, который используется для выполнения слияния."
   ]
  },
  {
   "cell_type": "markdown",
   "metadata": {
    "id": "KLDGpPG0gFyM"
   },
   "source": [
    "### Шаг 2. Предобработка данных"
   ]
  },
  {
   "cell_type": "markdown",
   "metadata": {
    "id": "ssWwKXsxgFyO"
   },
   "source": [
    "#### Шаг 2.1. Проверьте типы данных\n",
    "\n",
    "- Проверьте типы данных в датафрейме и преобразуйте их там, где это необходимо."
   ]
  },
  {
   "cell_type": "code",
   "execution_count": 7,
   "metadata": {
    "colab": {
     "base_uri": "https://localhost:8080/"
    },
    "id": "woWHG_FTfP0g",
    "outputId": "87b79402-a94b-465a-ffa5-fdd896132942"
   },
   "outputs": [
    {
     "name": "stdout",
     "output_type": "stream",
     "text": [
      "<class 'pandas.core.frame.DataFrame'>\n",
      "RangeIndex: 7486 entries, 0 to 7485\n",
      "Data columns (total 16 columns):\n",
      " #   Column                 Non-Null Count  Dtype  \n",
      "---  ------                 --------------  -----  \n",
      " 0   title                  7486 non-null   object \n",
      " 1   puNumber               7485 non-null   Int64  \n",
      " 2   show_start_date        7486 non-null   object \n",
      " 3   type                   7486 non-null   object \n",
      " 4   film_studio            7468 non-null   object \n",
      " 5   production_country     7484 non-null   object \n",
      " 6   director               7477 non-null   object \n",
      " 7   producer               6918 non-null   object \n",
      " 8   age_restriction        7486 non-null   object \n",
      " 9   refundable_support     332 non-null    float64\n",
      " 10  nonrefundable_support  332 non-null    float64\n",
      " 11  budget                 332 non-null    float64\n",
      " 12  financing_source       332 non-null    object \n",
      " 13  ratings                6519 non-null   object \n",
      " 14  genres                 6510 non-null   object \n",
      " 15  box_office             3158 non-null   float64\n",
      "dtypes: Int64(1), float64(4), object(11)\n",
      "memory usage: 943.2+ KB\n"
     ]
    }
   ],
   "source": [
    "merged_data.info()"
   ]
  },
  {
   "cell_type": "code",
   "execution_count": 8,
   "metadata": {
    "id": "jopBs-UajVqr"
   },
   "outputs": [],
   "source": [
    "# Преобразование show_start_date в тип datetime\n",
    "merged_data['show_start_date'] = pd.to_datetime(merged_data['show_start_date'])\n",
    "\n",
    "# Преобразование в тип category\n",
    "merged_data['type'] = merged_data['type'].astype('category')\n",
    "merged_data['age_restriction'] = merged_data['age_restriction'].astype('category')\n",
    "merged_data['financing_source'] = merged_data['financing_source'].astype('category')\n",
    "# Замена всех значений, содержащих '%'\n",
    "merged_data['ratings'] = merged_data['ratings'].str.replace('%', '').astype(float)\n",
    "merged_data['ratings'] = merged_data['ratings'].apply(lambda x: x / 10 if x > 10 else x)\n",
    "\n"
   ]
  },
  {
   "cell_type": "markdown",
   "metadata": {
    "id": "QQqaUx6mkzVA"
   },
   "source": [
    "1. Преобразование поля show_start_date в тип datetime выполнено для того, чтобы можно было корректно выполнять операции с этими данными как с датами. В исходных данных эта информация могла быть представлена в виде строки, что ограничивает возможности её использования. С помощью преобразования в datetime, появляется возможность легко выполнять такие операции, как сортировка, фильтрация по диапазону дат и вычисления на основе дат (например, вычисление количества дней между датами).\n",
    "\n",
    "2. Преобразование поля type в тип category выполнено с целью оптимизации использования памяти и ускорения обработки данных. Если поле содержит ограниченный набор уникальных значений (т.е. это категориальная переменная), то предпочтительнее использовать тип category вместо object (который используется для строк). Также категориальные данные удобнее для визуализации и статистического анализа.\n",
    "\n",
    "3. Та же логика применяется для преобразования поля financing_source и age_restriction в тип category. для film_studio\tproduction_country\tdirector\tproducer и genres этого не делаем потому что очень много комбинаций\n",
    "\n",
    "4. Преобразование данных в поле ratings предназначено для преобразования процентных значений в числа для удобства работы с данными. Первоначальная строка с процентом заменяется на число с плавающей точкой. Также, предполагая, что максимальное значение рейтинга не может превышать 10, выполняется нормализация значений, которые больше 10, путем деления их на 10. Это обеспечивает единообразие и корректность данных для дальнейшего анализа."
   ]
  },
  {
   "cell_type": "code",
   "execution_count": 9,
   "metadata": {
    "colab": {
     "base_uri": "https://localhost:8080/",
     "height": 1000
    },
    "id": "FUkb1_YvgQHD",
    "outputId": "c485e6ed-d579-4fde-a454-823040e89023"
   },
   "outputs": [
    {
     "data": {
      "text/html": [
       "<div>\n",
       "<style scoped>\n",
       "    .dataframe tbody tr th:only-of-type {\n",
       "        vertical-align: middle;\n",
       "    }\n",
       "\n",
       "    .dataframe tbody tr th {\n",
       "        vertical-align: top;\n",
       "    }\n",
       "\n",
       "    .dataframe thead th {\n",
       "        text-align: right;\n",
       "    }\n",
       "</style>\n",
       "<table border=\"1\" class=\"dataframe\">\n",
       "  <thead>\n",
       "    <tr style=\"text-align: right;\">\n",
       "      <th></th>\n",
       "      <th>title</th>\n",
       "      <th>puNumber</th>\n",
       "      <th>show_start_date</th>\n",
       "      <th>type</th>\n",
       "      <th>film_studio</th>\n",
       "      <th>production_country</th>\n",
       "      <th>director</th>\n",
       "      <th>producer</th>\n",
       "      <th>age_restriction</th>\n",
       "      <th>refundable_support</th>\n",
       "      <th>nonrefundable_support</th>\n",
       "      <th>budget</th>\n",
       "      <th>financing_source</th>\n",
       "      <th>ratings</th>\n",
       "      <th>genres</th>\n",
       "      <th>box_office</th>\n",
       "    </tr>\n",
       "  </thead>\n",
       "  <tbody>\n",
       "    <tr>\n",
       "      <th>0</th>\n",
       "      <td>Открытый простор</td>\n",
       "      <td>221048915</td>\n",
       "      <td>2015-11-27 12:00:00+00:00</td>\n",
       "      <td>Художественный</td>\n",
       "      <td>Тачстоун Пикчерз, Кобальт Пикчерз, Бикон Пикче...</td>\n",
       "      <td>США</td>\n",
       "      <td>Кевин Костнер</td>\n",
       "      <td>Дэвид Валдес, Кевин Костнер, Джейк Эбертс</td>\n",
       "      <td>«18+» - запрещено для детей</td>\n",
       "      <td>NaN</td>\n",
       "      <td>NaN</td>\n",
       "      <td>NaN</td>\n",
       "      <td>NaN</td>\n",
       "      <td>7.20</td>\n",
       "      <td>боевик,драма,мелодрама</td>\n",
       "      <td>NaN</td>\n",
       "    </tr>\n",
       "    <tr>\n",
       "      <th>1</th>\n",
       "      <td>Особо важное задание</td>\n",
       "      <td>111013716</td>\n",
       "      <td>2016-09-13 12:00:00+00:00</td>\n",
       "      <td>Художественный</td>\n",
       "      <td>Киностудия \"Мосфильм\"</td>\n",
       "      <td>СССР</td>\n",
       "      <td>Е.Матвеев</td>\n",
       "      <td>NaN</td>\n",
       "      <td>«6+» - для детей старше 6 лет</td>\n",
       "      <td>NaN</td>\n",
       "      <td>NaN</td>\n",
       "      <td>NaN</td>\n",
       "      <td>NaN</td>\n",
       "      <td>6.60</td>\n",
       "      <td>драма,военный</td>\n",
       "      <td>NaN</td>\n",
       "    </tr>\n",
       "    <tr>\n",
       "      <th>2</th>\n",
       "      <td>Особо опасен</td>\n",
       "      <td>221038416</td>\n",
       "      <td>2016-10-10 12:00:00+00:00</td>\n",
       "      <td>Художественный</td>\n",
       "      <td>Юниверсал Пикчерз, Кикстарт Продакшнз, Марк Пл...</td>\n",
       "      <td>США</td>\n",
       "      <td>Тимур Бекмамбетов</td>\n",
       "      <td>Джим Лемли, Джейсон Нетер, Марк Е.Платт, Яйн Смит</td>\n",
       "      <td>«18+» - запрещено для детей</td>\n",
       "      <td>NaN</td>\n",
       "      <td>NaN</td>\n",
       "      <td>NaN</td>\n",
       "      <td>NaN</td>\n",
       "      <td>6.80</td>\n",
       "      <td>фантастика,боевик,триллер</td>\n",
       "      <td>NaN</td>\n",
       "    </tr>\n",
       "    <tr>\n",
       "      <th>3</th>\n",
       "      <td>Особо опасен</td>\n",
       "      <td>221026916</td>\n",
       "      <td>2016-06-10 12:00:00+00:00</td>\n",
       "      <td>Художественный</td>\n",
       "      <td>Юниверсал Пикчерз, Кикстарт Продакшнз, Марк Пл...</td>\n",
       "      <td>США</td>\n",
       "      <td>Тимур Бекмамбетов</td>\n",
       "      <td>Джим Лемли, Джейсон Нетер, Марк Е.Платт, Яйн Смит</td>\n",
       "      <td>«18+» - запрещено для детей</td>\n",
       "      <td>NaN</td>\n",
       "      <td>NaN</td>\n",
       "      <td>NaN</td>\n",
       "      <td>NaN</td>\n",
       "      <td>6.80</td>\n",
       "      <td>фантастика,боевик,триллер</td>\n",
       "      <td>NaN</td>\n",
       "    </tr>\n",
       "    <tr>\n",
       "      <th>4</th>\n",
       "      <td>Особо опасен</td>\n",
       "      <td>221030815</td>\n",
       "      <td>2015-07-29 12:00:00+00:00</td>\n",
       "      <td>Художественный</td>\n",
       "      <td>Юниверсал Пикчерз, Кикстарт Продакшнз, Марк Пл...</td>\n",
       "      <td>США</td>\n",
       "      <td>Тимур Бекмамбетов</td>\n",
       "      <td>Джим Лемли, Джейсон Нетер, Марк Е.Платт, Яйн Смит</td>\n",
       "      <td>«18+» - запрещено для детей</td>\n",
       "      <td>NaN</td>\n",
       "      <td>NaN</td>\n",
       "      <td>NaN</td>\n",
       "      <td>NaN</td>\n",
       "      <td>6.80</td>\n",
       "      <td>фантастика,боевик,триллер</td>\n",
       "      <td>NaN</td>\n",
       "    </tr>\n",
       "    <tr>\n",
       "      <th>...</th>\n",
       "      <td>...</td>\n",
       "      <td>...</td>\n",
       "      <td>...</td>\n",
       "      <td>...</td>\n",
       "      <td>...</td>\n",
       "      <td>...</td>\n",
       "      <td>...</td>\n",
       "      <td>...</td>\n",
       "      <td>...</td>\n",
       "      <td>...</td>\n",
       "      <td>...</td>\n",
       "      <td>...</td>\n",
       "      <td>...</td>\n",
       "      <td>...</td>\n",
       "      <td>...</td>\n",
       "      <td>...</td>\n",
       "    </tr>\n",
       "    <tr>\n",
       "      <th>7481</th>\n",
       "      <td>Сад художника: Американский импрессионизм</td>\n",
       "      <td>126008019</td>\n",
       "      <td>2019-12-23 12:00:00+00:00</td>\n",
       "      <td>Прочие</td>\n",
       "      <td>Севен Артс Продакшнз</td>\n",
       "      <td>Великобритания</td>\n",
       "      <td>Фил Грабски</td>\n",
       "      <td>Фил Грабски</td>\n",
       "      <td>«12+» - для детей старше 12 лет</td>\n",
       "      <td>NaN</td>\n",
       "      <td>NaN</td>\n",
       "      <td>NaN</td>\n",
       "      <td>NaN</td>\n",
       "      <td>NaN</td>\n",
       "      <td>NaN</td>\n",
       "      <td>NaN</td>\n",
       "    </tr>\n",
       "    <tr>\n",
       "      <th>7482</th>\n",
       "      <td>Звериная ярость</td>\n",
       "      <td>121037819</td>\n",
       "      <td>2019-12-24 12:00:00+00:00</td>\n",
       "      <td>Художественный</td>\n",
       "      <td>Дэниел Гродник Продакшнз, Вандерфилм Медиа Кор...</td>\n",
       "      <td>США</td>\n",
       "      <td>Ник Пауэлл</td>\n",
       "      <td>Джефф Боулер, Дэниэл Гродник, Луильо Руис, Брэ...</td>\n",
       "      <td>«16+» - для детей старше 16 лет</td>\n",
       "      <td>NaN</td>\n",
       "      <td>NaN</td>\n",
       "      <td>NaN</td>\n",
       "      <td>NaN</td>\n",
       "      <td>5.40</td>\n",
       "      <td>боевик,триллер</td>\n",
       "      <td>NaN</td>\n",
       "    </tr>\n",
       "    <tr>\n",
       "      <th>7483</th>\n",
       "      <td>Щенячий патруль: Скорей спешим на помощь!</td>\n",
       "      <td>124010819</td>\n",
       "      <td>2019-12-28 12:00:00+00:00</td>\n",
       "      <td>Художественный</td>\n",
       "      <td>Никелодеон Анимейшн Студиос, Спин Мастер</td>\n",
       "      <td>США - Канада</td>\n",
       "      <td>Чарльз Е.Бастьен</td>\n",
       "      <td>Дженнифер Додж</td>\n",
       "      <td>«0+» - для любой зрительской аудитории</td>\n",
       "      <td>NaN</td>\n",
       "      <td>NaN</td>\n",
       "      <td>NaN</td>\n",
       "      <td>NaN</td>\n",
       "      <td>NaN</td>\n",
       "      <td>NaN</td>\n",
       "      <td>NaN</td>\n",
       "    </tr>\n",
       "    <tr>\n",
       "      <th>7484</th>\n",
       "      <td>Машины песенки. Серия \"Испанские мотивы\"</td>\n",
       "      <td>124010619</td>\n",
       "      <td>2019-12-30 12:00:00+00:00</td>\n",
       "      <td>Анимационный</td>\n",
       "      <td>Анимаккорд Лтд., ООО Студия \"АНИМАККОРД\"</td>\n",
       "      <td>Республика Кипр, Россия</td>\n",
       "      <td>А.Беляев</td>\n",
       "      <td>Д.Ловейко</td>\n",
       "      <td>«0+» - для любой зрительской аудитории</td>\n",
       "      <td>NaN</td>\n",
       "      <td>NaN</td>\n",
       "      <td>NaN</td>\n",
       "      <td>NaN</td>\n",
       "      <td>NaN</td>\n",
       "      <td>NaN</td>\n",
       "      <td>NaN</td>\n",
       "    </tr>\n",
       "    <tr>\n",
       "      <th>7485</th>\n",
       "      <td>Машины песенки. Серия \"Когда цветут кактусы\"</td>\n",
       "      <td>124010719</td>\n",
       "      <td>2019-12-30 12:00:00+00:00</td>\n",
       "      <td>Анимационный</td>\n",
       "      <td>Анимаккорд Лтд., ООО Студия \"АНИМАККОРД\"</td>\n",
       "      <td>Республика Кипр, Россия</td>\n",
       "      <td>И.Трусов</td>\n",
       "      <td>Д.Ловейко</td>\n",
       "      <td>«0+» - для любой зрительской аудитории</td>\n",
       "      <td>NaN</td>\n",
       "      <td>NaN</td>\n",
       "      <td>NaN</td>\n",
       "      <td>NaN</td>\n",
       "      <td>6.30</td>\n",
       "      <td>комедия,вестерн</td>\n",
       "      <td>NaN</td>\n",
       "    </tr>\n",
       "  </tbody>\n",
       "</table>\n",
       "<p>7486 rows × 16 columns</p>\n",
       "</div>"
      ],
      "text/plain": [
       "                                             title   puNumber  \\\n",
       "0                                 Открытый простор  221048915   \n",
       "1                             Особо важное задание  111013716   \n",
       "2                                     Особо опасен  221038416   \n",
       "3                                     Особо опасен  221026916   \n",
       "4                                     Особо опасен  221030815   \n",
       "...                                            ...        ...   \n",
       "7481     Сад художника: Американский импрессионизм  126008019   \n",
       "7482                               Звериная ярость  121037819   \n",
       "7483     Щенячий патруль: Скорей спешим на помощь!  124010819   \n",
       "7484      Машины песенки. Серия \"Испанские мотивы\"  124010619   \n",
       "7485  Машины песенки. Серия \"Когда цветут кактусы\"  124010719   \n",
       "\n",
       "               show_start_date             type  \\\n",
       "0    2015-11-27 12:00:00+00:00   Художественный   \n",
       "1    2016-09-13 12:00:00+00:00   Художественный   \n",
       "2    2016-10-10 12:00:00+00:00   Художественный   \n",
       "3    2016-06-10 12:00:00+00:00   Художественный   \n",
       "4    2015-07-29 12:00:00+00:00   Художественный   \n",
       "...                        ...              ...   \n",
       "7481 2019-12-23 12:00:00+00:00           Прочие   \n",
       "7482 2019-12-24 12:00:00+00:00   Художественный   \n",
       "7483 2019-12-28 12:00:00+00:00   Художественный   \n",
       "7484 2019-12-30 12:00:00+00:00     Анимационный   \n",
       "7485 2019-12-30 12:00:00+00:00     Анимационный   \n",
       "\n",
       "                                            film_studio  \\\n",
       "0     Тачстоун Пикчерз, Кобальт Пикчерз, Бикон Пикче...   \n",
       "1                                 Киностудия \"Мосфильм\"   \n",
       "2     Юниверсал Пикчерз, Кикстарт Продакшнз, Марк Пл...   \n",
       "3     Юниверсал Пикчерз, Кикстарт Продакшнз, Марк Пл...   \n",
       "4     Юниверсал Пикчерз, Кикстарт Продакшнз, Марк Пл...   \n",
       "...                                                 ...   \n",
       "7481                               Севен Артс Продакшнз   \n",
       "7482  Дэниел Гродник Продакшнз, Вандерфилм Медиа Кор...   \n",
       "7483           Никелодеон Анимейшн Студиос, Спин Мастер   \n",
       "7484           Анимаккорд Лтд., ООО Студия \"АНИМАККОРД\"   \n",
       "7485           Анимаккорд Лтд., ООО Студия \"АНИМАККОРД\"   \n",
       "\n",
       "           production_country           director  \\\n",
       "0                         США      Кевин Костнер   \n",
       "1                        СССР          Е.Матвеев   \n",
       "2                         США  Тимур Бекмамбетов   \n",
       "3                         США  Тимур Бекмамбетов   \n",
       "4                         США  Тимур Бекмамбетов   \n",
       "...                       ...                ...   \n",
       "7481           Великобритания        Фил Грабски   \n",
       "7482                      США         Ник Пауэлл   \n",
       "7483             США - Канада   Чарльз Е.Бастьен   \n",
       "7484  Республика Кипр, Россия           А.Беляев   \n",
       "7485  Республика Кипр, Россия           И.Трусов   \n",
       "\n",
       "                                               producer  \\\n",
       "0             Дэвид Валдес, Кевин Костнер, Джейк Эбертс   \n",
       "1                                                   NaN   \n",
       "2     Джим Лемли, Джейсон Нетер, Марк Е.Платт, Яйн Смит   \n",
       "3     Джим Лемли, Джейсон Нетер, Марк Е.Платт, Яйн Смит   \n",
       "4     Джим Лемли, Джейсон Нетер, Марк Е.Платт, Яйн Смит   \n",
       "...                                                 ...   \n",
       "7481                                        Фил Грабски   \n",
       "7482  Джефф Боулер, Дэниэл Гродник, Луильо Руис, Брэ...   \n",
       "7483                                     Дженнифер Додж   \n",
       "7484                                          Д.Ловейко   \n",
       "7485                                          Д.Ловейко   \n",
       "\n",
       "                             age_restriction  refundable_support  \\\n",
       "0                «18+» - запрещено для детей                 NaN   \n",
       "1              «6+» - для детей старше 6 лет                 NaN   \n",
       "2                «18+» - запрещено для детей                 NaN   \n",
       "3                «18+» - запрещено для детей                 NaN   \n",
       "4                «18+» - запрещено для детей                 NaN   \n",
       "...                                      ...                 ...   \n",
       "7481         «12+» - для детей старше 12 лет                 NaN   \n",
       "7482         «16+» - для детей старше 16 лет                 NaN   \n",
       "7483  «0+» - для любой зрительской аудитории                 NaN   \n",
       "7484  «0+» - для любой зрительской аудитории                 NaN   \n",
       "7485  «0+» - для любой зрительской аудитории                 NaN   \n",
       "\n",
       "      nonrefundable_support  budget financing_source  ratings  \\\n",
       "0                       NaN     NaN              NaN     7.20   \n",
       "1                       NaN     NaN              NaN     6.60   \n",
       "2                       NaN     NaN              NaN     6.80   \n",
       "3                       NaN     NaN              NaN     6.80   \n",
       "4                       NaN     NaN              NaN     6.80   \n",
       "...                     ...     ...              ...      ...   \n",
       "7481                    NaN     NaN              NaN      NaN   \n",
       "7482                    NaN     NaN              NaN     5.40   \n",
       "7483                    NaN     NaN              NaN      NaN   \n",
       "7484                    NaN     NaN              NaN      NaN   \n",
       "7485                    NaN     NaN              NaN     6.30   \n",
       "\n",
       "                         genres  box_office  \n",
       "0        боевик,драма,мелодрама         NaN  \n",
       "1                 драма,военный         NaN  \n",
       "2     фантастика,боевик,триллер         NaN  \n",
       "3     фантастика,боевик,триллер         NaN  \n",
       "4     фантастика,боевик,триллер         NaN  \n",
       "...                         ...         ...  \n",
       "7481                        NaN         NaN  \n",
       "7482             боевик,триллер         NaN  \n",
       "7483                        NaN         NaN  \n",
       "7484                        NaN         NaN  \n",
       "7485            комедия,вестерн         NaN  \n",
       "\n",
       "[7486 rows x 16 columns]"
      ]
     },
     "metadata": {},
     "output_type": "display_data"
    }
   ],
   "source": [
    "display(merged_data)"
   ]
  },
  {
   "cell_type": "code",
   "execution_count": 10,
   "metadata": {
    "colab": {
     "base_uri": "https://localhost:8080/"
    },
    "id": "TZ9QIFD-nXRc",
    "outputId": "89be7f52-9f8c-426d-eca3-81eef3fe299b"
   },
   "outputs": [
    {
     "name": "stdout",
     "output_type": "stream",
     "text": [
      "<class 'pandas.core.frame.DataFrame'>\n",
      "RangeIndex: 7486 entries, 0 to 7485\n",
      "Data columns (total 16 columns):\n",
      " #   Column                 Non-Null Count  Dtype              \n",
      "---  ------                 --------------  -----              \n",
      " 0   title                  7486 non-null   object             \n",
      " 1   puNumber               7485 non-null   Int64              \n",
      " 2   show_start_date        7486 non-null   datetime64[ns, UTC]\n",
      " 3   type                   7486 non-null   category           \n",
      " 4   film_studio            7468 non-null   object             \n",
      " 5   production_country     7484 non-null   object             \n",
      " 6   director               7477 non-null   object             \n",
      " 7   producer               6918 non-null   object             \n",
      " 8   age_restriction        7486 non-null   category           \n",
      " 9   refundable_support     332 non-null    float64            \n",
      " 10  nonrefundable_support  332 non-null    float64            \n",
      " 11  budget                 332 non-null    float64            \n",
      " 12  financing_source       332 non-null    category           \n",
      " 13  ratings                6519 non-null   float64            \n",
      " 14  genres                 6510 non-null   object             \n",
      " 15  box_office             3158 non-null   float64            \n",
      "dtypes: Int64(1), category(3), datetime64[ns, UTC](1), float64(5), object(6)\n",
      "memory usage: 790.4+ KB\n"
     ]
    }
   ],
   "source": [
    "merged_data.info()"
   ]
  },
  {
   "cell_type": "markdown",
   "metadata": {
    "id": "i0MOLbF-gFyP"
   },
   "source": [
    "#### Шаг 2.2. Изучите пропуски в датафрейме\n",
    "\n",
    "- Объясните, почему заполнили пропуски определённым образом или почему не стали этого делать."
   ]
  },
  {
   "cell_type": "code",
   "execution_count": 11,
   "metadata": {},
   "outputs": [
    {
     "data": {
      "text/plain": [
       "7486"
      ]
     },
     "execution_count": 11,
     "metadata": {},
     "output_type": "execute_result"
    }
   ],
   "source": [
    "# Комментарий ревьюера\n",
    "temp = merged_data.copy() # создаем копию датасета до преобразования\n",
    "len(temp)"
   ]
  },
  {
   "cell_type": "code",
   "execution_count": 12,
   "metadata": {
    "id": "8MJD_lkngFyP"
   },
   "outputs": [
    {
     "name": "stderr",
     "output_type": "stream",
     "text": [
      "C:\\Users\\ivano\\AppData\\Local\\Temp\\ipykernel_25400\\1364134147.py:2: FutureWarning: A value is trying to be set on a copy of a DataFrame or Series through chained assignment using an inplace method.\n",
      "The behavior will change in pandas 3.0. This inplace method will never work because the intermediate object on which we are setting values always behaves as a copy.\n",
      "\n",
      "For example, when doing 'df[col].method(value, inplace=True)', try using 'df.method({col: value}, inplace=True)' or df[col] = df[col].method(value) instead, to perform the operation inplace on the original object.\n",
      "\n",
      "\n",
      "  merged_data['film_studio'].fillna('Unknown', inplace=True)\n",
      "C:\\Users\\ivano\\AppData\\Local\\Temp\\ipykernel_25400\\1364134147.py:4: FutureWarning: A value is trying to be set on a copy of a DataFrame or Series through chained assignment using an inplace method.\n",
      "The behavior will change in pandas 3.0. This inplace method will never work because the intermediate object on which we are setting values always behaves as a copy.\n",
      "\n",
      "For example, when doing 'df[col].method(value, inplace=True)', try using 'df.method({col: value}, inplace=True)' or df[col] = df[col].method(value) instead, to perform the operation inplace on the original object.\n",
      "\n",
      "\n",
      "  merged_data['production_country'].fillna('Unknown', inplace=True)\n",
      "C:\\Users\\ivano\\AppData\\Local\\Temp\\ipykernel_25400\\1364134147.py:5: FutureWarning: A value is trying to be set on a copy of a DataFrame or Series through chained assignment using an inplace method.\n",
      "The behavior will change in pandas 3.0. This inplace method will never work because the intermediate object on which we are setting values always behaves as a copy.\n",
      "\n",
      "For example, when doing 'df[col].method(value, inplace=True)', try using 'df.method({col: value}, inplace=True)' or df[col] = df[col].method(value) instead, to perform the operation inplace on the original object.\n",
      "\n",
      "\n",
      "  merged_data['director'].fillna('Unknown', inplace=True)\n",
      "C:\\Users\\ivano\\AppData\\Local\\Temp\\ipykernel_25400\\1364134147.py:6: FutureWarning: A value is trying to be set on a copy of a DataFrame or Series through chained assignment using an inplace method.\n",
      "The behavior will change in pandas 3.0. This inplace method will never work because the intermediate object on which we are setting values always behaves as a copy.\n",
      "\n",
      "For example, when doing 'df[col].method(value, inplace=True)', try using 'df.method({col: value}, inplace=True)' or df[col] = df[col].method(value) instead, to perform the operation inplace on the original object.\n",
      "\n",
      "\n",
      "  merged_data['producer'].fillna('Unknown', inplace=True)\n",
      "C:\\Users\\ivano\\AppData\\Local\\Temp\\ipykernel_25400\\1364134147.py:7: FutureWarning: A value is trying to be set on a copy of a DataFrame or Series through chained assignment using an inplace method.\n",
      "The behavior will change in pandas 3.0. This inplace method will never work because the intermediate object on which we are setting values always behaves as a copy.\n",
      "\n",
      "For example, when doing 'df[col].method(value, inplace=True)', try using 'df.method({col: value}, inplace=True)' or df[col] = df[col].method(value) instead, to perform the operation inplace on the original object.\n",
      "\n",
      "\n",
      "  merged_data['genres'].fillna('Unknown', inplace=True)\n",
      "C:\\Users\\ivano\\AppData\\Local\\Temp\\ipykernel_25400\\1364134147.py:9: FutureWarning: A value is trying to be set on a copy of a DataFrame or Series through chained assignment using an inplace method.\n",
      "The behavior will change in pandas 3.0. This inplace method will never work because the intermediate object on which we are setting values always behaves as a copy.\n",
      "\n",
      "For example, when doing 'df[col].method(value, inplace=True)', try using 'df.method({col: value}, inplace=True)' or df[col] = df[col].method(value) instead, to perform the operation inplace on the original object.\n",
      "\n",
      "\n",
      "  merged_data['puNumber'].fillna(0, inplace=True)\n"
     ]
    }
   ],
   "source": [
    "# Заменить пропущенные значения в каждом из указанных столбцов\n",
    "merged_data['film_studio'].fillna('Unknown', inplace=True)\n",
    "merged_data['production_country'] = merged_data['production_country'].replace('2019', '')\n",
    "merged_data['production_country'].fillna('Unknown', inplace=True)\n",
    "merged_data['director'].fillna('Unknown', inplace=True)\n",
    "merged_data['producer'].fillna('Unknown', inplace=True)\n",
    "merged_data['genres'].fillna('Unknown', inplace=True)\n",
    "# Заменить пропущенные значения в столбце 'puNumber' на ноль\n",
    "merged_data['puNumber'].fillna(0, inplace=True)\n"
   ]
  },
  {
   "cell_type": "markdown",
   "metadata": {
    "id": "zm3-OekRz7zv"
   },
   "source": [
    "1. Он заменяет пропущенные значения в указанных столбцах датафрейма merged_data (например, 'film_studio', 'production_country', 'director', 'producer', 'genres', 'puNumber') на соответствующие значения. Значение 'Unknown' используется для строковых столбцов ('film_studio', 'production_country', 'director', 'producer', 'genres'), чтобы указать, что информация отсутствует или неизвестна.\n",
    "\n",
    "2. Значение 0 используется для столбца 'puNumber', чтобы указать на отсутствие информации о номере прокатного удостоверения. Таким образом, после выполнения этого кода пропущенных значений в этих столбцах больше не будет, и информация будет готова к использованию в дальнейших анализах или вычислениях.\n",
    "\n",
    "3. Для refundable_support,\tnonrefundable_support,\tbudget и financing_source\tне заполняем пропуски так как они означают что фильм без господдежки\n",
    "\n",
    "4. box_office суммы сборов не заполняем потому что фильмы не зависят друг от друга и заполнять средним или медианым значением приведет к не корректной информации"
   ]
  },
  {
   "cell_type": "code",
   "execution_count": 13,
   "metadata": {
    "colab": {
     "base_uri": "https://localhost:8080/",
     "height": 1000
    },
    "id": "oiCqwGI9z68W",
    "outputId": "c1922bb4-7c4b-420a-9a40-5a6582e4408a",
    "scrolled": true
   },
   "outputs": [
    {
     "data": {
      "text/html": [
       "<div>\n",
       "<style scoped>\n",
       "    .dataframe tbody tr th:only-of-type {\n",
       "        vertical-align: middle;\n",
       "    }\n",
       "\n",
       "    .dataframe tbody tr th {\n",
       "        vertical-align: top;\n",
       "    }\n",
       "\n",
       "    .dataframe thead th {\n",
       "        text-align: right;\n",
       "    }\n",
       "</style>\n",
       "<table border=\"1\" class=\"dataframe\">\n",
       "  <thead>\n",
       "    <tr style=\"text-align: right;\">\n",
       "      <th></th>\n",
       "      <th>title</th>\n",
       "      <th>puNumber</th>\n",
       "      <th>show_start_date</th>\n",
       "      <th>type</th>\n",
       "      <th>film_studio</th>\n",
       "      <th>production_country</th>\n",
       "      <th>director</th>\n",
       "      <th>producer</th>\n",
       "      <th>age_restriction</th>\n",
       "      <th>refundable_support</th>\n",
       "      <th>nonrefundable_support</th>\n",
       "      <th>budget</th>\n",
       "      <th>financing_source</th>\n",
       "      <th>ratings</th>\n",
       "      <th>genres</th>\n",
       "      <th>box_office</th>\n",
       "    </tr>\n",
       "  </thead>\n",
       "  <tbody>\n",
       "    <tr>\n",
       "      <th>0</th>\n",
       "      <td>Открытый простор</td>\n",
       "      <td>221048915</td>\n",
       "      <td>2015-11-27 12:00:00+00:00</td>\n",
       "      <td>Художественный</td>\n",
       "      <td>Тачстоун Пикчерз, Кобальт Пикчерз, Бикон Пикче...</td>\n",
       "      <td>США</td>\n",
       "      <td>Кевин Костнер</td>\n",
       "      <td>Дэвид Валдес, Кевин Костнер, Джейк Эбертс</td>\n",
       "      <td>«18+» - запрещено для детей</td>\n",
       "      <td>NaN</td>\n",
       "      <td>NaN</td>\n",
       "      <td>NaN</td>\n",
       "      <td>NaN</td>\n",
       "      <td>7.20</td>\n",
       "      <td>боевик,драма,мелодрама</td>\n",
       "      <td>NaN</td>\n",
       "    </tr>\n",
       "    <tr>\n",
       "      <th>1</th>\n",
       "      <td>Особо важное задание</td>\n",
       "      <td>111013716</td>\n",
       "      <td>2016-09-13 12:00:00+00:00</td>\n",
       "      <td>Художественный</td>\n",
       "      <td>Киностудия \"Мосфильм\"</td>\n",
       "      <td>СССР</td>\n",
       "      <td>Е.Матвеев</td>\n",
       "      <td>Unknown</td>\n",
       "      <td>«6+» - для детей старше 6 лет</td>\n",
       "      <td>NaN</td>\n",
       "      <td>NaN</td>\n",
       "      <td>NaN</td>\n",
       "      <td>NaN</td>\n",
       "      <td>6.60</td>\n",
       "      <td>драма,военный</td>\n",
       "      <td>NaN</td>\n",
       "    </tr>\n",
       "    <tr>\n",
       "      <th>2</th>\n",
       "      <td>Особо опасен</td>\n",
       "      <td>221038416</td>\n",
       "      <td>2016-10-10 12:00:00+00:00</td>\n",
       "      <td>Художественный</td>\n",
       "      <td>Юниверсал Пикчерз, Кикстарт Продакшнз, Марк Пл...</td>\n",
       "      <td>США</td>\n",
       "      <td>Тимур Бекмамбетов</td>\n",
       "      <td>Джим Лемли, Джейсон Нетер, Марк Е.Платт, Яйн Смит</td>\n",
       "      <td>«18+» - запрещено для детей</td>\n",
       "      <td>NaN</td>\n",
       "      <td>NaN</td>\n",
       "      <td>NaN</td>\n",
       "      <td>NaN</td>\n",
       "      <td>6.80</td>\n",
       "      <td>фантастика,боевик,триллер</td>\n",
       "      <td>NaN</td>\n",
       "    </tr>\n",
       "    <tr>\n",
       "      <th>3</th>\n",
       "      <td>Особо опасен</td>\n",
       "      <td>221026916</td>\n",
       "      <td>2016-06-10 12:00:00+00:00</td>\n",
       "      <td>Художественный</td>\n",
       "      <td>Юниверсал Пикчерз, Кикстарт Продакшнз, Марк Пл...</td>\n",
       "      <td>США</td>\n",
       "      <td>Тимур Бекмамбетов</td>\n",
       "      <td>Джим Лемли, Джейсон Нетер, Марк Е.Платт, Яйн Смит</td>\n",
       "      <td>«18+» - запрещено для детей</td>\n",
       "      <td>NaN</td>\n",
       "      <td>NaN</td>\n",
       "      <td>NaN</td>\n",
       "      <td>NaN</td>\n",
       "      <td>6.80</td>\n",
       "      <td>фантастика,боевик,триллер</td>\n",
       "      <td>NaN</td>\n",
       "    </tr>\n",
       "    <tr>\n",
       "      <th>4</th>\n",
       "      <td>Особо опасен</td>\n",
       "      <td>221030815</td>\n",
       "      <td>2015-07-29 12:00:00+00:00</td>\n",
       "      <td>Художественный</td>\n",
       "      <td>Юниверсал Пикчерз, Кикстарт Продакшнз, Марк Пл...</td>\n",
       "      <td>США</td>\n",
       "      <td>Тимур Бекмамбетов</td>\n",
       "      <td>Джим Лемли, Джейсон Нетер, Марк Е.Платт, Яйн Смит</td>\n",
       "      <td>«18+» - запрещено для детей</td>\n",
       "      <td>NaN</td>\n",
       "      <td>NaN</td>\n",
       "      <td>NaN</td>\n",
       "      <td>NaN</td>\n",
       "      <td>6.80</td>\n",
       "      <td>фантастика,боевик,триллер</td>\n",
       "      <td>NaN</td>\n",
       "    </tr>\n",
       "    <tr>\n",
       "      <th>...</th>\n",
       "      <td>...</td>\n",
       "      <td>...</td>\n",
       "      <td>...</td>\n",
       "      <td>...</td>\n",
       "      <td>...</td>\n",
       "      <td>...</td>\n",
       "      <td>...</td>\n",
       "      <td>...</td>\n",
       "      <td>...</td>\n",
       "      <td>...</td>\n",
       "      <td>...</td>\n",
       "      <td>...</td>\n",
       "      <td>...</td>\n",
       "      <td>...</td>\n",
       "      <td>...</td>\n",
       "      <td>...</td>\n",
       "    </tr>\n",
       "    <tr>\n",
       "      <th>7481</th>\n",
       "      <td>Сад художника: Американский импрессионизм</td>\n",
       "      <td>126008019</td>\n",
       "      <td>2019-12-23 12:00:00+00:00</td>\n",
       "      <td>Прочие</td>\n",
       "      <td>Севен Артс Продакшнз</td>\n",
       "      <td>Великобритания</td>\n",
       "      <td>Фил Грабски</td>\n",
       "      <td>Фил Грабски</td>\n",
       "      <td>«12+» - для детей старше 12 лет</td>\n",
       "      <td>NaN</td>\n",
       "      <td>NaN</td>\n",
       "      <td>NaN</td>\n",
       "      <td>NaN</td>\n",
       "      <td>NaN</td>\n",
       "      <td>Unknown</td>\n",
       "      <td>NaN</td>\n",
       "    </tr>\n",
       "    <tr>\n",
       "      <th>7482</th>\n",
       "      <td>Звериная ярость</td>\n",
       "      <td>121037819</td>\n",
       "      <td>2019-12-24 12:00:00+00:00</td>\n",
       "      <td>Художественный</td>\n",
       "      <td>Дэниел Гродник Продакшнз, Вандерфилм Медиа Кор...</td>\n",
       "      <td>США</td>\n",
       "      <td>Ник Пауэлл</td>\n",
       "      <td>Джефф Боулер, Дэниэл Гродник, Луильо Руис, Брэ...</td>\n",
       "      <td>«16+» - для детей старше 16 лет</td>\n",
       "      <td>NaN</td>\n",
       "      <td>NaN</td>\n",
       "      <td>NaN</td>\n",
       "      <td>NaN</td>\n",
       "      <td>5.40</td>\n",
       "      <td>боевик,триллер</td>\n",
       "      <td>NaN</td>\n",
       "    </tr>\n",
       "    <tr>\n",
       "      <th>7483</th>\n",
       "      <td>Щенячий патруль: Скорей спешим на помощь!</td>\n",
       "      <td>124010819</td>\n",
       "      <td>2019-12-28 12:00:00+00:00</td>\n",
       "      <td>Художественный</td>\n",
       "      <td>Никелодеон Анимейшн Студиос, Спин Мастер</td>\n",
       "      <td>США - Канада</td>\n",
       "      <td>Чарльз Е.Бастьен</td>\n",
       "      <td>Дженнифер Додж</td>\n",
       "      <td>«0+» - для любой зрительской аудитории</td>\n",
       "      <td>NaN</td>\n",
       "      <td>NaN</td>\n",
       "      <td>NaN</td>\n",
       "      <td>NaN</td>\n",
       "      <td>NaN</td>\n",
       "      <td>Unknown</td>\n",
       "      <td>NaN</td>\n",
       "    </tr>\n",
       "    <tr>\n",
       "      <th>7484</th>\n",
       "      <td>Машины песенки. Серия \"Испанские мотивы\"</td>\n",
       "      <td>124010619</td>\n",
       "      <td>2019-12-30 12:00:00+00:00</td>\n",
       "      <td>Анимационный</td>\n",
       "      <td>Анимаккорд Лтд., ООО Студия \"АНИМАККОРД\"</td>\n",
       "      <td>Республика Кипр, Россия</td>\n",
       "      <td>А.Беляев</td>\n",
       "      <td>Д.Ловейко</td>\n",
       "      <td>«0+» - для любой зрительской аудитории</td>\n",
       "      <td>NaN</td>\n",
       "      <td>NaN</td>\n",
       "      <td>NaN</td>\n",
       "      <td>NaN</td>\n",
       "      <td>NaN</td>\n",
       "      <td>Unknown</td>\n",
       "      <td>NaN</td>\n",
       "    </tr>\n",
       "    <tr>\n",
       "      <th>7485</th>\n",
       "      <td>Машины песенки. Серия \"Когда цветут кактусы\"</td>\n",
       "      <td>124010719</td>\n",
       "      <td>2019-12-30 12:00:00+00:00</td>\n",
       "      <td>Анимационный</td>\n",
       "      <td>Анимаккорд Лтд., ООО Студия \"АНИМАККОРД\"</td>\n",
       "      <td>Республика Кипр, Россия</td>\n",
       "      <td>И.Трусов</td>\n",
       "      <td>Д.Ловейко</td>\n",
       "      <td>«0+» - для любой зрительской аудитории</td>\n",
       "      <td>NaN</td>\n",
       "      <td>NaN</td>\n",
       "      <td>NaN</td>\n",
       "      <td>NaN</td>\n",
       "      <td>6.30</td>\n",
       "      <td>комедия,вестерн</td>\n",
       "      <td>NaN</td>\n",
       "    </tr>\n",
       "  </tbody>\n",
       "</table>\n",
       "<p>7486 rows × 16 columns</p>\n",
       "</div>"
      ],
      "text/plain": [
       "                                             title   puNumber  \\\n",
       "0                                 Открытый простор  221048915   \n",
       "1                             Особо важное задание  111013716   \n",
       "2                                     Особо опасен  221038416   \n",
       "3                                     Особо опасен  221026916   \n",
       "4                                     Особо опасен  221030815   \n",
       "...                                            ...        ...   \n",
       "7481     Сад художника: Американский импрессионизм  126008019   \n",
       "7482                               Звериная ярость  121037819   \n",
       "7483     Щенячий патруль: Скорей спешим на помощь!  124010819   \n",
       "7484      Машины песенки. Серия \"Испанские мотивы\"  124010619   \n",
       "7485  Машины песенки. Серия \"Когда цветут кактусы\"  124010719   \n",
       "\n",
       "               show_start_date             type  \\\n",
       "0    2015-11-27 12:00:00+00:00   Художественный   \n",
       "1    2016-09-13 12:00:00+00:00   Художественный   \n",
       "2    2016-10-10 12:00:00+00:00   Художественный   \n",
       "3    2016-06-10 12:00:00+00:00   Художественный   \n",
       "4    2015-07-29 12:00:00+00:00   Художественный   \n",
       "...                        ...              ...   \n",
       "7481 2019-12-23 12:00:00+00:00           Прочие   \n",
       "7482 2019-12-24 12:00:00+00:00   Художественный   \n",
       "7483 2019-12-28 12:00:00+00:00   Художественный   \n",
       "7484 2019-12-30 12:00:00+00:00     Анимационный   \n",
       "7485 2019-12-30 12:00:00+00:00     Анимационный   \n",
       "\n",
       "                                            film_studio  \\\n",
       "0     Тачстоун Пикчерз, Кобальт Пикчерз, Бикон Пикче...   \n",
       "1                                 Киностудия \"Мосфильм\"   \n",
       "2     Юниверсал Пикчерз, Кикстарт Продакшнз, Марк Пл...   \n",
       "3     Юниверсал Пикчерз, Кикстарт Продакшнз, Марк Пл...   \n",
       "4     Юниверсал Пикчерз, Кикстарт Продакшнз, Марк Пл...   \n",
       "...                                                 ...   \n",
       "7481                               Севен Артс Продакшнз   \n",
       "7482  Дэниел Гродник Продакшнз, Вандерфилм Медиа Кор...   \n",
       "7483           Никелодеон Анимейшн Студиос, Спин Мастер   \n",
       "7484           Анимаккорд Лтд., ООО Студия \"АНИМАККОРД\"   \n",
       "7485           Анимаккорд Лтд., ООО Студия \"АНИМАККОРД\"   \n",
       "\n",
       "           production_country           director  \\\n",
       "0                         США      Кевин Костнер   \n",
       "1                        СССР          Е.Матвеев   \n",
       "2                         США  Тимур Бекмамбетов   \n",
       "3                         США  Тимур Бекмамбетов   \n",
       "4                         США  Тимур Бекмамбетов   \n",
       "...                       ...                ...   \n",
       "7481           Великобритания        Фил Грабски   \n",
       "7482                      США         Ник Пауэлл   \n",
       "7483             США - Канада   Чарльз Е.Бастьен   \n",
       "7484  Республика Кипр, Россия           А.Беляев   \n",
       "7485  Республика Кипр, Россия           И.Трусов   \n",
       "\n",
       "                                               producer  \\\n",
       "0             Дэвид Валдес, Кевин Костнер, Джейк Эбертс   \n",
       "1                                               Unknown   \n",
       "2     Джим Лемли, Джейсон Нетер, Марк Е.Платт, Яйн Смит   \n",
       "3     Джим Лемли, Джейсон Нетер, Марк Е.Платт, Яйн Смит   \n",
       "4     Джим Лемли, Джейсон Нетер, Марк Е.Платт, Яйн Смит   \n",
       "...                                                 ...   \n",
       "7481                                        Фил Грабски   \n",
       "7482  Джефф Боулер, Дэниэл Гродник, Луильо Руис, Брэ...   \n",
       "7483                                     Дженнифер Додж   \n",
       "7484                                          Д.Ловейко   \n",
       "7485                                          Д.Ловейко   \n",
       "\n",
       "                             age_restriction  refundable_support  \\\n",
       "0                «18+» - запрещено для детей                 NaN   \n",
       "1              «6+» - для детей старше 6 лет                 NaN   \n",
       "2                «18+» - запрещено для детей                 NaN   \n",
       "3                «18+» - запрещено для детей                 NaN   \n",
       "4                «18+» - запрещено для детей                 NaN   \n",
       "...                                      ...                 ...   \n",
       "7481         «12+» - для детей старше 12 лет                 NaN   \n",
       "7482         «16+» - для детей старше 16 лет                 NaN   \n",
       "7483  «0+» - для любой зрительской аудитории                 NaN   \n",
       "7484  «0+» - для любой зрительской аудитории                 NaN   \n",
       "7485  «0+» - для любой зрительской аудитории                 NaN   \n",
       "\n",
       "      nonrefundable_support  budget financing_source  ratings  \\\n",
       "0                       NaN     NaN              NaN     7.20   \n",
       "1                       NaN     NaN              NaN     6.60   \n",
       "2                       NaN     NaN              NaN     6.80   \n",
       "3                       NaN     NaN              NaN     6.80   \n",
       "4                       NaN     NaN              NaN     6.80   \n",
       "...                     ...     ...              ...      ...   \n",
       "7481                    NaN     NaN              NaN      NaN   \n",
       "7482                    NaN     NaN              NaN     5.40   \n",
       "7483                    NaN     NaN              NaN      NaN   \n",
       "7484                    NaN     NaN              NaN      NaN   \n",
       "7485                    NaN     NaN              NaN     6.30   \n",
       "\n",
       "                         genres  box_office  \n",
       "0        боевик,драма,мелодрама         NaN  \n",
       "1                 драма,военный         NaN  \n",
       "2     фантастика,боевик,триллер         NaN  \n",
       "3     фантастика,боевик,триллер         NaN  \n",
       "4     фантастика,боевик,триллер         NaN  \n",
       "...                         ...         ...  \n",
       "7481                    Unknown         NaN  \n",
       "7482             боевик,триллер         NaN  \n",
       "7483                    Unknown         NaN  \n",
       "7484                    Unknown         NaN  \n",
       "7485            комедия,вестерн         NaN  \n",
       "\n",
       "[7486 rows x 16 columns]"
      ]
     },
     "metadata": {},
     "output_type": "display_data"
    }
   ],
   "source": [
    "display(merged_data)"
   ]
  },
  {
   "cell_type": "markdown",
   "metadata": {
    "id": "4c6k1t9ygFyQ"
   },
   "source": [
    "#### Шаг 2.3. Изучите дубликаты в датафрейме\n",
    "- Проверьте, есть ли в данных дубликаты. Опишите причины, которые могли повлиять на появление дублей."
   ]
  },
  {
   "cell_type": "code",
   "execution_count": 14,
   "metadata": {
    "colab": {
     "base_uri": "https://localhost:8080/"
    },
    "id": "aKck8RIdgFyQ",
    "outputId": "a049173e-b8d6-4894-cc98-dce2dd871b25"
   },
   "outputs": [
    {
     "name": "stdout",
     "output_type": "stream",
     "text": [
      "Строк дубликатов нет\n"
     ]
    }
   ],
   "source": [
    "# Проверить наличие дубликатов строк в данных.\n",
    "duplicates = merged_data.duplicated()\n",
    "\n",
    "# Если есть дубликаты, вывести их.\n",
    "if duplicates.any():\n",
    "    print(\"Найдены дубликаты:\")\n",
    "    print(merged_data[duplicates])\n",
    "else:\n",
    "    print(\"Строк дубликатов нет\")"
   ]
  },
  {
   "cell_type": "code",
   "execution_count": 15,
   "metadata": {},
   "outputs": [
    {
     "data": {
      "text/html": [
       "<div>\n",
       "<style scoped>\n",
       "    .dataframe tbody tr th:only-of-type {\n",
       "        vertical-align: middle;\n",
       "    }\n",
       "\n",
       "    .dataframe tbody tr th {\n",
       "        vertical-align: top;\n",
       "    }\n",
       "\n",
       "    .dataframe thead th {\n",
       "        text-align: right;\n",
       "    }\n",
       "</style>\n",
       "<table border=\"1\" class=\"dataframe\">\n",
       "  <thead>\n",
       "    <tr style=\"text-align: right;\">\n",
       "      <th></th>\n",
       "      <th>title</th>\n",
       "      <th>puNumber</th>\n",
       "      <th>show_start_date</th>\n",
       "      <th>type</th>\n",
       "      <th>film_studio</th>\n",
       "      <th>production_country</th>\n",
       "      <th>director</th>\n",
       "      <th>producer</th>\n",
       "      <th>age_restriction</th>\n",
       "      <th>refundable_support</th>\n",
       "      <th>nonrefundable_support</th>\n",
       "      <th>budget</th>\n",
       "      <th>financing_source</th>\n",
       "      <th>ratings</th>\n",
       "      <th>genres</th>\n",
       "      <th>box_office</th>\n",
       "    </tr>\n",
       "  </thead>\n",
       "  <tbody>\n",
       "    <tr>\n",
       "      <th>2</th>\n",
       "      <td>Особо опасен</td>\n",
       "      <td>221038416</td>\n",
       "      <td>2016-10-10 12:00:00+00:00</td>\n",
       "      <td>Художественный</td>\n",
       "      <td>Юниверсал Пикчерз, Кикстарт Продакшнз, Марк Пл...</td>\n",
       "      <td>США</td>\n",
       "      <td>Тимур Бекмамбетов</td>\n",
       "      <td>Джим Лемли, Джейсон Нетер, Марк Е.Платт, Яйн Смит</td>\n",
       "      <td>«18+» - запрещено для детей</td>\n",
       "      <td>NaN</td>\n",
       "      <td>NaN</td>\n",
       "      <td>NaN</td>\n",
       "      <td>NaN</td>\n",
       "      <td>6.80</td>\n",
       "      <td>фантастика,боевик,триллер</td>\n",
       "      <td>NaN</td>\n",
       "    </tr>\n",
       "    <tr>\n",
       "      <th>3</th>\n",
       "      <td>Особо опасен</td>\n",
       "      <td>221026916</td>\n",
       "      <td>2016-06-10 12:00:00+00:00</td>\n",
       "      <td>Художественный</td>\n",
       "      <td>Юниверсал Пикчерз, Кикстарт Продакшнз, Марк Пл...</td>\n",
       "      <td>США</td>\n",
       "      <td>Тимур Бекмамбетов</td>\n",
       "      <td>Джим Лемли, Джейсон Нетер, Марк Е.Платт, Яйн Смит</td>\n",
       "      <td>«18+» - запрещено для детей</td>\n",
       "      <td>NaN</td>\n",
       "      <td>NaN</td>\n",
       "      <td>NaN</td>\n",
       "      <td>NaN</td>\n",
       "      <td>6.80</td>\n",
       "      <td>фантастика,боевик,триллер</td>\n",
       "      <td>NaN</td>\n",
       "    </tr>\n",
       "    <tr>\n",
       "      <th>4</th>\n",
       "      <td>Особо опасен</td>\n",
       "      <td>221030815</td>\n",
       "      <td>2015-07-29 12:00:00+00:00</td>\n",
       "      <td>Художественный</td>\n",
       "      <td>Юниверсал Пикчерз, Кикстарт Продакшнз, Марк Пл...</td>\n",
       "      <td>США</td>\n",
       "      <td>Тимур Бекмамбетов</td>\n",
       "      <td>Джим Лемли, Джейсон Нетер, Марк Е.Платт, Яйн Смит</td>\n",
       "      <td>«18+» - запрещено для детей</td>\n",
       "      <td>NaN</td>\n",
       "      <td>NaN</td>\n",
       "      <td>NaN</td>\n",
       "      <td>NaN</td>\n",
       "      <td>6.80</td>\n",
       "      <td>фантастика,боевик,триллер</td>\n",
       "      <td>NaN</td>\n",
       "    </tr>\n",
       "    <tr>\n",
       "      <th>12</th>\n",
       "      <td>Малышка на миллион /По мотивам рассказов Ф.Х.Т...</td>\n",
       "      <td>221011415</td>\n",
       "      <td>2015-04-03 12:00:00+00:00</td>\n",
       "      <td>Художественный</td>\n",
       "      <td>Уорнер Бразерс, Лейкшор Интертейнмент, Малпасо...</td>\n",
       "      <td>США</td>\n",
       "      <td>Клинт Иствуд</td>\n",
       "      <td>Клинт Иствуд, Том Розенберг, Альберт С.Рудди, ...</td>\n",
       "      <td>«16+» - для детей старше 16 лет</td>\n",
       "      <td>NaN</td>\n",
       "      <td>NaN</td>\n",
       "      <td>NaN</td>\n",
       "      <td>NaN</td>\n",
       "      <td>8.10</td>\n",
       "      <td>драма,спорт</td>\n",
       "      <td>NaN</td>\n",
       "    </tr>\n",
       "    <tr>\n",
       "      <th>26</th>\n",
       "      <td>Оружейный барон</td>\n",
       "      <td>221012515</td>\n",
       "      <td>2015-04-03 12:00:00+00:00</td>\n",
       "      <td>Художественный</td>\n",
       "      <td>Вэ И Пэ Медиенфондс 3, Асендант Пикчерз, Сатур...</td>\n",
       "      <td>США - Франция - Турция</td>\n",
       "      <td>Эндрю Никкол</td>\n",
       "      <td>Норман Голуайтли, Энди Грош, Николас Кейдж, Эн...</td>\n",
       "      <td>«18+» - запрещено для детей</td>\n",
       "      <td>NaN</td>\n",
       "      <td>NaN</td>\n",
       "      <td>NaN</td>\n",
       "      <td>NaN</td>\n",
       "      <td>7.70</td>\n",
       "      <td>боевик,драма,криминал</td>\n",
       "      <td>NaN</td>\n",
       "    </tr>\n",
       "    <tr>\n",
       "      <th>...</th>\n",
       "      <td>...</td>\n",
       "      <td>...</td>\n",
       "      <td>...</td>\n",
       "      <td>...</td>\n",
       "      <td>...</td>\n",
       "      <td>...</td>\n",
       "      <td>...</td>\n",
       "      <td>...</td>\n",
       "      <td>...</td>\n",
       "      <td>...</td>\n",
       "      <td>...</td>\n",
       "      <td>...</td>\n",
       "      <td>...</td>\n",
       "      <td>...</td>\n",
       "      <td>...</td>\n",
       "      <td>...</td>\n",
       "    </tr>\n",
       "    <tr>\n",
       "      <th>7369</th>\n",
       "      <td>Невиновен</td>\n",
       "      <td>111019319</td>\n",
       "      <td>2019-11-07 12:00:00+00:00</td>\n",
       "      <td>Художественный</td>\n",
       "      <td>ООО \"Кавказфильм\"</td>\n",
       "      <td>Россия</td>\n",
       "      <td>А.Емкужев</td>\n",
       "      <td>А.Емкужев, А.Хуажева, ООО \"Корпорация Русская ...</td>\n",
       "      <td>«16+» - для детей старше 16 лет</td>\n",
       "      <td>NaN</td>\n",
       "      <td>NaN</td>\n",
       "      <td>NaN</td>\n",
       "      <td>NaN</td>\n",
       "      <td>7.50</td>\n",
       "      <td>триллер,детектив,криминал</td>\n",
       "      <td>NaN</td>\n",
       "    </tr>\n",
       "    <tr>\n",
       "      <th>7416</th>\n",
       "      <td>Отель \"Гранд Будапешт\"</td>\n",
       "      <td>121035119</td>\n",
       "      <td>2019-12-13 12:00:00+00:00</td>\n",
       "      <td>Художественный</td>\n",
       "      <td>Американ Эмпирикал, Индиан Пэинтбраш, Скотт Ру...</td>\n",
       "      <td>Германия, США</td>\n",
       "      <td>Уэс Андерсен</td>\n",
       "      <td>Уэс Андерсон, Джереми Доусон, Стивен Рейлс</td>\n",
       "      <td>«16+» - для детей старше 16 лет</td>\n",
       "      <td>NaN</td>\n",
       "      <td>NaN</td>\n",
       "      <td>NaN</td>\n",
       "      <td>NaN</td>\n",
       "      <td>7.90</td>\n",
       "      <td>комедия,приключения,детектив</td>\n",
       "      <td>NaN</td>\n",
       "    </tr>\n",
       "    <tr>\n",
       "      <th>7438</th>\n",
       "      <td>Зверь</td>\n",
       "      <td>121035919</td>\n",
       "      <td>2019-12-05 12:00:00+00:00</td>\n",
       "      <td>Художественный</td>\n",
       "      <td>Студио энд Нью</td>\n",
       "      <td>Южная Корея</td>\n",
       "      <td>Ли Джон-хо</td>\n",
       "      <td>Чан Гён-ик, Чон Джи-хун, Пэк Кён сук</td>\n",
       "      <td>«18+» - запрещено для детей</td>\n",
       "      <td>NaN</td>\n",
       "      <td>NaN</td>\n",
       "      <td>NaN</td>\n",
       "      <td>NaN</td>\n",
       "      <td>6.50</td>\n",
       "      <td>триллер,драма</td>\n",
       "      <td>175,003.51</td>\n",
       "    </tr>\n",
       "    <tr>\n",
       "      <th>7450</th>\n",
       "      <td>В тихом омуте</td>\n",
       "      <td>121036919</td>\n",
       "      <td>2019-12-09 12:00:00+00:00</td>\n",
       "      <td>Художественный</td>\n",
       "      <td>Хэд Гир Филмз, Крео Филмз, Локал Хироу, Метрол...</td>\n",
       "      <td>США</td>\n",
       "      <td>Адам Рэндолл</td>\n",
       "      <td>Мэтт Уолдек</td>\n",
       "      <td>«18+» - запрещено для детей</td>\n",
       "      <td>NaN</td>\n",
       "      <td>NaN</td>\n",
       "      <td>NaN</td>\n",
       "      <td>NaN</td>\n",
       "      <td>6.80</td>\n",
       "      <td>триллер,криминал,детектив</td>\n",
       "      <td>NaN</td>\n",
       "    </tr>\n",
       "    <tr>\n",
       "      <th>7474</th>\n",
       "      <td>Вторжение</td>\n",
       "      <td>111022519</td>\n",
       "      <td>2019-12-23 12:00:00+00:00</td>\n",
       "      <td>Художественный</td>\n",
       "      <td>ООО \"Арт Пикчерс Студия\", ООО \"Водород 2011\"</td>\n",
       "      <td>Россия</td>\n",
       "      <td>Ф.Бондарчук</td>\n",
       "      <td>Ф.Бондарчук, М.Врубель, А.Андрющенко, Д.Рудовский</td>\n",
       "      <td>«12+» - для детей старше 12 лет</td>\n",
       "      <td>100,000,000.00</td>\n",
       "      <td>400,000,000.00</td>\n",
       "      <td>944,000,000.00</td>\n",
       "      <td>Фонд кино</td>\n",
       "      <td>5.70</td>\n",
       "      <td>фантастика,боевик</td>\n",
       "      <td>NaN</td>\n",
       "    </tr>\n",
       "  </tbody>\n",
       "</table>\n",
       "<p>1272 rows × 16 columns</p>\n",
       "</div>"
      ],
      "text/plain": [
       "                                                  title   puNumber  \\\n",
       "2                                          Особо опасен  221038416   \n",
       "3                                          Особо опасен  221026916   \n",
       "4                                          Особо опасен  221030815   \n",
       "12    Малышка на миллион /По мотивам рассказов Ф.Х.Т...  221011415   \n",
       "26                                      Оружейный барон  221012515   \n",
       "...                                                 ...        ...   \n",
       "7369                                          Невиновен  111019319   \n",
       "7416                             Отель \"Гранд Будапешт\"  121035119   \n",
       "7438                                              Зверь  121035919   \n",
       "7450                                      В тихом омуте  121036919   \n",
       "7474                                          Вторжение  111022519   \n",
       "\n",
       "               show_start_date             type  \\\n",
       "2    2016-10-10 12:00:00+00:00   Художественный   \n",
       "3    2016-06-10 12:00:00+00:00   Художественный   \n",
       "4    2015-07-29 12:00:00+00:00   Художественный   \n",
       "12   2015-04-03 12:00:00+00:00   Художественный   \n",
       "26   2015-04-03 12:00:00+00:00   Художественный   \n",
       "...                        ...              ...   \n",
       "7369 2019-11-07 12:00:00+00:00   Художественный   \n",
       "7416 2019-12-13 12:00:00+00:00   Художественный   \n",
       "7438 2019-12-05 12:00:00+00:00   Художественный   \n",
       "7450 2019-12-09 12:00:00+00:00   Художественный   \n",
       "7474 2019-12-23 12:00:00+00:00   Художественный   \n",
       "\n",
       "                                            film_studio  \\\n",
       "2     Юниверсал Пикчерз, Кикстарт Продакшнз, Марк Пл...   \n",
       "3     Юниверсал Пикчерз, Кикстарт Продакшнз, Марк Пл...   \n",
       "4     Юниверсал Пикчерз, Кикстарт Продакшнз, Марк Пл...   \n",
       "12    Уорнер Бразерс, Лейкшор Интертейнмент, Малпасо...   \n",
       "26    Вэ И Пэ Медиенфондс 3, Асендант Пикчерз, Сатур...   \n",
       "...                                                 ...   \n",
       "7369                                  ООО \"Кавказфильм\"   \n",
       "7416  Американ Эмпирикал, Индиан Пэинтбраш, Скотт Ру...   \n",
       "7438                                     Студио энд Нью   \n",
       "7450  Хэд Гир Филмз, Крео Филмз, Локал Хироу, Метрол...   \n",
       "7474       ООО \"Арт Пикчерс Студия\", ООО \"Водород 2011\"   \n",
       "\n",
       "          production_country           director  \\\n",
       "2                        США  Тимур Бекмамбетов   \n",
       "3                        США  Тимур Бекмамбетов   \n",
       "4                        США  Тимур Бекмамбетов   \n",
       "12                       США       Клинт Иствуд   \n",
       "26    США - Франция - Турция       Эндрю Никкол   \n",
       "...                      ...                ...   \n",
       "7369                  Россия          А.Емкужев   \n",
       "7416           Германия, США       Уэс Андерсен   \n",
       "7438             Южная Корея         Ли Джон-хо   \n",
       "7450                     США       Адам Рэндолл   \n",
       "7474                  Россия        Ф.Бондарчук   \n",
       "\n",
       "                                               producer  \\\n",
       "2     Джим Лемли, Джейсон Нетер, Марк Е.Платт, Яйн Смит   \n",
       "3     Джим Лемли, Джейсон Нетер, Марк Е.Платт, Яйн Смит   \n",
       "4     Джим Лемли, Джейсон Нетер, Марк Е.Платт, Яйн Смит   \n",
       "12    Клинт Иствуд, Том Розенберг, Альберт С.Рудди, ...   \n",
       "26    Норман Голуайтли, Энди Грош, Николас Кейдж, Эн...   \n",
       "...                                                 ...   \n",
       "7369  А.Емкужев, А.Хуажева, ООО \"Корпорация Русская ...   \n",
       "7416         Уэс Андерсон, Джереми Доусон, Стивен Рейлс   \n",
       "7438               Чан Гён-ик, Чон Джи-хун, Пэк Кён сук   \n",
       "7450                                        Мэтт Уолдек   \n",
       "7474  Ф.Бондарчук, М.Врубель, А.Андрющенко, Д.Рудовский   \n",
       "\n",
       "                      age_restriction  refundable_support  \\\n",
       "2         «18+» - запрещено для детей                 NaN   \n",
       "3         «18+» - запрещено для детей                 NaN   \n",
       "4         «18+» - запрещено для детей                 NaN   \n",
       "12    «16+» - для детей старше 16 лет                 NaN   \n",
       "26        «18+» - запрещено для детей                 NaN   \n",
       "...                               ...                 ...   \n",
       "7369  «16+» - для детей старше 16 лет                 NaN   \n",
       "7416  «16+» - для детей старше 16 лет                 NaN   \n",
       "7438      «18+» - запрещено для детей                 NaN   \n",
       "7450      «18+» - запрещено для детей                 NaN   \n",
       "7474  «12+» - для детей старше 12 лет      100,000,000.00   \n",
       "\n",
       "      nonrefundable_support         budget financing_source  ratings  \\\n",
       "2                       NaN            NaN              NaN     6.80   \n",
       "3                       NaN            NaN              NaN     6.80   \n",
       "4                       NaN            NaN              NaN     6.80   \n",
       "12                      NaN            NaN              NaN     8.10   \n",
       "26                      NaN            NaN              NaN     7.70   \n",
       "...                     ...            ...              ...      ...   \n",
       "7369                    NaN            NaN              NaN     7.50   \n",
       "7416                    NaN            NaN              NaN     7.90   \n",
       "7438                    NaN            NaN              NaN     6.50   \n",
       "7450                    NaN            NaN              NaN     6.80   \n",
       "7474         400,000,000.00 944,000,000.00        Фонд кино     5.70   \n",
       "\n",
       "                            genres  box_office  \n",
       "2        фантастика,боевик,триллер         NaN  \n",
       "3        фантастика,боевик,триллер         NaN  \n",
       "4        фантастика,боевик,триллер         NaN  \n",
       "12                     драма,спорт         NaN  \n",
       "26           боевик,драма,криминал         NaN  \n",
       "...                            ...         ...  \n",
       "7369     триллер,детектив,криминал         NaN  \n",
       "7416  комедия,приключения,детектив         NaN  \n",
       "7438                 триллер,драма  175,003.51  \n",
       "7450     триллер,криминал,детектив         NaN  \n",
       "7474             фантастика,боевик         NaN  \n",
       "\n",
       "[1272 rows x 16 columns]"
      ]
     },
     "metadata": {},
     "output_type": "display_data"
    }
   ],
   "source": [
    "duplicated_titles = merged_data[merged_data['title'].duplicated(keep=False)]\n",
    "display(duplicated_titles)\n"
   ]
  },
  {
   "cell_type": "code",
   "execution_count": 16,
   "metadata": {},
   "outputs": [
    {
     "data": {
      "text/html": [
       "<div>\n",
       "<style scoped>\n",
       "    .dataframe tbody tr th:only-of-type {\n",
       "        vertical-align: middle;\n",
       "    }\n",
       "\n",
       "    .dataframe tbody tr th {\n",
       "        vertical-align: top;\n",
       "    }\n",
       "\n",
       "    .dataframe thead th {\n",
       "        text-align: right;\n",
       "    }\n",
       "</style>\n",
       "<table border=\"1\" class=\"dataframe\">\n",
       "  <thead>\n",
       "    <tr style=\"text-align: right;\">\n",
       "      <th></th>\n",
       "      <th>title</th>\n",
       "      <th>puNumber</th>\n",
       "      <th>show_start_date</th>\n",
       "      <th>type</th>\n",
       "      <th>film_studio</th>\n",
       "      <th>production_country</th>\n",
       "      <th>director</th>\n",
       "      <th>producer</th>\n",
       "      <th>age_restriction</th>\n",
       "      <th>refundable_support</th>\n",
       "      <th>nonrefundable_support</th>\n",
       "      <th>budget</th>\n",
       "      <th>financing_source</th>\n",
       "      <th>ratings</th>\n",
       "      <th>genres</th>\n",
       "      <th>box_office</th>\n",
       "    </tr>\n",
       "  </thead>\n",
       "  <tbody>\n",
       "    <tr>\n",
       "      <th>4638</th>\n",
       "      <td>Как жениться и остаться холостым</td>\n",
       "      <td>221154310</td>\n",
       "      <td>2010-12-17 12:00:00+00:00</td>\n",
       "      <td>Художественный</td>\n",
       "      <td>Ше Вам, Скрипт Ассосье, Тэ Фэ 1 Фильм Продюксь...</td>\n",
       "      <td>Франция</td>\n",
       "      <td>Эрик Лартиго</td>\n",
       "      <td>Амандин Било, Алан Шаба</td>\n",
       "      <td>«16+» - для детей старше 16 лет</td>\n",
       "      <td>NaN</td>\n",
       "      <td>NaN</td>\n",
       "      <td>NaN</td>\n",
       "      <td>NaN</td>\n",
       "      <td>7.00</td>\n",
       "      <td>мелодрама,комедия</td>\n",
       "      <td>NaN</td>\n",
       "    </tr>\n",
       "    <tr>\n",
       "      <th>4639</th>\n",
       "      <td>Иоанна - женщина на папском престоле /По роман...</td>\n",
       "      <td>221154310</td>\n",
       "      <td>2010-12-17 12:00:00+00:00</td>\n",
       "      <td>Художественный</td>\n",
       "      <td>Константин Фильм, А Эр Ди Дегето Фильм, Дюне ...</td>\n",
       "      <td>Германия - Великобритания - Италия - Испания</td>\n",
       "      <td>Зенке Вортманн</td>\n",
       "      <td>Оливер Бербен, Дорис Д.Хайнце, Фарук Элтан</td>\n",
       "      <td>«16+» - для детей старше 16 лет</td>\n",
       "      <td>NaN</td>\n",
       "      <td>NaN</td>\n",
       "      <td>NaN</td>\n",
       "      <td>NaN</td>\n",
       "      <td>7.60</td>\n",
       "      <td>драма,мелодрама,история</td>\n",
       "      <td>NaN</td>\n",
       "    </tr>\n",
       "    <tr>\n",
       "      <th>5067</th>\n",
       "      <td>Анализируй это!</td>\n",
       "      <td>221054410</td>\n",
       "      <td>2010-05-25 12:00:00+00:00</td>\n",
       "      <td>Художественный</td>\n",
       "      <td>Уорнер Бразерс, Вилладж Роудшоу Филмз ЛТД</td>\n",
       "      <td>США-Австралия</td>\n",
       "      <td>ХЭрольд Рэмис</td>\n",
       "      <td>Джейн Розенталь, Пола Уейнстейн</td>\n",
       "      <td>«16+» - для детей старше 16 лет</td>\n",
       "      <td>NaN</td>\n",
       "      <td>NaN</td>\n",
       "      <td>NaN</td>\n",
       "      <td>NaN</td>\n",
       "      <td>7.40</td>\n",
       "      <td>комедия,криминал</td>\n",
       "      <td>NaN</td>\n",
       "    </tr>\n",
       "    <tr>\n",
       "      <th>5068</th>\n",
       "      <td>Анализируй то!</td>\n",
       "      <td>221054410</td>\n",
       "      <td>2010-05-25 12:00:00+00:00</td>\n",
       "      <td>Художественный</td>\n",
       "      <td>Уорнер Бразерс, Виллидж Роадшоу Пикчерз, Эн-Пи...</td>\n",
       "      <td>США</td>\n",
       "      <td>Гарольд Реймис</td>\n",
       "      <td>Джейн Розенталь, Паул Уэйнстейн</td>\n",
       "      <td>«12+» - для детей старше 12 лет</td>\n",
       "      <td>NaN</td>\n",
       "      <td>NaN</td>\n",
       "      <td>NaN</td>\n",
       "      <td>NaN</td>\n",
       "      <td>6.80</td>\n",
       "      <td>комедия,криминал</td>\n",
       "      <td>NaN</td>\n",
       "    </tr>\n",
       "  </tbody>\n",
       "</table>\n",
       "</div>"
      ],
      "text/plain": [
       "                                                  title   puNumber  \\\n",
       "4638                   Как жениться и остаться холостым  221154310   \n",
       "4639  Иоанна - женщина на папском престоле /По роман...  221154310   \n",
       "5067                                    Анализируй это!  221054410   \n",
       "5068                                     Анализируй то!  221054410   \n",
       "\n",
       "               show_start_date            type  \\\n",
       "4638 2010-12-17 12:00:00+00:00  Художественный   \n",
       "4639 2010-12-17 12:00:00+00:00  Художественный   \n",
       "5067 2010-05-25 12:00:00+00:00  Художественный   \n",
       "5068 2010-05-25 12:00:00+00:00  Художественный   \n",
       "\n",
       "                                            film_studio  \\\n",
       "4638  Ше Вам, Скрипт Ассосье, Тэ Фэ 1 Фильм Продюксь...   \n",
       "4639   Константин Фильм, А Эр Ди Дегето Фильм, Дюне ...   \n",
       "5067          Уорнер Бразерс, Вилладж Роудшоу Филмз ЛТД   \n",
       "5068  Уорнер Бразерс, Виллидж Роадшоу Пикчерз, Эн-Пи...   \n",
       "\n",
       "                                production_country        director  \\\n",
       "4638                                       Франция    Эрик Лартиго   \n",
       "4639  Германия - Великобритания - Италия - Испания  Зенке Вортманн   \n",
       "5067                                 США-Австралия   ХЭрольд Рэмис   \n",
       "5068                                           США  Гарольд Реймис   \n",
       "\n",
       "                                        producer  \\\n",
       "4638                     Амандин Било, Алан Шаба   \n",
       "4639  Оливер Бербен, Дорис Д.Хайнце, Фарук Элтан   \n",
       "5067             Джейн Розенталь, Пола Уейнстейн   \n",
       "5068             Джейн Розенталь, Паул Уэйнстейн   \n",
       "\n",
       "                      age_restriction  refundable_support  \\\n",
       "4638  «16+» - для детей старше 16 лет                 NaN   \n",
       "4639  «16+» - для детей старше 16 лет                 NaN   \n",
       "5067  «16+» - для детей старше 16 лет                 NaN   \n",
       "5068  «12+» - для детей старше 12 лет                 NaN   \n",
       "\n",
       "      nonrefundable_support  budget financing_source  ratings  \\\n",
       "4638                    NaN     NaN              NaN     7.00   \n",
       "4639                    NaN     NaN              NaN     7.60   \n",
       "5067                    NaN     NaN              NaN     7.40   \n",
       "5068                    NaN     NaN              NaN     6.80   \n",
       "\n",
       "                       genres  box_office  \n",
       "4638        мелодрама,комедия         NaN  \n",
       "4639  драма,мелодрама,история         NaN  \n",
       "5067         комедия,криминал         NaN  \n",
       "5068         комедия,криминал         NaN  "
      ]
     },
     "metadata": {},
     "output_type": "display_data"
    }
   ],
   "source": [
    "duplicated_titles = merged_data[merged_data['puNumber'].duplicated(keep=False)]\n",
    "display(duplicated_titles)"
   ]
  },
  {
   "cell_type": "code",
   "execution_count": 17,
   "metadata": {
    "colab": {
     "base_uri": "https://localhost:8080/",
     "height": 1000
    },
    "id": "byvvRaoP3Oxl",
    "outputId": "6c9cc380-b051-4df5-b219-dbf28921f83a"
   },
   "outputs": [
    {
     "name": "stdout",
     "output_type": "stream",
     "text": [
      "Дубликатов нет\n"
     ]
    }
   ],
   "source": [
    "duplicated_titles = merged_data[merged_data[['puNumber', 'title']].duplicated(keep=False)]\n",
    "\n",
    "if duplicated_titles.empty:\n",
    "    print(\"Дубликатов нет\")\n",
    "else:\n",
    "    display(duplicated_titles)"
   ]
  },
  {
   "cell_type": "code",
   "execution_count": 18,
   "metadata": {},
   "outputs": [
    {
     "name": "stdout",
     "output_type": "stream",
     "text": [
      "7486 7486 0.0\n"
     ]
    }
   ],
   "source": [
    "# Комментарий ревьюера\n",
    "a, b = len(temp), len(merged_data)\n",
    "print(a, b, round((a-b)/a*100, 2))"
   ]
  },
  {
   "cell_type": "code",
   "execution_count": 19,
   "metadata": {
    "colab": {
     "base_uri": "https://localhost:8080/",
     "height": 1000
    },
    "id": "gCjYCU-l9vdh",
    "outputId": "53291ced-a4a5-433d-cc22-6e9b37255342"
   },
   "outputs": [
    {
     "data": {
      "text/html": [
       "<div>\n",
       "<style scoped>\n",
       "    .dataframe tbody tr th:only-of-type {\n",
       "        vertical-align: middle;\n",
       "    }\n",
       "\n",
       "    .dataframe tbody tr th {\n",
       "        vertical-align: top;\n",
       "    }\n",
       "\n",
       "    .dataframe thead th {\n",
       "        text-align: right;\n",
       "    }\n",
       "</style>\n",
       "<table border=\"1\" class=\"dataframe\">\n",
       "  <thead>\n",
       "    <tr style=\"text-align: right;\">\n",
       "      <th></th>\n",
       "      <th>title</th>\n",
       "      <th>puNumber</th>\n",
       "      <th>show_start_date</th>\n",
       "      <th>type</th>\n",
       "      <th>film_studio</th>\n",
       "      <th>production_country</th>\n",
       "      <th>director</th>\n",
       "      <th>producer</th>\n",
       "      <th>age_restriction</th>\n",
       "      <th>refundable_support</th>\n",
       "      <th>nonrefundable_support</th>\n",
       "      <th>budget</th>\n",
       "      <th>financing_source</th>\n",
       "      <th>ratings</th>\n",
       "      <th>genres</th>\n",
       "      <th>box_office</th>\n",
       "    </tr>\n",
       "  </thead>\n",
       "  <tbody>\n",
       "    <tr>\n",
       "      <th>0</th>\n",
       "      <td>Открытый простор</td>\n",
       "      <td>221048915</td>\n",
       "      <td>2015-11-27 12:00:00+00:00</td>\n",
       "      <td>Художественный</td>\n",
       "      <td>Тачстоун Пикчерз, Кобальт Пикчерз, Бикон Пикче...</td>\n",
       "      <td>США</td>\n",
       "      <td>Кевин Костнер</td>\n",
       "      <td>Дэвид Валдес, Кевин Костнер, Джейк Эбертс</td>\n",
       "      <td>«18+» - запрещено для детей</td>\n",
       "      <td>NaN</td>\n",
       "      <td>NaN</td>\n",
       "      <td>NaN</td>\n",
       "      <td>NaN</td>\n",
       "      <td>7.20</td>\n",
       "      <td>боевик,драма,мелодрама</td>\n",
       "      <td>NaN</td>\n",
       "    </tr>\n",
       "    <tr>\n",
       "      <th>1</th>\n",
       "      <td>Особо важное задание</td>\n",
       "      <td>111013716</td>\n",
       "      <td>2016-09-13 12:00:00+00:00</td>\n",
       "      <td>Художественный</td>\n",
       "      <td>Киностудия \"Мосфильм\"</td>\n",
       "      <td>СССР</td>\n",
       "      <td>Е.Матвеев</td>\n",
       "      <td>Unknown</td>\n",
       "      <td>«6+» - для детей старше 6 лет</td>\n",
       "      <td>NaN</td>\n",
       "      <td>NaN</td>\n",
       "      <td>NaN</td>\n",
       "      <td>NaN</td>\n",
       "      <td>6.60</td>\n",
       "      <td>драма,военный</td>\n",
       "      <td>NaN</td>\n",
       "    </tr>\n",
       "    <tr>\n",
       "      <th>2</th>\n",
       "      <td>Особо опасен</td>\n",
       "      <td>221038416</td>\n",
       "      <td>2016-10-10 12:00:00+00:00</td>\n",
       "      <td>Художественный</td>\n",
       "      <td>Юниверсал Пикчерз, Кикстарт Продакшнз, Марк Пл...</td>\n",
       "      <td>США</td>\n",
       "      <td>Тимур Бекмамбетов</td>\n",
       "      <td>Джим Лемли, Джейсон Нетер, Марк Е.Платт, Яйн Смит</td>\n",
       "      <td>«18+» - запрещено для детей</td>\n",
       "      <td>NaN</td>\n",
       "      <td>NaN</td>\n",
       "      <td>NaN</td>\n",
       "      <td>NaN</td>\n",
       "      <td>6.80</td>\n",
       "      <td>фантастика,боевик,триллер</td>\n",
       "      <td>NaN</td>\n",
       "    </tr>\n",
       "    <tr>\n",
       "      <th>3</th>\n",
       "      <td>Особо опасен</td>\n",
       "      <td>221026916</td>\n",
       "      <td>2016-06-10 12:00:00+00:00</td>\n",
       "      <td>Художественный</td>\n",
       "      <td>Юниверсал Пикчерз, Кикстарт Продакшнз, Марк Пл...</td>\n",
       "      <td>США</td>\n",
       "      <td>Тимур Бекмамбетов</td>\n",
       "      <td>Джим Лемли, Джейсон Нетер, Марк Е.Платт, Яйн Смит</td>\n",
       "      <td>«18+» - запрещено для детей</td>\n",
       "      <td>NaN</td>\n",
       "      <td>NaN</td>\n",
       "      <td>NaN</td>\n",
       "      <td>NaN</td>\n",
       "      <td>6.80</td>\n",
       "      <td>фантастика,боевик,триллер</td>\n",
       "      <td>NaN</td>\n",
       "    </tr>\n",
       "    <tr>\n",
       "      <th>4</th>\n",
       "      <td>Особо опасен</td>\n",
       "      <td>221030815</td>\n",
       "      <td>2015-07-29 12:00:00+00:00</td>\n",
       "      <td>Художественный</td>\n",
       "      <td>Юниверсал Пикчерз, Кикстарт Продакшнз, Марк Пл...</td>\n",
       "      <td>США</td>\n",
       "      <td>Тимур Бекмамбетов</td>\n",
       "      <td>Джим Лемли, Джейсон Нетер, Марк Е.Платт, Яйн Смит</td>\n",
       "      <td>«18+» - запрещено для детей</td>\n",
       "      <td>NaN</td>\n",
       "      <td>NaN</td>\n",
       "      <td>NaN</td>\n",
       "      <td>NaN</td>\n",
       "      <td>6.80</td>\n",
       "      <td>фантастика,боевик,триллер</td>\n",
       "      <td>NaN</td>\n",
       "    </tr>\n",
       "    <tr>\n",
       "      <th>...</th>\n",
       "      <td>...</td>\n",
       "      <td>...</td>\n",
       "      <td>...</td>\n",
       "      <td>...</td>\n",
       "      <td>...</td>\n",
       "      <td>...</td>\n",
       "      <td>...</td>\n",
       "      <td>...</td>\n",
       "      <td>...</td>\n",
       "      <td>...</td>\n",
       "      <td>...</td>\n",
       "      <td>...</td>\n",
       "      <td>...</td>\n",
       "      <td>...</td>\n",
       "      <td>...</td>\n",
       "      <td>...</td>\n",
       "    </tr>\n",
       "    <tr>\n",
       "      <th>7481</th>\n",
       "      <td>Сад художника: Американский импрессионизм</td>\n",
       "      <td>126008019</td>\n",
       "      <td>2019-12-23 12:00:00+00:00</td>\n",
       "      <td>Прочие</td>\n",
       "      <td>Севен Артс Продакшнз</td>\n",
       "      <td>Великобритания</td>\n",
       "      <td>Фил Грабски</td>\n",
       "      <td>Фил Грабски</td>\n",
       "      <td>«12+» - для детей старше 12 лет</td>\n",
       "      <td>NaN</td>\n",
       "      <td>NaN</td>\n",
       "      <td>NaN</td>\n",
       "      <td>NaN</td>\n",
       "      <td>NaN</td>\n",
       "      <td>Unknown</td>\n",
       "      <td>NaN</td>\n",
       "    </tr>\n",
       "    <tr>\n",
       "      <th>7482</th>\n",
       "      <td>Звериная ярость</td>\n",
       "      <td>121037819</td>\n",
       "      <td>2019-12-24 12:00:00+00:00</td>\n",
       "      <td>Художественный</td>\n",
       "      <td>Дэниел Гродник Продакшнз, Вандерфилм Медиа Кор...</td>\n",
       "      <td>США</td>\n",
       "      <td>Ник Пауэлл</td>\n",
       "      <td>Джефф Боулер, Дэниэл Гродник, Луильо Руис, Брэ...</td>\n",
       "      <td>«16+» - для детей старше 16 лет</td>\n",
       "      <td>NaN</td>\n",
       "      <td>NaN</td>\n",
       "      <td>NaN</td>\n",
       "      <td>NaN</td>\n",
       "      <td>5.40</td>\n",
       "      <td>боевик,триллер</td>\n",
       "      <td>NaN</td>\n",
       "    </tr>\n",
       "    <tr>\n",
       "      <th>7483</th>\n",
       "      <td>Щенячий патруль: Скорей спешим на помощь!</td>\n",
       "      <td>124010819</td>\n",
       "      <td>2019-12-28 12:00:00+00:00</td>\n",
       "      <td>Художественный</td>\n",
       "      <td>Никелодеон Анимейшн Студиос, Спин Мастер</td>\n",
       "      <td>США - Канада</td>\n",
       "      <td>Чарльз Е.Бастьен</td>\n",
       "      <td>Дженнифер Додж</td>\n",
       "      <td>«0+» - для любой зрительской аудитории</td>\n",
       "      <td>NaN</td>\n",
       "      <td>NaN</td>\n",
       "      <td>NaN</td>\n",
       "      <td>NaN</td>\n",
       "      <td>NaN</td>\n",
       "      <td>Unknown</td>\n",
       "      <td>NaN</td>\n",
       "    </tr>\n",
       "    <tr>\n",
       "      <th>7484</th>\n",
       "      <td>Машины песенки. Серия \"Испанские мотивы\"</td>\n",
       "      <td>124010619</td>\n",
       "      <td>2019-12-30 12:00:00+00:00</td>\n",
       "      <td>Анимационный</td>\n",
       "      <td>Анимаккорд Лтд., ООО Студия \"АНИМАККОРД\"</td>\n",
       "      <td>Республика Кипр, Россия</td>\n",
       "      <td>А.Беляев</td>\n",
       "      <td>Д.Ловейко</td>\n",
       "      <td>«0+» - для любой зрительской аудитории</td>\n",
       "      <td>NaN</td>\n",
       "      <td>NaN</td>\n",
       "      <td>NaN</td>\n",
       "      <td>NaN</td>\n",
       "      <td>NaN</td>\n",
       "      <td>Unknown</td>\n",
       "      <td>NaN</td>\n",
       "    </tr>\n",
       "    <tr>\n",
       "      <th>7485</th>\n",
       "      <td>Машины песенки. Серия \"Когда цветут кактусы\"</td>\n",
       "      <td>124010719</td>\n",
       "      <td>2019-12-30 12:00:00+00:00</td>\n",
       "      <td>Анимационный</td>\n",
       "      <td>Анимаккорд Лтд., ООО Студия \"АНИМАККОРД\"</td>\n",
       "      <td>Республика Кипр, Россия</td>\n",
       "      <td>И.Трусов</td>\n",
       "      <td>Д.Ловейко</td>\n",
       "      <td>«0+» - для любой зрительской аудитории</td>\n",
       "      <td>NaN</td>\n",
       "      <td>NaN</td>\n",
       "      <td>NaN</td>\n",
       "      <td>NaN</td>\n",
       "      <td>6.30</td>\n",
       "      <td>комедия,вестерн</td>\n",
       "      <td>NaN</td>\n",
       "    </tr>\n",
       "  </tbody>\n",
       "</table>\n",
       "<p>7486 rows × 16 columns</p>\n",
       "</div>"
      ],
      "text/plain": [
       "                                             title   puNumber  \\\n",
       "0                                 Открытый простор  221048915   \n",
       "1                             Особо важное задание  111013716   \n",
       "2                                     Особо опасен  221038416   \n",
       "3                                     Особо опасен  221026916   \n",
       "4                                     Особо опасен  221030815   \n",
       "...                                            ...        ...   \n",
       "7481     Сад художника: Американский импрессионизм  126008019   \n",
       "7482                               Звериная ярость  121037819   \n",
       "7483     Щенячий патруль: Скорей спешим на помощь!  124010819   \n",
       "7484      Машины песенки. Серия \"Испанские мотивы\"  124010619   \n",
       "7485  Машины песенки. Серия \"Когда цветут кактусы\"  124010719   \n",
       "\n",
       "               show_start_date             type  \\\n",
       "0    2015-11-27 12:00:00+00:00   Художественный   \n",
       "1    2016-09-13 12:00:00+00:00   Художественный   \n",
       "2    2016-10-10 12:00:00+00:00   Художественный   \n",
       "3    2016-06-10 12:00:00+00:00   Художественный   \n",
       "4    2015-07-29 12:00:00+00:00   Художественный   \n",
       "...                        ...              ...   \n",
       "7481 2019-12-23 12:00:00+00:00           Прочие   \n",
       "7482 2019-12-24 12:00:00+00:00   Художественный   \n",
       "7483 2019-12-28 12:00:00+00:00   Художественный   \n",
       "7484 2019-12-30 12:00:00+00:00     Анимационный   \n",
       "7485 2019-12-30 12:00:00+00:00     Анимационный   \n",
       "\n",
       "                                            film_studio  \\\n",
       "0     Тачстоун Пикчерз, Кобальт Пикчерз, Бикон Пикче...   \n",
       "1                                 Киностудия \"Мосфильм\"   \n",
       "2     Юниверсал Пикчерз, Кикстарт Продакшнз, Марк Пл...   \n",
       "3     Юниверсал Пикчерз, Кикстарт Продакшнз, Марк Пл...   \n",
       "4     Юниверсал Пикчерз, Кикстарт Продакшнз, Марк Пл...   \n",
       "...                                                 ...   \n",
       "7481                               Севен Артс Продакшнз   \n",
       "7482  Дэниел Гродник Продакшнз, Вандерфилм Медиа Кор...   \n",
       "7483           Никелодеон Анимейшн Студиос, Спин Мастер   \n",
       "7484           Анимаккорд Лтд., ООО Студия \"АНИМАККОРД\"   \n",
       "7485           Анимаккорд Лтд., ООО Студия \"АНИМАККОРД\"   \n",
       "\n",
       "           production_country           director  \\\n",
       "0                         США      Кевин Костнер   \n",
       "1                        СССР          Е.Матвеев   \n",
       "2                         США  Тимур Бекмамбетов   \n",
       "3                         США  Тимур Бекмамбетов   \n",
       "4                         США  Тимур Бекмамбетов   \n",
       "...                       ...                ...   \n",
       "7481           Великобритания        Фил Грабски   \n",
       "7482                      США         Ник Пауэлл   \n",
       "7483             США - Канада   Чарльз Е.Бастьен   \n",
       "7484  Республика Кипр, Россия           А.Беляев   \n",
       "7485  Республика Кипр, Россия           И.Трусов   \n",
       "\n",
       "                                               producer  \\\n",
       "0             Дэвид Валдес, Кевин Костнер, Джейк Эбертс   \n",
       "1                                               Unknown   \n",
       "2     Джим Лемли, Джейсон Нетер, Марк Е.Платт, Яйн Смит   \n",
       "3     Джим Лемли, Джейсон Нетер, Марк Е.Платт, Яйн Смит   \n",
       "4     Джим Лемли, Джейсон Нетер, Марк Е.Платт, Яйн Смит   \n",
       "...                                                 ...   \n",
       "7481                                        Фил Грабски   \n",
       "7482  Джефф Боулер, Дэниэл Гродник, Луильо Руис, Брэ...   \n",
       "7483                                     Дженнифер Додж   \n",
       "7484                                          Д.Ловейко   \n",
       "7485                                          Д.Ловейко   \n",
       "\n",
       "                             age_restriction  refundable_support  \\\n",
       "0                «18+» - запрещено для детей                 NaN   \n",
       "1              «6+» - для детей старше 6 лет                 NaN   \n",
       "2                «18+» - запрещено для детей                 NaN   \n",
       "3                «18+» - запрещено для детей                 NaN   \n",
       "4                «18+» - запрещено для детей                 NaN   \n",
       "...                                      ...                 ...   \n",
       "7481         «12+» - для детей старше 12 лет                 NaN   \n",
       "7482         «16+» - для детей старше 16 лет                 NaN   \n",
       "7483  «0+» - для любой зрительской аудитории                 NaN   \n",
       "7484  «0+» - для любой зрительской аудитории                 NaN   \n",
       "7485  «0+» - для любой зрительской аудитории                 NaN   \n",
       "\n",
       "      nonrefundable_support  budget financing_source  ratings  \\\n",
       "0                       NaN     NaN              NaN     7.20   \n",
       "1                       NaN     NaN              NaN     6.60   \n",
       "2                       NaN     NaN              NaN     6.80   \n",
       "3                       NaN     NaN              NaN     6.80   \n",
       "4                       NaN     NaN              NaN     6.80   \n",
       "...                     ...     ...              ...      ...   \n",
       "7481                    NaN     NaN              NaN      NaN   \n",
       "7482                    NaN     NaN              NaN     5.40   \n",
       "7483                    NaN     NaN              NaN      NaN   \n",
       "7484                    NaN     NaN              NaN      NaN   \n",
       "7485                    NaN     NaN              NaN     6.30   \n",
       "\n",
       "                         genres  box_office  \n",
       "0        боевик,драма,мелодрама         NaN  \n",
       "1                 драма,военный         NaN  \n",
       "2     фантастика,боевик,триллер         NaN  \n",
       "3     фантастика,боевик,триллер         NaN  \n",
       "4     фантастика,боевик,триллер         NaN  \n",
       "...                         ...         ...  \n",
       "7481                    Unknown         NaN  \n",
       "7482             боевик,триллер         NaN  \n",
       "7483                    Unknown         NaN  \n",
       "7484                    Unknown         NaN  \n",
       "7485            комедия,вестерн         NaN  \n",
       "\n",
       "[7486 rows x 16 columns]"
      ]
     },
     "metadata": {},
     "output_type": "display_data"
    }
   ],
   "source": [
    "display(merged_data)"
   ]
  },
  {
   "cell_type": "markdown",
   "metadata": {
    "id": "52fOPrEBgFyQ"
   },
   "source": [
    "#### Шаг 2.4. Изучите категориальные значения\n",
    "\n",
    "- Посмотрите, какая общая проблема встречается почти во всех категориальных столбцах;\n",
    "- Исправьте проблемные значения в поле `type`.\n",
    "\n",
    "<div id=\"accordion\">\n",
    "    <div class=\"card\">\n",
    "        <div class=\"card-header\" id=\"headingThree\">\n",
    "            <button class=\"btn btn-link collapsed\" data-toggle=\"collapse\" data-target=\"#collapseHint_1\" aria-expanded=\"false\" aria-controls=\"collapseHint_1\">Подсказка</button>\n",
    "        </div>\n",
    "        <div id=\"collapseHint_1\" class=\"collapse\" aria-labelledby=\"headingThree\" data-parent=\"#accordion\">\n",
    "            <div class=\"card-body\">\n",
    "В поле <code>type</code> есть несколько значений, у которых появился пробел в начале строки. Самый простой способ их «починить» -- использовать метод <a href=\"https://pandas.pydata.org/docs/reference/api/pandas.Series.str.strip.html#pandas.Series.str.strip\">.str.strip</a>. Этот метод удаляет все пробелы, которые встречаются в начале и в конце строки. Применяют его таким образом:<br>\n",
    "<code>df['type'].str.strip()</code>\n",
    "            </div>\n",
    "        </div>\n",
    "    </div>\n",
    "</div>"
   ]
  },
  {
   "cell_type": "code",
   "execution_count": 20,
   "metadata": {
    "colab": {
     "base_uri": "https://localhost:8080/"
    },
    "id": "F4FCY267A3Yt",
    "outputId": "58dd513e-a17f-4144-e25a-79739cd202ed"
   },
   "outputs": [
    {
     "name": "stdout",
     "output_type": "stream",
     "text": [
      "Столбец: type\n",
      "Уникальные значения: ['Художественный', 'Анимационный', 'Прочие', 'Документальный', 'Научно-популярный', ' Художественный', ' Анимационный', 'Музыкально-развлекательный']\n",
      "Categories (8, object): [' Анимационный', ' Художественный', 'Анимационный', 'Документальный', 'Музыкально-развлекательный', 'Научно-популярный', 'Прочие', 'Художественный']\n",
      "Количество уникальных значений: 8\n",
      "---\n",
      "Столбец: age_restriction\n",
      "Уникальные значения: ['«18+» - запрещено для детей', '«6+» - для детей старше 6 лет', '«12+» - для детей старше 12 лет', '«16+» - для детей старше 16 лет', '«0+» - для любой зрительской аудитории']\n",
      "Categories (5, object): ['«0+» - для любой зрительской аудитории', '«12+» - для детей старше 12 лет', '«16+» - для детей старше 16 лет', '«18+» - запрещено для детей', '«6+» - для детей старше 6 лет']\n",
      "Количество уникальных значений: 5\n",
      "---\n",
      "Столбец: financing_source\n",
      "Уникальные значения: [NaN, 'Министерство культуры', 'Фонд кино', 'Министерство культуры, Фонд кино']\n",
      "Categories (3, object): ['Министерство культуры', 'Министерство культуры, Фонд кино', 'Фонд кино']\n",
      "Количество уникальных значений: 3\n",
      "---\n"
     ]
    }
   ],
   "source": [
    "categorical_columns = merged_data.select_dtypes(include=['category']).columns\n",
    "\n",
    "for column in categorical_columns:\n",
    "    unique_values = merged_data[column].unique()\n",
    "    unique_count = merged_data[column].nunique()\n",
    "\n",
    "    print(f\"Столбец: {column}\")\n",
    "    print(f\"Уникальные значения: {unique_values}\")\n",
    "    print(f\"Количество уникальных значений: {unique_count}\")\n",
    "    print('---')\n"
   ]
  },
  {
   "cell_type": "code",
   "execution_count": 21,
   "metadata": {},
   "outputs": [
    {
     "name": "stdout",
     "output_type": "stream",
     "text": [
      "\n",
      "Колонка: title\n",
      "Уникальные значения до исправления: ['Открытый простор' 'Особо важное задание' 'Особо опасен' ...\n",
      " 'Щенячий патруль: Скорей спешим на помощь!'\n",
      " 'Машины песенки. Серия \"Испанские мотивы\"'\n",
      " 'Машины песенки. Серия \"Когда цветут кактусы\"']\n",
      "-----------------------------------\n",
      "Уникальные значения после исправления: ['открытый простор' 'особо важное задание' 'особо опасен' ...\n",
      " 'щенячий патруль: скорей спешим на помощь!'\n",
      " 'машины песенки. серия \"испанские мотивы\"'\n",
      " 'машины песенки. серия \"когда цветут кактусы\"']\n",
      "-----------------------------------\n",
      "\n",
      "Колонка: type\n",
      "Уникальные значения до исправления: ['Художественный', 'Анимационный', 'Прочие', 'Документальный', 'Научно-популярный', ' Художественный', ' Анимационный', 'Музыкально-развлекательный']\n",
      "Categories (8, object): [' Анимационный', ' Художественный', 'Анимационный', 'Документальный', 'Музыкально-развлекательный', 'Научно-популярный', 'Прочие', 'Художественный']\n",
      "-----------------------------------\n",
      "Уникальные значения после исправления: ['художественный' 'анимационный' 'прочие' 'документальный'\n",
      " 'научно, популярный' 'музыкально, развлекательный']\n",
      "-----------------------------------\n",
      "\n",
      "Колонка: film_studio\n",
      "Уникальные значения до исправления: ['Тачстоун Пикчерз, Кобальт Пикчерз, Бикон Пикчерз, Тиг Продакшнз'\n",
      " 'Киностудия \"Мосфильм\"'\n",
      " 'Юниверсал Пикчерз, Кикстарт Продакшнз, Марк Платт Продакшнз, Рилейтивити Медиа, Спайгласс Интертейнмент, Стилкин Филмз, Топ Кау Продакшнз'\n",
      " ...\n",
      " 'Дэниел Гродник Продакшнз, Вандерфилм Медиа Корпорэйшн, Импринт Интертейнмент, Вор Хорс Интертейнмент, Пимиента '\n",
      " 'Никелодеон Анимейшн Студиос, Спин Мастер'\n",
      " 'Анимаккорд Лтд., ООО Студия \"АНИМАККОРД\"']\n",
      "-----------------------------------\n",
      "Уникальные значения после исправления: ['тачстоун пикчерз,  кобальт пикчерз,  бикон пикчерз,  тиг продакшнз'\n",
      " 'киностудия \"мосфильм\"'\n",
      " 'юниверсал пикчерз,  кикстарт продакшнз,  марк платт продакшнз,  рилейтивити медиа,  спайгласс интертейнмент,  стилкин филмз,  топ кау продакшнз'\n",
      " ...\n",
      " 'дэниел гродник продакшнз,  вандерфилм медиа корпорэйшн,  импринт интертейнмент,  вор хорс интертейнмент,  пимиента'\n",
      " 'никелодеон анимейшн студиос,  спин мастер'\n",
      " 'анимаккорд лтд.,  ооо студия \"анимаккорд\"']\n",
      "-----------------------------------\n",
      "\n",
      "Колонка: production_country\n",
      "Уникальные значения до исправления: ['США' 'СССР' 'Франция' 'СССР, Венгрия' 'Германия-Великобритания'\n",
      " 'Великобритания - Италия' 'Чехословакия' 'США - Франция - Турция'\n",
      " 'Новая Зеландия' 'Канада - Франция - Испания' 'США-Германия'\n",
      " 'США - Великобритания' 'Великобритания' 'США - Германия'\n",
      " 'Франция - Мексика - США' 'Россия, Казахстан, США' 'СССР, Швеция'\n",
      " 'СССР, Франция, Англия, Куба, ГДР' 'Германия'\n",
      " 'Великобритания-США-Германия-КНР' 'СССР, ЧССР, Западный Берлин, ПНР'\n",
      " 'СССР, Италия' 'Гонконг, КНР' 'США - Франция'\n",
      " 'США - Япония - Франция - Великобритания'\n",
      " 'Гонконг - Сингапур - Таиланд - Великобритания' 'США-Канада'\n",
      " 'Франция - Италия - Великобритания - США' 'Франция - США'\n",
      " 'Ирландия-Великобритания-Германия' 'Чехия' 'США-Австралия'\n",
      " 'СССР, Финляндия' 'США-Франция-Великобритания-Австрия' 'США - Бельгия'\n",
      " 'США - Ирландия - Великобритания' 'Великобритания - США'\n",
      " 'Люксембург - Нидерланды - Испания - Великобритания - США - Италия'\n",
      " 'Великобритания - Франция - США' 'Новая Зеландия - США'\n",
      " 'США - Великобритания - Чехия' 'Канада - Франция - Великобритания'\n",
      " 'Ирландия' 'Великобритания - Германия - США'\n",
      " 'США - Франция - Великобритания' 'Япония' 'СССР, Польша'\n",
      " 'Франция - Испания' 'Канада-Франция' 'Германия - Италия - США'\n",
      " 'Аргентина - Бразилия' 'Дания - Швейцария - Бельгия - Франция'\n",
      " 'США - Испания' 'Германия - США'\n",
      " 'Франция - Австрия - Германия - Италия - США' 'Австрия'\n",
      " 'США - Канада - Германия' 'США - Канада' 'СССР - Швейцария - Франция'\n",
      " 'Россия - Казахстан' 'Гонконг' 'Италия' 'США - ОАЭ' 'Россия'\n",
      " 'США - Франция - Испания - Великобритания' 'Великобритания - Франция'\n",
      " 'США-Италия-Испания-Аргентина' 'Франция-Великобритания' 'КНР - Гонконг'\n",
      " 'Франция - Италия - Швейцария' 'США - Новая Зеландия' 'Франция - Бельгия'\n",
      " 'КНР' 'Германия - Великобритания - Австрия'\n",
      " 'Великобритания - Израиль - Франция - Япония - США' 'Швеция' 'Испания'\n",
      " 'Дания' 'Франция - Бельгия - Люксембург' 'США - Индия - ОАЭ'\n",
      " 'Германия-Канада-Великобритания-Швейцария-Франция' 'Мексика - Чили'\n",
      " 'Аргентина' 'Бразилия' 'Чили' 'Австралия' 'Португалия - Франция'\n",
      " 'США - ЮАР' 'Исландия-Ирландия-Германия' 'США-Индонезия' 'Южная Корея'\n",
      " 'Мексика - Испания - Дания - США' 'Великобритания-США' 'Франция - Италия'\n",
      " 'США-Франция' 'США - Венгрия - Великобритания' 'Бельгия-Франция-Италия'\n",
      " 'Чехия - Германия' 'Германия - Франция' 'США-Нидерланды' 'Украина'\n",
      " 'Великобритания - Германия' 'Франция-Бельгия' 'США-Франция-Испания'\n",
      " 'Италия - Франция' 'Канада' 'Швеция-Франция-Дания'\n",
      " 'Германия-Франция-Польша' 'Франция-Великобритания - Германия'\n",
      " 'США - Бразилия - Франция - Австралия - Великобритания - Германия'\n",
      " 'Германия-Австрия' 'Германия-Италия- Шри-Ланка'\n",
      " 'Великобритания - Испания' 'США - Великобритания - Канада - Швеция'\n",
      " 'Босния и Герцеговина - Франция - Великобритания - Германия - Словения - Бельгия - Сербия'\n",
      " 'Великобритания - Франция - Италия - США' 'США-ОАЭ' 'Испания - Франция'\n",
      " 'США-Великобритания' 'США-ЮАР' 'Великобритания-Австралия - США'\n",
      " 'Норвегия - Швеция - Дания - Германия' 'Норвегия' 'Швейцария'\n",
      " 'Греция - Германия - Франция' 'Норвения' 'Южная Корея - США'\n",
      " 'Чили - Франция - США' 'Австрия - Германия - Франция' 'Швеция - Дания'\n",
      " 'Великобритания - Франция - Бельгия - Италия' 'Франция - Германия'\n",
      " 'Грузия - Франция - Люксембург'\n",
      " 'США - Франция - Великобритания - Бразилия ' 'США - КНР'\n",
      " 'Мексика - Франция' 'США - Германия - Гонконг - Сингапур'\n",
      " 'Финляндия - Австрия - Россия' 'Испания - Куба' 'Великобритания - ЮАР'\n",
      " 'Великобритания - Ирландия' 'Израиль'\n",
      " 'Бразилия - Германия - Порртугалия - Франция '\n",
      " 'Франция - Канада - Бельгия' 'Франция-Испания'\n",
      " 'Испания - Канада - Япония' 'Иран' 'Швеция-Куба'\n",
      " 'США-Великобритания-Ирландия' 'Гонконг - КНР' 'Нидерланды'\n",
      " 'Испания - Канада' 'Япония-Великобритания'\n",
      " 'Великобритания - Норвегия - Дания - Германия'\n",
      " 'Финляндия - Франция - Германия'\n",
      " 'Мексика - Франция - Нидерланды - Германия' 'США - Индия'\n",
      " 'США-Великобритания-Индия' 'США-Канада-Бельгия' 'Республика Узбекистан'\n",
      " 'Италия ' 'Турция'\n",
      " 'Сербия - Словения - Хорватия - Черногория - Македония' 'Киргизия'\n",
      " 'Германия - Нидерланды - Беларусь - Россия - Латвия' 'Индия'\n",
      " 'Нидерланды - Россия - Германия'\n",
      " 'Великобритания - Нидерланды - Франция - Хорватия' 'Канада - Южная Корея'\n",
      " 'Великобритания - Польша - КНР - Индия - Норвегия'\n",
      " 'Япония - Франция - США - Южная Корея - Турция'\n",
      " 'Мексика - Аргентина - Великобритания' 'Израиль - Франция'\n",
      " 'Польша - Португалия - Франция - Великобритания' 'Австралия - США'\n",
      " 'США - Великобритания ' 'Франция - Люксембург - Бельгия' 'Армения'\n",
      " 'Бельгия - Люксембург - Франция - Швейцария'\n",
      " 'США - Великобритания - Канада' 'Норвегия - Швеция' 'Канада - Франция'\n",
      " 'КНР - Гонконг - США' 'США - Сингапур - Малайзия - Индонезия'\n",
      " 'Германия - Россия' 'Япония - Канада'\n",
      " 'Финляндия - Дания - Германия - Ирландия'\n",
      " 'Франция - Люксембург - Германия - Бельгия - Швейцария - Великобритания '\n",
      " 'Канада - США' 'США-Италия-Испания' 'США-Испания'\n",
      " 'США - Швейцария - Франция' 'Испания - США - Колумбия' 'Канада-ЮАР'\n",
      " 'Франция - Россия' 'Германия - Финляндия - Австралия' 'Дания - Швеция'\n",
      " 'Бельгия' 'Германия - Франция - Австрия' 'Франция-Индия' 'ЮАР'\n",
      " 'Франция-Перу' 'Франция - Канада' 'Республика Беларусь'\n",
      " 'Великобритания - Австрия - Франция - США' 'Австрия-Германия-Франция'\n",
      " 'США-Россия' 'Германия-США' 'США - Южная Корея' 'Канада - КНР'\n",
      " 'Дания - Швеция - Италия - Франция - Германия'\n",
      " 'Франция-Италия-Испания-Венгрия' 'Франция - Германия - Бельгия'\n",
      " 'Франция-Великобритания-Чехия' 'Румыния - Франция - Бельгия'\n",
      " 'Болгария - Франция - Изриль'\n",
      " 'Израиль - Германия - Польша - Бельгия - Франция - Люксембург'\n",
      " 'Россия, Германия, Франция, Бельгия' 'Индонезия' 'Франция - Португалия'\n",
      " 'Великобритания - Пуэрто-Рико' 'СССР, ФРГ, Западный Берлин'\n",
      " 'Россия, Республика Беларусь' 'США, Великобритания' 'Франция - Австрия'\n",
      " 'Бельгия-Нидерланды' 'Великобритания - США - Индия'\n",
      " 'США - Великобритания - Австралия'\n",
      " 'Канада - Франция - США - ОАЭ - Великобритания'\n",
      " 'США - Австралия - Франция'\n",
      " 'Дания-Франция-Бельгия-Германия-Великобритания' 'Испания - Аргентина'\n",
      " 'Исландия - Финляндия' 'Россия-Польша-Голландия-Словакия'\n",
      " 'Дания - Германия - Швеция' 'Южная Корея - США - Канада' 'Таиланд'\n",
      " 'США-Мальта' 'США -Германия'\n",
      " 'Великобритания - Германия - Франция - Кипр - США' 'Мексика'\n",
      " 'США - Великобритания - Ирландия' 'США - Украина'\n",
      " 'США - Финляндия - Испания - Великобритания - Франция'\n",
      " 'Австралия-Великобритания'\n",
      " 'США - Канада - Афганистан - Бельгия - Франция'\n",
      " 'США - Великобритания - Германия - Новая Зеландия - Бельгия - Франция'\n",
      " 'Франция-Канада'\n",
      " 'Ирландия - Финляндия - Бельгия - Великобритания - США - Швейцария'\n",
      " 'Малайзия - США' 'Германия - Италия' 'США - Франция - Бельгия - Италия'\n",
      " 'Франция - Ирландия - Швеция' 'Азербайджан-Россия'\n",
      " 'Великобритания - Италия - Швейцария' 'США - Германия - Великобритания'\n",
      " 'Германия - Бельгия - США -Франция' 'США-Китай' 'Чили - Испания'\n",
      " 'Франция - Швейцария' 'Канада - Испания' 'США - Румыния - Великобритания'\n",
      " 'США - Япония' 'США - Россия - Франция' 'Франция-США' 'Парагвай'\n",
      " 'Германия - Канада' 'США - Канада - Великобритания' 'Финляндия - Канада'\n",
      " 'Уругвай-Мексика-Германия ' 'США - Чили'\n",
      " 'Германия - Аргентина - Нидерланды - Чили' 'США - Канада - Индонезия'\n",
      " 'Армения - Казахстан' 'Финляндия' 'Испания - Италия - Франция'\n",
      " 'Бельгия - Испания - Канада - Нидерланды'\n",
      " 'Великобритания - Франция - Швеция - Бельгия'\n",
      " 'Мексика - Эквадор - Канада - США - Франция - Малайзия - Италия - Аргентина - Германия - Индия  '\n",
      " 'Франция - Бенльгия' 'Индия - Великобритания'\n",
      " 'Япония - Великобритания - Франция' 'Испания - Уругвай - Аргентина'\n",
      " 'Франция - Италия - Бельгия - Люксембург'\n",
      " 'Франция - Украина - Грузия - Армения' 'Сербия - Германия - Венгрия'\n",
      " 'Франция-Польша' 'Франция ' 'Румыния-США' 'Россия-Азербайджан'\n",
      " 'США - Нидерланды - Бельгия - Венгрия - Греция - Канада'\n",
      " 'Германия - Франция - Люксембург' 'США - Россия'\n",
      " 'Великобритания - США - Франция' 'США - Австралия - Дания'\n",
      " 'Бельгия-Франция' 'США-Мексика'\n",
      " 'Норвегия - Азербайджан - Россия - Колумбия - Великобритания - Венгрия - Румыния - Франция - Грузия'\n",
      " 'СЩА' 'Бразилия - Испания' 'Россия, Франция, Латвия'\n",
      " 'Нидерланды - США - Германия - Канада - Франция - Ирландия - Великобритания'\n",
      " 'Уругвай - Колумбия' 'США - Испания - Болгария' 'Армения - Германия'\n",
      " 'США - Великобритания- Франция - Швеция' 'США - Мексика'\n",
      " 'Австралия-Турция-США' 'Швеция - Германия' 'Польша - Италия - Россия'\n",
      " 'Франция - Бразилия' 'США - Канада - КНР' 'СССР, Венгрия, ЧССР, ГДР'\n",
      " 'Бельгия - Германия - Люксембург' 'СССР  ' 'СССР ' ' СССР '\n",
      " 'США - Австралия' 'Бразилия - США' 'США - Великобритания - Канада - КНР'\n",
      " 'Франция - Чили'\n",
      " 'Франция - США - Великобритания - Колумбия - Бельгия - Россия'\n",
      " 'Дания - Великобритания - ЮАР' 'СССР   ' 'Россия-США-Канада-Люксембург'\n",
      " 'Россия - Республика Кипр' 'Германия - США - Швеция - Франция'\n",
      " 'Великобритания-Германия-Канада-ЮАР' ' СССР   ' 'СССР     '\n",
      " 'Ирландия, Канада'\n",
      " 'Япония - Великобритания - Швейцария - Ирландия - Дания - Франция - Польша - Австралия - Канада  '\n",
      " 'Великобритания, Канада' 'Бельгия - США' 'Великобритания - США - Россия'\n",
      " 'Россия-Украина' 'Германия - США - Великобритания - Израиль'\n",
      " 'Канада - Германия' 'США- Ю.Корея' 'Индия - Мексика'\n",
      " 'Великобритания - Франция - Республика Кипр - Швейцария - США - Сербия'\n",
      " 'Испания - Аргентина - Индия - США'\n",
      " 'Норвегия - Исландия - США - Великобритания '\n",
      " 'Турция - Германя - Франция' 'Германия - Великобритания'\n",
      " 'Австралия - Германия' 'Мексика - Испания'\n",
      " 'Великобритания - США - Германия - Бельгия' 'США - Чехия - Франция'\n",
      " 'Россия - Италия' 'Франция-Россия' 'Норвегия - Дания - Швеция'\n",
      " 'Франция - Швейцария - Германия' 'Грузия - Украина'\n",
      " 'Россия - Эстония - Финляндия - Беларусь' 'США - Франция - ЮАР'\n",
      " 'Великобритания - США - Швейцария' 'Канада-США'\n",
      " 'Мексика - Нидерланды - Германия - Франция' 'США - Испания - Франция'\n",
      " 'США - Великобритания - КНР' 'США-Франция-Канада'\n",
      " 'Япония, Великобритания, Австрия, Германия, Ю.Корея'\n",
      " 'Великобритания - Ирландия - США' 'Бельгия - Италия - Франция '\n",
      " 'Швейцария-Германия-ЮАР' 'Великобритания - США - Германия'\n",
      " 'Германия - Исландия' 'Испания - США' 'СССР    ' 'Хорватия'\n",
      " 'Финляндия - Исландия - Швеция' 'Канада - США - Германия - Франция'\n",
      " 'США - Великобритания - Испания' 'Ирландия-Великобритания'\n",
      " 'Аргентина - Испания' 'Австрия - Германия' ' СССР'\n",
      " 'Германия - Швейцария - Франция - Южная Корея - США'\n",
      " 'Украина - Нидерланды' 'Венгрия - Германия - Швеция'\n",
      " 'Германия - Франция -  Польша - Турция - Канада - Италия - Россия '\n",
      " 'СССР, Афганистан' 'СССР, Монголия' 'Россия-Кипр'\n",
      " 'Россия, Грузия, Испания'\n",
      " 'Великобритания - Нидерланды - Германия - Франция - Бельгия - Австрия '\n",
      " 'Испания - Великобритания - Франция' 'Дания - Норвегия - Великобритания'\n",
      " 'Бельгия - Франция - Люксембург'\n",
      " 'Италия - Франция - Швейцария - Великобритания'\n",
      " 'Франция - Бельгия - Великобритания - Испания - Германия - США'\n",
      " 'Швейцария - Израиль - Франция - Великобритания'\n",
      " 'Великобритания - США - Канада - Нидерланды - Франция' 'Россия, Италия'\n",
      " 'СССР, Албания' 'Россия, Украина, Республика Беларусь, Литва'\n",
      " 'Финляндия - Великобритания - Германия' 'Россия, Украина, Польша'\n",
      " 'Франция - Италия - Бельгия - КНР'\n",
      " 'Германия - Бельгия - Люксембург - Ирландия' 'КНР - Сингапур'\n",
      " 'Франция - Бельгия - Великобритания - США - Нидерланды - Канада'\n",
      " 'США - Россия - Польша - Германия - Пуэрто Рико'\n",
      " 'Франция - Бельгия - Канада' 'США ' 'Мексика - США'\n",
      " 'США - Гонконг - КНР ' 'Греция - Россия'\n",
      " 'Ирландия - Дания - Бельгия - Люксембург - Франция' 'Эстония - Россия'\n",
      " 'Великобритания - Исландия - Испания - Швейцария - США'\n",
      " 'Австралия - Великобритания - Бельгия - Индия'\n",
      " 'Швеция - Германия - Франция - Норвегия'\n",
      " 'Нидерланды - Бельгия - Германия - Ирландия'\n",
      " 'Нидерланды - Великобритания - Бельгия' 'США - Колумбия - Испания'\n",
      " 'Франция-Испания-Бельгия-Панама' 'США-Великобритания-Чехия-Румыния'\n",
      " 'Аргентина - Уругвай - Россия - Германия - Франция - Нидерланды'\n",
      " 'Швеция - Франция - Норвегия - Дания' 'Италия-Франция-Великобритания'\n",
      " 'Великобритания, Франция' 'Австралия, США' 'Венесуэла'\n",
      " 'Великобритания - США - Австралия - Ирландия - Германия - Куба - Канада'\n",
      " 'Южная Корея - КНР' 'Аргентина - Мексика - Бразилия - Франция - США'\n",
      " 'Швеция - США' 'Франция - Германия - Турция - Катар' 'Франция-Китай'\n",
      " 'Россия, Германия, Великобритания' 'Великобритания - Италия - Испания'\n",
      " 'Италия - Россия' 'Япония - КНР - Южная Корея' 'Россия, Германия'\n",
      " 'Россия-Ирландия' 'Македония - Франция - Великобритания'\n",
      " 'Франция - Бразилия - Италия' 'Россия-США' 'Армения-Россия'\n",
      " 'Россия, Румыния' 'Франция -  Бельгия' 'Грузия-Франция' 'ЮАР - США'\n",
      " 'Великобритания-США-Франция'\n",
      " 'Великобритания - США - Германия - Канада - Австралия' 'США-Ирландия'\n",
      " 'Россия, Республика Кипр' 'Германия - Люксембург - Франция'\n",
      " 'Россия-Франция' 'США - Нидерланды - Финляндия - Великобритания - Италия'\n",
      " 'Республика Кипр' 'Венгрия' 'Франция - США - Норвегия - Дания'\n",
      " 'Германия - Австрия - Ирландия' 'США - Финляндия' 'Италия-Великобритания'\n",
      " 'Россия, Испания' 'США - Великобритания - Болгария'\n",
      " 'Великобритания - Люксембург' 'Индия - США'\n",
      " 'США - Канада - Россия - Франция - Чили - Ирландия' 'Грузия-Россия'\n",
      " 'Дания - Австрия - Ирландия - Финляндия - Норвегия - Швеция - Нидерланды'\n",
      " 'США-КНР' 'Грузия' 'Австралия - Ирландия' 'Великобритания - Канада'\n",
      " 'Италия - Аргентина - Словения '\n",
      " 'Испания - Франция - Нидерланды - Германия - Бельгия - Великобритания - Канада'\n",
      " 'Франция - Чехия - Бельгия' 'Великобритания - Франция - Германия - США'\n",
      " 'Ирландия - Великобритания - Франция - США - Германия - Нидерланды'\n",
      " 'США - Канада - Япония - КНР' 'Италия-Франция'\n",
      " 'США - Великобритания - Исландия' 'Великобритания-Франция'\n",
      " 'Франция - Германия - Нидерланды' 'Иран '\n",
      " 'Франция - Германия - Швеция - США - Чехия - Словакия - Великобритания - Нидерланды'\n",
      " 'Франция - Канада - Н.Зеландия - США - Нидерланды - Германия - Швеция - Россия'\n",
      " 'Турция - США'\n",
      " 'Великобритания - США - Канада - Бельгия - Нидерланды - Австрия - Германия'\n",
      " 'Израиль - Франция - Германия - Палестина - США - Австрия - Великобритания'\n",
      " 'Аргентина - Франция - Испания' 'СССР, Россия'\n",
      " 'Великобритания - Франция - Италия - Индия - Дания - КНР - Бангладеш - Камбоджа - Гаити - Уганда'\n",
      " 'Италия - Франция - Швейцария' 'Ирландия - Великобритания - Канада'\n",
      " 'Перу' 'США - Норвегия' 'Испания-Канада' 'Китай-Гонконг'\n",
      " 'США - Германия - КНР' 'Великобритания - Новая Зеландия'\n",
      " 'Франция - Дания - Швеция - КНР'\n",
      " 'США - Великобритания - Германия - Бельгия - Дания'\n",
      " 'США - Франция - Канада - Германия - Австралия - Индия' 'Unknown'\n",
      " 'СССР, Румыния, Франция' 'СССР, ГДР' 'Австралия-Ирландия' 'США - Китай'\n",
      " 'Великобритания - Франция - Австрия - Швеция' 'Россия, Таджикистан'\n",
      " 'Нидерланды - Бельгия - Болгария' 'Великобритания - Канада - США'\n",
      " 'Франция - Бельгия - Испания' 'Китай-Гонконг-США'\n",
      " 'Франция - Великобритания' 'США - Вьетнам' 'США - Германия - Франция'\n",
      " 'Германия - Франция - Бельгия' 'США - Италия'\n",
      " 'Германия - Дания - Испания - Швеция - Канада - Эстония - Франция'\n",
      " 'Княжество Андорра - Украина' 'Германия - Люксембург - Бельгия'\n",
      " 'Великобритания - Россия - Украина - США'\n",
      " 'Германия - Бельгия - Люксембург - Норвегия'\n",
      " 'США - Австралия - Новая Зеландия - Великобритания'\n",
      " 'США - Франция - Канада - Великобритания' 'Испания-Колумбия'\n",
      " 'Великобритания - Чехия - Франция' 'Россия, Украина' 'Исландия'\n",
      " 'Великобритания - Франция - Венгрия' 'Россия, Франция, Германия, Бельгия'\n",
      " 'Франция - Македония'\n",
      " 'Нидерланды - Франция - Германия - Бельгия - Швеция - Великобритания'\n",
      " 'Испания - США - Великобритания - Канада' 'Германия - Австрия'\n",
      " 'Республика Казахстан' 'Франция - Испания - Дания - Венгрия - Швейцария'\n",
      " 'Франция-КНР' 'США - Пуэрто-Рико - Франция ' 'Мексика - Тайвань - США'\n",
      " 'Великобритания - Испания - Непал - Индия - Венгрия - Гонконг - Германия - Дания - Бахрейн'\n",
      " 'Великобритания - Аргентина - США - Франция - Россия - Испания'\n",
      " 'КНР - США' 'Италия - США' 'Финляндия - Швеция - Германия'\n",
      " 'Канада- Испания' 'Франция - Бельгия - Чехия' 'Франция-Бельгия-Канада'\n",
      " 'Франция - Германия - США' 'США - Дания' 'Индия - КНР'\n",
      " 'Чехия-Великобритания-США' 'США-ФРГ-Россия'\n",
      " 'Ирландия-Нидерланды-Франция-США-Великобритания'\n",
      " 'Россия, Грузия, Хорватия, Испания' 'Финляндия - Швеция - Норвегия'\n",
      " 'Сербия - Великобритания - США'\n",
      " 'США - Великобритания - Франция - Гонконг' 'Швейцария - Франция'\n",
      " 'Швейцария - Великобритания' 'ОАЭ - США'\n",
      " 'США - Франция - Германия - Канада - Австралия ' 'Германия - Австралия'\n",
      " 'Иран, Франция' 'США - Великобритания - Новая Зеландия' 'США-Колумбия'\n",
      " 'США-Франция-Ирландия' 'Великобритания - Франция - Бельгия'\n",
      " 'США - Великобритания - Япония' 'США - Франция - Германия'\n",
      " 'Польша - Ирландия' 'Ирландия - Великобритания - Франция - США'\n",
      " 'США - Бельгия - Великобритания' 'СССР, ВНР'\n",
      " 'Испания - Франция - США - Великобритания - Бельгия'\n",
      " 'Франция - Дания - США' 'США - Гонконг' 'Бразилия - К;анада'\n",
      " 'Франция-Германия' 'США - Колумбия'\n",
      " 'США - Ирландия - Великобритания - Франция'\n",
      " 'Великобритания - США - Канада' 'Польша - Франция'\n",
      " 'Канада - США - Нидерланды - Великобритания - Аргентина'\n",
      " 'Великобритания - Дания' 'Франция - Бельгия - Япония' 'Россия,  Испания'\n",
      " 'Франция -Бельгия' 'США - Канада - Германия - Франция'\n",
      " 'США-Канада-Франция' 'Россия - Германия' 'Россия-Италия'\n",
      " 'Китай - Гонконг' 'Германия-Австрия-Франция-Италия' 'США-Япония'\n",
      " 'США - Германия - Канада' 'Испания-Мексика'\n",
      " 'США - Япония - Канада - Великобритания - Германия - Франция'\n",
      " 'США -Великобритания - Австралия' 'Россия-Украина-Германия'\n",
      " 'Израиль - Франция - Великобритания - Германия' 'Корея'\n",
      " 'Россия - Болгария' 'США-Индия' 'Германия-Канада-Франция-Бельгия'\n",
      " 'Германия-Кения' 'Франция - Монако' 'Франция-Испания-Швейцария'\n",
      " 'Австрия-Франция-Германия' 'Румыния' 'США-Великобритания-Франция'\n",
      " 'Канада-Великобритания' 'Канада-Бразилия-Япония'\n",
      " 'Германия - Дания - Норвегия' 'Дания - Германия' 'СССР - Италия'\n",
      " 'СССР - ГДР - Польша - Италия' 'США - Испания - Франция - Великобритания'\n",
      " 'Китай' 'Мексика-Аргентина'\n",
      " 'Германия - Великобритания - Италия - Испания'\n",
      " 'Франция-Германия-Великобритания' 'Россия - Германия - Швейцария'\n",
      " 'Франция-Австралия' 'Голландия' 'Швейцария-Франция' 'Россия-Белоруссия'\n",
      " 'Франция - Испания - Тайвань' 'США-Южная Корея-Новая Зеландия'\n",
      " 'Великобритания-Венгрия' 'Россия-Германия'\n",
      " 'Великобритания-Франция-Германия' 'Франция-Германия-Италия'\n",
      " 'Швеция-Финляндия-Франция-Норвегия' 'Франция-Италия' 'Германия-Израиль'\n",
      " 'Швеция - Германия - Дания - Норвегия' 'США-Бельгия'\n",
      " 'Франция-Гонконг-Ирландия' 'Эстония' 'Литва-Россия-Украина'\n",
      " 'Германия - Италия - Франция' 'Великобритания - Австрия - Германия'\n",
      " 'Бельгия - Франция' 'Россия-Казахстан' 'Испания - Мальта'\n",
      " 'Франция-Россия-Румыния-Италия-Бельгия' 'Россия - Польша'\n",
      " 'Испания - Мексика' 'США-Аргентина' 'Великобритания '\n",
      " 'Израиль-США-Франция' 'США - Новая Зеландия - Япония'\n",
      " 'Франция - Чехия - Великобритания' 'Россия-Польша'\n",
      " 'Германия-Франция-Великобритания' 'США-Германия-Канада'\n",
      " 'США-Гонконг-Китай' 'США - Великобритания - Германия'\n",
      " 'США-Канада-Австралия' 'Япония-США-Франция' 'Франция-Испания-Германия'\n",
      " 'США - Хорватия - Босния-Герцеговина'\n",
      " 'Великобритания - Чехия - Франция - Италия' 'США - Германия - Нидерланды'\n",
      " 'Германия - Франция - Канада'\n",
      " 'Франция-Грузия-Германия-Россия-Украина-Бельгия'\n",
      " 'Великобритания - Франция - Италия' 'Россия - США'\n",
      " 'Франция - Италия - Иран' 'Россия - Азербайджан' 'Греция' 'Дания - США'\n",
      " 'США-Великобритания-Новая Зеландия' 'США-Германия-Австралия'\n",
      " 'США-Канада-Италия' 'США - Япония - Германия' 'Австралия-США'\n",
      " 'Франция - Великобритания - Багамские острова - США'\n",
      " 'Швейцария - Люксембург' 'Швейцария - Австрия' 'Германия - Швейцария'\n",
      " 'Дания-Швеция-Франция-Германия' 'Польша' 'Швейцария-Австрия'\n",
      " 'Бразилия - Канада - США' 'Нидерланды - Россия' 'Португалия'\n",
      " 'Франция-Аргентина' 'Швеция-Франция' 'Франция-Украина'\n",
      " 'Германия-Украина-Нидерланды' 'Италия-Швейцария'\n",
      " 'США-Германия-Великобритания' 'Латвия - Россия'\n",
      " 'Германия-Франция-Великобритания-США' 'Канада - Италия'\n",
      " 'США - Объединенные Арабские Эмираты' 'США-Венгрия' 'Малайзия'\n",
      " 'Россия - Германия - Украина' 'США - Австралия - Мексика'\n",
      " 'Литва - Венгрия' 'Германия - Китай' 'Казахстан' 'Республика Корея'\n",
      " 'США - Германия - Франция - Великобритания - Канада '\n",
      " 'Бельгия - Германия - Люксембург - Франция' 'Франция - Греция'\n",
      " 'Италия - Канада' 'США - Великобритания - Франция' 'США-Италия-Греция'\n",
      " 'Германия - США - Великобритания - Ирландия'\n",
      " 'Великобритания - Франция - Германия' 'Германия - Нидерланды - ЮАР'\n",
      " 'США-Япония-Германия-Великобритания-Нидерланды'\n",
      " 'США-Япония-Германия-Великобритания' 'Германия - Франция - Польша'\n",
      " 'Таиланд-Великобритания-Франция-Германия-Испания-Нидерланды'\n",
      " 'Германия-Италия-Швейцария'\n",
      " 'Дания - Швеция - Великобритания - Франция - Германия - Нидерланды - Норвегия - Финляндия'\n",
      " 'Франция - Великобритания - Нидерланды - Люксембург'\n",
      " 'Нидерланды-Великобритания-Франция-Италия-Япония'\n",
      " 'Финляндия-Дания-Германия-Ирландия' 'Испания-Аргентина'\n",
      " 'Великобритания - Нидерланды - Франция - США' 'Канада - Мексика'\n",
      " 'США, Франция' 'Канада-Южная Корея-США'\n",
      " 'Великобритания - Франция - Бельгия - США' 'КНР - Канада - США'\n",
      " 'Италия - Франция - Германия' 'Швеция - Германия - Франция - Дания'\n",
      " 'Франция - США - Бельгия' 'Украина - Германия - Латвия - Эстония'\n",
      " 'Австрия - Люксембург' 'Великобритания - КНР' 'Монголия'\n",
      " 'Франция - Дания' 'Швеция - Дания - Финляндия'\n",
      " 'Сингапур - Великобритания - Индонезия - Канада - США'\n",
      " 'США - Германия - Япония' 'Таиланд - США' 'Франция - Нидерланды'\n",
      " 'Великобритания - Румыния' 'США - Мальта'\n",
      " 'Великобритания - Германия - Нидерланды - Дания'\n",
      " 'Франция - Германия - Литва - Нидерланды - Россия' 'США - ЮАР - Гонконг'\n",
      " 'Австралия - Колумбия' 'Великобритания - Польша'\n",
      " 'США - Великобритания - Швеция' 'Франция - Швеция - Дания - Норвегия'\n",
      " 'Болгария - США' 'СССР, ФРГ' 'Бельгия - Нидерланды - Франция'\n",
      " 'Финляндия - Германия' 'Болгария'\n",
      " 'Грузия - Россия - Украина - Хорватия - Германия' 'Франция - Люксембург'\n",
      " 'Франция - Германия - Австрия' 'Норвегия - США' 'Германия-Швеция'\n",
      " 'Франция - Германия - Италия' 'Франция-Германия-Австрия' 'КНР-США'\n",
      " 'Великобритания - Ирландия - США ' 'Дания - Латвия - Россия - США'\n",
      " 'Финляндия - Польша' 'Германия - Бельгия'\n",
      " 'Германия - США - Франция - Испания'\n",
      " 'Бельгия-Германия-Канада-Франция-США-Великобритания'\n",
      " 'Нидерланды - Бельгия - Люксембург' 'Канада-Германия'\n",
      " 'Люксембург - Бельгия - Франция' 'США-Великобритания-Австралия'\n",
      " 'Великобритания, Новая Зеландия' 'Бельгия, Великобритания, США'\n",
      " 'Великобритания, Австралия' 'Исландия, Бельгия'\n",
      " 'Испания - Швейцария - Великобритания - Германия - Новая Зеландия - Нидерланды - Канада'\n",
      " 'Франция, Бельгия' 'Великобритания, США' 'Киргизия-Россия'\n",
      " 'Германия, США' 'Великобритания, США, Испания'\n",
      " 'Италия - Швейцария - Германия' 'Россия, Армения' 'Франция, Германия'\n",
      " 'Китай, Канада, США' 'Германия, Австралия' 'КНР, США'\n",
      " 'США, Великобритания, Люксембург' 'Испания, Ирландия, Бельгия, Франция'\n",
      " 'Великобритания - Гонконг - Венгрия - США - Ирландия' 'США - Пуэрто Рико'\n",
      " 'Аргентина - Испания - Уругвай'\n",
      " 'Израиль - Германия - Франция - Швейцария'\n",
      " 'Великобритания - Мексика - США' 'Испания - Болгария - США'\n",
      " 'Россия-Словакия-Чехия'\n",
      " 'Швейцария - КНР - США - Россия - Республика Корея - Великобритания'\n",
      " 'Россия, Нидерланды, Финляндия'\n",
      " 'Испания - Бельгия - Франция - Португалия - Великобритания'\n",
      " 'Бразилия - Португалия - Франция' 'Швеция - Норвегия'\n",
      " 'Франция - Польша - Бельгия' 'CША' 'Китай, США'\n",
      " 'Италия, Франция, Германия' 'Германия - Австрия - Франция'\n",
      " 'Чехия - Словакия - Хорватия' 'Россия, Польша, Финляндия'\n",
      " 'Россия, Латвия, Чешская Республика'\n",
      " 'Франция - Великобритания - Камбоджа - США - КНР' 'Чехия - Испания - США'\n",
      " 'Германия - Люксембург - Дания' 'Великобритания - Испания - Германия'\n",
      " 'Дания - Исландия' 'Германия, Франция, Великобритания'\n",
      " 'Великобритания - Испания - Италия - Латвия - Франция - Эстония'\n",
      " 'Дания, Швеция, Великобритания, Франция, Германия, Норвегия, Финляндия, Нидерланды, Италия'\n",
      " 'Польша - Франция - Великобритания' 'Дания, Норвегия, Венгрия, Чехия'\n",
      " 'Дания - Франция - Германия - Швеция' 'Великобритания, Швеция, США'\n",
      " 'Канада, Франция, Италия, Швейцария, США' 'США, Индия'\n",
      " 'США - Великобритания - Германия - - Швеция - Канада' 'Италия, Франция'\n",
      " 'Республика Беларусь, Германия, США, Россия'\n",
      " 'Италия-Швейцария-Франция-Германия '\n",
      " 'Россия - Франция - Великобритания - Латвия' 'Россия-Беларусь'\n",
      " 'Франция - Испания - Румыния - США - Бельгия' 'Италия-США'\n",
      " 'Россия, Австрия' 'Ирландия - Великобритания - США'\n",
      " 'Швейцария, Великобритания, Франция, США, Ирландия'\n",
      " 'Мексика, Франция, Германия, Дания, Швеция' 'Нидерланды, Бельгия'\n",
      " 'Швеция, Норвегия, Финляндия, Франция' 'Испания, Франция, Италия'\n",
      " 'Испания-Франция-Греция-Индия-США-Россия-Великобритания'\n",
      " 'Великобритания - Япония - США' 'Дания, Канада, Норвегия, Австралия, США'\n",
      " 'Аргентина, Испания' 'Россия, Германия, Казахстан, Польша, Китай'\n",
      " 'Португалия, Франция, Польша, США' 'США - Канада - Аргентина' 'Ливан-США'\n",
      " 'Япония - США' 'США, Гонконг '\n",
      " 'Франция - Россия - Швейцария - Румыния - Венгрия' 'Аргентина-Испания'\n",
      " 'Россия, Сербия' 'США - Болгария - Мексика'\n",
      " 'США - Великобритания - Швейцария - Франция' 'Таиланд - КНР - США'\n",
      " 'Великобритания, Нидерланды, Польша, Швейцария, Франция' 'Ирландия - США'\n",
      " 'Германия - Франция - Великобритания - Польша - США'\n",
      " 'Великобритания-Франция-Италия' 'США - Австралия - Индия' 'Франция - КНР'\n",
      " 'Великобритания - Израиль' 'Великобритания - Норвегия - Кения - Хорватия'\n",
      " 'США - Бразилия - Великобритания - Канада' 'Германия, Бельгия'\n",
      " 'Австралия, Канада' 'США, Великобритания, Франция' 'Кения, Германия'\n",
      " 'Нидерланды, Бельгия, Люксембург' 'Колумбия' 'Латвия - Франция'\n",
      " 'Ирландия, Великобритания' 'Франция - Израиль - Германия'\n",
      " 'Швеция, Франция, Великобритания' 'Бельгия - Люксембург'\n",
      " 'Германия - Бельгия - Великобритания'\n",
      " 'Испания, Франция, Великобритания, Дания, Бельгия, Германия'\n",
      " 'Румыния, ЮАР, Иран, Франция, Канада, Великобритания' 'Германия, Франция'\n",
      " 'США, Япония' 'США, Великобритания, Ирландия, Люксембург'\n",
      " 'Республика Армения' 'США, Франция, Япония' 'Япония, США' 'Канада, США'\n",
      " 'Республика Кипр - Россия'\n",
      " 'Дания - Франция - Италия - Бельгия - Нидерланды' 'Россия - Грузия'\n",
      " 'Италия, Германия' 'Норвегия, Швеция, Дания' 'Республика Кипр, Россия'\n",
      " 'КНР, Индия, Гонконг, США' 'Израиль, Украина' 'США, Россия'\n",
      " 'США - КНР - Индия - Ю.Корея' 'США - Швеция' 'Франция, Канада'\n",
      " 'Россия-Китай' 'Канада, Великобритания' 'США, Германия'\n",
      " 'Канада, США, Каймановы острова'\n",
      " 'Бразилия, Уругвай, Дания, Норвегия, Чили, Швеция'\n",
      " 'Пуэрто-Рико, Великобритания, США' 'Уругвай - Аргентина - Испания'\n",
      " 'США - Великобритания - Италия - Израиль - Сербия - Индия'\n",
      " 'США - Канада - Франция - Индия' 'Великобритания - Россия - КНР'\n",
      " 'Франция, Новая Зеландия' 'Франция, Люксембург, Бельгия'\n",
      " 'Канада, США, Норвегия' 'Италия, Испания'\n",
      " 'Испания - Германия - Нидерланды' 'Бразилия - США - КНР '\n",
      " 'Великобритания, Германия, Дания, США' ''\n",
      " 'Италия - Фрация - Бразилия - Германия' 'Норвегия - Швеция - Россия'\n",
      " 'Великобритания, Япония, США' 'Сша, Канада' 'Бельгия, Канада'\n",
      " 'Великобритания - Австралия - США' 'США, Канада' 'КНР - США '\n",
      " 'Франция - Финляндия' 'Колумбия - США' 'Великобритания, Франция, Бельгия'\n",
      " 'Норвегия - Нидерланды' 'Великобритания, Канада, США'\n",
      " 'Япония, Великобритания' 'Италия - Бельгия - Франция'\n",
      " 'Россия, Бельгия, Финляндия' 'США, Украина' 'Франция, Норвегия'\n",
      " 'Великобритания, Южная Корея, Канада, США, Индия, Китай, Япония'\n",
      " 'Канада - Норвегия' 'Республика Кипр-Россия' 'Германия, Россия'\n",
      " 'Польша - Франция - Испания - Бразилия - Швеция'\n",
      " 'Австрия, Великобритания, Германия' 'Франция - Сенегал - Бельгия'\n",
      " 'Франция, Бельгия, Люксембург' 'Финляндия, Латвия' 'Пакистан'\n",
      " 'Германия, Франция, США' 'Германия - Великобритания - США'\n",
      " 'КНР - Франция' 'Дания, Норвегия, Швеция, Исландия'\n",
      " 'Республика Кипр, США, Россия' 'Новая Зеландия - КНР'\n",
      " 'Дания - Канада - Швеция - Франция - Германия - Великобритания - США']\n",
      "-----------------------------------\n",
      "Уникальные значения после исправления: ['сша' 'ссср' 'франция' 'ссср,  венгрия' 'германия, великобритания'\n",
      " 'великобритания, италия' 'чехословакия' 'сша, франция, турция'\n",
      " 'новая зеландия' 'канада, франция, испания' 'сша, германия'\n",
      " 'сша, великобритания' 'великобритания' 'франция, мексика, сша'\n",
      " 'россия,  казахстан,  сша' 'ссср,  швеция'\n",
      " 'ссср,  франция,  англия,  куба,  гдр' 'германия'\n",
      " 'великобритания, сша, германия, кнр'\n",
      " 'ссср,  чсср,  западный берлин,  пнр' 'ссср,  италия' 'гонконг,  кнр'\n",
      " 'сша, франция' 'сша, япония, франция, великобритания'\n",
      " 'гонконг, сингапур, таиланд, великобритания' 'сша, канада'\n",
      " 'франция, италия, великобритания, сша' 'франция, сша'\n",
      " 'ирландия, великобритания, германия' 'чехия' 'сша, австралия'\n",
      " 'ссср,  финляндия' 'сша, франция, великобритания, австрия' 'сша, бельгия'\n",
      " 'сша, ирландия, великобритания' 'великобритания, сша'\n",
      " 'люксембург, нидерланды, испания, великобритания, сша, италия'\n",
      " 'великобритания, франция, сша' 'новая зеландия, сша'\n",
      " 'сша, великобритания, чехия' 'канада, франция, великобритания' 'ирландия'\n",
      " 'великобритания, германия, сша' 'сша, франция, великобритания' 'япония'\n",
      " 'ссср,  польша' 'франция, испания' 'канада, франция'\n",
      " 'германия, италия, сша' 'аргентина, бразилия'\n",
      " 'дания, швейцария, бельгия, франция' 'сша, испания' 'германия, сша'\n",
      " 'франция, австрия, германия, италия, сша' 'австрия'\n",
      " 'сша, канада, германия' 'ссср, швейцария, франция' 'россия, казахстан'\n",
      " 'гонконг' 'италия' 'сша, оаэ' 'россия'\n",
      " 'сша, франция, испания, великобритания' 'великобритания, франция'\n",
      " 'сша, италия, испания, аргентина' 'франция, великобритания'\n",
      " 'кнр, гонконг' 'франция, италия, швейцария' 'сша, новая зеландия'\n",
      " 'франция, бельгия' 'кнр' 'германия, великобритания, австрия'\n",
      " 'великобритания, израиль, франция, япония, сша' 'швеция' 'испания'\n",
      " 'дания' 'франция, бельгия, люксембург' 'сша, индия, оаэ'\n",
      " 'германия, канада, великобритания, швейцария, франция' 'мексика, чили'\n",
      " 'аргентина' 'бразилия' 'чили' 'австралия' 'португалия, франция'\n",
      " 'сша, юар' 'исландия, ирландия, германия' 'сша, индонезия' 'южная корея'\n",
      " 'мексика, испания, дания, сша' 'франция, италия'\n",
      " 'сша, венгрия, великобритания' 'бельгия, франция, италия'\n",
      " 'чехия, германия' 'германия, франция' 'сша, нидерланды' 'украина'\n",
      " 'великобритания, германия' 'сша, франция, испания' 'италия, франция'\n",
      " 'канада' 'швеция, франция, дания' 'германия, франция, польша'\n",
      " 'франция, великобритания, германия'\n",
      " 'сша, бразилия, франция, австралия, великобритания, германия'\n",
      " 'германия, австрия' 'германия, италия,  шри, ланка'\n",
      " 'великобритания, испания' 'сша, великобритания, канада, швеция'\n",
      " 'босния и герцеговина, франция, великобритания, германия, словения, бельгия, сербия'\n",
      " 'великобритания, франция, италия, сша' 'испания, франция'\n",
      " 'великобритания, австралия, сша' 'норвегия, швеция, дания, германия'\n",
      " 'норвегия' 'швейцария' 'греция, германия, франция' 'норвения'\n",
      " 'южная корея, сша' 'чили, франция, сша' 'австрия, германия, франция'\n",
      " 'швеция, дания' 'великобритания, франция, бельгия, италия'\n",
      " 'франция, германия' 'грузия, франция, люксембург'\n",
      " 'сша, франция, великобритания, бразилия' 'сша, кнр' 'мексика, франция'\n",
      " 'сша, германия, гонконг, сингапур' 'финляндия, австрия, россия'\n",
      " 'испания, куба' 'великобритания, юар' 'великобритания, ирландия'\n",
      " 'израиль' 'бразилия, германия, порртугалия, франция'\n",
      " 'франция, канада, бельгия' 'испания, канада, япония' 'иран'\n",
      " 'швеция, куба' 'сша, великобритания, ирландия' 'гонконг, кнр'\n",
      " 'нидерланды' 'испания, канада' 'япония, великобритания'\n",
      " 'великобритания, норвегия, дания, германия'\n",
      " 'финляндия, франция, германия' 'мексика, франция, нидерланды, германия'\n",
      " 'сша, индия' 'сша, великобритания, индия' 'сша, канада, бельгия'\n",
      " 'республика узбекистан' 'турция'\n",
      " 'сербия, словения, хорватия, черногория, македония' 'киргизия'\n",
      " 'германия, нидерланды, беларусь, россия, латвия' 'индия'\n",
      " 'нидерланды, россия, германия'\n",
      " 'великобритания, нидерланды, франция, хорватия' 'канада, южная корея'\n",
      " 'великобритания, польша, кнр, индия, норвегия'\n",
      " 'япония, франция, сша, южная корея, турция'\n",
      " 'мексика, аргентина, великобритания' 'израиль, франция'\n",
      " 'польша, португалия, франция, великобритания' 'австралия, сша'\n",
      " 'франция, люксембург, бельгия' 'армения'\n",
      " 'бельгия, люксембург, франция, швейцария' 'сша, великобритания, канада'\n",
      " 'норвегия, швеция' 'кнр, гонконг, сша'\n",
      " 'сша, сингапур, малайзия, индонезия' 'германия, россия' 'япония, канада'\n",
      " 'финляндия, дания, германия, ирландия'\n",
      " 'франция, люксембург, германия, бельгия, швейцария, великобритания'\n",
      " 'канада, сша' 'сша, италия, испания' 'сша, швейцария, франция'\n",
      " 'испания, сша, колумбия' 'канада, юар' 'франция, россия'\n",
      " 'германия, финляндия, австралия' 'дания, швеция' 'бельгия'\n",
      " 'германия, франция, австрия' 'франция, индия' 'юар' 'франция, перу'\n",
      " 'франция, канада' 'республика беларусь'\n",
      " 'великобритания, австрия, франция, сша' 'сша, россия' 'сша, южная корея'\n",
      " 'канада, кнр' 'дания, швеция, италия, франция, германия'\n",
      " 'франция, италия, испания, венгрия' 'франция, германия, бельгия'\n",
      " 'франция, великобритания, чехия' 'румыния, франция, бельгия'\n",
      " 'болгария, франция, изриль'\n",
      " 'израиль, германия, польша, бельгия, франция, люксембург'\n",
      " 'россия,  германия,  франция,  бельгия' 'индонезия' 'франция, португалия'\n",
      " 'великобритания, пуэрто, рико' 'ссср,  фрг,  западный берлин'\n",
      " 'россия,  республика беларусь' 'сша,  великобритания' 'франция, австрия'\n",
      " 'бельгия, нидерланды' 'великобритания, сша, индия'\n",
      " 'сша, великобритания, австралия'\n",
      " 'канада, франция, сша, оаэ, великобритания' 'сша, австралия, франция'\n",
      " 'дания, франция, бельгия, германия, великобритания' 'испания, аргентина'\n",
      " 'исландия, финляндия' 'россия, польша, голландия, словакия'\n",
      " 'дания, германия, швеция' 'южная корея, сша, канада' 'таиланд'\n",
      " 'сша, мальта' 'сша , германия'\n",
      " 'великобритания, германия, франция, кипр, сша' 'мексика' 'сша, украина'\n",
      " 'сша, финляндия, испания, великобритания, франция'\n",
      " 'австралия, великобритания' 'сша, канада, афганистан, бельгия, франция'\n",
      " 'сша, великобритания, германия, новая зеландия, бельгия, франция'\n",
      " 'ирландия, финляндия, бельгия, великобритания, сша, швейцария'\n",
      " 'малайзия, сша' 'германия, италия' 'сша, франция, бельгия, италия'\n",
      " 'франция, ирландия, швеция' 'азербайджан, россия'\n",
      " 'великобритания, италия, швейцария' 'сша, германия, великобритания'\n",
      " 'германия, бельгия, сша , франция' 'сша, китай' 'чили, испания'\n",
      " 'франция, швейцария' 'канада, испания' 'сша, румыния, великобритания'\n",
      " 'сша, япония' 'сша, россия, франция' 'парагвай' 'германия, канада'\n",
      " 'сша, канада, великобритания' 'финляндия, канада'\n",
      " 'уругвай, мексика, германия' 'сша, чили'\n",
      " 'германия, аргентина, нидерланды, чили' 'сша, канада, индонезия'\n",
      " 'армения, казахстан' 'финляндия' 'испания, италия, франция'\n",
      " 'бельгия, испания, канада, нидерланды'\n",
      " 'великобритания, франция, швеция, бельгия'\n",
      " 'мексика, эквадор, канада, сша, франция, малайзия, италия, аргентина, германия, индия'\n",
      " 'франция, бенльгия' 'индия, великобритания'\n",
      " 'япония, великобритания, франция' 'испания, уругвай, аргентина'\n",
      " 'франция, италия, бельгия, люксембург'\n",
      " 'франция, украина, грузия, армения' 'сербия, германия, венгрия'\n",
      " 'франция, польша' 'румыния, сша' 'россия, азербайджан'\n",
      " 'сша, нидерланды, бельгия, венгрия, греция, канада'\n",
      " 'германия, франция, люксембург' 'великобритания, сша, франция'\n",
      " 'сша, австралия, дания' 'бельгия, франция' 'сша, мексика'\n",
      " 'норвегия, азербайджан, россия, колумбия, великобритания, венгрия, румыния, франция, грузия'\n",
      " 'сща' 'бразилия, испания' 'россия,  франция,  латвия'\n",
      " 'нидерланды, сша, германия, канада, франция, ирландия, великобритания'\n",
      " 'уругвай, колумбия' 'сша, испания, болгария' 'армения, германия'\n",
      " 'сша, великобритания,  франция, швеция' 'австралия, турция, сша'\n",
      " 'швеция, германия' 'польша, италия, россия' 'франция, бразилия'\n",
      " 'сша, канада, кнр' 'ссср,  венгрия,  чсср,  гдр'\n",
      " 'бельгия, германия, люксембург' 'бразилия, сша'\n",
      " 'сша, великобритания, канада, кнр' 'франция, чили'\n",
      " 'франция, сша, великобритания, колумбия, бельгия, россия'\n",
      " 'дания, великобритания, юар' 'россия, сша, канада, люксембург'\n",
      " 'россия, республика кипр' 'германия, сша, швеция, франция'\n",
      " 'великобритания, германия, канада, юар' 'ирландия,  канада'\n",
      " 'япония, великобритания, швейцария, ирландия, дания, франция, польша, австралия, канада'\n",
      " 'великобритания,  канада' 'бельгия, сша' 'великобритания, сша, россия'\n",
      " 'россия, украина' 'германия, сша, великобритания, израиль'\n",
      " 'канада, германия' 'сша,  ю.корея' 'индия, мексика'\n",
      " 'великобритания, франция, республика кипр, швейцария, сша, сербия'\n",
      " 'испания, аргентина, индия, сша'\n",
      " 'норвегия, исландия, сша, великобритания' 'турция, германя, франция'\n",
      " 'австралия, германия' 'мексика, испания'\n",
      " 'великобритания, сша, германия, бельгия' 'сша, чехия, франция'\n",
      " 'россия, италия' 'норвегия, дания, швеция' 'франция, швейцария, германия'\n",
      " 'грузия, украина' 'россия, эстония, финляндия, беларусь'\n",
      " 'сша, франция, юар' 'великобритания, сша, швейцария'\n",
      " 'мексика, нидерланды, германия, франция' 'сша, испания, франция'\n",
      " 'сша, великобритания, кнр' 'сша, франция, канада'\n",
      " 'япония,  великобритания,  австрия,  германия,  ю.корея'\n",
      " 'великобритания, ирландия, сша' 'бельгия, италия, франция'\n",
      " 'швейцария, германия, юар' 'великобритания, сша, германия'\n",
      " 'германия, исландия' 'испания, сша' 'хорватия'\n",
      " 'финляндия, исландия, швеция' 'канада, сша, германия, франция'\n",
      " 'сша, великобритания, испания' 'ирландия, великобритания'\n",
      " 'аргентина, испания' 'австрия, германия'\n",
      " 'германия, швейцария, франция, южная корея, сша' 'украина, нидерланды'\n",
      " 'венгрия, германия, швеция'\n",
      " 'германия, франция,  польша, турция, канада, италия, россия'\n",
      " 'ссср,  афганистан' 'ссср,  монголия' 'россия, кипр'\n",
      " 'россия,  грузия,  испания'\n",
      " 'великобритания, нидерланды, германия, франция, бельгия, австрия'\n",
      " 'испания, великобритания, франция' 'дания, норвегия, великобритания'\n",
      " 'бельгия, франция, люксембург'\n",
      " 'италия, франция, швейцария, великобритания'\n",
      " 'франция, бельгия, великобритания, испания, германия, сша'\n",
      " 'швейцария, израиль, франция, великобритания'\n",
      " 'великобритания, сша, канада, нидерланды, франция' 'россия,  италия'\n",
      " 'ссср,  албания' 'россия,  украина,  республика беларусь,  литва'\n",
      " 'финляндия, великобритания, германия' 'россия,  украина,  польша'\n",
      " 'франция, италия, бельгия, кнр' 'германия, бельгия, люксембург, ирландия'\n",
      " 'кнр, сингапур'\n",
      " 'франция, бельгия, великобритания, сша, нидерланды, канада'\n",
      " 'сша, россия, польша, германия, пуэрто рико' 'франция, бельгия, канада'\n",
      " 'мексика, сша' 'сша, гонконг, кнр' 'греция, россия'\n",
      " 'ирландия, дания, бельгия, люксембург, франция' 'эстония, россия'\n",
      " 'великобритания, исландия, испания, швейцария, сша'\n",
      " 'австралия, великобритания, бельгия, индия'\n",
      " 'швеция, германия, франция, норвегия'\n",
      " 'нидерланды, бельгия, германия, ирландия'\n",
      " 'нидерланды, великобритания, бельгия' 'сша, колумбия, испания'\n",
      " 'франция, испания, бельгия, панама' 'сша, великобритания, чехия, румыния'\n",
      " 'аргентина, уругвай, россия, германия, франция, нидерланды'\n",
      " 'швеция, франция, норвегия, дания' 'италия, франция, великобритания'\n",
      " 'великобритания,  франция' 'австралия,  сша' 'венесуэла'\n",
      " 'великобритания, сша, австралия, ирландия, германия, куба, канада'\n",
      " 'южная корея, кнр' 'аргентина, мексика, бразилия, франция, сша'\n",
      " 'швеция, сша' 'франция, германия, турция, катар' 'франция, китай'\n",
      " 'россия,  германия,  великобритания' 'великобритания, италия, испания'\n",
      " 'италия, россия' 'япония, кнр, южная корея' 'россия,  германия'\n",
      " 'россия, ирландия' 'македония, франция, великобритания'\n",
      " 'франция, бразилия, италия' 'россия, сша' 'армения, россия'\n",
      " 'россия,  румыния' 'франция,  бельгия' 'грузия, франция' 'юар, сша'\n",
      " 'великобритания, сша, германия, канада, австралия' 'сша, ирландия'\n",
      " 'россия,  республика кипр' 'германия, люксембург, франция'\n",
      " 'россия, франция' 'сша, нидерланды, финляндия, великобритания, италия'\n",
      " 'республика кипр' 'венгрия' 'франция, сша, норвегия, дания'\n",
      " 'германия, австрия, ирландия' 'сша, финляндия' 'италия, великобритания'\n",
      " 'россия,  испания' 'сша, великобритания, болгария'\n",
      " 'великобритания, люксембург' 'индия, сша'\n",
      " 'сша, канада, россия, франция, чили, ирландия' 'грузия, россия'\n",
      " 'дания, австрия, ирландия, финляндия, норвегия, швеция, нидерланды'\n",
      " 'грузия' 'австралия, ирландия' 'великобритания, канада'\n",
      " 'италия, аргентина, словения'\n",
      " 'испания, франция, нидерланды, германия, бельгия, великобритания, канада'\n",
      " 'франция, чехия, бельгия' 'великобритания, франция, германия, сша'\n",
      " 'ирландия, великобритания, франция, сша, германия, нидерланды'\n",
      " 'сша, канада, япония, кнр' 'сша, великобритания, исландия'\n",
      " 'франция, германия, нидерланды'\n",
      " 'франция, германия, швеция, сша, чехия, словакия, великобритания, нидерланды'\n",
      " 'франция, канада, н.зеландия, сша, нидерланды, германия, швеция, россия'\n",
      " 'турция, сша'\n",
      " 'великобритания, сша, канада, бельгия, нидерланды, австрия, германия'\n",
      " 'израиль, франция, германия, палестина, сша, австрия, великобритания'\n",
      " 'аргентина, франция, испания' 'ссср,  россия'\n",
      " 'великобритания, франция, италия, индия, дания, кнр, бангладеш, камбоджа, гаити, уганда'\n",
      " 'италия, франция, швейцария' 'ирландия, великобритания, канада' 'перу'\n",
      " 'сша, норвегия' 'китай, гонконг' 'сша, германия, кнр'\n",
      " 'великобритания, новая зеландия' 'франция, дания, швеция, кнр'\n",
      " 'сша, великобритания, германия, бельгия, дания'\n",
      " 'сша, франция, канада, германия, австралия, индия' 'unknown'\n",
      " 'ссср,  румыния,  франция' 'ссср,  гдр'\n",
      " 'великобритания, франция, австрия, швеция' 'россия,  таджикистан'\n",
      " 'нидерланды, бельгия, болгария' 'великобритания, канада, сша'\n",
      " 'франция, бельгия, испания' 'китай, гонконг, сша' 'сша, вьетнам'\n",
      " 'сша, германия, франция' 'германия, франция, бельгия' 'сша, италия'\n",
      " 'германия, дания, испания, швеция, канада, эстония, франция'\n",
      " 'княжество андорра, украина' 'германия, люксембург, бельгия'\n",
      " 'великобритания, россия, украина, сша'\n",
      " 'германия, бельгия, люксембург, норвегия'\n",
      " 'сша, австралия, новая зеландия, великобритания'\n",
      " 'сша, франция, канада, великобритания' 'испания, колумбия'\n",
      " 'великобритания, чехия, франция' 'россия,  украина' 'исландия'\n",
      " 'великобритания, франция, венгрия'\n",
      " 'россия,  франция,  германия,  бельгия' 'франция, македония'\n",
      " 'нидерланды, франция, германия, бельгия, швеция, великобритания'\n",
      " 'испания, сша, великобритания, канада' 'республика казахстан'\n",
      " 'франция, испания, дания, венгрия, швейцария' 'франция, кнр'\n",
      " 'сша, пуэрто, рико, франция' 'мексика, тайвань, сша'\n",
      " 'великобритания, испания, непал, индия, венгрия, гонконг, германия, дания, бахрейн'\n",
      " 'великобритания, аргентина, сша, франция, россия, испания' 'кнр, сша'\n",
      " 'италия, сша' 'финляндия, швеция, германия' 'канада,  испания'\n",
      " 'франция, бельгия, чехия' 'франция, германия, сша' 'сша, дания'\n",
      " 'индия, кнр' 'чехия, великобритания, сша' 'сша, фрг, россия'\n",
      " 'ирландия, нидерланды, франция, сша, великобритания'\n",
      " 'россия,  грузия,  хорватия,  испания' 'финляндия, швеция, норвегия'\n",
      " 'сербия, великобритания, сша' 'сша, великобритания, франция, гонконг'\n",
      " 'швейцария, франция' 'швейцария, великобритания' 'оаэ, сша'\n",
      " 'сша, франция, германия, канада, австралия' 'германия, австралия'\n",
      " 'иран,  франция' 'сша, великобритания, новая зеландия' 'сша, колумбия'\n",
      " 'сша, франция, ирландия' 'великобритания, франция, бельгия'\n",
      " 'сша, великобритания, япония' 'сша, франция, германия' 'польша, ирландия'\n",
      " 'ирландия, великобритания, франция, сша' 'сша, бельгия, великобритания'\n",
      " 'ссср,  внр' 'испания, франция, сша, великобритания, бельгия'\n",
      " 'франция, дания, сша' 'сша, гонконг' 'бразилия, к;анада'\n",
      " 'сша, ирландия, великобритания, франция' 'великобритания, сша, канада'\n",
      " 'польша, франция' 'канада, сша, нидерланды, великобритания, аргентина'\n",
      " 'великобритания, дания' 'франция, бельгия, япония' 'россия,   испания'\n",
      " 'франция , бельгия' 'сша, канада, германия, франция'\n",
      " 'сша, канада, франция' 'россия, германия'\n",
      " 'германия, австрия, франция, италия' 'сша, германия, канада'\n",
      " 'испания, мексика'\n",
      " 'сша, япония, канада, великобритания, германия, франция'\n",
      " 'сша , великобритания, австралия' 'россия, украина, германия'\n",
      " 'израиль, франция, великобритания, германия' 'корея' 'россия, болгария'\n",
      " 'германия, канада, франция, бельгия' 'германия, кения' 'франция, монако'\n",
      " 'франция, испания, швейцария' 'австрия, франция, германия' 'румыния'\n",
      " 'сша, великобритания, франция' 'канада, великобритания'\n",
      " 'канада, бразилия, япония' 'германия, дания, норвегия' 'дания, германия'\n",
      " 'ссср, италия' 'ссср, гдр, польша, италия'\n",
      " 'сша, испания, франция, великобритания' 'китай' 'мексика, аргентина'\n",
      " 'германия, великобритания, италия, испания'\n",
      " 'франция, германия, великобритания' 'россия, германия, швейцария'\n",
      " 'франция, австралия' 'голландия' 'россия, белоруссия'\n",
      " 'франция, испания, тайвань' 'сша, южная корея, новая зеландия'\n",
      " 'великобритания, венгрия' 'великобритания, франция, германия'\n",
      " 'франция, германия, италия' 'швеция, финляндия, франция, норвегия'\n",
      " 'германия, израиль' 'швеция, германия, дания, норвегия'\n",
      " 'франция, гонконг, ирландия' 'эстония' 'литва, россия, украина'\n",
      " 'германия, италия, франция' 'великобритания, австрия, германия'\n",
      " 'испания, мальта' 'франция, россия, румыния, италия, бельгия'\n",
      " 'россия, польша' 'сша, аргентина' 'израиль, сша, франция'\n",
      " 'сша, новая зеландия, япония' 'франция, чехия, великобритания'\n",
      " 'германия, франция, великобритания' 'сша, гонконг, китай'\n",
      " 'сша, великобритания, германия' 'сша, канада, австралия'\n",
      " 'япония, сша, франция' 'франция, испания, германия'\n",
      " 'сша, хорватия, босния, герцеговина'\n",
      " 'великобритания, чехия, франция, италия' 'сша, германия, нидерланды'\n",
      " 'германия, франция, канада'\n",
      " 'франция, грузия, германия, россия, украина, бельгия'\n",
      " 'великобритания, франция, италия' 'франция, италия, иран' 'греция'\n",
      " 'дания, сша' 'сша, германия, австралия' 'сша, канада, италия'\n",
      " 'сша, япония, германия' 'франция, великобритания, багамские острова, сша'\n",
      " 'швейцария, люксембург' 'швейцария, австрия' 'германия, швейцария'\n",
      " 'дания, швеция, франция, германия' 'польша' 'бразилия, канада, сша'\n",
      " 'нидерланды, россия' 'португалия' 'франция, аргентина' 'швеция, франция'\n",
      " 'франция, украина' 'германия, украина, нидерланды' 'италия, швейцария'\n",
      " 'латвия, россия' 'германия, франция, великобритания, сша'\n",
      " 'канада, италия' 'сша, объединенные арабские эмираты' 'сша, венгрия'\n",
      " 'малайзия' 'россия, германия, украина' 'сша, австралия, мексика'\n",
      " 'литва, венгрия' 'германия, китай' 'казахстан' 'республика корея'\n",
      " 'сша, германия, франция, великобритания, канада'\n",
      " 'бельгия, германия, люксембург, франция' 'франция, греция'\n",
      " 'италия, канада' 'сша, италия, греция'\n",
      " 'германия, сша, великобритания, ирландия' 'германия, нидерланды, юар'\n",
      " 'сша, япония, германия, великобритания, нидерланды'\n",
      " 'сша, япония, германия, великобритания'\n",
      " 'таиланд, великобритания, франция, германия, испания, нидерланды'\n",
      " 'германия, италия, швейцария'\n",
      " 'дания, швеция, великобритания, франция, германия, нидерланды, норвегия, финляндия'\n",
      " 'франция, великобритания, нидерланды, люксембург'\n",
      " 'нидерланды, великобритания, франция, италия, япония'\n",
      " 'великобритания, нидерланды, франция, сша' 'канада, мексика'\n",
      " 'сша,  франция' 'канада, южная корея, сша'\n",
      " 'великобритания, франция, бельгия, сша' 'кнр, канада, сша'\n",
      " 'италия, франция, германия' 'швеция, германия, франция, дания'\n",
      " 'франция, сша, бельгия' 'украина, германия, латвия, эстония'\n",
      " 'австрия, люксембург' 'великобритания, кнр' 'монголия' 'франция, дания'\n",
      " 'швеция, дания, финляндия'\n",
      " 'сингапур, великобритания, индонезия, канада, сша'\n",
      " 'сша, германия, япония' 'таиланд, сша' 'франция, нидерланды'\n",
      " 'великобритания, румыния' 'великобритания, германия, нидерланды, дания'\n",
      " 'франция, германия, литва, нидерланды, россия' 'сша, юар, гонконг'\n",
      " 'австралия, колумбия' 'великобритания, польша'\n",
      " 'сша, великобритания, швеция' 'франция, швеция, дания, норвегия'\n",
      " 'болгария, сша' 'ссср,  фрг' 'бельгия, нидерланды, франция'\n",
      " 'финляндия, германия' 'болгария'\n",
      " 'грузия, россия, украина, хорватия, германия' 'франция, люксембург'\n",
      " 'франция, германия, австрия' 'норвегия, сша' 'германия, швеция'\n",
      " 'дания, латвия, россия, сша' 'финляндия, польша' 'германия, бельгия'\n",
      " 'германия, сша, франция, испания'\n",
      " 'бельгия, германия, канада, франция, сша, великобритания'\n",
      " 'нидерланды, бельгия, люксембург' 'люксембург, бельгия, франция'\n",
      " 'великобритания,  новая зеландия' 'бельгия,  великобритания,  сша'\n",
      " 'великобритания,  австралия' 'исландия,  бельгия'\n",
      " 'испания, швейцария, великобритания, германия, новая зеландия, нидерланды, канада'\n",
      " 'великобритания,  сша' 'киргизия, россия' 'германия,  сша'\n",
      " 'великобритания,  сша,  испания' 'италия, швейцария, германия'\n",
      " 'россия,  армения' 'франция,  германия' 'китай,  канада,  сша'\n",
      " 'германия,  австралия' 'кнр,  сша' 'сша,  великобритания,  люксембург'\n",
      " 'испания,  ирландия,  бельгия,  франция'\n",
      " 'великобритания, гонконг, венгрия, сша, ирландия' 'сша, пуэрто рико'\n",
      " 'аргентина, испания, уругвай' 'израиль, германия, франция, швейцария'\n",
      " 'великобритания, мексика, сша' 'испания, болгария, сша'\n",
      " 'россия, словакия, чехия'\n",
      " 'швейцария, кнр, сша, россия, республика корея, великобритания'\n",
      " 'россия,  нидерланды,  финляндия'\n",
      " 'испания, бельгия, франция, португалия, великобритания'\n",
      " 'бразилия, португалия, франция' 'швеция, норвегия'\n",
      " 'франция, польша, бельгия' 'cша' 'китай,  сша'\n",
      " 'италия,  франция,  германия' 'германия, австрия, франция'\n",
      " 'чехия, словакия, хорватия' 'россия,  польша,  финляндия'\n",
      " 'россия,  латвия,  чешская республика'\n",
      " 'франция, великобритания, камбоджа, сша, кнр' 'чехия, испания, сша'\n",
      " 'германия, люксембург, дания' 'великобритания, испания, германия'\n",
      " 'дания, исландия' 'германия,  франция,  великобритания'\n",
      " 'великобритания, испания, италия, латвия, франция, эстония'\n",
      " 'дания,  швеция,  великобритания,  франция,  германия,  норвегия,  финляндия,  нидерланды,  италия'\n",
      " 'польша, франция, великобритания' 'дания,  норвегия,  венгрия,  чехия'\n",
      " 'дания, франция, германия, швеция' 'великобритания,  швеция,  сша'\n",
      " 'канада,  франция,  италия,  швейцария,  сша' 'сша,  индия'\n",
      " 'сша, великобритания, германия, ,  швеция, канада' 'италия,  франция'\n",
      " 'республика беларусь,  германия,  сша,  россия'\n",
      " 'италия, швейцария, франция, германия'\n",
      " 'россия, франция, великобритания, латвия' 'россия, беларусь'\n",
      " 'франция, испания, румыния, сша, бельгия' 'россия,  австрия'\n",
      " 'ирландия, великобритания, сша'\n",
      " 'швейцария,  великобритания,  франция,  сша,  ирландия'\n",
      " 'мексика,  франция,  германия,  дания,  швеция' 'нидерланды,  бельгия'\n",
      " 'швеция,  норвегия,  финляндия,  франция' 'испания,  франция,  италия'\n",
      " 'испания, франция, греция, индия, сша, россия, великобритания'\n",
      " 'великобритания, япония, сша'\n",
      " 'дания,  канада,  норвегия,  австралия,  сша' 'аргентина,  испания'\n",
      " 'россия,  германия,  казахстан,  польша,  китай'\n",
      " 'португалия,  франция,  польша,  сша' 'сша, канада, аргентина'\n",
      " 'ливан, сша' 'япония, сша' 'сша,  гонконг'\n",
      " 'франция, россия, швейцария, румыния, венгрия' 'россия,  сербия'\n",
      " 'сша, болгария, мексика' 'сша, великобритания, швейцария, франция'\n",
      " 'таиланд, кнр, сша'\n",
      " 'великобритания,  нидерланды,  польша,  швейцария,  франция'\n",
      " 'ирландия, сша' 'германия, франция, великобритания, польша, сша'\n",
      " 'сша, австралия, индия' 'великобритания, израиль'\n",
      " 'великобритания, норвегия, кения, хорватия'\n",
      " 'сша, бразилия, великобритания, канада' 'германия,  бельгия'\n",
      " 'австралия,  канада' 'сша,  великобритания,  франция' 'кения,  германия'\n",
      " 'нидерланды,  бельгия,  люксембург' 'колумбия' 'латвия, франция'\n",
      " 'ирландия,  великобритания' 'франция, израиль, германия'\n",
      " 'швеция,  франция,  великобритания' 'бельгия, люксембург'\n",
      " 'германия, бельгия, великобритания'\n",
      " 'испания,  франция,  великобритания,  дания,  бельгия,  германия'\n",
      " 'румыния,  юар,  иран,  франция,  канада,  великобритания'\n",
      " 'германия,  франция' 'сша,  япония'\n",
      " 'сша,  великобритания,  ирландия,  люксембург' 'республика армения'\n",
      " 'сша,  франция,  япония' 'япония,  сша' 'канада,  сша'\n",
      " 'республика кипр, россия' 'дания, франция, италия, бельгия, нидерланды'\n",
      " 'россия, грузия' 'италия,  германия' 'норвегия,  швеция,  дания'\n",
      " 'республика кипр,  россия' 'кнр,  индия,  гонконг,  сша'\n",
      " 'израиль,  украина' 'сша,  россия' 'сша, кнр, индия, ю.корея'\n",
      " 'сша, швеция' 'франция,  канада' 'россия, китай'\n",
      " 'канада,  великобритания' 'сша,  германия'\n",
      " 'канада,  сша,  каймановы острова'\n",
      " 'бразилия,  уругвай,  дания,  норвегия,  чили,  швеция'\n",
      " 'пуэрто, рико,  великобритания,  сша' 'уругвай, аргентина, испания'\n",
      " 'сша, великобритания, италия, израиль, сербия, индия'\n",
      " 'сша, канада, франция, индия' 'великобритания, россия, кнр'\n",
      " 'франция,  новая зеландия' 'франция,  люксембург,  бельгия'\n",
      " 'канада,  сша,  норвегия' 'италия,  испания'\n",
      " 'испания, германия, нидерланды' 'бразилия, сша, кнр'\n",
      " 'великобритания,  германия,  дания,  сша' ''\n",
      " 'италия, фрация, бразилия, германия' 'норвегия, швеция, россия'\n",
      " 'великобритания,  япония,  сша' 'сша,  канада' 'бельгия,  канада'\n",
      " 'франция, финляндия' 'колумбия, сша' 'великобритания,  франция,  бельгия'\n",
      " 'норвегия, нидерланды' 'великобритания,  канада,  сша'\n",
      " 'япония,  великобритания' 'италия, бельгия, франция'\n",
      " 'россия,  бельгия,  финляндия' 'сша,  украина' 'франция,  норвегия'\n",
      " 'великобритания,  южная корея,  канада,  сша,  индия,  китай,  япония'\n",
      " 'канада, норвегия' 'германия,  россия'\n",
      " 'польша, франция, испания, бразилия, швеция'\n",
      " 'австрия,  великобритания,  германия' 'франция, сенегал, бельгия'\n",
      " 'франция,  бельгия,  люксембург' 'финляндия,  латвия' 'пакистан'\n",
      " 'германия,  франция,  сша' 'германия, великобритания, сша' 'кнр, франция'\n",
      " 'дания,  норвегия,  швеция,  исландия' 'республика кипр,  сша,  россия'\n",
      " 'новая зеландия, кнр'\n",
      " 'дания, канада, швеция, франция, германия, великобритания, сша']\n",
      "-----------------------------------\n",
      "\n",
      "Колонка: director\n",
      "Уникальные значения до исправления: ['Кевин Костнер' 'Е.Матвеев' 'Тимур Бекмамбетов' ... 'Ник Пауэлл'\n",
      " 'А.Беляев' 'И.Трусов']\n",
      "-----------------------------------\n",
      "Уникальные значения после исправления: ['кевин костнер' 'е.матвеев' 'тимур бекмамбетов' ... 'ник пауэлл'\n",
      " 'а.беляев' 'и.трусов']\n",
      "-----------------------------------\n",
      "\n",
      "Колонка: producer\n",
      "Уникальные значения до исправления: ['Дэвид Валдес, Кевин Костнер, Джейк Эбертс' 'Unknown'\n",
      " 'Джим Лемли, Джейсон Нетер, Марк Е.Платт, Яйн Смит' ...\n",
      " 'Поппи Бегум, Ник Пойнц'\n",
      " 'Джефф Боулер, Дэниэл Гродник, Луильо Руис, Брэт Саксон, Кирк Шоу'\n",
      " 'Дженнифер Додж']\n",
      "-----------------------------------\n",
      "Уникальные значения после исправления: ['дэвид валдес,  кевин костнер,  джейк эбертс' 'unknown'\n",
      " 'джим лемли,  джейсон нетер,  марк е.платт,  яйн смит' ...\n",
      " 'поппи бегум,  ник пойнц'\n",
      " 'джефф боулер,  дэниэл гродник,  луильо руис,  брэт саксон,  кирк шоу'\n",
      " 'дженнифер додж']\n",
      "-----------------------------------\n",
      "\n",
      "Колонка: age_restriction\n",
      "Уникальные значения до исправления: ['«18+» - запрещено для детей', '«6+» - для детей старше 6 лет', '«12+» - для детей старше 12 лет', '«16+» - для детей старше 16 лет', '«0+» - для любой зрительской аудитории']\n",
      "Categories (5, object): ['«0+» - для любой зрительской аудитории', '«12+» - для детей старше 12 лет', '«16+» - для детей старше 16 лет', '«18+» - запрещено для детей', '«6+» - для детей старше 6 лет']\n",
      "-----------------------------------\n",
      "Уникальные значения после исправления: ['«18+», запрещено для детей' '«6+», для детей старше 6 лет'\n",
      " '«12+», для детей старше 12 лет' '«16+», для детей старше 16 лет'\n",
      " '«0+», для любой зрительской аудитории']\n",
      "-----------------------------------\n",
      "\n",
      "Колонка: financing_source\n",
      "Уникальные значения до исправления: [NaN, 'Министерство культуры', 'Фонд кино', 'Министерство культуры, Фонд кино']\n",
      "Categories (3, object): ['Министерство культуры', 'Министерство культуры, Фонд кино', 'Фонд кино']\n",
      "-----------------------------------\n",
      "Уникальные значения после исправления: [nan 'министерство культуры' 'фонд кино'\n",
      " 'министерство культуры,  фонд кино']\n",
      "-----------------------------------\n",
      "\n",
      "Колонка: genres\n",
      "Уникальные значения до исправления: ['боевик,драма,мелодрама' 'драма,военный' 'фантастика,боевик,триллер'\n",
      " 'драма' 'мелодрама,комедия' 'мюзикл,мелодрама,комедия' 'комедия,криминал'\n",
      " 'боевик,триллер,детектив' 'боевик,драма,приключения' 'драма,спорт'\n",
      " 'триллер,драма,мелодрама' 'комедия,мелодрама' 'драма,мелодрама,комедия'\n",
      " 'драма,мелодрама' 'драма,история' 'драма,мелодрама,семейный'\n",
      " 'комедия,мелодрама,криминал' 'комедия' 'боевик,драма,криминал'\n",
      " 'драма,комедия' 'ужасы,фантастика,комедия'\n",
      " 'мультфильм,короткометражка,мелодрама' 'драма,криминал'\n",
      " 'мультфильм,фантастика,фэнтези' 'триллер,драма,криминал'\n",
      " 'драма,мелодрама,биография' 'драма,комедия,военный'\n",
      " 'фантастика,драма,детектив' 'мюзикл,семейный' 'Unknown'\n",
      " 'военный,приключения,драма' 'документальный,драма'\n",
      " 'драма,биография,история' 'боевик,триллер,драма' 'фэнтези,боевик'\n",
      " 'боевик,комедия,криминал' 'мюзикл,комедия,детский'\n",
      " 'комедия,мелодрама,драма' 'мультфильм,фэнтези,комедия' 'комедия,история'\n",
      " 'мелодрама' 'драма,биография,музыка' 'фэнтези,драма,мелодрама'\n",
      " 'триллер,военный' 'драма,мелодрама,военный' 'мюзикл,драма,мелодрама'\n",
      " 'мюзикл,комедия' 'мультфильм,приключения,семейный' 'ужасы,триллер'\n",
      " 'боевик,драма,военный' 'драма,боевик' 'мультфильм,драма,комедия'\n",
      " 'триллер,криминал' 'военный,биография,драма' 'комедия,семейный' 'военный'\n",
      " 'драма,семейный,биография' 'фэнтези,приключения,семейный'\n",
      " 'драма,криминал,биография' 'ужасы,триллер,детектив'\n",
      " 'боевик,история,драма' 'ужасы,триллер,драма' 'драма,криминал,спорт'\n",
      " 'документальный,короткометражка' 'триллер,драма'\n",
      " 'криминал,детектив,приключения' 'драма,комедия,криминал'\n",
      " 'драма,комедия,вестерн' 'драма,мелодрама,детектив' 'мелодрама,биография'\n",
      " 'фэнтези,мелодрама,драма' 'драма,мелодрама,история'\n",
      " 'комедия,приключения,история' 'приключения' 'драма,семейный'\n",
      " 'криминал,детектив' 'мультфильм,короткометражка,ужасы'\n",
      " 'фантастика,триллер,драма' 'фэнтези,мелодрама,комедия' 'драма,биография'\n",
      " 'комедия,криминал,история' 'триллер,драма,детектив'\n",
      " 'фантастика,комедия,приключения' 'фэнтези,семейный'\n",
      " 'ужасы,фантастика,боевик' 'мелодрама,криминал'\n",
      " 'комедия,приключения,мелодрама' 'боевик,триллер,приключения'\n",
      " 'боевик,приключения' 'боевик,триллер,криминал'\n",
      " 'документальный,военный,история' 'драма,музыка' 'боевик,драма'\n",
      " 'приключения,боевик' 'драма,военный,биография'\n",
      " 'триллер,драма,приключения' 'аниме,мультфильм,фэнтези'\n",
      " 'триллер,детектив,драма' 'боевик,триллер,мелодрама' 'боевик,история'\n",
      " 'приключения,история' 'драма,комедия,приключения'\n",
      " 'фэнтези,комедия,приключения' 'драма,вестерн' 'документальный,музыка'\n",
      " 'мелодрама,драма' 'триллер,криминал,детектив' 'ужасы'\n",
      " 'боевик,комедия,приключения' 'мультфильм,фэнтези,боевик'\n",
      " 'боевик,фэнтези,драма' 'фэнтези,драма' 'фэнтези,боевик,комедия'\n",
      " 'приключения,детский,комедия' 'документальный' 'боевик,триллер,комедия'\n",
      " 'мелодрама,комедия,криминал' 'драма,детектив' 'мюзикл,ужасы,триллер'\n",
      " 'детектив,триллер,ужасы' 'ужасы,фэнтези' 'ужасы,фэнтези,триллер'\n",
      " 'мультфильм,драма' 'ужасы,боевик,фантастика' 'боевик' 'фантастика,боевик'\n",
      " 'мелодрама,комедия,приключения' 'триллер,детектив'\n",
      " 'мюзикл,мелодрама,фэнтези' 'криминал' 'триллер,комедия,криминал'\n",
      " 'боевик,приключения,триллер' 'триллер,драма,военный'\n",
      " 'комедия,семейный,музыка' 'комедия,фантастика,мелодрама'\n",
      " 'фантастика,триллер,криминал' 'комедия,драма' 'боевик,военный'\n",
      " 'ужасы,фантастика,триллер' 'фантастика,драма,мелодрама'\n",
      " 'фэнтези,драма,детектив' 'боевик,триллер' 'боевик,драма,история'\n",
      " 'мультфильм,мюзикл,фэнтези' 'для взрослых,драма,мелодрама'\n",
      " 'мультфильм,боевик,детектив' 'фантастика,мелодрама,боевик'\n",
      " 'ужасы,фантастика,детектив' 'фантастика,боевик,приключения'\n",
      " 'мелодрама,комедия,спорт' 'комедия,боевик,приключения'\n",
      " 'документальный,приключения' 'мультфильм,короткометражка,детский'\n",
      " 'комедия,приключения' 'ужасы,драма' 'ужасы,фэнтези,боевик'\n",
      " 'мультфильм,фэнтези,детский' 'мюзикл,боевик,драма'\n",
      " 'семейный,комедия,драма' 'концерт,музыка' 'фэнтези,боевик,драма'\n",
      " 'драма,комедия,музыка' 'фантастика,фэнтези,боевик'\n",
      " 'фэнтези,комедия,семейный' 'фэнтези,драма,комедия'\n",
      " 'мультфильм,мюзикл,драма' 'триллер' 'боевик,криминал,триллер'\n",
      " 'мультфильм,приключения,драма' 'мелодрама,музыка'\n",
      " 'документальный,музыка,концерт' 'мультфильм,семейный'\n",
      " 'мультфильм,комедия,приключения' 'мультфильм,комедия,семейный'\n",
      " 'фантастика,драма' 'фэнтези,боевик,приключения' 'мультфильм,приключения'\n",
      " 'драма,военный,история' 'история' 'драма,приключения,военный'\n",
      " 'документальный,короткометражка,семейный' 'мелодрама,история,триллер'\n",
      " 'ужасы,детектив' 'мюзикл,комедия,приключения' 'драма,спорт,биография'\n",
      " 'фантастика,боевик,комедия' 'фантастика,приключения,детектив'\n",
      " 'короткометражка,драма,военный' 'драма,мультфильм' 'приключения,семейный'\n",
      " 'детектив' 'триллер,приключения' 'аниме,мультфильм,боевик'\n",
      " 'драма,комедия,биография' 'драма,комедия,спорт'\n",
      " 'боевик,мелодрама,комедия' 'семейный,комедия' 'фэнтези,боевик,триллер'\n",
      " 'документальный,фэнтези,семейный' 'фантастика,фэнтези,драма'\n",
      " 'ужасы,комедия,фэнтези' 'документальный,биография,музыка'\n",
      " 'фантастика,боевик,фэнтези' 'ужасы,боевик,триллер'\n",
      " 'комедия,криминал,семейный' 'приключения,драма' 'криминал,драма,триллер'\n",
      " 'драма,детектив,криминал' 'фэнтези,приключения,комедия' 'комедия,спорт'\n",
      " 'мюзикл,фэнтези,мелодрама' 'мультфильм,фэнтези,приключения'\n",
      " 'фантастика,фэнтези,приключения' 'фэнтези' 'фэнтези,приключения,боевик'\n",
      " 'фантастика,боевик,драма' 'криминал,драма' 'криминал,триллер,драма'\n",
      " 'драма,мелодрама,приключения' 'детский,комедия' 'фантастика,драма,боевик'\n",
      " 'мультфильм,семейный,фэнтези' 'концерт,музыка,документальный'\n",
      " 'ужасы,комедия,приключения' 'драма,мелодрама,криминал'\n",
      " 'ужасы,фантастика,фэнтези' 'боевик,комедия'\n",
      " 'мультфильм,фантастика,комедия' 'триллер,ужасы'\n",
      " 'мультфильм,мюзикл,комедия' 'мелодрама,фэнтези,триллер'\n",
      " 'детский,приключения,комедия' 'комедия,детектив'\n",
      " 'аниме,мультфильм,мелодрама' 'документальный,драма,семейный'\n",
      " 'документальный,биография,история' 'военный,боевик,драма' 'ужасы,комедия'\n",
      " 'комедия,приключения,семейный' 'приключения,биография,история'\n",
      " 'детский,приключения,семейный' 'спорт,драма,биография'\n",
      " 'аниме,мультфильм,ужасы' 'фантастика,боевик,криминал' 'мюзикл,драма'\n",
      " 'драма,криминал,детектив' 'аниме,мультфильм,драма'\n",
      " 'драма,триллер,приключения' 'триллер,криминал,драма'\n",
      " 'фэнтези,комедия,драма' 'мультфильм,комедия' 'драма,комедия,история'\n",
      " 'комедия,биография,история' 'мультфильм,фантастика,приключения'\n",
      " 'аниме,мультфильм,фантастика' 'мультфильм,фэнтези,семейный'\n",
      " 'мультфильм,боевик,комедия' 'комедия,криминал,спорт'\n",
      " 'документальный,мюзикл' 'мелодрама,комедия,музыка' 'биография'\n",
      " 'триллер,криминал,комедия' 'фантастика,драма,комедия'\n",
      " 'комедия,драма,мелодрама' 'фантастика,приключения,боевик'\n",
      " 'мультфильм,фэнтези,драма' 'триллер,комедия'\n",
      " 'драма,приключения,биография' 'фантастика,комедия'\n",
      " 'мелодрама,драма,комедия' 'боевик,криминал' 'драма,криминал,боевик'\n",
      " 'мультфильм,мюзикл,детский' 'драма,фэнтези' 'документальный,семейный'\n",
      " 'фэнтези,драма,приключения' 'ужасы,комедия,фантастика'\n",
      " 'драма,мелодрама,музыка' 'фэнтези,драма,семейный'\n",
      " 'триллер,мелодрама,драма' 'вестерн,боевик,драма'\n",
      " 'мультфильм,короткометражка,комедия' 'триллер,драма,история'\n",
      " 'ужасы,фантастика' 'ужасы,мелодрама,комедия' 'фэнтези,приключения'\n",
      " 'фантастика,триллер' 'ужасы,боевик,фэнтези' 'мультфильм,комедия,детский'\n",
      " 'триллер,драма,биография' 'мультфильм,ужасы,фэнтези'\n",
      " 'мультфильм,ужасы,фантастика' 'ужасы,боевик,комедия'\n",
      " 'драма,биография,спорт' 'мультфильм' 'мелодрама,комедия,драма'\n",
      " 'приключения,фантастика,семейный' 'комедия,криминал,детектив'\n",
      " 'ужасы,триллер,комедия' 'криминал,комедия,триллер'\n",
      " 'семейный,приключения,комедия' 'мультфильм,драма,приключения'\n",
      " 'ужасы,драма,детектив' 'драма,приключения,фэнтези'\n",
      " 'фантастика,мультфильм,драма' 'драма,триллер,детектив'\n",
      " 'драма,история,музыка' 'детский' 'триллер,боевик,криминал'\n",
      " 'драма,фантастика' 'комедия,драма,семейный' 'боевик,драма,комедия'\n",
      " 'комедия,ужасы' 'драма,фантастика,триллер' 'фантастика,драма,триллер'\n",
      " 'история,спорт,драма' 'документальный,биография' 'биография,история'\n",
      " 'спорт,драма' 'боевик,фэнтези' 'мультфильм,фэнтези'\n",
      " 'документальный,комедия,история' 'криминал,комедия,боевик'\n",
      " 'фэнтези,приключения,драма' 'музыка,концерт' 'триллер,драма,боевик'\n",
      " 'комедия,криминал,боевик' 'комедия,фантастика,боевик'\n",
      " 'вестерн,приключения,боевик' 'аниме,мультфильм,комедия'\n",
      " 'детектив,криминал,триллер' 'мультфильм,комедия,криминал'\n",
      " 'комедия,приключения,детектив' 'мелодрама,фантастика,драма'\n",
      " 'драма,комедия,семейный' 'приключения,фантастика'\n",
      " 'триллер,детектив,ужасы' 'комедия,приключения,фэнтези'\n",
      " 'фэнтези,триллер,драма' 'мелодрама,приключения,боевик'\n",
      " 'детектив,триллер,криминал' 'фэнтези,семейный,мелодрама' 'военный,драма'\n",
      " 'документальный,приключения,семейный' 'криминал,комедия,драма'\n",
      " 'комедия,фантастика' 'история,биография,драма' 'мелодрама,драма,музыка'\n",
      " 'боевик,мелодрама' 'комедия,криминал,триллер' 'детектив,триллер,боевик'\n",
      " 'комедия,боевик,криминал' 'комедия,вестерн' 'детский,мелодрама,семейный'\n",
      " 'короткометражка,мультфильм' 'комедия,фэнтези' 'фантастика,драма,ужасы'\n",
      " 'триллер,драма,ужасы' 'драма,фэнтези,история'\n",
      " 'комедия,драма,короткометражка' 'фэнтези,триллер,приключения' 'семейный'\n",
      " 'комедия,криминал,драма' 'комедия,фэнтези,ужасы'\n",
      " 'короткометражка,комедия,криминал' 'фантастика' 'триллер,ужасы,драма'\n",
      " 'мелодрама,драма,фэнтези' 'фантастика,приключения,драма'\n",
      " 'боевик,детектив' 'военный,драма,боевик' 'комедия,мелодрама,фэнтези'\n",
      " 'вестерн,криминал,триллер' 'драма,история,триллер'\n",
      " 'мультфильм,фантастика,боевик' 'детектив,драма,криминал'\n",
      " 'приключения,история,драма' 'мультфильм,семейный,детский'\n",
      " 'биография,драма,история' 'триллер,криминал,боевик' 'история,мелодрама'\n",
      " 'приключения,детский' 'музыка,приключения,концерт'\n",
      " 'военный,драма,комедия' 'фэнтези,боевик,военный'\n",
      " 'фантастика,детектив,боевик' 'мультфильм,фэнтези,история'\n",
      " 'биография,мелодрама,драма' 'документальный,биография,спорт'\n",
      " 'фантастика,комедия,детектив' 'музыка,концерт,документальный'\n",
      " 'триллер,боевик,приключения' 'триллер,драма,комедия' 'детектив,криминал'\n",
      " 'мультфильм,приключения,фэнтези' 'мелодрама,приключения' 'комедия,музыка'\n",
      " 'мелодрама,комедия,ужасы' 'драма,криминал,приключения'\n",
      " 'приключения,детектив,мелодрама' 'драма,криминал,фантастика'\n",
      " 'фэнтези,драма,биография' 'детектив,фантастика,криминал'\n",
      " 'триллер,драма,фантастика' 'ужасы,комедия,боевик' 'мелодрама,история'\n",
      " 'триллер,боевик' 'фильм-нуар,триллер,детектив'\n",
      " 'комедия,криминал,приключения' 'ужасы,триллер,мелодрама'\n",
      " 'военный,драма,история' 'драма,спорт,история'\n",
      " 'документальный,драма,история' 'триллер,мелодрама,детектив'\n",
      " 'детский,семейный' 'мюзикл,семейный,драма' 'биография,военный,драма'\n",
      " 'мультфильм,детский' 'боевик,криминал,драма' 'детектив,фэнтези,триллер'\n",
      " 'драма,боевик,приключения' 'драма,мелодрама,фэнтези'\n",
      " 'детектив,история,драма' 'фэнтези,боевик,ужасы' 'ужасы,фэнтези,мелодрама'\n",
      " 'ужасы,приключения' 'боевик,фантастика' 'ужасы,мелодрама,детектив'\n",
      " 'фантастика,триллер,приключения' 'боевик,приключения,история'\n",
      " 'приключения,боевик,триллер' 'детектив,ужасы,криминал' 'семейный,фэнтези'\n",
      " 'мюзикл,мелодрама' 'драма,военный,приключения'\n",
      " 'фантастика,драма,приключения' 'приключения,семейный,драма'\n",
      " 'история,драма,боевик' 'мультфильм,приключения,комедия'\n",
      " 'криминал,драма,комедия' 'ужасы,комедия,драма'\n",
      " 'комедия,семейный,приключения' 'мюзикл,фэнтези,драма'\n",
      " 'драма,вестерн,боевик' 'фантастика,триллер,детектив'\n",
      " 'драма,история,детектив' 'короткометражка,биография'\n",
      " 'мультфильм,приключения,фантастика' 'комедия,триллер'\n",
      " 'мультфильм,приключения,детектив' 'драма,триллер'\n",
      " 'ужасы,триллер,криминал' 'документальный,криминал,военный'\n",
      " 'ужасы,фэнтези,драма' 'фэнтези,комедия' 'ужасы,фэнтези,комедия'\n",
      " 'комедия,музыка,драма' 'мультфильм,приключения,военный'\n",
      " 'мюзикл,фэнтези,комедия' 'боевик,фантастика,приключения'\n",
      " 'триллер,ужасы,криминал' 'ужасы,фантастика,драма'\n",
      " 'фантастика,приключения,семейный' 'короткометражка,музыка'\n",
      " 'мелодрама,детектив,комедия' 'документальный,триллер,биография'\n",
      " 'боевик,фантастика,триллер' 'спорт,драма,комедия'\n",
      " 'фэнтези,мелодрама,приключения' 'триллер,детектив,криминал'\n",
      " 'короткометражка,мелодрама' 'мультфильм,семейный,спорт'\n",
      " 'комедия,фэнтези,мелодрама' 'драма,спорт,комедия'\n",
      " 'история,драма,мелодрама' 'драма,боевик,криминал' 'драма,комедия,триллер'\n",
      " 'аниме,мультфильм' 'документальный,ужасы' 'мультфильм,короткометражка'\n",
      " 'драма,история,военный' 'мультфильм,короткометражка,фэнтези'\n",
      " 'комедия,военный,музыка' 'биография,история,драма'\n",
      " 'ужасы,драма,мелодрама' 'драма,комедия,детектив'\n",
      " 'комедия,семейный,фантастика' 'мультфильм,семейный,комедия'\n",
      " 'история,детектив' 'приключения,мелодрама,детектив'\n",
      " 'мюзикл,комедия,мелодрама' 'драма,фантастика,ужасы'\n",
      " 'мультфильм,ужасы,комедия' 'для взрослых,драма,комедия'\n",
      " 'ужасы,комедия,музыка' 'комедия,история,драма'\n",
      " 'семейный,детектив,детский' 'короткометражка,драма'\n",
      " 'документальный,новости,драма' 'триллер,мелодрама' 'ужасы,драма,вестерн'\n",
      " 'мюзикл,фэнтези,семейный' 'вестерн,драма,триллер'\n",
      " 'приключения,вестерн,боевик' 'семейный,комедия,музыка'\n",
      " 'боевик,драма,вестерн' 'ужасы,драма,триллер' 'фантастика,мелодрама'\n",
      " 'комедия,криминал,биография' 'семейный,мультфильм,комедия'\n",
      " 'комедия,драма,криминал' 'фантастика,боевик,военный'\n",
      " 'приключения,биография,драма' 'приключения,триллер,биография'\n",
      " 'криминал,боевик,триллер' 'боевик,вестерн,приключения' 'история,драма'\n",
      " 'фантастика,фэнтези,комедия' 'мультфильм,детский,комедия'\n",
      " 'мелодрама,комедия,триллер' 'документальный,боевик,приключения'\n",
      " 'драма,приключения' 'мелодрама,военный,драма' 'триллер,фэнтези'\n",
      " 'драма,триллер,биография' 'фэнтези,боевик,семейный'\n",
      " 'фантастика,триллер,комедия' 'документальный,фэнтези'\n",
      " 'комедия,мультфильм,фантастика' 'криминал,биография,комедия'\n",
      " 'биография,спорт,драма' 'приключения,военный' 'мультфильм,семейный,драма'\n",
      " 'документальный,фэнтези,драма' 'комедия,боевик,фантастика'\n",
      " 'семейный,приключения,военный' 'триллер,ужасы,детектив' 'короткометражка'\n",
      " 'мелодрама,триллер,история' 'документальный,история'\n",
      " 'мультфильм,приключения,детский' 'драма,комедия,мультфильм'\n",
      " 'военный,детектив' 'семейный,приключения,документальный'\n",
      " 'детский,фэнтези' 'документальный,комедия' 'комедия,биография'\n",
      " 'криминал,комедия' 'спорт,мелодрама,криминал' 'фантастика,комедия,боевик'\n",
      " 'боевик,приключения,детектив' 'детектив,триллер,драма'\n",
      " 'документальный,фантастика' 'мелодрама,комедия,семейный'\n",
      " 'мультфильм,мелодрама,комедия' 'драма,спорт,семейный'\n",
      " 'фантастика,мелодрама,фэнтези' 'мюзикл,комедия,музыка'\n",
      " 'фантастика,триллер,мелодрама' 'приключения,комедия,фэнтези'\n",
      " 'фэнтези,боевик,детектив' 'фэнтези,боевик,мелодрама' 'комедия,военный'\n",
      " 'драма,спорт,боевик' 'мультфильм,боевик,триллер' 'мелодрама,семейный'\n",
      " 'фантастика,боевик,детектив' 'драма,приключения,история'\n",
      " 'документальный,драма,музыка' 'фантастика,триллер,боевик'\n",
      " 'фэнтези,боевик,вестерн' 'драма,комедия,мелодрама'\n",
      " 'ужасы,фэнтези,приключения' 'триллер,фэнтези,драма'\n",
      " 'мультфильм,мюзикл,мелодрама' 'ужасы,триллер,фантастика'\n",
      " 'триллер,мелодрама,комедия' 'ужасы,комедия,семейный'\n",
      " 'комедия,приключения,музыка' 'документальный,комедия,криминал'\n",
      " 'мелодрама,детектив' 'детский,приключения,фантастика'\n",
      " 'короткометражка,боевик,драма' 'боевик,комедия,семейный'\n",
      " 'фантастика,боевик,мелодрама' 'фэнтези,триллер,мелодрама'\n",
      " 'драма,детектив,история' 'боевик,криминал,детектив'\n",
      " 'мультфильм,фэнтези,мелодрама' 'мелодрама,драма,боевик'\n",
      " 'драма,вестерн,приключения' 'драма,приключения,мелодрама'\n",
      " 'фэнтези,боевик,криминал' 'фантастика,комедия,семейный'\n",
      " 'детский,фэнтези,приключения' 'ужасы,боевик'\n",
      " 'фантастика,мелодрама,комедия' 'семейный,спорт,боевик'\n",
      " 'триллер,биография,драма' 'ужасы,драма,комедия'\n",
      " 'мультфильм,фэнтези,триллер' 'мюзикл' 'боевик,спорт,драма'\n",
      " 'комедия,приключения,вестерн' 'документальный,ужасы,боевик'\n",
      " 'фантастика,боевик,семейный' 'военный,история' 'ужасы,боевик,криминал'\n",
      " 'детектив,триллер' 'драма,семейный,комедия' 'драма,детектив,приключения'\n",
      " 'драма,криминал,история' 'приключения,триллер' 'боевик,драма,биография'\n",
      " 'драма,приключения,триллер' 'комедия,фэнтези,приключения'\n",
      " 'фантастика,боевик,ужасы' 'драма,комедия,фантастика'\n",
      " 'детектив,криминал,драма' 'боевик,триллер,фэнтези'\n",
      " 'приключения,детектив,семейный' 'ужасы,комедия,криминал'\n",
      " 'мультфильм,биография,драма' 'история,боевик,фэнтези'\n",
      " 'детектив,криминал,боевик' 'приключения,фэнтези'\n",
      " 'комедия,приключения,спорт' 'драма,биография,мюзикл'\n",
      " 'комедия,семейный,фэнтези' 'детектив,драма,триллер'\n",
      " 'боевик,приключения,семейный' 'биография,спорт,комедия'\n",
      " 'фантастика,приключения,военный' 'документальный,драма,биография'\n",
      " 'детектив,приключения,драма' 'аниме,мультфильм,приключения'\n",
      " 'семейный,приключения' 'ужасы,фэнтези,детектив' 'семейный,документальный'\n",
      " 'драма,приключения,семейный' 'приключения,история,военный'\n",
      " 'фэнтези,мелодрама' 'фэнтези,триллер,детектив'\n",
      " 'документальный,спорт,биография' 'комедия,триллер,драма' 'драма,ужасы'\n",
      " 'биография,музыка,драма' 'фэнтези,ужасы' 'детектив,мелодрама,фэнтези'\n",
      " 'боевик,военный,история' 'биография,драма,криминал'\n",
      " 'триллер,мелодрама,криминал' 'семейный,мелодрама' 'биография,драма'\n",
      " 'военный,история,драма' 'фантастика,детектив,фэнтези'\n",
      " 'детектив,приключения,триллер' 'фантастика,приключения'\n",
      " 'мультфильм,короткометражка,мюзикл' 'мультфильм,детский,семейный'\n",
      " 'документальный,драма,комедия' 'комедия,приключения,криминал'\n",
      " 'документальный,семейный,музыка' 'мелодрама,музыка,драма'\n",
      " 'детектив,фантастика,триллер' 'драма,мелодрама,триллер'\n",
      " 'биография,драма,военный' 'приключения,фантастика,драма'\n",
      " 'детектив,фильм-нуар,комедия' 'документальный,спорт'\n",
      " 'триллер,фантастика,драма' 'биография,документальный'\n",
      " 'ужасы,фантастика,мелодрама' 'детектив,комедия'\n",
      " 'история,биография,военный' 'криминал,мелодрама' 'драма,криминал,вестерн'\n",
      " 'мелодрама,семейный,приключения' 'триллер,ужасы,мелодрама'\n",
      " 'фэнтези,драма,фильм-нуар' 'детектив,мелодрама' 'комедия,драма,биография'\n",
      " 'драма,военный,боевик' 'драма,комедия,ужасы' 'фантастика,драма,криминал'\n",
      " 'документальный,музыка,биография' 'мультфильм,боевик,приключения'\n",
      " 'короткометражка,фантастика' 'мультфильм,мелодрама,драма'\n",
      " 'боевик,военный,драма' 'фэнтези,семейный,приключения'\n",
      " 'детский,мультфильм,приключения' 'семейный,фэнтези,комедия'\n",
      " 'фэнтези,ужасы,триллер' 'ужасы,триллер,приключения'\n",
      " 'драма,боевик,история' 'фэнтези,комедия,детектив' 'история,приключения'\n",
      " 'аниме,мультфильм,короткометражка' 'драма,военный,триллер'\n",
      " 'биография,криминал,триллер' 'фантастика,фэнтези,детектив'\n",
      " 'вестерн,биография,драма' 'биография,музыка,мюзикл'\n",
      " 'драма,история,биография' 'приключения,драма,фантастика'\n",
      " 'комедия,фэнтези,криминал' 'биография,спорт,история'\n",
      " 'драма,криминал,семейный' 'детектив,боевик,история'\n",
      " 'ужасы,комедия,детектив' 'триллер,приключения,драма'\n",
      " 'фэнтези,комедия,криминал' 'триллер,криминал,приключения'\n",
      " 'комедия,детектив,приключения' 'фэнтези,драма,ужасы'\n",
      " 'ужасы,драма,военный' 'реальное ТВ' 'аниме,мультфильм,детектив'\n",
      " 'приключения,фэнтези,семейный' 'драма,биография,комедия'\n",
      " 'триллер,комедия,ужасы' 'музыка,мелодрама,фэнтези' 'мультфильм,история'\n",
      " 'мультфильм,комедия,фантастика' 'биография,криминал,драма'\n",
      " 'комедия,мелодрама,фантастика' 'криминал,боевик,комедия'\n",
      " 'история,криминал' 'детектив,комедия,драма' 'триллер,фантастика,боевик'\n",
      " 'криминал,боевик' 'комедия,драма,военный' 'драма,триллер,криминал'\n",
      " 'мультфильм,мелодрама,приключения' 'фантастика,фэнтези,триллер'\n",
      " 'короткометражка,драма,триллер' 'военный,боевик,история'\n",
      " 'боевик,драма,триллер' 'документальный,военный,драма'\n",
      " 'драма,криминал,фильм-нуар' 'мультфильм,детский,приключения'\n",
      " 'мелодрама,история,драма']\n",
      "-----------------------------------\n",
      "Уникальные значения после исправления: ['боевик, драма, мелодрама' 'драма, военный' 'фантастика, боевик, триллер'\n",
      " 'драма' 'мелодрама, комедия' 'мюзикл, мелодрама, комедия'\n",
      " 'комедия, криминал' 'боевик, триллер, детектив'\n",
      " 'боевик, драма, приключения' 'драма, спорт' 'триллер, драма, мелодрама'\n",
      " 'комедия, мелодрама' 'драма, мелодрама, комедия' 'драма, мелодрама'\n",
      " 'драма, история' 'драма, мелодрама, семейный'\n",
      " 'комедия, мелодрама, криминал' 'комедия' 'боевик, драма, криминал'\n",
      " 'драма, комедия' 'ужасы, фантастика, комедия'\n",
      " 'мультфильм, короткометражка, мелодрама' 'драма, криминал'\n",
      " 'мультфильм, фантастика, фэнтези' 'триллер, драма, криминал'\n",
      " 'драма, мелодрама, биография' 'драма, комедия, военный'\n",
      " 'фантастика, драма, детектив' 'мюзикл, семейный' 'unknown'\n",
      " 'военный, приключения, драма' 'документальный, драма'\n",
      " 'драма, биография, история' 'боевик, триллер, драма' 'фэнтези, боевик'\n",
      " 'боевик, комедия, криминал' 'мюзикл, комедия, детский'\n",
      " 'комедия, мелодрама, драма' 'мультфильм, фэнтези, комедия'\n",
      " 'комедия, история' 'мелодрама' 'драма, биография, музыка'\n",
      " 'фэнтези, драма, мелодрама' 'триллер, военный'\n",
      " 'драма, мелодрама, военный' 'мюзикл, драма, мелодрама' 'мюзикл, комедия'\n",
      " 'мультфильм, приключения, семейный' 'ужасы, триллер'\n",
      " 'боевик, драма, военный' 'драма, боевик' 'мультфильм, драма, комедия'\n",
      " 'триллер, криминал' 'военный, биография, драма' 'комедия, семейный'\n",
      " 'военный' 'драма, семейный, биография' 'фэнтези, приключения, семейный'\n",
      " 'драма, криминал, биография' 'ужасы, триллер, детектив'\n",
      " 'боевик, история, драма' 'ужасы, триллер, драма' 'драма, криминал, спорт'\n",
      " 'документальный, короткометражка' 'триллер, драма'\n",
      " 'криминал, детектив, приключения' 'драма, комедия, криминал'\n",
      " 'драма, комедия, вестерн' 'драма, мелодрама, детектив'\n",
      " 'мелодрама, биография' 'фэнтези, мелодрама, драма'\n",
      " 'драма, мелодрама, история' 'комедия, приключения, история' 'приключения'\n",
      " 'драма, семейный' 'криминал, детектив'\n",
      " 'мультфильм, короткометражка, ужасы' 'фантастика, триллер, драма'\n",
      " 'фэнтези, мелодрама, комедия' 'драма, биография'\n",
      " 'комедия, криминал, история' 'триллер, драма, детектив'\n",
      " 'фантастика, комедия, приключения' 'фэнтези, семейный'\n",
      " 'ужасы, фантастика, боевик' 'мелодрама, криминал'\n",
      " 'комедия, приключения, мелодрама' 'боевик, триллер, приключения'\n",
      " 'боевик, приключения' 'боевик, триллер, криминал'\n",
      " 'документальный, военный, история' 'драма, музыка' 'боевик, драма'\n",
      " 'приключения, боевик' 'драма, военный, биография'\n",
      " 'триллер, драма, приключения' 'аниме, мультфильм, фэнтези'\n",
      " 'триллер, детектив, драма' 'боевик, триллер, мелодрама' 'боевик, история'\n",
      " 'приключения, история' 'драма, комедия, приключения'\n",
      " 'фэнтези, комедия, приключения' 'драма, вестерн' 'документальный, музыка'\n",
      " 'мелодрама, драма' 'триллер, криминал, детектив' 'ужасы'\n",
      " 'боевик, комедия, приключения' 'мультфильм, фэнтези, боевик'\n",
      " 'боевик, фэнтези, драма' 'фэнтези, драма' 'фэнтези, боевик, комедия'\n",
      " 'приключения, детский, комедия' 'документальный'\n",
      " 'боевик, триллер, комедия' 'мелодрама, комедия, криминал'\n",
      " 'драма, детектив' 'мюзикл, ужасы, триллер' 'детектив, триллер, ужасы'\n",
      " 'ужасы, фэнтези' 'ужасы, фэнтези, триллер' 'мультфильм, драма'\n",
      " 'ужасы, боевик, фантастика' 'боевик' 'фантастика, боевик'\n",
      " 'мелодрама, комедия, приключения' 'триллер, детектив'\n",
      " 'мюзикл, мелодрама, фэнтези' 'криминал' 'триллер, комедия, криминал'\n",
      " 'боевик, приключения, триллер' 'триллер, драма, военный'\n",
      " 'комедия, семейный, музыка' 'комедия, фантастика, мелодрама'\n",
      " 'фантастика, триллер, криминал' 'комедия, драма' 'боевик, военный'\n",
      " 'ужасы, фантастика, триллер' 'фантастика, драма, мелодрама'\n",
      " 'фэнтези, драма, детектив' 'боевик, триллер' 'боевик, драма, история'\n",
      " 'мультфильм, мюзикл, фэнтези' 'для взрослых, драма, мелодрама'\n",
      " 'мультфильм, боевик, детектив' 'фантастика, мелодрама, боевик'\n",
      " 'ужасы, фантастика, детектив' 'фантастика, боевик, приключения'\n",
      " 'мелодрама, комедия, спорт' 'комедия, боевик, приключения'\n",
      " 'документальный, приключения' 'мультфильм, короткометражка, детский'\n",
      " 'комедия, приключения' 'ужасы, драма' 'ужасы, фэнтези, боевик'\n",
      " 'мультфильм, фэнтези, детский' 'мюзикл, боевик, драма'\n",
      " 'семейный, комедия, драма' 'концерт, музыка' 'фэнтези, боевик, драма'\n",
      " 'драма, комедия, музыка' 'фантастика, фэнтези, боевик'\n",
      " 'фэнтези, комедия, семейный' 'фэнтези, драма, комедия'\n",
      " 'мультфильм, мюзикл, драма' 'триллер' 'боевик, криминал, триллер'\n",
      " 'мультфильм, приключения, драма' 'мелодрама, музыка'\n",
      " 'документальный, музыка, концерт' 'мультфильм, семейный'\n",
      " 'мультфильм, комедия, приключения' 'мультфильм, комедия, семейный'\n",
      " 'фантастика, драма' 'фэнтези, боевик, приключения'\n",
      " 'мультфильм, приключения' 'драма, военный, история' 'история'\n",
      " 'драма, приключения, военный' 'документальный, короткометражка, семейный'\n",
      " 'мелодрама, история, триллер' 'ужасы, детектив'\n",
      " 'мюзикл, комедия, приключения' 'драма, спорт, биография'\n",
      " 'фантастика, боевик, комедия' 'фантастика, приключения, детектив'\n",
      " 'короткометражка, драма, военный' 'драма, мультфильм'\n",
      " 'приключения, семейный' 'детектив' 'триллер, приключения'\n",
      " 'аниме, мультфильм, боевик' 'драма, комедия, биография'\n",
      " 'драма, комедия, спорт' 'боевик, мелодрама, комедия' 'семейный, комедия'\n",
      " 'фэнтези, боевик, триллер' 'документальный, фэнтези, семейный'\n",
      " 'фантастика, фэнтези, драма' 'ужасы, комедия, фэнтези'\n",
      " 'документальный, биография, музыка' 'фантастика, боевик, фэнтези'\n",
      " 'ужасы, боевик, триллер' 'комедия, криминал, семейный'\n",
      " 'приключения, драма' 'криминал, драма, триллер'\n",
      " 'драма, детектив, криминал' 'фэнтези, приключения, комедия'\n",
      " 'комедия, спорт' 'мюзикл, фэнтези, мелодрама'\n",
      " 'мультфильм, фэнтези, приключения' 'фантастика, фэнтези, приключения'\n",
      " 'фэнтези' 'фэнтези, приключения, боевик' 'фантастика, боевик, драма'\n",
      " 'криминал, драма' 'криминал, триллер, драма'\n",
      " 'драма, мелодрама, приключения' 'детский, комедия'\n",
      " 'фантастика, драма, боевик' 'мультфильм, семейный, фэнтези'\n",
      " 'концерт, музыка, документальный' 'ужасы, комедия, приключения'\n",
      " 'драма, мелодрама, криминал' 'ужасы, фантастика, фэнтези'\n",
      " 'боевик, комедия' 'мультфильм, фантастика, комедия' 'триллер, ужасы'\n",
      " 'мультфильм, мюзикл, комедия' 'мелодрама, фэнтези, триллер'\n",
      " 'детский, приключения, комедия' 'комедия, детектив'\n",
      " 'аниме, мультфильм, мелодрама' 'документальный, драма, семейный'\n",
      " 'документальный, биография, история' 'военный, боевик, драма'\n",
      " 'ужасы, комедия' 'комедия, приключения, семейный'\n",
      " 'приключения, биография, история' 'детский, приключения, семейный'\n",
      " 'спорт, драма, биография' 'аниме, мультфильм, ужасы'\n",
      " 'фантастика, боевик, криминал' 'мюзикл, драма'\n",
      " 'драма, криминал, детектив' 'аниме, мультфильм, драма'\n",
      " 'драма, триллер, приключения' 'триллер, криминал, драма'\n",
      " 'фэнтези, комедия, драма' 'мультфильм, комедия' 'драма, комедия, история'\n",
      " 'комедия, биография, история' 'мультфильм, фантастика, приключения'\n",
      " 'аниме, мультфильм, фантастика' 'мультфильм, фэнтези, семейный'\n",
      " 'мультфильм, боевик, комедия' 'комедия, криминал, спорт'\n",
      " 'документальный, мюзикл' 'мелодрама, комедия, музыка' 'биография'\n",
      " 'триллер, криминал, комедия' 'фантастика, драма, комедия'\n",
      " 'комедия, драма, мелодрама' 'фантастика, приключения, боевик'\n",
      " 'мультфильм, фэнтези, драма' 'триллер, комедия'\n",
      " 'драма, приключения, биография' 'фантастика, комедия'\n",
      " 'мелодрама, драма, комедия' 'боевик, криминал' 'драма, криминал, боевик'\n",
      " 'мультфильм, мюзикл, детский' 'драма, фэнтези' 'документальный, семейный'\n",
      " 'фэнтези, драма, приключения' 'ужасы, комедия, фантастика'\n",
      " 'драма, мелодрама, музыка' 'фэнтези, драма, семейный'\n",
      " 'триллер, мелодрама, драма' 'вестерн, боевик, драма'\n",
      " 'мультфильм, короткометражка, комедия' 'триллер, драма, история'\n",
      " 'ужасы, фантастика' 'ужасы, мелодрама, комедия' 'фэнтези, приключения'\n",
      " 'фантастика, триллер' 'ужасы, боевик, фэнтези'\n",
      " 'мультфильм, комедия, детский' 'триллер, драма, биография'\n",
      " 'мультфильм, ужасы, фэнтези' 'мультфильм, ужасы, фантастика'\n",
      " 'ужасы, боевик, комедия' 'драма, биография, спорт' 'мультфильм'\n",
      " 'мелодрама, комедия, драма' 'приключения, фантастика, семейный'\n",
      " 'комедия, криминал, детектив' 'ужасы, триллер, комедия'\n",
      " 'криминал, комедия, триллер' 'семейный, приключения, комедия'\n",
      " 'мультфильм, драма, приключения' 'ужасы, драма, детектив'\n",
      " 'драма, приключения, фэнтези' 'фантастика, мультфильм, драма'\n",
      " 'драма, триллер, детектив' 'драма, история, музыка' 'детский'\n",
      " 'триллер, боевик, криминал' 'драма, фантастика'\n",
      " 'комедия, драма, семейный' 'боевик, драма, комедия' 'комедия, ужасы'\n",
      " 'драма, фантастика, триллер' 'фантастика, драма, триллер'\n",
      " 'история, спорт, драма' 'документальный, биография' 'биография, история'\n",
      " 'спорт, драма' 'боевик, фэнтези' 'мультфильм, фэнтези'\n",
      " 'документальный, комедия, история' 'криминал, комедия, боевик'\n",
      " 'фэнтези, приключения, драма' 'музыка, концерт' 'триллер, драма, боевик'\n",
      " 'комедия, криминал, боевик' 'комедия, фантастика, боевик'\n",
      " 'вестерн, приключения, боевик' 'аниме, мультфильм, комедия'\n",
      " 'детектив, криминал, триллер' 'мультфильм, комедия, криминал'\n",
      " 'комедия, приключения, детектив' 'мелодрама, фантастика, драма'\n",
      " 'драма, комедия, семейный' 'приключения, фантастика'\n",
      " 'триллер, детектив, ужасы' 'комедия, приключения, фэнтези'\n",
      " 'фэнтези, триллер, драма' 'мелодрама, приключения, боевик'\n",
      " 'детектив, триллер, криминал' 'фэнтези, семейный, мелодрама'\n",
      " 'военный, драма' 'документальный, приключения, семейный'\n",
      " 'криминал, комедия, драма' 'комедия, фантастика'\n",
      " 'история, биография, драма' 'мелодрама, драма, музыка'\n",
      " 'боевик, мелодрама' 'комедия, криминал, триллер'\n",
      " 'детектив, триллер, боевик' 'комедия, боевик, криминал'\n",
      " 'комедия, вестерн' 'детский, мелодрама, семейный'\n",
      " 'короткометражка, мультфильм' 'комедия, фэнтези'\n",
      " 'фантастика, драма, ужасы' 'триллер, драма, ужасы'\n",
      " 'драма, фэнтези, история' 'комедия, драма, короткометражка'\n",
      " 'фэнтези, триллер, приключения' 'семейный' 'комедия, криминал, драма'\n",
      " 'комедия, фэнтези, ужасы' 'короткометражка, комедия, криминал'\n",
      " 'фантастика' 'триллер, ужасы, драма' 'мелодрама, драма, фэнтези'\n",
      " 'фантастика, приключения, драма' 'боевик, детектив'\n",
      " 'военный, драма, боевик' 'комедия, мелодрама, фэнтези'\n",
      " 'вестерн, криминал, триллер' 'драма, история, триллер'\n",
      " 'мультфильм, фантастика, боевик' 'детектив, драма, криминал'\n",
      " 'приключения, история, драма' 'мультфильм, семейный, детский'\n",
      " 'биография, драма, история' 'триллер, криминал, боевик'\n",
      " 'история, мелодрама' 'приключения, детский'\n",
      " 'музыка, приключения, концерт' 'военный, драма, комедия'\n",
      " 'фэнтези, боевик, военный' 'фантастика, детектив, боевик'\n",
      " 'мультфильм, фэнтези, история' 'биография, мелодрама, драма'\n",
      " 'документальный, биография, спорт' 'фантастика, комедия, детектив'\n",
      " 'музыка, концерт, документальный' 'триллер, боевик, приключения'\n",
      " 'триллер, драма, комедия' 'детектив, криминал'\n",
      " 'мультфильм, приключения, фэнтези' 'мелодрама, приключения'\n",
      " 'комедия, музыка' 'мелодрама, комедия, ужасы'\n",
      " 'драма, криминал, приключения' 'приключения, детектив, мелодрама'\n",
      " 'драма, криминал, фантастика' 'фэнтези, драма, биография'\n",
      " 'детектив, фантастика, криминал' 'триллер, драма, фантастика'\n",
      " 'ужасы, комедия, боевик' 'мелодрама, история' 'триллер, боевик'\n",
      " 'фильм, нуар, триллер, детектив' 'комедия, криминал, приключения'\n",
      " 'ужасы, триллер, мелодрама' 'военный, драма, история'\n",
      " 'драма, спорт, история' 'документальный, драма, история'\n",
      " 'триллер, мелодрама, детектив' 'детский, семейный'\n",
      " 'мюзикл, семейный, драма' 'биография, военный, драма'\n",
      " 'мультфильм, детский' 'боевик, криминал, драма'\n",
      " 'детектив, фэнтези, триллер' 'драма, боевик, приключения'\n",
      " 'драма, мелодрама, фэнтези' 'детектив, история, драма'\n",
      " 'фэнтези, боевик, ужасы' 'ужасы, фэнтези, мелодрама' 'ужасы, приключения'\n",
      " 'боевик, фантастика' 'ужасы, мелодрама, детектив'\n",
      " 'фантастика, триллер, приключения' 'боевик, приключения, история'\n",
      " 'приключения, боевик, триллер' 'детектив, ужасы, криминал'\n",
      " 'семейный, фэнтези' 'мюзикл, мелодрама' 'драма, военный, приключения'\n",
      " 'фантастика, драма, приключения' 'приключения, семейный, драма'\n",
      " 'история, драма, боевик' 'мультфильм, приключения, комедия'\n",
      " 'криминал, драма, комедия' 'ужасы, комедия, драма'\n",
      " 'комедия, семейный, приключения' 'мюзикл, фэнтези, драма'\n",
      " 'драма, вестерн, боевик' 'фантастика, триллер, детектив'\n",
      " 'драма, история, детектив' 'короткометражка, биография'\n",
      " 'мультфильм, приключения, фантастика' 'комедия, триллер'\n",
      " 'мультфильм, приключения, детектив' 'драма, триллер'\n",
      " 'ужасы, триллер, криминал' 'документальный, криминал, военный'\n",
      " 'ужасы, фэнтези, драма' 'фэнтези, комедия' 'ужасы, фэнтези, комедия'\n",
      " 'комедия, музыка, драма' 'мультфильм, приключения, военный'\n",
      " 'мюзикл, фэнтези, комедия' 'боевик, фантастика, приключения'\n",
      " 'триллер, ужасы, криминал' 'ужасы, фантастика, драма'\n",
      " 'фантастика, приключения, семейный' 'короткометражка, музыка'\n",
      " 'мелодрама, детектив, комедия' 'документальный, триллер, биография'\n",
      " 'боевик, фантастика, триллер' 'спорт, драма, комедия'\n",
      " 'фэнтези, мелодрама, приключения' 'триллер, детектив, криминал'\n",
      " 'короткометражка, мелодрама' 'мультфильм, семейный, спорт'\n",
      " 'комедия, фэнтези, мелодрама' 'драма, спорт, комедия'\n",
      " 'история, драма, мелодрама' 'драма, боевик, криминал'\n",
      " 'драма, комедия, триллер' 'аниме, мультфильм' 'документальный, ужасы'\n",
      " 'мультфильм, короткометражка' 'драма, история, военный'\n",
      " 'мультфильм, короткометражка, фэнтези' 'комедия, военный, музыка'\n",
      " 'биография, история, драма' 'ужасы, драма, мелодрама'\n",
      " 'драма, комедия, детектив' 'комедия, семейный, фантастика'\n",
      " 'мультфильм, семейный, комедия' 'история, детектив'\n",
      " 'приключения, мелодрама, детектив' 'мюзикл, комедия, мелодрама'\n",
      " 'драма, фантастика, ужасы' 'мультфильм, ужасы, комедия'\n",
      " 'для взрослых, драма, комедия' 'ужасы, комедия, музыка'\n",
      " 'комедия, история, драма' 'семейный, детектив, детский'\n",
      " 'короткометражка, драма' 'документальный, новости, драма'\n",
      " 'триллер, мелодрама' 'ужасы, драма, вестерн' 'мюзикл, фэнтези, семейный'\n",
      " 'вестерн, драма, триллер' 'приключения, вестерн, боевик'\n",
      " 'семейный, комедия, музыка' 'боевик, драма, вестерн'\n",
      " 'ужасы, драма, триллер' 'фантастика, мелодрама'\n",
      " 'комедия, криминал, биография' 'семейный, мультфильм, комедия'\n",
      " 'комедия, драма, криминал' 'фантастика, боевик, военный'\n",
      " 'приключения, биография, драма' 'приключения, триллер, биография'\n",
      " 'криминал, боевик, триллер' 'боевик, вестерн, приключения'\n",
      " 'история, драма' 'фантастика, фэнтези, комедия'\n",
      " 'мультфильм, детский, комедия' 'мелодрама, комедия, триллер'\n",
      " 'документальный, боевик, приключения' 'драма, приключения'\n",
      " 'мелодрама, военный, драма' 'триллер, фэнтези'\n",
      " 'драма, триллер, биография' 'фэнтези, боевик, семейный'\n",
      " 'фантастика, триллер, комедия' 'документальный, фэнтези'\n",
      " 'комедия, мультфильм, фантастика' 'криминал, биография, комедия'\n",
      " 'биография, спорт, драма' 'приключения, военный'\n",
      " 'мультфильм, семейный, драма' 'документальный, фэнтези, драма'\n",
      " 'комедия, боевик, фантастика' 'семейный, приключения, военный'\n",
      " 'триллер, ужасы, детектив' 'короткометражка'\n",
      " 'мелодрама, триллер, история' 'документальный, история'\n",
      " 'мультфильм, приключения, детский' 'драма, комедия, мультфильм'\n",
      " 'военный, детектив' 'семейный, приключения, документальный'\n",
      " 'детский, фэнтези' 'документальный, комедия' 'комедия, биография'\n",
      " 'криминал, комедия' 'спорт, мелодрама, криминал'\n",
      " 'фантастика, комедия, боевик' 'боевик, приключения, детектив'\n",
      " 'детектив, триллер, драма' 'документальный, фантастика'\n",
      " 'мелодрама, комедия, семейный' 'мультфильм, мелодрама, комедия'\n",
      " 'драма, спорт, семейный' 'фантастика, мелодрама, фэнтези'\n",
      " 'мюзикл, комедия, музыка' 'фантастика, триллер, мелодрама'\n",
      " 'приключения, комедия, фэнтези' 'фэнтези, боевик, детектив'\n",
      " 'фэнтези, боевик, мелодрама' 'комедия, военный' 'драма, спорт, боевик'\n",
      " 'мультфильм, боевик, триллер' 'мелодрама, семейный'\n",
      " 'фантастика, боевик, детектив' 'драма, приключения, история'\n",
      " 'документальный, драма, музыка' 'фантастика, триллер, боевик'\n",
      " 'фэнтези, боевик, вестерн' 'драма, комедия, мелодрама'\n",
      " 'ужасы, фэнтези, приключения' 'триллер, фэнтези, драма'\n",
      " 'мультфильм, мюзикл, мелодрама' 'ужасы, триллер, фантастика'\n",
      " 'триллер, мелодрама, комедия' 'ужасы, комедия, семейный'\n",
      " 'комедия, приключения, музыка' 'документальный, комедия, криминал'\n",
      " 'мелодрама, детектив' 'детский, приключения, фантастика'\n",
      " 'короткометражка, боевик, драма' 'боевик, комедия, семейный'\n",
      " 'фантастика, боевик, мелодрама' 'фэнтези, триллер, мелодрама'\n",
      " 'драма, детектив, история' 'боевик, криминал, детектив'\n",
      " 'мультфильм, фэнтези, мелодрама' 'мелодрама, драма, боевик'\n",
      " 'драма, вестерн, приключения' 'драма, приключения, мелодрама'\n",
      " 'фэнтези, боевик, криминал' 'фантастика, комедия, семейный'\n",
      " 'детский, фэнтези, приключения' 'ужасы, боевик'\n",
      " 'фантастика, мелодрама, комедия' 'семейный, спорт, боевик'\n",
      " 'триллер, биография, драма' 'ужасы, драма, комедия'\n",
      " 'мультфильм, фэнтези, триллер' 'мюзикл' 'боевик, спорт, драма'\n",
      " 'комедия, приключения, вестерн' 'документальный, ужасы, боевик'\n",
      " 'фантастика, боевик, семейный' 'военный, история'\n",
      " 'ужасы, боевик, криминал' 'детектив, триллер' 'драма, семейный, комедия'\n",
      " 'драма, детектив, приключения' 'драма, криминал, история'\n",
      " 'приключения, триллер' 'боевик, драма, биография'\n",
      " 'драма, приключения, триллер' 'комедия, фэнтези, приключения'\n",
      " 'фантастика, боевик, ужасы' 'драма, комедия, фантастика'\n",
      " 'детектив, криминал, драма' 'боевик, триллер, фэнтези'\n",
      " 'приключения, детектив, семейный' 'ужасы, комедия, криминал'\n",
      " 'мультфильм, биография, драма' 'история, боевик, фэнтези'\n",
      " 'детектив, криминал, боевик' 'приключения, фэнтези'\n",
      " 'комедия, приключения, спорт' 'драма, биография, мюзикл'\n",
      " 'комедия, семейный, фэнтези' 'детектив, драма, триллер'\n",
      " 'боевик, приключения, семейный' 'биография, спорт, комедия'\n",
      " 'фантастика, приключения, военный' 'документальный, драма, биография'\n",
      " 'детектив, приключения, драма' 'аниме, мультфильм, приключения'\n",
      " 'семейный, приключения' 'ужасы, фэнтези, детектив'\n",
      " 'семейный, документальный' 'драма, приключения, семейный'\n",
      " 'приключения, история, военный' 'фэнтези, мелодрама'\n",
      " 'фэнтези, триллер, детектив' 'документальный, спорт, биография'\n",
      " 'комедия, триллер, драма' 'драма, ужасы' 'биография, музыка, драма'\n",
      " 'фэнтези, ужасы' 'детектив, мелодрама, фэнтези'\n",
      " 'боевик, военный, история' 'биография, драма, криминал'\n",
      " 'триллер, мелодрама, криминал' 'семейный, мелодрама' 'биография, драма'\n",
      " 'военный, история, драма' 'фантастика, детектив, фэнтези'\n",
      " 'детектив, приключения, триллер' 'фантастика, приключения'\n",
      " 'мультфильм, короткометражка, мюзикл' 'мультфильм, детский, семейный'\n",
      " 'документальный, драма, комедия' 'комедия, приключения, криминал'\n",
      " 'документальный, семейный, музыка' 'мелодрама, музыка, драма'\n",
      " 'детектив, фантастика, триллер' 'драма, мелодрама, триллер'\n",
      " 'биография, драма, военный' 'приключения, фантастика, драма'\n",
      " 'детектив, фильм, нуар, комедия' 'документальный, спорт'\n",
      " 'триллер, фантастика, драма' 'биография, документальный'\n",
      " 'ужасы, фантастика, мелодрама' 'детектив, комедия'\n",
      " 'история, биография, военный' 'криминал, мелодрама'\n",
      " 'драма, криминал, вестерн' 'мелодрама, семейный, приключения'\n",
      " 'триллер, ужасы, мелодрама' 'фэнтези, драма, фильм, нуар'\n",
      " 'детектив, мелодрама' 'комедия, драма, биография'\n",
      " 'драма, военный, боевик' 'драма, комедия, ужасы'\n",
      " 'фантастика, драма, криминал' 'документальный, музыка, биография'\n",
      " 'мультфильм, боевик, приключения' 'короткометражка, фантастика'\n",
      " 'мультфильм, мелодрама, драма' 'боевик, военный, драма'\n",
      " 'фэнтези, семейный, приключения' 'детский, мультфильм, приключения'\n",
      " 'семейный, фэнтези, комедия' 'фэнтези, ужасы, триллер'\n",
      " 'ужасы, триллер, приключения' 'драма, боевик, история'\n",
      " 'фэнтези, комедия, детектив' 'история, приключения'\n",
      " 'аниме, мультфильм, короткометражка' 'драма, военный, триллер'\n",
      " 'биография, криминал, триллер' 'фантастика, фэнтези, детектив'\n",
      " 'вестерн, биография, драма' 'биография, музыка, мюзикл'\n",
      " 'драма, история, биография' 'приключения, драма, фантастика'\n",
      " 'комедия, фэнтези, криминал' 'биография, спорт, история'\n",
      " 'драма, криминал, семейный' 'детектив, боевик, история'\n",
      " 'ужасы, комедия, детектив' 'триллер, приключения, драма'\n",
      " 'фэнтези, комедия, криминал' 'триллер, криминал, приключения'\n",
      " 'комедия, детектив, приключения' 'фэнтези, драма, ужасы'\n",
      " 'ужасы, драма, военный' 'реальное тв' 'аниме, мультфильм, детектив'\n",
      " 'приключения, фэнтези, семейный' 'драма, биография, комедия'\n",
      " 'триллер, комедия, ужасы' 'музыка, мелодрама, фэнтези'\n",
      " 'мультфильм, история' 'мультфильм, комедия, фантастика'\n",
      " 'биография, криминал, драма' 'комедия, мелодрама, фантастика'\n",
      " 'криминал, боевик, комедия' 'история, криминал'\n",
      " 'детектив, комедия, драма' 'триллер, фантастика, боевик'\n",
      " 'криминал, боевик' 'комедия, драма, военный' 'драма, триллер, криминал'\n",
      " 'мультфильм, мелодрама, приключения' 'фантастика, фэнтези, триллер'\n",
      " 'короткометражка, драма, триллер' 'военный, боевик, история'\n",
      " 'боевик, драма, триллер' 'документальный, военный, драма'\n",
      " 'драма, криминал, фильм, нуар' 'мультфильм, детский, приключения'\n",
      " 'мелодрама, история, драма']\n",
      "-----------------------------------\n"
     ]
    }
   ],
   "source": [
    "categorical_object_columns = merged_data.select_dtypes(include=['category', 'object']).columns\n",
    "\n",
    "if len(categorical_object_columns) > 0:\n",
    "    for column in categorical_object_columns:\n",
    "        unique_values = merged_data[column].unique()\n",
    "        print(f\"\\nКолонка: {column}\")\n",
    "        print(f\"Уникальные значения до исправления: {unique_values}\")\n",
    "        print(\"-----------------------------------\")\n",
    "        # Заменяем все разделители на одинаковые\n",
    "        merged_data[column] = merged_data[column].str.replace(' - ', '-')\n",
    "        merged_data[column] = merged_data[column].str.replace('-', ',')\n",
    "        merged_data[column] = merged_data[column].str.replace(',', ', ')\n",
    "        # Удаляем пробелы в начале и конце строки\n",
    "        merged_data[column] = merged_data[column].str.strip().str.lower()\n",
    "        \n",
    "        unique_values_after_fix = merged_data[column].unique()\n",
    "        print(f\"Уникальные значения после исправления: {unique_values_after_fix}\")\n",
    "        \n",
    "        print(\"-----------------------------------\")\n",
    "else:\n",
    "    print(\"Нет категориальных или объектных колонок в датафрейме\")"
   ]
  },
  {
   "cell_type": "markdown",
   "metadata": {},
   "source": [
    "Помимо пробелов в начале или вконце значений, написания разного регистра, на пример исходя из уникальных значений в столбце 'production_country', кажется, что одной из основных проблем является несогласованность в использовании разделителей для обозначения нескольких стран-производителей. Иногда используется тире (\"-\"), иногда пробел с дефисом (\" - \"), иногда запятая без пробелов(','), а иногда дефис без пробелов (\"-\"). "
   ]
  },
  {
   "cell_type": "markdown",
   "metadata": {
    "id": "XFSN5lrEgFyR"
   },
   "source": [
    "#### Шаг 2.5. Проверьте количественные значения\n",
    "\n",
    "- Проверьте, обнаружились ли в таких столбцах подозрительные данные. Как с такими данными лучше поступить?\n",
    "\n",
    "<div id=\"accordion\">\n",
    "    <div class=\"card\">\n",
    "        <div class=\"card-header\" id=\"headingThree\">\n",
    "            <button class=\"btn btn-link collapsed\" data-toggle=\"collapse\" data-target=\"#collapseHint_budget\" aria-expanded=\"false\" aria-controls=\"collapseHint_budget\">Подсказка</button>\n",
    "        </div>\n",
    "        <div id=\"collapseHint_budget\" class=\"collapse\" aria-labelledby=\"headingThree\" data-parent=\"#accordion\">\n",
    "            <div class=\"card-body\">\n",
    "Обратите внимание на описание столбца <code>budget</code>. Как этот столбец соотносится с двумя другими: <code>refundable_support</code> и <code>nonrefundable_support</code>?\n",
    "            </div>\n",
    "        </div>\n",
    "    </div>\n",
    "</div>"
   ]
  },
  {
   "cell_type": "code",
   "execution_count": 22,
   "metadata": {},
   "outputs": [
    {
     "data": {
      "text/html": [
       "<div>\n",
       "<style scoped>\n",
       "    .dataframe tbody tr th:only-of-type {\n",
       "        vertical-align: middle;\n",
       "    }\n",
       "\n",
       "    .dataframe tbody tr th {\n",
       "        vertical-align: top;\n",
       "    }\n",
       "\n",
       "    .dataframe thead th {\n",
       "        text-align: right;\n",
       "    }\n",
       "</style>\n",
       "<table border=\"1\" class=\"dataframe\">\n",
       "  <thead>\n",
       "    <tr style=\"text-align: right;\">\n",
       "      <th></th>\n",
       "      <th>puNumber</th>\n",
       "      <th>refundable_support</th>\n",
       "      <th>nonrefundable_support</th>\n",
       "      <th>budget</th>\n",
       "      <th>ratings</th>\n",
       "      <th>box_office</th>\n",
       "    </tr>\n",
       "  </thead>\n",
       "  <tbody>\n",
       "    <tr>\n",
       "      <th>count</th>\n",
       "      <td>7,486.00</td>\n",
       "      <td>332.00</td>\n",
       "      <td>332.00</td>\n",
       "      <td>332.00</td>\n",
       "      <td>6,519.00</td>\n",
       "      <td>3,158.00</td>\n",
       "    </tr>\n",
       "    <tr>\n",
       "      <th>mean</th>\n",
       "      <td>135,178,527.64</td>\n",
       "      <td>11,864,457.83</td>\n",
       "      <td>48,980,988.89</td>\n",
       "      <td>127,229,716.68</td>\n",
       "      <td>6.49</td>\n",
       "      <td>76,478,696.16</td>\n",
       "    </tr>\n",
       "    <tr>\n",
       "      <th>std</th>\n",
       "      <td>38,382,177.41</td>\n",
       "      <td>24,916,555.26</td>\n",
       "      <td>59,980,117.92</td>\n",
       "      <td>188,588,333.12</td>\n",
       "      <td>1.11</td>\n",
       "      <td>240,353,122.82</td>\n",
       "    </tr>\n",
       "    <tr>\n",
       "      <th>min</th>\n",
       "      <td>0.00</td>\n",
       "      <td>0.00</td>\n",
       "      <td>0.00</td>\n",
       "      <td>0.00</td>\n",
       "      <td>1.00</td>\n",
       "      <td>0.00</td>\n",
       "    </tr>\n",
       "    <tr>\n",
       "      <th>25%</th>\n",
       "      <td>112,025,043.00</td>\n",
       "      <td>0.00</td>\n",
       "      <td>25,000,000.00</td>\n",
       "      <td>42,000,000.00</td>\n",
       "      <td>5.90</td>\n",
       "      <td>86,239.00</td>\n",
       "    </tr>\n",
       "    <tr>\n",
       "      <th>50%</th>\n",
       "      <td>121,015,464.50</td>\n",
       "      <td>0.00</td>\n",
       "      <td>30,000,000.00</td>\n",
       "      <td>68,649,916.00</td>\n",
       "      <td>6.60</td>\n",
       "      <td>2,327,987.55</td>\n",
       "    </tr>\n",
       "    <tr>\n",
       "      <th>75%</th>\n",
       "      <td>124,003,313.75</td>\n",
       "      <td>15,000,000.00</td>\n",
       "      <td>40,375,000.00</td>\n",
       "      <td>141,985,319.50</td>\n",
       "      <td>7.20</td>\n",
       "      <td>23,979,671.02</td>\n",
       "    </tr>\n",
       "    <tr>\n",
       "      <th>max</th>\n",
       "      <td>231,001,111.00</td>\n",
       "      <td>180,000,000.00</td>\n",
       "      <td>400,000,000.00</td>\n",
       "      <td>2,305,074,303.00</td>\n",
       "      <td>9.90</td>\n",
       "      <td>3,073,568,690.79</td>\n",
       "    </tr>\n",
       "  </tbody>\n",
       "</table>\n",
       "</div>"
      ],
      "text/plain": [
       "            puNumber  refundable_support  nonrefundable_support  \\\n",
       "count       7,486.00              332.00                 332.00   \n",
       "mean  135,178,527.64       11,864,457.83          48,980,988.89   \n",
       "std    38,382,177.41       24,916,555.26          59,980,117.92   \n",
       "min             0.00                0.00                   0.00   \n",
       "25%   112,025,043.00                0.00          25,000,000.00   \n",
       "50%   121,015,464.50                0.00          30,000,000.00   \n",
       "75%   124,003,313.75       15,000,000.00          40,375,000.00   \n",
       "max   231,001,111.00      180,000,000.00         400,000,000.00   \n",
       "\n",
       "                budget  ratings       box_office  \n",
       "count           332.00 6,519.00         3,158.00  \n",
       "mean    127,229,716.68     6.49    76,478,696.16  \n",
       "std     188,588,333.12     1.11   240,353,122.82  \n",
       "min               0.00     1.00             0.00  \n",
       "25%      42,000,000.00     5.90        86,239.00  \n",
       "50%      68,649,916.00     6.60     2,327,987.55  \n",
       "75%     141,985,319.50     7.20    23,979,671.02  \n",
       "max   2,305,074,303.00     9.90 3,073,568,690.79  "
      ]
     },
     "execution_count": 22,
     "metadata": {},
     "output_type": "execute_result"
    }
   ],
   "source": [
    "merged_data.describe()"
   ]
  },
  {
   "cell_type": "code",
   "execution_count": 23,
   "metadata": {},
   "outputs": [
    {
     "data": {
      "text/html": [
       "<div>\n",
       "<style scoped>\n",
       "    .dataframe tbody tr th:only-of-type {\n",
       "        vertical-align: middle;\n",
       "    }\n",
       "\n",
       "    .dataframe tbody tr th {\n",
       "        vertical-align: top;\n",
       "    }\n",
       "\n",
       "    .dataframe thead th {\n",
       "        text-align: right;\n",
       "    }\n",
       "</style>\n",
       "<table border=\"1\" class=\"dataframe\">\n",
       "  <thead>\n",
       "    <tr style=\"text-align: right;\">\n",
       "      <th></th>\n",
       "      <th>title</th>\n",
       "      <th>puNumber</th>\n",
       "      <th>show_start_date</th>\n",
       "      <th>type</th>\n",
       "      <th>film_studio</th>\n",
       "      <th>production_country</th>\n",
       "      <th>director</th>\n",
       "      <th>producer</th>\n",
       "      <th>age_restriction</th>\n",
       "      <th>refundable_support</th>\n",
       "      <th>nonrefundable_support</th>\n",
       "      <th>budget</th>\n",
       "      <th>financing_source</th>\n",
       "      <th>ratings</th>\n",
       "      <th>genres</th>\n",
       "      <th>box_office</th>\n",
       "    </tr>\n",
       "  </thead>\n",
       "  <tbody>\n",
       "    <tr>\n",
       "      <th>2053</th>\n",
       "      <td>14+</td>\n",
       "      <td>111023614</td>\n",
       "      <td>2014-12-19 12:00:00+00:00</td>\n",
       "      <td>художественный</td>\n",
       "      <td>ооо киностудия  \"сентябрь\"</td>\n",
       "      <td>россия</td>\n",
       "      <td>а.зайцев</td>\n",
       "      <td>о.гранина,  а.зайцев</td>\n",
       "      <td>«16+», для детей старше 16 лет</td>\n",
       "      <td>0.00</td>\n",
       "      <td>23,000,000.00</td>\n",
       "      <td>0.00</td>\n",
       "      <td>министерство культуры,  фонд кино</td>\n",
       "      <td>6.60</td>\n",
       "      <td>мелодрама</td>\n",
       "      <td>10,234,016.10</td>\n",
       "    </tr>\n",
       "    <tr>\n",
       "      <th>2058</th>\n",
       "      <td>дуxless 2</td>\n",
       "      <td>111000415</td>\n",
       "      <td>2015-01-26 12:00:00+00:00</td>\n",
       "      <td>художественный</td>\n",
       "      <td>ооо \"киностудия \"слово\",  ооо \"арт пикчерс сту...</td>\n",
       "      <td>россия</td>\n",
       "      <td>р.прыгунов</td>\n",
       "      <td>п.ануров,  ф.бондарчук,  д.рудовский</td>\n",
       "      <td>«16+», для детей старше 16 лет</td>\n",
       "      <td>0.00</td>\n",
       "      <td>75,000,000.00</td>\n",
       "      <td>0.00</td>\n",
       "      <td>фонд кино</td>\n",
       "      <td>6.60</td>\n",
       "      <td>драма</td>\n",
       "      <td>446,163,511.00</td>\n",
       "    </tr>\n",
       "    <tr>\n",
       "      <th>2472</th>\n",
       "      <td>воин (2015)</td>\n",
       "      <td>111017315</td>\n",
       "      <td>2015-09-28 12:00:00+00:00</td>\n",
       "      <td>художественный</td>\n",
       "      <td>ооо \"форпост продакшн\",  ооо \"арт пикчерс студия\"</td>\n",
       "      <td>россия</td>\n",
       "      <td>а.андрианов</td>\n",
       "      <td>ооо \"арт пикчерс студия\"</td>\n",
       "      <td>«12+», для детей старше 12 лет</td>\n",
       "      <td>10,000,000.00</td>\n",
       "      <td>70,000,000.00</td>\n",
       "      <td>0.00</td>\n",
       "      <td>фонд кино</td>\n",
       "      <td>7.80</td>\n",
       "      <td>боевик, драма, криминал</td>\n",
       "      <td>196,572,438.40</td>\n",
       "    </tr>\n",
       "    <tr>\n",
       "      <th>2532</th>\n",
       "      <td>бармен.</td>\n",
       "      <td>111009615</td>\n",
       "      <td>2015-05-26 12:00:00+00:00</td>\n",
       "      <td>художественный</td>\n",
       "      <td>ао \"вайт медиа\",  ооо \"арт пикчерс студия\"</td>\n",
       "      <td>россия</td>\n",
       "      <td>д.штурманова</td>\n",
       "      <td>т.вайнштейн</td>\n",
       "      <td>«16+», для детей старше 16 лет</td>\n",
       "      <td>20,000,000.00</td>\n",
       "      <td>0.00</td>\n",
       "      <td>0.00</td>\n",
       "      <td>фонд кино</td>\n",
       "      <td>6.20</td>\n",
       "      <td>комедия, фэнтези</td>\n",
       "      <td>67,418,974.80</td>\n",
       "    </tr>\n",
       "    <tr>\n",
       "      <th>2615</th>\n",
       "      <td>савва. сердце воина</td>\n",
       "      <td>114001715</td>\n",
       "      <td>2015-07-21 12:00:00+00:00</td>\n",
       "      <td>анимационный</td>\n",
       "      <td>ооо \"глюкоза продакшн\",  ооо \"арт пикчерс студия\"</td>\n",
       "      <td>россия</td>\n",
       "      <td>м.фадеев</td>\n",
       "      <td>а.чистяков</td>\n",
       "      <td>«6+», для детей старше 6 лет</td>\n",
       "      <td>60,000,000.00</td>\n",
       "      <td>100,000,000.00</td>\n",
       "      <td>0.00</td>\n",
       "      <td>фонд кино</td>\n",
       "      <td>4.60</td>\n",
       "      <td>мультфильм, приключения, фэнтези</td>\n",
       "      <td>184,487,551.40</td>\n",
       "    </tr>\n",
       "    <tr>\n",
       "      <th>2684</th>\n",
       "      <td>тряпичный союз</td>\n",
       "      <td>111010215</td>\n",
       "      <td>2015-06-08 12:00:00+00:00</td>\n",
       "      <td>художественный</td>\n",
       "      <td>ооо \"кинокомпания \"коктебель\"</td>\n",
       "      <td>россия</td>\n",
       "      <td>м.местецкий</td>\n",
       "      <td>р.борисевич,  а.кушаев</td>\n",
       "      <td>«18+», запрещено для детей</td>\n",
       "      <td>0.00</td>\n",
       "      <td>59,000,000.00</td>\n",
       "      <td>0.00</td>\n",
       "      <td>фонд кино</td>\n",
       "      <td>6.30</td>\n",
       "      <td>комедия, драма</td>\n",
       "      <td>1,957,738.51</td>\n",
       "    </tr>\n",
       "    <tr>\n",
       "      <th>2788</th>\n",
       "      <td>срочно выйду замуж</td>\n",
       "      <td>111017115</td>\n",
       "      <td>2015-09-30 12:00:00+00:00</td>\n",
       "      <td>художественный</td>\n",
       "      <td>ао \"вайт медиа\",  ооо \"арт пикчерс студия\"</td>\n",
       "      <td>россия</td>\n",
       "      <td>с чекалов</td>\n",
       "      <td>ф.бондарчук,  т.вайнштейн,  д.рудовский</td>\n",
       "      <td>«16+», для детей старше 16 лет</td>\n",
       "      <td>0.00</td>\n",
       "      <td>35,000,000.00</td>\n",
       "      <td>0.00</td>\n",
       "      <td>фонд кино</td>\n",
       "      <td>5.10</td>\n",
       "      <td>комедия, мелодрама</td>\n",
       "      <td>72,937,783.20</td>\n",
       "    </tr>\n",
       "    <tr>\n",
       "      <th>2874</th>\n",
       "      <td>помню, не помню!</td>\n",
       "      <td>111004916</td>\n",
       "      <td>2016-03-01 12:00:00+00:00</td>\n",
       "      <td>художественный</td>\n",
       "      <td>ооо \"кинофирма\"</td>\n",
       "      <td>россия</td>\n",
       "      <td>в.ровенский</td>\n",
       "      <td>ооо \"кинофирма\"</td>\n",
       "      <td>«12+», для детей старше 12 лет</td>\n",
       "      <td>0.00</td>\n",
       "      <td>6,000,000.00</td>\n",
       "      <td>0.00</td>\n",
       "      <td>министерство культуры</td>\n",
       "      <td>4.30</td>\n",
       "      <td>комедия</td>\n",
       "      <td>15,362,931.43</td>\n",
       "    </tr>\n",
       "    <tr>\n",
       "      <th>3047</th>\n",
       "      <td>любовь с ограничениями</td>\n",
       "      <td>111008216</td>\n",
       "      <td>2016-04-29 12:00:00+00:00</td>\n",
       "      <td>художественный</td>\n",
       "      <td>ао \"вайт медиа\",  ооо \"арт пикчерс студия\"</td>\n",
       "      <td>россия</td>\n",
       "      <td>д.тюрин</td>\n",
       "      <td>ф.бондарчук,  т.вайнштейн,  д.рудовский</td>\n",
       "      <td>«16+», для детей старше 16 лет</td>\n",
       "      <td>19,000,000.00</td>\n",
       "      <td>51,000,000.00</td>\n",
       "      <td>0.00</td>\n",
       "      <td>фонд кино</td>\n",
       "      <td>6.30</td>\n",
       "      <td>комедия, мелодрама</td>\n",
       "      <td>70,299,052.00</td>\n",
       "    </tr>\n",
       "    <tr>\n",
       "      <th>3565</th>\n",
       "      <td>притяжение (2016)</td>\n",
       "      <td>111018116</td>\n",
       "      <td>2016-12-16 12:00:00+00:00</td>\n",
       "      <td>художественный</td>\n",
       "      <td>ооо \"водород 2011\",   ооо \"арт пикчерс студия\"</td>\n",
       "      <td>россия</td>\n",
       "      <td>ф.бондарчук</td>\n",
       "      <td>ооо \"арт пикчерс студия\"</td>\n",
       "      <td>«12+», для детей старше 12 лет</td>\n",
       "      <td>0.00</td>\n",
       "      <td>250,000,000.00</td>\n",
       "      <td>0.00</td>\n",
       "      <td>фонд кино</td>\n",
       "      <td>5.60</td>\n",
       "      <td>фантастика</td>\n",
       "      <td>1,038,321,489.00</td>\n",
       "    </tr>\n",
       "    <tr>\n",
       "      <th>3675</th>\n",
       "      <td>чудо, юдо</td>\n",
       "      <td>114001817</td>\n",
       "      <td>2017-06-27 12:00:00+00:00</td>\n",
       "      <td>анимационный</td>\n",
       "      <td>ооо \"кинофирма\"</td>\n",
       "      <td>россия</td>\n",
       "      <td>а.лукичев</td>\n",
       "      <td>ооо \"кинофирма\"</td>\n",
       "      <td>«6+», для детей старше 6 лет</td>\n",
       "      <td>20,000,000.00</td>\n",
       "      <td>20,000,000.00</td>\n",
       "      <td>0.00</td>\n",
       "      <td>фонд кино</td>\n",
       "      <td>5.20</td>\n",
       "      <td>мультфильм, фэнтези, семейный</td>\n",
       "      <td>55,108,014.76</td>\n",
       "    </tr>\n",
       "    <tr>\n",
       "      <th>3739</th>\n",
       "      <td>мифы</td>\n",
       "      <td>111004317</td>\n",
       "      <td>2017-06-07 12:00:00+00:00</td>\n",
       "      <td>художественный</td>\n",
       "      <td>ооо \"хайпфилм\",  ооо \"арт пикчерс студия\"</td>\n",
       "      <td>россия</td>\n",
       "      <td>а.молочников</td>\n",
       "      <td>ф.бондарчук,  д.рудовский,  и.стюарт,  м.осман...</td>\n",
       "      <td>«16+», для детей старше 16 лет</td>\n",
       "      <td>25,000,000.00</td>\n",
       "      <td>20,000,000.00</td>\n",
       "      <td>0.00</td>\n",
       "      <td>фонд кино</td>\n",
       "      <td>4.80</td>\n",
       "      <td>комедия</td>\n",
       "      <td>50,451,949.00</td>\n",
       "    </tr>\n",
       "    <tr>\n",
       "      <th>5673</th>\n",
       "      <td>селфи</td>\n",
       "      <td>111012117</td>\n",
       "      <td>2018-02-01 12:00:00+00:00</td>\n",
       "      <td>художественный</td>\n",
       "      <td>ооо \"киностудия \"слово\",  ооо \"арт пикчерс сту...</td>\n",
       "      <td>россия</td>\n",
       "      <td>н.хомерики</td>\n",
       "      <td>п.ануров,  ф.бондарчук,  д.рудовский</td>\n",
       "      <td>«16+», для детей старше 16 лет</td>\n",
       "      <td>20,000,000.00</td>\n",
       "      <td>40,000,000.00</td>\n",
       "      <td>0.00</td>\n",
       "      <td>фонд кино</td>\n",
       "      <td>5.80</td>\n",
       "      <td>триллер, драма</td>\n",
       "      <td>225,196,400.03</td>\n",
       "    </tr>\n",
       "    <tr>\n",
       "      <th>5806</th>\n",
       "      <td>два хвоста</td>\n",
       "      <td>114001018</td>\n",
       "      <td>2018-05-31 12:00:00+00:00</td>\n",
       "      <td>анимационный</td>\n",
       "      <td>ооо \"лицензионные бренды\"</td>\n",
       "      <td>россия</td>\n",
       "      <td>в.ровенский,  н.лопато,  в.азеев</td>\n",
       "      <td>ооо \"лицензионные бренды\"</td>\n",
       "      <td>«6+», для детей старше 6 лет</td>\n",
       "      <td>10,000,000.00</td>\n",
       "      <td>60,000,000.00</td>\n",
       "      <td>0.00</td>\n",
       "      <td>фонд кино</td>\n",
       "      <td>5.00</td>\n",
       "      <td>мультфильм, детский</td>\n",
       "      <td>106,514,301.03</td>\n",
       "    </tr>\n",
       "    <tr>\n",
       "      <th>6008</th>\n",
       "      <td>принцесса и дракон</td>\n",
       "      <td>114003018</td>\n",
       "      <td>2018-08-23 12:00:00+00:00</td>\n",
       "      <td>анимационный</td>\n",
       "      <td>ооо \"лицензионные бренды\"</td>\n",
       "      <td>россия</td>\n",
       "      <td>м.нефедова</td>\n",
       "      <td>ооо \"лицензионные бренды\"</td>\n",
       "      <td>«6+», для детей старше 6 лет</td>\n",
       "      <td>40,000,000.00</td>\n",
       "      <td>40,000,000.00</td>\n",
       "      <td>0.00</td>\n",
       "      <td>фонд кино</td>\n",
       "      <td>5.20</td>\n",
       "      <td>мультфильм, фэнтези, детский</td>\n",
       "      <td>83,366,328.66</td>\n",
       "    </tr>\n",
       "    <tr>\n",
       "      <th>6323</th>\n",
       "      <td>баба яга</td>\n",
       "      <td>114006518</td>\n",
       "      <td>2018-11-08 12:00:00+00:00</td>\n",
       "      <td>анимационный</td>\n",
       "      <td>ооо \"арт пикчерс студия\"</td>\n",
       "      <td>россия</td>\n",
       "      <td>в.саков</td>\n",
       "      <td>ооо \"арт пикчерс студия\",  ооо \"криэйтив анимэ...</td>\n",
       "      <td>«6+», для детей старше 6 лет</td>\n",
       "      <td>0.00</td>\n",
       "      <td>138,969,465.00</td>\n",
       "      <td>0.00</td>\n",
       "      <td>фонд кино</td>\n",
       "      <td>NaN</td>\n",
       "      <td>unknown</td>\n",
       "      <td>1,334,699.40</td>\n",
       "    </tr>\n",
       "    <tr>\n",
       "      <th>6823</th>\n",
       "      <td>большое путешествие</td>\n",
       "      <td>114002419</td>\n",
       "      <td>2019-04-20 12:00:00+00:00</td>\n",
       "      <td>анимационный</td>\n",
       "      <td>ооо \"лицензионные бренды\"</td>\n",
       "      <td>россия</td>\n",
       "      <td>н.лопато,  в.ровенский</td>\n",
       "      <td>ооо \"лицензионные бренды\"</td>\n",
       "      <td>«6+», для детей старше 6 лет</td>\n",
       "      <td>60,000,000.00</td>\n",
       "      <td>120,000,000.00</td>\n",
       "      <td>0.00</td>\n",
       "      <td>фонд кино</td>\n",
       "      <td>6.20</td>\n",
       "      <td>мультфильм, комедия, приключения</td>\n",
       "      <td>147,606,826.51</td>\n",
       "    </tr>\n",
       "  </tbody>\n",
       "</table>\n",
       "</div>"
      ],
      "text/plain": [
       "                       title   puNumber           show_start_date  \\\n",
       "2053                     14+  111023614 2014-12-19 12:00:00+00:00   \n",
       "2058               дуxless 2  111000415 2015-01-26 12:00:00+00:00   \n",
       "2472             воин (2015)  111017315 2015-09-28 12:00:00+00:00   \n",
       "2532                 бармен.  111009615 2015-05-26 12:00:00+00:00   \n",
       "2615     савва. сердце воина  114001715 2015-07-21 12:00:00+00:00   \n",
       "2684          тряпичный союз  111010215 2015-06-08 12:00:00+00:00   \n",
       "2788      срочно выйду замуж  111017115 2015-09-30 12:00:00+00:00   \n",
       "2874        помню, не помню!  111004916 2016-03-01 12:00:00+00:00   \n",
       "3047  любовь с ограничениями  111008216 2016-04-29 12:00:00+00:00   \n",
       "3565       притяжение (2016)  111018116 2016-12-16 12:00:00+00:00   \n",
       "3675               чудо, юдо  114001817 2017-06-27 12:00:00+00:00   \n",
       "3739                    мифы  111004317 2017-06-07 12:00:00+00:00   \n",
       "5673                   селфи  111012117 2018-02-01 12:00:00+00:00   \n",
       "5806              два хвоста  114001018 2018-05-31 12:00:00+00:00   \n",
       "6008      принцесса и дракон  114003018 2018-08-23 12:00:00+00:00   \n",
       "6323                баба яга  114006518 2018-11-08 12:00:00+00:00   \n",
       "6823     большое путешествие  114002419 2019-04-20 12:00:00+00:00   \n",
       "\n",
       "                type                                        film_studio  \\\n",
       "2053  художественный                         ооо киностудия  \"сентябрь\"   \n",
       "2058  художественный  ооо \"киностудия \"слово\",  ооо \"арт пикчерс сту...   \n",
       "2472  художественный  ооо \"форпост продакшн\",  ооо \"арт пикчерс студия\"   \n",
       "2532  художественный         ао \"вайт медиа\",  ооо \"арт пикчерс студия\"   \n",
       "2615    анимационный  ооо \"глюкоза продакшн\",  ооо \"арт пикчерс студия\"   \n",
       "2684  художественный                      ооо \"кинокомпания \"коктебель\"   \n",
       "2788  художественный         ао \"вайт медиа\",  ооо \"арт пикчерс студия\"   \n",
       "2874  художественный                                    ооо \"кинофирма\"   \n",
       "3047  художественный         ао \"вайт медиа\",  ооо \"арт пикчерс студия\"   \n",
       "3565  художественный     ооо \"водород 2011\",   ооо \"арт пикчерс студия\"   \n",
       "3675    анимационный                                    ооо \"кинофирма\"   \n",
       "3739  художественный          ооо \"хайпфилм\",  ооо \"арт пикчерс студия\"   \n",
       "5673  художественный  ооо \"киностудия \"слово\",  ооо \"арт пикчерс сту...   \n",
       "5806    анимационный                          ооо \"лицензионные бренды\"   \n",
       "6008    анимационный                          ооо \"лицензионные бренды\"   \n",
       "6323    анимационный                           ооо \"арт пикчерс студия\"   \n",
       "6823    анимационный                          ооо \"лицензионные бренды\"   \n",
       "\n",
       "     production_country                          director  \\\n",
       "2053             россия                          а.зайцев   \n",
       "2058             россия                        р.прыгунов   \n",
       "2472             россия                       а.андрианов   \n",
       "2532             россия                      д.штурманова   \n",
       "2615             россия                          м.фадеев   \n",
       "2684             россия                       м.местецкий   \n",
       "2788             россия                         с чекалов   \n",
       "2874             россия                       в.ровенский   \n",
       "3047             россия                           д.тюрин   \n",
       "3565             россия                       ф.бондарчук   \n",
       "3675             россия                         а.лукичев   \n",
       "3739             россия                      а.молочников   \n",
       "5673             россия                        н.хомерики   \n",
       "5806             россия  в.ровенский,  н.лопато,  в.азеев   \n",
       "6008             россия                        м.нефедова   \n",
       "6323             россия                           в.саков   \n",
       "6823             россия            н.лопато,  в.ровенский   \n",
       "\n",
       "                                               producer  \\\n",
       "2053                               о.гранина,  а.зайцев   \n",
       "2058               п.ануров,  ф.бондарчук,  д.рудовский   \n",
       "2472                           ооо \"арт пикчерс студия\"   \n",
       "2532                                        т.вайнштейн   \n",
       "2615                                         а.чистяков   \n",
       "2684                             р.борисевич,  а.кушаев   \n",
       "2788            ф.бондарчук,  т.вайнштейн,  д.рудовский   \n",
       "2874                                    ооо \"кинофирма\"   \n",
       "3047            ф.бондарчук,  т.вайнштейн,  д.рудовский   \n",
       "3565                           ооо \"арт пикчерс студия\"   \n",
       "3675                                    ооо \"кинофирма\"   \n",
       "3739  ф.бондарчук,  д.рудовский,  и.стюарт,  м.осман...   \n",
       "5673               п.ануров,  ф.бондарчук,  д.рудовский   \n",
       "5806                          ооо \"лицензионные бренды\"   \n",
       "6008                          ооо \"лицензионные бренды\"   \n",
       "6323  ооо \"арт пикчерс студия\",  ооо \"криэйтив анимэ...   \n",
       "6823                          ооо \"лицензионные бренды\"   \n",
       "\n",
       "                     age_restriction  refundable_support  \\\n",
       "2053  «16+», для детей старше 16 лет                0.00   \n",
       "2058  «16+», для детей старше 16 лет                0.00   \n",
       "2472  «12+», для детей старше 12 лет       10,000,000.00   \n",
       "2532  «16+», для детей старше 16 лет       20,000,000.00   \n",
       "2615    «6+», для детей старше 6 лет       60,000,000.00   \n",
       "2684      «18+», запрещено для детей                0.00   \n",
       "2788  «16+», для детей старше 16 лет                0.00   \n",
       "2874  «12+», для детей старше 12 лет                0.00   \n",
       "3047  «16+», для детей старше 16 лет       19,000,000.00   \n",
       "3565  «12+», для детей старше 12 лет                0.00   \n",
       "3675    «6+», для детей старше 6 лет       20,000,000.00   \n",
       "3739  «16+», для детей старше 16 лет       25,000,000.00   \n",
       "5673  «16+», для детей старше 16 лет       20,000,000.00   \n",
       "5806    «6+», для детей старше 6 лет       10,000,000.00   \n",
       "6008    «6+», для детей старше 6 лет       40,000,000.00   \n",
       "6323    «6+», для детей старше 6 лет                0.00   \n",
       "6823    «6+», для детей старше 6 лет       60,000,000.00   \n",
       "\n",
       "      nonrefundable_support  budget                   financing_source  \\\n",
       "2053          23,000,000.00    0.00  министерство культуры,  фонд кино   \n",
       "2058          75,000,000.00    0.00                          фонд кино   \n",
       "2472          70,000,000.00    0.00                          фонд кино   \n",
       "2532                   0.00    0.00                          фонд кино   \n",
       "2615         100,000,000.00    0.00                          фонд кино   \n",
       "2684          59,000,000.00    0.00                          фонд кино   \n",
       "2788          35,000,000.00    0.00                          фонд кино   \n",
       "2874           6,000,000.00    0.00              министерство культуры   \n",
       "3047          51,000,000.00    0.00                          фонд кино   \n",
       "3565         250,000,000.00    0.00                          фонд кино   \n",
       "3675          20,000,000.00    0.00                          фонд кино   \n",
       "3739          20,000,000.00    0.00                          фонд кино   \n",
       "5673          40,000,000.00    0.00                          фонд кино   \n",
       "5806          60,000,000.00    0.00                          фонд кино   \n",
       "6008          40,000,000.00    0.00                          фонд кино   \n",
       "6323         138,969,465.00    0.00                          фонд кино   \n",
       "6823         120,000,000.00    0.00                          фонд кино   \n",
       "\n",
       "      ratings                            genres       box_office  \n",
       "2053     6.60                         мелодрама    10,234,016.10  \n",
       "2058     6.60                             драма   446,163,511.00  \n",
       "2472     7.80           боевик, драма, криминал   196,572,438.40  \n",
       "2532     6.20                  комедия, фэнтези    67,418,974.80  \n",
       "2615     4.60  мультфильм, приключения, фэнтези   184,487,551.40  \n",
       "2684     6.30                    комедия, драма     1,957,738.51  \n",
       "2788     5.10                комедия, мелодрама    72,937,783.20  \n",
       "2874     4.30                           комедия    15,362,931.43  \n",
       "3047     6.30                комедия, мелодрама    70,299,052.00  \n",
       "3565     5.60                        фантастика 1,038,321,489.00  \n",
       "3675     5.20     мультфильм, фэнтези, семейный    55,108,014.76  \n",
       "3739     4.80                           комедия    50,451,949.00  \n",
       "5673     5.80                    триллер, драма   225,196,400.03  \n",
       "5806     5.00               мультфильм, детский   106,514,301.03  \n",
       "6008     5.20      мультфильм, фэнтези, детский    83,366,328.66  \n",
       "6323      NaN                           unknown     1,334,699.40  \n",
       "6823     6.20  мультфильм, комедия, приключения   147,606,826.51  "
      ]
     },
     "metadata": {},
     "output_type": "display_data"
    }
   ],
   "source": [
    "display(merged_data.query('budget <= 0'))"
   ]
  },
  {
   "cell_type": "code",
   "execution_count": 24,
   "metadata": {
    "colab": {
     "base_uri": "https://localhost:8080/",
     "height": 91
    },
    "id": "Q41T4zllNMh-",
    "outputId": "94f13e64-4e4d-4988-85c4-3539edcf1ecb"
   },
   "outputs": [
    {
     "data": {
      "text/plain": [
       "title                    17\n",
       "puNumber                 17\n",
       "show_start_date          17\n",
       "type                     17\n",
       "film_studio              17\n",
       "production_country       17\n",
       "director                 17\n",
       "producer                 17\n",
       "age_restriction          17\n",
       "refundable_support       17\n",
       "nonrefundable_support    17\n",
       "budget                   17\n",
       "financing_source         17\n",
       "ratings                  16\n",
       "genres                   17\n",
       "box_office               17\n",
       "dtype: int64"
      ]
     },
     "metadata": {},
     "output_type": "display_data"
    }
   ],
   "source": [
    "display(merged_data.query('budget == 0').count())"
   ]
  },
  {
   "cell_type": "markdown",
   "metadata": {
    "id": "hxuUtOBmLMbF"
   },
   "source": [
    "Странно что в financing_source указан фонд, а в budget 0, при этом в столбцах refundable_support\tnonrefundable_support заполнено\n",
    "по скольку их мало(17) будет проце удалить срочки с 0 значениями"
   ]
  },
  {
   "cell_type": "code",
   "execution_count": 25,
   "metadata": {
    "id": "utXZeF0XN-kK"
   },
   "outputs": [],
   "source": [
    "merged_data = merged_data[merged_data['budget'] != 0]\n"
   ]
  },
  {
   "cell_type": "code",
   "execution_count": 26,
   "metadata": {},
   "outputs": [
    {
     "data": {
      "text/html": [
       "<div>\n",
       "<style scoped>\n",
       "    .dataframe tbody tr th:only-of-type {\n",
       "        vertical-align: middle;\n",
       "    }\n",
       "\n",
       "    .dataframe tbody tr th {\n",
       "        vertical-align: top;\n",
       "    }\n",
       "\n",
       "    .dataframe thead th {\n",
       "        text-align: right;\n",
       "    }\n",
       "</style>\n",
       "<table border=\"1\" class=\"dataframe\">\n",
       "  <thead>\n",
       "    <tr style=\"text-align: right;\">\n",
       "      <th></th>\n",
       "      <th>title</th>\n",
       "      <th>puNumber</th>\n",
       "      <th>show_start_date</th>\n",
       "      <th>type</th>\n",
       "      <th>film_studio</th>\n",
       "      <th>production_country</th>\n",
       "      <th>director</th>\n",
       "      <th>producer</th>\n",
       "      <th>age_restriction</th>\n",
       "      <th>refundable_support</th>\n",
       "      <th>nonrefundable_support</th>\n",
       "      <th>budget</th>\n",
       "      <th>financing_source</th>\n",
       "      <th>ratings</th>\n",
       "      <th>genres</th>\n",
       "      <th>box_office</th>\n",
       "    </tr>\n",
       "  </thead>\n",
       "  <tbody>\n",
       "    <tr>\n",
       "      <th>66</th>\n",
       "      <td>анна павлова</td>\n",
       "      <td>111011013</td>\n",
       "      <td>2013-12-19 12:00:00+00:00</td>\n",
       "      <td>художественный</td>\n",
       "      <td>совместное производство киностудия \"мосфильм\",...</td>\n",
       "      <td>ссср,  франция,  англия,  куба,  гдр</td>\n",
       "      <td>эмиль лотяну</td>\n",
       "      <td>unknown</td>\n",
       "      <td>«6+», для детей старше 6 лет</td>\n",
       "      <td>NaN</td>\n",
       "      <td>NaN</td>\n",
       "      <td>NaN</td>\n",
       "      <td>NaN</td>\n",
       "      <td>7.70</td>\n",
       "      <td>драма, биография, музыка</td>\n",
       "      <td>0.00</td>\n",
       "    </tr>\n",
       "    <tr>\n",
       "      <th>237</th>\n",
       "      <td>подранки</td>\n",
       "      <td>111007613</td>\n",
       "      <td>2013-10-18 12:00:00+00:00</td>\n",
       "      <td>художественный</td>\n",
       "      <td>киностудия \"мосфильм\"</td>\n",
       "      <td>ссср</td>\n",
       "      <td>н.губенко</td>\n",
       "      <td>unknown</td>\n",
       "      <td>«12+», для детей старше 12 лет</td>\n",
       "      <td>NaN</td>\n",
       "      <td>NaN</td>\n",
       "      <td>NaN</td>\n",
       "      <td>NaN</td>\n",
       "      <td>8.20</td>\n",
       "      <td>драма</td>\n",
       "      <td>0.00</td>\n",
       "    </tr>\n",
       "    <tr>\n",
       "      <th>596</th>\n",
       "      <td>запах вереска</td>\n",
       "      <td>111003012</td>\n",
       "      <td>2012-05-23 12:00:00+00:00</td>\n",
       "      <td>художественный</td>\n",
       "      <td>ооо \"студия рим\"</td>\n",
       "      <td>россия</td>\n",
       "      <td>а.магомедов</td>\n",
       "      <td>м.балашова,  е.миронов</td>\n",
       "      <td>«16+», для детей старше 16 лет</td>\n",
       "      <td>NaN</td>\n",
       "      <td>NaN</td>\n",
       "      <td>NaN</td>\n",
       "      <td>NaN</td>\n",
       "      <td>6.30</td>\n",
       "      <td>комедия</td>\n",
       "      <td>0.00</td>\n",
       "    </tr>\n",
       "    <tr>\n",
       "      <th>914</th>\n",
       "      <td>в тумане /по одноименной повести василя быкова/</td>\n",
       "      <td>121027712</td>\n",
       "      <td>2012-11-07 12:00:00+00:00</td>\n",
       "      <td>художественный</td>\n",
       "      <td>ма йа де фикшн,  лемминг филм,  беларусьфильм,...</td>\n",
       "      <td>германия, нидерланды, беларусь, россия, латвия</td>\n",
       "      <td>сергей лозница</td>\n",
       "      <td>хайно декерт</td>\n",
       "      <td>«12+», для детей старше 12 лет</td>\n",
       "      <td>NaN</td>\n",
       "      <td>NaN</td>\n",
       "      <td>NaN</td>\n",
       "      <td>NaN</td>\n",
       "      <td>6.50</td>\n",
       "      <td>драма, военный, история</td>\n",
       "      <td>0.00</td>\n",
       "    </tr>\n",
       "    <tr>\n",
       "      <th>932</th>\n",
       "      <td>письмо для момо</td>\n",
       "      <td>124002912</td>\n",
       "      <td>2012-10-25 12:00:00+00:00</td>\n",
       "      <td>анимационный</td>\n",
       "      <td>кадокава пикчерз,  продакшнз и джи,  токио бро...</td>\n",
       "      <td>япония</td>\n",
       "      <td>окиура хироюки</td>\n",
       "      <td>хироюки икеда,  митсухиса ишикава,  кацзуя хамана</td>\n",
       "      <td>«12+», для детей старше 12 лет</td>\n",
       "      <td>NaN</td>\n",
       "      <td>NaN</td>\n",
       "      <td>NaN</td>\n",
       "      <td>NaN</td>\n",
       "      <td>7.40</td>\n",
       "      <td>аниме, мультфильм, драма</td>\n",
       "      <td>0.00</td>\n",
       "    </tr>\n",
       "    <tr>\n",
       "      <th>933</th>\n",
       "      <td>летние войны</td>\n",
       "      <td>124002812</td>\n",
       "      <td>2012-10-25 12:00:00+00:00</td>\n",
       "      <td>анимационный</td>\n",
       "      <td>медхауз,  ниппон телевижн нетуорк корпорейшн, ...</td>\n",
       "      <td>япония</td>\n",
       "      <td>мамору хосода</td>\n",
       "      <td>такафуми ватанабэ,  такуя ито,  сэйдзи окуда, ...</td>\n",
       "      <td>«12+», для детей старше 12 лет</td>\n",
       "      <td>NaN</td>\n",
       "      <td>NaN</td>\n",
       "      <td>NaN</td>\n",
       "      <td>NaN</td>\n",
       "      <td>7.70</td>\n",
       "      <td>аниме, мультфильм, фантастика</td>\n",
       "      <td>0.00</td>\n",
       "    </tr>\n",
       "    <tr>\n",
       "      <th>976</th>\n",
       "      <td>гарегин нжде</td>\n",
       "      <td>131000213</td>\n",
       "      <td>2013-04-23 12:00:00+00:00</td>\n",
       "      <td>художественный</td>\n",
       "      <td>эй джи кей продакшнз,  пан армениан медиа групп</td>\n",
       "      <td>армения</td>\n",
       "      <td>грач кешишян</td>\n",
       "      <td>грач кешишян</td>\n",
       "      <td>«12+», для детей старше 12 лет</td>\n",
       "      <td>NaN</td>\n",
       "      <td>NaN</td>\n",
       "      <td>NaN</td>\n",
       "      <td>NaN</td>\n",
       "      <td>7.90</td>\n",
       "      <td>биография</td>\n",
       "      <td>0.00</td>\n",
       "    </tr>\n",
       "    <tr>\n",
       "      <th>1126</th>\n",
       "      <td>марафон</td>\n",
       "      <td>111006712</td>\n",
       "      <td>2012-12-18 12:00:00+00:00</td>\n",
       "      <td>художественный</td>\n",
       "      <td>ооо \"синема арт студио\"</td>\n",
       "      <td>россия</td>\n",
       "      <td>к.оганесян</td>\n",
       "      <td>к.оганесян</td>\n",
       "      <td>«16+», для детей старше 16 лет</td>\n",
       "      <td>NaN</td>\n",
       "      <td>NaN</td>\n",
       "      <td>NaN</td>\n",
       "      <td>NaN</td>\n",
       "      <td>5.50</td>\n",
       "      <td>комедия, мелодрама</td>\n",
       "      <td>0.00</td>\n",
       "    </tr>\n",
       "    <tr>\n",
       "      <th>1387</th>\n",
       "      <td>экзамен для двоих /по роману джин ханфф корелитц/</td>\n",
       "      <td>121014613</td>\n",
       "      <td>2013-06-11 12:00:00+00:00</td>\n",
       "      <td>художественный</td>\n",
       "      <td>депф оф филд</td>\n",
       "      <td>сша</td>\n",
       "      <td>пол вайц</td>\n",
       "      <td>пол вайц,  керри кохански,  эндрю миано</td>\n",
       "      <td>«12+», для детей старше 12 лет</td>\n",
       "      <td>NaN</td>\n",
       "      <td>NaN</td>\n",
       "      <td>NaN</td>\n",
       "      <td>NaN</td>\n",
       "      <td>5.80</td>\n",
       "      <td>мелодрама, комедия, драма</td>\n",
       "      <td>0.00</td>\n",
       "    </tr>\n",
       "    <tr>\n",
       "      <th>1559</th>\n",
       "      <td>последняя любовь мистера моргана /по роману фр...</td>\n",
       "      <td>121002614</td>\n",
       "      <td>2014-02-11 12:00:00+00:00</td>\n",
       "      <td>художественный</td>\n",
       "      <td>камински штим фильм,  бавариа пикчерз,  сенато...</td>\n",
       "      <td>германия, бельгия, сша , франция</td>\n",
       "      <td>сандра неттельбек</td>\n",
       "      <td>франк камински,  астрид камке,  филипп кройцер...</td>\n",
       "      <td>«16+», для детей старше 16 лет</td>\n",
       "      <td>NaN</td>\n",
       "      <td>NaN</td>\n",
       "      <td>NaN</td>\n",
       "      <td>NaN</td>\n",
       "      <td>6.90</td>\n",
       "      <td>драма</td>\n",
       "      <td>0.00</td>\n",
       "    </tr>\n",
       "    <tr>\n",
       "      <th>1772</th>\n",
       "      <td>весёлые ребята ;)</td>\n",
       "      <td>111002414</td>\n",
       "      <td>2014-02-27 12:00:00+00:00</td>\n",
       "      <td>художественный</td>\n",
       "      <td>зао \"продюсерская компания валерия тодоровского\"</td>\n",
       "      <td>россия</td>\n",
       "      <td>а.бобров</td>\n",
       "      <td>в.тодоровский</td>\n",
       "      <td>«6+», для детей старше 6 лет</td>\n",
       "      <td>NaN</td>\n",
       "      <td>NaN</td>\n",
       "      <td>NaN</td>\n",
       "      <td>NaN</td>\n",
       "      <td>NaN</td>\n",
       "      <td>unknown</td>\n",
       "      <td>0.00</td>\n",
       "    </tr>\n",
       "    <tr>\n",
       "      <th>1782</th>\n",
       "      <td>анжелика,  маркиза ангелов</td>\n",
       "      <td>121031913</td>\n",
       "      <td>2013-12-12 12:00:00+00:00</td>\n",
       "      <td>художественный</td>\n",
       "      <td>европа корп.,  монафилм,  вилмафилм</td>\n",
       "      <td>франция</td>\n",
       "      <td>ариэль зейтун</td>\n",
       "      <td>эммануэль жаклин,  павел солк,  филипп херинг</td>\n",
       "      <td>«16+», для детей старше 16 лет</td>\n",
       "      <td>NaN</td>\n",
       "      <td>NaN</td>\n",
       "      <td>NaN</td>\n",
       "      <td>NaN</td>\n",
       "      <td>8.00</td>\n",
       "      <td>драма, мелодрама, приключения</td>\n",
       "      <td>0.00</td>\n",
       "    </tr>\n",
       "    <tr>\n",
       "      <th>1978</th>\n",
       "      <td>люблю твою жену</td>\n",
       "      <td>121013014</td>\n",
       "      <td>2014-06-23 12:00:00+00:00</td>\n",
       "      <td>художественный</td>\n",
       "      <td>серендипити пойнт фильм,  номадик пикчерз</td>\n",
       "      <td>канада</td>\n",
       "      <td>джеримайя с.чечик</td>\n",
       "      <td>стефен аликс,  эри лантос,  роберт лантош</td>\n",
       "      <td>«16+», для детей старше 16 лет</td>\n",
       "      <td>NaN</td>\n",
       "      <td>NaN</td>\n",
       "      <td>NaN</td>\n",
       "      <td>NaN</td>\n",
       "      <td>6.00</td>\n",
       "      <td>мелодрама, комедия</td>\n",
       "      <td>0.00</td>\n",
       "    </tr>\n",
       "    <tr>\n",
       "      <th>2037</th>\n",
       "      <td>кино про алексеева</td>\n",
       "      <td>111007114</td>\n",
       "      <td>2014-07-18 12:00:00+00:00</td>\n",
       "      <td>художественный</td>\n",
       "      <td>ооо \"кинокомпания \"новые люди\"</td>\n",
       "      <td>россия</td>\n",
       "      <td>м.сегал</td>\n",
       "      <td>н.мокрицкая</td>\n",
       "      <td>«12+», для детей старше 12 лет</td>\n",
       "      <td>NaN</td>\n",
       "      <td>NaN</td>\n",
       "      <td>NaN</td>\n",
       "      <td>NaN</td>\n",
       "      <td>6.90</td>\n",
       "      <td>драма</td>\n",
       "      <td>0.00</td>\n",
       "    </tr>\n",
       "    <tr>\n",
       "      <th>2078</th>\n",
       "      <td>курбан, роман. (история с жертвой).</td>\n",
       "      <td>111009614</td>\n",
       "      <td>2014-09-02 12:00:00+00:00</td>\n",
       "      <td>художественный</td>\n",
       "      <td>фонд \"инновация\"</td>\n",
       "      <td>россия</td>\n",
       "      <td>с.юзеев</td>\n",
       "      <td>м.галицкая</td>\n",
       "      <td>«12+», для детей старше 12 лет</td>\n",
       "      <td>NaN</td>\n",
       "      <td>NaN</td>\n",
       "      <td>NaN</td>\n",
       "      <td>NaN</td>\n",
       "      <td>NaN</td>\n",
       "      <td>unknown</td>\n",
       "      <td>0.00</td>\n",
       "    </tr>\n",
       "    <tr>\n",
       "      <th>2126</th>\n",
       "      <td>поездка к матери</td>\n",
       "      <td>111002015</td>\n",
       "      <td>2015-03-02 12:00:00+00:00</td>\n",
       "      <td>художественный</td>\n",
       "      <td>зао \"киностудия \"м\", фильм\"</td>\n",
       "      <td>россия</td>\n",
       "      <td>м.косырев, нестеров</td>\n",
       "      <td>м.косырев, нестеров</td>\n",
       "      <td>«16+», для детей старше 16 лет</td>\n",
       "      <td>NaN</td>\n",
       "      <td>NaN</td>\n",
       "      <td>NaN</td>\n",
       "      <td>NaN</td>\n",
       "      <td>9.10</td>\n",
       "      <td>драма, семейный</td>\n",
       "      <td>0.00</td>\n",
       "    </tr>\n",
       "    <tr>\n",
       "      <th>2219</th>\n",
       "      <td>прогулка по солнечному свету</td>\n",
       "      <td>121011614</td>\n",
       "      <td>2014-06-11 12:00:00+00:00</td>\n",
       "      <td>художественный</td>\n",
       "      <td>вертиго филмз,  айэм глобал</td>\n",
       "      <td>великобритания</td>\n",
       "      <td>макс джива,  дания пасквини</td>\n",
       "      <td>кэролайн леви,  эллан нибло,  джеймс ричардсон</td>\n",
       "      <td>«12+», для детей старше 12 лет</td>\n",
       "      <td>NaN</td>\n",
       "      <td>NaN</td>\n",
       "      <td>NaN</td>\n",
       "      <td>NaN</td>\n",
       "      <td>6.10</td>\n",
       "      <td>мюзикл, драма, мелодрама</td>\n",
       "      <td>0.00</td>\n",
       "    </tr>\n",
       "    <tr>\n",
       "      <th>2442</th>\n",
       "      <td>звездный мальчик</td>\n",
       "      <td>111013915</td>\n",
       "      <td>2015-08-25 12:00:00+00:00</td>\n",
       "      <td>художественный</td>\n",
       "      <td>киностудия \"мосфильм\"</td>\n",
       "      <td>ссср</td>\n",
       "      <td>е.зильберштейн,  а.дудоров</td>\n",
       "      <td>unknown</td>\n",
       "      <td>«0+», для любой зрительской аудитории</td>\n",
       "      <td>NaN</td>\n",
       "      <td>NaN</td>\n",
       "      <td>NaN</td>\n",
       "      <td>NaN</td>\n",
       "      <td>7.50</td>\n",
       "      <td>драма</td>\n",
       "      <td>0.00</td>\n",
       "    </tr>\n",
       "    <tr>\n",
       "      <th>2685</th>\n",
       "      <td>пусть так будет</td>\n",
       "      <td>111009815</td>\n",
       "      <td>2015-06-01 12:00:00+00:00</td>\n",
       "      <td>художественный</td>\n",
       "      <td>ооо продюсерская компания \"держава\"</td>\n",
       "      <td>россия</td>\n",
       "      <td>о.смольников</td>\n",
       "      <td>к.лавров,  ю.потапова,  в.бутер,  с.прудников,...</td>\n",
       "      <td>«12+», для детей старше 12 лет</td>\n",
       "      <td>NaN</td>\n",
       "      <td>NaN</td>\n",
       "      <td>NaN</td>\n",
       "      <td>NaN</td>\n",
       "      <td>NaN</td>\n",
       "      <td>unknown</td>\n",
       "      <td>0.00</td>\n",
       "    </tr>\n",
       "    <tr>\n",
       "      <th>3595</th>\n",
       "      <td>ананас</td>\n",
       "      <td>111017116</td>\n",
       "      <td>2016-11-10 12:00:00+00:00</td>\n",
       "      <td>художественный</td>\n",
       "      <td>рудак владимир иванович</td>\n",
       "      <td>россия</td>\n",
       "      <td>в.рудак</td>\n",
       "      <td>в.рудак,  а.бабенко</td>\n",
       "      <td>«16+», для детей старше 16 лет</td>\n",
       "      <td>NaN</td>\n",
       "      <td>NaN</td>\n",
       "      <td>NaN</td>\n",
       "      <td>NaN</td>\n",
       "      <td>6.70</td>\n",
       "      <td>боевик, комедия, криминал</td>\n",
       "      <td>0.00</td>\n",
       "    </tr>\n",
       "    <tr>\n",
       "      <th>3827</th>\n",
       "      <td>москва,  я люблю тебя</td>\n",
       "      <td>111001610</td>\n",
       "      <td>2010-02-09 12:00:00+00:00</td>\n",
       "      <td>художественный</td>\n",
       "      <td>ооо \"бфг, медиа, продакшн\",  ооо \"продюсерская...</td>\n",
       "      <td>россия</td>\n",
       "      <td>г.михалков,  г.натансон,  в.сторожева,  а.каса...</td>\n",
       "      <td>ю.глоцер,  ю.гинзбург</td>\n",
       "      <td>«16+», для детей старше 16 лет</td>\n",
       "      <td>NaN</td>\n",
       "      <td>NaN</td>\n",
       "      <td>NaN</td>\n",
       "      <td>NaN</td>\n",
       "      <td>4.50</td>\n",
       "      <td>мелодрама, комедия</td>\n",
       "      <td>0.00</td>\n",
       "    </tr>\n",
       "    <tr>\n",
       "      <th>3994</th>\n",
       "      <td>стать джоном ленноном</td>\n",
       "      <td>121008610</td>\n",
       "      <td>2010-05-05 12:00:00+00:00</td>\n",
       "      <td>художественный</td>\n",
       "      <td>авер медиа,  экосси филмз,  филм 4,  норс вест...</td>\n",
       "      <td>канада, великобритания</td>\n",
       "      <td>сэм тейлор вуд</td>\n",
       "      <td>роберт бернштейн,  кевин лоудер,  дуглас рэй</td>\n",
       "      <td>«16+», для детей старше 16 лет</td>\n",
       "      <td>NaN</td>\n",
       "      <td>NaN</td>\n",
       "      <td>NaN</td>\n",
       "      <td>NaN</td>\n",
       "      <td>7.50</td>\n",
       "      <td>драма, мелодрама, биография</td>\n",
       "      <td>0.00</td>\n",
       "    </tr>\n",
       "    <tr>\n",
       "      <th>4066</th>\n",
       "      <td>дерево.</td>\n",
       "      <td>121020210</td>\n",
       "      <td>2010-11-03 12:00:00+00:00</td>\n",
       "      <td>художественный</td>\n",
       "      <td>ле фильм дю позьон,  тэйлор медиа,  скрин ауас...</td>\n",
       "      <td>франция, австралия</td>\n",
       "      <td>жюли бертучелли</td>\n",
       "      <td>unknown</td>\n",
       "      <td>«16+», для детей старше 16 лет</td>\n",
       "      <td>NaN</td>\n",
       "      <td>NaN</td>\n",
       "      <td>NaN</td>\n",
       "      <td>NaN</td>\n",
       "      <td>NaN</td>\n",
       "      <td>unknown</td>\n",
       "      <td>0.00</td>\n",
       "    </tr>\n",
       "    <tr>\n",
       "      <th>4790</th>\n",
       "      <td>красный лед. сага о хантах югры</td>\n",
       "      <td>111005910</td>\n",
       "      <td>2010-06-04 12:00:00+00:00</td>\n",
       "      <td>художественный</td>\n",
       "      <td>департамент культуры и искусства хмао, югры,  ...</td>\n",
       "      <td>россия</td>\n",
       "      <td>о.фесенко</td>\n",
       "      <td>о.урушев</td>\n",
       "      <td>«16+», для детей старше 16 лет</td>\n",
       "      <td>NaN</td>\n",
       "      <td>NaN</td>\n",
       "      <td>NaN</td>\n",
       "      <td>NaN</td>\n",
       "      <td>4.50</td>\n",
       "      <td>драма, история</td>\n",
       "      <td>0.00</td>\n",
       "    </tr>\n",
       "  </tbody>\n",
       "</table>\n",
       "</div>"
      ],
      "text/plain": [
       "                                                  title   puNumber  \\\n",
       "66                                         анна павлова  111011013   \n",
       "237                                            подранки  111007613   \n",
       "596                                       запах вереска  111003012   \n",
       "914     в тумане /по одноименной повести василя быкова/  121027712   \n",
       "932                                     письмо для момо  124002912   \n",
       "933                                        летние войны  124002812   \n",
       "976                                        гарегин нжде  131000213   \n",
       "1126                                            марафон  111006712   \n",
       "1387  экзамен для двоих /по роману джин ханфф корелитц/  121014613   \n",
       "1559  последняя любовь мистера моргана /по роману фр...  121002614   \n",
       "1772                                  весёлые ребята ;)  111002414   \n",
       "1782                         анжелика,  маркиза ангелов  121031913   \n",
       "1978                                    люблю твою жену  121013014   \n",
       "2037                                 кино про алексеева  111007114   \n",
       "2078                курбан, роман. (история с жертвой).  111009614   \n",
       "2126                                   поездка к матери  111002015   \n",
       "2219                       прогулка по солнечному свету  121011614   \n",
       "2442                                   звездный мальчик  111013915   \n",
       "2685                                    пусть так будет  111009815   \n",
       "3595                                             ананас  111017116   \n",
       "3827                              москва,  я люблю тебя  111001610   \n",
       "3994                              стать джоном ленноном  121008610   \n",
       "4066                                            дерево.  121020210   \n",
       "4790                    красный лед. сага о хантах югры  111005910   \n",
       "\n",
       "               show_start_date            type  \\\n",
       "66   2013-12-19 12:00:00+00:00  художественный   \n",
       "237  2013-10-18 12:00:00+00:00  художественный   \n",
       "596  2012-05-23 12:00:00+00:00  художественный   \n",
       "914  2012-11-07 12:00:00+00:00  художественный   \n",
       "932  2012-10-25 12:00:00+00:00    анимационный   \n",
       "933  2012-10-25 12:00:00+00:00    анимационный   \n",
       "976  2013-04-23 12:00:00+00:00  художественный   \n",
       "1126 2012-12-18 12:00:00+00:00  художественный   \n",
       "1387 2013-06-11 12:00:00+00:00  художественный   \n",
       "1559 2014-02-11 12:00:00+00:00  художественный   \n",
       "1772 2014-02-27 12:00:00+00:00  художественный   \n",
       "1782 2013-12-12 12:00:00+00:00  художественный   \n",
       "1978 2014-06-23 12:00:00+00:00  художественный   \n",
       "2037 2014-07-18 12:00:00+00:00  художественный   \n",
       "2078 2014-09-02 12:00:00+00:00  художественный   \n",
       "2126 2015-03-02 12:00:00+00:00  художественный   \n",
       "2219 2014-06-11 12:00:00+00:00  художественный   \n",
       "2442 2015-08-25 12:00:00+00:00  художественный   \n",
       "2685 2015-06-01 12:00:00+00:00  художественный   \n",
       "3595 2016-11-10 12:00:00+00:00  художественный   \n",
       "3827 2010-02-09 12:00:00+00:00  художественный   \n",
       "3994 2010-05-05 12:00:00+00:00  художественный   \n",
       "4066 2010-11-03 12:00:00+00:00  художественный   \n",
       "4790 2010-06-04 12:00:00+00:00  художественный   \n",
       "\n",
       "                                            film_studio  \\\n",
       "66    совместное производство киностудия \"мосфильм\",...   \n",
       "237                               киностудия \"мосфильм\"   \n",
       "596                                    ооо \"студия рим\"   \n",
       "914   ма йа де фикшн,  лемминг филм,  беларусьфильм,...   \n",
       "932   кадокава пикчерз,  продакшнз и джи,  токио бро...   \n",
       "933   медхауз,  ниппон телевижн нетуорк корпорейшн, ...   \n",
       "976     эй джи кей продакшнз,  пан армениан медиа групп   \n",
       "1126                            ооо \"синема арт студио\"   \n",
       "1387                                       депф оф филд   \n",
       "1559  камински штим фильм,  бавариа пикчерз,  сенато...   \n",
       "1772   зао \"продюсерская компания валерия тодоровского\"   \n",
       "1782                европа корп.,  монафилм,  вилмафилм   \n",
       "1978          серендипити пойнт фильм,  номадик пикчерз   \n",
       "2037                     ооо \"кинокомпания \"новые люди\"   \n",
       "2078                                   фонд \"инновация\"   \n",
       "2126                        зао \"киностудия \"м\", фильм\"   \n",
       "2219                        вертиго филмз,  айэм глобал   \n",
       "2442                              киностудия \"мосфильм\"   \n",
       "2685                ооо продюсерская компания \"держава\"   \n",
       "3595                            рудак владимир иванович   \n",
       "3827  ооо \"бфг, медиа, продакшн\",  ооо \"продюсерская...   \n",
       "3994  авер медиа,  экосси филмз,  филм 4,  норс вест...   \n",
       "4066  ле фильм дю позьон,  тэйлор медиа,  скрин ауас...   \n",
       "4790  департамент культуры и искусства хмао, югры,  ...   \n",
       "\n",
       "                                  production_country  \\\n",
       "66              ссср,  франция,  англия,  куба,  гдр   \n",
       "237                                             ссср   \n",
       "596                                           россия   \n",
       "914   германия, нидерланды, беларусь, россия, латвия   \n",
       "932                                           япония   \n",
       "933                                           япония   \n",
       "976                                          армения   \n",
       "1126                                          россия   \n",
       "1387                                             сша   \n",
       "1559                германия, бельгия, сша , франция   \n",
       "1772                                          россия   \n",
       "1782                                         франция   \n",
       "1978                                          канада   \n",
       "2037                                          россия   \n",
       "2078                                          россия   \n",
       "2126                                          россия   \n",
       "2219                                  великобритания   \n",
       "2442                                            ссср   \n",
       "2685                                          россия   \n",
       "3595                                          россия   \n",
       "3827                                          россия   \n",
       "3994                          канада, великобритания   \n",
       "4066                              франция, австралия   \n",
       "4790                                          россия   \n",
       "\n",
       "                                               director  \\\n",
       "66                                         эмиль лотяну   \n",
       "237                                           н.губенко   \n",
       "596                                         а.магомедов   \n",
       "914                                      сергей лозница   \n",
       "932                                      окиура хироюки   \n",
       "933                                       мамору хосода   \n",
       "976                                        грач кешишян   \n",
       "1126                                         к.оганесян   \n",
       "1387                                           пол вайц   \n",
       "1559                                  сандра неттельбек   \n",
       "1772                                           а.бобров   \n",
       "1782                                      ариэль зейтун   \n",
       "1978                                  джеримайя с.чечик   \n",
       "2037                                            м.сегал   \n",
       "2078                                            с.юзеев   \n",
       "2126                                м.косырев, нестеров   \n",
       "2219                        макс джива,  дания пасквини   \n",
       "2442                         е.зильберштейн,  а.дудоров   \n",
       "2685                                       о.смольников   \n",
       "3595                                            в.рудак   \n",
       "3827  г.михалков,  г.натансон,  в.сторожева,  а.каса...   \n",
       "3994                                     сэм тейлор вуд   \n",
       "4066                                    жюли бертучелли   \n",
       "4790                                          о.фесенко   \n",
       "\n",
       "                                               producer  \\\n",
       "66                                              unknown   \n",
       "237                                             unknown   \n",
       "596                              м.балашова,  е.миронов   \n",
       "914                                        хайно декерт   \n",
       "932   хироюки икеда,  митсухиса ишикава,  кацзуя хамана   \n",
       "933   такафуми ватанабэ,  такуя ито,  сэйдзи окуда, ...   \n",
       "976                                        грач кешишян   \n",
       "1126                                         к.оганесян   \n",
       "1387            пол вайц,  керри кохански,  эндрю миано   \n",
       "1559  франк камински,  астрид камке,  филипп кройцер...   \n",
       "1772                                      в.тодоровский   \n",
       "1782      эммануэль жаклин,  павел солк,  филипп херинг   \n",
       "1978          стефен аликс,  эри лантос,  роберт лантош   \n",
       "2037                                        н.мокрицкая   \n",
       "2078                                         м.галицкая   \n",
       "2126                                м.косырев, нестеров   \n",
       "2219     кэролайн леви,  эллан нибло,  джеймс ричардсон   \n",
       "2442                                            unknown   \n",
       "2685  к.лавров,  ю.потапова,  в.бутер,  с.прудников,...   \n",
       "3595                                в.рудак,  а.бабенко   \n",
       "3827                              ю.глоцер,  ю.гинзбург   \n",
       "3994       роберт бернштейн,  кевин лоудер,  дуглас рэй   \n",
       "4066                                            unknown   \n",
       "4790                                           о.урушев   \n",
       "\n",
       "                            age_restriction  refundable_support  \\\n",
       "66             «6+», для детей старше 6 лет                 NaN   \n",
       "237          «12+», для детей старше 12 лет                 NaN   \n",
       "596          «16+», для детей старше 16 лет                 NaN   \n",
       "914          «12+», для детей старше 12 лет                 NaN   \n",
       "932          «12+», для детей старше 12 лет                 NaN   \n",
       "933          «12+», для детей старше 12 лет                 NaN   \n",
       "976          «12+», для детей старше 12 лет                 NaN   \n",
       "1126         «16+», для детей старше 16 лет                 NaN   \n",
       "1387         «12+», для детей старше 12 лет                 NaN   \n",
       "1559         «16+», для детей старше 16 лет                 NaN   \n",
       "1772           «6+», для детей старше 6 лет                 NaN   \n",
       "1782         «16+», для детей старше 16 лет                 NaN   \n",
       "1978         «16+», для детей старше 16 лет                 NaN   \n",
       "2037         «12+», для детей старше 12 лет                 NaN   \n",
       "2078         «12+», для детей старше 12 лет                 NaN   \n",
       "2126         «16+», для детей старше 16 лет                 NaN   \n",
       "2219         «12+», для детей старше 12 лет                 NaN   \n",
       "2442  «0+», для любой зрительской аудитории                 NaN   \n",
       "2685         «12+», для детей старше 12 лет                 NaN   \n",
       "3595         «16+», для детей старше 16 лет                 NaN   \n",
       "3827         «16+», для детей старше 16 лет                 NaN   \n",
       "3994         «16+», для детей старше 16 лет                 NaN   \n",
       "4066         «16+», для детей старше 16 лет                 NaN   \n",
       "4790         «16+», для детей старше 16 лет                 NaN   \n",
       "\n",
       "      nonrefundable_support  budget financing_source  ratings  \\\n",
       "66                      NaN     NaN              NaN     7.70   \n",
       "237                     NaN     NaN              NaN     8.20   \n",
       "596                     NaN     NaN              NaN     6.30   \n",
       "914                     NaN     NaN              NaN     6.50   \n",
       "932                     NaN     NaN              NaN     7.40   \n",
       "933                     NaN     NaN              NaN     7.70   \n",
       "976                     NaN     NaN              NaN     7.90   \n",
       "1126                    NaN     NaN              NaN     5.50   \n",
       "1387                    NaN     NaN              NaN     5.80   \n",
       "1559                    NaN     NaN              NaN     6.90   \n",
       "1772                    NaN     NaN              NaN      NaN   \n",
       "1782                    NaN     NaN              NaN     8.00   \n",
       "1978                    NaN     NaN              NaN     6.00   \n",
       "2037                    NaN     NaN              NaN     6.90   \n",
       "2078                    NaN     NaN              NaN      NaN   \n",
       "2126                    NaN     NaN              NaN     9.10   \n",
       "2219                    NaN     NaN              NaN     6.10   \n",
       "2442                    NaN     NaN              NaN     7.50   \n",
       "2685                    NaN     NaN              NaN      NaN   \n",
       "3595                    NaN     NaN              NaN     6.70   \n",
       "3827                    NaN     NaN              NaN     4.50   \n",
       "3994                    NaN     NaN              NaN     7.50   \n",
       "4066                    NaN     NaN              NaN      NaN   \n",
       "4790                    NaN     NaN              NaN     4.50   \n",
       "\n",
       "                             genres  box_office  \n",
       "66         драма, биография, музыка        0.00  \n",
       "237                           драма        0.00  \n",
       "596                         комедия        0.00  \n",
       "914         драма, военный, история        0.00  \n",
       "932        аниме, мультфильм, драма        0.00  \n",
       "933   аниме, мультфильм, фантастика        0.00  \n",
       "976                       биография        0.00  \n",
       "1126             комедия, мелодрама        0.00  \n",
       "1387      мелодрама, комедия, драма        0.00  \n",
       "1559                          драма        0.00  \n",
       "1772                        unknown        0.00  \n",
       "1782  драма, мелодрама, приключения        0.00  \n",
       "1978             мелодрама, комедия        0.00  \n",
       "2037                          драма        0.00  \n",
       "2078                        unknown        0.00  \n",
       "2126                драма, семейный        0.00  \n",
       "2219       мюзикл, драма, мелодрама        0.00  \n",
       "2442                          драма        0.00  \n",
       "2685                        unknown        0.00  \n",
       "3595      боевик, комедия, криминал        0.00  \n",
       "3827             мелодрама, комедия        0.00  \n",
       "3994    драма, мелодрама, биография        0.00  \n",
       "4066                        unknown        0.00  \n",
       "4790                 драма, история        0.00  "
      ]
     },
     "metadata": {},
     "output_type": "display_data"
    }
   ],
   "source": [
    "display(merged_data.query('box_office <= 0'))"
   ]
  },
  {
   "cell_type": "markdown",
   "metadata": {},
   "source": [
    "Значения 0 в box_office, скорее всего означают отсутвие информации, изменим значения на Nan чтобы не мешало статистики"
   ]
  },
  {
   "cell_type": "code",
   "execution_count": 27,
   "metadata": {},
   "outputs": [
    {
     "ename": "AttributeError",
     "evalue": "module 'pandas' has no attribute 'np'",
     "output_type": "error",
     "traceback": [
      "\u001b[1;31m---------------------------------------------------------------------------\u001b[0m",
      "\u001b[1;31mAttributeError\u001b[0m                            Traceback (most recent call last)",
      "Cell \u001b[1;32mIn[27], line 2\u001b[0m\n\u001b[0;32m      1\u001b[0m \u001b[38;5;66;03m# Изменение значений в столбце \"box_office\" на NaN (пустое значение)\u001b[39;00m\n\u001b[1;32m----> 2\u001b[0m merged_data\u001b[38;5;241m.\u001b[39mloc[merged_data[\u001b[38;5;124m'\u001b[39m\u001b[38;5;124mbox_office\u001b[39m\u001b[38;5;124m'\u001b[39m] \u001b[38;5;241m==\u001b[39m \u001b[38;5;241m0\u001b[39m, \u001b[38;5;124m'\u001b[39m\u001b[38;5;124mbox_office\u001b[39m\u001b[38;5;124m'\u001b[39m] \u001b[38;5;241m=\u001b[39m \u001b[43mpd\u001b[49m\u001b[38;5;241;43m.\u001b[39;49m\u001b[43mnp\u001b[49m\u001b[38;5;241m.\u001b[39mnan\n",
      "\u001b[1;31mAttributeError\u001b[0m: module 'pandas' has no attribute 'np'"
     ]
    }
   ],
   "source": [
    "# Изменение значений в столбце \"box_office\" на NaN (пустое значение)\n",
    "merged_data.loc[merged_data['box_office'] == 0, 'box_office'] = pd.np.nan"
   ]
  },
  {
   "cell_type": "code",
   "execution_count": null,
   "metadata": {},
   "outputs": [
    {
     "data": {
      "text/html": [
       "<div>\n",
       "<style scoped>\n",
       "    .dataframe tbody tr th:only-of-type {\n",
       "        vertical-align: middle;\n",
       "    }\n",
       "\n",
       "    .dataframe tbody tr th {\n",
       "        vertical-align: top;\n",
       "    }\n",
       "\n",
       "    .dataframe thead th {\n",
       "        text-align: right;\n",
       "    }\n",
       "</style>\n",
       "<table border=\"1\" class=\"dataframe\">\n",
       "  <thead>\n",
       "    <tr style=\"text-align: right;\">\n",
       "      <th></th>\n",
       "      <th>title</th>\n",
       "      <th>puNumber</th>\n",
       "      <th>show_start_date</th>\n",
       "      <th>type</th>\n",
       "      <th>film_studio</th>\n",
       "      <th>production_country</th>\n",
       "      <th>director</th>\n",
       "      <th>producer</th>\n",
       "      <th>age_restriction</th>\n",
       "      <th>refundable_support</th>\n",
       "      <th>nonrefundable_support</th>\n",
       "      <th>budget</th>\n",
       "      <th>financing_source</th>\n",
       "      <th>ratings</th>\n",
       "      <th>genres</th>\n",
       "      <th>box_office</th>\n",
       "    </tr>\n",
       "  </thead>\n",
       "  <tbody>\n",
       "    <tr>\n",
       "      <th>151</th>\n",
       "      <td>жестокий романс</td>\n",
       "      <td>111006013</td>\n",
       "      <td>2013-10-18 12:00:00+00:00</td>\n",
       "      <td>художественный</td>\n",
       "      <td>киностудия \"мосфильм\"</td>\n",
       "      <td>ссср</td>\n",
       "      <td>э.рязанов</td>\n",
       "      <td>unknown</td>\n",
       "      <td>«12+», для детей старше 12 лет</td>\n",
       "      <td>NaN</td>\n",
       "      <td>NaN</td>\n",
       "      <td>NaN</td>\n",
       "      <td>NaN</td>\n",
       "      <td>8.10</td>\n",
       "      <td>драма, мелодрама, история</td>\n",
       "      <td>40.00</td>\n",
       "    </tr>\n",
       "    <tr>\n",
       "      <th>2274</th>\n",
       "      <td>каменный цветок.</td>\n",
       "      <td>111016714</td>\n",
       "      <td>2014-12-01 12:00:00+00:00</td>\n",
       "      <td>художественный</td>\n",
       "      <td>киностудия \"мосфильм\"</td>\n",
       "      <td>ссср</td>\n",
       "      <td>а.птушко</td>\n",
       "      <td>unknown</td>\n",
       "      <td>«0+», для любой зрительской аудитории</td>\n",
       "      <td>NaN</td>\n",
       "      <td>NaN</td>\n",
       "      <td>NaN</td>\n",
       "      <td>NaN</td>\n",
       "      <td>7.10</td>\n",
       "      <td>фэнтези, драма, мелодрама</td>\n",
       "      <td>50.00</td>\n",
       "    </tr>\n",
       "    <tr>\n",
       "      <th>3917</th>\n",
       "      <td>22 пули: бессмертный</td>\n",
       "      <td>121006410</td>\n",
       "      <td>2010-04-01 12:00:00+00:00</td>\n",
       "      <td>художественный</td>\n",
       "      <td>еуроп корпорейшн</td>\n",
       "      <td>франция</td>\n",
       "      <td>ришар бери</td>\n",
       "      <td>люк бессон,  дидье хорау,  пьер, анж ле погам</td>\n",
       "      <td>«16+», для детей старше 16 лет</td>\n",
       "      <td>NaN</td>\n",
       "      <td>NaN</td>\n",
       "      <td>NaN</td>\n",
       "      <td>NaN</td>\n",
       "      <td>7.10</td>\n",
       "      <td>боевик, драма, криминал</td>\n",
       "      <td>75.00</td>\n",
       "    </tr>\n",
       "    <tr>\n",
       "      <th>1180</th>\n",
       "      <td>астерикс и обеликс в британии 3d</td>\n",
       "      <td>121025012</td>\n",
       "      <td>2012-10-05 12:00:00+00:00</td>\n",
       "      <td>художественный</td>\n",
       "      <td>уайлд банч,  фиделите фильм,  филм кайрос,  си...</td>\n",
       "      <td>франция, италия, испания, венгрия</td>\n",
       "      <td>лоран тирар</td>\n",
       "      <td>оливье делбоск,  марк миссонье</td>\n",
       "      <td>«6+», для детей старше 6 лет</td>\n",
       "      <td>NaN</td>\n",
       "      <td>NaN</td>\n",
       "      <td>NaN</td>\n",
       "      <td>NaN</td>\n",
       "      <td>5.60</td>\n",
       "      <td>комедия, приключения, семейный</td>\n",
       "      <td>80.00</td>\n",
       "    </tr>\n",
       "    <tr>\n",
       "      <th>351</th>\n",
       "      <td>волшебное приключение</td>\n",
       "      <td>124000905</td>\n",
       "      <td>2015-01-18 12:00:00+00:00</td>\n",
       "      <td>анимационный</td>\n",
       "      <td>экшион филмз,  патэ синема,  болексбразерс</td>\n",
       "      <td>великобритания, франция</td>\n",
       "      <td>дэйв бортвик</td>\n",
       "      <td>клауди горский,  энди лэйтон,  лаурен родон,  ...</td>\n",
       "      <td>«0+», для любой зрительской аудитории</td>\n",
       "      <td>NaN</td>\n",
       "      <td>NaN</td>\n",
       "      <td>NaN</td>\n",
       "      <td>NaN</td>\n",
       "      <td>5.70</td>\n",
       "      <td>мультфильм, фэнтези, комедия</td>\n",
       "      <td>100.00</td>\n",
       "    </tr>\n",
       "    <tr>\n",
       "      <th>...</th>\n",
       "      <td>...</td>\n",
       "      <td>...</td>\n",
       "      <td>...</td>\n",
       "      <td>...</td>\n",
       "      <td>...</td>\n",
       "      <td>...</td>\n",
       "      <td>...</td>\n",
       "      <td>...</td>\n",
       "      <td>...</td>\n",
       "      <td>...</td>\n",
       "      <td>...</td>\n",
       "      <td>...</td>\n",
       "      <td>...</td>\n",
       "      <td>...</td>\n",
       "      <td>...</td>\n",
       "      <td>...</td>\n",
       "    </tr>\n",
       "    <tr>\n",
       "      <th>4388</th>\n",
       "      <td>близкий враг</td>\n",
       "      <td>111004710</td>\n",
       "      <td>2010-04-19 12:00:00+00:00</td>\n",
       "      <td>художественный</td>\n",
       "      <td>ооо \"кинокомпания визави\"</td>\n",
       "      <td>россия</td>\n",
       "      <td>а.атанесян</td>\n",
       "      <td>п.хет,  м.шлихт,  а.атанесян,  м.бабаханов,  о...</td>\n",
       "      <td>«16+», для детей старше 16 лет</td>\n",
       "      <td>NaN</td>\n",
       "      <td>NaN</td>\n",
       "      <td>NaN</td>\n",
       "      <td>NaN</td>\n",
       "      <td>5.80</td>\n",
       "      <td>драма, криминал</td>\n",
       "      <td>980.00</td>\n",
       "    </tr>\n",
       "    <tr>\n",
       "      <th>2002</th>\n",
       "      <td>белый ягель</td>\n",
       "      <td>111007814</td>\n",
       "      <td>2014-07-22 12:00:00+00:00</td>\n",
       "      <td>художественный</td>\n",
       "      <td>ооо \"дс фильм\"</td>\n",
       "      <td>россия</td>\n",
       "      <td>в.тумаев</td>\n",
       "      <td>с.дальская</td>\n",
       "      <td>«18+», запрещено для детей</td>\n",
       "      <td>NaN</td>\n",
       "      <td>NaN</td>\n",
       "      <td>NaN</td>\n",
       "      <td>NaN</td>\n",
       "      <td>6.70</td>\n",
       "      <td>драма, мелодрама</td>\n",
       "      <td>1,000.00</td>\n",
       "    </tr>\n",
       "    <tr>\n",
       "      <th>1779</th>\n",
       "      <td>трудно быть богом.</td>\n",
       "      <td>111003713</td>\n",
       "      <td>2013-08-28 12:00:00+00:00</td>\n",
       "      <td>художественный</td>\n",
       "      <td>ооо \"север\"</td>\n",
       "      <td>россия</td>\n",
       "      <td>а.герман</td>\n",
       "      <td>в.извеков,  р.насибулин</td>\n",
       "      <td>«18+», запрещено для детей</td>\n",
       "      <td>NaN</td>\n",
       "      <td>NaN</td>\n",
       "      <td>NaN</td>\n",
       "      <td>NaN</td>\n",
       "      <td>5.40</td>\n",
       "      <td>фантастика, драма</td>\n",
       "      <td>1,000.00</td>\n",
       "    </tr>\n",
       "    <tr>\n",
       "      <th>1776</th>\n",
       "      <td>параджанов</td>\n",
       "      <td>121007414</td>\n",
       "      <td>2014-04-21 12:00:00+00:00</td>\n",
       "      <td>художественный</td>\n",
       "      <td>интерфильм продакшн студио,  арапрод,  арт фра...</td>\n",
       "      <td>франция, украина, грузия, армения</td>\n",
       "      <td>серж аведикян,  елена фетисова</td>\n",
       "      <td>елена фетисова</td>\n",
       "      <td>«16+», для детей старше 16 лет</td>\n",
       "      <td>NaN</td>\n",
       "      <td>NaN</td>\n",
       "      <td>NaN</td>\n",
       "      <td>NaN</td>\n",
       "      <td>6.90</td>\n",
       "      <td>драма, мелодрама</td>\n",
       "      <td>1,000.00</td>\n",
       "    </tr>\n",
       "    <tr>\n",
       "      <th>2009</th>\n",
       "      <td>аб ово</td>\n",
       "      <td>111009214</td>\n",
       "      <td>2014-08-21 12:00:00+00:00</td>\n",
       "      <td>художественный</td>\n",
       "      <td>ооо \"продюсерский центр натальи ивановой\"</td>\n",
       "      <td>россия</td>\n",
       "      <td>а.ягубец</td>\n",
       "      <td>н.иванова</td>\n",
       "      <td>«16+», для детей старше 16 лет</td>\n",
       "      <td>NaN</td>\n",
       "      <td>NaN</td>\n",
       "      <td>NaN</td>\n",
       "      <td>NaN</td>\n",
       "      <td>7.90</td>\n",
       "      <td>драма</td>\n",
       "      <td>1,000.00</td>\n",
       "    </tr>\n",
       "  </tbody>\n",
       "</table>\n",
       "<p>187 rows × 16 columns</p>\n",
       "</div>"
      ],
      "text/plain": [
       "                                 title   puNumber           show_start_date  \\\n",
       "151                    жестокий романс  111006013 2013-10-18 12:00:00+00:00   \n",
       "2274                  каменный цветок.  111016714 2014-12-01 12:00:00+00:00   \n",
       "3917              22 пули: бессмертный  121006410 2010-04-01 12:00:00+00:00   \n",
       "1180  астерикс и обеликс в британии 3d  121025012 2012-10-05 12:00:00+00:00   \n",
       "351              волшебное приключение  124000905 2015-01-18 12:00:00+00:00   \n",
       "...                                ...        ...                       ...   \n",
       "4388                      близкий враг  111004710 2010-04-19 12:00:00+00:00   \n",
       "2002                       белый ягель  111007814 2014-07-22 12:00:00+00:00   \n",
       "1779                трудно быть богом.  111003713 2013-08-28 12:00:00+00:00   \n",
       "1776                        параджанов  121007414 2014-04-21 12:00:00+00:00   \n",
       "2009                            аб ово  111009214 2014-08-21 12:00:00+00:00   \n",
       "\n",
       "                type                                        film_studio  \\\n",
       "151   художественный                              киностудия \"мосфильм\"   \n",
       "2274  художественный                              киностудия \"мосфильм\"   \n",
       "3917  художественный                                   еуроп корпорейшн   \n",
       "1180  художественный  уайлд банч,  фиделите фильм,  филм кайрос,  си...   \n",
       "351     анимационный         экшион филмз,  патэ синема,  болексбразерс   \n",
       "...              ...                                                ...   \n",
       "4388  художественный                          ооо \"кинокомпания визави\"   \n",
       "2002  художественный                                     ооо \"дс фильм\"   \n",
       "1779  художественный                                        ооо \"север\"   \n",
       "1776  художественный  интерфильм продакшн студио,  арапрод,  арт фра...   \n",
       "2009  художественный          ооо \"продюсерский центр натальи ивановой\"   \n",
       "\n",
       "                     production_country                        director  \\\n",
       "151                                ссср                       э.рязанов   \n",
       "2274                               ссср                        а.птушко   \n",
       "3917                            франция                      ришар бери   \n",
       "1180  франция, италия, испания, венгрия                     лоран тирар   \n",
       "351             великобритания, франция                    дэйв бортвик   \n",
       "...                                 ...                             ...   \n",
       "4388                             россия                      а.атанесян   \n",
       "2002                             россия                        в.тумаев   \n",
       "1779                             россия                        а.герман   \n",
       "1776  франция, украина, грузия, армения  серж аведикян,  елена фетисова   \n",
       "2009                             россия                        а.ягубец   \n",
       "\n",
       "                                               producer  \\\n",
       "151                                             unknown   \n",
       "2274                                            unknown   \n",
       "3917      люк бессон,  дидье хорау,  пьер, анж ле погам   \n",
       "1180                     оливье делбоск,  марк миссонье   \n",
       "351   клауди горский,  энди лэйтон,  лаурен родон,  ...   \n",
       "...                                                 ...   \n",
       "4388  п.хет,  м.шлихт,  а.атанесян,  м.бабаханов,  о...   \n",
       "2002                                         с.дальская   \n",
       "1779                            в.извеков,  р.насибулин   \n",
       "1776                                     елена фетисова   \n",
       "2009                                          н.иванова   \n",
       "\n",
       "                            age_restriction  refundable_support  \\\n",
       "151          «12+», для детей старше 12 лет                 NaN   \n",
       "2274  «0+», для любой зрительской аудитории                 NaN   \n",
       "3917         «16+», для детей старше 16 лет                 NaN   \n",
       "1180           «6+», для детей старше 6 лет                 NaN   \n",
       "351   «0+», для любой зрительской аудитории                 NaN   \n",
       "...                                     ...                 ...   \n",
       "4388         «16+», для детей старше 16 лет                 NaN   \n",
       "2002             «18+», запрещено для детей                 NaN   \n",
       "1779             «18+», запрещено для детей                 NaN   \n",
       "1776         «16+», для детей старше 16 лет                 NaN   \n",
       "2009         «16+», для детей старше 16 лет                 NaN   \n",
       "\n",
       "      nonrefundable_support  budget financing_source  ratings  \\\n",
       "151                     NaN     NaN              NaN     8.10   \n",
       "2274                    NaN     NaN              NaN     7.10   \n",
       "3917                    NaN     NaN              NaN     7.10   \n",
       "1180                    NaN     NaN              NaN     5.60   \n",
       "351                     NaN     NaN              NaN     5.70   \n",
       "...                     ...     ...              ...      ...   \n",
       "4388                    NaN     NaN              NaN     5.80   \n",
       "2002                    NaN     NaN              NaN     6.70   \n",
       "1779                    NaN     NaN              NaN     5.40   \n",
       "1776                    NaN     NaN              NaN     6.90   \n",
       "2009                    NaN     NaN              NaN     7.90   \n",
       "\n",
       "                              genres  box_office  \n",
       "151        драма, мелодрама, история       40.00  \n",
       "2274       фэнтези, драма, мелодрама       50.00  \n",
       "3917         боевик, драма, криминал       75.00  \n",
       "1180  комедия, приключения, семейный       80.00  \n",
       "351     мультфильм, фэнтези, комедия      100.00  \n",
       "...                              ...         ...  \n",
       "4388                 драма, криминал      980.00  \n",
       "2002                драма, мелодрама    1,000.00  \n",
       "1779               фантастика, драма    1,000.00  \n",
       "1776                драма, мелодрама    1,000.00  \n",
       "2009                           драма    1,000.00  \n",
       "\n",
       "[187 rows x 16 columns]"
      ]
     },
     "metadata": {},
     "output_type": "display_data"
    }
   ],
   "source": [
    "display(merged_data.query('(box_office <= 1000) & (ratings > 5)').sort_values('box_office'))"
   ]
  },
  {
   "cell_type": "markdown",
   "metadata": {},
   "source": [
    "Значения меньше 1000 в box_office и ratings > 5, скорее всего означают анамилии информации, изменим значения на Nan чтобы не мешало статистики\n",
    "Те у которых ratings меньше 5 и box_office меньше 1000 скорее всего означают что провалились в прокате"
   ]
  },
  {
   "cell_type": "code",
   "execution_count": null,
   "metadata": {},
   "outputs": [],
   "source": [
    "merged_data.loc[(merged_data['box_office'] <= 1000) & (merged_data['ratings'] > 5), ['box_office']] = np.nan"
   ]
  },
  {
   "cell_type": "code",
   "execution_count": null,
   "metadata": {},
   "outputs": [
    {
     "data": {
      "text/html": [
       "<div>\n",
       "<style scoped>\n",
       "    .dataframe tbody tr th:only-of-type {\n",
       "        vertical-align: middle;\n",
       "    }\n",
       "\n",
       "    .dataframe tbody tr th {\n",
       "        vertical-align: top;\n",
       "    }\n",
       "\n",
       "    .dataframe thead th {\n",
       "        text-align: right;\n",
       "    }\n",
       "</style>\n",
       "<table border=\"1\" class=\"dataframe\">\n",
       "  <thead>\n",
       "    <tr style=\"text-align: right;\">\n",
       "      <th></th>\n",
       "      <th>puNumber</th>\n",
       "      <th>refundable_support</th>\n",
       "      <th>nonrefundable_support</th>\n",
       "      <th>budget</th>\n",
       "      <th>ratings</th>\n",
       "      <th>box_office</th>\n",
       "    </tr>\n",
       "  </thead>\n",
       "  <tbody>\n",
       "    <tr>\n",
       "      <th>count</th>\n",
       "      <td>7,469.00</td>\n",
       "      <td>315.00</td>\n",
       "      <td>315.00</td>\n",
       "      <td>315.00</td>\n",
       "      <td>6,503.00</td>\n",
       "      <td>2,930.00</td>\n",
       "    </tr>\n",
       "    <tr>\n",
       "      <th>mean</th>\n",
       "      <td>135,231,130.73</td>\n",
       "      <td>11,603,174.60</td>\n",
       "      <td>48,107,043.96</td>\n",
       "      <td>134,096,082.35</td>\n",
       "      <td>6.49</td>\n",
       "      <td>81,483,380.41</td>\n",
       "    </tr>\n",
       "    <tr>\n",
       "      <th>std</th>\n",
       "      <td>38,409,917.68</td>\n",
       "      <td>25,151,438.82</td>\n",
       "      <td>59,886,140.86</td>\n",
       "      <td>191,226,039.63</td>\n",
       "      <td>1.11</td>\n",
       "      <td>247,854,967.91</td>\n",
       "    </tr>\n",
       "    <tr>\n",
       "      <th>min</th>\n",
       "      <td>0.00</td>\n",
       "      <td>0.00</td>\n",
       "      <td>0.00</td>\n",
       "      <td>14,462,464.00</td>\n",
       "      <td>1.00</td>\n",
       "      <td>120.00</td>\n",
       "    </tr>\n",
       "    <tr>\n",
       "      <th>25%</th>\n",
       "      <td>113,000,116.00</td>\n",
       "      <td>0.00</td>\n",
       "      <td>25,000,000.00</td>\n",
       "      <td>46,153,866.50</td>\n",
       "      <td>5.90</td>\n",
       "      <td>263,261.25</td>\n",
       "    </tr>\n",
       "    <tr>\n",
       "      <th>50%</th>\n",
       "      <td>121,015,518.00</td>\n",
       "      <td>0.00</td>\n",
       "      <td>30,000,000.00</td>\n",
       "      <td>73,379,554.00</td>\n",
       "      <td>6.60</td>\n",
       "      <td>3,044,403.00</td>\n",
       "    </tr>\n",
       "    <tr>\n",
       "      <th>75%</th>\n",
       "      <td>124,003,318.00</td>\n",
       "      <td>10,000,000.00</td>\n",
       "      <td>40,000,000.00</td>\n",
       "      <td>150,004,286.50</td>\n",
       "      <td>7.20</td>\n",
       "      <td>28,625,993.04</td>\n",
       "    </tr>\n",
       "    <tr>\n",
       "      <th>max</th>\n",
       "      <td>231,001,111.00</td>\n",
       "      <td>180,000,000.00</td>\n",
       "      <td>400,000,000.00</td>\n",
       "      <td>2,305,074,303.00</td>\n",
       "      <td>9.90</td>\n",
       "      <td>3,073,568,690.79</td>\n",
       "    </tr>\n",
       "  </tbody>\n",
       "</table>\n",
       "</div>"
      ],
      "text/plain": [
       "            puNumber  refundable_support  nonrefundable_support  \\\n",
       "count       7,469.00              315.00                 315.00   \n",
       "mean  135,231,130.73       11,603,174.60          48,107,043.96   \n",
       "std    38,409,917.68       25,151,438.82          59,886,140.86   \n",
       "min             0.00                0.00                   0.00   \n",
       "25%   113,000,116.00                0.00          25,000,000.00   \n",
       "50%   121,015,518.00                0.00          30,000,000.00   \n",
       "75%   124,003,318.00       10,000,000.00          40,000,000.00   \n",
       "max   231,001,111.00      180,000,000.00         400,000,000.00   \n",
       "\n",
       "                budget  ratings       box_office  \n",
       "count           315.00 6,503.00         2,930.00  \n",
       "mean    134,096,082.35     6.49    81,483,380.41  \n",
       "std     191,226,039.63     1.11   247,854,967.91  \n",
       "min      14,462,464.00     1.00           120.00  \n",
       "25%      46,153,866.50     5.90       263,261.25  \n",
       "50%      73,379,554.00     6.60     3,044,403.00  \n",
       "75%     150,004,286.50     7.20    28,625,993.04  \n",
       "max   2,305,074,303.00     9.90 3,073,568,690.79  "
      ]
     },
     "execution_count": 30,
     "metadata": {},
     "output_type": "execute_result"
    }
   ],
   "source": [
    "merged_data.describe()"
   ]
  },
  {
   "cell_type": "code",
   "execution_count": null,
   "metadata": {},
   "outputs": [
    {
     "name": "stdout",
     "output_type": "stream",
     "text": [
      "<class 'pandas.core.frame.DataFrame'>\n",
      "Int64Index: 7469 entries, 0 to 7485\n",
      "Data columns (total 16 columns):\n",
      " #   Column                 Non-Null Count  Dtype              \n",
      "---  ------                 --------------  -----              \n",
      " 0   title                  7469 non-null   object             \n",
      " 1   puNumber               7469 non-null   Int64              \n",
      " 2   show_start_date        7469 non-null   datetime64[ns, UTC]\n",
      " 3   type                   7469 non-null   object             \n",
      " 4   film_studio            7469 non-null   object             \n",
      " 5   production_country     7469 non-null   object             \n",
      " 6   director               7469 non-null   object             \n",
      " 7   producer               7469 non-null   object             \n",
      " 8   age_restriction        7469 non-null   object             \n",
      " 9   refundable_support     315 non-null    float64            \n",
      " 10  nonrefundable_support  315 non-null    float64            \n",
      " 11  budget                 315 non-null    float64            \n",
      " 12  financing_source       315 non-null    object             \n",
      " 13  ratings                6503 non-null   float64            \n",
      " 14  genres                 7469 non-null   object             \n",
      " 15  box_office             2930 non-null   float64            \n",
      "dtypes: Int64(1), datetime64[ns, UTC](1), float64(5), object(9)\n",
      "memory usage: 999.3+ KB\n"
     ]
    }
   ],
   "source": [
    "merged_data.info()"
   ]
  },
  {
   "cell_type": "markdown",
   "metadata": {
    "id": "Eu6oWp2CgFyS"
   },
   "source": [
    "#### Шаг 2.6. Добавьте новые столбцы\n",
    "\n",
    "\n",
    "\n"
   ]
  },
  {
   "cell_type": "markdown",
   "metadata": {
    "id": "7GgW-UpAgFyS"
   },
   "source": [
    "- Создайте столбец с информацией о годе проката. Выделите год из даты премьеры фильма."
   ]
  },
  {
   "cell_type": "code",
   "execution_count": null,
   "metadata": {
    "colab": {
     "base_uri": "https://localhost:8080/"
    },
    "id": "I-yd1DkWgFyT",
    "outputId": "cc0703dd-6b5a-4f9d-b6af-ca8d85256f83"
   },
   "outputs": [],
   "source": [
    "# получаем позицию столбца 'show_start_date'\n",
    "col_position = merged_data.columns.get_loc('show_start_date')\n",
    "\n",
    "# создаем новый столбец 'release_year'\n",
    "merged_data['release_year'] = merged_data['show_start_date'].dt.year;\n",
    "\n",
    "# меняем позицию столбца 'release_year', располагая его после 'show_start_date'\n",
    "columns = list(merged_data.columns)\n",
    "columns.insert(col_position + 1, columns.pop(columns.index('release_year')))\n",
    "merged_data = merged_data[columns]"
   ]
  },
  {
   "cell_type": "markdown",
   "metadata": {
    "id": "nFTDLDYOgFyT"
   },
   "source": [
    "- Создайте два столбца: с именем и фамилией главного режиссёра и основным жанром фильма. В столбцы войдут первые значения из списка режиссёров и жанров соответственно.\n",
    "\n",
    "<div id=\"accordion\">\n",
    "    <div class=\"card\">\n",
    "        <div class=\"card-header\" id=\"headingThree\">\n",
    "            <button class=\"btn btn-link collapsed\" data-toggle=\"collapse\" data-target=\"#collapseHint_2\" aria-expanded=\"false\" aria-controls=\"collapseHint_2\">Подсказка</button>\n",
    "        </div>\n",
    "        <div id=\"collapseHint_2\" class=\"collapse\" aria-labelledby=\"headingThree\" data-parent=\"#accordion\">\n",
    "            <div class=\"card-body\">\n",
    "Чтобы создать такие столбцы, лучше всего использовать собственную функцию. Эту функцию можно применить к двум столбцам сразу.\n",
    "            </div>\n",
    "        </div>\n",
    "    </div>\n",
    "</div>"
   ]
  },
  {
   "cell_type": "code",
   "execution_count": null,
   "metadata": {
    "id": "LSbRZKbMgFyU"
   },
   "outputs": [],
   "source": [
    "merged_data['director_name'] = merged_data['director'].apply(lambda full_name: full_name.split(',')[0])\n",
    "merged_data['primary_genre'] = merged_data['genres'].apply(lambda genre_list: genre_list.split(',')[0])"
   ]
  },
  {
   "cell_type": "code",
   "execution_count": null,
   "metadata": {
    "colab": {
     "base_uri": "https://localhost:8080/",
     "height": 998
    },
    "id": "yN47S9PTRlEv",
    "outputId": "d6b3085e-6a58-47e8-80d5-325bd174a1fc"
   },
   "outputs": [
    {
     "data": {
      "text/html": [
       "<div>\n",
       "<style scoped>\n",
       "    .dataframe tbody tr th:only-of-type {\n",
       "        vertical-align: middle;\n",
       "    }\n",
       "\n",
       "    .dataframe tbody tr th {\n",
       "        vertical-align: top;\n",
       "    }\n",
       "\n",
       "    .dataframe thead th {\n",
       "        text-align: right;\n",
       "    }\n",
       "</style>\n",
       "<table border=\"1\" class=\"dataframe\">\n",
       "  <thead>\n",
       "    <tr style=\"text-align: right;\">\n",
       "      <th></th>\n",
       "      <th>title</th>\n",
       "      <th>puNumber</th>\n",
       "      <th>show_start_date</th>\n",
       "      <th>release_year</th>\n",
       "      <th>type</th>\n",
       "      <th>film_studio</th>\n",
       "      <th>production_country</th>\n",
       "      <th>director</th>\n",
       "      <th>producer</th>\n",
       "      <th>age_restriction</th>\n",
       "      <th>refundable_support</th>\n",
       "      <th>nonrefundable_support</th>\n",
       "      <th>budget</th>\n",
       "      <th>financing_source</th>\n",
       "      <th>ratings</th>\n",
       "      <th>genres</th>\n",
       "      <th>box_office</th>\n",
       "      <th>director_name</th>\n",
       "      <th>primary_genre</th>\n",
       "    </tr>\n",
       "  </thead>\n",
       "  <tbody>\n",
       "    <tr>\n",
       "      <th>0</th>\n",
       "      <td>открытый простор</td>\n",
       "      <td>221048915</td>\n",
       "      <td>2015-11-27 12:00:00+00:00</td>\n",
       "      <td>2015</td>\n",
       "      <td>художественный</td>\n",
       "      <td>тачстоун пикчерз,  кобальт пикчерз,  бикон пик...</td>\n",
       "      <td>сша</td>\n",
       "      <td>кевин костнер</td>\n",
       "      <td>дэвид валдес,  кевин костнер,  джейк эбертс</td>\n",
       "      <td>«18+», запрещено для детей</td>\n",
       "      <td>NaN</td>\n",
       "      <td>NaN</td>\n",
       "      <td>NaN</td>\n",
       "      <td>NaN</td>\n",
       "      <td>7.20</td>\n",
       "      <td>боевик, драма, мелодрама</td>\n",
       "      <td>NaN</td>\n",
       "      <td>кевин костнер</td>\n",
       "      <td>боевик</td>\n",
       "    </tr>\n",
       "    <tr>\n",
       "      <th>1</th>\n",
       "      <td>особо важное задание</td>\n",
       "      <td>111013716</td>\n",
       "      <td>2016-09-13 12:00:00+00:00</td>\n",
       "      <td>2016</td>\n",
       "      <td>художественный</td>\n",
       "      <td>киностудия \"мосфильм\"</td>\n",
       "      <td>ссср</td>\n",
       "      <td>е.матвеев</td>\n",
       "      <td>unknown</td>\n",
       "      <td>«6+», для детей старше 6 лет</td>\n",
       "      <td>NaN</td>\n",
       "      <td>NaN</td>\n",
       "      <td>NaN</td>\n",
       "      <td>NaN</td>\n",
       "      <td>6.60</td>\n",
       "      <td>драма, военный</td>\n",
       "      <td>NaN</td>\n",
       "      <td>е.матвеев</td>\n",
       "      <td>драма</td>\n",
       "    </tr>\n",
       "    <tr>\n",
       "      <th>2</th>\n",
       "      <td>особо опасен</td>\n",
       "      <td>221038416</td>\n",
       "      <td>2016-10-10 12:00:00+00:00</td>\n",
       "      <td>2016</td>\n",
       "      <td>художественный</td>\n",
       "      <td>юниверсал пикчерз,  кикстарт продакшнз,  марк ...</td>\n",
       "      <td>сша</td>\n",
       "      <td>тимур бекмамбетов</td>\n",
       "      <td>джим лемли,  джейсон нетер,  марк е.платт,  яй...</td>\n",
       "      <td>«18+», запрещено для детей</td>\n",
       "      <td>NaN</td>\n",
       "      <td>NaN</td>\n",
       "      <td>NaN</td>\n",
       "      <td>NaN</td>\n",
       "      <td>6.80</td>\n",
       "      <td>фантастика, боевик, триллер</td>\n",
       "      <td>NaN</td>\n",
       "      <td>тимур бекмамбетов</td>\n",
       "      <td>фантастика</td>\n",
       "    </tr>\n",
       "    <tr>\n",
       "      <th>3</th>\n",
       "      <td>особо опасен</td>\n",
       "      <td>221026916</td>\n",
       "      <td>2016-06-10 12:00:00+00:00</td>\n",
       "      <td>2016</td>\n",
       "      <td>художественный</td>\n",
       "      <td>юниверсал пикчерз,  кикстарт продакшнз,  марк ...</td>\n",
       "      <td>сша</td>\n",
       "      <td>тимур бекмамбетов</td>\n",
       "      <td>джим лемли,  джейсон нетер,  марк е.платт,  яй...</td>\n",
       "      <td>«18+», запрещено для детей</td>\n",
       "      <td>NaN</td>\n",
       "      <td>NaN</td>\n",
       "      <td>NaN</td>\n",
       "      <td>NaN</td>\n",
       "      <td>6.80</td>\n",
       "      <td>фантастика, боевик, триллер</td>\n",
       "      <td>NaN</td>\n",
       "      <td>тимур бекмамбетов</td>\n",
       "      <td>фантастика</td>\n",
       "    </tr>\n",
       "    <tr>\n",
       "      <th>4</th>\n",
       "      <td>особо опасен</td>\n",
       "      <td>221030815</td>\n",
       "      <td>2015-07-29 12:00:00+00:00</td>\n",
       "      <td>2015</td>\n",
       "      <td>художественный</td>\n",
       "      <td>юниверсал пикчерз,  кикстарт продакшнз,  марк ...</td>\n",
       "      <td>сша</td>\n",
       "      <td>тимур бекмамбетов</td>\n",
       "      <td>джим лемли,  джейсон нетер,  марк е.платт,  яй...</td>\n",
       "      <td>«18+», запрещено для детей</td>\n",
       "      <td>NaN</td>\n",
       "      <td>NaN</td>\n",
       "      <td>NaN</td>\n",
       "      <td>NaN</td>\n",
       "      <td>6.80</td>\n",
       "      <td>фантастика, боевик, триллер</td>\n",
       "      <td>NaN</td>\n",
       "      <td>тимур бекмамбетов</td>\n",
       "      <td>фантастика</td>\n",
       "    </tr>\n",
       "    <tr>\n",
       "      <th>...</th>\n",
       "      <td>...</td>\n",
       "      <td>...</td>\n",
       "      <td>...</td>\n",
       "      <td>...</td>\n",
       "      <td>...</td>\n",
       "      <td>...</td>\n",
       "      <td>...</td>\n",
       "      <td>...</td>\n",
       "      <td>...</td>\n",
       "      <td>...</td>\n",
       "      <td>...</td>\n",
       "      <td>...</td>\n",
       "      <td>...</td>\n",
       "      <td>...</td>\n",
       "      <td>...</td>\n",
       "      <td>...</td>\n",
       "      <td>...</td>\n",
       "      <td>...</td>\n",
       "      <td>...</td>\n",
       "    </tr>\n",
       "    <tr>\n",
       "      <th>7481</th>\n",
       "      <td>сад художника: американский импрессионизм</td>\n",
       "      <td>126008019</td>\n",
       "      <td>2019-12-23 12:00:00+00:00</td>\n",
       "      <td>2019</td>\n",
       "      <td>прочие</td>\n",
       "      <td>севен артс продакшнз</td>\n",
       "      <td>великобритания</td>\n",
       "      <td>фил грабски</td>\n",
       "      <td>фил грабски</td>\n",
       "      <td>«12+», для детей старше 12 лет</td>\n",
       "      <td>NaN</td>\n",
       "      <td>NaN</td>\n",
       "      <td>NaN</td>\n",
       "      <td>NaN</td>\n",
       "      <td>NaN</td>\n",
       "      <td>unknown</td>\n",
       "      <td>NaN</td>\n",
       "      <td>фил грабски</td>\n",
       "      <td>unknown</td>\n",
       "    </tr>\n",
       "    <tr>\n",
       "      <th>7482</th>\n",
       "      <td>звериная ярость</td>\n",
       "      <td>121037819</td>\n",
       "      <td>2019-12-24 12:00:00+00:00</td>\n",
       "      <td>2019</td>\n",
       "      <td>художественный</td>\n",
       "      <td>дэниел гродник продакшнз,  вандерфилм медиа ко...</td>\n",
       "      <td>сша</td>\n",
       "      <td>ник пауэлл</td>\n",
       "      <td>джефф боулер,  дэниэл гродник,  луильо руис,  ...</td>\n",
       "      <td>«16+», для детей старше 16 лет</td>\n",
       "      <td>NaN</td>\n",
       "      <td>NaN</td>\n",
       "      <td>NaN</td>\n",
       "      <td>NaN</td>\n",
       "      <td>5.40</td>\n",
       "      <td>боевик, триллер</td>\n",
       "      <td>NaN</td>\n",
       "      <td>ник пауэлл</td>\n",
       "      <td>боевик</td>\n",
       "    </tr>\n",
       "    <tr>\n",
       "      <th>7483</th>\n",
       "      <td>щенячий патруль: скорей спешим на помощь!</td>\n",
       "      <td>124010819</td>\n",
       "      <td>2019-12-28 12:00:00+00:00</td>\n",
       "      <td>2019</td>\n",
       "      <td>художественный</td>\n",
       "      <td>никелодеон анимейшн студиос,  спин мастер</td>\n",
       "      <td>сша, канада</td>\n",
       "      <td>чарльз е.бастьен</td>\n",
       "      <td>дженнифер додж</td>\n",
       "      <td>«0+», для любой зрительской аудитории</td>\n",
       "      <td>NaN</td>\n",
       "      <td>NaN</td>\n",
       "      <td>NaN</td>\n",
       "      <td>NaN</td>\n",
       "      <td>NaN</td>\n",
       "      <td>unknown</td>\n",
       "      <td>NaN</td>\n",
       "      <td>чарльз е.бастьен</td>\n",
       "      <td>unknown</td>\n",
       "    </tr>\n",
       "    <tr>\n",
       "      <th>7484</th>\n",
       "      <td>машины песенки. серия \"испанские мотивы\"</td>\n",
       "      <td>124010619</td>\n",
       "      <td>2019-12-30 12:00:00+00:00</td>\n",
       "      <td>2019</td>\n",
       "      <td>анимационный</td>\n",
       "      <td>анимаккорд лтд.,  ооо студия \"анимаккорд\"</td>\n",
       "      <td>республика кипр,  россия</td>\n",
       "      <td>а.беляев</td>\n",
       "      <td>д.ловейко</td>\n",
       "      <td>«0+», для любой зрительской аудитории</td>\n",
       "      <td>NaN</td>\n",
       "      <td>NaN</td>\n",
       "      <td>NaN</td>\n",
       "      <td>NaN</td>\n",
       "      <td>NaN</td>\n",
       "      <td>unknown</td>\n",
       "      <td>NaN</td>\n",
       "      <td>а.беляев</td>\n",
       "      <td>unknown</td>\n",
       "    </tr>\n",
       "    <tr>\n",
       "      <th>7485</th>\n",
       "      <td>машины песенки. серия \"когда цветут кактусы\"</td>\n",
       "      <td>124010719</td>\n",
       "      <td>2019-12-30 12:00:00+00:00</td>\n",
       "      <td>2019</td>\n",
       "      <td>анимационный</td>\n",
       "      <td>анимаккорд лтд.,  ооо студия \"анимаккорд\"</td>\n",
       "      <td>республика кипр,  россия</td>\n",
       "      <td>и.трусов</td>\n",
       "      <td>д.ловейко</td>\n",
       "      <td>«0+», для любой зрительской аудитории</td>\n",
       "      <td>NaN</td>\n",
       "      <td>NaN</td>\n",
       "      <td>NaN</td>\n",
       "      <td>NaN</td>\n",
       "      <td>6.30</td>\n",
       "      <td>комедия, вестерн</td>\n",
       "      <td>NaN</td>\n",
       "      <td>и.трусов</td>\n",
       "      <td>комедия</td>\n",
       "    </tr>\n",
       "  </tbody>\n",
       "</table>\n",
       "<p>7469 rows × 19 columns</p>\n",
       "</div>"
      ],
      "text/plain": [
       "                                             title   puNumber  \\\n",
       "0                                 открытый простор  221048915   \n",
       "1                             особо важное задание  111013716   \n",
       "2                                     особо опасен  221038416   \n",
       "3                                     особо опасен  221026916   \n",
       "4                                     особо опасен  221030815   \n",
       "...                                            ...        ...   \n",
       "7481     сад художника: американский импрессионизм  126008019   \n",
       "7482                               звериная ярость  121037819   \n",
       "7483     щенячий патруль: скорей спешим на помощь!  124010819   \n",
       "7484      машины песенки. серия \"испанские мотивы\"  124010619   \n",
       "7485  машины песенки. серия \"когда цветут кактусы\"  124010719   \n",
       "\n",
       "               show_start_date  release_year            type  \\\n",
       "0    2015-11-27 12:00:00+00:00          2015  художественный   \n",
       "1    2016-09-13 12:00:00+00:00          2016  художественный   \n",
       "2    2016-10-10 12:00:00+00:00          2016  художественный   \n",
       "3    2016-06-10 12:00:00+00:00          2016  художественный   \n",
       "4    2015-07-29 12:00:00+00:00          2015  художественный   \n",
       "...                        ...           ...             ...   \n",
       "7481 2019-12-23 12:00:00+00:00          2019          прочие   \n",
       "7482 2019-12-24 12:00:00+00:00          2019  художественный   \n",
       "7483 2019-12-28 12:00:00+00:00          2019  художественный   \n",
       "7484 2019-12-30 12:00:00+00:00          2019    анимационный   \n",
       "7485 2019-12-30 12:00:00+00:00          2019    анимационный   \n",
       "\n",
       "                                            film_studio  \\\n",
       "0     тачстоун пикчерз,  кобальт пикчерз,  бикон пик...   \n",
       "1                                 киностудия \"мосфильм\"   \n",
       "2     юниверсал пикчерз,  кикстарт продакшнз,  марк ...   \n",
       "3     юниверсал пикчерз,  кикстарт продакшнз,  марк ...   \n",
       "4     юниверсал пикчерз,  кикстарт продакшнз,  марк ...   \n",
       "...                                                 ...   \n",
       "7481                               севен артс продакшнз   \n",
       "7482  дэниел гродник продакшнз,  вандерфилм медиа ко...   \n",
       "7483          никелодеон анимейшн студиос,  спин мастер   \n",
       "7484          анимаккорд лтд.,  ооо студия \"анимаккорд\"   \n",
       "7485          анимаккорд лтд.,  ооо студия \"анимаккорд\"   \n",
       "\n",
       "            production_country           director  \\\n",
       "0                          сша      кевин костнер   \n",
       "1                         ссср          е.матвеев   \n",
       "2                          сша  тимур бекмамбетов   \n",
       "3                          сша  тимур бекмамбетов   \n",
       "4                          сша  тимур бекмамбетов   \n",
       "...                        ...                ...   \n",
       "7481            великобритания        фил грабски   \n",
       "7482                       сша         ник пауэлл   \n",
       "7483               сша, канада   чарльз е.бастьен   \n",
       "7484  республика кипр,  россия           а.беляев   \n",
       "7485  республика кипр,  россия           и.трусов   \n",
       "\n",
       "                                               producer  \\\n",
       "0           дэвид валдес,  кевин костнер,  джейк эбертс   \n",
       "1                                               unknown   \n",
       "2     джим лемли,  джейсон нетер,  марк е.платт,  яй...   \n",
       "3     джим лемли,  джейсон нетер,  марк е.платт,  яй...   \n",
       "4     джим лемли,  джейсон нетер,  марк е.платт,  яй...   \n",
       "...                                                 ...   \n",
       "7481                                        фил грабски   \n",
       "7482  джефф боулер,  дэниэл гродник,  луильо руис,  ...   \n",
       "7483                                     дженнифер додж   \n",
       "7484                                          д.ловейко   \n",
       "7485                                          д.ловейко   \n",
       "\n",
       "                            age_restriction  refundable_support  \\\n",
       "0                «18+», запрещено для детей                 NaN   \n",
       "1              «6+», для детей старше 6 лет                 NaN   \n",
       "2                «18+», запрещено для детей                 NaN   \n",
       "3                «18+», запрещено для детей                 NaN   \n",
       "4                «18+», запрещено для детей                 NaN   \n",
       "...                                     ...                 ...   \n",
       "7481         «12+», для детей старше 12 лет                 NaN   \n",
       "7482         «16+», для детей старше 16 лет                 NaN   \n",
       "7483  «0+», для любой зрительской аудитории                 NaN   \n",
       "7484  «0+», для любой зрительской аудитории                 NaN   \n",
       "7485  «0+», для любой зрительской аудитории                 NaN   \n",
       "\n",
       "      nonrefundable_support  budget financing_source  ratings  \\\n",
       "0                       NaN     NaN              NaN     7.20   \n",
       "1                       NaN     NaN              NaN     6.60   \n",
       "2                       NaN     NaN              NaN     6.80   \n",
       "3                       NaN     NaN              NaN     6.80   \n",
       "4                       NaN     NaN              NaN     6.80   \n",
       "...                     ...     ...              ...      ...   \n",
       "7481                    NaN     NaN              NaN      NaN   \n",
       "7482                    NaN     NaN              NaN     5.40   \n",
       "7483                    NaN     NaN              NaN      NaN   \n",
       "7484                    NaN     NaN              NaN      NaN   \n",
       "7485                    NaN     NaN              NaN     6.30   \n",
       "\n",
       "                           genres  box_office      director_name primary_genre  \n",
       "0        боевик, драма, мелодрама         NaN      кевин костнер        боевик  \n",
       "1                  драма, военный         NaN          е.матвеев         драма  \n",
       "2     фантастика, боевик, триллер         NaN  тимур бекмамбетов    фантастика  \n",
       "3     фантастика, боевик, триллер         NaN  тимур бекмамбетов    фантастика  \n",
       "4     фантастика, боевик, триллер         NaN  тимур бекмамбетов    фантастика  \n",
       "...                           ...         ...                ...           ...  \n",
       "7481                      unknown         NaN        фил грабски       unknown  \n",
       "7482              боевик, триллер         NaN         ник пауэлл        боевик  \n",
       "7483                      unknown         NaN   чарльз е.бастьен       unknown  \n",
       "7484                      unknown         NaN           а.беляев       unknown  \n",
       "7485             комедия, вестерн         NaN           и.трусов       комедия  \n",
       "\n",
       "[7469 rows x 19 columns]"
      ]
     },
     "metadata": {},
     "output_type": "display_data"
    }
   ],
   "source": [
    "display(merged_data)"
   ]
  },
  {
   "cell_type": "markdown",
   "metadata": {
    "id": "1FsCXHwdgFyU"
   },
   "source": [
    "- Посчитайте, какую долю от общего бюджета фильма составляет государственная поддержка."
   ]
  },
  {
   "cell_type": "code",
   "execution_count": null,
   "metadata": {
    "colab": {
     "base_uri": "https://localhost:8080/",
     "height": 998
    },
    "id": "LV6qFuZLgFyV",
    "outputId": "ca2bd281-18e8-48a6-de37-1d9a2fa23d1f",
    "scrolled": true
   },
   "outputs": [
    {
     "data": {
      "text/html": [
       "<div>\n",
       "<style scoped>\n",
       "    .dataframe tbody tr th:only-of-type {\n",
       "        vertical-align: middle;\n",
       "    }\n",
       "\n",
       "    .dataframe tbody tr th {\n",
       "        vertical-align: top;\n",
       "    }\n",
       "\n",
       "    .dataframe thead th {\n",
       "        text-align: right;\n",
       "    }\n",
       "</style>\n",
       "<table border=\"1\" class=\"dataframe\">\n",
       "  <thead>\n",
       "    <tr style=\"text-align: right;\">\n",
       "      <th></th>\n",
       "      <th>title</th>\n",
       "      <th>puNumber</th>\n",
       "      <th>show_start_date</th>\n",
       "      <th>release_year</th>\n",
       "      <th>type</th>\n",
       "      <th>film_studio</th>\n",
       "      <th>production_country</th>\n",
       "      <th>director</th>\n",
       "      <th>producer</th>\n",
       "      <th>age_restriction</th>\n",
       "      <th>refundable_support</th>\n",
       "      <th>nonrefundable_support</th>\n",
       "      <th>budget</th>\n",
       "      <th>support_ratio</th>\n",
       "      <th>financing_source</th>\n",
       "      <th>ratings</th>\n",
       "      <th>genres</th>\n",
       "      <th>box_office</th>\n",
       "      <th>director_name</th>\n",
       "      <th>primary_genre</th>\n",
       "    </tr>\n",
       "  </thead>\n",
       "  <tbody>\n",
       "    <tr>\n",
       "      <th>0</th>\n",
       "      <td>открытый простор</td>\n",
       "      <td>221048915</td>\n",
       "      <td>2015-11-27 12:00:00+00:00</td>\n",
       "      <td>2015</td>\n",
       "      <td>художественный</td>\n",
       "      <td>тачстоун пикчерз,  кобальт пикчерз,  бикон пик...</td>\n",
       "      <td>сша</td>\n",
       "      <td>кевин костнер</td>\n",
       "      <td>дэвид валдес,  кевин костнер,  джейк эбертс</td>\n",
       "      <td>«18+», запрещено для детей</td>\n",
       "      <td>NaN</td>\n",
       "      <td>NaN</td>\n",
       "      <td>NaN</td>\n",
       "      <td>nan%</td>\n",
       "      <td>NaN</td>\n",
       "      <td>7.20</td>\n",
       "      <td>боевик, драма, мелодрама</td>\n",
       "      <td>NaN</td>\n",
       "      <td>кевин костнер</td>\n",
       "      <td>боевик</td>\n",
       "    </tr>\n",
       "    <tr>\n",
       "      <th>1</th>\n",
       "      <td>особо важное задание</td>\n",
       "      <td>111013716</td>\n",
       "      <td>2016-09-13 12:00:00+00:00</td>\n",
       "      <td>2016</td>\n",
       "      <td>художественный</td>\n",
       "      <td>киностудия \"мосфильм\"</td>\n",
       "      <td>ссср</td>\n",
       "      <td>е.матвеев</td>\n",
       "      <td>unknown</td>\n",
       "      <td>«6+», для детей старше 6 лет</td>\n",
       "      <td>NaN</td>\n",
       "      <td>NaN</td>\n",
       "      <td>NaN</td>\n",
       "      <td>nan%</td>\n",
       "      <td>NaN</td>\n",
       "      <td>6.60</td>\n",
       "      <td>драма, военный</td>\n",
       "      <td>NaN</td>\n",
       "      <td>е.матвеев</td>\n",
       "      <td>драма</td>\n",
       "    </tr>\n",
       "    <tr>\n",
       "      <th>2</th>\n",
       "      <td>особо опасен</td>\n",
       "      <td>221038416</td>\n",
       "      <td>2016-10-10 12:00:00+00:00</td>\n",
       "      <td>2016</td>\n",
       "      <td>художественный</td>\n",
       "      <td>юниверсал пикчерз,  кикстарт продакшнз,  марк ...</td>\n",
       "      <td>сша</td>\n",
       "      <td>тимур бекмамбетов</td>\n",
       "      <td>джим лемли,  джейсон нетер,  марк е.платт,  яй...</td>\n",
       "      <td>«18+», запрещено для детей</td>\n",
       "      <td>NaN</td>\n",
       "      <td>NaN</td>\n",
       "      <td>NaN</td>\n",
       "      <td>nan%</td>\n",
       "      <td>NaN</td>\n",
       "      <td>6.80</td>\n",
       "      <td>фантастика, боевик, триллер</td>\n",
       "      <td>NaN</td>\n",
       "      <td>тимур бекмамбетов</td>\n",
       "      <td>фантастика</td>\n",
       "    </tr>\n",
       "    <tr>\n",
       "      <th>3</th>\n",
       "      <td>особо опасен</td>\n",
       "      <td>221026916</td>\n",
       "      <td>2016-06-10 12:00:00+00:00</td>\n",
       "      <td>2016</td>\n",
       "      <td>художественный</td>\n",
       "      <td>юниверсал пикчерз,  кикстарт продакшнз,  марк ...</td>\n",
       "      <td>сша</td>\n",
       "      <td>тимур бекмамбетов</td>\n",
       "      <td>джим лемли,  джейсон нетер,  марк е.платт,  яй...</td>\n",
       "      <td>«18+», запрещено для детей</td>\n",
       "      <td>NaN</td>\n",
       "      <td>NaN</td>\n",
       "      <td>NaN</td>\n",
       "      <td>nan%</td>\n",
       "      <td>NaN</td>\n",
       "      <td>6.80</td>\n",
       "      <td>фантастика, боевик, триллер</td>\n",
       "      <td>NaN</td>\n",
       "      <td>тимур бекмамбетов</td>\n",
       "      <td>фантастика</td>\n",
       "    </tr>\n",
       "    <tr>\n",
       "      <th>4</th>\n",
       "      <td>особо опасен</td>\n",
       "      <td>221030815</td>\n",
       "      <td>2015-07-29 12:00:00+00:00</td>\n",
       "      <td>2015</td>\n",
       "      <td>художественный</td>\n",
       "      <td>юниверсал пикчерз,  кикстарт продакшнз,  марк ...</td>\n",
       "      <td>сша</td>\n",
       "      <td>тимур бекмамбетов</td>\n",
       "      <td>джим лемли,  джейсон нетер,  марк е.платт,  яй...</td>\n",
       "      <td>«18+», запрещено для детей</td>\n",
       "      <td>NaN</td>\n",
       "      <td>NaN</td>\n",
       "      <td>NaN</td>\n",
       "      <td>nan%</td>\n",
       "      <td>NaN</td>\n",
       "      <td>6.80</td>\n",
       "      <td>фантастика, боевик, триллер</td>\n",
       "      <td>NaN</td>\n",
       "      <td>тимур бекмамбетов</td>\n",
       "      <td>фантастика</td>\n",
       "    </tr>\n",
       "    <tr>\n",
       "      <th>...</th>\n",
       "      <td>...</td>\n",
       "      <td>...</td>\n",
       "      <td>...</td>\n",
       "      <td>...</td>\n",
       "      <td>...</td>\n",
       "      <td>...</td>\n",
       "      <td>...</td>\n",
       "      <td>...</td>\n",
       "      <td>...</td>\n",
       "      <td>...</td>\n",
       "      <td>...</td>\n",
       "      <td>...</td>\n",
       "      <td>...</td>\n",
       "      <td>...</td>\n",
       "      <td>...</td>\n",
       "      <td>...</td>\n",
       "      <td>...</td>\n",
       "      <td>...</td>\n",
       "      <td>...</td>\n",
       "      <td>...</td>\n",
       "    </tr>\n",
       "    <tr>\n",
       "      <th>7481</th>\n",
       "      <td>сад художника: американский импрессионизм</td>\n",
       "      <td>126008019</td>\n",
       "      <td>2019-12-23 12:00:00+00:00</td>\n",
       "      <td>2019</td>\n",
       "      <td>прочие</td>\n",
       "      <td>севен артс продакшнз</td>\n",
       "      <td>великобритания</td>\n",
       "      <td>фил грабски</td>\n",
       "      <td>фил грабски</td>\n",
       "      <td>«12+», для детей старше 12 лет</td>\n",
       "      <td>NaN</td>\n",
       "      <td>NaN</td>\n",
       "      <td>NaN</td>\n",
       "      <td>nan%</td>\n",
       "      <td>NaN</td>\n",
       "      <td>NaN</td>\n",
       "      <td>unknown</td>\n",
       "      <td>NaN</td>\n",
       "      <td>фил грабски</td>\n",
       "      <td>unknown</td>\n",
       "    </tr>\n",
       "    <tr>\n",
       "      <th>7482</th>\n",
       "      <td>звериная ярость</td>\n",
       "      <td>121037819</td>\n",
       "      <td>2019-12-24 12:00:00+00:00</td>\n",
       "      <td>2019</td>\n",
       "      <td>художественный</td>\n",
       "      <td>дэниел гродник продакшнз,  вандерфилм медиа ко...</td>\n",
       "      <td>сша</td>\n",
       "      <td>ник пауэлл</td>\n",
       "      <td>джефф боулер,  дэниэл гродник,  луильо руис,  ...</td>\n",
       "      <td>«16+», для детей старше 16 лет</td>\n",
       "      <td>NaN</td>\n",
       "      <td>NaN</td>\n",
       "      <td>NaN</td>\n",
       "      <td>nan%</td>\n",
       "      <td>NaN</td>\n",
       "      <td>5.40</td>\n",
       "      <td>боевик, триллер</td>\n",
       "      <td>NaN</td>\n",
       "      <td>ник пауэлл</td>\n",
       "      <td>боевик</td>\n",
       "    </tr>\n",
       "    <tr>\n",
       "      <th>7483</th>\n",
       "      <td>щенячий патруль: скорей спешим на помощь!</td>\n",
       "      <td>124010819</td>\n",
       "      <td>2019-12-28 12:00:00+00:00</td>\n",
       "      <td>2019</td>\n",
       "      <td>художественный</td>\n",
       "      <td>никелодеон анимейшн студиос,  спин мастер</td>\n",
       "      <td>сша, канада</td>\n",
       "      <td>чарльз е.бастьен</td>\n",
       "      <td>дженнифер додж</td>\n",
       "      <td>«0+», для любой зрительской аудитории</td>\n",
       "      <td>NaN</td>\n",
       "      <td>NaN</td>\n",
       "      <td>NaN</td>\n",
       "      <td>nan%</td>\n",
       "      <td>NaN</td>\n",
       "      <td>NaN</td>\n",
       "      <td>unknown</td>\n",
       "      <td>NaN</td>\n",
       "      <td>чарльз е.бастьен</td>\n",
       "      <td>unknown</td>\n",
       "    </tr>\n",
       "    <tr>\n",
       "      <th>7484</th>\n",
       "      <td>машины песенки. серия \"испанские мотивы\"</td>\n",
       "      <td>124010619</td>\n",
       "      <td>2019-12-30 12:00:00+00:00</td>\n",
       "      <td>2019</td>\n",
       "      <td>анимационный</td>\n",
       "      <td>анимаккорд лтд.,  ооо студия \"анимаккорд\"</td>\n",
       "      <td>республика кипр,  россия</td>\n",
       "      <td>а.беляев</td>\n",
       "      <td>д.ловейко</td>\n",
       "      <td>«0+», для любой зрительской аудитории</td>\n",
       "      <td>NaN</td>\n",
       "      <td>NaN</td>\n",
       "      <td>NaN</td>\n",
       "      <td>nan%</td>\n",
       "      <td>NaN</td>\n",
       "      <td>NaN</td>\n",
       "      <td>unknown</td>\n",
       "      <td>NaN</td>\n",
       "      <td>а.беляев</td>\n",
       "      <td>unknown</td>\n",
       "    </tr>\n",
       "    <tr>\n",
       "      <th>7485</th>\n",
       "      <td>машины песенки. серия \"когда цветут кактусы\"</td>\n",
       "      <td>124010719</td>\n",
       "      <td>2019-12-30 12:00:00+00:00</td>\n",
       "      <td>2019</td>\n",
       "      <td>анимационный</td>\n",
       "      <td>анимаккорд лтд.,  ооо студия \"анимаккорд\"</td>\n",
       "      <td>республика кипр,  россия</td>\n",
       "      <td>и.трусов</td>\n",
       "      <td>д.ловейко</td>\n",
       "      <td>«0+», для любой зрительской аудитории</td>\n",
       "      <td>NaN</td>\n",
       "      <td>NaN</td>\n",
       "      <td>NaN</td>\n",
       "      <td>nan%</td>\n",
       "      <td>NaN</td>\n",
       "      <td>6.30</td>\n",
       "      <td>комедия, вестерн</td>\n",
       "      <td>NaN</td>\n",
       "      <td>и.трусов</td>\n",
       "      <td>комедия</td>\n",
       "    </tr>\n",
       "  </tbody>\n",
       "</table>\n",
       "<p>7469 rows × 20 columns</p>\n",
       "</div>"
      ],
      "text/plain": [
       "                                             title   puNumber  \\\n",
       "0                                 открытый простор  221048915   \n",
       "1                             особо важное задание  111013716   \n",
       "2                                     особо опасен  221038416   \n",
       "3                                     особо опасен  221026916   \n",
       "4                                     особо опасен  221030815   \n",
       "...                                            ...        ...   \n",
       "7481     сад художника: американский импрессионизм  126008019   \n",
       "7482                               звериная ярость  121037819   \n",
       "7483     щенячий патруль: скорей спешим на помощь!  124010819   \n",
       "7484      машины песенки. серия \"испанские мотивы\"  124010619   \n",
       "7485  машины песенки. серия \"когда цветут кактусы\"  124010719   \n",
       "\n",
       "               show_start_date  release_year            type  \\\n",
       "0    2015-11-27 12:00:00+00:00          2015  художественный   \n",
       "1    2016-09-13 12:00:00+00:00          2016  художественный   \n",
       "2    2016-10-10 12:00:00+00:00          2016  художественный   \n",
       "3    2016-06-10 12:00:00+00:00          2016  художественный   \n",
       "4    2015-07-29 12:00:00+00:00          2015  художественный   \n",
       "...                        ...           ...             ...   \n",
       "7481 2019-12-23 12:00:00+00:00          2019          прочие   \n",
       "7482 2019-12-24 12:00:00+00:00          2019  художественный   \n",
       "7483 2019-12-28 12:00:00+00:00          2019  художественный   \n",
       "7484 2019-12-30 12:00:00+00:00          2019    анимационный   \n",
       "7485 2019-12-30 12:00:00+00:00          2019    анимационный   \n",
       "\n",
       "                                            film_studio  \\\n",
       "0     тачстоун пикчерз,  кобальт пикчерз,  бикон пик...   \n",
       "1                                 киностудия \"мосфильм\"   \n",
       "2     юниверсал пикчерз,  кикстарт продакшнз,  марк ...   \n",
       "3     юниверсал пикчерз,  кикстарт продакшнз,  марк ...   \n",
       "4     юниверсал пикчерз,  кикстарт продакшнз,  марк ...   \n",
       "...                                                 ...   \n",
       "7481                               севен артс продакшнз   \n",
       "7482  дэниел гродник продакшнз,  вандерфилм медиа ко...   \n",
       "7483          никелодеон анимейшн студиос,  спин мастер   \n",
       "7484          анимаккорд лтд.,  ооо студия \"анимаккорд\"   \n",
       "7485          анимаккорд лтд.,  ооо студия \"анимаккорд\"   \n",
       "\n",
       "            production_country           director  \\\n",
       "0                          сша      кевин костнер   \n",
       "1                         ссср          е.матвеев   \n",
       "2                          сша  тимур бекмамбетов   \n",
       "3                          сша  тимур бекмамбетов   \n",
       "4                          сша  тимур бекмамбетов   \n",
       "...                        ...                ...   \n",
       "7481            великобритания        фил грабски   \n",
       "7482                       сша         ник пауэлл   \n",
       "7483               сша, канада   чарльз е.бастьен   \n",
       "7484  республика кипр,  россия           а.беляев   \n",
       "7485  республика кипр,  россия           и.трусов   \n",
       "\n",
       "                                               producer  \\\n",
       "0           дэвид валдес,  кевин костнер,  джейк эбертс   \n",
       "1                                               unknown   \n",
       "2     джим лемли,  джейсон нетер,  марк е.платт,  яй...   \n",
       "3     джим лемли,  джейсон нетер,  марк е.платт,  яй...   \n",
       "4     джим лемли,  джейсон нетер,  марк е.платт,  яй...   \n",
       "...                                                 ...   \n",
       "7481                                        фил грабски   \n",
       "7482  джефф боулер,  дэниэл гродник,  луильо руис,  ...   \n",
       "7483                                     дженнифер додж   \n",
       "7484                                          д.ловейко   \n",
       "7485                                          д.ловейко   \n",
       "\n",
       "                            age_restriction  refundable_support  \\\n",
       "0                «18+», запрещено для детей                 NaN   \n",
       "1              «6+», для детей старше 6 лет                 NaN   \n",
       "2                «18+», запрещено для детей                 NaN   \n",
       "3                «18+», запрещено для детей                 NaN   \n",
       "4                «18+», запрещено для детей                 NaN   \n",
       "...                                     ...                 ...   \n",
       "7481         «12+», для детей старше 12 лет                 NaN   \n",
       "7482         «16+», для детей старше 16 лет                 NaN   \n",
       "7483  «0+», для любой зрительской аудитории                 NaN   \n",
       "7484  «0+», для любой зрительской аудитории                 NaN   \n",
       "7485  «0+», для любой зрительской аудитории                 NaN   \n",
       "\n",
       "      nonrefundable_support  budget support_ratio financing_source  ratings  \\\n",
       "0                       NaN     NaN          nan%              NaN     7.20   \n",
       "1                       NaN     NaN          nan%              NaN     6.60   \n",
       "2                       NaN     NaN          nan%              NaN     6.80   \n",
       "3                       NaN     NaN          nan%              NaN     6.80   \n",
       "4                       NaN     NaN          nan%              NaN     6.80   \n",
       "...                     ...     ...           ...              ...      ...   \n",
       "7481                    NaN     NaN          nan%              NaN      NaN   \n",
       "7482                    NaN     NaN          nan%              NaN     5.40   \n",
       "7483                    NaN     NaN          nan%              NaN      NaN   \n",
       "7484                    NaN     NaN          nan%              NaN      NaN   \n",
       "7485                    NaN     NaN          nan%              NaN     6.30   \n",
       "\n",
       "                           genres  box_office      director_name primary_genre  \n",
       "0        боевик, драма, мелодрама         NaN      кевин костнер        боевик  \n",
       "1                  драма, военный         NaN          е.матвеев         драма  \n",
       "2     фантастика, боевик, триллер         NaN  тимур бекмамбетов    фантастика  \n",
       "3     фантастика, боевик, триллер         NaN  тимур бекмамбетов    фантастика  \n",
       "4     фантастика, боевик, триллер         NaN  тимур бекмамбетов    фантастика  \n",
       "...                           ...         ...                ...           ...  \n",
       "7481                      unknown         NaN        фил грабски       unknown  \n",
       "7482              боевик, триллер         NaN         ник пауэлл        боевик  \n",
       "7483                      unknown         NaN   чарльз е.бастьен       unknown  \n",
       "7484                      unknown         NaN           а.беляев       unknown  \n",
       "7485             комедия, вестерн         NaN           и.трусов       комедия  \n",
       "\n",
       "[7469 rows x 20 columns]"
      ]
     },
     "metadata": {},
     "output_type": "display_data"
    }
   ],
   "source": [
    "# Расчет доли государственной поддержки\n",
    "total_support = merged_data['refundable_support'] + merged_data['nonrefundable_support']\n",
    "merged_data['support_ratio'] = total_support / merged_data['budget']\n",
    "\n",
    "# Форматирование доли как процентного значения\n",
    "merged_data['support_ratio'] = merged_data['support_ratio'].apply(lambda x: f'{x:.2%}');\n",
    "\n",
    "# Получение списка текущих столбцов\n",
    "cols = list(merged_data.columns)\n",
    "\n",
    "# Поиск индекса столбца 'budget' и вставка нового столбца за ним\n",
    "budget_index = cols.index('budget')\n",
    "cols = cols[:budget_index + 1] + ['support_ratio'] + cols[budget_index + 1:-1]\n",
    "\n",
    "# Переупорядочение столбцов\n",
    "merged_data = merged_data[cols]\n",
    "display(merged_data)"
   ]
  },
  {
   "cell_type": "markdown",
   "metadata": {},
   "source": [
    "В ходе предобработки данных было проверено, что большинство данных в датафрейме имеют подходящий тип, а где это было не так - типы были преобразованы. Пропуски в данных(кроме колличественных) были заполнены, поскольку это могло негативно сказаться на качестве анализа. Дубликаты в данных не обнаружены.\n",
    "\n",
    "Среди категориальных столбцов общая проблема заключалась в наличии пробелов в начале или вконце значений, написания разного регистра, на пример исходя из уникальных значений в столбце 'production_country', кажется, что одной из основных проблем является несогласованность в использовании разделителей для обозначения нескольких стран-производителей. Иногда используется тире (\"-\"), иногда пробел с дефисом (\" - \"), иногда запятая без пробелов(','), а иногда дефис без пробелов (\"-\").\n",
    "\n",
    "Количественные столбцы были проверены на предмет подозрительных значений, и исправлены путем оставления пропусков, чтобы не терять большое колличество данных путем удаления строк.\n",
    "\n",
    "Были добавлены новые столбцы с информацией о главных режиссерах, жанре фильмов и доле государственной поддержки в бюджете фильмов."
   ]
  },
  {
   "cell_type": "markdown",
   "metadata": {
    "id": "6t4EukPLgFyV"
   },
   "source": [
    "### Шаг 3. Проведите исследовательский анализ данных\n"
   ]
  },
  {
   "cell_type": "markdown",
   "metadata": {
    "id": "vAH8WCzugFyV"
   },
   "source": [
    "- Посмотрите, сколько фильмов выходило в прокат каждый год. Обратите внимание, что данные о прокате в кинотеатрах известны не для всех фильмов. Посчитайте, какую долю составляют фильмы с указанной информацией о прокате в кинотеатрах. Проанализируйте, как эта доля менялась по годам. Сделайте вывод о том, какой период полнее всего представлен в данных."
   ]
  },
  {
   "cell_type": "code",
   "execution_count": null,
   "metadata": {},
   "outputs": [],
   "source": [
    "# Группировка данных по году релиза и подсчет количества фильмов\n",
    "film_counts = merged_data.groupby('release_year').size().reset_index(name='film_count')\n",
    "\n",
    "# Подсчет количества фильмов с известной информацией о прокате в кинотеатрах\n",
    "films_with_box_office_count = merged_data[merged_data['box_office'].notna()].groupby('release_year').size().reset_index(name='films_with_box_office_count')\n",
    "\n",
    "# Объединение данных для расчета доли\n",
    "merged_counts = pd.merge(film_counts, films_with_box_office_count, on='release_year', how='left')\n",
    "\n",
    "# Расчет доли фильмов с известной информацией о прокате\n",
    "merged_counts['box_office_ratio'] = merged_counts['films_with_box_office_count'] / merged_counts['film_count']"
   ]
  },
  {
   "cell_type": "code",
   "execution_count": null,
   "metadata": {
    "colab": {
     "base_uri": "https://localhost:8080/",
     "height": 472
    },
    "id": "ABeV47y7gFyW",
    "outputId": "7e42879e-013d-4a53-883e-4e9043948ac4"
   },
   "outputs": [
    {
     "data": {
      "image/png": "[encoded data removed]",
      "text/plain": [
       "<Figure size 720x432 with 1 Axes>"
      ]
     },
     "metadata": {
      "needs_background": "light"
     },
     "output_type": "display_data"
    },
    {
     "data": {
      "text/html": [
       "<div>\n",
       "<style scoped>\n",
       "    .dataframe tbody tr th:only-of-type {\n",
       "        vertical-align: middle;\n",
       "    }\n",
       "\n",
       "    .dataframe tbody tr th {\n",
       "        vertical-align: top;\n",
       "    }\n",
       "\n",
       "    .dataframe thead th {\n",
       "        text-align: right;\n",
       "    }\n",
       "</style>\n",
       "<table border=\"1\" class=\"dataframe\">\n",
       "  <thead>\n",
       "    <tr style=\"text-align: right;\">\n",
       "      <th></th>\n",
       "      <th>release_year</th>\n",
       "      <th>film_count</th>\n",
       "      <th>films_with_box_office_count</th>\n",
       "      <th>box_office_ratio</th>\n",
       "    </tr>\n",
       "  </thead>\n",
       "  <tbody>\n",
       "    <tr>\n",
       "      <th>0</th>\n",
       "      <td>2010</td>\n",
       "      <td>985</td>\n",
       "      <td>67</td>\n",
       "      <td>0.07</td>\n",
       "    </tr>\n",
       "    <tr>\n",
       "      <th>1</th>\n",
       "      <td>2011</td>\n",
       "      <td>622</td>\n",
       "      <td>82</td>\n",
       "      <td>0.13</td>\n",
       "    </tr>\n",
       "    <tr>\n",
       "      <th>2</th>\n",
       "      <td>2012</td>\n",
       "      <td>593</td>\n",
       "      <td>99</td>\n",
       "      <td>0.17</td>\n",
       "    </tr>\n",
       "    <tr>\n",
       "      <th>3</th>\n",
       "      <td>2013</td>\n",
       "      <td>630</td>\n",
       "      <td>136</td>\n",
       "      <td>0.22</td>\n",
       "    </tr>\n",
       "    <tr>\n",
       "      <th>4</th>\n",
       "      <td>2014</td>\n",
       "      <td>806</td>\n",
       "      <td>227</td>\n",
       "      <td>0.28</td>\n",
       "    </tr>\n",
       "    <tr>\n",
       "      <th>5</th>\n",
       "      <td>2015</td>\n",
       "      <td>699</td>\n",
       "      <td>451</td>\n",
       "      <td>0.65</td>\n",
       "    </tr>\n",
       "    <tr>\n",
       "      <th>6</th>\n",
       "      <td>2016</td>\n",
       "      <td>815</td>\n",
       "      <td>513</td>\n",
       "      <td>0.63</td>\n",
       "    </tr>\n",
       "    <tr>\n",
       "      <th>7</th>\n",
       "      <td>2017</td>\n",
       "      <td>503</td>\n",
       "      <td>355</td>\n",
       "      <td>0.71</td>\n",
       "    </tr>\n",
       "    <tr>\n",
       "      <th>8</th>\n",
       "      <td>2018</td>\n",
       "      <td>887</td>\n",
       "      <td>471</td>\n",
       "      <td>0.53</td>\n",
       "    </tr>\n",
       "    <tr>\n",
       "      <th>9</th>\n",
       "      <td>2019</td>\n",
       "      <td>929</td>\n",
       "      <td>529</td>\n",
       "      <td>0.57</td>\n",
       "    </tr>\n",
       "  </tbody>\n",
       "</table>\n",
       "</div>"
      ],
      "text/plain": [
       "   release_year  film_count  films_with_box_office_count  box_office_ratio\n",
       "0          2010         985                           67              0.07\n",
       "1          2011         622                           82              0.13\n",
       "2          2012         593                           99              0.17\n",
       "3          2013         630                          136              0.22\n",
       "4          2014         806                          227              0.28\n",
       "5          2015         699                          451              0.65\n",
       "6          2016         815                          513              0.63\n",
       "7          2017         503                          355              0.71\n",
       "8          2018         887                          471              0.53\n",
       "9          2019         929                          529              0.57"
      ]
     },
     "metadata": {},
     "output_type": "display_data"
    }
   ],
   "source": [
    "plt.figure(figsize=(10, 6))\n",
    "plt.plot(merged_counts['release_year'], merged_counts['box_office_ratio'])\n",
    "plt.xlabel('Год релиза')\n",
    "plt.ylabel('Доля фильмов с известной информацией о прокате')\n",
    "plt.title('Изменение доли фильмов с известной информацией о прокате по годам')\n",
    "\n",
    "for i, value in enumerate(merged_counts['box_office_ratio']):\n",
    "    plt.text(merged_counts['release_year'][i], value, f'{value:.2f}%', ha='center')\n",
    "\n",
    "plt.show()\n",
    "display(merged_counts)"
   ]
  },
  {
   "cell_type": "markdown",
   "metadata": {},
   "source": [
    "Из представленных данных можно сделать следующие выводы:\n",
    "\n",
    "1. Общее количество фильмов, выпущенных в течение каждого года, сильно варьировалось, начиная от 503 в 2017 году до 985 в 2010 году. Помимо этого, общее количество фильмов в год показывает тенденцию к росту с 2014 года и достигает пика в 2019 году с 929 фильмами.\n",
    "\n",
    "2. Доля фильмов с известной информацией о прокате значительно увеличилась с 2010 по 2017 год, с 0.07 до 0.71. Это указывает на рост прозрачности или доступности данных о кассовых сборах.\n",
    "\n",
    "3. Начиная с 2015 года доля фильмов с известной информацией о прокате превышает половину всех фильмов. Это может быть свидетельством того, что индустрия кино стала более открытой в отношении сбора и предоставления информации о кассовых сборах.\n",
    "\n",
    "4. Однако после 2017 года наблюдается тенденция к снижению доли фильмов с известной информацией о прокате, что может указывать на изменения в политике раскрытия информации или в аккуратности сбора и отслеживания данных о кассовых сборах. \n",
    "\n",
    "5. Несмотря на это, даже в 2019 году доля фильмов с известной информацией о прокате составляет более половины (0.57), что говорит о значительной прозрачности индустрии.\n",
    "\n",
    "В целом, данные свидетельствуют о значительном увеличении прозрачности в индустрии кинопроката в отношении кассовых сборов в течение последнего десятилетия, хотя последние годы показывают некоторую волатильность этого показателя."
   ]
  },
  {
   "cell_type": "markdown",
   "metadata": {
    "id": "BEOdcIrIgFyW"
   },
   "source": [
    "- Изучите, как менялась динамика проката по годам. В каком году сумма сборов была минимальной? А максимальной?"
   ]
  },
  {
   "cell_type": "code",
   "execution_count": null,
   "metadata": {},
   "outputs": [
    {
     "data": {
      "image/png": "[encoded data removed]",
      "text/plain": [
       "<Figure size 1440x432 with 1 Axes>"
      ]
     },
     "metadata": {
      "needs_background": "light"
     },
     "output_type": "display_data"
    },
    {
     "data": {
      "text/html": [
       "<div>\n",
       "<style scoped>\n",
       "    .dataframe tbody tr th:only-of-type {\n",
       "        vertical-align: middle;\n",
       "    }\n",
       "\n",
       "    .dataframe tbody tr th {\n",
       "        vertical-align: top;\n",
       "    }\n",
       "\n",
       "    .dataframe thead th {\n",
       "        text-align: right;\n",
       "    }\n",
       "</style>\n",
       "<table border=\"1\" class=\"dataframe\">\n",
       "  <thead>\n",
       "    <tr style=\"text-align: right;\">\n",
       "      <th></th>\n",
       "      <th>Сумма проката</th>\n",
       "    </tr>\n",
       "    <tr>\n",
       "      <th>Год релиза</th>\n",
       "      <th></th>\n",
       "    </tr>\n",
       "  </thead>\n",
       "  <tbody>\n",
       "    <tr>\n",
       "      <th>2010</th>\n",
       "      <td>2,415,119.00</td>\n",
       "    </tr>\n",
       "    <tr>\n",
       "      <th>2011</th>\n",
       "      <td>14,090,485.00</td>\n",
       "    </tr>\n",
       "    <tr>\n",
       "      <th>2012</th>\n",
       "      <td>6,945,533.00</td>\n",
       "    </tr>\n",
       "    <tr>\n",
       "      <th>2013</th>\n",
       "      <td>29,779,401.20</td>\n",
       "    </tr>\n",
       "    <tr>\n",
       "      <th>2014</th>\n",
       "      <td>7,434,695,443.10</td>\n",
       "    </tr>\n",
       "    <tr>\n",
       "      <th>2015</th>\n",
       "      <td>38,527,825,699.09</td>\n",
       "    </tr>\n",
       "    <tr>\n",
       "      <th>2016</th>\n",
       "      <td>46,742,312,299.48</td>\n",
       "    </tr>\n",
       "    <tr>\n",
       "      <th>2017</th>\n",
       "      <td>48,458,147,253.75</td>\n",
       "    </tr>\n",
       "    <tr>\n",
       "      <th>2018</th>\n",
       "      <td>49,251,991,405.20</td>\n",
       "    </tr>\n",
       "    <tr>\n",
       "      <th>2019</th>\n",
       "      <td>48,278,101,953.08</td>\n",
       "    </tr>\n",
       "  </tbody>\n",
       "</table>\n",
       "</div>"
      ],
      "text/plain": [
       "               Сумма проката\n",
       "Год релиза                  \n",
       "2010            2,415,119.00\n",
       "2011           14,090,485.00\n",
       "2012            6,945,533.00\n",
       "2013           29,779,401.20\n",
       "2014        7,434,695,443.10\n",
       "2015       38,527,825,699.09\n",
       "2016       46,742,312,299.48\n",
       "2017       48,458,147,253.75\n",
       "2018       49,251,991,405.20\n",
       "2019       48,278,101,953.08"
      ]
     },
     "metadata": {},
     "output_type": "display_data"
    }
   ],
   "source": [
    "plt.figure(figsize=(20, 6))\n",
    "plt.plot(merged_counts['release_year'], merged_data.groupby('release_year')['box_office'].sum())\n",
    "plt.xlabel('Год релиза')\n",
    "plt.ylabel('Сумма проката')\n",
    "plt.title('Изменение суммы проката по годам')\n",
    "\n",
    "for i, value in enumerate(merged_data.groupby('release_year')['box_office'].sum()):\n",
    "    plt.text(merged_counts['release_year'][i], value, f'{value/1000000:.2f} млн \\u20BD', ha='center')\n",
    "\n",
    "plt.show()\n",
    "\n",
    "# Создание таблицы с информацией о сумме проката\n",
    "box_office_table = pd.DataFrame(merged_data.groupby('release_year')['box_office'].sum())\n",
    "box_office_table.columns = ['Сумма проката']\n",
    "box_office_table.index.name = 'Год релиза'\n",
    "\n",
    "# Вывод таблицы\n",
    "display(box_office_table)"
   ]
  },
  {
   "cell_type": "code",
   "execution_count": null,
   "metadata": {},
   "outputs": [
    {
     "name": "stdout",
     "output_type": "stream",
     "text": [
      "Год с минимальной суммой проката: 2010 Сумма проката: 2415119.0 ₽\n",
      "Год с максимальной суммой проката: 2018 Сумма проката: 49251991405.19999 ₽\n"
     ]
    }
   ],
   "source": [
    "min_box_office_year = merged_data.groupby('release_year')['box_office'].sum().idxmin()\n",
    "max_box_office_year = merged_data.groupby('release_year')['box_office'].sum().idxmax()\n",
    "\n",
    "min_box_office_sum = merged_data.groupby('release_year')['box_office'].sum().min()\n",
    "max_box_office_sum = merged_data.groupby('release_year')['box_office'].sum().max()\n",
    "\n",
    "print(\"Год с минимальной суммой проката:\", min_box_office_year, \"Сумма проката:\", min_box_office_sum, \"\\u20BD\")\n",
    "print(\"Год с максимальной суммой проката:\", max_box_office_year, \"Сумма проката:\", max_box_office_sum, \"\\u20BD\")"
   ]
  },
  {
   "cell_type": "markdown",
   "metadata": {},
   "source": [
    "Из данных выше можно сделать следующие выводы:\n",
    "\n",
    "1. С 2010 по 2014 год прокат фильмов значительно увеличился. В 2014 году сумма проката составила около 7,4 миллиарда, что существенно выше, чем в предыдущие годы. \n",
    "\n",
    "2. После 2014 года сумма проката фильмов выросла до уровня в десятки миллиардов и продолжала расти. Это свидетельствует о резком увеличении популярности проката фильмов или о значительном росте цен на билеты.\n",
    "\n",
    "3. Самый большой прирост был замечен в 2015 году, когда сумма с прокатов увеличилась почти в 5 раз по сравнению с 2014 годом.\n",
    "\n",
    "4. После 2017 года наблюдается стабилизация суммы проката: ее уровень колеблется в районе 48-49 миллиардов, что может свидетельствовать о достижении ею некоторого насыщения.\n",
    "\n",
    "В общем, данные свидетельствуют о резком увеличении интереса к прокату фильмов с 2010 по 2015 год и стабилизации этого интереса в последующие годы."
   ]
  },
  {
   "cell_type": "markdown",
   "metadata": {
    "id": "G-7qS-N-gFyY"
   },
   "source": [
    "- С помощью сводной таблицы посчитайте среднюю и медианную сумму сборов для каждого года."
   ]
  },
  {
   "cell_type": "code",
   "execution_count": null,
   "metadata": {
    "colab": {
     "base_uri": "https://localhost:8080/",
     "height": 425
    },
    "id": "jmp-rgg9gFyY",
    "outputId": "63470205-56f6-4f56-9026-bd1ee926e696"
   },
   "outputs": [
    {
     "data": {
      "text/html": [
       "<div>\n",
       "<style scoped>\n",
       "    .dataframe tbody tr th:only-of-type {\n",
       "        vertical-align: middle;\n",
       "    }\n",
       "\n",
       "    .dataframe tbody tr th {\n",
       "        vertical-align: top;\n",
       "    }\n",
       "\n",
       "    .dataframe thead tr th {\n",
       "        text-align: left;\n",
       "    }\n",
       "\n",
       "    .dataframe thead tr:last-of-type th {\n",
       "        text-align: right;\n",
       "    }\n",
       "</style>\n",
       "<table border=\"1\" class=\"dataframe\">\n",
       "  <thead>\n",
       "    <tr>\n",
       "      <th></th>\n",
       "      <th>mean</th>\n",
       "      <th>median</th>\n",
       "    </tr>\n",
       "    <tr>\n",
       "      <th></th>\n",
       "      <th>box_office</th>\n",
       "      <th>box_office</th>\n",
       "    </tr>\n",
       "    <tr>\n",
       "      <th>release_year</th>\n",
       "      <th></th>\n",
       "      <th></th>\n",
       "    </tr>\n",
       "  </thead>\n",
       "  <tbody>\n",
       "    <tr>\n",
       "      <th>2010</th>\n",
       "      <td>36,046.55</td>\n",
       "      <td>3,878.00</td>\n",
       "    </tr>\n",
       "    <tr>\n",
       "      <th>2011</th>\n",
       "      <td>171,835.18</td>\n",
       "      <td>5,555.00</td>\n",
       "    </tr>\n",
       "    <tr>\n",
       "      <th>2012</th>\n",
       "      <td>70,156.90</td>\n",
       "      <td>10,310.00</td>\n",
       "    </tr>\n",
       "    <tr>\n",
       "      <th>2013</th>\n",
       "      <td>218,966.19</td>\n",
       "      <td>6,497.50</td>\n",
       "    </tr>\n",
       "    <tr>\n",
       "      <th>2014</th>\n",
       "      <td>32,751,962.30</td>\n",
       "      <td>123,190.00</td>\n",
       "    </tr>\n",
       "    <tr>\n",
       "      <th>2015</th>\n",
       "      <td>85,427,551.44</td>\n",
       "      <td>5,034,342.40</td>\n",
       "    </tr>\n",
       "    <tr>\n",
       "      <th>2016</th>\n",
       "      <td>91,115,618.52</td>\n",
       "      <td>4,034,973.50</td>\n",
       "    </tr>\n",
       "    <tr>\n",
       "      <th>2017</th>\n",
       "      <td>136,501,823.25</td>\n",
       "      <td>9,919,415.00</td>\n",
       "    </tr>\n",
       "    <tr>\n",
       "      <th>2018</th>\n",
       "      <td>104,568,983.88</td>\n",
       "      <td>8,751,895.75</td>\n",
       "    </tr>\n",
       "    <tr>\n",
       "      <th>2019</th>\n",
       "      <td>91,262,952.65</td>\n",
       "      <td>4,601,033.60</td>\n",
       "    </tr>\n",
       "  </tbody>\n",
       "</table>\n",
       "</div>"
      ],
      "text/plain": [
       "                       mean       median\n",
       "                 box_office   box_office\n",
       "release_year                            \n",
       "2010              36,046.55     3,878.00\n",
       "2011             171,835.18     5,555.00\n",
       "2012              70,156.90    10,310.00\n",
       "2013             218,966.19     6,497.50\n",
       "2014          32,751,962.30   123,190.00\n",
       "2015          85,427,551.44 5,034,342.40\n",
       "2016          91,115,618.52 4,034,973.50\n",
       "2017         136,501,823.25 9,919,415.00\n",
       "2018         104,568,983.88 8,751,895.75\n",
       "2019          91,262,952.65 4,601,033.60"
      ]
     },
     "metadata": {},
     "output_type": "display_data"
    }
   ],
   "source": [
    "# Создаем сводную таблицу\n",
    "pivot_table = pd.pivot_table(merged_data, values='box_office', index='release_year', aggfunc=[np.mean, np.median])\n",
    "\n",
    "# Выводим результаты\n",
    "display(pivot_table)"
   ]
  },
  {
   "cell_type": "markdown",
   "metadata": {},
   "source": [
    "Из представленной информации видно, что объемы кассовых сборов фильмов в рублях имеют различную динамику в течение периода с 2010 по 2019 год. В целом, средние и медианные кассовые сборы увеличиваются с годами.\n",
    "\n",
    "Наибольший рост кассовых сборов наблюдается в 2014 году, где они значительно превышают значения других лет(возможно из-за инфляции). После этого года средние и медианные кассовые сборы остаются на высоком уровне, с некоторыми колебаниями в разные годы.\n",
    "\n",
    "Из годовых данных можно сделать вывод, что фильмы в целом показывают хорошие результаты в кассовой сфере, особенно в последние годы. Однако следует отметить, что средние значения могут быть значительно выше медианных, что может указывать на наличие некоторого числа успешных фильмов, которые сильно выбиваются вверх по кассовым сборам, в то время как большинство других фильмов имеют более скромные результаты.\n"
   ]
  },
  {
   "cell_type": "markdown",
   "metadata": {
    "id": "Ok89WFwJgFyZ"
   },
   "source": [
    "- Определите, влияет ли возрастное ограничение аудитории («6+», «12+», «16+», «18+» и т. д.) на сборы фильма в прокате в период с 2015 по 2019 год? Фильмы с каким возрастным ограничением собрали больше всего денег в прокате? Меняется ли картина в зависимости от года? Если да, предположите, с чем это может быть связано."
   ]
  },
  {
   "cell_type": "code",
   "execution_count": null,
   "metadata": {
    "colab": {
     "base_uri": "https://localhost:8080/",
     "height": 325
    },
    "id": "jsSbEqfjgFya",
    "outputId": "d87d52ba-22f8-4893-9ce7-00fe712d196c"
   },
   "outputs": [
    {
     "name": "stdout",
     "output_type": "stream",
     "text": [
      "Суммы сборов фильмов в прокате по возрастным ограничениям:\n"
     ]
    },
    {
     "data": {
      "text/html": [
       "<div>\n",
       "<style scoped>\n",
       "    .dataframe tbody tr th:only-of-type {\n",
       "        vertical-align: middle;\n",
       "    }\n",
       "\n",
       "    .dataframe tbody tr th {\n",
       "        vertical-align: top;\n",
       "    }\n",
       "\n",
       "    .dataframe thead th {\n",
       "        text-align: right;\n",
       "    }\n",
       "</style>\n",
       "<table border=\"1\" class=\"dataframe\">\n",
       "  <thead>\n",
       "    <tr style=\"text-align: right;\">\n",
       "      <th></th>\n",
       "      <th>age_restriction</th>\n",
       "      <th>total_box_office</th>\n",
       "    </tr>\n",
       "  </thead>\n",
       "  <tbody>\n",
       "    <tr>\n",
       "      <th>0</th>\n",
       "      <td>«0+»</td>\n",
       "      <td>809,076,715.97</td>\n",
       "    </tr>\n",
       "    <tr>\n",
       "      <th>1</th>\n",
       "      <td>«12+»</td>\n",
       "      <td>59,369,189,769.50</td>\n",
       "    </tr>\n",
       "    <tr>\n",
       "      <th>2</th>\n",
       "      <td>«16+»</td>\n",
       "      <td>75,102,265,523.60</td>\n",
       "    </tr>\n",
       "    <tr>\n",
       "      <th>3</th>\n",
       "      <td>«18+»</td>\n",
       "      <td>40,757,657,233.61</td>\n",
       "    </tr>\n",
       "    <tr>\n",
       "      <th>4</th>\n",
       "      <td>«6+»</td>\n",
       "      <td>55,220,189,367.92</td>\n",
       "    </tr>\n",
       "  </tbody>\n",
       "</table>\n",
       "</div>"
      ],
      "text/plain": [
       "  age_restriction  total_box_office\n",
       "0            «0+»    809,076,715.97\n",
       "1           «12+» 59,369,189,769.50\n",
       "2           «16+» 75,102,265,523.60\n",
       "3           «18+» 40,757,657,233.61\n",
       "4            «6+» 55,220,189,367.92"
      ]
     },
     "metadata": {},
     "output_type": "display_data"
    },
    {
     "name": "stdout",
     "output_type": "stream",
     "text": [
      "\n",
      "Возрастное ограничение, собравшее наибольшую сумму сборов в прокате:\n"
     ]
    },
    {
     "data": {
      "text/html": [
       "<div>\n",
       "<style scoped>\n",
       "    .dataframe tbody tr th:only-of-type {\n",
       "        vertical-align: middle;\n",
       "    }\n",
       "\n",
       "    .dataframe tbody tr th {\n",
       "        vertical-align: top;\n",
       "    }\n",
       "\n",
       "    .dataframe thead th {\n",
       "        text-align: right;\n",
       "    }\n",
       "</style>\n",
       "<table border=\"1\" class=\"dataframe\">\n",
       "  <thead>\n",
       "    <tr style=\"text-align: right;\">\n",
       "      <th></th>\n",
       "      <th>age_restriction</th>\n",
       "      <th>total_box_office</th>\n",
       "    </tr>\n",
       "  </thead>\n",
       "  <tbody>\n",
       "    <tr>\n",
       "      <th>2</th>\n",
       "      <td>«16+»</td>\n",
       "      <td>75,102,265,523.60</td>\n",
       "    </tr>\n",
       "  </tbody>\n",
       "</table>\n",
       "</div>"
      ],
      "text/plain": [
       "  age_restriction  total_box_office\n",
       "2           «16+» 75,102,265,523.60"
      ]
     },
     "metadata": {},
     "output_type": "display_data"
    }
   ],
   "source": [
    "# Изменение строки возрастного ограничения\n",
    "merged_data['age_restriction'] = merged_data['age_restriction'].str.split(',').str[0]# Отфильтровать данные с 2015 по 2019 годы\n",
    "filtered_data = merged_data[(merged_data['release_year'] >= 2015) & (merged_data['release_year'] <= 2019)]\n",
    "\n",
    "# Группировка данных по возрастному ограничению и подсчет суммы сборов в прокате\n",
    "age_restriction_totals = filtered_data.groupby('age_restriction')['box_office'].sum().reset_index(name='total_box_office')\n",
    "\n",
    "# Вывод наиболее прибыльного возрастного ограничения\n",
    "age_restriction_max = age_restriction_totals.sort_values(by='total_box_office', ascending=False).head(1)\n",
    "\n",
    "print(\"Суммы сборов фильмов в прокате по возрастным ограничениям:\")\n",
    "display(age_restriction_totals)\n",
    "print(\"\\nВозрастное ограничение, собравшее наибольшую сумму сборов в прокате:\")\n",
    "display(age_restriction_max)"
   ]
  },
  {
   "cell_type": "markdown",
   "metadata": {},
   "source": [
    "Вывод по информации о суммах сборов фильмов в прокате по возрастным ограничениям показывает, что возрастное ограничение «16+» собрало наибольшую сумму сборов в прокате, составляющую 75,102,265,523.60. Это означает, что фильмы с таким возрастным ограничением были особенно привлекательными для зрителей и имели высокий коммерческий успех. Важно отметить, что сумма сборов фильмов с возрастным ограничением «16+» значительно превышает суммы сборов фильмов с другими возрастными ограничениями, что подчеркивает их популярность и привлекательность у широкой аудитории"
   ]
  },
  {
   "cell_type": "code",
   "execution_count": null,
   "metadata": {
    "colab": {
     "base_uri": "https://localhost:8080/",
     "height": 851
    },
    "id": "ll6VQsgNfssK",
    "outputId": "ebf92415-c0c6-44d9-e224-246b2507d73e"
   },
   "outputs": [
    {
     "name": "stdout",
     "output_type": "stream",
     "text": [
      "Суммы сборов фильмов в прокате по возрастным ограничениям и годам:\n"
     ]
    },
    {
     "data": {
      "text/html": [
       "<div>\n",
       "<style scoped>\n",
       "    .dataframe tbody tr th:only-of-type {\n",
       "        vertical-align: middle;\n",
       "    }\n",
       "\n",
       "    .dataframe tbody tr th {\n",
       "        vertical-align: top;\n",
       "    }\n",
       "\n",
       "    .dataframe thead th {\n",
       "        text-align: right;\n",
       "    }\n",
       "</style>\n",
       "<table border=\"1\" class=\"dataframe\">\n",
       "  <thead>\n",
       "    <tr style=\"text-align: right;\">\n",
       "      <th></th>\n",
       "      <th>release_year</th>\n",
       "      <th>age_restriction</th>\n",
       "      <th>total_box_office</th>\n",
       "    </tr>\n",
       "  </thead>\n",
       "  <tbody>\n",
       "    <tr>\n",
       "      <th>0</th>\n",
       "      <td>2015</td>\n",
       "      <td>«0+»</td>\n",
       "      <td>379,054,358.37</td>\n",
       "    </tr>\n",
       "    <tr>\n",
       "      <th>1</th>\n",
       "      <td>2015</td>\n",
       "      <td>«12+»</td>\n",
       "      <td>13,419,509,570.51</td>\n",
       "    </tr>\n",
       "    <tr>\n",
       "      <th>2</th>\n",
       "      <td>2015</td>\n",
       "      <td>«16+»</td>\n",
       "      <td>10,781,600,451.27</td>\n",
       "    </tr>\n",
       "    <tr>\n",
       "      <th>3</th>\n",
       "      <td>2015</td>\n",
       "      <td>«18+»</td>\n",
       "      <td>5,430,350,628.93</td>\n",
       "    </tr>\n",
       "    <tr>\n",
       "      <th>4</th>\n",
       "      <td>2015</td>\n",
       "      <td>«6+»</td>\n",
       "      <td>8,517,310,690.01</td>\n",
       "    </tr>\n",
       "    <tr>\n",
       "      <th>5</th>\n",
       "      <td>2016</td>\n",
       "      <td>«0+»</td>\n",
       "      <td>150,228,358.67</td>\n",
       "    </tr>\n",
       "    <tr>\n",
       "      <th>6</th>\n",
       "      <td>2016</td>\n",
       "      <td>«12+»</td>\n",
       "      <td>11,150,762,103.96</td>\n",
       "    </tr>\n",
       "    <tr>\n",
       "      <th>7</th>\n",
       "      <td>2016</td>\n",
       "      <td>«16+»</td>\n",
       "      <td>16,594,249,189.74</td>\n",
       "    </tr>\n",
       "    <tr>\n",
       "      <th>8</th>\n",
       "      <td>2016</td>\n",
       "      <td>«18+»</td>\n",
       "      <td>6,793,929,218.87</td>\n",
       "    </tr>\n",
       "    <tr>\n",
       "      <th>9</th>\n",
       "      <td>2016</td>\n",
       "      <td>«6+»</td>\n",
       "      <td>12,053,143,428.24</td>\n",
       "    </tr>\n",
       "    <tr>\n",
       "      <th>10</th>\n",
       "      <td>2017</td>\n",
       "      <td>«0+»</td>\n",
       "      <td>229,598,930.00</td>\n",
       "    </tr>\n",
       "    <tr>\n",
       "      <th>11</th>\n",
       "      <td>2017</td>\n",
       "      <td>«12+»</td>\n",
       "      <td>7,851,427,660.67</td>\n",
       "    </tr>\n",
       "    <tr>\n",
       "      <th>12</th>\n",
       "      <td>2017</td>\n",
       "      <td>«16+»</td>\n",
       "      <td>18,694,590,951.06</td>\n",
       "    </tr>\n",
       "    <tr>\n",
       "      <th>13</th>\n",
       "      <td>2017</td>\n",
       "      <td>«18+»</td>\n",
       "      <td>9,651,495,581.02</td>\n",
       "    </tr>\n",
       "    <tr>\n",
       "      <th>14</th>\n",
       "      <td>2017</td>\n",
       "      <td>«6+»</td>\n",
       "      <td>12,031,034,131.00</td>\n",
       "    </tr>\n",
       "    <tr>\n",
       "      <th>15</th>\n",
       "      <td>2018</td>\n",
       "      <td>«0+»</td>\n",
       "      <td>32,449,002.11</td>\n",
       "    </tr>\n",
       "    <tr>\n",
       "      <th>16</th>\n",
       "      <td>2018</td>\n",
       "      <td>«12+»</td>\n",
       "      <td>14,267,291,660.69</td>\n",
       "    </tr>\n",
       "    <tr>\n",
       "      <th>17</th>\n",
       "      <td>2018</td>\n",
       "      <td>«16+»</td>\n",
       "      <td>16,278,405,946.93</td>\n",
       "    </tr>\n",
       "    <tr>\n",
       "      <th>18</th>\n",
       "      <td>2018</td>\n",
       "      <td>«18+»</td>\n",
       "      <td>8,760,085,501.15</td>\n",
       "    </tr>\n",
       "    <tr>\n",
       "      <th>19</th>\n",
       "      <td>2018</td>\n",
       "      <td>«6+»</td>\n",
       "      <td>9,913,759,294.32</td>\n",
       "    </tr>\n",
       "    <tr>\n",
       "      <th>20</th>\n",
       "      <td>2019</td>\n",
       "      <td>«0+»</td>\n",
       "      <td>17,746,066.82</td>\n",
       "    </tr>\n",
       "    <tr>\n",
       "      <th>21</th>\n",
       "      <td>2019</td>\n",
       "      <td>«12+»</td>\n",
       "      <td>12,680,198,773.67</td>\n",
       "    </tr>\n",
       "    <tr>\n",
       "      <th>22</th>\n",
       "      <td>2019</td>\n",
       "      <td>«16+»</td>\n",
       "      <td>12,753,418,984.60</td>\n",
       "    </tr>\n",
       "    <tr>\n",
       "      <th>23</th>\n",
       "      <td>2019</td>\n",
       "      <td>«18+»</td>\n",
       "      <td>10,121,796,303.64</td>\n",
       "    </tr>\n",
       "    <tr>\n",
       "      <th>24</th>\n",
       "      <td>2019</td>\n",
       "      <td>«6+»</td>\n",
       "      <td>12,704,941,824.35</td>\n",
       "    </tr>\n",
       "  </tbody>\n",
       "</table>\n",
       "</div>"
      ],
      "text/plain": [
       "    release_year age_restriction  total_box_office\n",
       "0           2015            «0+»    379,054,358.37\n",
       "1           2015           «12+» 13,419,509,570.51\n",
       "2           2015           «16+» 10,781,600,451.27\n",
       "3           2015           «18+»  5,430,350,628.93\n",
       "4           2015            «6+»  8,517,310,690.01\n",
       "5           2016            «0+»    150,228,358.67\n",
       "6           2016           «12+» 11,150,762,103.96\n",
       "7           2016           «16+» 16,594,249,189.74\n",
       "8           2016           «18+»  6,793,929,218.87\n",
       "9           2016            «6+» 12,053,143,428.24\n",
       "10          2017            «0+»    229,598,930.00\n",
       "11          2017           «12+»  7,851,427,660.67\n",
       "12          2017           «16+» 18,694,590,951.06\n",
       "13          2017           «18+»  9,651,495,581.02\n",
       "14          2017            «6+» 12,031,034,131.00\n",
       "15          2018            «0+»     32,449,002.11\n",
       "16          2018           «12+» 14,267,291,660.69\n",
       "17          2018           «16+» 16,278,405,946.93\n",
       "18          2018           «18+»  8,760,085,501.15\n",
       "19          2018            «6+»  9,913,759,294.32\n",
       "20          2019            «0+»     17,746,066.82\n",
       "21          2019           «12+» 12,680,198,773.67\n",
       "22          2019           «16+» 12,753,418,984.60\n",
       "23          2019           «18+» 10,121,796,303.64\n",
       "24          2019            «6+» 12,704,941,824.35"
      ]
     },
     "metadata": {},
     "output_type": "display_data"
    }
   ],
   "source": [
    "# Группировка данных по году и возрастному ограничению и подсчет суммы сборов в прокате\n",
    "year_age_restriction_totals = filtered_data.groupby(['release_year', 'age_restriction'])['box_office'].sum().reset_index(name='total_box_office')\n",
    "\n",
    "# Вывод сумм сборов фильмов в прокате по возрастным ограничениям и годам\n",
    "print(\"Суммы сборов фильмов в прокате по возрастным ограничениям и годам:\")\n",
    "display(year_age_restriction_totals)"
   ]
  },
  {
   "cell_type": "markdown",
   "metadata": {
    "id": "c5rFT23zgiGq"
   },
   "source": [
    "Из предоставленной информации о суммах сборов фильмов в прокате по возрастным ограничениям и годам, можно сделать следующие выводы:\n",
    "\n",
    "1. Возрастные ограничения, такие как «0+», «6+», «12+», «16+» и «18+», играют важную роль в определении аудитории фильма и его успеха в прокате. \n",
    "\n",
    "2. В 2015 году фильмы с возрастным ограничением «12+» показали наиболее высокие сборы в прокате, достигнув 13,419,509,570.51 рублей. Это может указывать на то, что фильмы, ориентированные на более старшую аудиторию, обычно имеют больший коммерческий успех.\n",
    "\n",
    "3. В 2016 году суммы сборов фильмов с возрастным ограничением «16+» оказались самыми высокими, составив 16,594,249,189.74 рублей. Это может указывать на то, что фильмы, предназначенные для подростков и молодых взрослых, могут быть особенно привлекательными для зрителей.\n",
    "\n",
    "4. В 2017 году фильмы с возрастным ограничением «18+» показали наивысшие сборы в прокате, составив 9,651,495,581.02 рублей. Это может указывать на то, что фильмы с более взрослым контентом именно для взрослой аудитории также могут иметь высокую коммерческую привлекательность.\n",
    "\n",
    "5. Фильмы с возрастным ограничением «0+» обычно показывают наименьшие сборы в прокате, что может быть связано с более ограниченной целевой аудиторией, так как их можно просмотреть без каких-либо ограничений.\n",
    "\n",
    "6. В целом, суммы сборов фильмов в прокате в течение периода с 2015 по 2019 год были разнообразными, и каждое возрастное ограничение имело свои особенности в коммерческом успехе. Данные о сборах фильмов по годам и возрастным ограничениям могут быть полезными при планировании и реализации маркетинговых стратегий для будущих фильмов."
   ]
  },
  {
   "cell_type": "markdown",
   "metadata": {},
   "source": [
    "Обобщенный вывод из представленных данных указывает на то, что возрастные рейтинги фильмов существенно влияют на их кассовые сборы. Картины с рейтингами “18+” и “16+” достигают самых высоких показателей кассовых сборов, тогда как фильмы с рейтингами “12+” и “6+” имеют более скромные результаты. Это наводит на мысль о том, что взрослые зрители готовы платить больше за возможность просмотра фильмов с высоким возрастным рейтингом.\n",
    "\n",
    "Однако, и фильмы, ориентированные на более широкую аудиторию или детей, могут иметь коммерческий успех, хотя их кассовые сборы не обязательно будут такими же высокими. Здесь важно учесть как целевую аудиторию, так и качество самого фильма при оценке его потенциальных кассовых показателей."
   ]
  },
  {
   "cell_type": "markdown",
   "metadata": {
    "id": "l_Kg6Ku4gFya"
   },
   "source": [
    "### Шаг 4. Исследуйте фильмы, которые получили государственную поддержку\n",
    "\n",
    "На этом этапе нет конкретных инструкций и заданий — поищите интересные закономерности в данных. Посмотрите, сколько выделяют средств на поддержку кино. Проверьте, хорошо ли окупаются такие фильмы, какой у них рейтинг."
   ]
  },
  {
   "cell_type": "code",
   "execution_count": null,
   "metadata": {
    "id": "b9mx-W_a4Rsf"
   },
   "outputs": [],
   "source": [
    "merged_data['gos_budget'] = merged_data['budget'] -(merged_data['refundable_support'] + merged_data['nonrefundable_support'])"
   ]
  },
  {
   "cell_type": "code",
   "execution_count": null,
   "metadata": {
    "colab": {
     "base_uri": "https://localhost:8080/",
     "height": 423
    },
    "id": "cOIww4WT5I_i",
    "outputId": "14cbc9c0-e86e-4ca5-a1c3-2475ed1ed254"
   },
   "outputs": [
    {
     "data": {
      "text/html": [
       "<div>\n",
       "<style scoped>\n",
       "    .dataframe tbody tr th:only-of-type {\n",
       "        vertical-align: middle;\n",
       "    }\n",
       "\n",
       "    .dataframe tbody tr th {\n",
       "        vertical-align: top;\n",
       "    }\n",
       "\n",
       "    .dataframe thead th {\n",
       "        text-align: right;\n",
       "    }\n",
       "</style>\n",
       "<table border=\"1\" class=\"dataframe\">\n",
       "  <thead>\n",
       "    <tr style=\"text-align: right;\">\n",
       "      <th></th>\n",
       "      <th>title</th>\n",
       "      <th>budget</th>\n",
       "      <th>gos_budget</th>\n",
       "      <th>support_ratio</th>\n",
       "      <th>box_office</th>\n",
       "      <th>ratings</th>\n",
       "      <th>primary_genre</th>\n",
       "      <th>type</th>\n",
       "      <th>release_year</th>\n",
       "      <th>age_restriction</th>\n",
       "    </tr>\n",
       "  </thead>\n",
       "  <tbody>\n",
       "    <tr>\n",
       "      <th>1281</th>\n",
       "      <td>пока еще жива</td>\n",
       "      <td>79,411,900.00</td>\n",
       "      <td>52,911,900.00</td>\n",
       "      <td>33.37%</td>\n",
       "      <td>365,353.60</td>\n",
       "      <td>8.10</td>\n",
       "      <td>драма</td>\n",
       "      <td>художественный</td>\n",
       "      <td>2013</td>\n",
       "      <td>«16+»</td>\n",
       "    </tr>\n",
       "    <tr>\n",
       "      <th>1448</th>\n",
       "      <td>бесславные придурки</td>\n",
       "      <td>37,142,857.00</td>\n",
       "      <td>11,142,857.00</td>\n",
       "      <td>70.00%</td>\n",
       "      <td>28,140.00</td>\n",
       "      <td>NaN</td>\n",
       "      <td>unknown</td>\n",
       "      <td>художественный</td>\n",
       "      <td>2014</td>\n",
       "      <td>«12+»</td>\n",
       "    </tr>\n",
       "    <tr>\n",
       "      <th>1498</th>\n",
       "      <td>невидимки</td>\n",
       "      <td>176,023,490.00</td>\n",
       "      <td>68,175,545.00</td>\n",
       "      <td>61.27%</td>\n",
       "      <td>19,957,031.50</td>\n",
       "      <td>5.30</td>\n",
       "      <td>комедия</td>\n",
       "      <td>художественный</td>\n",
       "      <td>2013</td>\n",
       "      <td>«12+»</td>\n",
       "    </tr>\n",
       "    <tr>\n",
       "      <th>1524</th>\n",
       "      <td>берцы</td>\n",
       "      <td>40,574,140.00</td>\n",
       "      <td>12,574,140.00</td>\n",
       "      <td>69.01%</td>\n",
       "      <td>55,917.50</td>\n",
       "      <td>4.20</td>\n",
       "      <td>драма</td>\n",
       "      <td>художественный</td>\n",
       "      <td>2014</td>\n",
       "      <td>«16+»</td>\n",
       "    </tr>\n",
       "    <tr>\n",
       "      <th>1792</th>\n",
       "      <td>братья ч</td>\n",
       "      <td>40,015,122.00</td>\n",
       "      <td>15,015,122.00</td>\n",
       "      <td>62.48%</td>\n",
       "      <td>232,100.00</td>\n",
       "      <td>6.40</td>\n",
       "      <td>драма</td>\n",
       "      <td>художественный</td>\n",
       "      <td>2014</td>\n",
       "      <td>«16+»</td>\n",
       "    </tr>\n",
       "    <tr>\n",
       "      <th>...</th>\n",
       "      <td>...</td>\n",
       "      <td>...</td>\n",
       "      <td>...</td>\n",
       "      <td>...</td>\n",
       "      <td>...</td>\n",
       "      <td>...</td>\n",
       "      <td>...</td>\n",
       "      <td>...</td>\n",
       "      <td>...</td>\n",
       "      <td>...</td>\n",
       "    </tr>\n",
       "    <tr>\n",
       "      <th>7464</th>\n",
       "      <td>союз спасения</td>\n",
       "      <td>980,000,000.00</td>\n",
       "      <td>480,000,000.00</td>\n",
       "      <td>51.02%</td>\n",
       "      <td>717,703,185.53</td>\n",
       "      <td>6.00</td>\n",
       "      <td>история</td>\n",
       "      <td>художественный</td>\n",
       "      <td>2019</td>\n",
       "      <td>«12+»</td>\n",
       "    </tr>\n",
       "    <tr>\n",
       "      <th>7466</th>\n",
       "      <td>иван царевич и серый волк 4</td>\n",
       "      <td>190,000,000.00</td>\n",
       "      <td>90,000,000.00</td>\n",
       "      <td>52.63%</td>\n",
       "      <td>501,069,235.00</td>\n",
       "      <td>6.70</td>\n",
       "      <td>мультфильм</td>\n",
       "      <td>анимационный</td>\n",
       "      <td>2019</td>\n",
       "      <td>«6+»</td>\n",
       "    </tr>\n",
       "    <tr>\n",
       "      <th>7474</th>\n",
       "      <td>вторжение</td>\n",
       "      <td>944,000,000.00</td>\n",
       "      <td>444,000,000.00</td>\n",
       "      <td>52.97%</td>\n",
       "      <td>NaN</td>\n",
       "      <td>5.70</td>\n",
       "      <td>фантастика</td>\n",
       "      <td>художественный</td>\n",
       "      <td>2019</td>\n",
       "      <td>«12+»</td>\n",
       "    </tr>\n",
       "    <tr>\n",
       "      <th>7476</th>\n",
       "      <td>я свободен</td>\n",
       "      <td>46,154,000.00</td>\n",
       "      <td>16,154,000.00</td>\n",
       "      <td>65.00%</td>\n",
       "      <td>NaN</td>\n",
       "      <td>5.90</td>\n",
       "      <td>драма</td>\n",
       "      <td>художественный</td>\n",
       "      <td>2019</td>\n",
       "      <td>«12+»</td>\n",
       "    </tr>\n",
       "    <tr>\n",
       "      <th>7478</th>\n",
       "      <td>(не)идеальный мужчина</td>\n",
       "      <td>150,147,502.00</td>\n",
       "      <td>50,147,502.00</td>\n",
       "      <td>66.60%</td>\n",
       "      <td>NaN</td>\n",
       "      <td>4.50</td>\n",
       "      <td>комедия</td>\n",
       "      <td>художественный</td>\n",
       "      <td>2019</td>\n",
       "      <td>«12+»</td>\n",
       "    </tr>\n",
       "  </tbody>\n",
       "</table>\n",
       "<p>315 rows × 10 columns</p>\n",
       "</div>"
      ],
      "text/plain": [
       "                            title         budget     gos_budget support_ratio  \\\n",
       "1281                пока еще жива  79,411,900.00  52,911,900.00        33.37%   \n",
       "1448          бесславные придурки  37,142,857.00  11,142,857.00        70.00%   \n",
       "1498                    невидимки 176,023,490.00  68,175,545.00        61.27%   \n",
       "1524                        берцы  40,574,140.00  12,574,140.00        69.01%   \n",
       "1792                     братья ч  40,015,122.00  15,015,122.00        62.48%   \n",
       "...                           ...            ...            ...           ...   \n",
       "7464                союз спасения 980,000,000.00 480,000,000.00        51.02%   \n",
       "7466  иван царевич и серый волк 4 190,000,000.00  90,000,000.00        52.63%   \n",
       "7474                    вторжение 944,000,000.00 444,000,000.00        52.97%   \n",
       "7476                   я свободен  46,154,000.00  16,154,000.00        65.00%   \n",
       "7478        (не)идеальный мужчина 150,147,502.00  50,147,502.00        66.60%   \n",
       "\n",
       "         box_office  ratings primary_genre            type  release_year  \\\n",
       "1281     365,353.60     8.10         драма  художественный          2013   \n",
       "1448      28,140.00      NaN       unknown  художественный          2014   \n",
       "1498  19,957,031.50     5.30       комедия  художественный          2013   \n",
       "1524      55,917.50     4.20         драма  художественный          2014   \n",
       "1792     232,100.00     6.40         драма  художественный          2014   \n",
       "...             ...      ...           ...             ...           ...   \n",
       "7464 717,703,185.53     6.00       история  художественный          2019   \n",
       "7466 501,069,235.00     6.70    мультфильм    анимационный          2019   \n",
       "7474            NaN     5.70    фантастика  художественный          2019   \n",
       "7476            NaN     5.90         драма  художественный          2019   \n",
       "7478            NaN     4.50       комедия  художественный          2019   \n",
       "\n",
       "     age_restriction  \n",
       "1281           «16+»  \n",
       "1448           «12+»  \n",
       "1498           «12+»  \n",
       "1524           «16+»  \n",
       "1792           «16+»  \n",
       "...              ...  \n",
       "7464           «12+»  \n",
       "7466            «6+»  \n",
       "7474           «12+»  \n",
       "7476           «12+»  \n",
       "7478           «12+»  \n",
       "\n",
       "[315 rows x 10 columns]"
      ]
     },
     "metadata": {},
     "output_type": "display_data"
    }
   ],
   "source": [
    "merged_data2 = merged_data.dropna(subset=['financing_source'])\n",
    "df = merged_data2[['title', 'budget', 'gos_budget', 'support_ratio', 'box_office', 'ratings', 'primary_genre', 'type', 'release_year', 'age_restriction']]\n",
    "display(df)"
   ]
  },
  {
   "cell_type": "code",
   "execution_count": null,
   "metadata": {
    "colab": {
     "base_uri": "https://localhost:8080/",
     "height": 619
    },
    "id": "EcmersUuxgMl",
    "outputId": "c094829d-a12a-48c4-d864-c1c4524a5b7f"
   },
   "outputs": [
    {
     "data": {
      "image/png": "[encoded data removed]",
      "text/plain": [
       "<Figure size 720x432 with 1 Axes>"
      ]
     },
     "metadata": {
      "needs_background": "light"
     },
     "output_type": "display_data"
    },
    {
     "name": "stdout",
     "output_type": "stream",
     "text": [
      "Статистика выделенных средств на поддержку кино:\n",
      "Общая сумма выделенных средств: 23431547092.0\n",
      "Среднее значение выделенных средств: 74385863.78412698\n"
     ]
    }
   ],
   "source": [
    "# Распределение выделенных средств на поддержку кино\n",
    "plt.figure(figsize=(10, 6))\n",
    "sns.histplot(df['gos_budget'])\n",
    "plt.title('Распределение средств на поддержку кино')\n",
    "plt.xlabel('Государственный бюджет')\n",
    "plt.ylabel('Частота')\n",
    "plt.show()\n",
    "\n",
    "# Статистика выделенных средств\n",
    "total_gos_budget = df['gos_budget'].sum()\n",
    "avg_gos_budget = df['gos_budget'].mean()\n",
    "\n",
    "print('Статистика выделенных средств на поддержку кино:')\n",
    "print('Общая сумма выделенных средств:', total_gos_budget)\n",
    "print('Среднее значение выделенных средств:', avg_gos_budget)\n",
    "\n"
   ]
  },
  {
   "cell_type": "markdown",
   "metadata": {},
   "source": [
    "На основании предоставленной информации можно сделать следующий вывод. Общая сумма выделенных средств на поддержку кино составляет 23 431 547 092.0 рублей. Среднее значение выделенных средств равно примерно 74 385 863.78 рублей. Эти данные позволяют сделать предположение о том, что киноиндустрия получает значительные инвестиции для поддержки и развития существующих и новых проектов."
   ]
  },
  {
   "cell_type": "code",
   "execution_count": null,
   "metadata": {},
   "outputs": [],
   "source": [
    "df['roi'] = df['box_office'] / df['budget'] *100"
   ]
  },
  {
   "cell_type": "code",
   "execution_count": null,
   "metadata": {},
   "outputs": [],
   "source": [
    "# Категоризация рейтингов без пропущенных значений\n",
    "df['rounded_ratings'] = df['ratings'][~df['ratings'].isna()].apply(round) "
   ]
  },
  {
   "cell_type": "code",
   "execution_count": null,
   "metadata": {},
   "outputs": [
    {
     "data": {
      "image/png": "[encoded data removed]",
      "text/plain": [
       "<Figure size 432x288 with 1 Axes>"
      ]
     },
     "metadata": {
      "needs_background": "light"
     },
     "output_type": "display_data"
    },
    {
     "data": {
      "text/html": [
       "<div>\n",
       "<style scoped>\n",
       "    .dataframe tbody tr th:only-of-type {\n",
       "        vertical-align: middle;\n",
       "    }\n",
       "\n",
       "    .dataframe tbody tr th {\n",
       "        vertical-align: top;\n",
       "    }\n",
       "\n",
       "    .dataframe thead th {\n",
       "        text-align: right;\n",
       "    }\n",
       "</style>\n",
       "<table border=\"1\" class=\"dataframe\">\n",
       "  <thead>\n",
       "    <tr style=\"text-align: right;\">\n",
       "      <th></th>\n",
       "      <th>Рейтинг</th>\n",
       "      <th>Средний ROI</th>\n",
       "    </tr>\n",
       "  </thead>\n",
       "  <tbody>\n",
       "    <tr>\n",
       "      <th>0</th>\n",
       "      <td>1.00</td>\n",
       "      <td>20.33</td>\n",
       "    </tr>\n",
       "    <tr>\n",
       "      <th>1</th>\n",
       "      <td>2.00</td>\n",
       "      <td>45.90</td>\n",
       "    </tr>\n",
       "    <tr>\n",
       "      <th>2</th>\n",
       "      <td>3.00</td>\n",
       "      <td>46.88</td>\n",
       "    </tr>\n",
       "    <tr>\n",
       "      <th>3</th>\n",
       "      <td>4.00</td>\n",
       "      <td>37.78</td>\n",
       "    </tr>\n",
       "    <tr>\n",
       "      <th>4</th>\n",
       "      <td>5.00</td>\n",
       "      <td>74.45</td>\n",
       "    </tr>\n",
       "    <tr>\n",
       "      <th>5</th>\n",
       "      <td>6.00</td>\n",
       "      <td>63.60</td>\n",
       "    </tr>\n",
       "    <tr>\n",
       "      <th>6</th>\n",
       "      <td>7.00</td>\n",
       "      <td>104.89</td>\n",
       "    </tr>\n",
       "    <tr>\n",
       "      <th>7</th>\n",
       "      <td>8.00</td>\n",
       "      <td>98.21</td>\n",
       "    </tr>\n",
       "    <tr>\n",
       "      <th>8</th>\n",
       "      <td>9.00</td>\n",
       "      <td>3.19</td>\n",
       "    </tr>\n",
       "  </tbody>\n",
       "</table>\n",
       "</div>"
      ],
      "text/plain": [
       "   Рейтинг  Средний ROI\n",
       "0     1.00        20.33\n",
       "1     2.00        45.90\n",
       "2     3.00        46.88\n",
       "3     4.00        37.78\n",
       "4     5.00        74.45\n",
       "5     6.00        63.60\n",
       "6     7.00       104.89\n",
       "7     8.00        98.21\n",
       "8     9.00         3.19"
      ]
     },
     "metadata": {},
     "output_type": "display_data"
    },
    {
     "name": "stdout",
     "output_type": "stream",
     "text": [
      "Средний возврат инвестиций (ROI): 76.33099908958417\n",
      "Фильм с максимальным возвратом инвестиций (ROI): холоп\n",
      "Фильм с минимальным возвратом инвестиций (ROI): я, учитель\n"
     ]
    }
   ],
   "source": [
    "mean_roi = df.groupby('rounded_ratings')['roi'].mean()\n",
    "plt.plot(mean_roi.index, mean_roi.values, marker='o')\n",
    "plt.xlabel(\"Категоризированный рейтинг\")\n",
    "plt.ylabel(\"Средний возврат инвестиций (ROI)\")\n",
    "plt.grid(True)\n",
    "plt.show()\n",
    "# Создание дополнительной таблицы для вывода\n",
    "outputtable = pd.DataFrame({'Рейтинг': mean_roi.index, 'Средний ROI': mean_roi.values})\n",
    "\n",
    "# Вывод таблицы\n",
    "display(outputtable)\n",
    "# Вычисление среднего возврата инвестиций (ROI)\n",
    "avg_roi = df['roi'].mean()\n",
    "print(f\"Средний возврат инвестиций (ROI): {avg_roi}\")\n",
    "\n",
    "# Фильм с максимальным возвратом инвестиций (ROI)\n",
    "max_roi_movie = df.loc[df['roi'].idxmax(), 'title']\n",
    "print(f\"Фильм с максимальным возвратом инвестиций (ROI): {max_roi_movie}\")\n",
    "\n",
    "# Фильм с минимальным возвратом инвестиций (ROI)\n",
    "min_roi_movie = df.loc[df['roi'].idxmin(), 'title']\n",
    "print(f\"Фильм с минимальным возвратом инвестиций (ROI): {min_roi_movie}\")"
   ]
  },
  {
   "cell_type": "markdown",
   "metadata": {},
   "source": [
    "На основе предоставленных данных по рейтингу и среднему ROI можно сделать следующие выводы:\n",
    "\n",
    "1) Средний ROI фильмов в данном наборе данных составляет примерно 76.33%. Это означает, что в среднем фильмы возвращают около 11.99% от вложенных в них инвестиций. Однако, стоит отметить, что отдельные фильмы могут значительно превышать или быть ниже этого среднего значения.\n",
    "\n",
    "2) Фильм с максимальным возвратом инвестиций (ROI) из предоставленных данных имеет рейтинг 7 и достигает 104.89%. Это указывает на высокую успешность и прибыльность данного фильма по сравнению со средним значением. \n",
    "\n",
    "3) Фильм с минимальным возвратом инвестиций (ROI) в данном наборе данных имеет рейтинг 9 и составляет 3.14%. Эти фильмы имеют более низкую успешность и прибыльность по сравнению со средним значением ROI.\n",
    "\n",
    "Таким образом, в свете представленных данных можно сделать вывод о разнообразии результатов фильмов во всех рейтинговых категориях. Оценка рейтинга фильма может служить одним из множества факторов, влияющих на его коммерческий успех. Однако, для более точной оценки результата и прогнозирования ROI важно учитывать и другие факторы, такие как бюджет, маркетинг, жанр, качество и предпочтения целевой аудитории. Каждый фильм уникален и требует индивидуального анализа и подхода."
   ]
  },
  {
   "cell_type": "code",
   "execution_count": null,
   "metadata": {
    "colab": {
     "base_uri": "https://localhost:8080/",
     "height": 1000
    },
    "id": "coycZ3ySxgnY",
    "outputId": "dcf9a625-0e57-4a1b-9362-58aa1782c9ae"
   },
   "outputs": [
    {
     "data": {
      "image/png": "[encoded data removed]",
      "text/plain": [
       "<Figure size 720x432 with 1 Axes>"
      ]
     },
     "metadata": {
      "needs_background": "light"
     },
     "output_type": "display_data"
    },
    {
     "name": "stdout",
     "output_type": "stream",
     "text": [
      "Статистика ROI по жанрам для фильмов с государственной поддержкой:\n",
      "primary_genre\n",
      "биография     113.67\n",
      "боевик         59.30\n",
      "военный        85.73\n",
      "детектив        7.14\n",
      "детский         2.17\n",
      "драма          41.07\n",
      "история        56.13\n",
      "комедия       152.75\n",
      "криминал       31.75\n",
      "мелодрама       4.22\n",
      "мультфильм     99.79\n",
      "мюзикл         15.56\n",
      "приключения    57.89\n",
      "реальное тв    40.90\n",
      "семейный       75.25\n",
      "спорт         240.83\n",
      "триллер        26.18\n",
      "ужасы         105.08\n",
      "фантастика     38.79\n",
      "фэнтези        42.76\n",
      "Name: roi, dtype: float64\n"
     ]
    }
   ],
   "source": [
    "# Фильтрация по столбцу primary_genre, исключая значения \"unknown\"\n",
    "filtered_df = df[df['primary_genre'] != \"unknown\"]\n",
    "\n",
    "# ROI по жанрам для фильмов с государственной поддержкой\n",
    "plt.figure(figsize=(10, 6))\n",
    "sns.boxplot(x='roi', y='primary_genre', data=filtered_df[filtered_df['gos_budget'] != 0])\n",
    "plt.title('ROI по жанрам для фильмов с государственной поддержкой')\n",
    "plt.xlabel('ROI')\n",
    "plt.ylabel('Жанр')\n",
    "plt.show()\n",
    "\n",
    "# Статистика ROI по жанрам\n",
    "genre_avg_roi = filtered_df[filtered_df['gos_budget'] != 0].groupby('primary_genre')['roi'].mean()\n",
    "\n",
    "print('Статистика ROI по жанрам для фильмов с государственной поддержкой:')\n",
    "print(genre_avg_roi)"
   ]
  },
  {
   "cell_type": "markdown",
   "metadata": {
    "id": "5HqhHm4V78_j"
   },
   "source": [
    "Исходя из предоставленной информации о статистике ROI по жанрам для фильмов с государственной поддержкой, можно сделать несколько выводов.\n",
    "\n",
    "1. Наиболее прибыльными жанрами являются комедия (с ROI в размере 152.75), спорт (с ROI в размере 240.83), ужасы (с ROI в размере 105.08) и мультфильмы (с ROI в размере 99.79). Фильмы этих жанров демонстрируют хорошие финансовые результаты и приносят высокую доходность.\n",
    "\n",
    "2. Следующие жанры, которые также могут считаться прибыльными, включают биографию (с ROI в размере 113.67), военный (с ROI в размере 85.73), историю (с ROI в размере 56.13), приключения (с ROI в размере 57.89), а также фэнтези (с ROI в размере 42.76). Хотя они имеют более низкие показатели ROI по сравнению с предыдущими жанрами, они все равно считаются прибыльными.\n",
    "\n",
    "3. Драма (с ROI в размере 41.07), криминал (с ROI в размере 31.75), реальное тв (с ROI в размере 40.90), триллер (с ROI в размере 26.18) и фантастика (с ROI в размере 38.79) имеют средние показатели ROI. В то время как они не так прибыльны, как вышеупомянутые жанры, они все равно могут оказаться для фильма вполне успешными.\n",
    "\n",
    "4. Жанры детектив (с ROI в размере 7.14), детский (с ROI в размере 2.17), мелодрама (с ROI в размере 4.22) и мюзикл (с ROI в размере 15.56) имеют достаточно низкие показатели ROI. Это значит, что фильмы этих жанров, финансово, могут оказаться менее успешными.\n",
    "\n",
    "Итак, основываясь на предоставленных данных, можно сделать вывод, что наиболее прибыльные жанры для фильмов с государственной поддержкой - комедия, спорт, ужасы, мультфильмы, биография, военный, история, приключения и фэнтези, в то время как детектив, детский, мелодрама и мюзиклы имеют наименьший потенциал для финансового успеха."
   ]
  },
  {
   "cell_type": "code",
   "execution_count": null,
   "metadata": {
    "colab": {
     "base_uri": "https://localhost:8080/",
     "height": 1000
    },
    "id": "XsFEDy_Jxg6O",
    "outputId": "838a8d76-6f9b-4e2a-f0fa-dcf566aefbc1"
   },
   "outputs": [
    {
     "data": {
      "image/png": "[encoded data removed]",
      "text/plain": [
       "<Figure size 720x432 with 1 Axes>"
      ]
     },
     "metadata": {
      "needs_background": "light"
     },
     "output_type": "display_data"
    },
    {
     "name": "stdout",
     "output_type": "stream",
     "text": [
      "Средний ROI по типу фильма:\n",
      "type\n",
      "анимационный     103.94\n",
      "документальный      NaN\n",
      "художественный    73.94\n",
      "Name: roi, dtype: float64\n"
     ]
    }
   ],
   "source": [
    "plt.figure(figsize=(10, 6))\n",
    "sns.barplot(x='type', y='roi', data=df)\n",
    "plt.title('Средний ROI по типу фильма')\n",
    "plt.xlabel('Тип')\n",
    "plt.ylabel('Средний ROI')\n",
    "plt.xticks(rotation=90)\n",
    "plt.show();\n",
    "\n",
    "type_roi = df.groupby('type')['roi'].mean()\n",
    "print('Средний ROI по типу фильма:')\n",
    "print(type_roi);\n",
    "\n"
   ]
  },
  {
   "cell_type": "markdown",
   "metadata": {
    "id": "LU3dlsyC8oRC"
   },
   "source": [
    "По представленной информации о среднем уровне возврата инвестиций (ROI) по типу фильма можно сделать следующие выводы:\n",
    "\n",
    "1. Анимационные фильмы имеют наибольший средний ROI, достигающий 103.94%. Это говорит о том, что анимационные фильмы, в среднем, не только окупают инвестиции, но и приносят прибыль. Преимущество анимационных фильмов может быть связано с их более широкой аудиторией (включая как детей, так и взрослых), а также с возможностью реализации различных креативных идей, которые могут быть сложны для воплощения в художественных фильмах.\n",
    "\n",
    "2. Для документальных фильмов данные о среднем ROI отсутствуют. Это может быть обусловлено различными факторами: их меньшей коммерческой ориентацией, специфической целевой аудиторией или отсутствием достаточного количества данных для анализа.\n",
    "\n",
    "3. Художественные фильмы показывают средний ROI на уровне 73.94%. Это говорит о том, что художественные фильмы, в среднем, направлены на окупаемость и прибыльность, хотя и могут не достигать такого высокого уровня прибыли, как анимационные фильмы.\n"
   ]
  },
  {
   "cell_type": "code",
   "execution_count": null,
   "metadata": {
    "colab": {
     "base_uri": "https://localhost:8080/",
     "height": 1000
    },
    "id": "WH8tc-MR5-fr",
    "outputId": "b9867c73-471b-4a91-bc50-1fc29ec39946"
   },
   "outputs": [
    {
     "data": {
      "image/png": "[encoded data removed]",
      "text/plain": [
       "<Figure size 720x432 with 1 Axes>"
      ]
     },
     "metadata": {
      "needs_background": "light"
     },
     "output_type": "display_data"
    },
    {
     "name": "stdout",
     "output_type": "stream",
     "text": [
      "Средний ROI по году выпуска фильма:\n",
      "release_year\n",
      "2013     5.90\n",
      "2014    62.54\n",
      "2015    47.83\n",
      "2016    59.86\n",
      "2017   102.23\n",
      "2018   112.92\n",
      "2019    87.80\n",
      "Name: roi, dtype: float64\n"
     ]
    }
   ],
   "source": [
    "plt.figure(figsize=(10, 6))\n",
    "sns.barplot(x='release_year', y='roi', data=df)\n",
    "plt.title('Средний ROI по году выпуска фильма')\n",
    "plt.xlabel('Год выпуска')\n",
    "plt.ylabel('Средний ROI')\n",
    "plt.xticks(rotation=45)\n",
    "plt.show();\n",
    "\n",
    "release_year_roi = df.groupby('release_year')['roi'].mean()\n",
    "print('Средний ROI по году выпуска фильма:')\n",
    "print(release_year_roi);\n",
    "\n"
   ]
  },
  {
   "cell_type": "markdown",
   "metadata": {
    "id": "O8kkIpqf9An-"
   },
   "source": [
    "а основании представленной информации о среднем возврате инвестиций (ROI) по году выпуска фильмов можно сделать следующие выводы:\n",
    "\n",
    "1. В целом, с 2013 по 2018 год наблюдается тенденция к увеличению среднего ROI. Это может свидетельствовать об увеличении общего качества и коммерческой успешности фильмов в течение этих лет, а также, возможно, об улучшении эффективности маркетинга и продаж.\n",
    "\n",
    "2. 2013 год показывает наименьший средний ROI в размере 5.90%. Это может быть связано с менее успешными или менее коммерчески удачными проектами в этот год.\n",
    "\n",
    "3. 2018 год показывает самый высокий средний ROI, достигающий 112.92%. Это может говорить о наличии очень успешных и прибыльных фильмов, выпущенных в этом году, которые значительно повысили среднее значение.\n",
    "\n",
    "4. Несмотря на небольшой спад в 2019 году до 87.80%, средний ROI остается высоким, указывая на продолжающуюся коммерческую успешность фильмов."
   ]
  },
  {
   "cell_type": "code",
   "execution_count": null,
   "metadata": {
    "colab": {
     "base_uri": "https://localhost:8080/",
     "height": 1000
    },
    "id": "Qgv5AMlM2Wal",
    "outputId": "61e9457e-21fb-4c52-8ce8-56674bce6e00"
   },
   "outputs": [
    {
     "data": {
      "image/png": "[encoded data removed]",
      "text/plain": [
       "<Figure size 720x432 with 1 Axes>"
      ]
     },
     "metadata": {
      "needs_background": "light"
     },
     "output_type": "display_data"
    },
    {
     "name": "stdout",
     "output_type": "stream",
     "text": [
      "Средний ROI по возрастному ограничению фильма:\n",
      "age_restriction\n",
      "«0+»     44.17\n",
      "«12+»   101.13\n",
      "«16+»    61.85\n",
      "«18+»    24.95\n",
      "«6+»     89.52\n",
      "Name: roi, dtype: float64\n"
     ]
    }
   ],
   "source": [
    "plt.figure(figsize=(10, 6))\n",
    "sns.barplot(x='age_restriction', y='roi', data=df)\n",
    "plt.title('Средний ROI по возрастному ограничению фильма')\n",
    "plt.xlabel('Возрастное ограничение')\n",
    "plt.ylabel('Средний ROI')\n",
    "plt.xticks(rotation=90)\n",
    "plt.show();\n",
    "\n",
    "age_restriction_roi = df.groupby('age_restriction')['roi'].mean()\n",
    "print('Средний ROI по возрастному ограничению фильма:')\n",
    "print(age_restriction_roi);"
   ]
  },
  {
   "cell_type": "markdown",
   "metadata": {
    "id": "IARP5j0E9v6m"
   },
   "source": [
    "Из представленных возрастных ограничений фильмов, наибольший средний показатель Return on Investment (ROI) был достигнут для фильмов с возрастным ограничением “12+”, который составляет 101,13%. Это означает, что фильмы с таким возрастным ограничением привлекают больше всего инвестиций на каждый вложенный доллар.\n",
    "\n",
    "На втором месте по уровню ROI находится возрастное ограничение “6+”, с показателем 89,52%. На третьем месте - ограничение “16+” с ROI 61,85%. И последнее место занимает ограничение “18+”, где уровень ROI составляет всего 24,95%.\n",
    "\n",
    "Таким образом, можно предположить, что фильмы с возрастными ограничениями “6+” и “12+” являются наиболее популярными среди зрителей, что обеспечивает более высокий уровень инвестиций и доходов для киностудий."
   ]
  },
  {
   "cell_type": "markdown",
   "metadata": {
    "id": "V2gYwMcPgFyd"
   },
   "source": [
    "### Шаг 5. Напишите общий вывод"
   ]
  },
  {
   "cell_type": "markdown",
   "metadata": {
    "id": "AYRg3dzXgFye"
   },
   "source": [
    "Проделаная работа:\n",
    "1) В процессе выполнения данного проекта была проведена обширная работа по предварительной обработке и анализу двух наборов данных: moviesdata и showsdata. Наша цель состояла в объединении этих двух наборов данных для дальнейшего анализа, при этом оставаясь внимательными к устранению несоответствий, пропущенных значений и других взаимосвязей.\n",
    "\n",
    "2) Изначально, мы преобразовали столбец 'puNumber' из каждого набора данных в числовой формат, затем усилили эту конвертацию, изменяя тип данных на 'Int64'. Это обеспечило нам целостность и единообразие данных в этом ключевом поле, что было важным шагом перед последующим объединением двух наборов данных.\n",
    "\n",
    "3) Объединение было выполнено с использованием метода 'left', чтобы сохранить все строки из moviesdata и при этом успешно дополнить их информацией из showsdata. Это привело к созданию унифицированного набора данных, который мы затем могли использовать для глубокого анализа.\n",
    "\n",
    "4) Проводя предобработку данных, мы обнаружили и исправили некоторые проблемы, а именно, устранили пропуски, внесли корректировки в категориальные переменные, где заметили несогласованность в написании и использовании разделителей. При этом отметим, что благодаря внимательной проверке мы не выявили дублей в данных.\n",
    "\n",
    "5) В своей работе мы не ограничивались только предобработкой, но и расширили набор данных, создав новые столбцы, которые отражали важную информацию о главных режиссерах, жанре фильмов, их финансировании и показатель эффективности инвестиций. \n",
    "\n",
    "Результаты иследования:\n",
    "\n",
    "В целом, исследование показывает, что индустрия кино в России испытывает изменения в области доступности и прозрачности данных о кассовых сборах. Доля фильмов с известной информацией о прокате значительно выросла, но после 2017 года наблюдается небольшое снижение этой доли. Однако даже в 2019 году прозрачность индустрии в целом сохраняется.\n",
    "\n",
    "Кроме того, исследование показало, что объемы кассовых сборов фильмов имеют колебания в течение периода с 2010 по 2019 год. Средние и медианные кассовые сборы увеличиваются с годами, но некоторые фильмы имеют значительно более высокие результаты, чем большинство других.\n",
    "\n",
    "Возрастные ограничения оказывают значительное влияние на коммерческий успех фильма. Фильмы с возрастным ограничением \"12+\" и \"16+\" имеют более высокие кассовые сборы, что указывает на то, что эти возрастные группы являются наиболее привлекательными для зрителей. Тем не менее, фильмы с возрастным ограничением \"18+\" также показывают высокий коммерческий успех.\n",
    "\n",
    "Исходя из полученных результатов, можно сделать вывод, что индустрия кино в России продолжает развиваться и показывает хорошие результаты в кассовой сфере. Однако снижение доли фильмов с известной информацией о прокате после 2017 года может потребовать дальнейшего изучения и анализа влияния на процесс принятия решений в индустрии кино. Также важным аспектом является анализ и понимание предпочтений и поведения различных возрастных групп зрителей.\n",
    "\n",
    "Результаты иследования ПО ROI:\n",
    "\n",
    "Выводы об исследовании позволяют сделать предположение о том, что инвестиции в киноиндустрию являются значительными и способствуют развитию и поддержке как существующих, так и новых проектов. Средний ROI фильмов указывает на то, что в среднем фильмы окупают затраты, но некоторые фильмы показывают более высокую успешность и прибыльность, чем другие. Комедия, спорт, ужасы и мультфильмы являются самыми прибыльными жанрами, в то время как детектив, детский, мелодрама и мюзикл имеют низкую прибыльность. Анимационные фильмы показывают наивысший средний ROI, а художественные фильмы также окупаются, но не на таком высоком уровне, как анимационные фильмы. Также можно отметить, что в целом в период с 2013 по 2018 год наблюдается увеличение среднего ROI, что может свидетельствовать о росте качества и коммерческой успешности фильмов в течение этих лет.\n",
    "\n",
    "Заключение:\n",
    "\n",
    "Базируясь на вышеизложенных данных, можно сделать следующие важные выводы и рекомендации:\n",
    "\n",
    "1) Кассовые сборы: Из-за постоянно увеличивающихся кассовых сборов, киноиндустрия продолжает представлять собой привлекательное направление для инвестиций. Однако для успеха необходимо учитывать целый ряд факторов, включая возрастную аудиторию, время года выпуска и другие факторы.\n",
    "\n",
    "2) Возрастные ограничения: Ваш проект должен быть направлен на подходящую возрастную группу. Взрослая аудитория имеет возможности и склонности, которые делают фильмы для взрослых инвестиционно привлекательными.\n",
    "\n",
    "3) ROI: Глубинная аналитика по бюджету, возрасту, жанрам и годам может помочь выработать стратегию, которая максимизирует ROI. Некоторые жанры показали существенную прибыльность, которую можно использовать в пользу вашего проекта, но стоит помнить, что каждый проект является уникальным и требует индивидуального анализа.\n",
    "\n",
    "Наконец, весь этот анализ должен идти в руку с созданием качественного продукта. Несмотря на всю ценность данных, кино - это прежде всего искусство, и никакой анализ не заменит сильного сценария, талантливой режиссуры и отличной игры актеров. Инвестиции в эти элементы также важны для успеха вашего проекта."
   ]
  }
 ],
 "metadata": {
  "ExecuteTimeLog": [
   {
    "duration": 537,
    "start_time": "2021-07-07T10:12:08.634Z"
   },
   {
    "duration": 206,
    "start_time": "2021-07-07T10:12:30.191Z"
   },
   {
    "duration": 227,
    "start_time": "2021-07-07T10:12:33.078Z"
   },
   {
    "duration": 153,
    "start_time": "2021-07-07T10:13:42.146Z"
   },
   {
    "duration": 233,
    "start_time": "2021-07-07T10:30:09.252Z"
   },
   {
    "duration": 19,
    "start_time": "2021-07-07T10:30:15.577Z"
   },
   {
    "duration": 18,
    "start_time": "2021-07-07T10:30:57.348Z"
   },
   {
    "duration": 19,
    "start_time": "2021-07-07T10:31:17.452Z"
   },
   {
    "duration": 21,
    "start_time": "2021-07-07T10:31:32.227Z"
   },
   {
    "duration": 27,
    "start_time": "2021-07-07T10:32:06.588Z"
   },
   {
    "duration": 23,
    "start_time": "2021-07-07T10:32:43.645Z"
   },
   {
    "duration": 24,
    "start_time": "2021-07-07T10:33:06.948Z"
   },
   {
    "duration": 7,
    "start_time": "2021-07-07T10:33:28.558Z"
   },
   {
    "duration": 23,
    "start_time": "2021-07-07T10:33:43.761Z"
   },
   {
    "duration": 28,
    "start_time": "2021-07-07T10:34:13.466Z"
   },
   {
    "duration": 23,
    "start_time": "2021-07-07T10:35:56.187Z"
   },
   {
    "duration": 6,
    "start_time": "2021-07-07T10:36:48.182Z"
   },
   {
    "duration": 14,
    "start_time": "2021-07-07T10:37:49.641Z"
   },
   {
    "duration": 6,
    "start_time": "2021-07-07T10:38:06.694Z"
   },
   {
    "duration": 6,
    "start_time": "2021-07-07T10:38:13.493Z"
   },
   {
    "duration": 19,
    "start_time": "2021-07-07T10:38:44.056Z"
   },
   {
    "duration": 186,
    "start_time": "2021-07-07T10:48:35.618Z"
   },
   {
    "duration": 24,
    "start_time": "2021-07-07T10:48:51.498Z"
   },
   {
    "duration": 20,
    "start_time": "2021-07-07T10:48:59.415Z"
   },
   {
    "duration": 20,
    "start_time": "2021-07-07T10:53:02.195Z"
   },
   {
    "duration": 188,
    "start_time": "2021-07-07T10:54:40.486Z"
   },
   {
    "duration": 115,
    "start_time": "2021-07-07T10:54:52.552Z"
   },
   {
    "duration": 214,
    "start_time": "2021-07-07T10:54:56.354Z"
   },
   {
    "duration": 47,
    "start_time": "2021-07-07T10:54:58.282Z"
   },
   {
    "duration": 217,
    "start_time": "2021-07-07T10:59:16.075Z"
   },
   {
    "duration": 51,
    "start_time": "2021-07-07T10:59:16.243Z"
   },
   {
    "duration": 578,
    "start_time": "2021-07-07T10:59:18.774Z"
   },
   {
    "duration": 161,
    "start_time": "2021-07-07T10:59:21.238Z"
   },
   {
    "duration": 59,
    "start_time": "2021-07-07T10:59:21.453Z"
   },
   {
    "duration": 3,
    "start_time": "2021-07-07T11:02:10.786Z"
   },
   {
    "duration": 13,
    "start_time": "2021-07-07T11:07:07.722Z"
   },
   {
    "duration": 26,
    "start_time": "2021-07-07T11:07:17.958Z"
   },
   {
    "duration": 22,
    "start_time": "2021-07-07T11:08:17.939Z"
   },
   {
    "duration": 212,
    "start_time": "2021-07-07T11:08:19.665Z"
   },
   {
    "duration": 21,
    "start_time": "2021-07-07T11:08:29.945Z"
   },
   {
    "duration": 31,
    "start_time": "2021-07-07T11:08:38.899Z"
   },
   {
    "duration": 23,
    "start_time": "2021-07-07T11:08:54.527Z"
   },
   {
    "duration": 8,
    "start_time": "2021-07-07T11:18:55.974Z"
   },
   {
    "duration": 7,
    "start_time": "2021-07-07T11:19:03.639Z"
   },
   {
    "duration": 7,
    "start_time": "2021-07-07T11:19:06.444Z"
   },
   {
    "duration": 578,
    "start_time": "2021-07-07T12:09:59.576Z"
   },
   {
    "duration": 195,
    "start_time": "2021-07-07T12:10:00.156Z"
   },
   {
    "duration": 115,
    "start_time": "2021-07-07T12:10:00.353Z"
   },
   {
    "duration": 3,
    "start_time": "2021-07-07T12:10:00.470Z"
   },
   {
    "duration": 32,
    "start_time": "2021-07-07T12:10:00.474Z"
   },
   {
    "duration": 23,
    "start_time": "2021-07-07T12:10:00.508Z"
   },
   {
    "duration": 19,
    "start_time": "2021-07-07T12:10:00.533Z"
   },
   {
    "duration": 44,
    "start_time": "2021-07-07T12:10:00.553Z"
   },
   {
    "duration": 7,
    "start_time": "2021-07-07T12:10:00.600Z"
   },
   {
    "duration": 7,
    "start_time": "2021-07-07T12:19:45.761Z"
   },
   {
    "duration": 21,
    "start_time": "2021-07-07T12:21:35.482Z"
   },
   {
    "duration": 21,
    "start_time": "2021-07-07T12:29:23.569Z"
   },
   {
    "duration": 525,
    "start_time": "2021-07-07T12:29:44.542Z"
   },
   {
    "duration": 214,
    "start_time": "2021-07-07T12:29:45.069Z"
   },
   {
    "duration": 92,
    "start_time": "2021-07-07T12:29:45.285Z"
   },
   {
    "duration": 3,
    "start_time": "2021-07-07T12:29:45.379Z"
   },
   {
    "duration": 28,
    "start_time": "2021-07-07T12:29:45.384Z"
   },
   {
    "duration": 23,
    "start_time": "2021-07-07T12:29:45.413Z"
   },
   {
    "duration": 21,
    "start_time": "2021-07-07T12:29:45.437Z"
   },
   {
    "duration": 41,
    "start_time": "2021-07-07T12:29:45.460Z"
   },
   {
    "duration": 7,
    "start_time": "2021-07-07T12:29:45.502Z"
   },
   {
    "duration": 20,
    "start_time": "2021-07-07T12:29:45.511Z"
   },
   {
    "duration": 12,
    "start_time": "2021-07-07T12:34:02.800Z"
   },
   {
    "duration": 7,
    "start_time": "2021-07-07T12:35:10.479Z"
   },
   {
    "duration": 8,
    "start_time": "2021-07-07T12:35:22.440Z"
   },
   {
    "duration": 6,
    "start_time": "2021-07-07T12:35:35.649Z"
   },
   {
    "duration": 6,
    "start_time": "2021-07-07T12:35:43.107Z"
   },
   {
    "duration": 22,
    "start_time": "2021-07-07T12:38:03.029Z"
   },
   {
    "duration": 10,
    "start_time": "2021-07-07T12:38:06.592Z"
   },
   {
    "duration": 563,
    "start_time": "2021-07-07T12:38:46.493Z"
   },
   {
    "duration": 265,
    "start_time": "2021-07-07T12:38:47.058Z"
   },
   {
    "duration": 94,
    "start_time": "2021-07-07T12:38:47.325Z"
   },
   {
    "duration": 3,
    "start_time": "2021-07-07T12:38:47.422Z"
   },
   {
    "duration": 30,
    "start_time": "2021-07-07T12:38:47.427Z"
   },
   {
    "duration": 16,
    "start_time": "2021-07-07T12:38:53.305Z"
   },
   {
    "duration": 10,
    "start_time": "2021-07-07T12:38:53.499Z"
   },
   {
    "duration": 8,
    "start_time": "2021-07-07T12:39:48.161Z"
   },
   {
    "duration": 27,
    "start_time": "2021-07-07T12:41:17.629Z"
   },
   {
    "duration": 17,
    "start_time": "2021-07-07T12:41:17.867Z"
   },
   {
    "duration": 21,
    "start_time": "2021-07-07T12:41:19.310Z"
   },
   {
    "duration": 7,
    "start_time": "2021-07-07T12:41:19.544Z"
   },
   {
    "duration": 20,
    "start_time": "2021-07-07T12:41:20.504Z"
   },
   {
    "duration": 554,
    "start_time": "2021-07-07T12:56:23.696Z"
   },
   {
    "duration": 200,
    "start_time": "2021-07-07T12:56:25.234Z"
   },
   {
    "duration": 119,
    "start_time": "2021-07-07T12:56:25.480Z"
   },
   {
    "duration": 4,
    "start_time": "2021-07-07T12:56:25.762Z"
   },
   {
    "duration": 26,
    "start_time": "2021-07-07T12:56:27.172Z"
   },
   {
    "duration": 12,
    "start_time": "2021-07-07T12:56:29.051Z"
   },
   {
    "duration": 10,
    "start_time": "2021-07-07T12:56:29.291Z"
   },
   {
    "duration": 8,
    "start_time": "2021-07-07T12:56:29.623Z"
   },
   {
    "duration": 28,
    "start_time": "2021-07-07T12:56:32.137Z"
   },
   {
    "duration": 19,
    "start_time": "2021-07-07T12:56:39.785Z"
   },
   {
    "duration": 20,
    "start_time": "2021-07-07T12:56:44.297Z"
   },
   {
    "duration": 7,
    "start_time": "2021-07-07T12:56:45.392Z"
   },
   {
    "duration": 23,
    "start_time": "2021-07-07T12:56:46.615Z"
   },
   {
    "duration": 4,
    "start_time": "2021-07-07T12:57:06.625Z"
   },
   {
    "duration": 32,
    "start_time": "2021-07-07T12:57:36.690Z"
   },
   {
    "duration": 18,
    "start_time": "2021-07-07T12:58:00.149Z"
   },
   {
    "duration": 15,
    "start_time": "2021-07-07T12:59:16.793Z"
   },
   {
    "duration": 7,
    "start_time": "2021-07-07T13:19:22.624Z"
   },
   {
    "duration": 6,
    "start_time": "2021-07-07T14:17:33.527Z"
   },
   {
    "duration": 9,
    "start_time": "2021-07-07T14:17:48.409Z"
   },
   {
    "duration": 8,
    "start_time": "2021-07-07T14:20:13.060Z"
   },
   {
    "duration": 8,
    "start_time": "2021-07-07T14:20:37.957Z"
   },
   {
    "duration": 8,
    "start_time": "2021-07-07T14:20:47.470Z"
   },
   {
    "duration": 9,
    "start_time": "2021-07-07T14:20:54.503Z"
   },
   {
    "duration": 10,
    "start_time": "2021-07-07T14:28:57.763Z"
   },
   {
    "duration": 3,
    "start_time": "2021-07-07T14:30:23.377Z"
   },
   {
    "duration": 3,
    "start_time": "2021-07-07T14:30:36.489Z"
   },
   {
    "duration": 103,
    "start_time": "2021-07-07T14:30:52.351Z"
   },
   {
    "duration": 8,
    "start_time": "2021-07-07T14:30:54.763Z"
   },
   {
    "duration": 8,
    "start_time": "2021-07-07T14:31:29.301Z"
   },
   {
    "duration": 13,
    "start_time": "2021-07-07T14:31:44.516Z"
   },
   {
    "duration": 7,
    "start_time": "2021-07-07T14:33:10.972Z"
   },
   {
    "duration": 11,
    "start_time": "2021-07-07T14:33:27.780Z"
   },
   {
    "duration": 8,
    "start_time": "2021-07-07T14:34:44.588Z"
   },
   {
    "duration": 57,
    "start_time": "2021-07-07T14:35:59.042Z"
   },
   {
    "duration": 3,
    "start_time": "2021-07-07T14:36:28.168Z"
   },
   {
    "duration": 5,
    "start_time": "2021-07-07T14:36:46.254Z"
   },
   {
    "duration": 4,
    "start_time": "2021-07-07T14:36:52.714Z"
   },
   {
    "duration": 3,
    "start_time": "2021-07-07T14:36:56.612Z"
   },
   {
    "duration": 4,
    "start_time": "2021-07-07T14:36:57.049Z"
   },
   {
    "duration": 3,
    "start_time": "2021-07-07T14:39:21.214Z"
   },
   {
    "duration": 7,
    "start_time": "2021-07-07T14:39:52.406Z"
   },
   {
    "duration": 11,
    "start_time": "2021-07-07T14:39:58.576Z"
   },
   {
    "duration": 9,
    "start_time": "2021-07-07T14:40:26.301Z"
   },
   {
    "duration": 10,
    "start_time": "2021-07-07T14:40:31.704Z"
   },
   {
    "duration": 11,
    "start_time": "2021-07-07T14:40:36.249Z"
   },
   {
    "duration": 10,
    "start_time": "2021-07-07T14:40:39.783Z"
   },
   {
    "duration": 9,
    "start_time": "2021-07-07T14:40:48.558Z"
   },
   {
    "duration": 10,
    "start_time": "2021-07-07T14:40:57.143Z"
   },
   {
    "duration": 9,
    "start_time": "2021-07-07T14:41:06.074Z"
   },
   {
    "duration": 4324,
    "start_time": "2021-07-07T14:41:22.004Z"
   },
   {
    "duration": 11,
    "start_time": "2021-07-07T14:41:33.392Z"
   },
   {
    "duration": 9,
    "start_time": "2021-07-07T14:41:39.288Z"
   },
   {
    "duration": 569,
    "start_time": "2021-07-07T14:42:14.387Z"
   },
   {
    "duration": 197,
    "start_time": "2021-07-07T14:42:14.959Z"
   },
   {
    "duration": 84,
    "start_time": "2021-07-07T14:42:16.052Z"
   },
   {
    "duration": 4,
    "start_time": "2021-07-07T14:42:16.900Z"
   },
   {
    "duration": 27,
    "start_time": "2021-07-07T14:42:19.898Z"
   },
   {
    "duration": 12,
    "start_time": "2021-07-07T14:42:21.577Z"
   },
   {
    "duration": 9,
    "start_time": "2021-07-07T14:42:21.813Z"
   },
   {
    "duration": 9,
    "start_time": "2021-07-07T14:42:22.569Z"
   },
   {
    "duration": 29,
    "start_time": "2021-07-07T14:42:25.837Z"
   },
   {
    "duration": 20,
    "start_time": "2021-07-07T14:42:27.003Z"
   },
   {
    "duration": 21,
    "start_time": "2021-07-07T14:42:28.767Z"
   },
   {
    "duration": 7,
    "start_time": "2021-07-07T14:42:29.838Z"
   },
   {
    "duration": 4,
    "start_time": "2021-07-07T14:43:25.493Z"
   },
   {
    "duration": 7,
    "start_time": "2021-07-07T14:43:26.573Z"
   },
   {
    "duration": 10,
    "start_time": "2021-07-07T14:43:31.639Z"
   },
   {
    "duration": 9,
    "start_time": "2021-07-07T14:43:32.046Z"
   },
   {
    "duration": 10,
    "start_time": "2021-07-07T14:43:33.301Z"
   },
   {
    "duration": 12,
    "start_time": "2021-07-07T14:43:33.658Z"
   },
   {
    "duration": 8,
    "start_time": "2021-07-07T14:43:34.552Z"
   },
   {
    "duration": 9,
    "start_time": "2021-07-07T14:43:35.058Z"
   },
   {
    "duration": 12,
    "start_time": "2021-07-07T14:43:35.914Z"
   },
   {
    "duration": 17,
    "start_time": "2021-07-07T14:45:34.368Z"
   },
   {
    "duration": 512,
    "start_time": "2021-07-07T14:51:58.236Z"
   },
   {
    "duration": 223,
    "start_time": "2021-07-07T14:51:58.750Z"
   },
   {
    "duration": 93,
    "start_time": "2021-07-07T14:51:58.977Z"
   },
   {
    "duration": 4,
    "start_time": "2021-07-07T14:51:59.071Z"
   },
   {
    "duration": 37,
    "start_time": "2021-07-07T14:51:59.077Z"
   },
   {
    "duration": 18,
    "start_time": "2021-07-07T14:51:59.116Z"
   },
   {
    "duration": 10,
    "start_time": "2021-07-07T14:51:59.137Z"
   },
   {
    "duration": 8,
    "start_time": "2021-07-07T14:51:59.149Z"
   },
   {
    "duration": 54,
    "start_time": "2021-07-07T14:51:59.158Z"
   },
   {
    "duration": 18,
    "start_time": "2021-07-07T14:51:59.213Z"
   },
   {
    "duration": 22,
    "start_time": "2021-07-07T14:51:59.232Z"
   },
   {
    "duration": 36,
    "start_time": "2021-07-07T14:51:59.255Z"
   },
   {
    "duration": 7,
    "start_time": "2021-07-07T14:51:59.293Z"
   },
   {
    "duration": 10,
    "start_time": "2021-07-07T14:51:59.302Z"
   },
   {
    "duration": 9,
    "start_time": "2021-07-07T14:51:59.313Z"
   },
   {
    "duration": 11,
    "start_time": "2021-07-07T14:51:59.324Z"
   },
   {
    "duration": 8,
    "start_time": "2021-07-07T14:51:59.337Z"
   },
   {
    "duration": 46,
    "start_time": "2021-07-07T14:51:59.347Z"
   },
   {
    "duration": 22,
    "start_time": "2021-07-07T14:51:59.395Z"
   },
   {
    "duration": 24,
    "start_time": "2021-07-07T14:57:32.911Z"
   },
   {
    "duration": 7,
    "start_time": "2021-07-07T14:58:22.070Z"
   },
   {
    "duration": 4,
    "start_time": "2021-07-07T14:59:11.239Z"
   },
   {
    "duration": 25,
    "start_time": "2021-07-07T15:07:22.208Z"
   },
   {
    "duration": 16,
    "start_time": "2021-07-07T15:08:25.560Z"
   },
   {
    "duration": 15,
    "start_time": "2021-07-07T15:08:40.647Z"
   },
   {
    "duration": 14,
    "start_time": "2021-07-07T15:08:46.669Z"
   },
   {
    "duration": 533,
    "start_time": "2021-07-07T15:18:07.440Z"
   },
   {
    "duration": 173,
    "start_time": "2021-07-07T15:18:07.974Z"
   },
   {
    "duration": 84,
    "start_time": "2021-07-07T15:18:08.149Z"
   },
   {
    "duration": 3,
    "start_time": "2021-07-07T15:18:08.235Z"
   },
   {
    "duration": 30,
    "start_time": "2021-07-07T15:18:08.240Z"
   },
   {
    "duration": 22,
    "start_time": "2021-07-07T15:18:08.272Z"
   },
   {
    "duration": 11,
    "start_time": "2021-07-07T15:18:08.295Z"
   },
   {
    "duration": 11,
    "start_time": "2021-07-07T15:18:08.309Z"
   },
   {
    "duration": 40,
    "start_time": "2021-07-07T15:18:08.322Z"
   },
   {
    "duration": 42,
    "start_time": "2021-07-07T15:18:08.364Z"
   },
   {
    "duration": 22,
    "start_time": "2021-07-07T15:18:08.408Z"
   },
   {
    "duration": 5,
    "start_time": "2021-07-07T15:18:08.432Z"
   },
   {
    "duration": 13,
    "start_time": "2021-07-07T15:18:08.439Z"
   },
   {
    "duration": 9,
    "start_time": "2021-07-07T15:18:08.454Z"
   },
   {
    "duration": 32,
    "start_time": "2021-07-07T15:18:08.465Z"
   },
   {
    "duration": 10,
    "start_time": "2021-07-07T15:18:08.501Z"
   },
   {
    "duration": 7,
    "start_time": "2021-07-07T15:18:08.513Z"
   },
   {
    "duration": 11,
    "start_time": "2021-07-07T15:18:08.521Z"
   },
   {
    "duration": 17,
    "start_time": "2021-07-07T15:18:08.534Z"
   },
   {
    "duration": 44,
    "start_time": "2021-07-07T15:18:08.553Z"
   },
   {
    "duration": 22,
    "start_time": "2021-07-07T15:18:08.599Z"
   },
   {
    "duration": 61,
    "start_time": "2021-07-07T15:18:08.622Z"
   },
   {
    "duration": 7,
    "start_time": "2021-07-07T15:18:39.457Z"
   },
   {
    "duration": 5,
    "start_time": "2021-07-07T16:05:17.020Z"
   },
   {
    "duration": 5,
    "start_time": "2021-07-07T16:51:28.794Z"
   },
   {
    "duration": 546,
    "start_time": "2021-07-07T16:52:26.306Z"
   },
   {
    "duration": 203,
    "start_time": "2021-07-07T16:52:27.523Z"
   },
   {
    "duration": 85,
    "start_time": "2021-07-07T16:52:27.736Z"
   },
   {
    "duration": 4,
    "start_time": "2021-07-07T16:52:27.899Z"
   },
   {
    "duration": 25,
    "start_time": "2021-07-07T16:52:28.674Z"
   },
   {
    "duration": 8,
    "start_time": "2021-07-07T16:52:32.956Z"
   },
   {
    "duration": 18,
    "start_time": "2021-07-07T16:52:35.616Z"
   },
   {
    "duration": 6,
    "start_time": "2021-07-07T16:52:36.913Z"
   },
   {
    "duration": 11,
    "start_time": "2021-07-07T16:52:40.258Z"
   },
   {
    "duration": 10,
    "start_time": "2021-07-07T16:52:46.251Z"
   },
   {
    "duration": 8,
    "start_time": "2021-07-07T16:52:47.182Z"
   },
   {
    "duration": 27,
    "start_time": "2021-07-07T16:53:20.391Z"
   },
   {
    "duration": 20,
    "start_time": "2021-07-07T16:53:22.022Z"
   },
   {
    "duration": 23,
    "start_time": "2021-07-07T16:53:23.690Z"
   },
   {
    "duration": 8,
    "start_time": "2021-07-07T16:53:24.261Z"
   },
   {
    "duration": 4,
    "start_time": "2021-07-07T16:53:38.733Z"
   },
   {
    "duration": 7,
    "start_time": "2021-07-07T16:53:40.445Z"
   },
   {
    "duration": 11,
    "start_time": "2021-07-07T16:53:41.348Z"
   },
   {
    "duration": 13,
    "start_time": "2021-07-07T16:53:45.250Z"
   },
   {
    "duration": 12,
    "start_time": "2021-07-07T16:53:45.467Z"
   },
   {
    "duration": 4,
    "start_time": "2021-07-07T16:55:32.704Z"
   },
   {
    "duration": 12,
    "start_time": "2021-07-07T16:55:49.012Z"
   },
   {
    "duration": 18,
    "start_time": "2021-07-07T16:55:49.547Z"
   },
   {
    "duration": 611,
    "start_time": "2021-07-07T16:58:35.156Z"
   },
   {
    "duration": 200,
    "start_time": "2021-07-07T16:58:35.770Z"
   },
   {
    "duration": 86,
    "start_time": "2021-07-07T16:58:35.972Z"
   },
   {
    "duration": 3,
    "start_time": "2021-07-07T16:58:36.060Z"
   },
   {
    "duration": 27,
    "start_time": "2021-07-07T16:58:36.065Z"
   },
   {
    "duration": 8,
    "start_time": "2021-07-07T16:58:36.094Z"
   },
   {
    "duration": 17,
    "start_time": "2021-07-07T16:58:36.103Z"
   },
   {
    "duration": 5,
    "start_time": "2021-07-07T16:58:36.123Z"
   },
   {
    "duration": 11,
    "start_time": "2021-07-07T16:58:36.130Z"
   },
   {
    "duration": 7,
    "start_time": "2021-07-07T16:58:36.143Z"
   },
   {
    "duration": 37,
    "start_time": "2021-07-07T16:58:36.152Z"
   },
   {
    "duration": 27,
    "start_time": "2021-07-07T16:58:36.191Z"
   },
   {
    "duration": 19,
    "start_time": "2021-07-07T16:58:36.219Z"
   },
   {
    "duration": 49,
    "start_time": "2021-07-07T16:58:36.240Z"
   },
   {
    "duration": 6,
    "start_time": "2021-07-07T16:58:36.291Z"
   },
   {
    "duration": 3,
    "start_time": "2021-07-07T16:58:36.299Z"
   },
   {
    "duration": 13,
    "start_time": "2021-07-07T16:58:36.304Z"
   },
   {
    "duration": 10,
    "start_time": "2021-07-07T16:58:36.319Z"
   },
   {
    "duration": 10,
    "start_time": "2021-07-07T16:58:36.331Z"
   },
   {
    "duration": 44,
    "start_time": "2021-07-07T16:58:36.343Z"
   },
   {
    "duration": 4,
    "start_time": "2021-07-07T16:58:36.388Z"
   },
   {
    "duration": 13,
    "start_time": "2021-07-07T16:58:36.394Z"
   },
   {
    "duration": 16,
    "start_time": "2021-07-07T16:58:36.410Z"
   },
   {
    "duration": 8,
    "start_time": "2021-07-07T17:02:31.629Z"
   },
   {
    "duration": 8,
    "start_time": "2021-07-07T17:02:34.308Z"
   },
   {
    "duration": 6,
    "start_time": "2021-07-07T17:05:13.483Z"
   },
   {
    "duration": 17,
    "start_time": "2021-07-07T17:05:20.606Z"
   },
   {
    "duration": 7,
    "start_time": "2021-07-07T17:05:34.638Z"
   },
   {
    "duration": 3,
    "start_time": "2021-07-07T17:06:31.883Z"
   },
   {
    "duration": 570,
    "start_time": "2021-07-07T17:06:37.165Z"
   },
   {
    "duration": 174,
    "start_time": "2021-07-07T17:06:37.737Z"
   },
   {
    "duration": 47,
    "start_time": "2021-07-07T17:06:37.913Z"
   },
   {
    "duration": 3,
    "start_time": "2021-07-07T17:06:37.962Z"
   },
   {
    "duration": 27,
    "start_time": "2021-07-07T17:06:37.967Z"
   },
   {
    "duration": 7,
    "start_time": "2021-07-07T17:06:37.996Z"
   },
   {
    "duration": 16,
    "start_time": "2021-07-07T17:06:38.005Z"
   },
   {
    "duration": 6,
    "start_time": "2021-07-07T17:06:38.024Z"
   },
   {
    "duration": 12,
    "start_time": "2021-07-07T17:06:38.031Z"
   },
   {
    "duration": 41,
    "start_time": "2021-07-07T17:06:38.045Z"
   },
   {
    "duration": 8,
    "start_time": "2021-07-07T17:06:38.088Z"
   },
   {
    "duration": 26,
    "start_time": "2021-07-07T17:06:38.098Z"
   },
   {
    "duration": 17,
    "start_time": "2021-07-07T17:06:38.126Z"
   },
   {
    "duration": 43,
    "start_time": "2021-07-07T17:06:38.144Z"
   },
   {
    "duration": 6,
    "start_time": "2021-07-07T17:06:38.188Z"
   },
   {
    "duration": 5,
    "start_time": "2021-07-07T17:06:38.195Z"
   },
   {
    "duration": 9,
    "start_time": "2021-07-07T17:06:38.201Z"
   },
   {
    "duration": 12,
    "start_time": "2021-07-07T17:06:38.212Z"
   },
   {
    "duration": 11,
    "start_time": "2021-07-07T17:06:38.226Z"
   },
   {
    "duration": 47,
    "start_time": "2021-07-07T17:06:38.239Z"
   },
   {
    "duration": 4,
    "start_time": "2021-07-07T17:06:38.288Z"
   },
   {
    "duration": 13,
    "start_time": "2021-07-07T17:06:38.293Z"
   },
   {
    "duration": 5,
    "start_time": "2021-07-07T17:06:38.309Z"
   },
   {
    "duration": 18,
    "start_time": "2021-07-07T17:06:38.325Z"
   },
   {
    "duration": 20,
    "start_time": "2021-07-07T17:07:02.805Z"
   },
   {
    "duration": 19,
    "start_time": "2021-07-07T17:07:08.527Z"
   },
   {
    "duration": 19,
    "start_time": "2021-07-07T17:07:12.758Z"
   },
   {
    "duration": 22,
    "start_time": "2021-07-07T17:07:17.497Z"
   },
   {
    "duration": 19,
    "start_time": "2021-07-07T17:07:19.645Z"
   },
   {
    "duration": 10,
    "start_time": "2021-07-07T17:07:34.239Z"
   },
   {
    "duration": 17,
    "start_time": "2021-07-07T17:07:54.144Z"
   },
   {
    "duration": 14,
    "start_time": "2021-07-07T17:08:14.357Z"
   },
   {
    "duration": 616,
    "start_time": "2021-07-07T17:08:45.254Z"
   },
   {
    "duration": 178,
    "start_time": "2021-07-07T17:08:45.872Z"
   },
   {
    "duration": 60,
    "start_time": "2021-07-07T17:08:46.054Z"
   },
   {
    "duration": 3,
    "start_time": "2021-07-07T17:08:46.116Z"
   },
   {
    "duration": 26,
    "start_time": "2021-07-07T17:08:46.121Z"
   },
   {
    "duration": 7,
    "start_time": "2021-07-07T17:08:46.149Z"
   },
   {
    "duration": 17,
    "start_time": "2021-07-07T17:08:46.158Z"
   },
   {
    "duration": 14,
    "start_time": "2021-07-07T17:08:46.176Z"
   },
   {
    "duration": 17,
    "start_time": "2021-07-07T17:08:46.193Z"
   },
   {
    "duration": 9,
    "start_time": "2021-07-07T17:08:46.211Z"
   },
   {
    "duration": 21,
    "start_time": "2021-07-07T17:08:46.221Z"
   },
   {
    "duration": 49,
    "start_time": "2021-07-07T17:08:46.244Z"
   },
   {
    "duration": 24,
    "start_time": "2021-07-07T17:08:46.295Z"
   },
   {
    "duration": 22,
    "start_time": "2021-07-07T17:08:46.321Z"
   },
   {
    "duration": 6,
    "start_time": "2021-07-07T17:08:46.345Z"
   },
   {
    "duration": 5,
    "start_time": "2021-07-07T17:08:46.353Z"
   },
   {
    "duration": 13,
    "start_time": "2021-07-07T17:08:46.386Z"
   },
   {
    "duration": 12,
    "start_time": "2021-07-07T17:08:46.402Z"
   },
   {
    "duration": 10,
    "start_time": "2021-07-07T17:08:46.415Z"
   },
   {
    "duration": 7,
    "start_time": "2021-07-07T17:08:46.427Z"
   },
   {
    "duration": 8,
    "start_time": "2021-07-07T17:08:46.435Z"
   },
   {
    "duration": 68,
    "start_time": "2021-07-07T17:08:46.446Z"
   },
   {
    "duration": 13,
    "start_time": "2021-07-07T17:08:46.516Z"
   },
   {
    "duration": 78,
    "start_time": "2021-07-07T17:08:46.530Z"
   },
   {
    "duration": 40,
    "start_time": "2021-07-07T17:09:08.185Z"
   },
   {
    "duration": 16,
    "start_time": "2021-07-07T17:09:19.324Z"
   },
   {
    "duration": 21,
    "start_time": "2021-07-07T17:09:23.290Z"
   },
   {
    "duration": 13,
    "start_time": "2021-07-07T17:09:54.812Z"
   },
   {
    "duration": 13,
    "start_time": "2021-07-07T17:10:02.039Z"
   },
   {
    "duration": 10,
    "start_time": "2021-07-07T17:10:29.632Z"
   },
   {
    "duration": 13,
    "start_time": "2021-07-07T17:10:52.372Z"
   },
   {
    "duration": 13,
    "start_time": "2021-07-07T17:11:17.270Z"
   },
   {
    "duration": 13,
    "start_time": "2021-07-07T17:14:59.284Z"
   },
   {
    "duration": 547,
    "start_time": "2021-07-07T17:18:52.403Z"
   },
   {
    "duration": 163,
    "start_time": "2021-07-07T17:18:52.952Z"
   },
   {
    "duration": 44,
    "start_time": "2021-07-07T17:18:53.117Z"
   },
   {
    "duration": 3,
    "start_time": "2021-07-07T17:18:53.162Z"
   },
   {
    "duration": 26,
    "start_time": "2021-07-07T17:18:53.167Z"
   },
   {
    "duration": 6,
    "start_time": "2021-07-07T17:18:53.195Z"
   },
   {
    "duration": 15,
    "start_time": "2021-07-07T17:18:53.203Z"
   },
   {
    "duration": 5,
    "start_time": "2021-07-07T17:18:53.220Z"
   },
   {
    "duration": 11,
    "start_time": "2021-07-07T17:18:53.228Z"
   },
   {
    "duration": 9,
    "start_time": "2021-07-07T17:18:53.241Z"
   },
   {
    "duration": 41,
    "start_time": "2021-07-07T17:18:53.252Z"
   },
   {
    "duration": 33,
    "start_time": "2021-07-07T17:18:53.295Z"
   },
   {
    "duration": 19,
    "start_time": "2021-07-07T17:18:53.330Z"
   },
   {
    "duration": 49,
    "start_time": "2021-07-07T17:18:53.350Z"
   },
   {
    "duration": 5,
    "start_time": "2021-07-07T17:18:53.401Z"
   },
   {
    "duration": 5,
    "start_time": "2021-07-07T17:18:53.408Z"
   },
   {
    "duration": 11,
    "start_time": "2021-07-07T17:18:53.414Z"
   },
   {
    "duration": 9,
    "start_time": "2021-07-07T17:18:53.427Z"
   },
   {
    "duration": 10,
    "start_time": "2021-07-07T17:18:53.437Z"
   },
   {
    "duration": 39,
    "start_time": "2021-07-07T17:18:53.448Z"
   },
   {
    "duration": 26,
    "start_time": "2021-07-07T17:18:55.799Z"
   },
   {
    "duration": 598,
    "start_time": "2021-07-07T17:20:17.862Z"
   },
   {
    "duration": 161,
    "start_time": "2021-07-07T17:20:18.462Z"
   },
   {
    "duration": 45,
    "start_time": "2021-07-07T17:20:18.626Z"
   },
   {
    "duration": 4,
    "start_time": "2021-07-07T17:20:18.673Z"
   },
   {
    "duration": 38,
    "start_time": "2021-07-07T17:20:26.877Z"
   },
   {
    "duration": 7,
    "start_time": "2021-07-07T17:20:37.405Z"
   },
   {
    "duration": 19,
    "start_time": "2021-07-07T17:20:51.534Z"
   },
   {
    "duration": 5,
    "start_time": "2021-07-07T17:20:57.228Z"
   },
   {
    "duration": 7,
    "start_time": "2021-07-07T17:21:08.235Z"
   },
   {
    "duration": 19,
    "start_time": "2021-07-07T17:21:42.158Z"
   },
   {
    "duration": 14,
    "start_time": "2021-07-07T17:21:50.225Z"
   },
   {
    "duration": 22,
    "start_time": "2021-07-07T17:22:54.104Z"
   },
   {
    "duration": 5,
    "start_time": "2021-07-07T17:22:56.371Z"
   },
   {
    "duration": 14,
    "start_time": "2021-07-07T17:22:58.316Z"
   },
   {
    "duration": 5,
    "start_time": "2021-07-07T17:22:58.493Z"
   },
   {
    "duration": 35,
    "start_time": "2021-07-07T17:22:59.666Z"
   },
   {
    "duration": 6,
    "start_time": "2021-07-07T17:23:02.410Z"
   },
   {
    "duration": 611,
    "start_time": "2021-07-07T17:24:59.664Z"
   },
   {
    "duration": 178,
    "start_time": "2021-07-07T17:25:01.945Z"
   },
   {
    "duration": 47,
    "start_time": "2021-07-07T17:25:02.125Z"
   },
   {
    "duration": 2,
    "start_time": "2021-07-07T17:25:07.903Z"
   },
   {
    "duration": 254,
    "start_time": "2021-07-07T17:25:08.232Z"
   },
   {
    "duration": 182,
    "start_time": "2021-07-07T17:25:08.671Z"
   },
   {
    "duration": 6,
    "start_time": "2021-07-07T17:25:13.104Z"
   },
   {
    "duration": 36,
    "start_time": "2021-07-07T17:25:13.662Z"
   },
   {
    "duration": 7,
    "start_time": "2021-07-07T17:25:14.528Z"
   },
   {
    "duration": 24,
    "start_time": "2021-07-07T17:25:27.982Z"
   },
   {
    "duration": 3,
    "start_time": "2021-07-07T17:25:48.982Z"
   },
   {
    "duration": 165,
    "start_time": "2021-07-07T17:25:48.987Z"
   },
   {
    "duration": 50,
    "start_time": "2021-07-07T17:25:49.154Z"
   },
   {
    "duration": 4,
    "start_time": "2021-07-07T17:25:49.206Z"
   },
   {
    "duration": 26,
    "start_time": "2021-07-07T17:25:49.212Z"
   },
   {
    "duration": 7,
    "start_time": "2021-07-07T17:25:49.240Z"
   },
   {
    "duration": 16,
    "start_time": "2021-07-07T17:25:49.249Z"
   },
   {
    "duration": 22,
    "start_time": "2021-07-07T17:25:49.266Z"
   },
   {
    "duration": 16,
    "start_time": "2021-07-07T17:25:49.291Z"
   },
   {
    "duration": 9,
    "start_time": "2021-07-07T17:25:49.309Z"
   },
   {
    "duration": 7,
    "start_time": "2021-07-07T17:25:49.319Z"
   },
   {
    "duration": 28,
    "start_time": "2021-07-07T17:25:49.328Z"
   },
   {
    "duration": 44,
    "start_time": "2021-07-07T17:25:49.357Z"
   },
   {
    "duration": 22,
    "start_time": "2021-07-07T17:25:49.403Z"
   },
   {
    "duration": 7,
    "start_time": "2021-07-07T17:25:49.427Z"
   },
   {
    "duration": 3,
    "start_time": "2021-07-07T17:25:49.436Z"
   },
   {
    "duration": 44,
    "start_time": "2021-07-07T17:25:49.441Z"
   },
   {
    "duration": 12,
    "start_time": "2021-07-07T17:25:49.488Z"
   },
   {
    "duration": 13,
    "start_time": "2021-07-07T17:25:49.502Z"
   },
   {
    "duration": 10,
    "start_time": "2021-07-07T17:25:49.516Z"
   },
   {
    "duration": 62,
    "start_time": "2021-07-07T17:25:49.527Z"
   },
   {
    "duration": 26,
    "start_time": "2021-07-07T17:26:51.809Z"
   },
   {
    "duration": 26,
    "start_time": "2021-07-07T17:26:55.759Z"
   },
   {
    "duration": 26,
    "start_time": "2021-07-07T17:27:04.501Z"
   },
   {
    "duration": 25,
    "start_time": "2021-07-07T17:28:24.859Z"
   },
   {
    "duration": 21,
    "start_time": "2021-07-07T17:28:55.250Z"
   },
   {
    "duration": 21,
    "start_time": "2021-07-07T17:28:58.885Z"
   },
   {
    "duration": 7,
    "start_time": "2021-07-07T17:45:40.972Z"
   },
   {
    "duration": 13,
    "start_time": "2021-07-07T17:45:42.529Z"
   },
   {
    "duration": 27,
    "start_time": "2021-07-07T17:45:51.026Z"
   },
   {
    "duration": 518,
    "start_time": "2021-07-07T17:46:15.532Z"
   },
   {
    "duration": 235,
    "start_time": "2021-07-07T17:46:16.053Z"
   },
   {
    "duration": 80,
    "start_time": "2021-07-07T17:46:16.292Z"
   },
   {
    "duration": 5,
    "start_time": "2021-07-07T17:46:16.373Z"
   },
   {
    "duration": 26,
    "start_time": "2021-07-07T17:46:16.380Z"
   },
   {
    "duration": 7,
    "start_time": "2021-07-07T17:46:16.408Z"
   },
   {
    "duration": 16,
    "start_time": "2021-07-07T17:46:16.418Z"
   },
   {
    "duration": 5,
    "start_time": "2021-07-07T17:46:16.436Z"
   },
   {
    "duration": 13,
    "start_time": "2021-07-07T17:46:16.442Z"
   },
   {
    "duration": 35,
    "start_time": "2021-07-07T17:46:16.456Z"
   },
   {
    "duration": 8,
    "start_time": "2021-07-07T17:46:16.493Z"
   },
   {
    "duration": 28,
    "start_time": "2021-07-07T17:46:16.502Z"
   },
   {
    "duration": 17,
    "start_time": "2021-07-07T17:46:16.532Z"
   },
   {
    "duration": 44,
    "start_time": "2021-07-07T17:46:16.551Z"
   },
   {
    "duration": 6,
    "start_time": "2021-07-07T17:46:16.597Z"
   },
   {
    "duration": 4,
    "start_time": "2021-07-07T17:46:16.605Z"
   },
   {
    "duration": 9,
    "start_time": "2021-07-07T17:46:16.610Z"
   },
   {
    "duration": 9,
    "start_time": "2021-07-07T17:46:16.621Z"
   },
   {
    "duration": 10,
    "start_time": "2021-07-07T17:46:16.632Z"
   },
   {
    "duration": 43,
    "start_time": "2021-07-07T17:46:16.644Z"
   },
   {
    "duration": 26,
    "start_time": "2021-07-07T17:46:16.689Z"
   },
   {
    "duration": 19,
    "start_time": "2021-07-07T17:46:16.718Z"
   },
   {
    "duration": 8,
    "start_time": "2021-07-07T17:46:16.738Z"
   },
   {
    "duration": 43,
    "start_time": "2021-07-07T17:46:16.747Z"
   },
   {
    "duration": 19,
    "start_time": "2021-07-07T17:46:16.791Z"
   },
   {
    "duration": 9,
    "start_time": "2021-07-07T17:46:16.812Z"
   },
   {
    "duration": 60,
    "start_time": "2021-07-07T17:46:16.822Z"
   },
   {
    "duration": -8,
    "start_time": "2021-07-07T17:46:16.892Z"
   },
   {
    "duration": 12,
    "start_time": "2021-07-07T17:48:47.707Z"
   },
   {
    "duration": 553,
    "start_time": "2021-07-07T18:10:09.350Z"
   },
   {
    "duration": 230,
    "start_time": "2021-07-07T18:10:09.905Z"
   },
   {
    "duration": 97,
    "start_time": "2021-07-07T18:10:10.137Z"
   },
   {
    "duration": 5,
    "start_time": "2021-07-07T18:10:10.236Z"
   },
   {
    "duration": 29,
    "start_time": "2021-07-07T18:10:10.242Z"
   },
   {
    "duration": 7,
    "start_time": "2021-07-07T18:10:10.272Z"
   },
   {
    "duration": 15,
    "start_time": "2021-07-07T18:10:10.281Z"
   },
   {
    "duration": 4,
    "start_time": "2021-07-07T18:10:10.299Z"
   },
   {
    "duration": 14,
    "start_time": "2021-07-07T18:10:10.305Z"
   },
   {
    "duration": 8,
    "start_time": "2021-07-07T18:10:10.321Z"
   },
   {
    "duration": 8,
    "start_time": "2021-07-07T18:10:10.331Z"
   },
   {
    "duration": 56,
    "start_time": "2021-07-07T18:10:10.341Z"
   },
   {
    "duration": 19,
    "start_time": "2021-07-07T18:10:10.399Z"
   },
   {
    "duration": 23,
    "start_time": "2021-07-07T18:10:10.419Z"
   },
   {
    "duration": 6,
    "start_time": "2021-07-07T18:10:10.444Z"
   },
   {
    "duration": 9,
    "start_time": "2021-07-07T18:10:10.451Z"
   },
   {
    "duration": 30,
    "start_time": "2021-07-07T18:10:10.462Z"
   },
   {
    "duration": 9,
    "start_time": "2021-07-07T18:10:10.494Z"
   },
   {
    "duration": 14,
    "start_time": "2021-07-07T18:10:10.505Z"
   },
   {
    "duration": 7,
    "start_time": "2021-07-07T18:10:10.521Z"
   },
   {
    "duration": 26,
    "start_time": "2021-07-07T18:10:10.530Z"
   },
   {
    "duration": 44,
    "start_time": "2021-07-07T18:10:10.558Z"
   },
   {
    "duration": 7,
    "start_time": "2021-07-07T18:10:10.605Z"
   },
   {
    "duration": 11,
    "start_time": "2021-07-07T18:10:10.614Z"
   },
   {
    "duration": 19,
    "start_time": "2021-07-07T18:10:10.626Z"
   },
   {
    "duration": 44,
    "start_time": "2021-07-07T18:10:10.646Z"
   },
   {
    "duration": 516,
    "start_time": "2021-07-07T18:14:00.826Z"
   },
   {
    "duration": 230,
    "start_time": "2021-07-07T18:14:01.344Z"
   },
   {
    "duration": 105,
    "start_time": "2021-07-07T18:14:01.576Z"
   },
   {
    "duration": 5,
    "start_time": "2021-07-07T18:14:01.683Z"
   },
   {
    "duration": 46,
    "start_time": "2021-07-07T18:14:01.690Z"
   },
   {
    "duration": 7,
    "start_time": "2021-07-07T18:14:01.738Z"
   },
   {
    "duration": 20,
    "start_time": "2021-07-07T18:14:01.747Z"
   },
   {
    "duration": 16,
    "start_time": "2021-07-07T18:14:01.769Z"
   },
   {
    "duration": 14,
    "start_time": "2021-07-07T18:14:01.787Z"
   },
   {
    "duration": 15,
    "start_time": "2021-07-07T18:14:01.803Z"
   },
   {
    "duration": 12,
    "start_time": "2021-07-07T18:14:01.820Z"
   },
   {
    "duration": 35,
    "start_time": "2021-07-07T18:14:01.833Z"
   },
   {
    "duration": 31,
    "start_time": "2021-07-07T18:14:01.869Z"
   },
   {
    "duration": 37,
    "start_time": "2021-07-07T18:14:01.902Z"
   },
   {
    "duration": 8,
    "start_time": "2021-07-07T18:14:01.942Z"
   },
   {
    "duration": 16,
    "start_time": "2021-07-07T18:14:01.952Z"
   },
   {
    "duration": 13,
    "start_time": "2021-07-07T18:14:01.970Z"
   },
   {
    "duration": 32,
    "start_time": "2021-07-07T18:14:01.985Z"
   },
   {
    "duration": 11,
    "start_time": "2021-07-07T18:14:02.019Z"
   },
   {
    "duration": 22,
    "start_time": "2021-07-07T18:14:02.031Z"
   },
   {
    "duration": 27,
    "start_time": "2021-07-07T18:14:02.055Z"
   },
   {
    "duration": 18,
    "start_time": "2021-07-07T18:14:02.084Z"
   },
   {
    "duration": 18,
    "start_time": "2021-07-07T18:14:02.106Z"
   },
   {
    "duration": 11,
    "start_time": "2021-07-07T18:14:02.126Z"
   },
   {
    "duration": 21,
    "start_time": "2021-07-07T18:14:02.138Z"
   },
   {
    "duration": 32,
    "start_time": "2021-07-07T18:14:02.161Z"
   },
   {
    "duration": 28,
    "start_time": "2021-07-07T18:14:44.295Z"
   },
   {
    "duration": 6,
    "start_time": "2021-07-07T18:15:05.834Z"
   },
   {
    "duration": 511,
    "start_time": "2021-07-07T18:15:41.541Z"
   },
   {
    "duration": 183,
    "start_time": "2021-07-07T18:15:42.054Z"
   },
   {
    "duration": 50,
    "start_time": "2021-07-07T18:15:42.239Z"
   },
   {
    "duration": 5,
    "start_time": "2021-07-07T18:15:42.291Z"
   },
   {
    "duration": 48,
    "start_time": "2021-07-07T18:15:42.297Z"
   },
   {
    "duration": 8,
    "start_time": "2021-07-07T18:15:42.346Z"
   },
   {
    "duration": 17,
    "start_time": "2021-07-07T18:15:42.356Z"
   },
   {
    "duration": 15,
    "start_time": "2021-07-07T18:15:42.375Z"
   },
   {
    "duration": 12,
    "start_time": "2021-07-07T18:15:42.392Z"
   },
   {
    "duration": 7,
    "start_time": "2021-07-07T18:15:42.406Z"
   },
   {
    "duration": 7,
    "start_time": "2021-07-07T18:15:42.415Z"
   },
   {
    "duration": 29,
    "start_time": "2021-07-07T18:15:42.423Z"
   },
   {
    "duration": 43,
    "start_time": "2021-07-07T18:15:42.453Z"
   },
   {
    "duration": 18,
    "start_time": "2021-07-07T18:15:42.497Z"
   },
   {
    "duration": 6,
    "start_time": "2021-07-07T18:15:42.516Z"
   },
   {
    "duration": 3,
    "start_time": "2021-07-07T18:15:42.523Z"
   },
   {
    "duration": 18,
    "start_time": "2021-07-07T18:15:42.528Z"
   },
   {
    "duration": 10,
    "start_time": "2021-07-07T18:15:42.547Z"
   },
   {
    "duration": 36,
    "start_time": "2021-07-07T18:15:42.559Z"
   },
   {
    "duration": 8,
    "start_time": "2021-07-07T18:15:42.597Z"
   },
   {
    "duration": 28,
    "start_time": "2021-07-07T18:15:42.606Z"
   },
   {
    "duration": 52,
    "start_time": "2021-07-07T18:15:42.635Z"
   },
   {
    "duration": 7,
    "start_time": "2021-07-07T18:15:42.690Z"
   },
   {
    "duration": 10,
    "start_time": "2021-07-07T18:15:42.699Z"
   },
   {
    "duration": 19,
    "start_time": "2021-07-07T18:15:42.711Z"
   },
   {
    "duration": 9,
    "start_time": "2021-07-07T18:15:42.732Z"
   },
   {
    "duration": 5,
    "start_time": "2021-07-07T18:15:42.743Z"
   },
   {
    "duration": 1450,
    "start_time": "2021-07-07T18:15:51.984Z"
   },
   {
    "duration": 161,
    "start_time": "2021-07-07T18:15:53.435Z"
   },
   {
    "duration": 124,
    "start_time": "2021-07-07T18:15:53.598Z"
   },
   {
    "duration": 5,
    "start_time": "2021-07-07T18:15:53.724Z"
   },
   {
    "duration": 34,
    "start_time": "2021-07-07T18:15:53.730Z"
   },
   {
    "duration": 7,
    "start_time": "2021-07-07T18:15:53.765Z"
   },
   {
    "duration": 15,
    "start_time": "2021-07-07T18:15:53.773Z"
   },
   {
    "duration": 5,
    "start_time": "2021-07-07T18:15:53.791Z"
   },
   {
    "duration": 19,
    "start_time": "2021-07-07T18:15:53.798Z"
   },
   {
    "duration": 9,
    "start_time": "2021-07-07T18:15:53.818Z"
   },
   {
    "duration": 19,
    "start_time": "2021-07-07T18:15:53.828Z"
   },
   {
    "duration": 27,
    "start_time": "2021-07-07T18:15:53.848Z"
   },
   {
    "duration": 16,
    "start_time": "2021-07-07T18:15:53.884Z"
   },
   {
    "duration": 29,
    "start_time": "2021-07-07T18:15:53.901Z"
   },
   {
    "duration": 5,
    "start_time": "2021-07-07T18:15:53.932Z"
   },
   {
    "duration": 15,
    "start_time": "2021-07-07T18:15:53.939Z"
   },
   {
    "duration": 13,
    "start_time": "2021-07-07T18:15:53.956Z"
   },
   {
    "duration": 20,
    "start_time": "2021-07-07T18:15:53.971Z"
   },
   {
    "duration": 14,
    "start_time": "2021-07-07T18:15:53.992Z"
   },
   {
    "duration": 9,
    "start_time": "2021-07-07T18:15:54.009Z"
   },
   {
    "duration": 28,
    "start_time": "2021-07-07T18:15:54.020Z"
   },
   {
    "duration": 50,
    "start_time": "2021-07-07T18:15:54.051Z"
   },
   {
    "duration": 8,
    "start_time": "2021-07-07T18:15:54.105Z"
   },
   {
    "duration": 11,
    "start_time": "2021-07-07T18:15:54.115Z"
   },
   {
    "duration": 20,
    "start_time": "2021-07-07T18:15:54.128Z"
   },
   {
    "duration": 13,
    "start_time": "2021-07-07T18:15:54.184Z"
   },
   {
    "duration": 7,
    "start_time": "2021-07-07T18:15:54.199Z"
   },
   {
    "duration": 7,
    "start_time": "2021-07-07T18:17:08.042Z"
   },
   {
    "duration": 8,
    "start_time": "2021-07-07T18:17:21.008Z"
   },
   {
    "duration": 7,
    "start_time": "2021-07-07T18:17:29.003Z"
   },
   {
    "duration": 8,
    "start_time": "2021-07-07T18:17:32.492Z"
   },
   {
    "duration": 9,
    "start_time": "2021-07-07T18:17:41.758Z"
   },
   {
    "duration": 255,
    "start_time": "2021-07-07T18:20:20.897Z"
   },
   {
    "duration": 173,
    "start_time": "2021-07-07T18:20:26.636Z"
   },
   {
    "duration": 7,
    "start_time": "2021-07-07T18:21:47.164Z"
   },
   {
    "duration": 254,
    "start_time": "2021-07-07T18:23:08.703Z"
   },
   {
    "duration": 21,
    "start_time": "2021-07-07T18:23:22.506Z"
   },
   {
    "duration": 315,
    "start_time": "2021-07-07T18:25:54.801Z"
   },
   {
    "duration": 34,
    "start_time": "2021-07-07T18:26:51.817Z"
   },
   {
    "duration": 327,
    "start_time": "2021-07-07T18:26:56.147Z"
   },
   {
    "duration": 342,
    "start_time": "2021-07-07T18:27:15.887Z"
   },
   {
    "duration": 302,
    "start_time": "2021-07-07T18:28:18.569Z"
   },
   {
    "duration": 226,
    "start_time": "2021-07-07T18:29:20.879Z"
   },
   {
    "duration": 207,
    "start_time": "2021-07-07T18:29:58.114Z"
   },
   {
    "duration": 140,
    "start_time": "2021-07-07T18:32:04.372Z"
   },
   {
    "duration": 158,
    "start_time": "2021-07-07T18:32:32.508Z"
   },
   {
    "duration": 145,
    "start_time": "2021-07-07T18:32:41.365Z"
   },
   {
    "duration": 132,
    "start_time": "2021-07-07T18:32:45.199Z"
   },
   {
    "duration": 11,
    "start_time": "2021-07-07T18:35:24.679Z"
   },
   {
    "duration": 268,
    "start_time": "2021-07-07T18:36:16.145Z"
   },
   {
    "duration": 227,
    "start_time": "2021-07-07T18:37:04.918Z"
   },
   {
    "duration": 3,
    "start_time": "2021-07-07T18:37:33.012Z"
   },
   {
    "duration": 671,
    "start_time": "2021-07-07T18:37:38.295Z"
   },
   {
    "duration": 54,
    "start_time": "2021-07-07T18:37:53.406Z"
   },
   {
    "duration": 631,
    "start_time": "2021-07-07T18:37:56.463Z"
   },
   {
    "duration": 19,
    "start_time": "2021-07-07T18:39:40.535Z"
   },
   {
    "duration": 20,
    "start_time": "2021-07-07T18:40:12.236Z"
   },
   {
    "duration": 633,
    "start_time": "2021-07-07T18:42:00.398Z"
   },
   {
    "duration": 218,
    "start_time": "2021-07-07T18:42:01.033Z"
   },
   {
    "duration": 49,
    "start_time": "2021-07-07T18:42:01.253Z"
   },
   {
    "duration": 5,
    "start_time": "2021-07-07T18:42:01.303Z"
   },
   {
    "duration": 27,
    "start_time": "2021-07-07T18:42:01.310Z"
   },
   {
    "duration": 8,
    "start_time": "2021-07-07T18:42:01.339Z"
   },
   {
    "duration": 20,
    "start_time": "2021-07-07T18:42:01.348Z"
   },
   {
    "duration": 6,
    "start_time": "2021-07-07T18:42:01.386Z"
   },
   {
    "duration": 16,
    "start_time": "2021-07-07T18:42:01.394Z"
   },
   {
    "duration": 9,
    "start_time": "2021-07-07T18:42:01.411Z"
   },
   {
    "duration": 11,
    "start_time": "2021-07-07T18:42:01.421Z"
   },
   {
    "duration": 31,
    "start_time": "2021-07-07T18:42:01.434Z"
   },
   {
    "duration": 18,
    "start_time": "2021-07-07T18:42:01.485Z"
   },
   {
    "duration": 23,
    "start_time": "2021-07-07T18:42:01.505Z"
   },
   {
    "duration": 6,
    "start_time": "2021-07-07T18:42:01.530Z"
   },
   {
    "duration": 10,
    "start_time": "2021-07-07T18:42:01.538Z"
   },
   {
    "duration": 13,
    "start_time": "2021-07-07T18:42:01.550Z"
   },
   {
    "duration": 24,
    "start_time": "2021-07-07T18:42:01.564Z"
   },
   {
    "duration": 20,
    "start_time": "2021-07-07T18:42:01.590Z"
   },
   {
    "duration": 8,
    "start_time": "2021-07-07T18:42:01.611Z"
   },
   {
    "duration": 31,
    "start_time": "2021-07-07T18:42:01.620Z"
   },
   {
    "duration": 39,
    "start_time": "2021-07-07T18:42:01.653Z"
   },
   {
    "duration": 8,
    "start_time": "2021-07-07T18:42:01.696Z"
   },
   {
    "duration": 13,
    "start_time": "2021-07-07T18:42:01.705Z"
   },
   {
    "duration": 20,
    "start_time": "2021-07-07T18:42:01.720Z"
   },
   {
    "duration": 12,
    "start_time": "2021-07-07T18:42:01.741Z"
   },
   {
    "duration": 35,
    "start_time": "2021-07-07T18:42:01.755Z"
   },
   {
    "duration": 14,
    "start_time": "2021-07-07T18:42:01.792Z"
   },
   {
    "duration": 188,
    "start_time": "2021-07-07T18:42:01.808Z"
   },
   {
    "duration": 19,
    "start_time": "2021-07-07T18:42:01.998Z"
   },
   {
    "duration": 175,
    "start_time": "2021-07-07T18:42:02.019Z"
   },
   {
    "duration": 134,
    "start_time": "2021-07-07T18:42:02.196Z"
   },
   {
    "duration": 10,
    "start_time": "2021-07-07T18:42:02.331Z"
   },
   {
    "duration": 19,
    "start_time": "2021-07-07T18:42:02.343Z"
   },
   {
    "duration": 628,
    "start_time": "2021-07-07T18:46:30.701Z"
   },
   {
    "duration": 183,
    "start_time": "2021-07-07T18:46:31.331Z"
   },
   {
    "duration": 48,
    "start_time": "2021-07-07T18:46:31.516Z"
   },
   {
    "duration": 5,
    "start_time": "2021-07-07T18:46:31.566Z"
   },
   {
    "duration": 28,
    "start_time": "2021-07-07T18:46:31.572Z"
   },
   {
    "duration": 8,
    "start_time": "2021-07-07T18:46:31.602Z"
   },
   {
    "duration": 19,
    "start_time": "2021-07-07T18:46:31.611Z"
   },
   {
    "duration": 6,
    "start_time": "2021-07-07T18:46:31.633Z"
   },
   {
    "duration": 17,
    "start_time": "2021-07-07T18:46:31.642Z"
   },
   {
    "duration": 10,
    "start_time": "2021-07-07T18:46:31.684Z"
   },
   {
    "duration": 9,
    "start_time": "2021-07-07T18:46:31.695Z"
   },
   {
    "duration": 28,
    "start_time": "2021-07-07T18:46:31.705Z"
   },
   {
    "duration": 18,
    "start_time": "2021-07-07T18:46:31.735Z"
   },
   {
    "duration": 48,
    "start_time": "2021-07-07T18:46:31.755Z"
   },
   {
    "duration": 6,
    "start_time": "2021-07-07T18:46:31.804Z"
   },
   {
    "duration": 4,
    "start_time": "2021-07-07T18:46:31.812Z"
   },
   {
    "duration": 9,
    "start_time": "2021-07-07T18:46:31.817Z"
   },
   {
    "duration": 10,
    "start_time": "2021-07-07T18:46:31.827Z"
   },
   {
    "duration": 12,
    "start_time": "2021-07-07T18:46:31.838Z"
   },
   {
    "duration": 39,
    "start_time": "2021-07-07T18:46:31.851Z"
   },
   {
    "duration": 24,
    "start_time": "2021-07-07T18:46:31.892Z"
   },
   {
    "duration": 15,
    "start_time": "2021-07-07T18:46:31.918Z"
   },
   {
    "duration": 7,
    "start_time": "2021-07-07T18:46:31.936Z"
   },
   {
    "duration": 8,
    "start_time": "2021-07-07T18:46:31.944Z"
   },
   {
    "duration": 19,
    "start_time": "2021-07-07T18:46:31.984Z"
   },
   {
    "duration": 10,
    "start_time": "2021-07-07T18:46:32.004Z"
   },
   {
    "duration": 5,
    "start_time": "2021-07-07T18:46:32.016Z"
   },
   {
    "duration": 9,
    "start_time": "2021-07-07T18:46:32.023Z"
   },
   {
    "duration": 199,
    "start_time": "2021-07-07T18:46:32.033Z"
   },
   {
    "duration": 19,
    "start_time": "2021-07-07T18:46:32.234Z"
   },
   {
    "duration": 159,
    "start_time": "2021-07-07T18:46:32.255Z"
   },
   {
    "duration": 134,
    "start_time": "2021-07-07T18:46:32.416Z"
   },
   {
    "duration": 10,
    "start_time": "2021-07-07T18:46:32.552Z"
   },
   {
    "duration": 34,
    "start_time": "2021-07-07T18:46:32.563Z"
   },
   {
    "duration": 1039,
    "start_time": "2021-07-08T08:41:09.419Z"
   },
   {
    "duration": 333,
    "start_time": "2021-07-08T08:41:10.459Z"
   },
   {
    "duration": 173,
    "start_time": "2021-07-08T08:41:10.794Z"
   },
   {
    "duration": 5,
    "start_time": "2021-07-08T08:41:10.968Z"
   },
   {
    "duration": 25,
    "start_time": "2021-07-08T08:41:10.975Z"
   },
   {
    "duration": 9,
    "start_time": "2021-07-08T08:41:11.002Z"
   },
   {
    "duration": 18,
    "start_time": "2021-07-08T08:41:11.013Z"
   },
   {
    "duration": 6,
    "start_time": "2021-07-08T08:41:11.033Z"
   },
   {
    "duration": 44,
    "start_time": "2021-07-08T08:41:11.042Z"
   },
   {
    "duration": 10,
    "start_time": "2021-07-08T08:41:11.088Z"
   },
   {
    "duration": 9,
    "start_time": "2021-07-08T08:41:11.100Z"
   },
   {
    "duration": 27,
    "start_time": "2021-07-08T08:41:11.111Z"
   },
   {
    "duration": 46,
    "start_time": "2021-07-08T08:41:11.140Z"
   },
   {
    "duration": 17,
    "start_time": "2021-07-08T08:41:11.187Z"
   },
   {
    "duration": 6,
    "start_time": "2021-07-08T08:41:11.206Z"
   },
   {
    "duration": 5,
    "start_time": "2021-07-08T08:41:11.213Z"
   },
   {
    "duration": 10,
    "start_time": "2021-07-08T08:41:11.219Z"
   },
   {
    "duration": 9,
    "start_time": "2021-07-08T08:41:11.230Z"
   },
   {
    "duration": 45,
    "start_time": "2021-07-08T08:41:11.241Z"
   },
   {
    "duration": 7,
    "start_time": "2021-07-08T08:41:11.287Z"
   },
   {
    "duration": 24,
    "start_time": "2021-07-08T08:41:11.296Z"
   },
   {
    "duration": 16,
    "start_time": "2021-07-08T08:41:11.322Z"
   },
   {
    "duration": 7,
    "start_time": "2021-07-08T08:41:11.341Z"
   },
   {
    "duration": 41,
    "start_time": "2021-07-08T08:41:11.349Z"
   },
   {
    "duration": 17,
    "start_time": "2021-07-08T08:41:11.391Z"
   },
   {
    "duration": 9,
    "start_time": "2021-07-08T08:41:11.410Z"
   },
   {
    "duration": 5,
    "start_time": "2021-07-08T08:41:11.421Z"
   },
   {
    "duration": 6,
    "start_time": "2021-07-08T08:41:11.428Z"
   },
   {
    "duration": 198,
    "start_time": "2021-07-08T08:41:11.435Z"
   },
   {
    "duration": 18,
    "start_time": "2021-07-08T08:41:11.635Z"
   },
   {
    "duration": 155,
    "start_time": "2021-07-08T08:41:11.655Z"
   },
   {
    "duration": 138,
    "start_time": "2021-07-08T08:41:11.811Z"
   },
   {
    "duration": 10,
    "start_time": "2021-07-08T08:41:11.950Z"
   },
   {
    "duration": 29,
    "start_time": "2021-07-08T08:41:11.961Z"
   },
   {
    "duration": 171,
    "start_time": "2021-07-08T08:47:44.522Z"
   },
   {
    "duration": 124,
    "start_time": "2021-07-08T08:47:46.872Z"
   },
   {
    "duration": 191,
    "start_time": "2021-07-08T08:47:58.148Z"
   },
   {
    "duration": 191,
    "start_time": "2021-07-08T08:48:07.412Z"
   },
   {
    "duration": 261,
    "start_time": "2021-07-08T08:48:10.385Z"
   },
   {
    "duration": 255,
    "start_time": "2021-07-08T08:48:14.494Z"
   },
   {
    "duration": 219,
    "start_time": "2021-07-08T08:48:22.752Z"
   },
   {
    "duration": 173,
    "start_time": "2021-07-08T08:49:06.395Z"
   },
   {
    "duration": 180,
    "start_time": "2021-07-08T08:49:21.011Z"
   },
   {
    "duration": 6,
    "start_time": "2021-07-08T08:50:31.697Z"
   },
   {
    "duration": 10,
    "start_time": "2021-07-08T08:50:47.394Z"
   },
   {
    "duration": 11,
    "start_time": "2021-07-08T08:53:49.332Z"
   },
   {
    "duration": 171,
    "start_time": "2021-07-08T08:54:28.408Z"
   },
   {
    "duration": 636,
    "start_time": "2021-07-08T09:02:48.385Z"
   },
   {
    "duration": 227,
    "start_time": "2021-07-08T09:02:49.023Z"
   },
   {
    "duration": 104,
    "start_time": "2021-07-08T09:02:49.252Z"
   },
   {
    "duration": 5,
    "start_time": "2021-07-08T09:02:49.358Z"
   },
   {
    "duration": 27,
    "start_time": "2021-07-08T09:02:49.365Z"
   },
   {
    "duration": 8,
    "start_time": "2021-07-08T09:02:49.394Z"
   },
   {
    "duration": 18,
    "start_time": "2021-07-08T09:02:49.404Z"
   },
   {
    "duration": 6,
    "start_time": "2021-07-08T09:02:49.424Z"
   },
   {
    "duration": 11,
    "start_time": "2021-07-08T09:02:49.433Z"
   },
   {
    "duration": 13,
    "start_time": "2021-07-08T09:02:49.485Z"
   },
   {
    "duration": 9,
    "start_time": "2021-07-08T09:02:49.500Z"
   },
   {
    "duration": 38,
    "start_time": "2021-07-08T09:02:49.511Z"
   },
   {
    "duration": 42,
    "start_time": "2021-07-08T09:02:49.551Z"
   },
   {
    "duration": 21,
    "start_time": "2021-07-08T09:02:49.594Z"
   },
   {
    "duration": 6,
    "start_time": "2021-07-08T09:02:49.616Z"
   },
   {
    "duration": 3,
    "start_time": "2021-07-08T09:02:49.623Z"
   },
   {
    "duration": 9,
    "start_time": "2021-07-08T09:02:49.628Z"
   },
   {
    "duration": 52,
    "start_time": "2021-07-08T09:02:49.638Z"
   },
   {
    "duration": 11,
    "start_time": "2021-07-08T09:02:49.692Z"
   },
   {
    "duration": 8,
    "start_time": "2021-07-08T09:02:49.704Z"
   },
   {
    "duration": 27,
    "start_time": "2021-07-08T09:02:49.713Z"
   },
   {
    "duration": 59,
    "start_time": "2021-07-08T09:02:49.741Z"
   },
   {
    "duration": 8,
    "start_time": "2021-07-08T09:02:49.803Z"
   },
   {
    "duration": 14,
    "start_time": "2021-07-08T09:02:49.813Z"
   },
   {
    "duration": 20,
    "start_time": "2021-07-08T09:02:49.829Z"
   },
   {
    "duration": 44,
    "start_time": "2021-07-08T09:02:49.851Z"
   },
   {
    "duration": 14,
    "start_time": "2021-07-08T09:02:49.896Z"
   },
   {
    "duration": 221,
    "start_time": "2021-07-08T09:02:49.912Z"
   },
   {
    "duration": 6,
    "start_time": "2021-07-08T09:02:50.134Z"
   },
   {
    "duration": 206,
    "start_time": "2021-07-08T09:02:50.142Z"
   },
   {
    "duration": 19,
    "start_time": "2021-07-08T09:02:50.350Z"
   },
   {
    "duration": 21,
    "start_time": "2021-07-08T09:02:50.370Z"
   },
   {
    "duration": 20,
    "start_time": "2021-07-08T09:02:50.393Z"
   },
   {
    "duration": 5,
    "start_time": "2021-07-08T09:02:50.414Z"
   },
   {
    "duration": 5,
    "start_time": "2021-07-08T09:03:34.173Z"
   },
   {
    "duration": 6,
    "start_time": "2021-07-08T09:04:49.062Z"
   },
   {
    "duration": 9,
    "start_time": "2021-07-08T09:04:50.118Z"
   },
   {
    "duration": 14,
    "start_time": "2021-07-08T09:04:58.512Z"
   },
   {
    "duration": 9,
    "start_time": "2021-07-08T09:05:10.988Z"
   },
   {
    "duration": 11,
    "start_time": "2021-07-08T09:05:11.743Z"
   },
   {
    "duration": 7,
    "start_time": "2021-07-08T09:05:25.677Z"
   },
   {
    "duration": 13,
    "start_time": "2021-07-08T09:05:47.189Z"
   },
   {
    "duration": 13,
    "start_time": "2021-07-08T09:05:54.755Z"
   },
   {
    "duration": 4,
    "start_time": "2021-07-08T09:06:29.189Z"
   },
   {
    "duration": 244,
    "start_time": "2021-07-08T09:06:29.195Z"
   },
   {
    "duration": 91,
    "start_time": "2021-07-08T09:06:29.441Z"
   },
   {
    "duration": 4,
    "start_time": "2021-07-08T09:06:29.534Z"
   },
   {
    "duration": 28,
    "start_time": "2021-07-08T09:06:29.540Z"
   },
   {
    "duration": 6,
    "start_time": "2021-07-08T09:06:29.570Z"
   },
   {
    "duration": 18,
    "start_time": "2021-07-08T09:06:29.578Z"
   },
   {
    "duration": 5,
    "start_time": "2021-07-08T09:06:29.597Z"
   },
   {
    "duration": 13,
    "start_time": "2021-07-08T09:06:29.605Z"
   },
   {
    "duration": 8,
    "start_time": "2021-07-08T09:06:29.620Z"
   },
   {
    "duration": 7,
    "start_time": "2021-07-08T09:06:29.630Z"
   },
   {
    "duration": 63,
    "start_time": "2021-07-08T09:06:29.639Z"
   },
   {
    "duration": 17,
    "start_time": "2021-07-08T09:06:29.704Z"
   },
   {
    "duration": 20,
    "start_time": "2021-07-08T09:06:29.723Z"
   },
   {
    "duration": 6,
    "start_time": "2021-07-08T09:06:29.745Z"
   },
   {
    "duration": 3,
    "start_time": "2021-07-08T09:06:29.752Z"
   },
   {
    "duration": 7,
    "start_time": "2021-07-08T09:06:29.785Z"
   },
   {
    "duration": 11,
    "start_time": "2021-07-08T09:06:29.794Z"
   },
   {
    "duration": 15,
    "start_time": "2021-07-08T09:06:29.807Z"
   },
   {
    "duration": 8,
    "start_time": "2021-07-08T09:06:29.823Z"
   },
   {
    "duration": 70,
    "start_time": "2021-07-08T09:06:29.832Z"
   },
   {
    "duration": 17,
    "start_time": "2021-07-08T09:06:29.903Z"
   },
   {
    "duration": 9,
    "start_time": "2021-07-08T09:06:29.921Z"
   },
   {
    "duration": 9,
    "start_time": "2021-07-08T09:06:29.932Z"
   },
   {
    "duration": 57,
    "start_time": "2021-07-08T09:06:29.942Z"
   },
   {
    "duration": 11,
    "start_time": "2021-07-08T09:06:30.001Z"
   },
   {
    "duration": 19,
    "start_time": "2021-07-08T09:06:30.016Z"
   },
   {
    "duration": 217,
    "start_time": "2021-07-08T09:06:30.037Z"
   },
   {
    "duration": 6,
    "start_time": "2021-07-08T09:06:30.255Z"
   },
   {
    "duration": 205,
    "start_time": "2021-07-08T09:06:30.263Z"
   },
   {
    "duration": 27,
    "start_time": "2021-07-08T09:06:30.470Z"
   },
   {
    "duration": 11,
    "start_time": "2021-07-08T09:06:30.500Z"
   },
   {
    "duration": 31,
    "start_time": "2021-07-08T09:06:30.513Z"
   },
   {
    "duration": 18,
    "start_time": "2021-07-08T09:06:30.546Z"
   },
   {
    "duration": 11,
    "start_time": "2021-07-08T09:06:30.566Z"
   },
   {
    "duration": 19,
    "start_time": "2021-07-08T09:06:30.579Z"
   },
   {
    "duration": 20,
    "start_time": "2021-07-08T09:06:49.466Z"
   },
   {
    "duration": 9,
    "start_time": "2021-07-08T09:06:51.994Z"
   },
   {
    "duration": 20,
    "start_time": "2021-07-08T09:06:52.273Z"
   },
   {
    "duration": 246,
    "start_time": "2021-07-08T09:10:21.272Z"
   },
   {
    "duration": 84,
    "start_time": "2021-07-08T09:10:21.436Z"
   },
   {
    "duration": 7,
    "start_time": "2021-07-08T09:10:37.608Z"
   },
   {
    "duration": 189,
    "start_time": "2021-07-08T09:10:38.573Z"
   },
   {
    "duration": 185,
    "start_time": "2021-07-08T09:10:53.181Z"
   },
   {
    "duration": 11,
    "start_time": "2021-07-08T09:10:59.549Z"
   },
   {
    "duration": 42,
    "start_time": "2021-07-08T09:10:59.709Z"
   },
   {
    "duration": 12,
    "start_time": "2021-07-08T09:11:02.857Z"
   },
   {
    "duration": 28,
    "start_time": "2021-07-08T09:11:10.062Z"
   },
   {
    "duration": 249,
    "start_time": "2021-07-08T09:11:37.388Z"
   },
   {
    "duration": 232,
    "start_time": "2021-07-08T09:11:49.485Z"
   },
   {
    "duration": 453,
    "start_time": "2021-07-08T09:12:01.546Z"
   },
   {
    "duration": 440,
    "start_time": "2021-07-08T09:12:12.347Z"
   },
   {
    "duration": 213,
    "start_time": "2021-07-08T09:13:32.196Z"
   },
   {
    "duration": 172,
    "start_time": "2021-07-08T09:14:07.400Z"
   },
   {
    "duration": 185,
    "start_time": "2021-07-08T09:14:14.905Z"
   },
   {
    "duration": 209,
    "start_time": "2021-07-08T09:14:40.109Z"
   },
   {
    "duration": 201,
    "start_time": "2021-07-08T09:14:54.506Z"
   },
   {
    "duration": 622,
    "start_time": "2021-07-08T09:18:14.497Z"
   },
   {
    "duration": 220,
    "start_time": "2021-07-08T09:18:15.121Z"
   },
   {
    "duration": 79,
    "start_time": "2021-07-08T09:18:15.343Z"
   },
   {
    "duration": 4,
    "start_time": "2021-07-08T09:18:15.425Z"
   },
   {
    "duration": 24,
    "start_time": "2021-07-08T09:18:15.431Z"
   },
   {
    "duration": 8,
    "start_time": "2021-07-08T09:18:15.457Z"
   },
   {
    "duration": 16,
    "start_time": "2021-07-08T09:18:15.466Z"
   },
   {
    "duration": 5,
    "start_time": "2021-07-08T09:18:15.484Z"
   },
   {
    "duration": 10,
    "start_time": "2021-07-08T09:18:15.493Z"
   },
   {
    "duration": 8,
    "start_time": "2021-07-08T09:18:15.504Z"
   },
   {
    "duration": 7,
    "start_time": "2021-07-08T09:18:15.513Z"
   },
   {
    "duration": 26,
    "start_time": "2021-07-08T09:18:15.522Z"
   },
   {
    "duration": 49,
    "start_time": "2021-07-08T09:18:15.550Z"
   },
   {
    "duration": 21,
    "start_time": "2021-07-08T09:18:15.601Z"
   },
   {
    "duration": 8,
    "start_time": "2021-07-08T09:18:15.624Z"
   },
   {
    "duration": 3,
    "start_time": "2021-07-08T09:18:15.634Z"
   },
   {
    "duration": 8,
    "start_time": "2021-07-08T09:18:15.639Z"
   },
   {
    "duration": 45,
    "start_time": "2021-07-08T09:18:15.649Z"
   },
   {
    "duration": 13,
    "start_time": "2021-07-08T09:18:15.696Z"
   },
   {
    "duration": 10,
    "start_time": "2021-07-08T09:18:15.711Z"
   },
   {
    "duration": 64,
    "start_time": "2021-07-08T09:18:15.722Z"
   },
   {
    "duration": 19,
    "start_time": "2021-07-08T09:18:15.788Z"
   },
   {
    "duration": 9,
    "start_time": "2021-07-08T09:18:15.809Z"
   },
   {
    "duration": 9,
    "start_time": "2021-07-08T09:18:15.820Z"
   },
   {
    "duration": 18,
    "start_time": "2021-07-08T09:18:15.831Z"
   },
   {
    "duration": 43,
    "start_time": "2021-07-08T09:18:15.851Z"
   },
   {
    "duration": 12,
    "start_time": "2021-07-08T09:18:15.897Z"
   },
   {
    "duration": 219,
    "start_time": "2021-07-08T09:18:15.911Z"
   },
   {
    "duration": 8,
    "start_time": "2021-07-08T09:18:16.132Z"
   },
   {
    "duration": 199,
    "start_time": "2021-07-08T09:18:16.141Z"
   },
   {
    "duration": 18,
    "start_time": "2021-07-08T09:18:16.341Z"
   },
   {
    "duration": 24,
    "start_time": "2021-07-08T09:18:16.361Z"
   },
   {
    "duration": 24,
    "start_time": "2021-07-08T09:18:16.387Z"
   },
   {
    "duration": 211,
    "start_time": "2021-07-08T09:18:16.413Z"
   },
   {
    "duration": 18,
    "start_time": "2021-07-08T09:18:16.626Z"
   },
   {
    "duration": 596,
    "start_time": "2021-07-08T10:06:33.623Z"
   },
   {
    "duration": 181,
    "start_time": "2021-07-08T10:06:34.221Z"
   },
   {
    "duration": 176,
    "start_time": "2021-07-08T10:06:34.635Z"
   },
   {
    "duration": 239,
    "start_time": "2021-07-08T10:06:55.572Z"
   },
   {
    "duration": 6,
    "start_time": "2021-07-08T10:06:57.687Z"
   },
   {
    "duration": 4,
    "start_time": "2021-07-08T10:07:03.956Z"
   },
   {
    "duration": 4,
    "start_time": "2021-07-08T10:07:10.376Z"
   },
   {
    "duration": 4,
    "start_time": "2021-07-08T10:17:19.889Z"
   },
   {
    "duration": 3,
    "start_time": "2021-07-08T10:19:19.407Z"
   },
   {
    "duration": 197,
    "start_time": "2021-07-08T10:19:19.412Z"
   },
   {
    "duration": 127,
    "start_time": "2021-07-08T10:19:19.611Z"
   },
   {
    "duration": 4,
    "start_time": "2021-07-08T10:19:19.740Z"
   },
   {
    "duration": 27,
    "start_time": "2021-07-08T10:19:19.746Z"
   },
   {
    "duration": 7,
    "start_time": "2021-07-08T10:19:19.775Z"
   },
   {
    "duration": 30,
    "start_time": "2021-07-08T10:19:19.784Z"
   },
   {
    "duration": 7,
    "start_time": "2021-07-08T10:19:19.817Z"
   },
   {
    "duration": 26,
    "start_time": "2021-07-08T10:19:19.826Z"
   },
   {
    "duration": 18,
    "start_time": "2021-07-08T10:19:19.854Z"
   },
   {
    "duration": 14,
    "start_time": "2021-07-08T10:19:19.874Z"
   },
   {
    "duration": 48,
    "start_time": "2021-07-08T10:19:19.890Z"
   },
   {
    "duration": 17,
    "start_time": "2021-07-08T10:19:19.940Z"
   },
   {
    "duration": 38,
    "start_time": "2021-07-08T10:19:19.959Z"
   },
   {
    "duration": 8,
    "start_time": "2021-07-08T10:19:19.999Z"
   },
   {
    "duration": 15,
    "start_time": "2021-07-08T10:19:20.009Z"
   },
   {
    "duration": 22,
    "start_time": "2021-07-08T10:19:20.026Z"
   },
   {
    "duration": 10,
    "start_time": "2021-07-08T10:19:20.050Z"
   },
   {
    "duration": 10,
    "start_time": "2021-07-08T10:19:20.062Z"
   },
   {
    "duration": 20,
    "start_time": "2021-07-08T10:19:20.073Z"
   },
   {
    "duration": 29,
    "start_time": "2021-07-08T10:19:20.095Z"
   },
   {
    "duration": 17,
    "start_time": "2021-07-08T10:19:20.126Z"
   },
   {
    "duration": 40,
    "start_time": "2021-07-08T10:19:20.146Z"
   },
   {
    "duration": 15,
    "start_time": "2021-07-08T10:19:20.189Z"
   },
   {
    "duration": 19,
    "start_time": "2021-07-08T10:19:20.206Z"
   },
   {
    "duration": 10,
    "start_time": "2021-07-08T10:19:20.226Z"
   },
   {
    "duration": 11,
    "start_time": "2021-07-08T10:19:20.238Z"
   },
   {
    "duration": 297,
    "start_time": "2021-07-08T10:19:20.250Z"
   },
   {
    "duration": 6,
    "start_time": "2021-07-08T10:19:20.549Z"
   },
   {
    "duration": 191,
    "start_time": "2021-07-08T10:19:20.557Z"
   },
   {
    "duration": 19,
    "start_time": "2021-07-08T10:19:20.750Z"
   },
   {
    "duration": 20,
    "start_time": "2021-07-08T10:19:20.771Z"
   },
   {
    "duration": 15,
    "start_time": "2021-07-08T10:19:20.793Z"
   },
   {
    "duration": 222,
    "start_time": "2021-07-08T10:19:20.809Z"
   },
   {
    "duration": 20,
    "start_time": "2021-07-08T10:19:21.033Z"
   },
   {
    "duration": 27,
    "start_time": "2021-07-08T10:45:04.055Z"
   },
   {
    "duration": 8,
    "start_time": "2021-07-08T10:45:08.478Z"
   },
   {
    "duration": 8,
    "start_time": "2021-07-08T10:45:31.982Z"
   },
   {
    "duration": 10,
    "start_time": "2021-07-08T10:46:01.221Z"
   },
   {
    "duration": 17,
    "start_time": "2021-07-08T10:46:40.011Z"
   },
   {
    "duration": 193,
    "start_time": "2021-07-08T10:48:19.471Z"
   },
   {
    "duration": 225,
    "start_time": "2021-07-08T10:49:26.480Z"
   },
   {
    "duration": 204,
    "start_time": "2021-07-08T10:49:59.992Z"
   },
   {
    "duration": 435,
    "start_time": "2021-07-08T10:50:06.779Z"
   },
   {
    "duration": 199,
    "start_time": "2021-07-08T10:50:14.891Z"
   },
   {
    "duration": 204,
    "start_time": "2021-07-08T10:50:18.501Z"
   },
   {
    "duration": 244,
    "start_time": "2021-07-08T10:50:23.359Z"
   },
   {
    "duration": 192,
    "start_time": "2021-07-08T10:50:29.135Z"
   },
   {
    "duration": 218,
    "start_time": "2021-07-08T10:50:33.092Z"
   },
   {
    "duration": 207,
    "start_time": "2021-07-08T10:52:45.381Z"
   },
   {
    "duration": 5,
    "start_time": "2021-07-08T10:53:34.641Z"
   },
   {
    "duration": 196,
    "start_time": "2021-07-08T10:53:41.478Z"
   },
   {
    "duration": 43,
    "start_time": "2021-07-08T10:53:50.335Z"
   },
   {
    "duration": 32,
    "start_time": "2021-07-08T10:53:55.294Z"
   },
   {
    "duration": 55,
    "start_time": "2021-07-08T10:54:09.675Z"
   },
   {
    "duration": 16,
    "start_time": "2021-07-08T10:54:12.260Z"
   },
   {
    "duration": 15,
    "start_time": "2021-07-08T10:54:49.150Z"
   },
   {
    "duration": 20,
    "start_time": "2021-07-08T10:56:07.596Z"
   },
   {
    "duration": 16,
    "start_time": "2021-07-08T10:58:26.276Z"
   },
   {
    "duration": 22,
    "start_time": "2021-07-08T10:59:00.486Z"
   },
   {
    "duration": 18,
    "start_time": "2021-07-08T11:02:09.653Z"
   },
   {
    "duration": 10,
    "start_time": "2021-07-08T11:03:44.331Z"
   },
   {
    "duration": 10,
    "start_time": "2021-07-08T11:03:54.055Z"
   },
   {
    "duration": 12,
    "start_time": "2021-07-08T11:04:41.967Z"
   },
   {
    "duration": 24,
    "start_time": "2021-07-08T11:07:30.732Z"
   },
   {
    "duration": 6,
    "start_time": "2021-07-08T11:07:37.364Z"
   },
   {
    "duration": 16,
    "start_time": "2021-07-08T11:08:01.819Z"
   },
   {
    "duration": 17,
    "start_time": "2021-07-08T11:09:47.488Z"
   },
   {
    "duration": 246,
    "start_time": "2021-07-08T11:10:00.830Z"
   },
   {
    "duration": 18,
    "start_time": "2021-07-08T11:13:55.195Z"
   },
   {
    "duration": 204,
    "start_time": "2021-07-08T11:14:04.951Z"
   },
   {
    "duration": 19,
    "start_time": "2021-07-08T11:15:10.613Z"
   },
   {
    "duration": 680,
    "start_time": "2021-07-08T11:16:25.793Z"
   },
   {
    "duration": 451,
    "start_time": "2021-07-08T11:16:40.313Z"
   },
   {
    "duration": 469,
    "start_time": "2021-07-08T11:17:21.286Z"
   },
   {
    "duration": 20,
    "start_time": "2021-07-08T11:19:12.554Z"
   },
   {
    "duration": 35,
    "start_time": "2021-07-08T11:20:05.484Z"
   },
   {
    "duration": 53,
    "start_time": "2021-07-08T11:21:40.050Z"
   },
   {
    "duration": 13,
    "start_time": "2021-07-08T11:22:26.059Z"
   },
   {
    "duration": 19,
    "start_time": "2021-07-08T11:22:47.419Z"
   },
   {
    "duration": 25,
    "start_time": "2021-07-08T11:23:19.958Z"
   },
   {
    "duration": 29,
    "start_time": "2021-07-08T11:23:25.415Z"
   },
   {
    "duration": 10,
    "start_time": "2021-07-08T11:24:45.138Z"
   },
   {
    "duration": 19,
    "start_time": "2021-07-08T11:24:54.498Z"
   },
   {
    "duration": 12,
    "start_time": "2021-07-08T11:25:32.225Z"
   },
   {
    "duration": 19,
    "start_time": "2021-07-08T11:25:37.092Z"
   },
   {
    "duration": 17,
    "start_time": "2021-07-08T11:25:58.116Z"
   },
   {
    "duration": 15,
    "start_time": "2021-07-08T11:26:02.258Z"
   },
   {
    "duration": 8,
    "start_time": "2021-07-08T11:26:59.682Z"
   },
   {
    "duration": 184,
    "start_time": "2021-07-08T11:27:21.894Z"
   },
   {
    "duration": 8,
    "start_time": "2021-07-08T11:27:23.824Z"
   },
   {
    "duration": 202,
    "start_time": "2021-07-08T11:27:23.962Z"
   },
   {
    "duration": 360,
    "start_time": "2021-07-08T11:28:33.215Z"
   },
   {
    "duration": 231,
    "start_time": "2021-07-08T11:32:05.542Z"
   },
   {
    "duration": 607,
    "start_time": "2021-07-08T11:36:27.854Z"
   },
   {
    "duration": 241,
    "start_time": "2021-07-08T11:36:28.463Z"
   },
   {
    "duration": 67,
    "start_time": "2021-07-08T11:36:28.709Z"
   },
   {
    "duration": 5,
    "start_time": "2021-07-08T11:36:28.778Z"
   },
   {
    "duration": 32,
    "start_time": "2021-07-08T11:36:28.784Z"
   },
   {
    "duration": 11,
    "start_time": "2021-07-08T11:36:28.819Z"
   },
   {
    "duration": 20,
    "start_time": "2021-07-08T11:36:28.834Z"
   },
   {
    "duration": 36,
    "start_time": "2021-07-08T11:36:28.857Z"
   },
   {
    "duration": 16,
    "start_time": "2021-07-08T11:36:28.895Z"
   },
   {
    "duration": 14,
    "start_time": "2021-07-08T11:36:28.913Z"
   },
   {
    "duration": 9,
    "start_time": "2021-07-08T11:36:28.930Z"
   },
   {
    "duration": 55,
    "start_time": "2021-07-08T11:36:28.941Z"
   },
   {
    "duration": 27,
    "start_time": "2021-07-08T11:36:28.999Z"
   },
   {
    "duration": 30,
    "start_time": "2021-07-08T11:36:29.028Z"
   },
   {
    "duration": 31,
    "start_time": "2021-07-08T11:36:29.060Z"
   },
   {
    "duration": 3,
    "start_time": "2021-07-08T11:36:29.093Z"
   },
   {
    "duration": 12,
    "start_time": "2021-07-08T11:36:29.099Z"
   },
   {
    "duration": 11,
    "start_time": "2021-07-08T11:36:29.112Z"
   },
   {
    "duration": 12,
    "start_time": "2021-07-08T11:36:29.125Z"
   },
   {
    "duration": 9,
    "start_time": "2021-07-08T11:36:29.139Z"
   },
   {
    "duration": 31,
    "start_time": "2021-07-08T11:36:29.191Z"
   },
   {
    "duration": 17,
    "start_time": "2021-07-08T11:36:29.226Z"
   },
   {
    "duration": 7,
    "start_time": "2021-07-08T11:36:29.245Z"
   },
   {
    "duration": 10,
    "start_time": "2021-07-08T11:36:29.254Z"
   },
   {
    "duration": 30,
    "start_time": "2021-07-08T11:36:29.292Z"
   },
   {
    "duration": 11,
    "start_time": "2021-07-08T11:36:29.324Z"
   },
   {
    "duration": 11,
    "start_time": "2021-07-08T11:36:29.337Z"
   },
   {
    "duration": 230,
    "start_time": "2021-07-08T11:36:29.349Z"
   },
   {
    "duration": 13,
    "start_time": "2021-07-08T11:36:29.588Z"
   },
   {
    "duration": 205,
    "start_time": "2021-07-08T11:36:29.603Z"
   },
   {
    "duration": 20,
    "start_time": "2021-07-08T11:36:29.810Z"
   },
   {
    "duration": 9,
    "start_time": "2021-07-08T11:36:29.832Z"
   },
   {
    "duration": 16,
    "start_time": "2021-07-08T11:36:29.843Z"
   },
   {
    "duration": 283,
    "start_time": "2021-07-08T11:36:29.861Z"
   },
   {
    "duration": 50,
    "start_time": "2021-07-08T11:36:30.146Z"
   },
   {
    "duration": 14,
    "start_time": "2021-07-08T11:36:30.198Z"
   },
   {
    "duration": 11,
    "start_time": "2021-07-08T11:36:30.214Z"
   },
   {
    "duration": 245,
    "start_time": "2021-07-08T11:36:30.227Z"
   },
   {
    "duration": 439,
    "start_time": "2021-07-08T11:36:30.474Z"
   },
   {
    "duration": 210,
    "start_time": "2021-07-08T11:36:30.915Z"
   },
   {
    "duration": 15,
    "start_time": "2021-07-08T11:36:31.127Z"
   },
   {
    "duration": 17,
    "start_time": "2021-07-08T11:38:20.451Z"
   },
   {
    "duration": 642,
    "start_time": "2021-07-08T11:46:17.881Z"
   },
   {
    "duration": 210,
    "start_time": "2021-07-08T11:46:18.525Z"
   },
   {
    "duration": 104,
    "start_time": "2021-07-08T11:46:18.741Z"
   },
   {
    "duration": 8,
    "start_time": "2021-07-08T11:46:18.847Z"
   },
   {
    "duration": 25,
    "start_time": "2021-07-08T11:46:18.857Z"
   },
   {
    "duration": 14,
    "start_time": "2021-07-08T11:46:18.884Z"
   },
   {
    "duration": 22,
    "start_time": "2021-07-08T11:46:18.900Z"
   },
   {
    "duration": 5,
    "start_time": "2021-07-08T11:46:18.924Z"
   },
   {
    "duration": 13,
    "start_time": "2021-07-08T11:46:18.931Z"
   },
   {
    "duration": 45,
    "start_time": "2021-07-08T11:46:18.946Z"
   },
   {
    "duration": 12,
    "start_time": "2021-07-08T11:46:18.993Z"
   },
   {
    "duration": 38,
    "start_time": "2021-07-08T11:46:19.006Z"
   },
   {
    "duration": 50,
    "start_time": "2021-07-08T11:46:19.046Z"
   },
   {
    "duration": 29,
    "start_time": "2021-07-08T11:46:19.099Z"
   },
   {
    "duration": 7,
    "start_time": "2021-07-08T11:46:19.130Z"
   },
   {
    "duration": 3,
    "start_time": "2021-07-08T11:46:19.139Z"
   },
   {
    "duration": 11,
    "start_time": "2021-07-08T11:46:19.144Z"
   },
   {
    "duration": 40,
    "start_time": "2021-07-08T11:46:19.157Z"
   },
   {
    "duration": 15,
    "start_time": "2021-07-08T11:46:19.199Z"
   },
   {
    "duration": 10,
    "start_time": "2021-07-08T11:46:19.217Z"
   },
   {
    "duration": 68,
    "start_time": "2021-07-08T11:46:19.230Z"
   },
   {
    "duration": 17,
    "start_time": "2021-07-08T11:46:19.301Z"
   },
   {
    "duration": 7,
    "start_time": "2021-07-08T11:46:19.321Z"
   },
   {
    "duration": 11,
    "start_time": "2021-07-08T11:46:19.330Z"
   },
   {
    "duration": 59,
    "start_time": "2021-07-08T11:46:19.343Z"
   },
   {
    "duration": 17,
    "start_time": "2021-07-08T11:46:19.405Z"
   },
   {
    "duration": 16,
    "start_time": "2021-07-08T11:46:19.424Z"
   },
   {
    "duration": 252,
    "start_time": "2021-07-08T11:46:19.443Z"
   },
   {
    "duration": 9,
    "start_time": "2021-07-08T11:46:19.697Z"
   },
   {
    "duration": 224,
    "start_time": "2021-07-08T11:46:19.708Z"
   },
   {
    "duration": 21,
    "start_time": "2021-07-08T11:46:19.934Z"
   },
   {
    "duration": 9,
    "start_time": "2021-07-08T11:46:19.956Z"
   },
   {
    "duration": 32,
    "start_time": "2021-07-08T11:46:19.967Z"
   },
   {
    "duration": 288,
    "start_time": "2021-07-08T11:46:20.004Z"
   },
   {
    "duration": 23,
    "start_time": "2021-07-08T11:46:20.300Z"
   },
   {
    "duration": 11,
    "start_time": "2021-07-08T11:46:20.325Z"
   },
   {
    "duration": 11,
    "start_time": "2021-07-08T11:46:20.339Z"
   },
   {
    "duration": 259,
    "start_time": "2021-07-08T11:46:20.352Z"
   },
   {
    "duration": 438,
    "start_time": "2021-07-08T11:46:20.613Z"
   },
   {
    "duration": 207,
    "start_time": "2021-07-08T11:46:21.054Z"
   },
   {
    "duration": 27,
    "start_time": "2021-07-08T11:46:21.262Z"
   },
   {
    "duration": 19,
    "start_time": "2021-07-08T11:46:21.291Z"
   },
   {
    "duration": 820,
    "start_time": "2021-07-08T11:49:01.655Z"
   },
   {
    "duration": 372,
    "start_time": "2021-07-08T11:49:02.478Z"
   },
   {
    "duration": 98,
    "start_time": "2021-07-08T11:49:02.853Z"
   },
   {
    "duration": 6,
    "start_time": "2021-07-08T11:49:02.953Z"
   },
   {
    "duration": 39,
    "start_time": "2021-07-08T11:49:02.960Z"
   },
   {
    "duration": 9,
    "start_time": "2021-07-08T11:49:03.003Z"
   },
   {
    "duration": 23,
    "start_time": "2021-07-08T11:49:03.014Z"
   },
   {
    "duration": 6,
    "start_time": "2021-07-08T11:49:03.041Z"
   },
   {
    "duration": 20,
    "start_time": "2021-07-08T11:49:03.049Z"
   },
   {
    "duration": 18,
    "start_time": "2021-07-08T11:49:03.084Z"
   },
   {
    "duration": 14,
    "start_time": "2021-07-08T11:49:03.104Z"
   },
   {
    "duration": 39,
    "start_time": "2021-07-08T11:49:03.119Z"
   },
   {
    "duration": 38,
    "start_time": "2021-07-08T11:49:03.160Z"
   },
   {
    "duration": 26,
    "start_time": "2021-07-08T11:49:03.200Z"
   },
   {
    "duration": 7,
    "start_time": "2021-07-08T11:49:03.227Z"
   },
   {
    "duration": 4,
    "start_time": "2021-07-08T11:49:03.236Z"
   },
   {
    "duration": 15,
    "start_time": "2021-07-08T11:49:03.243Z"
   },
   {
    "duration": 21,
    "start_time": "2021-07-08T11:49:03.285Z"
   },
   {
    "duration": 17,
    "start_time": "2021-07-08T11:49:03.309Z"
   },
   {
    "duration": 10,
    "start_time": "2021-07-08T11:49:03.328Z"
   },
   {
    "duration": 65,
    "start_time": "2021-07-08T11:49:03.340Z"
   },
   {
    "duration": 18,
    "start_time": "2021-07-08T11:49:03.407Z"
   },
   {
    "duration": 8,
    "start_time": "2021-07-08T11:49:03.428Z"
   },
   {
    "duration": 15,
    "start_time": "2021-07-08T11:49:03.438Z"
   },
   {
    "duration": 40,
    "start_time": "2021-07-08T11:49:03.455Z"
   },
   {
    "duration": 12,
    "start_time": "2021-07-08T11:49:03.497Z"
   },
   {
    "duration": 29,
    "start_time": "2021-07-08T11:49:03.511Z"
   },
   {
    "duration": 285,
    "start_time": "2021-07-08T11:49:03.542Z"
   },
   {
    "duration": 8,
    "start_time": "2021-07-08T11:49:03.829Z"
   },
   {
    "duration": 227,
    "start_time": "2021-07-08T11:49:03.838Z"
   },
   {
    "duration": 40,
    "start_time": "2021-07-08T11:49:04.066Z"
   },
   {
    "duration": 10,
    "start_time": "2021-07-08T11:49:04.108Z"
   },
   {
    "duration": 26,
    "start_time": "2021-07-08T11:49:04.121Z"
   },
   {
    "duration": 290,
    "start_time": "2021-07-08T11:49:04.149Z"
   },
   {
    "duration": 26,
    "start_time": "2021-07-08T11:49:04.441Z"
   },
   {
    "duration": 31,
    "start_time": "2021-07-08T11:49:04.470Z"
   },
   {
    "duration": 14,
    "start_time": "2021-07-08T11:49:04.503Z"
   },
   {
    "duration": 259,
    "start_time": "2021-07-08T11:49:04.521Z"
   },
   {
    "duration": 480,
    "start_time": "2021-07-08T11:49:04.782Z"
   },
   {
    "duration": 225,
    "start_time": "2021-07-08T11:49:05.264Z"
   },
   {
    "duration": 22,
    "start_time": "2021-07-08T11:49:05.491Z"
   },
   {
    "duration": 24,
    "start_time": "2021-07-08T11:49:05.515Z"
   },
   {
    "duration": 634,
    "start_time": "2021-07-08T11:52:24.960Z"
   },
   {
    "duration": 199,
    "start_time": "2021-07-08T11:52:25.599Z"
   },
   {
    "duration": 106,
    "start_time": "2021-07-08T11:52:25.803Z"
   },
   {
    "duration": 7,
    "start_time": "2021-07-08T11:52:25.911Z"
   },
   {
    "duration": 29,
    "start_time": "2021-07-08T11:52:25.920Z"
   },
   {
    "duration": 7,
    "start_time": "2021-07-08T11:52:25.951Z"
   },
   {
    "duration": 26,
    "start_time": "2021-07-08T11:52:25.961Z"
   },
   {
    "duration": 11,
    "start_time": "2021-07-08T11:52:25.990Z"
   },
   {
    "duration": 29,
    "start_time": "2021-07-08T11:52:26.005Z"
   },
   {
    "duration": 9,
    "start_time": "2021-07-08T11:52:26.036Z"
   },
   {
    "duration": 8,
    "start_time": "2021-07-08T11:52:26.047Z"
   },
   {
    "duration": 63,
    "start_time": "2021-07-08T11:52:26.057Z"
   },
   {
    "duration": 17,
    "start_time": "2021-07-08T11:52:26.122Z"
   },
   {
    "duration": 43,
    "start_time": "2021-07-08T11:52:26.142Z"
   },
   {
    "duration": 17,
    "start_time": "2021-07-08T11:52:26.187Z"
   },
   {
    "duration": 5,
    "start_time": "2021-07-08T11:52:26.206Z"
   },
   {
    "duration": 12,
    "start_time": "2021-07-08T11:52:26.212Z"
   },
   {
    "duration": 11,
    "start_time": "2021-07-08T11:52:26.226Z"
   },
   {
    "duration": 12,
    "start_time": "2021-07-08T11:52:26.238Z"
   },
   {
    "duration": 38,
    "start_time": "2021-07-08T11:52:26.252Z"
   },
   {
    "duration": 40,
    "start_time": "2021-07-08T11:52:26.292Z"
   },
   {
    "duration": 17,
    "start_time": "2021-07-08T11:52:26.336Z"
   },
   {
    "duration": 39,
    "start_time": "2021-07-08T11:52:26.355Z"
   },
   {
    "duration": 11,
    "start_time": "2021-07-08T11:52:26.395Z"
   },
   {
    "duration": 23,
    "start_time": "2021-07-08T11:52:26.408Z"
   },
   {
    "duration": 12,
    "start_time": "2021-07-08T11:52:26.432Z"
   },
   {
    "duration": 41,
    "start_time": "2021-07-08T11:52:26.446Z"
   },
   {
    "duration": 215,
    "start_time": "2021-07-08T11:52:26.493Z"
   },
   {
    "duration": 8,
    "start_time": "2021-07-08T11:52:26.710Z"
   },
   {
    "duration": 228,
    "start_time": "2021-07-08T11:52:26.720Z"
   },
   {
    "duration": 18,
    "start_time": "2021-07-08T11:52:26.950Z"
   },
   {
    "duration": 35,
    "start_time": "2021-07-08T11:52:26.969Z"
   },
   {
    "duration": 23,
    "start_time": "2021-07-08T11:52:27.006Z"
   },
   {
    "duration": 258,
    "start_time": "2021-07-08T11:52:27.030Z"
   },
   {
    "duration": 24,
    "start_time": "2021-07-08T11:52:27.290Z"
   },
   {
    "duration": 12,
    "start_time": "2021-07-08T11:52:27.316Z"
   },
   {
    "duration": 10,
    "start_time": "2021-07-08T11:52:27.329Z"
   },
   {
    "duration": 298,
    "start_time": "2021-07-08T11:52:27.341Z"
   },
   {
    "duration": 436,
    "start_time": "2021-07-08T11:52:27.641Z"
   },
   {
    "duration": 216,
    "start_time": "2021-07-08T11:52:28.079Z"
   },
   {
    "duration": 20,
    "start_time": "2021-07-08T11:52:28.297Z"
   },
   {
    "duration": 17,
    "start_time": "2021-07-08T11:52:28.319Z"
   },
   {
    "duration": 389,
    "start_time": "2023-10-04T15:47:49.053Z"
   },
   {
    "duration": 360,
    "start_time": "2023-10-04T15:47:49.510Z"
   },
   {
    "duration": 9,
    "start_time": "2023-10-04T15:47:56.302Z"
   },
   {
    "duration": 133,
    "start_time": "2023-10-04T15:49:34.107Z"
   },
   {
    "duration": 4,
    "start_time": "2023-10-04T15:50:17.022Z"
   },
   {
    "duration": 139,
    "start_time": "2023-10-04T15:50:17.028Z"
   },
   {
    "duration": 11,
    "start_time": "2023-10-04T15:50:17.169Z"
   },
   {
    "duration": 5,
    "start_time": "2023-10-04T15:50:17.182Z"
   },
   {
    "duration": 21,
    "start_time": "2023-10-04T15:50:43.004Z"
   },
   {
    "duration": 8,
    "start_time": "2023-10-04T15:50:47.028Z"
   },
   {
    "duration": 22,
    "start_time": "2023-10-04T15:51:00.239Z"
   },
   {
    "duration": 12,
    "start_time": "2023-10-04T15:51:06.555Z"
   },
   {
    "duration": 12,
    "start_time": "2023-10-04T15:53:09.605Z"
   },
   {
    "duration": 12,
    "start_time": "2023-10-04T15:54:03.058Z"
   },
   {
    "duration": 11,
    "start_time": "2023-10-04T15:57:17.566Z"
   },
   {
    "duration": 21,
    "start_time": "2023-10-04T15:58:44.615Z"
   },
   {
    "duration": 38,
    "start_time": "2023-10-04T15:59:24.783Z"
   },
   {
    "duration": 21,
    "start_time": "2023-10-04T15:59:55.317Z"
   },
   {
    "duration": 337,
    "start_time": "2023-10-04T16:01:45.489Z"
   },
   {
    "duration": 2,
    "start_time": "2023-10-04T16:02:40.715Z"
   },
   {
    "duration": 146,
    "start_time": "2023-10-04T16:02:40.719Z"
   },
   {
    "duration": 33,
    "start_time": "2023-10-04T16:02:40.867Z"
   },
   {
    "duration": 506,
    "start_time": "2023-10-04T16:02:40.902Z"
   },
   {
    "duration": 0,
    "start_time": "2023-10-04T16:02:41.410Z"
   },
   {
    "duration": 0,
    "start_time": "2023-10-04T16:02:41.411Z"
   },
   {
    "duration": 9,
    "start_time": "2023-10-04T16:05:58.162Z"
   },
   {
    "duration": 7,
    "start_time": "2023-10-04T16:06:09.722Z"
   },
   {
    "duration": 14,
    "start_time": "2023-10-04T16:06:11.988Z"
   },
   {
    "duration": 38,
    "start_time": "2023-10-04T16:07:00.948Z"
   },
   {
    "duration": 3,
    "start_time": "2023-10-04T16:08:25.988Z"
   },
   {
    "duration": 170,
    "start_time": "2023-10-04T16:08:25.993Z"
   },
   {
    "duration": 35,
    "start_time": "2023-10-04T16:08:26.165Z"
   },
   {
    "duration": 113,
    "start_time": "2023-10-04T16:08:26.201Z"
   },
   {
    "duration": 18,
    "start_time": "2023-10-04T16:08:26.316Z"
   },
   {
    "duration": 29,
    "start_time": "2023-10-04T16:08:26.336Z"
   },
   {
    "duration": 43,
    "start_time": "2023-10-04T16:08:26.367Z"
   },
   {
    "duration": 1548,
    "start_time": "2023-10-11T23:48:01.524Z"
   },
   {
    "duration": 319,
    "start_time": "2023-10-11T23:48:03.074Z"
   },
   {
    "duration": 53,
    "start_time": "2023-10-11T23:48:03.395Z"
   },
   {
    "duration": 23,
    "start_time": "2023-10-11T23:48:03.450Z"
   },
   {
    "duration": 36,
    "start_time": "2023-10-11T23:48:03.476Z"
   },
   {
    "duration": 21,
    "start_time": "2023-10-11T23:48:03.514Z"
   },
   {
    "duration": 40,
    "start_time": "2023-10-11T23:48:03.537Z"
   },
   {
    "duration": 46,
    "start_time": "2023-10-11T23:48:03.578Z"
   },
   {
    "duration": 887,
    "start_time": "2023-10-11T23:48:03.630Z"
   },
   {
    "duration": 38,
    "start_time": "2023-10-11T23:48:04.519Z"
   },
   {
    "duration": 49,
    "start_time": "2023-10-11T23:48:04.559Z"
   },
   {
    "duration": 75,
    "start_time": "2023-10-11T23:48:04.616Z"
   },
   {
    "duration": 42,
    "start_time": "2023-10-11T23:48:04.693Z"
   },
   {
    "duration": 47,
    "start_time": "2023-10-11T23:48:04.740Z"
   },
   {
    "duration": 195,
    "start_time": "2023-10-11T23:48:04.789Z"
   },
   {
    "duration": 27,
    "start_time": "2023-10-11T23:48:04.986Z"
   },
   {
    "duration": 40,
    "start_time": "2023-10-11T23:48:05.015Z"
   },
   {
    "duration": 26,
    "start_time": "2023-10-11T23:48:05.057Z"
   },
   {
    "duration": 86,
    "start_time": "2023-10-11T23:48:05.085Z"
   },
   {
    "duration": 382,
    "start_time": "2023-10-11T23:48:05.173Z"
   },
   {
    "duration": 9,
    "start_time": "2023-10-11T23:48:05.556Z"
   },
   {
    "duration": 27,
    "start_time": "2023-10-11T23:48:05.567Z"
   },
   {
    "duration": 55,
    "start_time": "2023-10-11T23:48:05.596Z"
   },
   {
    "duration": 27,
    "start_time": "2023-10-11T23:48:05.653Z"
   },
   {
    "duration": 54,
    "start_time": "2023-10-11T23:48:05.682Z"
   },
   {
    "duration": 101,
    "start_time": "2023-10-11T23:48:05.738Z"
   },
   {
    "duration": 214,
    "start_time": "2023-10-11T23:48:05.841Z"
   },
   {
    "duration": 208,
    "start_time": "2023-10-11T23:48:06.057Z"
   },
   {
    "duration": 8,
    "start_time": "2023-10-11T23:48:06.267Z"
   },
   {
    "duration": 49,
    "start_time": "2023-10-11T23:48:06.277Z"
   },
   {
    "duration": 58,
    "start_time": "2023-10-11T23:48:06.328Z"
   },
   {
    "duration": 238,
    "start_time": "2023-10-11T23:48:06.388Z"
   },
   {
    "duration": 6,
    "start_time": "2023-10-11T23:48:06.630Z"
   },
   {
    "duration": 52,
    "start_time": "2023-10-11T23:48:06.637Z"
   },
   {
    "duration": 29,
    "start_time": "2023-10-11T23:48:06.691Z"
   },
   {
    "duration": 8,
    "start_time": "2023-10-11T23:48:06.726Z"
   },
   {
    "duration": 369,
    "start_time": "2023-10-11T23:48:06.736Z"
   },
   {
    "duration": 211,
    "start_time": "2023-10-11T23:48:07.110Z"
   },
   {
    "duration": 546,
    "start_time": "2023-10-11T23:48:07.331Z"
   },
   {
    "duration": 264,
    "start_time": "2023-10-11T23:48:07.879Z"
   },
   {
    "duration": 363,
    "start_time": "2023-10-11T23:48:08.149Z"
   },
   {
    "duration": 350,
    "start_time": "2023-10-11T23:48:08.514Z"
   },
   {
    "duration": 1590,
    "start_time": "2023-10-12T09:24:16.390Z"
   },
   {
    "duration": 412,
    "start_time": "2023-10-12T09:24:17.982Z"
   },
   {
    "duration": 36,
    "start_time": "2023-10-12T09:24:18.395Z"
   },
   {
    "duration": 15,
    "start_time": "2023-10-12T09:24:18.433Z"
   },
   {
    "duration": 48,
    "start_time": "2023-10-12T09:24:18.450Z"
   },
   {
    "duration": 87,
    "start_time": "2023-10-12T09:24:18.499Z"
   },
   {
    "duration": 150,
    "start_time": "2023-10-12T09:24:18.588Z"
   },
   {
    "duration": 39,
    "start_time": "2023-10-12T09:24:18.740Z"
   },
   {
    "duration": 730,
    "start_time": "2023-10-12T09:24:18.781Z"
   },
   {
    "duration": 16,
    "start_time": "2023-10-12T09:24:19.513Z"
   },
   {
    "duration": 30,
    "start_time": "2023-10-12T09:24:19.530Z"
   },
   {
    "duration": 58,
    "start_time": "2023-10-12T09:24:19.562Z"
   },
   {
    "duration": 47,
    "start_time": "2023-10-12T09:24:19.622Z"
   },
   {
    "duration": 33,
    "start_time": "2023-10-12T09:24:19.673Z"
   },
   {
    "duration": 157,
    "start_time": "2023-10-12T09:24:19.707Z"
   },
   {
    "duration": 16,
    "start_time": "2023-10-12T09:24:19.865Z"
   },
   {
    "duration": 25,
    "start_time": "2023-10-12T09:24:19.883Z"
   },
   {
    "duration": 7,
    "start_time": "2023-10-12T09:24:19.910Z"
   },
   {
    "duration": 67,
    "start_time": "2023-10-12T09:24:19.919Z"
   },
   {
    "duration": 303,
    "start_time": "2023-10-12T09:24:19.988Z"
   },
   {
    "duration": 8,
    "start_time": "2023-10-12T09:24:20.293Z"
   },
   {
    "duration": 48,
    "start_time": "2023-10-12T09:24:20.303Z"
   },
   {
    "duration": 39,
    "start_time": "2023-10-12T09:24:20.353Z"
   },
   {
    "duration": 17,
    "start_time": "2023-10-12T09:24:20.394Z"
   },
   {
    "duration": 43,
    "start_time": "2023-10-12T09:24:20.413Z"
   },
   {
    "duration": 65,
    "start_time": "2023-10-12T09:24:20.457Z"
   },
   {
    "duration": 54,
    "start_time": "2023-10-12T09:24:20.524Z"
   },
   {
    "duration": 168,
    "start_time": "2023-10-12T09:24:20.580Z"
   },
   {
    "duration": 8,
    "start_time": "2023-10-12T09:24:20.751Z"
   },
   {
    "duration": 64,
    "start_time": "2023-10-12T09:24:20.760Z"
   },
   {
    "duration": 33,
    "start_time": "2023-10-12T09:24:20.826Z"
   },
   {
    "duration": 116,
    "start_time": "2023-10-12T09:24:20.861Z"
   },
   {
    "duration": 4,
    "start_time": "2023-10-12T09:24:20.978Z"
   },
   {
    "duration": 60,
    "start_time": "2023-10-12T09:24:20.983Z"
   },
   {
    "duration": 24,
    "start_time": "2023-10-12T09:24:21.045Z"
   },
   {
    "duration": 41,
    "start_time": "2023-10-12T09:24:21.071Z"
   },
   {
    "duration": 325,
    "start_time": "2023-10-12T09:24:21.114Z"
   },
   {
    "duration": 154,
    "start_time": "2023-10-12T09:24:21.440Z"
   },
   {
    "duration": 461,
    "start_time": "2023-10-12T09:24:21.595Z"
   },
   {
    "duration": 219,
    "start_time": "2023-10-12T09:24:22.058Z"
   },
   {
    "duration": 316,
    "start_time": "2023-10-12T09:24:22.281Z"
   },
   {
    "duration": 275,
    "start_time": "2023-10-12T09:24:22.598Z"
   },
   {
    "duration": 6,
    "start_time": "2023-10-12T09:38:30.518Z"
   },
   {
    "duration": 1160,
    "start_time": "2023-10-12T09:38:41.202Z"
   },
   {
    "duration": 126,
    "start_time": "2023-10-12T09:38:42.364Z"
   },
   {
    "duration": 35,
    "start_time": "2023-10-12T09:38:42.491Z"
   },
   {
    "duration": 16,
    "start_time": "2023-10-12T09:38:42.528Z"
   },
   {
    "duration": 13,
    "start_time": "2023-10-12T09:38:42.547Z"
   },
   {
    "duration": 45,
    "start_time": "2023-10-12T09:38:42.562Z"
   },
   {
    "duration": 19,
    "start_time": "2023-10-12T09:38:42.609Z"
   },
   {
    "duration": 57,
    "start_time": "2023-10-12T09:38:42.629Z"
   },
   {
    "duration": 696,
    "start_time": "2023-10-12T09:38:42.688Z"
   },
   {
    "duration": 20,
    "start_time": "2023-10-12T09:38:43.385Z"
   },
   {
    "duration": 20,
    "start_time": "2023-10-12T09:38:43.406Z"
   },
   {
    "duration": 16,
    "start_time": "2023-10-12T09:38:43.427Z"
   },
   {
    "duration": 41,
    "start_time": "2023-10-12T09:38:43.445Z"
   },
   {
    "duration": 26,
    "start_time": "2023-10-12T09:38:43.489Z"
   },
   {
    "duration": 34,
    "start_time": "2023-10-12T09:38:43.517Z"
   },
   {
    "duration": 152,
    "start_time": "2023-10-12T09:38:43.553Z"
   },
   {
    "duration": 17,
    "start_time": "2023-10-12T09:38:43.708Z"
   },
   {
    "duration": 39,
    "start_time": "2023-10-12T09:38:43.726Z"
   },
   {
    "duration": 26,
    "start_time": "2023-10-12T09:38:43.766Z"
   },
   {
    "duration": 65,
    "start_time": "2023-10-12T09:38:43.794Z"
   },
   {
    "duration": 300,
    "start_time": "2023-10-12T09:38:43.861Z"
   },
   {
    "duration": 8,
    "start_time": "2023-10-12T09:38:44.163Z"
   },
   {
    "duration": 48,
    "start_time": "2023-10-12T09:38:44.173Z"
   },
   {
    "duration": 20,
    "start_time": "2023-10-12T09:38:44.222Z"
   },
   {
    "duration": 16,
    "start_time": "2023-10-12T09:38:44.244Z"
   },
   {
    "duration": 16,
    "start_time": "2023-10-12T09:38:44.261Z"
   },
   {
    "duration": 41,
    "start_time": "2023-10-12T09:38:44.278Z"
   },
   {
    "duration": 53,
    "start_time": "2023-10-12T09:38:44.320Z"
   },
   {
    "duration": 178,
    "start_time": "2023-10-12T09:38:44.375Z"
   },
   {
    "duration": 9,
    "start_time": "2023-10-12T09:38:44.555Z"
   },
   {
    "duration": 50,
    "start_time": "2023-10-12T09:38:44.565Z"
   },
   {
    "duration": 40,
    "start_time": "2023-10-12T09:38:44.617Z"
   },
   {
    "duration": 128,
    "start_time": "2023-10-12T09:38:44.659Z"
   },
   {
    "duration": 4,
    "start_time": "2023-10-12T09:38:44.788Z"
   },
   {
    "duration": 64,
    "start_time": "2023-10-12T09:38:44.794Z"
   },
   {
    "duration": 20,
    "start_time": "2023-10-12T09:38:44.860Z"
   },
   {
    "duration": 11,
    "start_time": "2023-10-12T09:38:44.881Z"
   },
   {
    "duration": 309,
    "start_time": "2023-10-12T09:38:44.894Z"
   },
   {
    "duration": 157,
    "start_time": "2023-10-12T09:38:45.204Z"
   },
   {
    "duration": 463,
    "start_time": "2023-10-12T09:38:45.363Z"
   },
   {
    "duration": 230,
    "start_time": "2023-10-12T09:38:45.830Z"
   },
   {
    "duration": 315,
    "start_time": "2023-10-12T09:38:46.061Z"
   },
   {
    "duration": 278,
    "start_time": "2023-10-12T09:38:46.378Z"
   },
   {
    "duration": 3,
    "start_time": "2023-10-12T09:43:44.913Z"
   },
   {
    "duration": 7,
    "start_time": "2023-10-12T10:19:09.429Z"
   },
   {
    "duration": 1478,
    "start_time": "2023-10-12T11:36:10.698Z"
   },
   {
    "duration": 284,
    "start_time": "2023-10-12T11:36:12.178Z"
   },
   {
    "duration": 40,
    "start_time": "2023-10-12T11:36:12.464Z"
   },
   {
    "duration": 18,
    "start_time": "2023-10-12T11:36:12.506Z"
   },
   {
    "duration": 11,
    "start_time": "2023-10-12T11:36:58.461Z"
   },
   {
    "duration": 15,
    "start_time": "2023-10-12T11:36:59.295Z"
   },
   {
    "duration": 22,
    "start_time": "2023-10-12T11:37:05.592Z"
   },
   {
    "duration": 21,
    "start_time": "2023-10-12T11:37:06.845Z"
   },
   {
    "duration": 898,
    "start_time": "2023-10-12T11:38:04.008Z"
   },
   {
    "duration": 30,
    "start_time": "2023-10-12T11:50:50.597Z"
   },
   {
    "duration": 3,
    "start_time": "2023-10-12T11:51:08.037Z"
   },
   {
    "duration": 221,
    "start_time": "2023-10-12T11:51:08.042Z"
   },
   {
    "duration": 132,
    "start_time": "2023-10-12T11:51:08.265Z"
   },
   {
    "duration": 43,
    "start_time": "2023-10-12T11:51:08.399Z"
   },
   {
    "duration": 34,
    "start_time": "2023-10-12T11:51:08.444Z"
   },
   {
    "duration": 26,
    "start_time": "2023-10-12T11:51:08.480Z"
   },
   {
    "duration": 25,
    "start_time": "2023-10-12T11:51:08.509Z"
   },
   {
    "duration": 45,
    "start_time": "2023-10-12T11:51:08.536Z"
   },
   {
    "duration": 40,
    "start_time": "2023-10-12T11:51:08.583Z"
   },
   {
    "duration": 24,
    "start_time": "2023-10-12T11:51:08.626Z"
   },
   {
    "duration": 24,
    "start_time": "2023-10-12T11:51:08.653Z"
   },
   {
    "duration": 41,
    "start_time": "2023-10-12T11:51:08.679Z"
   },
   {
    "duration": 71,
    "start_time": "2023-10-12T11:51:08.723Z"
   },
   {
    "duration": 42,
    "start_time": "2023-10-12T11:51:08.798Z"
   },
   {
    "duration": 69,
    "start_time": "2023-10-12T11:51:08.843Z"
   },
   {
    "duration": 159,
    "start_time": "2023-10-12T11:51:08.913Z"
   },
   {
    "duration": 124,
    "start_time": "2023-10-12T11:51:09.074Z"
   },
   {
    "duration": 62,
    "start_time": "2023-10-12T11:51:09.200Z"
   },
   {
    "duration": 139,
    "start_time": "2023-10-12T11:51:09.264Z"
   },
   {
    "duration": 204,
    "start_time": "2023-10-12T11:51:09.405Z"
   },
   {
    "duration": 64,
    "start_time": "2023-10-12T11:51:09.611Z"
   },
   {
    "duration": 353,
    "start_time": "2023-10-12T11:51:09.677Z"
   },
   {
    "duration": 9,
    "start_time": "2023-10-12T11:51:10.032Z"
   },
   {
    "duration": 61,
    "start_time": "2023-10-12T11:51:10.042Z"
   },
   {
    "duration": 41,
    "start_time": "2023-10-12T11:51:10.105Z"
   },
   {
    "duration": 9,
    "start_time": "2023-10-12T11:51:10.148Z"
   },
   {
    "duration": 37,
    "start_time": "2023-10-12T11:51:10.159Z"
   },
   {
    "duration": 51,
    "start_time": "2023-10-12T11:51:10.198Z"
   },
   {
    "duration": 59,
    "start_time": "2023-10-12T11:51:10.251Z"
   },
   {
    "duration": 175,
    "start_time": "2023-10-12T11:51:10.312Z"
   },
   {
    "duration": 13,
    "start_time": "2023-10-12T11:51:10.489Z"
   },
   {
    "duration": 24,
    "start_time": "2023-10-12T11:51:10.504Z"
   },
   {
    "duration": 24,
    "start_time": "2023-10-12T11:51:10.530Z"
   },
   {
    "duration": 146,
    "start_time": "2023-10-12T11:51:10.556Z"
   },
   {
    "duration": 5,
    "start_time": "2023-10-12T11:51:10.704Z"
   },
   {
    "duration": 264,
    "start_time": "2023-10-12T11:51:10.711Z"
   },
   {
    "duration": 319,
    "start_time": "2023-10-12T11:51:10.976Z"
   },
   {
    "duration": 229,
    "start_time": "2023-10-12T11:51:11.297Z"
   },
   {
    "duration": 475,
    "start_time": "2023-10-12T11:51:11.528Z"
   },
   {
    "duration": 208,
    "start_time": "2023-10-12T11:51:12.005Z"
   },
   {
    "duration": 536,
    "start_time": "2023-10-12T11:51:12.217Z"
   },
   {
    "duration": 873,
    "start_time": "2023-10-12T11:51:12.755Z"
   },
   {
    "duration": 336,
    "start_time": "2023-10-12T11:51:13.630Z"
   },
   {
    "duration": 326,
    "start_time": "2023-10-12T11:51:13.968Z"
   },
   {
    "duration": 56,
    "start_time": "2023-10-12T11:59:27.733Z"
   },
   {
    "duration": 2246,
    "start_time": "2023-10-12T12:00:24.539Z"
   },
   {
    "duration": 14,
    "start_time": "2023-10-12T12:03:38.022Z"
   },
   {
    "duration": 5,
    "start_time": "2023-10-12T12:03:57.273Z"
   },
   {
    "duration": 6,
    "start_time": "2023-10-12T12:04:58.604Z"
   },
   {
    "duration": 154,
    "start_time": "2023-10-12T12:04:58.612Z"
   },
   {
    "duration": 35,
    "start_time": "2023-10-12T12:04:58.768Z"
   },
   {
    "duration": 62,
    "start_time": "2023-10-12T12:04:58.805Z"
   },
   {
    "duration": 66,
    "start_time": "2023-10-12T12:04:58.869Z"
   },
   {
    "duration": 50,
    "start_time": "2023-10-12T12:04:58.937Z"
   },
   {
    "duration": 47,
    "start_time": "2023-10-12T12:04:58.989Z"
   },
   {
    "duration": 46,
    "start_time": "2023-10-12T12:04:59.038Z"
   },
   {
    "duration": 46,
    "start_time": "2023-10-12T12:04:59.087Z"
   },
   {
    "duration": 61,
    "start_time": "2023-10-12T12:04:59.135Z"
   },
   {
    "duration": 35,
    "start_time": "2023-10-12T12:04:59.198Z"
   },
   {
    "duration": 45,
    "start_time": "2023-10-12T12:04:59.235Z"
   },
   {
    "duration": 70,
    "start_time": "2023-10-12T12:04:59.282Z"
   },
   {
    "duration": 55,
    "start_time": "2023-10-12T12:04:59.354Z"
   },
   {
    "duration": 40,
    "start_time": "2023-10-12T12:04:59.421Z"
   },
   {
    "duration": 2141,
    "start_time": "2023-10-12T12:04:59.463Z"
   },
   {
    "duration": 0,
    "start_time": "2023-10-12T12:05:01.607Z"
   },
   {
    "duration": 1,
    "start_time": "2023-10-12T12:05:01.608Z"
   },
   {
    "duration": 0,
    "start_time": "2023-10-12T12:05:01.610Z"
   },
   {
    "duration": 0,
    "start_time": "2023-10-12T12:05:01.611Z"
   },
   {
    "duration": 0,
    "start_time": "2023-10-12T12:05:01.613Z"
   },
   {
    "duration": 0,
    "start_time": "2023-10-12T12:05:01.614Z"
   },
   {
    "duration": 0,
    "start_time": "2023-10-12T12:05:01.616Z"
   },
   {
    "duration": 0,
    "start_time": "2023-10-12T12:05:01.617Z"
   },
   {
    "duration": 0,
    "start_time": "2023-10-12T12:05:01.620Z"
   },
   {
    "duration": 0,
    "start_time": "2023-10-12T12:05:01.621Z"
   },
   {
    "duration": 0,
    "start_time": "2023-10-12T12:05:01.624Z"
   },
   {
    "duration": 0,
    "start_time": "2023-10-12T12:05:01.625Z"
   },
   {
    "duration": 0,
    "start_time": "2023-10-12T12:05:01.628Z"
   },
   {
    "duration": 0,
    "start_time": "2023-10-12T12:05:01.630Z"
   },
   {
    "duration": 0,
    "start_time": "2023-10-12T12:05:01.632Z"
   },
   {
    "duration": 0,
    "start_time": "2023-10-12T12:05:01.633Z"
   },
   {
    "duration": 0,
    "start_time": "2023-10-12T12:05:01.634Z"
   },
   {
    "duration": 0,
    "start_time": "2023-10-12T12:05:01.635Z"
   },
   {
    "duration": 0,
    "start_time": "2023-10-12T12:05:01.637Z"
   },
   {
    "duration": 0,
    "start_time": "2023-10-12T12:05:01.638Z"
   },
   {
    "duration": 0,
    "start_time": "2023-10-12T12:05:01.639Z"
   },
   {
    "duration": 0,
    "start_time": "2023-10-12T12:05:01.640Z"
   },
   {
    "duration": 0,
    "start_time": "2023-10-12T12:05:01.641Z"
   },
   {
    "duration": 0,
    "start_time": "2023-10-12T12:05:01.642Z"
   },
   {
    "duration": 0,
    "start_time": "2023-10-12T12:05:01.643Z"
   },
   {
    "duration": 0,
    "start_time": "2023-10-12T12:05:01.644Z"
   },
   {
    "duration": 0,
    "start_time": "2023-10-12T12:05:01.645Z"
   },
   {
    "duration": 0,
    "start_time": "2023-10-12T12:05:01.646Z"
   },
   {
    "duration": 3,
    "start_time": "2023-10-12T12:06:10.842Z"
   },
   {
    "duration": 182,
    "start_time": "2023-10-12T12:06:10.848Z"
   },
   {
    "duration": 34,
    "start_time": "2023-10-12T12:06:11.032Z"
   },
   {
    "duration": 18,
    "start_time": "2023-10-12T12:06:11.067Z"
   },
   {
    "duration": 22,
    "start_time": "2023-10-12T12:06:11.087Z"
   },
   {
    "duration": 24,
    "start_time": "2023-10-12T12:06:11.114Z"
   },
   {
    "duration": 54,
    "start_time": "2023-10-12T12:06:11.140Z"
   },
   {
    "duration": 38,
    "start_time": "2023-10-12T12:06:11.196Z"
   },
   {
    "duration": 50,
    "start_time": "2023-10-12T12:06:11.235Z"
   },
   {
    "duration": 39,
    "start_time": "2023-10-12T12:06:11.287Z"
   },
   {
    "duration": 18,
    "start_time": "2023-10-12T12:06:11.329Z"
   },
   {
    "duration": 41,
    "start_time": "2023-10-12T12:06:11.349Z"
   },
   {
    "duration": 61,
    "start_time": "2023-10-12T12:06:11.393Z"
   },
   {
    "duration": 31,
    "start_time": "2023-10-12T12:06:11.459Z"
   },
   {
    "duration": 78,
    "start_time": "2023-10-12T12:06:11.492Z"
   },
   {
    "duration": 28,
    "start_time": "2023-10-12T12:06:11.572Z"
   },
   {
    "duration": 32,
    "start_time": "2023-10-12T12:06:11.606Z"
   },
   {
    "duration": 24,
    "start_time": "2023-10-12T12:06:11.640Z"
   },
   {
    "duration": 90,
    "start_time": "2023-10-12T12:06:11.665Z"
   },
   {
    "duration": 62,
    "start_time": "2023-10-12T12:06:11.757Z"
   },
   {
    "duration": 60,
    "start_time": "2023-10-12T12:06:11.824Z"
   },
   {
    "duration": 394,
    "start_time": "2023-10-12T12:06:11.886Z"
   },
   {
    "duration": 9,
    "start_time": "2023-10-12T12:06:12.282Z"
   },
   {
    "duration": 121,
    "start_time": "2023-10-12T12:06:12.293Z"
   },
   {
    "duration": 52,
    "start_time": "2023-10-12T12:06:12.420Z"
   },
   {
    "duration": 10,
    "start_time": "2023-10-12T12:06:12.474Z"
   },
   {
    "duration": 40,
    "start_time": "2023-10-12T12:06:12.486Z"
   },
   {
    "duration": 145,
    "start_time": "2023-10-12T12:06:12.528Z"
   },
   {
    "duration": 56,
    "start_time": "2023-10-12T12:06:12.675Z"
   },
   {
    "duration": 168,
    "start_time": "2023-10-12T12:06:12.733Z"
   },
   {
    "duration": 10,
    "start_time": "2023-10-12T12:06:12.902Z"
   },
   {
    "duration": 23,
    "start_time": "2023-10-12T12:06:12.921Z"
   },
   {
    "duration": 26,
    "start_time": "2023-10-12T12:06:12.945Z"
   },
   {
    "duration": 52,
    "start_time": "2023-10-12T12:06:12.972Z"
   },
   {
    "duration": 8,
    "start_time": "2023-10-12T12:06:13.026Z"
   },
   {
    "duration": 78,
    "start_time": "2023-10-12T12:06:13.036Z"
   },
   {
    "duration": 29,
    "start_time": "2023-10-12T12:06:13.115Z"
   },
   {
    "duration": 68,
    "start_time": "2023-10-12T12:06:13.146Z"
   },
   {
    "duration": 341,
    "start_time": "2023-10-12T12:06:13.222Z"
   },
   {
    "duration": 194,
    "start_time": "2023-10-12T12:06:13.565Z"
   },
   {
    "duration": 584,
    "start_time": "2023-10-12T12:06:13.763Z"
   },
   {
    "duration": 288,
    "start_time": "2023-10-12T12:06:14.349Z"
   },
   {
    "duration": 400,
    "start_time": "2023-10-12T12:06:14.639Z"
   },
   {
    "duration": 320,
    "start_time": "2023-10-12T12:06:15.041Z"
   },
   {
    "duration": 4,
    "start_time": "2023-10-12T13:47:30.425Z"
   },
   {
    "duration": 817,
    "start_time": "2023-10-12T13:47:30.432Z"
   },
   {
    "duration": 179,
    "start_time": "2023-10-12T13:47:31.251Z"
   },
   {
    "duration": 648,
    "start_time": "2023-10-12T13:47:31.433Z"
   },
   {
    "duration": 186,
    "start_time": "2023-10-12T13:47:32.082Z"
   },
   {
    "duration": 177,
    "start_time": "2023-10-12T13:47:32.269Z"
   },
   {
    "duration": 723,
    "start_time": "2023-10-12T13:47:32.448Z"
   },
   {
    "duration": 62,
    "start_time": "2023-10-12T13:47:33.173Z"
   },
   {
    "duration": 77,
    "start_time": "2023-10-12T13:47:33.237Z"
   },
   {
    "duration": 43,
    "start_time": "2023-10-12T13:47:33.317Z"
   },
   {
    "duration": 23,
    "start_time": "2023-10-12T13:47:33.362Z"
   },
   {
    "duration": 56,
    "start_time": "2023-10-12T13:47:33.387Z"
   },
   {
    "duration": 0,
    "start_time": "2023-10-12T13:47:33.445Z"
   },
   {
    "duration": 0,
    "start_time": "2023-10-12T13:47:33.447Z"
   },
   {
    "duration": 0,
    "start_time": "2023-10-12T13:47:33.448Z"
   },
   {
    "duration": 0,
    "start_time": "2023-10-12T13:47:33.449Z"
   },
   {
    "duration": 0,
    "start_time": "2023-10-12T13:47:33.450Z"
   },
   {
    "duration": 0,
    "start_time": "2023-10-12T13:47:33.451Z"
   },
   {
    "duration": 0,
    "start_time": "2023-10-12T13:47:33.452Z"
   },
   {
    "duration": 0,
    "start_time": "2023-10-12T13:47:33.453Z"
   },
   {
    "duration": 0,
    "start_time": "2023-10-12T13:47:33.453Z"
   },
   {
    "duration": 0,
    "start_time": "2023-10-12T13:47:33.454Z"
   },
   {
    "duration": 0,
    "start_time": "2023-10-12T13:47:33.455Z"
   },
   {
    "duration": 0,
    "start_time": "2023-10-12T13:47:33.456Z"
   },
   {
    "duration": 0,
    "start_time": "2023-10-12T13:47:33.457Z"
   },
   {
    "duration": 0,
    "start_time": "2023-10-12T13:47:33.458Z"
   },
   {
    "duration": 0,
    "start_time": "2023-10-12T13:47:33.459Z"
   },
   {
    "duration": 0,
    "start_time": "2023-10-12T13:47:33.459Z"
   },
   {
    "duration": 1,
    "start_time": "2023-10-12T13:47:33.460Z"
   },
   {
    "duration": 0,
    "start_time": "2023-10-12T13:47:33.462Z"
   },
   {
    "duration": 1,
    "start_time": "2023-10-12T13:47:33.462Z"
   },
   {
    "duration": 0,
    "start_time": "2023-10-12T13:47:33.463Z"
   },
   {
    "duration": 0,
    "start_time": "2023-10-12T13:47:33.464Z"
   },
   {
    "duration": 0,
    "start_time": "2023-10-12T13:47:33.465Z"
   },
   {
    "duration": 0,
    "start_time": "2023-10-12T13:47:33.467Z"
   },
   {
    "duration": 0,
    "start_time": "2023-10-12T13:47:33.468Z"
   },
   {
    "duration": 0,
    "start_time": "2023-10-12T13:47:33.469Z"
   },
   {
    "duration": 0,
    "start_time": "2023-10-12T13:47:33.469Z"
   },
   {
    "duration": 0,
    "start_time": "2023-10-12T13:47:33.470Z"
   },
   {
    "duration": 0,
    "start_time": "2023-10-12T13:47:33.471Z"
   },
   {
    "duration": 0,
    "start_time": "2023-10-12T13:47:33.473Z"
   },
   {
    "duration": 0,
    "start_time": "2023-10-12T13:47:33.474Z"
   },
   {
    "duration": 0,
    "start_time": "2023-10-12T13:47:33.475Z"
   },
   {
    "duration": 0,
    "start_time": "2023-10-12T13:47:33.476Z"
   },
   {
    "duration": 11,
    "start_time": "2023-10-12T13:48:37.948Z"
   },
   {
    "duration": 28,
    "start_time": "2023-10-12T13:48:42.484Z"
   },
   {
    "duration": 25,
    "start_time": "2023-10-12T13:48:44.411Z"
   },
   {
    "duration": 32,
    "start_time": "2023-10-12T13:48:45.546Z"
   },
   {
    "duration": 19,
    "start_time": "2023-10-12T13:48:45.812Z"
   },
   {
    "duration": 11,
    "start_time": "2023-10-12T13:48:46.569Z"
   },
   {
    "duration": 4,
    "start_time": "2023-10-12T13:48:51.421Z"
   },
   {
    "duration": 28,
    "start_time": "2023-10-12T13:48:52.329Z"
   },
   {
    "duration": 14,
    "start_time": "2023-10-12T13:48:59.206Z"
   },
   {
    "duration": 43,
    "start_time": "2023-10-12T13:49:07.410Z"
   },
   {
    "duration": 16,
    "start_time": "2023-10-12T13:53:05.522Z"
   },
   {
    "duration": 22,
    "start_time": "2023-10-12T13:54:46.502Z"
   },
   {
    "duration": 4,
    "start_time": "2023-10-12T13:59:50.426Z"
   },
   {
    "duration": 146,
    "start_time": "2023-10-12T13:59:50.431Z"
   },
   {
    "duration": 33,
    "start_time": "2023-10-12T13:59:50.579Z"
   },
   {
    "duration": 60,
    "start_time": "2023-10-12T13:59:50.614Z"
   },
   {
    "duration": 27,
    "start_time": "2023-10-12T13:59:50.676Z"
   },
   {
    "duration": 50,
    "start_time": "2023-10-12T13:59:50.704Z"
   },
   {
    "duration": 26,
    "start_time": "2023-10-12T13:59:50.755Z"
   },
   {
    "duration": 50,
    "start_time": "2023-10-12T13:59:50.783Z"
   },
   {
    "duration": 67,
    "start_time": "2023-10-12T13:59:50.835Z"
   },
   {
    "duration": 60,
    "start_time": "2023-10-12T13:59:50.904Z"
   },
   {
    "duration": 41,
    "start_time": "2023-10-12T13:59:50.966Z"
   },
   {
    "duration": 42,
    "start_time": "2023-10-12T13:59:51.009Z"
   },
   {
    "duration": 76,
    "start_time": "2023-10-12T13:59:51.053Z"
   },
   {
    "duration": 32,
    "start_time": "2023-10-12T13:59:51.132Z"
   },
   {
    "duration": 57,
    "start_time": "2023-10-12T13:59:51.166Z"
   },
   {
    "duration": 40,
    "start_time": "2023-10-12T13:59:51.225Z"
   },
   {
    "duration": 24,
    "start_time": "2023-10-12T13:59:51.267Z"
   },
   {
    "duration": 28,
    "start_time": "2023-10-12T13:59:51.293Z"
   },
   {
    "duration": 49,
    "start_time": "2023-10-12T13:59:51.322Z"
   },
   {
    "duration": 106,
    "start_time": "2023-10-12T13:59:51.373Z"
   },
   {
    "duration": 156,
    "start_time": "2023-10-12T13:59:51.481Z"
   },
   {
    "duration": 75,
    "start_time": "2023-10-12T13:59:51.639Z"
   },
   {
    "duration": 40,
    "start_time": "2023-10-12T13:59:51.716Z"
   },
   {
    "duration": 450,
    "start_time": "2023-10-12T13:59:51.757Z"
   },
   {
    "duration": 9,
    "start_time": "2023-10-12T13:59:52.209Z"
   },
   {
    "duration": 65,
    "start_time": "2023-10-12T13:59:52.219Z"
   },
   {
    "duration": 79,
    "start_time": "2023-10-12T13:59:52.286Z"
   },
   {
    "duration": 61,
    "start_time": "2023-10-12T13:59:52.368Z"
   },
   {
    "duration": 47,
    "start_time": "2023-10-12T13:59:52.432Z"
   },
   {
    "duration": 86,
    "start_time": "2023-10-12T13:59:52.480Z"
   },
   {
    "duration": 114,
    "start_time": "2023-10-12T13:59:52.568Z"
   },
   {
    "duration": 358,
    "start_time": "2023-10-12T13:59:52.684Z"
   },
   {
    "duration": 61,
    "start_time": "2023-10-12T13:59:53.043Z"
   },
   {
    "duration": 102,
    "start_time": "2023-10-12T13:59:53.107Z"
   },
   {
    "duration": 25,
    "start_time": "2023-10-12T13:59:53.212Z"
   },
   {
    "duration": 91,
    "start_time": "2023-10-12T13:59:53.239Z"
   },
   {
    "duration": 72,
    "start_time": "2023-10-12T13:59:53.331Z"
   },
   {
    "duration": 114,
    "start_time": "2023-10-12T13:59:53.405Z"
   },
   {
    "duration": 21,
    "start_time": "2023-10-12T13:59:53.521Z"
   },
   {
    "duration": 59,
    "start_time": "2023-10-12T13:59:53.543Z"
   },
   {
    "duration": 643,
    "start_time": "2023-10-12T13:59:53.606Z"
   },
   {
    "duration": 395,
    "start_time": "2023-10-12T13:59:54.307Z"
   },
   {
    "duration": 1005,
    "start_time": "2023-10-12T13:59:54.705Z"
   },
   {
    "duration": 434,
    "start_time": "2023-10-12T13:59:55.712Z"
   },
   {
    "duration": 407,
    "start_time": "2023-10-12T13:59:56.202Z"
   },
   {
    "duration": 393,
    "start_time": "2023-10-12T13:59:56.611Z"
   },
   {
    "duration": 3,
    "start_time": "2023-10-12T14:03:45.406Z"
   },
   {
    "duration": 206,
    "start_time": "2023-10-12T14:03:45.411Z"
   },
   {
    "duration": 36,
    "start_time": "2023-10-12T14:03:45.619Z"
   },
   {
    "duration": 53,
    "start_time": "2023-10-12T14:03:45.657Z"
   },
   {
    "duration": 374,
    "start_time": "2023-10-12T14:03:45.712Z"
   },
   {
    "duration": 50,
    "start_time": "2023-10-12T14:03:46.088Z"
   },
   {
    "duration": 51,
    "start_time": "2023-10-12T14:03:46.139Z"
   },
   {
    "duration": 69,
    "start_time": "2023-10-12T14:03:46.192Z"
   },
   {
    "duration": 62,
    "start_time": "2023-10-12T14:03:46.263Z"
   },
   {
    "duration": 41,
    "start_time": "2023-10-12T14:03:46.326Z"
   },
   {
    "duration": 27,
    "start_time": "2023-10-12T14:03:46.369Z"
   },
   {
    "duration": 48,
    "start_time": "2023-10-12T14:03:46.398Z"
   },
   {
    "duration": 111,
    "start_time": "2023-10-12T14:03:46.447Z"
   },
   {
    "duration": 64,
    "start_time": "2023-10-12T14:03:46.562Z"
   },
   {
    "duration": 57,
    "start_time": "2023-10-12T14:03:46.627Z"
   },
   {
    "duration": 22,
    "start_time": "2023-10-12T14:03:46.686Z"
   },
   {
    "duration": 41,
    "start_time": "2023-10-12T14:03:46.709Z"
   },
   {
    "duration": 61,
    "start_time": "2023-10-12T14:03:46.752Z"
   },
   {
    "duration": 60,
    "start_time": "2023-10-12T14:03:46.815Z"
   },
   {
    "duration": 44,
    "start_time": "2023-10-12T14:03:46.876Z"
   },
   {
    "duration": 119,
    "start_time": "2023-10-12T14:03:46.922Z"
   },
   {
    "duration": 58,
    "start_time": "2023-10-12T14:03:47.043Z"
   },
   {
    "duration": 22,
    "start_time": "2023-10-12T14:03:47.103Z"
   },
   {
    "duration": 335,
    "start_time": "2023-10-12T14:03:47.127Z"
   },
   {
    "duration": 9,
    "start_time": "2023-10-12T14:03:47.463Z"
   },
   {
    "duration": 25,
    "start_time": "2023-10-12T14:03:47.473Z"
   },
   {
    "duration": 32,
    "start_time": "2023-10-12T14:03:47.500Z"
   },
   {
    "duration": 17,
    "start_time": "2023-10-12T14:03:47.534Z"
   },
   {
    "duration": 20,
    "start_time": "2023-10-12T14:03:47.553Z"
   },
   {
    "duration": 55,
    "start_time": "2023-10-12T14:03:47.575Z"
   },
   {
    "duration": 59,
    "start_time": "2023-10-12T14:03:47.631Z"
   },
   {
    "duration": 150,
    "start_time": "2023-10-12T14:03:47.692Z"
   },
   {
    "duration": 8,
    "start_time": "2023-10-12T14:03:47.843Z"
   },
   {
    "duration": 60,
    "start_time": "2023-10-12T14:03:47.853Z"
   },
   {
    "duration": 22,
    "start_time": "2023-10-12T14:03:47.914Z"
   },
   {
    "duration": 50,
    "start_time": "2023-10-12T14:03:47.938Z"
   },
   {
    "duration": 20,
    "start_time": "2023-10-12T14:03:47.990Z"
   },
   {
    "duration": 52,
    "start_time": "2023-10-12T14:03:48.012Z"
   },
   {
    "duration": 21,
    "start_time": "2023-10-12T14:03:48.066Z"
   },
   {
    "duration": 185,
    "start_time": "2023-10-12T14:03:48.089Z"
   },
   {
    "duration": 351,
    "start_time": "2023-10-12T14:03:48.278Z"
   },
   {
    "duration": 188,
    "start_time": "2023-10-12T14:03:48.631Z"
   },
   {
    "duration": 492,
    "start_time": "2023-10-12T14:03:48.821Z"
   },
   {
    "duration": 248,
    "start_time": "2023-10-12T14:03:49.315Z"
   },
   {
    "duration": 427,
    "start_time": "2023-10-12T14:03:49.564Z"
   },
   {
    "duration": 271,
    "start_time": "2023-10-12T14:03:50.000Z"
   },
   {
    "duration": 4,
    "start_time": "2023-10-12T14:23:39.043Z"
   },
   {
    "duration": 317,
    "start_time": "2023-10-12T14:23:39.050Z"
   },
   {
    "duration": 36,
    "start_time": "2023-10-12T14:23:39.369Z"
   },
   {
    "duration": 67,
    "start_time": "2023-10-12T14:23:39.407Z"
   },
   {
    "duration": 116,
    "start_time": "2023-10-12T14:23:39.477Z"
   },
   {
    "duration": 37,
    "start_time": "2023-10-12T14:23:39.595Z"
   },
   {
    "duration": 39,
    "start_time": "2023-10-12T14:23:39.634Z"
   },
   {
    "duration": 30,
    "start_time": "2023-10-12T14:23:39.675Z"
   },
   {
    "duration": 58,
    "start_time": "2023-10-12T14:23:39.707Z"
   },
   {
    "duration": 31,
    "start_time": "2023-10-12T14:23:39.766Z"
   },
   {
    "duration": 36,
    "start_time": "2023-10-12T14:23:39.799Z"
   },
   {
    "duration": 59,
    "start_time": "2023-10-12T14:23:39.837Z"
   },
   {
    "duration": 186,
    "start_time": "2023-10-12T14:23:39.899Z"
   },
   {
    "duration": 83,
    "start_time": "2023-10-12T14:23:40.087Z"
   },
   {
    "duration": 110,
    "start_time": "2023-10-12T14:23:40.172Z"
   },
   {
    "duration": 52,
    "start_time": "2023-10-12T14:23:40.284Z"
   },
   {
    "duration": 42,
    "start_time": "2023-10-12T14:23:40.338Z"
   },
   {
    "duration": 36,
    "start_time": "2023-10-12T14:23:40.382Z"
   },
   {
    "duration": 68,
    "start_time": "2023-10-12T14:23:40.419Z"
   },
   {
    "duration": 48,
    "start_time": "2023-10-12T14:23:40.489Z"
   },
   {
    "duration": 106,
    "start_time": "2023-10-12T14:23:40.539Z"
   },
   {
    "duration": 198,
    "start_time": "2023-10-12T14:23:40.647Z"
   },
   {
    "duration": 688,
    "start_time": "2023-10-12T14:23:40.847Z"
   },
   {
    "duration": 65,
    "start_time": "2023-10-12T14:23:41.537Z"
   },
   {
    "duration": 6,
    "start_time": "2023-10-12T14:23:41.604Z"
   },
   {
    "duration": 89,
    "start_time": "2023-10-12T14:23:41.612Z"
   },
   {
    "duration": 8,
    "start_time": "2023-10-12T14:23:41.703Z"
   },
   {
    "duration": 34,
    "start_time": "2023-10-12T14:23:41.713Z"
   },
   {
    "duration": 73,
    "start_time": "2023-10-12T14:23:41.749Z"
   },
   {
    "duration": 107,
    "start_time": "2023-10-12T14:23:41.824Z"
   },
   {
    "duration": 315,
    "start_time": "2023-10-12T14:23:41.933Z"
   },
   {
    "duration": 8,
    "start_time": "2023-10-12T14:23:42.302Z"
   },
   {
    "duration": 39,
    "start_time": "2023-10-12T14:23:42.312Z"
   },
   {
    "duration": 69,
    "start_time": "2023-10-12T14:23:42.353Z"
   },
   {
    "duration": 82,
    "start_time": "2023-10-12T14:23:42.424Z"
   },
   {
    "duration": 4,
    "start_time": "2023-10-12T14:23:42.508Z"
   },
   {
    "duration": 113,
    "start_time": "2023-10-12T14:23:42.516Z"
   },
   {
    "duration": 71,
    "start_time": "2023-10-12T14:23:42.631Z"
   },
   {
    "duration": 5,
    "start_time": "2023-10-12T14:23:42.704Z"
   },
   {
    "duration": 336,
    "start_time": "2023-10-12T14:23:42.710Z"
   },
   {
    "duration": 174,
    "start_time": "2023-10-12T14:23:43.048Z"
   },
   {
    "duration": 517,
    "start_time": "2023-10-12T14:23:43.224Z"
   },
   {
    "duration": 347,
    "start_time": "2023-10-12T14:23:43.743Z"
   },
   {
    "duration": 338,
    "start_time": "2023-10-12T14:23:44.101Z"
   },
   {
    "duration": 369,
    "start_time": "2023-10-12T14:23:44.440Z"
   },
   {
    "duration": 185,
    "start_time": "2023-10-12T14:26:36.661Z"
   },
   {
    "duration": 4,
    "start_time": "2023-10-12T14:27:04.266Z"
   },
   {
    "duration": 224,
    "start_time": "2023-10-12T14:27:04.272Z"
   },
   {
    "duration": 39,
    "start_time": "2023-10-12T14:27:04.498Z"
   },
   {
    "duration": 93,
    "start_time": "2023-10-12T14:27:04.540Z"
   },
   {
    "duration": 40,
    "start_time": "2023-10-12T14:27:04.636Z"
   },
   {
    "duration": 95,
    "start_time": "2023-10-12T14:27:04.679Z"
   },
   {
    "duration": 69,
    "start_time": "2023-10-12T14:27:04.776Z"
   },
   {
    "duration": 342,
    "start_time": "2023-10-12T14:27:04.846Z"
   },
   {
    "duration": 178,
    "start_time": "2023-10-12T14:27:05.190Z"
   },
   {
    "duration": 109,
    "start_time": "2023-10-12T14:27:05.370Z"
   },
   {
    "duration": 451,
    "start_time": "2023-10-12T14:27:05.481Z"
   },
   {
    "duration": 368,
    "start_time": "2023-10-12T14:27:05.933Z"
   },
   {
    "duration": 309,
    "start_time": "2023-10-12T14:27:06.304Z"
   },
   {
    "duration": 300,
    "start_time": "2023-10-12T14:27:06.616Z"
   },
   {
    "duration": 298,
    "start_time": "2023-10-12T14:27:06.918Z"
   },
   {
    "duration": 85,
    "start_time": "2023-10-12T14:27:07.218Z"
   },
   {
    "duration": 156,
    "start_time": "2023-10-12T14:27:07.304Z"
   },
   {
    "duration": 138,
    "start_time": "2023-10-12T14:27:07.462Z"
   },
   {
    "duration": 60,
    "start_time": "2023-10-12T14:27:07.602Z"
   },
   {
    "duration": 57,
    "start_time": "2023-10-12T14:27:07.664Z"
   },
   {
    "duration": 159,
    "start_time": "2023-10-12T14:27:07.723Z"
   },
   {
    "duration": 164,
    "start_time": "2023-10-12T14:27:07.884Z"
   },
   {
    "duration": 351,
    "start_time": "2023-10-12T14:27:08.050Z"
   },
   {
    "duration": 9,
    "start_time": "2023-10-12T14:27:08.403Z"
   },
   {
    "duration": 271,
    "start_time": "2023-10-12T14:27:08.413Z"
   },
   {
    "duration": 177,
    "start_time": "2023-10-12T14:27:08.686Z"
   },
   {
    "duration": 31,
    "start_time": "2023-10-12T14:27:08.866Z"
   },
   {
    "duration": 38,
    "start_time": "2023-10-12T14:27:08.899Z"
   },
   {
    "duration": 54,
    "start_time": "2023-10-12T14:27:08.939Z"
   },
   {
    "duration": 59,
    "start_time": "2023-10-12T14:27:08.995Z"
   },
   {
    "duration": 149,
    "start_time": "2023-10-12T14:27:09.056Z"
   },
   {
    "duration": 9,
    "start_time": "2023-10-12T14:27:09.207Z"
   },
   {
    "duration": 50,
    "start_time": "2023-10-12T14:27:09.218Z"
   },
   {
    "duration": 38,
    "start_time": "2023-10-12T14:27:09.270Z"
   },
   {
    "duration": 54,
    "start_time": "2023-10-12T14:27:09.310Z"
   },
   {
    "duration": 80,
    "start_time": "2023-10-12T14:27:09.366Z"
   },
   {
    "duration": 132,
    "start_time": "2023-10-12T14:27:09.448Z"
   },
   {
    "duration": 154,
    "start_time": "2023-10-12T14:27:09.582Z"
   },
   {
    "duration": 320,
    "start_time": "2023-10-12T14:27:09.738Z"
   },
   {
    "duration": 572,
    "start_time": "2023-10-12T14:27:10.060Z"
   },
   {
    "duration": 190,
    "start_time": "2023-10-12T14:27:10.636Z"
   },
   {
    "duration": 593,
    "start_time": "2023-10-12T14:27:10.828Z"
   },
   {
    "duration": 239,
    "start_time": "2023-10-12T14:27:11.423Z"
   },
   {
    "duration": 328,
    "start_time": "2023-10-12T14:27:11.663Z"
   },
   {
    "duration": 313,
    "start_time": "2023-10-12T14:27:11.993Z"
   },
   {
    "duration": 4,
    "start_time": "2023-10-12T15:48:29.353Z"
   },
   {
    "duration": 212,
    "start_time": "2023-10-12T15:48:29.360Z"
   },
   {
    "duration": 39,
    "start_time": "2023-10-12T15:48:29.574Z"
   },
   {
    "duration": 40,
    "start_time": "2023-10-12T15:48:29.616Z"
   },
   {
    "duration": 107,
    "start_time": "2023-10-12T15:48:29.658Z"
   },
   {
    "duration": 50,
    "start_time": "2023-10-12T15:48:29.767Z"
   },
   {
    "duration": 35,
    "start_time": "2023-10-12T15:48:29.819Z"
   },
   {
    "duration": 87,
    "start_time": "2023-10-12T15:48:29.857Z"
   },
   {
    "duration": 42,
    "start_time": "2023-10-12T15:48:29.947Z"
   },
   {
    "duration": 26,
    "start_time": "2023-10-12T15:48:29.993Z"
   },
   {
    "duration": 78,
    "start_time": "2023-10-12T15:48:30.022Z"
   },
   {
    "duration": 174,
    "start_time": "2023-10-12T15:48:30.103Z"
   },
   {
    "duration": 541,
    "start_time": "2023-10-12T15:48:30.280Z"
   },
   {
    "duration": 84,
    "start_time": "2023-10-12T15:48:30.823Z"
   },
   {
    "duration": 87,
    "start_time": "2023-10-12T15:48:30.909Z"
   },
   {
    "duration": 170,
    "start_time": "2023-10-12T15:48:30.998Z"
   },
   {
    "duration": 85,
    "start_time": "2023-10-12T15:48:31.170Z"
   },
   {
    "duration": 108,
    "start_time": "2023-10-12T15:48:31.257Z"
   },
   {
    "duration": 133,
    "start_time": "2023-10-12T15:48:31.368Z"
   },
   {
    "duration": 116,
    "start_time": "2023-10-12T15:48:31.503Z"
   },
   {
    "duration": 181,
    "start_time": "2023-10-12T15:48:31.621Z"
   },
   {
    "duration": 360,
    "start_time": "2023-10-12T15:48:31.804Z"
   },
   {
    "duration": 9,
    "start_time": "2023-10-12T15:48:32.166Z"
   },
   {
    "duration": 88,
    "start_time": "2023-10-12T15:48:32.177Z"
   },
   {
    "duration": 86,
    "start_time": "2023-10-12T15:48:32.267Z"
   },
   {
    "duration": 68,
    "start_time": "2023-10-12T15:48:32.355Z"
   },
   {
    "duration": 73,
    "start_time": "2023-10-12T15:48:32.424Z"
   },
   {
    "duration": 147,
    "start_time": "2023-10-12T15:48:32.501Z"
   },
   {
    "duration": 75,
    "start_time": "2023-10-12T15:48:32.649Z"
   },
   {
    "duration": 147,
    "start_time": "2023-10-12T15:48:32.726Z"
   },
   {
    "duration": 8,
    "start_time": "2023-10-12T15:48:32.875Z"
   },
   {
    "duration": 21,
    "start_time": "2023-10-12T15:48:32.902Z"
   },
   {
    "duration": 31,
    "start_time": "2023-10-12T15:48:32.925Z"
   },
   {
    "duration": 27,
    "start_time": "2023-10-12T15:48:32.958Z"
   },
   {
    "duration": 6,
    "start_time": "2023-10-12T15:48:33.002Z"
   },
   {
    "duration": 78,
    "start_time": "2023-10-12T15:48:33.010Z"
   },
   {
    "duration": 24,
    "start_time": "2023-10-12T15:48:33.090Z"
   },
   {
    "duration": 33,
    "start_time": "2023-10-12T15:48:33.116Z"
   },
   {
    "duration": 355,
    "start_time": "2023-10-12T15:48:33.151Z"
   },
   {
    "duration": 194,
    "start_time": "2023-10-12T15:48:33.508Z"
   },
   {
    "duration": 652,
    "start_time": "2023-10-12T15:48:33.703Z"
   },
   {
    "duration": 288,
    "start_time": "2023-10-12T15:48:34.358Z"
   },
   {
    "duration": 344,
    "start_time": "2023-10-12T15:48:34.648Z"
   },
   {
    "duration": 300,
    "start_time": "2023-10-12T15:48:35.001Z"
   },
   {
    "duration": 282,
    "start_time": "2023-10-12T15:52:14.637Z"
   },
   {
    "duration": 3,
    "start_time": "2023-10-12T15:52:34.526Z"
   },
   {
    "duration": 194,
    "start_time": "2023-10-12T15:52:34.531Z"
   },
   {
    "duration": 39,
    "start_time": "2023-10-12T15:52:34.728Z"
   },
   {
    "duration": 20,
    "start_time": "2023-10-12T15:52:34.770Z"
   },
   {
    "duration": 19,
    "start_time": "2023-10-12T15:52:34.793Z"
   },
   {
    "duration": 40,
    "start_time": "2023-10-12T15:52:34.814Z"
   },
   {
    "duration": 26,
    "start_time": "2023-10-12T15:52:34.857Z"
   },
   {
    "duration": 25,
    "start_time": "2023-10-12T15:52:34.885Z"
   },
   {
    "duration": 42,
    "start_time": "2023-10-12T15:52:34.913Z"
   },
   {
    "duration": 21,
    "start_time": "2023-10-12T15:52:34.959Z"
   },
   {
    "duration": 20,
    "start_time": "2023-10-12T15:52:34.982Z"
   },
   {
    "duration": 14,
    "start_time": "2023-10-12T15:52:35.005Z"
   },
   {
    "duration": 47,
    "start_time": "2023-10-12T15:52:35.021Z"
   },
   {
    "duration": 37,
    "start_time": "2023-10-12T15:52:35.070Z"
   },
   {
    "duration": 39,
    "start_time": "2023-10-12T15:52:35.109Z"
   },
   {
    "duration": 18,
    "start_time": "2023-10-12T15:52:35.150Z"
   },
   {
    "duration": 31,
    "start_time": "2023-10-12T15:52:35.170Z"
   },
   {
    "duration": 4,
    "start_time": "2023-10-12T15:52:35.203Z"
   },
   {
    "duration": 54,
    "start_time": "2023-10-12T15:52:35.208Z"
   },
   {
    "duration": 23,
    "start_time": "2023-10-12T15:52:35.264Z"
   },
   {
    "duration": 193,
    "start_time": "2023-10-12T15:52:35.289Z"
   },
   {
    "duration": 364,
    "start_time": "2023-10-12T15:52:35.484Z"
   },
   {
    "duration": 10,
    "start_time": "2023-10-12T15:52:35.850Z"
   },
   {
    "duration": 47,
    "start_time": "2023-10-12T15:52:35.862Z"
   },
   {
    "duration": 57,
    "start_time": "2023-10-12T15:52:35.911Z"
   },
   {
    "duration": 69,
    "start_time": "2023-10-12T15:52:35.969Z"
   },
   {
    "duration": 35,
    "start_time": "2023-10-12T15:52:36.040Z"
   },
   {
    "duration": 47,
    "start_time": "2023-10-12T15:52:36.079Z"
   },
   {
    "duration": 107,
    "start_time": "2023-10-12T15:52:36.127Z"
   },
   {
    "duration": 176,
    "start_time": "2023-10-12T15:52:36.236Z"
   },
   {
    "duration": 8,
    "start_time": "2023-10-12T15:52:36.414Z"
   },
   {
    "duration": 58,
    "start_time": "2023-10-12T15:52:36.424Z"
   },
   {
    "duration": 62,
    "start_time": "2023-10-12T15:52:36.484Z"
   },
   {
    "duration": 60,
    "start_time": "2023-10-12T15:52:36.548Z"
   },
   {
    "duration": 15,
    "start_time": "2023-10-12T15:52:36.610Z"
   },
   {
    "duration": 65,
    "start_time": "2023-10-12T15:52:36.627Z"
   },
   {
    "duration": 28,
    "start_time": "2023-10-12T15:52:36.694Z"
   },
   {
    "duration": 25,
    "start_time": "2023-10-12T15:52:36.724Z"
   },
   {
    "duration": 408,
    "start_time": "2023-10-12T15:52:36.750Z"
   },
   {
    "duration": 182,
    "start_time": "2023-10-12T15:52:37.160Z"
   },
   {
    "duration": 646,
    "start_time": "2023-10-12T15:52:37.344Z"
   },
   {
    "duration": 226,
    "start_time": "2023-10-12T15:52:37.992Z"
   },
   {
    "duration": 343,
    "start_time": "2023-10-12T15:52:38.219Z"
   },
   {
    "duration": 323,
    "start_time": "2023-10-12T15:52:38.564Z"
   },
   {
    "duration": 3,
    "start_time": "2023-10-12T15:55:03.032Z"
   },
   {
    "duration": 215,
    "start_time": "2023-10-12T15:55:03.037Z"
   },
   {
    "duration": 35,
    "start_time": "2023-10-12T15:55:03.254Z"
   },
   {
    "duration": 36,
    "start_time": "2023-10-12T15:55:03.290Z"
   },
   {
    "duration": 44,
    "start_time": "2023-10-12T15:55:03.328Z"
   },
   {
    "duration": 51,
    "start_time": "2023-10-12T15:55:03.374Z"
   },
   {
    "duration": 85,
    "start_time": "2023-10-12T15:55:03.427Z"
   },
   {
    "duration": 27,
    "start_time": "2023-10-12T15:55:03.514Z"
   },
   {
    "duration": 32,
    "start_time": "2023-10-12T15:55:03.542Z"
   },
   {
    "duration": 41,
    "start_time": "2023-10-12T15:55:03.575Z"
   },
   {
    "duration": 27,
    "start_time": "2023-10-12T15:55:03.617Z"
   },
   {
    "duration": 18,
    "start_time": "2023-10-12T15:55:03.646Z"
   },
   {
    "duration": 56,
    "start_time": "2023-10-12T15:55:03.666Z"
   },
   {
    "duration": 27,
    "start_time": "2023-10-12T15:55:03.726Z"
   },
   {
    "duration": 50,
    "start_time": "2023-10-12T15:55:03.755Z"
   },
   {
    "duration": 19,
    "start_time": "2023-10-12T15:55:03.807Z"
   },
   {
    "duration": 18,
    "start_time": "2023-10-12T15:55:03.829Z"
   },
   {
    "duration": 35,
    "start_time": "2023-10-12T15:55:03.849Z"
   },
   {
    "duration": 56,
    "start_time": "2023-10-12T15:55:03.886Z"
   },
   {
    "duration": 22,
    "start_time": "2023-10-12T15:55:03.944Z"
   },
   {
    "duration": 204,
    "start_time": "2023-10-12T15:55:03.967Z"
   },
   {
    "duration": 366,
    "start_time": "2023-10-12T15:55:04.173Z"
   },
   {
    "duration": 10,
    "start_time": "2023-10-12T15:55:04.541Z"
   },
   {
    "duration": 35,
    "start_time": "2023-10-12T15:55:04.554Z"
   },
   {
    "duration": 74,
    "start_time": "2023-10-12T15:55:04.591Z"
   },
   {
    "duration": 12,
    "start_time": "2023-10-12T15:55:04.667Z"
   },
   {
    "duration": 28,
    "start_time": "2023-10-12T15:55:04.682Z"
   },
   {
    "duration": 54,
    "start_time": "2023-10-12T15:55:04.712Z"
   },
   {
    "duration": 73,
    "start_time": "2023-10-12T15:55:04.768Z"
   },
   {
    "duration": 162,
    "start_time": "2023-10-12T15:55:04.843Z"
   },
   {
    "duration": 8,
    "start_time": "2023-10-12T15:55:05.007Z"
   },
   {
    "duration": 87,
    "start_time": "2023-10-12T15:55:05.017Z"
   },
   {
    "duration": 37,
    "start_time": "2023-10-12T15:55:05.107Z"
   },
   {
    "duration": 68,
    "start_time": "2023-10-12T15:55:05.146Z"
   },
   {
    "duration": 12,
    "start_time": "2023-10-12T15:55:05.216Z"
   },
   {
    "duration": 98,
    "start_time": "2023-10-12T15:55:05.230Z"
   },
   {
    "duration": 73,
    "start_time": "2023-10-12T15:55:05.330Z"
   },
   {
    "duration": 5,
    "start_time": "2023-10-12T15:55:05.404Z"
   },
   {
    "duration": 697,
    "start_time": "2023-10-12T15:55:05.411Z"
   },
   {
    "duration": 594,
    "start_time": "2023-10-12T15:55:06.110Z"
   },
   {
    "duration": 671,
    "start_time": "2023-10-12T15:55:06.708Z"
   },
   {
    "duration": 232,
    "start_time": "2023-10-12T15:55:07.381Z"
   },
   {
    "duration": 316,
    "start_time": "2023-10-12T15:55:07.614Z"
   },
   {
    "duration": 291,
    "start_time": "2023-10-12T15:55:07.931Z"
   },
   {
    "duration": 44,
    "start_time": "2023-10-12T16:44:23.932Z"
   },
   {
    "duration": 6,
    "start_time": "2023-10-12T16:45:31.412Z"
   },
   {
    "duration": 6,
    "start_time": "2023-10-12T16:45:37.851Z"
   },
   {
    "duration": 4,
    "start_time": "2023-10-12T16:45:42.958Z"
   },
   {
    "duration": 140,
    "start_time": "2023-10-12T16:45:42.964Z"
   },
   {
    "duration": 34,
    "start_time": "2023-10-12T16:45:43.106Z"
   },
   {
    "duration": 17,
    "start_time": "2023-10-12T16:45:43.142Z"
   },
   {
    "duration": 40,
    "start_time": "2023-10-12T16:45:43.161Z"
   },
   {
    "duration": 16,
    "start_time": "2023-10-12T16:45:43.203Z"
   },
   {
    "duration": 33,
    "start_time": "2023-10-12T16:45:43.221Z"
   },
   {
    "duration": 26,
    "start_time": "2023-10-12T16:45:43.256Z"
   },
   {
    "duration": 35,
    "start_time": "2023-10-12T16:45:43.284Z"
   },
   {
    "duration": 30,
    "start_time": "2023-10-12T16:45:43.320Z"
   },
   {
    "duration": 23,
    "start_time": "2023-10-12T16:45:43.352Z"
   },
   {
    "duration": 37,
    "start_time": "2023-10-12T16:45:43.377Z"
   },
   {
    "duration": 38,
    "start_time": "2023-10-12T16:45:43.417Z"
   },
   {
    "duration": 36,
    "start_time": "2023-10-12T16:45:43.457Z"
   },
   {
    "duration": 35,
    "start_time": "2023-10-12T16:45:43.495Z"
   },
   {
    "duration": 26,
    "start_time": "2023-10-12T16:45:43.533Z"
   },
   {
    "duration": 38,
    "start_time": "2023-10-12T16:45:43.561Z"
   },
   {
    "duration": 18,
    "start_time": "2023-10-12T16:45:43.601Z"
   },
   {
    "duration": 44,
    "start_time": "2023-10-12T16:45:43.620Z"
   },
   {
    "duration": 15,
    "start_time": "2023-10-12T16:45:43.667Z"
   },
   {
    "duration": 183,
    "start_time": "2023-10-12T16:45:43.684Z"
   },
   {
    "duration": 44,
    "start_time": "2023-10-12T16:45:43.869Z"
   },
   {
    "duration": 39,
    "start_time": "2023-10-12T16:45:43.914Z"
   },
   {
    "duration": 341,
    "start_time": "2023-10-12T16:45:43.955Z"
   },
   {
    "duration": 9,
    "start_time": "2023-10-12T16:45:44.300Z"
   },
   {
    "duration": 20,
    "start_time": "2023-10-12T16:45:44.311Z"
   },
   {
    "duration": 26,
    "start_time": "2023-10-12T16:45:44.333Z"
   },
   {
    "duration": 9,
    "start_time": "2023-10-12T16:45:44.361Z"
   },
   {
    "duration": 12,
    "start_time": "2023-10-12T16:45:44.372Z"
   },
   {
    "duration": 30,
    "start_time": "2023-10-12T16:45:44.402Z"
   },
   {
    "duration": 39,
    "start_time": "2023-10-12T16:45:44.434Z"
   },
   {
    "duration": 351,
    "start_time": "2023-10-12T16:45:44.475Z"
   },
   {
    "duration": 9,
    "start_time": "2023-10-12T16:45:44.828Z"
   },
   {
    "duration": 82,
    "start_time": "2023-10-12T16:45:44.838Z"
   },
   {
    "duration": 25,
    "start_time": "2023-10-12T16:45:44.922Z"
   },
   {
    "duration": 98,
    "start_time": "2023-10-12T16:45:44.949Z"
   },
   {
    "duration": 9,
    "start_time": "2023-10-12T16:45:45.051Z"
   },
   {
    "duration": 144,
    "start_time": "2023-10-12T16:45:45.062Z"
   },
   {
    "duration": 21,
    "start_time": "2023-10-12T16:45:45.208Z"
   },
   {
    "duration": 76,
    "start_time": "2023-10-12T16:45:45.231Z"
   },
   {
    "duration": 929,
    "start_time": "2023-10-12T16:45:45.311Z"
   },
   {
    "duration": 398,
    "start_time": "2023-10-12T16:45:46.242Z"
   },
   {
    "duration": 1280,
    "start_time": "2023-10-12T16:45:46.642Z"
   },
   {
    "duration": 611,
    "start_time": "2023-10-12T16:45:47.924Z"
   },
   {
    "duration": 785,
    "start_time": "2023-10-12T16:45:48.537Z"
   },
   {
    "duration": 821,
    "start_time": "2023-10-12T16:45:49.324Z"
   },
   {
    "duration": 14,
    "start_time": "2023-10-12T16:47:08.737Z"
   },
   {
    "duration": 3,
    "start_time": "2023-10-12T16:50:09.137Z"
   },
   {
    "duration": 196,
    "start_time": "2023-10-12T16:50:09.143Z"
   },
   {
    "duration": 36,
    "start_time": "2023-10-12T16:50:09.341Z"
   },
   {
    "duration": 155,
    "start_time": "2023-10-12T16:50:09.379Z"
   },
   {
    "duration": 13,
    "start_time": "2023-10-12T16:50:09.537Z"
   },
   {
    "duration": 40,
    "start_time": "2023-10-12T16:50:09.553Z"
   },
   {
    "duration": 27,
    "start_time": "2023-10-12T16:50:09.595Z"
   },
   {
    "duration": 28,
    "start_time": "2023-10-12T16:50:09.625Z"
   },
   {
    "duration": 28,
    "start_time": "2023-10-12T16:50:09.655Z"
   },
   {
    "duration": 35,
    "start_time": "2023-10-12T16:50:09.702Z"
   },
   {
    "duration": 32,
    "start_time": "2023-10-12T16:50:09.739Z"
   },
   {
    "duration": 22,
    "start_time": "2023-10-12T16:50:09.773Z"
   },
   {
    "duration": 54,
    "start_time": "2023-10-12T16:50:09.797Z"
   },
   {
    "duration": 39,
    "start_time": "2023-10-12T16:50:09.856Z"
   },
   {
    "duration": 43,
    "start_time": "2023-10-12T16:50:09.896Z"
   },
   {
    "duration": 209,
    "start_time": "2023-10-12T16:50:09.941Z"
   },
   {
    "duration": 96,
    "start_time": "2023-10-12T16:50:10.152Z"
   },
   {
    "duration": 23,
    "start_time": "2023-10-12T16:50:10.250Z"
   },
   {
    "duration": 56,
    "start_time": "2023-10-12T16:50:10.275Z"
   },
   {
    "duration": 17,
    "start_time": "2023-10-12T16:50:10.333Z"
   },
   {
    "duration": 256,
    "start_time": "2023-10-12T16:50:10.353Z"
   },
   {
    "duration": 362,
    "start_time": "2023-10-12T16:50:10.610Z"
   },
   {
    "duration": 9,
    "start_time": "2023-10-12T16:50:10.974Z"
   },
   {
    "duration": 11,
    "start_time": "2023-10-12T16:50:11.002Z"
   },
   {
    "duration": 24,
    "start_time": "2023-10-12T16:50:11.019Z"
   },
   {
    "duration": 12,
    "start_time": "2023-10-12T16:50:11.046Z"
   },
   {
    "duration": 26,
    "start_time": "2023-10-12T16:50:11.060Z"
   },
   {
    "duration": 42,
    "start_time": "2023-10-12T16:50:11.088Z"
   },
   {
    "duration": 53,
    "start_time": "2023-10-12T16:50:11.131Z"
   },
   {
    "duration": 168,
    "start_time": "2023-10-12T16:50:11.186Z"
   },
   {
    "duration": 8,
    "start_time": "2023-10-12T16:50:11.356Z"
   },
   {
    "duration": 52,
    "start_time": "2023-10-12T16:50:11.365Z"
   },
   {
    "duration": 23,
    "start_time": "2023-10-12T16:50:11.419Z"
   },
   {
    "duration": 18,
    "start_time": "2023-10-12T16:50:11.443Z"
   },
   {
    "duration": 5,
    "start_time": "2023-10-12T16:50:11.463Z"
   },
   {
    "duration": 186,
    "start_time": "2023-10-12T16:50:11.469Z"
   },
   {
    "duration": 20,
    "start_time": "2023-10-12T16:50:11.657Z"
   },
   {
    "duration": 30,
    "start_time": "2023-10-12T16:50:11.679Z"
   },
   {
    "duration": 708,
    "start_time": "2023-10-12T16:50:11.714Z"
   },
   {
    "duration": 495,
    "start_time": "2023-10-12T16:50:12.424Z"
   },
   {
    "duration": 1176,
    "start_time": "2023-10-12T16:50:12.925Z"
   },
   {
    "duration": 536,
    "start_time": "2023-10-12T16:50:14.103Z"
   },
   {
    "duration": 963,
    "start_time": "2023-10-12T16:50:14.641Z"
   },
   {
    "duration": 630,
    "start_time": "2023-10-12T16:50:15.609Z"
   },
   {
    "duration": 29,
    "start_time": "2023-10-12T16:53:41.986Z"
   },
   {
    "duration": 4,
    "start_time": "2023-10-12T16:58:24.343Z"
   },
   {
    "duration": 204,
    "start_time": "2023-10-12T16:58:24.349Z"
   },
   {
    "duration": 40,
    "start_time": "2023-10-12T16:58:24.555Z"
   },
   {
    "duration": 37,
    "start_time": "2023-10-12T16:58:24.597Z"
   },
   {
    "duration": 15,
    "start_time": "2023-10-12T16:58:24.638Z"
   },
   {
    "duration": 48,
    "start_time": "2023-10-12T16:58:24.655Z"
   },
   {
    "duration": 59,
    "start_time": "2023-10-12T16:58:24.706Z"
   },
   {
    "duration": 64,
    "start_time": "2023-10-12T16:58:24.768Z"
   },
   {
    "duration": 45,
    "start_time": "2023-10-12T16:58:24.834Z"
   },
   {
    "duration": 32,
    "start_time": "2023-10-12T16:58:24.881Z"
   },
   {
    "duration": 12,
    "start_time": "2023-10-12T16:58:24.915Z"
   },
   {
    "duration": 22,
    "start_time": "2023-10-12T16:58:24.931Z"
   },
   {
    "duration": 57,
    "start_time": "2023-10-12T16:58:24.955Z"
   },
   {
    "duration": 32,
    "start_time": "2023-10-12T16:58:25.016Z"
   },
   {
    "duration": 43,
    "start_time": "2023-10-12T16:58:25.049Z"
   },
   {
    "duration": 34,
    "start_time": "2023-10-12T16:58:25.094Z"
   },
   {
    "duration": 13,
    "start_time": "2023-10-12T16:58:25.130Z"
   },
   {
    "duration": 16,
    "start_time": "2023-10-12T16:58:25.145Z"
   },
   {
    "duration": 60,
    "start_time": "2023-10-12T16:58:25.163Z"
   },
   {
    "duration": 30,
    "start_time": "2023-10-12T16:58:25.225Z"
   },
   {
    "duration": 246,
    "start_time": "2023-10-12T16:58:25.257Z"
   },
   {
    "duration": 373,
    "start_time": "2023-10-12T16:58:25.505Z"
   },
   {
    "duration": 40,
    "start_time": "2023-10-12T16:58:25.880Z"
   },
   {
    "duration": 13,
    "start_time": "2023-10-12T16:58:25.922Z"
   },
   {
    "duration": 26,
    "start_time": "2023-10-12T16:58:25.937Z"
   },
   {
    "duration": 46,
    "start_time": "2023-10-12T16:58:25.965Z"
   },
   {
    "duration": 18,
    "start_time": "2023-10-12T16:58:26.013Z"
   },
   {
    "duration": 52,
    "start_time": "2023-10-12T16:58:26.033Z"
   },
   {
    "duration": 56,
    "start_time": "2023-10-12T16:58:26.088Z"
   },
   {
    "duration": 390,
    "start_time": "2023-10-12T16:58:26.146Z"
   },
   {
    "duration": 402,
    "start_time": "2023-10-12T16:58:26.539Z"
   },
   {
    "duration": 57,
    "start_time": "2023-10-12T16:58:26.943Z"
   },
   {
    "duration": 34,
    "start_time": "2023-10-12T16:58:27.014Z"
   },
   {
    "duration": 84,
    "start_time": "2023-10-12T16:58:27.051Z"
   },
   {
    "duration": 107,
    "start_time": "2023-10-12T16:58:27.136Z"
   },
   {
    "duration": 135,
    "start_time": "2023-10-12T16:58:27.245Z"
   },
   {
    "duration": 129,
    "start_time": "2023-10-12T16:58:27.382Z"
   },
   {
    "duration": 25,
    "start_time": "2023-10-12T16:58:27.513Z"
   },
   {
    "duration": 75,
    "start_time": "2023-10-12T16:58:27.539Z"
   },
   {
    "duration": 834,
    "start_time": "2023-10-12T16:58:27.617Z"
   },
   {
    "duration": 209,
    "start_time": "2023-10-12T16:58:28.454Z"
   },
   {
    "duration": 549,
    "start_time": "2023-10-12T16:58:28.665Z"
   },
   {
    "duration": 245,
    "start_time": "2023-10-12T16:58:29.222Z"
   },
   {
    "duration": 368,
    "start_time": "2023-10-12T16:58:29.469Z"
   },
   {
    "duration": 322,
    "start_time": "2023-10-12T16:58:29.839Z"
   },
   {
    "duration": 3,
    "start_time": "2023-10-12T17:00:21.854Z"
   },
   {
    "duration": 165,
    "start_time": "2023-10-12T17:00:21.859Z"
   },
   {
    "duration": 39,
    "start_time": "2023-10-12T17:00:22.026Z"
   },
   {
    "duration": 76,
    "start_time": "2023-10-12T17:00:22.067Z"
   },
   {
    "duration": 23,
    "start_time": "2023-10-12T17:00:22.145Z"
   },
   {
    "duration": 46,
    "start_time": "2023-10-12T17:00:22.170Z"
   },
   {
    "duration": 99,
    "start_time": "2023-10-12T17:00:22.218Z"
   },
   {
    "duration": 61,
    "start_time": "2023-10-12T17:00:22.319Z"
   },
   {
    "duration": 78,
    "start_time": "2023-10-12T17:00:22.382Z"
   },
   {
    "duration": 71,
    "start_time": "2023-10-12T17:00:22.462Z"
   },
   {
    "duration": 86,
    "start_time": "2023-10-12T17:00:22.535Z"
   },
   {
    "duration": 110,
    "start_time": "2023-10-12T17:00:22.623Z"
   },
   {
    "duration": 181,
    "start_time": "2023-10-12T17:00:22.737Z"
   },
   {
    "duration": 165,
    "start_time": "2023-10-12T17:00:22.920Z"
   },
   {
    "duration": 82,
    "start_time": "2023-10-12T17:00:23.087Z"
   },
   {
    "duration": 60,
    "start_time": "2023-10-12T17:00:23.171Z"
   },
   {
    "duration": 47,
    "start_time": "2023-10-12T17:00:23.233Z"
   },
   {
    "duration": 38,
    "start_time": "2023-10-12T17:00:23.282Z"
   },
   {
    "duration": 94,
    "start_time": "2023-10-12T17:00:23.322Z"
   },
   {
    "duration": 121,
    "start_time": "2023-10-12T17:00:23.419Z"
   },
   {
    "duration": 232,
    "start_time": "2023-10-12T17:00:23.542Z"
   },
   {
    "duration": 48,
    "start_time": "2023-10-12T17:00:23.776Z"
   },
   {
    "duration": 23,
    "start_time": "2023-10-12T17:00:23.826Z"
   },
   {
    "duration": 44,
    "start_time": "2023-10-12T17:00:23.850Z"
   },
   {
    "duration": 37,
    "start_time": "2023-10-12T17:00:23.895Z"
   },
   {
    "duration": 35,
    "start_time": "2023-10-12T17:00:23.934Z"
   },
   {
    "duration": 47,
    "start_time": "2023-10-12T17:00:23.971Z"
   },
   {
    "duration": 42,
    "start_time": "2023-10-12T17:00:24.020Z"
   },
   {
    "duration": 51,
    "start_time": "2023-10-12T17:00:24.064Z"
   },
   {
    "duration": 78,
    "start_time": "2023-10-12T17:00:24.116Z"
   },
   {
    "duration": 165,
    "start_time": "2023-10-12T17:00:24.196Z"
   },
   {
    "duration": 8,
    "start_time": "2023-10-12T17:00:24.363Z"
   },
   {
    "duration": 75,
    "start_time": "2023-10-12T17:00:24.373Z"
   },
   {
    "duration": 82,
    "start_time": "2023-10-12T17:00:24.450Z"
   },
   {
    "duration": 22,
    "start_time": "2023-10-12T17:00:24.534Z"
   },
   {
    "duration": 6,
    "start_time": "2023-10-12T17:00:24.558Z"
   },
   {
    "duration": 57,
    "start_time": "2023-10-12T17:00:24.569Z"
   },
   {
    "duration": 25,
    "start_time": "2023-10-12T17:00:24.628Z"
   },
   {
    "duration": 38,
    "start_time": "2023-10-12T17:00:24.656Z"
   },
   {
    "duration": 954,
    "start_time": "2023-10-12T17:00:24.696Z"
   },
   {
    "duration": 406,
    "start_time": "2023-10-12T17:00:25.708Z"
   },
   {
    "duration": 1024,
    "start_time": "2023-10-12T17:00:26.116Z"
   },
   {
    "duration": 504,
    "start_time": "2023-10-12T17:00:27.142Z"
   },
   {
    "duration": 777,
    "start_time": "2023-10-12T17:00:27.648Z"
   },
   {
    "duration": 681,
    "start_time": "2023-10-12T17:00:28.427Z"
   },
   {
    "duration": 4,
    "start_time": "2023-10-12T17:01:14.547Z"
   },
   {
    "duration": 175,
    "start_time": "2023-10-12T17:01:14.554Z"
   },
   {
    "duration": 43,
    "start_time": "2023-10-12T17:01:14.731Z"
   },
   {
    "duration": 38,
    "start_time": "2023-10-12T17:01:14.776Z"
   },
   {
    "duration": 14,
    "start_time": "2023-10-12T17:01:14.821Z"
   },
   {
    "duration": 32,
    "start_time": "2023-10-12T17:01:14.837Z"
   },
   {
    "duration": 43,
    "start_time": "2023-10-12T17:01:14.872Z"
   },
   {
    "duration": 22,
    "start_time": "2023-10-12T17:01:14.917Z"
   },
   {
    "duration": 37,
    "start_time": "2023-10-12T17:01:14.941Z"
   },
   {
    "duration": 34,
    "start_time": "2023-10-12T17:01:14.980Z"
   },
   {
    "duration": 41,
    "start_time": "2023-10-12T17:01:15.016Z"
   },
   {
    "duration": 120,
    "start_time": "2023-10-12T17:01:15.059Z"
   },
   {
    "duration": 119,
    "start_time": "2023-10-12T17:01:15.181Z"
   },
   {
    "duration": 40,
    "start_time": "2023-10-12T17:01:15.305Z"
   },
   {
    "duration": 33,
    "start_time": "2023-10-12T17:01:15.347Z"
   },
   {
    "duration": 64,
    "start_time": "2023-10-12T17:01:15.382Z"
   },
   {
    "duration": 27,
    "start_time": "2023-10-12T17:01:15.448Z"
   },
   {
    "duration": 4,
    "start_time": "2023-10-12T17:01:15.478Z"
   },
   {
    "duration": 61,
    "start_time": "2023-10-12T17:01:15.483Z"
   },
   {
    "duration": 70,
    "start_time": "2023-10-12T17:01:15.546Z"
   },
   {
    "duration": 222,
    "start_time": "2023-10-12T17:01:15.620Z"
   },
   {
    "duration": 24,
    "start_time": "2023-10-12T17:01:15.844Z"
   },
   {
    "duration": 50,
    "start_time": "2023-10-12T17:01:15.869Z"
   },
   {
    "duration": 48,
    "start_time": "2023-10-12T17:01:15.921Z"
   },
   {
    "duration": 46,
    "start_time": "2023-10-12T17:01:15.971Z"
   },
   {
    "duration": 23,
    "start_time": "2023-10-12T17:01:16.019Z"
   },
   {
    "duration": 16,
    "start_time": "2023-10-12T17:01:16.044Z"
   },
   {
    "duration": 19,
    "start_time": "2023-10-12T17:01:16.062Z"
   },
   {
    "duration": 44,
    "start_time": "2023-10-12T17:01:16.083Z"
   },
   {
    "duration": 51,
    "start_time": "2023-10-12T17:01:16.129Z"
   },
   {
    "duration": 166,
    "start_time": "2023-10-12T17:01:16.182Z"
   },
   {
    "duration": 8,
    "start_time": "2023-10-12T17:01:16.350Z"
   },
   {
    "duration": 33,
    "start_time": "2023-10-12T17:01:16.360Z"
   },
   {
    "duration": 34,
    "start_time": "2023-10-12T17:01:16.395Z"
   },
   {
    "duration": 41,
    "start_time": "2023-10-12T17:01:16.431Z"
   },
   {
    "duration": 9,
    "start_time": "2023-10-12T17:01:16.474Z"
   },
   {
    "duration": 63,
    "start_time": "2023-10-12T17:01:16.484Z"
   },
   {
    "duration": 31,
    "start_time": "2023-10-12T17:01:16.549Z"
   },
   {
    "duration": 31,
    "start_time": "2023-10-12T17:01:16.582Z"
   },
   {
    "duration": 454,
    "start_time": "2023-10-12T17:01:16.615Z"
   },
   {
    "duration": 193,
    "start_time": "2023-10-12T17:01:17.073Z"
   },
   {
    "duration": 513,
    "start_time": "2023-10-12T17:01:17.267Z"
   },
   {
    "duration": 254,
    "start_time": "2023-10-12T17:01:17.782Z"
   },
   {
    "duration": 353,
    "start_time": "2023-10-12T17:01:18.038Z"
   },
   {
    "duration": 356,
    "start_time": "2023-10-12T17:01:18.393Z"
   },
   {
    "duration": 3,
    "start_time": "2023-10-12T17:02:15.458Z"
   },
   {
    "duration": 165,
    "start_time": "2023-10-12T17:02:15.463Z"
   },
   {
    "duration": 34,
    "start_time": "2023-10-12T17:02:15.630Z"
   },
   {
    "duration": 25,
    "start_time": "2023-10-12T17:02:15.666Z"
   },
   {
    "duration": 18,
    "start_time": "2023-10-12T17:02:15.694Z"
   },
   {
    "duration": 28,
    "start_time": "2023-10-12T17:02:15.714Z"
   },
   {
    "duration": 18,
    "start_time": "2023-10-12T17:02:15.744Z"
   },
   {
    "duration": 20,
    "start_time": "2023-10-12T17:02:15.764Z"
   },
   {
    "duration": 50,
    "start_time": "2023-10-12T17:02:15.786Z"
   },
   {
    "duration": 18,
    "start_time": "2023-10-12T17:02:15.837Z"
   },
   {
    "duration": 7,
    "start_time": "2023-10-12T17:02:15.857Z"
   },
   {
    "duration": 41,
    "start_time": "2023-10-12T17:02:15.866Z"
   },
   {
    "duration": 68,
    "start_time": "2023-10-12T17:02:15.909Z"
   },
   {
    "duration": 43,
    "start_time": "2023-10-12T17:02:15.981Z"
   },
   {
    "duration": 31,
    "start_time": "2023-10-12T17:02:16.026Z"
   },
   {
    "duration": 26,
    "start_time": "2023-10-12T17:02:16.059Z"
   },
   {
    "duration": 27,
    "start_time": "2023-10-12T17:02:16.087Z"
   },
   {
    "duration": 11,
    "start_time": "2023-10-12T17:02:16.117Z"
   },
   {
    "duration": 38,
    "start_time": "2023-10-12T17:02:16.130Z"
   },
   {
    "duration": 48,
    "start_time": "2023-10-12T17:02:16.170Z"
   },
   {
    "duration": 223,
    "start_time": "2023-10-12T17:02:16.220Z"
   },
   {
    "duration": 32,
    "start_time": "2023-10-12T17:02:16.446Z"
   },
   {
    "duration": 30,
    "start_time": "2023-10-12T17:02:16.513Z"
   },
   {
    "duration": 44,
    "start_time": "2023-10-12T17:02:16.545Z"
   },
   {
    "duration": 24,
    "start_time": "2023-10-12T17:02:16.591Z"
   },
   {
    "duration": 19,
    "start_time": "2023-10-12T17:02:16.617Z"
   },
   {
    "duration": 26,
    "start_time": "2023-10-12T17:02:16.638Z"
   },
   {
    "duration": 56,
    "start_time": "2023-10-12T17:02:16.666Z"
   },
   {
    "duration": 114,
    "start_time": "2023-10-12T17:02:16.724Z"
   },
   {
    "duration": 44,
    "start_time": "2023-10-12T17:02:16.840Z"
   },
   {
    "duration": 165,
    "start_time": "2023-10-12T17:02:16.885Z"
   },
   {
    "duration": 9,
    "start_time": "2023-10-12T17:02:17.052Z"
   },
   {
    "duration": 68,
    "start_time": "2023-10-12T17:02:17.063Z"
   },
   {
    "duration": 38,
    "start_time": "2023-10-12T17:02:17.133Z"
   },
   {
    "duration": 20,
    "start_time": "2023-10-12T17:02:17.172Z"
   },
   {
    "duration": 9,
    "start_time": "2023-10-12T17:02:17.193Z"
   },
   {
    "duration": 58,
    "start_time": "2023-10-12T17:02:17.203Z"
   },
   {
    "duration": 23,
    "start_time": "2023-10-12T17:02:17.263Z"
   },
   {
    "duration": 28,
    "start_time": "2023-10-12T17:02:17.287Z"
   },
   {
    "duration": 355,
    "start_time": "2023-10-12T17:02:17.317Z"
   },
   {
    "duration": 309,
    "start_time": "2023-10-12T17:02:17.676Z"
   },
   {
    "duration": 536,
    "start_time": "2023-10-12T17:02:17.987Z"
   },
   {
    "duration": 267,
    "start_time": "2023-10-12T17:02:18.525Z"
   },
   {
    "duration": 511,
    "start_time": "2023-10-12T17:02:18.801Z"
   },
   {
    "duration": 626,
    "start_time": "2023-10-12T17:02:19.314Z"
   },
   {
    "duration": 12,
    "start_time": "2023-10-12T17:22:34.803Z"
   },
   {
    "duration": 3,
    "start_time": "2023-10-12T17:22:51.978Z"
   },
   {
    "duration": 138,
    "start_time": "2023-10-12T17:22:51.983Z"
   },
   {
    "duration": 39,
    "start_time": "2023-10-12T17:22:52.123Z"
   },
   {
    "duration": 18,
    "start_time": "2023-10-12T17:22:52.165Z"
   },
   {
    "duration": 33,
    "start_time": "2023-10-12T17:22:52.185Z"
   },
   {
    "duration": 64,
    "start_time": "2023-10-12T17:22:52.220Z"
   },
   {
    "duration": 29,
    "start_time": "2023-10-12T17:22:52.286Z"
   },
   {
    "duration": 30,
    "start_time": "2023-10-12T17:22:52.316Z"
   },
   {
    "duration": 41,
    "start_time": "2023-10-12T17:22:52.347Z"
   },
   {
    "duration": 29,
    "start_time": "2023-10-12T17:22:52.393Z"
   },
   {
    "duration": 30,
    "start_time": "2023-10-12T17:22:52.424Z"
   },
   {
    "duration": 31,
    "start_time": "2023-10-12T17:22:52.456Z"
   },
   {
    "duration": 91,
    "start_time": "2023-10-12T17:22:52.489Z"
   },
   {
    "duration": 30,
    "start_time": "2023-10-12T17:22:52.582Z"
   },
   {
    "duration": 32,
    "start_time": "2023-10-12T17:22:52.614Z"
   },
   {
    "duration": 19,
    "start_time": "2023-10-12T17:22:52.647Z"
   },
   {
    "duration": 37,
    "start_time": "2023-10-12T17:22:52.668Z"
   },
   {
    "duration": 17,
    "start_time": "2023-10-12T17:22:52.707Z"
   },
   {
    "duration": 54,
    "start_time": "2023-10-12T17:22:52.726Z"
   },
   {
    "duration": 69,
    "start_time": "2023-10-12T17:22:52.781Z"
   },
   {
    "duration": 215,
    "start_time": "2023-10-12T17:22:52.852Z"
   },
   {
    "duration": 50,
    "start_time": "2023-10-12T17:22:53.068Z"
   },
   {
    "duration": 29,
    "start_time": "2023-10-12T17:22:53.120Z"
   },
   {
    "duration": 80,
    "start_time": "2023-10-12T17:22:53.151Z"
   },
   {
    "duration": 58,
    "start_time": "2023-10-12T17:22:53.233Z"
   },
   {
    "duration": 42,
    "start_time": "2023-10-12T17:22:53.293Z"
   },
   {
    "duration": 29,
    "start_time": "2023-10-12T17:22:53.337Z"
   },
   {
    "duration": 35,
    "start_time": "2023-10-12T17:22:53.369Z"
   },
   {
    "duration": 22,
    "start_time": "2023-10-12T17:22:53.406Z"
   },
   {
    "duration": 56,
    "start_time": "2023-10-12T17:22:53.430Z"
   },
   {
    "duration": 59,
    "start_time": "2023-10-12T17:22:53.488Z"
   },
   {
    "duration": 152,
    "start_time": "2023-10-12T17:22:53.549Z"
   },
   {
    "duration": 8,
    "start_time": "2023-10-12T17:22:53.703Z"
   },
   {
    "duration": 65,
    "start_time": "2023-10-12T17:22:53.712Z"
   },
   {
    "duration": 24,
    "start_time": "2023-10-12T17:22:53.779Z"
   },
   {
    "duration": 20,
    "start_time": "2023-10-12T17:22:53.805Z"
   },
   {
    "duration": 5,
    "start_time": "2023-10-12T17:22:53.827Z"
   },
   {
    "duration": 101,
    "start_time": "2023-10-12T17:22:53.834Z"
   },
   {
    "duration": 19,
    "start_time": "2023-10-12T17:22:53.938Z"
   },
   {
    "duration": 15,
    "start_time": "2023-10-12T17:22:53.959Z"
   },
   {
    "duration": 344,
    "start_time": "2023-10-12T17:22:53.976Z"
   },
   {
    "duration": 315,
    "start_time": "2023-10-12T17:22:54.322Z"
   },
   {
    "duration": 1281,
    "start_time": "2023-10-12T17:22:54.639Z"
   },
   {
    "duration": 453,
    "start_time": "2023-10-12T17:22:55.921Z"
   },
   {
    "duration": 335,
    "start_time": "2023-10-12T17:22:56.376Z"
   },
   {
    "duration": 298,
    "start_time": "2023-10-12T17:22:56.713Z"
   },
   {
    "duration": 12,
    "start_time": "2023-10-12T17:26:07.497Z"
   },
   {
    "duration": 14,
    "start_time": "2023-10-12T17:27:10.697Z"
   },
   {
    "duration": 126,
    "start_time": "2023-10-12T17:28:18.616Z"
   },
   {
    "duration": 14,
    "start_time": "2023-10-12T17:28:32.333Z"
   },
   {
    "duration": 17,
    "start_time": "2023-10-12T17:28:49.987Z"
   },
   {
    "duration": 14,
    "start_time": "2023-10-12T17:32:14.663Z"
   },
   {
    "duration": 3,
    "start_time": "2023-10-12T17:32:18.671Z"
   },
   {
    "duration": 144,
    "start_time": "2023-10-12T17:32:18.677Z"
   },
   {
    "duration": 34,
    "start_time": "2023-10-12T17:32:18.822Z"
   },
   {
    "duration": 19,
    "start_time": "2023-10-12T17:32:18.859Z"
   },
   {
    "duration": 22,
    "start_time": "2023-10-12T17:32:18.880Z"
   },
   {
    "duration": 32,
    "start_time": "2023-10-12T17:32:18.904Z"
   },
   {
    "duration": 26,
    "start_time": "2023-10-12T17:32:18.938Z"
   },
   {
    "duration": 50,
    "start_time": "2023-10-12T17:32:18.966Z"
   },
   {
    "duration": 32,
    "start_time": "2023-10-12T17:32:19.018Z"
   },
   {
    "duration": 51,
    "start_time": "2023-10-12T17:32:19.053Z"
   },
   {
    "duration": 42,
    "start_time": "2023-10-12T17:32:19.106Z"
   },
   {
    "duration": 38,
    "start_time": "2023-10-12T17:32:19.150Z"
   },
   {
    "duration": 124,
    "start_time": "2023-10-12T17:32:19.190Z"
   },
   {
    "duration": 68,
    "start_time": "2023-10-12T17:32:19.316Z"
   },
   {
    "duration": 42,
    "start_time": "2023-10-12T17:32:19.386Z"
   },
   {
    "duration": 22,
    "start_time": "2023-10-12T17:32:19.431Z"
   },
   {
    "duration": 13,
    "start_time": "2023-10-12T17:32:19.455Z"
   },
   {
    "duration": 52,
    "start_time": "2023-10-12T17:32:19.470Z"
   },
   {
    "duration": 138,
    "start_time": "2023-10-12T17:32:19.523Z"
   },
   {
    "duration": 63,
    "start_time": "2023-10-12T17:32:19.663Z"
   },
   {
    "duration": 198,
    "start_time": "2023-10-12T17:32:19.728Z"
   },
   {
    "duration": 31,
    "start_time": "2023-10-12T17:32:19.927Z"
   },
   {
    "duration": 169,
    "start_time": "2023-10-12T17:32:19.959Z"
   },
   {
    "duration": 97,
    "start_time": "2023-10-12T17:32:20.129Z"
   },
   {
    "duration": 34,
    "start_time": "2023-10-12T17:32:20.228Z"
   },
   {
    "duration": 56,
    "start_time": "2023-10-12T17:32:20.264Z"
   },
   {
    "duration": 45,
    "start_time": "2023-10-12T17:32:20.322Z"
   },
   {
    "duration": 47,
    "start_time": "2023-10-12T17:32:20.371Z"
   },
   {
    "duration": 50,
    "start_time": "2023-10-12T17:32:20.420Z"
   },
   {
    "duration": 85,
    "start_time": "2023-10-12T17:32:20.472Z"
   },
   {
    "duration": 219,
    "start_time": "2023-10-12T17:32:20.560Z"
   },
   {
    "duration": 161,
    "start_time": "2023-10-12T17:32:20.780Z"
   },
   {
    "duration": 8,
    "start_time": "2023-10-12T17:32:20.943Z"
   },
   {
    "duration": 52,
    "start_time": "2023-10-12T17:32:20.952Z"
   },
   {
    "duration": 58,
    "start_time": "2023-10-12T17:32:21.006Z"
   },
   {
    "duration": 53,
    "start_time": "2023-10-12T17:32:21.066Z"
   },
   {
    "duration": 21,
    "start_time": "2023-10-12T17:32:21.121Z"
   },
   {
    "duration": 76,
    "start_time": "2023-10-12T17:32:21.144Z"
   },
   {
    "duration": 21,
    "start_time": "2023-10-12T17:32:21.222Z"
   },
   {
    "duration": 59,
    "start_time": "2023-10-12T17:32:21.245Z"
   },
   {
    "duration": 598,
    "start_time": "2023-10-12T17:32:21.306Z"
   },
   {
    "duration": 329,
    "start_time": "2023-10-12T17:32:21.906Z"
   },
   {
    "duration": 1265,
    "start_time": "2023-10-12T17:32:22.237Z"
   },
   {
    "duration": 229,
    "start_time": "2023-10-12T17:32:23.504Z"
   },
   {
    "duration": 308,
    "start_time": "2023-10-12T17:32:23.734Z"
   },
   {
    "duration": 311,
    "start_time": "2023-10-12T17:32:24.044Z"
   },
   {
    "duration": 16,
    "start_time": "2023-10-12T17:34:19.736Z"
   },
   {
    "duration": 18,
    "start_time": "2023-10-12T17:41:43.964Z"
   },
   {
    "duration": 4,
    "start_time": "2023-10-12T17:42:17.371Z"
   },
   {
    "duration": 154,
    "start_time": "2023-10-12T17:42:17.377Z"
   },
   {
    "duration": 35,
    "start_time": "2023-10-12T17:42:17.533Z"
   },
   {
    "duration": 17,
    "start_time": "2023-10-12T17:42:17.570Z"
   },
   {
    "duration": 14,
    "start_time": "2023-10-12T17:42:17.589Z"
   },
   {
    "duration": 22,
    "start_time": "2023-10-12T17:42:17.605Z"
   },
   {
    "duration": 19,
    "start_time": "2023-10-12T17:42:17.629Z"
   },
   {
    "duration": 33,
    "start_time": "2023-10-12T17:42:17.651Z"
   },
   {
    "duration": 44,
    "start_time": "2023-10-12T17:42:17.686Z"
   },
   {
    "duration": 21,
    "start_time": "2023-10-12T17:42:17.732Z"
   },
   {
    "duration": 8,
    "start_time": "2023-10-12T17:42:17.757Z"
   },
   {
    "duration": 47,
    "start_time": "2023-10-12T17:42:17.767Z"
   },
   {
    "duration": 53,
    "start_time": "2023-10-12T17:42:17.816Z"
   },
   {
    "duration": 27,
    "start_time": "2023-10-12T17:42:17.871Z"
   },
   {
    "duration": 39,
    "start_time": "2023-10-12T17:42:17.901Z"
   },
   {
    "duration": 18,
    "start_time": "2023-10-12T17:42:17.942Z"
   },
   {
    "duration": 30,
    "start_time": "2023-10-12T17:42:17.962Z"
   },
   {
    "duration": 21,
    "start_time": "2023-10-12T17:42:17.994Z"
   },
   {
    "duration": 50,
    "start_time": "2023-10-12T17:42:18.018Z"
   },
   {
    "duration": 17,
    "start_time": "2023-10-12T17:42:18.070Z"
   },
   {
    "duration": 197,
    "start_time": "2023-10-12T17:42:18.089Z"
   },
   {
    "duration": 44,
    "start_time": "2023-10-12T17:42:18.289Z"
   },
   {
    "duration": 28,
    "start_time": "2023-10-12T17:42:18.335Z"
   },
   {
    "duration": 37,
    "start_time": "2023-10-12T17:42:18.366Z"
   },
   {
    "duration": 64,
    "start_time": "2023-10-12T17:42:18.404Z"
   },
   {
    "duration": 37,
    "start_time": "2023-10-12T17:42:18.470Z"
   },
   {
    "duration": 40,
    "start_time": "2023-10-12T17:42:18.509Z"
   },
   {
    "duration": 80,
    "start_time": "2023-10-12T17:42:18.551Z"
   },
   {
    "duration": 76,
    "start_time": "2023-10-12T17:42:18.635Z"
   },
   {
    "duration": 173,
    "start_time": "2023-10-12T17:42:18.714Z"
   },
   {
    "duration": 129,
    "start_time": "2023-10-12T17:42:18.889Z"
   },
   {
    "duration": 317,
    "start_time": "2023-10-12T17:42:19.020Z"
   },
   {
    "duration": 61,
    "start_time": "2023-10-12T17:42:19.340Z"
   },
   {
    "duration": 21,
    "start_time": "2023-10-12T17:42:19.404Z"
   },
   {
    "duration": 80,
    "start_time": "2023-10-12T17:42:19.427Z"
   },
   {
    "duration": 36,
    "start_time": "2023-10-12T17:42:19.509Z"
   },
   {
    "duration": 58,
    "start_time": "2023-10-12T17:42:19.547Z"
   },
   {
    "duration": 127,
    "start_time": "2023-10-12T17:42:19.607Z"
   },
   {
    "duration": 91,
    "start_time": "2023-10-12T17:42:19.736Z"
   },
   {
    "duration": 22,
    "start_time": "2023-10-12T17:42:19.830Z"
   },
   {
    "duration": 679,
    "start_time": "2023-10-12T17:42:19.855Z"
   },
   {
    "duration": 374,
    "start_time": "2023-10-12T17:42:20.536Z"
   },
   {
    "duration": 701,
    "start_time": "2023-10-12T17:42:20.912Z"
   },
   {
    "duration": 245,
    "start_time": "2023-10-12T17:42:21.614Z"
   },
   {
    "duration": 480,
    "start_time": "2023-10-12T17:42:21.861Z"
   },
   {
    "duration": 309,
    "start_time": "2023-10-12T17:42:22.343Z"
   },
   {
    "duration": 18,
    "start_time": "2023-10-12T17:42:48.555Z"
   },
   {
    "duration": 4,
    "start_time": "2023-10-12T17:47:03.046Z"
   },
   {
    "duration": 142,
    "start_time": "2023-10-12T17:47:03.051Z"
   },
   {
    "duration": 36,
    "start_time": "2023-10-12T17:47:03.195Z"
   },
   {
    "duration": 71,
    "start_time": "2023-10-12T17:47:03.233Z"
   },
   {
    "duration": 13,
    "start_time": "2023-10-12T17:47:03.306Z"
   },
   {
    "duration": 31,
    "start_time": "2023-10-12T17:47:03.320Z"
   },
   {
    "duration": 17,
    "start_time": "2023-10-12T17:47:03.353Z"
   },
   {
    "duration": 29,
    "start_time": "2023-10-12T17:47:03.372Z"
   },
   {
    "duration": 30,
    "start_time": "2023-10-12T17:47:03.403Z"
   },
   {
    "duration": 18,
    "start_time": "2023-10-12T17:47:03.436Z"
   },
   {
    "duration": 13,
    "start_time": "2023-10-12T17:47:03.456Z"
   },
   {
    "duration": 36,
    "start_time": "2023-10-12T17:47:03.471Z"
   },
   {
    "duration": 207,
    "start_time": "2023-10-12T17:47:03.509Z"
   },
   {
    "duration": 24,
    "start_time": "2023-10-12T17:47:03.718Z"
   },
   {
    "duration": 31,
    "start_time": "2023-10-12T17:47:03.744Z"
   },
   {
    "duration": 18,
    "start_time": "2023-10-12T17:47:03.801Z"
   },
   {
    "duration": 11,
    "start_time": "2023-10-12T17:47:03.821Z"
   },
   {
    "duration": 16,
    "start_time": "2023-10-12T17:47:03.833Z"
   },
   {
    "duration": 43,
    "start_time": "2023-10-12T17:47:03.851Z"
   },
   {
    "duration": 25,
    "start_time": "2023-10-12T17:47:03.896Z"
   },
   {
    "duration": 198,
    "start_time": "2023-10-12T17:47:03.922Z"
   },
   {
    "duration": 32,
    "start_time": "2023-10-12T17:47:04.123Z"
   },
   {
    "duration": 48,
    "start_time": "2023-10-12T17:47:04.157Z"
   },
   {
    "duration": 13,
    "start_time": "2023-10-12T17:47:04.207Z"
   },
   {
    "duration": 23,
    "start_time": "2023-10-12T17:47:04.223Z"
   },
   {
    "duration": 33,
    "start_time": "2023-10-12T17:47:04.248Z"
   },
   {
    "duration": 169,
    "start_time": "2023-10-12T17:47:04.283Z"
   },
   {
    "duration": 0,
    "start_time": "2023-10-12T17:47:04.455Z"
   },
   {
    "duration": 0,
    "start_time": "2023-10-12T17:47:04.456Z"
   },
   {
    "duration": 0,
    "start_time": "2023-10-12T17:47:04.457Z"
   },
   {
    "duration": 0,
    "start_time": "2023-10-12T17:47:04.458Z"
   },
   {
    "duration": 0,
    "start_time": "2023-10-12T17:47:04.459Z"
   },
   {
    "duration": 0,
    "start_time": "2023-10-12T17:47:04.460Z"
   },
   {
    "duration": 0,
    "start_time": "2023-10-12T17:47:04.461Z"
   },
   {
    "duration": 0,
    "start_time": "2023-10-12T17:47:04.462Z"
   },
   {
    "duration": 0,
    "start_time": "2023-10-12T17:47:04.463Z"
   },
   {
    "duration": 0,
    "start_time": "2023-10-12T17:47:04.464Z"
   },
   {
    "duration": 0,
    "start_time": "2023-10-12T17:47:04.465Z"
   },
   {
    "duration": 0,
    "start_time": "2023-10-12T17:47:04.467Z"
   },
   {
    "duration": 0,
    "start_time": "2023-10-12T17:47:04.468Z"
   },
   {
    "duration": 0,
    "start_time": "2023-10-12T17:47:04.468Z"
   },
   {
    "duration": 0,
    "start_time": "2023-10-12T17:47:04.470Z"
   },
   {
    "duration": 0,
    "start_time": "2023-10-12T17:47:04.471Z"
   },
   {
    "duration": 0,
    "start_time": "2023-10-12T17:47:04.472Z"
   },
   {
    "duration": 0,
    "start_time": "2023-10-12T17:47:04.473Z"
   },
   {
    "duration": 0,
    "start_time": "2023-10-12T17:47:04.474Z"
   },
   {
    "duration": 0,
    "start_time": "2023-10-12T17:47:04.475Z"
   },
   {
    "duration": 0,
    "start_time": "2023-10-12T17:47:04.477Z"
   },
   {
    "duration": 11,
    "start_time": "2023-10-12T17:49:35.026Z"
   },
   {
    "duration": 3,
    "start_time": "2023-10-12T17:51:50.340Z"
   },
   {
    "duration": 168,
    "start_time": "2023-10-12T17:51:50.345Z"
   },
   {
    "duration": 37,
    "start_time": "2023-10-12T17:51:50.514Z"
   },
   {
    "duration": 77,
    "start_time": "2023-10-12T17:51:50.553Z"
   },
   {
    "duration": 34,
    "start_time": "2023-10-12T17:51:50.631Z"
   },
   {
    "duration": 62,
    "start_time": "2023-10-12T17:51:50.667Z"
   },
   {
    "duration": 52,
    "start_time": "2023-10-12T17:51:50.731Z"
   },
   {
    "duration": 96,
    "start_time": "2023-10-12T17:51:50.785Z"
   },
   {
    "duration": 91,
    "start_time": "2023-10-12T17:51:50.882Z"
   },
   {
    "duration": 90,
    "start_time": "2023-10-12T17:51:50.976Z"
   },
   {
    "duration": 41,
    "start_time": "2023-10-12T17:51:51.068Z"
   },
   {
    "duration": 24,
    "start_time": "2023-10-12T17:51:51.111Z"
   },
   {
    "duration": 48,
    "start_time": "2023-10-12T17:51:51.137Z"
   },
   {
    "duration": 24,
    "start_time": "2023-10-12T17:51:51.187Z"
   },
   {
    "duration": 36,
    "start_time": "2023-10-12T17:51:51.213Z"
   },
   {
    "duration": 32,
    "start_time": "2023-10-12T17:51:51.251Z"
   },
   {
    "duration": 9,
    "start_time": "2023-10-12T17:51:51.285Z"
   },
   {
    "duration": 11,
    "start_time": "2023-10-12T17:51:51.296Z"
   },
   {
    "duration": 57,
    "start_time": "2023-10-12T17:51:51.309Z"
   },
   {
    "duration": 31,
    "start_time": "2023-10-12T17:51:51.368Z"
   },
   {
    "duration": 222,
    "start_time": "2023-10-12T17:51:51.401Z"
   },
   {
    "duration": 33,
    "start_time": "2023-10-12T17:51:51.625Z"
   },
   {
    "duration": 58,
    "start_time": "2023-10-12T17:51:51.659Z"
   },
   {
    "duration": 9,
    "start_time": "2023-10-12T17:51:51.718Z"
   },
   {
    "duration": 16,
    "start_time": "2023-10-12T17:51:51.729Z"
   },
   {
    "duration": 69,
    "start_time": "2023-10-12T17:51:51.747Z"
   },
   {
    "duration": 24,
    "start_time": "2023-10-12T17:51:51.818Z"
   },
   {
    "duration": 63,
    "start_time": "2023-10-12T17:51:51.846Z"
   },
   {
    "duration": 156,
    "start_time": "2023-10-12T17:51:51.911Z"
   },
   {
    "duration": 71,
    "start_time": "2023-10-12T17:51:52.069Z"
   },
   {
    "duration": 36,
    "start_time": "2023-10-12T17:51:52.142Z"
   },
   {
    "duration": 47,
    "start_time": "2023-10-12T17:51:52.180Z"
   },
   {
    "duration": 99,
    "start_time": "2023-10-12T17:51:52.229Z"
   },
   {
    "duration": 307,
    "start_time": "2023-10-12T17:51:52.330Z"
   },
   {
    "duration": 8,
    "start_time": "2023-10-12T17:51:52.639Z"
   },
   {
    "duration": 24,
    "start_time": "2023-10-12T17:51:52.702Z"
   },
   {
    "duration": 75,
    "start_time": "2023-10-12T17:51:52.728Z"
   },
   {
    "duration": 26,
    "start_time": "2023-10-12T17:51:52.805Z"
   },
   {
    "duration": 69,
    "start_time": "2023-10-12T17:51:52.833Z"
   },
   {
    "duration": 127,
    "start_time": "2023-10-12T17:51:52.903Z"
   },
   {
    "duration": 71,
    "start_time": "2023-10-12T17:51:53.032Z"
   },
   {
    "duration": 4,
    "start_time": "2023-10-12T17:51:53.104Z"
   },
   {
    "duration": 346,
    "start_time": "2023-10-12T17:51:53.110Z"
   },
   {
    "duration": 190,
    "start_time": "2023-10-12T17:51:53.458Z"
   },
   {
    "duration": 424,
    "start_time": "2023-10-12T17:51:53.650Z"
   },
   {
    "duration": 309,
    "start_time": "2023-10-12T17:51:54.075Z"
   },
   {
    "duration": 352,
    "start_time": "2023-10-12T17:51:54.386Z"
   },
   {
    "duration": 281,
    "start_time": "2023-10-12T17:51:54.740Z"
   },
   {
    "duration": 18,
    "start_time": "2023-10-12T17:56:04.841Z"
   },
   {
    "duration": 13,
    "start_time": "2023-10-12T17:57:44.989Z"
   },
   {
    "duration": 4,
    "start_time": "2023-10-12T18:01:27.249Z"
   },
   {
    "duration": 152,
    "start_time": "2023-10-12T18:01:27.256Z"
   },
   {
    "duration": 33,
    "start_time": "2023-10-12T18:01:27.410Z"
   },
   {
    "duration": 45,
    "start_time": "2023-10-12T18:01:27.445Z"
   },
   {
    "duration": 58,
    "start_time": "2023-10-12T18:01:27.492Z"
   },
   {
    "duration": 96,
    "start_time": "2023-10-12T18:01:27.552Z"
   },
   {
    "duration": 69,
    "start_time": "2023-10-12T18:01:27.649Z"
   },
   {
    "duration": 46,
    "start_time": "2023-10-12T18:01:27.720Z"
   },
   {
    "duration": 51,
    "start_time": "2023-10-12T18:01:27.768Z"
   },
   {
    "duration": 26,
    "start_time": "2023-10-12T18:01:27.821Z"
   },
   {
    "duration": 56,
    "start_time": "2023-10-12T18:01:27.849Z"
   },
   {
    "duration": 33,
    "start_time": "2023-10-12T18:01:27.907Z"
   },
   {
    "duration": 130,
    "start_time": "2023-10-12T18:01:27.942Z"
   },
   {
    "duration": 37,
    "start_time": "2023-10-12T18:01:28.076Z"
   },
   {
    "duration": 77,
    "start_time": "2023-10-12T18:01:28.115Z"
   },
   {
    "duration": 20,
    "start_time": "2023-10-12T18:01:28.194Z"
   },
   {
    "duration": 26,
    "start_time": "2023-10-12T18:01:28.216Z"
   },
   {
    "duration": 32,
    "start_time": "2023-10-12T18:01:28.244Z"
   },
   {
    "duration": 50,
    "start_time": "2023-10-12T18:01:28.278Z"
   },
   {
    "duration": 18,
    "start_time": "2023-10-12T18:01:28.330Z"
   },
   {
    "duration": 255,
    "start_time": "2023-10-12T18:01:28.350Z"
   },
   {
    "duration": 37,
    "start_time": "2023-10-12T18:01:28.607Z"
   },
   {
    "duration": 55,
    "start_time": "2023-10-12T18:01:28.646Z"
   },
   {
    "duration": 64,
    "start_time": "2023-10-12T18:01:28.704Z"
   },
   {
    "duration": 108,
    "start_time": "2023-10-12T18:01:28.770Z"
   },
   {
    "duration": 72,
    "start_time": "2023-10-12T18:01:28.880Z"
   },
   {
    "duration": 140,
    "start_time": "2023-10-12T18:01:28.954Z"
   },
   {
    "duration": 0,
    "start_time": "2023-10-12T18:01:29.096Z"
   },
   {
    "duration": 0,
    "start_time": "2023-10-12T18:01:29.097Z"
   },
   {
    "duration": 0,
    "start_time": "2023-10-12T18:01:29.098Z"
   },
   {
    "duration": 0,
    "start_time": "2023-10-12T18:01:29.099Z"
   },
   {
    "duration": 0,
    "start_time": "2023-10-12T18:01:29.100Z"
   },
   {
    "duration": 0,
    "start_time": "2023-10-12T18:01:29.101Z"
   },
   {
    "duration": 0,
    "start_time": "2023-10-12T18:01:29.101Z"
   },
   {
    "duration": 0,
    "start_time": "2023-10-12T18:01:29.102Z"
   },
   {
    "duration": 0,
    "start_time": "2023-10-12T18:01:29.103Z"
   },
   {
    "duration": 0,
    "start_time": "2023-10-12T18:01:29.104Z"
   },
   {
    "duration": 0,
    "start_time": "2023-10-12T18:01:29.105Z"
   },
   {
    "duration": 0,
    "start_time": "2023-10-12T18:01:29.106Z"
   },
   {
    "duration": 0,
    "start_time": "2023-10-12T18:01:29.107Z"
   },
   {
    "duration": 0,
    "start_time": "2023-10-12T18:01:29.108Z"
   },
   {
    "duration": 0,
    "start_time": "2023-10-12T18:01:29.109Z"
   },
   {
    "duration": 0,
    "start_time": "2023-10-12T18:01:29.110Z"
   },
   {
    "duration": 0,
    "start_time": "2023-10-12T18:01:29.111Z"
   },
   {
    "duration": 0,
    "start_time": "2023-10-12T18:01:29.112Z"
   },
   {
    "duration": 0,
    "start_time": "2023-10-12T18:01:29.113Z"
   },
   {
    "duration": 0,
    "start_time": "2023-10-12T18:01:29.114Z"
   },
   {
    "duration": 4,
    "start_time": "2023-10-12T18:04:45.429Z"
   },
   {
    "duration": 147,
    "start_time": "2023-10-12T18:04:45.435Z"
   },
   {
    "duration": 34,
    "start_time": "2023-10-12T18:04:45.584Z"
   },
   {
    "duration": 15,
    "start_time": "2023-10-12T18:04:45.621Z"
   },
   {
    "duration": 14,
    "start_time": "2023-10-12T18:04:45.638Z"
   },
   {
    "duration": 29,
    "start_time": "2023-10-12T18:04:45.654Z"
   },
   {
    "duration": 26,
    "start_time": "2023-10-12T18:04:45.684Z"
   },
   {
    "duration": 29,
    "start_time": "2023-10-12T18:04:45.712Z"
   },
   {
    "duration": 30,
    "start_time": "2023-10-12T18:04:45.743Z"
   },
   {
    "duration": 37,
    "start_time": "2023-10-12T18:04:45.776Z"
   },
   {
    "duration": 11,
    "start_time": "2023-10-12T18:04:45.815Z"
   },
   {
    "duration": 24,
    "start_time": "2023-10-12T18:04:45.828Z"
   },
   {
    "duration": 52,
    "start_time": "2023-10-12T18:04:45.854Z"
   },
   {
    "duration": 25,
    "start_time": "2023-10-12T18:04:45.908Z"
   },
   {
    "duration": 33,
    "start_time": "2023-10-12T18:04:45.934Z"
   },
   {
    "duration": 42,
    "start_time": "2023-10-12T18:04:45.969Z"
   },
   {
    "duration": 21,
    "start_time": "2023-10-12T18:04:46.012Z"
   },
   {
    "duration": 22,
    "start_time": "2023-10-12T18:04:46.035Z"
   },
   {
    "duration": 53,
    "start_time": "2023-10-12T18:04:46.059Z"
   },
   {
    "duration": 16,
    "start_time": "2023-10-12T18:04:46.114Z"
   },
   {
    "duration": 223,
    "start_time": "2023-10-12T18:04:46.132Z"
   },
   {
    "duration": 49,
    "start_time": "2023-10-12T18:04:46.357Z"
   },
   {
    "duration": 56,
    "start_time": "2023-10-12T18:04:46.408Z"
   },
   {
    "duration": 18,
    "start_time": "2023-10-12T18:04:46.466Z"
   },
   {
    "duration": 16,
    "start_time": "2023-10-12T18:04:46.486Z"
   },
   {
    "duration": 27,
    "start_time": "2023-10-12T18:04:46.504Z"
   },
   {
    "duration": 14,
    "start_time": "2023-10-12T18:04:46.532Z"
   },
   {
    "duration": 25,
    "start_time": "2023-10-12T18:04:46.549Z"
   },
   {
    "duration": 22,
    "start_time": "2023-10-12T18:04:46.576Z"
   },
   {
    "duration": 29,
    "start_time": "2023-10-12T18:04:46.600Z"
   },
   {
    "duration": 26,
    "start_time": "2023-10-12T18:04:46.630Z"
   },
   {
    "duration": 27,
    "start_time": "2023-10-12T18:04:46.657Z"
   },
   {
    "duration": 148,
    "start_time": "2023-10-12T18:04:46.686Z"
   },
   {
    "duration": 6,
    "start_time": "2023-10-12T18:04:46.836Z"
   },
   {
    "duration": 28,
    "start_time": "2023-10-12T18:04:46.843Z"
   },
   {
    "duration": 29,
    "start_time": "2023-10-12T18:04:46.872Z"
   },
   {
    "duration": 12,
    "start_time": "2023-10-12T18:04:46.903Z"
   },
   {
    "duration": 10,
    "start_time": "2023-10-12T18:04:46.917Z"
   },
   {
    "duration": 40,
    "start_time": "2023-10-12T18:04:46.929Z"
   },
   {
    "duration": 23,
    "start_time": "2023-10-12T18:04:46.971Z"
   },
   {
    "duration": 15,
    "start_time": "2023-10-12T18:04:46.996Z"
   },
   {
    "duration": 140,
    "start_time": "2023-10-12T18:04:47.012Z"
   },
   {
    "duration": 164,
    "start_time": "2023-10-12T18:04:47.154Z"
   },
   {
    "duration": 0,
    "start_time": "2023-10-12T18:04:47.320Z"
   },
   {
    "duration": 0,
    "start_time": "2023-10-12T18:04:47.321Z"
   },
   {
    "duration": 0,
    "start_time": "2023-10-12T18:04:47.322Z"
   },
   {
    "duration": 0,
    "start_time": "2023-10-12T18:04:47.323Z"
   },
   {
    "duration": 3,
    "start_time": "2023-10-12T18:10:07.575Z"
   },
   {
    "duration": 160,
    "start_time": "2023-10-12T18:10:07.580Z"
   },
   {
    "duration": 35,
    "start_time": "2023-10-12T18:10:07.742Z"
   },
   {
    "duration": 17,
    "start_time": "2023-10-12T18:10:07.779Z"
   },
   {
    "duration": 12,
    "start_time": "2023-10-12T18:10:07.799Z"
   },
   {
    "duration": 34,
    "start_time": "2023-10-12T18:10:07.813Z"
   },
   {
    "duration": 37,
    "start_time": "2023-10-12T18:10:07.849Z"
   },
   {
    "duration": 34,
    "start_time": "2023-10-12T18:10:07.888Z"
   },
   {
    "duration": 29,
    "start_time": "2023-10-12T18:10:07.925Z"
   },
   {
    "duration": 27,
    "start_time": "2023-10-12T18:10:07.955Z"
   },
   {
    "duration": 20,
    "start_time": "2023-10-12T18:10:07.984Z"
   },
   {
    "duration": 43,
    "start_time": "2023-10-12T18:10:08.006Z"
   },
   {
    "duration": 63,
    "start_time": "2023-10-12T18:10:08.050Z"
   },
   {
    "duration": 25,
    "start_time": "2023-10-12T18:10:08.116Z"
   },
   {
    "duration": 31,
    "start_time": "2023-10-12T18:10:08.142Z"
   },
   {
    "duration": 48,
    "start_time": "2023-10-12T18:10:08.175Z"
   },
   {
    "duration": 63,
    "start_time": "2023-10-12T18:10:08.224Z"
   },
   {
    "duration": 62,
    "start_time": "2023-10-12T18:10:08.289Z"
   },
   {
    "duration": 68,
    "start_time": "2023-10-12T18:10:08.352Z"
   },
   {
    "duration": 44,
    "start_time": "2023-10-12T18:10:08.422Z"
   },
   {
    "duration": 194,
    "start_time": "2023-10-12T18:10:08.468Z"
   },
   {
    "duration": 50,
    "start_time": "2023-10-12T18:10:08.664Z"
   },
   {
    "duration": 27,
    "start_time": "2023-10-12T18:10:08.716Z"
   },
   {
    "duration": 9,
    "start_time": "2023-10-12T18:10:08.745Z"
   },
   {
    "duration": 13,
    "start_time": "2023-10-12T18:10:08.756Z"
   },
   {
    "duration": 39,
    "start_time": "2023-10-12T18:10:08.771Z"
   },
   {
    "duration": 17,
    "start_time": "2023-10-12T18:10:08.812Z"
   },
   {
    "duration": 63,
    "start_time": "2023-10-12T18:10:08.831Z"
   },
   {
    "duration": 41,
    "start_time": "2023-10-12T18:10:08.896Z"
   },
   {
    "duration": 69,
    "start_time": "2023-10-12T18:10:08.939Z"
   },
   {
    "duration": 110,
    "start_time": "2023-10-12T18:10:09.010Z"
   },
   {
    "duration": 404,
    "start_time": "2023-10-12T18:10:09.122Z"
   },
   {
    "duration": 383,
    "start_time": "2023-10-12T18:10:09.527Z"
   },
   {
    "duration": 11,
    "start_time": "2023-10-12T18:10:09.913Z"
   },
   {
    "duration": 180,
    "start_time": "2023-10-12T18:10:09.926Z"
   },
   {
    "duration": 322,
    "start_time": "2023-10-12T18:10:10.109Z"
   },
   {
    "duration": 203,
    "start_time": "2023-10-12T18:10:10.433Z"
   },
   {
    "duration": 5,
    "start_time": "2023-10-12T18:10:10.638Z"
   },
   {
    "duration": 87,
    "start_time": "2023-10-12T18:10:10.646Z"
   },
   {
    "duration": 19,
    "start_time": "2023-10-12T18:10:10.735Z"
   },
   {
    "duration": 11,
    "start_time": "2023-10-12T18:10:10.758Z"
   },
   {
    "duration": 331,
    "start_time": "2023-10-12T18:10:10.770Z"
   },
   {
    "duration": 173,
    "start_time": "2023-10-12T18:10:11.103Z"
   },
   {
    "duration": 592,
    "start_time": "2023-10-12T18:10:11.278Z"
   },
   {
    "duration": 230,
    "start_time": "2023-10-12T18:10:11.871Z"
   },
   {
    "duration": 324,
    "start_time": "2023-10-12T18:10:12.103Z"
   },
   {
    "duration": 304,
    "start_time": "2023-10-12T18:10:12.428Z"
   },
   {
    "duration": 4,
    "start_time": "2023-10-12T18:14:51.118Z"
   },
   {
    "duration": 182,
    "start_time": "2023-10-12T18:14:51.124Z"
   },
   {
    "duration": 32,
    "start_time": "2023-10-12T18:14:51.307Z"
   },
   {
    "duration": 132,
    "start_time": "2023-10-12T18:14:51.342Z"
   },
   {
    "duration": 97,
    "start_time": "2023-10-12T18:14:51.476Z"
   },
   {
    "duration": 101,
    "start_time": "2023-10-12T18:14:51.575Z"
   },
   {
    "duration": 45,
    "start_time": "2023-10-12T18:14:51.678Z"
   },
   {
    "duration": 34,
    "start_time": "2023-10-12T18:14:51.725Z"
   },
   {
    "duration": 41,
    "start_time": "2023-10-12T18:14:51.761Z"
   },
   {
    "duration": 51,
    "start_time": "2023-10-12T18:14:51.805Z"
   },
   {
    "duration": 29,
    "start_time": "2023-10-12T18:14:51.858Z"
   },
   {
    "duration": 51,
    "start_time": "2023-10-12T18:14:51.888Z"
   },
   {
    "duration": 90,
    "start_time": "2023-10-12T18:14:51.941Z"
   },
   {
    "duration": 41,
    "start_time": "2023-10-12T18:14:52.033Z"
   },
   {
    "duration": 48,
    "start_time": "2023-10-12T18:14:52.075Z"
   },
   {
    "duration": 18,
    "start_time": "2023-10-12T18:14:52.125Z"
   },
   {
    "duration": 40,
    "start_time": "2023-10-12T18:14:52.145Z"
   },
   {
    "duration": 19,
    "start_time": "2023-10-12T18:14:52.187Z"
   },
   {
    "duration": 47,
    "start_time": "2023-10-12T18:14:52.208Z"
   },
   {
    "duration": 97,
    "start_time": "2023-10-12T18:14:52.257Z"
   },
   {
    "duration": 265,
    "start_time": "2023-10-12T18:14:52.356Z"
   },
   {
    "duration": 34,
    "start_time": "2023-10-12T18:14:52.623Z"
   },
   {
    "duration": 184,
    "start_time": "2023-10-12T18:14:52.660Z"
   },
   {
    "duration": 92,
    "start_time": "2023-10-12T18:14:52.845Z"
   },
   {
    "duration": 46,
    "start_time": "2023-10-12T18:14:52.939Z"
   },
   {
    "duration": 39,
    "start_time": "2023-10-12T18:14:52.987Z"
   },
   {
    "duration": 32,
    "start_time": "2023-10-12T18:14:53.028Z"
   },
   {
    "duration": 39,
    "start_time": "2023-10-12T18:14:53.101Z"
   },
   {
    "duration": 64,
    "start_time": "2023-10-12T18:14:53.142Z"
   },
   {
    "duration": 55,
    "start_time": "2023-10-12T18:14:53.207Z"
   },
   {
    "duration": 78,
    "start_time": "2023-10-12T18:14:53.264Z"
   },
   {
    "duration": 89,
    "start_time": "2023-10-12T18:14:53.344Z"
   },
   {
    "duration": 305,
    "start_time": "2023-10-12T18:14:53.435Z"
   },
   {
    "duration": 59,
    "start_time": "2023-10-12T18:14:53.742Z"
   },
   {
    "duration": 23,
    "start_time": "2023-10-12T18:14:53.803Z"
   },
   {
    "duration": 75,
    "start_time": "2023-10-12T18:14:53.827Z"
   },
   {
    "duration": 33,
    "start_time": "2023-10-12T18:14:53.904Z"
   },
   {
    "duration": 14,
    "start_time": "2023-10-12T18:14:53.939Z"
   },
   {
    "duration": 292,
    "start_time": "2023-10-12T18:14:53.954Z"
   },
   {
    "duration": 19,
    "start_time": "2023-10-12T18:14:54.300Z"
   },
   {
    "duration": 9,
    "start_time": "2023-10-12T18:14:54.321Z"
   },
   {
    "duration": 517,
    "start_time": "2023-10-12T18:14:54.332Z"
   },
   {
    "duration": 173,
    "start_time": "2023-10-12T18:14:54.851Z"
   },
   {
    "duration": 604,
    "start_time": "2023-10-12T18:14:55.026Z"
   },
   {
    "duration": 233,
    "start_time": "2023-10-12T18:14:55.632Z"
   },
   {
    "duration": 312,
    "start_time": "2023-10-12T18:14:55.867Z"
   },
   {
    "duration": 275,
    "start_time": "2023-10-12T18:14:56.180Z"
   },
   {
    "duration": 29,
    "start_time": "2023-10-12T18:18:26.928Z"
   },
   {
    "duration": 14,
    "start_time": "2023-10-12T18:18:35.523Z"
   },
   {
    "duration": 3,
    "start_time": "2023-10-12T18:18:49.319Z"
   },
   {
    "duration": 145,
    "start_time": "2023-10-12T18:18:49.325Z"
   },
   {
    "duration": 35,
    "start_time": "2023-10-12T18:18:49.471Z"
   },
   {
    "duration": 39,
    "start_time": "2023-10-12T18:18:49.508Z"
   },
   {
    "duration": 46,
    "start_time": "2023-10-12T18:18:49.549Z"
   },
   {
    "duration": 39,
    "start_time": "2023-10-12T18:18:49.597Z"
   },
   {
    "duration": 40,
    "start_time": "2023-10-12T18:18:49.638Z"
   },
   {
    "duration": 25,
    "start_time": "2023-10-12T18:18:49.680Z"
   },
   {
    "duration": 57,
    "start_time": "2023-10-12T18:18:49.706Z"
   },
   {
    "duration": 23,
    "start_time": "2023-10-12T18:18:49.766Z"
   },
   {
    "duration": 7,
    "start_time": "2023-10-12T18:18:49.791Z"
   },
   {
    "duration": 22,
    "start_time": "2023-10-12T18:18:49.800Z"
   },
   {
    "duration": 38,
    "start_time": "2023-10-12T18:18:49.824Z"
   },
   {
    "duration": 28,
    "start_time": "2023-10-12T18:18:49.864Z"
   },
   {
    "duration": 48,
    "start_time": "2023-10-12T18:18:49.894Z"
   },
   {
    "duration": 19,
    "start_time": "2023-10-12T18:18:49.944Z"
   },
   {
    "duration": 43,
    "start_time": "2023-10-12T18:18:49.965Z"
   },
   {
    "duration": 35,
    "start_time": "2023-10-12T18:18:50.010Z"
   },
   {
    "duration": 48,
    "start_time": "2023-10-12T18:18:50.047Z"
   },
   {
    "duration": 30,
    "start_time": "2023-10-12T18:18:50.097Z"
   },
   {
    "duration": 199,
    "start_time": "2023-10-12T18:18:50.130Z"
   },
   {
    "duration": 31,
    "start_time": "2023-10-12T18:18:50.331Z"
   },
   {
    "duration": 41,
    "start_time": "2023-10-12T18:18:50.363Z"
   },
   {
    "duration": 10,
    "start_time": "2023-10-12T18:18:50.406Z"
   },
   {
    "duration": 24,
    "start_time": "2023-10-12T18:18:50.418Z"
   },
   {
    "duration": 26,
    "start_time": "2023-10-12T18:18:50.444Z"
   },
   {
    "duration": 33,
    "start_time": "2023-10-12T18:18:50.471Z"
   },
   {
    "duration": 35,
    "start_time": "2023-10-12T18:18:50.508Z"
   },
   {
    "duration": 27,
    "start_time": "2023-10-12T18:18:50.544Z"
   },
   {
    "duration": 55,
    "start_time": "2023-10-12T18:18:50.573Z"
   },
   {
    "duration": 59,
    "start_time": "2023-10-12T18:18:50.630Z"
   },
   {
    "duration": 70,
    "start_time": "2023-10-12T18:18:50.691Z"
   },
   {
    "duration": 182,
    "start_time": "2023-10-12T18:18:50.763Z"
   },
   {
    "duration": 8,
    "start_time": "2023-10-12T18:18:50.947Z"
   },
   {
    "duration": 30,
    "start_time": "2023-10-12T18:18:50.957Z"
   },
   {
    "duration": 33,
    "start_time": "2023-10-12T18:18:50.989Z"
   },
   {
    "duration": 20,
    "start_time": "2023-10-12T18:18:51.024Z"
   },
   {
    "duration": 15,
    "start_time": "2023-10-12T18:18:51.046Z"
   },
   {
    "duration": 79,
    "start_time": "2023-10-12T18:18:51.063Z"
   },
   {
    "duration": 18,
    "start_time": "2023-10-12T18:18:51.144Z"
   },
   {
    "duration": 34,
    "start_time": "2023-10-12T18:18:51.164Z"
   },
   {
    "duration": 195,
    "start_time": "2023-10-12T18:18:51.200Z"
   },
   {
    "duration": 175,
    "start_time": "2023-10-12T18:18:51.396Z"
   },
   {
    "duration": 395,
    "start_time": "2023-10-12T18:18:51.573Z"
   },
   {
    "duration": 188,
    "start_time": "2023-10-12T18:18:51.970Z"
   },
   {
    "duration": 441,
    "start_time": "2023-10-12T18:18:52.160Z"
   },
   {
    "duration": 519,
    "start_time": "2023-10-12T18:18:52.603Z"
   },
   {
    "duration": 3,
    "start_time": "2023-10-12T18:19:21.175Z"
   },
   {
    "duration": 220,
    "start_time": "2023-10-12T18:19:21.181Z"
   },
   {
    "duration": 35,
    "start_time": "2023-10-12T18:19:21.403Z"
   },
   {
    "duration": 42,
    "start_time": "2023-10-12T18:19:21.440Z"
   },
   {
    "duration": 49,
    "start_time": "2023-10-12T18:19:21.484Z"
   },
   {
    "duration": 97,
    "start_time": "2023-10-12T18:19:21.535Z"
   },
   {
    "duration": 86,
    "start_time": "2023-10-12T18:19:21.634Z"
   },
   {
    "duration": 40,
    "start_time": "2023-10-12T18:19:21.722Z"
   },
   {
    "duration": 39,
    "start_time": "2023-10-12T18:19:21.764Z"
   },
   {
    "duration": 25,
    "start_time": "2023-10-12T18:19:21.805Z"
   },
   {
    "duration": 31,
    "start_time": "2023-10-12T18:19:21.832Z"
   },
   {
    "duration": 14,
    "start_time": "2023-10-12T18:19:21.865Z"
   },
   {
    "duration": 66,
    "start_time": "2023-10-12T18:19:21.881Z"
   },
   {
    "duration": 47,
    "start_time": "2023-10-12T18:19:21.951Z"
   },
   {
    "duration": 66,
    "start_time": "2023-10-12T18:19:22.000Z"
   },
   {
    "duration": 25,
    "start_time": "2023-10-12T18:19:22.068Z"
   },
   {
    "duration": 20,
    "start_time": "2023-10-12T18:19:22.095Z"
   },
   {
    "duration": 19,
    "start_time": "2023-10-12T18:19:22.117Z"
   },
   {
    "duration": 62,
    "start_time": "2023-10-12T18:19:22.138Z"
   },
   {
    "duration": 25,
    "start_time": "2023-10-12T18:19:22.202Z"
   },
   {
    "duration": 213,
    "start_time": "2023-10-12T18:19:22.229Z"
   },
   {
    "duration": 77,
    "start_time": "2023-10-12T18:19:22.444Z"
   },
   {
    "duration": 97,
    "start_time": "2023-10-12T18:19:22.523Z"
   },
   {
    "duration": 13,
    "start_time": "2023-10-12T18:19:22.622Z"
   },
   {
    "duration": 74,
    "start_time": "2023-10-12T18:19:22.638Z"
   },
   {
    "duration": 43,
    "start_time": "2023-10-12T18:19:22.714Z"
   },
   {
    "duration": 77,
    "start_time": "2023-10-12T18:19:22.759Z"
   },
   {
    "duration": 73,
    "start_time": "2023-10-12T18:19:22.838Z"
   },
   {
    "duration": 91,
    "start_time": "2023-10-12T18:19:22.913Z"
   },
   {
    "duration": 76,
    "start_time": "2023-10-12T18:19:23.006Z"
   },
   {
    "duration": 55,
    "start_time": "2023-10-12T18:19:23.084Z"
   },
   {
    "duration": 99,
    "start_time": "2023-10-12T18:19:23.141Z"
   },
   {
    "duration": 398,
    "start_time": "2023-10-12T18:19:23.242Z"
   },
   {
    "duration": 63,
    "start_time": "2023-10-12T18:19:23.642Z"
   },
   {
    "duration": 100,
    "start_time": "2023-10-12T18:19:23.708Z"
   },
   {
    "duration": 46,
    "start_time": "2023-10-12T18:19:23.811Z"
   },
   {
    "duration": 23,
    "start_time": "2023-10-12T18:19:23.902Z"
   },
   {
    "duration": 29,
    "start_time": "2023-10-12T18:19:23.927Z"
   },
   {
    "duration": 102,
    "start_time": "2023-10-12T18:19:24.002Z"
   },
   {
    "duration": 23,
    "start_time": "2023-10-12T18:19:24.106Z"
   },
   {
    "duration": 101,
    "start_time": "2023-10-12T18:19:24.135Z"
   },
   {
    "duration": 299,
    "start_time": "2023-10-12T18:19:24.238Z"
   },
   {
    "duration": 232,
    "start_time": "2023-10-12T18:19:24.539Z"
   },
   {
    "duration": 446,
    "start_time": "2023-10-12T18:19:24.774Z"
   },
   {
    "duration": 190,
    "start_time": "2023-10-12T18:19:25.222Z"
   },
   {
    "duration": 315,
    "start_time": "2023-10-12T18:19:25.414Z"
   },
   {
    "duration": 281,
    "start_time": "2023-10-12T18:19:25.730Z"
   },
   {
    "duration": 4,
    "start_time": "2023-10-12T18:20:38.069Z"
   },
   {
    "duration": 164,
    "start_time": "2023-10-12T18:20:38.076Z"
   },
   {
    "duration": 36,
    "start_time": "2023-10-12T18:20:38.242Z"
   },
   {
    "duration": 18,
    "start_time": "2023-10-12T18:20:38.280Z"
   },
   {
    "duration": 17,
    "start_time": "2023-10-12T18:20:38.300Z"
   },
   {
    "duration": 47,
    "start_time": "2023-10-12T18:20:38.318Z"
   },
   {
    "duration": 164,
    "start_time": "2023-10-12T18:20:38.367Z"
   },
   {
    "duration": 39,
    "start_time": "2023-10-12T18:20:38.534Z"
   },
   {
    "duration": 102,
    "start_time": "2023-10-12T18:20:38.576Z"
   },
   {
    "duration": 26,
    "start_time": "2023-10-12T18:20:38.681Z"
   },
   {
    "duration": 18,
    "start_time": "2023-10-12T18:20:38.710Z"
   },
   {
    "duration": 73,
    "start_time": "2023-10-12T18:20:38.730Z"
   },
   {
    "duration": 93,
    "start_time": "2023-10-12T18:20:38.805Z"
   },
   {
    "duration": 26,
    "start_time": "2023-10-12T18:20:38.901Z"
   },
   {
    "duration": 38,
    "start_time": "2023-10-12T18:20:38.929Z"
   },
   {
    "duration": 40,
    "start_time": "2023-10-12T18:20:38.969Z"
   },
   {
    "duration": 27,
    "start_time": "2023-10-12T18:20:39.011Z"
   },
   {
    "duration": 22,
    "start_time": "2023-10-12T18:20:39.040Z"
   },
   {
    "duration": 69,
    "start_time": "2023-10-12T18:20:39.064Z"
   },
   {
    "duration": 41,
    "start_time": "2023-10-12T18:20:39.135Z"
   },
   {
    "duration": 224,
    "start_time": "2023-10-12T18:20:39.180Z"
   },
   {
    "duration": 33,
    "start_time": "2023-10-12T18:20:39.406Z"
   },
   {
    "duration": 30,
    "start_time": "2023-10-12T18:20:39.441Z"
   },
   {
    "duration": 36,
    "start_time": "2023-10-12T18:20:39.473Z"
   },
   {
    "duration": 10,
    "start_time": "2023-10-12T18:20:39.511Z"
   },
   {
    "duration": 21,
    "start_time": "2023-10-12T18:20:39.523Z"
   },
   {
    "duration": 22,
    "start_time": "2023-10-12T18:20:39.546Z"
   },
   {
    "duration": 36,
    "start_time": "2023-10-12T18:20:39.571Z"
   },
   {
    "duration": 8,
    "start_time": "2023-10-12T18:20:39.610Z"
   },
   {
    "duration": 10,
    "start_time": "2023-10-12T18:20:39.619Z"
   },
   {
    "duration": 12,
    "start_time": "2023-10-12T18:20:39.631Z"
   },
   {
    "duration": 40,
    "start_time": "2023-10-12T18:20:39.645Z"
   },
   {
    "duration": 150,
    "start_time": "2023-10-12T18:20:39.687Z"
   },
   {
    "duration": 7,
    "start_time": "2023-10-12T18:20:39.839Z"
   },
   {
    "duration": 18,
    "start_time": "2023-10-12T18:20:39.848Z"
   },
   {
    "duration": 17,
    "start_time": "2023-10-12T18:20:39.901Z"
   },
   {
    "duration": 28,
    "start_time": "2023-10-12T18:20:39.920Z"
   },
   {
    "duration": 54,
    "start_time": "2023-10-12T18:20:39.950Z"
   },
   {
    "duration": 32,
    "start_time": "2023-10-12T18:20:40.006Z"
   },
   {
    "duration": 18,
    "start_time": "2023-10-12T18:20:40.039Z"
   },
   {
    "duration": 3,
    "start_time": "2023-10-12T18:20:40.104Z"
   },
   {
    "duration": 298,
    "start_time": "2023-10-12T18:20:40.109Z"
   },
   {
    "duration": 313,
    "start_time": "2023-10-12T18:20:40.409Z"
   },
   {
    "duration": 0,
    "start_time": "2023-10-12T18:20:40.723Z"
   },
   {
    "duration": 0,
    "start_time": "2023-10-12T18:20:40.725Z"
   },
   {
    "duration": 0,
    "start_time": "2023-10-12T18:20:40.726Z"
   },
   {
    "duration": 0,
    "start_time": "2023-10-12T18:20:40.727Z"
   },
   {
    "duration": 8,
    "start_time": "2023-10-12T18:23:50.058Z"
   },
   {
    "duration": 3,
    "start_time": "2023-10-12T18:23:55.452Z"
   },
   {
    "duration": 158,
    "start_time": "2023-10-12T18:23:55.457Z"
   },
   {
    "duration": 35,
    "start_time": "2023-10-12T18:23:55.616Z"
   },
   {
    "duration": 34,
    "start_time": "2023-10-12T18:23:55.653Z"
   },
   {
    "duration": 48,
    "start_time": "2023-10-12T18:23:55.689Z"
   },
   {
    "duration": 46,
    "start_time": "2023-10-12T18:23:55.738Z"
   },
   {
    "duration": 28,
    "start_time": "2023-10-12T18:23:55.785Z"
   },
   {
    "duration": 30,
    "start_time": "2023-10-12T18:23:55.814Z"
   },
   {
    "duration": 46,
    "start_time": "2023-10-12T18:23:55.845Z"
   },
   {
    "duration": 19,
    "start_time": "2023-10-12T18:23:55.894Z"
   },
   {
    "duration": 8,
    "start_time": "2023-10-12T18:23:55.915Z"
   },
   {
    "duration": 18,
    "start_time": "2023-10-12T18:23:55.925Z"
   },
   {
    "duration": 53,
    "start_time": "2023-10-12T18:23:55.945Z"
   },
   {
    "duration": 25,
    "start_time": "2023-10-12T18:23:56.000Z"
   },
   {
    "duration": 33,
    "start_time": "2023-10-12T18:23:56.027Z"
   },
   {
    "duration": 16,
    "start_time": "2023-10-12T18:23:56.062Z"
   },
   {
    "duration": 11,
    "start_time": "2023-10-12T18:23:56.102Z"
   },
   {
    "duration": 30,
    "start_time": "2023-10-12T18:23:56.115Z"
   },
   {
    "duration": 51,
    "start_time": "2023-10-12T18:23:56.147Z"
   },
   {
    "duration": 20,
    "start_time": "2023-10-12T18:23:56.200Z"
   },
   {
    "duration": 224,
    "start_time": "2023-10-12T18:23:56.222Z"
   },
   {
    "duration": 32,
    "start_time": "2023-10-12T18:23:56.448Z"
   },
   {
    "duration": 30,
    "start_time": "2023-10-12T18:23:56.502Z"
   },
   {
    "duration": 46,
    "start_time": "2023-10-12T18:23:56.534Z"
   },
   {
    "duration": 27,
    "start_time": "2023-10-12T18:23:56.582Z"
   },
   {
    "duration": 42,
    "start_time": "2023-10-12T18:23:56.611Z"
   },
   {
    "duration": 22,
    "start_time": "2023-10-12T18:23:56.654Z"
   },
   {
    "duration": 27,
    "start_time": "2023-10-12T18:23:56.680Z"
   },
   {
    "duration": 15,
    "start_time": "2023-10-12T18:23:56.710Z"
   },
   {
    "duration": 31,
    "start_time": "2023-10-12T18:23:56.727Z"
   },
   {
    "duration": 45,
    "start_time": "2023-10-12T18:23:56.760Z"
   },
   {
    "duration": 31,
    "start_time": "2023-10-12T18:23:56.807Z"
   },
   {
    "duration": 178,
    "start_time": "2023-10-12T18:23:56.840Z"
   },
   {
    "duration": 8,
    "start_time": "2023-10-12T18:23:57.020Z"
   },
   {
    "duration": 29,
    "start_time": "2023-10-12T18:23:57.030Z"
   },
   {
    "duration": 45,
    "start_time": "2023-10-12T18:23:57.061Z"
   },
   {
    "duration": 29,
    "start_time": "2023-10-12T18:23:57.108Z"
   },
   {
    "duration": 16,
    "start_time": "2023-10-12T18:23:57.139Z"
   },
   {
    "duration": 58,
    "start_time": "2023-10-12T18:23:57.157Z"
   },
   {
    "duration": 21,
    "start_time": "2023-10-12T18:23:57.217Z"
   },
   {
    "duration": 52,
    "start_time": "2023-10-12T18:23:57.240Z"
   },
   {
    "duration": 208,
    "start_time": "2023-10-12T18:23:57.293Z"
   },
   {
    "duration": 318,
    "start_time": "2023-10-12T18:23:57.503Z"
   },
   {
    "duration": 885,
    "start_time": "2023-10-12T18:23:57.823Z"
   },
   {
    "duration": 329,
    "start_time": "2023-10-12T18:23:58.711Z"
   },
   {
    "duration": 484,
    "start_time": "2023-10-12T18:23:59.041Z"
   },
   {
    "duration": 376,
    "start_time": "2023-10-12T18:23:59.527Z"
   },
   {
    "duration": 13,
    "start_time": "2023-10-12T18:24:22.281Z"
   },
   {
    "duration": 3,
    "start_time": "2023-10-12T18:24:26.070Z"
   },
   {
    "duration": 175,
    "start_time": "2023-10-12T18:24:26.075Z"
   },
   {
    "duration": 34,
    "start_time": "2023-10-12T18:24:26.252Z"
   },
   {
    "duration": 47,
    "start_time": "2023-10-12T18:24:26.288Z"
   },
   {
    "duration": 54,
    "start_time": "2023-10-12T18:24:26.336Z"
   },
   {
    "duration": 56,
    "start_time": "2023-10-12T18:24:26.392Z"
   },
   {
    "duration": 18,
    "start_time": "2023-10-12T18:24:26.450Z"
   },
   {
    "duration": 33,
    "start_time": "2023-10-12T18:24:26.470Z"
   },
   {
    "duration": 59,
    "start_time": "2023-10-12T18:24:26.505Z"
   },
   {
    "duration": 31,
    "start_time": "2023-10-12T18:24:26.567Z"
   },
   {
    "duration": 44,
    "start_time": "2023-10-12T18:24:26.600Z"
   },
   {
    "duration": 25,
    "start_time": "2023-10-12T18:24:26.646Z"
   },
   {
    "duration": 47,
    "start_time": "2023-10-12T18:24:26.672Z"
   },
   {
    "duration": 42,
    "start_time": "2023-10-12T18:24:26.720Z"
   },
   {
    "duration": 36,
    "start_time": "2023-10-12T18:24:26.764Z"
   },
   {
    "duration": 34,
    "start_time": "2023-10-12T18:24:26.801Z"
   },
   {
    "duration": 26,
    "start_time": "2023-10-12T18:24:26.836Z"
   },
   {
    "duration": 116,
    "start_time": "2023-10-12T18:24:26.864Z"
   },
   {
    "duration": 64,
    "start_time": "2023-10-12T18:24:26.982Z"
   },
   {
    "duration": 35,
    "start_time": "2023-10-12T18:24:27.048Z"
   },
   {
    "duration": 193,
    "start_time": "2023-10-12T18:24:27.085Z"
   },
   {
    "duration": 48,
    "start_time": "2023-10-12T18:24:27.279Z"
   },
   {
    "duration": 76,
    "start_time": "2023-10-12T18:24:27.329Z"
   },
   {
    "duration": 10,
    "start_time": "2023-10-12T18:24:27.406Z"
   },
   {
    "duration": 88,
    "start_time": "2023-10-12T18:24:27.418Z"
   },
   {
    "duration": 47,
    "start_time": "2023-10-12T18:24:27.508Z"
   },
   {
    "duration": 52,
    "start_time": "2023-10-12T18:24:27.557Z"
   },
   {
    "duration": 36,
    "start_time": "2023-10-12T18:24:27.612Z"
   },
   {
    "duration": 53,
    "start_time": "2023-10-12T18:24:27.651Z"
   },
   {
    "duration": 34,
    "start_time": "2023-10-12T18:24:27.706Z"
   },
   {
    "duration": 72,
    "start_time": "2023-10-12T18:24:27.742Z"
   },
   {
    "duration": 33,
    "start_time": "2023-10-12T18:24:27.815Z"
   },
   {
    "duration": 414,
    "start_time": "2023-10-12T18:24:27.902Z"
   },
   {
    "duration": 7,
    "start_time": "2023-10-12T18:24:28.318Z"
   },
   {
    "duration": 93,
    "start_time": "2023-10-12T18:24:28.327Z"
   },
   {
    "duration": 86,
    "start_time": "2023-10-12T18:24:28.422Z"
   },
   {
    "duration": 100,
    "start_time": "2023-10-12T18:24:28.510Z"
   },
   {
    "duration": 5,
    "start_time": "2023-10-12T18:24:28.611Z"
   },
   {
    "duration": 107,
    "start_time": "2023-10-12T18:24:28.617Z"
   },
   {
    "duration": 77,
    "start_time": "2023-10-12T18:24:28.726Z"
   },
   {
    "duration": 9,
    "start_time": "2023-10-12T18:24:28.805Z"
   },
   {
    "duration": 290,
    "start_time": "2023-10-12T18:24:28.816Z"
   },
   {
    "duration": 186,
    "start_time": "2023-10-12T18:24:29.108Z"
   },
   {
    "duration": 446,
    "start_time": "2023-10-12T18:24:29.296Z"
   },
   {
    "duration": 194,
    "start_time": "2023-10-12T18:24:29.743Z"
   },
   {
    "duration": 328,
    "start_time": "2023-10-12T18:24:29.938Z"
   },
   {
    "duration": 290,
    "start_time": "2023-10-12T18:24:30.267Z"
   },
   {
    "duration": 4,
    "start_time": "2023-10-12T18:25:17.971Z"
   },
   {
    "duration": 218,
    "start_time": "2023-10-12T18:25:17.977Z"
   },
   {
    "duration": 35,
    "start_time": "2023-10-12T18:25:18.197Z"
   },
   {
    "duration": 61,
    "start_time": "2023-10-12T18:25:18.234Z"
   },
   {
    "duration": 13,
    "start_time": "2023-10-12T18:25:18.299Z"
   },
   {
    "duration": 20,
    "start_time": "2023-10-12T18:25:18.314Z"
   },
   {
    "duration": 19,
    "start_time": "2023-10-12T18:25:18.336Z"
   },
   {
    "duration": 21,
    "start_time": "2023-10-12T18:25:18.357Z"
   },
   {
    "duration": 45,
    "start_time": "2023-10-12T18:25:18.379Z"
   },
   {
    "duration": 21,
    "start_time": "2023-10-12T18:25:18.426Z"
   },
   {
    "duration": 15,
    "start_time": "2023-10-12T18:25:18.449Z"
   },
   {
    "duration": 35,
    "start_time": "2023-10-12T18:25:18.466Z"
   },
   {
    "duration": 46,
    "start_time": "2023-10-12T18:25:18.503Z"
   },
   {
    "duration": 30,
    "start_time": "2023-10-12T18:25:18.553Z"
   },
   {
    "duration": 37,
    "start_time": "2023-10-12T18:25:18.585Z"
   },
   {
    "duration": 21,
    "start_time": "2023-10-12T18:25:18.623Z"
   },
   {
    "duration": 42,
    "start_time": "2023-10-12T18:25:18.646Z"
   },
   {
    "duration": 42,
    "start_time": "2023-10-12T18:25:18.690Z"
   },
   {
    "duration": 48,
    "start_time": "2023-10-12T18:25:18.734Z"
   },
   {
    "duration": 21,
    "start_time": "2023-10-12T18:25:18.785Z"
   },
   {
    "duration": 226,
    "start_time": "2023-10-12T18:25:18.808Z"
   },
   {
    "duration": 34,
    "start_time": "2023-10-12T18:25:19.037Z"
   },
   {
    "duration": 57,
    "start_time": "2023-10-12T18:25:19.073Z"
   },
   {
    "duration": 15,
    "start_time": "2023-10-12T18:25:19.132Z"
   },
   {
    "duration": 33,
    "start_time": "2023-10-12T18:25:19.150Z"
   },
   {
    "duration": 199,
    "start_time": "2023-10-12T18:25:19.185Z"
   },
   {
    "duration": 127,
    "start_time": "2023-10-12T18:25:19.386Z"
   },
   {
    "duration": 19,
    "start_time": "2023-10-12T18:25:19.515Z"
   },
   {
    "duration": 22,
    "start_time": "2023-10-12T18:25:19.536Z"
   },
   {
    "duration": 23,
    "start_time": "2023-10-12T18:25:19.561Z"
   },
   {
    "duration": 32,
    "start_time": "2023-10-12T18:25:19.586Z"
   },
   {
    "duration": 64,
    "start_time": "2023-10-12T18:25:19.620Z"
   },
   {
    "duration": 315,
    "start_time": "2023-10-12T18:25:19.687Z"
   },
   {
    "duration": 9,
    "start_time": "2023-10-12T18:25:20.004Z"
   },
   {
    "duration": 101,
    "start_time": "2023-10-12T18:25:20.015Z"
   },
   {
    "duration": 28,
    "start_time": "2023-10-12T18:25:20.118Z"
   },
   {
    "duration": 67,
    "start_time": "2023-10-12T18:25:20.148Z"
   },
   {
    "duration": 16,
    "start_time": "2023-10-12T18:25:20.217Z"
   },
   {
    "duration": 173,
    "start_time": "2023-10-12T18:25:20.235Z"
   },
   {
    "duration": 20,
    "start_time": "2023-10-12T18:25:20.410Z"
   },
   {
    "duration": 68,
    "start_time": "2023-10-12T18:25:20.434Z"
   },
   {
    "duration": 819,
    "start_time": "2023-10-12T18:25:20.505Z"
   },
   {
    "duration": 238,
    "start_time": "2023-10-12T18:25:21.327Z"
   },
   {
    "duration": 466,
    "start_time": "2023-10-12T18:25:21.566Z"
   },
   {
    "duration": 240,
    "start_time": "2023-10-12T18:25:22.037Z"
   },
   {
    "duration": 315,
    "start_time": "2023-10-12T18:25:22.279Z"
   },
   {
    "duration": 247,
    "start_time": "2023-10-12T18:25:22.601Z"
   },
   {
    "duration": 3,
    "start_time": "2023-10-12T18:26:08.591Z"
   },
   {
    "duration": 148,
    "start_time": "2023-10-12T18:26:08.596Z"
   },
   {
    "duration": 37,
    "start_time": "2023-10-12T18:26:08.746Z"
   },
   {
    "duration": 34,
    "start_time": "2023-10-12T18:26:08.785Z"
   },
   {
    "duration": 27,
    "start_time": "2023-10-12T18:26:08.822Z"
   },
   {
    "duration": 35,
    "start_time": "2023-10-12T18:26:08.851Z"
   },
   {
    "duration": 23,
    "start_time": "2023-10-12T18:26:08.888Z"
   },
   {
    "duration": 24,
    "start_time": "2023-10-12T18:26:08.913Z"
   },
   {
    "duration": 47,
    "start_time": "2023-10-12T18:26:08.938Z"
   },
   {
    "duration": 23,
    "start_time": "2023-10-12T18:26:08.987Z"
   },
   {
    "duration": 16,
    "start_time": "2023-10-12T18:26:09.012Z"
   },
   {
    "duration": 12,
    "start_time": "2023-10-12T18:26:09.030Z"
   },
   {
    "duration": 41,
    "start_time": "2023-10-12T18:26:09.044Z"
   },
   {
    "duration": 28,
    "start_time": "2023-10-12T18:26:09.103Z"
   },
   {
    "duration": 34,
    "start_time": "2023-10-12T18:26:09.133Z"
   },
   {
    "duration": 44,
    "start_time": "2023-10-12T18:26:09.169Z"
   },
   {
    "duration": 11,
    "start_time": "2023-10-12T18:26:09.215Z"
   },
   {
    "duration": 4,
    "start_time": "2023-10-12T18:26:09.228Z"
   },
   {
    "duration": 33,
    "start_time": "2023-10-12T18:26:09.234Z"
   },
   {
    "duration": 46,
    "start_time": "2023-10-12T18:26:09.269Z"
   },
   {
    "duration": 231,
    "start_time": "2023-10-12T18:26:09.317Z"
   },
   {
    "duration": 54,
    "start_time": "2023-10-12T18:26:09.550Z"
   },
   {
    "duration": 31,
    "start_time": "2023-10-12T18:26:09.606Z"
   },
   {
    "duration": 16,
    "start_time": "2023-10-12T18:26:09.639Z"
   },
   {
    "duration": 49,
    "start_time": "2023-10-12T18:26:09.657Z"
   },
   {
    "duration": 87,
    "start_time": "2023-10-12T18:26:09.709Z"
   },
   {
    "duration": 19,
    "start_time": "2023-10-12T18:26:09.799Z"
   },
   {
    "duration": 24,
    "start_time": "2023-10-12T18:26:09.820Z"
   },
   {
    "duration": 195,
    "start_time": "2023-10-12T18:26:09.847Z"
   },
   {
    "duration": 50,
    "start_time": "2023-10-12T18:26:10.044Z"
   },
   {
    "duration": 35,
    "start_time": "2023-10-12T18:26:10.096Z"
   },
   {
    "duration": 42,
    "start_time": "2023-10-12T18:26:10.133Z"
   },
   {
    "duration": 153,
    "start_time": "2023-10-12T18:26:10.177Z"
   },
   {
    "duration": 8,
    "start_time": "2023-10-12T18:26:10.333Z"
   },
   {
    "duration": 177,
    "start_time": "2023-10-12T18:26:10.343Z"
   },
   {
    "duration": 54,
    "start_time": "2023-10-12T18:26:10.522Z"
   },
   {
    "duration": 33,
    "start_time": "2023-10-12T18:26:10.578Z"
   },
   {
    "duration": 11,
    "start_time": "2023-10-12T18:26:10.613Z"
   },
   {
    "duration": 68,
    "start_time": "2023-10-12T18:26:10.626Z"
   },
   {
    "duration": 22,
    "start_time": "2023-10-12T18:26:10.696Z"
   },
   {
    "duration": 27,
    "start_time": "2023-10-12T18:26:10.722Z"
   },
   {
    "duration": 453,
    "start_time": "2023-10-12T18:26:10.751Z"
   },
   {
    "duration": 176,
    "start_time": "2023-10-12T18:26:11.206Z"
   },
   {
    "duration": 487,
    "start_time": "2023-10-12T18:26:11.384Z"
   },
   {
    "duration": 231,
    "start_time": "2023-10-12T18:26:11.873Z"
   },
   {
    "duration": 319,
    "start_time": "2023-10-12T18:26:12.107Z"
   },
   {
    "duration": 312,
    "start_time": "2023-10-12T18:26:12.429Z"
   },
   {
    "duration": 4,
    "start_time": "2023-10-12T18:27:12.534Z"
   },
   {
    "duration": 145,
    "start_time": "2023-10-12T18:27:12.540Z"
   },
   {
    "duration": 35,
    "start_time": "2023-10-12T18:27:12.687Z"
   },
   {
    "duration": 16,
    "start_time": "2023-10-12T18:27:12.724Z"
   },
   {
    "duration": 12,
    "start_time": "2023-10-12T18:27:12.742Z"
   },
   {
    "duration": 26,
    "start_time": "2023-10-12T18:27:12.755Z"
   },
   {
    "duration": 36,
    "start_time": "2023-10-12T18:27:12.783Z"
   },
   {
    "duration": 22,
    "start_time": "2023-10-12T18:27:12.821Z"
   },
   {
    "duration": 29,
    "start_time": "2023-10-12T18:27:12.845Z"
   },
   {
    "duration": 84,
    "start_time": "2023-10-12T18:27:12.876Z"
   },
   {
    "duration": 8,
    "start_time": "2023-10-12T18:27:12.962Z"
   },
   {
    "duration": 19,
    "start_time": "2023-10-12T18:27:12.971Z"
   },
   {
    "duration": 38,
    "start_time": "2023-10-12T18:27:12.991Z"
   },
   {
    "duration": 27,
    "start_time": "2023-10-12T18:27:13.033Z"
   },
   {
    "duration": 50,
    "start_time": "2023-10-12T18:27:13.062Z"
   },
   {
    "duration": 16,
    "start_time": "2023-10-12T18:27:13.114Z"
   },
   {
    "duration": 67,
    "start_time": "2023-10-12T18:27:13.132Z"
   },
   {
    "duration": 9,
    "start_time": "2023-10-12T18:27:13.201Z"
   },
   {
    "duration": 44,
    "start_time": "2023-10-12T18:27:13.212Z"
   },
   {
    "duration": 29,
    "start_time": "2023-10-12T18:27:13.258Z"
   },
   {
    "duration": 231,
    "start_time": "2023-10-12T18:27:13.289Z"
   },
   {
    "duration": 32,
    "start_time": "2023-10-12T18:27:13.521Z"
   },
   {
    "duration": 92,
    "start_time": "2023-10-12T18:27:13.554Z"
   },
   {
    "duration": 107,
    "start_time": "2023-10-12T18:27:13.649Z"
   },
   {
    "duration": 55,
    "start_time": "2023-10-12T18:27:13.758Z"
   },
   {
    "duration": 137,
    "start_time": "2023-10-12T18:27:13.815Z"
   },
   {
    "duration": 20,
    "start_time": "2023-10-12T18:27:13.954Z"
   },
   {
    "duration": 27,
    "start_time": "2023-10-12T18:27:13.976Z"
   },
   {
    "duration": 47,
    "start_time": "2023-10-12T18:27:14.005Z"
   },
   {
    "duration": 47,
    "start_time": "2023-10-12T18:27:14.055Z"
   },
   {
    "duration": 60,
    "start_time": "2023-10-12T18:27:14.103Z"
   },
   {
    "duration": 44,
    "start_time": "2023-10-12T18:27:14.165Z"
   },
   {
    "duration": 160,
    "start_time": "2023-10-12T18:27:14.211Z"
   },
   {
    "duration": 9,
    "start_time": "2023-10-12T18:27:14.372Z"
   },
   {
    "duration": 35,
    "start_time": "2023-10-12T18:27:14.382Z"
   },
   {
    "duration": 22,
    "start_time": "2023-10-12T18:27:14.419Z"
   },
   {
    "duration": 51,
    "start_time": "2023-10-12T18:27:14.443Z"
   },
   {
    "duration": 16,
    "start_time": "2023-10-12T18:27:14.496Z"
   },
   {
    "duration": 60,
    "start_time": "2023-10-12T18:27:14.514Z"
   },
   {
    "duration": 28,
    "start_time": "2023-10-12T18:27:14.577Z"
   },
   {
    "duration": 5,
    "start_time": "2023-10-12T18:27:14.611Z"
   },
   {
    "duration": 371,
    "start_time": "2023-10-12T18:27:14.619Z"
   },
   {
    "duration": 297,
    "start_time": "2023-10-12T18:27:14.992Z"
   },
   {
    "duration": 471,
    "start_time": "2023-10-12T18:27:15.291Z"
   },
   {
    "duration": 228,
    "start_time": "2023-10-12T18:27:15.764Z"
   },
   {
    "duration": 325,
    "start_time": "2023-10-12T18:27:15.994Z"
   },
   {
    "duration": 306,
    "start_time": "2023-10-12T18:27:16.322Z"
   },
   {
    "duration": 3,
    "start_time": "2023-10-12T18:28:13.372Z"
   },
   {
    "duration": 167,
    "start_time": "2023-10-12T18:28:13.377Z"
   },
   {
    "duration": 36,
    "start_time": "2023-10-12T18:28:13.545Z"
   },
   {
    "duration": 17,
    "start_time": "2023-10-12T18:28:13.583Z"
   },
   {
    "duration": 15,
    "start_time": "2023-10-12T18:28:13.603Z"
   },
   {
    "duration": 28,
    "start_time": "2023-10-12T18:28:13.620Z"
   },
   {
    "duration": 17,
    "start_time": "2023-10-12T18:28:13.649Z"
   },
   {
    "duration": 37,
    "start_time": "2023-10-12T18:28:13.668Z"
   },
   {
    "duration": 32,
    "start_time": "2023-10-12T18:28:13.707Z"
   },
   {
    "duration": 19,
    "start_time": "2023-10-12T18:28:13.741Z"
   },
   {
    "duration": 8,
    "start_time": "2023-10-12T18:28:13.762Z"
   },
   {
    "duration": 12,
    "start_time": "2023-10-12T18:28:13.801Z"
   },
   {
    "duration": 94,
    "start_time": "2023-10-12T18:28:13.814Z"
   },
   {
    "duration": 30,
    "start_time": "2023-10-12T18:28:13.913Z"
   },
   {
    "duration": 31,
    "start_time": "2023-10-12T18:28:13.945Z"
   },
   {
    "duration": 34,
    "start_time": "2023-10-12T18:28:13.978Z"
   },
   {
    "duration": 41,
    "start_time": "2023-10-12T18:28:14.015Z"
   },
   {
    "duration": 14,
    "start_time": "2023-10-12T18:28:14.058Z"
   },
   {
    "duration": 31,
    "start_time": "2023-10-12T18:28:14.073Z"
   },
   {
    "duration": 14,
    "start_time": "2023-10-12T18:28:14.106Z"
   },
   {
    "duration": 236,
    "start_time": "2023-10-12T18:28:14.122Z"
   },
   {
    "duration": 54,
    "start_time": "2023-10-12T18:28:14.360Z"
   },
   {
    "duration": 28,
    "start_time": "2023-10-12T18:28:14.416Z"
   },
   {
    "duration": 9,
    "start_time": "2023-10-12T18:28:14.445Z"
   },
   {
    "duration": 32,
    "start_time": "2023-10-12T18:28:14.456Z"
   },
   {
    "duration": 34,
    "start_time": "2023-10-12T18:28:14.490Z"
   },
   {
    "duration": 23,
    "start_time": "2023-10-12T18:28:14.526Z"
   },
   {
    "duration": 21,
    "start_time": "2023-10-12T18:28:14.552Z"
   },
   {
    "duration": 8,
    "start_time": "2023-10-12T18:28:14.575Z"
   },
   {
    "duration": 40,
    "start_time": "2023-10-12T18:28:14.585Z"
   },
   {
    "duration": 44,
    "start_time": "2023-10-12T18:28:14.627Z"
   },
   {
    "duration": 50,
    "start_time": "2023-10-12T18:28:14.673Z"
   },
   {
    "duration": 189,
    "start_time": "2023-10-12T18:28:14.725Z"
   },
   {
    "duration": 9,
    "start_time": "2023-10-12T18:28:14.915Z"
   },
   {
    "duration": 30,
    "start_time": "2023-10-12T18:28:14.925Z"
   },
   {
    "duration": 33,
    "start_time": "2023-10-12T18:28:14.956Z"
   },
   {
    "duration": 41,
    "start_time": "2023-10-12T18:28:14.990Z"
   },
   {
    "duration": 67,
    "start_time": "2023-10-12T18:28:15.033Z"
   },
   {
    "duration": 109,
    "start_time": "2023-10-12T18:28:15.102Z"
   },
   {
    "duration": 19,
    "start_time": "2023-10-12T18:28:15.213Z"
   },
   {
    "duration": 23,
    "start_time": "2023-10-12T18:28:15.236Z"
   },
   {
    "duration": 344,
    "start_time": "2023-10-12T18:28:15.261Z"
   },
   {
    "duration": 183,
    "start_time": "2023-10-12T18:28:15.607Z"
   },
   {
    "duration": 568,
    "start_time": "2023-10-12T18:28:15.792Z"
   },
   {
    "duration": 241,
    "start_time": "2023-10-12T18:28:16.362Z"
   },
   {
    "duration": 320,
    "start_time": "2023-10-12T18:28:16.604Z"
   },
   {
    "duration": 288,
    "start_time": "2023-10-12T18:28:16.926Z"
   },
   {
    "duration": 3,
    "start_time": "2023-10-12T18:32:03.205Z"
   },
   {
    "duration": 167,
    "start_time": "2023-10-12T18:32:03.210Z"
   },
   {
    "duration": 36,
    "start_time": "2023-10-12T18:32:03.378Z"
   },
   {
    "duration": 19,
    "start_time": "2023-10-12T18:32:03.417Z"
   },
   {
    "duration": 55,
    "start_time": "2023-10-12T18:32:03.437Z"
   },
   {
    "duration": 34,
    "start_time": "2023-10-12T18:32:03.494Z"
   },
   {
    "duration": 19,
    "start_time": "2023-10-12T18:32:03.530Z"
   },
   {
    "duration": 24,
    "start_time": "2023-10-12T18:32:03.550Z"
   },
   {
    "duration": 69,
    "start_time": "2023-10-12T18:32:03.577Z"
   },
   {
    "duration": 22,
    "start_time": "2023-10-12T18:32:03.648Z"
   },
   {
    "duration": 13,
    "start_time": "2023-10-12T18:32:03.672Z"
   },
   {
    "duration": 20,
    "start_time": "2023-10-12T18:32:03.687Z"
   },
   {
    "duration": 60,
    "start_time": "2023-10-12T18:32:03.709Z"
   },
   {
    "duration": 34,
    "start_time": "2023-10-12T18:32:03.771Z"
   },
   {
    "duration": 139,
    "start_time": "2023-10-12T18:32:03.807Z"
   },
   {
    "duration": 19,
    "start_time": "2023-10-12T18:32:03.948Z"
   },
   {
    "duration": 14,
    "start_time": "2023-10-12T18:32:03.969Z"
   },
   {
    "duration": 45,
    "start_time": "2023-10-12T18:32:03.984Z"
   },
   {
    "duration": 36,
    "start_time": "2023-10-12T18:32:04.031Z"
   },
   {
    "duration": 60,
    "start_time": "2023-10-12T18:32:04.069Z"
   },
   {
    "duration": 228,
    "start_time": "2023-10-12T18:32:04.131Z"
   },
   {
    "duration": 95,
    "start_time": "2023-10-12T18:32:04.361Z"
   },
   {
    "duration": 1545,
    "start_time": "2023-10-12T18:32:04.458Z"
   },
   {
    "duration": 113,
    "start_time": "2023-10-12T18:32:06.007Z"
   },
   {
    "duration": 28,
    "start_time": "2023-10-12T18:32:06.123Z"
   },
   {
    "duration": 76,
    "start_time": "2023-10-12T18:32:06.154Z"
   },
   {
    "duration": 106,
    "start_time": "2023-10-12T18:32:06.232Z"
   },
   {
    "duration": 63,
    "start_time": "2023-10-12T18:32:06.340Z"
   },
   {
    "duration": 20,
    "start_time": "2023-10-12T18:32:06.405Z"
   },
   {
    "duration": 75,
    "start_time": "2023-10-12T18:32:06.427Z"
   },
   {
    "duration": 49,
    "start_time": "2023-10-12T18:32:06.504Z"
   },
   {
    "duration": 47,
    "start_time": "2023-10-12T18:32:06.556Z"
   },
   {
    "duration": 168,
    "start_time": "2023-10-12T18:32:06.605Z"
   },
   {
    "duration": 12,
    "start_time": "2023-10-12T18:32:06.775Z"
   },
   {
    "duration": 31,
    "start_time": "2023-10-12T18:32:06.803Z"
   },
   {
    "duration": 20,
    "start_time": "2023-10-12T18:32:06.837Z"
   },
   {
    "duration": 44,
    "start_time": "2023-10-12T18:32:06.859Z"
   },
   {
    "duration": 5,
    "start_time": "2023-10-12T18:32:06.905Z"
   },
   {
    "duration": 61,
    "start_time": "2023-10-12T18:32:06.911Z"
   },
   {
    "duration": 23,
    "start_time": "2023-10-12T18:32:06.974Z"
   },
   {
    "duration": 123,
    "start_time": "2023-10-12T18:32:06.999Z"
   },
   {
    "duration": 194,
    "start_time": "2023-10-12T18:32:07.124Z"
   },
   {
    "duration": 183,
    "start_time": "2023-10-12T18:32:07.320Z"
   },
   {
    "duration": 418,
    "start_time": "2023-10-12T18:32:07.505Z"
   },
   {
    "duration": 303,
    "start_time": "2023-10-12T18:32:07.925Z"
   },
   {
    "duration": 327,
    "start_time": "2023-10-12T18:32:08.231Z"
   },
   {
    "duration": 342,
    "start_time": "2023-10-12T18:32:08.560Z"
   },
   {
    "duration": 3,
    "start_time": "2023-10-12T18:35:28.152Z"
   },
   {
    "duration": 178,
    "start_time": "2023-10-12T18:35:28.158Z"
   },
   {
    "duration": 34,
    "start_time": "2023-10-12T18:35:28.338Z"
   },
   {
    "duration": 18,
    "start_time": "2023-10-12T18:35:28.375Z"
   },
   {
    "duration": 15,
    "start_time": "2023-10-12T18:35:28.395Z"
   },
   {
    "duration": 40,
    "start_time": "2023-10-12T18:35:28.412Z"
   },
   {
    "duration": 23,
    "start_time": "2023-10-12T18:35:28.454Z"
   },
   {
    "duration": 26,
    "start_time": "2023-10-12T18:35:28.479Z"
   },
   {
    "duration": 29,
    "start_time": "2023-10-12T18:35:28.507Z"
   },
   {
    "duration": 22,
    "start_time": "2023-10-12T18:35:28.539Z"
   },
   {
    "duration": 9,
    "start_time": "2023-10-12T18:35:28.563Z"
   },
   {
    "duration": 37,
    "start_time": "2023-10-12T18:35:28.574Z"
   },
   {
    "duration": 63,
    "start_time": "2023-10-12T18:35:28.613Z"
   },
   {
    "duration": 32,
    "start_time": "2023-10-12T18:35:28.679Z"
   },
   {
    "duration": 39,
    "start_time": "2023-10-12T18:35:28.714Z"
   },
   {
    "duration": 19,
    "start_time": "2023-10-12T18:35:28.755Z"
   },
   {
    "duration": 28,
    "start_time": "2023-10-12T18:35:28.775Z"
   },
   {
    "duration": 5,
    "start_time": "2023-10-12T18:35:28.805Z"
   },
   {
    "duration": 48,
    "start_time": "2023-10-12T18:35:28.811Z"
   },
   {
    "duration": 33,
    "start_time": "2023-10-12T18:35:28.861Z"
   },
   {
    "duration": 194,
    "start_time": "2023-10-12T18:35:28.896Z"
   },
   {
    "duration": 33,
    "start_time": "2023-10-12T18:35:29.100Z"
   },
   {
    "duration": 103,
    "start_time": "2023-10-12T18:35:29.135Z"
   },
   {
    "duration": 11,
    "start_time": "2023-10-12T18:35:29.240Z"
   },
   {
    "duration": 47,
    "start_time": "2023-10-12T18:35:29.253Z"
   },
   {
    "duration": 25,
    "start_time": "2023-10-12T18:35:29.302Z"
   },
   {
    "duration": 28,
    "start_time": "2023-10-12T18:35:29.329Z"
   },
   {
    "duration": 40,
    "start_time": "2023-10-12T18:35:29.360Z"
   },
   {
    "duration": 13,
    "start_time": "2023-10-12T18:35:29.403Z"
   },
   {
    "duration": 15,
    "start_time": "2023-10-12T18:35:29.418Z"
   },
   {
    "duration": 29,
    "start_time": "2023-10-12T18:35:29.435Z"
   },
   {
    "duration": 54,
    "start_time": "2023-10-12T18:35:29.466Z"
   },
   {
    "duration": 164,
    "start_time": "2023-10-12T18:35:29.523Z"
   },
   {
    "duration": 13,
    "start_time": "2023-10-12T18:35:29.688Z"
   },
   {
    "duration": 51,
    "start_time": "2023-10-12T18:35:29.703Z"
   },
   {
    "duration": 42,
    "start_time": "2023-10-12T18:35:29.756Z"
   },
   {
    "duration": 51,
    "start_time": "2023-10-12T18:35:29.800Z"
   },
   {
    "duration": 49,
    "start_time": "2023-10-12T18:35:29.853Z"
   },
   {
    "duration": 68,
    "start_time": "2023-10-12T18:35:29.904Z"
   },
   {
    "duration": 21,
    "start_time": "2023-10-12T18:35:29.974Z"
   },
   {
    "duration": 141,
    "start_time": "2023-10-12T18:35:29.997Z"
   },
   {
    "duration": 262,
    "start_time": "2023-10-12T18:35:30.140Z"
   },
   {
    "duration": 170,
    "start_time": "2023-10-12T18:35:30.404Z"
   },
   {
    "duration": 834,
    "start_time": "2023-10-12T18:35:30.576Z"
   },
   {
    "duration": 488,
    "start_time": "2023-10-12T18:35:31.412Z"
   },
   {
    "duration": 615,
    "start_time": "2023-10-12T18:35:31.903Z"
   },
   {
    "duration": 525,
    "start_time": "2023-10-12T18:35:32.520Z"
   },
   {
    "duration": 162,
    "start_time": "2023-10-12T18:39:30.521Z"
   },
   {
    "duration": 4,
    "start_time": "2023-10-12T18:40:49.607Z"
   },
   {
    "duration": 158,
    "start_time": "2023-10-12T18:40:49.614Z"
   },
   {
    "duration": 35,
    "start_time": "2023-10-12T18:40:49.774Z"
   },
   {
    "duration": 30,
    "start_time": "2023-10-12T18:40:49.812Z"
   },
   {
    "duration": 23,
    "start_time": "2023-10-12T18:40:49.843Z"
   },
   {
    "duration": 39,
    "start_time": "2023-10-12T18:40:49.868Z"
   },
   {
    "duration": 18,
    "start_time": "2023-10-12T18:40:49.909Z"
   },
   {
    "duration": 48,
    "start_time": "2023-10-12T18:40:49.929Z"
   },
   {
    "duration": 69,
    "start_time": "2023-10-12T18:40:49.978Z"
   },
   {
    "duration": 25,
    "start_time": "2023-10-12T18:40:50.050Z"
   },
   {
    "duration": 7,
    "start_time": "2023-10-12T18:40:50.077Z"
   },
   {
    "duration": 29,
    "start_time": "2023-10-12T18:40:50.086Z"
   },
   {
    "duration": 53,
    "start_time": "2023-10-12T18:40:50.116Z"
   },
   {
    "duration": 25,
    "start_time": "2023-10-12T18:40:50.170Z"
   },
   {
    "duration": 29,
    "start_time": "2023-10-12T18:40:50.197Z"
   },
   {
    "duration": 16,
    "start_time": "2023-10-12T18:40:50.228Z"
   },
   {
    "duration": 19,
    "start_time": "2023-10-12T18:40:50.246Z"
   },
   {
    "duration": 9,
    "start_time": "2023-10-12T18:40:50.267Z"
   },
   {
    "duration": 44,
    "start_time": "2023-10-12T18:40:50.278Z"
   },
   {
    "duration": 17,
    "start_time": "2023-10-12T18:40:50.324Z"
   },
   {
    "duration": 205,
    "start_time": "2023-10-12T18:40:50.342Z"
   },
   {
    "duration": 53,
    "start_time": "2023-10-12T18:40:50.549Z"
   },
   {
    "duration": 27,
    "start_time": "2023-10-12T18:40:50.604Z"
   },
   {
    "duration": 9,
    "start_time": "2023-10-12T18:40:50.633Z"
   },
   {
    "duration": 22,
    "start_time": "2023-10-12T18:40:50.643Z"
   },
   {
    "duration": 40,
    "start_time": "2023-10-12T18:40:50.667Z"
   },
   {
    "duration": 33,
    "start_time": "2023-10-12T18:40:50.709Z"
   },
   {
    "duration": 30,
    "start_time": "2023-10-12T18:40:50.745Z"
   },
   {
    "duration": 28,
    "start_time": "2023-10-12T18:40:50.777Z"
   },
   {
    "duration": 24,
    "start_time": "2023-10-12T18:40:50.807Z"
   },
   {
    "duration": 30,
    "start_time": "2023-10-12T18:40:50.834Z"
   },
   {
    "duration": 43,
    "start_time": "2023-10-12T18:40:50.865Z"
   },
   {
    "duration": 168,
    "start_time": "2023-10-12T18:40:50.910Z"
   },
   {
    "duration": 8,
    "start_time": "2023-10-12T18:40:51.079Z"
   },
   {
    "duration": 51,
    "start_time": "2023-10-12T18:40:51.089Z"
   },
   {
    "duration": 32,
    "start_time": "2023-10-12T18:40:51.142Z"
   },
   {
    "duration": 26,
    "start_time": "2023-10-12T18:40:51.176Z"
   },
   {
    "duration": 5,
    "start_time": "2023-10-12T18:40:51.203Z"
   },
   {
    "duration": 54,
    "start_time": "2023-10-12T18:40:51.209Z"
   },
   {
    "duration": 24,
    "start_time": "2023-10-12T18:40:51.265Z"
   },
   {
    "duration": 14,
    "start_time": "2023-10-12T18:40:51.290Z"
   },
   {
    "duration": 215,
    "start_time": "2023-10-12T18:40:51.306Z"
   },
   {
    "duration": 171,
    "start_time": "2023-10-12T18:40:51.523Z"
   },
   {
    "duration": 505,
    "start_time": "2023-10-12T18:40:51.700Z"
   },
   {
    "duration": 235,
    "start_time": "2023-10-12T18:40:52.207Z"
   },
   {
    "duration": 317,
    "start_time": "2023-10-12T18:40:52.444Z"
   },
   {
    "duration": 301,
    "start_time": "2023-10-12T18:40:52.763Z"
   },
   {
    "duration": 4,
    "start_time": "2023-10-12T18:42:01.252Z"
   },
   {
    "duration": 427,
    "start_time": "2023-10-12T18:42:01.258Z"
   },
   {
    "duration": 39,
    "start_time": "2023-10-12T18:42:01.687Z"
   },
   {
    "duration": 98,
    "start_time": "2023-10-12T18:42:01.727Z"
   },
   {
    "duration": 252,
    "start_time": "2023-10-12T18:42:01.828Z"
   },
   {
    "duration": 128,
    "start_time": "2023-10-12T18:42:02.082Z"
   },
   {
    "duration": 147,
    "start_time": "2023-10-12T18:42:02.212Z"
   },
   {
    "duration": 244,
    "start_time": "2023-10-12T18:42:02.362Z"
   },
   {
    "duration": 61,
    "start_time": "2023-10-12T18:42:02.608Z"
   },
   {
    "duration": 27,
    "start_time": "2023-10-12T18:42:02.671Z"
   },
   {
    "duration": 55,
    "start_time": "2023-10-12T18:42:02.700Z"
   },
   {
    "duration": 54,
    "start_time": "2023-10-12T18:42:02.757Z"
   },
   {
    "duration": 81,
    "start_time": "2023-10-12T18:42:02.813Z"
   },
   {
    "duration": 47,
    "start_time": "2023-10-12T18:42:02.898Z"
   },
   {
    "duration": 31,
    "start_time": "2023-10-12T18:42:02.946Z"
   },
   {
    "duration": 17,
    "start_time": "2023-10-12T18:42:02.979Z"
   },
   {
    "duration": 32,
    "start_time": "2023-10-12T18:42:02.998Z"
   },
   {
    "duration": 17,
    "start_time": "2023-10-12T18:42:03.032Z"
   },
   {
    "duration": 64,
    "start_time": "2023-10-12T18:42:03.051Z"
   },
   {
    "duration": 33,
    "start_time": "2023-10-12T18:42:03.117Z"
   },
   {
    "duration": 230,
    "start_time": "2023-10-12T18:42:03.152Z"
   },
   {
    "duration": 47,
    "start_time": "2023-10-12T18:42:03.384Z"
   },
   {
    "duration": 28,
    "start_time": "2023-10-12T18:42:03.433Z"
   },
   {
    "duration": 25,
    "start_time": "2023-10-12T18:42:03.462Z"
   },
   {
    "duration": 225,
    "start_time": "2023-10-12T18:42:03.489Z"
   },
   {
    "duration": 57,
    "start_time": "2023-10-12T18:42:03.716Z"
   },
   {
    "duration": 37,
    "start_time": "2023-10-12T18:42:03.775Z"
   },
   {
    "duration": 41,
    "start_time": "2023-10-12T18:42:03.814Z"
   },
   {
    "duration": 24,
    "start_time": "2023-10-12T18:42:03.857Z"
   },
   {
    "duration": 44,
    "start_time": "2023-10-12T18:42:03.883Z"
   },
   {
    "duration": 67,
    "start_time": "2023-10-12T18:42:03.929Z"
   },
   {
    "duration": 65,
    "start_time": "2023-10-12T18:42:03.998Z"
   },
   {
    "duration": 167,
    "start_time": "2023-10-12T18:42:04.065Z"
   },
   {
    "duration": 8,
    "start_time": "2023-10-12T18:42:04.234Z"
   },
   {
    "duration": 213,
    "start_time": "2023-10-12T18:42:04.244Z"
   },
   {
    "duration": 37,
    "start_time": "2023-10-12T18:42:04.458Z"
   },
   {
    "duration": 58,
    "start_time": "2023-10-12T18:42:04.496Z"
   },
   {
    "duration": 25,
    "start_time": "2023-10-12T18:42:04.557Z"
   },
   {
    "duration": 76,
    "start_time": "2023-10-12T18:42:04.584Z"
   },
   {
    "duration": 24,
    "start_time": "2023-10-12T18:42:04.662Z"
   },
   {
    "duration": 14,
    "start_time": "2023-10-12T18:42:04.702Z"
   },
   {
    "duration": 226,
    "start_time": "2023-10-12T18:42:04.719Z"
   },
   {
    "duration": 163,
    "start_time": "2023-10-12T18:42:04.947Z"
   },
   {
    "duration": 459,
    "start_time": "2023-10-12T18:42:05.112Z"
   },
   {
    "duration": 231,
    "start_time": "2023-10-12T18:42:05.573Z"
   },
   {
    "duration": 295,
    "start_time": "2023-10-12T18:42:05.806Z"
   },
   {
    "duration": 267,
    "start_time": "2023-10-12T18:42:06.103Z"
   },
   {
    "duration": 4,
    "start_time": "2023-10-12T19:02:24.304Z"
   },
   {
    "duration": 185,
    "start_time": "2023-10-12T19:02:24.311Z"
   },
   {
    "duration": 36,
    "start_time": "2023-10-12T19:02:24.498Z"
   },
   {
    "duration": 29,
    "start_time": "2023-10-12T19:02:24.536Z"
   },
   {
    "duration": 18,
    "start_time": "2023-10-12T19:02:24.567Z"
   },
   {
    "duration": 29,
    "start_time": "2023-10-12T19:02:24.586Z"
   },
   {
    "duration": 35,
    "start_time": "2023-10-12T19:02:24.617Z"
   },
   {
    "duration": 52,
    "start_time": "2023-10-12T19:02:24.654Z"
   },
   {
    "duration": 94,
    "start_time": "2023-10-12T19:02:24.708Z"
   },
   {
    "duration": 25,
    "start_time": "2023-10-12T19:02:24.805Z"
   },
   {
    "duration": 17,
    "start_time": "2023-10-12T19:02:24.832Z"
   },
   {
    "duration": 33,
    "start_time": "2023-10-12T19:02:24.851Z"
   },
   {
    "duration": 57,
    "start_time": "2023-10-12T19:02:24.886Z"
   },
   {
    "duration": 33,
    "start_time": "2023-10-12T19:02:24.946Z"
   },
   {
    "duration": 33,
    "start_time": "2023-10-12T19:02:24.981Z"
   },
   {
    "duration": 42,
    "start_time": "2023-10-12T19:02:25.016Z"
   },
   {
    "duration": 46,
    "start_time": "2023-10-12T19:02:25.060Z"
   },
   {
    "duration": 48,
    "start_time": "2023-10-12T19:02:25.108Z"
   },
   {
    "duration": 156,
    "start_time": "2023-10-12T19:02:25.157Z"
   },
   {
    "duration": 311,
    "start_time": "2023-10-12T19:02:25.314Z"
   },
   {
    "duration": 185,
    "start_time": "2023-10-12T19:02:25.627Z"
   },
   {
    "duration": 32,
    "start_time": "2023-10-12T19:02:25.814Z"
   },
   {
    "duration": 56,
    "start_time": "2023-10-12T19:02:25.848Z"
   },
   {
    "duration": 11,
    "start_time": "2023-10-12T19:02:25.906Z"
   },
   {
    "duration": 7,
    "start_time": "2023-10-12T19:02:25.918Z"
   },
   {
    "duration": 16,
    "start_time": "2023-10-12T19:02:25.927Z"
   },
   {
    "duration": 42,
    "start_time": "2023-10-12T19:02:25.945Z"
   },
   {
    "duration": 16,
    "start_time": "2023-10-12T19:02:26.004Z"
   },
   {
    "duration": 19,
    "start_time": "2023-10-12T19:02:26.022Z"
   },
   {
    "duration": 39,
    "start_time": "2023-10-12T19:02:26.043Z"
   },
   {
    "duration": 34,
    "start_time": "2023-10-12T19:02:26.084Z"
   },
   {
    "duration": 41,
    "start_time": "2023-10-12T19:02:26.119Z"
   },
   {
    "duration": 166,
    "start_time": "2023-10-12T19:02:26.162Z"
   },
   {
    "duration": 8,
    "start_time": "2023-10-12T19:02:26.331Z"
   },
   {
    "duration": 42,
    "start_time": "2023-10-12T19:02:26.340Z"
   },
   {
    "duration": 28,
    "start_time": "2023-10-12T19:02:26.384Z"
   },
   {
    "duration": 74,
    "start_time": "2023-10-12T19:02:26.414Z"
   },
   {
    "duration": 14,
    "start_time": "2023-10-12T19:02:26.490Z"
   },
   {
    "duration": 69,
    "start_time": "2023-10-12T19:02:26.506Z"
   },
   {
    "duration": 29,
    "start_time": "2023-10-12T19:02:26.578Z"
   },
   {
    "duration": 6,
    "start_time": "2023-10-12T19:02:26.609Z"
   },
   {
    "duration": 213,
    "start_time": "2023-10-12T19:02:26.616Z"
   },
   {
    "duration": 311,
    "start_time": "2023-10-12T19:02:26.831Z"
   },
   {
    "duration": 512,
    "start_time": "2023-10-12T19:02:27.144Z"
   },
   {
    "duration": 231,
    "start_time": "2023-10-12T19:02:27.658Z"
   },
   {
    "duration": 916,
    "start_time": "2023-10-12T19:02:27.890Z"
   },
   {
    "duration": 399,
    "start_time": "2023-10-12T19:02:28.809Z"
   },
   {
    "duration": 147,
    "start_time": "2023-10-12T19:04:13.176Z"
   },
   {
    "duration": 4,
    "start_time": "2023-10-12T19:25:23.389Z"
   },
   {
    "duration": 180,
    "start_time": "2023-10-12T19:25:23.395Z"
   },
   {
    "duration": 35,
    "start_time": "2023-10-12T19:25:23.577Z"
   },
   {
    "duration": 29,
    "start_time": "2023-10-12T19:25:23.615Z"
   },
   {
    "duration": 22,
    "start_time": "2023-10-12T19:25:23.646Z"
   },
   {
    "duration": 64,
    "start_time": "2023-10-12T19:25:23.670Z"
   },
   {
    "duration": 43,
    "start_time": "2023-10-12T19:25:23.736Z"
   },
   {
    "duration": 41,
    "start_time": "2023-10-12T19:25:23.781Z"
   },
   {
    "duration": 32,
    "start_time": "2023-10-12T19:25:23.824Z"
   },
   {
    "duration": 50,
    "start_time": "2023-10-12T19:25:23.859Z"
   },
   {
    "duration": 14,
    "start_time": "2023-10-12T19:25:23.911Z"
   },
   {
    "duration": 27,
    "start_time": "2023-10-12T19:25:23.927Z"
   },
   {
    "duration": 53,
    "start_time": "2023-10-12T19:25:23.956Z"
   },
   {
    "duration": 27,
    "start_time": "2023-10-12T19:25:24.010Z"
   },
   {
    "duration": 34,
    "start_time": "2023-10-12T19:25:24.039Z"
   },
   {
    "duration": 29,
    "start_time": "2023-10-12T19:25:24.075Z"
   },
   {
    "duration": 18,
    "start_time": "2023-10-12T19:25:24.106Z"
   },
   {
    "duration": 14,
    "start_time": "2023-10-12T19:25:24.125Z"
   },
   {
    "duration": 66,
    "start_time": "2023-10-12T19:25:24.141Z"
   },
   {
    "duration": 32,
    "start_time": "2023-10-12T19:25:24.209Z"
   },
   {
    "duration": 295,
    "start_time": "2023-10-12T19:25:24.243Z"
   },
   {
    "duration": 43,
    "start_time": "2023-10-12T19:25:24.540Z"
   },
   {
    "duration": 50,
    "start_time": "2023-10-12T19:25:24.586Z"
   },
   {
    "duration": 41,
    "start_time": "2023-10-12T19:25:24.638Z"
   },
   {
    "duration": 33,
    "start_time": "2023-10-12T19:25:24.681Z"
   },
   {
    "duration": 26,
    "start_time": "2023-10-12T19:25:24.716Z"
   },
   {
    "duration": 53,
    "start_time": "2023-10-12T19:25:24.744Z"
   },
   {
    "duration": 49,
    "start_time": "2023-10-12T19:25:24.800Z"
   },
   {
    "duration": 25,
    "start_time": "2023-10-12T19:25:24.850Z"
   },
   {
    "duration": 47,
    "start_time": "2023-10-12T19:25:24.876Z"
   },
   {
    "duration": 53,
    "start_time": "2023-10-12T19:25:24.925Z"
   },
   {
    "duration": 63,
    "start_time": "2023-10-12T19:25:24.980Z"
   },
   {
    "duration": 188,
    "start_time": "2023-10-12T19:25:25.045Z"
   },
   {
    "duration": 8,
    "start_time": "2023-10-12T19:25:25.234Z"
   },
   {
    "duration": 67,
    "start_time": "2023-10-12T19:25:25.244Z"
   },
   {
    "duration": 31,
    "start_time": "2023-10-12T19:25:25.312Z"
   },
   {
    "duration": 57,
    "start_time": "2023-10-12T19:25:25.345Z"
   },
   {
    "duration": 36,
    "start_time": "2023-10-12T19:25:25.403Z"
   },
   {
    "duration": 82,
    "start_time": "2023-10-12T19:25:25.441Z"
   },
   {
    "duration": 27,
    "start_time": "2023-10-12T19:25:25.525Z"
   },
   {
    "duration": 50,
    "start_time": "2023-10-12T19:25:25.553Z"
   },
   {
    "duration": 228,
    "start_time": "2023-10-12T19:25:25.605Z"
   },
   {
    "duration": 172,
    "start_time": "2023-10-12T19:25:25.835Z"
   },
   {
    "duration": 583,
    "start_time": "2023-10-12T19:25:26.008Z"
   },
   {
    "duration": 343,
    "start_time": "2023-10-12T19:25:26.602Z"
   },
   {
    "duration": 656,
    "start_time": "2023-10-12T19:25:26.947Z"
   },
   {
    "duration": 527,
    "start_time": "2023-10-12T19:25:27.605Z"
   },
   {
    "duration": 29,
    "start_time": "2023-10-12T19:30:19.055Z"
   },
   {
    "duration": 37,
    "start_time": "2023-10-12T19:30:42.378Z"
   },
   {
    "duration": 21,
    "start_time": "2023-10-12T19:31:22.937Z"
   },
   {
    "duration": 24,
    "start_time": "2023-10-12T19:31:31.959Z"
   },
   {
    "duration": 5,
    "start_time": "2023-10-12T19:31:37.478Z"
   },
   {
    "duration": 162,
    "start_time": "2023-10-12T19:31:37.485Z"
   },
   {
    "duration": 46,
    "start_time": "2023-10-12T19:31:37.650Z"
   },
   {
    "duration": 30,
    "start_time": "2023-10-12T19:31:37.699Z"
   },
   {
    "duration": 19,
    "start_time": "2023-10-12T19:31:37.731Z"
   },
   {
    "duration": 45,
    "start_time": "2023-10-12T19:31:37.753Z"
   },
   {
    "duration": 26,
    "start_time": "2023-10-12T19:31:37.802Z"
   },
   {
    "duration": 36,
    "start_time": "2023-10-12T19:31:37.831Z"
   },
   {
    "duration": 57,
    "start_time": "2023-10-12T19:31:37.869Z"
   },
   {
    "duration": 25,
    "start_time": "2023-10-12T19:31:37.929Z"
   },
   {
    "duration": 19,
    "start_time": "2023-10-12T19:31:37.957Z"
   },
   {
    "duration": 37,
    "start_time": "2023-10-12T19:31:37.979Z"
   },
   {
    "duration": 71,
    "start_time": "2023-10-12T19:31:38.018Z"
   },
   {
    "duration": 38,
    "start_time": "2023-10-12T19:31:38.091Z"
   },
   {
    "duration": 38,
    "start_time": "2023-10-12T19:31:38.131Z"
   },
   {
    "duration": 44,
    "start_time": "2023-10-12T19:31:38.171Z"
   },
   {
    "duration": 19,
    "start_time": "2023-10-12T19:31:38.217Z"
   },
   {
    "duration": 5,
    "start_time": "2023-10-12T19:31:38.239Z"
   },
   {
    "duration": 74,
    "start_time": "2023-10-12T19:31:38.246Z"
   },
   {
    "duration": 33,
    "start_time": "2023-10-12T19:31:38.322Z"
   },
   {
    "duration": 388,
    "start_time": "2023-10-12T19:31:38.359Z"
   },
   {
    "duration": 59,
    "start_time": "2023-10-12T19:31:38.749Z"
   },
   {
    "duration": 32,
    "start_time": "2023-10-12T19:31:38.810Z"
   },
   {
    "duration": 12,
    "start_time": "2023-10-12T19:31:38.844Z"
   },
   {
    "duration": 8,
    "start_time": "2023-10-12T19:31:38.859Z"
   },
   {
    "duration": 56,
    "start_time": "2023-10-12T19:31:38.869Z"
   },
   {
    "duration": 30,
    "start_time": "2023-10-12T19:31:38.928Z"
   },
   {
    "duration": 44,
    "start_time": "2023-10-12T19:31:38.962Z"
   },
   {
    "duration": 10,
    "start_time": "2023-10-12T19:31:39.008Z"
   },
   {
    "duration": 54,
    "start_time": "2023-10-12T19:31:39.020Z"
   },
   {
    "duration": 46,
    "start_time": "2023-10-12T19:31:39.076Z"
   },
   {
    "duration": 48,
    "start_time": "2023-10-12T19:31:39.124Z"
   },
   {
    "duration": 240,
    "start_time": "2023-10-12T19:31:39.174Z"
   },
   {
    "duration": 10,
    "start_time": "2023-10-12T19:31:39.415Z"
   },
   {
    "duration": 85,
    "start_time": "2023-10-12T19:31:39.427Z"
   },
   {
    "duration": 87,
    "start_time": "2023-10-12T19:31:39.514Z"
   },
   {
    "duration": 27,
    "start_time": "2023-10-12T19:31:39.604Z"
   },
   {
    "duration": 6,
    "start_time": "2023-10-12T19:31:39.634Z"
   },
   {
    "duration": 165,
    "start_time": "2023-10-12T19:31:39.642Z"
   },
   {
    "duration": 32,
    "start_time": "2023-10-12T19:31:39.809Z"
   },
   {
    "duration": 58,
    "start_time": "2023-10-12T19:31:39.844Z"
   },
   {
    "duration": 406,
    "start_time": "2023-10-12T19:31:39.904Z"
   },
   {
    "duration": 333,
    "start_time": "2023-10-12T19:31:40.311Z"
   },
   {
    "duration": 1273,
    "start_time": "2023-10-12T19:31:40.647Z"
   },
   {
    "duration": 494,
    "start_time": "2023-10-12T19:31:41.922Z"
   },
   {
    "duration": 730,
    "start_time": "2023-10-12T19:31:42.418Z"
   },
   {
    "duration": 600,
    "start_time": "2023-10-12T19:31:43.202Z"
   },
   {
    "duration": 19,
    "start_time": "2023-10-12T19:32:50.545Z"
   },
   {
    "duration": 7,
    "start_time": "2023-10-12T19:33:04.307Z"
   },
   {
    "duration": 94,
    "start_time": "2023-10-12T19:33:34.154Z"
   },
   {
    "duration": 13,
    "start_time": "2023-10-12T19:34:32.473Z"
   },
   {
    "duration": 10,
    "start_time": "2023-10-12T19:34:46.627Z"
   },
   {
    "duration": 11,
    "start_time": "2023-10-12T19:34:55.570Z"
   },
   {
    "duration": 32,
    "start_time": "2023-10-12T19:35:36.707Z"
   },
   {
    "duration": 54,
    "start_time": "2023-10-12T19:35:53.739Z"
   },
   {
    "duration": 4,
    "start_time": "2023-10-12T19:36:28.159Z"
   },
   {
    "duration": 182,
    "start_time": "2023-10-12T19:36:28.165Z"
   },
   {
    "duration": 35,
    "start_time": "2023-10-12T19:36:28.349Z"
   },
   {
    "duration": 20,
    "start_time": "2023-10-12T19:36:28.386Z"
   },
   {
    "duration": 12,
    "start_time": "2023-10-12T19:36:28.409Z"
   },
   {
    "duration": 22,
    "start_time": "2023-10-12T19:36:28.423Z"
   },
   {
    "duration": 20,
    "start_time": "2023-10-12T19:36:28.447Z"
   },
   {
    "duration": 45,
    "start_time": "2023-10-12T19:36:28.469Z"
   },
   {
    "duration": 39,
    "start_time": "2023-10-12T19:36:28.516Z"
   },
   {
    "duration": 46,
    "start_time": "2023-10-12T19:36:28.557Z"
   },
   {
    "duration": 11,
    "start_time": "2023-10-12T19:36:28.606Z"
   },
   {
    "duration": 21,
    "start_time": "2023-10-12T19:36:28.619Z"
   },
   {
    "duration": 51,
    "start_time": "2023-10-12T19:36:28.644Z"
   },
   {
    "duration": 42,
    "start_time": "2023-10-12T19:36:28.702Z"
   },
   {
    "duration": 35,
    "start_time": "2023-10-12T19:36:28.747Z"
   },
   {
    "duration": 38,
    "start_time": "2023-10-12T19:36:28.784Z"
   },
   {
    "duration": 12,
    "start_time": "2023-10-12T19:36:28.824Z"
   },
   {
    "duration": 23,
    "start_time": "2023-10-12T19:36:28.838Z"
   },
   {
    "duration": 48,
    "start_time": "2023-10-12T19:36:28.863Z"
   },
   {
    "duration": 29,
    "start_time": "2023-10-12T19:36:28.913Z"
   },
   {
    "duration": 264,
    "start_time": "2023-10-12T19:36:28.944Z"
   },
   {
    "duration": 37,
    "start_time": "2023-10-12T19:36:29.210Z"
   },
   {
    "duration": 59,
    "start_time": "2023-10-12T19:36:29.249Z"
   },
   {
    "duration": 11,
    "start_time": "2023-10-12T19:36:29.310Z"
   },
   {
    "duration": 46,
    "start_time": "2023-10-12T19:36:29.322Z"
   },
   {
    "duration": 45,
    "start_time": "2023-10-12T19:36:29.370Z"
   },
   {
    "duration": 36,
    "start_time": "2023-10-12T19:36:29.417Z"
   },
   {
    "duration": 30,
    "start_time": "2023-10-12T19:36:29.455Z"
   },
   {
    "duration": 50,
    "start_time": "2023-10-12T19:36:29.487Z"
   },
   {
    "duration": 26,
    "start_time": "2023-10-12T19:36:29.539Z"
   },
   {
    "duration": 30,
    "start_time": "2023-10-12T19:36:29.567Z"
   },
   {
    "duration": 48,
    "start_time": "2023-10-12T19:36:29.599Z"
   },
   {
    "duration": 54,
    "start_time": "2023-10-12T19:36:29.649Z"
   },
   {
    "duration": 172,
    "start_time": "2023-10-12T19:36:29.705Z"
   },
   {
    "duration": 8,
    "start_time": "2023-10-12T19:36:29.879Z"
   },
   {
    "duration": 25,
    "start_time": "2023-10-12T19:36:29.901Z"
   },
   {
    "duration": 25,
    "start_time": "2023-10-12T19:36:29.930Z"
   },
   {
    "duration": 50,
    "start_time": "2023-10-12T19:36:29.958Z"
   },
   {
    "duration": 6,
    "start_time": "2023-10-12T19:36:30.011Z"
   },
   {
    "duration": 185,
    "start_time": "2023-10-12T19:36:30.019Z"
   },
   {
    "duration": 107,
    "start_time": "2023-10-12T19:36:30.206Z"
   },
   {
    "duration": 187,
    "start_time": "2023-10-12T19:36:30.316Z"
   },
   {
    "duration": 521,
    "start_time": "2023-10-12T19:36:30.506Z"
   },
   {
    "duration": 389,
    "start_time": "2023-10-12T19:36:31.029Z"
   },
   {
    "duration": 1188,
    "start_time": "2023-10-12T19:36:31.421Z"
   },
   {
    "duration": 491,
    "start_time": "2023-10-12T19:36:32.611Z"
   },
   {
    "duration": 904,
    "start_time": "2023-10-12T19:36:33.104Z"
   },
   {
    "duration": 609,
    "start_time": "2023-10-12T19:36:34.010Z"
   },
   {
    "duration": 162,
    "start_time": "2023-10-12T19:43:06.201Z"
   },
   {
    "duration": 168,
    "start_time": "2023-10-12T19:43:10.679Z"
   },
   {
    "duration": 104,
    "start_time": "2023-10-12T19:51:04.426Z"
   },
   {
    "duration": 89,
    "start_time": "2023-10-12T19:51:17.077Z"
   },
   {
    "duration": 84,
    "start_time": "2023-10-12T19:51:38.314Z"
   },
   {
    "duration": 171,
    "start_time": "2023-10-12T19:51:45.353Z"
   },
   {
    "duration": 184,
    "start_time": "2023-10-12T19:52:36.987Z"
   },
   {
    "duration": 197,
    "start_time": "2023-10-12T19:53:33.888Z"
   },
   {
    "duration": 197,
    "start_time": "2023-10-12T19:58:04.318Z"
   },
   {
    "duration": 10,
    "start_time": "2023-10-12T19:58:34.293Z"
   },
   {
    "duration": 11,
    "start_time": "2023-10-12T20:00:21.535Z"
   },
   {
    "duration": 189,
    "start_time": "2023-10-12T20:00:55.702Z"
   },
   {
    "duration": 82,
    "start_time": "2023-10-12T20:01:10.886Z"
   },
   {
    "duration": 13,
    "start_time": "2023-10-12T20:01:19.619Z"
   },
   {
    "duration": 13,
    "start_time": "2023-10-12T20:07:26.957Z"
   },
   {
    "duration": 188,
    "start_time": "2023-10-12T20:07:48.233Z"
   },
   {
    "duration": 199,
    "start_time": "2023-10-12T20:08:15.059Z"
   },
   {
    "duration": 103,
    "start_time": "2023-10-12T20:09:54.994Z"
   },
   {
    "duration": 323,
    "start_time": "2023-10-12T20:10:01.408Z"
   },
   {
    "duration": 3,
    "start_time": "2023-10-12T20:16:08.517Z"
   },
   {
    "duration": 166,
    "start_time": "2023-10-12T20:16:08.521Z"
   },
   {
    "duration": 51,
    "start_time": "2023-10-12T20:16:08.689Z"
   },
   {
    "duration": 16,
    "start_time": "2023-10-12T20:16:08.742Z"
   },
   {
    "duration": 59,
    "start_time": "2023-10-12T20:16:08.760Z"
   },
   {
    "duration": 43,
    "start_time": "2023-10-12T20:16:08.820Z"
   },
   {
    "duration": 21,
    "start_time": "2023-10-12T20:16:08.865Z"
   },
   {
    "duration": 76,
    "start_time": "2023-10-12T20:16:08.888Z"
   },
   {
    "duration": 53,
    "start_time": "2023-10-12T20:16:08.966Z"
   },
   {
    "duration": 19,
    "start_time": "2023-10-12T20:16:09.021Z"
   },
   {
    "duration": 8,
    "start_time": "2023-10-12T20:16:09.042Z"
   },
   {
    "duration": 37,
    "start_time": "2023-10-12T20:16:09.051Z"
   },
   {
    "duration": 75,
    "start_time": "2023-10-12T20:16:09.090Z"
   },
   {
    "duration": 24,
    "start_time": "2023-10-12T20:16:09.170Z"
   },
   {
    "duration": 48,
    "start_time": "2023-10-12T20:16:09.196Z"
   },
   {
    "duration": 18,
    "start_time": "2023-10-12T20:16:09.246Z"
   },
   {
    "duration": 58,
    "start_time": "2023-10-12T20:16:09.266Z"
   },
   {
    "duration": 113,
    "start_time": "2023-10-12T20:16:09.326Z"
   },
   {
    "duration": 157,
    "start_time": "2023-10-12T20:16:09.441Z"
   },
   {
    "duration": 33,
    "start_time": "2023-10-12T20:16:09.600Z"
   },
   {
    "duration": 280,
    "start_time": "2023-10-12T20:16:09.635Z"
   },
   {
    "duration": 33,
    "start_time": "2023-10-12T20:16:09.917Z"
   },
   {
    "duration": 50,
    "start_time": "2023-10-12T20:16:09.952Z"
   },
   {
    "duration": 17,
    "start_time": "2023-10-12T20:16:10.004Z"
   },
   {
    "duration": 43,
    "start_time": "2023-10-12T20:16:10.022Z"
   },
   {
    "duration": 58,
    "start_time": "2023-10-12T20:16:10.067Z"
   },
   {
    "duration": 59,
    "start_time": "2023-10-12T20:16:10.127Z"
   },
   {
    "duration": 37,
    "start_time": "2023-10-12T20:16:10.188Z"
   },
   {
    "duration": 25,
    "start_time": "2023-10-12T20:16:10.227Z"
   },
   {
    "duration": 49,
    "start_time": "2023-10-12T20:16:10.254Z"
   },
   {
    "duration": 36,
    "start_time": "2023-10-12T20:16:10.305Z"
   },
   {
    "duration": 105,
    "start_time": "2023-10-12T20:16:10.342Z"
   },
   {
    "duration": 470,
    "start_time": "2023-10-12T20:16:10.449Z"
   },
   {
    "duration": 399,
    "start_time": "2023-10-12T20:16:10.922Z"
   },
   {
    "duration": 13,
    "start_time": "2023-10-12T20:16:11.324Z"
   },
   {
    "duration": 80,
    "start_time": "2023-10-12T20:16:11.339Z"
   },
   {
    "duration": 87,
    "start_time": "2023-10-12T20:16:11.421Z"
   },
   {
    "duration": 18,
    "start_time": "2023-10-12T20:16:11.510Z"
   },
   {
    "duration": 6,
    "start_time": "2023-10-12T20:16:11.530Z"
   },
   {
    "duration": 167,
    "start_time": "2023-10-12T20:16:11.538Z"
   },
   {
    "duration": 21,
    "start_time": "2023-10-12T20:16:11.709Z"
   },
   {
    "duration": 9,
    "start_time": "2023-10-12T20:16:11.731Z"
   },
   {
    "duration": 465,
    "start_time": "2023-10-12T20:16:11.742Z"
   },
   {
    "duration": 393,
    "start_time": "2023-10-12T20:16:12.210Z"
   },
   {
    "duration": 941,
    "start_time": "2023-10-12T20:16:12.604Z"
   },
   {
    "duration": 486,
    "start_time": "2023-10-12T20:16:13.547Z"
   },
   {
    "duration": 466,
    "start_time": "2023-10-12T20:16:14.035Z"
   },
   {
    "duration": 363,
    "start_time": "2023-10-12T20:16:14.503Z"
   },
   {
    "duration": 16,
    "start_time": "2023-10-12T21:22:27.579Z"
   },
   {
    "duration": 25,
    "start_time": "2023-10-12T21:24:05.961Z"
   },
   {
    "duration": 308,
    "start_time": "2023-10-12T21:25:40.016Z"
   },
   {
    "duration": 165,
    "start_time": "2023-10-12T21:27:27.426Z"
   },
   {
    "duration": 164,
    "start_time": "2023-10-12T21:27:55.361Z"
   },
   {
    "duration": 164,
    "start_time": "2023-10-12T21:28:19.471Z"
   },
   {
    "duration": 438,
    "start_time": "2023-10-12T21:29:13.283Z"
   },
   {
    "duration": 176,
    "start_time": "2023-10-12T21:29:58.130Z"
   },
   {
    "duration": 415,
    "start_time": "2023-10-12T21:30:05.649Z"
   },
   {
    "duration": 501,
    "start_time": "2023-10-12T21:33:21.142Z"
   },
   {
    "duration": 4,
    "start_time": "2023-10-12T21:35:10.657Z"
   },
   {
    "duration": 152,
    "start_time": "2023-10-12T21:35:10.664Z"
   },
   {
    "duration": 40,
    "start_time": "2023-10-12T21:35:10.819Z"
   },
   {
    "duration": 18,
    "start_time": "2023-10-12T21:35:10.861Z"
   },
   {
    "duration": 29,
    "start_time": "2023-10-12T21:35:10.880Z"
   },
   {
    "duration": 39,
    "start_time": "2023-10-12T21:35:10.911Z"
   },
   {
    "duration": 20,
    "start_time": "2023-10-12T21:35:10.952Z"
   },
   {
    "duration": 29,
    "start_time": "2023-10-12T21:35:10.974Z"
   },
   {
    "duration": 29,
    "start_time": "2023-10-12T21:35:11.005Z"
   },
   {
    "duration": 19,
    "start_time": "2023-10-12T21:35:11.038Z"
   },
   {
    "duration": 8,
    "start_time": "2023-10-12T21:35:11.059Z"
   },
   {
    "duration": 39,
    "start_time": "2023-10-12T21:35:11.069Z"
   },
   {
    "duration": 56,
    "start_time": "2023-10-12T21:35:11.110Z"
   },
   {
    "duration": 30,
    "start_time": "2023-10-12T21:35:11.168Z"
   },
   {
    "duration": 33,
    "start_time": "2023-10-12T21:35:11.200Z"
   },
   {
    "duration": 17,
    "start_time": "2023-10-12T21:35:11.234Z"
   },
   {
    "duration": 30,
    "start_time": "2023-10-12T21:35:11.253Z"
   },
   {
    "duration": 13,
    "start_time": "2023-10-12T21:35:11.285Z"
   },
   {
    "duration": 34,
    "start_time": "2023-10-12T21:35:11.301Z"
   },
   {
    "duration": 28,
    "start_time": "2023-10-12T21:35:11.337Z"
   },
   {
    "duration": 257,
    "start_time": "2023-10-12T21:35:11.367Z"
   },
   {
    "duration": 31,
    "start_time": "2023-10-12T21:35:11.626Z"
   },
   {
    "duration": 77,
    "start_time": "2023-10-12T21:35:11.660Z"
   },
   {
    "duration": 10,
    "start_time": "2023-10-12T21:35:11.739Z"
   },
   {
    "duration": 23,
    "start_time": "2023-10-12T21:35:11.751Z"
   },
   {
    "duration": 31,
    "start_time": "2023-10-12T21:35:11.775Z"
   },
   {
    "duration": 51,
    "start_time": "2023-10-12T21:35:11.808Z"
   },
   {
    "duration": 25,
    "start_time": "2023-10-12T21:35:11.864Z"
   },
   {
    "duration": 32,
    "start_time": "2023-10-12T21:35:11.891Z"
   },
   {
    "duration": 37,
    "start_time": "2023-10-12T21:35:11.926Z"
   },
   {
    "duration": 45,
    "start_time": "2023-10-12T21:35:11.965Z"
   },
   {
    "duration": 51,
    "start_time": "2023-10-12T21:35:12.013Z"
   },
   {
    "duration": 197,
    "start_time": "2023-10-12T21:35:12.067Z"
   },
   {
    "duration": 208,
    "start_time": "2023-10-12T21:35:12.266Z"
   },
   {
    "duration": 25,
    "start_time": "2023-10-12T21:35:12.476Z"
   },
   {
    "duration": 28,
    "start_time": "2023-10-12T21:35:12.503Z"
   },
   {
    "duration": 25,
    "start_time": "2023-10-12T21:35:12.533Z"
   },
   {
    "duration": 54,
    "start_time": "2023-10-12T21:35:12.561Z"
   },
   {
    "duration": 5,
    "start_time": "2023-10-12T21:35:12.617Z"
   },
   {
    "duration": 76,
    "start_time": "2023-10-12T21:35:12.623Z"
   },
   {
    "duration": 24,
    "start_time": "2023-10-12T21:35:12.702Z"
   },
   {
    "duration": 215,
    "start_time": "2023-10-12T21:35:12.728Z"
   },
   {
    "duration": 5,
    "start_time": "2023-10-12T21:35:12.944Z"
   },
   {
    "duration": 180,
    "start_time": "2023-10-12T21:35:12.951Z"
   },
   {
    "duration": 416,
    "start_time": "2023-10-12T21:35:13.133Z"
   },
   {
    "duration": 195,
    "start_time": "2023-10-12T21:35:13.551Z"
   },
   {
    "duration": 394,
    "start_time": "2023-10-12T21:35:13.748Z"
   },
   {
    "duration": 302,
    "start_time": "2023-10-12T21:35:14.144Z"
   },
   {
    "duration": 171,
    "start_time": "2023-10-12T21:41:41.076Z"
   },
   {
    "duration": 482,
    "start_time": "2023-10-12T21:47:56.626Z"
   },
   {
    "duration": 474,
    "start_time": "2023-10-12T21:50:20.009Z"
   },
   {
    "duration": 161,
    "start_time": "2023-10-12T21:50:42.181Z"
   },
   {
    "duration": 155,
    "start_time": "2023-10-12T21:51:06.867Z"
   },
   {
    "duration": 155,
    "start_time": "2023-10-12T21:51:22.259Z"
   },
   {
    "duration": 150,
    "start_time": "2023-10-12T21:51:35.286Z"
   },
   {
    "duration": 4,
    "start_time": "2023-10-12T21:51:44.547Z"
   },
   {
    "duration": 160,
    "start_time": "2023-10-12T21:51:44.554Z"
   },
   {
    "duration": 42,
    "start_time": "2023-10-12T21:51:44.716Z"
   },
   {
    "duration": 23,
    "start_time": "2023-10-12T21:51:44.760Z"
   },
   {
    "duration": 26,
    "start_time": "2023-10-12T21:51:44.785Z"
   },
   {
    "duration": 44,
    "start_time": "2023-10-12T21:51:44.813Z"
   },
   {
    "duration": 17,
    "start_time": "2023-10-12T21:51:44.858Z"
   },
   {
    "duration": 112,
    "start_time": "2023-10-12T21:51:44.876Z"
   },
   {
    "duration": 39,
    "start_time": "2023-10-12T21:51:44.990Z"
   },
   {
    "duration": 55,
    "start_time": "2023-10-12T21:51:45.033Z"
   },
   {
    "duration": 30,
    "start_time": "2023-10-12T21:51:45.090Z"
   },
   {
    "duration": 28,
    "start_time": "2023-10-12T21:51:45.122Z"
   },
   {
    "duration": 63,
    "start_time": "2023-10-12T21:51:45.151Z"
   },
   {
    "duration": 25,
    "start_time": "2023-10-12T21:51:45.216Z"
   },
   {
    "duration": 38,
    "start_time": "2023-10-12T21:51:45.244Z"
   },
   {
    "duration": 32,
    "start_time": "2023-10-12T21:51:45.284Z"
   },
   {
    "duration": 20,
    "start_time": "2023-10-12T21:51:45.318Z"
   },
   {
    "duration": 26,
    "start_time": "2023-10-12T21:51:45.340Z"
   },
   {
    "duration": 39,
    "start_time": "2023-10-12T21:51:45.367Z"
   },
   {
    "duration": 20,
    "start_time": "2023-10-12T21:51:45.408Z"
   },
   {
    "duration": 237,
    "start_time": "2023-10-12T21:51:45.430Z"
   },
   {
    "duration": 50,
    "start_time": "2023-10-12T21:51:45.669Z"
   },
   {
    "duration": 29,
    "start_time": "2023-10-12T21:51:45.721Z"
   },
   {
    "duration": 20,
    "start_time": "2023-10-12T21:51:45.751Z"
   },
   {
    "duration": 8,
    "start_time": "2023-10-12T21:51:45.772Z"
   },
   {
    "duration": 33,
    "start_time": "2023-10-12T21:51:45.782Z"
   },
   {
    "duration": 52,
    "start_time": "2023-10-12T21:51:45.817Z"
   },
   {
    "duration": 16,
    "start_time": "2023-10-12T21:51:45.873Z"
   },
   {
    "duration": 14,
    "start_time": "2023-10-12T21:51:45.890Z"
   },
   {
    "duration": 25,
    "start_time": "2023-10-12T21:51:45.906Z"
   },
   {
    "duration": 28,
    "start_time": "2023-10-12T21:51:45.933Z"
   },
   {
    "duration": 49,
    "start_time": "2023-10-12T21:51:45.962Z"
   },
   {
    "duration": 190,
    "start_time": "2023-10-12T21:51:46.013Z"
   },
   {
    "duration": 199,
    "start_time": "2023-10-12T21:51:46.205Z"
   },
   {
    "duration": 12,
    "start_time": "2023-10-12T21:51:46.405Z"
   },
   {
    "duration": 26,
    "start_time": "2023-10-12T21:51:46.418Z"
   },
   {
    "duration": 21,
    "start_time": "2023-10-12T21:51:46.446Z"
   },
   {
    "duration": 47,
    "start_time": "2023-10-12T21:51:46.469Z"
   },
   {
    "duration": 4,
    "start_time": "2023-10-12T21:51:46.518Z"
   },
   {
    "duration": 58,
    "start_time": "2023-10-12T21:51:46.524Z"
   },
   {
    "duration": 36,
    "start_time": "2023-10-12T21:51:46.583Z"
   },
   {
    "duration": 298,
    "start_time": "2023-10-12T21:51:46.621Z"
   },
   {
    "duration": 5,
    "start_time": "2023-10-12T21:51:46.921Z"
   },
   {
    "duration": 384,
    "start_time": "2023-10-12T21:51:46.929Z"
   },
   {
    "duration": 803,
    "start_time": "2023-10-12T21:51:47.314Z"
   },
   {
    "duration": 382,
    "start_time": "2023-10-12T21:51:48.119Z"
   },
   {
    "duration": 355,
    "start_time": "2023-10-12T21:51:48.503Z"
   },
   {
    "duration": 265,
    "start_time": "2023-10-12T21:51:48.859Z"
   },
   {
    "duration": 162,
    "start_time": "2023-10-12T21:52:21.431Z"
   },
   {
    "duration": 345,
    "start_time": "2023-10-12T22:03:13.916Z"
   },
   {
    "duration": 165,
    "start_time": "2023-10-12T22:05:05.276Z"
   },
   {
    "duration": 701,
    "start_time": "2023-10-12T22:06:45.819Z"
   },
   {
    "duration": 511,
    "start_time": "2023-10-12T22:08:50.237Z"
   },
   {
    "duration": 18,
    "start_time": "2023-10-12T22:09:40.033Z"
   },
   {
    "duration": 19,
    "start_time": "2023-10-12T22:11:59.151Z"
   },
   {
    "duration": 13,
    "start_time": "2023-10-12T22:12:17.808Z"
   },
   {
    "duration": 19,
    "start_time": "2023-10-12T22:15:02.102Z"
   },
   {
    "duration": 12,
    "start_time": "2023-10-12T22:19:18.986Z"
   },
   {
    "duration": 16,
    "start_time": "2023-10-12T22:20:39.970Z"
   },
   {
    "duration": 12,
    "start_time": "2023-10-12T22:21:26.661Z"
   },
   {
    "duration": 2184,
    "start_time": "2023-10-12T22:22:51.769Z"
   },
   {
    "duration": 17,
    "start_time": "2023-10-12T22:23:25.444Z"
   },
   {
    "duration": 24,
    "start_time": "2023-10-12T22:23:31.312Z"
   },
   {
    "duration": 136,
    "start_time": "2023-10-12T22:27:52.339Z"
   },
   {
    "duration": 610,
    "start_time": "2023-10-12T22:30:46.369Z"
   },
   {
    "duration": 141,
    "start_time": "2023-10-12T22:33:39.165Z"
   },
   {
    "duration": 4,
    "start_time": "2023-10-12T22:36:00.589Z"
   },
   {
    "duration": 188,
    "start_time": "2023-10-12T22:36:00.596Z"
   },
   {
    "duration": 37,
    "start_time": "2023-10-12T22:36:00.786Z"
   },
   {
    "duration": 129,
    "start_time": "2023-10-12T22:36:00.825Z"
   },
   {
    "duration": 45,
    "start_time": "2023-10-12T22:36:00.957Z"
   },
   {
    "duration": 97,
    "start_time": "2023-10-12T22:36:01.004Z"
   },
   {
    "duration": 60,
    "start_time": "2023-10-12T22:36:01.102Z"
   },
   {
    "duration": 58,
    "start_time": "2023-10-12T22:36:01.164Z"
   },
   {
    "duration": 54,
    "start_time": "2023-10-12T22:36:01.224Z"
   },
   {
    "duration": 39,
    "start_time": "2023-10-12T22:36:01.280Z"
   },
   {
    "duration": 51,
    "start_time": "2023-10-12T22:36:01.321Z"
   },
   {
    "duration": 71,
    "start_time": "2023-10-12T22:36:01.374Z"
   },
   {
    "duration": 207,
    "start_time": "2023-10-12T22:36:01.447Z"
   },
   {
    "duration": 60,
    "start_time": "2023-10-12T22:36:01.657Z"
   },
   {
    "duration": 60,
    "start_time": "2023-10-12T22:36:01.719Z"
   },
   {
    "duration": 35,
    "start_time": "2023-10-12T22:36:01.781Z"
   },
   {
    "duration": 41,
    "start_time": "2023-10-12T22:36:01.818Z"
   },
   {
    "duration": 46,
    "start_time": "2023-10-12T22:36:01.861Z"
   },
   {
    "duration": 66,
    "start_time": "2023-10-12T22:36:01.910Z"
   },
   {
    "duration": 44,
    "start_time": "2023-10-12T22:36:01.978Z"
   },
   {
    "duration": 518,
    "start_time": "2023-10-12T22:36:02.024Z"
   },
   {
    "duration": 96,
    "start_time": "2023-10-12T22:36:02.544Z"
   },
   {
    "duration": 100,
    "start_time": "2023-10-12T22:36:02.641Z"
   },
   {
    "duration": 67,
    "start_time": "2023-10-12T22:36:02.743Z"
   },
   {
    "duration": 21,
    "start_time": "2023-10-12T22:36:02.813Z"
   },
   {
    "duration": 71,
    "start_time": "2023-10-12T22:36:02.837Z"
   },
   {
    "duration": 118,
    "start_time": "2023-10-12T22:36:02.911Z"
   },
   {
    "duration": 75,
    "start_time": "2023-10-12T22:36:03.031Z"
   },
   {
    "duration": 10,
    "start_time": "2023-10-12T22:36:03.108Z"
   },
   {
    "duration": 88,
    "start_time": "2023-10-12T22:36:03.120Z"
   },
   {
    "duration": 94,
    "start_time": "2023-10-12T22:36:03.210Z"
   },
   {
    "duration": 113,
    "start_time": "2023-10-12T22:36:03.306Z"
   },
   {
    "duration": 392,
    "start_time": "2023-10-12T22:36:03.421Z"
   },
   {
    "duration": 359,
    "start_time": "2023-10-12T22:36:03.815Z"
   },
   {
    "duration": 35,
    "start_time": "2023-10-12T22:36:04.176Z"
   },
   {
    "duration": 48,
    "start_time": "2023-10-12T22:36:04.213Z"
   },
   {
    "duration": 64,
    "start_time": "2023-10-12T22:36:04.263Z"
   },
   {
    "duration": 79,
    "start_time": "2023-10-12T22:36:04.330Z"
   },
   {
    "duration": 5,
    "start_time": "2023-10-12T22:36:04.411Z"
   },
   {
    "duration": 105,
    "start_time": "2023-10-12T22:36:04.418Z"
   },
   {
    "duration": 580,
    "start_time": "2023-10-12T22:36:04.528Z"
   },
   {
    "duration": 5,
    "start_time": "2023-10-12T22:36:05.110Z"
   },
   {
    "duration": 360,
    "start_time": "2023-10-12T22:36:05.117Z"
   },
   {
    "duration": 0,
    "start_time": "2023-10-12T22:36:05.479Z"
   },
   {
    "duration": 0,
    "start_time": "2023-10-12T22:36:05.481Z"
   },
   {
    "duration": 0,
    "start_time": "2023-10-12T22:36:05.483Z"
   },
   {
    "duration": 0,
    "start_time": "2023-10-12T22:36:05.484Z"
   },
   {
    "duration": 147,
    "start_time": "2023-10-12T22:39:22.172Z"
   },
   {
    "duration": 251,
    "start_time": "2023-10-12T22:41:51.006Z"
   },
   {
    "duration": 218,
    "start_time": "2023-10-12T22:42:20.421Z"
   },
   {
    "duration": 6,
    "start_time": "2023-10-12T22:42:39.538Z"
   },
   {
    "duration": 142,
    "start_time": "2023-10-12T22:42:50.830Z"
   },
   {
    "duration": 149,
    "start_time": "2023-10-12T22:45:26.983Z"
   },
   {
    "duration": 148,
    "start_time": "2023-10-12T22:45:38.133Z"
   },
   {
    "duration": 3,
    "start_time": "2023-10-12T22:58:21.666Z"
   },
   {
    "duration": 158,
    "start_time": "2023-10-12T22:58:21.672Z"
   },
   {
    "duration": 45,
    "start_time": "2023-10-12T22:58:21.832Z"
   },
   {
    "duration": 24,
    "start_time": "2023-10-12T22:58:21.880Z"
   },
   {
    "duration": 34,
    "start_time": "2023-10-12T22:58:21.907Z"
   },
   {
    "duration": 52,
    "start_time": "2023-10-12T22:58:21.943Z"
   },
   {
    "duration": 31,
    "start_time": "2023-10-12T22:58:21.997Z"
   },
   {
    "duration": 24,
    "start_time": "2023-10-12T22:58:22.031Z"
   },
   {
    "duration": 46,
    "start_time": "2023-10-12T22:58:22.057Z"
   },
   {
    "duration": 22,
    "start_time": "2023-10-12T22:58:22.105Z"
   },
   {
    "duration": 11,
    "start_time": "2023-10-12T22:58:22.130Z"
   },
   {
    "duration": 12,
    "start_time": "2023-10-12T22:58:22.143Z"
   },
   {
    "duration": 65,
    "start_time": "2023-10-12T22:58:22.157Z"
   },
   {
    "duration": 30,
    "start_time": "2023-10-12T22:58:22.225Z"
   },
   {
    "duration": 52,
    "start_time": "2023-10-12T22:58:22.257Z"
   },
   {
    "duration": 20,
    "start_time": "2023-10-12T22:58:22.311Z"
   },
   {
    "duration": 27,
    "start_time": "2023-10-12T22:58:22.333Z"
   },
   {
    "duration": 5,
    "start_time": "2023-10-12T22:58:22.362Z"
   },
   {
    "duration": 52,
    "start_time": "2023-10-12T22:58:22.369Z"
   },
   {
    "duration": 17,
    "start_time": "2023-10-12T22:58:22.423Z"
   },
   {
    "duration": 281,
    "start_time": "2023-10-12T22:58:22.442Z"
   },
   {
    "duration": 49,
    "start_time": "2023-10-12T22:58:22.725Z"
   },
   {
    "duration": 69,
    "start_time": "2023-10-12T22:58:22.777Z"
   },
   {
    "duration": 11,
    "start_time": "2023-10-12T22:58:22.849Z"
   },
   {
    "duration": 10,
    "start_time": "2023-10-12T22:58:22.862Z"
   },
   {
    "duration": 40,
    "start_time": "2023-10-12T22:58:22.874Z"
   },
   {
    "duration": 30,
    "start_time": "2023-10-12T22:58:22.916Z"
   },
   {
    "duration": 19,
    "start_time": "2023-10-12T22:58:22.949Z"
   },
   {
    "duration": 14,
    "start_time": "2023-10-12T22:58:23.001Z"
   },
   {
    "duration": 21,
    "start_time": "2023-10-12T22:58:23.017Z"
   },
   {
    "duration": 37,
    "start_time": "2023-10-12T22:58:23.040Z"
   },
   {
    "duration": 68,
    "start_time": "2023-10-12T22:58:23.079Z"
   },
   {
    "duration": 194,
    "start_time": "2023-10-12T22:58:23.149Z"
   },
   {
    "duration": 207,
    "start_time": "2023-10-12T22:58:23.345Z"
   },
   {
    "duration": 10,
    "start_time": "2023-10-12T22:58:23.554Z"
   },
   {
    "duration": 47,
    "start_time": "2023-10-12T22:58:23.566Z"
   },
   {
    "duration": 25,
    "start_time": "2023-10-12T22:58:23.615Z"
   },
   {
    "duration": 38,
    "start_time": "2023-10-12T22:58:23.641Z"
   },
   {
    "duration": 24,
    "start_time": "2023-10-12T22:58:23.681Z"
   },
   {
    "duration": 51,
    "start_time": "2023-10-12T22:58:23.707Z"
   },
   {
    "duration": 204,
    "start_time": "2023-10-12T22:58:23.762Z"
   },
   {
    "duration": 6,
    "start_time": "2023-10-12T22:58:23.967Z"
   },
   {
    "duration": 18,
    "start_time": "2023-10-12T22:58:23.975Z"
   },
   {
    "duration": 166,
    "start_time": "2023-10-12T22:58:24.002Z"
   },
   {
    "duration": 508,
    "start_time": "2023-10-12T22:58:24.170Z"
   },
   {
    "duration": 342,
    "start_time": "2023-10-12T22:58:24.681Z"
   },
   {
    "duration": 324,
    "start_time": "2023-10-12T22:58:25.025Z"
   },
   {
    "duration": 302,
    "start_time": "2023-10-12T22:58:25.351Z"
   },
   {
    "duration": 3,
    "start_time": "2023-10-12T23:01:47.154Z"
   },
   {
    "duration": 138,
    "start_time": "2023-10-12T23:01:47.159Z"
   },
   {
    "duration": 35,
    "start_time": "2023-10-12T23:01:47.299Z"
   },
   {
    "duration": 15,
    "start_time": "2023-10-12T23:01:47.336Z"
   },
   {
    "duration": 12,
    "start_time": "2023-10-12T23:01:47.353Z"
   },
   {
    "duration": 60,
    "start_time": "2023-10-12T23:01:47.366Z"
   },
   {
    "duration": 25,
    "start_time": "2023-10-12T23:01:47.428Z"
   },
   {
    "duration": 20,
    "start_time": "2023-10-12T23:01:47.455Z"
   },
   {
    "duration": 60,
    "start_time": "2023-10-12T23:01:47.476Z"
   },
   {
    "duration": 34,
    "start_time": "2023-10-12T23:01:47.538Z"
   },
   {
    "duration": 26,
    "start_time": "2023-10-12T23:01:47.574Z"
   },
   {
    "duration": 20,
    "start_time": "2023-10-12T23:01:47.602Z"
   },
   {
    "duration": 91,
    "start_time": "2023-10-12T23:01:47.624Z"
   },
   {
    "duration": 25,
    "start_time": "2023-10-12T23:01:47.719Z"
   },
   {
    "duration": 31,
    "start_time": "2023-10-12T23:01:47.746Z"
   },
   {
    "duration": 33,
    "start_time": "2023-10-12T23:01:47.779Z"
   },
   {
    "duration": 11,
    "start_time": "2023-10-12T23:01:47.815Z"
   },
   {
    "duration": 5,
    "start_time": "2023-10-12T23:01:47.828Z"
   },
   {
    "duration": 36,
    "start_time": "2023-10-12T23:01:47.834Z"
   },
   {
    "duration": 40,
    "start_time": "2023-10-12T23:01:47.871Z"
   },
   {
    "duration": 236,
    "start_time": "2023-10-12T23:01:47.913Z"
   },
   {
    "duration": 30,
    "start_time": "2023-10-12T23:01:48.151Z"
   },
   {
    "duration": 33,
    "start_time": "2023-10-12T23:01:48.209Z"
   },
   {
    "duration": 12,
    "start_time": "2023-10-12T23:01:48.244Z"
   },
   {
    "duration": 23,
    "start_time": "2023-10-12T23:01:48.258Z"
   },
   {
    "duration": 33,
    "start_time": "2023-10-12T23:01:48.282Z"
   },
   {
    "duration": 25,
    "start_time": "2023-10-12T23:01:48.317Z"
   },
   {
    "duration": 15,
    "start_time": "2023-10-12T23:01:48.344Z"
   },
   {
    "duration": 7,
    "start_time": "2023-10-12T23:01:48.361Z"
   },
   {
    "duration": 42,
    "start_time": "2023-10-12T23:01:48.370Z"
   },
   {
    "duration": 27,
    "start_time": "2023-10-12T23:01:48.415Z"
   },
   {
    "duration": 39,
    "start_time": "2023-10-12T23:01:48.444Z"
   },
   {
    "duration": 186,
    "start_time": "2023-10-12T23:01:48.485Z"
   },
   {
    "duration": 207,
    "start_time": "2023-10-12T23:01:48.673Z"
   },
   {
    "duration": 31,
    "start_time": "2023-10-12T23:01:48.881Z"
   },
   {
    "duration": 19,
    "start_time": "2023-10-12T23:01:48.915Z"
   },
   {
    "duration": 26,
    "start_time": "2023-10-12T23:01:48.935Z"
   },
   {
    "duration": 18,
    "start_time": "2023-10-12T23:01:48.963Z"
   },
   {
    "duration": 20,
    "start_time": "2023-10-12T23:01:48.983Z"
   },
   {
    "duration": 31,
    "start_time": "2023-10-12T23:01:49.005Z"
   },
   {
    "duration": 206,
    "start_time": "2023-10-12T23:01:49.040Z"
   },
   {
    "duration": 5,
    "start_time": "2023-10-12T23:01:49.247Z"
   },
   {
    "duration": 21,
    "start_time": "2023-10-12T23:01:49.254Z"
   },
   {
    "duration": 156,
    "start_time": "2023-10-12T23:01:49.276Z"
   },
   {
    "duration": 407,
    "start_time": "2023-10-12T23:01:49.433Z"
   },
   {
    "duration": 193,
    "start_time": "2023-10-12T23:01:49.842Z"
   },
   {
    "duration": 397,
    "start_time": "2023-10-12T23:01:50.037Z"
   },
   {
    "duration": 300,
    "start_time": "2023-10-12T23:01:50.436Z"
   },
   {
    "duration": 1353,
    "start_time": "2023-10-13T20:17:40.028Z"
   },
   {
    "duration": 272,
    "start_time": "2023-10-13T20:17:41.383Z"
   },
   {
    "duration": 33,
    "start_time": "2023-10-13T20:17:41.656Z"
   },
   {
    "duration": 14,
    "start_time": "2023-10-13T20:17:41.691Z"
   },
   {
    "duration": 12,
    "start_time": "2023-10-13T20:17:41.707Z"
   },
   {
    "duration": 24,
    "start_time": "2023-10-13T20:17:41.720Z"
   },
   {
    "duration": 14,
    "start_time": "2023-10-13T20:17:41.746Z"
   },
   {
    "duration": 20,
    "start_time": "2023-10-13T20:17:41.761Z"
   },
   {
    "duration": 26,
    "start_time": "2023-10-13T20:17:41.783Z"
   },
   {
    "duration": 38,
    "start_time": "2023-10-13T20:17:41.811Z"
   },
   {
    "duration": 5,
    "start_time": "2023-10-13T20:17:41.851Z"
   },
   {
    "duration": 11,
    "start_time": "2023-10-13T20:17:41.857Z"
   },
   {
    "duration": 43,
    "start_time": "2023-10-13T20:17:41.869Z"
   },
   {
    "duration": 36,
    "start_time": "2023-10-13T20:17:41.915Z"
   },
   {
    "duration": 31,
    "start_time": "2023-10-13T20:17:41.952Z"
   },
   {
    "duration": 15,
    "start_time": "2023-10-13T20:17:41.985Z"
   },
   {
    "duration": 13,
    "start_time": "2023-10-13T20:17:42.001Z"
   },
   {
    "duration": 27,
    "start_time": "2023-10-13T20:17:42.016Z"
   },
   {
    "duration": 33,
    "start_time": "2023-10-13T20:17:42.045Z"
   },
   {
    "duration": 33,
    "start_time": "2023-10-13T20:17:42.079Z"
   },
   {
    "duration": 299,
    "start_time": "2023-10-13T20:17:42.113Z"
   },
   {
    "duration": 36,
    "start_time": "2023-10-13T20:17:42.415Z"
   },
   {
    "duration": 28,
    "start_time": "2023-10-13T20:17:42.453Z"
   },
   {
    "duration": 8,
    "start_time": "2023-10-13T20:17:42.483Z"
   },
   {
    "duration": 14,
    "start_time": "2023-10-13T20:17:42.493Z"
   },
   {
    "duration": 14,
    "start_time": "2023-10-13T20:17:42.508Z"
   },
   {
    "duration": 41,
    "start_time": "2023-10-13T20:17:42.523Z"
   },
   {
    "duration": 13,
    "start_time": "2023-10-13T20:17:42.566Z"
   },
   {
    "duration": 7,
    "start_time": "2023-10-13T20:17:42.581Z"
   },
   {
    "duration": 14,
    "start_time": "2023-10-13T20:17:42.589Z"
   },
   {
    "duration": 47,
    "start_time": "2023-10-13T20:17:42.605Z"
   },
   {
    "duration": 37,
    "start_time": "2023-10-13T20:17:42.654Z"
   },
   {
    "duration": 120,
    "start_time": "2023-10-13T20:17:42.693Z"
   },
   {
    "duration": 0,
    "start_time": "2023-10-13T20:17:42.815Z"
   },
   {
    "duration": 0,
    "start_time": "2023-10-13T20:17:42.817Z"
   },
   {
    "duration": 0,
    "start_time": "2023-10-13T20:17:42.818Z"
   },
   {
    "duration": 0,
    "start_time": "2023-10-13T20:17:42.820Z"
   },
   {
    "duration": 0,
    "start_time": "2023-10-13T20:17:42.822Z"
   },
   {
    "duration": 0,
    "start_time": "2023-10-13T20:17:42.844Z"
   },
   {
    "duration": 0,
    "start_time": "2023-10-13T20:17:42.845Z"
   },
   {
    "duration": 0,
    "start_time": "2023-10-13T20:17:42.846Z"
   },
   {
    "duration": 0,
    "start_time": "2023-10-13T20:17:42.847Z"
   },
   {
    "duration": 0,
    "start_time": "2023-10-13T20:17:42.848Z"
   },
   {
    "duration": 0,
    "start_time": "2023-10-13T20:17:42.849Z"
   },
   {
    "duration": 0,
    "start_time": "2023-10-13T20:17:42.850Z"
   },
   {
    "duration": 0,
    "start_time": "2023-10-13T20:17:42.851Z"
   },
   {
    "duration": 0,
    "start_time": "2023-10-13T20:17:42.852Z"
   },
   {
    "duration": 0,
    "start_time": "2023-10-13T20:17:42.853Z"
   },
   {
    "duration": 3,
    "start_time": "2023-10-13T20:19:51.672Z"
   },
   {
    "duration": 139,
    "start_time": "2023-10-13T20:19:51.677Z"
   },
   {
    "duration": 31,
    "start_time": "2023-10-13T20:19:51.818Z"
   },
   {
    "duration": 15,
    "start_time": "2023-10-13T20:19:51.851Z"
   },
   {
    "duration": 25,
    "start_time": "2023-10-13T20:19:51.868Z"
   },
   {
    "duration": 21,
    "start_time": "2023-10-13T20:19:51.895Z"
   },
   {
    "duration": 29,
    "start_time": "2023-10-13T20:19:51.918Z"
   },
   {
    "duration": 33,
    "start_time": "2023-10-13T20:19:51.949Z"
   },
   {
    "duration": 67,
    "start_time": "2023-10-13T20:19:51.984Z"
   },
   {
    "duration": 18,
    "start_time": "2023-10-13T20:19:52.053Z"
   },
   {
    "duration": 33,
    "start_time": "2023-10-13T20:19:52.073Z"
   },
   {
    "duration": 28,
    "start_time": "2023-10-13T20:19:52.107Z"
   },
   {
    "duration": 65,
    "start_time": "2023-10-13T20:19:52.136Z"
   },
   {
    "duration": 48,
    "start_time": "2023-10-13T20:19:52.204Z"
   },
   {
    "duration": 36,
    "start_time": "2023-10-13T20:19:52.254Z"
   },
   {
    "duration": 15,
    "start_time": "2023-10-13T20:19:52.292Z"
   },
   {
    "duration": 28,
    "start_time": "2023-10-13T20:19:52.309Z"
   },
   {
    "duration": 18,
    "start_time": "2023-10-13T20:19:52.339Z"
   },
   {
    "duration": 44,
    "start_time": "2023-10-13T20:19:52.359Z"
   },
   {
    "duration": 42,
    "start_time": "2023-10-13T20:19:52.404Z"
   },
   {
    "duration": 213,
    "start_time": "2023-10-13T20:19:52.447Z"
   },
   {
    "duration": 29,
    "start_time": "2023-10-13T20:19:52.661Z"
   },
   {
    "duration": 25,
    "start_time": "2023-10-13T20:19:52.692Z"
   },
   {
    "duration": 32,
    "start_time": "2023-10-13T20:19:52.719Z"
   },
   {
    "duration": 21,
    "start_time": "2023-10-13T20:19:52.753Z"
   },
   {
    "duration": 43,
    "start_time": "2023-10-13T20:19:52.776Z"
   },
   {
    "duration": 42,
    "start_time": "2023-10-13T20:19:52.821Z"
   },
   {
    "duration": 52,
    "start_time": "2023-10-13T20:19:52.864Z"
   },
   {
    "duration": 17,
    "start_time": "2023-10-13T20:19:52.918Z"
   },
   {
    "duration": 28,
    "start_time": "2023-10-13T20:19:52.937Z"
   },
   {
    "duration": 63,
    "start_time": "2023-10-13T20:19:52.966Z"
   },
   {
    "duration": 73,
    "start_time": "2023-10-13T20:19:53.032Z"
   },
   {
    "duration": 15,
    "start_time": "2023-10-13T20:19:53.107Z"
   },
   {
    "duration": 0,
    "start_time": "2023-10-13T20:19:53.124Z"
   },
   {
    "duration": 0,
    "start_time": "2023-10-13T20:19:53.125Z"
   },
   {
    "duration": 0,
    "start_time": "2023-10-13T20:19:53.127Z"
   },
   {
    "duration": 0,
    "start_time": "2023-10-13T20:19:53.127Z"
   },
   {
    "duration": 0,
    "start_time": "2023-10-13T20:19:53.129Z"
   },
   {
    "duration": 0,
    "start_time": "2023-10-13T20:19:53.130Z"
   },
   {
    "duration": 0,
    "start_time": "2023-10-13T20:19:53.131Z"
   },
   {
    "duration": 0,
    "start_time": "2023-10-13T20:19:53.132Z"
   },
   {
    "duration": 0,
    "start_time": "2023-10-13T20:19:53.133Z"
   },
   {
    "duration": 0,
    "start_time": "2023-10-13T20:19:53.133Z"
   },
   {
    "duration": 0,
    "start_time": "2023-10-13T20:19:53.134Z"
   },
   {
    "duration": 0,
    "start_time": "2023-10-13T20:19:53.135Z"
   },
   {
    "duration": 0,
    "start_time": "2023-10-13T20:19:53.136Z"
   },
   {
    "duration": 0,
    "start_time": "2023-10-13T20:19:53.137Z"
   },
   {
    "duration": 0,
    "start_time": "2023-10-13T20:19:53.138Z"
   },
   {
    "duration": 1300,
    "start_time": "2023-10-13T20:21:01.482Z"
   },
   {
    "duration": 14,
    "start_time": "2023-10-13T20:22:06.625Z"
   },
   {
    "duration": 4,
    "start_time": "2023-10-13T20:26:53.663Z"
   },
   {
    "duration": 152,
    "start_time": "2023-10-13T20:26:53.669Z"
   },
   {
    "duration": 39,
    "start_time": "2023-10-13T20:26:53.823Z"
   },
   {
    "duration": 27,
    "start_time": "2023-10-13T20:26:53.864Z"
   },
   {
    "duration": 10,
    "start_time": "2023-10-13T20:26:53.894Z"
   },
   {
    "duration": 23,
    "start_time": "2023-10-13T20:26:53.905Z"
   },
   {
    "duration": 20,
    "start_time": "2023-10-13T20:26:53.930Z"
   },
   {
    "duration": 18,
    "start_time": "2023-10-13T20:26:53.951Z"
   },
   {
    "duration": 36,
    "start_time": "2023-10-13T20:26:53.970Z"
   },
   {
    "duration": 16,
    "start_time": "2023-10-13T20:26:54.007Z"
   },
   {
    "duration": 19,
    "start_time": "2023-10-13T20:26:54.025Z"
   },
   {
    "duration": 14,
    "start_time": "2023-10-13T20:26:54.046Z"
   },
   {
    "duration": 57,
    "start_time": "2023-10-13T20:26:54.062Z"
   },
   {
    "duration": 28,
    "start_time": "2023-10-13T20:26:54.122Z"
   },
   {
    "duration": 29,
    "start_time": "2023-10-13T20:26:54.151Z"
   },
   {
    "duration": 14,
    "start_time": "2023-10-13T20:26:54.181Z"
   },
   {
    "duration": 18,
    "start_time": "2023-10-13T20:26:54.197Z"
   },
   {
    "duration": 21,
    "start_time": "2023-10-13T20:26:54.216Z"
   },
   {
    "duration": 32,
    "start_time": "2023-10-13T20:26:54.239Z"
   },
   {
    "duration": 14,
    "start_time": "2023-10-13T20:26:54.273Z"
   },
   {
    "duration": 288,
    "start_time": "2023-10-13T20:26:54.289Z"
   },
   {
    "duration": 31,
    "start_time": "2023-10-13T20:26:54.579Z"
   },
   {
    "duration": 49,
    "start_time": "2023-10-13T20:26:54.611Z"
   },
   {
    "duration": 8,
    "start_time": "2023-10-13T20:26:54.662Z"
   },
   {
    "duration": 8,
    "start_time": "2023-10-13T20:26:54.671Z"
   },
   {
    "duration": 14,
    "start_time": "2023-10-13T20:26:54.680Z"
   },
   {
    "duration": 48,
    "start_time": "2023-10-13T20:26:54.696Z"
   },
   {
    "duration": 14,
    "start_time": "2023-10-13T20:26:54.745Z"
   },
   {
    "duration": 7,
    "start_time": "2023-10-13T20:26:54.760Z"
   },
   {
    "duration": 26,
    "start_time": "2023-10-13T20:26:54.768Z"
   },
   {
    "duration": 65,
    "start_time": "2023-10-13T20:26:54.796Z"
   },
   {
    "duration": 51,
    "start_time": "2023-10-13T20:26:54.863Z"
   },
   {
    "duration": 12,
    "start_time": "2023-10-13T20:26:54.915Z"
   },
   {
    "duration": 192,
    "start_time": "2023-10-13T20:26:54.928Z"
   },
   {
    "duration": 192,
    "start_time": "2023-10-13T20:26:55.123Z"
   },
   {
    "duration": 11,
    "start_time": "2023-10-13T20:26:55.316Z"
   },
   {
    "duration": 33,
    "start_time": "2023-10-13T20:26:55.328Z"
   },
   {
    "duration": 19,
    "start_time": "2023-10-13T20:26:55.363Z"
   },
   {
    "duration": 16,
    "start_time": "2023-10-13T20:26:55.385Z"
   },
   {
    "duration": 41,
    "start_time": "2023-10-13T20:26:55.403Z"
   },
   {
    "duration": 20,
    "start_time": "2023-10-13T20:26:55.448Z"
   },
   {
    "duration": 200,
    "start_time": "2023-10-13T20:26:55.470Z"
   },
   {
    "duration": 5,
    "start_time": "2023-10-13T20:26:55.672Z"
   },
   {
    "duration": 32,
    "start_time": "2023-10-13T20:26:55.679Z"
   },
   {
    "duration": 333,
    "start_time": "2023-10-13T20:26:55.712Z"
   },
   {
    "duration": 0,
    "start_time": "2023-10-13T20:26:56.047Z"
   },
   {
    "duration": 1,
    "start_time": "2023-10-13T20:26:56.048Z"
   },
   {
    "duration": 0,
    "start_time": "2023-10-13T20:26:56.050Z"
   },
   {
    "duration": 0,
    "start_time": "2023-10-13T20:26:56.051Z"
   },
   {
    "duration": 4,
    "start_time": "2023-10-13T20:28:13.720Z"
   },
   {
    "duration": 155,
    "start_time": "2023-10-13T20:28:13.725Z"
   },
   {
    "duration": 30,
    "start_time": "2023-10-13T20:28:13.881Z"
   },
   {
    "duration": 17,
    "start_time": "2023-10-13T20:28:13.913Z"
   },
   {
    "duration": 16,
    "start_time": "2023-10-13T20:28:13.931Z"
   },
   {
    "duration": 27,
    "start_time": "2023-10-13T20:28:13.949Z"
   },
   {
    "duration": 20,
    "start_time": "2023-10-13T20:28:13.977Z"
   },
   {
    "duration": 35,
    "start_time": "2023-10-13T20:28:13.998Z"
   },
   {
    "duration": 28,
    "start_time": "2023-10-13T20:28:14.034Z"
   },
   {
    "duration": 17,
    "start_time": "2023-10-13T20:28:14.064Z"
   },
   {
    "duration": 17,
    "start_time": "2023-10-13T20:28:14.082Z"
   },
   {
    "duration": 35,
    "start_time": "2023-10-13T20:28:14.101Z"
   },
   {
    "duration": 39,
    "start_time": "2023-10-13T20:28:14.137Z"
   },
   {
    "duration": 23,
    "start_time": "2023-10-13T20:28:14.178Z"
   },
   {
    "duration": 30,
    "start_time": "2023-10-13T20:28:14.203Z"
   },
   {
    "duration": 22,
    "start_time": "2023-10-13T20:28:14.234Z"
   },
   {
    "duration": 9,
    "start_time": "2023-10-13T20:28:14.258Z"
   },
   {
    "duration": 4,
    "start_time": "2023-10-13T20:28:14.268Z"
   },
   {
    "duration": 35,
    "start_time": "2023-10-13T20:28:14.274Z"
   },
   {
    "duration": 34,
    "start_time": "2023-10-13T20:28:14.311Z"
   },
   {
    "duration": 279,
    "start_time": "2023-10-13T20:28:14.347Z"
   },
   {
    "duration": 44,
    "start_time": "2023-10-13T20:28:14.629Z"
   },
   {
    "duration": 30,
    "start_time": "2023-10-13T20:28:14.675Z"
   },
   {
    "duration": 9,
    "start_time": "2023-10-13T20:28:14.707Z"
   },
   {
    "duration": 43,
    "start_time": "2023-10-13T20:28:14.718Z"
   },
   {
    "duration": 32,
    "start_time": "2023-10-13T20:28:14.763Z"
   },
   {
    "duration": 32,
    "start_time": "2023-10-13T20:28:14.797Z"
   },
   {
    "duration": 23,
    "start_time": "2023-10-13T20:28:14.832Z"
   },
   {
    "duration": 21,
    "start_time": "2023-10-13T20:28:14.857Z"
   },
   {
    "duration": 23,
    "start_time": "2023-10-13T20:28:14.879Z"
   },
   {
    "duration": 27,
    "start_time": "2023-10-13T20:28:14.903Z"
   },
   {
    "duration": 34,
    "start_time": "2023-10-13T20:28:14.932Z"
   },
   {
    "duration": 13,
    "start_time": "2023-10-13T20:28:14.968Z"
   },
   {
    "duration": 239,
    "start_time": "2023-10-13T20:28:14.982Z"
   },
   {
    "duration": 192,
    "start_time": "2023-10-13T20:28:15.223Z"
   },
   {
    "duration": 10,
    "start_time": "2023-10-13T20:28:15.416Z"
   },
   {
    "duration": 32,
    "start_time": "2023-10-13T20:28:15.427Z"
   },
   {
    "duration": 19,
    "start_time": "2023-10-13T20:28:15.461Z"
   },
   {
    "duration": 22,
    "start_time": "2023-10-13T20:28:15.481Z"
   },
   {
    "duration": 4,
    "start_time": "2023-10-13T20:28:15.505Z"
   },
   {
    "duration": 43,
    "start_time": "2023-10-13T20:28:15.511Z"
   },
   {
    "duration": 193,
    "start_time": "2023-10-13T20:28:15.556Z"
   },
   {
    "duration": 4,
    "start_time": "2023-10-13T20:28:15.751Z"
   },
   {
    "duration": 10,
    "start_time": "2023-10-13T20:28:15.757Z"
   },
   {
    "duration": 145,
    "start_time": "2023-10-13T20:28:15.768Z"
   },
   {
    "duration": 0,
    "start_time": "2023-10-13T20:28:15.914Z"
   },
   {
    "duration": 0,
    "start_time": "2023-10-13T20:28:15.915Z"
   },
   {
    "duration": 0,
    "start_time": "2023-10-13T20:28:15.917Z"
   },
   {
    "duration": 0,
    "start_time": "2023-10-13T20:28:15.917Z"
   },
   {
    "duration": 14,
    "start_time": "2023-10-13T20:30:33.048Z"
   },
   {
    "duration": 3,
    "start_time": "2023-10-13T20:30:56.335Z"
   },
   {
    "duration": 137,
    "start_time": "2023-10-13T20:30:56.340Z"
   },
   {
    "duration": 32,
    "start_time": "2023-10-13T20:30:56.479Z"
   },
   {
    "duration": 16,
    "start_time": "2023-10-13T20:30:56.513Z"
   },
   {
    "duration": 12,
    "start_time": "2023-10-13T20:30:56.530Z"
   },
   {
    "duration": 25,
    "start_time": "2023-10-13T20:30:56.543Z"
   },
   {
    "duration": 13,
    "start_time": "2023-10-13T20:30:56.570Z"
   },
   {
    "duration": 17,
    "start_time": "2023-10-13T20:30:56.586Z"
   },
   {
    "duration": 55,
    "start_time": "2023-10-13T20:30:56.605Z"
   },
   {
    "duration": 23,
    "start_time": "2023-10-13T20:30:56.662Z"
   },
   {
    "duration": 7,
    "start_time": "2023-10-13T20:30:56.687Z"
   },
   {
    "duration": 11,
    "start_time": "2023-10-13T20:30:56.695Z"
   },
   {
    "duration": 43,
    "start_time": "2023-10-13T20:30:56.708Z"
   },
   {
    "duration": 22,
    "start_time": "2023-10-13T20:30:56.752Z"
   },
   {
    "duration": 30,
    "start_time": "2023-10-13T20:30:56.775Z"
   },
   {
    "duration": 41,
    "start_time": "2023-10-13T20:30:56.807Z"
   },
   {
    "duration": 9,
    "start_time": "2023-10-13T20:30:56.850Z"
   },
   {
    "duration": 10,
    "start_time": "2023-10-13T20:30:56.860Z"
   },
   {
    "duration": 35,
    "start_time": "2023-10-13T20:30:56.872Z"
   },
   {
    "duration": 22,
    "start_time": "2023-10-13T20:30:56.909Z"
   },
   {
    "duration": 238,
    "start_time": "2023-10-13T20:30:56.932Z"
   },
   {
    "duration": 33,
    "start_time": "2023-10-13T20:30:57.171Z"
   },
   {
    "duration": 46,
    "start_time": "2023-10-13T20:30:57.206Z"
   },
   {
    "duration": 9,
    "start_time": "2023-10-13T20:30:57.253Z"
   },
   {
    "duration": 14,
    "start_time": "2023-10-13T20:30:57.264Z"
   },
   {
    "duration": 19,
    "start_time": "2023-10-13T20:30:57.280Z"
   },
   {
    "duration": 33,
    "start_time": "2023-10-13T20:30:57.301Z"
   },
   {
    "duration": 16,
    "start_time": "2023-10-13T20:30:57.344Z"
   },
   {
    "duration": 23,
    "start_time": "2023-10-13T20:30:57.362Z"
   },
   {
    "duration": 25,
    "start_time": "2023-10-13T20:30:57.387Z"
   },
   {
    "duration": 31,
    "start_time": "2023-10-13T20:30:57.415Z"
   },
   {
    "duration": 42,
    "start_time": "2023-10-13T20:30:57.447Z"
   },
   {
    "duration": 14,
    "start_time": "2023-10-13T20:30:57.491Z"
   },
   {
    "duration": 185,
    "start_time": "2023-10-13T20:30:57.506Z"
   },
   {
    "duration": 187,
    "start_time": "2023-10-13T20:30:57.692Z"
   },
   {
    "duration": 9,
    "start_time": "2023-10-13T20:30:57.881Z"
   },
   {
    "duration": 26,
    "start_time": "2023-10-13T20:30:57.892Z"
   },
   {
    "duration": 35,
    "start_time": "2023-10-13T20:30:57.921Z"
   },
   {
    "duration": 12,
    "start_time": "2023-10-13T20:30:57.958Z"
   },
   {
    "duration": 4,
    "start_time": "2023-10-13T20:30:57.971Z"
   },
   {
    "duration": 30,
    "start_time": "2023-10-13T20:30:57.976Z"
   },
   {
    "duration": 205,
    "start_time": "2023-10-13T20:30:58.007Z"
   },
   {
    "duration": 5,
    "start_time": "2023-10-13T20:30:58.213Z"
   },
   {
    "duration": 15,
    "start_time": "2023-10-13T20:30:58.219Z"
   },
   {
    "duration": 135,
    "start_time": "2023-10-13T20:30:58.244Z"
   },
   {
    "duration": 0,
    "start_time": "2023-10-13T20:30:58.380Z"
   },
   {
    "duration": 0,
    "start_time": "2023-10-13T20:30:58.381Z"
   },
   {
    "duration": 0,
    "start_time": "2023-10-13T20:30:58.382Z"
   },
   {
    "duration": 0,
    "start_time": "2023-10-13T20:30:58.384Z"
   },
   {
    "duration": 142,
    "start_time": "2023-10-13T20:32:49.281Z"
   },
   {
    "duration": 3,
    "start_time": "2023-10-13T20:38:08.113Z"
   },
   {
    "duration": 145,
    "start_time": "2023-10-13T20:38:08.118Z"
   },
   {
    "duration": 32,
    "start_time": "2023-10-13T20:38:08.264Z"
   },
   {
    "duration": 15,
    "start_time": "2023-10-13T20:38:08.298Z"
   },
   {
    "duration": 10,
    "start_time": "2023-10-13T20:38:08.315Z"
   },
   {
    "duration": 30,
    "start_time": "2023-10-13T20:38:08.327Z"
   },
   {
    "duration": 13,
    "start_time": "2023-10-13T20:38:08.358Z"
   },
   {
    "duration": 27,
    "start_time": "2023-10-13T20:38:08.373Z"
   },
   {
    "duration": 42,
    "start_time": "2023-10-13T20:38:08.401Z"
   },
   {
    "duration": 17,
    "start_time": "2023-10-13T20:38:08.445Z"
   },
   {
    "duration": 9,
    "start_time": "2023-10-13T20:38:08.464Z"
   },
   {
    "duration": 15,
    "start_time": "2023-10-13T20:38:08.474Z"
   },
   {
    "duration": 31,
    "start_time": "2023-10-13T20:38:08.491Z"
   },
   {
    "duration": 35,
    "start_time": "2023-10-13T20:38:08.546Z"
   },
   {
    "duration": 33,
    "start_time": "2023-10-13T20:38:08.583Z"
   },
   {
    "duration": 36,
    "start_time": "2023-10-13T20:38:08.619Z"
   },
   {
    "duration": 12,
    "start_time": "2023-10-13T20:38:08.657Z"
   },
   {
    "duration": 4,
    "start_time": "2023-10-13T20:38:08.671Z"
   },
   {
    "duration": 33,
    "start_time": "2023-10-13T20:38:08.676Z"
   },
   {
    "duration": 38,
    "start_time": "2023-10-13T20:38:08.711Z"
   },
   {
    "duration": 228,
    "start_time": "2023-10-13T20:38:08.750Z"
   },
   {
    "duration": 29,
    "start_time": "2023-10-13T20:38:08.980Z"
   },
   {
    "duration": 47,
    "start_time": "2023-10-13T20:38:09.010Z"
   },
   {
    "duration": 8,
    "start_time": "2023-10-13T20:38:09.058Z"
   },
   {
    "duration": 14,
    "start_time": "2023-10-13T20:38:09.068Z"
   },
   {
    "duration": 18,
    "start_time": "2023-10-13T20:38:09.083Z"
   },
   {
    "duration": 42,
    "start_time": "2023-10-13T20:38:09.102Z"
   },
   {
    "duration": 15,
    "start_time": "2023-10-13T20:38:09.145Z"
   },
   {
    "duration": 20,
    "start_time": "2023-10-13T20:38:09.161Z"
   },
   {
    "duration": 30,
    "start_time": "2023-10-13T20:38:09.182Z"
   },
   {
    "duration": 40,
    "start_time": "2023-10-13T20:38:09.213Z"
   },
   {
    "duration": 36,
    "start_time": "2023-10-13T20:38:09.255Z"
   },
   {
    "duration": 13,
    "start_time": "2023-10-13T20:38:09.292Z"
   },
   {
    "duration": 191,
    "start_time": "2023-10-13T20:38:09.307Z"
   },
   {
    "duration": 278,
    "start_time": "2023-10-13T20:38:09.500Z"
   },
   {
    "duration": 9,
    "start_time": "2023-10-13T20:38:09.779Z"
   },
   {
    "duration": 23,
    "start_time": "2023-10-13T20:38:09.790Z"
   },
   {
    "duration": 33,
    "start_time": "2023-10-13T20:38:09.815Z"
   },
   {
    "duration": 12,
    "start_time": "2023-10-13T20:38:09.849Z"
   },
   {
    "duration": 4,
    "start_time": "2023-10-13T20:38:09.862Z"
   },
   {
    "duration": 26,
    "start_time": "2023-10-13T20:38:09.869Z"
   },
   {
    "duration": 203,
    "start_time": "2023-10-13T20:38:09.897Z"
   },
   {
    "duration": 4,
    "start_time": "2023-10-13T20:38:10.102Z"
   },
   {
    "duration": 17,
    "start_time": "2023-10-13T20:38:10.108Z"
   },
   {
    "duration": 142,
    "start_time": "2023-10-13T20:38:10.126Z"
   },
   {
    "duration": 403,
    "start_time": "2023-10-13T20:38:10.270Z"
   },
   {
    "duration": 183,
    "start_time": "2023-10-13T20:38:10.675Z"
   },
   {
    "duration": 305,
    "start_time": "2023-10-13T20:38:10.860Z"
   },
   {
    "duration": 260,
    "start_time": "2023-10-13T20:38:11.167Z"
   },
   {
    "duration": 1145,
    "start_time": "2023-10-14T00:15:09.968Z"
   },
   {
    "duration": 126,
    "start_time": "2023-10-14T00:15:11.115Z"
   },
   {
    "duration": 32,
    "start_time": "2023-10-14T00:15:11.243Z"
   },
   {
    "duration": 17,
    "start_time": "2023-10-14T00:15:11.276Z"
   },
   {
    "duration": 36,
    "start_time": "2023-10-14T00:15:11.295Z"
   },
   {
    "duration": 34,
    "start_time": "2023-10-14T00:15:11.333Z"
   },
   {
    "duration": 20,
    "start_time": "2023-10-14T00:15:11.369Z"
   },
   {
    "duration": 44,
    "start_time": "2023-10-14T00:15:11.391Z"
   },
   {
    "duration": 46,
    "start_time": "2023-10-14T00:15:11.436Z"
   },
   {
    "duration": 20,
    "start_time": "2023-10-14T00:15:11.483Z"
   },
   {
    "duration": 25,
    "start_time": "2023-10-14T00:15:11.505Z"
   },
   {
    "duration": 26,
    "start_time": "2023-10-14T00:15:11.532Z"
   },
   {
    "duration": 50,
    "start_time": "2023-10-14T00:15:11.559Z"
   },
   {
    "duration": 31,
    "start_time": "2023-10-14T00:15:11.612Z"
   },
   {
    "duration": 37,
    "start_time": "2023-10-14T00:15:11.644Z"
   },
   {
    "duration": 25,
    "start_time": "2023-10-14T00:15:11.683Z"
   },
   {
    "duration": 19,
    "start_time": "2023-10-14T00:15:11.710Z"
   },
   {
    "duration": 43,
    "start_time": "2023-10-14T00:15:11.730Z"
   },
   {
    "duration": 46,
    "start_time": "2023-10-14T00:15:11.774Z"
   },
   {
    "duration": 13,
    "start_time": "2023-10-14T00:15:11.822Z"
   },
   {
    "duration": 239,
    "start_time": "2023-10-14T00:15:11.837Z"
   },
   {
    "duration": 49,
    "start_time": "2023-10-14T00:15:12.078Z"
   },
   {
    "duration": 26,
    "start_time": "2023-10-14T00:15:12.128Z"
   },
   {
    "duration": 8,
    "start_time": "2023-10-14T00:15:12.155Z"
   },
   {
    "duration": 34,
    "start_time": "2023-10-14T00:15:12.164Z"
   },
   {
    "duration": 23,
    "start_time": "2023-10-14T00:15:12.200Z"
   },
   {
    "duration": 60,
    "start_time": "2023-10-14T00:15:12.224Z"
   },
   {
    "duration": 50,
    "start_time": "2023-10-14T00:15:12.285Z"
   },
   {
    "duration": 27,
    "start_time": "2023-10-14T00:15:12.336Z"
   },
   {
    "duration": 30,
    "start_time": "2023-10-14T00:15:12.365Z"
   },
   {
    "duration": 61,
    "start_time": "2023-10-14T00:15:12.397Z"
   },
   {
    "duration": 60,
    "start_time": "2023-10-14T00:15:12.459Z"
   },
   {
    "duration": 13,
    "start_time": "2023-10-14T00:15:12.521Z"
   },
   {
    "duration": 185,
    "start_time": "2023-10-14T00:15:12.536Z"
   },
   {
    "duration": 186,
    "start_time": "2023-10-14T00:15:12.723Z"
   },
   {
    "duration": 8,
    "start_time": "2023-10-14T00:15:12.911Z"
   },
   {
    "duration": 30,
    "start_time": "2023-10-14T00:15:12.920Z"
   },
   {
    "duration": 18,
    "start_time": "2023-10-14T00:15:12.952Z"
   },
   {
    "duration": 38,
    "start_time": "2023-10-14T00:15:12.971Z"
   },
   {
    "duration": 4,
    "start_time": "2023-10-14T00:15:13.011Z"
   },
   {
    "duration": 32,
    "start_time": "2023-10-14T00:15:13.019Z"
   },
   {
    "duration": 197,
    "start_time": "2023-10-14T00:15:13.052Z"
   },
   {
    "duration": 4,
    "start_time": "2023-10-14T00:15:13.251Z"
   },
   {
    "duration": 30,
    "start_time": "2023-10-14T00:15:13.257Z"
   },
   {
    "duration": 141,
    "start_time": "2023-10-14T00:15:13.288Z"
   },
   {
    "duration": 386,
    "start_time": "2023-10-14T00:15:13.430Z"
   },
   {
    "duration": 195,
    "start_time": "2023-10-14T00:15:13.818Z"
   },
   {
    "duration": 357,
    "start_time": "2023-10-14T00:15:14.015Z"
   },
   {
    "duration": 264,
    "start_time": "2023-10-14T00:15:14.374Z"
   },
   {
    "duration": 2922,
    "start_time": "2023-10-14T00:28:43.724Z"
   },
   {
    "duration": 379,
    "start_time": "2023-10-14T00:29:08.453Z"
   },
   {
    "duration": 239,
    "start_time": "2023-10-14T00:29:25.823Z"
   },
   {
    "duration": 204,
    "start_time": "2023-10-14T00:30:03.690Z"
   },
   {
    "duration": 189,
    "start_time": "2023-10-14T00:30:39.654Z"
   },
   {
    "duration": 1275,
    "start_time": "2023-10-14T11:52:27.991Z"
   },
   {
    "duration": 337,
    "start_time": "2023-10-14T11:52:29.268Z"
   },
   {
    "duration": 34,
    "start_time": "2023-10-14T11:52:29.607Z"
   },
   {
    "duration": 18,
    "start_time": "2023-10-14T11:52:29.643Z"
   },
   {
    "duration": 35,
    "start_time": "2023-10-14T11:52:29.663Z"
   },
   {
    "duration": 25,
    "start_time": "2023-10-14T11:52:29.699Z"
   },
   {
    "duration": 21,
    "start_time": "2023-10-14T11:52:29.726Z"
   },
   {
    "duration": 32,
    "start_time": "2023-10-14T11:52:29.749Z"
   },
   {
    "duration": 26,
    "start_time": "2023-10-14T11:52:29.783Z"
   },
   {
    "duration": 30,
    "start_time": "2023-10-14T11:52:29.811Z"
   },
   {
    "duration": 18,
    "start_time": "2023-10-14T11:52:29.843Z"
   },
   {
    "duration": 41,
    "start_time": "2023-10-14T11:52:29.862Z"
   },
   {
    "duration": 64,
    "start_time": "2023-10-14T11:52:29.905Z"
   },
   {
    "duration": 45,
    "start_time": "2023-10-14T11:52:29.971Z"
   },
   {
    "duration": 76,
    "start_time": "2023-10-14T11:52:30.018Z"
   },
   {
    "duration": 61,
    "start_time": "2023-10-14T11:52:30.095Z"
   },
   {
    "duration": 21,
    "start_time": "2023-10-14T11:52:30.158Z"
   },
   {
    "duration": 16,
    "start_time": "2023-10-14T11:52:30.181Z"
   },
   {
    "duration": 46,
    "start_time": "2023-10-14T11:52:30.199Z"
   },
   {
    "duration": 39,
    "start_time": "2023-10-14T11:52:30.247Z"
   },
   {
    "duration": 254,
    "start_time": "2023-10-14T11:52:30.288Z"
   },
   {
    "duration": 31,
    "start_time": "2023-10-14T11:52:30.543Z"
   },
   {
    "duration": 66,
    "start_time": "2023-10-14T11:52:30.576Z"
   },
   {
    "duration": 39,
    "start_time": "2023-10-14T11:52:30.643Z"
   },
   {
    "duration": 60,
    "start_time": "2023-10-14T11:52:30.684Z"
   },
   {
    "duration": 79,
    "start_time": "2023-10-14T11:52:30.746Z"
   },
   {
    "duration": 81,
    "start_time": "2023-10-14T11:52:30.827Z"
   },
   {
    "duration": 65,
    "start_time": "2023-10-14T11:52:30.911Z"
   },
   {
    "duration": 39,
    "start_time": "2023-10-14T11:52:30.978Z"
   },
   {
    "duration": 65,
    "start_time": "2023-10-14T11:52:31.019Z"
   },
   {
    "duration": 162,
    "start_time": "2023-10-14T11:52:31.086Z"
   },
   {
    "duration": 126,
    "start_time": "2023-10-14T11:52:31.250Z"
   },
   {
    "duration": 270,
    "start_time": "2023-10-14T11:52:31.378Z"
   },
   {
    "duration": 411,
    "start_time": "2023-10-14T11:52:31.650Z"
   },
   {
    "duration": 386,
    "start_time": "2023-10-14T11:52:32.062Z"
   },
   {
    "duration": 9,
    "start_time": "2023-10-14T11:52:32.450Z"
   },
   {
    "duration": 36,
    "start_time": "2023-10-14T11:52:32.460Z"
   },
   {
    "duration": 29,
    "start_time": "2023-10-14T11:52:32.497Z"
   },
   {
    "duration": 26,
    "start_time": "2023-10-14T11:52:32.527Z"
   },
   {
    "duration": 199,
    "start_time": "2023-10-14T11:52:32.555Z"
   },
   {
    "duration": 4,
    "start_time": "2023-10-14T11:52:32.755Z"
   },
   {
    "duration": 39,
    "start_time": "2023-10-14T11:52:32.761Z"
   },
   {
    "duration": 274,
    "start_time": "2023-10-14T11:52:32.802Z"
   },
   {
    "duration": 4,
    "start_time": "2023-10-14T11:52:33.078Z"
   },
   {
    "duration": 27,
    "start_time": "2023-10-14T11:52:33.083Z"
   },
   {
    "duration": 151,
    "start_time": "2023-10-14T11:52:33.112Z"
   },
   {
    "duration": 455,
    "start_time": "2023-10-14T11:52:33.265Z"
   },
   {
    "duration": 177,
    "start_time": "2023-10-14T11:52:33.722Z"
   },
   {
    "duration": 337,
    "start_time": "2023-10-14T11:52:33.901Z"
   },
   {
    "duration": 276,
    "start_time": "2023-10-14T11:52:34.240Z"
   },
   {
    "duration": 3,
    "start_time": "2023-10-14T11:54:27.670Z"
   },
   {
    "duration": 146,
    "start_time": "2023-10-14T11:54:27.675Z"
   },
   {
    "duration": 30,
    "start_time": "2023-10-14T11:54:27.823Z"
   },
   {
    "duration": 24,
    "start_time": "2023-10-14T11:54:27.855Z"
   },
   {
    "duration": 33,
    "start_time": "2023-10-14T11:54:27.881Z"
   },
   {
    "duration": 48,
    "start_time": "2023-10-14T11:54:27.916Z"
   },
   {
    "duration": 40,
    "start_time": "2023-10-14T11:54:27.966Z"
   },
   {
    "duration": 28,
    "start_time": "2023-10-14T11:54:28.008Z"
   },
   {
    "duration": 57,
    "start_time": "2023-10-14T11:54:28.037Z"
   },
   {
    "duration": 29,
    "start_time": "2023-10-14T11:54:28.097Z"
   },
   {
    "duration": 26,
    "start_time": "2023-10-14T11:54:28.128Z"
   },
   {
    "duration": 40,
    "start_time": "2023-10-14T11:54:28.156Z"
   },
   {
    "duration": 67,
    "start_time": "2023-10-14T11:54:28.198Z"
   },
   {
    "duration": 52,
    "start_time": "2023-10-14T11:54:28.266Z"
   },
   {
    "duration": 36,
    "start_time": "2023-10-14T11:54:28.320Z"
   },
   {
    "duration": 16,
    "start_time": "2023-10-14T11:54:28.358Z"
   },
   {
    "duration": 18,
    "start_time": "2023-10-14T11:54:28.376Z"
   },
   {
    "duration": 30,
    "start_time": "2023-10-14T11:54:28.395Z"
   },
   {
    "duration": 54,
    "start_time": "2023-10-14T11:54:28.427Z"
   },
   {
    "duration": 32,
    "start_time": "2023-10-14T11:54:28.483Z"
   },
   {
    "duration": 228,
    "start_time": "2023-10-14T11:54:28.516Z"
   },
   {
    "duration": 28,
    "start_time": "2023-10-14T11:54:28.746Z"
   },
   {
    "duration": 295,
    "start_time": "2023-10-14T11:54:28.775Z"
   },
   {
    "duration": 10,
    "start_time": "2023-10-14T11:54:29.072Z"
   },
   {
    "duration": 15,
    "start_time": "2023-10-14T11:54:29.083Z"
   },
   {
    "duration": 24,
    "start_time": "2023-10-14T11:54:29.100Z"
   },
   {
    "duration": 31,
    "start_time": "2023-10-14T11:54:29.126Z"
   },
   {
    "duration": 15,
    "start_time": "2023-10-14T11:54:29.161Z"
   },
   {
    "duration": 9,
    "start_time": "2023-10-14T11:54:29.178Z"
   },
   {
    "duration": 13,
    "start_time": "2023-10-14T11:54:29.188Z"
   },
   {
    "duration": 48,
    "start_time": "2023-10-14T11:54:29.203Z"
   },
   {
    "duration": 34,
    "start_time": "2023-10-14T11:54:29.253Z"
   },
   {
    "duration": 14,
    "start_time": "2023-10-14T11:54:29.289Z"
   },
   {
    "duration": 357,
    "start_time": "2023-10-14T11:54:29.305Z"
   },
   {
    "duration": 392,
    "start_time": "2023-10-14T11:54:29.664Z"
   },
   {
    "duration": 10,
    "start_time": "2023-10-14T11:54:30.058Z"
   },
   {
    "duration": 90,
    "start_time": "2023-10-14T11:54:30.070Z"
   },
   {
    "duration": 37,
    "start_time": "2023-10-14T11:54:30.161Z"
   },
   {
    "duration": 14,
    "start_time": "2023-10-14T11:54:30.245Z"
   },
   {
    "duration": 421,
    "start_time": "2023-10-14T11:54:30.260Z"
   },
   {
    "duration": 6,
    "start_time": "2023-10-14T11:54:30.683Z"
   },
   {
    "duration": 159,
    "start_time": "2023-10-14T11:54:30.691Z"
   },
   {
    "duration": 408,
    "start_time": "2023-10-14T11:54:30.852Z"
   },
   {
    "duration": 4,
    "start_time": "2023-10-14T11:54:31.262Z"
   },
   {
    "duration": 68,
    "start_time": "2023-10-14T11:54:31.268Z"
   },
   {
    "duration": 234,
    "start_time": "2023-10-14T11:54:31.338Z"
   },
   {
    "duration": 977,
    "start_time": "2023-10-14T11:54:31.573Z"
   },
   {
    "duration": 337,
    "start_time": "2023-10-14T11:54:32.551Z"
   },
   {
    "duration": 609,
    "start_time": "2023-10-14T11:54:32.889Z"
   },
   {
    "duration": 257,
    "start_time": "2023-10-14T11:54:33.500Z"
   },
   {
    "duration": 4,
    "start_time": "2023-10-14T11:57:01.724Z"
   },
   {
    "duration": 191,
    "start_time": "2023-10-14T11:57:01.729Z"
   },
   {
    "duration": 31,
    "start_time": "2023-10-14T11:57:01.921Z"
   },
   {
    "duration": 25,
    "start_time": "2023-10-14T11:57:01.955Z"
   },
   {
    "duration": 43,
    "start_time": "2023-10-14T11:57:01.981Z"
   },
   {
    "duration": 57,
    "start_time": "2023-10-14T11:57:02.026Z"
   },
   {
    "duration": 45,
    "start_time": "2023-10-14T11:57:02.085Z"
   },
   {
    "duration": 53,
    "start_time": "2023-10-14T11:57:02.132Z"
   },
   {
    "duration": 49,
    "start_time": "2023-10-14T11:57:02.187Z"
   },
   {
    "duration": 21,
    "start_time": "2023-10-14T11:57:02.239Z"
   },
   {
    "duration": 68,
    "start_time": "2023-10-14T11:57:02.262Z"
   },
   {
    "duration": 49,
    "start_time": "2023-10-14T11:57:02.332Z"
   },
   {
    "duration": 89,
    "start_time": "2023-10-14T11:57:02.382Z"
   },
   {
    "duration": 22,
    "start_time": "2023-10-14T11:57:02.473Z"
   },
   {
    "duration": 30,
    "start_time": "2023-10-14T11:57:02.497Z"
   },
   {
    "duration": 28,
    "start_time": "2023-10-14T11:57:02.528Z"
   },
   {
    "duration": 9,
    "start_time": "2023-10-14T11:57:02.558Z"
   },
   {
    "duration": 13,
    "start_time": "2023-10-14T11:57:02.569Z"
   },
   {
    "duration": 54,
    "start_time": "2023-10-14T11:57:02.583Z"
   },
   {
    "duration": 22,
    "start_time": "2023-10-14T11:57:02.638Z"
   },
   {
    "duration": 204,
    "start_time": "2023-10-14T11:57:02.661Z"
   },
   {
    "duration": 28,
    "start_time": "2023-10-14T11:57:02.866Z"
   },
   {
    "duration": 26,
    "start_time": "2023-10-14T11:57:02.895Z"
   },
   {
    "duration": 28,
    "start_time": "2023-10-14T11:57:02.923Z"
   },
   {
    "duration": 7,
    "start_time": "2023-10-14T11:57:02.952Z"
   },
   {
    "duration": 13,
    "start_time": "2023-10-14T11:57:02.960Z"
   },
   {
    "duration": 35,
    "start_time": "2023-10-14T11:57:02.974Z"
   },
   {
    "duration": 54,
    "start_time": "2023-10-14T11:57:03.012Z"
   },
   {
    "duration": 12,
    "start_time": "2023-10-14T11:57:03.068Z"
   },
   {
    "duration": 47,
    "start_time": "2023-10-14T11:57:03.082Z"
   },
   {
    "duration": 34,
    "start_time": "2023-10-14T11:57:03.131Z"
   },
   {
    "duration": 34,
    "start_time": "2023-10-14T11:57:03.166Z"
   },
   {
    "duration": 13,
    "start_time": "2023-10-14T11:57:03.202Z"
   },
   {
    "duration": 187,
    "start_time": "2023-10-14T11:57:03.217Z"
   },
   {
    "duration": 165,
    "start_time": "2023-10-14T11:57:03.406Z"
   },
   {
    "duration": 9,
    "start_time": "2023-10-14T11:57:03.572Z"
   },
   {
    "duration": 28,
    "start_time": "2023-10-14T11:57:03.583Z"
   },
   {
    "duration": 33,
    "start_time": "2023-10-14T11:57:03.612Z"
   },
   {
    "duration": 12,
    "start_time": "2023-10-14T11:57:03.647Z"
   },
   {
    "duration": 394,
    "start_time": "2023-10-14T11:57:03.661Z"
   },
   {
    "duration": 5,
    "start_time": "2023-10-14T11:57:04.057Z"
   },
   {
    "duration": 148,
    "start_time": "2023-10-14T11:57:04.063Z"
   },
   {
    "duration": 732,
    "start_time": "2023-10-14T11:57:04.213Z"
   },
   {
    "duration": 4,
    "start_time": "2023-10-14T11:57:04.947Z"
   },
   {
    "duration": 14,
    "start_time": "2023-10-14T11:57:04.953Z"
   },
   {
    "duration": 293,
    "start_time": "2023-10-14T11:57:04.969Z"
   },
   {
    "duration": 570,
    "start_time": "2023-10-14T11:57:05.263Z"
   },
   {
    "duration": 180,
    "start_time": "2023-10-14T11:57:05.835Z"
   },
   {
    "duration": 296,
    "start_time": "2023-10-14T11:57:06.017Z"
   },
   {
    "duration": 262,
    "start_time": "2023-10-14T11:57:06.315Z"
   },
   {
    "duration": 79,
    "start_time": "2023-10-14T12:03:03.631Z"
   },
   {
    "duration": 213,
    "start_time": "2023-10-14T12:03:27.643Z"
   },
   {
    "duration": 25,
    "start_time": "2023-10-14T12:06:15.305Z"
   },
   {
    "duration": 2,
    "start_time": "2023-10-14T12:06:20.661Z"
   },
   {
    "duration": 133,
    "start_time": "2023-10-14T12:06:20.666Z"
   },
   {
    "duration": 32,
    "start_time": "2023-10-14T12:06:20.800Z"
   },
   {
    "duration": 15,
    "start_time": "2023-10-14T12:06:20.834Z"
   },
   {
    "duration": 13,
    "start_time": "2023-10-14T12:06:20.850Z"
   },
   {
    "duration": 20,
    "start_time": "2023-10-14T12:06:20.865Z"
   },
   {
    "duration": 14,
    "start_time": "2023-10-14T12:06:20.886Z"
   },
   {
    "duration": 19,
    "start_time": "2023-10-14T12:06:20.901Z"
   },
   {
    "duration": 43,
    "start_time": "2023-10-14T12:06:20.922Z"
   },
   {
    "duration": 17,
    "start_time": "2023-10-14T12:06:20.966Z"
   },
   {
    "duration": 20,
    "start_time": "2023-10-14T12:06:20.984Z"
   },
   {
    "duration": 22,
    "start_time": "2023-10-14T12:06:21.005Z"
   },
   {
    "duration": 54,
    "start_time": "2023-10-14T12:06:21.029Z"
   },
   {
    "duration": 29,
    "start_time": "2023-10-14T12:06:21.085Z"
   },
   {
    "duration": 28,
    "start_time": "2023-10-14T12:06:21.115Z"
   },
   {
    "duration": 16,
    "start_time": "2023-10-14T12:06:21.145Z"
   },
   {
    "duration": 10,
    "start_time": "2023-10-14T12:06:21.162Z"
   },
   {
    "duration": 16,
    "start_time": "2023-10-14T12:06:21.173Z"
   },
   {
    "duration": 49,
    "start_time": "2023-10-14T12:06:21.191Z"
   },
   {
    "duration": 156,
    "start_time": "2023-10-14T12:06:21.242Z"
   },
   {
    "duration": 193,
    "start_time": "2023-10-14T12:06:21.400Z"
   },
   {
    "duration": 28,
    "start_time": "2023-10-14T12:06:21.594Z"
   },
   {
    "duration": 125,
    "start_time": "2023-10-14T12:06:21.623Z"
   },
   {
    "duration": 8,
    "start_time": "2023-10-14T12:06:21.751Z"
   },
   {
    "duration": 8,
    "start_time": "2023-10-14T12:06:21.760Z"
   },
   {
    "duration": 13,
    "start_time": "2023-10-14T12:06:21.769Z"
   },
   {
    "duration": 20,
    "start_time": "2023-10-14T12:06:21.783Z"
   },
   {
    "duration": 39,
    "start_time": "2023-10-14T12:06:21.805Z"
   },
   {
    "duration": 8,
    "start_time": "2023-10-14T12:06:21.845Z"
   },
   {
    "duration": 12,
    "start_time": "2023-10-14T12:06:21.855Z"
   },
   {
    "duration": 33,
    "start_time": "2023-10-14T12:06:21.869Z"
   },
   {
    "duration": 45,
    "start_time": "2023-10-14T12:06:21.904Z"
   },
   {
    "duration": 13,
    "start_time": "2023-10-14T12:06:21.951Z"
   },
   {
    "duration": 179,
    "start_time": "2023-10-14T12:06:21.965Z"
   },
   {
    "duration": 183,
    "start_time": "2023-10-14T12:06:22.146Z"
   },
   {
    "duration": 18,
    "start_time": "2023-10-14T12:06:22.330Z"
   },
   {
    "duration": 27,
    "start_time": "2023-10-14T12:06:22.350Z"
   },
   {
    "duration": 20,
    "start_time": "2023-10-14T12:06:22.379Z"
   },
   {
    "duration": 12,
    "start_time": "2023-10-14T12:06:22.401Z"
   },
   {
    "duration": 218,
    "start_time": "2023-10-14T12:06:22.415Z"
   },
   {
    "duration": 11,
    "start_time": "2023-10-14T12:06:22.635Z"
   },
   {
    "duration": 44,
    "start_time": "2023-10-14T12:06:22.647Z"
   },
   {
    "duration": 359,
    "start_time": "2023-10-14T12:06:22.692Z"
   },
   {
    "duration": 4,
    "start_time": "2023-10-14T12:06:23.053Z"
   },
   {
    "duration": 9,
    "start_time": "2023-10-14T12:06:23.058Z"
   },
   {
    "duration": 152,
    "start_time": "2023-10-14T12:06:23.069Z"
   },
   {
    "duration": 447,
    "start_time": "2023-10-14T12:06:23.222Z"
   },
   {
    "duration": 320,
    "start_time": "2023-10-14T12:06:23.671Z"
   },
   {
    "duration": 602,
    "start_time": "2023-10-14T12:06:24.044Z"
   },
   {
    "duration": 513,
    "start_time": "2023-10-14T12:06:24.648Z"
   },
   {
    "duration": 3,
    "start_time": "2023-10-14T12:07:02.043Z"
   },
   {
    "duration": 163,
    "start_time": "2023-10-14T12:07:02.048Z"
   },
   {
    "duration": 38,
    "start_time": "2023-10-14T12:07:02.214Z"
   },
   {
    "duration": 38,
    "start_time": "2023-10-14T12:07:02.254Z"
   },
   {
    "duration": 34,
    "start_time": "2023-10-14T12:07:02.295Z"
   },
   {
    "duration": 58,
    "start_time": "2023-10-14T12:07:02.330Z"
   },
   {
    "duration": 32,
    "start_time": "2023-10-14T12:07:02.390Z"
   },
   {
    "duration": 42,
    "start_time": "2023-10-14T12:07:02.423Z"
   },
   {
    "duration": 42,
    "start_time": "2023-10-14T12:07:02.467Z"
   },
   {
    "duration": 35,
    "start_time": "2023-10-14T12:07:02.510Z"
   },
   {
    "duration": 21,
    "start_time": "2023-10-14T12:07:02.547Z"
   },
   {
    "duration": 44,
    "start_time": "2023-10-14T12:07:02.570Z"
   },
   {
    "duration": 89,
    "start_time": "2023-10-14T12:07:02.616Z"
   },
   {
    "duration": 50,
    "start_time": "2023-10-14T12:07:02.707Z"
   },
   {
    "duration": 27,
    "start_time": "2023-10-14T12:07:02.759Z"
   },
   {
    "duration": 15,
    "start_time": "2023-10-14T12:07:02.789Z"
   },
   {
    "duration": 20,
    "start_time": "2023-10-14T12:07:02.806Z"
   },
   {
    "duration": 4,
    "start_time": "2023-10-14T12:07:02.844Z"
   },
   {
    "duration": 29,
    "start_time": "2023-10-14T12:07:02.850Z"
   },
   {
    "duration": 31,
    "start_time": "2023-10-14T12:07:02.881Z"
   },
   {
    "duration": 238,
    "start_time": "2023-10-14T12:07:02.913Z"
   },
   {
    "duration": 28,
    "start_time": "2023-10-14T12:07:03.152Z"
   },
   {
    "duration": 24,
    "start_time": "2023-10-14T12:07:03.182Z"
   },
   {
    "duration": 42,
    "start_time": "2023-10-14T12:07:03.208Z"
   },
   {
    "duration": 11,
    "start_time": "2023-10-14T12:07:03.252Z"
   },
   {
    "duration": 15,
    "start_time": "2023-10-14T12:07:03.264Z"
   },
   {
    "duration": 73,
    "start_time": "2023-10-14T12:07:03.281Z"
   },
   {
    "duration": 14,
    "start_time": "2023-10-14T12:07:03.356Z"
   },
   {
    "duration": 21,
    "start_time": "2023-10-14T12:07:03.373Z"
   },
   {
    "duration": 11,
    "start_time": "2023-10-14T12:07:03.445Z"
   },
   {
    "duration": 109,
    "start_time": "2023-10-14T12:07:03.457Z"
   },
   {
    "duration": 89,
    "start_time": "2023-10-14T12:07:03.567Z"
   },
   {
    "duration": 12,
    "start_time": "2023-10-14T12:07:03.658Z"
   },
   {
    "duration": 373,
    "start_time": "2023-10-14T12:07:03.671Z"
   },
   {
    "duration": 403,
    "start_time": "2023-10-14T12:07:04.046Z"
   },
   {
    "duration": 9,
    "start_time": "2023-10-14T12:07:04.450Z"
   },
   {
    "duration": 16,
    "start_time": "2023-10-14T12:07:04.461Z"
   },
   {
    "duration": 81,
    "start_time": "2023-10-14T12:07:04.479Z"
   },
   {
    "duration": 11,
    "start_time": "2023-10-14T12:07:04.562Z"
   },
   {
    "duration": 395,
    "start_time": "2023-10-14T12:07:04.574Z"
   },
   {
    "duration": 5,
    "start_time": "2023-10-14T12:07:04.970Z"
   },
   {
    "duration": 31,
    "start_time": "2023-10-14T12:07:04.976Z"
   },
   {
    "duration": 403,
    "start_time": "2023-10-14T12:07:05.008Z"
   },
   {
    "duration": 5,
    "start_time": "2023-10-14T12:07:05.413Z"
   },
   {
    "duration": 40,
    "start_time": "2023-10-14T12:07:05.419Z"
   },
   {
    "duration": 138,
    "start_time": "2023-10-14T12:07:05.461Z"
   },
   {
    "duration": 377,
    "start_time": "2023-10-14T12:07:05.600Z"
   },
   {
    "duration": 180,
    "start_time": "2023-10-14T12:07:05.978Z"
   },
   {
    "duration": 299,
    "start_time": "2023-10-14T12:07:06.159Z"
   },
   {
    "duration": 255,
    "start_time": "2023-10-14T12:07:06.460Z"
   },
   {
    "duration": 188,
    "start_time": "2023-10-14T12:09:07.575Z"
   },
   {
    "duration": 192,
    "start_time": "2023-10-14T12:09:23.206Z"
   },
   {
    "duration": 40,
    "start_time": "2023-10-14T12:28:33.423Z"
   },
   {
    "duration": 9,
    "start_time": "2023-10-14T12:28:45.070Z"
   },
   {
    "duration": 31,
    "start_time": "2023-10-14T12:31:07.259Z"
   },
   {
    "duration": 5,
    "start_time": "2023-10-14T12:37:32.970Z"
   },
   {
    "duration": 29,
    "start_time": "2023-10-14T12:38:06.717Z"
   },
   {
    "duration": 34,
    "start_time": "2023-10-14T12:40:37.127Z"
   },
   {
    "duration": 10,
    "start_time": "2023-10-14T12:40:58.160Z"
   },
   {
    "duration": 10,
    "start_time": "2023-10-14T12:41:25.086Z"
   },
   {
    "duration": 34,
    "start_time": "2023-10-14T12:41:32.996Z"
   },
   {
    "duration": 41,
    "start_time": "2023-10-14T12:48:10.909Z"
   },
   {
    "duration": 35,
    "start_time": "2023-10-14T12:48:42.294Z"
   },
   {
    "duration": 10,
    "start_time": "2023-10-14T12:50:23.192Z"
   },
   {
    "duration": 15,
    "start_time": "2023-10-14T12:51:40.495Z"
   },
   {
    "duration": 16,
    "start_time": "2023-10-14T12:52:04.479Z"
   },
   {
    "duration": 5,
    "start_time": "2023-10-14T12:52:09.039Z"
   },
   {
    "duration": 132,
    "start_time": "2023-10-14T12:52:09.047Z"
   },
   {
    "duration": 31,
    "start_time": "2023-10-14T12:52:09.181Z"
   },
   {
    "duration": 16,
    "start_time": "2023-10-14T12:52:09.214Z"
   },
   {
    "duration": 14,
    "start_time": "2023-10-14T12:52:09.231Z"
   },
   {
    "duration": 19,
    "start_time": "2023-10-14T12:52:09.246Z"
   },
   {
    "duration": 14,
    "start_time": "2023-10-14T12:52:09.267Z"
   },
   {
    "duration": 21,
    "start_time": "2023-10-14T12:52:09.283Z"
   },
   {
    "duration": 59,
    "start_time": "2023-10-14T12:52:09.306Z"
   },
   {
    "duration": 16,
    "start_time": "2023-10-14T12:52:09.368Z"
   },
   {
    "duration": 6,
    "start_time": "2023-10-14T12:52:09.386Z"
   },
   {
    "duration": 15,
    "start_time": "2023-10-14T12:52:09.394Z"
   },
   {
    "duration": 52,
    "start_time": "2023-10-14T12:52:09.410Z"
   },
   {
    "duration": 23,
    "start_time": "2023-10-14T12:52:09.464Z"
   },
   {
    "duration": 40,
    "start_time": "2023-10-14T12:52:09.488Z"
   },
   {
    "duration": 29,
    "start_time": "2023-10-14T12:52:09.530Z"
   },
   {
    "duration": 10,
    "start_time": "2023-10-14T12:52:09.561Z"
   },
   {
    "duration": 5,
    "start_time": "2023-10-14T12:52:09.572Z"
   },
   {
    "duration": 26,
    "start_time": "2023-10-14T12:52:09.579Z"
   },
   {
    "duration": 13,
    "start_time": "2023-10-14T12:52:09.606Z"
   },
   {
    "duration": 243,
    "start_time": "2023-10-14T12:52:09.644Z"
   },
   {
    "duration": 28,
    "start_time": "2023-10-14T12:52:09.889Z"
   },
   {
    "duration": 46,
    "start_time": "2023-10-14T12:52:09.918Z"
   },
   {
    "duration": 8,
    "start_time": "2023-10-14T12:52:09.966Z"
   },
   {
    "duration": 27,
    "start_time": "2023-10-14T12:52:09.976Z"
   },
   {
    "duration": 25,
    "start_time": "2023-10-14T12:52:10.004Z"
   },
   {
    "duration": 43,
    "start_time": "2023-10-14T12:52:10.031Z"
   },
   {
    "duration": 40,
    "start_time": "2023-10-14T12:52:10.078Z"
   },
   {
    "duration": 22,
    "start_time": "2023-10-14T12:52:10.120Z"
   },
   {
    "duration": 58,
    "start_time": "2023-10-14T12:52:10.143Z"
   },
   {
    "duration": 36,
    "start_time": "2023-10-14T12:52:10.203Z"
   },
   {
    "duration": 24,
    "start_time": "2023-10-14T12:52:10.241Z"
   },
   {
    "duration": 35,
    "start_time": "2023-10-14T12:52:10.266Z"
   },
   {
    "duration": 39,
    "start_time": "2023-10-14T12:52:10.302Z"
   },
   {
    "duration": 44,
    "start_time": "2023-10-14T12:52:10.343Z"
   },
   {
    "duration": 13,
    "start_time": "2023-10-14T12:52:10.389Z"
   },
   {
    "duration": 231,
    "start_time": "2023-10-14T12:52:10.403Z"
   },
   {
    "duration": 354,
    "start_time": "2023-10-14T12:52:10.636Z"
   },
   {
    "duration": 63,
    "start_time": "2023-10-14T12:52:10.992Z"
   },
   {
    "duration": 92,
    "start_time": "2023-10-14T12:52:11.057Z"
   },
   {
    "duration": 27,
    "start_time": "2023-10-14T12:52:11.151Z"
   },
   {
    "duration": 82,
    "start_time": "2023-10-14T12:52:11.179Z"
   },
   {
    "duration": 491,
    "start_time": "2023-10-14T12:52:11.263Z"
   },
   {
    "duration": 7,
    "start_time": "2023-10-14T12:52:11.755Z"
   },
   {
    "duration": 86,
    "start_time": "2023-10-14T12:52:11.764Z"
   },
   {
    "duration": 637,
    "start_time": "2023-10-14T12:52:11.852Z"
   },
   {
    "duration": 54,
    "start_time": "2023-10-14T12:52:12.492Z"
   },
   {
    "duration": 35,
    "start_time": "2023-10-14T12:52:12.548Z"
   },
   {
    "duration": 384,
    "start_time": "2023-10-14T12:52:12.586Z"
   },
   {
    "duration": 390,
    "start_time": "2023-10-14T12:52:12.971Z"
   },
   {
    "duration": 200,
    "start_time": "2023-10-14T12:52:13.363Z"
   },
   {
    "duration": 319,
    "start_time": "2023-10-14T12:52:13.565Z"
   },
   {
    "duration": 361,
    "start_time": "2023-10-14T12:52:13.885Z"
   },
   {
    "duration": 3,
    "start_time": "2023-10-14T12:54:22.067Z"
   },
   {
    "duration": 151,
    "start_time": "2023-10-14T12:54:22.072Z"
   },
   {
    "duration": 34,
    "start_time": "2023-10-14T12:54:22.225Z"
   },
   {
    "duration": 16,
    "start_time": "2023-10-14T12:54:22.261Z"
   },
   {
    "duration": 10,
    "start_time": "2023-10-14T12:54:22.278Z"
   },
   {
    "duration": 23,
    "start_time": "2023-10-14T12:54:22.290Z"
   },
   {
    "duration": 33,
    "start_time": "2023-10-14T12:54:22.315Z"
   },
   {
    "duration": 109,
    "start_time": "2023-10-14T12:54:22.349Z"
   },
   {
    "duration": 27,
    "start_time": "2023-10-14T12:54:22.461Z"
   },
   {
    "duration": 36,
    "start_time": "2023-10-14T12:54:22.490Z"
   },
   {
    "duration": 8,
    "start_time": "2023-10-14T12:54:22.528Z"
   },
   {
    "duration": 14,
    "start_time": "2023-10-14T12:54:22.545Z"
   },
   {
    "duration": 28,
    "start_time": "2023-10-14T12:54:22.561Z"
   },
   {
    "duration": 22,
    "start_time": "2023-10-14T12:54:22.591Z"
   },
   {
    "duration": 44,
    "start_time": "2023-10-14T12:54:22.615Z"
   },
   {
    "duration": 15,
    "start_time": "2023-10-14T12:54:22.661Z"
   },
   {
    "duration": 22,
    "start_time": "2023-10-14T12:54:22.678Z"
   },
   {
    "duration": 24,
    "start_time": "2023-10-14T12:54:22.701Z"
   },
   {
    "duration": 38,
    "start_time": "2023-10-14T12:54:22.727Z"
   },
   {
    "duration": 13,
    "start_time": "2023-10-14T12:54:22.766Z"
   },
   {
    "duration": 222,
    "start_time": "2023-10-14T12:54:22.780Z"
   },
   {
    "duration": 48,
    "start_time": "2023-10-14T12:54:23.004Z"
   },
   {
    "duration": 29,
    "start_time": "2023-10-14T12:54:23.053Z"
   },
   {
    "duration": 9,
    "start_time": "2023-10-14T12:54:23.084Z"
   },
   {
    "duration": 6,
    "start_time": "2023-10-14T12:54:23.094Z"
   },
   {
    "duration": 46,
    "start_time": "2023-10-14T12:54:23.101Z"
   },
   {
    "duration": 4,
    "start_time": "2023-10-14T12:54:23.149Z"
   },
   {
    "duration": 53,
    "start_time": "2023-10-14T12:54:23.154Z"
   },
   {
    "duration": 3,
    "start_time": "2023-10-14T12:54:25.030Z"
   },
   {
    "duration": 133,
    "start_time": "2023-10-14T12:54:25.035Z"
   },
   {
    "duration": 33,
    "start_time": "2023-10-14T12:54:25.170Z"
   },
   {
    "duration": 16,
    "start_time": "2023-10-14T12:54:25.205Z"
   },
   {
    "duration": 12,
    "start_time": "2023-10-14T12:54:25.222Z"
   },
   {
    "duration": 51,
    "start_time": "2023-10-14T12:54:25.235Z"
   },
   {
    "duration": 14,
    "start_time": "2023-10-14T12:54:25.288Z"
   },
   {
    "duration": 19,
    "start_time": "2023-10-14T12:54:25.303Z"
   },
   {
    "duration": 24,
    "start_time": "2023-10-14T12:54:25.324Z"
   },
   {
    "duration": 16,
    "start_time": "2023-10-14T12:54:25.349Z"
   },
   {
    "duration": 7,
    "start_time": "2023-10-14T12:54:25.366Z"
   },
   {
    "duration": 13,
    "start_time": "2023-10-14T12:54:25.374Z"
   },
   {
    "duration": 33,
    "start_time": "2023-10-14T12:54:25.389Z"
   },
   {
    "duration": 36,
    "start_time": "2023-10-14T12:54:25.423Z"
   },
   {
    "duration": 28,
    "start_time": "2023-10-14T12:54:25.461Z"
   },
   {
    "duration": 15,
    "start_time": "2023-10-14T12:54:25.490Z"
   },
   {
    "duration": 9,
    "start_time": "2023-10-14T12:54:25.506Z"
   },
   {
    "duration": 29,
    "start_time": "2023-10-14T12:54:25.516Z"
   },
   {
    "duration": 28,
    "start_time": "2023-10-14T12:54:25.547Z"
   },
   {
    "duration": 13,
    "start_time": "2023-10-14T12:54:25.576Z"
   },
   {
    "duration": 234,
    "start_time": "2023-10-14T12:54:25.591Z"
   },
   {
    "duration": 41,
    "start_time": "2023-10-14T12:54:25.827Z"
   },
   {
    "duration": 25,
    "start_time": "2023-10-14T12:54:25.870Z"
   },
   {
    "duration": 8,
    "start_time": "2023-10-14T12:54:25.898Z"
   },
   {
    "duration": 7,
    "start_time": "2023-10-14T12:54:25.908Z"
   },
   {
    "duration": 47,
    "start_time": "2023-10-14T12:54:25.917Z"
   },
   {
    "duration": 5,
    "start_time": "2023-10-14T12:54:25.965Z"
   },
   {
    "duration": 35,
    "start_time": "2023-10-14T12:54:25.971Z"
   },
   {
    "duration": 9,
    "start_time": "2023-10-14T12:54:26.008Z"
   },
   {
    "duration": 36,
    "start_time": "2023-10-14T12:54:26.018Z"
   },
   {
    "duration": 34,
    "start_time": "2023-10-14T12:54:26.056Z"
   },
   {
    "duration": 28,
    "start_time": "2023-10-14T12:54:26.092Z"
   },
   {
    "duration": 19,
    "start_time": "2023-10-14T12:54:26.121Z"
   },
   {
    "duration": 12,
    "start_time": "2023-10-14T12:54:26.142Z"
   },
   {
    "duration": 27,
    "start_time": "2023-10-14T12:54:26.155Z"
   },
   {
    "duration": 38,
    "start_time": "2023-10-14T12:54:26.183Z"
   },
   {
    "duration": 36,
    "start_time": "2023-10-14T12:54:26.222Z"
   },
   {
    "duration": 198,
    "start_time": "2023-10-14T12:54:26.261Z"
   },
   {
    "duration": 223,
    "start_time": "2023-10-14T12:54:26.461Z"
   },
   {
    "duration": 65,
    "start_time": "2023-10-14T12:54:26.686Z"
   },
   {
    "duration": 18,
    "start_time": "2023-10-14T12:54:26.753Z"
   },
   {
    "duration": 78,
    "start_time": "2023-10-14T12:54:26.772Z"
   },
   {
    "duration": 12,
    "start_time": "2023-10-14T12:54:26.851Z"
   },
   {
    "duration": 397,
    "start_time": "2023-10-14T12:54:26.865Z"
   },
   {
    "duration": 5,
    "start_time": "2023-10-14T12:54:27.264Z"
   },
   {
    "duration": 76,
    "start_time": "2023-10-14T12:54:27.270Z"
   },
   {
    "duration": 601,
    "start_time": "2023-10-14T12:54:27.347Z"
   },
   {
    "duration": 4,
    "start_time": "2023-10-14T12:54:27.950Z"
   },
   {
    "duration": 13,
    "start_time": "2023-10-14T12:54:27.956Z"
   },
   {
    "duration": 295,
    "start_time": "2023-10-14T12:54:27.970Z"
   },
   {
    "duration": 392,
    "start_time": "2023-10-14T12:54:28.267Z"
   },
   {
    "duration": 177,
    "start_time": "2023-10-14T12:54:28.661Z"
   },
   {
    "duration": 391,
    "start_time": "2023-10-14T12:54:28.840Z"
   },
   {
    "duration": 271,
    "start_time": "2023-10-14T12:54:29.232Z"
   },
   {
    "duration": 18,
    "start_time": "2023-10-14T12:55:26.691Z"
   },
   {
    "duration": 4,
    "start_time": "2023-10-14T12:55:31.435Z"
   },
   {
    "duration": 196,
    "start_time": "2023-10-14T12:55:31.442Z"
   },
   {
    "duration": 45,
    "start_time": "2023-10-14T12:55:31.641Z"
   },
   {
    "duration": 48,
    "start_time": "2023-10-14T12:55:31.689Z"
   },
   {
    "duration": 49,
    "start_time": "2023-10-14T12:55:31.739Z"
   },
   {
    "duration": 51,
    "start_time": "2023-10-14T12:55:31.790Z"
   },
   {
    "duration": 80,
    "start_time": "2023-10-14T12:55:31.843Z"
   },
   {
    "duration": 54,
    "start_time": "2023-10-14T12:55:31.925Z"
   },
   {
    "duration": 65,
    "start_time": "2023-10-14T12:55:31.983Z"
   },
   {
    "duration": 79,
    "start_time": "2023-10-14T12:55:32.050Z"
   },
   {
    "duration": 99,
    "start_time": "2023-10-14T12:55:32.130Z"
   },
   {
    "duration": 34,
    "start_time": "2023-10-14T12:55:32.230Z"
   },
   {
    "duration": 82,
    "start_time": "2023-10-14T12:55:32.265Z"
   },
   {
    "duration": 52,
    "start_time": "2023-10-14T12:55:32.349Z"
   },
   {
    "duration": 64,
    "start_time": "2023-10-14T12:55:32.402Z"
   },
   {
    "duration": 55,
    "start_time": "2023-10-14T12:55:32.468Z"
   },
   {
    "duration": 9,
    "start_time": "2023-10-14T12:55:32.524Z"
   },
   {
    "duration": 11,
    "start_time": "2023-10-14T12:55:32.535Z"
   },
   {
    "duration": 34,
    "start_time": "2023-10-14T12:55:32.547Z"
   },
   {
    "duration": 13,
    "start_time": "2023-10-14T12:55:32.583Z"
   },
   {
    "duration": 218,
    "start_time": "2023-10-14T12:55:32.598Z"
   },
   {
    "duration": 51,
    "start_time": "2023-10-14T12:55:32.818Z"
   },
   {
    "duration": 28,
    "start_time": "2023-10-14T12:55:32.870Z"
   },
   {
    "duration": 11,
    "start_time": "2023-10-14T12:55:32.901Z"
   },
   {
    "duration": 7,
    "start_time": "2023-10-14T12:55:32.913Z"
   },
   {
    "duration": 40,
    "start_time": "2023-10-14T12:55:32.921Z"
   },
   {
    "duration": 6,
    "start_time": "2023-10-14T12:55:32.962Z"
   },
   {
    "duration": 42,
    "start_time": "2023-10-14T12:55:32.969Z"
   },
   {
    "duration": 10,
    "start_time": "2023-10-14T12:55:33.012Z"
   },
   {
    "duration": 21,
    "start_time": "2023-10-14T12:55:33.024Z"
   },
   {
    "duration": 46,
    "start_time": "2023-10-14T12:55:33.047Z"
   },
   {
    "duration": 15,
    "start_time": "2023-10-14T12:55:33.095Z"
   },
   {
    "duration": 42,
    "start_time": "2023-10-14T12:55:33.112Z"
   },
   {
    "duration": 19,
    "start_time": "2023-10-14T12:55:33.156Z"
   },
   {
    "duration": 100,
    "start_time": "2023-10-14T12:55:33.177Z"
   },
   {
    "duration": 98,
    "start_time": "2023-10-14T12:55:33.279Z"
   },
   {
    "duration": 66,
    "start_time": "2023-10-14T12:55:33.379Z"
   },
   {
    "duration": 335,
    "start_time": "2023-10-14T12:55:33.447Z"
   },
   {
    "duration": 380,
    "start_time": "2023-10-14T12:55:33.783Z"
   },
   {
    "duration": 12,
    "start_time": "2023-10-14T12:55:34.166Z"
   },
   {
    "duration": 77,
    "start_time": "2023-10-14T12:55:34.180Z"
   },
   {
    "duration": 27,
    "start_time": "2023-10-14T12:55:34.259Z"
   },
   {
    "duration": 16,
    "start_time": "2023-10-14T12:55:34.345Z"
   },
   {
    "duration": 404,
    "start_time": "2023-10-14T12:55:34.363Z"
   },
   {
    "duration": 4,
    "start_time": "2023-10-14T12:55:34.769Z"
   },
   {
    "duration": 84,
    "start_time": "2023-10-14T12:55:34.774Z"
   },
   {
    "duration": 367,
    "start_time": "2023-10-14T12:55:34.860Z"
   },
   {
    "duration": 5,
    "start_time": "2023-10-14T12:55:35.229Z"
   },
   {
    "duration": 38,
    "start_time": "2023-10-14T12:55:35.244Z"
   },
   {
    "duration": 170,
    "start_time": "2023-10-14T12:55:35.284Z"
   },
   {
    "duration": 418,
    "start_time": "2023-10-14T12:55:35.456Z"
   },
   {
    "duration": 278,
    "start_time": "2023-10-14T12:55:35.876Z"
   },
   {
    "duration": 346,
    "start_time": "2023-10-14T12:55:36.155Z"
   },
   {
    "duration": 280,
    "start_time": "2023-10-14T12:55:36.503Z"
   },
   {
    "duration": 16,
    "start_time": "2023-10-14T12:56:22.276Z"
   },
   {
    "duration": 6,
    "start_time": "2023-10-14T13:00:37.571Z"
   },
   {
    "duration": 32,
    "start_time": "2023-10-14T13:00:41.170Z"
   },
   {
    "duration": 3,
    "start_time": "2023-10-14T13:00:50.441Z"
   },
   {
    "duration": 147,
    "start_time": "2023-10-14T13:00:50.446Z"
   },
   {
    "duration": 33,
    "start_time": "2023-10-14T13:00:50.595Z"
   },
   {
    "duration": 16,
    "start_time": "2023-10-14T13:00:50.629Z"
   },
   {
    "duration": 18,
    "start_time": "2023-10-14T13:00:50.647Z"
   },
   {
    "duration": 30,
    "start_time": "2023-10-14T13:00:50.667Z"
   },
   {
    "duration": 32,
    "start_time": "2023-10-14T13:00:50.698Z"
   },
   {
    "duration": 35,
    "start_time": "2023-10-14T13:00:50.731Z"
   },
   {
    "duration": 30,
    "start_time": "2023-10-14T13:00:50.768Z"
   },
   {
    "duration": 23,
    "start_time": "2023-10-14T13:00:50.799Z"
   },
   {
    "duration": 16,
    "start_time": "2023-10-14T13:00:50.823Z"
   },
   {
    "duration": 16,
    "start_time": "2023-10-14T13:00:50.840Z"
   },
   {
    "duration": 49,
    "start_time": "2023-10-14T13:00:50.858Z"
   },
   {
    "duration": 31,
    "start_time": "2023-10-14T13:00:50.912Z"
   },
   {
    "duration": 29,
    "start_time": "2023-10-14T13:00:50.945Z"
   },
   {
    "duration": 17,
    "start_time": "2023-10-14T13:00:50.975Z"
   },
   {
    "duration": 19,
    "start_time": "2023-10-14T13:00:50.993Z"
   },
   {
    "duration": 5,
    "start_time": "2023-10-14T13:00:51.014Z"
   },
   {
    "duration": 48,
    "start_time": "2023-10-14T13:00:51.021Z"
   },
   {
    "duration": 14,
    "start_time": "2023-10-14T13:00:51.071Z"
   },
   {
    "duration": 243,
    "start_time": "2023-10-14T13:00:51.087Z"
   },
   {
    "duration": 38,
    "start_time": "2023-10-14T13:00:51.332Z"
   },
   {
    "duration": 20,
    "start_time": "2023-10-14T13:00:51.372Z"
   },
   {
    "duration": 29,
    "start_time": "2023-10-14T13:00:51.393Z"
   },
   {
    "duration": 25,
    "start_time": "2023-10-14T13:00:51.423Z"
   },
   {
    "duration": 37,
    "start_time": "2023-10-14T13:00:51.450Z"
   },
   {
    "duration": 19,
    "start_time": "2023-10-14T13:00:51.489Z"
   },
   {
    "duration": 34,
    "start_time": "2023-10-14T13:00:51.510Z"
   },
   {
    "duration": 5,
    "start_time": "2023-10-14T13:00:51.546Z"
   },
   {
    "duration": 47,
    "start_time": "2023-10-14T13:00:51.553Z"
   },
   {
    "duration": 28,
    "start_time": "2023-10-14T13:00:51.602Z"
   },
   {
    "duration": 10,
    "start_time": "2023-10-14T13:00:51.632Z"
   },
   {
    "duration": 44,
    "start_time": "2023-10-14T13:00:51.644Z"
   },
   {
    "duration": 54,
    "start_time": "2023-10-14T13:00:51.690Z"
   },
   {
    "duration": 37,
    "start_time": "2023-10-14T13:00:51.746Z"
   },
   {
    "duration": 13,
    "start_time": "2023-10-14T13:00:51.785Z"
   },
   {
    "duration": 224,
    "start_time": "2023-10-14T13:00:51.799Z"
   },
   {
    "duration": 175,
    "start_time": "2023-10-14T13:00:52.025Z"
   },
   {
    "duration": 10,
    "start_time": "2023-10-14T13:00:52.201Z"
   },
   {
    "duration": 34,
    "start_time": "2023-10-14T13:00:52.212Z"
   },
   {
    "duration": 20,
    "start_time": "2023-10-14T13:00:52.249Z"
   },
   {
    "duration": 14,
    "start_time": "2023-10-14T13:00:52.271Z"
   },
   {
    "duration": 214,
    "start_time": "2023-10-14T13:00:52.286Z"
   },
   {
    "duration": 4,
    "start_time": "2023-10-14T13:00:52.502Z"
   },
   {
    "duration": 23,
    "start_time": "2023-10-14T13:00:52.507Z"
   },
   {
    "duration": 303,
    "start_time": "2023-10-14T13:00:52.531Z"
   },
   {
    "duration": 10,
    "start_time": "2023-10-14T13:00:52.836Z"
   },
   {
    "duration": 14,
    "start_time": "2023-10-14T13:00:52.847Z"
   },
   {
    "duration": 144,
    "start_time": "2023-10-14T13:00:52.863Z"
   },
   {
    "duration": 737,
    "start_time": "2023-10-14T13:00:53.008Z"
   },
   {
    "duration": 330,
    "start_time": "2023-10-14T13:00:53.746Z"
   },
   {
    "duration": 602,
    "start_time": "2023-10-14T13:00:54.078Z"
   },
   {
    "duration": 450,
    "start_time": "2023-10-14T13:00:54.682Z"
   },
   {
    "duration": 3,
    "start_time": "2023-10-14T13:24:57.567Z"
   },
   {
    "duration": 129,
    "start_time": "2023-10-14T13:24:57.572Z"
   },
   {
    "duration": 34,
    "start_time": "2023-10-14T13:24:57.703Z"
   },
   {
    "duration": 16,
    "start_time": "2023-10-14T13:24:57.740Z"
   },
   {
    "duration": 10,
    "start_time": "2023-10-14T13:24:57.758Z"
   },
   {
    "duration": 17,
    "start_time": "2023-10-14T13:24:57.770Z"
   },
   {
    "duration": 14,
    "start_time": "2023-10-14T13:24:57.789Z"
   },
   {
    "duration": 42,
    "start_time": "2023-10-14T13:24:57.804Z"
   },
   {
    "duration": 25,
    "start_time": "2023-10-14T13:24:57.848Z"
   },
   {
    "duration": 17,
    "start_time": "2023-10-14T13:24:57.875Z"
   },
   {
    "duration": 7,
    "start_time": "2023-10-14T13:24:57.894Z"
   },
   {
    "duration": 10,
    "start_time": "2023-10-14T13:24:57.902Z"
   },
   {
    "duration": 51,
    "start_time": "2023-10-14T13:24:57.914Z"
   },
   {
    "duration": 22,
    "start_time": "2023-10-14T13:24:57.966Z"
   },
   {
    "duration": 27,
    "start_time": "2023-10-14T13:24:57.989Z"
   },
   {
    "duration": 40,
    "start_time": "2023-10-14T13:24:58.018Z"
   },
   {
    "duration": 12,
    "start_time": "2023-10-14T13:24:58.059Z"
   },
   {
    "duration": 3,
    "start_time": "2023-10-14T13:24:58.072Z"
   },
   {
    "duration": 29,
    "start_time": "2023-10-14T13:24:58.077Z"
   },
   {
    "duration": 42,
    "start_time": "2023-10-14T13:24:58.108Z"
   },
   {
    "duration": 220,
    "start_time": "2023-10-14T13:24:58.152Z"
   },
   {
    "duration": 28,
    "start_time": "2023-10-14T13:24:58.373Z"
   },
   {
    "duration": 43,
    "start_time": "2023-10-14T13:24:58.403Z"
   },
   {
    "duration": 18,
    "start_time": "2023-10-14T13:24:58.447Z"
   },
   {
    "duration": 10,
    "start_time": "2023-10-14T13:24:58.467Z"
   },
   {
    "duration": 27,
    "start_time": "2023-10-14T13:24:58.478Z"
   },
   {
    "duration": 25,
    "start_time": "2023-10-14T13:24:58.507Z"
   },
   {
    "duration": 37,
    "start_time": "2023-10-14T13:24:58.535Z"
   },
   {
    "duration": 4,
    "start_time": "2023-10-14T13:24:58.574Z"
   },
   {
    "duration": 36,
    "start_time": "2023-10-14T13:24:58.580Z"
   },
   {
    "duration": 16,
    "start_time": "2023-10-14T13:24:58.617Z"
   },
   {
    "duration": 22,
    "start_time": "2023-10-14T13:24:58.634Z"
   },
   {
    "duration": 22,
    "start_time": "2023-10-14T13:24:58.657Z"
   },
   {
    "duration": 36,
    "start_time": "2023-10-14T13:24:58.680Z"
   },
   {
    "duration": 34,
    "start_time": "2023-10-14T13:24:58.717Z"
   },
   {
    "duration": 13,
    "start_time": "2023-10-14T13:24:58.753Z"
   },
   {
    "duration": 176,
    "start_time": "2023-10-14T13:24:58.768Z"
   },
   {
    "duration": 183,
    "start_time": "2023-10-14T13:24:58.946Z"
   },
   {
    "duration": 13,
    "start_time": "2023-10-14T13:24:59.131Z"
   },
   {
    "duration": 18,
    "start_time": "2023-10-14T13:24:59.146Z"
   },
   {
    "duration": 21,
    "start_time": "2023-10-14T13:24:59.166Z"
   },
   {
    "duration": 14,
    "start_time": "2023-10-14T13:24:59.189Z"
   },
   {
    "duration": 387,
    "start_time": "2023-10-14T13:24:59.205Z"
   },
   {
    "duration": 54,
    "start_time": "2023-10-14T13:24:59.593Z"
   },
   {
    "duration": 39,
    "start_time": "2023-10-14T13:24:59.648Z"
   },
   {
    "duration": 589,
    "start_time": "2023-10-14T13:24:59.688Z"
   },
   {
    "duration": 5,
    "start_time": "2023-10-14T13:25:00.279Z"
   },
   {
    "duration": 61,
    "start_time": "2023-10-14T13:25:00.285Z"
   },
   {
    "duration": 327,
    "start_time": "2023-10-14T13:25:00.348Z"
   },
   {
    "duration": 608,
    "start_time": "2023-10-14T13:25:00.676Z"
   },
   {
    "duration": 185,
    "start_time": "2023-10-14T13:25:01.285Z"
   },
   {
    "duration": 287,
    "start_time": "2023-10-14T13:25:01.472Z"
   },
   {
    "duration": 270,
    "start_time": "2023-10-14T13:25:01.760Z"
   },
   {
    "duration": 38,
    "start_time": "2023-10-14T13:32:29.094Z"
   },
   {
    "duration": 3,
    "start_time": "2023-10-14T13:39:35.650Z"
   },
   {
    "duration": 141,
    "start_time": "2023-10-14T13:39:35.655Z"
   },
   {
    "duration": 28,
    "start_time": "2023-10-14T13:39:35.798Z"
   },
   {
    "duration": 20,
    "start_time": "2023-10-14T13:39:35.828Z"
   },
   {
    "duration": 11,
    "start_time": "2023-10-14T13:39:35.849Z"
   },
   {
    "duration": 33,
    "start_time": "2023-10-14T13:39:35.862Z"
   },
   {
    "duration": 30,
    "start_time": "2023-10-14T13:39:35.897Z"
   },
   {
    "duration": 26,
    "start_time": "2023-10-14T13:39:35.929Z"
   },
   {
    "duration": 26,
    "start_time": "2023-10-14T13:39:35.958Z"
   },
   {
    "duration": 22,
    "start_time": "2023-10-14T13:39:35.985Z"
   },
   {
    "duration": 7,
    "start_time": "2023-10-14T13:39:36.009Z"
   },
   {
    "duration": 26,
    "start_time": "2023-10-14T13:39:36.018Z"
   },
   {
    "duration": 25,
    "start_time": "2023-10-14T13:39:36.046Z"
   },
   {
    "duration": 22,
    "start_time": "2023-10-14T13:39:36.072Z"
   },
   {
    "duration": 50,
    "start_time": "2023-10-14T13:39:36.096Z"
   },
   {
    "duration": 21,
    "start_time": "2023-10-14T13:39:36.148Z"
   },
   {
    "duration": 70,
    "start_time": "2023-10-14T13:39:36.171Z"
   },
   {
    "duration": 6,
    "start_time": "2023-10-14T13:39:36.243Z"
   },
   {
    "duration": 54,
    "start_time": "2023-10-14T13:39:36.251Z"
   },
   {
    "duration": 25,
    "start_time": "2023-10-14T13:39:36.307Z"
   },
   {
    "duration": 211,
    "start_time": "2023-10-14T13:39:36.334Z"
   },
   {
    "duration": 28,
    "start_time": "2023-10-14T13:39:36.546Z"
   },
   {
    "duration": 22,
    "start_time": "2023-10-14T13:39:36.576Z"
   },
   {
    "duration": 20,
    "start_time": "2023-10-14T13:39:36.604Z"
   },
   {
    "duration": 24,
    "start_time": "2023-10-14T13:39:36.626Z"
   },
   {
    "duration": 29,
    "start_time": "2023-10-14T13:39:36.652Z"
   },
   {
    "duration": 4,
    "start_time": "2023-10-14T13:39:36.683Z"
   },
   {
    "duration": 37,
    "start_time": "2023-10-14T13:39:36.688Z"
   },
   {
    "duration": 21,
    "start_time": "2023-10-14T13:39:36.727Z"
   },
   {
    "duration": 30,
    "start_time": "2023-10-14T13:39:36.750Z"
   },
   {
    "duration": 16,
    "start_time": "2023-10-14T13:39:36.782Z"
   },
   {
    "duration": 25,
    "start_time": "2023-10-14T13:39:36.800Z"
   },
   {
    "duration": 30,
    "start_time": "2023-10-14T13:39:36.827Z"
   },
   {
    "duration": 29,
    "start_time": "2023-10-14T13:39:36.858Z"
   },
   {
    "duration": 48,
    "start_time": "2023-10-14T13:39:36.889Z"
   },
   {
    "duration": 14,
    "start_time": "2023-10-14T13:39:36.938Z"
   },
   {
    "duration": 241,
    "start_time": "2023-10-14T13:39:36.954Z"
   },
   {
    "duration": 188,
    "start_time": "2023-10-14T13:39:37.197Z"
   },
   {
    "duration": 9,
    "start_time": "2023-10-14T13:39:37.387Z"
   },
   {
    "duration": 62,
    "start_time": "2023-10-14T13:39:37.398Z"
   },
   {
    "duration": 41,
    "start_time": "2023-10-14T13:39:37.462Z"
   },
   {
    "duration": 13,
    "start_time": "2023-10-14T13:39:37.505Z"
   },
   {
    "duration": 213,
    "start_time": "2023-10-14T13:39:37.520Z"
   },
   {
    "duration": 11,
    "start_time": "2023-10-14T13:39:37.735Z"
   },
   {
    "duration": 35,
    "start_time": "2023-10-14T13:39:37.748Z"
   },
   {
    "duration": 418,
    "start_time": "2023-10-14T13:39:37.786Z"
   },
   {
    "duration": 6,
    "start_time": "2023-10-14T13:39:38.206Z"
   },
   {
    "duration": 17,
    "start_time": "2023-10-14T13:39:38.213Z"
   },
   {
    "duration": 149,
    "start_time": "2023-10-14T13:39:38.243Z"
   },
   {
    "duration": 389,
    "start_time": "2023-10-14T13:39:38.393Z"
   },
   {
    "duration": 175,
    "start_time": "2023-10-14T13:39:38.784Z"
   },
   {
    "duration": 288,
    "start_time": "2023-10-14T13:39:38.961Z"
   },
   {
    "duration": 239,
    "start_time": "2023-10-14T13:39:39.251Z"
   },
   {
    "duration": 3,
    "start_time": "2023-10-14T13:44:54.400Z"
   },
   {
    "duration": 137,
    "start_time": "2023-10-14T13:44:54.405Z"
   },
   {
    "duration": 31,
    "start_time": "2023-10-14T13:44:54.543Z"
   },
   {
    "duration": 20,
    "start_time": "2023-10-14T13:44:54.576Z"
   },
   {
    "duration": 26,
    "start_time": "2023-10-14T13:44:54.597Z"
   },
   {
    "duration": 29,
    "start_time": "2023-10-14T13:44:54.624Z"
   },
   {
    "duration": 15,
    "start_time": "2023-10-14T13:44:54.655Z"
   },
   {
    "duration": 18,
    "start_time": "2023-10-14T13:44:54.671Z"
   },
   {
    "duration": 26,
    "start_time": "2023-10-14T13:44:54.691Z"
   },
   {
    "duration": 19,
    "start_time": "2023-10-14T13:44:54.743Z"
   },
   {
    "duration": 14,
    "start_time": "2023-10-14T13:44:54.764Z"
   },
   {
    "duration": 25,
    "start_time": "2023-10-14T13:44:54.780Z"
   },
   {
    "duration": 47,
    "start_time": "2023-10-14T13:44:54.807Z"
   },
   {
    "duration": 48,
    "start_time": "2023-10-14T13:44:54.855Z"
   },
   {
    "duration": 28,
    "start_time": "2023-10-14T13:44:54.904Z"
   },
   {
    "duration": 17,
    "start_time": "2023-10-14T13:44:54.933Z"
   },
   {
    "duration": 21,
    "start_time": "2023-10-14T13:44:54.951Z"
   },
   {
    "duration": 19,
    "start_time": "2023-10-14T13:44:54.974Z"
   },
   {
    "duration": 31,
    "start_time": "2023-10-14T13:44:54.994Z"
   },
   {
    "duration": 17,
    "start_time": "2023-10-14T13:44:55.026Z"
   },
   {
    "duration": 220,
    "start_time": "2023-10-14T13:44:55.045Z"
   },
   {
    "duration": 27,
    "start_time": "2023-10-14T13:44:55.267Z"
   },
   {
    "duration": 22,
    "start_time": "2023-10-14T13:44:55.295Z"
   },
   {
    "duration": 33,
    "start_time": "2023-10-14T13:44:55.318Z"
   },
   {
    "duration": 7,
    "start_time": "2023-10-14T13:44:55.352Z"
   },
   {
    "duration": 39,
    "start_time": "2023-10-14T13:44:55.360Z"
   },
   {
    "duration": 16,
    "start_time": "2023-10-14T13:44:55.400Z"
   },
   {
    "duration": 35,
    "start_time": "2023-10-14T13:44:55.419Z"
   },
   {
    "duration": 6,
    "start_time": "2023-10-14T13:44:55.455Z"
   },
   {
    "duration": 52,
    "start_time": "2023-10-14T13:44:55.462Z"
   },
   {
    "duration": 15,
    "start_time": "2023-10-14T13:44:55.516Z"
   },
   {
    "duration": 25,
    "start_time": "2023-10-14T13:44:55.533Z"
   },
   {
    "duration": 25,
    "start_time": "2023-10-14T13:44:55.560Z"
   },
   {
    "duration": 26,
    "start_time": "2023-10-14T13:44:55.586Z"
   },
   {
    "duration": 38,
    "start_time": "2023-10-14T13:44:55.614Z"
   },
   {
    "duration": 14,
    "start_time": "2023-10-14T13:44:55.654Z"
   },
   {
    "duration": 256,
    "start_time": "2023-10-14T13:44:55.670Z"
   },
   {
    "duration": 174,
    "start_time": "2023-10-14T13:44:55.927Z"
   },
   {
    "duration": 9,
    "start_time": "2023-10-14T13:44:56.102Z"
   },
   {
    "duration": 33,
    "start_time": "2023-10-14T13:44:56.112Z"
   },
   {
    "duration": 43,
    "start_time": "2023-10-14T13:44:56.147Z"
   },
   {
    "duration": 12,
    "start_time": "2023-10-14T13:44:56.191Z"
   },
   {
    "duration": 477,
    "start_time": "2023-10-14T13:44:56.205Z"
   },
   {
    "duration": 5,
    "start_time": "2023-10-14T13:44:56.683Z"
   },
   {
    "duration": 73,
    "start_time": "2023-10-14T13:44:56.689Z"
   },
   {
    "duration": 609,
    "start_time": "2023-10-14T13:44:56.763Z"
   },
   {
    "duration": 5,
    "start_time": "2023-10-14T13:44:57.374Z"
   },
   {
    "duration": 64,
    "start_time": "2023-10-14T13:44:57.381Z"
   },
   {
    "duration": 327,
    "start_time": "2023-10-14T13:44:57.447Z"
   },
   {
    "duration": 581,
    "start_time": "2023-10-14T13:44:57.776Z"
   },
   {
    "duration": 178,
    "start_time": "2023-10-14T13:44:58.359Z"
   },
   {
    "duration": 288,
    "start_time": "2023-10-14T13:44:58.538Z"
   },
   {
    "duration": 235,
    "start_time": "2023-10-14T13:44:58.827Z"
   },
   {
    "duration": 138,
    "start_time": "2023-10-14T14:10:37.878Z"
   },
   {
    "duration": 450,
    "start_time": "2023-10-14T14:17:09.417Z"
   },
   {
    "duration": 370,
    "start_time": "2023-10-14T14:18:05.694Z"
   },
   {
    "duration": 171,
    "start_time": "2023-10-14T14:25:10.097Z"
   },
   {
    "duration": 162,
    "start_time": "2023-10-14T14:25:58.434Z"
   },
   {
    "duration": 273,
    "start_time": "2023-10-14T14:27:51.145Z"
   },
   {
    "duration": 241,
    "start_time": "2023-10-14T14:31:05.985Z"
   },
   {
    "duration": 4,
    "start_time": "2023-10-14T14:34:20.187Z"
   },
   {
    "duration": 7,
    "start_time": "2023-10-14T14:34:20.643Z"
   },
   {
    "duration": 151,
    "start_time": "2023-10-14T14:34:21.331Z"
   },
   {
    "duration": 533,
    "start_time": "2023-10-14T14:35:32.481Z"
   },
   {
    "duration": 179,
    "start_time": "2023-10-14T14:36:15.513Z"
   },
   {
    "duration": 387,
    "start_time": "2023-10-14T14:40:45.572Z"
   },
   {
    "duration": 181,
    "start_time": "2023-10-14T14:41:36.700Z"
   },
   {
    "duration": 296,
    "start_time": "2023-10-14T14:41:53.723Z"
   },
   {
    "duration": 180,
    "start_time": "2023-10-14T14:41:58.851Z"
   },
   {
    "duration": 298,
    "start_time": "2023-10-14T14:44:14.313Z"
   },
   {
    "duration": 338,
    "start_time": "2023-10-14T14:46:13.657Z"
   },
   {
    "duration": 4,
    "start_time": "2023-10-14T15:45:47.179Z"
   },
   {
    "duration": 182,
    "start_time": "2023-10-14T15:45:47.184Z"
   },
   {
    "duration": 31,
    "start_time": "2023-10-14T15:45:47.369Z"
   },
   {
    "duration": 21,
    "start_time": "2023-10-14T15:45:47.402Z"
   },
   {
    "duration": 29,
    "start_time": "2023-10-14T15:45:47.425Z"
   },
   {
    "duration": 38,
    "start_time": "2023-10-14T15:45:47.457Z"
   },
   {
    "duration": 29,
    "start_time": "2023-10-14T15:45:47.497Z"
   },
   {
    "duration": 52,
    "start_time": "2023-10-14T15:45:47.527Z"
   },
   {
    "duration": 39,
    "start_time": "2023-10-14T15:45:47.581Z"
   },
   {
    "duration": 18,
    "start_time": "2023-10-14T15:45:47.622Z"
   },
   {
    "duration": 18,
    "start_time": "2023-10-14T15:45:47.642Z"
   },
   {
    "duration": 22,
    "start_time": "2023-10-14T15:45:47.663Z"
   },
   {
    "duration": 48,
    "start_time": "2023-10-14T15:45:47.687Z"
   },
   {
    "duration": 46,
    "start_time": "2023-10-14T15:45:47.736Z"
   },
   {
    "duration": 28,
    "start_time": "2023-10-14T15:45:47.783Z"
   },
   {
    "duration": 14,
    "start_time": "2023-10-14T15:45:47.812Z"
   },
   {
    "duration": 34,
    "start_time": "2023-10-14T15:45:47.828Z"
   },
   {
    "duration": 10,
    "start_time": "2023-10-14T15:45:47.865Z"
   },
   {
    "duration": 42,
    "start_time": "2023-10-14T15:45:47.876Z"
   },
   {
    "duration": 19,
    "start_time": "2023-10-14T15:45:47.919Z"
   },
   {
    "duration": 255,
    "start_time": "2023-10-14T15:45:47.939Z"
   },
   {
    "duration": 29,
    "start_time": "2023-10-14T15:45:48.195Z"
   },
   {
    "duration": 60,
    "start_time": "2023-10-14T15:45:48.225Z"
   },
   {
    "duration": 23,
    "start_time": "2023-10-14T15:45:48.289Z"
   },
   {
    "duration": 26,
    "start_time": "2023-10-14T15:45:48.314Z"
   },
   {
    "duration": 46,
    "start_time": "2023-10-14T15:45:48.342Z"
   },
   {
    "duration": 24,
    "start_time": "2023-10-14T15:45:48.390Z"
   },
   {
    "duration": 57,
    "start_time": "2023-10-14T15:45:48.416Z"
   },
   {
    "duration": 12,
    "start_time": "2023-10-14T15:45:48.475Z"
   },
   {
    "duration": 51,
    "start_time": "2023-10-14T15:45:48.489Z"
   },
   {
    "duration": 28,
    "start_time": "2023-10-14T15:45:48.542Z"
   },
   {
    "duration": 11,
    "start_time": "2023-10-14T15:45:48.572Z"
   },
   {
    "duration": 22,
    "start_time": "2023-10-14T15:45:48.584Z"
   },
   {
    "duration": 61,
    "start_time": "2023-10-14T15:45:48.607Z"
   },
   {
    "duration": 53,
    "start_time": "2023-10-14T15:45:48.670Z"
   },
   {
    "duration": 14,
    "start_time": "2023-10-14T15:45:48.725Z"
   },
   {
    "duration": 213,
    "start_time": "2023-10-14T15:45:48.740Z"
   },
   {
    "duration": 201,
    "start_time": "2023-10-14T15:45:48.955Z"
   },
   {
    "duration": 15,
    "start_time": "2023-10-14T15:45:49.159Z"
   },
   {
    "duration": 30,
    "start_time": "2023-10-14T15:45:49.176Z"
   },
   {
    "duration": 34,
    "start_time": "2023-10-14T15:45:49.208Z"
   },
   {
    "duration": 39,
    "start_time": "2023-10-14T15:45:49.244Z"
   },
   {
    "duration": 459,
    "start_time": "2023-10-14T15:45:49.285Z"
   },
   {
    "duration": 13,
    "start_time": "2023-10-14T15:45:49.746Z"
   },
   {
    "duration": 42,
    "start_time": "2023-10-14T15:45:49.761Z"
   },
   {
    "duration": 825,
    "start_time": "2023-10-14T15:45:49.846Z"
   },
   {
    "duration": 5,
    "start_time": "2023-10-14T15:45:50.673Z"
   },
   {
    "duration": 7,
    "start_time": "2023-10-14T15:45:50.680Z"
   },
   {
    "duration": 400,
    "start_time": "2023-10-14T15:45:50.689Z"
   },
   {
    "duration": 1188,
    "start_time": "2023-10-14T15:45:51.090Z"
   },
   {
    "duration": 784,
    "start_time": "2023-10-14T15:45:52.279Z"
   },
   {
    "duration": 691,
    "start_time": "2023-10-14T15:45:53.065Z"
   },
   {
    "duration": 296,
    "start_time": "2023-10-14T15:45:53.759Z"
   },
   {
    "duration": 234,
    "start_time": "2023-10-14T15:46:04.929Z"
   },
   {
    "duration": 1250,
    "start_time": "2023-10-14T17:20:55.890Z"
   },
   {
    "duration": 128,
    "start_time": "2023-10-14T17:20:57.142Z"
   },
   {
    "duration": 35,
    "start_time": "2023-10-14T17:20:57.271Z"
   },
   {
    "duration": 17,
    "start_time": "2023-10-14T17:20:57.308Z"
   },
   {
    "duration": 10,
    "start_time": "2023-10-14T17:20:57.327Z"
   },
   {
    "duration": 14,
    "start_time": "2023-10-14T17:20:57.339Z"
   },
   {
    "duration": 47,
    "start_time": "2023-10-14T17:20:57.354Z"
   },
   {
    "duration": 20,
    "start_time": "2023-10-14T17:20:57.403Z"
   },
   {
    "duration": 28,
    "start_time": "2023-10-14T17:20:57.425Z"
   },
   {
    "duration": 17,
    "start_time": "2023-10-14T17:20:57.455Z"
   },
   {
    "duration": 31,
    "start_time": "2023-10-14T17:20:57.474Z"
   },
   {
    "duration": 39,
    "start_time": "2023-10-14T17:20:57.507Z"
   },
   {
    "duration": 33,
    "start_time": "2023-10-14T17:20:57.548Z"
   },
   {
    "duration": 25,
    "start_time": "2023-10-14T17:20:57.585Z"
   },
   {
    "duration": 33,
    "start_time": "2023-10-14T17:20:57.611Z"
   },
   {
    "duration": 21,
    "start_time": "2023-10-14T17:20:57.645Z"
   },
   {
    "duration": 9,
    "start_time": "2023-10-14T17:20:57.667Z"
   },
   {
    "duration": 25,
    "start_time": "2023-10-14T17:20:57.678Z"
   },
   {
    "duration": 47,
    "start_time": "2023-10-14T17:20:57.705Z"
   },
   {
    "duration": 20,
    "start_time": "2023-10-14T17:20:57.754Z"
   },
   {
    "duration": 253,
    "start_time": "2023-10-14T17:20:57.775Z"
   },
   {
    "duration": 35,
    "start_time": "2023-10-14T17:20:58.030Z"
   },
   {
    "duration": 43,
    "start_time": "2023-10-14T17:20:58.067Z"
   },
   {
    "duration": 9,
    "start_time": "2023-10-14T17:20:58.112Z"
   },
   {
    "duration": 13,
    "start_time": "2023-10-14T17:20:58.122Z"
   },
   {
    "duration": 47,
    "start_time": "2023-10-14T17:20:58.137Z"
   },
   {
    "duration": 6,
    "start_time": "2023-10-14T17:20:58.185Z"
   },
   {
    "duration": 56,
    "start_time": "2023-10-14T17:20:58.192Z"
   },
   {
    "duration": 14,
    "start_time": "2023-10-14T17:20:58.250Z"
   },
   {
    "duration": 33,
    "start_time": "2023-10-14T17:20:58.266Z"
   },
   {
    "duration": 16,
    "start_time": "2023-10-14T17:20:58.301Z"
   },
   {
    "duration": 11,
    "start_time": "2023-10-14T17:20:58.319Z"
   },
   {
    "duration": 11,
    "start_time": "2023-10-14T17:20:58.332Z"
   },
   {
    "duration": 36,
    "start_time": "2023-10-14T17:20:58.344Z"
   },
   {
    "duration": 54,
    "start_time": "2023-10-14T17:20:58.382Z"
   },
   {
    "duration": 15,
    "start_time": "2023-10-14T17:20:58.438Z"
   },
   {
    "duration": 220,
    "start_time": "2023-10-14T17:20:58.455Z"
   },
   {
    "duration": 225,
    "start_time": "2023-10-14T17:20:58.676Z"
   },
   {
    "duration": 12,
    "start_time": "2023-10-14T17:20:58.903Z"
   },
   {
    "duration": 36,
    "start_time": "2023-10-14T17:20:58.916Z"
   },
   {
    "duration": 45,
    "start_time": "2023-10-14T17:20:58.956Z"
   },
   {
    "duration": 53,
    "start_time": "2023-10-14T17:20:59.003Z"
   },
   {
    "duration": 255,
    "start_time": "2023-10-14T17:20:59.057Z"
   },
   {
    "duration": 5,
    "start_time": "2023-10-14T17:20:59.314Z"
   },
   {
    "duration": 37,
    "start_time": "2023-10-14T17:20:59.321Z"
   },
   {
    "duration": 309,
    "start_time": "2023-10-14T17:20:59.359Z"
   },
   {
    "duration": 4,
    "start_time": "2023-10-14T17:20:59.670Z"
   },
   {
    "duration": 17,
    "start_time": "2023-10-14T17:20:59.676Z"
   },
   {
    "duration": 158,
    "start_time": "2023-10-14T17:20:59.695Z"
   },
   {
    "duration": 525,
    "start_time": "2023-10-14T17:20:59.855Z"
   },
   {
    "duration": 213,
    "start_time": "2023-10-14T17:21:00.382Z"
   },
   {
    "duration": 306,
    "start_time": "2023-10-14T17:21:00.600Z"
   },
   {
    "duration": 274,
    "start_time": "2023-10-14T17:21:00.908Z"
   }
  ],
  "colab": {
   "provenance": []
  },
  "kernelspec": {
   "display_name": "Python 3 (ipykernel)",
   "language": "python",
   "name": "python3"
  },
  "language_info": {
   "codemirror_mode": {
    "name": "ipython",
    "version": 3
   },
   "file_extension": ".py",
   "mimetype": "text/x-python",
   "name": "python",
   "nbconvert_exporter": "python",
   "pygments_lexer": "ipython3",
   "version": "3.12.3"
  },
  "toc": {
   "base_numbering": 1,
   "nav_menu": {},
   "number_sections": true,
   "sideBar": true,
   "skip_h1_title": true,
   "title_cell": "Table of Contents",
   "title_sidebar": "Contents",
   "toc_cell": false,
   "toc_position": {
    "height": "794.444px",
    "left": "23px",
    "top": "111.441px",
    "width": "165.903px"
   },
   "toc_section_display": true,
   "toc_window_display": true
  }
 },
 "nbformat": 4,
 "nbformat_minor": 1
}
